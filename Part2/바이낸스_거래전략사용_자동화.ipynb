{
 "cells": [
  {
   "cell_type": "code",
   "execution_count": 2,
   "id": "30753711",
   "metadata": {},
   "outputs": [],
   "source": [
    "from binance.client import Client\n",
    "from binance import ThreadedWebsocketManager\n",
    "import pandas as pd"
   ]
  },
  {
   "cell_type": "code",
   "execution_count": 3,
   "id": "97de53dd",
   "metadata": {},
   "outputs": [],
   "source": [
    "api_key = \"Jc2gL6jUt0KRlsqfkKJ9kBHcP7m9IBB5M0ph7WV9AybJ6AupPEe3rxDgCWZmJcuH\"\n",
    "secret_key = pd.read_table(\"paper_secret_key.txt\").columns[0]"
   ]
  },
  {
   "cell_type": "code",
   "execution_count": 4,
   "id": "132b51c2",
   "metadata": {},
   "outputs": [],
   "source": [
    "client = Client(api_key=api_key, api_secret=secret_key, tld=\"com\", testnet=True)"
   ]
  },
  {
   "cell_type": "code",
   "execution_count": 5,
   "id": "fc8172ec",
   "metadata": {},
   "outputs": [
    {
     "data": {
      "text/plain": [
       "<binance.client.Client at 0x118853040>"
      ]
     },
     "execution_count": 5,
     "metadata": {},
     "output_type": "execute_result"
    }
   ],
   "source": [
    "client"
   ]
  },
  {
   "cell_type": "code",
   "execution_count": 6,
   "id": "ced421eb",
   "metadata": {},
   "outputs": [
    {
     "data": {
      "text/plain": [
       "{'makerCommission': 0,\n",
       " 'takerCommission': 0,\n",
       " 'buyerCommission': 0,\n",
       " 'sellerCommission': 0,\n",
       " 'commissionRates': {'maker': '0.00000000',\n",
       "  'taker': '0.00000000',\n",
       "  'buyer': '0.00000000',\n",
       "  'seller': '0.00000000'},\n",
       " 'canTrade': True,\n",
       " 'canWithdraw': False,\n",
       " 'canDeposit': False,\n",
       " 'brokered': False,\n",
       " 'requireSelfTradePrevention': False,\n",
       " 'updateTime': 1685186173220,\n",
       " 'accountType': 'SPOT',\n",
       " 'balances': [{'asset': 'BNB',\n",
       "   'free': '1000.00000000',\n",
       "   'locked': '0.00000000'},\n",
       "  {'asset': 'BTC', 'free': '1.10000000', 'locked': '0.00000000'},\n",
       "  {'asset': 'BUSD', 'free': '10000.00000000', 'locked': '0.00000000'},\n",
       "  {'asset': 'ETH', 'free': '100.00000000', 'locked': '0.00000000'},\n",
       "  {'asset': 'LTC', 'free': '500.00000000', 'locked': '0.00000000'},\n",
       "  {'asset': 'TRX', 'free': '500000.00000000', 'locked': '0.00000000'},\n",
       "  {'asset': 'USDT', 'free': '7328.99298317', 'locked': '0.00000000'},\n",
       "  {'asset': 'XRP', 'free': '50000.00000000', 'locked': '0.00000000'}],\n",
       " 'permissions': ['SPOT']}"
      ]
     },
     "execution_count": 6,
     "metadata": {},
     "output_type": "execute_result"
    }
   ],
   "source": [
    "client.get_account()"
   ]
  },
  {
   "cell_type": "markdown",
   "id": "240e7c9c",
   "metadata": {},
   "source": [
    "### 실시간 데이터 스트리밍과 수집"
   ]
  },
  {
   "cell_type": "code",
   "execution_count": 7,
   "id": "888b009b",
   "metadata": {},
   "outputs": [],
   "source": [
    "twm = ThreadedWebsocketManager()\n",
    "twm.start()"
   ]
  },
  {
   "cell_type": "code",
   "execution_count": 8,
   "id": "c373abbc",
   "metadata": {},
   "outputs": [
    {
     "data": {
      "text/html": [
       "<div>\n",
       "<style scoped>\n",
       "    .dataframe tbody tr th:only-of-type {\n",
       "        vertical-align: middle;\n",
       "    }\n",
       "\n",
       "    .dataframe tbody tr th {\n",
       "        vertical-align: top;\n",
       "    }\n",
       "\n",
       "    .dataframe thead th {\n",
       "        text-align: right;\n",
       "    }\n",
       "</style>\n",
       "<table border=\"1\" class=\"dataframe\">\n",
       "  <thead>\n",
       "    <tr style=\"text-align: right;\">\n",
       "      <th></th>\n",
       "      <th>Open</th>\n",
       "      <th>High</th>\n",
       "      <th>Low</th>\n",
       "      <th>Close</th>\n",
       "      <th>Volume</th>\n",
       "      <th>Complete</th>\n",
       "    </tr>\n",
       "  </thead>\n",
       "  <tbody>\n",
       "  </tbody>\n",
       "</table>\n",
       "</div>"
      ],
      "text/plain": [
       "Empty DataFrame\n",
       "Columns: [Open, High, Low, Close, Volume, Complete]\n",
       "Index: []"
      ]
     },
     "execution_count": 8,
     "metadata": {},
     "output_type": "execute_result"
    }
   ],
   "source": [
    "df = pd.DataFrame(columns=[\"Open\", \"High\", \"Low\", \"Close\", \"Volume\", \"Complete\"])\n",
    "df"
   ]
  },
  {
   "cell_type": "code",
   "execution_count": 9,
   "id": "85f402e8",
   "metadata": {},
   "outputs": [],
   "source": [
    "def stream_candles(msg):\n",
    "    event_time = pd.to_datetime(msg[\"E\"], unit=\"ms\")\n",
    "    start_time = pd.to_datetime(msg[\"k\"][\"t\"], unit=\"ms\")\n",
    "    first = float(msg[\"k\"][\"o\"])\n",
    "    high = float(msg[\"k\"][\"h\"])\n",
    "    low = float(msg[\"k\"][\"l\"])\n",
    "    close = float(msg[\"k\"][\"c\"])\n",
    "    volume = float(msg[\"k\"][\"v\"])\n",
    "    complete = msg[\"k\"][\"x\"]\n",
    "    \n",
    "    print(\"Time: {} | Price: {}\".format(event_time, close))\n",
    "    \n",
    "    df.loc[start_time] = [first, high, low, close, volume, complete]"
   ]
  },
  {
   "cell_type": "code",
   "execution_count": 10,
   "id": "dd6fc636",
   "metadata": {},
   "outputs": [
    {
     "data": {
      "text/plain": [
       "'btcusdt@kline_1m'"
      ]
     },
     "execution_count": 10,
     "metadata": {},
     "output_type": "execute_result"
    },
    {
     "name": "stdout",
     "output_type": "stream",
     "text": [
      "Time: 2023-05-31 08:44:50.331000 | Price: 27117.58\n",
      "Time: 2023-05-31 08:44:52.865000 | Price: 27117.58\n",
      "Time: 2023-05-31 08:44:55.161000 | Price: 27117.57\n",
      "Time: 2023-05-31 08:44:57.470000 | Price: 27117.58\n",
      "Time: 2023-05-31 08:44:59.513000 | Price: 27117.58\n",
      "Time: 2023-05-31 08:45:00.003000 | Price: 27117.57\n",
      "Time: 2023-05-31 08:45:02.060000 | Price: 27117.58\n",
      "Time: 2023-05-31 08:45:04.061000 | Price: 27115.6\n",
      "Time: 2023-05-31 08:45:06.383000 | Price: 27115.59\n",
      "Time: 2023-05-31 08:45:08.665000 | Price: 27115.6\n",
      "Time: 2023-05-31 08:45:10.828000 | Price: 27115.6\n",
      "Time: 2023-05-31 08:45:12.959000 | Price: 27115.59\n",
      "Time: 2023-05-31 08:45:14.971000 | Price: 27115.59\n",
      "Time: 2023-05-31 08:45:17.241000 | Price: 27113.48\n",
      "Time: 2023-05-31 08:45:19.336000 | Price: 27113.48\n",
      "Time: 2023-05-31 08:45:21.473000 | Price: 27113.49\n",
      "Time: 2023-05-31 08:45:23.560000 | Price: 27122.64\n",
      "Time: 2023-05-31 08:45:26.163000 | Price: 27122.64\n",
      "Time: 2023-05-31 08:45:28.673000 | Price: 27122.65\n",
      "Time: 2023-05-31 08:45:31.163000 | Price: 27122.64\n",
      "Time: 2023-05-31 08:45:33.235000 | Price: 27122.65\n",
      "Time: 2023-05-31 08:45:35.837000 | Price: 27122.65\n",
      "Time: 2023-05-31 08:45:38.419000 | Price: 27122.64\n",
      "Time: 2023-05-31 08:45:40.527000 | Price: 27122.64\n",
      "Time: 2023-05-31 08:45:42.808000 | Price: 27122.65\n",
      "Time: 2023-05-31 08:45:44.916000 | Price: 27122.65\n",
      "Time: 2023-05-31 08:45:47.249000 | Price: 27122.65\n",
      "Time: 2023-05-31 08:45:49.812000 | Price: 27122.65\n",
      "Time: 2023-05-31 08:45:52.009000 | Price: 27122.65\n",
      "Time: 2023-05-31 08:45:54.019000 | Price: 27122.9\n",
      "Time: 2023-05-31 08:45:56.166000 | Price: 27123.0\n",
      "Time: 2023-05-31 08:45:58.177000 | Price: 27123.0\n",
      "Time: 2023-05-31 08:46:00.003000 | Price: 27122.99\n",
      "Time: 2023-05-31 08:46:02.169000 | Price: 27123.0\n",
      "Time: 2023-05-31 08:46:04.590000 | Price: 27123.0\n",
      "Time: 2023-05-31 08:46:06.874000 | Price: 27123.0\n",
      "Time: 2023-05-31 08:46:08.887000 | Price: 27123.0\n",
      "Time: 2023-05-31 08:46:10.947000 | Price: 27123.02\n",
      "Time: 2023-05-31 08:46:13.031000 | Price: 27123.04\n",
      "Time: 2023-05-31 08:46:15.090000 | Price: 27128.63\n",
      "Time: 2023-05-31 08:46:17.134000 | Price: 27128.62\n",
      "Time: 2023-05-31 08:46:19.166000 | Price: 27128.63\n",
      "Time: 2023-05-31 08:46:21.186000 | Price: 27128.62\n",
      "Time: 2023-05-31 08:46:23.591000 | Price: 27128.62\n",
      "Time: 2023-05-31 08:46:25.836000 | Price: 27128.63\n",
      "Time: 2023-05-31 08:46:27.987000 | Price: 27126.34\n"
     ]
    }
   ],
   "source": [
    "twm.start_kline_socket(callback=stream_candles, symbol=\"BTCUSDT\", interval=\"1m\")"
   ]
  },
  {
   "cell_type": "code",
   "execution_count": 11,
   "id": "ed075ab3",
   "metadata": {},
   "outputs": [
    {
     "name": "stderr",
     "output_type": "stream",
     "text": [
      "CANCEL read_loop\n"
     ]
    },
    {
     "name": "stdout",
     "output_type": "stream",
     "text": [
      "Time: 2023-05-31 08:46:30.167000 | Price: 27126.35\n"
     ]
    }
   ],
   "source": [
    "twm.stop()"
   ]
  },
  {
   "cell_type": "code",
   "execution_count": 12,
   "id": "b1c54ad4",
   "metadata": {},
   "outputs": [
    {
     "data": {
      "text/html": [
       "<div>\n",
       "<style scoped>\n",
       "    .dataframe tbody tr th:only-of-type {\n",
       "        vertical-align: middle;\n",
       "    }\n",
       "\n",
       "    .dataframe tbody tr th {\n",
       "        vertical-align: top;\n",
       "    }\n",
       "\n",
       "    .dataframe thead th {\n",
       "        text-align: right;\n",
       "    }\n",
       "</style>\n",
       "<table border=\"1\" class=\"dataframe\">\n",
       "  <thead>\n",
       "    <tr style=\"text-align: right;\">\n",
       "      <th></th>\n",
       "      <th>Open</th>\n",
       "      <th>High</th>\n",
       "      <th>Low</th>\n",
       "      <th>Close</th>\n",
       "      <th>Volume</th>\n",
       "      <th>Complete</th>\n",
       "    </tr>\n",
       "  </thead>\n",
       "  <tbody>\n",
       "    <tr>\n",
       "      <th>2023-05-31 08:44:00</th>\n",
       "      <td>27122.65</td>\n",
       "      <td>27122.66</td>\n",
       "      <td>27117.57</td>\n",
       "      <td>27117.57</td>\n",
       "      <td>23.67802</td>\n",
       "      <td>True</td>\n",
       "    </tr>\n",
       "    <tr>\n",
       "      <th>2023-05-31 08:45:00</th>\n",
       "      <td>27117.57</td>\n",
       "      <td>27123.00</td>\n",
       "      <td>27113.48</td>\n",
       "      <td>27122.99</td>\n",
       "      <td>43.63989</td>\n",
       "      <td>True</td>\n",
       "    </tr>\n",
       "    <tr>\n",
       "      <th>2023-05-31 08:46:00</th>\n",
       "      <td>27122.99</td>\n",
       "      <td>27129.00</td>\n",
       "      <td>27122.99</td>\n",
       "      <td>27126.35</td>\n",
       "      <td>44.16716</td>\n",
       "      <td>False</td>\n",
       "    </tr>\n",
       "  </tbody>\n",
       "</table>\n",
       "</div>"
      ],
      "text/plain": [
       "                         Open      High       Low     Close    Volume  \\\n",
       "2023-05-31 08:44:00  27122.65  27122.66  27117.57  27117.57  23.67802   \n",
       "2023-05-31 08:45:00  27117.57  27123.00  27113.48  27122.99  43.63989   \n",
       "2023-05-31 08:46:00  27122.99  27129.00  27122.99  27126.35  44.16716   \n",
       "\n",
       "                     Complete  \n",
       "2023-05-31 08:44:00      True  \n",
       "2023-05-31 08:45:00      True  \n",
       "2023-05-31 08:46:00     False  "
      ]
     },
     "execution_count": 12,
     "metadata": {},
     "output_type": "execute_result"
    }
   ],
   "source": [
    "df"
   ]
  },
  {
   "cell_type": "markdown",
   "id": "519bac3d",
   "metadata": {},
   "source": [
    "### 롱 전용 거래 클래스"
   ]
  },
  {
   "cell_type": "code",
   "execution_count": 20,
   "id": "248f9d70",
   "metadata": {},
   "outputs": [],
   "source": [
    "class LongOnlyTrader():\n",
    "    \n",
    "    def __init__(self, symbol, bar_length):\n",
    "        self.symbol = symbol\n",
    "        self.bar_length = bar_length\n",
    "        self.data = pd.DataFrame(columns=[\"Open\", \"High\", \"Low\", \"Close\", \"Volume\", \"Complete\"])\n",
    "        self.available_intervals = [\"1m\", \"3m\", \"5m\", \"15m\", \"30m\", \"1h\", \"2h\", \"4h\", \"6h\", \"8h\", \"12h\", \"1d\", \"3d\", \"1w\", \"1M\"]\n",
    "        \n",
    "    def start_trading(self):\n",
    "        self.twm = ThreadedWebsocketManager()\n",
    "        self.twm.start()\n",
    "        \n",
    "        if self.bar_length in self.available_intervals:\n",
    "            self.twm.start_kline_socket(callback = self.stream_candles,\n",
    "                                        symbol = self.symbol, interval = self.bar_length)\n",
    "            \n",
    "    def stream_candles(self, msg):\n",
    "        event_time = pd.to_datetime(msg[\"E\"], unit=\"ms\")\n",
    "        start_time = pd.to_datetime(msg[\"k\"][\"t\"], unit=\"ms\")\n",
    "        first = float(msg[\"k\"][\"o\"])\n",
    "        high = float(msg[\"k\"][\"h\"])\n",
    "        low = float(msg[\"k\"][\"l\"])\n",
    "        close = float(msg[\"k\"][\"c\"])\n",
    "        volume = float(msg[\"k\"][\"v\"])\n",
    "        complete = msg[\"k\"][\"x\"]\n",
    "\n",
    "        print(\"Time: {} | Price: {}\".format(event_time, close))\n",
    "\n",
    "        self.data.loc[start_time] = [first, high, low, close, volume, complete]\n"
   ]
  },
  {
   "cell_type": "code",
   "execution_count": 21,
   "id": "51c64d7f",
   "metadata": {},
   "outputs": [
    {
     "data": {
      "text/plain": [
       "<__main__.LongOnlyTrader at 0x118852050>"
      ]
     },
     "execution_count": 21,
     "metadata": {},
     "output_type": "execute_result"
    }
   ],
   "source": [
    "trader = LongOnlyTrader(symbol=\"BTCUSDT\", bar_length=\"1m\")\n",
    "trader"
   ]
  },
  {
   "cell_type": "code",
   "execution_count": 22,
   "id": "f620c326",
   "metadata": {},
   "outputs": [
    {
     "data": {
      "text/plain": [
       "'BTCUSDT'"
      ]
     },
     "execution_count": 22,
     "metadata": {},
     "output_type": "execute_result"
    }
   ],
   "source": [
    "trader.symbol"
   ]
  },
  {
   "cell_type": "code",
   "execution_count": 23,
   "id": "fddaac44",
   "metadata": {},
   "outputs": [
    {
     "data": {
      "text/html": [
       "<div>\n",
       "<style scoped>\n",
       "    .dataframe tbody tr th:only-of-type {\n",
       "        vertical-align: middle;\n",
       "    }\n",
       "\n",
       "    .dataframe tbody tr th {\n",
       "        vertical-align: top;\n",
       "    }\n",
       "\n",
       "    .dataframe thead th {\n",
       "        text-align: right;\n",
       "    }\n",
       "</style>\n",
       "<table border=\"1\" class=\"dataframe\">\n",
       "  <thead>\n",
       "    <tr style=\"text-align: right;\">\n",
       "      <th></th>\n",
       "      <th>Open</th>\n",
       "      <th>High</th>\n",
       "      <th>Low</th>\n",
       "      <th>Close</th>\n",
       "      <th>Volume</th>\n",
       "      <th>Complete</th>\n",
       "    </tr>\n",
       "  </thead>\n",
       "  <tbody>\n",
       "  </tbody>\n",
       "</table>\n",
       "</div>"
      ],
      "text/plain": [
       "Empty DataFrame\n",
       "Columns: [Open, High, Low, Close, Volume, Complete]\n",
       "Index: []"
      ]
     },
     "execution_count": 23,
     "metadata": {},
     "output_type": "execute_result"
    }
   ],
   "source": [
    "trader.data"
   ]
  },
  {
   "cell_type": "code",
   "execution_count": 24,
   "id": "47302a7a",
   "metadata": {},
   "outputs": [
    {
     "data": {
      "text/plain": [
       "['1m',\n",
       " '3m',\n",
       " '5m',\n",
       " '15m',\n",
       " '30m',\n",
       " '1h',\n",
       " '2h',\n",
       " '4h',\n",
       " '6h',\n",
       " '8h',\n",
       " '12h',\n",
       " '1d',\n",
       " '3d',\n",
       " '1w',\n",
       " '1M']"
      ]
     },
     "execution_count": 24,
     "metadata": {},
     "output_type": "execute_result"
    }
   ],
   "source": [
    "trader.available_intervals"
   ]
  },
  {
   "cell_type": "code",
   "execution_count": 25,
   "id": "fdbc9737",
   "metadata": {},
   "outputs": [
    {
     "name": "stdout",
     "output_type": "stream",
     "text": [
      "Time: 2023-05-31 08:55:21.420000 | Price: 27115.0\n",
      "Time: 2023-05-31 08:55:23.543000 | Price: 27115.0\n",
      "Time: 2023-05-31 08:55:25.683000 | Price: 27115.0\n",
      "Time: 2023-05-31 08:55:27.693000 | Price: 27111.94\n",
      "Time: 2023-05-31 08:55:29.759000 | Price: 27117.98\n",
      "Time: 2023-05-31 08:55:31.961000 | Price: 27119.07\n",
      "Time: 2023-05-31 08:55:34.201000 | Price: 27120.49\n",
      "Time: 2023-05-31 08:55:36.212000 | Price: 27120.49\n",
      "Time: 2023-05-31 08:55:38.562000 | Price: 27120.49\n"
     ]
    }
   ],
   "source": [
    "trader.start_trading()"
   ]
  },
  {
   "cell_type": "code",
   "execution_count": 26,
   "id": "f0eec17a",
   "metadata": {},
   "outputs": [
    {
     "name": "stderr",
     "output_type": "stream",
     "text": [
      "CANCEL read_loop\n"
     ]
    },
    {
     "name": "stdout",
     "output_type": "stream",
     "text": [
      "Time: 2023-05-31 08:55:57.828000 | Price: 27122.78\n"
     ]
    }
   ],
   "source": [
    "trader.twm.stop()"
   ]
  },
  {
   "cell_type": "code",
   "execution_count": 27,
   "id": "dee9bc35",
   "metadata": {},
   "outputs": [
    {
     "data": {
      "text/html": [
       "<div>\n",
       "<style scoped>\n",
       "    .dataframe tbody tr th:only-of-type {\n",
       "        vertical-align: middle;\n",
       "    }\n",
       "\n",
       "    .dataframe tbody tr th {\n",
       "        vertical-align: top;\n",
       "    }\n",
       "\n",
       "    .dataframe thead th {\n",
       "        text-align: right;\n",
       "    }\n",
       "</style>\n",
       "<table border=\"1\" class=\"dataframe\">\n",
       "  <thead>\n",
       "    <tr style=\"text-align: right;\">\n",
       "      <th></th>\n",
       "      <th>Open</th>\n",
       "      <th>High</th>\n",
       "      <th>Low</th>\n",
       "      <th>Close</th>\n",
       "      <th>Volume</th>\n",
       "      <th>Complete</th>\n",
       "    </tr>\n",
       "  </thead>\n",
       "  <tbody>\n",
       "    <tr>\n",
       "      <th>2023-05-31 08:55:00</th>\n",
       "      <td>27115.0</td>\n",
       "      <td>27123.02</td>\n",
       "      <td>27107.62</td>\n",
       "      <td>27122.78</td>\n",
       "      <td>113.94097</td>\n",
       "      <td>False</td>\n",
       "    </tr>\n",
       "  </tbody>\n",
       "</table>\n",
       "</div>"
      ],
      "text/plain": [
       "                        Open      High       Low     Close     Volume  \\\n",
       "2023-05-31 08:55:00  27115.0  27123.02  27107.62  27122.78  113.94097   \n",
       "\n",
       "                     Complete  \n",
       "2023-05-31 08:55:00     False  "
      ]
     },
     "execution_count": 27,
     "metadata": {},
     "output_type": "execute_result"
    }
   ],
   "source": [
    "trader.data"
   ]
  },
  {
   "cell_type": "markdown",
   "id": "a4526fc9",
   "metadata": {},
   "source": [
    "## 역대 데이터와 실시간 데이터 사용하기\n",
    "\n",
    "* 역대 데이터를 가져오고 라이브 데이터와 합치기"
   ]
  },
  {
   "cell_type": "code",
   "execution_count": 29,
   "id": "42c21401",
   "metadata": {},
   "outputs": [],
   "source": [
    "from binance.client import Client\n",
    "from binance import ThreadedWebsocketManager\n",
    "import pandas as pd\n",
    "from datetime import datetime, timedelta"
   ]
  },
  {
   "cell_type": "code",
   "execution_count": 30,
   "id": "adc2a1c2",
   "metadata": {},
   "outputs": [],
   "source": [
    "client = Client(api_key=api_key, api_secret=secret_key, tld=\"com\", testnet=True)"
   ]
  },
  {
   "cell_type": "code",
   "execution_count": 31,
   "id": "708d2030",
   "metadata": {},
   "outputs": [
    {
     "data": {
      "text/plain": [
       "datetime.datetime(2023, 5, 31, 8, 59, 23, 202427)"
      ]
     },
     "execution_count": 31,
     "metadata": {},
     "output_type": "execute_result"
    }
   ],
   "source": [
    "now = datetime.utcnow()\n",
    "now"
   ]
  },
  {
   "cell_type": "code",
   "execution_count": 32,
   "id": "6864afe6",
   "metadata": {},
   "outputs": [
    {
     "data": {
      "text/plain": [
       "datetime.datetime(2023, 5, 29, 8, 59, 23, 202427)"
      ]
     },
     "execution_count": 32,
     "metadata": {},
     "output_type": "execute_result"
    }
   ],
   "source": [
    "past = now - timedelta(days=2)\n",
    "past"
   ]
  },
  {
   "cell_type": "code",
   "execution_count": 33,
   "id": "17148295",
   "metadata": {},
   "outputs": [
    {
     "data": {
      "text/plain": [
       "'2023-05-29 08:59:23.202427'"
      ]
     },
     "execution_count": 33,
     "metadata": {},
     "output_type": "execute_result"
    }
   ],
   "source": [
    "str(past)"
   ]
  },
  {
   "cell_type": "code",
   "execution_count": 34,
   "id": "d774cfc9",
   "metadata": {},
   "outputs": [],
   "source": [
    "def get_most_recent(symbol, interval, days):\n",
    "    now = datetime.utcnow()\n",
    "    past = str(now - timedelta(days))\n",
    "    \n",
    "    bars = client.get_historical_klines(symbol, interval, start_str=past, end_str=None, limit=1000)\n",
    "    df = pd.DataFrame(bars)\n",
    "    df[\"Date\"] = pd.to_datetime(df.iloc[:, 0], unit=\"ms\")\n",
    "    df.columns = [\"Open Time\", \"Open\", \"High\", \"Low\", \"Close\", \"Volume\",\n",
    "                  \"Clos Time\", \"Quote Asset Volume\", \"Number of Trades\",\n",
    "                  \"Taker Buy Base Asset Volume\", \"Taker Buy Quote Asset Volume\", \"Ignore\", \"Date\"]\n",
    "    df = df[[\"Date\", \"Open\", \"High\", \"Low\", \"Close\", \"Volume\"]].copy()\n",
    "    df.set_index(\"Date\", inplace=True)\n",
    "    \n",
    "    for column in df.columns:\n",
    "        df[column] = pd.to_numeric(df[column], errors=\"coerce\")\n",
    "    df[\"Complete\"] = [True for row in range(len(df) - 1)] + [False]\n",
    "    \n",
    "    return df"
   ]
  },
  {
   "cell_type": "code",
   "execution_count": 35,
   "id": "0fd568b3",
   "metadata": {},
   "outputs": [
    {
     "data": {
      "text/html": [
       "<div>\n",
       "<style scoped>\n",
       "    .dataframe tbody tr th:only-of-type {\n",
       "        vertical-align: middle;\n",
       "    }\n",
       "\n",
       "    .dataframe tbody tr th {\n",
       "        vertical-align: top;\n",
       "    }\n",
       "\n",
       "    .dataframe thead th {\n",
       "        text-align: right;\n",
       "    }\n",
       "</style>\n",
       "<table border=\"1\" class=\"dataframe\">\n",
       "  <thead>\n",
       "    <tr style=\"text-align: right;\">\n",
       "      <th></th>\n",
       "      <th>Open</th>\n",
       "      <th>High</th>\n",
       "      <th>Low</th>\n",
       "      <th>Close</th>\n",
       "      <th>Volume</th>\n",
       "      <th>Complete</th>\n",
       "    </tr>\n",
       "    <tr>\n",
       "      <th>Date</th>\n",
       "      <th></th>\n",
       "      <th></th>\n",
       "      <th></th>\n",
       "      <th></th>\n",
       "      <th></th>\n",
       "      <th></th>\n",
       "    </tr>\n",
       "  </thead>\n",
       "  <tbody>\n",
       "    <tr>\n",
       "      <th>2023-05-29 09:08:00</th>\n",
       "      <td>27890.09</td>\n",
       "      <td>27890.18</td>\n",
       "      <td>27888.70</td>\n",
       "      <td>27888.70</td>\n",
       "      <td>0.695218</td>\n",
       "      <td>True</td>\n",
       "    </tr>\n",
       "    <tr>\n",
       "      <th>2023-05-29 09:09:00</th>\n",
       "      <td>27888.70</td>\n",
       "      <td>27888.96</td>\n",
       "      <td>27887.39</td>\n",
       "      <td>27887.39</td>\n",
       "      <td>0.388649</td>\n",
       "      <td>True</td>\n",
       "    </tr>\n",
       "    <tr>\n",
       "      <th>2023-05-29 09:10:00</th>\n",
       "      <td>27887.40</td>\n",
       "      <td>27887.41</td>\n",
       "      <td>27887.35</td>\n",
       "      <td>27887.40</td>\n",
       "      <td>0.260405</td>\n",
       "      <td>True</td>\n",
       "    </tr>\n",
       "    <tr>\n",
       "      <th>2023-05-29 09:11:00</th>\n",
       "      <td>27887.39</td>\n",
       "      <td>27887.40</td>\n",
       "      <td>27887.38</td>\n",
       "      <td>27887.40</td>\n",
       "      <td>0.130821</td>\n",
       "      <td>True</td>\n",
       "    </tr>\n",
       "    <tr>\n",
       "      <th>2023-05-29 09:12:00</th>\n",
       "      <td>27887.40</td>\n",
       "      <td>27887.60</td>\n",
       "      <td>27886.48</td>\n",
       "      <td>27886.50</td>\n",
       "      <td>1.797094</td>\n",
       "      <td>True</td>\n",
       "    </tr>\n",
       "    <tr>\n",
       "      <th>...</th>\n",
       "      <td>...</td>\n",
       "      <td>...</td>\n",
       "      <td>...</td>\n",
       "      <td>...</td>\n",
       "      <td>...</td>\n",
       "      <td>...</td>\n",
       "    </tr>\n",
       "    <tr>\n",
       "      <th>2023-05-31 09:03:00</th>\n",
       "      <td>27121.28</td>\n",
       "      <td>27122.12</td>\n",
       "      <td>27121.28</td>\n",
       "      <td>27122.09</td>\n",
       "      <td>0.539660</td>\n",
       "      <td>True</td>\n",
       "    </tr>\n",
       "    <tr>\n",
       "      <th>2023-05-31 09:04:00</th>\n",
       "      <td>27122.09</td>\n",
       "      <td>27122.63</td>\n",
       "      <td>27122.09</td>\n",
       "      <td>27122.42</td>\n",
       "      <td>0.825832</td>\n",
       "      <td>True</td>\n",
       "    </tr>\n",
       "    <tr>\n",
       "      <th>2023-05-31 09:05:00</th>\n",
       "      <td>27122.41</td>\n",
       "      <td>27125.73</td>\n",
       "      <td>27122.41</td>\n",
       "      <td>27125.72</td>\n",
       "      <td>1.475886</td>\n",
       "      <td>True</td>\n",
       "    </tr>\n",
       "    <tr>\n",
       "      <th>2023-05-31 09:06:00</th>\n",
       "      <td>27125.73</td>\n",
       "      <td>27125.77</td>\n",
       "      <td>27122.10</td>\n",
       "      <td>27125.77</td>\n",
       "      <td>2.678243</td>\n",
       "      <td>True</td>\n",
       "    </tr>\n",
       "    <tr>\n",
       "      <th>2023-05-31 09:07:00</th>\n",
       "      <td>27125.77</td>\n",
       "      <td>27126.21</td>\n",
       "      <td>27124.32</td>\n",
       "      <td>27126.21</td>\n",
       "      <td>0.397884</td>\n",
       "      <td>False</td>\n",
       "    </tr>\n",
       "  </tbody>\n",
       "</table>\n",
       "<p>2880 rows × 6 columns</p>\n",
       "</div>"
      ],
      "text/plain": [
       "                         Open      High       Low     Close    Volume  \\\n",
       "Date                                                                    \n",
       "2023-05-29 09:08:00  27890.09  27890.18  27888.70  27888.70  0.695218   \n",
       "2023-05-29 09:09:00  27888.70  27888.96  27887.39  27887.39  0.388649   \n",
       "2023-05-29 09:10:00  27887.40  27887.41  27887.35  27887.40  0.260405   \n",
       "2023-05-29 09:11:00  27887.39  27887.40  27887.38  27887.40  0.130821   \n",
       "2023-05-29 09:12:00  27887.40  27887.60  27886.48  27886.50  1.797094   \n",
       "...                       ...       ...       ...       ...       ...   \n",
       "2023-05-31 09:03:00  27121.28  27122.12  27121.28  27122.09  0.539660   \n",
       "2023-05-31 09:04:00  27122.09  27122.63  27122.09  27122.42  0.825832   \n",
       "2023-05-31 09:05:00  27122.41  27125.73  27122.41  27125.72  1.475886   \n",
       "2023-05-31 09:06:00  27125.73  27125.77  27122.10  27125.77  2.678243   \n",
       "2023-05-31 09:07:00  27125.77  27126.21  27124.32  27126.21  0.397884   \n",
       "\n",
       "                     Complete  \n",
       "Date                           \n",
       "2023-05-29 09:08:00      True  \n",
       "2023-05-29 09:09:00      True  \n",
       "2023-05-29 09:10:00      True  \n",
       "2023-05-29 09:11:00      True  \n",
       "2023-05-29 09:12:00      True  \n",
       "...                       ...  \n",
       "2023-05-31 09:03:00      True  \n",
       "2023-05-31 09:04:00      True  \n",
       "2023-05-31 09:05:00      True  \n",
       "2023-05-31 09:06:00      True  \n",
       "2023-05-31 09:07:00     False  \n",
       "\n",
       "[2880 rows x 6 columns]"
      ]
     },
     "execution_count": 35,
     "metadata": {},
     "output_type": "execute_result"
    }
   ],
   "source": [
    "df = get_most_recent(symbol=\"BTCUSDT\", interval=\"1m\", days=2)\n",
    "df"
   ]
  },
  {
   "cell_type": "code",
   "execution_count": 36,
   "id": "616ccc8c",
   "metadata": {},
   "outputs": [
    {
     "data": {
      "text/html": [
       "<div>\n",
       "<style scoped>\n",
       "    .dataframe tbody tr th:only-of-type {\n",
       "        vertical-align: middle;\n",
       "    }\n",
       "\n",
       "    .dataframe tbody tr th {\n",
       "        vertical-align: top;\n",
       "    }\n",
       "\n",
       "    .dataframe thead th {\n",
       "        text-align: right;\n",
       "    }\n",
       "</style>\n",
       "<table border=\"1\" class=\"dataframe\">\n",
       "  <thead>\n",
       "    <tr style=\"text-align: right;\">\n",
       "      <th></th>\n",
       "      <th>Open</th>\n",
       "      <th>High</th>\n",
       "      <th>Low</th>\n",
       "      <th>Close</th>\n",
       "      <th>Volume</th>\n",
       "      <th>Complete</th>\n",
       "    </tr>\n",
       "    <tr>\n",
       "      <th>Date</th>\n",
       "      <th></th>\n",
       "      <th></th>\n",
       "      <th></th>\n",
       "      <th></th>\n",
       "      <th></th>\n",
       "      <th></th>\n",
       "    </tr>\n",
       "  </thead>\n",
       "  <tbody>\n",
       "    <tr>\n",
       "      <th>2023-05-31 07:09:00</th>\n",
       "      <td>27146.17</td>\n",
       "      <td>27146.18</td>\n",
       "      <td>27135.02</td>\n",
       "      <td>27135.02</td>\n",
       "      <td>1.583636</td>\n",
       "      <td>True</td>\n",
       "    </tr>\n",
       "    <tr>\n",
       "      <th>2023-05-31 07:10:00</th>\n",
       "      <td>27135.03</td>\n",
       "      <td>27141.21</td>\n",
       "      <td>27126.12</td>\n",
       "      <td>27141.21</td>\n",
       "      <td>5.057568</td>\n",
       "      <td>True</td>\n",
       "    </tr>\n",
       "    <tr>\n",
       "      <th>2023-05-31 07:11:00</th>\n",
       "      <td>27141.21</td>\n",
       "      <td>27141.24</td>\n",
       "      <td>27128.44</td>\n",
       "      <td>27128.70</td>\n",
       "      <td>1.654178</td>\n",
       "      <td>True</td>\n",
       "    </tr>\n",
       "    <tr>\n",
       "      <th>2023-05-31 07:12:00</th>\n",
       "      <td>27128.67</td>\n",
       "      <td>27128.68</td>\n",
       "      <td>27120.52</td>\n",
       "      <td>27123.66</td>\n",
       "      <td>1.891819</td>\n",
       "      <td>True</td>\n",
       "    </tr>\n",
       "    <tr>\n",
       "      <th>2023-05-31 07:13:00</th>\n",
       "      <td>27123.67</td>\n",
       "      <td>27126.71</td>\n",
       "      <td>27123.56</td>\n",
       "      <td>27126.71</td>\n",
       "      <td>1.454455</td>\n",
       "      <td>True</td>\n",
       "    </tr>\n",
       "    <tr>\n",
       "      <th>...</th>\n",
       "      <td>...</td>\n",
       "      <td>...</td>\n",
       "      <td>...</td>\n",
       "      <td>...</td>\n",
       "      <td>...</td>\n",
       "      <td>...</td>\n",
       "    </tr>\n",
       "    <tr>\n",
       "      <th>2023-05-31 09:04:00</th>\n",
       "      <td>27122.09</td>\n",
       "      <td>27122.63</td>\n",
       "      <td>27122.09</td>\n",
       "      <td>27122.42</td>\n",
       "      <td>0.825832</td>\n",
       "      <td>True</td>\n",
       "    </tr>\n",
       "    <tr>\n",
       "      <th>2023-05-31 09:05:00</th>\n",
       "      <td>27122.41</td>\n",
       "      <td>27125.73</td>\n",
       "      <td>27122.41</td>\n",
       "      <td>27125.72</td>\n",
       "      <td>1.475886</td>\n",
       "      <td>True</td>\n",
       "    </tr>\n",
       "    <tr>\n",
       "      <th>2023-05-31 09:06:00</th>\n",
       "      <td>27125.73</td>\n",
       "      <td>27125.77</td>\n",
       "      <td>27122.10</td>\n",
       "      <td>27125.77</td>\n",
       "      <td>2.678243</td>\n",
       "      <td>True</td>\n",
       "    </tr>\n",
       "    <tr>\n",
       "      <th>2023-05-31 09:07:00</th>\n",
       "      <td>27125.77</td>\n",
       "      <td>27138.75</td>\n",
       "      <td>27124.32</td>\n",
       "      <td>27138.75</td>\n",
       "      <td>4.109285</td>\n",
       "      <td>True</td>\n",
       "    </tr>\n",
       "    <tr>\n",
       "      <th>2023-05-31 09:08:00</th>\n",
       "      <td>27138.74</td>\n",
       "      <td>27147.45</td>\n",
       "      <td>27138.71</td>\n",
       "      <td>27147.42</td>\n",
       "      <td>2.549225</td>\n",
       "      <td>False</td>\n",
       "    </tr>\n",
       "  </tbody>\n",
       "</table>\n",
       "<p>120 rows × 6 columns</p>\n",
       "</div>"
      ],
      "text/plain": [
       "                         Open      High       Low     Close    Volume  \\\n",
       "Date                                                                    \n",
       "2023-05-31 07:09:00  27146.17  27146.18  27135.02  27135.02  1.583636   \n",
       "2023-05-31 07:10:00  27135.03  27141.21  27126.12  27141.21  5.057568   \n",
       "2023-05-31 07:11:00  27141.21  27141.24  27128.44  27128.70  1.654178   \n",
       "2023-05-31 07:12:00  27128.67  27128.68  27120.52  27123.66  1.891819   \n",
       "2023-05-31 07:13:00  27123.67  27126.71  27123.56  27126.71  1.454455   \n",
       "...                       ...       ...       ...       ...       ...   \n",
       "2023-05-31 09:04:00  27122.09  27122.63  27122.09  27122.42  0.825832   \n",
       "2023-05-31 09:05:00  27122.41  27125.73  27122.41  27125.72  1.475886   \n",
       "2023-05-31 09:06:00  27125.73  27125.77  27122.10  27125.77  2.678243   \n",
       "2023-05-31 09:07:00  27125.77  27138.75  27124.32  27138.75  4.109285   \n",
       "2023-05-31 09:08:00  27138.74  27147.45  27138.71  27147.42  2.549225   \n",
       "\n",
       "                     Complete  \n",
       "Date                           \n",
       "2023-05-31 07:09:00      True  \n",
       "2023-05-31 07:10:00      True  \n",
       "2023-05-31 07:11:00      True  \n",
       "2023-05-31 07:12:00      True  \n",
       "2023-05-31 07:13:00      True  \n",
       "...                       ...  \n",
       "2023-05-31 09:04:00      True  \n",
       "2023-05-31 09:05:00      True  \n",
       "2023-05-31 09:06:00      True  \n",
       "2023-05-31 09:07:00      True  \n",
       "2023-05-31 09:08:00     False  \n",
       "\n",
       "[120 rows x 6 columns]"
      ]
     },
     "execution_count": 36,
     "metadata": {},
     "output_type": "execute_result"
    }
   ],
   "source": [
    "get_most_recent(symbol=\"BTCUSDT\", interval=\"1m\", days=2/24)"
   ]
  },
  {
   "cell_type": "code",
   "execution_count": null,
   "id": "e88fceaa",
   "metadata": {},
   "outputs": [],
   "source": []
  },
  {
   "cell_type": "code",
   "execution_count": 37,
   "id": "379aea52",
   "metadata": {},
   "outputs": [],
   "source": [
    "class LongOnlyTrader():\n",
    "    \n",
    "    def __init__(self, symbol, bar_length):\n",
    "        self.symbol = symbol\n",
    "        self.bar_length = bar_length\n",
    "#         self.data = pd.DataFrame(columns=[\"Open\", \"High\", \"Low\", \"Close\", \"Volume\", \"Complete\"])\n",
    "        self.available_intervals = [\"1m\", \"3m\", \"5m\", \"15m\", \"30m\", \"1h\", \"2h\", \"4h\", \"6h\", \"8h\", \"12h\", \"1d\", \"3d\", \"1w\", \"1M\"]\n",
    "        \n",
    "    def start_trading(self, historical_days):\n",
    "        \n",
    "        self.twm = ThreadedWebsocketManager()\n",
    "        self.twm.start()\n",
    "        \n",
    "        if self.bar_length in self.available_intervals:\n",
    "            self.get_most_recent(self.symbol, self.bar_length, historical_days)\n",
    "            self.twm.start_kline_socket(callback = self.stream_candles,\n",
    "                                        symbol = self.symbol, interval = self.bar_length)\n",
    "        \n",
    "            \n",
    "            \n",
    "    def get_most_recent(self, symbol, interval, days):\n",
    "        now = datetime.utcnow()\n",
    "        past = str(now - timedelta(days))\n",
    "\n",
    "        bars = client.get_historical_klines(symbol, interval, start_str=past, end_str=None, limit=1000)\n",
    "        \n",
    "        df = pd.DataFrame(bars)\n",
    "        df[\"Date\"] = pd.to_datetime(df.iloc[:, 0], unit=\"ms\")\n",
    "        df.columns = [\"Open Time\", \"Open\", \"High\", \"Low\", \"Close\", \"Volume\",\n",
    "                      \"Clos Time\", \"Quote Asset Volume\", \"Number of Trades\",\n",
    "                      \"Taker Buy Base Asset Volume\", \"Taker Buy Quote Asset Volume\", \"Ignore\", \"Date\"]\n",
    "        df = df[[\"Date\", \"Open\", \"High\", \"Low\", \"Close\", \"Volume\"]].copy()\n",
    "        df.set_index(\"Date\", inplace=True)\n",
    "\n",
    "        for column in df.columns:\n",
    "            df[column] = pd.to_numeric(df[column], errors=\"coerce\")\n",
    "        df[\"Complete\"] = [True for row in range(len(df) - 1)] + [False]\n",
    "        \n",
    "        self.data = df\n",
    "            \n",
    "    def stream_candles(self, msg):\n",
    "        event_time = pd.to_datetime(msg[\"E\"], unit=\"ms\")\n",
    "        start_time = pd.to_datetime(msg[\"k\"][\"t\"], unit=\"ms\")\n",
    "        first = float(msg[\"k\"][\"o\"])\n",
    "        high = float(msg[\"k\"][\"h\"])\n",
    "        low = float(msg[\"k\"][\"l\"])\n",
    "        close = float(msg[\"k\"][\"c\"])\n",
    "        volume = float(msg[\"k\"][\"v\"])\n",
    "        complete = msg[\"k\"][\"x\"]\n",
    "\n",
    "        print(\"Time: {} | Price: {}\".format(event_time, close))\n",
    "\n",
    "        self.data.loc[start_time] = [first, high, low, close, volume, complete]\n"
   ]
  },
  {
   "cell_type": "code",
   "execution_count": 38,
   "id": "5243b156",
   "metadata": {},
   "outputs": [
    {
     "data": {
      "text/plain": [
       "<__main__.LongOnlyTrader at 0x138363160>"
      ]
     },
     "execution_count": 38,
     "metadata": {},
     "output_type": "execute_result"
    }
   ],
   "source": [
    "trader = LongOnlyTrader(symbol=\"BTCUSDT\", bar_length=\"1m\")\n",
    "trader"
   ]
  },
  {
   "cell_type": "code",
   "execution_count": 42,
   "id": "12178fe8",
   "metadata": {},
   "outputs": [
    {
     "name": "stdout",
     "output_type": "stream",
     "text": [
      "Time: 2023-05-31 10:37:54.779000 | Price: 27084.66\n",
      "Time: 2023-05-31 10:37:57.425000 | Price: 27084.67\n",
      "Time: 2023-05-31 10:37:59.625000 | Price: 27084.67\n",
      "Time: 2023-05-31 10:38:00.003000 | Price: 27084.66\n",
      "Time: 2023-05-31 10:38:02.108000 | Price: 27084.67\n",
      "Time: 2023-05-31 10:38:04.587000 | Price: 27084.66\n"
     ]
    }
   ],
   "source": [
    "trader.start_trading(historical_days=2)"
   ]
  },
  {
   "cell_type": "code",
   "execution_count": 43,
   "id": "051ad0d9",
   "metadata": {},
   "outputs": [],
   "source": [
    "trader.twm.stop()"
   ]
  },
  {
   "cell_type": "code",
   "execution_count": 44,
   "id": "4cc5dbb7",
   "metadata": {},
   "outputs": [
    {
     "data": {
      "text/html": [
       "<div>\n",
       "<style scoped>\n",
       "    .dataframe tbody tr th:only-of-type {\n",
       "        vertical-align: middle;\n",
       "    }\n",
       "\n",
       "    .dataframe tbody tr th {\n",
       "        vertical-align: top;\n",
       "    }\n",
       "\n",
       "    .dataframe thead th {\n",
       "        text-align: right;\n",
       "    }\n",
       "</style>\n",
       "<table border=\"1\" class=\"dataframe\">\n",
       "  <thead>\n",
       "    <tr style=\"text-align: right;\">\n",
       "      <th></th>\n",
       "      <th>Open</th>\n",
       "      <th>High</th>\n",
       "      <th>Low</th>\n",
       "      <th>Close</th>\n",
       "      <th>Volume</th>\n",
       "      <th>Complete</th>\n",
       "    </tr>\n",
       "    <tr>\n",
       "      <th>Date</th>\n",
       "      <th></th>\n",
       "      <th></th>\n",
       "      <th></th>\n",
       "      <th></th>\n",
       "      <th></th>\n",
       "      <th></th>\n",
       "    </tr>\n",
       "  </thead>\n",
       "  <tbody>\n",
       "    <tr>\n",
       "      <th>2023-05-29 10:38:00</th>\n",
       "      <td>27900.89</td>\n",
       "      <td>27911.92</td>\n",
       "      <td>27900.88</td>\n",
       "      <td>27909.10</td>\n",
       "      <td>2.945461</td>\n",
       "      <td>True</td>\n",
       "    </tr>\n",
       "    <tr>\n",
       "      <th>2023-05-29 10:39:00</th>\n",
       "      <td>27908.97</td>\n",
       "      <td>27911.32</td>\n",
       "      <td>27908.66</td>\n",
       "      <td>27911.22</td>\n",
       "      <td>1.360004</td>\n",
       "      <td>True</td>\n",
       "    </tr>\n",
       "    <tr>\n",
       "      <th>2023-05-29 10:40:00</th>\n",
       "      <td>27911.22</td>\n",
       "      <td>27911.91</td>\n",
       "      <td>27911.05</td>\n",
       "      <td>27911.91</td>\n",
       "      <td>0.717536</td>\n",
       "      <td>True</td>\n",
       "    </tr>\n",
       "    <tr>\n",
       "      <th>2023-05-29 10:41:00</th>\n",
       "      <td>27910.80</td>\n",
       "      <td>27912.20</td>\n",
       "      <td>27904.84</td>\n",
       "      <td>27904.84</td>\n",
       "      <td>2.983951</td>\n",
       "      <td>True</td>\n",
       "    </tr>\n",
       "    <tr>\n",
       "      <th>2023-05-29 10:42:00</th>\n",
       "      <td>27904.84</td>\n",
       "      <td>27904.84</td>\n",
       "      <td>27901.36</td>\n",
       "      <td>27901.36</td>\n",
       "      <td>2.178509</td>\n",
       "      <td>True</td>\n",
       "    </tr>\n",
       "    <tr>\n",
       "      <th>...</th>\n",
       "      <td>...</td>\n",
       "      <td>...</td>\n",
       "      <td>...</td>\n",
       "      <td>...</td>\n",
       "      <td>...</td>\n",
       "      <td>...</td>\n",
       "    </tr>\n",
       "    <tr>\n",
       "      <th>2023-05-31 10:34:00</th>\n",
       "      <td>27068.29</td>\n",
       "      <td>27075.58</td>\n",
       "      <td>27068.10</td>\n",
       "      <td>27075.58</td>\n",
       "      <td>2.940977</td>\n",
       "      <td>True</td>\n",
       "    </tr>\n",
       "    <tr>\n",
       "      <th>2023-05-31 10:35:00</th>\n",
       "      <td>27075.58</td>\n",
       "      <td>27076.77</td>\n",
       "      <td>27075.57</td>\n",
       "      <td>27076.76</td>\n",
       "      <td>0.659767</td>\n",
       "      <td>True</td>\n",
       "    </tr>\n",
       "    <tr>\n",
       "      <th>2023-05-31 10:36:00</th>\n",
       "      <td>27076.76</td>\n",
       "      <td>27079.38</td>\n",
       "      <td>27076.73</td>\n",
       "      <td>27079.38</td>\n",
       "      <td>2.036265</td>\n",
       "      <td>True</td>\n",
       "    </tr>\n",
       "    <tr>\n",
       "      <th>2023-05-31 10:37:00</th>\n",
       "      <td>27081.04</td>\n",
       "      <td>27084.67</td>\n",
       "      <td>27081.03</td>\n",
       "      <td>27084.66</td>\n",
       "      <td>14.976360</td>\n",
       "      <td>True</td>\n",
       "    </tr>\n",
       "    <tr>\n",
       "      <th>2023-05-31 10:38:00</th>\n",
       "      <td>27084.66</td>\n",
       "      <td>27084.67</td>\n",
       "      <td>27084.66</td>\n",
       "      <td>27084.66</td>\n",
       "      <td>0.080970</td>\n",
       "      <td>False</td>\n",
       "    </tr>\n",
       "  </tbody>\n",
       "</table>\n",
       "<p>2881 rows × 6 columns</p>\n",
       "</div>"
      ],
      "text/plain": [
       "                         Open      High       Low     Close     Volume  \\\n",
       "Date                                                                     \n",
       "2023-05-29 10:38:00  27900.89  27911.92  27900.88  27909.10   2.945461   \n",
       "2023-05-29 10:39:00  27908.97  27911.32  27908.66  27911.22   1.360004   \n",
       "2023-05-29 10:40:00  27911.22  27911.91  27911.05  27911.91   0.717536   \n",
       "2023-05-29 10:41:00  27910.80  27912.20  27904.84  27904.84   2.983951   \n",
       "2023-05-29 10:42:00  27904.84  27904.84  27901.36  27901.36   2.178509   \n",
       "...                       ...       ...       ...       ...        ...   \n",
       "2023-05-31 10:34:00  27068.29  27075.58  27068.10  27075.58   2.940977   \n",
       "2023-05-31 10:35:00  27075.58  27076.77  27075.57  27076.76   0.659767   \n",
       "2023-05-31 10:36:00  27076.76  27079.38  27076.73  27079.38   2.036265   \n",
       "2023-05-31 10:37:00  27081.04  27084.67  27081.03  27084.66  14.976360   \n",
       "2023-05-31 10:38:00  27084.66  27084.67  27084.66  27084.66   0.080970   \n",
       "\n",
       "                     Complete  \n",
       "Date                           \n",
       "2023-05-29 10:38:00      True  \n",
       "2023-05-29 10:39:00      True  \n",
       "2023-05-29 10:40:00      True  \n",
       "2023-05-29 10:41:00      True  \n",
       "2023-05-29 10:42:00      True  \n",
       "...                       ...  \n",
       "2023-05-31 10:34:00      True  \n",
       "2023-05-31 10:35:00      True  \n",
       "2023-05-31 10:36:00      True  \n",
       "2023-05-31 10:37:00      True  \n",
       "2023-05-31 10:38:00     False  \n",
       "\n",
       "[2881 rows x 6 columns]"
      ]
     },
     "execution_count": 44,
     "metadata": {},
     "output_type": "execute_result"
    },
    {
     "name": "stderr",
     "output_type": "stream",
     "text": [
      "CANCEL read_loop\n"
     ]
    },
    {
     "name": "stdout",
     "output_type": "stream",
     "text": [
      "Time: 2023-05-31 10:38:06.687000 | Price: 27084.67\n"
     ]
    }
   ],
   "source": [
    "trader.data"
   ]
  },
  {
   "cell_type": "markdown",
   "id": "17aa3da1",
   "metadata": {},
   "source": [
    "## 롱 전용 전략 추가\n",
    "\n",
    "트레이딩 봇 구현과 작동 확인을 위해 많은 거래 기회를 포착할 수 있는 파라미터 설정\n",
    "\n",
    "* bar_length = \"1m\"\n",
    "* 수익 임계값 = 0%\n",
    "* Low, High 거래량 임계값 = -3, 3"
   ]
  },
  {
   "cell_type": "code",
   "execution_count": 55,
   "id": "d782e47c",
   "metadata": {},
   "outputs": [],
   "source": [
    "from binance.client import Client\n",
    "from binance import ThreadedWebsocketManager\n",
    "import pandas as pd\n",
    "import numpy as np\n",
    "from datetime import datetime, timedelta\n",
    "pd.options.display.float_format = '{:.6f}'.format"
   ]
  },
  {
   "cell_type": "code",
   "execution_count": 56,
   "id": "f846eae3",
   "metadata": {},
   "outputs": [],
   "source": [
    "client = Client(api_key=api_key, api_secret=secret_key, tld=\"com\", testnet = True)"
   ]
  },
  {
   "cell_type": "code",
   "execution_count": 57,
   "id": "6e6b2a07",
   "metadata": {},
   "outputs": [],
   "source": [
    "class LongOnlyTrader():\n",
    "    \n",
    "    def __init__(self, symbol, bar_length, return_thresh, volume_thresh):\n",
    "        self.symbol = symbol\n",
    "        self.bar_length = bar_length\n",
    "        self.available_intervals = [\"1m\", \"3m\", \"5m\", \"15m\", \"30m\", \"1h\", \"2h\", \"4h\", \"6h\", \"8h\", \"12h\", \"1d\", \"3d\", \"1w\", \"1M\"]\n",
    "        \n",
    "        self.return_thresh = return_thresh\n",
    "        self.volume_thresh = volume_thresh\n",
    "        \n",
    "    def start_trading(self, historical_days):\n",
    "        \n",
    "        self.twm = ThreadedWebsocketManager()\n",
    "        self.twm.start()\n",
    "        \n",
    "        if self.bar_length in self.available_intervals:\n",
    "            self.get_most_recent(self.symbol, self.bar_length, historical_days)\n",
    "            self.twm.start_kline_socket(callback = self.stream_candles,\n",
    "                                        symbol = self.symbol, interval = self.bar_length)\n",
    "        \n",
    "            \n",
    "            \n",
    "    def get_most_recent(self, symbol, interval, days):\n",
    "        now = datetime.utcnow()\n",
    "        past = str(now - timedelta(days))\n",
    "\n",
    "        bars = client.get_historical_klines(symbol, interval, start_str=past, end_str=None, limit=1000)\n",
    "        \n",
    "        df = pd.DataFrame(bars)\n",
    "        df[\"Date\"] = pd.to_datetime(df.iloc[:, 0], unit=\"ms\")\n",
    "        df.columns = [\"Open Time\", \"Open\", \"High\", \"Low\", \"Close\", \"Volume\",\n",
    "                      \"Clos Time\", \"Quote Asset Volume\", \"Number of Trades\",\n",
    "                      \"Taker Buy Base Asset Volume\", \"Taker Buy Quote Asset Volume\", \"Ignore\", \"Date\"]\n",
    "        df = df[[\"Date\", \"Open\", \"High\", \"Low\", \"Close\", \"Volume\"]].copy()\n",
    "        df.set_index(\"Date\", inplace=True)\n",
    "\n",
    "        for column in df.columns:\n",
    "            df[column] = pd.to_numeric(df[column], errors=\"coerce\")\n",
    "        df[\"Complete\"] = [True for row in range(len(df) - 1)] + [False]\n",
    "        \n",
    "        self.data = df\n",
    "            \n",
    "    def stream_candles(self, msg):\n",
    "        event_time = pd.to_datetime(msg[\"E\"], unit=\"ms\")\n",
    "        start_time = pd.to_datetime(msg[\"k\"][\"t\"], unit=\"ms\")\n",
    "        first = float(msg[\"k\"][\"o\"])\n",
    "        high = float(msg[\"k\"][\"h\"])\n",
    "        low = float(msg[\"k\"][\"l\"])\n",
    "        close = float(msg[\"k\"][\"c\"])\n",
    "        volume = float(msg[\"k\"][\"v\"])\n",
    "        complete = msg[\"k\"][\"x\"]\n",
    "\n",
    "        print(\".\", end = \"\", flush = True)\n",
    "\n",
    "        self.data.loc[start_time] = [first, high, low, close, volume, complete]\n",
    "        \n",
    "        if complete == True:\n",
    "            self.define_strategy()\n",
    "            \n",
    "    def define_strategy(self):\n",
    "        \n",
    "        df = self.data.copy()\n",
    "        \n",
    "        df = df[[\"Close\", \"Volume\"]].copy()\n",
    "        df[\"returns\"] = np.log(df.Close / df.Close.shift())\n",
    "        df[\"vol_ch\"] = np.log(df.Volume.div(df.Volume.shift(1)))\n",
    "        df.loc[df.vol_ch > 3, \"vol_ch\"] = np.nan\n",
    "        df.loc[df.vol_ch < -3, \"vol_ch\"] = np.nan\n",
    "        \n",
    "        cond1 = df.returns >= self.return_thresh\n",
    "        cond2 = df.vol_ch.between(self.volume_thresh[0], self.volume_thresh[1])\n",
    "        \n",
    "        df[\"position\"] = 1\n",
    "        df.loc[cond1 & cond2, \"position\"] = 0\n",
    "        \n",
    "        self.prepared_data = df.copy()\n"
   ]
  },
  {
   "cell_type": "code",
   "execution_count": 58,
   "id": "1f5bbe61",
   "metadata": {},
   "outputs": [],
   "source": [
    "symbol = \"BTCUSDT\"\n",
    "bar_length = \"1m\"\n",
    "return_thresh = 0\n",
    "volume_thresh = [-3, 3]"
   ]
  },
  {
   "cell_type": "code",
   "execution_count": 59,
   "id": "2a04d4a5",
   "metadata": {},
   "outputs": [],
   "source": [
    "trader = LongOnlyTrader(symbol, bar_length, return_thresh, volume_thresh)"
   ]
  },
  {
   "cell_type": "code",
   "execution_count": 64,
   "id": "0098a895",
   "metadata": {},
   "outputs": [
    {
     "name": "stdout",
     "output_type": "stream",
     "text": [
      "...................................."
     ]
    }
   ],
   "source": [
    "trader.start_trading(historical_days=1/24)"
   ]
  },
  {
   "cell_type": "code",
   "execution_count": 65,
   "id": "dc15265f",
   "metadata": {},
   "outputs": [],
   "source": [
    "trader.twm.stop()"
   ]
  },
  {
   "cell_type": "code",
   "execution_count": 66,
   "id": "a1364430",
   "metadata": {},
   "outputs": [
    {
     "data": {
      "text/html": [
       "<div>\n",
       "<style scoped>\n",
       "    .dataframe tbody tr th:only-of-type {\n",
       "        vertical-align: middle;\n",
       "    }\n",
       "\n",
       "    .dataframe tbody tr th {\n",
       "        vertical-align: top;\n",
       "    }\n",
       "\n",
       "    .dataframe thead th {\n",
       "        text-align: right;\n",
       "    }\n",
       "</style>\n",
       "<table border=\"1\" class=\"dataframe\">\n",
       "  <thead>\n",
       "    <tr style=\"text-align: right;\">\n",
       "      <th></th>\n",
       "      <th>Open</th>\n",
       "      <th>High</th>\n",
       "      <th>Low</th>\n",
       "      <th>Close</th>\n",
       "      <th>Volume</th>\n",
       "      <th>Complete</th>\n",
       "    </tr>\n",
       "    <tr>\n",
       "      <th>Date</th>\n",
       "      <th></th>\n",
       "      <th></th>\n",
       "      <th></th>\n",
       "      <th></th>\n",
       "      <th></th>\n",
       "      <th></th>\n",
       "    </tr>\n",
       "  </thead>\n",
       "  <tbody>\n",
       "    <tr>\n",
       "      <th>2023-05-31 10:02:00</th>\n",
       "      <td>27131.360000</td>\n",
       "      <td>27135.330000</td>\n",
       "      <td>27127.960000</td>\n",
       "      <td>27135.330000</td>\n",
       "      <td>2.589770</td>\n",
       "      <td>True</td>\n",
       "    </tr>\n",
       "    <tr>\n",
       "      <th>2023-05-31 10:03:00</th>\n",
       "      <td>27135.000000</td>\n",
       "      <td>27135.440000</td>\n",
       "      <td>27129.510000</td>\n",
       "      <td>27129.510000</td>\n",
       "      <td>2.062962</td>\n",
       "      <td>True</td>\n",
       "    </tr>\n",
       "    <tr>\n",
       "      <th>2023-05-31 10:04:00</th>\n",
       "      <td>27129.510000</td>\n",
       "      <td>27129.520000</td>\n",
       "      <td>27129.430000</td>\n",
       "      <td>27129.510000</td>\n",
       "      <td>0.232853</td>\n",
       "      <td>True</td>\n",
       "    </tr>\n",
       "    <tr>\n",
       "      <th>2023-05-31 10:05:00</th>\n",
       "      <td>27129.520000</td>\n",
       "      <td>27129.590000</td>\n",
       "      <td>27129.500000</td>\n",
       "      <td>27129.510000</td>\n",
       "      <td>0.231224</td>\n",
       "      <td>True</td>\n",
       "    </tr>\n",
       "    <tr>\n",
       "      <th>2023-05-31 10:06:00</th>\n",
       "      <td>27129.520000</td>\n",
       "      <td>27135.870000</td>\n",
       "      <td>27128.280000</td>\n",
       "      <td>27135.870000</td>\n",
       "      <td>2.131111</td>\n",
       "      <td>True</td>\n",
       "    </tr>\n",
       "    <tr>\n",
       "      <th>...</th>\n",
       "      <td>...</td>\n",
       "      <td>...</td>\n",
       "      <td>...</td>\n",
       "      <td>...</td>\n",
       "      <td>...</td>\n",
       "      <td>...</td>\n",
       "    </tr>\n",
       "    <tr>\n",
       "      <th>2023-05-31 10:59:00</th>\n",
       "      <td>27058.660000</td>\n",
       "      <td>27058.740000</td>\n",
       "      <td>27056.520000</td>\n",
       "      <td>27056.520000</td>\n",
       "      <td>0.402899</td>\n",
       "      <td>True</td>\n",
       "    </tr>\n",
       "    <tr>\n",
       "      <th>2023-05-31 11:00:00</th>\n",
       "      <td>27056.520000</td>\n",
       "      <td>27056.590000</td>\n",
       "      <td>27047.670000</td>\n",
       "      <td>27047.690000</td>\n",
       "      <td>3.255723</td>\n",
       "      <td>True</td>\n",
       "    </tr>\n",
       "    <tr>\n",
       "      <th>2023-05-31 11:01:00</th>\n",
       "      <td>27047.680000</td>\n",
       "      <td>27060.810000</td>\n",
       "      <td>27047.670000</td>\n",
       "      <td>27060.810000</td>\n",
       "      <td>3.033341</td>\n",
       "      <td>False</td>\n",
       "    </tr>\n",
       "    <tr>\n",
       "      <th>2023-05-31 11:02:00</th>\n",
       "      <td>27060.810000</td>\n",
       "      <td>27067.860000</td>\n",
       "      <td>27060.800000</td>\n",
       "      <td>27067.860000</td>\n",
       "      <td>40.432170</td>\n",
       "      <td>True</td>\n",
       "    </tr>\n",
       "    <tr>\n",
       "      <th>2023-05-31 11:03:00</th>\n",
       "      <td>27067.850000</td>\n",
       "      <td>27067.860000</td>\n",
       "      <td>27067.850000</td>\n",
       "      <td>27067.860000</td>\n",
       "      <td>0.670040</td>\n",
       "      <td>False</td>\n",
       "    </tr>\n",
       "  </tbody>\n",
       "</table>\n",
       "<p>62 rows × 6 columns</p>\n",
       "</div>"
      ],
      "text/plain": [
       "                            Open         High          Low        Close  \\\n",
       "Date                                                                      \n",
       "2023-05-31 10:02:00 27131.360000 27135.330000 27127.960000 27135.330000   \n",
       "2023-05-31 10:03:00 27135.000000 27135.440000 27129.510000 27129.510000   \n",
       "2023-05-31 10:04:00 27129.510000 27129.520000 27129.430000 27129.510000   \n",
       "2023-05-31 10:05:00 27129.520000 27129.590000 27129.500000 27129.510000   \n",
       "2023-05-31 10:06:00 27129.520000 27135.870000 27128.280000 27135.870000   \n",
       "...                          ...          ...          ...          ...   \n",
       "2023-05-31 10:59:00 27058.660000 27058.740000 27056.520000 27056.520000   \n",
       "2023-05-31 11:00:00 27056.520000 27056.590000 27047.670000 27047.690000   \n",
       "2023-05-31 11:01:00 27047.680000 27060.810000 27047.670000 27060.810000   \n",
       "2023-05-31 11:02:00 27060.810000 27067.860000 27060.800000 27067.860000   \n",
       "2023-05-31 11:03:00 27067.850000 27067.860000 27067.850000 27067.860000   \n",
       "\n",
       "                       Volume  Complete  \n",
       "Date                                     \n",
       "2023-05-31 10:02:00  2.589770      True  \n",
       "2023-05-31 10:03:00  2.062962      True  \n",
       "2023-05-31 10:04:00  0.232853      True  \n",
       "2023-05-31 10:05:00  0.231224      True  \n",
       "2023-05-31 10:06:00  2.131111      True  \n",
       "...                       ...       ...  \n",
       "2023-05-31 10:59:00  0.402899      True  \n",
       "2023-05-31 11:00:00  3.255723      True  \n",
       "2023-05-31 11:01:00  3.033341     False  \n",
       "2023-05-31 11:02:00 40.432170      True  \n",
       "2023-05-31 11:03:00  0.670040     False  \n",
       "\n",
       "[62 rows x 6 columns]"
      ]
     },
     "execution_count": 66,
     "metadata": {},
     "output_type": "execute_result"
    }
   ],
   "source": [
    "trader.data"
   ]
  },
  {
   "cell_type": "code",
   "execution_count": 71,
   "id": "dd742200",
   "metadata": {},
   "outputs": [
    {
     "data": {
      "text/html": [
       "<div>\n",
       "<style scoped>\n",
       "    .dataframe tbody tr th:only-of-type {\n",
       "        vertical-align: middle;\n",
       "    }\n",
       "\n",
       "    .dataframe tbody tr th {\n",
       "        vertical-align: top;\n",
       "    }\n",
       "\n",
       "    .dataframe thead th {\n",
       "        text-align: right;\n",
       "    }\n",
       "</style>\n",
       "<table border=\"1\" class=\"dataframe\">\n",
       "  <thead>\n",
       "    <tr style=\"text-align: right;\">\n",
       "      <th></th>\n",
       "      <th>Close</th>\n",
       "      <th>Volume</th>\n",
       "      <th>returns</th>\n",
       "      <th>vol_ch</th>\n",
       "      <th>position</th>\n",
       "    </tr>\n",
       "    <tr>\n",
       "      <th>Date</th>\n",
       "      <th></th>\n",
       "      <th></th>\n",
       "      <th></th>\n",
       "      <th></th>\n",
       "      <th></th>\n",
       "    </tr>\n",
       "  </thead>\n",
       "  <tbody>\n",
       "    <tr>\n",
       "      <th>2023-05-31 10:02:00</th>\n",
       "      <td>27135.330000</td>\n",
       "      <td>2.589770</td>\n",
       "      <td>NaN</td>\n",
       "      <td>NaN</td>\n",
       "      <td>1</td>\n",
       "    </tr>\n",
       "    <tr>\n",
       "      <th>2023-05-31 10:03:00</th>\n",
       "      <td>27129.510000</td>\n",
       "      <td>2.062962</td>\n",
       "      <td>-0.000215</td>\n",
       "      <td>-0.227426</td>\n",
       "      <td>1</td>\n",
       "    </tr>\n",
       "    <tr>\n",
       "      <th>2023-05-31 10:04:00</th>\n",
       "      <td>27129.510000</td>\n",
       "      <td>0.232853</td>\n",
       "      <td>0.000000</td>\n",
       "      <td>-2.181491</td>\n",
       "      <td>0</td>\n",
       "    </tr>\n",
       "    <tr>\n",
       "      <th>2023-05-31 10:05:00</th>\n",
       "      <td>27129.510000</td>\n",
       "      <td>0.231224</td>\n",
       "      <td>0.000000</td>\n",
       "      <td>-0.007020</td>\n",
       "      <td>0</td>\n",
       "    </tr>\n",
       "    <tr>\n",
       "      <th>2023-05-31 10:06:00</th>\n",
       "      <td>27135.870000</td>\n",
       "      <td>2.131111</td>\n",
       "      <td>0.000234</td>\n",
       "      <td>2.221012</td>\n",
       "      <td>0</td>\n",
       "    </tr>\n",
       "    <tr>\n",
       "      <th>2023-05-31 10:07:00</th>\n",
       "      <td>27137.470000</td>\n",
       "      <td>1.283659</td>\n",
       "      <td>0.000059</td>\n",
       "      <td>-0.506929</td>\n",
       "      <td>0</td>\n",
       "    </tr>\n",
       "    <tr>\n",
       "      <th>2023-05-31 10:08:00</th>\n",
       "      <td>27128.410000</td>\n",
       "      <td>2.273817</td>\n",
       "      <td>-0.000334</td>\n",
       "      <td>0.571745</td>\n",
       "      <td>1</td>\n",
       "    </tr>\n",
       "    <tr>\n",
       "      <th>2023-05-31 10:09:00</th>\n",
       "      <td>27128.440000</td>\n",
       "      <td>0.149385</td>\n",
       "      <td>0.000001</td>\n",
       "      <td>-2.722688</td>\n",
       "      <td>0</td>\n",
       "    </tr>\n",
       "    <tr>\n",
       "      <th>2023-05-31 10:10:00</th>\n",
       "      <td>27138.490000</td>\n",
       "      <td>2.496466</td>\n",
       "      <td>0.000370</td>\n",
       "      <td>2.816105</td>\n",
       "      <td>0</td>\n",
       "    </tr>\n",
       "    <tr>\n",
       "      <th>2023-05-31 10:11:00</th>\n",
       "      <td>27138.600000</td>\n",
       "      <td>1.156496</td>\n",
       "      <td>0.000004</td>\n",
       "      <td>-0.769481</td>\n",
       "      <td>0</td>\n",
       "    </tr>\n",
       "    <tr>\n",
       "      <th>2023-05-31 10:12:00</th>\n",
       "      <td>27129.720000</td>\n",
       "      <td>2.051215</td>\n",
       "      <td>-0.000327</td>\n",
       "      <td>0.573038</td>\n",
       "      <td>1</td>\n",
       "    </tr>\n",
       "    <tr>\n",
       "      <th>2023-05-31 10:13:00</th>\n",
       "      <td>27125.370000</td>\n",
       "      <td>1.501345</td>\n",
       "      <td>-0.000160</td>\n",
       "      <td>-0.312071</td>\n",
       "      <td>1</td>\n",
       "    </tr>\n",
       "    <tr>\n",
       "      <th>2023-05-31 10:14:00</th>\n",
       "      <td>27128.280000</td>\n",
       "      <td>2.224944</td>\n",
       "      <td>0.000107</td>\n",
       "      <td>0.393370</td>\n",
       "      <td>0</td>\n",
       "    </tr>\n",
       "    <tr>\n",
       "      <th>2023-05-31 10:15:00</th>\n",
       "      <td>27123.810000</td>\n",
       "      <td>1.825113</td>\n",
       "      <td>-0.000165</td>\n",
       "      <td>-0.198090</td>\n",
       "      <td>1</td>\n",
       "    </tr>\n",
       "    <tr>\n",
       "      <th>2023-05-31 10:16:00</th>\n",
       "      <td>27111.060000</td>\n",
       "      <td>3.719408</td>\n",
       "      <td>-0.000470</td>\n",
       "      <td>0.711923</td>\n",
       "      <td>1</td>\n",
       "    </tr>\n",
       "    <tr>\n",
       "      <th>...</th>\n",
       "      <td>...</td>\n",
       "      <td>...</td>\n",
       "      <td>...</td>\n",
       "      <td>...</td>\n",
       "      <td>...</td>\n",
       "    </tr>\n",
       "    <tr>\n",
       "      <th>2023-05-31 10:48:00</th>\n",
       "      <td>27087.690000</td>\n",
       "      <td>1.741834</td>\n",
       "      <td>0.000038</td>\n",
       "      <td>0.499950</td>\n",
       "      <td>0</td>\n",
       "    </tr>\n",
       "    <tr>\n",
       "      <th>2023-05-31 10:49:00</th>\n",
       "      <td>27071.110000</td>\n",
       "      <td>3.039501</td>\n",
       "      <td>-0.000612</td>\n",
       "      <td>0.556755</td>\n",
       "      <td>1</td>\n",
       "    </tr>\n",
       "    <tr>\n",
       "      <th>2023-05-31 10:50:00</th>\n",
       "      <td>27075.020000</td>\n",
       "      <td>1.860437</td>\n",
       "      <td>0.000144</td>\n",
       "      <td>-0.490882</td>\n",
       "      <td>0</td>\n",
       "    </tr>\n",
       "    <tr>\n",
       "      <th>2023-05-31 10:51:00</th>\n",
       "      <td>27072.940000</td>\n",
       "      <td>2.085809</td>\n",
       "      <td>-0.000077</td>\n",
       "      <td>0.114345</td>\n",
       "      <td>1</td>\n",
       "    </tr>\n",
       "    <tr>\n",
       "      <th>2023-05-31 10:52:00</th>\n",
       "      <td>27071.520000</td>\n",
       "      <td>0.432287</td>\n",
       "      <td>-0.000052</td>\n",
       "      <td>-1.573822</td>\n",
       "      <td>1</td>\n",
       "    </tr>\n",
       "    <tr>\n",
       "      <th>2023-05-31 10:53:00</th>\n",
       "      <td>27074.280000</td>\n",
       "      <td>0.590487</td>\n",
       "      <td>0.000102</td>\n",
       "      <td>0.311858</td>\n",
       "      <td>0</td>\n",
       "    </tr>\n",
       "    <tr>\n",
       "      <th>2023-05-31 10:54:00</th>\n",
       "      <td>27074.280000</td>\n",
       "      <td>0.009062</td>\n",
       "      <td>0.000000</td>\n",
       "      <td>NaN</td>\n",
       "      <td>1</td>\n",
       "    </tr>\n",
       "    <tr>\n",
       "      <th>2023-05-31 10:55:00</th>\n",
       "      <td>27072.060000</td>\n",
       "      <td>1.842817</td>\n",
       "      <td>-0.000082</td>\n",
       "      <td>NaN</td>\n",
       "      <td>1</td>\n",
       "    </tr>\n",
       "    <tr>\n",
       "      <th>2023-05-31 10:56:00</th>\n",
       "      <td>27060.980000</td>\n",
       "      <td>2.664547</td>\n",
       "      <td>-0.000409</td>\n",
       "      <td>0.368739</td>\n",
       "      <td>1</td>\n",
       "    </tr>\n",
       "    <tr>\n",
       "      <th>2023-05-31 10:57:00</th>\n",
       "      <td>27047.010000</td>\n",
       "      <td>4.559082</td>\n",
       "      <td>-0.000516</td>\n",
       "      <td>0.537087</td>\n",
       "      <td>1</td>\n",
       "    </tr>\n",
       "    <tr>\n",
       "      <th>2023-05-31 10:58:00</th>\n",
       "      <td>27058.560000</td>\n",
       "      <td>3.294871</td>\n",
       "      <td>0.000427</td>\n",
       "      <td>-0.324754</td>\n",
       "      <td>0</td>\n",
       "    </tr>\n",
       "    <tr>\n",
       "      <th>2023-05-31 10:59:00</th>\n",
       "      <td>27056.520000</td>\n",
       "      <td>0.402899</td>\n",
       "      <td>-0.000075</td>\n",
       "      <td>-2.101436</td>\n",
       "      <td>1</td>\n",
       "    </tr>\n",
       "    <tr>\n",
       "      <th>2023-05-31 11:00:00</th>\n",
       "      <td>27047.690000</td>\n",
       "      <td>3.255723</td>\n",
       "      <td>-0.000326</td>\n",
       "      <td>2.089484</td>\n",
       "      <td>1</td>\n",
       "    </tr>\n",
       "    <tr>\n",
       "      <th>2023-05-31 11:01:00</th>\n",
       "      <td>27060.810000</td>\n",
       "      <td>3.033341</td>\n",
       "      <td>0.000485</td>\n",
       "      <td>-0.070750</td>\n",
       "      <td>0</td>\n",
       "    </tr>\n",
       "    <tr>\n",
       "      <th>2023-05-31 11:02:00</th>\n",
       "      <td>27067.860000</td>\n",
       "      <td>40.432170</td>\n",
       "      <td>0.000260</td>\n",
       "      <td>2.589961</td>\n",
       "      <td>0</td>\n",
       "    </tr>\n",
       "  </tbody>\n",
       "</table>\n",
       "<p>61 rows × 5 columns</p>\n",
       "</div>"
      ],
      "text/plain": [
       "                           Close    Volume   returns    vol_ch  position\n",
       "Date                                                                    \n",
       "2023-05-31 10:02:00 27135.330000  2.589770       NaN       NaN         1\n",
       "2023-05-31 10:03:00 27129.510000  2.062962 -0.000215 -0.227426         1\n",
       "2023-05-31 10:04:00 27129.510000  0.232853  0.000000 -2.181491         0\n",
       "2023-05-31 10:05:00 27129.510000  0.231224  0.000000 -0.007020         0\n",
       "2023-05-31 10:06:00 27135.870000  2.131111  0.000234  2.221012         0\n",
       "2023-05-31 10:07:00 27137.470000  1.283659  0.000059 -0.506929         0\n",
       "2023-05-31 10:08:00 27128.410000  2.273817 -0.000334  0.571745         1\n",
       "2023-05-31 10:09:00 27128.440000  0.149385  0.000001 -2.722688         0\n",
       "2023-05-31 10:10:00 27138.490000  2.496466  0.000370  2.816105         0\n",
       "2023-05-31 10:11:00 27138.600000  1.156496  0.000004 -0.769481         0\n",
       "2023-05-31 10:12:00 27129.720000  2.051215 -0.000327  0.573038         1\n",
       "2023-05-31 10:13:00 27125.370000  1.501345 -0.000160 -0.312071         1\n",
       "2023-05-31 10:14:00 27128.280000  2.224944  0.000107  0.393370         0\n",
       "2023-05-31 10:15:00 27123.810000  1.825113 -0.000165 -0.198090         1\n",
       "2023-05-31 10:16:00 27111.060000  3.719408 -0.000470  0.711923         1\n",
       "...                          ...       ...       ...       ...       ...\n",
       "2023-05-31 10:48:00 27087.690000  1.741834  0.000038  0.499950         0\n",
       "2023-05-31 10:49:00 27071.110000  3.039501 -0.000612  0.556755         1\n",
       "2023-05-31 10:50:00 27075.020000  1.860437  0.000144 -0.490882         0\n",
       "2023-05-31 10:51:00 27072.940000  2.085809 -0.000077  0.114345         1\n",
       "2023-05-31 10:52:00 27071.520000  0.432287 -0.000052 -1.573822         1\n",
       "2023-05-31 10:53:00 27074.280000  0.590487  0.000102  0.311858         0\n",
       "2023-05-31 10:54:00 27074.280000  0.009062  0.000000       NaN         1\n",
       "2023-05-31 10:55:00 27072.060000  1.842817 -0.000082       NaN         1\n",
       "2023-05-31 10:56:00 27060.980000  2.664547 -0.000409  0.368739         1\n",
       "2023-05-31 10:57:00 27047.010000  4.559082 -0.000516  0.537087         1\n",
       "2023-05-31 10:58:00 27058.560000  3.294871  0.000427 -0.324754         0\n",
       "2023-05-31 10:59:00 27056.520000  0.402899 -0.000075 -2.101436         1\n",
       "2023-05-31 11:00:00 27047.690000  3.255723 -0.000326  2.089484         1\n",
       "2023-05-31 11:01:00 27060.810000  3.033341  0.000485 -0.070750         0\n",
       "2023-05-31 11:02:00 27067.860000 40.432170  0.000260  2.589961         0\n",
       "\n",
       "[61 rows x 5 columns]"
      ]
     },
     "execution_count": 71,
     "metadata": {},
     "output_type": "execute_result"
    }
   ],
   "source": [
    "trader.prepared_data"
   ]
  },
  {
   "cell_type": "code",
   "execution_count": 70,
   "id": "346d3a95",
   "metadata": {},
   "outputs": [],
   "source": [
    "pd.options.display.max_rows = 30\n",
    "pd.options.display.min_rows = 30"
   ]
  },
  {
   "cell_type": "markdown",
   "id": "c0b3dc7b",
   "metadata": {},
   "source": [
    "## 주문 넣기와 거래 실행하기"
   ]
  },
  {
   "cell_type": "code",
   "execution_count": 72,
   "id": "4e66dfeb",
   "metadata": {},
   "outputs": [],
   "source": [
    "from binance.client import Client\n",
    "from binance import ThreadedWebsocketManager\n",
    "import pandas as pd\n",
    "import numpy as np\n",
    "from datetime import datetime, timedelta\n",
    "pd.options.display.float_format = '{:.6f}'.format\n",
    "pd.options.display.max_rows = 30\n",
    "pd.options.display.min_rows = 30"
   ]
  },
  {
   "cell_type": "code",
   "execution_count": 73,
   "id": "c32cc37c",
   "metadata": {},
   "outputs": [],
   "source": [
    "client = Client(api_key=api_key, api_secret=secret_key, tld=\"com\", testnet = True)"
   ]
  },
  {
   "cell_type": "code",
   "execution_count": 96,
   "id": "e4db881e",
   "metadata": {},
   "outputs": [],
   "source": [
    "class LongOnlyTrader():\n",
    "    \n",
    "    def __init__(self, symbol, bar_length, return_thresh, volume_thresh, units, position = 0):\n",
    "        \n",
    "        self.symbol = symbol\n",
    "        self.bar_length = bar_length\n",
    "        self.available_intervals = [\"1m\", \"3m\", \"5m\", \"15m\", \"30m\", \"1h\", \"2h\", \"4h\", \"6h\", \"8h\", \"12h\", \"1d\", \"3d\", \"1w\", \"1M\"]\n",
    "        self.units = units # NEW\n",
    "        self.position = position # NEW\n",
    "        \n",
    "        #*****************add strategy-specific attributes here******************\n",
    "        self.return_thresh = return_thresh\n",
    "        self.volume_thresh = volume_thresh\n",
    "        #************************************************************************\n",
    "    \n",
    "    def start_trading(self, historical_days):\n",
    "        \n",
    "        self.twm = ThreadedWebsocketManager()\n",
    "        self.twm.start()\n",
    "        \n",
    "        if self.bar_length in self.available_intervals:\n",
    "            self.get_most_recent(symbol = self.symbol, interval = self.bar_length,\n",
    "                                 days = historical_days)\n",
    "            self.twm.start_kline_socket(callback = self.stream_candles,\n",
    "                                        symbol = self.symbol, interval = self.bar_length)\n",
    "        # \"else\" to be added later in the course \n",
    "    \n",
    "    def get_most_recent(self, symbol, interval, days):\n",
    "    \n",
    "        now = datetime.utcnow()\n",
    "        past = str(now - timedelta(days = days))\n",
    "    \n",
    "        bars = client.get_historical_klines(symbol = symbol, interval = interval,\n",
    "                                            start_str = past, end_str = None, limit = 1000)\n",
    "        df = pd.DataFrame(bars)\n",
    "        df[\"Date\"] = pd.to_datetime(df.iloc[:,0], unit = \"ms\")\n",
    "        df.columns = [\"Open Time\", \"Open\", \"High\", \"Low\", \"Close\", \"Volume\",\n",
    "                      \"Clos Time\", \"Quote Asset Volume\", \"Number of Trades\",\n",
    "                      \"Taker Buy Base Asset Volume\", \"Taker Buy Quote Asset Volume\", \"Ignore\", \"Date\"]\n",
    "        df = df[[\"Date\", \"Open\", \"High\", \"Low\", \"Close\", \"Volume\"]].copy()\n",
    "        df.set_index(\"Date\", inplace = True)\n",
    "        for column in df.columns:\n",
    "            df[column] = pd.to_numeric(df[column], errors = \"coerce\")\n",
    "        df[\"Complete\"] = [True for row in range(len(df)-1)] + [False]\n",
    "        \n",
    "        self.data = df\n",
    "    \n",
    "    def stream_candles(self, msg):\n",
    "        \n",
    "        # extract the required items from msg\n",
    "        event_time = pd.to_datetime(msg[\"E\"], unit = \"ms\")\n",
    "        start_time = pd.to_datetime(msg[\"k\"][\"t\"], unit = \"ms\")\n",
    "        first   = float(msg[\"k\"][\"o\"])\n",
    "        high    = float(msg[\"k\"][\"h\"])\n",
    "        low     = float(msg[\"k\"][\"l\"])\n",
    "        close   = float(msg[\"k\"][\"c\"])\n",
    "        volume  = float(msg[\"k\"][\"v\"])\n",
    "        complete=       msg[\"k\"][\"x\"]\n",
    "    \n",
    "        # print out\n",
    "        print(\".\", end = \"\", flush = True) # just print something to get a feedback (everything OK) \n",
    "    \n",
    "        # feed df (add new bar / update latest bar)\n",
    "        self.data.loc[start_time] = [first, high, low, close, volume, complete]\n",
    "        \n",
    "        # prepare features and define strategy/trading positions whenever the latest bar is complete\n",
    "        if complete == True:\n",
    "            self.define_strategy()\n",
    "            self.execute_trades() # NEW!!!\n",
    "        \n",
    "    def define_strategy(self):\n",
    "        \n",
    "        df = self.data.copy()\n",
    "        \n",
    "        #******************** define your strategy here ************************\n",
    "        df = df[[\"Close\", \"Volume\"]].copy()\n",
    "        df[\"returns\"] = np.log(df.Close / df.Close.shift())\n",
    "        df[\"vol_ch\"] = np.log(df.Volume.div(df.Volume.shift(1)))\n",
    "        df.loc[df.vol_ch > 3, \"vol_ch\"] = np.nan\n",
    "        df.loc[df.vol_ch < -3, \"vol_ch\"] = np.nan  \n",
    "        \n",
    "        cond1 = df.returns >= self.return_thresh\n",
    "        cond2 = df.vol_ch.between(self.volume_thresh[0], self.volume_thresh[1])\n",
    "        \n",
    "        df[\"position\"] = 1\n",
    "        df.loc[cond1 & cond2, \"position\"] = 0\n",
    "        #***********************************************************************\n",
    "        \n",
    "        self.prepared_data = df.copy()\n",
    "    \n",
    "    def execute_trades(self): # NEW!\n",
    "        if self.prepared_data[\"position\"].iloc[-1] == 1: # if position is long -> go/stay long\n",
    "            if self.position == 0:\n",
    "                order = client.create_order(symbol = self.symbol, side = \"BUY\", type = \"MARKET\", quantity = self.units)\n",
    "                print(\"GOING LONG\")\n",
    "            self.position = 1\n",
    "        elif self.prepared_data[\"position\"].iloc[-1] == 0: # if position is neutral -> go/stay neutral\n",
    "            if self.position == 1:\n",
    "                order = client.create_order(symbol = self.symbol, side = \"SELL\", type = \"MARKET\", quantity = self.units)\n",
    "                print(\"GOING NEUTRAL\")\n",
    "            self.position = 0"
   ]
  },
  {
   "cell_type": "code",
   "execution_count": 105,
   "id": "4917a15b",
   "metadata": {
    "scrolled": true
   },
   "outputs": [
    {
     "data": {
      "text/plain": [
       "{'makerCommission': 0,\n",
       " 'takerCommission': 0,\n",
       " 'buyerCommission': 0,\n",
       " 'sellerCommission': 0,\n",
       " 'commissionRates': {'maker': '0.00000000',\n",
       "  'taker': '0.00000000',\n",
       "  'buyer': '0.00000000',\n",
       "  'seller': '0.00000000'},\n",
       " 'canTrade': True,\n",
       " 'canWithdraw': False,\n",
       " 'canDeposit': False,\n",
       " 'brokered': False,\n",
       " 'requireSelfTradePrevention': False,\n",
       " 'updateTime': 1685533140272,\n",
       " 'accountType': 'SPOT',\n",
       " 'balances': [{'asset': 'BNB',\n",
       "   'free': '1000.00000000',\n",
       "   'locked': '0.00000000'},\n",
       "  {'asset': 'BTC', 'free': '1.00000000', 'locked': '0.00000000'},\n",
       "  {'asset': 'BUSD', 'free': '10000.00000000', 'locked': '0.00000000'},\n",
       "  {'asset': 'ETH', 'free': '100.00000000', 'locked': '0.00000000'},\n",
       "  {'asset': 'LTC', 'free': '500.00000000', 'locked': '0.00000000'},\n",
       "  {'asset': 'TRX', 'free': '500000.00000000', 'locked': '0.00000000'},\n",
       "  {'asset': 'USDT', 'free': '10039.72315765', 'locked': '0.00000000'},\n",
       "  {'asset': 'XRP', 'free': '50000.00000000', 'locked': '0.00000000'}],\n",
       " 'permissions': ['SPOT']}"
      ]
     },
     "execution_count": 105,
     "metadata": {},
     "output_type": "execute_result"
    }
   ],
   "source": [
    "client.get_account()"
   ]
  },
  {
   "cell_type": "code",
   "execution_count": 89,
   "id": "834bbec0",
   "metadata": {
    "collapsed": true
   },
   "outputs": [
    {
     "data": {
      "text/plain": [
       "{'symbol': 'XRPUSDT',\n",
       " 'orderId': 2203993,\n",
       " 'orderListId': -1,\n",
       " 'clientOrderId': 'o05oCY3xLvtH67BGi3kPoR',\n",
       " 'transactTime': 1685532799059,\n",
       " 'price': '0.00000000',\n",
       " 'origQty': '155.50000000',\n",
       " 'executedQty': '155.50000000',\n",
       " 'cummulativeQuoteQty': '79.33610000',\n",
       " 'status': 'FILLED',\n",
       " 'timeInForce': 'GTC',\n",
       " 'type': 'MARKET',\n",
       " 'side': 'SELL',\n",
       " 'workingTime': 1685532799059,\n",
       " 'fills': [{'price': '0.51020000',\n",
       "   'qty': '155.50000000',\n",
       "   'commission': '0.00000000',\n",
       "   'commissionAsset': 'USDT',\n",
       "   'tradeId': 208126}],\n",
       " 'selfTradePreventionMode': 'NONE'}"
      ]
     },
     "execution_count": 89,
     "metadata": {},
     "output_type": "execute_result"
    }
   ],
   "source": [
    "# client.create_order(symbol=\"XRPUSDT\", side=\"SELL\", type=\"MARKET\", quantity=155.5)"
   ]
  },
  {
   "cell_type": "code",
   "execution_count": 98,
   "id": "355437b1",
   "metadata": {},
   "outputs": [],
   "source": [
    "symbol = \"BTCUSDT\"\n",
    "bar_length = \"1m\"\n",
    "return_thresh = 0\n",
    "volume_thresh = [-3, 3]\n",
    "units = 0.01\n",
    "position = 0"
   ]
  },
  {
   "cell_type": "code",
   "execution_count": 99,
   "id": "38da2409",
   "metadata": {},
   "outputs": [],
   "source": [
    "trader = LongOnlyTrader(symbol, bar_length, return_thresh, volume_thresh, units, position)"
   ]
  },
  {
   "cell_type": "code",
   "execution_count": 100,
   "id": "fb6270da",
   "metadata": {},
   "outputs": [
    {
     "name": "stdout",
     "output_type": "stream",
     "text": [
      "........................GOING LONG\n",
      "............................................................................."
     ]
    }
   ],
   "source": [
    "trader.start_trading(historical_days=1/24)"
   ]
  },
  {
   "cell_type": "code",
   "execution_count": 104,
   "id": "c96ed8c0",
   "metadata": {},
   "outputs": [
    {
     "name": "stdout",
     "output_type": "stream",
     "text": [
      "."
     ]
    },
    {
     "name": "stderr",
     "output_type": "stream",
     "text": [
      "CANCEL read_loop\n"
     ]
    }
   ],
   "source": [
    "trader.twm.stop()"
   ]
  },
  {
   "cell_type": "code",
   "execution_count": null,
   "id": "fe27cc9f",
   "metadata": {},
   "outputs": [],
   "source": []
  },
  {
   "cell_type": "markdown",
   "id": "4232bbb1",
   "metadata": {},
   "source": [
    "## 거래 모니터링과 보고"
   ]
  },
  {
   "cell_type": "code",
   "execution_count": 101,
   "id": "c32a75f2",
   "metadata": {},
   "outputs": [
    {
     "name": "stdout",
     "output_type": "stream",
     "text": [
      ".."
     ]
    }
   ],
   "source": [
    "from binance.client import Client\n",
    "from binance import ThreadedWebsocketManager\n",
    "import pandas as pd\n",
    "import numpy as np\n",
    "from datetime import datetime, timedelta\n",
    "pd.options.display.float_format = '{:.6f}'.format\n",
    "pd.options.display.max_rows = 30\n",
    "pd.options.display.min_rows = 30"
   ]
  },
  {
   "cell_type": "code",
   "execution_count": 102,
   "id": "93455483",
   "metadata": {},
   "outputs": [
    {
     "name": "stdout",
     "output_type": "stream",
     "text": [
      "....GOING NEUTRAL\n",
      "...."
     ]
    }
   ],
   "source": [
    "client = Client(api_key=api_key, api_secret=secret_key, tld=\"com\", testnet = True)"
   ]
  },
  {
   "cell_type": "code",
   "execution_count": 118,
   "id": "8e882353",
   "metadata": {},
   "outputs": [
    {
     "name": "stdout",
     "output_type": "stream",
     "text": [
      "....."
     ]
    }
   ],
   "source": [
    "class LongOnlyTrader():\n",
    "    \n",
    "    def __init__(self, symbol, bar_length, return_thresh, volume_thresh, units, position = 0):\n",
    "        \n",
    "        self.symbol = symbol\n",
    "        self.bar_length = bar_length\n",
    "        self.available_intervals = [\"1m\", \"3m\", \"5m\", \"15m\", \"30m\", \"1h\", \"2h\", \"4h\", \"6h\", \"8h\", \"12h\", \"1d\", \"3d\", \"1w\", \"1M\"]\n",
    "        self.units = units\n",
    "        self.position = position\n",
    "        self.trades = 0 # NEW\n",
    "        self.trade_values = [] # NEW\n",
    "        \n",
    "        #*****************add strategy-specific attributes here******************\n",
    "        self.return_thresh = return_thresh\n",
    "        self.volume_thresh = volume_thresh\n",
    "        #************************************************************************\n",
    "    \n",
    "    def start_trading(self, historical_days):\n",
    "        \n",
    "        self.twm = ThreadedWebsocketManager()\n",
    "        self.twm.start()\n",
    "        \n",
    "        if self.bar_length in self.available_intervals:\n",
    "            self.get_most_recent(symbol = self.symbol, interval = self.bar_length,\n",
    "                                 days = historical_days)\n",
    "            self.twm.start_kline_socket(callback = self.stream_candles,\n",
    "                                        symbol = self.symbol, interval = self.bar_length)\n",
    "        # \"else\" to be added later in the course \n",
    "    \n",
    "    def get_most_recent(self, symbol, interval, days):\n",
    "    \n",
    "        now = datetime.utcnow()\n",
    "        past = str(now - timedelta(days = days))\n",
    "    \n",
    "        bars = client.get_historical_klines(symbol = symbol, interval = interval,\n",
    "                                            start_str = past, end_str = None, limit = 1000)\n",
    "        df = pd.DataFrame(bars)\n",
    "        df[\"Date\"] = pd.to_datetime(df.iloc[:,0], unit = \"ms\")\n",
    "        df.columns = [\"Open Time\", \"Open\", \"High\", \"Low\", \"Close\", \"Volume\",\n",
    "                      \"Clos Time\", \"Quote Asset Volume\", \"Number of Trades\",\n",
    "                      \"Taker Buy Base Asset Volume\", \"Taker Buy Quote Asset Volume\", \"Ignore\", \"Date\"]\n",
    "        df = df[[\"Date\", \"Open\", \"High\", \"Low\", \"Close\", \"Volume\"]].copy()\n",
    "        df.set_index(\"Date\", inplace = True)\n",
    "        for column in df.columns:\n",
    "            df[column] = pd.to_numeric(df[column], errors = \"coerce\")\n",
    "        df[\"Complete\"] = [True for row in range(len(df)-1)] + [False]\n",
    "        \n",
    "        self.data = df\n",
    "    \n",
    "    def stream_candles(self, msg):\n",
    "        \n",
    "        # extract the required items from msg\n",
    "        event_time = pd.to_datetime(msg[\"E\"], unit = \"ms\")\n",
    "        start_time = pd.to_datetime(msg[\"k\"][\"t\"], unit = \"ms\")\n",
    "        first   = float(msg[\"k\"][\"o\"])\n",
    "        high    = float(msg[\"k\"][\"h\"])\n",
    "        low     = float(msg[\"k\"][\"l\"])\n",
    "        close   = float(msg[\"k\"][\"c\"])\n",
    "        volume  = float(msg[\"k\"][\"v\"])\n",
    "        complete=       msg[\"k\"][\"x\"]\n",
    "    \n",
    "        # print out\n",
    "        print(\".\", end = \"\", flush = True) # just print something to get a feedback (everything OK) \n",
    "    \n",
    "        # feed df (add new bar / update latest bar)\n",
    "        self.data.loc[start_time] = [first, high, low, close, volume, complete]\n",
    "        \n",
    "        # prepare features and define strategy/trading positions whenever the latest bar is complete\n",
    "        if complete == True:\n",
    "            self.define_strategy()\n",
    "            self.execute_trades()\n",
    "        \n",
    "    def define_strategy(self):\n",
    "        \n",
    "        df = self.data.copy()\n",
    "        \n",
    "        #******************** define your strategy here ************************\n",
    "        df = df[[\"Close\", \"Volume\"]].copy()\n",
    "        df[\"returns\"] = np.log(df.Close / df.Close.shift())\n",
    "        df[\"vol_ch\"] = np.log(df.Volume.div(df.Volume.shift(1)))\n",
    "        df.loc[df.vol_ch > 3, \"vol_ch\"] = np.nan\n",
    "        df.loc[df.vol_ch < -3, \"vol_ch\"] = np.nan  \n",
    "        \n",
    "        cond1 = df.returns >= self.return_thresh\n",
    "        cond2 = df.vol_ch.between(self.volume_thresh[0], self.volume_thresh[1])\n",
    "        \n",
    "        df[\"position\"] = 1\n",
    "        df.loc[cond1 & cond2, \"position\"] = 0\n",
    "        #***********************************************************************\n",
    "        \n",
    "        self.prepared_data = df.copy()\n",
    "    \n",
    "    def execute_trades(self): \n",
    "        if self.prepared_data[\"position\"].iloc[-1] == 1: # if position is long -> go/stay long\n",
    "            if self.position == 0:\n",
    "                order = client.create_order(symbol = self.symbol, side = \"BUY\", type = \"MARKET\", quantity = self.units)\n",
    "                self.report_trade(order, \"GOING LONG\")  # NEW\n",
    "            self.position = 1\n",
    "        elif self.prepared_data[\"position\"].iloc[-1] == 0: # if position is neutral -> go/stay neutral\n",
    "            if self.position == 1:\n",
    "                order = client.create_order(symbol = self.symbol, side = \"SELL\", type = \"MARKET\", quantity = self.units)\n",
    "                self.report_trade(order, \"GOING NEUTRAL\")  # NEW\n",
    "            self.position = 0\n",
    "    \n",
    "    def report_trade(self, order, going):  # NEW\n",
    "        \n",
    "        # extract data from order object\n",
    "        side = order[\"side\"]\n",
    "        time = pd.to_datetime(order[\"transactTime\"], unit = \"ms\")\n",
    "        base_units = float(order[\"executedQty\"])\n",
    "        quote_units = float(order[\"cummulativeQuoteQty\"])\n",
    "        price = round(quote_units / base_units, 5)\n",
    "        \n",
    "        # calculate trading profits\n",
    "        self.trades += 1\n",
    "        if side == \"BUY\":\n",
    "            self.trade_values.append(-quote_units)\n",
    "        elif side == \"SELL\":\n",
    "            self.trade_values.append(quote_units) \n",
    "        \n",
    "        if self.trades % 2 == 0:\n",
    "            real_profit = round(np.sum(self.trade_values[-2:]), 3) \n",
    "            cum_profits = round(np.sum(self.trade_values), 3)\n",
    "        else: \n",
    "            real_profit = 0\n",
    "            cum_profits = round(np.sum(self.trade_values[:-1]), 3)\n",
    "        \n",
    "        # print trade report\n",
    "        print(2 * \"\\n\" + 100* \"-\")\n",
    "        print(\"{} | {}\".format(time, going)) \n",
    "        print(\"{} | Base_Units = {} | Quote_Units = {} | Price = {} \".format(time, base_units, quote_units, price))\n",
    "        print(\"{} | Profit = {} | CumProfits = {} \".format(time, real_profit, cum_profits))\n",
    "        print(100 * \"-\" + \"\\n\")"
   ]
  },
  {
   "cell_type": "code",
   "execution_count": 107,
   "id": "7771c42e",
   "metadata": {},
   "outputs": [
    {
     "data": {
      "text/plain": [
       "{'makerCommission': 0,\n",
       " 'takerCommission': 0,\n",
       " 'buyerCommission': 0,\n",
       " 'sellerCommission': 0,\n",
       " 'commissionRates': {'maker': '0.00000000',\n",
       "  'taker': '0.00000000',\n",
       "  'buyer': '0.00000000',\n",
       "  'seller': '0.00000000'},\n",
       " 'canTrade': True,\n",
       " 'canWithdraw': False,\n",
       " 'canDeposit': False,\n",
       " 'brokered': False,\n",
       " 'requireSelfTradePrevention': False,\n",
       " 'updateTime': 1685533140272,\n",
       " 'accountType': 'SPOT',\n",
       " 'balances': [{'asset': 'BNB',\n",
       "   'free': '1000.00000000',\n",
       "   'locked': '0.00000000'},\n",
       "  {'asset': 'BTC', 'free': '1.00000000', 'locked': '0.00000000'},\n",
       "  {'asset': 'BUSD', 'free': '10000.00000000', 'locked': '0.00000000'},\n",
       "  {'asset': 'ETH', 'free': '100.00000000', 'locked': '0.00000000'},\n",
       "  {'asset': 'LTC', 'free': '500.00000000', 'locked': '0.00000000'},\n",
       "  {'asset': 'TRX', 'free': '500000.00000000', 'locked': '0.00000000'},\n",
       "  {'asset': 'USDT', 'free': '10039.72315765', 'locked': '0.00000000'},\n",
       "  {'asset': 'XRP', 'free': '50000.00000000', 'locked': '0.00000000'}],\n",
       " 'permissions': ['SPOT']}"
      ]
     },
     "execution_count": 107,
     "metadata": {},
     "output_type": "execute_result"
    }
   ],
   "source": [
    "client.get_account()"
   ]
  },
  {
   "cell_type": "code",
   "execution_count": 108,
   "id": "ef8013dc",
   "metadata": {},
   "outputs": [],
   "source": [
    "symbol = \"BTCUSDT\"\n",
    "bar_length = \"1m\"\n",
    "return_thresh = 0\n",
    "volume_thresh = [-3, 3]\n",
    "units = 0.01\n",
    "position = 0"
   ]
  },
  {
   "cell_type": "code",
   "execution_count": 109,
   "id": "d55256a0",
   "metadata": {},
   "outputs": [],
   "source": [
    "trader = LongOnlyTrader(symbol, bar_length, return_thresh, volume_thresh, units, position)"
   ]
  },
  {
   "cell_type": "code",
   "execution_count": 110,
   "id": "3f78e9db",
   "metadata": {},
   "outputs": [
    {
     "name": "stdout",
     "output_type": "stream",
     "text": [
      "......\n",
      "\n",
      "----------------------------------------------------------------------------------------------------\n",
      "2023-05-31 11:46:00.248000 | GOING LONG\n",
      "2023-05-31 11:46:00.248000 | Base_Units = 0.01 | Quote_Units = 271.1003464 | Price = 27110.03464 \n",
      "2023-05-31 11:46:00.248000 | Profit = 0 | CumProfits = 0.0 \n",
      "----------------------------------------------------------------------------------------------------\n",
      "\n",
      "........................................................\n",
      "\n",
      "----------------------------------------------------------------------------------------------------\n",
      "2023-05-31 11:48:00.286000 | GOING NEUTRAL\n",
      "2023-05-31 11:48:00.286000 | Base_Units = 0.01 | Quote_Units = 271.1038 | Price = 27110.38 \n",
      "2023-05-31 11:48:00.286000 | Profit = 0.003 | CumProfits = 0.003 \n",
      "----------------------------------------------------------------------------------------------------\n",
      "\n",
      ".........................................."
     ]
    }
   ],
   "source": [
    "trader.start_trading(historical_days=1/24)"
   ]
  },
  {
   "cell_type": "code",
   "execution_count": 111,
   "id": "af3ede86",
   "metadata": {},
   "outputs": [
    {
     "data": {
      "text/html": [
       "<div>\n",
       "<style scoped>\n",
       "    .dataframe tbody tr th:only-of-type {\n",
       "        vertical-align: middle;\n",
       "    }\n",
       "\n",
       "    .dataframe tbody tr th {\n",
       "        vertical-align: top;\n",
       "    }\n",
       "\n",
       "    .dataframe thead th {\n",
       "        text-align: right;\n",
       "    }\n",
       "</style>\n",
       "<table border=\"1\" class=\"dataframe\">\n",
       "  <thead>\n",
       "    <tr style=\"text-align: right;\">\n",
       "      <th></th>\n",
       "      <th>Close</th>\n",
       "      <th>Volume</th>\n",
       "      <th>returns</th>\n",
       "      <th>vol_ch</th>\n",
       "      <th>position</th>\n",
       "    </tr>\n",
       "    <tr>\n",
       "      <th>Date</th>\n",
       "      <th></th>\n",
       "      <th></th>\n",
       "      <th></th>\n",
       "      <th></th>\n",
       "      <th></th>\n",
       "    </tr>\n",
       "  </thead>\n",
       "  <tbody>\n",
       "    <tr>\n",
       "      <th>2023-05-31 11:39:00</th>\n",
       "      <td>27115.530000</td>\n",
       "      <td>2.925531</td>\n",
       "      <td>0.000111</td>\n",
       "      <td>-0.192207</td>\n",
       "      <td>0</td>\n",
       "    </tr>\n",
       "    <tr>\n",
       "      <th>2023-05-31 11:40:00</th>\n",
       "      <td>27114.480000</td>\n",
       "      <td>1.018224</td>\n",
       "      <td>-0.000039</td>\n",
       "      <td>-1.055416</td>\n",
       "      <td>1</td>\n",
       "    </tr>\n",
       "    <tr>\n",
       "      <th>2023-05-31 11:41:00</th>\n",
       "      <td>27121.960000</td>\n",
       "      <td>5.663676</td>\n",
       "      <td>0.000276</td>\n",
       "      <td>1.716013</td>\n",
       "      <td>0</td>\n",
       "    </tr>\n",
       "    <tr>\n",
       "      <th>2023-05-31 11:42:00</th>\n",
       "      <td>27115.680000</td>\n",
       "      <td>2.311664</td>\n",
       "      <td>-0.000232</td>\n",
       "      <td>-0.896106</td>\n",
       "      <td>1</td>\n",
       "    </tr>\n",
       "    <tr>\n",
       "      <th>2023-05-31 11:43:00</th>\n",
       "      <td>27115.550000</td>\n",
       "      <td>0.233979</td>\n",
       "      <td>-0.000005</td>\n",
       "      <td>-2.290492</td>\n",
       "      <td>1</td>\n",
       "    </tr>\n",
       "    <tr>\n",
       "      <th>2023-05-31 11:44:00</th>\n",
       "      <td>27115.770000</td>\n",
       "      <td>0.081753</td>\n",
       "      <td>0.000008</td>\n",
       "      <td>-1.051529</td>\n",
       "      <td>0</td>\n",
       "    </tr>\n",
       "    <tr>\n",
       "      <th>2023-05-31 11:45:00</th>\n",
       "      <td>27110.020000</td>\n",
       "      <td>18.837680</td>\n",
       "      <td>-0.000212</td>\n",
       "      <td>NaN</td>\n",
       "      <td>1</td>\n",
       "    </tr>\n",
       "    <tr>\n",
       "      <th>2023-05-31 11:46:00</th>\n",
       "      <td>27098.070000</td>\n",
       "      <td>12.980960</td>\n",
       "      <td>-0.000441</td>\n",
       "      <td>-0.372375</td>\n",
       "      <td>1</td>\n",
       "    </tr>\n",
       "    <tr>\n",
       "      <th>2023-05-31 11:47:00</th>\n",
       "      <td>27110.380000</td>\n",
       "      <td>68.349060</td>\n",
       "      <td>0.000454</td>\n",
       "      <td>1.661144</td>\n",
       "      <td>0</td>\n",
       "    </tr>\n",
       "    <tr>\n",
       "      <th>2023-05-31 11:48:00</th>\n",
       "      <td>27111.180000</td>\n",
       "      <td>11.454520</td>\n",
       "      <td>0.000030</td>\n",
       "      <td>-1.786243</td>\n",
       "      <td>0</td>\n",
       "    </tr>\n",
       "  </tbody>\n",
       "</table>\n",
       "</div>"
      ],
      "text/plain": [
       "                           Close    Volume   returns    vol_ch  position\n",
       "Date                                                                    \n",
       "2023-05-31 11:39:00 27115.530000  2.925531  0.000111 -0.192207         0\n",
       "2023-05-31 11:40:00 27114.480000  1.018224 -0.000039 -1.055416         1\n",
       "2023-05-31 11:41:00 27121.960000  5.663676  0.000276  1.716013         0\n",
       "2023-05-31 11:42:00 27115.680000  2.311664 -0.000232 -0.896106         1\n",
       "2023-05-31 11:43:00 27115.550000  0.233979 -0.000005 -2.290492         1\n",
       "2023-05-31 11:44:00 27115.770000  0.081753  0.000008 -1.051529         0\n",
       "2023-05-31 11:45:00 27110.020000 18.837680 -0.000212       NaN         1\n",
       "2023-05-31 11:46:00 27098.070000 12.980960 -0.000441 -0.372375         1\n",
       "2023-05-31 11:47:00 27110.380000 68.349060  0.000454  1.661144         0\n",
       "2023-05-31 11:48:00 27111.180000 11.454520  0.000030 -1.786243         0"
      ]
     },
     "execution_count": 111,
     "metadata": {},
     "output_type": "execute_result"
    },
    {
     "name": "stdout",
     "output_type": "stream",
     "text": [
      "................................................................\n",
      "\n",
      "----------------------------------------------------------------------------------------------------\n",
      "2023-05-31 11:52:00.382000 | GOING LONG\n",
      "2023-05-31 11:52:00.382000 | Base_Units = 0.01 | Quote_Units = 271.009 | Price = 27100.9 \n",
      "2023-05-31 11:52:00.382000 | Profit = 0 | CumProfits = 0.003 \n",
      "----------------------------------------------------------------------------------------------------\n",
      "\n",
      "........................"
     ]
    }
   ],
   "source": [
    "trader.prepared_data.tail(10)"
   ]
  },
  {
   "cell_type": "code",
   "execution_count": 122,
   "id": "47dc8aec",
   "metadata": {},
   "outputs": [
    {
     "data": {
      "text/plain": [
       "[-271.1003464, 271.1038, -271.009, 270.9765, -270.8779, 270.87779261]"
      ]
     },
     "execution_count": 122,
     "metadata": {},
     "output_type": "execute_result"
    }
   ],
   "source": [
    "trader.trade_values"
   ]
  },
  {
   "cell_type": "code",
   "execution_count": 123,
   "id": "89427472",
   "metadata": {},
   "outputs": [
    {
     "data": {
      "text/plain": [
       "-0.029153790000066238"
      ]
     },
     "execution_count": 123,
     "metadata": {},
     "output_type": "execute_result"
    }
   ],
   "source": [
    "np.sum(trader.trade_values)"
   ]
  },
  {
   "cell_type": "code",
   "execution_count": 114,
   "id": "cf9fc112",
   "metadata": {},
   "outputs": [
    {
     "data": {
      "text/plain": [
       "{'makerCommission': 0,\n",
       " 'takerCommission': 0,\n",
       " 'buyerCommission': 0,\n",
       " 'sellerCommission': 0,\n",
       " 'commissionRates': {'maker': '0.00000000',\n",
       "  'taker': '0.00000000',\n",
       "  'buyer': '0.00000000',\n",
       "  'seller': '0.00000000'},\n",
       " 'canTrade': True,\n",
       " 'canWithdraw': False,\n",
       " 'canDeposit': False,\n",
       " 'brokered': False,\n",
       " 'requireSelfTradePrevention': False,\n",
       " 'updateTime': 1685533920382,\n",
       " 'accountType': 'SPOT',\n",
       " 'balances': [{'asset': 'BNB',\n",
       "   'free': '1000.00000000',\n",
       "   'locked': '0.00000000'},\n",
       "  {'asset': 'BTC', 'free': '1.01000000', 'locked': '0.00000000'},\n",
       "  {'asset': 'BUSD', 'free': '10000.00000000', 'locked': '0.00000000'},\n",
       "  {'asset': 'ETH', 'free': '100.00000000', 'locked': '0.00000000'},\n",
       "  {'asset': 'LTC', 'free': '500.00000000', 'locked': '0.00000000'},\n",
       "  {'asset': 'TRX', 'free': '500000.00000000', 'locked': '0.00000000'},\n",
       "  {'asset': 'USDT', 'free': '9768.71761125', 'locked': '0.00000000'},\n",
       "  {'asset': 'XRP', 'free': '50000.00000000', 'locked': '0.00000000'}],\n",
       " 'permissions': ['SPOT']}"
      ]
     },
     "execution_count": 114,
     "metadata": {},
     "output_type": "execute_result"
    },
    {
     "name": "stdout",
     "output_type": "stream",
     "text": [
      "...............................\n",
      "\n",
      "----------------------------------------------------------------------------------------------------\n",
      "2023-05-31 11:55:00.054000 | GOING NEUTRAL\n",
      "2023-05-31 11:55:00.054000 | Base_Units = 0.01 | Quote_Units = 270.9765 | Price = 27097.65 \n",
      "2023-05-31 11:55:00.054000 | Profit = -0.033 | CumProfits = -0.029 \n",
      "----------------------------------------------------------------------------------------------------\n",
      "\n",
      "..........."
     ]
    }
   ],
   "source": [
    "client.get_account()"
   ]
  },
  {
   "cell_type": "code",
   "execution_count": 121,
   "id": "7246e04e",
   "metadata": {},
   "outputs": [
    {
     "name": "stdout",
     "output_type": "stream",
     "text": [
      "."
     ]
    },
    {
     "name": "stderr",
     "output_type": "stream",
     "text": [
      "CANCEL read_loop\n"
     ]
    }
   ],
   "source": [
    "trader.twm.stop()"
   ]
  },
  {
   "cell_type": "code",
   "execution_count": null,
   "id": "00e9444a",
   "metadata": {},
   "outputs": [],
   "source": []
  },
  {
   "cell_type": "markdown",
   "id": "1ef4e6ea",
   "metadata": {},
   "source": [
    "## 거래 중에 자동 스탑 주문 설정"
   ]
  },
  {
   "cell_type": "code",
   "execution_count": 124,
   "id": "56ace524",
   "metadata": {},
   "outputs": [],
   "source": [
    "from binance.client import Client\n",
    "from binance import ThreadedWebsocketManager\n",
    "import pandas as pd\n",
    "import numpy as np\n",
    "from datetime import datetime, timedelta\n",
    "pd.options.display.float_format = '{:.6f}'.format\n",
    "pd.options.display.max_rows = 30\n",
    "pd.options.display.min_rows = 30"
   ]
  },
  {
   "cell_type": "code",
   "execution_count": 125,
   "id": "35032fa4",
   "metadata": {},
   "outputs": [],
   "source": [
    "client = Client(api_key=api_key, api_secret=secret_key, tld=\"com\", testnet = True)"
   ]
  },
  {
   "cell_type": "code",
   "execution_count": 126,
   "id": "156b76ec",
   "metadata": {},
   "outputs": [],
   "source": [
    "class LongOnlyTrader():\n",
    "    \n",
    "    def __init__(self, symbol, bar_length, return_thresh, volume_thresh, units, position = 0):\n",
    "        \n",
    "        self.symbol = symbol\n",
    "        self.bar_length = bar_length\n",
    "        self.available_intervals = [\"1m\", \"3m\", \"5m\", \"15m\", \"30m\", \"1h\", \"2h\", \"4h\", \"6h\", \"8h\", \"12h\", \"1d\", \"3d\", \"1w\", \"1M\"]\n",
    "        self.units = units\n",
    "        self.position = position\n",
    "        self.trades = 0 # NEW\n",
    "        self.trade_values = [] # NEW\n",
    "        \n",
    "        #*****************add strategy-specific attributes here******************\n",
    "        self.return_thresh = return_thresh\n",
    "        self.volume_thresh = volume_thresh\n",
    "        #************************************************************************\n",
    "    \n",
    "    def start_trading(self, historical_days):\n",
    "        \n",
    "        self.twm = ThreadedWebsocketManager()\n",
    "        self.twm.start()\n",
    "        \n",
    "        if self.bar_length in self.available_intervals:\n",
    "            self.get_most_recent(symbol = self.symbol, interval = self.bar_length,\n",
    "                                 days = historical_days)\n",
    "            self.twm.start_kline_socket(callback = self.stream_candles,\n",
    "                                        symbol = self.symbol, interval = self.bar_length)\n",
    "        # \"else\" to be added later in the course \n",
    "    \n",
    "    def get_most_recent(self, symbol, interval, days):\n",
    "    \n",
    "        now = datetime.utcnow()\n",
    "        past = str(now - timedelta(days = days))\n",
    "    \n",
    "        bars = client.get_historical_klines(symbol = symbol, interval = interval,\n",
    "                                            start_str = past, end_str = None, limit = 1000)\n",
    "        df = pd.DataFrame(bars)\n",
    "        df[\"Date\"] = pd.to_datetime(df.iloc[:,0], unit = \"ms\")\n",
    "        df.columns = [\"Open Time\", \"Open\", \"High\", \"Low\", \"Close\", \"Volume\",\n",
    "                      \"Clos Time\", \"Quote Asset Volume\", \"Number of Trades\",\n",
    "                      \"Taker Buy Base Asset Volume\", \"Taker Buy Quote Asset Volume\", \"Ignore\", \"Date\"]\n",
    "        df = df[[\"Date\", \"Open\", \"High\", \"Low\", \"Close\", \"Volume\"]].copy()\n",
    "        df.set_index(\"Date\", inplace = True)\n",
    "        for column in df.columns:\n",
    "            df[column] = pd.to_numeric(df[column], errors = \"coerce\")\n",
    "        df[\"Complete\"] = [True for row in range(len(df)-1)] + [False]\n",
    "        \n",
    "        self.data = df\n",
    "    \n",
    "    def stream_candles(self, msg):\n",
    "        \n",
    "        # extract the required items from msg\n",
    "        event_time = pd.to_datetime(msg[\"E\"], unit = \"ms\")\n",
    "        start_time = pd.to_datetime(msg[\"k\"][\"t\"], unit = \"ms\")\n",
    "        first   = float(msg[\"k\"][\"o\"])\n",
    "        high    = float(msg[\"k\"][\"h\"])\n",
    "        low     = float(msg[\"k\"][\"l\"])\n",
    "        close   = float(msg[\"k\"][\"c\"])\n",
    "        volume  = float(msg[\"k\"][\"v\"])\n",
    "        complete=       msg[\"k\"][\"x\"]\n",
    "        \n",
    "        if event_time >= datetime(2023, 6, 2, 0, 0):\n",
    "            self.twm.stop()\n",
    "            if self.position != 0:\n",
    "                order = client.create_order(symbol=self.symbol, side=\"SELL\", type=\"MARKET\", quantity=self.units)\n",
    "                self.report_trade(order, \"GOING NEUTRAL AND STOP\")\n",
    "                self.position = 0\n",
    "            else:\n",
    "                print(\"STOP\")\n",
    "    \n",
    "        # print out\n",
    "        print(\".\", end = \"\", flush = True) # just print something to get a feedback (everything OK) \n",
    "    \n",
    "        # feed df (add new bar / update latest bar)\n",
    "        self.data.loc[start_time] = [first, high, low, close, volume, complete]\n",
    "        \n",
    "        # prepare features and define strategy/trading positions whenever the latest bar is complete\n",
    "        if complete == True:\n",
    "            self.define_strategy()\n",
    "            self.execute_trades()\n",
    "        \n",
    "    def define_strategy(self):\n",
    "        \n",
    "        df = self.data.copy()\n",
    "        \n",
    "        #******************** define your strategy here ************************\n",
    "        df = df[[\"Close\", \"Volume\"]].copy()\n",
    "        df[\"returns\"] = np.log(df.Close / df.Close.shift())\n",
    "        df[\"vol_ch\"] = np.log(df.Volume.div(df.Volume.shift(1)))\n",
    "        df.loc[df.vol_ch > 3, \"vol_ch\"] = np.nan\n",
    "        df.loc[df.vol_ch < -3, \"vol_ch\"] = np.nan  \n",
    "        \n",
    "        cond1 = df.returns >= self.return_thresh\n",
    "        cond2 = df.vol_ch.between(self.volume_thresh[0], self.volume_thresh[1])\n",
    "        \n",
    "        df[\"position\"] = 1\n",
    "        df.loc[cond1 & cond2, \"position\"] = 0\n",
    "        #***********************************************************************\n",
    "        \n",
    "        self.prepared_data = df.copy()\n",
    "    \n",
    "    def execute_trades(self): \n",
    "        if self.prepared_data[\"position\"].iloc[-1] == 1: # if position is long -> go/stay long\n",
    "            if self.position == 0:\n",
    "                order = client.create_order(symbol = self.symbol, side = \"BUY\", type = \"MARKET\", quantity = self.units)\n",
    "                self.report_trade(order, \"GOING LONG\")  # NEW\n",
    "            self.position = 1\n",
    "        elif self.prepared_data[\"position\"].iloc[-1] == 0: # if position is neutral -> go/stay neutral\n",
    "            if self.position == 1:\n",
    "                order = client.create_order(symbol = self.symbol, side = \"SELL\", type = \"MARKET\", quantity = self.units)\n",
    "                self.report_trade(order, \"GOING NEUTRAL\")  # NEW\n",
    "            self.position = 0\n",
    "    \n",
    "    def report_trade(self, order, going):  # NEW\n",
    "        \n",
    "        # extract data from order object\n",
    "        side = order[\"side\"]\n",
    "        time = pd.to_datetime(order[\"transactTime\"], unit = \"ms\")\n",
    "        base_units = float(order[\"executedQty\"])\n",
    "        quote_units = float(order[\"cummulativeQuoteQty\"])\n",
    "        price = round(quote_units / base_units, 5)\n",
    "        \n",
    "        # calculate trading profits\n",
    "        self.trades += 1\n",
    "        if side == \"BUY\":\n",
    "            self.trade_values.append(-quote_units)\n",
    "        elif side == \"SELL\":\n",
    "            self.trade_values.append(quote_units) \n",
    "        \n",
    "        if self.trades % 2 == 0:\n",
    "            real_profit = round(np.sum(self.trade_values[-2:]), 3) \n",
    "            self.cum_profits = round(np.sum(self.trade_values), 3)\n",
    "        else: \n",
    "            real_profit = 0\n",
    "            self.cum_profits = round(np.sum(self.trade_values[:-1]), 3)\n",
    "        \n",
    "        # print trade report\n",
    "        print(2 * \"\\n\" + 100* \"-\")\n",
    "        print(\"{} | {}\".format(time, going)) \n",
    "        print(\"{} | Base_Units = {} | Quote_Units = {} | Price = {} \".format(time, base_units, quote_units, price))\n",
    "        print(\"{} | Profit = {} | CumProfits = {} \".format(time, real_profit, self.cum_profits))\n",
    "        print(100 * \"-\" + \"\\n\")"
   ]
  },
  {
   "cell_type": "code",
   "execution_count": 127,
   "id": "f7091881",
   "metadata": {},
   "outputs": [],
   "source": [
    "symbol = \"BTCUSDT\"\n",
    "bar_length = \"1m\"\n",
    "return_thresh = 0\n",
    "volume_thresh = [-3, 3]\n",
    "units = 0.01\n",
    "position = 0"
   ]
  },
  {
   "cell_type": "code",
   "execution_count": 128,
   "id": "87cfbe72",
   "metadata": {},
   "outputs": [],
   "source": [
    "trader = LongOnlyTrader(symbol, bar_length, return_thresh, volume_thresh, units, position)"
   ]
  },
  {
   "cell_type": "code",
   "execution_count": 129,
   "id": "2d7d48cc",
   "metadata": {},
   "outputs": [
    {
     "name": "stdout",
     "output_type": "stream",
     "text": [
      "..........................................."
     ]
    }
   ],
   "source": [
    "trader.start_trading(historical_days=1/24)"
   ]
  },
  {
   "cell_type": "code",
   "execution_count": 130,
   "id": "fed5db1d",
   "metadata": {},
   "outputs": [
    {
     "ename": "AttributeError",
     "evalue": "'LongOnlyTrader' object has no attribute 'cum_profits'",
     "output_type": "error",
     "traceback": [
      "\u001b[0;31m---------------------------------------------------------------------------\u001b[0m",
      "\u001b[0;31mAttributeError\u001b[0m                            Traceback (most recent call last)",
      "Cell \u001b[0;32mIn[130], line 1\u001b[0m\n\u001b[0;32m----> 1\u001b[0m \u001b[43mtrader\u001b[49m\u001b[38;5;241;43m.\u001b[39;49m\u001b[43mcum_profits\u001b[49m\n",
      "\u001b[0;31mAttributeError\u001b[0m: 'LongOnlyTrader' object has no attribute 'cum_profits'"
     ]
    },
    {
     "name": "stdout",
     "output_type": "stream",
     "text": [
      "............."
     ]
    }
   ],
   "source": [
    "trader.cum_profits"
   ]
  },
  {
   "cell_type": "code",
   "execution_count": 131,
   "id": "95819373",
   "metadata": {},
   "outputs": [
    {
     "data": {
      "text/plain": [
       "[]"
      ]
     },
     "execution_count": 131,
     "metadata": {},
     "output_type": "execute_result"
    },
    {
     "name": "stdout",
     "output_type": "stream",
     "text": [
      "...."
     ]
    }
   ],
   "source": [
    "trader.trade_values"
   ]
  },
  {
   "cell_type": "code",
   "execution_count": null,
   "id": "b440f234",
   "metadata": {},
   "outputs": [],
   "source": []
  }
 ],
 "metadata": {
  "kernelspec": {
   "display_name": "Python 3 (ipykernel)",
   "language": "python",
   "name": "python3"
  },
  "language_info": {
   "codemirror_mode": {
    "name": "ipython",
    "version": 3
   },
   "file_extension": ".py",
   "mimetype": "text/x-python",
   "name": "python",
   "nbconvert_exporter": "python",
   "pygments_lexer": "ipython3",
   "version": "3.10.9"
  }
 },
 "nbformat": 4,
 "nbformat_minor": 5
}
