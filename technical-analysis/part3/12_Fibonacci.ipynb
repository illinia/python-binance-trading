{
 "cells": [
  {
   "cell_type": "code",
   "execution_count": null,
   "metadata": {
    "collapsed": true
   },
   "outputs": [],
   "source": [
    "import pandas as pd\n",
    "import numpy as np\n",
    "import matplotlib.pyplot as plt\n",
    "plt.style.use(\"seaborn-v0_8\")"
   ]
  },
  {
   "cell_type": "code",
   "execution_count": null,
   "outputs": [],
   "source": [
    "data = pd.read_csv(\"EURUSD_ohlc.csv\", parse_dates=[0], index_col=0)\n",
    "data"
   ],
   "metadata": {
    "collapsed": false
   }
  },
  {
   "cell_type": "code",
   "execution_count": null,
   "outputs": [],
   "source": [
    "data.info()"
   ],
   "metadata": {
    "collapsed": false
   }
  },
  {
   "cell_type": "code",
   "execution_count": null,
   "outputs": [],
   "source": [
    "data.loc[\"2010-05\":\"2011-08\", \"Close\"].plot(figsize = (12, 8), title = \"EUR/USD\", fontsize = 12)\n",
    "# plt.hlines(y = 1.26, xmin = \"06-2010\", xmax = \"06-2011\", color = \"green\", label = \"Retracement/Support\")\n",
    "plt.legend(fontsize=12)\n",
    "plt.show()"
   ],
   "metadata": {
    "collapsed": false
   }
  },
  {
   "cell_type": "code",
   "execution_count": null,
   "outputs": [],
   "source": [
    "high = data.loc['06-2010':'08-2010', 'Close'].max()\n",
    "high"
   ],
   "metadata": {
    "collapsed": false
   }
  },
  {
   "cell_type": "code",
   "execution_count": null,
   "outputs": [],
   "source": [
    "low = data.loc['06-2010':'08-2010', 'Close'].min()\n",
    "low"
   ],
   "metadata": {
    "collapsed": false
   }
  },
  {
   "cell_type": "code",
   "execution_count": null,
   "outputs": [],
   "source": [
    "fifty_percent = (low + high) / 2\n",
    "fifty_percent"
   ],
   "metadata": {
    "collapsed": false
   }
  },
  {
   "cell_type": "code",
   "execution_count": null,
   "outputs": [],
   "source": [
    "fibonacci1 = 0.236\n",
    "fibonacci1"
   ],
   "metadata": {
    "collapsed": false
   }
  },
  {
   "cell_type": "code",
   "execution_count": null,
   "outputs": [],
   "source": [
    "R1 = high - (high-low) * fibonacci1\n",
    "R1"
   ],
   "metadata": {
    "collapsed": false
   }
  },
  {
   "cell_type": "code",
   "execution_count": null,
   "outputs": [],
   "source": [
    "fibonacci2 = 0.382\n",
    "fibonacci2"
   ],
   "metadata": {
    "collapsed": false
   }
  },
  {
   "cell_type": "code",
   "execution_count": null,
   "outputs": [],
   "source": [
    "R2 = high - (high-low) * fibonacci2\n",
    "R2"
   ],
   "metadata": {
    "collapsed": false
   }
  },
  {
   "cell_type": "code",
   "execution_count": null,
   "outputs": [],
   "source": [
    "fibonacci3 = 0.618\n",
    "fibonacci3"
   ],
   "metadata": {
    "collapsed": false
   }
  },
  {
   "cell_type": "code",
   "execution_count": null,
   "outputs": [],
   "source": [
    "R3 = high - (high-low) * fibonacci3\n",
    "R3"
   ],
   "metadata": {
    "collapsed": false
   }
  },
  {
   "cell_type": "code",
   "execution_count": null,
   "outputs": [],
   "source": [
    "data.loc[\"05-2010\":\"08-2011\", \"Close\"].plot(figsize = (12, 8), title = \"EUR/USD\", fontsize = 12)\n",
    "# plt.hlines(y = 1.26, xmin = \"06-2010\", xmax = \"06-2011\", color = \"green\", label = \"Actual Retracement/Support\")\n",
    "# plt.hlines(y = R1, xmin = \"06-2010\", xmax = \"06-2011\", color = \"red\", label = \"R1 (23.6%)\")\n",
    "# plt.hlines(y = R2, xmin = \"06-2010\", xmax = \"06-2011\", color = \"grey\", label = \"R2 (38.2%)\")\n",
    "# plt.hlines(y = R3, xmin = \"06-2010\", xmax = \"06-2011\", color = \"purple\", label = \"R3 (61.8%)\")"
   ],
   "metadata": {
    "collapsed": false
   }
  },
  {
   "cell_type": "code",
   "execution_count": null,
   "outputs": [],
   "source": [
    "data.loc[\"10-2011\":\"12-2012\", \"Close\"].plot(figsize = (12, 8), title = \"EUR/USD\", fontsize = 12)"
   ],
   "metadata": {
    "collapsed": false
   }
  },
  {
   "cell_type": "code",
   "execution_count": null,
   "outputs": [],
   "source": [
    "data.loc[\"10-2011\":\"12-2012\", \"Close\"].plot(figsize = (12, 8), title = \"EUR/USD\", fontsize = 12)\n",
    "# plt.hlines(y = 1.35, xmin = \"10-2011\", xmax = \"12-2012\", color = \"red\")"
   ],
   "metadata": {
    "collapsed": false
   }
  },
  {
   "cell_type": "code",
   "execution_count": null,
   "outputs": [],
   "source": [
    "low = data.loc['10-2011':'03-2012', 'Close'].min()\n",
    "low"
   ],
   "metadata": {
    "collapsed": false
   }
  },
  {
   "cell_type": "code",
   "execution_count": null,
   "outputs": [],
   "source": [
    "high = data.loc['10-2011':'03-2012', 'Close'].max()\n",
    "high"
   ],
   "metadata": {
    "collapsed": false
   }
  },
  {
   "cell_type": "code",
   "execution_count": null,
   "outputs": [],
   "source": [
    "print(fibonacci1, fibonacci2, fibonacci3)"
   ],
   "metadata": {
    "collapsed": false
   }
  },
  {
   "cell_type": "markdown",
   "source": [
    "### 지역 고가 파악하기"
   ],
   "metadata": {
    "collapsed": false
   }
  },
  {
   "cell_type": "code",
   "execution_count": null,
   "outputs": [],
   "source": [
    "from scipy.signal import argrelextrema"
   ],
   "metadata": {
    "collapsed": false
   }
  },
  {
   "cell_type": "code",
   "execution_count": null,
   "outputs": [],
   "source": [
    "data"
   ],
   "metadata": {
    "collapsed": false
   }
  },
  {
   "cell_type": "code",
   "execution_count": null,
   "outputs": [],
   "source": [
    "hh = data.High.copy()\n",
    "hh"
   ],
   "metadata": {
    "collapsed": false
   }
  },
  {
   "cell_type": "code",
   "execution_count": null,
   "outputs": [],
   "source": [
    "order = 70"
   ],
   "metadata": {
    "collapsed": false
   }
  },
  {
   "cell_type": "code",
   "execution_count": null,
   "outputs": [],
   "source": [
    "local_max = argrelextrema(hh.values, np.greater_equal, order=order)\n",
    "local_max"
   ],
   "metadata": {
    "collapsed": false
   }
  },
  {
   "cell_type": "code",
   "execution_count": null,
   "outputs": [],
   "source": [
    "data.index[local_max]"
   ],
   "metadata": {
    "collapsed": false
   }
  },
  {
   "cell_type": "code",
   "execution_count": null,
   "outputs": [],
   "source": [
    "data.High.values[local_max]"
   ],
   "metadata": {
    "collapsed": false
   }
  },
  {
   "cell_type": "code",
   "execution_count": null,
   "outputs": [],
   "source": [
    "data.Close.plot(figsize=(20, 8))\n",
    "plt.vlines(x=data.index[local_max], ymin=data.Low.min(), ymax=data.High.max(), color='g')\n",
    "plt.show()"
   ],
   "metadata": {
    "collapsed": false
   }
  },
  {
   "cell_type": "code",
   "execution_count": null,
   "outputs": [],
   "source": [
    "ll = data.Low.copy()\n",
    "ll"
   ],
   "metadata": {
    "collapsed": false
   }
  },
  {
   "cell_type": "code",
   "execution_count": null,
   "outputs": [],
   "source": [
    "local_min = argrelextrema(ll.values, np.less_equal, order=order)\n",
    "local_min"
   ],
   "metadata": {
    "collapsed": false
   }
  },
  {
   "cell_type": "code",
   "execution_count": null,
   "outputs": [],
   "source": [
    "data.index[local_min]"
   ],
   "metadata": {
    "collapsed": false
   }
  },
  {
   "cell_type": "code",
   "execution_count": null,
   "outputs": [],
   "source": [
    "data.Low.values[local_min]"
   ],
   "metadata": {
    "collapsed": false
   }
  },
  {
   "cell_type": "code",
   "execution_count": null,
   "outputs": [],
   "source": [
    "data.Close.plot(figsize=(20, 8))\n",
    "plt.vlines(x = data.index[local_min], ymin=data.Low.min(), ymax=data.High.max(), color='r')\n",
    "plt.vlines(x=data.index[local_max], ymin=data.Low.min(), ymax=data.High.max(), color='g')"
   ],
   "metadata": {
    "collapsed": false
   }
  },
  {
   "cell_type": "markdown",
   "source": [
    "### 고가"
   ],
   "metadata": {
    "collapsed": false
   }
  },
  {
   "cell_type": "code",
   "execution_count": null,
   "outputs": [],
   "source": [
    "data['hh'] = np.nan\n",
    "data['hh_date'] = np.nan\n",
    "data"
   ],
   "metadata": {
    "collapsed": false
   }
  },
  {
   "cell_type": "code",
   "execution_count": null,
   "outputs": [],
   "source": [
    "for bar in range(len(data)):\n",
    "    date = data.index[bar]\n",
    "    hh = data.iloc[:bar + 1].High\n",
    "\n",
    "    local_max = argrelextrema(hh.values, np.greater_equal, order=order)\n",
    "\n",
    "    data.loc[date, 'hh'] = data.High.values[local_max][-1]\n",
    "\n",
    "    data.loc[date, 'hh_date'] = data.index[local_max][-1]"
   ],
   "metadata": {
    "collapsed": false
   }
  },
  {
   "cell_type": "code",
   "execution_count": null,
   "outputs": [],
   "source": [
    "data"
   ],
   "metadata": {
    "collapsed": false
   }
  },
  {
   "cell_type": "code",
   "execution_count": null,
   "outputs": [],
   "source": [
    "data['ll'] = np.nan\n",
    "data['ll_date'] = np.nan\n",
    "data"
   ],
   "metadata": {
    "collapsed": false
   }
  },
  {
   "cell_type": "code",
   "execution_count": null,
   "outputs": [],
   "source": [
    "for bar in range(len(data)):\n",
    "    date = data.index[bar]\n",
    "    hh = data.iloc[:bar + 1].Low\n",
    "\n",
    "    local_min = argrelextrema(hh.values, np.less_equal, order=order)\n",
    "\n",
    "    data.loc[date, 'll'] = data.Low.values[local_min][-1]\n",
    "\n",
    "    data.loc[date, 'll_date'] = data.index[local_min][-1]"
   ],
   "metadata": {
    "collapsed": false
   }
  },
  {
   "cell_type": "code",
   "execution_count": null,
   "outputs": [],
   "source": [
    "data"
   ],
   "metadata": {
    "collapsed": false
   }
  },
  {
   "cell_type": "code",
   "execution_count": null,
   "outputs": [],
   "source": [
    "data.info()"
   ],
   "metadata": {
    "collapsed": false
   }
  },
  {
   "cell_type": "markdown",
   "source": [
    "### 추세 파악하기"
   ],
   "metadata": {
    "collapsed": false
   }
  },
  {
   "cell_type": "code",
   "execution_count": null,
   "outputs": [],
   "source": [
    "data.loc[\"2010\":\"2011\", [\"Close\", \"hh\", \"ll\"]].plot(figsize=(12, 8), title=\"EUR/USD\", fontsize=12)\n",
    "plt.show()"
   ],
   "metadata": {
    "collapsed": false
   }
  },
  {
   "cell_type": "code",
   "execution_count": null,
   "outputs": [],
   "source": [
    "data['Trend'] = np.where(data.hh_date > data.ll_date, 1, -1)\n",
    "data"
   ],
   "metadata": {
    "collapsed": false
   }
  },
  {
   "cell_type": "code",
   "execution_count": null,
   "outputs": [],
   "source": [
    "data.loc[\"2010\":\"2011\", [\"Close\", \"hh\", \"ll\", \"Trend\"]].plot(figsize=(12, 8), title=\"EUR/USD\", fontsize=12, secondary_y='Trend')\n",
    "plt.show()"
   ],
   "metadata": {
    "collapsed": false
   }
  },
  {
   "cell_type": "code",
   "execution_count": null,
   "outputs": [],
   "source": [
    "data['Trend'] = np.where(data.hh_date > data.ll_date, \"Up\", \"Down\")\n",
    "data"
   ],
   "metadata": {
    "collapsed": false
   }
  },
  {
   "cell_type": "code",
   "execution_count": null,
   "outputs": [],
   "source": [
    "data.drop(columns=[\"hh_date\", \"ll_date\"], inplace=True)\n",
    "data"
   ],
   "metadata": {
    "collapsed": false
   }
  },
  {
   "cell_type": "code",
   "execution_count": null,
   "outputs": [],
   "source": [
    "data.Trend.value_counts()"
   ],
   "metadata": {
    "collapsed": false
   }
  },
  {
   "cell_type": "code",
   "execution_count": null,
   "outputs": [],
   "source": [
    "data[\"R23.6\"] = np.where(data.Trend == \"Up\", data.hh - (data.hh-data.ll) * 0.236, data.hh - (data.hh - data.ll) * (1 - 0.236))\n",
    "data"
   ],
   "metadata": {
    "collapsed": false
   }
  },
  {
   "cell_type": "code",
   "execution_count": null,
   "outputs": [],
   "source": [
    "data.info()"
   ],
   "metadata": {
    "collapsed": false
   }
  },
  {
   "cell_type": "code",
   "execution_count": null,
   "outputs": [],
   "source": [
    "data[\"R38.2\"] = np.where(data.Trend == \"Up\", data.hh - (data.hh-data.ll) * 0.382, data.hh - (data.hh - data.ll) * (1 - 0.382))\n",
    "data"
   ],
   "metadata": {
    "collapsed": false
   }
  },
  {
   "cell_type": "markdown",
   "source": [
    "### 피보나치 되돌림 돌파 전략"
   ],
   "metadata": {
    "collapsed": false
   }
  },
  {
   "cell_type": "code",
   "execution_count": null,
   "outputs": [],
   "source": [
    "data"
   ],
   "metadata": {
    "collapsed": false
   }
  },
  {
   "cell_type": "markdown",
   "source": [
    "중립 전략: 새로운 고점이나 저점에 도달했을 때"
   ],
   "metadata": {
    "collapsed": false
   }
  },
  {
   "cell_type": "code",
   "execution_count": null,
   "outputs": [],
   "source": [
    "data['position'] = np.where((data.hh != data.hh.shift()) | (data.ll != data.ll.shift()), 0, np.nan)\n",
    "data"
   ],
   "metadata": {
    "collapsed": false
   }
  },
  {
   "cell_type": "code",
   "execution_count": null,
   "outputs": [],
   "source": [
    "data.position.value_counts()"
   ],
   "metadata": {
    "collapsed": false
   }
  },
  {
   "cell_type": "markdown",
   "source": [
    "### 하향 추세\n",
    "\n",
    "##### 23.6퍼센트의 피보나치 저항선을 돌파하면 롱 포지션 진입"
   ],
   "metadata": {
    "collapsed": false
   }
  },
  {
   "cell_type": "code",
   "execution_count": null,
   "outputs": [],
   "source": [
    "data['position'] = np.where((data.Trend == \"Down\") & (data.Close.shift() < data[\"R23.6\"].shift()) & (data.Close > data[\"R23.6\"]), 1, data.position)"
   ],
   "metadata": {
    "collapsed": false
   }
  },
  {
   "cell_type": "markdown",
   "source": [
    "##### 가격이 38.2 퍼센트를 도달하거나 돌파하면 중립 포지션 전환(수익)"
   ],
   "metadata": {
    "collapsed": false
   }
  },
  {
   "cell_type": "code",
   "execution_count": null,
   "outputs": [],
   "source": [
    "data['position'] = np.where((data.Trend == \"Down\") & (data.Close.shift() < data[\"R38.2\"].shift()) & (data.Close >= data[\"R38.2\"]), 0, data.position)"
   ],
   "metadata": {
    "collapsed": false
   }
  },
  {
   "cell_type": "markdown",
   "source": [
    "##### 가격이 이전 저점에 도달하거나 돌파할때"
   ],
   "metadata": {
    "collapsed": false
   }
  },
  {
   "cell_type": "code",
   "execution_count": null,
   "outputs": [],
   "source": [
    "data['position'] = np.where((data.Trend == \"Down\") & (data.Close.shift() > data.ll.shift()) & (data.Close <= data.ll), 0, data.position)"
   ],
   "metadata": {
    "collapsed": false
   }
  },
  {
   "cell_type": "code",
   "execution_count": null,
   "outputs": [],
   "source": [
    "data.position.value_counts()"
   ],
   "metadata": {
    "collapsed": false
   }
  },
  {
   "cell_type": "markdown",
   "source": [
    "### 상향 추세\n",
    "\n",
    "##### 23.6퍼센트 돌파하면 숏 포지션 진입"
   ],
   "metadata": {
    "collapsed": false
   }
  },
  {
   "cell_type": "code",
   "execution_count": null,
   "outputs": [],
   "source": [
    "data['position'] = np.where((data.Trend == 'Up') & (data.Close.shift() > data['R23.6'].shift()) & (data.Close < data[\"R23.6\"]), -1, data.position)"
   ],
   "metadata": {
    "collapsed": false
   }
  },
  {
   "cell_type": "code",
   "execution_count": null,
   "outputs": [],
   "source": [
    "data.position.value_counts()"
   ],
   "metadata": {
    "collapsed": false
   }
  },
  {
   "cell_type": "markdown",
   "source": [
    "##### 38.2 퍼센트 도달, 돌파하면 중립 포지션 전환(수익)"
   ],
   "metadata": {
    "collapsed": false
   }
  },
  {
   "cell_type": "code",
   "execution_count": null,
   "outputs": [],
   "source": [
    "data['position'] = np.where((data.Trend == \"Up\") & (data.Close.shift() > data[\"R38.2\"].shift()) & (data.Close <= data[\"R38.2\"]), 0, data.position)"
   ],
   "metadata": {
    "collapsed": false
   }
  },
  {
   "cell_type": "markdown",
   "source": [
    "##### 이전 고가에 도달하거나 돌파하면 중립 포지션 전환(손실)"
   ],
   "metadata": {
    "collapsed": false
   }
  },
  {
   "cell_type": "code",
   "execution_count": null,
   "outputs": [],
   "source": [
    "data['position'] = np.where((data.Trend == \"Up\") & (data.Close.shift() < data.hh.shift()) & (data.Close >= data.hh), 0, data.position)"
   ],
   "metadata": {
    "collapsed": false
   }
  },
  {
   "cell_type": "markdown",
   "source": [
    "##### 새로운 고점이나 저점에 도달했을 때 중립 포지션 전환(추세가 변경되었을 때)"
   ],
   "metadata": {
    "collapsed": false
   }
  },
  {
   "cell_type": "code",
   "execution_count": null,
   "outputs": [],
   "source": [
    "data['position'] = np.where((data.hh != data.hh.shift()) | (data.ll != data.ll.shift()), 0, data.position)"
   ],
   "metadata": {
    "collapsed": false
   }
  },
  {
   "cell_type": "code",
   "execution_count": null,
   "outputs": [],
   "source": [
    "data['position'] = data.position.ffill()"
   ],
   "metadata": {
    "collapsed": false
   }
  },
  {
   "cell_type": "code",
   "execution_count": null,
   "outputs": [],
   "source": [
    "data.position.value_counts()"
   ],
   "metadata": {
    "collapsed": false
   }
  },
  {
   "cell_type": "code",
   "execution_count": null,
   "outputs": [],
   "source": [
    "data"
   ],
   "metadata": {
    "collapsed": false
   }
  },
  {
   "cell_type": "code",
   "execution_count": null,
   "outputs": [],
   "source": [
    "data.loc[:, [\"Close\", \"position\"]].plot(figsize=(12, 8), fontsize=12, secondary_y=\"position\")"
   ],
   "metadata": {
    "collapsed": false
   }
  },
  {
   "cell_type": "markdown",
   "source": [
    "### 벡터화 전략 백테스팅"
   ],
   "metadata": {
    "collapsed": false
   }
  },
  {
   "cell_type": "code",
   "execution_count": null,
   "outputs": [],
   "source": [
    "data['returns'] = np.log(data.Close.div(data.Close.shift(1)))"
   ],
   "metadata": {
    "collapsed": false
   }
  },
  {
   "cell_type": "code",
   "execution_count": null,
   "outputs": [],
   "source": [
    "data.dropna(inplace=True)"
   ],
   "metadata": {
    "collapsed": false
   }
  },
  {
   "cell_type": "code",
   "execution_count": 67,
   "outputs": [
    {
     "data": {
      "text/plain": "               Open     High      Low    Close       hh       ll Trend  \\\n2008-01-02  1.47146  1.47812  1.46876  1.47510  1.47812  1.45885    Up   \n2008-01-03  1.47504  1.48254  1.46958  1.47429  1.48254  1.45885    Up   \n2008-01-05  1.47451  1.47559  1.47430  1.47465  1.48254  1.45885    Up   \n2008-01-06  1.47465  1.47560  1.46586  1.46954  1.48254  1.45885    Up   \n2008-01-07  1.46954  1.47444  1.46804  1.47078  1.48254  1.45885    Up   \n...             ...      ...      ...      ...      ...      ...   ...   \n2020-12-23  1.21873  1.22158  1.21774  1.21849  1.22728  1.16027    Up   \n2020-12-27  1.21892  1.22504  1.21812  1.22152  1.22728  1.16027    Up   \n2020-12-28  1.22145  1.22752  1.22086  1.22502  1.22752  1.16027    Up   \n2020-12-29  1.22508  1.23102  1.22495  1.23000  1.23102  1.16027    Up   \n2020-12-30  1.22979  1.23094  1.22094  1.22156  1.23102  1.16027    Up   \n\n               R23.6     R38.2  position   returns  \n2008-01-02  1.473572  1.470759       0.0  0.002471  \n2008-01-03  1.476949  1.473490       0.0 -0.000549  \n2008-01-05  1.476949  1.473490       0.0  0.000244  \n2008-01-06  1.476949  1.473490       0.0 -0.003471  \n2008-01-07  1.476949  1.473490       0.0  0.000843  \n...              ...       ...       ...       ...  \n2020-12-23  1.211466  1.201682       0.0 -0.000057  \n2020-12-27  1.211466  1.201682       0.0  0.002484  \n2020-12-28  1.211649  1.201831       0.0  0.002861  \n2020-12-29  1.214323  1.203993       0.0  0.004057  \n2020-12-30  1.214323  1.203993       0.0 -0.006885  \n\n[3810 rows x 11 columns]",
      "text/html": "<div>\n<style scoped>\n    .dataframe tbody tr th:only-of-type {\n        vertical-align: middle;\n    }\n\n    .dataframe tbody tr th {\n        vertical-align: top;\n    }\n\n    .dataframe thead th {\n        text-align: right;\n    }\n</style>\n<table border=\"1\" class=\"dataframe\">\n  <thead>\n    <tr style=\"text-align: right;\">\n      <th></th>\n      <th>Open</th>\n      <th>High</th>\n      <th>Low</th>\n      <th>Close</th>\n      <th>hh</th>\n      <th>ll</th>\n      <th>Trend</th>\n      <th>R23.6</th>\n      <th>R38.2</th>\n      <th>position</th>\n      <th>returns</th>\n    </tr>\n  </thead>\n  <tbody>\n    <tr>\n      <th>2008-01-02</th>\n      <td>1.47146</td>\n      <td>1.47812</td>\n      <td>1.46876</td>\n      <td>1.47510</td>\n      <td>1.47812</td>\n      <td>1.45885</td>\n      <td>Up</td>\n      <td>1.473572</td>\n      <td>1.470759</td>\n      <td>0.0</td>\n      <td>0.002471</td>\n    </tr>\n    <tr>\n      <th>2008-01-03</th>\n      <td>1.47504</td>\n      <td>1.48254</td>\n      <td>1.46958</td>\n      <td>1.47429</td>\n      <td>1.48254</td>\n      <td>1.45885</td>\n      <td>Up</td>\n      <td>1.476949</td>\n      <td>1.473490</td>\n      <td>0.0</td>\n      <td>-0.000549</td>\n    </tr>\n    <tr>\n      <th>2008-01-05</th>\n      <td>1.47451</td>\n      <td>1.47559</td>\n      <td>1.47430</td>\n      <td>1.47465</td>\n      <td>1.48254</td>\n      <td>1.45885</td>\n      <td>Up</td>\n      <td>1.476949</td>\n      <td>1.473490</td>\n      <td>0.0</td>\n      <td>0.000244</td>\n    </tr>\n    <tr>\n      <th>2008-01-06</th>\n      <td>1.47465</td>\n      <td>1.47560</td>\n      <td>1.46586</td>\n      <td>1.46954</td>\n      <td>1.48254</td>\n      <td>1.45885</td>\n      <td>Up</td>\n      <td>1.476949</td>\n      <td>1.473490</td>\n      <td>0.0</td>\n      <td>-0.003471</td>\n    </tr>\n    <tr>\n      <th>2008-01-07</th>\n      <td>1.46954</td>\n      <td>1.47444</td>\n      <td>1.46804</td>\n      <td>1.47078</td>\n      <td>1.48254</td>\n      <td>1.45885</td>\n      <td>Up</td>\n      <td>1.476949</td>\n      <td>1.473490</td>\n      <td>0.0</td>\n      <td>0.000843</td>\n    </tr>\n    <tr>\n      <th>...</th>\n      <td>...</td>\n      <td>...</td>\n      <td>...</td>\n      <td>...</td>\n      <td>...</td>\n      <td>...</td>\n      <td>...</td>\n      <td>...</td>\n      <td>...</td>\n      <td>...</td>\n      <td>...</td>\n    </tr>\n    <tr>\n      <th>2020-12-23</th>\n      <td>1.21873</td>\n      <td>1.22158</td>\n      <td>1.21774</td>\n      <td>1.21849</td>\n      <td>1.22728</td>\n      <td>1.16027</td>\n      <td>Up</td>\n      <td>1.211466</td>\n      <td>1.201682</td>\n      <td>0.0</td>\n      <td>-0.000057</td>\n    </tr>\n    <tr>\n      <th>2020-12-27</th>\n      <td>1.21892</td>\n      <td>1.22504</td>\n      <td>1.21812</td>\n      <td>1.22152</td>\n      <td>1.22728</td>\n      <td>1.16027</td>\n      <td>Up</td>\n      <td>1.211466</td>\n      <td>1.201682</td>\n      <td>0.0</td>\n      <td>0.002484</td>\n    </tr>\n    <tr>\n      <th>2020-12-28</th>\n      <td>1.22145</td>\n      <td>1.22752</td>\n      <td>1.22086</td>\n      <td>1.22502</td>\n      <td>1.22752</td>\n      <td>1.16027</td>\n      <td>Up</td>\n      <td>1.211649</td>\n      <td>1.201831</td>\n      <td>0.0</td>\n      <td>0.002861</td>\n    </tr>\n    <tr>\n      <th>2020-12-29</th>\n      <td>1.22508</td>\n      <td>1.23102</td>\n      <td>1.22495</td>\n      <td>1.23000</td>\n      <td>1.23102</td>\n      <td>1.16027</td>\n      <td>Up</td>\n      <td>1.214323</td>\n      <td>1.203993</td>\n      <td>0.0</td>\n      <td>0.004057</td>\n    </tr>\n    <tr>\n      <th>2020-12-30</th>\n      <td>1.22979</td>\n      <td>1.23094</td>\n      <td>1.22094</td>\n      <td>1.22156</td>\n      <td>1.23102</td>\n      <td>1.16027</td>\n      <td>Up</td>\n      <td>1.214323</td>\n      <td>1.203993</td>\n      <td>0.0</td>\n      <td>-0.006885</td>\n    </tr>\n  </tbody>\n</table>\n<p>3810 rows × 11 columns</p>\n</div>"
     },
     "execution_count": 67,
     "metadata": {},
     "output_type": "execute_result"
    }
   ],
   "source": [
    "data"
   ],
   "metadata": {
    "collapsed": false
   }
  },
  {
   "cell_type": "code",
   "execution_count": 68,
   "outputs": [
    {
     "data": {
      "text/plain": "               Open     High      Low    Close       hh       ll Trend  \\\n2008-01-02  1.47146  1.47812  1.46876  1.47510  1.47812  1.45885    Up   \n2008-01-03  1.47504  1.48254  1.46958  1.47429  1.48254  1.45885    Up   \n2008-01-05  1.47451  1.47559  1.47430  1.47465  1.48254  1.45885    Up   \n2008-01-06  1.47465  1.47560  1.46586  1.46954  1.48254  1.45885    Up   \n2008-01-07  1.46954  1.47444  1.46804  1.47078  1.48254  1.45885    Up   \n...             ...      ...      ...      ...      ...      ...   ...   \n2020-12-23  1.21873  1.22158  1.21774  1.21849  1.22728  1.16027    Up   \n2020-12-27  1.21892  1.22504  1.21812  1.22152  1.22728  1.16027    Up   \n2020-12-28  1.22145  1.22752  1.22086  1.22502  1.22752  1.16027    Up   \n2020-12-29  1.22508  1.23102  1.22495  1.23000  1.23102  1.16027    Up   \n2020-12-30  1.22979  1.23094  1.22094  1.22156  1.23102  1.16027    Up   \n\n               R23.6     R38.2  position   returns  strategy  \n2008-01-02  1.473572  1.470759       0.0  0.002471       NaN  \n2008-01-03  1.476949  1.473490       0.0 -0.000549      -0.0  \n2008-01-05  1.476949  1.473490       0.0  0.000244       0.0  \n2008-01-06  1.476949  1.473490       0.0 -0.003471      -0.0  \n2008-01-07  1.476949  1.473490       0.0  0.000843       0.0  \n...              ...       ...       ...       ...       ...  \n2020-12-23  1.211466  1.201682       0.0 -0.000057      -0.0  \n2020-12-27  1.211466  1.201682       0.0  0.002484       0.0  \n2020-12-28  1.211649  1.201831       0.0  0.002861       0.0  \n2020-12-29  1.214323  1.203993       0.0  0.004057       0.0  \n2020-12-30  1.214323  1.203993       0.0 -0.006885      -0.0  \n\n[3810 rows x 12 columns]",
      "text/html": "<div>\n<style scoped>\n    .dataframe tbody tr th:only-of-type {\n        vertical-align: middle;\n    }\n\n    .dataframe tbody tr th {\n        vertical-align: top;\n    }\n\n    .dataframe thead th {\n        text-align: right;\n    }\n</style>\n<table border=\"1\" class=\"dataframe\">\n  <thead>\n    <tr style=\"text-align: right;\">\n      <th></th>\n      <th>Open</th>\n      <th>High</th>\n      <th>Low</th>\n      <th>Close</th>\n      <th>hh</th>\n      <th>ll</th>\n      <th>Trend</th>\n      <th>R23.6</th>\n      <th>R38.2</th>\n      <th>position</th>\n      <th>returns</th>\n      <th>strategy</th>\n    </tr>\n  </thead>\n  <tbody>\n    <tr>\n      <th>2008-01-02</th>\n      <td>1.47146</td>\n      <td>1.47812</td>\n      <td>1.46876</td>\n      <td>1.47510</td>\n      <td>1.47812</td>\n      <td>1.45885</td>\n      <td>Up</td>\n      <td>1.473572</td>\n      <td>1.470759</td>\n      <td>0.0</td>\n      <td>0.002471</td>\n      <td>NaN</td>\n    </tr>\n    <tr>\n      <th>2008-01-03</th>\n      <td>1.47504</td>\n      <td>1.48254</td>\n      <td>1.46958</td>\n      <td>1.47429</td>\n      <td>1.48254</td>\n      <td>1.45885</td>\n      <td>Up</td>\n      <td>1.476949</td>\n      <td>1.473490</td>\n      <td>0.0</td>\n      <td>-0.000549</td>\n      <td>-0.0</td>\n    </tr>\n    <tr>\n      <th>2008-01-05</th>\n      <td>1.47451</td>\n      <td>1.47559</td>\n      <td>1.47430</td>\n      <td>1.47465</td>\n      <td>1.48254</td>\n      <td>1.45885</td>\n      <td>Up</td>\n      <td>1.476949</td>\n      <td>1.473490</td>\n      <td>0.0</td>\n      <td>0.000244</td>\n      <td>0.0</td>\n    </tr>\n    <tr>\n      <th>2008-01-06</th>\n      <td>1.47465</td>\n      <td>1.47560</td>\n      <td>1.46586</td>\n      <td>1.46954</td>\n      <td>1.48254</td>\n      <td>1.45885</td>\n      <td>Up</td>\n      <td>1.476949</td>\n      <td>1.473490</td>\n      <td>0.0</td>\n      <td>-0.003471</td>\n      <td>-0.0</td>\n    </tr>\n    <tr>\n      <th>2008-01-07</th>\n      <td>1.46954</td>\n      <td>1.47444</td>\n      <td>1.46804</td>\n      <td>1.47078</td>\n      <td>1.48254</td>\n      <td>1.45885</td>\n      <td>Up</td>\n      <td>1.476949</td>\n      <td>1.473490</td>\n      <td>0.0</td>\n      <td>0.000843</td>\n      <td>0.0</td>\n    </tr>\n    <tr>\n      <th>...</th>\n      <td>...</td>\n      <td>...</td>\n      <td>...</td>\n      <td>...</td>\n      <td>...</td>\n      <td>...</td>\n      <td>...</td>\n      <td>...</td>\n      <td>...</td>\n      <td>...</td>\n      <td>...</td>\n      <td>...</td>\n    </tr>\n    <tr>\n      <th>2020-12-23</th>\n      <td>1.21873</td>\n      <td>1.22158</td>\n      <td>1.21774</td>\n      <td>1.21849</td>\n      <td>1.22728</td>\n      <td>1.16027</td>\n      <td>Up</td>\n      <td>1.211466</td>\n      <td>1.201682</td>\n      <td>0.0</td>\n      <td>-0.000057</td>\n      <td>-0.0</td>\n    </tr>\n    <tr>\n      <th>2020-12-27</th>\n      <td>1.21892</td>\n      <td>1.22504</td>\n      <td>1.21812</td>\n      <td>1.22152</td>\n      <td>1.22728</td>\n      <td>1.16027</td>\n      <td>Up</td>\n      <td>1.211466</td>\n      <td>1.201682</td>\n      <td>0.0</td>\n      <td>0.002484</td>\n      <td>0.0</td>\n    </tr>\n    <tr>\n      <th>2020-12-28</th>\n      <td>1.22145</td>\n      <td>1.22752</td>\n      <td>1.22086</td>\n      <td>1.22502</td>\n      <td>1.22752</td>\n      <td>1.16027</td>\n      <td>Up</td>\n      <td>1.211649</td>\n      <td>1.201831</td>\n      <td>0.0</td>\n      <td>0.002861</td>\n      <td>0.0</td>\n    </tr>\n    <tr>\n      <th>2020-12-29</th>\n      <td>1.22508</td>\n      <td>1.23102</td>\n      <td>1.22495</td>\n      <td>1.23000</td>\n      <td>1.23102</td>\n      <td>1.16027</td>\n      <td>Up</td>\n      <td>1.214323</td>\n      <td>1.203993</td>\n      <td>0.0</td>\n      <td>0.004057</td>\n      <td>0.0</td>\n    </tr>\n    <tr>\n      <th>2020-12-30</th>\n      <td>1.22979</td>\n      <td>1.23094</td>\n      <td>1.22094</td>\n      <td>1.22156</td>\n      <td>1.23102</td>\n      <td>1.16027</td>\n      <td>Up</td>\n      <td>1.214323</td>\n      <td>1.203993</td>\n      <td>0.0</td>\n      <td>-0.006885</td>\n      <td>-0.0</td>\n    </tr>\n  </tbody>\n</table>\n<p>3810 rows × 12 columns</p>\n</div>"
     },
     "execution_count": 68,
     "metadata": {},
     "output_type": "execute_result"
    }
   ],
   "source": [
    "data['strategy'] = data.position.shift(1) * data[\"returns\"]\n",
    "data"
   ],
   "metadata": {
    "collapsed": false
   }
  },
  {
   "cell_type": "code",
   "execution_count": 69,
   "outputs": [],
   "source": [
    "data.dropna(inplace=True)"
   ],
   "metadata": {
    "collapsed": false
   }
  },
  {
   "cell_type": "code",
   "execution_count": 70,
   "outputs": [],
   "source": [
    "ptc = 0.00007"
   ],
   "metadata": {
    "collapsed": false
   }
  },
  {
   "cell_type": "code",
   "execution_count": 71,
   "outputs": [],
   "source": [
    "data['trades'] = data.position.diff().fillna(0).abs()"
   ],
   "metadata": {
    "collapsed": false
   }
  },
  {
   "cell_type": "code",
   "execution_count": 72,
   "outputs": [
    {
     "data": {
      "text/plain": "0.0    3645\n1.0     164\nName: trades, dtype: int64"
     },
     "execution_count": 72,
     "metadata": {},
     "output_type": "execute_result"
    }
   ],
   "source": [
    "data.trades.value_counts()"
   ],
   "metadata": {
    "collapsed": false
   }
  },
  {
   "cell_type": "code",
   "execution_count": 73,
   "outputs": [],
   "source": [
    "data['strategy_net'] = data.strategy - data.trades * ptc"
   ],
   "metadata": {
    "collapsed": false
   }
  },
  {
   "cell_type": "code",
   "execution_count": 74,
   "outputs": [],
   "source": [
    "data['creturns'] = data['returns'].cumsum().apply(np.exp)"
   ],
   "metadata": {
    "collapsed": false
   }
  },
  {
   "cell_type": "code",
   "execution_count": 75,
   "outputs": [],
   "source": [
    "data['cstrategy'] = data['strategy'].cumsum().apply(np.exp)"
   ],
   "metadata": {
    "collapsed": false
   }
  },
  {
   "cell_type": "code",
   "execution_count": 76,
   "outputs": [],
   "source": [
    "data['cstrategy_net'] = data['strategy_net'].cumsum().apply(np.exp)"
   ],
   "metadata": {
    "collapsed": false
   }
  },
  {
   "cell_type": "code",
   "execution_count": 78,
   "outputs": [
    {
     "data": {
      "text/plain": "               Open     High      Low    Close       hh       ll Trend  \\\n2008-01-03  1.47504  1.48254  1.46958  1.47429  1.48254  1.45885    Up   \n2008-01-05  1.47451  1.47559  1.47430  1.47465  1.48254  1.45885    Up   \n2008-01-06  1.47465  1.47560  1.46586  1.46954  1.48254  1.45885    Up   \n2008-01-07  1.46954  1.47444  1.46804  1.47078  1.48254  1.45885    Up   \n2008-01-08  1.47074  1.47426  1.46394  1.46594  1.48254  1.45885    Up   \n...             ...      ...      ...      ...      ...      ...   ...   \n2020-12-23  1.21873  1.22158  1.21774  1.21849  1.22728  1.16027    Up   \n2020-12-27  1.21892  1.22504  1.21812  1.22152  1.22728  1.16027    Up   \n2020-12-28  1.22145  1.22752  1.22086  1.22502  1.22752  1.16027    Up   \n2020-12-29  1.22508  1.23102  1.22495  1.23000  1.23102  1.16027    Up   \n2020-12-30  1.22979  1.23094  1.22094  1.22156  1.23102  1.16027    Up   \n\n               R23.6     R38.2  position   returns  strategy  trades  \\\n2008-01-03  1.476949  1.473490       0.0 -0.000549      -0.0     0.0   \n2008-01-05  1.476949  1.473490       0.0  0.000244       0.0     0.0   \n2008-01-06  1.476949  1.473490       0.0 -0.003471      -0.0     0.0   \n2008-01-07  1.476949  1.473490       0.0  0.000843       0.0     0.0   \n2008-01-08  1.476949  1.473490       0.0 -0.003296      -0.0     0.0   \n...              ...       ...       ...       ...       ...     ...   \n2020-12-23  1.211466  1.201682       0.0 -0.000057      -0.0     0.0   \n2020-12-27  1.211466  1.201682       0.0  0.002484       0.0     0.0   \n2020-12-28  1.211649  1.201831       0.0  0.002861       0.0     0.0   \n2020-12-29  1.214323  1.203993       0.0  0.004057       0.0     0.0   \n2020-12-30  1.214323  1.203993       0.0 -0.006885      -0.0     0.0   \n\n            strategy_net  creturns  cstrategy  cstrategy_net  \n2008-01-03          -0.0  0.999451   1.000000       1.000000  \n2008-01-05           0.0  0.999695   1.000000       1.000000  \n2008-01-06          -0.0  0.996231   1.000000       1.000000  \n2008-01-07           0.0  0.997071   1.000000       1.000000  \n2008-01-08          -0.0  0.993790   1.000000       1.000000  \n...                  ...       ...        ...            ...  \n2020-12-23          -0.0  0.826039   1.239926       1.225773  \n2020-12-27           0.0  0.828093   1.239926       1.225773  \n2020-12-28           0.0  0.830466   1.239926       1.225773  \n2020-12-29           0.0  0.833842   1.239926       1.225773  \n2020-12-30          -0.0  0.828120   1.239926       1.225773  \n\n[3809 rows x 17 columns]",
      "text/html": "<div>\n<style scoped>\n    .dataframe tbody tr th:only-of-type {\n        vertical-align: middle;\n    }\n\n    .dataframe tbody tr th {\n        vertical-align: top;\n    }\n\n    .dataframe thead th {\n        text-align: right;\n    }\n</style>\n<table border=\"1\" class=\"dataframe\">\n  <thead>\n    <tr style=\"text-align: right;\">\n      <th></th>\n      <th>Open</th>\n      <th>High</th>\n      <th>Low</th>\n      <th>Close</th>\n      <th>hh</th>\n      <th>ll</th>\n      <th>Trend</th>\n      <th>R23.6</th>\n      <th>R38.2</th>\n      <th>position</th>\n      <th>returns</th>\n      <th>strategy</th>\n      <th>trades</th>\n      <th>strategy_net</th>\n      <th>creturns</th>\n      <th>cstrategy</th>\n      <th>cstrategy_net</th>\n    </tr>\n  </thead>\n  <tbody>\n    <tr>\n      <th>2008-01-03</th>\n      <td>1.47504</td>\n      <td>1.48254</td>\n      <td>1.46958</td>\n      <td>1.47429</td>\n      <td>1.48254</td>\n      <td>1.45885</td>\n      <td>Up</td>\n      <td>1.476949</td>\n      <td>1.473490</td>\n      <td>0.0</td>\n      <td>-0.000549</td>\n      <td>-0.0</td>\n      <td>0.0</td>\n      <td>-0.0</td>\n      <td>0.999451</td>\n      <td>1.000000</td>\n      <td>1.000000</td>\n    </tr>\n    <tr>\n      <th>2008-01-05</th>\n      <td>1.47451</td>\n      <td>1.47559</td>\n      <td>1.47430</td>\n      <td>1.47465</td>\n      <td>1.48254</td>\n      <td>1.45885</td>\n      <td>Up</td>\n      <td>1.476949</td>\n      <td>1.473490</td>\n      <td>0.0</td>\n      <td>0.000244</td>\n      <td>0.0</td>\n      <td>0.0</td>\n      <td>0.0</td>\n      <td>0.999695</td>\n      <td>1.000000</td>\n      <td>1.000000</td>\n    </tr>\n    <tr>\n      <th>2008-01-06</th>\n      <td>1.47465</td>\n      <td>1.47560</td>\n      <td>1.46586</td>\n      <td>1.46954</td>\n      <td>1.48254</td>\n      <td>1.45885</td>\n      <td>Up</td>\n      <td>1.476949</td>\n      <td>1.473490</td>\n      <td>0.0</td>\n      <td>-0.003471</td>\n      <td>-0.0</td>\n      <td>0.0</td>\n      <td>-0.0</td>\n      <td>0.996231</td>\n      <td>1.000000</td>\n      <td>1.000000</td>\n    </tr>\n    <tr>\n      <th>2008-01-07</th>\n      <td>1.46954</td>\n      <td>1.47444</td>\n      <td>1.46804</td>\n      <td>1.47078</td>\n      <td>1.48254</td>\n      <td>1.45885</td>\n      <td>Up</td>\n      <td>1.476949</td>\n      <td>1.473490</td>\n      <td>0.0</td>\n      <td>0.000843</td>\n      <td>0.0</td>\n      <td>0.0</td>\n      <td>0.0</td>\n      <td>0.997071</td>\n      <td>1.000000</td>\n      <td>1.000000</td>\n    </tr>\n    <tr>\n      <th>2008-01-08</th>\n      <td>1.47074</td>\n      <td>1.47426</td>\n      <td>1.46394</td>\n      <td>1.46594</td>\n      <td>1.48254</td>\n      <td>1.45885</td>\n      <td>Up</td>\n      <td>1.476949</td>\n      <td>1.473490</td>\n      <td>0.0</td>\n      <td>-0.003296</td>\n      <td>-0.0</td>\n      <td>0.0</td>\n      <td>-0.0</td>\n      <td>0.993790</td>\n      <td>1.000000</td>\n      <td>1.000000</td>\n    </tr>\n    <tr>\n      <th>...</th>\n      <td>...</td>\n      <td>...</td>\n      <td>...</td>\n      <td>...</td>\n      <td>...</td>\n      <td>...</td>\n      <td>...</td>\n      <td>...</td>\n      <td>...</td>\n      <td>...</td>\n      <td>...</td>\n      <td>...</td>\n      <td>...</td>\n      <td>...</td>\n      <td>...</td>\n      <td>...</td>\n      <td>...</td>\n    </tr>\n    <tr>\n      <th>2020-12-23</th>\n      <td>1.21873</td>\n      <td>1.22158</td>\n      <td>1.21774</td>\n      <td>1.21849</td>\n      <td>1.22728</td>\n      <td>1.16027</td>\n      <td>Up</td>\n      <td>1.211466</td>\n      <td>1.201682</td>\n      <td>0.0</td>\n      <td>-0.000057</td>\n      <td>-0.0</td>\n      <td>0.0</td>\n      <td>-0.0</td>\n      <td>0.826039</td>\n      <td>1.239926</td>\n      <td>1.225773</td>\n    </tr>\n    <tr>\n      <th>2020-12-27</th>\n      <td>1.21892</td>\n      <td>1.22504</td>\n      <td>1.21812</td>\n      <td>1.22152</td>\n      <td>1.22728</td>\n      <td>1.16027</td>\n      <td>Up</td>\n      <td>1.211466</td>\n      <td>1.201682</td>\n      <td>0.0</td>\n      <td>0.002484</td>\n      <td>0.0</td>\n      <td>0.0</td>\n      <td>0.0</td>\n      <td>0.828093</td>\n      <td>1.239926</td>\n      <td>1.225773</td>\n    </tr>\n    <tr>\n      <th>2020-12-28</th>\n      <td>1.22145</td>\n      <td>1.22752</td>\n      <td>1.22086</td>\n      <td>1.22502</td>\n      <td>1.22752</td>\n      <td>1.16027</td>\n      <td>Up</td>\n      <td>1.211649</td>\n      <td>1.201831</td>\n      <td>0.0</td>\n      <td>0.002861</td>\n      <td>0.0</td>\n      <td>0.0</td>\n      <td>0.0</td>\n      <td>0.830466</td>\n      <td>1.239926</td>\n      <td>1.225773</td>\n    </tr>\n    <tr>\n      <th>2020-12-29</th>\n      <td>1.22508</td>\n      <td>1.23102</td>\n      <td>1.22495</td>\n      <td>1.23000</td>\n      <td>1.23102</td>\n      <td>1.16027</td>\n      <td>Up</td>\n      <td>1.214323</td>\n      <td>1.203993</td>\n      <td>0.0</td>\n      <td>0.004057</td>\n      <td>0.0</td>\n      <td>0.0</td>\n      <td>0.0</td>\n      <td>0.833842</td>\n      <td>1.239926</td>\n      <td>1.225773</td>\n    </tr>\n    <tr>\n      <th>2020-12-30</th>\n      <td>1.22979</td>\n      <td>1.23094</td>\n      <td>1.22094</td>\n      <td>1.22156</td>\n      <td>1.23102</td>\n      <td>1.16027</td>\n      <td>Up</td>\n      <td>1.214323</td>\n      <td>1.203993</td>\n      <td>0.0</td>\n      <td>-0.006885</td>\n      <td>-0.0</td>\n      <td>0.0</td>\n      <td>-0.0</td>\n      <td>0.828120</td>\n      <td>1.239926</td>\n      <td>1.225773</td>\n    </tr>\n  </tbody>\n</table>\n<p>3809 rows × 17 columns</p>\n</div>"
     },
     "execution_count": 78,
     "metadata": {},
     "output_type": "execute_result"
    }
   ],
   "source": [
    "data"
   ],
   "metadata": {
    "collapsed": false
   }
  },
  {
   "cell_type": "code",
   "execution_count": 79,
   "outputs": [
    {
     "data": {
      "text/plain": "<Axes: >"
     },
     "execution_count": 79,
     "metadata": {},
     "output_type": "execute_result"
    },
    {
     "data": {
      "text/plain": "<Figure size 1200x800 with 1 Axes>",
      "image/png": "[encoded data removed]"
     },
     "metadata": {},
     "output_type": "display_data"
    }
   ],
   "source": [
    "data[['creturns', 'cstrategy', 'cstrategy_net']].plot(figsize=(12, 8))"
   ],
   "metadata": {
    "collapsed": false
   }
  },
  {
   "cell_type": "code",
   "execution_count": null,
   "outputs": [],
   "source": [],
   "metadata": {
    "collapsed": false
   }
  }
 ],
 "metadata": {
  "kernelspec": {
   "display_name": "Python 3",
   "language": "python",
   "name": "python3"
  },
  "language_info": {
   "codemirror_mode": {
    "name": "ipython",
    "version": 2
   },
   "file_extension": ".py",
   "mimetype": "text/x-python",
   "name": "python",
   "nbconvert_exporter": "python",
   "pygments_lexer": "ipython2",
   "version": "2.7.6"
  }
 },
 "nbformat": 4,
 "nbformat_minor": 0
}
