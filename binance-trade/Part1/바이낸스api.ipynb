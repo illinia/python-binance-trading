{
 "cells": [
  {
   "cell_type": "code",
   "execution_count": 10,
   "id": "d5fe5b85",
   "metadata": {},
   "outputs": [],
   "source": [
    "from binance.client import Client\n",
    "import pandas as pd"
   ]
  },
  {
   "cell_type": "code",
   "execution_count": 53,
   "id": "107c464c",
   "metadata": {},
   "outputs": [
    {
     "data": {
      "text/plain": [
       "'I3SQm1Wy4PueYdqIm8dBY5EQTZbN08awRieafAU24U6aRLKILGDX3FxnB66ESm6i'"
      ]
     },
     "execution_count": 53,
     "metadata": {},
     "output_type": "execute_result"
    }
   ],
   "source": [
    "api_key = \"dLgGHojVxEF3ulipNtYNSh4wKacDnZjkzOhR5sbx431ditIjgF7iqbbLniAFmUQ6\"\n",
    "secret_key = pd.read_table(\"secret_key.txt\").columns[0]"
   ]
  },
  {
   "cell_type": "code",
   "execution_count": 54,
   "id": "e9fb9bdd",
   "metadata": {},
   "outputs": [],
   "source": [
    "client = Client(api_key = api_key, api_secret = secret_key, tld = \"com\")"
   ]
  },
  {
   "cell_type": "code",
   "execution_count": 55,
   "id": "58fb4a30",
   "metadata": {},
   "outputs": [
    {
     "data": {
      "text/plain": [
       "<binance.client.Client at 0x1658abdc0>"
      ]
     },
     "execution_count": 55,
     "metadata": {},
     "output_type": "execute_result"
    }
   ],
   "source": [
    "client"
   ]
  },
  {
   "cell_type": "code",
   "execution_count": 56,
   "id": "a244f323",
   "metadata": {},
   "outputs": [
    {
     "data": {
      "text/plain": [
       "{}"
      ]
     },
     "execution_count": 56,
     "metadata": {},
     "output_type": "execute_result"
    }
   ],
   "source": [
    "client.ping()"
   ]
  },
  {
   "cell_type": "code",
   "execution_count": 57,
   "id": "5d38e717",
   "metadata": {},
   "outputs": [
    {
     "data": {
      "text/plain": [
       "{'status': 0, 'msg': 'normal'}"
      ]
     },
     "execution_count": 57,
     "metadata": {},
     "output_type": "execute_result"
    }
   ],
   "source": [
    "client.get_system_status()"
   ]
  },
  {
   "cell_type": "code",
   "execution_count": 58,
   "id": "0274ffa4",
   "metadata": {},
   "outputs": [
    {
     "data": {
      "text/plain": [
       "{'makerCommission': 10,\n",
       " 'takerCommission': 10,\n",
       " 'buyerCommission': 0,\n",
       " 'sellerCommission': 0,\n",
       " 'commissionRates': {'maker': '0.00100000',\n",
       "  'taker': '0.00100000',\n",
       "  'buyer': '0.00000000',\n",
       "  'seller': '0.00000000'},\n",
       " 'canTrade': True,\n",
       " 'canWithdraw': True,\n",
       " 'canDeposit': True,\n",
       " 'brokered': False,\n",
       " 'requireSelfTradePrevention': False,\n",
       " 'updateTime': 1685071800434,\n",
       " 'accountType': 'SPOT',\n",
       " 'balances': [{'asset': 'BTC', 'free': '0.00046953', 'locked': '0.00000000'},\n",
       "  {'asset': 'LTC', 'free': '0.00000000', 'locked': '0.00000000'},\n",
       "  {'asset': 'ETH', 'free': '0.00000000', 'locked': '0.00000000'},\n",
       "  {'asset': 'NEO', 'free': '0.00000000', 'locked': '0.00000000'},\n",
       "  {'asset': 'BNB', 'free': '0.03997000', 'locked': '0.00000000'},\n",
       "  {'asset': 'QTUM', 'free': '0.00000000', 'locked': '0.00000000'},\n",
       "  {'asset': 'EOS', 'free': '0.00000000', 'locked': '0.00000000'},\n",
       "  {'asset': 'SNT', 'free': '0.00000000', 'locked': '0.00000000'},\n",
       "  {'asset': 'BNT', 'free': '0.00000000', 'locked': '0.00000000'},\n",
       "  {'asset': 'GAS', 'free': '0.00000000', 'locked': '0.00000000'},\n",
       "  {'asset': 'BCC', 'free': '0.00000000', 'locked': '0.00000000'},\n",
       "  {'asset': 'USDT', 'free': '0.02714204', 'locked': '0.00000000'},\n",
       "  {'asset': 'HSR', 'free': '0.00000000', 'locked': '0.00000000'},\n",
       "  {'asset': 'OAX', 'free': '0.00000000', 'locked': '0.00000000'},\n",
       "  {'asset': 'DNT', 'free': '0.00000000', 'locked': '0.00000000'},\n",
       "  {'asset': 'MCO', 'free': '0.00000000', 'locked': '0.00000000'},\n",
       "  {'asset': 'ICN', 'free': '0.00000000', 'locked': '0.00000000'},\n",
       "  {'asset': 'ZRX', 'free': '0.00000000', 'locked': '0.00000000'},\n",
       "  {'asset': 'OMG', 'free': '0.00000000', 'locked': '0.00000000'},\n",
       "  {'asset': 'WTC', 'free': '0.00000000', 'locked': '0.00000000'},\n",
       "  {'asset': 'YOYO', 'free': '0.00000000', 'locked': '0.00000000'},\n",
       "  {'asset': 'LRC', 'free': '0.00000000', 'locked': '0.00000000'},\n",
       "  {'asset': 'TRX', 'free': '0.00000000', 'locked': '0.00000000'},\n",
       "  {'asset': 'SNGLS', 'free': '0.00000000', 'locked': '0.00000000'},\n",
       "  {'asset': 'STRAT', 'free': '0.00000000', 'locked': '0.00000000'},\n",
       "  {'asset': 'BQX', 'free': '0.00000000', 'locked': '0.00000000'},\n",
       "  {'asset': 'FUN', 'free': '0.00000000', 'locked': '0.00000000'},\n",
       "  {'asset': 'KNC', 'free': '0.00000000', 'locked': '0.00000000'},\n",
       "  {'asset': 'CDT', 'free': '0.00000000', 'locked': '0.00000000'},\n",
       "  {'asset': 'XVG', 'free': '0.00000000', 'locked': '0.00000000'},\n",
       "  {'asset': 'IOTA', 'free': '0.00000000', 'locked': '0.00000000'},\n",
       "  {'asset': 'SNM', 'free': '0.00000000', 'locked': '0.00000000'},\n",
       "  {'asset': 'LINK', 'free': '0.00000000', 'locked': '0.00000000'},\n",
       "  {'asset': 'CVC', 'free': '0.00000000', 'locked': '0.00000000'},\n",
       "  {'asset': 'TNT', 'free': '0.00000000', 'locked': '0.00000000'},\n",
       "  {'asset': 'REP', 'free': '0.00000000', 'locked': '0.00000000'},\n",
       "  {'asset': 'MDA', 'free': '0.00000000', 'locked': '0.00000000'},\n",
       "  {'asset': 'MTL', 'free': '0.00000000', 'locked': '0.00000000'},\n",
       "  {'asset': 'SALT', 'free': '0.00000000', 'locked': '0.00000000'},\n",
       "  {'asset': 'NULS', 'free': '0.00000000', 'locked': '0.00000000'},\n",
       "  {'asset': 'SUB', 'free': '0.00000000', 'locked': '0.00000000'},\n",
       "  {'asset': 'STX', 'free': '0.00000000', 'locked': '0.00000000'},\n",
       "  {'asset': 'MTH', 'free': '0.00000000', 'locked': '0.00000000'},\n",
       "  {'asset': 'ADX', 'free': '0.00000000', 'locked': '0.00000000'},\n",
       "  {'asset': 'ETC', 'free': '0.00000000', 'locked': '0.00000000'},\n",
       "  {'asset': 'ENG', 'free': '0.00000000', 'locked': '0.00000000'},\n",
       "  {'asset': 'ZEC', 'free': '0.00000000', 'locked': '0.00000000'},\n",
       "  {'asset': 'AST', 'free': '0.00000000', 'locked': '0.00000000'},\n",
       "  {'asset': 'GNT', 'free': '0.00000000', 'locked': '0.00000000'},\n",
       "  {'asset': 'DGD', 'free': '0.00000000', 'locked': '0.00000000'},\n",
       "  {'asset': 'BAT', 'free': '0.00000000', 'locked': '0.00000000'},\n",
       "  {'asset': 'DASH', 'free': '0.00000000', 'locked': '0.00000000'},\n",
       "  {'asset': 'POWR', 'free': '0.00000000', 'locked': '0.00000000'},\n",
       "  {'asset': 'BTG', 'free': '0.00000000', 'locked': '0.00000000'},\n",
       "  {'asset': 'REQ', 'free': '0.00000000', 'locked': '0.00000000'},\n",
       "  {'asset': 'XMR', 'free': '0.00000000', 'locked': '0.00000000'},\n",
       "  {'asset': 'EVX', 'free': '0.00000000', 'locked': '0.00000000'},\n",
       "  {'asset': 'VIB', 'free': '0.00000000', 'locked': '0.00000000'},\n",
       "  {'asset': 'ENJ', 'free': '0.00000000', 'locked': '0.00000000'},\n",
       "  {'asset': 'VEN', 'free': '0.00000000', 'locked': '0.00000000'},\n",
       "  {'asset': 'ARK', 'free': '0.00000000', 'locked': '0.00000000'},\n",
       "  {'asset': 'XRP', 'free': '0.00000000', 'locked': '0.00000000'},\n",
       "  {'asset': 'MOD', 'free': '0.00000000', 'locked': '0.00000000'},\n",
       "  {'asset': 'STORJ', 'free': '0.00000000', 'locked': '0.00000000'},\n",
       "  {'asset': 'KMD', 'free': '0.00000000', 'locked': '0.00000000'},\n",
       "  {'asset': 'RCN', 'free': '0.00000000', 'locked': '0.00000000'},\n",
       "  {'asset': 'EDO', 'free': '0.00000000', 'locked': '0.00000000'},\n",
       "  {'asset': 'DATA', 'free': '0.00000000', 'locked': '0.00000000'},\n",
       "  {'asset': 'DLT', 'free': '0.00000000', 'locked': '0.00000000'},\n",
       "  {'asset': 'MANA', 'free': '0.00000000', 'locked': '0.00000000'},\n",
       "  {'asset': 'PPT', 'free': '0.00000000', 'locked': '0.00000000'},\n",
       "  {'asset': 'RDN', 'free': '0.00000000', 'locked': '0.00000000'},\n",
       "  {'asset': 'GXS', 'free': '0.00000000', 'locked': '0.00000000'},\n",
       "  {'asset': 'AMB', 'free': '0.00000000', 'locked': '0.00000000'},\n",
       "  {'asset': 'ARN', 'free': '0.00000000', 'locked': '0.00000000'},\n",
       "  {'asset': 'BCPT', 'free': '0.00000000', 'locked': '0.00000000'},\n",
       "  {'asset': 'CND', 'free': '0.00000000', 'locked': '0.00000000'},\n",
       "  {'asset': 'GVT', 'free': '0.00000000', 'locked': '0.00000000'},\n",
       "  {'asset': 'POE', 'free': '0.00000000', 'locked': '0.00000000'},\n",
       "  {'asset': 'BTS', 'free': '0.00000000', 'locked': '0.00000000'},\n",
       "  {'asset': 'FUEL', 'free': '0.00000000', 'locked': '0.00000000'},\n",
       "  {'asset': 'XZC', 'free': '0.00000000', 'locked': '0.00000000'},\n",
       "  {'asset': 'QSP', 'free': '0.00000000', 'locked': '0.00000000'},\n",
       "  {'asset': 'LSK', 'free': '0.00000000', 'locked': '0.00000000'},\n",
       "  {'asset': 'BCD', 'free': '0.00000000', 'locked': '0.00000000'},\n",
       "  {'asset': 'TNB', 'free': '0.00000000', 'locked': '0.00000000'},\n",
       "  {'asset': 'ADA', 'free': '0.00000000', 'locked': '0.00000000'},\n",
       "  {'asset': 'LEND', 'free': '0.00000000', 'locked': '0.00000000'},\n",
       "  {'asset': 'XLM', 'free': '0.00000000', 'locked': '0.00000000'},\n",
       "  {'asset': 'CMT', 'free': '0.00000000', 'locked': '0.00000000'},\n",
       "  {'asset': 'WAVES', 'free': '0.00000000', 'locked': '0.00000000'},\n",
       "  {'asset': 'WABI', 'free': '0.00000000', 'locked': '0.00000000'},\n",
       "  {'asset': 'GTO', 'free': '0.00000000', 'locked': '0.00000000'},\n",
       "  {'asset': 'ICX', 'free': '0.00000000', 'locked': '0.00000000'},\n",
       "  {'asset': 'OST', 'free': '0.00000000', 'locked': '0.00000000'},\n",
       "  {'asset': 'ELF', 'free': '0.00000000', 'locked': '0.00000000'},\n",
       "  {'asset': 'AION', 'free': '0.00000000', 'locked': '0.00000000'},\n",
       "  {'asset': 'WINGS', 'free': '0.00000000', 'locked': '0.00000000'},\n",
       "  {'asset': 'BRD', 'free': '0.00000000', 'locked': '0.00000000'},\n",
       "  {'asset': 'NEBL', 'free': '0.00000000', 'locked': '0.00000000'},\n",
       "  {'asset': 'NAV', 'free': '0.00000000', 'locked': '0.00000000'},\n",
       "  {'asset': 'VIBE', 'free': '0.00000000', 'locked': '0.00000000'},\n",
       "  {'asset': 'LUN', 'free': '0.00000000', 'locked': '0.00000000'},\n",
       "  {'asset': 'TRIG', 'free': '0.00000000', 'locked': '0.00000000'},\n",
       "  {'asset': 'APPC', 'free': '0.00000000', 'locked': '0.00000000'},\n",
       "  {'asset': 'CHAT', 'free': '0.00000000', 'locked': '0.00000000'},\n",
       "  {'asset': 'RLC', 'free': '0.00000000', 'locked': '0.00000000'},\n",
       "  {'asset': 'INS', 'free': '0.00000000', 'locked': '0.00000000'},\n",
       "  {'asset': 'PIVX', 'free': '0.00000000', 'locked': '0.00000000'},\n",
       "  {'asset': 'IOST', 'free': '0.00000000', 'locked': '0.00000000'},\n",
       "  {'asset': 'STEEM', 'free': '0.00000000', 'locked': '0.00000000'},\n",
       "  {'asset': 'NANO', 'free': '0.00000000', 'locked': '0.00000000'},\n",
       "  {'asset': 'AE', 'free': '0.00000000', 'locked': '0.00000000'},\n",
       "  {'asset': 'VIA', 'free': '0.00000000', 'locked': '0.00000000'},\n",
       "  {'asset': 'BLZ', 'free': '0.00000000', 'locked': '0.00000000'},\n",
       "  {'asset': 'SYS', 'free': '0.00000000', 'locked': '0.00000000'},\n",
       "  {'asset': 'RPX', 'free': '0.00000000', 'locked': '0.00000000'},\n",
       "  {'asset': 'NCASH', 'free': '0.00000000', 'locked': '0.00000000'},\n",
       "  {'asset': 'POA', 'free': '0.00000000', 'locked': '0.00000000'},\n",
       "  {'asset': 'ONT', 'free': '0.00000000', 'locked': '0.00000000'},\n",
       "  {'asset': 'ZIL', 'free': '0.00000000', 'locked': '0.00000000'},\n",
       "  {'asset': 'STORM', 'free': '0.00000000', 'locked': '0.00000000'},\n",
       "  {'asset': 'XEM', 'free': '0.00000000', 'locked': '0.00000000'},\n",
       "  {'asset': 'WAN', 'free': '0.00000000', 'locked': '0.00000000'},\n",
       "  {'asset': 'WPR', 'free': '0.00000000', 'locked': '0.00000000'},\n",
       "  {'asset': 'QLC', 'free': '0.00000000', 'locked': '0.00000000'},\n",
       "  {'asset': 'GRS', 'free': '0.00000000', 'locked': '0.00000000'},\n",
       "  {'asset': 'CLOAK', 'free': '0.00000000', 'locked': '0.00000000'},\n",
       "  {'asset': 'LOOM', 'free': '0.00000000', 'locked': '0.00000000'},\n",
       "  {'asset': 'BCN', 'free': '0.00000000', 'locked': '0.00000000'},\n",
       "  {'asset': 'TUSD', 'free': '0.00000000', 'locked': '0.00000000'},\n",
       "  {'asset': 'ZEN', 'free': '0.00000000', 'locked': '0.00000000'},\n",
       "  {'asset': 'SKY', 'free': '0.00000000', 'locked': '0.00000000'},\n",
       "  {'asset': 'THETA', 'free': '0.00000000', 'locked': '0.00000000'},\n",
       "  {'asset': 'IOTX', 'free': '0.00000000', 'locked': '0.00000000'},\n",
       "  {'asset': 'QKC', 'free': '0.00000000', 'locked': '0.00000000'},\n",
       "  {'asset': 'AGI', 'free': '0.00000000', 'locked': '0.00000000'},\n",
       "  {'asset': 'NXS', 'free': '0.00000000', 'locked': '0.00000000'},\n",
       "  {'asset': 'SC', 'free': '0.00000000', 'locked': '0.00000000'},\n",
       "  {'asset': 'NPXS', 'free': '0.00000000', 'locked': '0.00000000'},\n",
       "  {'asset': 'KEY', 'free': '0.00000000', 'locked': '0.00000000'},\n",
       "  {'asset': 'NAS', 'free': '0.00000000', 'locked': '0.00000000'},\n",
       "  {'asset': 'MFT', 'free': '0.00000000', 'locked': '0.00000000'},\n",
       "  {'asset': 'DENT', 'free': '0.00000000', 'locked': '0.00000000'},\n",
       "  {'asset': 'IQ', 'free': '0.00000000', 'locked': '0.00000000'},\n",
       "  {'asset': 'ARDR', 'free': '0.00000000', 'locked': '0.00000000'},\n",
       "  {'asset': 'HOT', 'free': '0.00000000', 'locked': '0.00000000'},\n",
       "  {'asset': 'VET', 'free': '0.00000000', 'locked': '0.00000000'},\n",
       "  {'asset': 'DOCK', 'free': '0.00000000', 'locked': '0.00000000'},\n",
       "  {'asset': 'POLY', 'free': '0.00000000', 'locked': '0.00000000'},\n",
       "  {'asset': 'VTHO', 'free': '0.00000000', 'locked': '0.00000000'},\n",
       "  {'asset': 'ONG', 'free': '0.00000000', 'locked': '0.00000000'},\n",
       "  {'asset': 'PHX', 'free': '0.00000000', 'locked': '0.00000000'},\n",
       "  {'asset': 'HC', 'free': '0.00000000', 'locked': '0.00000000'},\n",
       "  {'asset': 'GO', 'free': '0.00000000', 'locked': '0.00000000'},\n",
       "  {'asset': 'PAX', 'free': '0.00000000', 'locked': '0.00000000'},\n",
       "  {'asset': 'RVN', 'free': '0.00000000', 'locked': '0.00000000'},\n",
       "  {'asset': 'DCR', 'free': '0.00000000', 'locked': '0.00000000'},\n",
       "  {'asset': 'USDC', 'free': '0.00000000', 'locked': '0.00000000'},\n",
       "  {'asset': 'MITH', 'free': '0.00000000', 'locked': '0.00000000'},\n",
       "  {'asset': 'BCHABC', 'free': '0.00000000', 'locked': '0.00000000'},\n",
       "  {'asset': 'BCHSV', 'free': '0.00000000', 'locked': '0.00000000'},\n",
       "  {'asset': 'REN', 'free': '0.00000000', 'locked': '0.00000000'},\n",
       "  {'asset': 'BTT', 'free': '0.00000000', 'locked': '0.00000000'},\n",
       "  {'asset': 'USDS', 'free': '0.00000000', 'locked': '0.00000000'},\n",
       "  {'asset': 'FET', 'free': '0.00000000', 'locked': '0.00000000'},\n",
       "  {'asset': 'TFUEL', 'free': '0.00000000', 'locked': '0.00000000'},\n",
       "  {'asset': 'CELR', 'free': '0.00000000', 'locked': '0.00000000'},\n",
       "  {'asset': 'MATIC', 'free': '0.00000000', 'locked': '0.00000000'},\n",
       "  {'asset': 'ATOM', 'free': '0.00000000', 'locked': '0.00000000'},\n",
       "  {'asset': 'PHB', 'free': '0.00000000', 'locked': '0.00000000'},\n",
       "  {'asset': 'ONE', 'free': '0.00000000', 'locked': '0.00000000'},\n",
       "  {'asset': 'FTM', 'free': '0.00000000', 'locked': '0.00000000'},\n",
       "  {'asset': 'BTCB', 'free': '0.00000000', 'locked': '0.00000000'},\n",
       "  {'asset': 'USDSB', 'free': '0.00000000', 'locked': '0.00000000'},\n",
       "  {'asset': 'CHZ', 'free': '0.00000000', 'locked': '0.00000000'},\n",
       "  {'asset': 'COS', 'free': '0.00000000', 'locked': '0.00000000'},\n",
       "  {'asset': 'ALGO', 'free': '0.00000000', 'locked': '0.00000000'},\n",
       "  {'asset': 'ERD', 'free': '0.00000000', 'locked': '0.00000000'},\n",
       "  {'asset': 'DOGE', 'free': '0.00000000', 'locked': '0.00000000'},\n",
       "  {'asset': 'BGBP', 'free': '0.00000000', 'locked': '0.00000000'},\n",
       "  {'asset': 'DUSK', 'free': '0.00000000', 'locked': '0.00000000'},\n",
       "  {'asset': 'ANKR', 'free': '0.00000000', 'locked': '0.00000000'},\n",
       "  {'asset': 'WIN', 'free': '0.00000000', 'locked': '0.00000000'},\n",
       "  {'asset': 'TUSDB', 'free': '0.00000000', 'locked': '0.00000000'},\n",
       "  {'asset': 'COCOS', 'free': '0.00000000', 'locked': '0.00000000'},\n",
       "  {'asset': 'PERL', 'free': '0.00000000', 'locked': '0.00000000'},\n",
       "  {'asset': 'TOMO', 'free': '0.00000000', 'locked': '0.00000000'},\n",
       "  {'asset': 'BUSD', 'free': '0.00000000', 'locked': '0.00000000'},\n",
       "  {'asset': 'BAND', 'free': '0.00000000', 'locked': '0.00000000'},\n",
       "  {'asset': 'BEAM', 'free': '0.00000000', 'locked': '0.00000000'},\n",
       "  {'asset': 'HBAR', 'free': '0.00000000', 'locked': '0.00000000'},\n",
       "  {'asset': 'XTZ', 'free': '0.00000000', 'locked': '0.00000000'},\n",
       "  {'asset': 'NGN', 'free': '0.00000000', 'locked': '0.00000000'},\n",
       "  {'asset': 'DGB', 'free': '0.00000000', 'locked': '0.00000000'},\n",
       "  {'asset': 'NKN', 'free': '0.00000000', 'locked': '0.00000000'},\n",
       "  {'asset': 'GBP', 'free': '0.00000000', 'locked': '0.00000000'},\n",
       "  {'asset': 'EUR', 'free': '0.00000000', 'locked': '0.00000000'},\n",
       "  {'asset': 'KAVA', 'free': '0.00000000', 'locked': '0.00000000'},\n",
       "  {'asset': 'RUB', 'free': '0.00000000', 'locked': '0.00000000'},\n",
       "  {'asset': 'UAH', 'free': '0.00000000', 'locked': '0.00000000'},\n",
       "  {'asset': 'ARPA', 'free': '0.00000000', 'locked': '0.00000000'},\n",
       "  {'asset': 'TRY', 'free': '0.00000000', 'locked': '0.00000000'},\n",
       "  {'asset': 'CTXC', 'free': '0.00000000', 'locked': '0.00000000'},\n",
       "  {'asset': 'AERGO', 'free': '0.00000000', 'locked': '0.00000000'},\n",
       "  {'asset': 'BCH', 'free': '0.00000000', 'locked': '0.00000000'},\n",
       "  {'asset': 'TROY', 'free': '0.00000000', 'locked': '0.00000000'},\n",
       "  {'asset': 'ARS', 'free': '0.00000000', 'locked': '0.00000000'},\n",
       "  {'asset': 'BRL', 'free': '0.00000000', 'locked': '0.00000000'},\n",
       "  {'asset': 'VITE', 'free': '0.00000000', 'locked': '0.00000000'},\n",
       "  {'asset': 'FTT', 'free': '0.00000000', 'locked': '0.00000000'},\n",
       "  {'asset': 'PLN', 'free': '0.00000000', 'locked': '0.00000000'},\n",
       "  {'asset': 'RON', 'free': '0.00000000', 'locked': '0.00000000'},\n",
       "  {'asset': 'AUD', 'free': '0.00000000', 'locked': '0.00000000'},\n",
       "  {'asset': 'OGN', 'free': '0.00000000', 'locked': '0.00000000'},\n",
       "  {'asset': 'DREP', 'free': '0.00000000', 'locked': '0.00000000'},\n",
       "  {'asset': 'BULL', 'free': '0.00000000', 'locked': '0.00000000'},\n",
       "  {'asset': 'BEAR', 'free': '0.00000000', 'locked': '0.00000000'},\n",
       "  {'asset': 'ETHBULL', 'free': '0.00000000', 'locked': '0.00000000'},\n",
       "  {'asset': 'ETHBEAR', 'free': '0.00000000', 'locked': '0.00000000'},\n",
       "  {'asset': 'XRPBULL', 'free': '0.00000000', 'locked': '0.00000000'},\n",
       "  {'asset': 'XRPBEAR', 'free': '0.00000000', 'locked': '0.00000000'},\n",
       "  {'asset': 'EOSBULL', 'free': '0.00000000', 'locked': '0.00000000'},\n",
       "  {'asset': 'EOSBEAR', 'free': '0.00000000', 'locked': '0.00000000'},\n",
       "  {'asset': 'TCT', 'free': '0.00000000', 'locked': '0.00000000'},\n",
       "  {'asset': 'WRX', 'free': '0.00000000', 'locked': '0.00000000'},\n",
       "  {'asset': 'LTO', 'free': '0.00000000', 'locked': '0.00000000'},\n",
       "  {'asset': 'ZAR', 'free': '0.00000000', 'locked': '0.00000000'},\n",
       "  {'asset': 'MBL', 'free': '0.00000000', 'locked': '0.00000000'},\n",
       "  {'asset': 'COTI', 'free': '0.00000000', 'locked': '0.00000000'},\n",
       "  {'asset': 'BKRW', 'free': '0.00000000', 'locked': '0.00000000'},\n",
       "  {'asset': 'BNBBULL', 'free': '0.00000000', 'locked': '0.00000000'},\n",
       "  {'asset': 'BNBBEAR', 'free': '0.00000000', 'locked': '0.00000000'},\n",
       "  {'asset': 'HIVE', 'free': '0.00000000', 'locked': '0.00000000'},\n",
       "  {'asset': 'STPT', 'free': '0.00000000', 'locked': '0.00000000'},\n",
       "  {'asset': 'SOL', 'free': '0.00000000', 'locked': '0.00000000'},\n",
       "  {'asset': 'IDRT', 'free': '0.00', 'locked': '0.00'},\n",
       "  {'asset': 'CTSI', 'free': '0.00000000', 'locked': '0.00000000'},\n",
       "  {'asset': 'CHR', 'free': '0.00000000', 'locked': '0.00000000'},\n",
       "  {'asset': 'BTCUP', 'free': '0.00000000', 'locked': '0.00000000'},\n",
       "  {'asset': 'BTCDOWN', 'free': '0.00000000', 'locked': '0.00000000'},\n",
       "  {'asset': 'HNT', 'free': '0.00000000', 'locked': '0.00000000'},\n",
       "  {'asset': 'JST', 'free': '0.00000000', 'locked': '0.00000000'},\n",
       "  {'asset': 'FIO', 'free': '0.00000000', 'locked': '0.00000000'},\n",
       "  {'asset': 'BIDR', 'free': '0.00', 'locked': '0.00'},\n",
       "  {'asset': 'STMX', 'free': '0.00000000', 'locked': '0.00000000'},\n",
       "  {'asset': 'MDT', 'free': '0.00000000', 'locked': '0.00000000'},\n",
       "  {'asset': 'PNT', 'free': '0.00000000', 'locked': '0.00000000'},\n",
       "  {'asset': 'COMP', 'free': '0.00000000', 'locked': '0.00000000'},\n",
       "  {'asset': 'IRIS', 'free': '0.00000000', 'locked': '0.00000000'},\n",
       "  {'asset': 'MKR', 'free': '0.00000000', 'locked': '0.00000000'},\n",
       "  {'asset': 'SXP', 'free': '0.00000000', 'locked': '0.00000000'},\n",
       "  {'asset': 'SNX', 'free': '0.00000000', 'locked': '0.00000000'},\n",
       "  {'asset': 'DAI', 'free': '0.00000000', 'locked': '0.00000000'},\n",
       "  {'asset': 'ETHUP', 'free': '0.00000000', 'locked': '0.00000000'},\n",
       "  {'asset': 'ETHDOWN', 'free': '0.00000000', 'locked': '0.00000000'},\n",
       "  {'asset': 'ADAUP', 'free': '0.00000000', 'locked': '0.00000000'},\n",
       "  {'asset': 'ADADOWN', 'free': '0.00000000', 'locked': '0.00000000'},\n",
       "  {'asset': 'LINKUP', 'free': '0.00000000', 'locked': '0.00000000'},\n",
       "  {'asset': 'LINKDOWN', 'free': '0.00000000', 'locked': '0.00000000'},\n",
       "  {'asset': 'DOT', 'free': '0.00000000', 'locked': '0.00000000'},\n",
       "  {'asset': 'RUNE', 'free': '0.00000000', 'locked': '0.00000000'},\n",
       "  {'asset': 'BNBUP', 'free': '0.00000000', 'locked': '0.00000000'},\n",
       "  {'asset': 'BNBDOWN', 'free': '0.00000000', 'locked': '0.00000000'},\n",
       "  {'asset': 'XTZUP', 'free': '0.00000000', 'locked': '0.00000000'},\n",
       "  {'asset': 'XTZDOWN', 'free': '0.00000000', 'locked': '0.00000000'},\n",
       "  {'asset': 'AVA', 'free': '0.00000000', 'locked': '0.00000000'},\n",
       "  {'asset': 'BAL', 'free': '0.00000000', 'locked': '0.00000000'},\n",
       "  {'asset': 'YFI', 'free': '0.00000000', 'locked': '0.00000000'},\n",
       "  {'asset': 'SRM', 'free': '0.00000000', 'locked': '0.00000000'},\n",
       "  {'asset': 'ANT', 'free': '0.00000000', 'locked': '0.00000000'},\n",
       "  {'asset': 'CRV', 'free': '0.00000000', 'locked': '0.00000000'},\n",
       "  {'asset': 'SAND', 'free': '0.00000000', 'locked': '0.00000000'},\n",
       "  {'asset': 'OCEAN', 'free': '0.00000000', 'locked': '0.00000000'},\n",
       "  {'asset': 'NMR', 'free': '0.00000000', 'locked': '0.00000000'},\n",
       "  {'asset': 'LUNA', 'free': '0.00000000', 'locked': '0.00000000'},\n",
       "  {'asset': 'IDEX', 'free': '0.00000000', 'locked': '0.00000000'},\n",
       "  {'asset': 'RSR', 'free': '0.00000000', 'locked': '0.00000000'},\n",
       "  {'asset': 'PAXG', 'free': '0.00000000', 'locked': '0.00000000'},\n",
       "  {'asset': 'WNXM', 'free': '0.00000000', 'locked': '0.00000000'},\n",
       "  {'asset': 'TRB', 'free': '0.00000000', 'locked': '0.00000000'},\n",
       "  {'asset': 'EGLD', 'free': '0.00000000', 'locked': '0.00000000'},\n",
       "  {'asset': 'BZRX', 'free': '0.00000000', 'locked': '0.00000000'},\n",
       "  {'asset': 'WBTC', 'free': '0.00000000', 'locked': '0.00000000'},\n",
       "  {'asset': 'KSM', 'free': '0.00000000', 'locked': '0.00000000'},\n",
       "  {'asset': 'SUSHI', 'free': '0.00000000', 'locked': '0.00000000'},\n",
       "  {'asset': 'YFII', 'free': '0.00000000', 'locked': '0.00000000'},\n",
       "  {'asset': 'DIA', 'free': '0.00000000', 'locked': '0.00000000'},\n",
       "  {'asset': 'BEL', 'free': '0.00000000', 'locked': '0.00000000'},\n",
       "  {'asset': 'UMA', 'free': '0.00000000', 'locked': '0.00000000'},\n",
       "  {'asset': 'EOSUP', 'free': '0.00000000', 'locked': '0.00000000'},\n",
       "  {'asset': 'TRXUP', 'free': '0.00000000', 'locked': '0.00000000'},\n",
       "  {'asset': 'EOSDOWN', 'free': '0.00000000', 'locked': '0.00000000'},\n",
       "  {'asset': 'TRXDOWN', 'free': '0.00000000', 'locked': '0.00000000'},\n",
       "  {'asset': 'XRPUP', 'free': '0.00000000', 'locked': '0.00000000'},\n",
       "  {'asset': 'XRPDOWN', 'free': '0.00000000', 'locked': '0.00000000'},\n",
       "  {'asset': 'DOTUP', 'free': '0.00000000', 'locked': '0.00000000'},\n",
       "  {'asset': 'DOTDOWN', 'free': '0.00000000', 'locked': '0.00000000'},\n",
       "  {'asset': 'NBS', 'free': '0.00000000', 'locked': '0.00000000'},\n",
       "  {'asset': 'WING', 'free': '0.00000000', 'locked': '0.00000000'},\n",
       "  {'asset': 'SWRV', 'free': '0.00000000', 'locked': '0.00000000'},\n",
       "  {'asset': 'LTCUP', 'free': '0.00000000', 'locked': '0.00000000'},\n",
       "  {'asset': 'LTCDOWN', 'free': '0.00000000', 'locked': '0.00000000'},\n",
       "  {'asset': 'CREAM', 'free': '0.00000000', 'locked': '0.00000000'},\n",
       "  {'asset': 'UNI', 'free': '0.00000000', 'locked': '0.00000000'},\n",
       "  {'asset': 'OXT', 'free': '0.00000000', 'locked': '0.00000000'},\n",
       "  {'asset': 'SUN', 'free': '0.00000000', 'locked': '0.00000000'},\n",
       "  {'asset': 'AVAX', 'free': '0.00000000', 'locked': '0.00000000'},\n",
       "  {'asset': 'BURGER', 'free': '0.00000000', 'locked': '0.00000000'},\n",
       "  {'asset': 'BAKE', 'free': '0.00000000', 'locked': '0.00000000'},\n",
       "  {'asset': 'FLM', 'free': '0.00000000', 'locked': '0.00000000'},\n",
       "  {'asset': 'SCRT', 'free': '0.00000000', 'locked': '0.00000000'},\n",
       "  {'asset': 'XVS', 'free': '0.00000000', 'locked': '0.00000000'},\n",
       "  {'asset': 'CAKE', 'free': '0.00000000', 'locked': '0.00000000'},\n",
       "  {'asset': 'SPARTA', 'free': '0.00000000', 'locked': '0.00000000'},\n",
       "  {'asset': 'UNIUP', 'free': '0.00000000', 'locked': '0.00000000'},\n",
       "  {'asset': 'UNIDOWN', 'free': '0.00000000', 'locked': '0.00000000'},\n",
       "  {'asset': 'ALPHA', 'free': '0.00000000', 'locked': '0.00000000'},\n",
       "  {'asset': 'ORN', 'free': '0.00000000', 'locked': '0.00000000'},\n",
       "  {'asset': 'UTK', 'free': '0.00000000', 'locked': '0.00000000'},\n",
       "  {'asset': 'NEAR', 'free': '0.00000000', 'locked': '0.00000000'},\n",
       "  {'asset': 'VIDT', 'free': '0.00000000', 'locked': '0.00000000'},\n",
       "  {'asset': 'AAVE', 'free': '0.00000000', 'locked': '0.00000000'},\n",
       "  {'asset': 'FIL', 'free': '0.00000000', 'locked': '0.00000000'},\n",
       "  {'asset': 'SXPUP', 'free': '0.00000000', 'locked': '0.00000000'},\n",
       "  {'asset': 'SXPDOWN', 'free': '0.00000000', 'locked': '0.00000000'},\n",
       "  {'asset': 'INJ', 'free': '0.00000000', 'locked': '0.00000000'},\n",
       "  {'asset': 'FILDOWN', 'free': '0.00000000', 'locked': '0.00000000'},\n",
       "  {'asset': 'FILUP', 'free': '0.00000000', 'locked': '0.00000000'},\n",
       "  {'asset': 'YFIUP', 'free': '0.00000000', 'locked': '0.00000000'},\n",
       "  {'asset': 'YFIDOWN', 'free': '0.00000000', 'locked': '0.00000000'},\n",
       "  {'asset': 'CTK', 'free': '0.00000000', 'locked': '0.00000000'},\n",
       "  {'asset': 'EASY', 'free': '0.00000000', 'locked': '0.00000000'},\n",
       "  {'asset': 'AUDIO', 'free': '0.00000000', 'locked': '0.00000000'},\n",
       "  {'asset': 'BCHUP', 'free': '0.00000000', 'locked': '0.00000000'},\n",
       "  {'asset': 'BCHDOWN', 'free': '0.00000000', 'locked': '0.00000000'},\n",
       "  {'asset': 'BOT', 'free': '0.00000000', 'locked': '0.00000000'},\n",
       "  {'asset': 'AXS', 'free': '0.00000000', 'locked': '0.00000000'},\n",
       "  {'asset': 'AKRO', 'free': '0.00000000', 'locked': '0.00000000'},\n",
       "  {'asset': 'HARD', 'free': '0.00000000', 'locked': '0.00000000'},\n",
       "  {'asset': 'KP3R', 'free': '0.00000000', 'locked': '0.00000000'},\n",
       "  {'asset': 'RENBTC', 'free': '0.00000000', 'locked': '0.00000000'},\n",
       "  {'asset': 'SLP', 'free': '0.00000000', 'locked': '0.00000000'},\n",
       "  {'asset': 'STRAX', 'free': '0.00000000', 'locked': '0.00000000'},\n",
       "  {'asset': 'UNFI', 'free': '0.00000000', 'locked': '0.00000000'},\n",
       "  {'asset': 'CVP', 'free': '0.00000000', 'locked': '0.00000000'},\n",
       "  {'asset': 'BCHA', 'free': '0.00000000', 'locked': '0.00000000'},\n",
       "  {'asset': 'FOR', 'free': '0.00000000', 'locked': '0.00000000'},\n",
       "  {'asset': 'FRONT', 'free': '0.00000000', 'locked': '0.00000000'},\n",
       "  {'asset': 'ROSE', 'free': '0.00000000', 'locked': '0.00000000'},\n",
       "  {'asset': 'MDX', 'free': '0.00000000', 'locked': '0.00000000'},\n",
       "  {'asset': 'HEGIC', 'free': '0.00000000', 'locked': '0.00000000'},\n",
       "  {'asset': 'AAVEUP', 'free': '0.00000000', 'locked': '0.00000000'},\n",
       "  {'asset': 'AAVEDOWN', 'free': '0.00000000', 'locked': '0.00000000'},\n",
       "  {'asset': 'PROM', 'free': '0.00000000', 'locked': '0.00000000'},\n",
       "  {'asset': 'BETH', 'free': '0.00000000', 'locked': '0.00000000'},\n",
       "  {'asset': 'SKL', 'free': '0.00000000', 'locked': '0.00000000'},\n",
       "  {'asset': 'GLM', 'free': '0.00000000', 'locked': '0.00000000'},\n",
       "  {'asset': 'SUSD', 'free': '0.00000000', 'locked': '0.00000000'},\n",
       "  {'asset': 'COVER', 'free': '0.00000000', 'locked': '0.00000000'},\n",
       "  {'asset': 'GHST', 'free': '0.00000000', 'locked': '0.00000000'},\n",
       "  {'asset': 'SUSHIUP', 'free': '0.00000000', 'locked': '0.00000000'},\n",
       "  {'asset': 'SUSHIDOWN', 'free': '0.00000000', 'locked': '0.00000000'},\n",
       "  {'asset': 'XLMUP', 'free': '0.00000000', 'locked': '0.00000000'},\n",
       "  {'asset': 'XLMDOWN', 'free': '0.00000000', 'locked': '0.00000000'},\n",
       "  {'asset': 'DF', 'free': '0.00000000', 'locked': '0.00000000'},\n",
       "  {'asset': 'JUV', 'free': '0.00000000', 'locked': '0.00000000'},\n",
       "  {'asset': 'PSG', 'free': '0.00000000', 'locked': '0.00000000'},\n",
       "  {'asset': 'BVND', 'free': '0.00', 'locked': '0.00'},\n",
       "  {'asset': 'GRT', 'free': '0.00000000', 'locked': '0.00000000'},\n",
       "  {'asset': 'CELO', 'free': '0.00000000', 'locked': '0.00000000'},\n",
       "  {'asset': 'TWT', 'free': '0.00000000', 'locked': '0.00000000'},\n",
       "  {'asset': 'REEF', 'free': '0.00000000', 'locked': '0.00000000'},\n",
       "  {'asset': 'OG', 'free': '0.00000000', 'locked': '0.00000000'},\n",
       "  {'asset': 'ATM', 'free': '0.00000000', 'locked': '0.00000000'},\n",
       "  {'asset': 'ASR', 'free': '0.00000000', 'locked': '0.00000000'},\n",
       "  {'asset': '1INCH', 'free': '0.00000000', 'locked': '0.00000000'},\n",
       "  {'asset': 'RIF', 'free': '0.00000000', 'locked': '0.00000000'},\n",
       "  {'asset': 'BTCST', 'free': '0.00000000', 'locked': '0.00000000'},\n",
       "  {'asset': 'TRU', 'free': '0.00000000', 'locked': '0.00000000'},\n",
       "  {'asset': 'DEXE', 'free': '0.00000000', 'locked': '0.00000000'},\n",
       "  {'asset': 'CKB', 'free': '0.00000000', 'locked': '0.00000000'},\n",
       "  {'asset': 'FIRO', 'free': '0.00000000', 'locked': '0.00000000'},\n",
       "  {'asset': 'LIT', 'free': '0.00000000', 'locked': '0.00000000'},\n",
       "  {'asset': 'PROS', 'free': '0.00000000', 'locked': '0.00000000'},\n",
       "  {'asset': 'VAI', 'free': '0.00000000', 'locked': '0.00000000'},\n",
       "  {'asset': 'SFP', 'free': '0.00000000', 'locked': '0.00000000'},\n",
       "  {'asset': 'FXS', 'free': '0.00000000', 'locked': '0.00000000'},\n",
       "  {'asset': 'DODO', 'free': '0.00000000', 'locked': '0.00000000'},\n",
       "  {'asset': 'AUCTION', 'free': '0.00000000', 'locked': '0.00000000'},\n",
       "  {'asset': 'UFT', 'free': '0.00000000', 'locked': '0.00000000'},\n",
       "  {'asset': 'ACM', 'free': '0.00000000', 'locked': '0.00000000'},\n",
       "  {'asset': 'PHA', 'free': '0.00000000', 'locked': '0.00000000'},\n",
       "  {'asset': 'TVK', 'free': '0.00000000', 'locked': '0.00000000'},\n",
       "  {'asset': 'BADGER', 'free': '0.00000000', 'locked': '0.00000000'},\n",
       "  {'asset': 'FIS', 'free': '0.00000000', 'locked': '0.00000000'},\n",
       "  {'asset': 'QI', 'free': '0.00000000', 'locked': '0.00000000'},\n",
       "  {'asset': 'OM', 'free': '0.00000000', 'locked': '0.00000000'},\n",
       "  {'asset': 'POND', 'free': '0.00000000', 'locked': '0.00000000'},\n",
       "  {'asset': 'ALICE', 'free': '0.00000000', 'locked': '0.00000000'},\n",
       "  {'asset': 'DEGO', 'free': '0.00000000', 'locked': '0.00000000'},\n",
       "  {'asset': 'BIFI', 'free': '0.00000000', 'locked': '0.00000000'},\n",
       "  {'asset': 'LINA', 'free': '0.00000000', 'locked': '0.00000000'},\n",
       "  {'asset': 'PERP', 'free': '0.00000000', 'locked': '0.00000000'},\n",
       "  {'asset': 'RAMP', 'free': '0.00000000', 'locked': '0.00000000'},\n",
       "  {'asset': 'SUPER', 'free': '0.00000000', 'locked': '0.00000000'},\n",
       "  {'asset': 'CFX', 'free': '0.00000000', 'locked': '0.00000000'},\n",
       "  {'asset': 'TKO', 'free': '0.00000000', 'locked': '0.00000000'},\n",
       "  {'asset': 'AUTO', 'free': '0.00000000', 'locked': '0.00000000'},\n",
       "  {'asset': 'EPS', 'free': '0.00000000', 'locked': '0.00000000'},\n",
       "  {'asset': 'PUNDIX', 'free': '0.00000000', 'locked': '0.00000000'},\n",
       "  {'asset': 'TLM', 'free': '0.00000000', 'locked': '0.00000000'},\n",
       "  {'asset': '1INCHUP', 'free': '0.00000000', 'locked': '0.00000000'},\n",
       "  {'asset': '1INCHDOWN', 'free': '0.00000000', 'locked': '0.00000000'},\n",
       "  {'asset': 'MIR', 'free': '0.00000000', 'locked': '0.00000000'},\n",
       "  {'asset': 'BAR', 'free': '0.00000000', 'locked': '0.00000000'},\n",
       "  {'asset': 'FORTH', 'free': '0.00000000', 'locked': '0.00000000'},\n",
       "  {'asset': 'EZ', 'free': '0.00000000', 'locked': '0.00000000'},\n",
       "  {'asset': 'AR', 'free': '0.00000000', 'locked': '0.00000000'},\n",
       "  {'asset': 'ICP', 'free': '0.00000000', 'locked': '0.00000000'},\n",
       "  {'asset': 'SHIB', 'free': '0.00', 'locked': '0.00'},\n",
       "  {'asset': 'POLS', 'free': '0.00000000', 'locked': '0.00000000'},\n",
       "  {'asset': 'MASK', 'free': '0.00000000', 'locked': '0.00000000'},\n",
       "  {'asset': 'LPT', 'free': '0.00000000', 'locked': '0.00000000'},\n",
       "  {'asset': 'AGIX', 'free': '0.00000000', 'locked': '0.00000000'},\n",
       "  {'asset': 'ATA', 'free': '0.00000000', 'locked': '0.00000000'},\n",
       "  {'asset': 'NU', 'free': '0.00000000', 'locked': '0.00000000'},\n",
       "  {'asset': 'GTC', 'free': '0.00000000', 'locked': '0.00000000'},\n",
       "  {'asset': 'KLAY', 'free': '0.00000000', 'locked': '0.00000000'},\n",
       "  {'asset': 'TORN', 'free': '0.00000000', 'locked': '0.00000000'},\n",
       "  {'asset': 'KEEP', 'free': '0.00000000', 'locked': '0.00000000'},\n",
       "  {'asset': 'ERN', 'free': '0.00000000', 'locked': '0.00000000'},\n",
       "  {'asset': 'BOND', 'free': '0.00000000', 'locked': '0.00000000'},\n",
       "  {'asset': 'MLN', 'free': '0.00000000', 'locked': '0.00000000'},\n",
       "  {'asset': 'C98', 'free': '0.00000000', 'locked': '0.00000000'},\n",
       "  {'asset': 'FLOW', 'free': '0.00000000', 'locked': '0.00000000'},\n",
       "  {'asset': 'QUICK', 'free': '0.00000000', 'locked': '0.00000000'},\n",
       "  {'asset': 'RAY', 'free': '0.00000000', 'locked': '0.00000000'},\n",
       "  {'asset': 'MINA', 'free': '0.00000000', 'locked': '0.00000000'},\n",
       "  {'asset': 'QNT', 'free': '0.00000000', 'locked': '0.00000000'},\n",
       "  {'asset': 'CLV', 'free': '0.00000000', 'locked': '0.00000000'},\n",
       "  {'asset': 'XEC', 'free': '0.00', 'locked': '0.00'},\n",
       "  {'asset': 'ALPACA', 'free': '0.00000000', 'locked': '0.00000000'},\n",
       "  {'asset': 'FARM', 'free': '0.00000000', 'locked': '0.00000000'},\n",
       "  {'asset': 'VGX', 'free': '0.00000000', 'locked': '0.00000000'},\n",
       "  {'asset': 'MBOX', 'free': '0.00000000', 'locked': '0.00000000'},\n",
       "  {'asset': 'WAXP', 'free': '0.00000000', 'locked': '0.00000000'},\n",
       "  {'asset': 'TRIBE', 'free': '0.00000000', 'locked': '0.00000000'},\n",
       "  {'asset': 'GNO', 'free': '0.00000000', 'locked': '0.00000000'},\n",
       "  {'asset': 'USDP', 'free': '0.00000000', 'locked': '0.00000000'},\n",
       "  {'asset': 'DYDX', 'free': '0.00000000', 'locked': '0.00000000'},\n",
       "  {'asset': 'GALA', 'free': '0.00000000', 'locked': '0.00000000'},\n",
       "  {'asset': 'ILV', 'free': '0.00000000', 'locked': '0.00000000'},\n",
       "  {'asset': 'YGG', 'free': '0.00000000', 'locked': '0.00000000'},\n",
       "  {'asset': 'FIDA', 'free': '0.00000000', 'locked': '0.00000000'},\n",
       "  {'asset': 'AGLD', 'free': '0.00000000', 'locked': '0.00000000'},\n",
       "  {'asset': 'BETA', 'free': '0.00000000', 'locked': '0.00000000'},\n",
       "  {'asset': 'RAD', 'free': '0.00000000', 'locked': '0.00000000'},\n",
       "  {'asset': 'RARE', 'free': '0.00000000', 'locked': '0.00000000'},\n",
       "  {'asset': 'SSV', 'free': '0.00000000', 'locked': '0.00000000'},\n",
       "  {'asset': 'LAZIO', 'free': '0.00000000', 'locked': '0.00000000'},\n",
       "  {'asset': 'MOVR', 'free': '0.00000000', 'locked': '0.00000000'},\n",
       "  {'asset': 'CHESS', 'free': '0.00000000', 'locked': '0.00000000'},\n",
       "  {'asset': 'DAR', 'free': '0.00000000', 'locked': '0.00000000'},\n",
       "  {'asset': 'ACA', 'free': '0.00000000', 'locked': '0.00000000'},\n",
       "  {'asset': 'ASTR', 'free': '0.00000000', 'locked': '0.00000000'},\n",
       "  {'asset': 'BNX', 'free': '0.00000000', 'locked': '0.00000000'},\n",
       "  {'asset': 'RGT', 'free': '0.00000000', 'locked': '0.00000000'},\n",
       "  {'asset': 'CITY', 'free': '0.00000000', 'locked': '0.00000000'},\n",
       "  {'asset': 'ENS', 'free': '0.00000000', 'locked': '0.00000000'},\n",
       "  {'asset': 'PORTO', 'free': '0.00000000', 'locked': '0.00000000'},\n",
       "  {'asset': 'JASMY', 'free': '0.00000000', 'locked': '0.00000000'},\n",
       "  {'asset': 'AMP', 'free': '0.00000000', 'locked': '0.00000000'},\n",
       "  {'asset': 'PLA', 'free': '0.00000000', 'locked': '0.00000000'},\n",
       "  {'asset': 'PYR', 'free': '0.00000000', 'locked': '0.00000000'},\n",
       "  {'asset': 'SANTOS', 'free': '0.00000000', 'locked': '0.00000000'},\n",
       "  {'asset': 'RNDR', 'free': '0.00000000', 'locked': '0.00000000'},\n",
       "  {'asset': 'ALCX', 'free': '0.00000000', 'locked': '0.00000000'},\n",
       "  {'asset': 'MC', 'free': '0.00000000', 'locked': '0.00000000'},\n",
       "  {'asset': 'ANY', 'free': '0.00000000', 'locked': '0.00000000'},\n",
       "  {'asset': 'VOXEL', 'free': '0.00000000', 'locked': '0.00000000'},\n",
       "  {'asset': 'BICO', 'free': '0.00000000', 'locked': '0.00000000'},\n",
       "  {'asset': 'FLUX', 'free': '0.00000000', 'locked': '0.00000000'},\n",
       "  {'asset': 'UST', 'free': '0.00000000', 'locked': '0.00000000'},\n",
       "  {'asset': 'HIGH', 'free': '0.00000000', 'locked': '0.00000000'},\n",
       "  {'asset': 'OOKI', 'free': '0.00000000', 'locked': '0.00000000'},\n",
       "  {'asset': 'CVX', 'free': '0.00000000', 'locked': '0.00000000'},\n",
       "  {'asset': 'PEOPLE', 'free': '0.00000000', 'locked': '0.00000000'},\n",
       "  {'asset': 'SPELL', 'free': '0.00000000', 'locked': '0.00000000'},\n",
       "  {'asset': 'JOE', 'free': '0.00000000', 'locked': '0.00000000'},\n",
       "  {'asset': 'BDOT', 'free': '0.00000000', 'locked': '0.00000000'},\n",
       "  {'asset': 'GLMR', 'free': '0.00000000', 'locked': '0.00000000'},\n",
       "  {'asset': 'ACH', 'free': '0.00000000', 'locked': '0.00000000'},\n",
       "  {'asset': 'IMX', 'free': '0.00000000', 'locked': '0.00000000'},\n",
       "  {'asset': 'LOKA', 'free': '0.00000000', 'locked': '0.00000000'},\n",
       "  {'asset': 'BTTC', 'free': '0.0', 'locked': '0.0'},\n",
       "  {'asset': 'ANC', 'free': '0.00000000', 'locked': '0.00000000'},\n",
       "  {'asset': 'API3', 'free': '0.00000000', 'locked': '0.00000000'},\n",
       "  {'asset': 'XNO', 'free': '0.00000000', 'locked': '0.00000000'},\n",
       "  {'asset': 'WOO', 'free': '0.00000000', 'locked': '0.00000000'},\n",
       "  {'asset': 'ALPINE', 'free': '0.00000000', 'locked': '0.00000000'},\n",
       "  {'asset': 'T', 'free': '0.00000000', 'locked': '0.00000000'},\n",
       "  {'asset': 'NBT', 'free': '0.00000000', 'locked': '0.00000000'},\n",
       "  {'asset': 'KDA', 'free': '0.00000000', 'locked': '0.00000000'},\n",
       "  {'asset': 'APE', 'free': '0.00000000', 'locked': '0.00000000'},\n",
       "  {'asset': 'GMT', 'free': '0.00000000', 'locked': '0.00000000'},\n",
       "  {'asset': 'MOB', 'free': '0.00000000', 'locked': '0.00000000'},\n",
       "  {'asset': 'BSW', 'free': '0.00000000', 'locked': '0.00000000'},\n",
       "  {'asset': 'MULTI', 'free': '0.00000000', 'locked': '0.00000000'},\n",
       "  {'asset': 'REI', 'free': '0.00000000', 'locked': '0.00000000'},\n",
       "  {'asset': 'GAL', 'free': '0.00000000', 'locked': '0.00000000'},\n",
       "  {'asset': 'NEXO', 'free': '0.00000000', 'locked': '0.00000000'},\n",
       "  {'asset': 'EPX', 'free': '0.00000000', 'locked': '0.00000000'},\n",
       "  {'asset': 'LDO', 'free': '0.00000000', 'locked': '0.00000000'},\n",
       "  {'asset': 'USTC', 'free': '0.00000000', 'locked': '0.00000000'},\n",
       "  {'asset': 'LUNC', 'free': '0.00000000', 'locked': '0.00000000'},\n",
       "  {'asset': 'OP', 'free': '0.00000000', 'locked': '0.00000000'},\n",
       "  {'asset': 'LEVER', 'free': '0.00000000', 'locked': '0.00000000'},\n",
       "  {'asset': 'STG', 'free': '0.00000000', 'locked': '0.00000000'},\n",
       "  {'asset': 'POLYX', 'free': '0.00000000', 'locked': '0.00000000'},\n",
       "  {'asset': 'GMX', 'free': '0.00000000', 'locked': '0.00000000'},\n",
       "  {'asset': 'APT', 'free': '0.00000000', 'locked': '0.00000000'},\n",
       "  {'asset': 'OSMO', 'free': '0.00000000', 'locked': '0.00000000'},\n",
       "  {'asset': 'HFT', 'free': '0.00000000', 'locked': '0.00000000'},\n",
       "  {'asset': 'HOOK', 'free': '0.00000000', 'locked': '0.00000000'},\n",
       "  {'asset': 'MAGIC', 'free': '0.00000000', 'locked': '0.00000000'},\n",
       "  {'asset': 'HIFI', 'free': '0.00000000', 'locked': '0.00000000'},\n",
       "  {'asset': 'RPL', 'free': '0.00000000', 'locked': '0.00000000'},\n",
       "  {'asset': 'GFT', 'free': '0.00000000', 'locked': '0.00000000'},\n",
       "  {'asset': 'GNS', 'free': '0.00000000', 'locked': '0.00000000'},\n",
       "  {'asset': 'SYN', 'free': '0.00000000', 'locked': '0.00000000'},\n",
       "  {'asset': 'LQTY', 'free': '0.00000000', 'locked': '0.00000000'},\n",
       "  {'asset': 'ID', 'free': '0.00000000', 'locked': '0.00000000'},\n",
       "  {'asset': 'ARB', 'free': '0.00000000', 'locked': '0.00000000'},\n",
       "  {'asset': 'RDNT', 'free': '0.00000000', 'locked': '0.00000000'},\n",
       "  {'asset': 'EDU', 'free': '0.00000000', 'locked': '0.00000000'},\n",
       "  {'asset': 'WBETH', 'free': '0.00000000', 'locked': '0.00000000'},\n",
       "  {'asset': 'SUI', 'free': '0.00000000', 'locked': '0.00000000'},\n",
       "  {'asset': 'PEPE', 'free': '0.00', 'locked': '0.00'},\n",
       "  {'asset': 'FLOKI', 'free': '0.00', 'locked': '0.00'}],\n",
       " 'permissions': ['SPOT']}"
      ]
     },
     "execution_count": 58,
     "metadata": {},
     "output_type": "execute_result"
    }
   ],
   "source": [
    "account = client.get_account()\n",
    "account"
   ]
  },
  {
   "cell_type": "code",
   "execution_count": 17,
   "id": "dff58692",
   "metadata": {},
   "outputs": [
    {
     "ename": "NameError",
     "evalue": "name 'account' is not defined",
     "output_type": "error",
     "traceback": [
      "\u001b[0;31m---------------------------------------------------------------------------\u001b[0m",
      "\u001b[0;31mNameError\u001b[0m                                 Traceback (most recent call last)",
      "Cell \u001b[0;32mIn[17], line 1\u001b[0m\n\u001b[0;32m----> 1\u001b[0m \u001b[43maccount\u001b[49m[\u001b[38;5;124m\"\u001b[39m\u001b[38;5;124maccountType\u001b[39m\u001b[38;5;124m\"\u001b[39m]\n",
      "\u001b[0;31mNameError\u001b[0m: name 'account' is not defined"
     ]
    }
   ],
   "source": [
    "account[\"accountType\"]"
   ]
  },
  {
   "cell_type": "code",
   "execution_count": 18,
   "id": "8c622a82",
   "metadata": {},
   "outputs": [
    {
     "ename": "NameError",
     "evalue": "name 'account' is not defined",
     "output_type": "error",
     "traceback": [
      "\u001b[0;31m---------------------------------------------------------------------------\u001b[0m",
      "\u001b[0;31mNameError\u001b[0m                                 Traceback (most recent call last)",
      "Cell \u001b[0;32mIn[18], line 1\u001b[0m\n\u001b[0;32m----> 1\u001b[0m pd\u001b[38;5;241m.\u001b[39mto_datetime(\u001b[43maccount\u001b[49m[\u001b[38;5;124m\"\u001b[39m\u001b[38;5;124mupdateTime\u001b[39m\u001b[38;5;124m\"\u001b[39m], unit\u001b[38;5;241m=\u001b[39m\u001b[38;5;124m\"\u001b[39m\u001b[38;5;124mms\u001b[39m\u001b[38;5;124m\"\u001b[39m)\n",
      "\u001b[0;31mNameError\u001b[0m: name 'account' is not defined"
     ]
    }
   ],
   "source": [
    "pd.to_datetime(account[\"updateTime\"], unit=\"ms\")"
   ]
  },
  {
   "cell_type": "code",
   "execution_count": null,
   "id": "40ccd0d4",
   "metadata": {},
   "outputs": [],
   "source": [
    "account[\"balances\"]"
   ]
  },
  {
   "cell_type": "code",
   "execution_count": null,
   "id": "81faa2f0",
   "metadata": {},
   "outputs": [],
   "source": [
    "df = pd.DataFrame(account[\"balances\"])\n",
    "df"
   ]
  },
  {
   "cell_type": "code",
   "execution_count": null,
   "id": "0506c1e4",
   "metadata": {},
   "outputs": [],
   "source": [
    "df.info()"
   ]
  },
  {
   "cell_type": "code",
   "execution_count": null,
   "id": "11f2b890",
   "metadata": {},
   "outputs": [],
   "source": [
    "df.free = pd.to_numeric(df.free, errors=\"coerce\")\n",
    "df.locked = pd.to_numeric(df.locked, errors=\"coerce\")"
   ]
  },
  {
   "cell_type": "code",
   "execution_count": null,
   "id": "d8264925",
   "metadata": {},
   "outputs": [],
   "source": [
    "df.loc[df.free > 0]"
   ]
  },
  {
   "cell_type": "code",
   "execution_count": null,
   "id": "0b33ed1c",
   "metadata": {},
   "outputs": [],
   "source": [
    "client.get_asset_balance(asset=\"BTC\")"
   ]
  },
  {
   "cell_type": "code",
   "execution_count": null,
   "id": "eb142218",
   "metadata": {},
   "outputs": [],
   "source": [
    "client.get_asset_balance(asset=\"ETH\")"
   ]
  },
  {
   "cell_type": "code",
   "execution_count": null,
   "id": "3f358451",
   "metadata": {},
   "outputs": [],
   "source": [
    "float(client.get_asset_balance(asset=\"EUR\")[\"free\"])"
   ]
  },
  {
   "cell_type": "code",
   "execution_count": null,
   "id": "3e2d2c38",
   "metadata": {},
   "outputs": [],
   "source": [
    "snap = client.get_account_snapshot(type=\"SPOT\")\n",
    "snap"
   ]
  },
  {
   "cell_type": "code",
   "execution_count": null,
   "id": "cd29b824",
   "metadata": {
    "scrolled": true
   },
   "outputs": [],
   "source": [
    "snap = pd.json_normalize(snap[\"snapshotVos\"])\n",
    "snap"
   ]
  },
  {
   "cell_type": "code",
   "execution_count": null,
   "id": "5952a555",
   "metadata": {},
   "outputs": [],
   "source": [
    "snap.updateTime = pd.to_datetime(snap[\"updateTime\"], unit=\"ms\")\n",
    "snap"
   ]
  },
  {
   "cell_type": "code",
   "execution_count": null,
   "id": "1f25ee54",
   "metadata": {},
   "outputs": [],
   "source": [
    "client.get_exchange_info()[\"rateLimits\"]"
   ]
  },
  {
   "cell_type": "code",
   "execution_count": null,
   "id": "7994608e",
   "metadata": {},
   "outputs": [],
   "source": [
    "client.get_all_coins_info()"
   ]
  },
  {
   "cell_type": "code",
   "execution_count": null,
   "id": "b530ce3b",
   "metadata": {},
   "outputs": [],
   "source": [
    "coins = pd.DataFrame(client.get_all_coins_info())\n",
    "coins"
   ]
  },
  {
   "cell_type": "code",
   "execution_count": null,
   "id": "3db74653",
   "metadata": {
    "scrolled": true
   },
   "outputs": [],
   "source": [
    "coins.loc[coins.coin == 'BTC']"
   ]
  },
  {
   "cell_type": "code",
   "execution_count": null,
   "id": "f0ccfc5a",
   "metadata": {
    "scrolled": true
   },
   "outputs": [],
   "source": [
    "coins.loc[coins.coin == 'EUR']"
   ]
  },
  {
   "cell_type": "markdown",
   "id": "1f8198ee",
   "metadata": {},
   "source": [
    "## 현재 시장정보 얻기"
   ]
  },
  {
   "cell_type": "code",
   "execution_count": null,
   "id": "6ff0a51b",
   "metadata": {},
   "outputs": [],
   "source": [
    "client.get_trade_fee(symbol = \"BTCUSDT\")"
   ]
  },
  {
   "cell_type": "code",
   "execution_count": null,
   "id": "a98b0065",
   "metadata": {},
   "outputs": [],
   "source": [
    "client.get_trade_fee(symbol = \"BTCEUR\")"
   ]
  },
  {
   "cell_type": "code",
   "execution_count": null,
   "id": "0ea6bd2a",
   "metadata": {},
   "outputs": [],
   "source": [
    "client.get_trade_fee(symbol = \"BUSDUSDT\")"
   ]
  },
  {
   "cell_type": "code",
   "execution_count": null,
   "id": "bb6476e6",
   "metadata": {},
   "outputs": [],
   "source": [
    "client.get_symbol_info(symbol = \"BTCEUR\")"
   ]
  },
  {
   "cell_type": "code",
   "execution_count": null,
   "id": "66e7f784",
   "metadata": {},
   "outputs": [],
   "source": [
    "client.get_symbol_ticker(symbol = \"BTCUSDT\")"
   ]
  },
  {
   "cell_type": "code",
   "execution_count": null,
   "id": "09709eb2",
   "metadata": {},
   "outputs": [],
   "source": [
    "float(client.get_symbol_ticker(symbol = \"BTCUSDT\")[\"price\"])"
   ]
  },
  {
   "cell_type": "code",
   "execution_count": null,
   "id": "b7040019",
   "metadata": {},
   "outputs": [],
   "source": [
    "client.get_avg_price(symbol = 'BTCUSDT')"
   ]
  },
  {
   "cell_type": "code",
   "execution_count": null,
   "id": "5db58884",
   "metadata": {},
   "outputs": [],
   "source": [
    "prices = client.get_all_tickers()\n",
    "prices"
   ]
  },
  {
   "cell_type": "code",
   "execution_count": null,
   "id": "acf4f607",
   "metadata": {},
   "outputs": [],
   "source": [
    "df = pd.DataFrame(prices)\n",
    "df"
   ]
  },
  {
   "cell_type": "code",
   "execution_count": null,
   "id": "b6632dd5",
   "metadata": {},
   "outputs": [],
   "source": [
    "df[df.symbol.str.contains('ETH')]"
   ]
  },
  {
   "cell_type": "code",
   "execution_count": null,
   "id": "b79fa6db",
   "metadata": {},
   "outputs": [],
   "source": [
    "df[df.symbol.str.contains(\"BTC\") & df.symbol.str.contains(\"USD\")]"
   ]
  },
  {
   "cell_type": "code",
   "execution_count": null,
   "id": "5abc7f88",
   "metadata": {},
   "outputs": [],
   "source": [
    "df[df.symbol.str.contains(\"BTC\") & df.symbol.str.contains(\"EUR\")]"
   ]
  },
  {
   "cell_type": "code",
   "execution_count": null,
   "id": "a9e5bea1",
   "metadata": {},
   "outputs": [],
   "source": [
    "last24 = client.get_ticker(symbol = 'BTCUSDT')\n",
    "last24"
   ]
  },
  {
   "cell_type": "code",
   "execution_count": null,
   "id": "be3eae4f",
   "metadata": {},
   "outputs": [],
   "source": [
    "last24[\"openTime\"]"
   ]
  },
  {
   "cell_type": "code",
   "execution_count": null,
   "id": "03272bd2",
   "metadata": {},
   "outputs": [],
   "source": [
    "pd.to_datetime(last24[\"openTime\"], unit=\"ms\")"
   ]
  },
  {
   "cell_type": "code",
   "execution_count": null,
   "id": "72b2b8a1",
   "metadata": {},
   "outputs": [],
   "source": [
    "pd.to_datetime(last24[\"closeTime\"], unit=\"ms\")"
   ]
  },
  {
   "cell_type": "code",
   "execution_count": null,
   "id": "594fff96",
   "metadata": {},
   "outputs": [],
   "source": [
    "open_price = float(last24[\"openPrice\"])\n",
    "open_price"
   ]
  },
  {
   "cell_type": "code",
   "execution_count": null,
   "id": "e7edef16",
   "metadata": {},
   "outputs": [],
   "source": [
    "high_price = float(last24[\"highPrice\"])\n",
    "high_price"
   ]
  },
  {
   "cell_type": "code",
   "execution_count": null,
   "id": "791d2844",
   "metadata": {},
   "outputs": [],
   "source": [
    "low_price = float(last24[\"lowPrice\"])\n",
    "low_price"
   ]
  },
  {
   "cell_type": "code",
   "execution_count": null,
   "id": "0b38c262",
   "metadata": {},
   "outputs": [],
   "source": [
    "close_price = float(last24[\"lastPrice\"])\n",
    "close_price"
   ]
  },
  {
   "cell_type": "code",
   "execution_count": null,
   "id": "9f5fd60b",
   "metadata": {},
   "outputs": [],
   "source": [
    "close_price - open_price"
   ]
  },
  {
   "cell_type": "code",
   "execution_count": null,
   "id": "084122f3",
   "metadata": {},
   "outputs": [],
   "source": [
    "(close_price / open_price - 1) * 100"
   ]
  },
  {
   "cell_type": "markdown",
   "id": "c7bc35a0",
   "metadata": {},
   "source": [
    "## 과거 데이터 가져오기"
   ]
  },
  {
   "cell_type": "code",
   "execution_count": null,
   "id": "1004c1f1",
   "metadata": {},
   "outputs": [],
   "source": [
    "timestamp = client._get_earliest_valid_timestamp(symbol = \"BTCUSDT\", interval=\"1d\")\n",
    "timestamp"
   ]
  },
  {
   "cell_type": "code",
   "execution_count": null,
   "id": "dbf338ae",
   "metadata": {},
   "outputs": [],
   "source": [
    "pd.to_datetime(timestamp, unit=\"ms\")"
   ]
  },
  {
   "cell_type": "code",
   "execution_count": null,
   "id": "5a06e818",
   "metadata": {},
   "outputs": [],
   "source": [
    "bars = client.get_historical_klines(symbol=\"BTCUSDT\", interval=\"1d\", start_str=timestamp, limit=1000)\n",
    "bars"
   ]
  },
  {
   "cell_type": "code",
   "execution_count": null,
   "id": "1c41aeb6",
   "metadata": {},
   "outputs": [],
   "source": [
    "df = pd.DataFrame(bars)\n",
    "df"
   ]
  },
  {
   "cell_type": "code",
   "execution_count": null,
   "id": "66611d2c",
   "metadata": {},
   "outputs": [],
   "source": [
    "df[\"Date\"] = pd.to_datetime(df.iloc[:,0], unit=\"ms\")\n",
    "df"
   ]
  },
  {
   "cell_type": "code",
   "execution_count": null,
   "id": "fd249449",
   "metadata": {},
   "outputs": [],
   "source": [
    "df.columns = [\"Open time\", \"Open\", \"High\", \"Low\", \"Close\",\n",
    "              \"Volume\", \"Close time\", \"Quote asset volume\",\n",
    "              \"Number of trades\", \"Taker buy base asset volume\",\n",
    "              \"Taker buy quote asset volume\", \"Ignore\", \"Date\"]\n",
    "df"
   ]
  },
  {
   "cell_type": "code",
   "execution_count": null,
   "id": "aaa30e67",
   "metadata": {},
   "outputs": [],
   "source": [
    "df = df[[\"Date\", \"Open\", \"High\", \"Low\", \"Close\", \"Volume\"]].copy()\n",
    "df"
   ]
  },
  {
   "cell_type": "code",
   "execution_count": null,
   "id": "1b38cc24",
   "metadata": {},
   "outputs": [],
   "source": [
    "df.set_index(\"Date\", inplace=True)\n",
    "df"
   ]
  },
  {
   "cell_type": "code",
   "execution_count": null,
   "id": "8e307663",
   "metadata": {},
   "outputs": [],
   "source": [
    "df.info()"
   ]
  },
  {
   "cell_type": "code",
   "execution_count": null,
   "id": "74490e1f",
   "metadata": {},
   "outputs": [],
   "source": [
    "for column in df.columns:\n",
    "    df[column] = pd.to_numeric(df[column], errors=\"coerce\")"
   ]
  },
  {
   "cell_type": "code",
   "execution_count": null,
   "id": "9a5c5eb0",
   "metadata": {},
   "outputs": [],
   "source": [
    "df.info()"
   ]
  },
  {
   "cell_type": "code",
   "execution_count": null,
   "id": "46d1d739",
   "metadata": {},
   "outputs": [],
   "source": [
    "df"
   ]
  },
  {
   "cell_type": "code",
   "execution_count": null,
   "id": "e11ce0b4",
   "metadata": {},
   "outputs": [],
   "source": []
  },
  {
   "cell_type": "code",
   "execution_count": null,
   "id": "821d1fc3",
   "metadata": {},
   "outputs": [],
   "source": [
    "def get_history(symbol, interval, start, end = None):\n",
    "    bars = client.get_historical_klines(symbol=symbol, interval = interval,\n",
    "                                        start_str = start, end_str = end, limit = 100)\n",
    "    df = pd.DataFrame(bars)\n",
    "    df[\"Date\"] = pd.to_datetime(df.iloc[:,0], unit = \"ms\")\n",
    "    df.columns = [\"Open time\", \"Open\", \"High\", \"Low\", \"Close\",\n",
    "              \"Volume\", \"Close time\", \"Quote asset volume\",\n",
    "              \"Number of trades\", \"Taker buy base asset volume\",\n",
    "              \"Taker buy quote asset volume\", \"Ignore\", \"Date\"]\n",
    "    df = df[[\"Date\", \"Open\", \"High\", \"Low\", \"Close\", \"Volume\"]].copy()\n",
    "    df.set_index(\"Date\", inplace = True)\n",
    "    for column in df.columns:\n",
    "        df[column] = pd.to_numeric(df[column], errors=\"coerce\")\n",
    "        \n",
    "    return df"
   ]
  },
  {
   "cell_type": "code",
   "execution_count": null,
   "id": "c204f0cb",
   "metadata": {},
   "outputs": [],
   "source": [
    "timestamp"
   ]
  },
  {
   "cell_type": "code",
   "execution_count": null,
   "id": "89e6ce6b",
   "metadata": {},
   "outputs": [],
   "source": [
    "# df = get_history(symbol = \"BTCUSDT\", interval=\"1d\", start = timestamp)\n",
    "# df"
   ]
  },
  {
   "cell_type": "code",
   "execution_count": null,
   "id": "1d5f2e1b",
   "metadata": {},
   "outputs": [],
   "source": [
    "df.info()"
   ]
  },
  {
   "cell_type": "code",
   "execution_count": null,
   "id": "34611986",
   "metadata": {},
   "outputs": [],
   "source": [
    "df = get_history(symbol=\"BTCUSDT\", interval=\"1d\", start=\"2021-01-01\", end=\"2021-06-30\")\n",
    "df"
   ]
  },
  {
   "cell_type": "code",
   "execution_count": null,
   "id": "4902b461",
   "metadata": {},
   "outputs": [],
   "source": [
    "df = get_history(symbol=\"BTCUSDT\", interval=\"1w\", start=\"2021-01-01\", end=\"2021-06-30\")\n",
    "df"
   ]
  },
  {
   "cell_type": "code",
   "execution_count": null,
   "id": "61fa964e",
   "metadata": {},
   "outputs": [],
   "source": [
    "df = get_history(symbol=\"BTCUSDT\", interval=\"1M\", start=\"2021-01-01\", end=\"2021-06-30\")\n",
    "df"
   ]
  },
  {
   "cell_type": "code",
   "execution_count": null,
   "id": "d4562e6e",
   "metadata": {},
   "outputs": [],
   "source": [
    "df = get_history(symbol=\"BTCUSDT\", interval=\"1M\", start=\"2021-01-01\")\n",
    "df"
   ]
  },
  {
   "cell_type": "code",
   "execution_count": null,
   "id": "fd945d2a",
   "metadata": {},
   "outputs": [],
   "source": []
  },
  {
   "cell_type": "code",
   "execution_count": null,
   "id": "22053d46",
   "metadata": {},
   "outputs": [],
   "source": [
    "df = get_history(symbol=\"BTCUSDT\", interval=\"1h\", start=\"2021-10-01\", end=\"2021-10-05\")\n",
    "df"
   ]
  },
  {
   "cell_type": "code",
   "execution_count": null,
   "id": "2c5643de",
   "metadata": {},
   "outputs": [],
   "source": [
    "df = get_history(symbol=\"BTCUSDT\", interval=\"1h\", start=\"2021-10-01 10:00:00\", end=\"2021-10-05 16:00:00\")\n",
    "df"
   ]
  },
  {
   "cell_type": "code",
   "execution_count": null,
   "id": "bbc2de3e",
   "metadata": {},
   "outputs": [],
   "source": [
    "# df = get_history(symbol=\"BTCUSDT\", interval=\"1m\", start=\"2021-10-01 10:29:00\", end=\"2021-10-05 16:55:00\")\n",
    "# df"
   ]
  },
  {
   "cell_type": "code",
   "execution_count": null,
   "id": "d4bc150d",
   "metadata": {},
   "outputs": [],
   "source": [
    "from datetime import datetime, timedelta"
   ]
  },
  {
   "cell_type": "code",
   "execution_count": null,
   "id": "285e595d",
   "metadata": {},
   "outputs": [],
   "source": [
    "now = datetime.utcnow()\n",
    "now"
   ]
  },
  {
   "cell_type": "code",
   "execution_count": null,
   "id": "20cfb186",
   "metadata": {},
   "outputs": [],
   "source": [
    "two_hours_before = now - timedelta(hours = 2)\n",
    "two_hours_before"
   ]
  },
  {
   "cell_type": "code",
   "execution_count": null,
   "id": "83e43591",
   "metadata": {},
   "outputs": [],
   "source": [
    "str(two_hours_before)"
   ]
  },
  {
   "cell_type": "code",
   "execution_count": null,
   "id": "f7dc6e77",
   "metadata": {},
   "outputs": [],
   "source": [
    "df = get_history(symbol=\"BTCUSDT\", interval=\"1m\", start=str(two_hours_before))\n",
    "df"
   ]
  },
  {
   "cell_type": "code",
   "execution_count": null,
   "id": "d1d42262",
   "metadata": {},
   "outputs": [],
   "source": []
  },
  {
   "cell_type": "code",
   "execution_count": null,
   "id": "5d579907",
   "metadata": {},
   "outputs": [],
   "source": [
    "import pandas as pd"
   ]
  },
  {
   "cell_type": "code",
   "execution_count": null,
   "id": "0e256994",
   "metadata": {},
   "outputs": [],
   "source": [
    "url = \"/Users/taemin/python-binance/BTCUSDT-1h-2021-09.csv\"\n",
    "url"
   ]
  },
  {
   "cell_type": "code",
   "execution_count": null,
   "id": "1045a992",
   "metadata": {},
   "outputs": [],
   "source": [
    "df = pd.read_csv(url, header = None)\n",
    "df"
   ]
  },
  {
   "cell_type": "code",
   "execution_count": null,
   "id": "6d242ffb",
   "metadata": {},
   "outputs": [],
   "source": [
    "df[\"Date\"] = pd.to_datetime(df.iloc[:,0], unit = \"ms\")\n",
    "df.columns = [\"Open time\", \"Open\", \"High\", \"Low\", \"Close\",\n",
    "          \"Volume\", \"Close time\", \"Quote asset volume\",\n",
    "          \"Number of trades\", \"Taker buy base asset volume\",\n",
    "          \"Taker buy quote asset volume\", \"Ignore\", \"Date\"]\n",
    "df = df[[\"Date\", \"Open\", \"High\", \"Low\", \"Close\", \"Volume\"]].copy()\n",
    "df.set_index(\"Date\", inplace = True)\n",
    "for column in df.columns:\n",
    "    df[column] = pd.to_numeric(df[column], errors=\"coerce\")\n",
    "df"
   ]
  },
  {
   "cell_type": "code",
   "execution_count": null,
   "id": "c09949b3",
   "metadata": {},
   "outputs": [],
   "source": [
    "df.info()"
   ]
  },
  {
   "cell_type": "markdown",
   "id": "c26f03f5",
   "metadata": {},
   "source": [
    "## 실시간 마켓 데이터"
   ]
  },
  {
   "cell_type": "code",
   "execution_count": null,
   "id": "63599363",
   "metadata": {},
   "outputs": [],
   "source": [
    "import nest_asyncio\n",
    "nest_asyncio.apply()"
   ]
  },
  {
   "cell_type": "code",
   "execution_count": null,
   "id": "f75af3a0",
   "metadata": {},
   "outputs": [],
   "source": [
    "from binance import ThreadedWebsocketManager\n",
    "import pandas as pd"
   ]
  },
  {
   "cell_type": "code",
   "execution_count": null,
   "id": "b9541852",
   "metadata": {},
   "outputs": [],
   "source": [
    "def stream_data(msg):\n",
    "    ''''''\n",
    "    print(msg)"
   ]
  },
  {
   "cell_type": "code",
   "execution_count": null,
   "id": "1b2f71c9",
   "metadata": {
    "scrolled": true
   },
   "outputs": [],
   "source": [
    "twm = ThreadedWebsocketManager()\n",
    "twm.start()"
   ]
  },
  {
   "cell_type": "code",
   "execution_count": null,
   "id": "5df18531",
   "metadata": {},
   "outputs": [],
   "source": [
    "twm"
   ]
  },
  {
   "cell_type": "code",
   "execution_count": null,
   "id": "d418b778",
   "metadata": {},
   "outputs": [],
   "source": [
    "twm.start_symbol_miniticker_socket(callback=stream_data, symbol=\"BTCUSDT\")"
   ]
  },
  {
   "cell_type": "code",
   "execution_count": null,
   "id": "d68dc016",
   "metadata": {},
   "outputs": [],
   "source": [
    "twm.stop()"
   ]
  },
  {
   "cell_type": "code",
   "execution_count": null,
   "id": "7fbcf7ec",
   "metadata": {},
   "outputs": [],
   "source": []
  },
  {
   "cell_type": "code",
   "execution_count": null,
   "id": "8be2eb60",
   "metadata": {},
   "outputs": [],
   "source": [
    "def stream_data(msg):\n",
    "    time = pd.to_datetime(msg[\"E\"], unit=\"ms\")\n",
    "    price = msg[\"c\"]\n",
    "    \n",
    "    print(\"Time: {} | price: {}\".format(time, price))"
   ]
  },
  {
   "cell_type": "code",
   "execution_count": null,
   "id": "a07977a2",
   "metadata": {},
   "outputs": [],
   "source": [
    "twm = ThreadedWebsocketManager()\n",
    "twm.start()"
   ]
  },
  {
   "cell_type": "code",
   "execution_count": null,
   "id": "7f705c33",
   "metadata": {},
   "outputs": [],
   "source": [
    "twm.start_symbol_miniticker_socket(callback=stream_data, symbol=\"BTCUSDT\")"
   ]
  },
  {
   "cell_type": "code",
   "execution_count": null,
   "id": "320b090f",
   "metadata": {},
   "outputs": [],
   "source": [
    "twm.stop()"
   ]
  },
  {
   "cell_type": "code",
   "execution_count": null,
   "id": "d958d120",
   "metadata": {},
   "outputs": [],
   "source": []
  },
  {
   "cell_type": "code",
   "execution_count": null,
   "id": "7457accb",
   "metadata": {},
   "outputs": [],
   "source": [
    "from binance import ThreadedWebsocketManager\n",
    "import pandas as pd"
   ]
  },
  {
   "cell_type": "code",
   "execution_count": null,
   "id": "8f0f23e9",
   "metadata": {},
   "outputs": [],
   "source": [
    "df = pd.DataFrame(columns=[\"Open\", \"High\", \"Low\", \"Close\", \"Volume\", \"Complete\"])\n",
    "df"
   ]
  },
  {
   "cell_type": "code",
   "execution_count": null,
   "id": "a8068411",
   "metadata": {},
   "outputs": [],
   "source": [
    "def stream_candles(msg):\n",
    "    event_time = pd.to_datetime(msg[\"E\"], unit=\"ms\")\n",
    "    start_time = pd.to_datetime(msg[\"k\"][\"t\"], unit=\"ms\")\n",
    "    first = float(msg[\"k\"][\"o\"])\n",
    "    high = float(msg[\"k\"][\"h\"])\n",
    "    low = float(msg[\"k\"][\"l\"])\n",
    "    close = float(msg[\"k\"][\"c\"])\n",
    "    volume = float(msg[\"k\"][\"v\"])\n",
    "    complete = msg[\"k\"][\"x\"]\n",
    "    \n",
    "    print(\"Time: {} | Price: {}\".format(event_time, close))\n",
    "    \n",
    "    df.loc[start_time] = [first, high, low, close, volume, complete]"
   ]
  },
  {
   "cell_type": "code",
   "execution_count": null,
   "id": "b6210b88",
   "metadata": {},
   "outputs": [],
   "source": [
    "twm = ThreadedWebsocketManager()\n",
    "twm.start()"
   ]
  },
  {
   "cell_type": "code",
   "execution_count": null,
   "id": "45bd1744",
   "metadata": {},
   "outputs": [],
   "source": [
    "twm.start_kline_socket(callback=stream_candles, symbol=\"BTCUSDT\", interval=\"1m\")"
   ]
  },
  {
   "cell_type": "code",
   "execution_count": null,
   "id": "425b9968",
   "metadata": {},
   "outputs": [],
   "source": [
    "df"
   ]
  },
  {
   "cell_type": "code",
   "execution_count": null,
   "id": "c149dc7b",
   "metadata": {},
   "outputs": [],
   "source": [
    "twm.stop()"
   ]
  },
  {
   "cell_type": "code",
   "execution_count": null,
   "id": "2ffb544d",
   "metadata": {},
   "outputs": [],
   "source": [
    "df.info()"
   ]
  },
  {
   "cell_type": "code",
   "execution_count": null,
   "id": "dc9e3c70",
   "metadata": {},
   "outputs": [],
   "source": []
  },
  {
   "cell_type": "markdown",
   "id": "624fcea1",
   "metadata": {},
   "source": [
    "## 모의 주문 생성"
   ]
  },
  {
   "cell_type": "code",
   "execution_count": null,
   "id": "17461054",
   "metadata": {},
   "outputs": [],
   "source": [
    "from binance.client import Client"
   ]
  },
  {
   "cell_type": "code",
   "execution_count": null,
   "id": "0eb5f1c8",
   "metadata": {},
   "outputs": [],
   "source": [
    "api_key = \"dLgGHojVxEF3ulipNtYNSh4wKacDnZjkzOhR5sbx431ditIjgF7iqbbLniAFmUQ6\"\n",
    "secret_key = pd.read_table(\"secret_key.txt\").columns[0]"
   ]
  },
  {
   "cell_type": "code",
   "execution_count": null,
   "id": "435a9fd6",
   "metadata": {},
   "outputs": [],
   "source": [
    "client = Client(api_key=api_key, api_secret=secret_key, tld=\"com\")"
   ]
  },
  {
   "cell_type": "code",
   "execution_count": null,
   "id": "6f101bfe",
   "metadata": {},
   "outputs": [],
   "source": [
    "order = client.create_test_order(symbol=\"BTCEUR\", side = \"BUY\", type=\"MARKET\", quantity=0.1)"
   ]
  },
  {
   "cell_type": "code",
   "execution_count": null,
   "id": "71ac4dfc",
   "metadata": {},
   "outputs": [],
   "source": [
    "order"
   ]
  },
  {
   "cell_type": "code",
   "execution_count": null,
   "id": "f715e396",
   "metadata": {},
   "outputs": [],
   "source": []
  }
 ],
 "metadata": {
  "kernelspec": {
   "display_name": "Python 3 (ipykernel)",
   "language": "python",
   "name": "python3"
  },
  "language_info": {
   "codemirror_mode": {
    "name": "ipython",
    "version": 3
   },
   "file_extension": ".py",
   "mimetype": "text/x-python",
   "name": "python",
   "nbconvert_exporter": "python",
   "pygments_lexer": "ipython3",
   "version": "3.10.9"
  }
 },
 "nbformat": 4,
 "nbformat_minor": 5
}
