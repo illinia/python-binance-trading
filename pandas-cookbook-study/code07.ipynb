{
 "cells": [
  {
   "cell_type": "code",
   "execution_count": 1,
   "metadata": {
    "collapsed": true
   },
   "outputs": [],
   "source": [
    "import pandas as pd\n",
    "import numpy as np"
   ]
  },
  {
   "cell_type": "code",
   "execution_count": 2,
   "outputs": [],
   "source": [
    "movie = pd.read_csv(\n",
    "    'data/movie.csv', index_col='movie_title'\n",
    ")"
   ],
   "metadata": {
    "collapsed": false
   }
  },
  {
   "cell_type": "code",
   "execution_count": 3,
   "outputs": [
    {
     "data": {
      "text/plain": "                                            duration\nmovie_title                                         \nAvatar                                         178.0\nPirates of the Caribbean: At World's End       169.0\nSpectre                                        148.0\nThe Dark Knight Rises                          164.0\nStar Wars: Episode VII - The Force Awakens       NaN",
      "text/html": "<div>\n<style scoped>\n    .dataframe tbody tr th:only-of-type {\n        vertical-align: middle;\n    }\n\n    .dataframe tbody tr th {\n        vertical-align: top;\n    }\n\n    .dataframe thead th {\n        text-align: right;\n    }\n</style>\n<table border=\"1\" class=\"dataframe\">\n  <thead>\n    <tr style=\"text-align: right;\">\n      <th></th>\n      <th>duration</th>\n    </tr>\n    <tr>\n      <th>movie_title</th>\n      <th></th>\n    </tr>\n  </thead>\n  <tbody>\n    <tr>\n      <th>Avatar</th>\n      <td>178.0</td>\n    </tr>\n    <tr>\n      <th>Pirates of the Caribbean: At World's End</th>\n      <td>169.0</td>\n    </tr>\n    <tr>\n      <th>Spectre</th>\n      <td>148.0</td>\n    </tr>\n    <tr>\n      <th>The Dark Knight Rises</th>\n      <td>164.0</td>\n    </tr>\n    <tr>\n      <th>Star Wars: Episode VII - The Force Awakens</th>\n      <td>NaN</td>\n    </tr>\n  </tbody>\n</table>\n</div>"
     },
     "execution_count": 3,
     "metadata": {},
     "output_type": "execute_result"
    }
   ],
   "source": [
    "movie[['duration']].head()"
   ],
   "metadata": {
    "collapsed": false
   }
  },
  {
   "cell_type": "code",
   "execution_count": 4,
   "outputs": [],
   "source": [
    "movie_2_hours = movie['duration'] > 120"
   ],
   "metadata": {
    "collapsed": false
   }
  },
  {
   "cell_type": "code",
   "execution_count": 5,
   "outputs": [
    {
     "data": {
      "text/plain": "movie_title\nAvatar                                         True\nPirates of the Caribbean: At World's End       True\nSpectre                                        True\nThe Dark Knight Rises                          True\nStar Wars: Episode VII - The Force Awakens    False\nJohn Carter                                    True\nSpider-Man 3                                   True\nTangled                                       False\nAvengers: Age of Ultron                        True\nHarry Potter and the Half-Blood Prince         True\nName: duration, dtype: bool"
     },
     "execution_count": 5,
     "metadata": {},
     "output_type": "execute_result"
    }
   ],
   "source": [
    "movie_2_hours.head(10)"
   ],
   "metadata": {
    "collapsed": false
   }
  },
  {
   "cell_type": "code",
   "execution_count": 6,
   "outputs": [
    {
     "data": {
      "text/plain": "1039"
     },
     "execution_count": 6,
     "metadata": {},
     "output_type": "execute_result"
    }
   ],
   "source": [
    "movie_2_hours.sum()"
   ],
   "metadata": {
    "collapsed": false
   }
  },
  {
   "cell_type": "code",
   "execution_count": 7,
   "outputs": [
    {
     "data": {
      "text/plain": "21.13506916192026"
     },
     "execution_count": 7,
     "metadata": {},
     "output_type": "execute_result"
    }
   ],
   "source": [
    "movie_2_hours.mean() * 100"
   ],
   "metadata": {
    "collapsed": false
   }
  },
  {
   "cell_type": "code",
   "execution_count": 8,
   "outputs": [
    {
     "data": {
      "text/plain": "21.199755152009793"
     },
     "execution_count": 8,
     "metadata": {},
     "output_type": "execute_result"
    }
   ],
   "source": [
    "movie['duration'].dropna().gt(120).mean() * 100"
   ],
   "metadata": {
    "collapsed": false
   }
  },
  {
   "cell_type": "code",
   "execution_count": 9,
   "outputs": [
    {
     "data": {
      "text/plain": "count      4916\nunique        2\ntop       False\nfreq       3877\nName: duration, dtype: object"
     },
     "execution_count": 9,
     "metadata": {},
     "output_type": "execute_result"
    }
   ],
   "source": [
    "movie_2_hours.describe()"
   ],
   "metadata": {
    "collapsed": false
   }
  },
  {
   "cell_type": "code",
   "execution_count": 10,
   "outputs": [
    {
     "data": {
      "text/plain": "False    0.788649\nTrue     0.211351\nName: duration, dtype: float64"
     },
     "execution_count": 10,
     "metadata": {},
     "output_type": "execute_result"
    }
   ],
   "source": [
    "movie_2_hours.value_counts(normalize=True)"
   ],
   "metadata": {
    "collapsed": false
   }
  },
  {
   "cell_type": "code",
   "execution_count": 11,
   "outputs": [
    {
     "data": {
      "text/plain": "count    4916.000000\nmean        0.211351\nstd         0.408308\nmin         0.000000\n25%         0.000000\n50%         0.000000\n75%         0.000000\nmax         1.000000\nName: duration, dtype: float64"
     },
     "execution_count": 11,
     "metadata": {},
     "output_type": "execute_result"
    }
   ],
   "source": [
    "movie_2_hours.astype(int).describe()"
   ],
   "metadata": {
    "collapsed": false
   }
  },
  {
   "cell_type": "code",
   "execution_count": 12,
   "outputs": [],
   "source": [
    "actors = movie[\n",
    "    ['actor_1_facebook_likes', 'actor_2_facebook_likes']\n",
    "].dropna()"
   ],
   "metadata": {
    "collapsed": false
   }
  },
  {
   "cell_type": "code",
   "execution_count": 13,
   "outputs": [
    {
     "data": {
      "text/plain": "0.9777687130328371"
     },
     "execution_count": 13,
     "metadata": {},
     "output_type": "execute_result"
    }
   ],
   "source": [
    "(actors['actor_1_facebook_likes'] > actors['actor_2_facebook_likes']).mean()"
   ],
   "metadata": {
    "collapsed": false
   }
  },
  {
   "cell_type": "markdown",
   "source": [
    "다중 불리언 조건 구성"
   ],
   "metadata": {
    "collapsed": false
   }
  },
  {
   "cell_type": "code",
   "execution_count": 14,
   "outputs": [],
   "source": [
    "movie = pd.read_csv(\n",
    "    'data/movie.csv', index_col='movie_title'\n",
    ")"
   ],
   "metadata": {
    "collapsed": false
   }
  },
  {
   "cell_type": "code",
   "execution_count": 15,
   "outputs": [],
   "source": [
    "criteria1 = movie.imdb_score > 8"
   ],
   "metadata": {
    "collapsed": false
   }
  },
  {
   "cell_type": "code",
   "execution_count": 16,
   "outputs": [],
   "source": [
    "criteria2 = movie.content_rating == 'PG-13'"
   ],
   "metadata": {
    "collapsed": false
   }
  },
  {
   "cell_type": "code",
   "execution_count": 17,
   "outputs": [],
   "source": [
    "criteria3 = (movie.title_year < 2000) | (movie.title_year > 2009)"
   ],
   "metadata": {
    "collapsed": false
   }
  },
  {
   "cell_type": "code",
   "execution_count": 18,
   "outputs": [],
   "source": [
    "criteria_final = criteria1 & criteria2 & criteria3"
   ],
   "metadata": {
    "collapsed": false
   }
  },
  {
   "cell_type": "code",
   "execution_count": 19,
   "outputs": [
    {
     "data": {
      "text/plain": "movie_title\nAvatar                                        False\nPirates of the Caribbean: At World's End      False\nSpectre                                       False\nThe Dark Knight Rises                          True\nStar Wars: Episode VII - The Force Awakens    False\ndtype: bool"
     },
     "execution_count": 19,
     "metadata": {},
     "output_type": "execute_result"
    }
   ],
   "source": [
    "criteria_final.head()"
   ],
   "metadata": {
    "collapsed": false
   }
  },
  {
   "cell_type": "markdown",
   "source": [
    "불리언 배열을 사용한 필터링"
   ],
   "metadata": {
    "collapsed": false
   }
  },
  {
   "cell_type": "code",
   "execution_count": 20,
   "outputs": [],
   "source": [
    "movie = pd.read_csv(\n",
    "    'data/movie.csv', index_col='movie_title'\n",
    ")"
   ],
   "metadata": {
    "collapsed": false
   }
  },
  {
   "cell_type": "code",
   "execution_count": 21,
   "outputs": [],
   "source": [
    "crit_a1 = movie.imdb_score > 8"
   ],
   "metadata": {
    "collapsed": false
   }
  },
  {
   "cell_type": "code",
   "execution_count": 22,
   "outputs": [],
   "source": [
    "crit_a2 = movie.content_rating == 'PG-13'"
   ],
   "metadata": {
    "collapsed": false
   }
  },
  {
   "cell_type": "code",
   "execution_count": 23,
   "outputs": [],
   "source": [
    "crit_a3 = (movie.title_year < 2000) | (movie.title_year > 2009)"
   ],
   "metadata": {
    "collapsed": false
   }
  },
  {
   "cell_type": "code",
   "execution_count": 24,
   "outputs": [],
   "source": [
    "final_crit_a = crit_a1 & crit_a2 & crit_a3"
   ],
   "metadata": {
    "collapsed": false
   }
  },
  {
   "cell_type": "code",
   "execution_count": 25,
   "outputs": [],
   "source": [
    "crit_b1 = movie.imdb_score < 5"
   ],
   "metadata": {
    "collapsed": false
   }
  },
  {
   "cell_type": "code",
   "execution_count": 26,
   "outputs": [],
   "source": [
    "crit_b2 = movie.content_rating == 'R'"
   ],
   "metadata": {
    "collapsed": false
   }
  },
  {
   "cell_type": "code",
   "execution_count": 27,
   "outputs": [],
   "source": [
    "crit_b3 = (movie.title_year >= 2000) & (movie.title_year <= 2010)"
   ],
   "metadata": {
    "collapsed": false
   }
  },
  {
   "cell_type": "code",
   "execution_count": 28,
   "outputs": [],
   "source": [
    "final_crit_b = crit_b1 & crit_b2 & crit_b3"
   ],
   "metadata": {
    "collapsed": false
   }
  },
  {
   "cell_type": "code",
   "execution_count": 29,
   "outputs": [],
   "source": [
    "final_crit_all = final_crit_a | final_crit_b"
   ],
   "metadata": {
    "collapsed": false
   }
  },
  {
   "cell_type": "code",
   "execution_count": 30,
   "outputs": [
    {
     "data": {
      "text/plain": "movie_title\nAvatar                                        False\nPirates of the Caribbean: At World's End      False\nSpectre                                       False\nThe Dark Knight Rises                          True\nStar Wars: Episode VII - The Force Awakens    False\ndtype: bool"
     },
     "execution_count": 30,
     "metadata": {},
     "output_type": "execute_result"
    }
   ],
   "source": [
    "final_crit_all.head()"
   ],
   "metadata": {
    "collapsed": false
   }
  },
  {
   "cell_type": "code",
   "execution_count": 31,
   "outputs": [
    {
     "data": {
      "text/plain": "                            color      director_name  num_critic_for_reviews  \\\nmovie_title                                                                    \nThe Dark Knight Rises       Color  Christopher Nolan                   813.0   \nThe Avengers                Color        Joss Whedon                   703.0   \nCaptain America: Civil War  Color      Anthony Russo                   516.0   \nGuardians of the Galaxy     Color         James Gunn                   653.0   \nInterstellar                Color  Christopher Nolan                   712.0   \n\n                            duration  director_facebook_likes  \\\nmovie_title                                                     \nThe Dark Knight Rises          164.0                  22000.0   \nThe Avengers                   173.0                      0.0   \nCaptain America: Civil War     147.0                     94.0   \nGuardians of the Galaxy        121.0                    571.0   \nInterstellar                   169.0                  22000.0   \n\n                            actor_3_facebook_likes        actor_2_name  \\\nmovie_title                                                              \nThe Dark Knight Rises                      23000.0      Christian Bale   \nThe Avengers                               19000.0   Robert Downey Jr.   \nCaptain America: Civil War                 11000.0  Scarlett Johansson   \nGuardians of the Galaxy                     3000.0          Vin Diesel   \nInterstellar                                6000.0       Anne Hathaway   \n\n                            actor_1_facebook_likes        gross  \\\nmovie_title                                                       \nThe Dark Knight Rises                      27000.0  448130642.0   \nThe Avengers                               26000.0  623279547.0   \nCaptain America: Civil War                 21000.0  407197282.0   \nGuardians of the Galaxy                    14000.0  333130696.0   \nInterstellar                               11000.0  187991439.0   \n\n                                             genres  ... num_user_for_reviews  \\\nmovie_title                                          ...                        \nThe Dark Knight Rises               Action|Thriller  ...               2701.0   \nThe Avengers                Action|Adventure|Sci-Fi  ...               1722.0   \nCaptain America: Civil War  Action|Adventure|Sci-Fi  ...               1022.0   \nGuardians of the Galaxy     Action|Adventure|Sci-Fi  ...               1097.0   \nInterstellar                 Adventure|Drama|Sci-Fi  ...               2725.0   \n\n                            language  country content_rating       budget  \\\nmovie_title                                                                 \nThe Dark Knight Rises        English      USA          PG-13  250000000.0   \nThe Avengers                 English      USA          PG-13  220000000.0   \nCaptain America: Civil War   English      USA          PG-13  250000000.0   \nGuardians of the Galaxy      English      USA          PG-13  170000000.0   \nInterstellar                 English      USA          PG-13  165000000.0   \n\n                           title_year actor_2_facebook_likes  imdb_score  \\\nmovie_title                                                                \nThe Dark Knight Rises          2012.0                23000.0         8.5   \nThe Avengers                   2012.0                21000.0         8.1   \nCaptain America: Civil War     2016.0                19000.0         8.2   \nGuardians of the Galaxy        2014.0                14000.0         8.1   \nInterstellar                   2014.0                11000.0         8.6   \n\n                           aspect_ratio movie_facebook_likes  \nmovie_title                                                   \nThe Dark Knight Rises              2.35               164000  \nThe Avengers                       1.85               123000  \nCaptain America: Civil War         2.35                72000  \nGuardians of the Galaxy            2.35                96000  \nInterstellar                       2.35               349000  \n\n[5 rows x 27 columns]",
      "text/html": "<div>\n<style scoped>\n    .dataframe tbody tr th:only-of-type {\n        vertical-align: middle;\n    }\n\n    .dataframe tbody tr th {\n        vertical-align: top;\n    }\n\n    .dataframe thead th {\n        text-align: right;\n    }\n</style>\n<table border=\"1\" class=\"dataframe\">\n  <thead>\n    <tr style=\"text-align: right;\">\n      <th></th>\n      <th>color</th>\n      <th>director_name</th>\n      <th>num_critic_for_reviews</th>\n      <th>duration</th>\n      <th>director_facebook_likes</th>\n      <th>actor_3_facebook_likes</th>\n      <th>actor_2_name</th>\n      <th>actor_1_facebook_likes</th>\n      <th>gross</th>\n      <th>genres</th>\n      <th>...</th>\n      <th>num_user_for_reviews</th>\n      <th>language</th>\n      <th>country</th>\n      <th>content_rating</th>\n      <th>budget</th>\n      <th>title_year</th>\n      <th>actor_2_facebook_likes</th>\n      <th>imdb_score</th>\n      <th>aspect_ratio</th>\n      <th>movie_facebook_likes</th>\n    </tr>\n    <tr>\n      <th>movie_title</th>\n      <th></th>\n      <th></th>\n      <th></th>\n      <th></th>\n      <th></th>\n      <th></th>\n      <th></th>\n      <th></th>\n      <th></th>\n      <th></th>\n      <th></th>\n      <th></th>\n      <th></th>\n      <th></th>\n      <th></th>\n      <th></th>\n      <th></th>\n      <th></th>\n      <th></th>\n      <th></th>\n      <th></th>\n    </tr>\n  </thead>\n  <tbody>\n    <tr>\n      <th>The Dark Knight Rises</th>\n      <td>Color</td>\n      <td>Christopher Nolan</td>\n      <td>813.0</td>\n      <td>164.0</td>\n      <td>22000.0</td>\n      <td>23000.0</td>\n      <td>Christian Bale</td>\n      <td>27000.0</td>\n      <td>448130642.0</td>\n      <td>Action|Thriller</td>\n      <td>...</td>\n      <td>2701.0</td>\n      <td>English</td>\n      <td>USA</td>\n      <td>PG-13</td>\n      <td>250000000.0</td>\n      <td>2012.0</td>\n      <td>23000.0</td>\n      <td>8.5</td>\n      <td>2.35</td>\n      <td>164000</td>\n    </tr>\n    <tr>\n      <th>The Avengers</th>\n      <td>Color</td>\n      <td>Joss Whedon</td>\n      <td>703.0</td>\n      <td>173.0</td>\n      <td>0.0</td>\n      <td>19000.0</td>\n      <td>Robert Downey Jr.</td>\n      <td>26000.0</td>\n      <td>623279547.0</td>\n      <td>Action|Adventure|Sci-Fi</td>\n      <td>...</td>\n      <td>1722.0</td>\n      <td>English</td>\n      <td>USA</td>\n      <td>PG-13</td>\n      <td>220000000.0</td>\n      <td>2012.0</td>\n      <td>21000.0</td>\n      <td>8.1</td>\n      <td>1.85</td>\n      <td>123000</td>\n    </tr>\n    <tr>\n      <th>Captain America: Civil War</th>\n      <td>Color</td>\n      <td>Anthony Russo</td>\n      <td>516.0</td>\n      <td>147.0</td>\n      <td>94.0</td>\n      <td>11000.0</td>\n      <td>Scarlett Johansson</td>\n      <td>21000.0</td>\n      <td>407197282.0</td>\n      <td>Action|Adventure|Sci-Fi</td>\n      <td>...</td>\n      <td>1022.0</td>\n      <td>English</td>\n      <td>USA</td>\n      <td>PG-13</td>\n      <td>250000000.0</td>\n      <td>2016.0</td>\n      <td>19000.0</td>\n      <td>8.2</td>\n      <td>2.35</td>\n      <td>72000</td>\n    </tr>\n    <tr>\n      <th>Guardians of the Galaxy</th>\n      <td>Color</td>\n      <td>James Gunn</td>\n      <td>653.0</td>\n      <td>121.0</td>\n      <td>571.0</td>\n      <td>3000.0</td>\n      <td>Vin Diesel</td>\n      <td>14000.0</td>\n      <td>333130696.0</td>\n      <td>Action|Adventure|Sci-Fi</td>\n      <td>...</td>\n      <td>1097.0</td>\n      <td>English</td>\n      <td>USA</td>\n      <td>PG-13</td>\n      <td>170000000.0</td>\n      <td>2014.0</td>\n      <td>14000.0</td>\n      <td>8.1</td>\n      <td>2.35</td>\n      <td>96000</td>\n    </tr>\n    <tr>\n      <th>Interstellar</th>\n      <td>Color</td>\n      <td>Christopher Nolan</td>\n      <td>712.0</td>\n      <td>169.0</td>\n      <td>22000.0</td>\n      <td>6000.0</td>\n      <td>Anne Hathaway</td>\n      <td>11000.0</td>\n      <td>187991439.0</td>\n      <td>Adventure|Drama|Sci-Fi</td>\n      <td>...</td>\n      <td>2725.0</td>\n      <td>English</td>\n      <td>USA</td>\n      <td>PG-13</td>\n      <td>165000000.0</td>\n      <td>2014.0</td>\n      <td>11000.0</td>\n      <td>8.6</td>\n      <td>2.35</td>\n      <td>349000</td>\n    </tr>\n  </tbody>\n</table>\n<p>5 rows × 27 columns</p>\n</div>"
     },
     "execution_count": 31,
     "metadata": {},
     "output_type": "execute_result"
    }
   ],
   "source": [
    "movie[final_crit_all].head()"
   ],
   "metadata": {
    "collapsed": false
   }
  },
  {
   "cell_type": "code",
   "execution_count": 32,
   "outputs": [
    {
     "data": {
      "text/plain": "                            color      director_name  num_critic_for_reviews  \\\nmovie_title                                                                    \nThe Dark Knight Rises       Color  Christopher Nolan                   813.0   \nThe Avengers                Color        Joss Whedon                   703.0   \nCaptain America: Civil War  Color      Anthony Russo                   516.0   \nGuardians of the Galaxy     Color         James Gunn                   653.0   \nInterstellar                Color  Christopher Nolan                   712.0   \n\n                            duration  director_facebook_likes  \\\nmovie_title                                                     \nThe Dark Knight Rises          164.0                  22000.0   \nThe Avengers                   173.0                      0.0   \nCaptain America: Civil War     147.0                     94.0   \nGuardians of the Galaxy        121.0                    571.0   \nInterstellar                   169.0                  22000.0   \n\n                            actor_3_facebook_likes        actor_2_name  \\\nmovie_title                                                              \nThe Dark Knight Rises                      23000.0      Christian Bale   \nThe Avengers                               19000.0   Robert Downey Jr.   \nCaptain America: Civil War                 11000.0  Scarlett Johansson   \nGuardians of the Galaxy                     3000.0          Vin Diesel   \nInterstellar                                6000.0       Anne Hathaway   \n\n                            actor_1_facebook_likes        gross  \\\nmovie_title                                                       \nThe Dark Knight Rises                      27000.0  448130642.0   \nThe Avengers                               26000.0  623279547.0   \nCaptain America: Civil War                 21000.0  407197282.0   \nGuardians of the Galaxy                    14000.0  333130696.0   \nInterstellar                               11000.0  187991439.0   \n\n                                             genres  ... num_user_for_reviews  \\\nmovie_title                                          ...                        \nThe Dark Knight Rises               Action|Thriller  ...               2701.0   \nThe Avengers                Action|Adventure|Sci-Fi  ...               1722.0   \nCaptain America: Civil War  Action|Adventure|Sci-Fi  ...               1022.0   \nGuardians of the Galaxy     Action|Adventure|Sci-Fi  ...               1097.0   \nInterstellar                 Adventure|Drama|Sci-Fi  ...               2725.0   \n\n                            language  country content_rating       budget  \\\nmovie_title                                                                 \nThe Dark Knight Rises        English      USA          PG-13  250000000.0   \nThe Avengers                 English      USA          PG-13  220000000.0   \nCaptain America: Civil War   English      USA          PG-13  250000000.0   \nGuardians of the Galaxy      English      USA          PG-13  170000000.0   \nInterstellar                 English      USA          PG-13  165000000.0   \n\n                           title_year actor_2_facebook_likes  imdb_score  \\\nmovie_title                                                                \nThe Dark Knight Rises          2012.0                23000.0         8.5   \nThe Avengers                   2012.0                21000.0         8.1   \nCaptain America: Civil War     2016.0                19000.0         8.2   \nGuardians of the Galaxy        2014.0                14000.0         8.1   \nInterstellar                   2014.0                11000.0         8.6   \n\n                           aspect_ratio movie_facebook_likes  \nmovie_title                                                   \nThe Dark Knight Rises              2.35               164000  \nThe Avengers                       1.85               123000  \nCaptain America: Civil War         2.35                72000  \nGuardians of the Galaxy            2.35                96000  \nInterstellar                       2.35               349000  \n\n[5 rows x 27 columns]",
      "text/html": "<div>\n<style scoped>\n    .dataframe tbody tr th:only-of-type {\n        vertical-align: middle;\n    }\n\n    .dataframe tbody tr th {\n        vertical-align: top;\n    }\n\n    .dataframe thead th {\n        text-align: right;\n    }\n</style>\n<table border=\"1\" class=\"dataframe\">\n  <thead>\n    <tr style=\"text-align: right;\">\n      <th></th>\n      <th>color</th>\n      <th>director_name</th>\n      <th>num_critic_for_reviews</th>\n      <th>duration</th>\n      <th>director_facebook_likes</th>\n      <th>actor_3_facebook_likes</th>\n      <th>actor_2_name</th>\n      <th>actor_1_facebook_likes</th>\n      <th>gross</th>\n      <th>genres</th>\n      <th>...</th>\n      <th>num_user_for_reviews</th>\n      <th>language</th>\n      <th>country</th>\n      <th>content_rating</th>\n      <th>budget</th>\n      <th>title_year</th>\n      <th>actor_2_facebook_likes</th>\n      <th>imdb_score</th>\n      <th>aspect_ratio</th>\n      <th>movie_facebook_likes</th>\n    </tr>\n    <tr>\n      <th>movie_title</th>\n      <th></th>\n      <th></th>\n      <th></th>\n      <th></th>\n      <th></th>\n      <th></th>\n      <th></th>\n      <th></th>\n      <th></th>\n      <th></th>\n      <th></th>\n      <th></th>\n      <th></th>\n      <th></th>\n      <th></th>\n      <th></th>\n      <th></th>\n      <th></th>\n      <th></th>\n      <th></th>\n      <th></th>\n    </tr>\n  </thead>\n  <tbody>\n    <tr>\n      <th>The Dark Knight Rises</th>\n      <td>Color</td>\n      <td>Christopher Nolan</td>\n      <td>813.0</td>\n      <td>164.0</td>\n      <td>22000.0</td>\n      <td>23000.0</td>\n      <td>Christian Bale</td>\n      <td>27000.0</td>\n      <td>448130642.0</td>\n      <td>Action|Thriller</td>\n      <td>...</td>\n      <td>2701.0</td>\n      <td>English</td>\n      <td>USA</td>\n      <td>PG-13</td>\n      <td>250000000.0</td>\n      <td>2012.0</td>\n      <td>23000.0</td>\n      <td>8.5</td>\n      <td>2.35</td>\n      <td>164000</td>\n    </tr>\n    <tr>\n      <th>The Avengers</th>\n      <td>Color</td>\n      <td>Joss Whedon</td>\n      <td>703.0</td>\n      <td>173.0</td>\n      <td>0.0</td>\n      <td>19000.0</td>\n      <td>Robert Downey Jr.</td>\n      <td>26000.0</td>\n      <td>623279547.0</td>\n      <td>Action|Adventure|Sci-Fi</td>\n      <td>...</td>\n      <td>1722.0</td>\n      <td>English</td>\n      <td>USA</td>\n      <td>PG-13</td>\n      <td>220000000.0</td>\n      <td>2012.0</td>\n      <td>21000.0</td>\n      <td>8.1</td>\n      <td>1.85</td>\n      <td>123000</td>\n    </tr>\n    <tr>\n      <th>Captain America: Civil War</th>\n      <td>Color</td>\n      <td>Anthony Russo</td>\n      <td>516.0</td>\n      <td>147.0</td>\n      <td>94.0</td>\n      <td>11000.0</td>\n      <td>Scarlett Johansson</td>\n      <td>21000.0</td>\n      <td>407197282.0</td>\n      <td>Action|Adventure|Sci-Fi</td>\n      <td>...</td>\n      <td>1022.0</td>\n      <td>English</td>\n      <td>USA</td>\n      <td>PG-13</td>\n      <td>250000000.0</td>\n      <td>2016.0</td>\n      <td>19000.0</td>\n      <td>8.2</td>\n      <td>2.35</td>\n      <td>72000</td>\n    </tr>\n    <tr>\n      <th>Guardians of the Galaxy</th>\n      <td>Color</td>\n      <td>James Gunn</td>\n      <td>653.0</td>\n      <td>121.0</td>\n      <td>571.0</td>\n      <td>3000.0</td>\n      <td>Vin Diesel</td>\n      <td>14000.0</td>\n      <td>333130696.0</td>\n      <td>Action|Adventure|Sci-Fi</td>\n      <td>...</td>\n      <td>1097.0</td>\n      <td>English</td>\n      <td>USA</td>\n      <td>PG-13</td>\n      <td>170000000.0</td>\n      <td>2014.0</td>\n      <td>14000.0</td>\n      <td>8.1</td>\n      <td>2.35</td>\n      <td>96000</td>\n    </tr>\n    <tr>\n      <th>Interstellar</th>\n      <td>Color</td>\n      <td>Christopher Nolan</td>\n      <td>712.0</td>\n      <td>169.0</td>\n      <td>22000.0</td>\n      <td>6000.0</td>\n      <td>Anne Hathaway</td>\n      <td>11000.0</td>\n      <td>187991439.0</td>\n      <td>Adventure|Drama|Sci-Fi</td>\n      <td>...</td>\n      <td>2725.0</td>\n      <td>English</td>\n      <td>USA</td>\n      <td>PG-13</td>\n      <td>165000000.0</td>\n      <td>2014.0</td>\n      <td>11000.0</td>\n      <td>8.6</td>\n      <td>2.35</td>\n      <td>349000</td>\n    </tr>\n  </tbody>\n</table>\n<p>5 rows × 27 columns</p>\n</div>"
     },
     "execution_count": 32,
     "metadata": {},
     "output_type": "execute_result"
    }
   ],
   "source": [
    "movie.loc[final_crit_all].head()"
   ],
   "metadata": {
    "collapsed": false
   }
  },
  {
   "cell_type": "code",
   "execution_count": 33,
   "outputs": [],
   "source": [
    "cols = ['imdb_score', 'content_rating', 'title_year']"
   ],
   "metadata": {
    "collapsed": false
   }
  },
  {
   "cell_type": "code",
   "execution_count": 34,
   "outputs": [],
   "source": [
    "movie_filtered = movie.loc[final_crit_all, cols]"
   ],
   "metadata": {
    "collapsed": false
   }
  },
  {
   "cell_type": "code",
   "execution_count": 35,
   "outputs": [
    {
     "data": {
      "text/plain": "                            imdb_score content_rating  title_year\nmovie_title                                                      \nThe Dark Knight Rises              8.5          PG-13      2012.0\nThe Avengers                       8.1          PG-13      2012.0\nCaptain America: Civil War         8.2          PG-13      2016.0\nGuardians of the Galaxy            8.1          PG-13      2014.0\nInterstellar                       8.6          PG-13      2014.0\nInception                          8.8          PG-13      2010.0\nThe Martian                        8.1          PG-13      2015.0\nTown & Country                     4.4              R      2001.0\nSex and the City 2                 4.3              R      2010.0\nRollerball                         3.0              R      2002.0",
      "text/html": "<div>\n<style scoped>\n    .dataframe tbody tr th:only-of-type {\n        vertical-align: middle;\n    }\n\n    .dataframe tbody tr th {\n        vertical-align: top;\n    }\n\n    .dataframe thead th {\n        text-align: right;\n    }\n</style>\n<table border=\"1\" class=\"dataframe\">\n  <thead>\n    <tr style=\"text-align: right;\">\n      <th></th>\n      <th>imdb_score</th>\n      <th>content_rating</th>\n      <th>title_year</th>\n    </tr>\n    <tr>\n      <th>movie_title</th>\n      <th></th>\n      <th></th>\n      <th></th>\n    </tr>\n  </thead>\n  <tbody>\n    <tr>\n      <th>The Dark Knight Rises</th>\n      <td>8.5</td>\n      <td>PG-13</td>\n      <td>2012.0</td>\n    </tr>\n    <tr>\n      <th>The Avengers</th>\n      <td>8.1</td>\n      <td>PG-13</td>\n      <td>2012.0</td>\n    </tr>\n    <tr>\n      <th>Captain America: Civil War</th>\n      <td>8.2</td>\n      <td>PG-13</td>\n      <td>2016.0</td>\n    </tr>\n    <tr>\n      <th>Guardians of the Galaxy</th>\n      <td>8.1</td>\n      <td>PG-13</td>\n      <td>2014.0</td>\n    </tr>\n    <tr>\n      <th>Interstellar</th>\n      <td>8.6</td>\n      <td>PG-13</td>\n      <td>2014.0</td>\n    </tr>\n    <tr>\n      <th>Inception</th>\n      <td>8.8</td>\n      <td>PG-13</td>\n      <td>2010.0</td>\n    </tr>\n    <tr>\n      <th>The Martian</th>\n      <td>8.1</td>\n      <td>PG-13</td>\n      <td>2015.0</td>\n    </tr>\n    <tr>\n      <th>Town &amp; Country</th>\n      <td>4.4</td>\n      <td>R</td>\n      <td>2001.0</td>\n    </tr>\n    <tr>\n      <th>Sex and the City 2</th>\n      <td>4.3</td>\n      <td>R</td>\n      <td>2010.0</td>\n    </tr>\n    <tr>\n      <th>Rollerball</th>\n      <td>3.0</td>\n      <td>R</td>\n      <td>2002.0</td>\n    </tr>\n  </tbody>\n</table>\n</div>"
     },
     "execution_count": 35,
     "metadata": {},
     "output_type": "execute_result"
    }
   ],
   "source": [
    "movie_filtered.head(10)"
   ],
   "metadata": {
    "collapsed": false
   }
  },
  {
   "cell_type": "code",
   "execution_count": 37,
   "outputs": [],
   "source": [
    "# movie.iloc[final_crit_all]"
   ],
   "metadata": {
    "collapsed": false
   }
  },
  {
   "cell_type": "code",
   "execution_count": 38,
   "outputs": [
    {
     "data": {
      "text/plain": "                            color       director_name  num_critic_for_reviews  \\\nmovie_title                                                                     \nThe Dark Knight Rises       Color   Christopher Nolan                   813.0   \nThe Avengers                Color         Joss Whedon                   703.0   \nCaptain America: Civil War  Color       Anthony Russo                   516.0   \nGuardians of the Galaxy     Color          James Gunn                   653.0   \nInterstellar                Color   Christopher Nolan                   712.0   \n...                           ...                 ...                     ...   \nThe Young Unknowns          Color    Catherine Jelski                    13.0   \nBled                        Color  Christopher Hutson                     8.0   \nHoop Dreams                 Color         Steve James                    53.0   \nDeath Calls                 Color       Ken Del Conte                     NaN   \nThe Legend of God's Gun     Color          Mike Bruce                     3.0   \n\n                            duration  director_facebook_likes  \\\nmovie_title                                                     \nThe Dark Knight Rises          164.0                  22000.0   \nThe Avengers                   173.0                      0.0   \nCaptain America: Civil War     147.0                     94.0   \nGuardians of the Galaxy        121.0                    571.0   \nInterstellar                   169.0                  22000.0   \n...                              ...                      ...   \nThe Young Unknowns              87.0                      0.0   \nBled                            95.0                      3.0   \nHoop Dreams                    170.0                     23.0   \nDeath Calls                     90.0                      2.0   \nThe Legend of God's Gun         78.0                      6.0   \n\n                            actor_3_facebook_likes          actor_2_name  \\\nmovie_title                                                                \nThe Dark Knight Rises                      23000.0        Christian Bale   \nThe Avengers                               19000.0     Robert Downey Jr.   \nCaptain America: Civil War                 11000.0    Scarlett Johansson   \nGuardians of the Galaxy                     3000.0            Vin Diesel   \nInterstellar                                6000.0         Anne Hathaway   \n...                                            ...                   ...   \nThe Young Unknowns                           258.0           Eion Bailey   \nBled                                         118.0  Jennifer Lee Wiggins   \nHoop Dreams                                    2.0           Arthur Agee   \nDeath Calls                                   99.0          Robert Miano   \nThe Legend of God's Gun                       17.0     Kirpatrick Thomas   \n\n                            actor_1_facebook_likes        gross  \\\nmovie_title                                                       \nThe Dark Knight Rises                      27000.0  448130642.0   \nThe Avengers                               26000.0  623279547.0   \nCaptain America: Civil War                 21000.0  407197282.0   \nGuardians of the Galaxy                    14000.0  333130696.0   \nInterstellar                               11000.0  187991439.0   \n...                                            ...          ...   \nThe Young Unknowns                          1000.0      58163.0   \nBled                                         717.0          NaN   \nHoop Dreams                                    7.0    7830611.0   \nDeath Calls                                  466.0          NaN   \nThe Legend of God's Gun                       32.0     243768.0   \n\n                                                               genres  ...  \\\nmovie_title                                                            ...   \nThe Dark Knight Rises                                 Action|Thriller  ...   \nThe Avengers                                  Action|Adventure|Sci-Fi  ...   \nCaptain America: Civil War                    Action|Adventure|Sci-Fi  ...   \nGuardians of the Galaxy                       Action|Adventure|Sci-Fi  ...   \nInterstellar                                   Adventure|Drama|Sci-Fi  ...   \n...                                                               ...  ...   \nThe Young Unknowns                                              Drama  ...   \nBled                                                           Horror  ...   \nHoop Dreams                                   Documentary|Drama|Sport  ...   \nDeath Calls                 Action|Adventure|Mystery|Romance|Thriller  ...   \nThe Legend of God's Gun                                       Western  ...   \n\n                           num_user_for_reviews  language  country  \\\nmovie_title                                                          \nThe Dark Knight Rises                    2701.0   English      USA   \nThe Avengers                             1722.0   English      USA   \nCaptain America: Civil War               1022.0   English      USA   \nGuardians of the Galaxy                  1097.0   English      USA   \nInterstellar                             2725.0   English      USA   \n...                                         ...       ...      ...   \nThe Young Unknowns                          3.0   English      USA   \nBled                                       30.0   English      USA   \nHoop Dreams                                74.0   English      USA   \nDeath Calls                                 NaN   English      USA   \nThe Legend of God's Gun                     9.0   English      USA   \n\n                           content_rating       budget title_year  \\\nmovie_title                                                         \nThe Dark Knight Rises               PG-13  250000000.0     2012.0   \nThe Avengers                        PG-13  220000000.0     2012.0   \nCaptain America: Civil War          PG-13  250000000.0     2016.0   \nGuardians of the Galaxy             PG-13  170000000.0     2014.0   \nInterstellar                        PG-13  165000000.0     2014.0   \n...                                   ...          ...        ...   \nThe Young Unknowns                      R          NaN     2000.0   \nBled                                    R     750000.0     2009.0   \nHoop Dreams                         PG-13     700000.0     1994.0   \nDeath Calls                             R     290000.0     2010.0   \nThe Legend of God's Gun                 R      30000.0     2007.0   \n\n                           actor_2_facebook_likes  imdb_score aspect_ratio  \\\nmovie_title                                                                  \nThe Dark Knight Rises                     23000.0         8.5         2.35   \nThe Avengers                              21000.0         8.1         1.85   \nCaptain America: Civil War                19000.0         8.2         2.35   \nGuardians of the Galaxy                   14000.0         8.1         2.35   \nInterstellar                              11000.0         8.6         2.35   \n...                                           ...         ...          ...   \nThe Young Unknowns                          749.0         4.2          NaN   \nBled                                        134.0         3.1         1.85   \nHoop Dreams                                   6.0         8.3         1.33   \nDeath Calls                                 216.0         4.3         1.85   \nThe Legend of God's Gun                      17.0         4.1         2.35   \n\n                           movie_facebook_likes  \nmovie_title                                      \nThe Dark Knight Rises                    164000  \nThe Avengers                             123000  \nCaptain America: Civil War                72000  \nGuardians of the Galaxy                   96000  \nInterstellar                             349000  \n...                                         ...  \nThe Young Unknowns                            4  \nBled                                        128  \nHoop Dreams                                   0  \nDeath Calls                                  16  \nThe Legend of God's Gun                      13  \n\n[86 rows x 27 columns]",
      "text/html": "<div>\n<style scoped>\n    .dataframe tbody tr th:only-of-type {\n        vertical-align: middle;\n    }\n\n    .dataframe tbody tr th {\n        vertical-align: top;\n    }\n\n    .dataframe thead th {\n        text-align: right;\n    }\n</style>\n<table border=\"1\" class=\"dataframe\">\n  <thead>\n    <tr style=\"text-align: right;\">\n      <th></th>\n      <th>color</th>\n      <th>director_name</th>\n      <th>num_critic_for_reviews</th>\n      <th>duration</th>\n      <th>director_facebook_likes</th>\n      <th>actor_3_facebook_likes</th>\n      <th>actor_2_name</th>\n      <th>actor_1_facebook_likes</th>\n      <th>gross</th>\n      <th>genres</th>\n      <th>...</th>\n      <th>num_user_for_reviews</th>\n      <th>language</th>\n      <th>country</th>\n      <th>content_rating</th>\n      <th>budget</th>\n      <th>title_year</th>\n      <th>actor_2_facebook_likes</th>\n      <th>imdb_score</th>\n      <th>aspect_ratio</th>\n      <th>movie_facebook_likes</th>\n    </tr>\n    <tr>\n      <th>movie_title</th>\n      <th></th>\n      <th></th>\n      <th></th>\n      <th></th>\n      <th></th>\n      <th></th>\n      <th></th>\n      <th></th>\n      <th></th>\n      <th></th>\n      <th></th>\n      <th></th>\n      <th></th>\n      <th></th>\n      <th></th>\n      <th></th>\n      <th></th>\n      <th></th>\n      <th></th>\n      <th></th>\n      <th></th>\n    </tr>\n  </thead>\n  <tbody>\n    <tr>\n      <th>The Dark Knight Rises</th>\n      <td>Color</td>\n      <td>Christopher Nolan</td>\n      <td>813.0</td>\n      <td>164.0</td>\n      <td>22000.0</td>\n      <td>23000.0</td>\n      <td>Christian Bale</td>\n      <td>27000.0</td>\n      <td>448130642.0</td>\n      <td>Action|Thriller</td>\n      <td>...</td>\n      <td>2701.0</td>\n      <td>English</td>\n      <td>USA</td>\n      <td>PG-13</td>\n      <td>250000000.0</td>\n      <td>2012.0</td>\n      <td>23000.0</td>\n      <td>8.5</td>\n      <td>2.35</td>\n      <td>164000</td>\n    </tr>\n    <tr>\n      <th>The Avengers</th>\n      <td>Color</td>\n      <td>Joss Whedon</td>\n      <td>703.0</td>\n      <td>173.0</td>\n      <td>0.0</td>\n      <td>19000.0</td>\n      <td>Robert Downey Jr.</td>\n      <td>26000.0</td>\n      <td>623279547.0</td>\n      <td>Action|Adventure|Sci-Fi</td>\n      <td>...</td>\n      <td>1722.0</td>\n      <td>English</td>\n      <td>USA</td>\n      <td>PG-13</td>\n      <td>220000000.0</td>\n      <td>2012.0</td>\n      <td>21000.0</td>\n      <td>8.1</td>\n      <td>1.85</td>\n      <td>123000</td>\n    </tr>\n    <tr>\n      <th>Captain America: Civil War</th>\n      <td>Color</td>\n      <td>Anthony Russo</td>\n      <td>516.0</td>\n      <td>147.0</td>\n      <td>94.0</td>\n      <td>11000.0</td>\n      <td>Scarlett Johansson</td>\n      <td>21000.0</td>\n      <td>407197282.0</td>\n      <td>Action|Adventure|Sci-Fi</td>\n      <td>...</td>\n      <td>1022.0</td>\n      <td>English</td>\n      <td>USA</td>\n      <td>PG-13</td>\n      <td>250000000.0</td>\n      <td>2016.0</td>\n      <td>19000.0</td>\n      <td>8.2</td>\n      <td>2.35</td>\n      <td>72000</td>\n    </tr>\n    <tr>\n      <th>Guardians of the Galaxy</th>\n      <td>Color</td>\n      <td>James Gunn</td>\n      <td>653.0</td>\n      <td>121.0</td>\n      <td>571.0</td>\n      <td>3000.0</td>\n      <td>Vin Diesel</td>\n      <td>14000.0</td>\n      <td>333130696.0</td>\n      <td>Action|Adventure|Sci-Fi</td>\n      <td>...</td>\n      <td>1097.0</td>\n      <td>English</td>\n      <td>USA</td>\n      <td>PG-13</td>\n      <td>170000000.0</td>\n      <td>2014.0</td>\n      <td>14000.0</td>\n      <td>8.1</td>\n      <td>2.35</td>\n      <td>96000</td>\n    </tr>\n    <tr>\n      <th>Interstellar</th>\n      <td>Color</td>\n      <td>Christopher Nolan</td>\n      <td>712.0</td>\n      <td>169.0</td>\n      <td>22000.0</td>\n      <td>6000.0</td>\n      <td>Anne Hathaway</td>\n      <td>11000.0</td>\n      <td>187991439.0</td>\n      <td>Adventure|Drama|Sci-Fi</td>\n      <td>...</td>\n      <td>2725.0</td>\n      <td>English</td>\n      <td>USA</td>\n      <td>PG-13</td>\n      <td>165000000.0</td>\n      <td>2014.0</td>\n      <td>11000.0</td>\n      <td>8.6</td>\n      <td>2.35</td>\n      <td>349000</td>\n    </tr>\n    <tr>\n      <th>...</th>\n      <td>...</td>\n      <td>...</td>\n      <td>...</td>\n      <td>...</td>\n      <td>...</td>\n      <td>...</td>\n      <td>...</td>\n      <td>...</td>\n      <td>...</td>\n      <td>...</td>\n      <td>...</td>\n      <td>...</td>\n      <td>...</td>\n      <td>...</td>\n      <td>...</td>\n      <td>...</td>\n      <td>...</td>\n      <td>...</td>\n      <td>...</td>\n      <td>...</td>\n      <td>...</td>\n    </tr>\n    <tr>\n      <th>The Young Unknowns</th>\n      <td>Color</td>\n      <td>Catherine Jelski</td>\n      <td>13.0</td>\n      <td>87.0</td>\n      <td>0.0</td>\n      <td>258.0</td>\n      <td>Eion Bailey</td>\n      <td>1000.0</td>\n      <td>58163.0</td>\n      <td>Drama</td>\n      <td>...</td>\n      <td>3.0</td>\n      <td>English</td>\n      <td>USA</td>\n      <td>R</td>\n      <td>NaN</td>\n      <td>2000.0</td>\n      <td>749.0</td>\n      <td>4.2</td>\n      <td>NaN</td>\n      <td>4</td>\n    </tr>\n    <tr>\n      <th>Bled</th>\n      <td>Color</td>\n      <td>Christopher Hutson</td>\n      <td>8.0</td>\n      <td>95.0</td>\n      <td>3.0</td>\n      <td>118.0</td>\n      <td>Jennifer Lee Wiggins</td>\n      <td>717.0</td>\n      <td>NaN</td>\n      <td>Horror</td>\n      <td>...</td>\n      <td>30.0</td>\n      <td>English</td>\n      <td>USA</td>\n      <td>R</td>\n      <td>750000.0</td>\n      <td>2009.0</td>\n      <td>134.0</td>\n      <td>3.1</td>\n      <td>1.85</td>\n      <td>128</td>\n    </tr>\n    <tr>\n      <th>Hoop Dreams</th>\n      <td>Color</td>\n      <td>Steve James</td>\n      <td>53.0</td>\n      <td>170.0</td>\n      <td>23.0</td>\n      <td>2.0</td>\n      <td>Arthur Agee</td>\n      <td>7.0</td>\n      <td>7830611.0</td>\n      <td>Documentary|Drama|Sport</td>\n      <td>...</td>\n      <td>74.0</td>\n      <td>English</td>\n      <td>USA</td>\n      <td>PG-13</td>\n      <td>700000.0</td>\n      <td>1994.0</td>\n      <td>6.0</td>\n      <td>8.3</td>\n      <td>1.33</td>\n      <td>0</td>\n    </tr>\n    <tr>\n      <th>Death Calls</th>\n      <td>Color</td>\n      <td>Ken Del Conte</td>\n      <td>NaN</td>\n      <td>90.0</td>\n      <td>2.0</td>\n      <td>99.0</td>\n      <td>Robert Miano</td>\n      <td>466.0</td>\n      <td>NaN</td>\n      <td>Action|Adventure|Mystery|Romance|Thriller</td>\n      <td>...</td>\n      <td>NaN</td>\n      <td>English</td>\n      <td>USA</td>\n      <td>R</td>\n      <td>290000.0</td>\n      <td>2010.0</td>\n      <td>216.0</td>\n      <td>4.3</td>\n      <td>1.85</td>\n      <td>16</td>\n    </tr>\n    <tr>\n      <th>The Legend of God's Gun</th>\n      <td>Color</td>\n      <td>Mike Bruce</td>\n      <td>3.0</td>\n      <td>78.0</td>\n      <td>6.0</td>\n      <td>17.0</td>\n      <td>Kirpatrick Thomas</td>\n      <td>32.0</td>\n      <td>243768.0</td>\n      <td>Western</td>\n      <td>...</td>\n      <td>9.0</td>\n      <td>English</td>\n      <td>USA</td>\n      <td>R</td>\n      <td>30000.0</td>\n      <td>2007.0</td>\n      <td>17.0</td>\n      <td>4.1</td>\n      <td>2.35</td>\n      <td>13</td>\n    </tr>\n  </tbody>\n</table>\n<p>86 rows × 27 columns</p>\n</div>"
     },
     "execution_count": 38,
     "metadata": {},
     "output_type": "execute_result"
    }
   ],
   "source": [
    "movie.iloc[final_crit_all.to_numpy()]"
   ],
   "metadata": {
    "collapsed": false
   }
  },
  {
   "cell_type": "markdown",
   "source": [
    "행 필터링과 인덱스 필터링 비교"
   ],
   "metadata": {
    "collapsed": false
   }
  },
  {
   "cell_type": "code",
   "execution_count": 39,
   "outputs": [],
   "source": [
    "college = pd.read_csv('data/college.csv')"
   ],
   "metadata": {
    "collapsed": false
   }
  },
  {
   "cell_type": "code",
   "execution_count": 40,
   "outputs": [
    {
     "data": {
      "text/plain": "                            INSTNM        CITY STABBR  HBCU  MENONLY  \\\n3610  Abilene Christian University     Abilene     TX   0.0      0.0   \n3611       Alvin Community College       Alvin     TX   0.0      0.0   \n3612              Amarillo College    Amarillo     TX   0.0      0.0   \n3613              Angelina College      Lufkin     TX   0.0      0.0   \n3614       Angelo State University  San Angelo     TX   0.0      0.0   \n\n      WOMENONLY  RELAFFIL  SATVRMID  SATMTMID  DISTANCEONLY  ...  UGDS_2MOR  \\\n3610        0.0         1     530.0     545.0           0.0  ...     0.0454   \n3611        0.0         0       NaN       NaN           0.0  ...     0.0002   \n3612        0.0         0       NaN       NaN           0.0  ...     0.0000   \n3613        0.0         0       NaN       NaN           0.0  ...     0.0264   \n3614        0.0         0     475.0     490.0           0.0  ...     0.0285   \n\n      UGDS_NRA  UGDS_UNKN  PPTUG_EF  CURROPER  PCTPELL  PCTFLOAN  UG25ABV  \\\n3610    0.0423     0.0045    0.0468         1   0.2595    0.5527   0.0381   \n3611    0.0000     0.0143    0.7123         1   0.1549    0.0625   0.2841   \n3612    0.0001     0.0085    0.6922         1   0.3786    0.1573   0.3431   \n3613    0.0005     0.0000    0.5600         1   0.5308    0.0000   0.2603   \n3614    0.0331     0.0011    0.1289         1   0.4068    0.5279   0.1407   \n\n      MD_EARN_WNE_P10  GRAD_DEBT_MDN_SUPP  \n3610            40200               25985  \n3611            34500                6750  \n3612            31700               10950  \n3613            26900   PrivacySuppressed  \n3614            37700             21319.5  \n\n[5 rows x 27 columns]",
      "text/html": "<div>\n<style scoped>\n    .dataframe tbody tr th:only-of-type {\n        vertical-align: middle;\n    }\n\n    .dataframe tbody tr th {\n        vertical-align: top;\n    }\n\n    .dataframe thead th {\n        text-align: right;\n    }\n</style>\n<table border=\"1\" class=\"dataframe\">\n  <thead>\n    <tr style=\"text-align: right;\">\n      <th></th>\n      <th>INSTNM</th>\n      <th>CITY</th>\n      <th>STABBR</th>\n      <th>HBCU</th>\n      <th>MENONLY</th>\n      <th>WOMENONLY</th>\n      <th>RELAFFIL</th>\n      <th>SATVRMID</th>\n      <th>SATMTMID</th>\n      <th>DISTANCEONLY</th>\n      <th>...</th>\n      <th>UGDS_2MOR</th>\n      <th>UGDS_NRA</th>\n      <th>UGDS_UNKN</th>\n      <th>PPTUG_EF</th>\n      <th>CURROPER</th>\n      <th>PCTPELL</th>\n      <th>PCTFLOAN</th>\n      <th>UG25ABV</th>\n      <th>MD_EARN_WNE_P10</th>\n      <th>GRAD_DEBT_MDN_SUPP</th>\n    </tr>\n  </thead>\n  <tbody>\n    <tr>\n      <th>3610</th>\n      <td>Abilene Christian University</td>\n      <td>Abilene</td>\n      <td>TX</td>\n      <td>0.0</td>\n      <td>0.0</td>\n      <td>0.0</td>\n      <td>1</td>\n      <td>530.0</td>\n      <td>545.0</td>\n      <td>0.0</td>\n      <td>...</td>\n      <td>0.0454</td>\n      <td>0.0423</td>\n      <td>0.0045</td>\n      <td>0.0468</td>\n      <td>1</td>\n      <td>0.2595</td>\n      <td>0.5527</td>\n      <td>0.0381</td>\n      <td>40200</td>\n      <td>25985</td>\n    </tr>\n    <tr>\n      <th>3611</th>\n      <td>Alvin Community College</td>\n      <td>Alvin</td>\n      <td>TX</td>\n      <td>0.0</td>\n      <td>0.0</td>\n      <td>0.0</td>\n      <td>0</td>\n      <td>NaN</td>\n      <td>NaN</td>\n      <td>0.0</td>\n      <td>...</td>\n      <td>0.0002</td>\n      <td>0.0000</td>\n      <td>0.0143</td>\n      <td>0.7123</td>\n      <td>1</td>\n      <td>0.1549</td>\n      <td>0.0625</td>\n      <td>0.2841</td>\n      <td>34500</td>\n      <td>6750</td>\n    </tr>\n    <tr>\n      <th>3612</th>\n      <td>Amarillo College</td>\n      <td>Amarillo</td>\n      <td>TX</td>\n      <td>0.0</td>\n      <td>0.0</td>\n      <td>0.0</td>\n      <td>0</td>\n      <td>NaN</td>\n      <td>NaN</td>\n      <td>0.0</td>\n      <td>...</td>\n      <td>0.0000</td>\n      <td>0.0001</td>\n      <td>0.0085</td>\n      <td>0.6922</td>\n      <td>1</td>\n      <td>0.3786</td>\n      <td>0.1573</td>\n      <td>0.3431</td>\n      <td>31700</td>\n      <td>10950</td>\n    </tr>\n    <tr>\n      <th>3613</th>\n      <td>Angelina College</td>\n      <td>Lufkin</td>\n      <td>TX</td>\n      <td>0.0</td>\n      <td>0.0</td>\n      <td>0.0</td>\n      <td>0</td>\n      <td>NaN</td>\n      <td>NaN</td>\n      <td>0.0</td>\n      <td>...</td>\n      <td>0.0264</td>\n      <td>0.0005</td>\n      <td>0.0000</td>\n      <td>0.5600</td>\n      <td>1</td>\n      <td>0.5308</td>\n      <td>0.0000</td>\n      <td>0.2603</td>\n      <td>26900</td>\n      <td>PrivacySuppressed</td>\n    </tr>\n    <tr>\n      <th>3614</th>\n      <td>Angelo State University</td>\n      <td>San Angelo</td>\n      <td>TX</td>\n      <td>0.0</td>\n      <td>0.0</td>\n      <td>0.0</td>\n      <td>0</td>\n      <td>475.0</td>\n      <td>490.0</td>\n      <td>0.0</td>\n      <td>...</td>\n      <td>0.0285</td>\n      <td>0.0331</td>\n      <td>0.0011</td>\n      <td>0.1289</td>\n      <td>1</td>\n      <td>0.4068</td>\n      <td>0.5279</td>\n      <td>0.1407</td>\n      <td>37700</td>\n      <td>21319.5</td>\n    </tr>\n  </tbody>\n</table>\n<p>5 rows × 27 columns</p>\n</div>"
     },
     "execution_count": 40,
     "metadata": {},
     "output_type": "execute_result"
    }
   ],
   "source": [
    "college[college['STABBR'] == 'TX'].head()"
   ],
   "metadata": {
    "collapsed": false
   }
  },
  {
   "cell_type": "code",
   "execution_count": 41,
   "outputs": [],
   "source": [
    "college2 = college.set_index('STABBR')"
   ],
   "metadata": {
    "collapsed": false
   }
  },
  {
   "cell_type": "code",
   "execution_count": 42,
   "outputs": [
    {
     "data": {
      "text/plain": "                              INSTNM        CITY  HBCU  MENONLY  WOMENONLY  \\\nSTABBR                                                                       \nTX      Abilene Christian University     Abilene   0.0      0.0        0.0   \nTX           Alvin Community College       Alvin   0.0      0.0        0.0   \nTX                  Amarillo College    Amarillo   0.0      0.0        0.0   \nTX                  Angelina College      Lufkin   0.0      0.0        0.0   \nTX           Angelo State University  San Angelo   0.0      0.0        0.0   \n\n        RELAFFIL  SATVRMID  SATMTMID  DISTANCEONLY    UGDS  ...  UGDS_2MOR  \\\nSTABBR                                                      ...              \nTX             1     530.0     545.0           0.0  3572.0  ...     0.0454   \nTX             0       NaN       NaN           0.0  4682.0  ...     0.0002   \nTX             0       NaN       NaN           0.0  9346.0  ...     0.0000   \nTX             0       NaN       NaN           0.0  3825.0  ...     0.0264   \nTX             0     475.0     490.0           0.0  5290.0  ...     0.0285   \n\n        UGDS_NRA  UGDS_UNKN  PPTUG_EF  CURROPER  PCTPELL  PCTFLOAN  UG25ABV  \\\nSTABBR                                                                        \nTX        0.0423     0.0045    0.0468         1   0.2595    0.5527   0.0381   \nTX        0.0000     0.0143    0.7123         1   0.1549    0.0625   0.2841   \nTX        0.0001     0.0085    0.6922         1   0.3786    0.1573   0.3431   \nTX        0.0005     0.0000    0.5600         1   0.5308    0.0000   0.2603   \nTX        0.0331     0.0011    0.1289         1   0.4068    0.5279   0.1407   \n\n        MD_EARN_WNE_P10  GRAD_DEBT_MDN_SUPP  \nSTABBR                                       \nTX                40200               25985  \nTX                34500                6750  \nTX                31700               10950  \nTX                26900   PrivacySuppressed  \nTX                37700             21319.5  \n\n[5 rows x 26 columns]",
      "text/html": "<div>\n<style scoped>\n    .dataframe tbody tr th:only-of-type {\n        vertical-align: middle;\n    }\n\n    .dataframe tbody tr th {\n        vertical-align: top;\n    }\n\n    .dataframe thead th {\n        text-align: right;\n    }\n</style>\n<table border=\"1\" class=\"dataframe\">\n  <thead>\n    <tr style=\"text-align: right;\">\n      <th></th>\n      <th>INSTNM</th>\n      <th>CITY</th>\n      <th>HBCU</th>\n      <th>MENONLY</th>\n      <th>WOMENONLY</th>\n      <th>RELAFFIL</th>\n      <th>SATVRMID</th>\n      <th>SATMTMID</th>\n      <th>DISTANCEONLY</th>\n      <th>UGDS</th>\n      <th>...</th>\n      <th>UGDS_2MOR</th>\n      <th>UGDS_NRA</th>\n      <th>UGDS_UNKN</th>\n      <th>PPTUG_EF</th>\n      <th>CURROPER</th>\n      <th>PCTPELL</th>\n      <th>PCTFLOAN</th>\n      <th>UG25ABV</th>\n      <th>MD_EARN_WNE_P10</th>\n      <th>GRAD_DEBT_MDN_SUPP</th>\n    </tr>\n    <tr>\n      <th>STABBR</th>\n      <th></th>\n      <th></th>\n      <th></th>\n      <th></th>\n      <th></th>\n      <th></th>\n      <th></th>\n      <th></th>\n      <th></th>\n      <th></th>\n      <th></th>\n      <th></th>\n      <th></th>\n      <th></th>\n      <th></th>\n      <th></th>\n      <th></th>\n      <th></th>\n      <th></th>\n      <th></th>\n      <th></th>\n    </tr>\n  </thead>\n  <tbody>\n    <tr>\n      <th>TX</th>\n      <td>Abilene Christian University</td>\n      <td>Abilene</td>\n      <td>0.0</td>\n      <td>0.0</td>\n      <td>0.0</td>\n      <td>1</td>\n      <td>530.0</td>\n      <td>545.0</td>\n      <td>0.0</td>\n      <td>3572.0</td>\n      <td>...</td>\n      <td>0.0454</td>\n      <td>0.0423</td>\n      <td>0.0045</td>\n      <td>0.0468</td>\n      <td>1</td>\n      <td>0.2595</td>\n      <td>0.5527</td>\n      <td>0.0381</td>\n      <td>40200</td>\n      <td>25985</td>\n    </tr>\n    <tr>\n      <th>TX</th>\n      <td>Alvin Community College</td>\n      <td>Alvin</td>\n      <td>0.0</td>\n      <td>0.0</td>\n      <td>0.0</td>\n      <td>0</td>\n      <td>NaN</td>\n      <td>NaN</td>\n      <td>0.0</td>\n      <td>4682.0</td>\n      <td>...</td>\n      <td>0.0002</td>\n      <td>0.0000</td>\n      <td>0.0143</td>\n      <td>0.7123</td>\n      <td>1</td>\n      <td>0.1549</td>\n      <td>0.0625</td>\n      <td>0.2841</td>\n      <td>34500</td>\n      <td>6750</td>\n    </tr>\n    <tr>\n      <th>TX</th>\n      <td>Amarillo College</td>\n      <td>Amarillo</td>\n      <td>0.0</td>\n      <td>0.0</td>\n      <td>0.0</td>\n      <td>0</td>\n      <td>NaN</td>\n      <td>NaN</td>\n      <td>0.0</td>\n      <td>9346.0</td>\n      <td>...</td>\n      <td>0.0000</td>\n      <td>0.0001</td>\n      <td>0.0085</td>\n      <td>0.6922</td>\n      <td>1</td>\n      <td>0.3786</td>\n      <td>0.1573</td>\n      <td>0.3431</td>\n      <td>31700</td>\n      <td>10950</td>\n    </tr>\n    <tr>\n      <th>TX</th>\n      <td>Angelina College</td>\n      <td>Lufkin</td>\n      <td>0.0</td>\n      <td>0.0</td>\n      <td>0.0</td>\n      <td>0</td>\n      <td>NaN</td>\n      <td>NaN</td>\n      <td>0.0</td>\n      <td>3825.0</td>\n      <td>...</td>\n      <td>0.0264</td>\n      <td>0.0005</td>\n      <td>0.0000</td>\n      <td>0.5600</td>\n      <td>1</td>\n      <td>0.5308</td>\n      <td>0.0000</td>\n      <td>0.2603</td>\n      <td>26900</td>\n      <td>PrivacySuppressed</td>\n    </tr>\n    <tr>\n      <th>TX</th>\n      <td>Angelo State University</td>\n      <td>San Angelo</td>\n      <td>0.0</td>\n      <td>0.0</td>\n      <td>0.0</td>\n      <td>0</td>\n      <td>475.0</td>\n      <td>490.0</td>\n      <td>0.0</td>\n      <td>5290.0</td>\n      <td>...</td>\n      <td>0.0285</td>\n      <td>0.0331</td>\n      <td>0.0011</td>\n      <td>0.1289</td>\n      <td>1</td>\n      <td>0.4068</td>\n      <td>0.5279</td>\n      <td>0.1407</td>\n      <td>37700</td>\n      <td>21319.5</td>\n    </tr>\n  </tbody>\n</table>\n<p>5 rows × 26 columns</p>\n</div>"
     },
     "execution_count": 42,
     "metadata": {},
     "output_type": "execute_result"
    }
   ],
   "source": [
    "college2.loc['TX'].head()"
   ],
   "metadata": {
    "collapsed": false
   }
  },
  {
   "cell_type": "code",
   "execution_count": 46,
   "outputs": [
    {
     "name": "stdout",
     "output_type": "stream",
     "text": [
      "358 µs ± 13.8 µs per loop (mean ± std. dev. of 7 runs, 1,000 loops each)\n"
     ]
    }
   ],
   "source": [
    "%timeit college[college['STABBR'] == 'TX']"
   ],
   "metadata": {
    "collapsed": false
   }
  },
  {
   "cell_type": "code",
   "execution_count": 44,
   "outputs": [
    {
     "name": "stdout",
     "output_type": "stream",
     "text": [
      "140 µs ± 696 ns per loop (mean ± std. dev. of 7 runs, 10,000 loops each)\n"
     ]
    }
   ],
   "source": [
    "%timeit college2.loc['TX']"
   ],
   "metadata": {
    "collapsed": false
   }
  },
  {
   "cell_type": "code",
   "execution_count": 47,
   "outputs": [
    {
     "name": "stdout",
     "output_type": "stream",
     "text": [
      "249 µs ± 9.51 µs per loop (mean ± std. dev. of 7 runs, 1,000 loops each)\n"
     ]
    }
   ],
   "source": [
    "%timeit college2 = college.set_index('STABBR')"
   ],
   "metadata": {
    "collapsed": false
   }
  },
  {
   "cell_type": "code",
   "execution_count": 48,
   "outputs": [],
   "source": [
    "states = ['TX', 'CA', 'NY']"
   ],
   "metadata": {
    "collapsed": false
   }
  },
  {
   "cell_type": "code",
   "execution_count": 49,
   "outputs": [
    {
     "data": {
      "text/plain": "                                                 INSTNM              CITY  \\\n192                           Academy of Art University     San Francisco   \n193              ITT Technical Institute-Rancho Cordova    Rancho Cordova   \n194      Academy of Chinese Culture and Health Sciences           Oakland   \n195            The Academy of Radio and TV Broadcasting  Huntington Beach   \n196                Avalon School of Cosmetology-Alameda           Alameda   \n...                                                 ...               ...   \n7528                           WestMed College - Merced            Merced   \n7529                                    Vantage College           El Paso   \n7530         SAE Institute of Technology  San Francisco        Emeryville   \n7533  Bay Area Medical Academy - San Jose Satellite ...          San Jose   \n7534            Excel Learning Center-San Antonio South       San Antonio   \n\n     STABBR  HBCU  MENONLY  WOMENONLY  RELAFFIL  SATVRMID  SATMTMID  \\\n192      CA   0.0      0.0        0.0         0       NaN       NaN   \n193      CA   0.0      0.0        0.0         0       NaN       NaN   \n194      CA   0.0      0.0        0.0         0       NaN       NaN   \n195      CA   0.0      0.0        0.0         0       NaN       NaN   \n196      CA   0.0      0.0        0.0         0       NaN       NaN   \n...     ...   ...      ...        ...       ...       ...       ...   \n7528     CA   NaN      NaN        NaN         1       NaN       NaN   \n7529     TX   NaN      NaN        NaN         1       NaN       NaN   \n7530     CA   NaN      NaN        NaN         1       NaN       NaN   \n7533     CA   NaN      NaN        NaN         1       NaN       NaN   \n7534     TX   NaN      NaN        NaN         1       NaN       NaN   \n\n      DISTANCEONLY  ...  UGDS_2MOR  UGDS_NRA  UGDS_UNKN  PPTUG_EF  CURROPER  \\\n192            0.0  ...     0.0249    0.2523     0.2098    0.4334         1   \n193            0.0  ...     0.0400    0.0000     0.1780    0.2540         0   \n194            0.0  ...        NaN       NaN        NaN       NaN         1   \n195            0.0  ...     0.0000    0.0000     0.0000    0.0000         1   \n196            0.0  ...     0.0553    0.0000     0.0435    0.5099         1   \n...            ...  ...        ...       ...        ...       ...       ...   \n7528           NaN  ...        NaN       NaN        NaN       NaN         1   \n7529           NaN  ...        NaN       NaN        NaN       NaN         1   \n7530           NaN  ...        NaN       NaN        NaN       NaN         1   \n7533           NaN  ...        NaN       NaN        NaN       NaN         1   \n7534           NaN  ...        NaN       NaN        NaN       NaN         1   \n\n      PCTPELL  PCTFLOAN  UG25ABV  MD_EARN_WNE_P10  GRAD_DEBT_MDN_SUPP  \n192    0.4008    0.5524   0.4043            36000               35093  \n193    0.7137    0.7667   0.7235            38800             25827.5  \n194       NaN       NaN      NaN              NaN   PrivacySuppressed  \n195    0.9579    1.0000   0.4545            28400                9500  \n196    0.7407    0.6768   0.3387            21600                9860  \n...       ...       ...      ...              ...                 ...  \n7528      NaN       NaN      NaN              NaN             15623.5  \n7529      NaN       NaN      NaN              NaN                9500  \n7530      NaN       NaN      NaN              NaN                9500  \n7533      NaN       NaN      NaN              NaN   PrivacySuppressed  \n7534      NaN       NaN      NaN              NaN               12125  \n\n[1704 rows x 27 columns]",
      "text/html": "<div>\n<style scoped>\n    .dataframe tbody tr th:only-of-type {\n        vertical-align: middle;\n    }\n\n    .dataframe tbody tr th {\n        vertical-align: top;\n    }\n\n    .dataframe thead th {\n        text-align: right;\n    }\n</style>\n<table border=\"1\" class=\"dataframe\">\n  <thead>\n    <tr style=\"text-align: right;\">\n      <th></th>\n      <th>INSTNM</th>\n      <th>CITY</th>\n      <th>STABBR</th>\n      <th>HBCU</th>\n      <th>MENONLY</th>\n      <th>WOMENONLY</th>\n      <th>RELAFFIL</th>\n      <th>SATVRMID</th>\n      <th>SATMTMID</th>\n      <th>DISTANCEONLY</th>\n      <th>...</th>\n      <th>UGDS_2MOR</th>\n      <th>UGDS_NRA</th>\n      <th>UGDS_UNKN</th>\n      <th>PPTUG_EF</th>\n      <th>CURROPER</th>\n      <th>PCTPELL</th>\n      <th>PCTFLOAN</th>\n      <th>UG25ABV</th>\n      <th>MD_EARN_WNE_P10</th>\n      <th>GRAD_DEBT_MDN_SUPP</th>\n    </tr>\n  </thead>\n  <tbody>\n    <tr>\n      <th>192</th>\n      <td>Academy of Art University</td>\n      <td>San Francisco</td>\n      <td>CA</td>\n      <td>0.0</td>\n      <td>0.0</td>\n      <td>0.0</td>\n      <td>0</td>\n      <td>NaN</td>\n      <td>NaN</td>\n      <td>0.0</td>\n      <td>...</td>\n      <td>0.0249</td>\n      <td>0.2523</td>\n      <td>0.2098</td>\n      <td>0.4334</td>\n      <td>1</td>\n      <td>0.4008</td>\n      <td>0.5524</td>\n      <td>0.4043</td>\n      <td>36000</td>\n      <td>35093</td>\n    </tr>\n    <tr>\n      <th>193</th>\n      <td>ITT Technical Institute-Rancho Cordova</td>\n      <td>Rancho Cordova</td>\n      <td>CA</td>\n      <td>0.0</td>\n      <td>0.0</td>\n      <td>0.0</td>\n      <td>0</td>\n      <td>NaN</td>\n      <td>NaN</td>\n      <td>0.0</td>\n      <td>...</td>\n      <td>0.0400</td>\n      <td>0.0000</td>\n      <td>0.1780</td>\n      <td>0.2540</td>\n      <td>0</td>\n      <td>0.7137</td>\n      <td>0.7667</td>\n      <td>0.7235</td>\n      <td>38800</td>\n      <td>25827.5</td>\n    </tr>\n    <tr>\n      <th>194</th>\n      <td>Academy of Chinese Culture and Health Sciences</td>\n      <td>Oakland</td>\n      <td>CA</td>\n      <td>0.0</td>\n      <td>0.0</td>\n      <td>0.0</td>\n      <td>0</td>\n      <td>NaN</td>\n      <td>NaN</td>\n      <td>0.0</td>\n      <td>...</td>\n      <td>NaN</td>\n      <td>NaN</td>\n      <td>NaN</td>\n      <td>NaN</td>\n      <td>1</td>\n      <td>NaN</td>\n      <td>NaN</td>\n      <td>NaN</td>\n      <td>NaN</td>\n      <td>PrivacySuppressed</td>\n    </tr>\n    <tr>\n      <th>195</th>\n      <td>The Academy of Radio and TV Broadcasting</td>\n      <td>Huntington Beach</td>\n      <td>CA</td>\n      <td>0.0</td>\n      <td>0.0</td>\n      <td>0.0</td>\n      <td>0</td>\n      <td>NaN</td>\n      <td>NaN</td>\n      <td>0.0</td>\n      <td>...</td>\n      <td>0.0000</td>\n      <td>0.0000</td>\n      <td>0.0000</td>\n      <td>0.0000</td>\n      <td>1</td>\n      <td>0.9579</td>\n      <td>1.0000</td>\n      <td>0.4545</td>\n      <td>28400</td>\n      <td>9500</td>\n    </tr>\n    <tr>\n      <th>196</th>\n      <td>Avalon School of Cosmetology-Alameda</td>\n      <td>Alameda</td>\n      <td>CA</td>\n      <td>0.0</td>\n      <td>0.0</td>\n      <td>0.0</td>\n      <td>0</td>\n      <td>NaN</td>\n      <td>NaN</td>\n      <td>0.0</td>\n      <td>...</td>\n      <td>0.0553</td>\n      <td>0.0000</td>\n      <td>0.0435</td>\n      <td>0.5099</td>\n      <td>1</td>\n      <td>0.7407</td>\n      <td>0.6768</td>\n      <td>0.3387</td>\n      <td>21600</td>\n      <td>9860</td>\n    </tr>\n    <tr>\n      <th>...</th>\n      <td>...</td>\n      <td>...</td>\n      <td>...</td>\n      <td>...</td>\n      <td>...</td>\n      <td>...</td>\n      <td>...</td>\n      <td>...</td>\n      <td>...</td>\n      <td>...</td>\n      <td>...</td>\n      <td>...</td>\n      <td>...</td>\n      <td>...</td>\n      <td>...</td>\n      <td>...</td>\n      <td>...</td>\n      <td>...</td>\n      <td>...</td>\n      <td>...</td>\n      <td>...</td>\n    </tr>\n    <tr>\n      <th>7528</th>\n      <td>WestMed College - Merced</td>\n      <td>Merced</td>\n      <td>CA</td>\n      <td>NaN</td>\n      <td>NaN</td>\n      <td>NaN</td>\n      <td>1</td>\n      <td>NaN</td>\n      <td>NaN</td>\n      <td>NaN</td>\n      <td>...</td>\n      <td>NaN</td>\n      <td>NaN</td>\n      <td>NaN</td>\n      <td>NaN</td>\n      <td>1</td>\n      <td>NaN</td>\n      <td>NaN</td>\n      <td>NaN</td>\n      <td>NaN</td>\n      <td>15623.5</td>\n    </tr>\n    <tr>\n      <th>7529</th>\n      <td>Vantage College</td>\n      <td>El Paso</td>\n      <td>TX</td>\n      <td>NaN</td>\n      <td>NaN</td>\n      <td>NaN</td>\n      <td>1</td>\n      <td>NaN</td>\n      <td>NaN</td>\n      <td>NaN</td>\n      <td>...</td>\n      <td>NaN</td>\n      <td>NaN</td>\n      <td>NaN</td>\n      <td>NaN</td>\n      <td>1</td>\n      <td>NaN</td>\n      <td>NaN</td>\n      <td>NaN</td>\n      <td>NaN</td>\n      <td>9500</td>\n    </tr>\n    <tr>\n      <th>7530</th>\n      <td>SAE Institute of Technology  San Francisco</td>\n      <td>Emeryville</td>\n      <td>CA</td>\n      <td>NaN</td>\n      <td>NaN</td>\n      <td>NaN</td>\n      <td>1</td>\n      <td>NaN</td>\n      <td>NaN</td>\n      <td>NaN</td>\n      <td>...</td>\n      <td>NaN</td>\n      <td>NaN</td>\n      <td>NaN</td>\n      <td>NaN</td>\n      <td>1</td>\n      <td>NaN</td>\n      <td>NaN</td>\n      <td>NaN</td>\n      <td>NaN</td>\n      <td>9500</td>\n    </tr>\n    <tr>\n      <th>7533</th>\n      <td>Bay Area Medical Academy - San Jose Satellite ...</td>\n      <td>San Jose</td>\n      <td>CA</td>\n      <td>NaN</td>\n      <td>NaN</td>\n      <td>NaN</td>\n      <td>1</td>\n      <td>NaN</td>\n      <td>NaN</td>\n      <td>NaN</td>\n      <td>...</td>\n      <td>NaN</td>\n      <td>NaN</td>\n      <td>NaN</td>\n      <td>NaN</td>\n      <td>1</td>\n      <td>NaN</td>\n      <td>NaN</td>\n      <td>NaN</td>\n      <td>NaN</td>\n      <td>PrivacySuppressed</td>\n    </tr>\n    <tr>\n      <th>7534</th>\n      <td>Excel Learning Center-San Antonio South</td>\n      <td>San Antonio</td>\n      <td>TX</td>\n      <td>NaN</td>\n      <td>NaN</td>\n      <td>NaN</td>\n      <td>1</td>\n      <td>NaN</td>\n      <td>NaN</td>\n      <td>NaN</td>\n      <td>...</td>\n      <td>NaN</td>\n      <td>NaN</td>\n      <td>NaN</td>\n      <td>NaN</td>\n      <td>1</td>\n      <td>NaN</td>\n      <td>NaN</td>\n      <td>NaN</td>\n      <td>NaN</td>\n      <td>12125</td>\n    </tr>\n  </tbody>\n</table>\n<p>1704 rows × 27 columns</p>\n</div>"
     },
     "execution_count": 49,
     "metadata": {},
     "output_type": "execute_result"
    }
   ],
   "source": [
    "college[college['STABBR'].isin(states)]"
   ],
   "metadata": {
    "collapsed": false
   }
  },
  {
   "cell_type": "code",
   "execution_count": 50,
   "outputs": [
    {
     "data": {
      "text/plain": "                                               INSTNM        CITY  HBCU  \\\nSTABBR                                                                    \nTX                       Abilene Christian University     Abilene   0.0   \nTX                            Alvin Community College       Alvin   0.0   \nTX                                   Amarillo College    Amarillo   0.0   \nTX                                   Angelina College      Lufkin   0.0   \nTX                            Angelo State University  San Angelo   0.0   \n...                                               ...         ...   ...   \nNY                      Briarcliffe College–Patchogue   Patchogue   NaN   \nNY                       Jamestown Business College -   Salamanca   NaN   \nNY      Pratt Manhattan-A Division of Pratt Institute    New York   NaN   \nNY                  Saint Josephs College-Long Island   Patchogue   NaN   \nNY        Franklin Career Institute - Brooklyn Campus    Brooklyn   NaN   \n\n        MENONLY  WOMENONLY  RELAFFIL  SATVRMID  SATMTMID  DISTANCEONLY  \\\nSTABBR                                                                   \nTX          0.0        0.0         1     530.0     545.0           0.0   \nTX          0.0        0.0         0       NaN       NaN           0.0   \nTX          0.0        0.0         0       NaN       NaN           0.0   \nTX          0.0        0.0         0       NaN       NaN           0.0   \nTX          0.0        0.0         0     475.0     490.0           0.0   \n...         ...        ...       ...       ...       ...           ...   \nNY          NaN        NaN         1       NaN       NaN           NaN   \nNY          NaN        NaN         1       NaN       NaN           NaN   \nNY          NaN        NaN         1       NaN       NaN           NaN   \nNY          NaN        NaN         1       NaN       NaN           NaN   \nNY          NaN        NaN         1       NaN       NaN           NaN   \n\n          UGDS  ...  UGDS_2MOR  UGDS_NRA  UGDS_UNKN  PPTUG_EF  CURROPER  \\\nSTABBR          ...                                                       \nTX      3572.0  ...     0.0454    0.0423     0.0045    0.0468         1   \nTX      4682.0  ...     0.0002    0.0000     0.0143    0.7123         1   \nTX      9346.0  ...     0.0000    0.0001     0.0085    0.6922         1   \nTX      3825.0  ...     0.0264    0.0005     0.0000    0.5600         1   \nTX      5290.0  ...     0.0285    0.0331     0.0011    0.1289         1   \n...        ...  ...        ...       ...        ...       ...       ...   \nNY         NaN  ...        NaN       NaN        NaN       NaN         1   \nNY         NaN  ...        NaN       NaN        NaN       NaN         1   \nNY         NaN  ...        NaN       NaN        NaN       NaN         1   \nNY         NaN  ...        NaN       NaN        NaN       NaN         1   \nNY         NaN  ...        NaN       NaN        NaN       NaN         0   \n\n        PCTPELL  PCTFLOAN  UG25ABV  MD_EARN_WNE_P10  GRAD_DEBT_MDN_SUPP  \nSTABBR                                                                   \nTX       0.2595    0.5527   0.0381            40200               25985  \nTX       0.1549    0.0625   0.2841            34500                6750  \nTX       0.3786    0.1573   0.3431            31700               10950  \nTX       0.5308    0.0000   0.2603            26900   PrivacySuppressed  \nTX       0.4068    0.5279   0.1407            37700             21319.5  \n...         ...       ...      ...              ...                 ...  \nNY          NaN       NaN      NaN            38200             28720.5  \nNY          NaN       NaN      NaN              NaN               12050  \nNY          NaN       NaN      NaN            40900               26691  \nNY          NaN       NaN      NaN            52000             22143.5  \nNY          NaN       NaN      NaN            20000   PrivacySuppressed  \n\n[1704 rows x 26 columns]",
      "text/html": "<div>\n<style scoped>\n    .dataframe tbody tr th:only-of-type {\n        vertical-align: middle;\n    }\n\n    .dataframe tbody tr th {\n        vertical-align: top;\n    }\n\n    .dataframe thead th {\n        text-align: right;\n    }\n</style>\n<table border=\"1\" class=\"dataframe\">\n  <thead>\n    <tr style=\"text-align: right;\">\n      <th></th>\n      <th>INSTNM</th>\n      <th>CITY</th>\n      <th>HBCU</th>\n      <th>MENONLY</th>\n      <th>WOMENONLY</th>\n      <th>RELAFFIL</th>\n      <th>SATVRMID</th>\n      <th>SATMTMID</th>\n      <th>DISTANCEONLY</th>\n      <th>UGDS</th>\n      <th>...</th>\n      <th>UGDS_2MOR</th>\n      <th>UGDS_NRA</th>\n      <th>UGDS_UNKN</th>\n      <th>PPTUG_EF</th>\n      <th>CURROPER</th>\n      <th>PCTPELL</th>\n      <th>PCTFLOAN</th>\n      <th>UG25ABV</th>\n      <th>MD_EARN_WNE_P10</th>\n      <th>GRAD_DEBT_MDN_SUPP</th>\n    </tr>\n    <tr>\n      <th>STABBR</th>\n      <th></th>\n      <th></th>\n      <th></th>\n      <th></th>\n      <th></th>\n      <th></th>\n      <th></th>\n      <th></th>\n      <th></th>\n      <th></th>\n      <th></th>\n      <th></th>\n      <th></th>\n      <th></th>\n      <th></th>\n      <th></th>\n      <th></th>\n      <th></th>\n      <th></th>\n      <th></th>\n      <th></th>\n    </tr>\n  </thead>\n  <tbody>\n    <tr>\n      <th>TX</th>\n      <td>Abilene Christian University</td>\n      <td>Abilene</td>\n      <td>0.0</td>\n      <td>0.0</td>\n      <td>0.0</td>\n      <td>1</td>\n      <td>530.0</td>\n      <td>545.0</td>\n      <td>0.0</td>\n      <td>3572.0</td>\n      <td>...</td>\n      <td>0.0454</td>\n      <td>0.0423</td>\n      <td>0.0045</td>\n      <td>0.0468</td>\n      <td>1</td>\n      <td>0.2595</td>\n      <td>0.5527</td>\n      <td>0.0381</td>\n      <td>40200</td>\n      <td>25985</td>\n    </tr>\n    <tr>\n      <th>TX</th>\n      <td>Alvin Community College</td>\n      <td>Alvin</td>\n      <td>0.0</td>\n      <td>0.0</td>\n      <td>0.0</td>\n      <td>0</td>\n      <td>NaN</td>\n      <td>NaN</td>\n      <td>0.0</td>\n      <td>4682.0</td>\n      <td>...</td>\n      <td>0.0002</td>\n      <td>0.0000</td>\n      <td>0.0143</td>\n      <td>0.7123</td>\n      <td>1</td>\n      <td>0.1549</td>\n      <td>0.0625</td>\n      <td>0.2841</td>\n      <td>34500</td>\n      <td>6750</td>\n    </tr>\n    <tr>\n      <th>TX</th>\n      <td>Amarillo College</td>\n      <td>Amarillo</td>\n      <td>0.0</td>\n      <td>0.0</td>\n      <td>0.0</td>\n      <td>0</td>\n      <td>NaN</td>\n      <td>NaN</td>\n      <td>0.0</td>\n      <td>9346.0</td>\n      <td>...</td>\n      <td>0.0000</td>\n      <td>0.0001</td>\n      <td>0.0085</td>\n      <td>0.6922</td>\n      <td>1</td>\n      <td>0.3786</td>\n      <td>0.1573</td>\n      <td>0.3431</td>\n      <td>31700</td>\n      <td>10950</td>\n    </tr>\n    <tr>\n      <th>TX</th>\n      <td>Angelina College</td>\n      <td>Lufkin</td>\n      <td>0.0</td>\n      <td>0.0</td>\n      <td>0.0</td>\n      <td>0</td>\n      <td>NaN</td>\n      <td>NaN</td>\n      <td>0.0</td>\n      <td>3825.0</td>\n      <td>...</td>\n      <td>0.0264</td>\n      <td>0.0005</td>\n      <td>0.0000</td>\n      <td>0.5600</td>\n      <td>1</td>\n      <td>0.5308</td>\n      <td>0.0000</td>\n      <td>0.2603</td>\n      <td>26900</td>\n      <td>PrivacySuppressed</td>\n    </tr>\n    <tr>\n      <th>TX</th>\n      <td>Angelo State University</td>\n      <td>San Angelo</td>\n      <td>0.0</td>\n      <td>0.0</td>\n      <td>0.0</td>\n      <td>0</td>\n      <td>475.0</td>\n      <td>490.0</td>\n      <td>0.0</td>\n      <td>5290.0</td>\n      <td>...</td>\n      <td>0.0285</td>\n      <td>0.0331</td>\n      <td>0.0011</td>\n      <td>0.1289</td>\n      <td>1</td>\n      <td>0.4068</td>\n      <td>0.5279</td>\n      <td>0.1407</td>\n      <td>37700</td>\n      <td>21319.5</td>\n    </tr>\n    <tr>\n      <th>...</th>\n      <td>...</td>\n      <td>...</td>\n      <td>...</td>\n      <td>...</td>\n      <td>...</td>\n      <td>...</td>\n      <td>...</td>\n      <td>...</td>\n      <td>...</td>\n      <td>...</td>\n      <td>...</td>\n      <td>...</td>\n      <td>...</td>\n      <td>...</td>\n      <td>...</td>\n      <td>...</td>\n      <td>...</td>\n      <td>...</td>\n      <td>...</td>\n      <td>...</td>\n      <td>...</td>\n    </tr>\n    <tr>\n      <th>NY</th>\n      <td>Briarcliffe College–Patchogue</td>\n      <td>Patchogue</td>\n      <td>NaN</td>\n      <td>NaN</td>\n      <td>NaN</td>\n      <td>1</td>\n      <td>NaN</td>\n      <td>NaN</td>\n      <td>NaN</td>\n      <td>NaN</td>\n      <td>...</td>\n      <td>NaN</td>\n      <td>NaN</td>\n      <td>NaN</td>\n      <td>NaN</td>\n      <td>1</td>\n      <td>NaN</td>\n      <td>NaN</td>\n      <td>NaN</td>\n      <td>38200</td>\n      <td>28720.5</td>\n    </tr>\n    <tr>\n      <th>NY</th>\n      <td>Jamestown Business College -</td>\n      <td>Salamanca</td>\n      <td>NaN</td>\n      <td>NaN</td>\n      <td>NaN</td>\n      <td>1</td>\n      <td>NaN</td>\n      <td>NaN</td>\n      <td>NaN</td>\n      <td>NaN</td>\n      <td>...</td>\n      <td>NaN</td>\n      <td>NaN</td>\n      <td>NaN</td>\n      <td>NaN</td>\n      <td>1</td>\n      <td>NaN</td>\n      <td>NaN</td>\n      <td>NaN</td>\n      <td>NaN</td>\n      <td>12050</td>\n    </tr>\n    <tr>\n      <th>NY</th>\n      <td>Pratt Manhattan-A Division of Pratt Institute</td>\n      <td>New York</td>\n      <td>NaN</td>\n      <td>NaN</td>\n      <td>NaN</td>\n      <td>1</td>\n      <td>NaN</td>\n      <td>NaN</td>\n      <td>NaN</td>\n      <td>NaN</td>\n      <td>...</td>\n      <td>NaN</td>\n      <td>NaN</td>\n      <td>NaN</td>\n      <td>NaN</td>\n      <td>1</td>\n      <td>NaN</td>\n      <td>NaN</td>\n      <td>NaN</td>\n      <td>40900</td>\n      <td>26691</td>\n    </tr>\n    <tr>\n      <th>NY</th>\n      <td>Saint Josephs College-Long Island</td>\n      <td>Patchogue</td>\n      <td>NaN</td>\n      <td>NaN</td>\n      <td>NaN</td>\n      <td>1</td>\n      <td>NaN</td>\n      <td>NaN</td>\n      <td>NaN</td>\n      <td>NaN</td>\n      <td>...</td>\n      <td>NaN</td>\n      <td>NaN</td>\n      <td>NaN</td>\n      <td>NaN</td>\n      <td>1</td>\n      <td>NaN</td>\n      <td>NaN</td>\n      <td>NaN</td>\n      <td>52000</td>\n      <td>22143.5</td>\n    </tr>\n    <tr>\n      <th>NY</th>\n      <td>Franklin Career Institute - Brooklyn Campus</td>\n      <td>Brooklyn</td>\n      <td>NaN</td>\n      <td>NaN</td>\n      <td>NaN</td>\n      <td>1</td>\n      <td>NaN</td>\n      <td>NaN</td>\n      <td>NaN</td>\n      <td>NaN</td>\n      <td>...</td>\n      <td>NaN</td>\n      <td>NaN</td>\n      <td>NaN</td>\n      <td>NaN</td>\n      <td>0</td>\n      <td>NaN</td>\n      <td>NaN</td>\n      <td>NaN</td>\n      <td>20000</td>\n      <td>PrivacySuppressed</td>\n    </tr>\n  </tbody>\n</table>\n<p>1704 rows × 26 columns</p>\n</div>"
     },
     "execution_count": 50,
     "metadata": {},
     "output_type": "execute_result"
    }
   ],
   "source": [
    "college2.loc[states]"
   ],
   "metadata": {
    "collapsed": false
   }
  },
  {
   "cell_type": "markdown",
   "source": [
    "유일하고 정렬된 인덱스를 사용한 선택"
   ],
   "metadata": {
    "collapsed": false
   }
  },
  {
   "cell_type": "code",
   "execution_count": 51,
   "outputs": [],
   "source": [
    "college = pd.read_csv('data/college.csv')"
   ],
   "metadata": {
    "collapsed": false
   }
  },
  {
   "cell_type": "code",
   "execution_count": 52,
   "outputs": [],
   "source": [
    "college2 = college.set_index('STABBR')"
   ],
   "metadata": {
    "collapsed": false
   }
  },
  {
   "cell_type": "code",
   "execution_count": 53,
   "outputs": [
    {
     "name": "stderr",
     "output_type": "stream",
     "text": [
      "/var/folders/j_/hylrqd052y9czkfmjyyc7n7r0000gn/T/ipykernel_37340/866919544.py:1: FutureWarning: is_monotonic is deprecated and will be removed in a future version. Use is_monotonic_increasing instead.\n",
      "  college2.index.is_monotonic\n"
     ]
    },
    {
     "data": {
      "text/plain": "False"
     },
     "execution_count": 53,
     "metadata": {},
     "output_type": "execute_result"
    }
   ],
   "source": [
    "college2.index.is_monotonic"
   ],
   "metadata": {
    "collapsed": false
   }
  },
  {
   "cell_type": "code",
   "execution_count": 54,
   "outputs": [],
   "source": [
    "college3 = college2.sort_index()"
   ],
   "metadata": {
    "collapsed": false
   }
  },
  {
   "cell_type": "code",
   "execution_count": 55,
   "outputs": [
    {
     "name": "stderr",
     "output_type": "stream",
     "text": [
      "/var/folders/j_/hylrqd052y9czkfmjyyc7n7r0000gn/T/ipykernel_37340/2260553826.py:1: FutureWarning: is_monotonic is deprecated and will be removed in a future version. Use is_monotonic_increasing instead.\n",
      "  college3.index.is_monotonic\n"
     ]
    },
    {
     "data": {
      "text/plain": "True"
     },
     "execution_count": 55,
     "metadata": {},
     "output_type": "execute_result"
    }
   ],
   "source": [
    "college3.index.is_monotonic"
   ],
   "metadata": {
    "collapsed": false
   }
  },
  {
   "cell_type": "code",
   "execution_count": 56,
   "outputs": [
    {
     "name": "stdout",
     "output_type": "stream",
     "text": [
      "350 µs ± 4.83 µs per loop (mean ± std. dev. of 7 runs, 1,000 loops each)\n"
     ]
    }
   ],
   "source": [
    "%timeit college[college['STABBR'] == 'TX']"
   ],
   "metadata": {
    "collapsed": false
   }
  },
  {
   "cell_type": "code",
   "execution_count": 57,
   "outputs": [
    {
     "name": "stdout",
     "output_type": "stream",
     "text": [
      "141 µs ± 2.09 µs per loop (mean ± std. dev. of 7 runs, 10,000 loops each)\n"
     ]
    }
   ],
   "source": [
    "%timeit college2.loc['TX']"
   ],
   "metadata": {
    "collapsed": false
   }
  },
  {
   "cell_type": "code",
   "execution_count": 58,
   "outputs": [
    {
     "name": "stdout",
     "output_type": "stream",
     "text": [
      "17 µs ± 82.5 ns per loop (mean ± std. dev. of 7 runs, 100,000 loops each)\n"
     ]
    }
   ],
   "source": [
    "%timeit college3.loc['TX']"
   ],
   "metadata": {
    "collapsed": false
   }
  },
  {
   "cell_type": "code",
   "execution_count": 59,
   "outputs": [],
   "source": [
    "college_unique = college.set_index('INSTNM')"
   ],
   "metadata": {
    "collapsed": false
   }
  },
  {
   "cell_type": "code",
   "execution_count": 60,
   "outputs": [
    {
     "data": {
      "text/plain": "True"
     },
     "execution_count": 60,
     "metadata": {},
     "output_type": "execute_result"
    }
   ],
   "source": [
    "college_unique.index.is_unique"
   ],
   "metadata": {
    "collapsed": false
   }
  },
  {
   "cell_type": "code",
   "execution_count": 61,
   "outputs": [
    {
     "data": {
      "text/plain": "                   INSTNM      CITY STABBR  HBCU  MENONLY  WOMENONLY  \\\n4217  Stanford University  Stanford     CA   0.0      0.0        0.0   \n\n      RELAFFIL  SATVRMID  SATMTMID  DISTANCEONLY  ...  UGDS_2MOR  UGDS_NRA  \\\n4217         0     730.0     745.0           0.0  ...     0.1067    0.0819   \n\n      UGDS_UNKN  PPTUG_EF  CURROPER  PCTPELL  PCTFLOAN  UG25ABV  \\\n4217     0.0031       0.0         1   0.1556    0.1256   0.0401   \n\n      MD_EARN_WNE_P10  GRAD_DEBT_MDN_SUPP  \n4217            86000               12782  \n\n[1 rows x 27 columns]",
      "text/html": "<div>\n<style scoped>\n    .dataframe tbody tr th:only-of-type {\n        vertical-align: middle;\n    }\n\n    .dataframe tbody tr th {\n        vertical-align: top;\n    }\n\n    .dataframe thead th {\n        text-align: right;\n    }\n</style>\n<table border=\"1\" class=\"dataframe\">\n  <thead>\n    <tr style=\"text-align: right;\">\n      <th></th>\n      <th>INSTNM</th>\n      <th>CITY</th>\n      <th>STABBR</th>\n      <th>HBCU</th>\n      <th>MENONLY</th>\n      <th>WOMENONLY</th>\n      <th>RELAFFIL</th>\n      <th>SATVRMID</th>\n      <th>SATMTMID</th>\n      <th>DISTANCEONLY</th>\n      <th>...</th>\n      <th>UGDS_2MOR</th>\n      <th>UGDS_NRA</th>\n      <th>UGDS_UNKN</th>\n      <th>PPTUG_EF</th>\n      <th>CURROPER</th>\n      <th>PCTPELL</th>\n      <th>PCTFLOAN</th>\n      <th>UG25ABV</th>\n      <th>MD_EARN_WNE_P10</th>\n      <th>GRAD_DEBT_MDN_SUPP</th>\n    </tr>\n  </thead>\n  <tbody>\n    <tr>\n      <th>4217</th>\n      <td>Stanford University</td>\n      <td>Stanford</td>\n      <td>CA</td>\n      <td>0.0</td>\n      <td>0.0</td>\n      <td>0.0</td>\n      <td>0</td>\n      <td>730.0</td>\n      <td>745.0</td>\n      <td>0.0</td>\n      <td>...</td>\n      <td>0.1067</td>\n      <td>0.0819</td>\n      <td>0.0031</td>\n      <td>0.0</td>\n      <td>1</td>\n      <td>0.1556</td>\n      <td>0.1256</td>\n      <td>0.0401</td>\n      <td>86000</td>\n      <td>12782</td>\n    </tr>\n  </tbody>\n</table>\n<p>1 rows × 27 columns</p>\n</div>"
     },
     "execution_count": 61,
     "metadata": {},
     "output_type": "execute_result"
    }
   ],
   "source": [
    "college[college['INSTNM'] == 'Stanford University']"
   ],
   "metadata": {
    "collapsed": false
   }
  },
  {
   "cell_type": "code",
   "execution_count": 63,
   "outputs": [
    {
     "data": {
      "text/plain": "                         CITY STABBR  HBCU  MENONLY  WOMENONLY  RELAFFIL  \\\nINSTNM                                                                     \nStanford University  Stanford     CA   0.0      0.0        0.0         0   \n\n                     SATVRMID  SATMTMID  DISTANCEONLY    UGDS  ...  UGDS_2MOR  \\\nINSTNM                                                         ...              \nStanford University     730.0     745.0           0.0  7018.0  ...     0.1067   \n\n                     UGDS_NRA  UGDS_UNKN  PPTUG_EF  CURROPER  PCTPELL  \\\nINSTNM                                                                  \nStanford University    0.0819     0.0031       0.0         1   0.1556   \n\n                     PCTFLOAN  UG25ABV  MD_EARN_WNE_P10  GRAD_DEBT_MDN_SUPP  \nINSTNM                                                                       \nStanford University    0.1256   0.0401            86000               12782  \n\n[1 rows x 26 columns]",
      "text/html": "<div>\n<style scoped>\n    .dataframe tbody tr th:only-of-type {\n        vertical-align: middle;\n    }\n\n    .dataframe tbody tr th {\n        vertical-align: top;\n    }\n\n    .dataframe thead th {\n        text-align: right;\n    }\n</style>\n<table border=\"1\" class=\"dataframe\">\n  <thead>\n    <tr style=\"text-align: right;\">\n      <th></th>\n      <th>CITY</th>\n      <th>STABBR</th>\n      <th>HBCU</th>\n      <th>MENONLY</th>\n      <th>WOMENONLY</th>\n      <th>RELAFFIL</th>\n      <th>SATVRMID</th>\n      <th>SATMTMID</th>\n      <th>DISTANCEONLY</th>\n      <th>UGDS</th>\n      <th>...</th>\n      <th>UGDS_2MOR</th>\n      <th>UGDS_NRA</th>\n      <th>UGDS_UNKN</th>\n      <th>PPTUG_EF</th>\n      <th>CURROPER</th>\n      <th>PCTPELL</th>\n      <th>PCTFLOAN</th>\n      <th>UG25ABV</th>\n      <th>MD_EARN_WNE_P10</th>\n      <th>GRAD_DEBT_MDN_SUPP</th>\n    </tr>\n    <tr>\n      <th>INSTNM</th>\n      <th></th>\n      <th></th>\n      <th></th>\n      <th></th>\n      <th></th>\n      <th></th>\n      <th></th>\n      <th></th>\n      <th></th>\n      <th></th>\n      <th></th>\n      <th></th>\n      <th></th>\n      <th></th>\n      <th></th>\n      <th></th>\n      <th></th>\n      <th></th>\n      <th></th>\n      <th></th>\n      <th></th>\n    </tr>\n  </thead>\n  <tbody>\n    <tr>\n      <th>Stanford University</th>\n      <td>Stanford</td>\n      <td>CA</td>\n      <td>0.0</td>\n      <td>0.0</td>\n      <td>0.0</td>\n      <td>0</td>\n      <td>730.0</td>\n      <td>745.0</td>\n      <td>0.0</td>\n      <td>7018.0</td>\n      <td>...</td>\n      <td>0.1067</td>\n      <td>0.0819</td>\n      <td>0.0031</td>\n      <td>0.0</td>\n      <td>1</td>\n      <td>0.1556</td>\n      <td>0.1256</td>\n      <td>0.0401</td>\n      <td>86000</td>\n      <td>12782</td>\n    </tr>\n  </tbody>\n</table>\n<p>1 rows × 26 columns</p>\n</div>"
     },
     "execution_count": 63,
     "metadata": {},
     "output_type": "execute_result"
    }
   ],
   "source": [
    "college_unique.loc[['Stanford University']]"
   ],
   "metadata": {
    "collapsed": false
   }
  },
  {
   "cell_type": "code",
   "execution_count": 64,
   "outputs": [
    {
     "name": "stdout",
     "output_type": "stream",
     "text": [
      "309 µs ± 13.9 µs per loop (mean ± std. dev. of 7 runs, 1,000 loops each)\n"
     ]
    }
   ],
   "source": [
    "%timeit college[college['INSTNM'] == 'Stanford University']"
   ],
   "metadata": {
    "collapsed": false
   }
  },
  {
   "cell_type": "code",
   "execution_count": 65,
   "outputs": [
    {
     "name": "stdout",
     "output_type": "stream",
     "text": [
      "119 µs ± 1.98 µs per loop (mean ± std. dev. of 7 runs, 10,000 loops each)\n"
     ]
    }
   ],
   "source": [
    "%timeit college_unique.loc[['Stanford University']]"
   ],
   "metadata": {
    "collapsed": false
   }
  },
  {
   "cell_type": "code",
   "execution_count": 66,
   "outputs": [],
   "source": [
    "college.index = (\n",
    "    college['CITY'] + ', ' + college['STABBR']\n",
    ")"
   ],
   "metadata": {
    "collapsed": false
   }
  },
  {
   "cell_type": "code",
   "execution_count": 67,
   "outputs": [],
   "source": [
    "college = college.sort_index()"
   ],
   "metadata": {
    "collapsed": false
   }
  },
  {
   "cell_type": "code",
   "execution_count": 68,
   "outputs": [
    {
     "data": {
      "text/plain": "                                 INSTNM      CITY STABBR  HBCU  MENONLY  \\\nARTESIA, CA           Angeles Institute   ARTESIA     CA   0.0      0.0   \nAberdeen, SD       Presentation College  Aberdeen     SD   0.0      0.0   \nAberdeen, SD  Northern State University  Aberdeen     SD   0.0      0.0   \nAberdeen, WA       Grays Harbor College  Aberdeen     WA   0.0      0.0   \nAbilene, TX   Hardin-Simmons University   Abilene     TX   0.0      0.0   \n\n              WOMENONLY  RELAFFIL  SATVRMID  SATMTMID  DISTANCEONLY  ...  \\\nARTESIA, CA         0.0         0       NaN       NaN           0.0  ...   \nAberdeen, SD        0.0         1     440.0     480.0           0.0  ...   \nAberdeen, SD        0.0         0     480.0     475.0           0.0  ...   \nAberdeen, WA        0.0         0       NaN       NaN           0.0  ...   \nAbilene, TX         0.0         1     508.0     515.0           0.0  ...   \n\n              UGDS_2MOR  UGDS_NRA  UGDS_UNKN  PPTUG_EF  CURROPER  PCTPELL  \\\nARTESIA, CA      0.0175    0.0088     0.0088    0.0000         1   0.6275   \nAberdeen, SD     0.0284    0.0142     0.0823    0.2865         1   0.4829   \nAberdeen, SD     0.0219    0.0425     0.0024    0.1872         1   0.2272   \nAberdeen, WA     0.0937    0.0009     0.0250    0.1820         1   0.4530   \nAbilene, TX      0.0298    0.0159     0.0102    0.0685         1   0.3256   \n\n              PCTFLOAN  UG25ABV  MD_EARN_WNE_P10  GRAD_DEBT_MDN_SUPP  \nARTESIA, CA     0.8138   0.5429              NaN               16850  \nAberdeen, SD    0.7560   0.3097            35900               25000  \nAberdeen, SD    0.4303   0.1766            33600               24847  \nAberdeen, WA    0.1502   0.5087            27000               11490  \nAbilene, TX     0.5547   0.0982            38700               25864  \n\n[5 rows x 27 columns]",
      "text/html": "<div>\n<style scoped>\n    .dataframe tbody tr th:only-of-type {\n        vertical-align: middle;\n    }\n\n    .dataframe tbody tr th {\n        vertical-align: top;\n    }\n\n    .dataframe thead th {\n        text-align: right;\n    }\n</style>\n<table border=\"1\" class=\"dataframe\">\n  <thead>\n    <tr style=\"text-align: right;\">\n      <th></th>\n      <th>INSTNM</th>\n      <th>CITY</th>\n      <th>STABBR</th>\n      <th>HBCU</th>\n      <th>MENONLY</th>\n      <th>WOMENONLY</th>\n      <th>RELAFFIL</th>\n      <th>SATVRMID</th>\n      <th>SATMTMID</th>\n      <th>DISTANCEONLY</th>\n      <th>...</th>\n      <th>UGDS_2MOR</th>\n      <th>UGDS_NRA</th>\n      <th>UGDS_UNKN</th>\n      <th>PPTUG_EF</th>\n      <th>CURROPER</th>\n      <th>PCTPELL</th>\n      <th>PCTFLOAN</th>\n      <th>UG25ABV</th>\n      <th>MD_EARN_WNE_P10</th>\n      <th>GRAD_DEBT_MDN_SUPP</th>\n    </tr>\n  </thead>\n  <tbody>\n    <tr>\n      <th>ARTESIA, CA</th>\n      <td>Angeles Institute</td>\n      <td>ARTESIA</td>\n      <td>CA</td>\n      <td>0.0</td>\n      <td>0.0</td>\n      <td>0.0</td>\n      <td>0</td>\n      <td>NaN</td>\n      <td>NaN</td>\n      <td>0.0</td>\n      <td>...</td>\n      <td>0.0175</td>\n      <td>0.0088</td>\n      <td>0.0088</td>\n      <td>0.0000</td>\n      <td>1</td>\n      <td>0.6275</td>\n      <td>0.8138</td>\n      <td>0.5429</td>\n      <td>NaN</td>\n      <td>16850</td>\n    </tr>\n    <tr>\n      <th>Aberdeen, SD</th>\n      <td>Presentation College</td>\n      <td>Aberdeen</td>\n      <td>SD</td>\n      <td>0.0</td>\n      <td>0.0</td>\n      <td>0.0</td>\n      <td>1</td>\n      <td>440.0</td>\n      <td>480.0</td>\n      <td>0.0</td>\n      <td>...</td>\n      <td>0.0284</td>\n      <td>0.0142</td>\n      <td>0.0823</td>\n      <td>0.2865</td>\n      <td>1</td>\n      <td>0.4829</td>\n      <td>0.7560</td>\n      <td>0.3097</td>\n      <td>35900</td>\n      <td>25000</td>\n    </tr>\n    <tr>\n      <th>Aberdeen, SD</th>\n      <td>Northern State University</td>\n      <td>Aberdeen</td>\n      <td>SD</td>\n      <td>0.0</td>\n      <td>0.0</td>\n      <td>0.0</td>\n      <td>0</td>\n      <td>480.0</td>\n      <td>475.0</td>\n      <td>0.0</td>\n      <td>...</td>\n      <td>0.0219</td>\n      <td>0.0425</td>\n      <td>0.0024</td>\n      <td>0.1872</td>\n      <td>1</td>\n      <td>0.2272</td>\n      <td>0.4303</td>\n      <td>0.1766</td>\n      <td>33600</td>\n      <td>24847</td>\n    </tr>\n    <tr>\n      <th>Aberdeen, WA</th>\n      <td>Grays Harbor College</td>\n      <td>Aberdeen</td>\n      <td>WA</td>\n      <td>0.0</td>\n      <td>0.0</td>\n      <td>0.0</td>\n      <td>0</td>\n      <td>NaN</td>\n      <td>NaN</td>\n      <td>0.0</td>\n      <td>...</td>\n      <td>0.0937</td>\n      <td>0.0009</td>\n      <td>0.0250</td>\n      <td>0.1820</td>\n      <td>1</td>\n      <td>0.4530</td>\n      <td>0.1502</td>\n      <td>0.5087</td>\n      <td>27000</td>\n      <td>11490</td>\n    </tr>\n    <tr>\n      <th>Abilene, TX</th>\n      <td>Hardin-Simmons University</td>\n      <td>Abilene</td>\n      <td>TX</td>\n      <td>0.0</td>\n      <td>0.0</td>\n      <td>0.0</td>\n      <td>1</td>\n      <td>508.0</td>\n      <td>515.0</td>\n      <td>0.0</td>\n      <td>...</td>\n      <td>0.0298</td>\n      <td>0.0159</td>\n      <td>0.0102</td>\n      <td>0.0685</td>\n      <td>1</td>\n      <td>0.3256</td>\n      <td>0.5547</td>\n      <td>0.0982</td>\n      <td>38700</td>\n      <td>25864</td>\n    </tr>\n  </tbody>\n</table>\n<p>5 rows × 27 columns</p>\n</div>"
     },
     "execution_count": 68,
     "metadata": {},
     "output_type": "execute_result"
    }
   ],
   "source": [
    "college.head()"
   ],
   "metadata": {
    "collapsed": false
   }
  },
  {
   "cell_type": "code",
   "execution_count": 69,
   "outputs": [
    {
     "data": {
      "text/plain": "                                              INSTNM   CITY STABBR  HBCU  \\\nMiami, FL        New Professions Technical Institute  Miami     FL   0.0   \nMiami, FL               Management Resources College  Miami     FL   0.0   \nMiami, FL                   Strayer University-Doral  Miami     FL   NaN   \nMiami, FL                   Keiser University- Miami  Miami     FL   NaN   \nMiami, FL  George T Baker Aviation Technical College  Miami     FL   0.0   \n\n           MENONLY  WOMENONLY  RELAFFIL  SATVRMID  SATMTMID  DISTANCEONLY  \\\nMiami, FL      0.0        0.0         0       NaN       NaN           0.0   \nMiami, FL      0.0        0.0         0       NaN       NaN           0.0   \nMiami, FL      NaN        NaN         1       NaN       NaN           NaN   \nMiami, FL      NaN        NaN         1       NaN       NaN           NaN   \nMiami, FL      0.0        0.0         0       NaN       NaN           0.0   \n\n           ...  UGDS_2MOR  UGDS_NRA  UGDS_UNKN  PPTUG_EF  CURROPER  PCTPELL  \\\nMiami, FL  ...     0.0000       0.0        0.0    0.4464         1   0.8701   \nMiami, FL  ...     0.0000       0.0        0.0    0.0000         1   0.4239   \nMiami, FL  ...        NaN       NaN        NaN       NaN         1      NaN   \nMiami, FL  ...        NaN       NaN        NaN       NaN         1      NaN   \nMiami, FL  ...     0.0046       0.0        0.0    0.5686         1   0.2567   \n\n           PCTFLOAN  UG25ABV    MD_EARN_WNE_P10  GRAD_DEBT_MDN_SUPP  \nMiami, FL    0.6780   0.8358              18700                8682  \nMiami, FL    0.5458   0.8698  PrivacySuppressed               12182  \nMiami, FL       NaN      NaN              49200             36173.5  \nMiami, FL       NaN      NaN              29700               26063  \nMiami, FL    0.0000   0.4366              38600   PrivacySuppressed  \n\n[5 rows x 27 columns]",
      "text/html": "<div>\n<style scoped>\n    .dataframe tbody tr th:only-of-type {\n        vertical-align: middle;\n    }\n\n    .dataframe tbody tr th {\n        vertical-align: top;\n    }\n\n    .dataframe thead th {\n        text-align: right;\n    }\n</style>\n<table border=\"1\" class=\"dataframe\">\n  <thead>\n    <tr style=\"text-align: right;\">\n      <th></th>\n      <th>INSTNM</th>\n      <th>CITY</th>\n      <th>STABBR</th>\n      <th>HBCU</th>\n      <th>MENONLY</th>\n      <th>WOMENONLY</th>\n      <th>RELAFFIL</th>\n      <th>SATVRMID</th>\n      <th>SATMTMID</th>\n      <th>DISTANCEONLY</th>\n      <th>...</th>\n      <th>UGDS_2MOR</th>\n      <th>UGDS_NRA</th>\n      <th>UGDS_UNKN</th>\n      <th>PPTUG_EF</th>\n      <th>CURROPER</th>\n      <th>PCTPELL</th>\n      <th>PCTFLOAN</th>\n      <th>UG25ABV</th>\n      <th>MD_EARN_WNE_P10</th>\n      <th>GRAD_DEBT_MDN_SUPP</th>\n    </tr>\n  </thead>\n  <tbody>\n    <tr>\n      <th>Miami, FL</th>\n      <td>New Professions Technical Institute</td>\n      <td>Miami</td>\n      <td>FL</td>\n      <td>0.0</td>\n      <td>0.0</td>\n      <td>0.0</td>\n      <td>0</td>\n      <td>NaN</td>\n      <td>NaN</td>\n      <td>0.0</td>\n      <td>...</td>\n      <td>0.0000</td>\n      <td>0.0</td>\n      <td>0.0</td>\n      <td>0.4464</td>\n      <td>1</td>\n      <td>0.8701</td>\n      <td>0.6780</td>\n      <td>0.8358</td>\n      <td>18700</td>\n      <td>8682</td>\n    </tr>\n    <tr>\n      <th>Miami, FL</th>\n      <td>Management Resources College</td>\n      <td>Miami</td>\n      <td>FL</td>\n      <td>0.0</td>\n      <td>0.0</td>\n      <td>0.0</td>\n      <td>0</td>\n      <td>NaN</td>\n      <td>NaN</td>\n      <td>0.0</td>\n      <td>...</td>\n      <td>0.0000</td>\n      <td>0.0</td>\n      <td>0.0</td>\n      <td>0.0000</td>\n      <td>1</td>\n      <td>0.4239</td>\n      <td>0.5458</td>\n      <td>0.8698</td>\n      <td>PrivacySuppressed</td>\n      <td>12182</td>\n    </tr>\n    <tr>\n      <th>Miami, FL</th>\n      <td>Strayer University-Doral</td>\n      <td>Miami</td>\n      <td>FL</td>\n      <td>NaN</td>\n      <td>NaN</td>\n      <td>NaN</td>\n      <td>1</td>\n      <td>NaN</td>\n      <td>NaN</td>\n      <td>NaN</td>\n      <td>...</td>\n      <td>NaN</td>\n      <td>NaN</td>\n      <td>NaN</td>\n      <td>NaN</td>\n      <td>1</td>\n      <td>NaN</td>\n      <td>NaN</td>\n      <td>NaN</td>\n      <td>49200</td>\n      <td>36173.5</td>\n    </tr>\n    <tr>\n      <th>Miami, FL</th>\n      <td>Keiser University- Miami</td>\n      <td>Miami</td>\n      <td>FL</td>\n      <td>NaN</td>\n      <td>NaN</td>\n      <td>NaN</td>\n      <td>1</td>\n      <td>NaN</td>\n      <td>NaN</td>\n      <td>NaN</td>\n      <td>...</td>\n      <td>NaN</td>\n      <td>NaN</td>\n      <td>NaN</td>\n      <td>NaN</td>\n      <td>1</td>\n      <td>NaN</td>\n      <td>NaN</td>\n      <td>NaN</td>\n      <td>29700</td>\n      <td>26063</td>\n    </tr>\n    <tr>\n      <th>Miami, FL</th>\n      <td>George T Baker Aviation Technical College</td>\n      <td>Miami</td>\n      <td>FL</td>\n      <td>0.0</td>\n      <td>0.0</td>\n      <td>0.0</td>\n      <td>0</td>\n      <td>NaN</td>\n      <td>NaN</td>\n      <td>0.0</td>\n      <td>...</td>\n      <td>0.0046</td>\n      <td>0.0</td>\n      <td>0.0</td>\n      <td>0.5686</td>\n      <td>1</td>\n      <td>0.2567</td>\n      <td>0.0000</td>\n      <td>0.4366</td>\n      <td>38600</td>\n      <td>PrivacySuppressed</td>\n    </tr>\n  </tbody>\n</table>\n<p>5 rows × 27 columns</p>\n</div>"
     },
     "execution_count": 69,
     "metadata": {},
     "output_type": "execute_result"
    }
   ],
   "source": [
    "college.loc['Miami, FL'].head()"
   ],
   "metadata": {
    "collapsed": false
   }
  },
  {
   "cell_type": "code",
   "execution_count": 71,
   "outputs": [
    {
     "name": "stdout",
     "output_type": "stream",
     "text": [
      "619 µs ± 9.38 µs per loop (mean ± std. dev. of 7 runs, 1,000 loops each)\n"
     ]
    }
   ],
   "source": [
    "%%timeit\n",
    "crit1 = college['CITY'] == 'Miami'\n",
    "crit2 = college['STABBR'] == 'FL'\n",
    "college[crit1 & crit2]"
   ],
   "metadata": {
    "collapsed": false
   }
  },
  {
   "cell_type": "code",
   "execution_count": 72,
   "outputs": [
    {
     "name": "stdout",
     "output_type": "stream",
     "text": [
      "17.2 µs ± 116 ns per loop (mean ± std. dev. of 7 runs, 100,000 loops each)\n"
     ]
    }
   ],
   "source": [
    "%timeit college.loc['Miami, FL']"
   ],
   "metadata": {
    "collapsed": false
   }
  },
  {
   "cell_type": "markdown",
   "source": [
    "SQL WHERE 절 해석"
   ],
   "metadata": {
    "collapsed": false
   }
  },
  {
   "cell_type": "code",
   "execution_count": 2,
   "outputs": [],
   "source": [
    "import pandas as pd\n",
    "import numpy as np"
   ],
   "metadata": {
    "collapsed": false
   }
  },
  {
   "cell_type": "code",
   "execution_count": 3,
   "outputs": [],
   "source": [
    "employee = pd.read_csv('data/employee.csv')"
   ],
   "metadata": {
    "collapsed": false
   }
  },
  {
   "cell_type": "code",
   "execution_count": 4,
   "outputs": [
    {
     "data": {
      "text/plain": "UNIQUE_ID              int64\nPOSITION_TITLE        object\nDEPARTMENT            object\nBASE_SALARY          float64\nRACE                  object\nEMPLOYMENT_TYPE       object\nGENDER                object\nEMPLOYMENT_STATUS     object\nHIRE_DATE             object\nJOB_DATE              object\ndtype: object"
     },
     "execution_count": 4,
     "metadata": {},
     "output_type": "execute_result"
    }
   ],
   "source": [
    "employee.dtypes"
   ],
   "metadata": {
    "collapsed": false
   }
  },
  {
   "cell_type": "code",
   "execution_count": 5,
   "outputs": [
    {
     "data": {
      "text/plain": "Houston Police Department-HPD     638\nHouston Fire Department (HFD)     384\nPublic Works & Engineering-PWE    343\nHealth & Human Services           110\nHouston Airport System (HAS)      106\nName: DEPARTMENT, dtype: int64"
     },
     "execution_count": 5,
     "metadata": {},
     "output_type": "execute_result"
    }
   ],
   "source": [
    "employee.DEPARTMENT.value_counts().head()"
   ],
   "metadata": {
    "collapsed": false
   }
  },
  {
   "cell_type": "code",
   "execution_count": 6,
   "outputs": [
    {
     "data": {
      "text/plain": "Male      1397\nFemale     603\nName: GENDER, dtype: int64"
     },
     "execution_count": 6,
     "metadata": {},
     "output_type": "execute_result"
    }
   ],
   "source": [
    "employee.GENDER.value_counts()"
   ],
   "metadata": {
    "collapsed": false
   }
  },
  {
   "cell_type": "code",
   "execution_count": 7,
   "outputs": [
    {
     "data": {
      "text/plain": "count      1886.000000\nmean      55767.931601\nstd       21693.706679\nmin       24960.000000\n25%       40170.000000\n50%       54461.000000\n75%       66614.000000\nmax      275000.000000\nName: BASE_SALARY, dtype: float64"
     },
     "execution_count": 7,
     "metadata": {},
     "output_type": "execute_result"
    }
   ],
   "source": [
    "employee.BASE_SALARY.describe()"
   ],
   "metadata": {
    "collapsed": false
   }
  },
  {
   "cell_type": "code",
   "execution_count": 8,
   "outputs": [],
   "source": [
    "depts = [\n",
    "    'Houston Police Department-HPD',\n",
    "    'Houston Fire Department (HFD)'\n",
    "]"
   ],
   "metadata": {
    "collapsed": false
   }
  },
  {
   "cell_type": "code",
   "execution_count": 9,
   "outputs": [],
   "source": [
    "criteria_dept = employee.DEPARTMENT.isin(depts)"
   ],
   "metadata": {
    "collapsed": false
   }
  },
  {
   "cell_type": "code",
   "execution_count": 11,
   "outputs": [],
   "source": [
    "criteria_gender = employee.GENDER == 'Female'"
   ],
   "metadata": {
    "collapsed": false
   }
  },
  {
   "cell_type": "code",
   "execution_count": 12,
   "outputs": [],
   "source": [
    "criteria_sal = (employee.BASE_SALARY >= 80000) & (\n",
    "    employee.BASE_SALARY <= 120000\n",
    ")"
   ],
   "metadata": {
    "collapsed": false
   }
  },
  {
   "cell_type": "code",
   "execution_count": 13,
   "outputs": [],
   "source": [
    "criteria_final = (\n",
    "    criteria_dept & criteria_gender & criteria_sal\n",
    ")"
   ],
   "metadata": {
    "collapsed": false
   }
  },
  {
   "cell_type": "code",
   "execution_count": 14,
   "outputs": [],
   "source": [
    "select_columns = [\n",
    "    'UNIQUE_ID',\n",
    "    'DEPARTMENT',\n",
    "    'GENDER',\n",
    "    'BASE_SALARY'\n",
    "]"
   ],
   "metadata": {
    "collapsed": false
   }
  },
  {
   "cell_type": "code",
   "execution_count": 15,
   "outputs": [
    {
     "data": {
      "text/plain": "     UNIQUE_ID                     DEPARTMENT  GENDER  BASE_SALARY\n61          61  Houston Fire Department (HFD)  Female      96668.0\n136        136  Houston Police Department-HPD  Female      81239.0\n367        367  Houston Police Department-HPD  Female      86534.0\n474        474  Houston Police Department-HPD  Female      91181.0\n513        513  Houston Police Department-HPD  Female      81239.0",
      "text/html": "<div>\n<style scoped>\n    .dataframe tbody tr th:only-of-type {\n        vertical-align: middle;\n    }\n\n    .dataframe tbody tr th {\n        vertical-align: top;\n    }\n\n    .dataframe thead th {\n        text-align: right;\n    }\n</style>\n<table border=\"1\" class=\"dataframe\">\n  <thead>\n    <tr style=\"text-align: right;\">\n      <th></th>\n      <th>UNIQUE_ID</th>\n      <th>DEPARTMENT</th>\n      <th>GENDER</th>\n      <th>BASE_SALARY</th>\n    </tr>\n  </thead>\n  <tbody>\n    <tr>\n      <th>61</th>\n      <td>61</td>\n      <td>Houston Fire Department (HFD)</td>\n      <td>Female</td>\n      <td>96668.0</td>\n    </tr>\n    <tr>\n      <th>136</th>\n      <td>136</td>\n      <td>Houston Police Department-HPD</td>\n      <td>Female</td>\n      <td>81239.0</td>\n    </tr>\n    <tr>\n      <th>367</th>\n      <td>367</td>\n      <td>Houston Police Department-HPD</td>\n      <td>Female</td>\n      <td>86534.0</td>\n    </tr>\n    <tr>\n      <th>474</th>\n      <td>474</td>\n      <td>Houston Police Department-HPD</td>\n      <td>Female</td>\n      <td>91181.0</td>\n    </tr>\n    <tr>\n      <th>513</th>\n      <td>513</td>\n      <td>Houston Police Department-HPD</td>\n      <td>Female</td>\n      <td>81239.0</td>\n    </tr>\n  </tbody>\n</table>\n</div>"
     },
     "execution_count": 15,
     "metadata": {},
     "output_type": "execute_result"
    }
   ],
   "source": [
    "employee.loc[criteria_final, select_columns].head()"
   ],
   "metadata": {
    "collapsed": false
   }
  },
  {
   "cell_type": "code",
   "execution_count": 16,
   "outputs": [],
   "source": [
    "criteria_sal = employee.BASE_SALARY.between(\n",
    "    80_000, 120_000\n",
    ")"
   ],
   "metadata": {
    "collapsed": false
   }
  },
  {
   "cell_type": "code",
   "execution_count": 17,
   "outputs": [],
   "source": [
    "top_5_depts = employee.DEPARTMENT.value_counts().index[\n",
    "    :5\n",
    "]"
   ],
   "metadata": {
    "collapsed": false
   }
  },
  {
   "cell_type": "code",
   "execution_count": 18,
   "outputs": [],
   "source": [
    "criteria = ~employee.DEPARTMENT.isin(top_5_depts)"
   ],
   "metadata": {
    "collapsed": false
   }
  },
  {
   "cell_type": "code",
   "execution_count": 19,
   "outputs": [
    {
     "data": {
      "text/plain": "      UNIQUE_ID                     POSITION_TITLE  \\\n0             0        ASSISTANT DIRECTOR (EX LVL)   \n1             1                  LIBRARY ASSISTANT   \n4             4                        ELECTRICIAN   \n18           18           MAINTENANCE MECHANIC III   \n32           32                  SENIOR ACCOUNTANT   \n...         ...                                ...   \n1976       1976         SENIOR SIDELOADER OPERATOR   \n1983       1983          ADMINISTRATIVE SPECIALIST   \n1985       1985                       TRUCK DRIVER   \n1988       1988  SENIOR ASSISTANT CITY ATTORNEY II   \n1990       1990    BUILDING MAINTENANCE SUPERVISOR   \n\n                       DEPARTMENT  BASE_SALARY                       RACE  \\\n0     Municipal Courts Department     121862.0            Hispanic/Latino   \n1                         Library      26125.0            Hispanic/Latino   \n4     General Services Department      56347.0                      White   \n18    General Services Department      40581.0            Hispanic/Latino   \n32                        Finance      46963.0  Black or African American   \n...                           ...          ...                        ...   \n1976       Solid Waste Management      34466.0            Hispanic/Latino   \n1983   Admn. & Regulatory Affairs      55172.0  Black or African American   \n1985  Fleet Management Department      30222.0  Black or African American   \n1988             Legal Department     124115.0                      White   \n1990           Parks & Recreation      30347.0  Black or African American   \n\n     EMPLOYMENT_TYPE  GENDER EMPLOYMENT_STATUS   HIRE_DATE    JOB_DATE  \n0          Full Time  Female            Active  2006-06-12  2012-10-13  \n1          Full Time  Female            Active  2000-07-19  2010-09-18  \n4          Full Time    Male            Active  1989-06-19  1994-10-22  \n18         Full Time    Male            Active  2008-12-29  2008-12-29  \n32         Full Time    Male            Active  1991-02-11  2016-02-13  \n...              ...     ...               ...         ...         ...  \n1976       Full Time  Female            Active  2015-07-20  2016-01-30  \n1983       Full Time  Female            Active  2006-10-16  2006-10-16  \n1985       Full Time    Male            Active  2013-06-10  2015-08-01  \n1988       Full Time    Male            Active  2013-01-23  2013-03-02  \n1990       Full Time  Female            Active  1995-10-14  2010-03-20  \n\n[419 rows x 10 columns]",
      "text/html": "<div>\n<style scoped>\n    .dataframe tbody tr th:only-of-type {\n        vertical-align: middle;\n    }\n\n    .dataframe tbody tr th {\n        vertical-align: top;\n    }\n\n    .dataframe thead th {\n        text-align: right;\n    }\n</style>\n<table border=\"1\" class=\"dataframe\">\n  <thead>\n    <tr style=\"text-align: right;\">\n      <th></th>\n      <th>UNIQUE_ID</th>\n      <th>POSITION_TITLE</th>\n      <th>DEPARTMENT</th>\n      <th>BASE_SALARY</th>\n      <th>RACE</th>\n      <th>EMPLOYMENT_TYPE</th>\n      <th>GENDER</th>\n      <th>EMPLOYMENT_STATUS</th>\n      <th>HIRE_DATE</th>\n      <th>JOB_DATE</th>\n    </tr>\n  </thead>\n  <tbody>\n    <tr>\n      <th>0</th>\n      <td>0</td>\n      <td>ASSISTANT DIRECTOR (EX LVL)</td>\n      <td>Municipal Courts Department</td>\n      <td>121862.0</td>\n      <td>Hispanic/Latino</td>\n      <td>Full Time</td>\n      <td>Female</td>\n      <td>Active</td>\n      <td>2006-06-12</td>\n      <td>2012-10-13</td>\n    </tr>\n    <tr>\n      <th>1</th>\n      <td>1</td>\n      <td>LIBRARY ASSISTANT</td>\n      <td>Library</td>\n      <td>26125.0</td>\n      <td>Hispanic/Latino</td>\n      <td>Full Time</td>\n      <td>Female</td>\n      <td>Active</td>\n      <td>2000-07-19</td>\n      <td>2010-09-18</td>\n    </tr>\n    <tr>\n      <th>4</th>\n      <td>4</td>\n      <td>ELECTRICIAN</td>\n      <td>General Services Department</td>\n      <td>56347.0</td>\n      <td>White</td>\n      <td>Full Time</td>\n      <td>Male</td>\n      <td>Active</td>\n      <td>1989-06-19</td>\n      <td>1994-10-22</td>\n    </tr>\n    <tr>\n      <th>18</th>\n      <td>18</td>\n      <td>MAINTENANCE MECHANIC III</td>\n      <td>General Services Department</td>\n      <td>40581.0</td>\n      <td>Hispanic/Latino</td>\n      <td>Full Time</td>\n      <td>Male</td>\n      <td>Active</td>\n      <td>2008-12-29</td>\n      <td>2008-12-29</td>\n    </tr>\n    <tr>\n      <th>32</th>\n      <td>32</td>\n      <td>SENIOR ACCOUNTANT</td>\n      <td>Finance</td>\n      <td>46963.0</td>\n      <td>Black or African American</td>\n      <td>Full Time</td>\n      <td>Male</td>\n      <td>Active</td>\n      <td>1991-02-11</td>\n      <td>2016-02-13</td>\n    </tr>\n    <tr>\n      <th>...</th>\n      <td>...</td>\n      <td>...</td>\n      <td>...</td>\n      <td>...</td>\n      <td>...</td>\n      <td>...</td>\n      <td>...</td>\n      <td>...</td>\n      <td>...</td>\n      <td>...</td>\n    </tr>\n    <tr>\n      <th>1976</th>\n      <td>1976</td>\n      <td>SENIOR SIDELOADER OPERATOR</td>\n      <td>Solid Waste Management</td>\n      <td>34466.0</td>\n      <td>Hispanic/Latino</td>\n      <td>Full Time</td>\n      <td>Female</td>\n      <td>Active</td>\n      <td>2015-07-20</td>\n      <td>2016-01-30</td>\n    </tr>\n    <tr>\n      <th>1983</th>\n      <td>1983</td>\n      <td>ADMINISTRATIVE SPECIALIST</td>\n      <td>Admn. &amp; Regulatory Affairs</td>\n      <td>55172.0</td>\n      <td>Black or African American</td>\n      <td>Full Time</td>\n      <td>Female</td>\n      <td>Active</td>\n      <td>2006-10-16</td>\n      <td>2006-10-16</td>\n    </tr>\n    <tr>\n      <th>1985</th>\n      <td>1985</td>\n      <td>TRUCK DRIVER</td>\n      <td>Fleet Management Department</td>\n      <td>30222.0</td>\n      <td>Black or African American</td>\n      <td>Full Time</td>\n      <td>Male</td>\n      <td>Active</td>\n      <td>2013-06-10</td>\n      <td>2015-08-01</td>\n    </tr>\n    <tr>\n      <th>1988</th>\n      <td>1988</td>\n      <td>SENIOR ASSISTANT CITY ATTORNEY II</td>\n      <td>Legal Department</td>\n      <td>124115.0</td>\n      <td>White</td>\n      <td>Full Time</td>\n      <td>Male</td>\n      <td>Active</td>\n      <td>2013-01-23</td>\n      <td>2013-03-02</td>\n    </tr>\n    <tr>\n      <th>1990</th>\n      <td>1990</td>\n      <td>BUILDING MAINTENANCE SUPERVISOR</td>\n      <td>Parks &amp; Recreation</td>\n      <td>30347.0</td>\n      <td>Black or African American</td>\n      <td>Full Time</td>\n      <td>Female</td>\n      <td>Active</td>\n      <td>1995-10-14</td>\n      <td>2010-03-20</td>\n    </tr>\n  </tbody>\n</table>\n<p>419 rows × 10 columns</p>\n</div>"
     },
     "execution_count": 19,
     "metadata": {},
     "output_type": "execute_result"
    }
   ],
   "source": [
    "employee[criteria]"
   ],
   "metadata": {
    "collapsed": false
   }
  },
  {
   "cell_type": "markdown",
   "source": [
    "where 메서드를 사용해 Series 크기 유지"
   ],
   "metadata": {
    "collapsed": false
   }
  },
  {
   "cell_type": "code",
   "execution_count": 2,
   "outputs": [],
   "source": [
    "import pandas as pd\n",
    "import numpy as np"
   ],
   "metadata": {
    "collapsed": false
   }
  },
  {
   "cell_type": "code",
   "execution_count": 3,
   "outputs": [],
   "source": [
    "movie = pd.read_csv(\n",
    "    'data/movie.csv', index_col='movie_title'\n",
    ")"
   ],
   "metadata": {
    "collapsed": false
   }
  },
  {
   "cell_type": "code",
   "execution_count": 4,
   "outputs": [],
   "source": [
    "fb_likes = movie['actor_1_facebook_likes'].dropna()"
   ],
   "metadata": {
    "collapsed": false
   }
  },
  {
   "cell_type": "code",
   "execution_count": 5,
   "outputs": [
    {
     "data": {
      "text/plain": "movie_title\nAvatar                                         1000.0\nPirates of the Caribbean: At World's End      40000.0\nSpectre                                       11000.0\nThe Dark Knight Rises                         27000.0\nStar Wars: Episode VII - The Force Awakens      131.0\nName: actor_1_facebook_likes, dtype: float64"
     },
     "execution_count": 5,
     "metadata": {},
     "output_type": "execute_result"
    }
   ],
   "source": [
    "fb_likes.head()"
   ],
   "metadata": {
    "collapsed": false
   }
  },
  {
   "cell_type": "code",
   "execution_count": 6,
   "outputs": [
    {
     "data": {
      "text/plain": "count      4909.000000\nmean       6494.488491\nstd       15106.986884\nmin           0.000000\n25%         607.000000\n50%         982.000000\n75%       11000.000000\nmax      640000.000000\nName: actor_1_facebook_likes, dtype: float64"
     },
     "execution_count": 6,
     "metadata": {},
     "output_type": "execute_result"
    }
   ],
   "source": [
    "fb_likes.describe()"
   ],
   "metadata": {
    "collapsed": false
   }
  },
  {
   "cell_type": "code",
   "execution_count": 7,
   "outputs": [],
   "source": [
    "import matplotlib.pyplot as plt"
   ],
   "metadata": {
    "collapsed": false
   }
  },
  {
   "cell_type": "code",
   "execution_count": 11,
   "outputs": [
    {
     "data": {
      "text/plain": "movie_title\nAvatar                                         1000.0\nPirates of the Caribbean: At World's End      40000.0\nSpectre                                       11000.0\nThe Dark Knight Rises                         27000.0\nStar Wars: Episode VII - The Force Awakens      131.0\n                                               ...   \nSigned Sealed Delivered                         637.0\nThe Following                                   841.0\nA Plague So Pleasant                              0.0\nShanghai Calling                                946.0\nMy Date with Drew                                86.0\nName: actor_1_facebook_likes, Length: 4909, dtype: float64"
     },
     "execution_count": 11,
     "metadata": {},
     "output_type": "execute_result"
    }
   ],
   "source": [
    "fb_likes"
   ],
   "metadata": {
    "collapsed": false
   }
  },
  {
   "cell_type": "code",
   "execution_count": 8,
   "outputs": [
    {
     "data": {
      "text/plain": "<Axes: >"
     },
     "execution_count": 8,
     "metadata": {},
     "output_type": "execute_result"
    },
    {
     "data": {
      "text/plain": "<Figure size 640x480 with 1 Axes>",
      "image/png": "[encoded data removed]"
     },
     "metadata": {},
     "output_type": "display_data"
    }
   ],
   "source": [
    "fb_likes.hist()"
   ],
   "metadata": {
    "collapsed": false
   }
  },
  {
   "cell_type": "code",
   "execution_count": 9,
   "outputs": [],
   "source": [
    "criteria_high = fb_likes < 20_000"
   ],
   "metadata": {
    "collapsed": false
   }
  },
  {
   "cell_type": "code",
   "execution_count": 10,
   "outputs": [
    {
     "data": {
      "text/plain": "0.91"
     },
     "execution_count": 10,
     "metadata": {},
     "output_type": "execute_result"
    }
   ],
   "source": [
    "criteria_high.mean().round(2)"
   ],
   "metadata": {
    "collapsed": false
   }
  },
  {
   "cell_type": "code",
   "execution_count": 12,
   "outputs": [
    {
     "data": {
      "text/plain": "movie_title\nAvatar                                         1000.0\nPirates of the Caribbean: At World's End          NaN\nSpectre                                       11000.0\nThe Dark Knight Rises                             NaN\nStar Wars: Episode VII - The Force Awakens      131.0\nName: actor_1_facebook_likes, dtype: float64"
     },
     "execution_count": 12,
     "metadata": {},
     "output_type": "execute_result"
    }
   ],
   "source": [
    "fb_likes.where(criteria_high).head()"
   ],
   "metadata": {
    "collapsed": false
   }
  },
  {
   "cell_type": "code",
   "execution_count": 13,
   "outputs": [
    {
     "data": {
      "text/plain": "movie_title\nAvatar                                         1000.0\nPirates of the Caribbean: At World's End      20000.0\nSpectre                                       11000.0\nThe Dark Knight Rises                         20000.0\nStar Wars: Episode VII - The Force Awakens      131.0\nName: actor_1_facebook_likes, dtype: float64"
     },
     "execution_count": 13,
     "metadata": {},
     "output_type": "execute_result"
    }
   ],
   "source": [
    "fb_likes.where(criteria_high, other=20000).head()"
   ],
   "metadata": {
    "collapsed": false
   }
  },
  {
   "cell_type": "code",
   "execution_count": 14,
   "outputs": [],
   "source": [
    "criteria_low = fb_likes > 300"
   ],
   "metadata": {
    "collapsed": false
   }
  },
  {
   "cell_type": "code",
   "execution_count": 15,
   "outputs": [],
   "source": [
    "fb_likes_cap = fb_likes.where(\n",
    "    criteria_high, other=20_000\n",
    ").where(\n",
    "    criteria_low, 300\n",
    ")"
   ],
   "metadata": {
    "collapsed": false
   }
  },
  {
   "cell_type": "code",
   "execution_count": 16,
   "outputs": [
    {
     "data": {
      "text/plain": "movie_title\nAvatar                                         1000.0\nPirates of the Caribbean: At World's End      20000.0\nSpectre                                       11000.0\nThe Dark Knight Rises                         20000.0\nStar Wars: Episode VII - The Force Awakens      300.0\nName: actor_1_facebook_likes, dtype: float64"
     },
     "execution_count": 16,
     "metadata": {},
     "output_type": "execute_result"
    }
   ],
   "source": [
    "fb_likes_cap.head()"
   ],
   "metadata": {
    "collapsed": false
   }
  },
  {
   "cell_type": "code",
   "execution_count": 17,
   "outputs": [
    {
     "data": {
      "text/plain": "(4909, 4909)"
     },
     "execution_count": 17,
     "metadata": {},
     "output_type": "execute_result"
    }
   ],
   "source": [
    "len(fb_likes), len(fb_likes_cap)"
   ],
   "metadata": {
    "collapsed": false
   }
  },
  {
   "cell_type": "code",
   "execution_count": 18,
   "outputs": [
    {
     "data": {
      "text/plain": "<Axes: >"
     },
     "execution_count": 18,
     "metadata": {},
     "output_type": "execute_result"
    },
    {
     "data": {
      "text/plain": "<Figure size 640x480 with 1 Axes>",
      "image/png": "[encoded data removed]"
     },
     "metadata": {},
     "output_type": "display_data"
    }
   ],
   "source": [
    "fb_likes_cap.hist()"
   ],
   "metadata": {
    "collapsed": false
   }
  },
  {
   "cell_type": "code",
   "execution_count": 19,
   "outputs": [],
   "source": [
    "fb_likes_cap2 = fb_likes.clip(lower=300, upper=20000)"
   ],
   "metadata": {
    "collapsed": false
   }
  },
  {
   "cell_type": "code",
   "execution_count": 20,
   "outputs": [
    {
     "data": {
      "text/plain": "True"
     },
     "execution_count": 20,
     "metadata": {},
     "output_type": "execute_result"
    }
   ],
   "source": [
    "fb_likes_cap2.equals(fb_likes_cap)"
   ],
   "metadata": {
    "collapsed": false
   }
  },
  {
   "cell_type": "markdown",
   "source": [
    "DataFrame 행 마스킹"
   ],
   "metadata": {
    "collapsed": false
   }
  },
  {
   "cell_type": "code",
   "execution_count": 21,
   "outputs": [],
   "source": [
    "movie = pd.read_csv(\n",
    "    'data/movie.csv', index_col='movie_title'\n",
    ")"
   ],
   "metadata": {
    "collapsed": false
   }
  },
  {
   "cell_type": "code",
   "execution_count": 22,
   "outputs": [],
   "source": [
    "c1 = movie['title_year'] >= 2010"
   ],
   "metadata": {
    "collapsed": false
   }
  },
  {
   "cell_type": "code",
   "execution_count": 23,
   "outputs": [],
   "source": [
    "c2 = movie['title_year'].isna()"
   ],
   "metadata": {
    "collapsed": false
   }
  },
  {
   "cell_type": "code",
   "execution_count": 24,
   "outputs": [],
   "source": [
    "criteria = c1 | c2"
   ],
   "metadata": {
    "collapsed": false
   }
  },
  {
   "cell_type": "code",
   "execution_count": 25,
   "outputs": [
    {
     "data": {
      "text/plain": "                                            color   director_name  \\\nmovie_title                                                         \nAvatar                                      Color   James Cameron   \nPirates of the Caribbean: At World's End    Color  Gore Verbinski   \nSpectre                                       NaN             NaN   \nThe Dark Knight Rises                         NaN             NaN   \nStar Wars: Episode VII - The Force Awakens    NaN             NaN   \n\n                                            num_critic_for_reviews  duration  \\\nmovie_title                                                                    \nAvatar                                                       723.0     178.0   \nPirates of the Caribbean: At World's End                     302.0     169.0   \nSpectre                                                        NaN       NaN   \nThe Dark Knight Rises                                          NaN       NaN   \nStar Wars: Episode VII - The Force Awakens                     NaN       NaN   \n\n                                            director_facebook_likes  \\\nmovie_title                                                           \nAvatar                                                          0.0   \nPirates of the Caribbean: At World's End                      563.0   \nSpectre                                                         NaN   \nThe Dark Knight Rises                                           NaN   \nStar Wars: Episode VII - The Force Awakens                      NaN   \n\n                                            actor_3_facebook_likes  \\\nmovie_title                                                          \nAvatar                                                       855.0   \nPirates of the Caribbean: At World's End                    1000.0   \nSpectre                                                        NaN   \nThe Dark Knight Rises                                          NaN   \nStar Wars: Episode VII - The Force Awakens                     NaN   \n\n                                                actor_2_name  \\\nmovie_title                                                    \nAvatar                                      Joel David Moore   \nPirates of the Caribbean: At World's End       Orlando Bloom   \nSpectre                                                  NaN   \nThe Dark Knight Rises                                    NaN   \nStar Wars: Episode VII - The Force Awakens               NaN   \n\n                                            actor_1_facebook_likes  \\\nmovie_title                                                          \nAvatar                                                      1000.0   \nPirates of the Caribbean: At World's End                   40000.0   \nSpectre                                                        NaN   \nThe Dark Knight Rises                                          NaN   \nStar Wars: Episode VII - The Force Awakens                     NaN   \n\n                                                  gross  \\\nmovie_title                                               \nAvatar                                      760505847.0   \nPirates of the Caribbean: At World's End    309404152.0   \nSpectre                                             NaN   \nThe Dark Knight Rises                               NaN   \nStar Wars: Episode VII - The Force Awakens          NaN   \n\n                                                                     genres  \\\nmovie_title                                                                   \nAvatar                                      Action|Adventure|Fantasy|Sci-Fi   \nPirates of the Caribbean: At World's End           Action|Adventure|Fantasy   \nSpectre                                                                 NaN   \nThe Dark Knight Rises                                                   NaN   \nStar Wars: Episode VII - The Force Awakens                              NaN   \n\n                                            ... num_user_for_reviews  \\\nmovie_title                                 ...                        \nAvatar                                      ...               3054.0   \nPirates of the Caribbean: At World's End    ...               1238.0   \nSpectre                                     ...                  NaN   \nThe Dark Knight Rises                       ...                  NaN   \nStar Wars: Episode VII - The Force Awakens  ...                  NaN   \n\n                                            language  country content_rating  \\\nmovie_title                                                                    \nAvatar                                       English      USA          PG-13   \nPirates of the Caribbean: At World's End     English      USA          PG-13   \nSpectre                                          NaN      NaN            NaN   \nThe Dark Knight Rises                            NaN      NaN            NaN   \nStar Wars: Episode VII - The Force Awakens       NaN      NaN            NaN   \n\n                                                 budget title_year  \\\nmovie_title                                                          \nAvatar                                      237000000.0     2009.0   \nPirates of the Caribbean: At World's End    300000000.0     2007.0   \nSpectre                                             NaN        NaN   \nThe Dark Knight Rises                               NaN        NaN   \nStar Wars: Episode VII - The Force Awakens          NaN        NaN   \n\n                                           actor_2_facebook_likes  imdb_score  \\\nmovie_title                                                                     \nAvatar                                                      936.0         7.9   \nPirates of the Caribbean: At World's End                   5000.0         7.1   \nSpectre                                                       NaN         NaN   \nThe Dark Knight Rises                                         NaN         NaN   \nStar Wars: Episode VII - The Force Awakens                    NaN         NaN   \n\n                                           aspect_ratio movie_facebook_likes  \nmovie_title                                                                   \nAvatar                                             1.78              33000.0  \nPirates of the Caribbean: At World's End           2.35                  0.0  \nSpectre                                             NaN                  NaN  \nThe Dark Knight Rises                               NaN                  NaN  \nStar Wars: Episode VII - The Force Awakens          NaN                  NaN  \n\n[5 rows x 27 columns]",
      "text/html": "<div>\n<style scoped>\n    .dataframe tbody tr th:only-of-type {\n        vertical-align: middle;\n    }\n\n    .dataframe tbody tr th {\n        vertical-align: top;\n    }\n\n    .dataframe thead th {\n        text-align: right;\n    }\n</style>\n<table border=\"1\" class=\"dataframe\">\n  <thead>\n    <tr style=\"text-align: right;\">\n      <th></th>\n      <th>color</th>\n      <th>director_name</th>\n      <th>num_critic_for_reviews</th>\n      <th>duration</th>\n      <th>director_facebook_likes</th>\n      <th>actor_3_facebook_likes</th>\n      <th>actor_2_name</th>\n      <th>actor_1_facebook_likes</th>\n      <th>gross</th>\n      <th>genres</th>\n      <th>...</th>\n      <th>num_user_for_reviews</th>\n      <th>language</th>\n      <th>country</th>\n      <th>content_rating</th>\n      <th>budget</th>\n      <th>title_year</th>\n      <th>actor_2_facebook_likes</th>\n      <th>imdb_score</th>\n      <th>aspect_ratio</th>\n      <th>movie_facebook_likes</th>\n    </tr>\n    <tr>\n      <th>movie_title</th>\n      <th></th>\n      <th></th>\n      <th></th>\n      <th></th>\n      <th></th>\n      <th></th>\n      <th></th>\n      <th></th>\n      <th></th>\n      <th></th>\n      <th></th>\n      <th></th>\n      <th></th>\n      <th></th>\n      <th></th>\n      <th></th>\n      <th></th>\n      <th></th>\n      <th></th>\n      <th></th>\n      <th></th>\n    </tr>\n  </thead>\n  <tbody>\n    <tr>\n      <th>Avatar</th>\n      <td>Color</td>\n      <td>James Cameron</td>\n      <td>723.0</td>\n      <td>178.0</td>\n      <td>0.0</td>\n      <td>855.0</td>\n      <td>Joel David Moore</td>\n      <td>1000.0</td>\n      <td>760505847.0</td>\n      <td>Action|Adventure|Fantasy|Sci-Fi</td>\n      <td>...</td>\n      <td>3054.0</td>\n      <td>English</td>\n      <td>USA</td>\n      <td>PG-13</td>\n      <td>237000000.0</td>\n      <td>2009.0</td>\n      <td>936.0</td>\n      <td>7.9</td>\n      <td>1.78</td>\n      <td>33000.0</td>\n    </tr>\n    <tr>\n      <th>Pirates of the Caribbean: At World's End</th>\n      <td>Color</td>\n      <td>Gore Verbinski</td>\n      <td>302.0</td>\n      <td>169.0</td>\n      <td>563.0</td>\n      <td>1000.0</td>\n      <td>Orlando Bloom</td>\n      <td>40000.0</td>\n      <td>309404152.0</td>\n      <td>Action|Adventure|Fantasy</td>\n      <td>...</td>\n      <td>1238.0</td>\n      <td>English</td>\n      <td>USA</td>\n      <td>PG-13</td>\n      <td>300000000.0</td>\n      <td>2007.0</td>\n      <td>5000.0</td>\n      <td>7.1</td>\n      <td>2.35</td>\n      <td>0.0</td>\n    </tr>\n    <tr>\n      <th>Spectre</th>\n      <td>NaN</td>\n      <td>NaN</td>\n      <td>NaN</td>\n      <td>NaN</td>\n      <td>NaN</td>\n      <td>NaN</td>\n      <td>NaN</td>\n      <td>NaN</td>\n      <td>NaN</td>\n      <td>NaN</td>\n      <td>...</td>\n      <td>NaN</td>\n      <td>NaN</td>\n      <td>NaN</td>\n      <td>NaN</td>\n      <td>NaN</td>\n      <td>NaN</td>\n      <td>NaN</td>\n      <td>NaN</td>\n      <td>NaN</td>\n      <td>NaN</td>\n    </tr>\n    <tr>\n      <th>The Dark Knight Rises</th>\n      <td>NaN</td>\n      <td>NaN</td>\n      <td>NaN</td>\n      <td>NaN</td>\n      <td>NaN</td>\n      <td>NaN</td>\n      <td>NaN</td>\n      <td>NaN</td>\n      <td>NaN</td>\n      <td>NaN</td>\n      <td>...</td>\n      <td>NaN</td>\n      <td>NaN</td>\n      <td>NaN</td>\n      <td>NaN</td>\n      <td>NaN</td>\n      <td>NaN</td>\n      <td>NaN</td>\n      <td>NaN</td>\n      <td>NaN</td>\n      <td>NaN</td>\n    </tr>\n    <tr>\n      <th>Star Wars: Episode VII - The Force Awakens</th>\n      <td>NaN</td>\n      <td>NaN</td>\n      <td>NaN</td>\n      <td>NaN</td>\n      <td>NaN</td>\n      <td>NaN</td>\n      <td>NaN</td>\n      <td>NaN</td>\n      <td>NaN</td>\n      <td>NaN</td>\n      <td>...</td>\n      <td>NaN</td>\n      <td>NaN</td>\n      <td>NaN</td>\n      <td>NaN</td>\n      <td>NaN</td>\n      <td>NaN</td>\n      <td>NaN</td>\n      <td>NaN</td>\n      <td>NaN</td>\n      <td>NaN</td>\n    </tr>\n  </tbody>\n</table>\n<p>5 rows × 27 columns</p>\n</div>"
     },
     "execution_count": 25,
     "metadata": {},
     "output_type": "execute_result"
    }
   ],
   "source": [
    "movie.mask(criteria).head()"
   ],
   "metadata": {
    "collapsed": false
   }
  },
  {
   "cell_type": "code",
   "execution_count": 26,
   "outputs": [],
   "source": [
    "movie_mask = movie.mask(criteria).dropna(how='all')"
   ],
   "metadata": {
    "collapsed": false
   }
  },
  {
   "cell_type": "code",
   "execution_count": 27,
   "outputs": [
    {
     "data": {
      "text/plain": "                                          color   director_name  \\\nmovie_title                                                       \nAvatar                                    Color   James Cameron   \nPirates of the Caribbean: At World's End  Color  Gore Verbinski   \nSpider-Man 3                              Color       Sam Raimi   \nHarry Potter and the Half-Blood Prince    Color     David Yates   \nSuperman Returns                          Color    Bryan Singer   \n\n                                          num_critic_for_reviews  duration  \\\nmovie_title                                                                  \nAvatar                                                     723.0     178.0   \nPirates of the Caribbean: At World's End                   302.0     169.0   \nSpider-Man 3                                               392.0     156.0   \nHarry Potter and the Half-Blood Prince                     375.0     153.0   \nSuperman Returns                                           434.0     169.0   \n\n                                          director_facebook_likes  \\\nmovie_title                                                         \nAvatar                                                        0.0   \nPirates of the Caribbean: At World's End                    563.0   \nSpider-Man 3                                                  0.0   \nHarry Potter and the Half-Blood Prince                      282.0   \nSuperman Returns                                              0.0   \n\n                                          actor_3_facebook_likes  \\\nmovie_title                                                        \nAvatar                                                     855.0   \nPirates of the Caribbean: At World's End                  1000.0   \nSpider-Man 3                                              4000.0   \nHarry Potter and the Half-Blood Prince                   10000.0   \nSuperman Returns                                           903.0   \n\n                                              actor_2_name  \\\nmovie_title                                                  \nAvatar                                    Joel David Moore   \nPirates of the Caribbean: At World's End     Orlando Bloom   \nSpider-Man 3                                  James Franco   \nHarry Potter and the Half-Blood Prince    Daniel Radcliffe   \nSuperman Returns                             Marlon Brando   \n\n                                          actor_1_facebook_likes        gross  \\\nmovie_title                                                                     \nAvatar                                                    1000.0  760505847.0   \nPirates of the Caribbean: At World's End                 40000.0  309404152.0   \nSpider-Man 3                                             24000.0  336530303.0   \nHarry Potter and the Half-Blood Prince                   25000.0  301956980.0   \nSuperman Returns                                         18000.0  200069408.0   \n\n                                                                    genres  \\\nmovie_title                                                                  \nAvatar                                     Action|Adventure|Fantasy|Sci-Fi   \nPirates of the Caribbean: At World's End          Action|Adventure|Fantasy   \nSpider-Man 3                                      Action|Adventure|Romance   \nHarry Potter and the Half-Blood Prince    Adventure|Family|Fantasy|Mystery   \nSuperman Returns                                   Action|Adventure|Sci-Fi   \n\n                                          ... num_user_for_reviews  language  \\\nmovie_title                               ...                                  \nAvatar                                    ...               3054.0   English   \nPirates of the Caribbean: At World's End  ...               1238.0   English   \nSpider-Man 3                              ...               1902.0   English   \nHarry Potter and the Half-Blood Prince    ...                973.0   English   \nSuperman Returns                          ...               2367.0   English   \n\n                                          country content_rating       budget  \\\nmovie_title                                                                     \nAvatar                                        USA          PG-13  237000000.0   \nPirates of the Caribbean: At World's End      USA          PG-13  300000000.0   \nSpider-Man 3                                  USA          PG-13  258000000.0   \nHarry Potter and the Half-Blood Prince         UK             PG  250000000.0   \nSuperman Returns                              USA          PG-13  209000000.0   \n\n                                         title_year actor_2_facebook_likes  \\\nmovie_title                                                                  \nAvatar                                       2009.0                  936.0   \nPirates of the Caribbean: At World's End     2007.0                 5000.0   \nSpider-Man 3                                 2007.0                11000.0   \nHarry Potter and the Half-Blood Prince       2009.0                11000.0   \nSuperman Returns                             2006.0                10000.0   \n\n                                          imdb_score aspect_ratio  \\\nmovie_title                                                         \nAvatar                                           7.9         1.78   \nPirates of the Caribbean: At World's End         7.1         2.35   \nSpider-Man 3                                     6.2         2.35   \nHarry Potter and the Half-Blood Prince           7.5         2.35   \nSuperman Returns                                 6.1         2.35   \n\n                                         movie_facebook_likes  \nmovie_title                                                    \nAvatar                                                33000.0  \nPirates of the Caribbean: At World's End                  0.0  \nSpider-Man 3                                              0.0  \nHarry Potter and the Half-Blood Prince                10000.0  \nSuperman Returns                                          0.0  \n\n[5 rows x 27 columns]",
      "text/html": "<div>\n<style scoped>\n    .dataframe tbody tr th:only-of-type {\n        vertical-align: middle;\n    }\n\n    .dataframe tbody tr th {\n        vertical-align: top;\n    }\n\n    .dataframe thead th {\n        text-align: right;\n    }\n</style>\n<table border=\"1\" class=\"dataframe\">\n  <thead>\n    <tr style=\"text-align: right;\">\n      <th></th>\n      <th>color</th>\n      <th>director_name</th>\n      <th>num_critic_for_reviews</th>\n      <th>duration</th>\n      <th>director_facebook_likes</th>\n      <th>actor_3_facebook_likes</th>\n      <th>actor_2_name</th>\n      <th>actor_1_facebook_likes</th>\n      <th>gross</th>\n      <th>genres</th>\n      <th>...</th>\n      <th>num_user_for_reviews</th>\n      <th>language</th>\n      <th>country</th>\n      <th>content_rating</th>\n      <th>budget</th>\n      <th>title_year</th>\n      <th>actor_2_facebook_likes</th>\n      <th>imdb_score</th>\n      <th>aspect_ratio</th>\n      <th>movie_facebook_likes</th>\n    </tr>\n    <tr>\n      <th>movie_title</th>\n      <th></th>\n      <th></th>\n      <th></th>\n      <th></th>\n      <th></th>\n      <th></th>\n      <th></th>\n      <th></th>\n      <th></th>\n      <th></th>\n      <th></th>\n      <th></th>\n      <th></th>\n      <th></th>\n      <th></th>\n      <th></th>\n      <th></th>\n      <th></th>\n      <th></th>\n      <th></th>\n      <th></th>\n    </tr>\n  </thead>\n  <tbody>\n    <tr>\n      <th>Avatar</th>\n      <td>Color</td>\n      <td>James Cameron</td>\n      <td>723.0</td>\n      <td>178.0</td>\n      <td>0.0</td>\n      <td>855.0</td>\n      <td>Joel David Moore</td>\n      <td>1000.0</td>\n      <td>760505847.0</td>\n      <td>Action|Adventure|Fantasy|Sci-Fi</td>\n      <td>...</td>\n      <td>3054.0</td>\n      <td>English</td>\n      <td>USA</td>\n      <td>PG-13</td>\n      <td>237000000.0</td>\n      <td>2009.0</td>\n      <td>936.0</td>\n      <td>7.9</td>\n      <td>1.78</td>\n      <td>33000.0</td>\n    </tr>\n    <tr>\n      <th>Pirates of the Caribbean: At World's End</th>\n      <td>Color</td>\n      <td>Gore Verbinski</td>\n      <td>302.0</td>\n      <td>169.0</td>\n      <td>563.0</td>\n      <td>1000.0</td>\n      <td>Orlando Bloom</td>\n      <td>40000.0</td>\n      <td>309404152.0</td>\n      <td>Action|Adventure|Fantasy</td>\n      <td>...</td>\n      <td>1238.0</td>\n      <td>English</td>\n      <td>USA</td>\n      <td>PG-13</td>\n      <td>300000000.0</td>\n      <td>2007.0</td>\n      <td>5000.0</td>\n      <td>7.1</td>\n      <td>2.35</td>\n      <td>0.0</td>\n    </tr>\n    <tr>\n      <th>Spider-Man 3</th>\n      <td>Color</td>\n      <td>Sam Raimi</td>\n      <td>392.0</td>\n      <td>156.0</td>\n      <td>0.0</td>\n      <td>4000.0</td>\n      <td>James Franco</td>\n      <td>24000.0</td>\n      <td>336530303.0</td>\n      <td>Action|Adventure|Romance</td>\n      <td>...</td>\n      <td>1902.0</td>\n      <td>English</td>\n      <td>USA</td>\n      <td>PG-13</td>\n      <td>258000000.0</td>\n      <td>2007.0</td>\n      <td>11000.0</td>\n      <td>6.2</td>\n      <td>2.35</td>\n      <td>0.0</td>\n    </tr>\n    <tr>\n      <th>Harry Potter and the Half-Blood Prince</th>\n      <td>Color</td>\n      <td>David Yates</td>\n      <td>375.0</td>\n      <td>153.0</td>\n      <td>282.0</td>\n      <td>10000.0</td>\n      <td>Daniel Radcliffe</td>\n      <td>25000.0</td>\n      <td>301956980.0</td>\n      <td>Adventure|Family|Fantasy|Mystery</td>\n      <td>...</td>\n      <td>973.0</td>\n      <td>English</td>\n      <td>UK</td>\n      <td>PG</td>\n      <td>250000000.0</td>\n      <td>2009.0</td>\n      <td>11000.0</td>\n      <td>7.5</td>\n      <td>2.35</td>\n      <td>10000.0</td>\n    </tr>\n    <tr>\n      <th>Superman Returns</th>\n      <td>Color</td>\n      <td>Bryan Singer</td>\n      <td>434.0</td>\n      <td>169.0</td>\n      <td>0.0</td>\n      <td>903.0</td>\n      <td>Marlon Brando</td>\n      <td>18000.0</td>\n      <td>200069408.0</td>\n      <td>Action|Adventure|Sci-Fi</td>\n      <td>...</td>\n      <td>2367.0</td>\n      <td>English</td>\n      <td>USA</td>\n      <td>PG-13</td>\n      <td>209000000.0</td>\n      <td>2006.0</td>\n      <td>10000.0</td>\n      <td>6.1</td>\n      <td>2.35</td>\n      <td>0.0</td>\n    </tr>\n  </tbody>\n</table>\n<p>5 rows × 27 columns</p>\n</div>"
     },
     "execution_count": 27,
     "metadata": {},
     "output_type": "execute_result"
    }
   ],
   "source": [
    "movie_mask.head()"
   ],
   "metadata": {
    "collapsed": false
   }
  },
  {
   "cell_type": "code",
   "execution_count": 28,
   "outputs": [],
   "source": [
    "movie_boolean = movie[movie['title_year'] < 2010]"
   ],
   "metadata": {
    "collapsed": false
   }
  },
  {
   "cell_type": "code",
   "execution_count": 29,
   "outputs": [
    {
     "data": {
      "text/plain": "False"
     },
     "execution_count": 29,
     "metadata": {},
     "output_type": "execute_result"
    }
   ],
   "source": [
    "movie_mask.equals(movie_boolean)"
   ],
   "metadata": {
    "collapsed": false
   }
  },
  {
   "cell_type": "code",
   "execution_count": 30,
   "outputs": [
    {
     "data": {
      "text/plain": "True"
     },
     "execution_count": 30,
     "metadata": {},
     "output_type": "execute_result"
    }
   ],
   "source": [
    "movie_mask.shape == movie_boolean.shape"
   ],
   "metadata": {
    "collapsed": false
   }
  },
  {
   "cell_type": "code",
   "execution_count": 31,
   "outputs": [
    {
     "data": {
      "text/plain": "color                         True\ndirector_name                 True\nnum_critic_for_reviews        True\nduration                      True\ndirector_facebook_likes       True\nactor_3_facebook_likes        True\nactor_2_name                  True\nactor_1_facebook_likes        True\ngross                         True\ngenres                        True\nactor_1_name                  True\nnum_voted_users              False\ncast_total_facebook_likes    False\nactor_3_name                  True\nfacenumber_in_poster          True\nplot_keywords                 True\nmovie_imdb_link               True\nnum_user_for_reviews          True\nlanguage                      True\ncountry                       True\ncontent_rating                True\nbudget                        True\ntitle_year                    True\nactor_2_facebook_likes        True\nimdb_score                    True\naspect_ratio                  True\nmovie_facebook_likes         False\ndtype: bool"
     },
     "execution_count": 31,
     "metadata": {},
     "output_type": "execute_result"
    }
   ],
   "source": [
    "movie_mask.dtypes == movie_boolean.dtypes"
   ],
   "metadata": {
    "collapsed": false
   }
  },
  {
   "cell_type": "code",
   "execution_count": 32,
   "outputs": [],
   "source": [
    "from pandas.testing import assert_frame_equal"
   ],
   "metadata": {
    "collapsed": false
   }
  },
  {
   "cell_type": "code",
   "execution_count": 33,
   "outputs": [],
   "source": [
    "assert_frame_equal(movie_boolean, movie_mask, check_dtype=False)"
   ],
   "metadata": {
    "collapsed": false
   }
  },
  {
   "cell_type": "code",
   "execution_count": 34,
   "outputs": [
    {
     "name": "stdout",
     "output_type": "stream",
     "text": [
      "7.07 ms ± 153 µs per loop (mean ± std. dev. of 7 runs, 100 loops each)\n"
     ]
    }
   ],
   "source": [
    "%timeit movie.mask(criteria).dropna(how='all')"
   ],
   "metadata": {
    "collapsed": false
   }
  },
  {
   "cell_type": "code",
   "execution_count": 35,
   "outputs": [
    {
     "name": "stdout",
     "output_type": "stream",
     "text": [
      "386 µs ± 13.2 µs per loop (mean ± std. dev. of 7 runs, 1,000 loops each)\n"
     ]
    }
   ],
   "source": [
    "%timeit movie[movie['title_year'] < 2010]"
   ],
   "metadata": {
    "collapsed": false
   }
  },
  {
   "cell_type": "markdown",
   "source": [
    "불리언, 정수 위치, 레이블을 사용해 선택"
   ],
   "metadata": {
    "collapsed": false
   }
  },
  {
   "cell_type": "code",
   "execution_count": 36,
   "outputs": [],
   "source": [
    "movie = pd.read_csv(\n",
    "    'data/movie.csv', index_col='movie_title'\n",
    ")"
   ],
   "metadata": {
    "collapsed": false
   }
  },
  {
   "cell_type": "code",
   "execution_count": 37,
   "outputs": [],
   "source": [
    "c1 = movie['content_rating'] == 'G'"
   ],
   "metadata": {
    "collapsed": false
   }
  },
  {
   "cell_type": "code",
   "execution_count": 38,
   "outputs": [],
   "source": [
    "c2 = movie['imdb_score'] < 4"
   ],
   "metadata": {
    "collapsed": false
   }
  },
  {
   "cell_type": "code",
   "execution_count": 39,
   "outputs": [],
   "source": [
    "criteria = c1 & c2"
   ],
   "metadata": {
    "collapsed": false
   }
  },
  {
   "cell_type": "code",
   "execution_count": 40,
   "outputs": [],
   "source": [
    "movie_loc = movie.loc[criteria]"
   ],
   "metadata": {
    "collapsed": false
   }
  },
  {
   "cell_type": "code",
   "execution_count": 41,
   "outputs": [
    {
     "data": {
      "text/plain": "                                color     director_name  \\\nmovie_title                                               \nThe True Story of Puss'N Boots  Color  Jérôme Deschamps   \nDoogal                          Color    Dave Borthwick   \nThomas and the Magic Railroad   Color    Britt Allcroft   \nBarney's Great Adventure        Color       Steve Gomer   \nJustin Bieber: Never Say Never  Color        Jon M. Chu   \n\n                                num_critic_for_reviews  duration  \\\nmovie_title                                                        \nThe True Story of Puss'N Boots                     4.0      80.0   \nDoogal                                            31.0      77.0   \nThomas and the Magic Railroad                     47.0      85.0   \nBarney's Great Adventure                          24.0      76.0   \nJustin Bieber: Never Say Never                    84.0     115.0   \n\n                                director_facebook_likes  \\\nmovie_title                                               \nThe True Story of Puss'N Boots                      0.0   \nDoogal                                              3.0   \nThomas and the Magic Railroad                       2.0   \nBarney's Great Adventure                            9.0   \nJustin Bieber: Never Say Never                    209.0   \n\n                                actor_3_facebook_likes   actor_2_name  \\\nmovie_title                                                             \nThe True Story of Puss'N Boots                     0.0    André Wilms   \nDoogal                                           593.0  Kylie Minogue   \nThomas and the Magic Railroad                    402.0     Colm Feore   \nBarney's Great Adventure                          47.0     Kyla Pratt   \nJustin Bieber: Never Say Never                    41.0  Sean Kingston   \n\n                                actor_1_facebook_likes       gross  \\\nmovie_title                                                          \nThe True Story of Puss'N Boots                    44.0         NaN   \nDoogal                                           787.0   7382993.0   \nThomas and the Magic Railroad                   1000.0  15911333.0   \nBarney's Great Adventure                         595.0  11144518.0   \nJustin Bieber: Never Say Never                   569.0  73000942.0   \n\n                                                                   genres  \\\nmovie_title                                                                 \nThe True Story of Puss'N Boots                 Adventure|Animation|Comedy   \nDoogal                          Adventure|Animation|Comedy|Family|Fantasy   \nThomas and the Magic Railroad       Adventure|Comedy|Drama|Family|Fantasy   \nBarney's Great Adventure                                 Adventure|Family   \nJustin Bieber: Never Say Never                          Documentary|Music   \n\n                                ... num_user_for_reviews  language  country  \\\nmovie_title                     ...                                           \nThe True Story of Puss'N Boots  ...                 24.0   English   France   \nDoogal                          ...                114.0   English      USA   \nThomas and the Magic Railroad   ...                119.0   English       UK   \nBarney's Great Adventure        ...                 53.0   English   Canada   \nJustin Bieber: Never Say Never  ...                233.0   English      USA   \n\n                               content_rating      budget title_year  \\\nmovie_title                                                            \nThe True Story of Puss'N Boots              G  25000000.0     2009.0   \nDoogal                                      G  20000000.0     2006.0   \nThomas and the Magic Railroad               G  19000000.0     2000.0   \nBarney's Great Adventure                    G  15000000.0     1998.0   \nJustin Bieber: Never Say Never              G  13000000.0     2011.0   \n\n                               actor_2_facebook_likes  imdb_score  \\\nmovie_title                                                         \nThe True Story of Puss'N Boots                    9.0         2.9   \nDoogal                                          690.0         2.8   \nThomas and the Magic Railroad                   539.0         3.6   \nBarney's Great Adventure                        417.0         2.8   \nJustin Bieber: Never Say Never                   69.0         1.6   \n\n                               aspect_ratio movie_facebook_likes  \nmovie_title                                                       \nThe True Story of Puss'N Boots          NaN                   90  \nDoogal                                 1.85                  346  \nThomas and the Magic Railroad          1.85                  663  \nBarney's Great Adventure               1.85                  436  \nJustin Bieber: Never Say Never         1.85                62000  \n\n[5 rows x 27 columns]",
      "text/html": "<div>\n<style scoped>\n    .dataframe tbody tr th:only-of-type {\n        vertical-align: middle;\n    }\n\n    .dataframe tbody tr th {\n        vertical-align: top;\n    }\n\n    .dataframe thead th {\n        text-align: right;\n    }\n</style>\n<table border=\"1\" class=\"dataframe\">\n  <thead>\n    <tr style=\"text-align: right;\">\n      <th></th>\n      <th>color</th>\n      <th>director_name</th>\n      <th>num_critic_for_reviews</th>\n      <th>duration</th>\n      <th>director_facebook_likes</th>\n      <th>actor_3_facebook_likes</th>\n      <th>actor_2_name</th>\n      <th>actor_1_facebook_likes</th>\n      <th>gross</th>\n      <th>genres</th>\n      <th>...</th>\n      <th>num_user_for_reviews</th>\n      <th>language</th>\n      <th>country</th>\n      <th>content_rating</th>\n      <th>budget</th>\n      <th>title_year</th>\n      <th>actor_2_facebook_likes</th>\n      <th>imdb_score</th>\n      <th>aspect_ratio</th>\n      <th>movie_facebook_likes</th>\n    </tr>\n    <tr>\n      <th>movie_title</th>\n      <th></th>\n      <th></th>\n      <th></th>\n      <th></th>\n      <th></th>\n      <th></th>\n      <th></th>\n      <th></th>\n      <th></th>\n      <th></th>\n      <th></th>\n      <th></th>\n      <th></th>\n      <th></th>\n      <th></th>\n      <th></th>\n      <th></th>\n      <th></th>\n      <th></th>\n      <th></th>\n      <th></th>\n    </tr>\n  </thead>\n  <tbody>\n    <tr>\n      <th>The True Story of Puss'N Boots</th>\n      <td>Color</td>\n      <td>Jérôme Deschamps</td>\n      <td>4.0</td>\n      <td>80.0</td>\n      <td>0.0</td>\n      <td>0.0</td>\n      <td>André Wilms</td>\n      <td>44.0</td>\n      <td>NaN</td>\n      <td>Adventure|Animation|Comedy</td>\n      <td>...</td>\n      <td>24.0</td>\n      <td>English</td>\n      <td>France</td>\n      <td>G</td>\n      <td>25000000.0</td>\n      <td>2009.0</td>\n      <td>9.0</td>\n      <td>2.9</td>\n      <td>NaN</td>\n      <td>90</td>\n    </tr>\n    <tr>\n      <th>Doogal</th>\n      <td>Color</td>\n      <td>Dave Borthwick</td>\n      <td>31.0</td>\n      <td>77.0</td>\n      <td>3.0</td>\n      <td>593.0</td>\n      <td>Kylie Minogue</td>\n      <td>787.0</td>\n      <td>7382993.0</td>\n      <td>Adventure|Animation|Comedy|Family|Fantasy</td>\n      <td>...</td>\n      <td>114.0</td>\n      <td>English</td>\n      <td>USA</td>\n      <td>G</td>\n      <td>20000000.0</td>\n      <td>2006.0</td>\n      <td>690.0</td>\n      <td>2.8</td>\n      <td>1.85</td>\n      <td>346</td>\n    </tr>\n    <tr>\n      <th>Thomas and the Magic Railroad</th>\n      <td>Color</td>\n      <td>Britt Allcroft</td>\n      <td>47.0</td>\n      <td>85.0</td>\n      <td>2.0</td>\n      <td>402.0</td>\n      <td>Colm Feore</td>\n      <td>1000.0</td>\n      <td>15911333.0</td>\n      <td>Adventure|Comedy|Drama|Family|Fantasy</td>\n      <td>...</td>\n      <td>119.0</td>\n      <td>English</td>\n      <td>UK</td>\n      <td>G</td>\n      <td>19000000.0</td>\n      <td>2000.0</td>\n      <td>539.0</td>\n      <td>3.6</td>\n      <td>1.85</td>\n      <td>663</td>\n    </tr>\n    <tr>\n      <th>Barney's Great Adventure</th>\n      <td>Color</td>\n      <td>Steve Gomer</td>\n      <td>24.0</td>\n      <td>76.0</td>\n      <td>9.0</td>\n      <td>47.0</td>\n      <td>Kyla Pratt</td>\n      <td>595.0</td>\n      <td>11144518.0</td>\n      <td>Adventure|Family</td>\n      <td>...</td>\n      <td>53.0</td>\n      <td>English</td>\n      <td>Canada</td>\n      <td>G</td>\n      <td>15000000.0</td>\n      <td>1998.0</td>\n      <td>417.0</td>\n      <td>2.8</td>\n      <td>1.85</td>\n      <td>436</td>\n    </tr>\n    <tr>\n      <th>Justin Bieber: Never Say Never</th>\n      <td>Color</td>\n      <td>Jon M. Chu</td>\n      <td>84.0</td>\n      <td>115.0</td>\n      <td>209.0</td>\n      <td>41.0</td>\n      <td>Sean Kingston</td>\n      <td>569.0</td>\n      <td>73000942.0</td>\n      <td>Documentary|Music</td>\n      <td>...</td>\n      <td>233.0</td>\n      <td>English</td>\n      <td>USA</td>\n      <td>G</td>\n      <td>13000000.0</td>\n      <td>2011.0</td>\n      <td>69.0</td>\n      <td>1.6</td>\n      <td>1.85</td>\n      <td>62000</td>\n    </tr>\n  </tbody>\n</table>\n<p>5 rows × 27 columns</p>\n</div>"
     },
     "execution_count": 41,
     "metadata": {},
     "output_type": "execute_result"
    }
   ],
   "source": [
    "movie_loc.head()"
   ],
   "metadata": {
    "collapsed": false
   }
  },
  {
   "cell_type": "code",
   "execution_count": 42,
   "outputs": [
    {
     "data": {
      "text/plain": "True"
     },
     "execution_count": 42,
     "metadata": {},
     "output_type": "execute_result"
    }
   ],
   "source": [
    "movie_loc.equals(movie[criteria])"
   ],
   "metadata": {
    "collapsed": false
   }
  },
  {
   "cell_type": "code",
   "execution_count": 43,
   "outputs": [
    {
     "ename": "ValueError",
     "evalue": "iLocation based boolean indexing cannot use an indexable as a mask",
     "output_type": "error",
     "traceback": [
      "\u001B[0;31m---------------------------------------------------------------------------\u001B[0m",
      "\u001B[0;31mValueError\u001B[0m                                Traceback (most recent call last)",
      "Cell \u001B[0;32mIn[43], line 1\u001B[0m\n\u001B[0;32m----> 1\u001B[0m movie_iloc \u001B[38;5;241m=\u001B[39m \u001B[43mmovie\u001B[49m\u001B[38;5;241;43m.\u001B[39;49m\u001B[43miloc\u001B[49m\u001B[43m[\u001B[49m\u001B[43mcriteria\u001B[49m\u001B[43m]\u001B[49m\n",
      "File \u001B[0;32m~/anaconda3/lib/python3.10/site-packages/pandas/core/indexing.py:1073\u001B[0m, in \u001B[0;36m_LocationIndexer.__getitem__\u001B[0;34m(self, key)\u001B[0m\n\u001B[1;32m   1070\u001B[0m axis \u001B[38;5;241m=\u001B[39m \u001B[38;5;28mself\u001B[39m\u001B[38;5;241m.\u001B[39maxis \u001B[38;5;129;01mor\u001B[39;00m \u001B[38;5;241m0\u001B[39m\n\u001B[1;32m   1072\u001B[0m maybe_callable \u001B[38;5;241m=\u001B[39m com\u001B[38;5;241m.\u001B[39mapply_if_callable(key, \u001B[38;5;28mself\u001B[39m\u001B[38;5;241m.\u001B[39mobj)\n\u001B[0;32m-> 1073\u001B[0m \u001B[38;5;28;01mreturn\u001B[39;00m \u001B[38;5;28;43mself\u001B[39;49m\u001B[38;5;241;43m.\u001B[39;49m\u001B[43m_getitem_axis\u001B[49m\u001B[43m(\u001B[49m\u001B[43mmaybe_callable\u001B[49m\u001B[43m,\u001B[49m\u001B[43m \u001B[49m\u001B[43maxis\u001B[49m\u001B[38;5;241;43m=\u001B[39;49m\u001B[43maxis\u001B[49m\u001B[43m)\u001B[49m\n",
      "File \u001B[0;32m~/anaconda3/lib/python3.10/site-packages/pandas/core/indexing.py:1611\u001B[0m, in \u001B[0;36m_iLocIndexer._getitem_axis\u001B[0;34m(self, key, axis)\u001B[0m\n\u001B[1;32m   1608\u001B[0m     key \u001B[38;5;241m=\u001B[39m np\u001B[38;5;241m.\u001B[39masarray(key)\n\u001B[1;32m   1610\u001B[0m \u001B[38;5;28;01mif\u001B[39;00m com\u001B[38;5;241m.\u001B[39mis_bool_indexer(key):\n\u001B[0;32m-> 1611\u001B[0m     \u001B[38;5;28;43mself\u001B[39;49m\u001B[38;5;241;43m.\u001B[39;49m\u001B[43m_validate_key\u001B[49m\u001B[43m(\u001B[49m\u001B[43mkey\u001B[49m\u001B[43m,\u001B[49m\u001B[43m \u001B[49m\u001B[43maxis\u001B[49m\u001B[43m)\u001B[49m\n\u001B[1;32m   1612\u001B[0m     \u001B[38;5;28;01mreturn\u001B[39;00m \u001B[38;5;28mself\u001B[39m\u001B[38;5;241m.\u001B[39m_getbool_axis(key, axis\u001B[38;5;241m=\u001B[39maxis)\n\u001B[1;32m   1614\u001B[0m \u001B[38;5;66;03m# a list of integers\u001B[39;00m\n",
      "File \u001B[0;32m~/anaconda3/lib/python3.10/site-packages/pandas/core/indexing.py:1457\u001B[0m, in \u001B[0;36m_iLocIndexer._validate_key\u001B[0;34m(self, key, axis)\u001B[0m\n\u001B[1;32m   1451\u001B[0m         \u001B[38;5;28;01mif\u001B[39;00m key\u001B[38;5;241m.\u001B[39mindex\u001B[38;5;241m.\u001B[39minferred_type \u001B[38;5;241m==\u001B[39m \u001B[38;5;124m\"\u001B[39m\u001B[38;5;124minteger\u001B[39m\u001B[38;5;124m\"\u001B[39m:\n\u001B[1;32m   1452\u001B[0m             \u001B[38;5;28;01mraise\u001B[39;00m \u001B[38;5;167;01mNotImplementedError\u001B[39;00m(\n\u001B[1;32m   1453\u001B[0m                 \u001B[38;5;124m\"\u001B[39m\u001B[38;5;124miLocation based boolean \u001B[39m\u001B[38;5;124m\"\u001B[39m\n\u001B[1;32m   1454\u001B[0m                 \u001B[38;5;124m\"\u001B[39m\u001B[38;5;124mindexing on an integer type \u001B[39m\u001B[38;5;124m\"\u001B[39m\n\u001B[1;32m   1455\u001B[0m                 \u001B[38;5;124m\"\u001B[39m\u001B[38;5;124mis not available\u001B[39m\u001B[38;5;124m\"\u001B[39m\n\u001B[1;32m   1456\u001B[0m             )\n\u001B[0;32m-> 1457\u001B[0m         \u001B[38;5;28;01mraise\u001B[39;00m \u001B[38;5;167;01mValueError\u001B[39;00m(\n\u001B[1;32m   1458\u001B[0m             \u001B[38;5;124m\"\u001B[39m\u001B[38;5;124miLocation based boolean indexing cannot use \u001B[39m\u001B[38;5;124m\"\u001B[39m\n\u001B[1;32m   1459\u001B[0m             \u001B[38;5;124m\"\u001B[39m\u001B[38;5;124man indexable as a mask\u001B[39m\u001B[38;5;124m\"\u001B[39m\n\u001B[1;32m   1460\u001B[0m         )\n\u001B[1;32m   1461\u001B[0m     \u001B[38;5;28;01mreturn\u001B[39;00m\n\u001B[1;32m   1463\u001B[0m \u001B[38;5;28;01mif\u001B[39;00m \u001B[38;5;28misinstance\u001B[39m(key, \u001B[38;5;28mslice\u001B[39m):\n",
      "\u001B[0;31mValueError\u001B[0m: iLocation based boolean indexing cannot use an indexable as a mask"
     ]
    }
   ],
   "source": [
    "movie_iloc = movie.iloc[criteria]"
   ],
   "metadata": {
    "collapsed": false
   }
  },
  {
   "cell_type": "code",
   "execution_count": 44,
   "outputs": [],
   "source": [
    "movie_iloc = movie.iloc[criteria.to_numpy()]"
   ],
   "metadata": {
    "collapsed": false
   }
  },
  {
   "cell_type": "code",
   "execution_count": 45,
   "outputs": [
    {
     "data": {
      "text/plain": "True"
     },
     "execution_count": 45,
     "metadata": {},
     "output_type": "execute_result"
    }
   ],
   "source": [
    "movie_iloc.equals(movie_loc)"
   ],
   "metadata": {
    "collapsed": false
   }
  },
  {
   "cell_type": "code",
   "execution_count": 46,
   "outputs": [],
   "source": [
    "criteria_col = movie.dtypes == np.int64"
   ],
   "metadata": {
    "collapsed": false
   }
  },
  {
   "cell_type": "code",
   "execution_count": 47,
   "outputs": [
    {
     "data": {
      "text/plain": "color                      False\ndirector_name              False\nnum_critic_for_reviews     False\nduration                   False\ndirector_facebook_likes    False\ndtype: bool"
     },
     "execution_count": 47,
     "metadata": {},
     "output_type": "execute_result"
    }
   ],
   "source": [
    "criteria_col.head()"
   ],
   "metadata": {
    "collapsed": false
   }
  },
  {
   "cell_type": "code",
   "execution_count": 48,
   "outputs": [
    {
     "data": {
      "text/plain": "                                            num_voted_users  \\\nmovie_title                                                   \nAvatar                                               886204   \nPirates of the Caribbean: At World's End             471220   \nSpectre                                              275868   \nThe Dark Knight Rises                               1144337   \nStar Wars: Episode VII - The Force Awakens                8   \n\n                                            cast_total_facebook_likes  \\\nmovie_title                                                             \nAvatar                                                           4834   \nPirates of the Caribbean: At World's End                        48350   \nSpectre                                                         11700   \nThe Dark Knight Rises                                          106759   \nStar Wars: Episode VII - The Force Awakens                        143   \n\n                                            movie_facebook_likes  \nmovie_title                                                       \nAvatar                                                     33000  \nPirates of the Caribbean: At World's End                       0  \nSpectre                                                    85000  \nThe Dark Knight Rises                                     164000  \nStar Wars: Episode VII - The Force Awakens                     0  ",
      "text/html": "<div>\n<style scoped>\n    .dataframe tbody tr th:only-of-type {\n        vertical-align: middle;\n    }\n\n    .dataframe tbody tr th {\n        vertical-align: top;\n    }\n\n    .dataframe thead th {\n        text-align: right;\n    }\n</style>\n<table border=\"1\" class=\"dataframe\">\n  <thead>\n    <tr style=\"text-align: right;\">\n      <th></th>\n      <th>num_voted_users</th>\n      <th>cast_total_facebook_likes</th>\n      <th>movie_facebook_likes</th>\n    </tr>\n    <tr>\n      <th>movie_title</th>\n      <th></th>\n      <th></th>\n      <th></th>\n    </tr>\n  </thead>\n  <tbody>\n    <tr>\n      <th>Avatar</th>\n      <td>886204</td>\n      <td>4834</td>\n      <td>33000</td>\n    </tr>\n    <tr>\n      <th>Pirates of the Caribbean: At World's End</th>\n      <td>471220</td>\n      <td>48350</td>\n      <td>0</td>\n    </tr>\n    <tr>\n      <th>Spectre</th>\n      <td>275868</td>\n      <td>11700</td>\n      <td>85000</td>\n    </tr>\n    <tr>\n      <th>The Dark Knight Rises</th>\n      <td>1144337</td>\n      <td>106759</td>\n      <td>164000</td>\n    </tr>\n    <tr>\n      <th>Star Wars: Episode VII - The Force Awakens</th>\n      <td>8</td>\n      <td>143</td>\n      <td>0</td>\n    </tr>\n  </tbody>\n</table>\n</div>"
     },
     "execution_count": 48,
     "metadata": {},
     "output_type": "execute_result"
    }
   ],
   "source": [
    "movie.loc[:, criteria_col].head()"
   ],
   "metadata": {
    "collapsed": false
   }
  },
  {
   "cell_type": "code",
   "execution_count": 49,
   "outputs": [
    {
     "data": {
      "text/plain": "                                            num_voted_users  \\\nmovie_title                                                   \nAvatar                                               886204   \nPirates of the Caribbean: At World's End             471220   \nSpectre                                              275868   \nThe Dark Knight Rises                               1144337   \nStar Wars: Episode VII - The Force Awakens                8   \n\n                                            cast_total_facebook_likes  \\\nmovie_title                                                             \nAvatar                                                           4834   \nPirates of the Caribbean: At World's End                        48350   \nSpectre                                                         11700   \nThe Dark Knight Rises                                          106759   \nStar Wars: Episode VII - The Force Awakens                        143   \n\n                                            movie_facebook_likes  \nmovie_title                                                       \nAvatar                                                     33000  \nPirates of the Caribbean: At World's End                       0  \nSpectre                                                    85000  \nThe Dark Knight Rises                                     164000  \nStar Wars: Episode VII - The Force Awakens                     0  ",
      "text/html": "<div>\n<style scoped>\n    .dataframe tbody tr th:only-of-type {\n        vertical-align: middle;\n    }\n\n    .dataframe tbody tr th {\n        vertical-align: top;\n    }\n\n    .dataframe thead th {\n        text-align: right;\n    }\n</style>\n<table border=\"1\" class=\"dataframe\">\n  <thead>\n    <tr style=\"text-align: right;\">\n      <th></th>\n      <th>num_voted_users</th>\n      <th>cast_total_facebook_likes</th>\n      <th>movie_facebook_likes</th>\n    </tr>\n    <tr>\n      <th>movie_title</th>\n      <th></th>\n      <th></th>\n      <th></th>\n    </tr>\n  </thead>\n  <tbody>\n    <tr>\n      <th>Avatar</th>\n      <td>886204</td>\n      <td>4834</td>\n      <td>33000</td>\n    </tr>\n    <tr>\n      <th>Pirates of the Caribbean: At World's End</th>\n      <td>471220</td>\n      <td>48350</td>\n      <td>0</td>\n    </tr>\n    <tr>\n      <th>Spectre</th>\n      <td>275868</td>\n      <td>11700</td>\n      <td>85000</td>\n    </tr>\n    <tr>\n      <th>The Dark Knight Rises</th>\n      <td>1144337</td>\n      <td>106759</td>\n      <td>164000</td>\n    </tr>\n    <tr>\n      <th>Star Wars: Episode VII - The Force Awakens</th>\n      <td>8</td>\n      <td>143</td>\n      <td>0</td>\n    </tr>\n  </tbody>\n</table>\n</div>"
     },
     "execution_count": 49,
     "metadata": {},
     "output_type": "execute_result"
    }
   ],
   "source": [
    "movie.iloc[:, criteria_col.to_numpy()].head()"
   ],
   "metadata": {
    "collapsed": false
   }
  },
  {
   "cell_type": "code",
   "execution_count": 50,
   "outputs": [],
   "source": [
    "cols = [\n",
    "    'content_rating',\n",
    "    'imdb_score',\n",
    "    'title_year',\n",
    "    'gross'\n",
    "]"
   ],
   "metadata": {
    "collapsed": false
   }
  },
  {
   "cell_type": "code",
   "execution_count": 53,
   "outputs": [
    {
     "data": {
      "text/plain": "                               content_rating  imdb_score  title_year  \\\nmovie_title                                                             \nThomas and the Magic Railroad               G         3.6      2000.0   \nThe True Story of Puss'N Boots              G         2.9      2009.0   \nDoogal                                      G         2.8      2006.0   \nBarney's Great Adventure                    G         2.8      1998.0   \nSunday School Musical                       G         2.5      2008.0   \nJustin Bieber: Never Say Never              G         1.6      2011.0   \n\n                                     gross  \nmovie_title                                 \nThomas and the Magic Railroad   15911333.0  \nThe True Story of Puss'N Boots         NaN  \nDoogal                           7382993.0  \nBarney's Great Adventure        11144518.0  \nSunday School Musical                  NaN  \nJustin Bieber: Never Say Never  73000942.0  ",
      "text/html": "<div>\n<style scoped>\n    .dataframe tbody tr th:only-of-type {\n        vertical-align: middle;\n    }\n\n    .dataframe tbody tr th {\n        vertical-align: top;\n    }\n\n    .dataframe thead th {\n        text-align: right;\n    }\n</style>\n<table border=\"1\" class=\"dataframe\">\n  <thead>\n    <tr style=\"text-align: right;\">\n      <th></th>\n      <th>content_rating</th>\n      <th>imdb_score</th>\n      <th>title_year</th>\n      <th>gross</th>\n    </tr>\n    <tr>\n      <th>movie_title</th>\n      <th></th>\n      <th></th>\n      <th></th>\n      <th></th>\n    </tr>\n  </thead>\n  <tbody>\n    <tr>\n      <th>Thomas and the Magic Railroad</th>\n      <td>G</td>\n      <td>3.6</td>\n      <td>2000.0</td>\n      <td>15911333.0</td>\n    </tr>\n    <tr>\n      <th>The True Story of Puss'N Boots</th>\n      <td>G</td>\n      <td>2.9</td>\n      <td>2009.0</td>\n      <td>NaN</td>\n    </tr>\n    <tr>\n      <th>Doogal</th>\n      <td>G</td>\n      <td>2.8</td>\n      <td>2006.0</td>\n      <td>7382993.0</td>\n    </tr>\n    <tr>\n      <th>Barney's Great Adventure</th>\n      <td>G</td>\n      <td>2.8</td>\n      <td>1998.0</td>\n      <td>11144518.0</td>\n    </tr>\n    <tr>\n      <th>Sunday School Musical</th>\n      <td>G</td>\n      <td>2.5</td>\n      <td>2008.0</td>\n      <td>NaN</td>\n    </tr>\n    <tr>\n      <th>Justin Bieber: Never Say Never</th>\n      <td>G</td>\n      <td>1.6</td>\n      <td>2011.0</td>\n      <td>73000942.0</td>\n    </tr>\n  </tbody>\n</table>\n</div>"
     },
     "execution_count": 53,
     "metadata": {},
     "output_type": "execute_result"
    }
   ],
   "source": [
    "movie.loc[criteria, cols].sort_values('imdb_score', ascending=False)"
   ],
   "metadata": {
    "collapsed": false
   }
  },
  {
   "cell_type": "code",
   "execution_count": 54,
   "outputs": [],
   "source": [
    "col_index = [movie.columns.get_loc(col) for col in cols]"
   ],
   "metadata": {
    "collapsed": false
   }
  },
  {
   "cell_type": "code",
   "execution_count": 55,
   "outputs": [
    {
     "data": {
      "text/plain": "[20, 24, 22, 8]"
     },
     "execution_count": 55,
     "metadata": {},
     "output_type": "execute_result"
    }
   ],
   "source": [
    "col_index"
   ],
   "metadata": {
    "collapsed": false
   }
  },
  {
   "cell_type": "code",
   "execution_count": 56,
   "outputs": [
    {
     "data": {
      "text/plain": "                               content_rating  imdb_score  title_year  \\\nmovie_title                                                             \nJustin Bieber: Never Say Never              G         1.6      2011.0   \nSunday School Musical                       G         2.5      2008.0   \nDoogal                                      G         2.8      2006.0   \nBarney's Great Adventure                    G         2.8      1998.0   \nThe True Story of Puss'N Boots              G         2.9      2009.0   \nThomas and the Magic Railroad               G         3.6      2000.0   \n\n                                     gross  \nmovie_title                                 \nJustin Bieber: Never Say Never  73000942.0  \nSunday School Musical                  NaN  \nDoogal                           7382993.0  \nBarney's Great Adventure        11144518.0  \nThe True Story of Puss'N Boots         NaN  \nThomas and the Magic Railroad   15911333.0  ",
      "text/html": "<div>\n<style scoped>\n    .dataframe tbody tr th:only-of-type {\n        vertical-align: middle;\n    }\n\n    .dataframe tbody tr th {\n        vertical-align: top;\n    }\n\n    .dataframe thead th {\n        text-align: right;\n    }\n</style>\n<table border=\"1\" class=\"dataframe\">\n  <thead>\n    <tr style=\"text-align: right;\">\n      <th></th>\n      <th>content_rating</th>\n      <th>imdb_score</th>\n      <th>title_year</th>\n      <th>gross</th>\n    </tr>\n    <tr>\n      <th>movie_title</th>\n      <th></th>\n      <th></th>\n      <th></th>\n      <th></th>\n    </tr>\n  </thead>\n  <tbody>\n    <tr>\n      <th>Justin Bieber: Never Say Never</th>\n      <td>G</td>\n      <td>1.6</td>\n      <td>2011.0</td>\n      <td>73000942.0</td>\n    </tr>\n    <tr>\n      <th>Sunday School Musical</th>\n      <td>G</td>\n      <td>2.5</td>\n      <td>2008.0</td>\n      <td>NaN</td>\n    </tr>\n    <tr>\n      <th>Doogal</th>\n      <td>G</td>\n      <td>2.8</td>\n      <td>2006.0</td>\n      <td>7382993.0</td>\n    </tr>\n    <tr>\n      <th>Barney's Great Adventure</th>\n      <td>G</td>\n      <td>2.8</td>\n      <td>1998.0</td>\n      <td>11144518.0</td>\n    </tr>\n    <tr>\n      <th>The True Story of Puss'N Boots</th>\n      <td>G</td>\n      <td>2.9</td>\n      <td>2009.0</td>\n      <td>NaN</td>\n    </tr>\n    <tr>\n      <th>Thomas and the Magic Railroad</th>\n      <td>G</td>\n      <td>3.6</td>\n      <td>2000.0</td>\n      <td>15911333.0</td>\n    </tr>\n  </tbody>\n</table>\n</div>"
     },
     "execution_count": 56,
     "metadata": {},
     "output_type": "execute_result"
    }
   ],
   "source": [
    "movie.iloc[criteria.to_numpy(), col_index].sort_values('imdb_score')"
   ],
   "metadata": {
    "collapsed": false
   }
  },
  {
   "cell_type": "code",
   "execution_count": 57,
   "outputs": [],
   "source": [
    "a = criteria.to_numpy()"
   ],
   "metadata": {
    "collapsed": false
   }
  },
  {
   "cell_type": "code",
   "execution_count": 59,
   "outputs": [
    {
     "data": {
      "text/plain": "array([False, False, False, False, False])"
     },
     "execution_count": 59,
     "metadata": {},
     "output_type": "execute_result"
    }
   ],
   "source": [
    "a[:5]"
   ],
   "metadata": {
    "collapsed": false
   }
  },
  {
   "cell_type": "code",
   "execution_count": 60,
   "outputs": [
    {
     "data": {
      "text/plain": "(4916, 4916)"
     },
     "execution_count": 60,
     "metadata": {},
     "output_type": "execute_result"
    }
   ],
   "source": [
    "len(a), len(criteria)"
   ],
   "metadata": {
    "collapsed": false
   }
  },
  {
   "cell_type": "code",
   "execution_count": 61,
   "outputs": [
    {
     "data": {
      "text/plain": "                                            num_voted_users  \\\nmovie_title                                                   \nAvatar                                               886204   \nPirates of the Caribbean: At World's End             471220   \nSpectre                                              275868   \nThe Dark Knight Rises                               1144337   \nStar Wars: Episode VII - The Force Awakens                8   \n...                                                     ...   \nSigned Sealed Delivered                                 629   \nThe Following                                         73839   \nA Plague So Pleasant                                     38   \nShanghai Calling                                       1255   \nMy Date with Drew                                      4285   \n\n                                            cast_total_facebook_likes  \\\nmovie_title                                                             \nAvatar                                                           4834   \nPirates of the Caribbean: At World's End                        48350   \nSpectre                                                         11700   \nThe Dark Knight Rises                                          106759   \nStar Wars: Episode VII - The Force Awakens                        143   \n...                                                               ...   \nSigned Sealed Delivered                                          2283   \nThe Following                                                    1753   \nA Plague So Pleasant                                                0   \nShanghai Calling                                                 2386   \nMy Date with Drew                                                 163   \n\n                                            movie_facebook_likes  \nmovie_title                                                       \nAvatar                                                     33000  \nPirates of the Caribbean: At World's End                       0  \nSpectre                                                    85000  \nThe Dark Knight Rises                                     164000  \nStar Wars: Episode VII - The Force Awakens                     0  \n...                                                          ...  \nSigned Sealed Delivered                                       84  \nThe Following                                              32000  \nA Plague So Pleasant                                          16  \nShanghai Calling                                             660  \nMy Date with Drew                                            456  \n\n[4916 rows x 3 columns]",
      "text/html": "<div>\n<style scoped>\n    .dataframe tbody tr th:only-of-type {\n        vertical-align: middle;\n    }\n\n    .dataframe tbody tr th {\n        vertical-align: top;\n    }\n\n    .dataframe thead th {\n        text-align: right;\n    }\n</style>\n<table border=\"1\" class=\"dataframe\">\n  <thead>\n    <tr style=\"text-align: right;\">\n      <th></th>\n      <th>num_voted_users</th>\n      <th>cast_total_facebook_likes</th>\n      <th>movie_facebook_likes</th>\n    </tr>\n    <tr>\n      <th>movie_title</th>\n      <th></th>\n      <th></th>\n      <th></th>\n    </tr>\n  </thead>\n  <tbody>\n    <tr>\n      <th>Avatar</th>\n      <td>886204</td>\n      <td>4834</td>\n      <td>33000</td>\n    </tr>\n    <tr>\n      <th>Pirates of the Caribbean: At World's End</th>\n      <td>471220</td>\n      <td>48350</td>\n      <td>0</td>\n    </tr>\n    <tr>\n      <th>Spectre</th>\n      <td>275868</td>\n      <td>11700</td>\n      <td>85000</td>\n    </tr>\n    <tr>\n      <th>The Dark Knight Rises</th>\n      <td>1144337</td>\n      <td>106759</td>\n      <td>164000</td>\n    </tr>\n    <tr>\n      <th>Star Wars: Episode VII - The Force Awakens</th>\n      <td>8</td>\n      <td>143</td>\n      <td>0</td>\n    </tr>\n    <tr>\n      <th>...</th>\n      <td>...</td>\n      <td>...</td>\n      <td>...</td>\n    </tr>\n    <tr>\n      <th>Signed Sealed Delivered</th>\n      <td>629</td>\n      <td>2283</td>\n      <td>84</td>\n    </tr>\n    <tr>\n      <th>The Following</th>\n      <td>73839</td>\n      <td>1753</td>\n      <td>32000</td>\n    </tr>\n    <tr>\n      <th>A Plague So Pleasant</th>\n      <td>38</td>\n      <td>0</td>\n      <td>16</td>\n    </tr>\n    <tr>\n      <th>Shanghai Calling</th>\n      <td>1255</td>\n      <td>2386</td>\n      <td>660</td>\n    </tr>\n    <tr>\n      <th>My Date with Drew</th>\n      <td>4285</td>\n      <td>163</td>\n      <td>456</td>\n    </tr>\n  </tbody>\n</table>\n<p>4916 rows × 3 columns</p>\n</div>"
     },
     "execution_count": 61,
     "metadata": {},
     "output_type": "execute_result"
    }
   ],
   "source": [
    "movie.select_dtypes(int)"
   ],
   "metadata": {
    "collapsed": false
   }
  },
  {
   "cell_type": "code",
   "execution_count": null,
   "outputs": [],
   "source": [],
   "metadata": {
    "collapsed": false
   }
  }
 ],
 "metadata": {
  "kernelspec": {
   "display_name": "Python 3",
   "language": "python",
   "name": "python3"
  },
  "language_info": {
   "codemirror_mode": {
    "name": "ipython",
    "version": 2
   },
   "file_extension": ".py",
   "mimetype": "text/x-python",
   "name": "python",
   "nbconvert_exporter": "python",
   "pygments_lexer": "ipython2",
   "version": "2.7.6"
  }
 },
 "nbformat": 4,
 "nbformat_minor": 0
}
