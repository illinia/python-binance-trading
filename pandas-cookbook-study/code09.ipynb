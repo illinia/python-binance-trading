{
 "cells": [
  {
   "cell_type": "code",
   "execution_count": 1,
   "metadata": {
    "collapsed": true
   },
   "outputs": [],
   "source": [
    "import pandas as pd\n",
    "import numpy as np"
   ]
  },
  {
   "cell_type": "code",
   "execution_count": 2,
   "outputs": [],
   "source": [
    "flights = pd.read_csv('data/flights.csv')"
   ],
   "metadata": {
    "collapsed": false
   }
  },
  {
   "cell_type": "code",
   "execution_count": 3,
   "outputs": [
    {
     "data": {
      "text/plain": "   MONTH  DAY  WEEKDAY AIRLINE ORG_AIR DEST_AIR  SCHED_DEP  DEP_DELAY  \\\n0      1    1        4      WN     LAX      SLC       1625       58.0   \n1      1    1        4      UA     DEN      IAD        823        7.0   \n2      1    1        4      MQ     DFW      VPS       1305       36.0   \n3      1    1        4      AA     DFW      DCA       1555        7.0   \n4      1    1        4      WN     LAX      MCI       1720       48.0   \n\n   AIR_TIME  DIST  SCHED_ARR  ARR_DELAY  DIVERTED  CANCELLED  \n0      94.0   590       1905       65.0         0          0  \n1     154.0  1452       1333      -13.0         0          0  \n2      85.0   641       1453       35.0         0          0  \n3     126.0  1192       1935       -7.0         0          0  \n4     166.0  1363       2225       39.0         0          0  ",
      "text/html": "<div>\n<style scoped>\n    .dataframe tbody tr th:only-of-type {\n        vertical-align: middle;\n    }\n\n    .dataframe tbody tr th {\n        vertical-align: top;\n    }\n\n    .dataframe thead th {\n        text-align: right;\n    }\n</style>\n<table border=\"1\" class=\"dataframe\">\n  <thead>\n    <tr style=\"text-align: right;\">\n      <th></th>\n      <th>MONTH</th>\n      <th>DAY</th>\n      <th>WEEKDAY</th>\n      <th>AIRLINE</th>\n      <th>ORG_AIR</th>\n      <th>DEST_AIR</th>\n      <th>SCHED_DEP</th>\n      <th>DEP_DELAY</th>\n      <th>AIR_TIME</th>\n      <th>DIST</th>\n      <th>SCHED_ARR</th>\n      <th>ARR_DELAY</th>\n      <th>DIVERTED</th>\n      <th>CANCELLED</th>\n    </tr>\n  </thead>\n  <tbody>\n    <tr>\n      <th>0</th>\n      <td>1</td>\n      <td>1</td>\n      <td>4</td>\n      <td>WN</td>\n      <td>LAX</td>\n      <td>SLC</td>\n      <td>1625</td>\n      <td>58.0</td>\n      <td>94.0</td>\n      <td>590</td>\n      <td>1905</td>\n      <td>65.0</td>\n      <td>0</td>\n      <td>0</td>\n    </tr>\n    <tr>\n      <th>1</th>\n      <td>1</td>\n      <td>1</td>\n      <td>4</td>\n      <td>UA</td>\n      <td>DEN</td>\n      <td>IAD</td>\n      <td>823</td>\n      <td>7.0</td>\n      <td>154.0</td>\n      <td>1452</td>\n      <td>1333</td>\n      <td>-13.0</td>\n      <td>0</td>\n      <td>0</td>\n    </tr>\n    <tr>\n      <th>2</th>\n      <td>1</td>\n      <td>1</td>\n      <td>4</td>\n      <td>MQ</td>\n      <td>DFW</td>\n      <td>VPS</td>\n      <td>1305</td>\n      <td>36.0</td>\n      <td>85.0</td>\n      <td>641</td>\n      <td>1453</td>\n      <td>35.0</td>\n      <td>0</td>\n      <td>0</td>\n    </tr>\n    <tr>\n      <th>3</th>\n      <td>1</td>\n      <td>1</td>\n      <td>4</td>\n      <td>AA</td>\n      <td>DFW</td>\n      <td>DCA</td>\n      <td>1555</td>\n      <td>7.0</td>\n      <td>126.0</td>\n      <td>1192</td>\n      <td>1935</td>\n      <td>-7.0</td>\n      <td>0</td>\n      <td>0</td>\n    </tr>\n    <tr>\n      <th>4</th>\n      <td>1</td>\n      <td>1</td>\n      <td>4</td>\n      <td>WN</td>\n      <td>LAX</td>\n      <td>MCI</td>\n      <td>1720</td>\n      <td>48.0</td>\n      <td>166.0</td>\n      <td>1363</td>\n      <td>2225</td>\n      <td>39.0</td>\n      <td>0</td>\n      <td>0</td>\n    </tr>\n  </tbody>\n</table>\n</div>"
     },
     "execution_count": 3,
     "metadata": {},
     "output_type": "execute_result"
    }
   ],
   "source": [
    "flights.head()"
   ],
   "metadata": {
    "collapsed": false
   }
  },
  {
   "cell_type": "code",
   "execution_count": 4,
   "outputs": [
    {
     "data": {
      "text/plain": "         ARR_DELAY\nAIRLINE           \nAA        5.542661\nAS       -0.833333\nB6        8.692593\nDL        0.339691\nEV        7.034580\nF9       13.630651\nHA        4.972973\nMQ        6.860591\nNK       18.436070\nOO        7.593463\nUA        7.765755\nUS        1.681105\nVX        5.348884\nWN        6.397353",
      "text/html": "<div>\n<style scoped>\n    .dataframe tbody tr th:only-of-type {\n        vertical-align: middle;\n    }\n\n    .dataframe tbody tr th {\n        vertical-align: top;\n    }\n\n    .dataframe thead th {\n        text-align: right;\n    }\n</style>\n<table border=\"1\" class=\"dataframe\">\n  <thead>\n    <tr style=\"text-align: right;\">\n      <th></th>\n      <th>ARR_DELAY</th>\n    </tr>\n    <tr>\n      <th>AIRLINE</th>\n      <th></th>\n    </tr>\n  </thead>\n  <tbody>\n    <tr>\n      <th>AA</th>\n      <td>5.542661</td>\n    </tr>\n    <tr>\n      <th>AS</th>\n      <td>-0.833333</td>\n    </tr>\n    <tr>\n      <th>B6</th>\n      <td>8.692593</td>\n    </tr>\n    <tr>\n      <th>DL</th>\n      <td>0.339691</td>\n    </tr>\n    <tr>\n      <th>EV</th>\n      <td>7.034580</td>\n    </tr>\n    <tr>\n      <th>F9</th>\n      <td>13.630651</td>\n    </tr>\n    <tr>\n      <th>HA</th>\n      <td>4.972973</td>\n    </tr>\n    <tr>\n      <th>MQ</th>\n      <td>6.860591</td>\n    </tr>\n    <tr>\n      <th>NK</th>\n      <td>18.436070</td>\n    </tr>\n    <tr>\n      <th>OO</th>\n      <td>7.593463</td>\n    </tr>\n    <tr>\n      <th>UA</th>\n      <td>7.765755</td>\n    </tr>\n    <tr>\n      <th>US</th>\n      <td>1.681105</td>\n    </tr>\n    <tr>\n      <th>VX</th>\n      <td>5.348884</td>\n    </tr>\n    <tr>\n      <th>WN</th>\n      <td>6.397353</td>\n    </tr>\n  </tbody>\n</table>\n</div>"
     },
     "execution_count": 4,
     "metadata": {},
     "output_type": "execute_result"
    }
   ],
   "source": [
    "(\n",
    "    flights\n",
    "    .groupby('AIRLINE')\n",
    "    .agg({'ARR_DELAY': 'mean'})\n",
    " )"
   ],
   "metadata": {
    "collapsed": false
   }
  },
  {
   "cell_type": "code",
   "execution_count": 5,
   "outputs": [
    {
     "data": {
      "text/plain": "AIRLINE\nAA     5.542661\nAS    -0.833333\nB6     8.692593\nDL     0.339691\nEV     7.034580\nF9    13.630651\nHA     4.972973\nMQ     6.860591\nNK    18.436070\nOO     7.593463\nUA     7.765755\nUS     1.681105\nVX     5.348884\nWN     6.397353\nName: ARR_DELAY, dtype: float64"
     },
     "execution_count": 5,
     "metadata": {},
     "output_type": "execute_result"
    }
   ],
   "source": [
    "(\n",
    "    flights\n",
    "    .groupby('AIRLINE')['ARR_DELAY']\n",
    "    .agg('mean')\n",
    ")"
   ],
   "metadata": {
    "collapsed": false
   }
  },
  {
   "cell_type": "code",
   "execution_count": 6,
   "outputs": [
    {
     "data": {
      "text/plain": "AIRLINE\nAA     5.542661\nAS    -0.833333\nB6     8.692593\nDL     0.339691\nEV     7.034580\nF9    13.630651\nHA     4.972973\nMQ     6.860591\nNK    18.436070\nOO     7.593463\nUA     7.765755\nUS     1.681105\nVX     5.348884\nWN     6.397353\nName: ARR_DELAY, dtype: float64"
     },
     "execution_count": 6,
     "metadata": {},
     "output_type": "execute_result"
    }
   ],
   "source": [
    "(\n",
    "    flights\n",
    "    .groupby('AIRLINE')['ARR_DELAY']\n",
    "    .agg(np.mean)\n",
    ")"
   ],
   "metadata": {
    "collapsed": false
   }
  },
  {
   "cell_type": "code",
   "execution_count": 7,
   "outputs": [
    {
     "data": {
      "text/plain": "AIRLINE\nAA     5.542661\nAS    -0.833333\nB6     8.692593\nDL     0.339691\nEV     7.034580\nF9    13.630651\nHA     4.972973\nMQ     6.860591\nNK    18.436070\nOO     7.593463\nUA     7.765755\nUS     1.681105\nVX     5.348884\nWN     6.397353\nName: ARR_DELAY, dtype: float64"
     },
     "execution_count": 7,
     "metadata": {},
     "output_type": "execute_result"
    }
   ],
   "source": [
    "(\n",
    "    flights\n",
    "    .groupby('AIRLINE')['ARR_DELAY']\n",
    "    .mean()\n",
    ")"
   ],
   "metadata": {
    "collapsed": false
   }
  },
  {
   "cell_type": "code",
   "execution_count": 8,
   "outputs": [],
   "source": [
    "grouped = flights.groupby('AIRLINE')"
   ],
   "metadata": {
    "collapsed": false
   }
  },
  {
   "cell_type": "code",
   "execution_count": 9,
   "outputs": [
    {
     "data": {
      "text/plain": "pandas.core.groupby.generic.DataFrameGroupBy"
     },
     "execution_count": 9,
     "metadata": {},
     "output_type": "execute_result"
    }
   ],
   "source": [
    "type(grouped)"
   ],
   "metadata": {
    "collapsed": false
   }
  },
  {
   "cell_type": "markdown",
   "source": [
    "복수 개의 열과 함수를 사용한 그룹화와 집계"
   ],
   "metadata": {
    "collapsed": false
   }
  },
  {
   "cell_type": "code",
   "execution_count": 12,
   "outputs": [
    {
     "data": {
      "text/plain": "AIRLINE  WEEKDAY\nAA       1          41\n         2           9\n         3          16\n         4          20\n         5          18\n                    ..\nWN       3          18\n         4          10\n         5           7\n         6          10\n         7           7\nName: CANCELLED, Length: 98, dtype: int64"
     },
     "execution_count": 12,
     "metadata": {},
     "output_type": "execute_result"
    }
   ],
   "source": [
    "(\n",
    "    flights\n",
    "    .groupby(['AIRLINE', 'WEEKDAY'])\n",
    "    ['CANCELLED']\n",
    "    .agg('sum')\n",
    ")"
   ],
   "metadata": {
    "collapsed": false
   }
  },
  {
   "cell_type": "code",
   "execution_count": 14,
   "outputs": [
    {
     "data": {
      "text/plain": "                CANCELLED           DIVERTED          \n                      sum      mean      sum      mean\nAIRLINE WEEKDAY                                       \nAA      1              41  0.032106        6  0.004699\n        2               9  0.007341        2  0.001631\n        3              16  0.011949        2  0.001494\n        4              20  0.015004        5  0.003751\n        5              18  0.014151        1  0.000786\n...                   ...       ...      ...       ...\nWN      3              18  0.014118        2  0.001569\n        4              10  0.007911        4  0.003165\n        5               7  0.005828        0  0.000000\n        6              10  0.010132        3  0.003040\n        7               7  0.006066        3  0.002600\n\n[98 rows x 4 columns]",
      "text/html": "<div>\n<style scoped>\n    .dataframe tbody tr th:only-of-type {\n        vertical-align: middle;\n    }\n\n    .dataframe tbody tr th {\n        vertical-align: top;\n    }\n\n    .dataframe thead tr th {\n        text-align: left;\n    }\n\n    .dataframe thead tr:last-of-type th {\n        text-align: right;\n    }\n</style>\n<table border=\"1\" class=\"dataframe\">\n  <thead>\n    <tr>\n      <th></th>\n      <th></th>\n      <th colspan=\"2\" halign=\"left\">CANCELLED</th>\n      <th colspan=\"2\" halign=\"left\">DIVERTED</th>\n    </tr>\n    <tr>\n      <th></th>\n      <th></th>\n      <th>sum</th>\n      <th>mean</th>\n      <th>sum</th>\n      <th>mean</th>\n    </tr>\n    <tr>\n      <th>AIRLINE</th>\n      <th>WEEKDAY</th>\n      <th></th>\n      <th></th>\n      <th></th>\n      <th></th>\n    </tr>\n  </thead>\n  <tbody>\n    <tr>\n      <th rowspan=\"5\" valign=\"top\">AA</th>\n      <th>1</th>\n      <td>41</td>\n      <td>0.032106</td>\n      <td>6</td>\n      <td>0.004699</td>\n    </tr>\n    <tr>\n      <th>2</th>\n      <td>9</td>\n      <td>0.007341</td>\n      <td>2</td>\n      <td>0.001631</td>\n    </tr>\n    <tr>\n      <th>3</th>\n      <td>16</td>\n      <td>0.011949</td>\n      <td>2</td>\n      <td>0.001494</td>\n    </tr>\n    <tr>\n      <th>4</th>\n      <td>20</td>\n      <td>0.015004</td>\n      <td>5</td>\n      <td>0.003751</td>\n    </tr>\n    <tr>\n      <th>5</th>\n      <td>18</td>\n      <td>0.014151</td>\n      <td>1</td>\n      <td>0.000786</td>\n    </tr>\n    <tr>\n      <th>...</th>\n      <th>...</th>\n      <td>...</td>\n      <td>...</td>\n      <td>...</td>\n      <td>...</td>\n    </tr>\n    <tr>\n      <th rowspan=\"5\" valign=\"top\">WN</th>\n      <th>3</th>\n      <td>18</td>\n      <td>0.014118</td>\n      <td>2</td>\n      <td>0.001569</td>\n    </tr>\n    <tr>\n      <th>4</th>\n      <td>10</td>\n      <td>0.007911</td>\n      <td>4</td>\n      <td>0.003165</td>\n    </tr>\n    <tr>\n      <th>5</th>\n      <td>7</td>\n      <td>0.005828</td>\n      <td>0</td>\n      <td>0.000000</td>\n    </tr>\n    <tr>\n      <th>6</th>\n      <td>10</td>\n      <td>0.010132</td>\n      <td>3</td>\n      <td>0.003040</td>\n    </tr>\n    <tr>\n      <th>7</th>\n      <td>7</td>\n      <td>0.006066</td>\n      <td>3</td>\n      <td>0.002600</td>\n    </tr>\n  </tbody>\n</table>\n<p>98 rows × 4 columns</p>\n</div>"
     },
     "execution_count": 14,
     "metadata": {},
     "output_type": "execute_result"
    }
   ],
   "source": [
    "(\n",
    "    flights\n",
    "    .groupby(['AIRLINE', 'WEEKDAY'])\n",
    "    [['CANCELLED', 'DIVERTED']]\n",
    "    .agg(['sum', 'mean'])\n",
    ")"
   ],
   "metadata": {
    "collapsed": false
   }
  },
  {
   "cell_type": "code",
   "execution_count": 15,
   "outputs": [
    {
     "data": {
      "text/plain": "                 CANCELLED                   AIR_TIME            \n                       sum      mean size        mean         var\nORG_AIR DEST_AIR                                                 \nATL     ABE              0  0.000000   31   96.387097   45.778495\n        ABQ              0  0.000000   16  170.500000   87.866667\n        ABY              0  0.000000   19   28.578947    6.590643\n        ACY              0  0.000000    6   91.333333   11.466667\n        AEX              0  0.000000   40   78.725000   47.332692\n...                    ...       ...  ...         ...         ...\nSFO     SNA              4  0.032787  122   64.059322   11.338331\n        STL              0  0.000000   20  198.900000  101.042105\n        SUN              0  0.000000   10   78.000000   25.777778\n        TUS              0  0.000000   20  100.200000   35.221053\n        XNA              0  0.000000    2  173.500000    0.500000\n\n[1130 rows x 5 columns]",
      "text/html": "<div>\n<style scoped>\n    .dataframe tbody tr th:only-of-type {\n        vertical-align: middle;\n    }\n\n    .dataframe tbody tr th {\n        vertical-align: top;\n    }\n\n    .dataframe thead tr th {\n        text-align: left;\n    }\n\n    .dataframe thead tr:last-of-type th {\n        text-align: right;\n    }\n</style>\n<table border=\"1\" class=\"dataframe\">\n  <thead>\n    <tr>\n      <th></th>\n      <th></th>\n      <th colspan=\"3\" halign=\"left\">CANCELLED</th>\n      <th colspan=\"2\" halign=\"left\">AIR_TIME</th>\n    </tr>\n    <tr>\n      <th></th>\n      <th></th>\n      <th>sum</th>\n      <th>mean</th>\n      <th>size</th>\n      <th>mean</th>\n      <th>var</th>\n    </tr>\n    <tr>\n      <th>ORG_AIR</th>\n      <th>DEST_AIR</th>\n      <th></th>\n      <th></th>\n      <th></th>\n      <th></th>\n      <th></th>\n    </tr>\n  </thead>\n  <tbody>\n    <tr>\n      <th rowspan=\"5\" valign=\"top\">ATL</th>\n      <th>ABE</th>\n      <td>0</td>\n      <td>0.000000</td>\n      <td>31</td>\n      <td>96.387097</td>\n      <td>45.778495</td>\n    </tr>\n    <tr>\n      <th>ABQ</th>\n      <td>0</td>\n      <td>0.000000</td>\n      <td>16</td>\n      <td>170.500000</td>\n      <td>87.866667</td>\n    </tr>\n    <tr>\n      <th>ABY</th>\n      <td>0</td>\n      <td>0.000000</td>\n      <td>19</td>\n      <td>28.578947</td>\n      <td>6.590643</td>\n    </tr>\n    <tr>\n      <th>ACY</th>\n      <td>0</td>\n      <td>0.000000</td>\n      <td>6</td>\n      <td>91.333333</td>\n      <td>11.466667</td>\n    </tr>\n    <tr>\n      <th>AEX</th>\n      <td>0</td>\n      <td>0.000000</td>\n      <td>40</td>\n      <td>78.725000</td>\n      <td>47.332692</td>\n    </tr>\n    <tr>\n      <th>...</th>\n      <th>...</th>\n      <td>...</td>\n      <td>...</td>\n      <td>...</td>\n      <td>...</td>\n      <td>...</td>\n    </tr>\n    <tr>\n      <th rowspan=\"5\" valign=\"top\">SFO</th>\n      <th>SNA</th>\n      <td>4</td>\n      <td>0.032787</td>\n      <td>122</td>\n      <td>64.059322</td>\n      <td>11.338331</td>\n    </tr>\n    <tr>\n      <th>STL</th>\n      <td>0</td>\n      <td>0.000000</td>\n      <td>20</td>\n      <td>198.900000</td>\n      <td>101.042105</td>\n    </tr>\n    <tr>\n      <th>SUN</th>\n      <td>0</td>\n      <td>0.000000</td>\n      <td>10</td>\n      <td>78.000000</td>\n      <td>25.777778</td>\n    </tr>\n    <tr>\n      <th>TUS</th>\n      <td>0</td>\n      <td>0.000000</td>\n      <td>20</td>\n      <td>100.200000</td>\n      <td>35.221053</td>\n    </tr>\n    <tr>\n      <th>XNA</th>\n      <td>0</td>\n      <td>0.000000</td>\n      <td>2</td>\n      <td>173.500000</td>\n      <td>0.500000</td>\n    </tr>\n  </tbody>\n</table>\n<p>1130 rows × 5 columns</p>\n</div>"
     },
     "execution_count": 15,
     "metadata": {},
     "output_type": "execute_result"
    }
   ],
   "source": [
    "(\n",
    "    flights\n",
    "    .groupby(['ORG_AIR', 'DEST_AIR'])\n",
    "    .agg({\n",
    "        'CANCELLED': ['sum', 'mean', 'size'],\n",
    "        'AIR_TIME': ['mean', 'var']\n",
    "    })\n",
    ")"
   ],
   "metadata": {
    "collapsed": false
   }
  },
  {
   "cell_type": "code",
   "execution_count": 20,
   "outputs": [
    {
     "data": {
      "text/plain": "                  sum_cancelled  mean_cancelled  size_cancelled  \\\nORG_AIR DEST_AIR                                                  \nATL     ABE                   0        0.000000              31   \n        ABQ                   0        0.000000              16   \n        ABY                   0        0.000000              19   \n        ACY                   0        0.000000               6   \n        AEX                   0        0.000000              40   \n...                         ...             ...             ...   \nSFO     SNA                   4        0.032787             122   \n        STL                   0        0.000000              20   \n        SUN                   0        0.000000              10   \n        TUS                   0        0.000000              20   \n        XNA                   0        0.000000               2   \n\n                  mean_air_time  var_air_time  \nORG_AIR DEST_AIR                               \nATL     ABE           96.387097     45.778495  \n        ABQ          170.500000     87.866667  \n        ABY           28.578947      6.590643  \n        ACY           91.333333     11.466667  \n        AEX           78.725000     47.332692  \n...                         ...           ...  \nSFO     SNA           64.059322     11.338331  \n        STL          198.900000    101.042105  \n        SUN           78.000000     25.777778  \n        TUS          100.200000     35.221053  \n        XNA          173.500000      0.500000  \n\n[1130 rows x 5 columns]",
      "text/html": "<div>\n<style scoped>\n    .dataframe tbody tr th:only-of-type {\n        vertical-align: middle;\n    }\n\n    .dataframe tbody tr th {\n        vertical-align: top;\n    }\n\n    .dataframe thead th {\n        text-align: right;\n    }\n</style>\n<table border=\"1\" class=\"dataframe\">\n  <thead>\n    <tr style=\"text-align: right;\">\n      <th></th>\n      <th></th>\n      <th>sum_cancelled</th>\n      <th>mean_cancelled</th>\n      <th>size_cancelled</th>\n      <th>mean_air_time</th>\n      <th>var_air_time</th>\n    </tr>\n    <tr>\n      <th>ORG_AIR</th>\n      <th>DEST_AIR</th>\n      <th></th>\n      <th></th>\n      <th></th>\n      <th></th>\n      <th></th>\n    </tr>\n  </thead>\n  <tbody>\n    <tr>\n      <th rowspan=\"5\" valign=\"top\">ATL</th>\n      <th>ABE</th>\n      <td>0</td>\n      <td>0.000000</td>\n      <td>31</td>\n      <td>96.387097</td>\n      <td>45.778495</td>\n    </tr>\n    <tr>\n      <th>ABQ</th>\n      <td>0</td>\n      <td>0.000000</td>\n      <td>16</td>\n      <td>170.500000</td>\n      <td>87.866667</td>\n    </tr>\n    <tr>\n      <th>ABY</th>\n      <td>0</td>\n      <td>0.000000</td>\n      <td>19</td>\n      <td>28.578947</td>\n      <td>6.590643</td>\n    </tr>\n    <tr>\n      <th>ACY</th>\n      <td>0</td>\n      <td>0.000000</td>\n      <td>6</td>\n      <td>91.333333</td>\n      <td>11.466667</td>\n    </tr>\n    <tr>\n      <th>AEX</th>\n      <td>0</td>\n      <td>0.000000</td>\n      <td>40</td>\n      <td>78.725000</td>\n      <td>47.332692</td>\n    </tr>\n    <tr>\n      <th>...</th>\n      <th>...</th>\n      <td>...</td>\n      <td>...</td>\n      <td>...</td>\n      <td>...</td>\n      <td>...</td>\n    </tr>\n    <tr>\n      <th rowspan=\"5\" valign=\"top\">SFO</th>\n      <th>SNA</th>\n      <td>4</td>\n      <td>0.032787</td>\n      <td>122</td>\n      <td>64.059322</td>\n      <td>11.338331</td>\n    </tr>\n    <tr>\n      <th>STL</th>\n      <td>0</td>\n      <td>0.000000</td>\n      <td>20</td>\n      <td>198.900000</td>\n      <td>101.042105</td>\n    </tr>\n    <tr>\n      <th>SUN</th>\n      <td>0</td>\n      <td>0.000000</td>\n      <td>10</td>\n      <td>78.000000</td>\n      <td>25.777778</td>\n    </tr>\n    <tr>\n      <th>TUS</th>\n      <td>0</td>\n      <td>0.000000</td>\n      <td>20</td>\n      <td>100.200000</td>\n      <td>35.221053</td>\n    </tr>\n    <tr>\n      <th>XNA</th>\n      <td>0</td>\n      <td>0.000000</td>\n      <td>2</td>\n      <td>173.500000</td>\n      <td>0.500000</td>\n    </tr>\n  </tbody>\n</table>\n<p>1130 rows × 5 columns</p>\n</div>"
     },
     "execution_count": 20,
     "metadata": {},
     "output_type": "execute_result"
    }
   ],
   "source": [
    "(\n",
    "    flights\n",
    "    .groupby(['ORG_AIR', 'DEST_AIR'])\n",
    "    .agg(\n",
    "        sum_cancelled=pd.NamedAgg(column='CANCELLED', aggfunc='sum'),\n",
    "        mean_cancelled=pd.NamedAgg(column='CANCELLED', aggfunc='mean'),\n",
    "        size_cancelled=pd.NamedAgg(column='CANCELLED', aggfunc='size'),\n",
    "        mean_air_time=pd.NamedAgg(column='AIR_TIME', aggfunc='mean'),\n",
    "        var_air_time=pd.NamedAgg(column='AIR_TIME', aggfunc='var')\n",
    "    )\n",
    ")"
   ],
   "metadata": {
    "collapsed": false
   }
  },
  {
   "cell_type": "code",
   "execution_count": 21,
   "outputs": [
    {
     "data": {
      "text/plain": "                 CANCELLED                   AIR_TIME            \n                       sum      mean size        mean         var\nORG_AIR DEST_AIR                                                 \nATL     ABE              0  0.000000   31   96.387097   45.778495\n        ABQ              0  0.000000   16  170.500000   87.866667\n        ABY              0  0.000000   19   28.578947    6.590643\n        ACY              0  0.000000    6   91.333333   11.466667\n        AEX              0  0.000000   40   78.725000   47.332692\n...                    ...       ...  ...         ...         ...\nSFO     SNA              4  0.032787  122   64.059322   11.338331\n        STL              0  0.000000   20  198.900000  101.042105\n        SUN              0  0.000000   10   78.000000   25.777778\n        TUS              0  0.000000   20  100.200000   35.221053\n        XNA              0  0.000000    2  173.500000    0.500000\n\n[1130 rows x 5 columns]",
      "text/html": "<div>\n<style scoped>\n    .dataframe tbody tr th:only-of-type {\n        vertical-align: middle;\n    }\n\n    .dataframe tbody tr th {\n        vertical-align: top;\n    }\n\n    .dataframe thead tr th {\n        text-align: left;\n    }\n\n    .dataframe thead tr:last-of-type th {\n        text-align: right;\n    }\n</style>\n<table border=\"1\" class=\"dataframe\">\n  <thead>\n    <tr>\n      <th></th>\n      <th></th>\n      <th colspan=\"3\" halign=\"left\">CANCELLED</th>\n      <th colspan=\"2\" halign=\"left\">AIR_TIME</th>\n    </tr>\n    <tr>\n      <th></th>\n      <th></th>\n      <th>sum</th>\n      <th>mean</th>\n      <th>size</th>\n      <th>mean</th>\n      <th>var</th>\n    </tr>\n    <tr>\n      <th>ORG_AIR</th>\n      <th>DEST_AIR</th>\n      <th></th>\n      <th></th>\n      <th></th>\n      <th></th>\n      <th></th>\n    </tr>\n  </thead>\n  <tbody>\n    <tr>\n      <th rowspan=\"5\" valign=\"top\">ATL</th>\n      <th>ABE</th>\n      <td>0</td>\n      <td>0.000000</td>\n      <td>31</td>\n      <td>96.387097</td>\n      <td>45.778495</td>\n    </tr>\n    <tr>\n      <th>ABQ</th>\n      <td>0</td>\n      <td>0.000000</td>\n      <td>16</td>\n      <td>170.500000</td>\n      <td>87.866667</td>\n    </tr>\n    <tr>\n      <th>ABY</th>\n      <td>0</td>\n      <td>0.000000</td>\n      <td>19</td>\n      <td>28.578947</td>\n      <td>6.590643</td>\n    </tr>\n    <tr>\n      <th>ACY</th>\n      <td>0</td>\n      <td>0.000000</td>\n      <td>6</td>\n      <td>91.333333</td>\n      <td>11.466667</td>\n    </tr>\n    <tr>\n      <th>AEX</th>\n      <td>0</td>\n      <td>0.000000</td>\n      <td>40</td>\n      <td>78.725000</td>\n      <td>47.332692</td>\n    </tr>\n    <tr>\n      <th>...</th>\n      <th>...</th>\n      <td>...</td>\n      <td>...</td>\n      <td>...</td>\n      <td>...</td>\n      <td>...</td>\n    </tr>\n    <tr>\n      <th rowspan=\"5\" valign=\"top\">SFO</th>\n      <th>SNA</th>\n      <td>4</td>\n      <td>0.032787</td>\n      <td>122</td>\n      <td>64.059322</td>\n      <td>11.338331</td>\n    </tr>\n    <tr>\n      <th>STL</th>\n      <td>0</td>\n      <td>0.000000</td>\n      <td>20</td>\n      <td>198.900000</td>\n      <td>101.042105</td>\n    </tr>\n    <tr>\n      <th>SUN</th>\n      <td>0</td>\n      <td>0.000000</td>\n      <td>10</td>\n      <td>78.000000</td>\n      <td>25.777778</td>\n    </tr>\n    <tr>\n      <th>TUS</th>\n      <td>0</td>\n      <td>0.000000</td>\n      <td>20</td>\n      <td>100.200000</td>\n      <td>35.221053</td>\n    </tr>\n    <tr>\n      <th>XNA</th>\n      <td>0</td>\n      <td>0.000000</td>\n      <td>2</td>\n      <td>173.500000</td>\n      <td>0.500000</td>\n    </tr>\n  </tbody>\n</table>\n<p>1130 rows × 5 columns</p>\n</div>"
     },
     "execution_count": 21,
     "metadata": {},
     "output_type": "execute_result"
    }
   ],
   "source": [
    "res = (\n",
    "    flights\n",
    "    .groupby(['ORG_AIR', 'DEST_AIR'])\n",
    "    .agg({\n",
    "        'CANCELLED': ['sum', 'mean', 'size'],\n",
    "        'AIR_TIME': ['mean', 'var']\n",
    "    })\n",
    ")\n",
    "res"
   ],
   "metadata": {
    "collapsed": false
   }
  },
  {
   "cell_type": "code",
   "execution_count": 22,
   "outputs": [],
   "source": [
    "res.columns = ['_'.join(x) for x in res.columns.to_flat_index()]"
   ],
   "metadata": {
    "collapsed": false
   }
  },
  {
   "cell_type": "code",
   "execution_count": 23,
   "outputs": [
    {
     "data": {
      "text/plain": "                  CANCELLED_sum  CANCELLED_mean  CANCELLED_size  \\\nORG_AIR DEST_AIR                                                  \nATL     ABE                   0        0.000000              31   \n        ABQ                   0        0.000000              16   \n        ABY                   0        0.000000              19   \n        ACY                   0        0.000000               6   \n        AEX                   0        0.000000              40   \n...                         ...             ...             ...   \nSFO     SNA                   4        0.032787             122   \n        STL                   0        0.000000              20   \n        SUN                   0        0.000000              10   \n        TUS                   0        0.000000              20   \n        XNA                   0        0.000000               2   \n\n                  AIR_TIME_mean  AIR_TIME_var  \nORG_AIR DEST_AIR                               \nATL     ABE           96.387097     45.778495  \n        ABQ          170.500000     87.866667  \n        ABY           28.578947      6.590643  \n        ACY           91.333333     11.466667  \n        AEX           78.725000     47.332692  \n...                         ...           ...  \nSFO     SNA           64.059322     11.338331  \n        STL          198.900000    101.042105  \n        SUN           78.000000     25.777778  \n        TUS          100.200000     35.221053  \n        XNA          173.500000      0.500000  \n\n[1130 rows x 5 columns]",
      "text/html": "<div>\n<style scoped>\n    .dataframe tbody tr th:only-of-type {\n        vertical-align: middle;\n    }\n\n    .dataframe tbody tr th {\n        vertical-align: top;\n    }\n\n    .dataframe thead th {\n        text-align: right;\n    }\n</style>\n<table border=\"1\" class=\"dataframe\">\n  <thead>\n    <tr style=\"text-align: right;\">\n      <th></th>\n      <th></th>\n      <th>CANCELLED_sum</th>\n      <th>CANCELLED_mean</th>\n      <th>CANCELLED_size</th>\n      <th>AIR_TIME_mean</th>\n      <th>AIR_TIME_var</th>\n    </tr>\n    <tr>\n      <th>ORG_AIR</th>\n      <th>DEST_AIR</th>\n      <th></th>\n      <th></th>\n      <th></th>\n      <th></th>\n      <th></th>\n    </tr>\n  </thead>\n  <tbody>\n    <tr>\n      <th rowspan=\"5\" valign=\"top\">ATL</th>\n      <th>ABE</th>\n      <td>0</td>\n      <td>0.000000</td>\n      <td>31</td>\n      <td>96.387097</td>\n      <td>45.778495</td>\n    </tr>\n    <tr>\n      <th>ABQ</th>\n      <td>0</td>\n      <td>0.000000</td>\n      <td>16</td>\n      <td>170.500000</td>\n      <td>87.866667</td>\n    </tr>\n    <tr>\n      <th>ABY</th>\n      <td>0</td>\n      <td>0.000000</td>\n      <td>19</td>\n      <td>28.578947</td>\n      <td>6.590643</td>\n    </tr>\n    <tr>\n      <th>ACY</th>\n      <td>0</td>\n      <td>0.000000</td>\n      <td>6</td>\n      <td>91.333333</td>\n      <td>11.466667</td>\n    </tr>\n    <tr>\n      <th>AEX</th>\n      <td>0</td>\n      <td>0.000000</td>\n      <td>40</td>\n      <td>78.725000</td>\n      <td>47.332692</td>\n    </tr>\n    <tr>\n      <th>...</th>\n      <th>...</th>\n      <td>...</td>\n      <td>...</td>\n      <td>...</td>\n      <td>...</td>\n      <td>...</td>\n    </tr>\n    <tr>\n      <th rowspan=\"5\" valign=\"top\">SFO</th>\n      <th>SNA</th>\n      <td>4</td>\n      <td>0.032787</td>\n      <td>122</td>\n      <td>64.059322</td>\n      <td>11.338331</td>\n    </tr>\n    <tr>\n      <th>STL</th>\n      <td>0</td>\n      <td>0.000000</td>\n      <td>20</td>\n      <td>198.900000</td>\n      <td>101.042105</td>\n    </tr>\n    <tr>\n      <th>SUN</th>\n      <td>0</td>\n      <td>0.000000</td>\n      <td>10</td>\n      <td>78.000000</td>\n      <td>25.777778</td>\n    </tr>\n    <tr>\n      <th>TUS</th>\n      <td>0</td>\n      <td>0.000000</td>\n      <td>20</td>\n      <td>100.200000</td>\n      <td>35.221053</td>\n    </tr>\n    <tr>\n      <th>XNA</th>\n      <td>0</td>\n      <td>0.000000</td>\n      <td>2</td>\n      <td>173.500000</td>\n      <td>0.500000</td>\n    </tr>\n  </tbody>\n</table>\n<p>1130 rows × 5 columns</p>\n</div>"
     },
     "execution_count": 23,
     "metadata": {},
     "output_type": "execute_result"
    }
   ],
   "source": [
    "res"
   ],
   "metadata": {
    "collapsed": false
   }
  },
  {
   "cell_type": "code",
   "execution_count": 24,
   "outputs": [],
   "source": [
    "def flatten_cols(df: pd.DataFrame):\n",
    "    df.columns = ['_'.join(x) for x in df.columns.to_flat_index()]\n",
    "    return df"
   ],
   "metadata": {
    "collapsed": false
   }
  },
  {
   "cell_type": "code",
   "execution_count": 25,
   "outputs": [
    {
     "data": {
      "text/plain": "                  CANCELLED_sum  CANCELLED_mean  CANCELLED_size  \\\nORG_AIR DEST_AIR                                                  \nATL     ABE                   0        0.000000              31   \n        ABQ                   0        0.000000              16   \n        ABY                   0        0.000000              19   \n        ACY                   0        0.000000               6   \n        AEX                   0        0.000000              40   \n...                         ...             ...             ...   \nSFO     SNA                   4        0.032787             122   \n        STL                   0        0.000000              20   \n        SUN                   0        0.000000              10   \n        TUS                   0        0.000000              20   \n        XNA                   0        0.000000               2   \n\n                  AIR_TIME_mean  AIR_TIME_var  \nORG_AIR DEST_AIR                               \nATL     ABE           96.387097     45.778495  \n        ABQ          170.500000     87.866667  \n        ABY           28.578947      6.590643  \n        ACY           91.333333     11.466667  \n        AEX           78.725000     47.332692  \n...                         ...           ...  \nSFO     SNA           64.059322     11.338331  \n        STL          198.900000    101.042105  \n        SUN           78.000000     25.777778  \n        TUS          100.200000     35.221053  \n        XNA          173.500000      0.500000  \n\n[1130 rows x 5 columns]",
      "text/html": "<div>\n<style scoped>\n    .dataframe tbody tr th:only-of-type {\n        vertical-align: middle;\n    }\n\n    .dataframe tbody tr th {\n        vertical-align: top;\n    }\n\n    .dataframe thead th {\n        text-align: right;\n    }\n</style>\n<table border=\"1\" class=\"dataframe\">\n  <thead>\n    <tr style=\"text-align: right;\">\n      <th></th>\n      <th></th>\n      <th>CANCELLED_sum</th>\n      <th>CANCELLED_mean</th>\n      <th>CANCELLED_size</th>\n      <th>AIR_TIME_mean</th>\n      <th>AIR_TIME_var</th>\n    </tr>\n    <tr>\n      <th>ORG_AIR</th>\n      <th>DEST_AIR</th>\n      <th></th>\n      <th></th>\n      <th></th>\n      <th></th>\n      <th></th>\n    </tr>\n  </thead>\n  <tbody>\n    <tr>\n      <th rowspan=\"5\" valign=\"top\">ATL</th>\n      <th>ABE</th>\n      <td>0</td>\n      <td>0.000000</td>\n      <td>31</td>\n      <td>96.387097</td>\n      <td>45.778495</td>\n    </tr>\n    <tr>\n      <th>ABQ</th>\n      <td>0</td>\n      <td>0.000000</td>\n      <td>16</td>\n      <td>170.500000</td>\n      <td>87.866667</td>\n    </tr>\n    <tr>\n      <th>ABY</th>\n      <td>0</td>\n      <td>0.000000</td>\n      <td>19</td>\n      <td>28.578947</td>\n      <td>6.590643</td>\n    </tr>\n    <tr>\n      <th>ACY</th>\n      <td>0</td>\n      <td>0.000000</td>\n      <td>6</td>\n      <td>91.333333</td>\n      <td>11.466667</td>\n    </tr>\n    <tr>\n      <th>AEX</th>\n      <td>0</td>\n      <td>0.000000</td>\n      <td>40</td>\n      <td>78.725000</td>\n      <td>47.332692</td>\n    </tr>\n    <tr>\n      <th>...</th>\n      <th>...</th>\n      <td>...</td>\n      <td>...</td>\n      <td>...</td>\n      <td>...</td>\n      <td>...</td>\n    </tr>\n    <tr>\n      <th rowspan=\"5\" valign=\"top\">SFO</th>\n      <th>SNA</th>\n      <td>4</td>\n      <td>0.032787</td>\n      <td>122</td>\n      <td>64.059322</td>\n      <td>11.338331</td>\n    </tr>\n    <tr>\n      <th>STL</th>\n      <td>0</td>\n      <td>0.000000</td>\n      <td>20</td>\n      <td>198.900000</td>\n      <td>101.042105</td>\n    </tr>\n    <tr>\n      <th>SUN</th>\n      <td>0</td>\n      <td>0.000000</td>\n      <td>10</td>\n      <td>78.000000</td>\n      <td>25.777778</td>\n    </tr>\n    <tr>\n      <th>TUS</th>\n      <td>0</td>\n      <td>0.000000</td>\n      <td>20</td>\n      <td>100.200000</td>\n      <td>35.221053</td>\n    </tr>\n    <tr>\n      <th>XNA</th>\n      <td>0</td>\n      <td>0.000000</td>\n      <td>2</td>\n      <td>173.500000</td>\n      <td>0.500000</td>\n    </tr>\n  </tbody>\n</table>\n<p>1130 rows × 5 columns</p>\n</div>"
     },
     "execution_count": 25,
     "metadata": {},
     "output_type": "execute_result"
    }
   ],
   "source": [
    "res = (\n",
    "    flights\n",
    "    .groupby(['ORG_AIR', 'DEST_AIR'])\n",
    "    .agg({\n",
    "        'CANCELLED': ['sum', 'mean', 'size'],\n",
    "        'AIR_TIME': ['mean', 'var']\n",
    "    })\n",
    "    .pipe(flatten_cols)\n",
    ")\n",
    "res"
   ],
   "metadata": {
    "collapsed": false
   }
  },
  {
   "cell_type": "code",
   "execution_count": 26,
   "outputs": [
    {
     "data": {
      "text/plain": "                 CANCELLED              AIR_TIME           \n                       sum mean size        mean        var\nORG_AIR DEST_AIR                                           \nATL     ABE              0  0.0   31   96.387097  45.778495\n        ABI              0  NaN    0         NaN        NaN\n        ABQ              0  0.0   16  170.500000  87.866667\n        ABR              0  NaN    0         NaN        NaN\n        ABY              0  0.0   19   28.578947   6.590643\n...                    ...  ...  ...         ...        ...\nSFO     TYS              0  NaN    0         NaN        NaN\n        VLD              0  NaN    0         NaN        NaN\n        VPS              0  NaN    0         NaN        NaN\n        XNA              0  0.0    2  173.500000   0.500000\n        YUM              0  NaN    0         NaN        NaN\n\n[2710 rows x 5 columns]",
      "text/html": "<div>\n<style scoped>\n    .dataframe tbody tr th:only-of-type {\n        vertical-align: middle;\n    }\n\n    .dataframe tbody tr th {\n        vertical-align: top;\n    }\n\n    .dataframe thead tr th {\n        text-align: left;\n    }\n\n    .dataframe thead tr:last-of-type th {\n        text-align: right;\n    }\n</style>\n<table border=\"1\" class=\"dataframe\">\n  <thead>\n    <tr>\n      <th></th>\n      <th></th>\n      <th colspan=\"3\" halign=\"left\">CANCELLED</th>\n      <th colspan=\"2\" halign=\"left\">AIR_TIME</th>\n    </tr>\n    <tr>\n      <th></th>\n      <th></th>\n      <th>sum</th>\n      <th>mean</th>\n      <th>size</th>\n      <th>mean</th>\n      <th>var</th>\n    </tr>\n    <tr>\n      <th>ORG_AIR</th>\n      <th>DEST_AIR</th>\n      <th></th>\n      <th></th>\n      <th></th>\n      <th></th>\n      <th></th>\n    </tr>\n  </thead>\n  <tbody>\n    <tr>\n      <th rowspan=\"5\" valign=\"top\">ATL</th>\n      <th>ABE</th>\n      <td>0</td>\n      <td>0.0</td>\n      <td>31</td>\n      <td>96.387097</td>\n      <td>45.778495</td>\n    </tr>\n    <tr>\n      <th>ABI</th>\n      <td>0</td>\n      <td>NaN</td>\n      <td>0</td>\n      <td>NaN</td>\n      <td>NaN</td>\n    </tr>\n    <tr>\n      <th>ABQ</th>\n      <td>0</td>\n      <td>0.0</td>\n      <td>16</td>\n      <td>170.500000</td>\n      <td>87.866667</td>\n    </tr>\n    <tr>\n      <th>ABR</th>\n      <td>0</td>\n      <td>NaN</td>\n      <td>0</td>\n      <td>NaN</td>\n      <td>NaN</td>\n    </tr>\n    <tr>\n      <th>ABY</th>\n      <td>0</td>\n      <td>0.0</td>\n      <td>19</td>\n      <td>28.578947</td>\n      <td>6.590643</td>\n    </tr>\n    <tr>\n      <th>...</th>\n      <th>...</th>\n      <td>...</td>\n      <td>...</td>\n      <td>...</td>\n      <td>...</td>\n      <td>...</td>\n    </tr>\n    <tr>\n      <th rowspan=\"5\" valign=\"top\">SFO</th>\n      <th>TYS</th>\n      <td>0</td>\n      <td>NaN</td>\n      <td>0</td>\n      <td>NaN</td>\n      <td>NaN</td>\n    </tr>\n    <tr>\n      <th>VLD</th>\n      <td>0</td>\n      <td>NaN</td>\n      <td>0</td>\n      <td>NaN</td>\n      <td>NaN</td>\n    </tr>\n    <tr>\n      <th>VPS</th>\n      <td>0</td>\n      <td>NaN</td>\n      <td>0</td>\n      <td>NaN</td>\n      <td>NaN</td>\n    </tr>\n    <tr>\n      <th>XNA</th>\n      <td>0</td>\n      <td>0.0</td>\n      <td>2</td>\n      <td>173.500000</td>\n      <td>0.500000</td>\n    </tr>\n    <tr>\n      <th>YUM</th>\n      <td>0</td>\n      <td>NaN</td>\n      <td>0</td>\n      <td>NaN</td>\n      <td>NaN</td>\n    </tr>\n  </tbody>\n</table>\n<p>2710 rows × 5 columns</p>\n</div>"
     },
     "execution_count": 26,
     "metadata": {},
     "output_type": "execute_result"
    }
   ],
   "source": [
    "(\n",
    "    flights\n",
    "    .assign(ORG_AIR=flights.ORG_AIR.astype('category'))\n",
    "    .groupby(['ORG_AIR', 'DEST_AIR'])\n",
    "    .agg({\n",
    "        'CANCELLED': ['sum', 'mean', 'size'],\n",
    "        'AIR_TIME': ['mean', 'var']\n",
    "    })\n",
    ")"
   ],
   "metadata": {
    "collapsed": false
   }
  },
  {
   "cell_type": "code",
   "execution_count": 27,
   "outputs": [
    {
     "data": {
      "text/plain": "                 CANCELLED                   AIR_TIME            \n                       sum      mean size        mean         var\nORG_AIR DEST_AIR                                                 \nLAX     ABQ              1  0.018182   55   89.259259   29.403215\n        ANC              0  0.000000    7  307.428571   78.952381\n        ASE              1  0.038462   26  102.920000  102.243333\n        ATL              0  0.000000  174  224.201149  127.155837\n        AUS              0  0.000000   80  150.537500   57.897310\n...                    ...       ...  ...         ...         ...\nMSP     TTN              1  0.125000    8  124.428571   57.952381\n        TUL              0  0.000000   18   91.611111   63.075163\n        TUS              0  0.000000    2  176.000000   32.000000\n        TVC              0  0.000000    5   56.600000   10.300000\n        XNA              0  0.000000   14   90.642857  115.939560\n\n[1130 rows x 5 columns]",
      "text/html": "<div>\n<style scoped>\n    .dataframe tbody tr th:only-of-type {\n        vertical-align: middle;\n    }\n\n    .dataframe tbody tr th {\n        vertical-align: top;\n    }\n\n    .dataframe thead tr th {\n        text-align: left;\n    }\n\n    .dataframe thead tr:last-of-type th {\n        text-align: right;\n    }\n</style>\n<table border=\"1\" class=\"dataframe\">\n  <thead>\n    <tr>\n      <th></th>\n      <th></th>\n      <th colspan=\"3\" halign=\"left\">CANCELLED</th>\n      <th colspan=\"2\" halign=\"left\">AIR_TIME</th>\n    </tr>\n    <tr>\n      <th></th>\n      <th></th>\n      <th>sum</th>\n      <th>mean</th>\n      <th>size</th>\n      <th>mean</th>\n      <th>var</th>\n    </tr>\n    <tr>\n      <th>ORG_AIR</th>\n      <th>DEST_AIR</th>\n      <th></th>\n      <th></th>\n      <th></th>\n      <th></th>\n      <th></th>\n    </tr>\n  </thead>\n  <tbody>\n    <tr>\n      <th rowspan=\"5\" valign=\"top\">LAX</th>\n      <th>ABQ</th>\n      <td>1</td>\n      <td>0.018182</td>\n      <td>55</td>\n      <td>89.259259</td>\n      <td>29.403215</td>\n    </tr>\n    <tr>\n      <th>ANC</th>\n      <td>0</td>\n      <td>0.000000</td>\n      <td>7</td>\n      <td>307.428571</td>\n      <td>78.952381</td>\n    </tr>\n    <tr>\n      <th>ASE</th>\n      <td>1</td>\n      <td>0.038462</td>\n      <td>26</td>\n      <td>102.920000</td>\n      <td>102.243333</td>\n    </tr>\n    <tr>\n      <th>ATL</th>\n      <td>0</td>\n      <td>0.000000</td>\n      <td>174</td>\n      <td>224.201149</td>\n      <td>127.155837</td>\n    </tr>\n    <tr>\n      <th>AUS</th>\n      <td>0</td>\n      <td>0.000000</td>\n      <td>80</td>\n      <td>150.537500</td>\n      <td>57.897310</td>\n    </tr>\n    <tr>\n      <th>...</th>\n      <th>...</th>\n      <td>...</td>\n      <td>...</td>\n      <td>...</td>\n      <td>...</td>\n      <td>...</td>\n    </tr>\n    <tr>\n      <th rowspan=\"5\" valign=\"top\">MSP</th>\n      <th>TTN</th>\n      <td>1</td>\n      <td>0.125000</td>\n      <td>8</td>\n      <td>124.428571</td>\n      <td>57.952381</td>\n    </tr>\n    <tr>\n      <th>TUL</th>\n      <td>0</td>\n      <td>0.000000</td>\n      <td>18</td>\n      <td>91.611111</td>\n      <td>63.075163</td>\n    </tr>\n    <tr>\n      <th>TUS</th>\n      <td>0</td>\n      <td>0.000000</td>\n      <td>2</td>\n      <td>176.000000</td>\n      <td>32.000000</td>\n    </tr>\n    <tr>\n      <th>TVC</th>\n      <td>0</td>\n      <td>0.000000</td>\n      <td>5</td>\n      <td>56.600000</td>\n      <td>10.300000</td>\n    </tr>\n    <tr>\n      <th>XNA</th>\n      <td>0</td>\n      <td>0.000000</td>\n      <td>14</td>\n      <td>90.642857</td>\n      <td>115.939560</td>\n    </tr>\n  </tbody>\n</table>\n<p>1130 rows × 5 columns</p>\n</div>"
     },
     "execution_count": 27,
     "metadata": {},
     "output_type": "execute_result"
    }
   ],
   "source": [
    "(\n",
    "    flights\n",
    "    .assign(ORG_AIR=flights.ORG_AIR.astype('category'))\n",
    "    .groupby(['ORG_AIR', 'DEST_AIR'], observed=True)\n",
    "    .agg({\n",
    "        'CANCELLED': ['sum', 'mean', 'size'],\n",
    "        'AIR_TIME': ['mean', 'var']\n",
    "    })\n",
    ")"
   ],
   "metadata": {
    "collapsed": false
   }
  },
  {
   "cell_type": "markdown",
   "source": [
    "그룹화 후 다중 인덱스 제거"
   ],
   "metadata": {
    "collapsed": false
   }
  },
  {
   "cell_type": "code",
   "execution_count": 28,
   "outputs": [],
   "source": [
    "flights = pd.read_csv('data/flights.csv')"
   ],
   "metadata": {
    "collapsed": false
   }
  },
  {
   "cell_type": "code",
   "execution_count": 29,
   "outputs": [
    {
     "data": {
      "text/plain": "                    DIST       ARR_DELAY     \n                     sum  mean       min  max\nAIRLINE WEEKDAY                              \nAA      1        1455386  1139       -60  551\n        2        1358256  1107       -52  725\n        3        1496665  1117       -45  473\n        4        1452394  1089       -46  349\n        5        1427749  1122       -41  732\n...                  ...   ...       ...  ...\nWN      3         997213   782       -38  262\n        4        1024854   810       -52  284\n        5         981036   816       -44  244\n        6         823946   834       -41  290\n        7         945679   819       -45  261\n\n[98 rows x 4 columns]",
      "text/html": "<div>\n<style scoped>\n    .dataframe tbody tr th:only-of-type {\n        vertical-align: middle;\n    }\n\n    .dataframe tbody tr th {\n        vertical-align: top;\n    }\n\n    .dataframe thead tr th {\n        text-align: left;\n    }\n\n    .dataframe thead tr:last-of-type th {\n        text-align: right;\n    }\n</style>\n<table border=\"1\" class=\"dataframe\">\n  <thead>\n    <tr>\n      <th></th>\n      <th></th>\n      <th colspan=\"2\" halign=\"left\">DIST</th>\n      <th colspan=\"2\" halign=\"left\">ARR_DELAY</th>\n    </tr>\n    <tr>\n      <th></th>\n      <th></th>\n      <th>sum</th>\n      <th>mean</th>\n      <th>min</th>\n      <th>max</th>\n    </tr>\n    <tr>\n      <th>AIRLINE</th>\n      <th>WEEKDAY</th>\n      <th></th>\n      <th></th>\n      <th></th>\n      <th></th>\n    </tr>\n  </thead>\n  <tbody>\n    <tr>\n      <th rowspan=\"5\" valign=\"top\">AA</th>\n      <th>1</th>\n      <td>1455386</td>\n      <td>1139</td>\n      <td>-60</td>\n      <td>551</td>\n    </tr>\n    <tr>\n      <th>2</th>\n      <td>1358256</td>\n      <td>1107</td>\n      <td>-52</td>\n      <td>725</td>\n    </tr>\n    <tr>\n      <th>3</th>\n      <td>1496665</td>\n      <td>1117</td>\n      <td>-45</td>\n      <td>473</td>\n    </tr>\n    <tr>\n      <th>4</th>\n      <td>1452394</td>\n      <td>1089</td>\n      <td>-46</td>\n      <td>349</td>\n    </tr>\n    <tr>\n      <th>5</th>\n      <td>1427749</td>\n      <td>1122</td>\n      <td>-41</td>\n      <td>732</td>\n    </tr>\n    <tr>\n      <th>...</th>\n      <th>...</th>\n      <td>...</td>\n      <td>...</td>\n      <td>...</td>\n      <td>...</td>\n    </tr>\n    <tr>\n      <th rowspan=\"5\" valign=\"top\">WN</th>\n      <th>3</th>\n      <td>997213</td>\n      <td>782</td>\n      <td>-38</td>\n      <td>262</td>\n    </tr>\n    <tr>\n      <th>4</th>\n      <td>1024854</td>\n      <td>810</td>\n      <td>-52</td>\n      <td>284</td>\n    </tr>\n    <tr>\n      <th>5</th>\n      <td>981036</td>\n      <td>816</td>\n      <td>-44</td>\n      <td>244</td>\n    </tr>\n    <tr>\n      <th>6</th>\n      <td>823946</td>\n      <td>834</td>\n      <td>-41</td>\n      <td>290</td>\n    </tr>\n    <tr>\n      <th>7</th>\n      <td>945679</td>\n      <td>819</td>\n      <td>-45</td>\n      <td>261</td>\n    </tr>\n  </tbody>\n</table>\n<p>98 rows × 4 columns</p>\n</div>"
     },
     "execution_count": 29,
     "metadata": {},
     "output_type": "execute_result"
    }
   ],
   "source": [
    "airline_info = (\n",
    "    flights\n",
    "    .groupby(['AIRLINE', 'WEEKDAY'])\n",
    "    .agg({\n",
    "        'DIST': ['sum', 'mean'],\n",
    "        'ARR_DELAY': ['min', 'max']\n",
    "    })\n",
    "    .astype(int)\n",
    ")\n",
    "airline_info"
   ],
   "metadata": {
    "collapsed": false
   }
  },
  {
   "cell_type": "code",
   "execution_count": 30,
   "outputs": [
    {
     "data": {
      "text/plain": "Index(['DIST', 'DIST', 'ARR_DELAY', 'ARR_DELAY'], dtype='object')"
     },
     "execution_count": 30,
     "metadata": {},
     "output_type": "execute_result"
    }
   ],
   "source": [
    "airline_info.columns.get_level_values(0)"
   ],
   "metadata": {
    "collapsed": false
   }
  },
  {
   "cell_type": "code",
   "execution_count": 31,
   "outputs": [
    {
     "data": {
      "text/plain": "Index(['sum', 'mean', 'min', 'max'], dtype='object')"
     },
     "execution_count": 31,
     "metadata": {},
     "output_type": "execute_result"
    }
   ],
   "source": [
    "airline_info.columns.get_level_values(1)"
   ],
   "metadata": {
    "collapsed": false
   }
  },
  {
   "cell_type": "code",
   "execution_count": 32,
   "outputs": [
    {
     "data": {
      "text/plain": "Index([('DIST', 'sum'), ('DIST', 'mean'), ('ARR_DELAY', 'min'),\n       ('ARR_DELAY', 'max')],\n      dtype='object')"
     },
     "execution_count": 32,
     "metadata": {},
     "output_type": "execute_result"
    }
   ],
   "source": [
    "airline_info.columns.to_flat_index()"
   ],
   "metadata": {
    "collapsed": false
   }
  },
  {
   "cell_type": "code",
   "execution_count": 33,
   "outputs": [],
   "source": [
    "airline_info.columns = ['_'.join(x) for x in airline_info.columns.to_flat_index()]"
   ],
   "metadata": {
    "collapsed": false
   }
  },
  {
   "cell_type": "code",
   "execution_count": 34,
   "outputs": [
    {
     "data": {
      "text/plain": "                 DIST_sum  DIST_mean  ARR_DELAY_min  ARR_DELAY_max\nAIRLINE WEEKDAY                                                   \nAA      1         1455386       1139            -60            551\n        2         1358256       1107            -52            725\n        3         1496665       1117            -45            473\n        4         1452394       1089            -46            349\n        5         1427749       1122            -41            732\n...                   ...        ...            ...            ...\nWN      3          997213        782            -38            262\n        4         1024854        810            -52            284\n        5          981036        816            -44            244\n        6          823946        834            -41            290\n        7          945679        819            -45            261\n\n[98 rows x 4 columns]",
      "text/html": "<div>\n<style scoped>\n    .dataframe tbody tr th:only-of-type {\n        vertical-align: middle;\n    }\n\n    .dataframe tbody tr th {\n        vertical-align: top;\n    }\n\n    .dataframe thead th {\n        text-align: right;\n    }\n</style>\n<table border=\"1\" class=\"dataframe\">\n  <thead>\n    <tr style=\"text-align: right;\">\n      <th></th>\n      <th></th>\n      <th>DIST_sum</th>\n      <th>DIST_mean</th>\n      <th>ARR_DELAY_min</th>\n      <th>ARR_DELAY_max</th>\n    </tr>\n    <tr>\n      <th>AIRLINE</th>\n      <th>WEEKDAY</th>\n      <th></th>\n      <th></th>\n      <th></th>\n      <th></th>\n    </tr>\n  </thead>\n  <tbody>\n    <tr>\n      <th rowspan=\"5\" valign=\"top\">AA</th>\n      <th>1</th>\n      <td>1455386</td>\n      <td>1139</td>\n      <td>-60</td>\n      <td>551</td>\n    </tr>\n    <tr>\n      <th>2</th>\n      <td>1358256</td>\n      <td>1107</td>\n      <td>-52</td>\n      <td>725</td>\n    </tr>\n    <tr>\n      <th>3</th>\n      <td>1496665</td>\n      <td>1117</td>\n      <td>-45</td>\n      <td>473</td>\n    </tr>\n    <tr>\n      <th>4</th>\n      <td>1452394</td>\n      <td>1089</td>\n      <td>-46</td>\n      <td>349</td>\n    </tr>\n    <tr>\n      <th>5</th>\n      <td>1427749</td>\n      <td>1122</td>\n      <td>-41</td>\n      <td>732</td>\n    </tr>\n    <tr>\n      <th>...</th>\n      <th>...</th>\n      <td>...</td>\n      <td>...</td>\n      <td>...</td>\n      <td>...</td>\n    </tr>\n    <tr>\n      <th rowspan=\"5\" valign=\"top\">WN</th>\n      <th>3</th>\n      <td>997213</td>\n      <td>782</td>\n      <td>-38</td>\n      <td>262</td>\n    </tr>\n    <tr>\n      <th>4</th>\n      <td>1024854</td>\n      <td>810</td>\n      <td>-52</td>\n      <td>284</td>\n    </tr>\n    <tr>\n      <th>5</th>\n      <td>981036</td>\n      <td>816</td>\n      <td>-44</td>\n      <td>244</td>\n    </tr>\n    <tr>\n      <th>6</th>\n      <td>823946</td>\n      <td>834</td>\n      <td>-41</td>\n      <td>290</td>\n    </tr>\n    <tr>\n      <th>7</th>\n      <td>945679</td>\n      <td>819</td>\n      <td>-45</td>\n      <td>261</td>\n    </tr>\n  </tbody>\n</table>\n<p>98 rows × 4 columns</p>\n</div>"
     },
     "execution_count": 34,
     "metadata": {},
     "output_type": "execute_result"
    }
   ],
   "source": [
    "airline_info"
   ],
   "metadata": {
    "collapsed": false
   }
  },
  {
   "cell_type": "code",
   "execution_count": 35,
   "outputs": [
    {
     "data": {
      "text/plain": "   AIRLINE  WEEKDAY  DIST_sum  DIST_mean  ARR_DELAY_min  ARR_DELAY_max\n0       AA        1   1455386       1139            -60            551\n1       AA        2   1358256       1107            -52            725\n2       AA        3   1496665       1117            -45            473\n3       AA        4   1452394       1089            -46            349\n4       AA        5   1427749       1122            -41            732\n..     ...      ...       ...        ...            ...            ...\n93      WN        3    997213        782            -38            262\n94      WN        4   1024854        810            -52            284\n95      WN        5    981036        816            -44            244\n96      WN        6    823946        834            -41            290\n97      WN        7    945679        819            -45            261\n\n[98 rows x 6 columns]",
      "text/html": "<div>\n<style scoped>\n    .dataframe tbody tr th:only-of-type {\n        vertical-align: middle;\n    }\n\n    .dataframe tbody tr th {\n        vertical-align: top;\n    }\n\n    .dataframe thead th {\n        text-align: right;\n    }\n</style>\n<table border=\"1\" class=\"dataframe\">\n  <thead>\n    <tr style=\"text-align: right;\">\n      <th></th>\n      <th>AIRLINE</th>\n      <th>WEEKDAY</th>\n      <th>DIST_sum</th>\n      <th>DIST_mean</th>\n      <th>ARR_DELAY_min</th>\n      <th>ARR_DELAY_max</th>\n    </tr>\n  </thead>\n  <tbody>\n    <tr>\n      <th>0</th>\n      <td>AA</td>\n      <td>1</td>\n      <td>1455386</td>\n      <td>1139</td>\n      <td>-60</td>\n      <td>551</td>\n    </tr>\n    <tr>\n      <th>1</th>\n      <td>AA</td>\n      <td>2</td>\n      <td>1358256</td>\n      <td>1107</td>\n      <td>-52</td>\n      <td>725</td>\n    </tr>\n    <tr>\n      <th>2</th>\n      <td>AA</td>\n      <td>3</td>\n      <td>1496665</td>\n      <td>1117</td>\n      <td>-45</td>\n      <td>473</td>\n    </tr>\n    <tr>\n      <th>3</th>\n      <td>AA</td>\n      <td>4</td>\n      <td>1452394</td>\n      <td>1089</td>\n      <td>-46</td>\n      <td>349</td>\n    </tr>\n    <tr>\n      <th>4</th>\n      <td>AA</td>\n      <td>5</td>\n      <td>1427749</td>\n      <td>1122</td>\n      <td>-41</td>\n      <td>732</td>\n    </tr>\n    <tr>\n      <th>...</th>\n      <td>...</td>\n      <td>...</td>\n      <td>...</td>\n      <td>...</td>\n      <td>...</td>\n      <td>...</td>\n    </tr>\n    <tr>\n      <th>93</th>\n      <td>WN</td>\n      <td>3</td>\n      <td>997213</td>\n      <td>782</td>\n      <td>-38</td>\n      <td>262</td>\n    </tr>\n    <tr>\n      <th>94</th>\n      <td>WN</td>\n      <td>4</td>\n      <td>1024854</td>\n      <td>810</td>\n      <td>-52</td>\n      <td>284</td>\n    </tr>\n    <tr>\n      <th>95</th>\n      <td>WN</td>\n      <td>5</td>\n      <td>981036</td>\n      <td>816</td>\n      <td>-44</td>\n      <td>244</td>\n    </tr>\n    <tr>\n      <th>96</th>\n      <td>WN</td>\n      <td>6</td>\n      <td>823946</td>\n      <td>834</td>\n      <td>-41</td>\n      <td>290</td>\n    </tr>\n    <tr>\n      <th>97</th>\n      <td>WN</td>\n      <td>7</td>\n      <td>945679</td>\n      <td>819</td>\n      <td>-45</td>\n      <td>261</td>\n    </tr>\n  </tbody>\n</table>\n<p>98 rows × 6 columns</p>\n</div>"
     },
     "execution_count": 35,
     "metadata": {},
     "output_type": "execute_result"
    }
   ],
   "source": [
    "airline_info.reset_index()"
   ],
   "metadata": {
    "collapsed": false
   }
  },
  {
   "cell_type": "code",
   "execution_count": 37,
   "outputs": [
    {
     "data": {
      "text/plain": "   AIRLINE  WEEKDAY  dist_sum  dist_mean  arr_delay_min  arr_delay_max\n0       AA        1   1455386       1139            -60            551\n1       AA        2   1358256       1107            -52            725\n2       AA        3   1496665       1117            -45            473\n3       AA        4   1452394       1089            -46            349\n4       AA        5   1427749       1122            -41            732\n..     ...      ...       ...        ...            ...            ...\n93      WN        3    997213        782            -38            262\n94      WN        4   1024854        810            -52            284\n95      WN        5    981036        816            -44            244\n96      WN        6    823946        834            -41            290\n97      WN        7    945679        819            -45            261\n\n[98 rows x 6 columns]",
      "text/html": "<div>\n<style scoped>\n    .dataframe tbody tr th:only-of-type {\n        vertical-align: middle;\n    }\n\n    .dataframe tbody tr th {\n        vertical-align: top;\n    }\n\n    .dataframe thead th {\n        text-align: right;\n    }\n</style>\n<table border=\"1\" class=\"dataframe\">\n  <thead>\n    <tr style=\"text-align: right;\">\n      <th></th>\n      <th>AIRLINE</th>\n      <th>WEEKDAY</th>\n      <th>dist_sum</th>\n      <th>dist_mean</th>\n      <th>arr_delay_min</th>\n      <th>arr_delay_max</th>\n    </tr>\n  </thead>\n  <tbody>\n    <tr>\n      <th>0</th>\n      <td>AA</td>\n      <td>1</td>\n      <td>1455386</td>\n      <td>1139</td>\n      <td>-60</td>\n      <td>551</td>\n    </tr>\n    <tr>\n      <th>1</th>\n      <td>AA</td>\n      <td>2</td>\n      <td>1358256</td>\n      <td>1107</td>\n      <td>-52</td>\n      <td>725</td>\n    </tr>\n    <tr>\n      <th>2</th>\n      <td>AA</td>\n      <td>3</td>\n      <td>1496665</td>\n      <td>1117</td>\n      <td>-45</td>\n      <td>473</td>\n    </tr>\n    <tr>\n      <th>3</th>\n      <td>AA</td>\n      <td>4</td>\n      <td>1452394</td>\n      <td>1089</td>\n      <td>-46</td>\n      <td>349</td>\n    </tr>\n    <tr>\n      <th>4</th>\n      <td>AA</td>\n      <td>5</td>\n      <td>1427749</td>\n      <td>1122</td>\n      <td>-41</td>\n      <td>732</td>\n    </tr>\n    <tr>\n      <th>...</th>\n      <td>...</td>\n      <td>...</td>\n      <td>...</td>\n      <td>...</td>\n      <td>...</td>\n      <td>...</td>\n    </tr>\n    <tr>\n      <th>93</th>\n      <td>WN</td>\n      <td>3</td>\n      <td>997213</td>\n      <td>782</td>\n      <td>-38</td>\n      <td>262</td>\n    </tr>\n    <tr>\n      <th>94</th>\n      <td>WN</td>\n      <td>4</td>\n      <td>1024854</td>\n      <td>810</td>\n      <td>-52</td>\n      <td>284</td>\n    </tr>\n    <tr>\n      <th>95</th>\n      <td>WN</td>\n      <td>5</td>\n      <td>981036</td>\n      <td>816</td>\n      <td>-44</td>\n      <td>244</td>\n    </tr>\n    <tr>\n      <th>96</th>\n      <td>WN</td>\n      <td>6</td>\n      <td>823946</td>\n      <td>834</td>\n      <td>-41</td>\n      <td>290</td>\n    </tr>\n    <tr>\n      <th>97</th>\n      <td>WN</td>\n      <td>7</td>\n      <td>945679</td>\n      <td>819</td>\n      <td>-45</td>\n      <td>261</td>\n    </tr>\n  </tbody>\n</table>\n<p>98 rows × 6 columns</p>\n</div>"
     },
     "execution_count": 37,
     "metadata": {},
     "output_type": "execute_result"
    }
   ],
   "source": [
    "(\n",
    "    flights\n",
    "    .groupby(['AIRLINE', 'WEEKDAY'])\n",
    "    .agg(\n",
    "        dist_sum=pd.NamedAgg(column='DIST', aggfunc='sum'),\n",
    "        dist_mean=pd.NamedAgg(column='DIST', aggfunc='mean'),\n",
    "        arr_delay_min=pd.NamedAgg(column='ARR_DELAY', aggfunc='min'),\n",
    "        arr_delay_max=pd.NamedAgg(column='ARR_DELAY', aggfunc='max')\n",
    "    )\n",
    "    .astype(int)\n",
    "    .reset_index()\n",
    ")"
   ],
   "metadata": {
    "collapsed": false
   }
  },
  {
   "cell_type": "code",
   "execution_count": 40,
   "outputs": [
    {
     "data": {
      "text/plain": "   AIRLINE  WEEKDAY    DIST\n0       AA        1  1140.0\n1       AA        2  1108.0\n2       AA        3  1118.0\n3       AA        4  1090.0\n4       AA        5  1122.0\n..     ...      ...     ...\n93      WN        3   782.0\n94      WN        4   811.0\n95      WN        5   817.0\n96      WN        6   835.0\n97      WN        7   819.0\n\n[98 rows x 3 columns]",
      "text/html": "<div>\n<style scoped>\n    .dataframe tbody tr th:only-of-type {\n        vertical-align: middle;\n    }\n\n    .dataframe tbody tr th {\n        vertical-align: top;\n    }\n\n    .dataframe thead th {\n        text-align: right;\n    }\n</style>\n<table border=\"1\" class=\"dataframe\">\n  <thead>\n    <tr style=\"text-align: right;\">\n      <th></th>\n      <th>AIRLINE</th>\n      <th>WEEKDAY</th>\n      <th>DIST</th>\n    </tr>\n  </thead>\n  <tbody>\n    <tr>\n      <th>0</th>\n      <td>AA</td>\n      <td>1</td>\n      <td>1140.0</td>\n    </tr>\n    <tr>\n      <th>1</th>\n      <td>AA</td>\n      <td>2</td>\n      <td>1108.0</td>\n    </tr>\n    <tr>\n      <th>2</th>\n      <td>AA</td>\n      <td>3</td>\n      <td>1118.0</td>\n    </tr>\n    <tr>\n      <th>3</th>\n      <td>AA</td>\n      <td>4</td>\n      <td>1090.0</td>\n    </tr>\n    <tr>\n      <th>4</th>\n      <td>AA</td>\n      <td>5</td>\n      <td>1122.0</td>\n    </tr>\n    <tr>\n      <th>...</th>\n      <td>...</td>\n      <td>...</td>\n      <td>...</td>\n    </tr>\n    <tr>\n      <th>93</th>\n      <td>WN</td>\n      <td>3</td>\n      <td>782.0</td>\n    </tr>\n    <tr>\n      <th>94</th>\n      <td>WN</td>\n      <td>4</td>\n      <td>811.0</td>\n    </tr>\n    <tr>\n      <th>95</th>\n      <td>WN</td>\n      <td>5</td>\n      <td>817.0</td>\n    </tr>\n    <tr>\n      <th>96</th>\n      <td>WN</td>\n      <td>6</td>\n      <td>835.0</td>\n    </tr>\n    <tr>\n      <th>97</th>\n      <td>WN</td>\n      <td>7</td>\n      <td>819.0</td>\n    </tr>\n  </tbody>\n</table>\n<p>98 rows × 3 columns</p>\n</div>"
     },
     "execution_count": 40,
     "metadata": {},
     "output_type": "execute_result"
    }
   ],
   "source": [
    "(\n",
    "    flights\n",
    "    .groupby(['AIRLINE', 'WEEKDAY'], as_index=False)\n",
    "    ['DIST']\n",
    "    .agg('mean')\n",
    "    .round(0)\n",
    ")"
   ],
   "metadata": {
    "collapsed": false
   }
  },
  {
   "cell_type": "markdown",
   "source": [
    "사용자 정의 집계 함수를 사용한 그룹화"
   ],
   "metadata": {
    "collapsed": false
   }
  },
  {
   "cell_type": "code",
   "execution_count": 41,
   "outputs": [],
   "source": [
    "college = pd.read_csv('data/college.csv')"
   ],
   "metadata": {
    "collapsed": false
   }
  },
  {
   "cell_type": "code",
   "execution_count": 46,
   "outputs": [
    {
     "data": {
      "text/plain": "          mean      std\nSTABBR                 \nAK      2493.0   4052.0\nAL      2790.0   4658.0\nAR      1644.0   3143.0\nAS      1276.0      NaN\nAZ      4130.0  14894.0\nCA      3518.0   6709.0\nCO      2325.0   4670.0\nCT      1874.0   2871.0\nDC      2645.0   3225.0\nDE      2491.0   4503.0\nFL      2493.0   7033.0\nFM      2344.0      NaN\nGA      2643.0   4422.0\nGU      1894.0   1774.0\nHI      2361.0   2999.0\nIA      2294.0   5815.0\nID      2096.0   4865.0\nIL      2189.0   4080.0\nIN      2654.0   8278.0\nKS      1861.0   3673.0\nKY      1991.0   3783.0\nLA      1660.0   3485.0\nMA      2023.0   3267.0\nMD      3003.0   5837.0\nME      1437.0   1808.0\nMH      1078.0      NaN\nMI      2643.0   5356.0\nMN      2086.0   3580.0\nMO      1557.0   3569.0\nMP      1120.0      NaN\nMS      2499.0   3848.0\nMT      1471.0   3007.0\nNC      2447.0   4212.0\nND      1460.0   2919.0\nNE      1932.0   3579.0\nNH      2060.0   4877.0\nNJ      2353.0   4480.0\nNM      2254.0   4566.0\nNV      2274.0   6144.0\nNY      2349.0   4421.0\nOH      1577.0   4101.0\nOK      1351.0   3280.0\nOR      2183.0   4952.0\nPA      1699.0   3793.0\nPR      1599.0   2913.0\nPW       602.0      NaN\nRI      3306.0   4609.0\nSC      2074.0   3778.0\nSD      1358.0   2069.0\nTN      1570.0   3279.0\nTX      2999.0   7363.0\nUT      3035.0   8056.0\nVA      2695.0   6707.0\nVI      1971.0      NaN\nVT      1513.0   2194.0\nWA      2271.0   4124.0\nWI      2655.0   4615.0\nWV      1758.0   5957.0\nWY      2244.0   2745.0",
      "text/html": "<div>\n<style scoped>\n    .dataframe tbody tr th:only-of-type {\n        vertical-align: middle;\n    }\n\n    .dataframe tbody tr th {\n        vertical-align: top;\n    }\n\n    .dataframe thead th {\n        text-align: right;\n    }\n</style>\n<table border=\"1\" class=\"dataframe\">\n  <thead>\n    <tr style=\"text-align: right;\">\n      <th></th>\n      <th>mean</th>\n      <th>std</th>\n    </tr>\n    <tr>\n      <th>STABBR</th>\n      <th></th>\n      <th></th>\n    </tr>\n  </thead>\n  <tbody>\n    <tr>\n      <th>AK</th>\n      <td>2493.0</td>\n      <td>4052.0</td>\n    </tr>\n    <tr>\n      <th>AL</th>\n      <td>2790.0</td>\n      <td>4658.0</td>\n    </tr>\n    <tr>\n      <th>AR</th>\n      <td>1644.0</td>\n      <td>3143.0</td>\n    </tr>\n    <tr>\n      <th>AS</th>\n      <td>1276.0</td>\n      <td>NaN</td>\n    </tr>\n    <tr>\n      <th>AZ</th>\n      <td>4130.0</td>\n      <td>14894.0</td>\n    </tr>\n    <tr>\n      <th>CA</th>\n      <td>3518.0</td>\n      <td>6709.0</td>\n    </tr>\n    <tr>\n      <th>CO</th>\n      <td>2325.0</td>\n      <td>4670.0</td>\n    </tr>\n    <tr>\n      <th>CT</th>\n      <td>1874.0</td>\n      <td>2871.0</td>\n    </tr>\n    <tr>\n      <th>DC</th>\n      <td>2645.0</td>\n      <td>3225.0</td>\n    </tr>\n    <tr>\n      <th>DE</th>\n      <td>2491.0</td>\n      <td>4503.0</td>\n    </tr>\n    <tr>\n      <th>FL</th>\n      <td>2493.0</td>\n      <td>7033.0</td>\n    </tr>\n    <tr>\n      <th>FM</th>\n      <td>2344.0</td>\n      <td>NaN</td>\n    </tr>\n    <tr>\n      <th>GA</th>\n      <td>2643.0</td>\n      <td>4422.0</td>\n    </tr>\n    <tr>\n      <th>GU</th>\n      <td>1894.0</td>\n      <td>1774.0</td>\n    </tr>\n    <tr>\n      <th>HI</th>\n      <td>2361.0</td>\n      <td>2999.0</td>\n    </tr>\n    <tr>\n      <th>IA</th>\n      <td>2294.0</td>\n      <td>5815.0</td>\n    </tr>\n    <tr>\n      <th>ID</th>\n      <td>2096.0</td>\n      <td>4865.0</td>\n    </tr>\n    <tr>\n      <th>IL</th>\n      <td>2189.0</td>\n      <td>4080.0</td>\n    </tr>\n    <tr>\n      <th>IN</th>\n      <td>2654.0</td>\n      <td>8278.0</td>\n    </tr>\n    <tr>\n      <th>KS</th>\n      <td>1861.0</td>\n      <td>3673.0</td>\n    </tr>\n    <tr>\n      <th>KY</th>\n      <td>1991.0</td>\n      <td>3783.0</td>\n    </tr>\n    <tr>\n      <th>LA</th>\n      <td>1660.0</td>\n      <td>3485.0</td>\n    </tr>\n    <tr>\n      <th>MA</th>\n      <td>2023.0</td>\n      <td>3267.0</td>\n    </tr>\n    <tr>\n      <th>MD</th>\n      <td>3003.0</td>\n      <td>5837.0</td>\n    </tr>\n    <tr>\n      <th>ME</th>\n      <td>1437.0</td>\n      <td>1808.0</td>\n    </tr>\n    <tr>\n      <th>MH</th>\n      <td>1078.0</td>\n      <td>NaN</td>\n    </tr>\n    <tr>\n      <th>MI</th>\n      <td>2643.0</td>\n      <td>5356.0</td>\n    </tr>\n    <tr>\n      <th>MN</th>\n      <td>2086.0</td>\n      <td>3580.0</td>\n    </tr>\n    <tr>\n      <th>MO</th>\n      <td>1557.0</td>\n      <td>3569.0</td>\n    </tr>\n    <tr>\n      <th>MP</th>\n      <td>1120.0</td>\n      <td>NaN</td>\n    </tr>\n    <tr>\n      <th>MS</th>\n      <td>2499.0</td>\n      <td>3848.0</td>\n    </tr>\n    <tr>\n      <th>MT</th>\n      <td>1471.0</td>\n      <td>3007.0</td>\n    </tr>\n    <tr>\n      <th>NC</th>\n      <td>2447.0</td>\n      <td>4212.0</td>\n    </tr>\n    <tr>\n      <th>ND</th>\n      <td>1460.0</td>\n      <td>2919.0</td>\n    </tr>\n    <tr>\n      <th>NE</th>\n      <td>1932.0</td>\n      <td>3579.0</td>\n    </tr>\n    <tr>\n      <th>NH</th>\n      <td>2060.0</td>\n      <td>4877.0</td>\n    </tr>\n    <tr>\n      <th>NJ</th>\n      <td>2353.0</td>\n      <td>4480.0</td>\n    </tr>\n    <tr>\n      <th>NM</th>\n      <td>2254.0</td>\n      <td>4566.0</td>\n    </tr>\n    <tr>\n      <th>NV</th>\n      <td>2274.0</td>\n      <td>6144.0</td>\n    </tr>\n    <tr>\n      <th>NY</th>\n      <td>2349.0</td>\n      <td>4421.0</td>\n    </tr>\n    <tr>\n      <th>OH</th>\n      <td>1577.0</td>\n      <td>4101.0</td>\n    </tr>\n    <tr>\n      <th>OK</th>\n      <td>1351.0</td>\n      <td>3280.0</td>\n    </tr>\n    <tr>\n      <th>OR</th>\n      <td>2183.0</td>\n      <td>4952.0</td>\n    </tr>\n    <tr>\n      <th>PA</th>\n      <td>1699.0</td>\n      <td>3793.0</td>\n    </tr>\n    <tr>\n      <th>PR</th>\n      <td>1599.0</td>\n      <td>2913.0</td>\n    </tr>\n    <tr>\n      <th>PW</th>\n      <td>602.0</td>\n      <td>NaN</td>\n    </tr>\n    <tr>\n      <th>RI</th>\n      <td>3306.0</td>\n      <td>4609.0</td>\n    </tr>\n    <tr>\n      <th>SC</th>\n      <td>2074.0</td>\n      <td>3778.0</td>\n    </tr>\n    <tr>\n      <th>SD</th>\n      <td>1358.0</td>\n      <td>2069.0</td>\n    </tr>\n    <tr>\n      <th>TN</th>\n      <td>1570.0</td>\n      <td>3279.0</td>\n    </tr>\n    <tr>\n      <th>TX</th>\n      <td>2999.0</td>\n      <td>7363.0</td>\n    </tr>\n    <tr>\n      <th>UT</th>\n      <td>3035.0</td>\n      <td>8056.0</td>\n    </tr>\n    <tr>\n      <th>VA</th>\n      <td>2695.0</td>\n      <td>6707.0</td>\n    </tr>\n    <tr>\n      <th>VI</th>\n      <td>1971.0</td>\n      <td>NaN</td>\n    </tr>\n    <tr>\n      <th>VT</th>\n      <td>1513.0</td>\n      <td>2194.0</td>\n    </tr>\n    <tr>\n      <th>WA</th>\n      <td>2271.0</td>\n      <td>4124.0</td>\n    </tr>\n    <tr>\n      <th>WI</th>\n      <td>2655.0</td>\n      <td>4615.0</td>\n    </tr>\n    <tr>\n      <th>WV</th>\n      <td>1758.0</td>\n      <td>5957.0</td>\n    </tr>\n    <tr>\n      <th>WY</th>\n      <td>2244.0</td>\n      <td>2745.0</td>\n    </tr>\n  </tbody>\n</table>\n</div>"
     },
     "execution_count": 46,
     "metadata": {},
     "output_type": "execute_result"
    }
   ],
   "source": [
    "(\n",
    "    college\n",
    "    .groupby('STABBR')\n",
    "    ['UGDS']\n",
    "    .agg(['mean', 'std'])\n",
    "    .round(0)\n",
    ")"
   ],
   "metadata": {
    "collapsed": false
   }
  },
  {
   "cell_type": "code",
   "execution_count": 47,
   "outputs": [],
   "source": [
    "def max_deviation(s):\n",
    "    std_score = (s - s.mean()) / s.std()\n",
    "    return std_score.abs().max()"
   ],
   "metadata": {
    "collapsed": false
   }
  },
  {
   "cell_type": "code",
   "execution_count": 48,
   "outputs": [
    {
     "data": {
      "text/plain": "STABBR\nAK     2.6\nAL     5.8\nAR     6.3\nAS     NaN\nAZ     9.9\nCA     6.1\nCO     5.0\nCT     5.6\nDC     2.4\nDE     3.5\nFL     8.4\nFM     NaN\nGA     5.4\nGU     1.0\nHI     3.8\nIA     6.5\nID     4.5\nIL     7.3\nIN     9.1\nKS     4.9\nKY     5.2\nLA     6.5\nMA     6.1\nMD     5.3\nME     4.0\nMH     NaN\nMI     6.7\nMN     7.8\nMO     7.2\nMP     NaN\nMS     4.0\nMT     3.9\nNC     4.9\nND     3.5\nNE     5.0\nNH     5.3\nNJ     7.1\nNM     4.5\nNV     4.7\nNY     8.2\nOH    10.3\nOK     5.9\nOR     5.3\nPA    10.1\nPR     6.0\nPW     NaN\nRI     2.9\nSC     6.0\nSD     4.2\nTN     6.0\nTX     7.7\nUT     5.1\nVA     7.0\nVI     NaN\nVT     3.8\nWA     6.6\nWI     5.8\nWV     7.2\nWY     2.8\nName: UGDS, dtype: float64"
     },
     "execution_count": 48,
     "metadata": {},
     "output_type": "execute_result"
    }
   ],
   "source": [
    "(\n",
    "    college\n",
    "    .groupby('STABBR')\n",
    "    ['UGDS']\n",
    "    .agg(max_deviation)\n",
    "    .round(1)\n",
    ")"
   ],
   "metadata": {
    "collapsed": false
   }
  },
  {
   "cell_type": "code",
   "execution_count": 49,
   "outputs": [
    {
     "data": {
      "text/plain": "        UGDS  SATVRMID  SATMTMID\nSTABBR                          \nAK       2.6       NaN       NaN\nAL       5.8       1.6       1.8\nAR       6.3       2.2       2.3\nAS       NaN       NaN       NaN\nAZ       9.9       1.9       1.4\nCA       6.1       2.7       2.5\nCO       5.0       2.1       2.3\nCT       5.6       3.0       2.7\nDC       2.4       1.7       1.6\nDE       3.5       1.2       1.1\nFL       8.4       2.2       2.4\nFM       NaN       NaN       NaN\nGA       5.4       2.5       3.0\nGU       1.0       NaN       NaN\nHI       3.8       0.9       1.0\nIA       6.5       2.8       2.8\nID       4.5       2.2       1.7\nIL       7.3       3.3       2.5\nIN       9.1       3.7       3.3\nKS       4.9       2.5       1.6\nKY       5.2       2.1       2.1\nLA       6.5       2.4       2.2\nMA       6.1       2.0       2.0\nMD       5.3       2.0       2.2\nME       4.0       2.4       2.4\nMH       NaN       NaN       NaN\nMI       6.7       2.5       2.5\nMN       7.8       2.2       2.2\nMO       7.2       3.3       3.3\nMP       NaN       NaN       NaN\nMS       4.0       1.6       1.7\nMT       3.9       1.6       1.2\nNC       4.9       2.7       3.1\nND       3.5       1.2       1.5\nNE       5.0       1.5       1.6\nNH       5.3       2.0       1.9\nNJ       7.1       3.2       2.7\nNM       4.5       1.4       1.6\nNV       4.7       1.2       1.1\nNY       8.2       2.7       2.4\nOH      10.3       2.5       2.6\nOK       5.9       1.7       1.8\nOR       5.3       3.1       2.8\nPA      10.1       3.3       3.3\nPR       6.0       1.3       1.2\nPW       NaN       NaN       NaN\nRI       2.9       1.3       1.2\nSC       6.0       1.9       2.2\nSD       4.2       1.8       2.0\nTN       6.0       2.9       3.1\nTX       7.7       3.2       3.4\nUT       5.1       1.3       1.2\nVA       7.0       2.4       2.3\nVI       NaN       NaN       NaN\nVT       3.8       1.9       1.9\nWA       6.6       2.2       2.0\nWI       5.8       2.4       2.2\nWV       7.2       1.7       2.1\nWY       2.8       NaN       NaN",
      "text/html": "<div>\n<style scoped>\n    .dataframe tbody tr th:only-of-type {\n        vertical-align: middle;\n    }\n\n    .dataframe tbody tr th {\n        vertical-align: top;\n    }\n\n    .dataframe thead th {\n        text-align: right;\n    }\n</style>\n<table border=\"1\" class=\"dataframe\">\n  <thead>\n    <tr style=\"text-align: right;\">\n      <th></th>\n      <th>UGDS</th>\n      <th>SATVRMID</th>\n      <th>SATMTMID</th>\n    </tr>\n    <tr>\n      <th>STABBR</th>\n      <th></th>\n      <th></th>\n      <th></th>\n    </tr>\n  </thead>\n  <tbody>\n    <tr>\n      <th>AK</th>\n      <td>2.6</td>\n      <td>NaN</td>\n      <td>NaN</td>\n    </tr>\n    <tr>\n      <th>AL</th>\n      <td>5.8</td>\n      <td>1.6</td>\n      <td>1.8</td>\n    </tr>\n    <tr>\n      <th>AR</th>\n      <td>6.3</td>\n      <td>2.2</td>\n      <td>2.3</td>\n    </tr>\n    <tr>\n      <th>AS</th>\n      <td>NaN</td>\n      <td>NaN</td>\n      <td>NaN</td>\n    </tr>\n    <tr>\n      <th>AZ</th>\n      <td>9.9</td>\n      <td>1.9</td>\n      <td>1.4</td>\n    </tr>\n    <tr>\n      <th>CA</th>\n      <td>6.1</td>\n      <td>2.7</td>\n      <td>2.5</td>\n    </tr>\n    <tr>\n      <th>CO</th>\n      <td>5.0</td>\n      <td>2.1</td>\n      <td>2.3</td>\n    </tr>\n    <tr>\n      <th>CT</th>\n      <td>5.6</td>\n      <td>3.0</td>\n      <td>2.7</td>\n    </tr>\n    <tr>\n      <th>DC</th>\n      <td>2.4</td>\n      <td>1.7</td>\n      <td>1.6</td>\n    </tr>\n    <tr>\n      <th>DE</th>\n      <td>3.5</td>\n      <td>1.2</td>\n      <td>1.1</td>\n    </tr>\n    <tr>\n      <th>FL</th>\n      <td>8.4</td>\n      <td>2.2</td>\n      <td>2.4</td>\n    </tr>\n    <tr>\n      <th>FM</th>\n      <td>NaN</td>\n      <td>NaN</td>\n      <td>NaN</td>\n    </tr>\n    <tr>\n      <th>GA</th>\n      <td>5.4</td>\n      <td>2.5</td>\n      <td>3.0</td>\n    </tr>\n    <tr>\n      <th>GU</th>\n      <td>1.0</td>\n      <td>NaN</td>\n      <td>NaN</td>\n    </tr>\n    <tr>\n      <th>HI</th>\n      <td>3.8</td>\n      <td>0.9</td>\n      <td>1.0</td>\n    </tr>\n    <tr>\n      <th>IA</th>\n      <td>6.5</td>\n      <td>2.8</td>\n      <td>2.8</td>\n    </tr>\n    <tr>\n      <th>ID</th>\n      <td>4.5</td>\n      <td>2.2</td>\n      <td>1.7</td>\n    </tr>\n    <tr>\n      <th>IL</th>\n      <td>7.3</td>\n      <td>3.3</td>\n      <td>2.5</td>\n    </tr>\n    <tr>\n      <th>IN</th>\n      <td>9.1</td>\n      <td>3.7</td>\n      <td>3.3</td>\n    </tr>\n    <tr>\n      <th>KS</th>\n      <td>4.9</td>\n      <td>2.5</td>\n      <td>1.6</td>\n    </tr>\n    <tr>\n      <th>KY</th>\n      <td>5.2</td>\n      <td>2.1</td>\n      <td>2.1</td>\n    </tr>\n    <tr>\n      <th>LA</th>\n      <td>6.5</td>\n      <td>2.4</td>\n      <td>2.2</td>\n    </tr>\n    <tr>\n      <th>MA</th>\n      <td>6.1</td>\n      <td>2.0</td>\n      <td>2.0</td>\n    </tr>\n    <tr>\n      <th>MD</th>\n      <td>5.3</td>\n      <td>2.0</td>\n      <td>2.2</td>\n    </tr>\n    <tr>\n      <th>ME</th>\n      <td>4.0</td>\n      <td>2.4</td>\n      <td>2.4</td>\n    </tr>\n    <tr>\n      <th>MH</th>\n      <td>NaN</td>\n      <td>NaN</td>\n      <td>NaN</td>\n    </tr>\n    <tr>\n      <th>MI</th>\n      <td>6.7</td>\n      <td>2.5</td>\n      <td>2.5</td>\n    </tr>\n    <tr>\n      <th>MN</th>\n      <td>7.8</td>\n      <td>2.2</td>\n      <td>2.2</td>\n    </tr>\n    <tr>\n      <th>MO</th>\n      <td>7.2</td>\n      <td>3.3</td>\n      <td>3.3</td>\n    </tr>\n    <tr>\n      <th>MP</th>\n      <td>NaN</td>\n      <td>NaN</td>\n      <td>NaN</td>\n    </tr>\n    <tr>\n      <th>MS</th>\n      <td>4.0</td>\n      <td>1.6</td>\n      <td>1.7</td>\n    </tr>\n    <tr>\n      <th>MT</th>\n      <td>3.9</td>\n      <td>1.6</td>\n      <td>1.2</td>\n    </tr>\n    <tr>\n      <th>NC</th>\n      <td>4.9</td>\n      <td>2.7</td>\n      <td>3.1</td>\n    </tr>\n    <tr>\n      <th>ND</th>\n      <td>3.5</td>\n      <td>1.2</td>\n      <td>1.5</td>\n    </tr>\n    <tr>\n      <th>NE</th>\n      <td>5.0</td>\n      <td>1.5</td>\n      <td>1.6</td>\n    </tr>\n    <tr>\n      <th>NH</th>\n      <td>5.3</td>\n      <td>2.0</td>\n      <td>1.9</td>\n    </tr>\n    <tr>\n      <th>NJ</th>\n      <td>7.1</td>\n      <td>3.2</td>\n      <td>2.7</td>\n    </tr>\n    <tr>\n      <th>NM</th>\n      <td>4.5</td>\n      <td>1.4</td>\n      <td>1.6</td>\n    </tr>\n    <tr>\n      <th>NV</th>\n      <td>4.7</td>\n      <td>1.2</td>\n      <td>1.1</td>\n    </tr>\n    <tr>\n      <th>NY</th>\n      <td>8.2</td>\n      <td>2.7</td>\n      <td>2.4</td>\n    </tr>\n    <tr>\n      <th>OH</th>\n      <td>10.3</td>\n      <td>2.5</td>\n      <td>2.6</td>\n    </tr>\n    <tr>\n      <th>OK</th>\n      <td>5.9</td>\n      <td>1.7</td>\n      <td>1.8</td>\n    </tr>\n    <tr>\n      <th>OR</th>\n      <td>5.3</td>\n      <td>3.1</td>\n      <td>2.8</td>\n    </tr>\n    <tr>\n      <th>PA</th>\n      <td>10.1</td>\n      <td>3.3</td>\n      <td>3.3</td>\n    </tr>\n    <tr>\n      <th>PR</th>\n      <td>6.0</td>\n      <td>1.3</td>\n      <td>1.2</td>\n    </tr>\n    <tr>\n      <th>PW</th>\n      <td>NaN</td>\n      <td>NaN</td>\n      <td>NaN</td>\n    </tr>\n    <tr>\n      <th>RI</th>\n      <td>2.9</td>\n      <td>1.3</td>\n      <td>1.2</td>\n    </tr>\n    <tr>\n      <th>SC</th>\n      <td>6.0</td>\n      <td>1.9</td>\n      <td>2.2</td>\n    </tr>\n    <tr>\n      <th>SD</th>\n      <td>4.2</td>\n      <td>1.8</td>\n      <td>2.0</td>\n    </tr>\n    <tr>\n      <th>TN</th>\n      <td>6.0</td>\n      <td>2.9</td>\n      <td>3.1</td>\n    </tr>\n    <tr>\n      <th>TX</th>\n      <td>7.7</td>\n      <td>3.2</td>\n      <td>3.4</td>\n    </tr>\n    <tr>\n      <th>UT</th>\n      <td>5.1</td>\n      <td>1.3</td>\n      <td>1.2</td>\n    </tr>\n    <tr>\n      <th>VA</th>\n      <td>7.0</td>\n      <td>2.4</td>\n      <td>2.3</td>\n    </tr>\n    <tr>\n      <th>VI</th>\n      <td>NaN</td>\n      <td>NaN</td>\n      <td>NaN</td>\n    </tr>\n    <tr>\n      <th>VT</th>\n      <td>3.8</td>\n      <td>1.9</td>\n      <td>1.9</td>\n    </tr>\n    <tr>\n      <th>WA</th>\n      <td>6.6</td>\n      <td>2.2</td>\n      <td>2.0</td>\n    </tr>\n    <tr>\n      <th>WI</th>\n      <td>5.8</td>\n      <td>2.4</td>\n      <td>2.2</td>\n    </tr>\n    <tr>\n      <th>WV</th>\n      <td>7.2</td>\n      <td>1.7</td>\n      <td>2.1</td>\n    </tr>\n    <tr>\n      <th>WY</th>\n      <td>2.8</td>\n      <td>NaN</td>\n      <td>NaN</td>\n    </tr>\n  </tbody>\n</table>\n</div>"
     },
     "execution_count": 49,
     "metadata": {},
     "output_type": "execute_result"
    }
   ],
   "source": [
    "(\n",
    "    college\n",
    "    .groupby('STABBR')\n",
    "    [['UGDS', 'SATVRMID', 'SATMTMID']]\n",
    "    .agg(max_deviation)\n",
    "    .round(1)\n",
    ")"
   ],
   "metadata": {
    "collapsed": false
   }
  },
  {
   "cell_type": "code",
   "execution_count": 50,
   "outputs": [
    {
     "data": {
      "text/plain": "'max_deviation'"
     },
     "execution_count": 50,
     "metadata": {},
     "output_type": "execute_result"
    }
   ],
   "source": [
    "max_deviation.__name__"
   ],
   "metadata": {
    "collapsed": false
   }
  },
  {
   "cell_type": "code",
   "execution_count": 51,
   "outputs": [],
   "source": [
    "max_deviation.__name__ = 'Max Deviation'"
   ],
   "metadata": {
    "collapsed": false
   }
  },
  {
   "cell_type": "code",
   "execution_count": 52,
   "outputs": [
    {
     "data": {
      "text/plain": "                UGDS                       SATVRMID                \\\n       Max Deviation    mean      std Max Deviation   mean    std   \nSTABBR                                                              \nAK               2.6  2493.2   4051.7           NaN  555.0    NaN   \nAL               5.8  2789.9   4657.9           1.6  508.5   54.5   \nAR               6.3  1644.1   3142.8           2.2  491.9   48.3   \nAS               NaN  1276.0      NaN           NaN    NaN    NaN   \nAZ               9.9  4130.5  14893.6           1.9  538.3   28.0   \nCA               6.1  3518.3   6708.6           2.7  549.1   78.6   \nCO               5.0  2324.9   4670.3           2.1  537.7   46.0   \nCT               5.6  1873.6   2871.3           3.0  517.9   79.8   \nDC               2.4  2645.3   3224.8           1.7  589.2   96.3   \nDE               3.5  2491.1   4503.4           1.2  486.7   85.5   \nFL               8.4  2492.9   7033.4           2.2  529.3   62.1   \nFM               NaN  2344.0      NaN           NaN    NaN    NaN   \nGA               5.4  2642.6   4422.1           2.5  509.5   64.9   \nGU               1.0  1894.0   1773.8           NaN    NaN    NaN   \nHI               3.8  2360.7   2999.3           0.9  497.5   34.8   \nIA               6.5  2293.9   5815.2           2.8  511.1   61.3   \nID               4.5  2096.2   4864.7           2.2  510.0   22.7   \nIL               7.3  2189.1   4079.6           3.3  533.7   68.3   \nIN               9.1  2653.6   8278.0           3.7  517.4   50.4   \nKS               4.9  1861.3   3672.8           2.5  469.6   38.7   \nKY               5.2  1991.0   3783.4           2.1  502.2   48.6   \nLA               6.5  1660.2   3484.8           2.4  511.7   61.7   \nMA               6.1  2023.1   3267.4           2.0  555.9   95.6   \nMD               5.3  3003.1   5836.9           2.0  533.3   88.0   \nME               4.0  1436.6   1808.4           2.4  512.2   61.5   \nMH               NaN  1078.0      NaN           NaN    NaN    NaN   \nMI               6.7  2643.0   5356.3           2.5  532.0   55.1   \nMN               7.8  2086.0   3579.8           2.2  557.2   67.1   \nMO               7.2  1557.1   3569.1           3.3  541.2   57.9   \nMP               NaN  1120.0      NaN           NaN    NaN    NaN   \nMS               4.0  2498.6   3847.7           1.6  500.6   48.6   \nMT               3.9  1470.7   3006.7           1.6  528.3   44.7   \nNC               4.9  2446.9   4212.3           2.7  502.0   77.7   \nND               3.5  1460.1   2918.9           1.2  498.6   51.4   \nNE               5.0  1932.3   3579.2           1.5  508.5   48.4   \nNH               5.3  2060.5   4877.4           2.0  535.8   98.4   \nNJ               7.1  2353.3   4479.9           3.2  509.6   73.6   \nNM               4.5  2253.6   4565.8           1.4  506.6   62.7   \nNV               4.7  2274.3   6144.3           1.2  508.3   23.1   \nNY               8.2  2349.0   4421.4           2.7  542.8   71.7   \nOH              10.3  1576.7   4100.6           2.5  529.7   62.9   \nOK               5.9  1351.0   3279.9           1.7  505.5   75.2   \nOR               5.3  2182.6   4951.9           3.1  543.2   53.0   \nPA              10.1  1699.3   3793.4           3.3  511.5   64.6   \nPR               6.0  1598.8   2912.9           1.3  546.2   35.7   \nPW               NaN   602.0      NaN           NaN    NaN    NaN   \nRI               2.9  3305.6   4608.6           1.3  577.5  109.1   \nSC               6.0  2073.5   3778.5           1.9  497.2   59.4   \nSD               4.2  1358.1   2069.4           1.8  491.5   39.5   \nTN               6.0  1570.2   3279.2           2.9  510.6   80.9   \nTX               7.7  2998.5   7362.5           3.2  511.1   64.4   \nUT               5.1  3035.3   8055.7           1.3  561.2   51.4   \nVA               7.0  2694.9   6706.8           2.4  529.6   69.0   \nVI               NaN  1971.0      NaN           NaN  400.0    NaN   \nVT               3.8  1512.6   2193.6           1.9  527.5   82.2   \nWA               6.6  2271.2   4123.7           2.2  548.3   51.5   \nWI               5.8  2655.5   4615.5           2.4  516.9   65.5   \nWV               7.2  1758.1   5957.2           1.7  473.4   25.3   \nWY               2.8  2244.4   2744.7           NaN  535.0    NaN   \n\n            SATMTMID                \n       Max Deviation   mean    std  \nSTABBR                              \nAK               NaN  503.0    NaN  \nAL               1.8  504.3   58.9  \nAR               2.3  515.9   38.8  \nAS               NaN    NaN    NaN  \nAZ               1.4  536.7   39.7  \nCA               2.5  562.9   87.1  \nCO               2.3  540.2   62.1  \nCT               2.7  522.5   82.8  \nDC               1.6  588.3   92.2  \nDE               1.1  495.0   95.8  \nFL               2.4  521.8   65.1  \nFM               NaN    NaN    NaN  \nGA               3.0  503.5   72.7  \nGU               NaN    NaN    NaN  \nHI               1.0  513.8   42.1  \nIA               2.8  533.6   63.9  \nID               1.7  504.3   25.4  \nIL               2.5  549.5   83.6  \nIN               3.3  526.0   61.1  \nKS               1.6  483.7   32.6  \nKY               2.1  510.0   52.7  \nLA               2.2  518.3   63.1  \nMA               2.0  566.1  103.9  \nMD               2.2  530.6   89.7  \nME               2.4  522.2   62.7  \nMH               NaN    NaN    NaN  \nMI               2.5  555.2   62.6  \nMN               2.2  558.6   78.1  \nMO               3.3  550.0   63.9  \nMP               NaN    NaN    NaN  \nMS               1.7  518.0   58.8  \nMT               1.2  540.0   36.1  \nNC               3.1  502.8   78.5  \nND               1.5  511.0   58.5  \nNE               1.6  519.0   54.8  \nNH               1.9  538.3   96.4  \nNJ               2.7  530.2   81.9  \nNM               1.6  529.6   57.1  \nNV               1.1  510.0   26.5  \nNY               2.4  557.3   78.4  \nOH               2.6  536.0   67.1  \nOK               1.8  516.8   64.7  \nOR               2.8  539.1   50.8  \nPA               3.3  518.2   70.6  \nPR               1.2  554.5   47.5  \nPW               NaN    NaN    NaN  \nRI               1.2  591.2  115.6  \nSC               2.2  500.4   60.7  \nSD               2.0  519.7   46.2  \nTN               3.1  511.8   79.0  \nTX               3.4  523.1   65.8  \nUT               1.2  561.2   56.6  \nVA               2.3  526.1   72.1  \nVI               NaN  390.0    NaN  \nVT               1.9  526.9   85.0  \nWA               2.0  551.2   52.7  \nWI               2.2  545.1   62.2  \nWV               2.1  481.7   24.1  \nWY               NaN  540.0    NaN  ",
      "text/html": "<div>\n<style scoped>\n    .dataframe tbody tr th:only-of-type {\n        vertical-align: middle;\n    }\n\n    .dataframe tbody tr th {\n        vertical-align: top;\n    }\n\n    .dataframe thead tr th {\n        text-align: left;\n    }\n\n    .dataframe thead tr:last-of-type th {\n        text-align: right;\n    }\n</style>\n<table border=\"1\" class=\"dataframe\">\n  <thead>\n    <tr>\n      <th></th>\n      <th colspan=\"3\" halign=\"left\">UGDS</th>\n      <th colspan=\"3\" halign=\"left\">SATVRMID</th>\n      <th colspan=\"3\" halign=\"left\">SATMTMID</th>\n    </tr>\n    <tr>\n      <th></th>\n      <th>Max Deviation</th>\n      <th>mean</th>\n      <th>std</th>\n      <th>Max Deviation</th>\n      <th>mean</th>\n      <th>std</th>\n      <th>Max Deviation</th>\n      <th>mean</th>\n      <th>std</th>\n    </tr>\n    <tr>\n      <th>STABBR</th>\n      <th></th>\n      <th></th>\n      <th></th>\n      <th></th>\n      <th></th>\n      <th></th>\n      <th></th>\n      <th></th>\n      <th></th>\n    </tr>\n  </thead>\n  <tbody>\n    <tr>\n      <th>AK</th>\n      <td>2.6</td>\n      <td>2493.2</td>\n      <td>4051.7</td>\n      <td>NaN</td>\n      <td>555.0</td>\n      <td>NaN</td>\n      <td>NaN</td>\n      <td>503.0</td>\n      <td>NaN</td>\n    </tr>\n    <tr>\n      <th>AL</th>\n      <td>5.8</td>\n      <td>2789.9</td>\n      <td>4657.9</td>\n      <td>1.6</td>\n      <td>508.5</td>\n      <td>54.5</td>\n      <td>1.8</td>\n      <td>504.3</td>\n      <td>58.9</td>\n    </tr>\n    <tr>\n      <th>AR</th>\n      <td>6.3</td>\n      <td>1644.1</td>\n      <td>3142.8</td>\n      <td>2.2</td>\n      <td>491.9</td>\n      <td>48.3</td>\n      <td>2.3</td>\n      <td>515.9</td>\n      <td>38.8</td>\n    </tr>\n    <tr>\n      <th>AS</th>\n      <td>NaN</td>\n      <td>1276.0</td>\n      <td>NaN</td>\n      <td>NaN</td>\n      <td>NaN</td>\n      <td>NaN</td>\n      <td>NaN</td>\n      <td>NaN</td>\n      <td>NaN</td>\n    </tr>\n    <tr>\n      <th>AZ</th>\n      <td>9.9</td>\n      <td>4130.5</td>\n      <td>14893.6</td>\n      <td>1.9</td>\n      <td>538.3</td>\n      <td>28.0</td>\n      <td>1.4</td>\n      <td>536.7</td>\n      <td>39.7</td>\n    </tr>\n    <tr>\n      <th>CA</th>\n      <td>6.1</td>\n      <td>3518.3</td>\n      <td>6708.6</td>\n      <td>2.7</td>\n      <td>549.1</td>\n      <td>78.6</td>\n      <td>2.5</td>\n      <td>562.9</td>\n      <td>87.1</td>\n    </tr>\n    <tr>\n      <th>CO</th>\n      <td>5.0</td>\n      <td>2324.9</td>\n      <td>4670.3</td>\n      <td>2.1</td>\n      <td>537.7</td>\n      <td>46.0</td>\n      <td>2.3</td>\n      <td>540.2</td>\n      <td>62.1</td>\n    </tr>\n    <tr>\n      <th>CT</th>\n      <td>5.6</td>\n      <td>1873.6</td>\n      <td>2871.3</td>\n      <td>3.0</td>\n      <td>517.9</td>\n      <td>79.8</td>\n      <td>2.7</td>\n      <td>522.5</td>\n      <td>82.8</td>\n    </tr>\n    <tr>\n      <th>DC</th>\n      <td>2.4</td>\n      <td>2645.3</td>\n      <td>3224.8</td>\n      <td>1.7</td>\n      <td>589.2</td>\n      <td>96.3</td>\n      <td>1.6</td>\n      <td>588.3</td>\n      <td>92.2</td>\n    </tr>\n    <tr>\n      <th>DE</th>\n      <td>3.5</td>\n      <td>2491.1</td>\n      <td>4503.4</td>\n      <td>1.2</td>\n      <td>486.7</td>\n      <td>85.5</td>\n      <td>1.1</td>\n      <td>495.0</td>\n      <td>95.8</td>\n    </tr>\n    <tr>\n      <th>FL</th>\n      <td>8.4</td>\n      <td>2492.9</td>\n      <td>7033.4</td>\n      <td>2.2</td>\n      <td>529.3</td>\n      <td>62.1</td>\n      <td>2.4</td>\n      <td>521.8</td>\n      <td>65.1</td>\n    </tr>\n    <tr>\n      <th>FM</th>\n      <td>NaN</td>\n      <td>2344.0</td>\n      <td>NaN</td>\n      <td>NaN</td>\n      <td>NaN</td>\n      <td>NaN</td>\n      <td>NaN</td>\n      <td>NaN</td>\n      <td>NaN</td>\n    </tr>\n    <tr>\n      <th>GA</th>\n      <td>5.4</td>\n      <td>2642.6</td>\n      <td>4422.1</td>\n      <td>2.5</td>\n      <td>509.5</td>\n      <td>64.9</td>\n      <td>3.0</td>\n      <td>503.5</td>\n      <td>72.7</td>\n    </tr>\n    <tr>\n      <th>GU</th>\n      <td>1.0</td>\n      <td>1894.0</td>\n      <td>1773.8</td>\n      <td>NaN</td>\n      <td>NaN</td>\n      <td>NaN</td>\n      <td>NaN</td>\n      <td>NaN</td>\n      <td>NaN</td>\n    </tr>\n    <tr>\n      <th>HI</th>\n      <td>3.8</td>\n      <td>2360.7</td>\n      <td>2999.3</td>\n      <td>0.9</td>\n      <td>497.5</td>\n      <td>34.8</td>\n      <td>1.0</td>\n      <td>513.8</td>\n      <td>42.1</td>\n    </tr>\n    <tr>\n      <th>IA</th>\n      <td>6.5</td>\n      <td>2293.9</td>\n      <td>5815.2</td>\n      <td>2.8</td>\n      <td>511.1</td>\n      <td>61.3</td>\n      <td>2.8</td>\n      <td>533.6</td>\n      <td>63.9</td>\n    </tr>\n    <tr>\n      <th>ID</th>\n      <td>4.5</td>\n      <td>2096.2</td>\n      <td>4864.7</td>\n      <td>2.2</td>\n      <td>510.0</td>\n      <td>22.7</td>\n      <td>1.7</td>\n      <td>504.3</td>\n      <td>25.4</td>\n    </tr>\n    <tr>\n      <th>IL</th>\n      <td>7.3</td>\n      <td>2189.1</td>\n      <td>4079.6</td>\n      <td>3.3</td>\n      <td>533.7</td>\n      <td>68.3</td>\n      <td>2.5</td>\n      <td>549.5</td>\n      <td>83.6</td>\n    </tr>\n    <tr>\n      <th>IN</th>\n      <td>9.1</td>\n      <td>2653.6</td>\n      <td>8278.0</td>\n      <td>3.7</td>\n      <td>517.4</td>\n      <td>50.4</td>\n      <td>3.3</td>\n      <td>526.0</td>\n      <td>61.1</td>\n    </tr>\n    <tr>\n      <th>KS</th>\n      <td>4.9</td>\n      <td>1861.3</td>\n      <td>3672.8</td>\n      <td>2.5</td>\n      <td>469.6</td>\n      <td>38.7</td>\n      <td>1.6</td>\n      <td>483.7</td>\n      <td>32.6</td>\n    </tr>\n    <tr>\n      <th>KY</th>\n      <td>5.2</td>\n      <td>1991.0</td>\n      <td>3783.4</td>\n      <td>2.1</td>\n      <td>502.2</td>\n      <td>48.6</td>\n      <td>2.1</td>\n      <td>510.0</td>\n      <td>52.7</td>\n    </tr>\n    <tr>\n      <th>LA</th>\n      <td>6.5</td>\n      <td>1660.2</td>\n      <td>3484.8</td>\n      <td>2.4</td>\n      <td>511.7</td>\n      <td>61.7</td>\n      <td>2.2</td>\n      <td>518.3</td>\n      <td>63.1</td>\n    </tr>\n    <tr>\n      <th>MA</th>\n      <td>6.1</td>\n      <td>2023.1</td>\n      <td>3267.4</td>\n      <td>2.0</td>\n      <td>555.9</td>\n      <td>95.6</td>\n      <td>2.0</td>\n      <td>566.1</td>\n      <td>103.9</td>\n    </tr>\n    <tr>\n      <th>MD</th>\n      <td>5.3</td>\n      <td>3003.1</td>\n      <td>5836.9</td>\n      <td>2.0</td>\n      <td>533.3</td>\n      <td>88.0</td>\n      <td>2.2</td>\n      <td>530.6</td>\n      <td>89.7</td>\n    </tr>\n    <tr>\n      <th>ME</th>\n      <td>4.0</td>\n      <td>1436.6</td>\n      <td>1808.4</td>\n      <td>2.4</td>\n      <td>512.2</td>\n      <td>61.5</td>\n      <td>2.4</td>\n      <td>522.2</td>\n      <td>62.7</td>\n    </tr>\n    <tr>\n      <th>MH</th>\n      <td>NaN</td>\n      <td>1078.0</td>\n      <td>NaN</td>\n      <td>NaN</td>\n      <td>NaN</td>\n      <td>NaN</td>\n      <td>NaN</td>\n      <td>NaN</td>\n      <td>NaN</td>\n    </tr>\n    <tr>\n      <th>MI</th>\n      <td>6.7</td>\n      <td>2643.0</td>\n      <td>5356.3</td>\n      <td>2.5</td>\n      <td>532.0</td>\n      <td>55.1</td>\n      <td>2.5</td>\n      <td>555.2</td>\n      <td>62.6</td>\n    </tr>\n    <tr>\n      <th>MN</th>\n      <td>7.8</td>\n      <td>2086.0</td>\n      <td>3579.8</td>\n      <td>2.2</td>\n      <td>557.2</td>\n      <td>67.1</td>\n      <td>2.2</td>\n      <td>558.6</td>\n      <td>78.1</td>\n    </tr>\n    <tr>\n      <th>MO</th>\n      <td>7.2</td>\n      <td>1557.1</td>\n      <td>3569.1</td>\n      <td>3.3</td>\n      <td>541.2</td>\n      <td>57.9</td>\n      <td>3.3</td>\n      <td>550.0</td>\n      <td>63.9</td>\n    </tr>\n    <tr>\n      <th>MP</th>\n      <td>NaN</td>\n      <td>1120.0</td>\n      <td>NaN</td>\n      <td>NaN</td>\n      <td>NaN</td>\n      <td>NaN</td>\n      <td>NaN</td>\n      <td>NaN</td>\n      <td>NaN</td>\n    </tr>\n    <tr>\n      <th>MS</th>\n      <td>4.0</td>\n      <td>2498.6</td>\n      <td>3847.7</td>\n      <td>1.6</td>\n      <td>500.6</td>\n      <td>48.6</td>\n      <td>1.7</td>\n      <td>518.0</td>\n      <td>58.8</td>\n    </tr>\n    <tr>\n      <th>MT</th>\n      <td>3.9</td>\n      <td>1470.7</td>\n      <td>3006.7</td>\n      <td>1.6</td>\n      <td>528.3</td>\n      <td>44.7</td>\n      <td>1.2</td>\n      <td>540.0</td>\n      <td>36.1</td>\n    </tr>\n    <tr>\n      <th>NC</th>\n      <td>4.9</td>\n      <td>2446.9</td>\n      <td>4212.3</td>\n      <td>2.7</td>\n      <td>502.0</td>\n      <td>77.7</td>\n      <td>3.1</td>\n      <td>502.8</td>\n      <td>78.5</td>\n    </tr>\n    <tr>\n      <th>ND</th>\n      <td>3.5</td>\n      <td>1460.1</td>\n      <td>2918.9</td>\n      <td>1.2</td>\n      <td>498.6</td>\n      <td>51.4</td>\n      <td>1.5</td>\n      <td>511.0</td>\n      <td>58.5</td>\n    </tr>\n    <tr>\n      <th>NE</th>\n      <td>5.0</td>\n      <td>1932.3</td>\n      <td>3579.2</td>\n      <td>1.5</td>\n      <td>508.5</td>\n      <td>48.4</td>\n      <td>1.6</td>\n      <td>519.0</td>\n      <td>54.8</td>\n    </tr>\n    <tr>\n      <th>NH</th>\n      <td>5.3</td>\n      <td>2060.5</td>\n      <td>4877.4</td>\n      <td>2.0</td>\n      <td>535.8</td>\n      <td>98.4</td>\n      <td>1.9</td>\n      <td>538.3</td>\n      <td>96.4</td>\n    </tr>\n    <tr>\n      <th>NJ</th>\n      <td>7.1</td>\n      <td>2353.3</td>\n      <td>4479.9</td>\n      <td>3.2</td>\n      <td>509.6</td>\n      <td>73.6</td>\n      <td>2.7</td>\n      <td>530.2</td>\n      <td>81.9</td>\n    </tr>\n    <tr>\n      <th>NM</th>\n      <td>4.5</td>\n      <td>2253.6</td>\n      <td>4565.8</td>\n      <td>1.4</td>\n      <td>506.6</td>\n      <td>62.7</td>\n      <td>1.6</td>\n      <td>529.6</td>\n      <td>57.1</td>\n    </tr>\n    <tr>\n      <th>NV</th>\n      <td>4.7</td>\n      <td>2274.3</td>\n      <td>6144.3</td>\n      <td>1.2</td>\n      <td>508.3</td>\n      <td>23.1</td>\n      <td>1.1</td>\n      <td>510.0</td>\n      <td>26.5</td>\n    </tr>\n    <tr>\n      <th>NY</th>\n      <td>8.2</td>\n      <td>2349.0</td>\n      <td>4421.4</td>\n      <td>2.7</td>\n      <td>542.8</td>\n      <td>71.7</td>\n      <td>2.4</td>\n      <td>557.3</td>\n      <td>78.4</td>\n    </tr>\n    <tr>\n      <th>OH</th>\n      <td>10.3</td>\n      <td>1576.7</td>\n      <td>4100.6</td>\n      <td>2.5</td>\n      <td>529.7</td>\n      <td>62.9</td>\n      <td>2.6</td>\n      <td>536.0</td>\n      <td>67.1</td>\n    </tr>\n    <tr>\n      <th>OK</th>\n      <td>5.9</td>\n      <td>1351.0</td>\n      <td>3279.9</td>\n      <td>1.7</td>\n      <td>505.5</td>\n      <td>75.2</td>\n      <td>1.8</td>\n      <td>516.8</td>\n      <td>64.7</td>\n    </tr>\n    <tr>\n      <th>OR</th>\n      <td>5.3</td>\n      <td>2182.6</td>\n      <td>4951.9</td>\n      <td>3.1</td>\n      <td>543.2</td>\n      <td>53.0</td>\n      <td>2.8</td>\n      <td>539.1</td>\n      <td>50.8</td>\n    </tr>\n    <tr>\n      <th>PA</th>\n      <td>10.1</td>\n      <td>1699.3</td>\n      <td>3793.4</td>\n      <td>3.3</td>\n      <td>511.5</td>\n      <td>64.6</td>\n      <td>3.3</td>\n      <td>518.2</td>\n      <td>70.6</td>\n    </tr>\n    <tr>\n      <th>PR</th>\n      <td>6.0</td>\n      <td>1598.8</td>\n      <td>2912.9</td>\n      <td>1.3</td>\n      <td>546.2</td>\n      <td>35.7</td>\n      <td>1.2</td>\n      <td>554.5</td>\n      <td>47.5</td>\n    </tr>\n    <tr>\n      <th>PW</th>\n      <td>NaN</td>\n      <td>602.0</td>\n      <td>NaN</td>\n      <td>NaN</td>\n      <td>NaN</td>\n      <td>NaN</td>\n      <td>NaN</td>\n      <td>NaN</td>\n      <td>NaN</td>\n    </tr>\n    <tr>\n      <th>RI</th>\n      <td>2.9</td>\n      <td>3305.6</td>\n      <td>4608.6</td>\n      <td>1.3</td>\n      <td>577.5</td>\n      <td>109.1</td>\n      <td>1.2</td>\n      <td>591.2</td>\n      <td>115.6</td>\n    </tr>\n    <tr>\n      <th>SC</th>\n      <td>6.0</td>\n      <td>2073.5</td>\n      <td>3778.5</td>\n      <td>1.9</td>\n      <td>497.2</td>\n      <td>59.4</td>\n      <td>2.2</td>\n      <td>500.4</td>\n      <td>60.7</td>\n    </tr>\n    <tr>\n      <th>SD</th>\n      <td>4.2</td>\n      <td>1358.1</td>\n      <td>2069.4</td>\n      <td>1.8</td>\n      <td>491.5</td>\n      <td>39.5</td>\n      <td>2.0</td>\n      <td>519.7</td>\n      <td>46.2</td>\n    </tr>\n    <tr>\n      <th>TN</th>\n      <td>6.0</td>\n      <td>1570.2</td>\n      <td>3279.2</td>\n      <td>2.9</td>\n      <td>510.6</td>\n      <td>80.9</td>\n      <td>3.1</td>\n      <td>511.8</td>\n      <td>79.0</td>\n    </tr>\n    <tr>\n      <th>TX</th>\n      <td>7.7</td>\n      <td>2998.5</td>\n      <td>7362.5</td>\n      <td>3.2</td>\n      <td>511.1</td>\n      <td>64.4</td>\n      <td>3.4</td>\n      <td>523.1</td>\n      <td>65.8</td>\n    </tr>\n    <tr>\n      <th>UT</th>\n      <td>5.1</td>\n      <td>3035.3</td>\n      <td>8055.7</td>\n      <td>1.3</td>\n      <td>561.2</td>\n      <td>51.4</td>\n      <td>1.2</td>\n      <td>561.2</td>\n      <td>56.6</td>\n    </tr>\n    <tr>\n      <th>VA</th>\n      <td>7.0</td>\n      <td>2694.9</td>\n      <td>6706.8</td>\n      <td>2.4</td>\n      <td>529.6</td>\n      <td>69.0</td>\n      <td>2.3</td>\n      <td>526.1</td>\n      <td>72.1</td>\n    </tr>\n    <tr>\n      <th>VI</th>\n      <td>NaN</td>\n      <td>1971.0</td>\n      <td>NaN</td>\n      <td>NaN</td>\n      <td>400.0</td>\n      <td>NaN</td>\n      <td>NaN</td>\n      <td>390.0</td>\n      <td>NaN</td>\n    </tr>\n    <tr>\n      <th>VT</th>\n      <td>3.8</td>\n      <td>1512.6</td>\n      <td>2193.6</td>\n      <td>1.9</td>\n      <td>527.5</td>\n      <td>82.2</td>\n      <td>1.9</td>\n      <td>526.9</td>\n      <td>85.0</td>\n    </tr>\n    <tr>\n      <th>WA</th>\n      <td>6.6</td>\n      <td>2271.2</td>\n      <td>4123.7</td>\n      <td>2.2</td>\n      <td>548.3</td>\n      <td>51.5</td>\n      <td>2.0</td>\n      <td>551.2</td>\n      <td>52.7</td>\n    </tr>\n    <tr>\n      <th>WI</th>\n      <td>5.8</td>\n      <td>2655.5</td>\n      <td>4615.5</td>\n      <td>2.4</td>\n      <td>516.9</td>\n      <td>65.5</td>\n      <td>2.2</td>\n      <td>545.1</td>\n      <td>62.2</td>\n    </tr>\n    <tr>\n      <th>WV</th>\n      <td>7.2</td>\n      <td>1758.1</td>\n      <td>5957.2</td>\n      <td>1.7</td>\n      <td>473.4</td>\n      <td>25.3</td>\n      <td>2.1</td>\n      <td>481.7</td>\n      <td>24.1</td>\n    </tr>\n    <tr>\n      <th>WY</th>\n      <td>2.8</td>\n      <td>2244.4</td>\n      <td>2744.7</td>\n      <td>NaN</td>\n      <td>535.0</td>\n      <td>NaN</td>\n      <td>NaN</td>\n      <td>540.0</td>\n      <td>NaN</td>\n    </tr>\n  </tbody>\n</table>\n</div>"
     },
     "execution_count": 52,
     "metadata": {},
     "output_type": "execute_result"
    }
   ],
   "source": [
    "(\n",
    "    college\n",
    "    .groupby('STABBR')\n",
    "    [['UGDS', 'SATVRMID', 'SATMTMID']]\n",
    "    .agg([max_deviation, 'mean', 'std'])\n",
    "    .round(1)\n",
    ")"
   ],
   "metadata": {
    "collapsed": false
   }
  },
  {
   "cell_type": "markdown",
   "source": [
    "args 와 kwargs 를 사용한 집계 함수 사용자 정의"
   ],
   "metadata": {
    "collapsed": false
   }
  },
  {
   "cell_type": "code",
   "execution_count": 53,
   "outputs": [],
   "source": [
    "def pct_between_1_3k(s):\n",
    "    return (\n",
    "        s.between(1_000, 3_000)\n",
    "        .mean()\n",
    "        * 100\n",
    "    )"
   ],
   "metadata": {
    "collapsed": false
   }
  },
  {
   "cell_type": "code",
   "execution_count": 56,
   "outputs": [
    {
     "data": {
      "text/plain": "STABBR  RELAFFIL\nAK      0           14.3\n        1            0.0\nAL      0           23.6\n        1           33.3\nAR      0           27.9\n                    ... \nWI      0           13.8\n        1           36.0\nWV      0           24.6\n        1           37.5\nWY      0           54.5\nName: UGDS, Length: 112, dtype: float64"
     },
     "execution_count": 56,
     "metadata": {},
     "output_type": "execute_result"
    }
   ],
   "source": [
    "(\n",
    "    college\n",
    "    .groupby(['STABBR', 'RELAFFIL'])\n",
    "    ['UGDS']\n",
    "    .agg(pct_between_1_3k)\n",
    "    .round(1)\n",
    ")"
   ],
   "metadata": {
    "collapsed": false
   }
  },
  {
   "cell_type": "code",
   "execution_count": 57,
   "outputs": [],
   "source": [
    "def pct_between(s, low, high):\n",
    "    return s.between(low, high).mean() * 100"
   ],
   "metadata": {
    "collapsed": false
   }
  },
  {
   "cell_type": "code",
   "execution_count": 58,
   "outputs": [
    {
     "data": {
      "text/plain": "STABBR  RELAFFIL\nAK      0           42.9\n        1            0.0\nAL      0           45.8\n        1           37.5\nAR      0           39.7\n                    ... \nWI      0           31.0\n        1           44.0\nWV      0           29.2\n        1           37.5\nWY      0           72.7\nName: UGDS, Length: 112, dtype: float64"
     },
     "execution_count": 58,
     "metadata": {},
     "output_type": "execute_result"
    }
   ],
   "source": [
    "(\n",
    "    college\n",
    "    .groupby(['STABBR', 'RELAFFIL'])\n",
    "    ['UGDS']\n",
    "    .agg(pct_between, 1_000, 10_000)\n",
    "    .round(1)\n",
    ")"
   ],
   "metadata": {
    "collapsed": false
   }
  },
  {
   "cell_type": "code",
   "execution_count": 59,
   "outputs": [
    {
     "data": {
      "text/plain": "STABBR  RELAFFIL\nAK      0           42.9\n        1            0.0\nAL      0           45.8\n        1           37.5\nAR      0           39.7\n                    ... \nWI      0           31.0\n        1           44.0\nWV      0           29.2\n        1           37.5\nWY      0           72.7\nName: UGDS, Length: 112, dtype: float64"
     },
     "execution_count": 59,
     "metadata": {},
     "output_type": "execute_result"
    }
   ],
   "source": [
    "(\n",
    "    college\n",
    "    .groupby(['STABBR', 'RELAFFIL'])\n",
    "    ['UGDS']\n",
    "    .agg(pct_between, high=10_000, low=1_000)\n",
    "    .round(1)\n",
    ")"
   ],
   "metadata": {
    "collapsed": false
   }
  },
  {
   "cell_type": "code",
   "execution_count": 60,
   "outputs": [],
   "source": [
    "def between_n_m(n, m):\n",
    "    def wrapper(ser):\n",
    "        return pct_between(ser, n, m)\n",
    "    wrapper.__name__ = f'between_{n}_{m}'\n",
    "    return wrapper"
   ],
   "metadata": {
    "collapsed": false
   }
  },
  {
   "cell_type": "code",
   "execution_count": 63,
   "outputs": [
    {
     "data": {
      "text/plain": "                 between_1000_10000      max    mean\nSTABBR RELAFFIL                                     \nAK     0                       42.9  12865.0  3508.9\n       1                        0.0    275.0   123.3\nAL     0                       45.8  29851.0  3248.8\n       1                       37.5   3033.0   979.7\nAR     0                       39.7  21405.0  1793.7\n...                             ...      ...     ...\nWI     0                       31.0  29302.0  2879.1\n       1                       44.0   8212.0  1716.2\nWV     0                       29.2  44924.0  1873.9\n       1                       37.5   1375.0   716.4\nWY     0                       72.7   9910.0  2244.4\n\n[112 rows x 3 columns]",
      "text/html": "<div>\n<style scoped>\n    .dataframe tbody tr th:only-of-type {\n        vertical-align: middle;\n    }\n\n    .dataframe tbody tr th {\n        vertical-align: top;\n    }\n\n    .dataframe thead th {\n        text-align: right;\n    }\n</style>\n<table border=\"1\" class=\"dataframe\">\n  <thead>\n    <tr style=\"text-align: right;\">\n      <th></th>\n      <th></th>\n      <th>between_1000_10000</th>\n      <th>max</th>\n      <th>mean</th>\n    </tr>\n    <tr>\n      <th>STABBR</th>\n      <th>RELAFFIL</th>\n      <th></th>\n      <th></th>\n      <th></th>\n    </tr>\n  </thead>\n  <tbody>\n    <tr>\n      <th rowspan=\"2\" valign=\"top\">AK</th>\n      <th>0</th>\n      <td>42.9</td>\n      <td>12865.0</td>\n      <td>3508.9</td>\n    </tr>\n    <tr>\n      <th>1</th>\n      <td>0.0</td>\n      <td>275.0</td>\n      <td>123.3</td>\n    </tr>\n    <tr>\n      <th rowspan=\"2\" valign=\"top\">AL</th>\n      <th>0</th>\n      <td>45.8</td>\n      <td>29851.0</td>\n      <td>3248.8</td>\n    </tr>\n    <tr>\n      <th>1</th>\n      <td>37.5</td>\n      <td>3033.0</td>\n      <td>979.7</td>\n    </tr>\n    <tr>\n      <th>AR</th>\n      <th>0</th>\n      <td>39.7</td>\n      <td>21405.0</td>\n      <td>1793.7</td>\n    </tr>\n    <tr>\n      <th>...</th>\n      <th>...</th>\n      <td>...</td>\n      <td>...</td>\n      <td>...</td>\n    </tr>\n    <tr>\n      <th rowspan=\"2\" valign=\"top\">WI</th>\n      <th>0</th>\n      <td>31.0</td>\n      <td>29302.0</td>\n      <td>2879.1</td>\n    </tr>\n    <tr>\n      <th>1</th>\n      <td>44.0</td>\n      <td>8212.0</td>\n      <td>1716.2</td>\n    </tr>\n    <tr>\n      <th rowspan=\"2\" valign=\"top\">WV</th>\n      <th>0</th>\n      <td>29.2</td>\n      <td>44924.0</td>\n      <td>1873.9</td>\n    </tr>\n    <tr>\n      <th>1</th>\n      <td>37.5</td>\n      <td>1375.0</td>\n      <td>716.4</td>\n    </tr>\n    <tr>\n      <th>WY</th>\n      <th>0</th>\n      <td>72.7</td>\n      <td>9910.0</td>\n      <td>2244.4</td>\n    </tr>\n  </tbody>\n</table>\n<p>112 rows × 3 columns</p>\n</div>"
     },
     "execution_count": 63,
     "metadata": {},
     "output_type": "execute_result"
    }
   ],
   "source": [
    "(\n",
    "    college\n",
    "    .groupby(['STABBR', 'RELAFFIL'])\n",
    "    ['UGDS']\n",
    "    .agg([between_n_m(1_000, 10_000), 'max', 'mean'])\n",
    "    .round(1)\n",
    ")"
   ],
   "metadata": {
    "collapsed": false
   }
  },
  {
   "cell_type": "markdown",
   "source": [
    "groupby 객체 검사"
   ],
   "metadata": {
    "collapsed": false
   }
  },
  {
   "cell_type": "code",
   "execution_count": 64,
   "outputs": [],
   "source": [
    "college = pd.read_csv('data/college.csv')"
   ],
   "metadata": {
    "collapsed": false
   }
  },
  {
   "cell_type": "code",
   "execution_count": 65,
   "outputs": [],
   "source": [
    "grouped = college.groupby(['STABBR', 'RELAFFIL'])"
   ],
   "metadata": {
    "collapsed": false
   }
  },
  {
   "cell_type": "code",
   "execution_count": 66,
   "outputs": [
    {
     "data": {
      "text/plain": "pandas.core.groupby.generic.DataFrameGroupBy"
     },
     "execution_count": 66,
     "metadata": {},
     "output_type": "execute_result"
    }
   ],
   "source": [
    "type(grouped)"
   ],
   "metadata": {
    "collapsed": false
   }
  },
  {
   "cell_type": "code",
   "execution_count": 67,
   "outputs": [
    {
     "name": "stdout",
     "output_type": "stream",
     "text": [
      "['CITY', 'CURROPER', 'DISTANCEONLY', 'GRAD_DEBT_MDN_SUPP', 'HBCU', 'INSTNM', 'MD_EARN_WNE_P10', 'MENONLY', 'PCTFLOAN', 'PCTPELL', 'PPTUG_EF', 'RELAFFIL', 'SATMTMID', 'SATVRMID', 'STABBR', 'UG25ABV', 'UGDS', 'UGDS_2MOR', 'UGDS_AIAN', 'UGDS_ASIAN', 'UGDS_BLACK', 'UGDS_HISP', 'UGDS_NHPI', 'UGDS_NRA', 'UGDS_UNKN', 'UGDS_WHITE', 'WOMENONLY', 'agg', 'aggregate', 'all', 'any', 'apply', 'backfill', 'bfill', 'boxplot', 'corr', 'corrwith', 'count', 'cov', 'cumcount', 'cummax', 'cummin', 'cumprod', 'cumsum', 'describe', 'diff', 'dtypes', 'ewm', 'expanding', 'ffill', 'fillna', 'filter', 'first', 'get_group', 'groups', 'head', 'hist', 'idxmax', 'idxmin', 'indices', 'last', 'mad', 'max', 'mean', 'median', 'min', 'ndim', 'ngroup', 'ngroups', 'nth', 'nunique', 'ohlc', 'pad', 'pct_change', 'pipe', 'plot', 'prod', 'quantile', 'rank', 'resample', 'rolling', 'sample', 'sem', 'shift', 'size', 'skew', 'std', 'sum', 'tail', 'take', 'transform', 'tshift', 'value_counts', 'var']\n"
     ]
    }
   ],
   "source": [
    "print([attr for attr in dir(grouped) if not attr.startswith('_')])"
   ],
   "metadata": {
    "collapsed": false
   }
  },
  {
   "cell_type": "code",
   "execution_count": 68,
   "outputs": [
    {
     "data": {
      "text/plain": "112"
     },
     "execution_count": 68,
     "metadata": {},
     "output_type": "execute_result"
    }
   ],
   "source": [
    "grouped.ngroups"
   ],
   "metadata": {
    "collapsed": false
   }
  },
  {
   "cell_type": "code",
   "execution_count": 69,
   "outputs": [],
   "source": [
    "groups = list(grouped.groups)"
   ],
   "metadata": {
    "collapsed": false
   }
  },
  {
   "cell_type": "code",
   "execution_count": 71,
   "outputs": [
    {
     "data": {
      "text/plain": "[('AK', 0),\n ('AK', 1),\n ('AL', 0),\n ('AL', 1),\n ('AR', 0),\n ('AR', 1),\n ('AS', 0),\n ('AZ', 0),\n ('AZ', 1),\n ('CA', 0),\n ('CA', 1),\n ('CO', 0),\n ('CO', 1),\n ('CT', 0),\n ('CT', 1),\n ('DC', 0),\n ('DC', 1),\n ('DE', 0),\n ('DE', 1),\n ('FL', 0),\n ('FL', 1),\n ('FM', 0),\n ('GA', 0),\n ('GA', 1),\n ('GU', 0),\n ('GU', 1),\n ('HI', 0),\n ('HI', 1),\n ('IA', 0),\n ('IA', 1),\n ('ID', 0),\n ('ID', 1),\n ('IL', 0),\n ('IL', 1),\n ('IN', 0),\n ('IN', 1),\n ('KS', 0),\n ('KS', 1),\n ('KY', 0),\n ('KY', 1),\n ('LA', 0),\n ('LA', 1),\n ('MA', 0),\n ('MA', 1),\n ('MD', 0),\n ('MD', 1),\n ('ME', 0),\n ('ME', 1),\n ('MH', 0),\n ('MI', 0),\n ('MI', 1),\n ('MN', 0),\n ('MN', 1),\n ('MO', 0),\n ('MO', 1),\n ('MP', 0),\n ('MS', 0),\n ('MS', 1),\n ('MT', 0),\n ('MT', 1),\n ('NC', 0),\n ('NC', 1),\n ('ND', 0),\n ('ND', 1),\n ('NE', 0),\n ('NE', 1),\n ('NH', 0),\n ('NH', 1),\n ('NJ', 0),\n ('NJ', 1),\n ('NM', 0),\n ('NM', 1),\n ('NV', 0),\n ('NV', 1),\n ('NY', 0),\n ('NY', 1),\n ('OH', 0),\n ('OH', 1),\n ('OK', 0),\n ('OK', 1),\n ('OR', 0),\n ('OR', 1),\n ('PA', 0),\n ('PA', 1),\n ('PR', 0),\n ('PR', 1),\n ('PW', 0),\n ('RI', 0),\n ('RI', 1),\n ('SC', 0),\n ('SC', 1),\n ('SD', 0),\n ('SD', 1),\n ('TN', 0),\n ('TN', 1),\n ('TX', 0),\n ('TX', 1),\n ('UT', 0),\n ('UT', 1),\n ('VA', 0),\n ('VA', 1),\n ('VI', 0),\n ('VI', 1),\n ('VT', 0),\n ('VT', 1),\n ('WA', 0),\n ('WA', 1),\n ('WI', 0),\n ('WI', 1),\n ('WV', 0),\n ('WV', 1),\n ('WY', 0)]"
     },
     "execution_count": 71,
     "metadata": {},
     "output_type": "execute_result"
    }
   ],
   "source": [
    "groups"
   ],
   "metadata": {
    "collapsed": false
   }
  },
  {
   "cell_type": "code",
   "execution_count": 72,
   "outputs": [
    {
     "data": {
      "text/plain": "                                         INSTNM             CITY STABBR  HBCU  \\\n712              The Baptist College of Florida       Graceville     FL   0.0   \n713                            Barry University            Miami     FL   0.0   \n714       Gooding Institute of Nurse Anesthesia      Panama City     FL   0.0   \n715                  Bethune-Cookman University    Daytona Beach     FL   1.0   \n724                  Johnson University Florida        Kissimmee     FL   0.0   \n...                                         ...              ...    ...   ...   \n7486    Strayer University-Coral Springs Campus    Coral Springs     FL   NaN   \n7487  Strayer University-Fort Lauderdale Campus  Fort Lauderdale     FL   NaN   \n7488          Strayer University-Miramar Campus          Miramar     FL   NaN   \n7489                   Strayer University-Doral            Miami     FL   NaN   \n7490                Strayer University-Brickell            Miami     FL   NaN   \n\n      MENONLY  WOMENONLY  RELAFFIL  SATVRMID  SATMTMID  DISTANCEONLY  ...  \\\n712       0.0        0.0         1     545.0     465.0           0.0  ...   \n713       0.0        0.0         1     470.0     462.0           0.0  ...   \n714       0.0        0.0         1       NaN       NaN           0.0  ...   \n715       0.0        0.0         1     405.0     395.0           0.0  ...   \n724       0.0        0.0         1     480.0     470.0           0.0  ...   \n...       ...        ...       ...       ...       ...           ...  ...   \n7486      NaN        NaN         1       NaN       NaN           NaN  ...   \n7487      NaN        NaN         1       NaN       NaN           NaN  ...   \n7488      NaN        NaN         1       NaN       NaN           NaN  ...   \n7489      NaN        NaN         1       NaN       NaN           NaN  ...   \n7490      NaN        NaN         1       NaN       NaN           NaN  ...   \n\n      UGDS_2MOR  UGDS_NRA  UGDS_UNKN  PPTUG_EF  CURROPER  PCTPELL  PCTFLOAN  \\\n712      0.0308    0.0000     0.0507    0.2291         1   0.5878    0.5602   \n713      0.0164    0.0741     0.0841    0.1518         1   0.5045    0.6733   \n714         NaN       NaN        NaN       NaN         0      NaN       NaN   \n715      0.0198    0.0205     0.0190    0.0523         1   0.7758    0.8867   \n724      0.0045    0.0045     0.0136    0.1636         1   0.6689    0.7384   \n...         ...       ...        ...       ...       ...      ...       ...   \n7486        NaN       NaN        NaN       NaN         0      NaN       NaN   \n7487        NaN       NaN        NaN       NaN         1      NaN       NaN   \n7488        NaN       NaN        NaN       NaN         1      NaN       NaN   \n7489        NaN       NaN        NaN       NaN         1      NaN       NaN   \n7490        NaN       NaN        NaN       NaN         1      NaN       NaN   \n\n      UG25ABV  MD_EARN_WNE_P10  GRAD_DEBT_MDN_SUPP  \n712    0.3531            30800               20052  \n713    0.4361            44100               28250  \n714       NaN              NaN   PrivacySuppressed  \n715    0.0647            29400               36250  \n724    0.2185            26300               20199  \n...       ...              ...                 ...  \n7486      NaN            49200             36173.5  \n7487      NaN            49200             36173.5  \n7488      NaN            49200             36173.5  \n7489      NaN            49200             36173.5  \n7490      NaN            49200             36173.5  \n\n[89 rows x 27 columns]",
      "text/html": "<div>\n<style scoped>\n    .dataframe tbody tr th:only-of-type {\n        vertical-align: middle;\n    }\n\n    .dataframe tbody tr th {\n        vertical-align: top;\n    }\n\n    .dataframe thead th {\n        text-align: right;\n    }\n</style>\n<table border=\"1\" class=\"dataframe\">\n  <thead>\n    <tr style=\"text-align: right;\">\n      <th></th>\n      <th>INSTNM</th>\n      <th>CITY</th>\n      <th>STABBR</th>\n      <th>HBCU</th>\n      <th>MENONLY</th>\n      <th>WOMENONLY</th>\n      <th>RELAFFIL</th>\n      <th>SATVRMID</th>\n      <th>SATMTMID</th>\n      <th>DISTANCEONLY</th>\n      <th>...</th>\n      <th>UGDS_2MOR</th>\n      <th>UGDS_NRA</th>\n      <th>UGDS_UNKN</th>\n      <th>PPTUG_EF</th>\n      <th>CURROPER</th>\n      <th>PCTPELL</th>\n      <th>PCTFLOAN</th>\n      <th>UG25ABV</th>\n      <th>MD_EARN_WNE_P10</th>\n      <th>GRAD_DEBT_MDN_SUPP</th>\n    </tr>\n  </thead>\n  <tbody>\n    <tr>\n      <th>712</th>\n      <td>The Baptist College of Florida</td>\n      <td>Graceville</td>\n      <td>FL</td>\n      <td>0.0</td>\n      <td>0.0</td>\n      <td>0.0</td>\n      <td>1</td>\n      <td>545.0</td>\n      <td>465.0</td>\n      <td>0.0</td>\n      <td>...</td>\n      <td>0.0308</td>\n      <td>0.0000</td>\n      <td>0.0507</td>\n      <td>0.2291</td>\n      <td>1</td>\n      <td>0.5878</td>\n      <td>0.5602</td>\n      <td>0.3531</td>\n      <td>30800</td>\n      <td>20052</td>\n    </tr>\n    <tr>\n      <th>713</th>\n      <td>Barry University</td>\n      <td>Miami</td>\n      <td>FL</td>\n      <td>0.0</td>\n      <td>0.0</td>\n      <td>0.0</td>\n      <td>1</td>\n      <td>470.0</td>\n      <td>462.0</td>\n      <td>0.0</td>\n      <td>...</td>\n      <td>0.0164</td>\n      <td>0.0741</td>\n      <td>0.0841</td>\n      <td>0.1518</td>\n      <td>1</td>\n      <td>0.5045</td>\n      <td>0.6733</td>\n      <td>0.4361</td>\n      <td>44100</td>\n      <td>28250</td>\n    </tr>\n    <tr>\n      <th>714</th>\n      <td>Gooding Institute of Nurse Anesthesia</td>\n      <td>Panama City</td>\n      <td>FL</td>\n      <td>0.0</td>\n      <td>0.0</td>\n      <td>0.0</td>\n      <td>1</td>\n      <td>NaN</td>\n      <td>NaN</td>\n      <td>0.0</td>\n      <td>...</td>\n      <td>NaN</td>\n      <td>NaN</td>\n      <td>NaN</td>\n      <td>NaN</td>\n      <td>0</td>\n      <td>NaN</td>\n      <td>NaN</td>\n      <td>NaN</td>\n      <td>NaN</td>\n      <td>PrivacySuppressed</td>\n    </tr>\n    <tr>\n      <th>715</th>\n      <td>Bethune-Cookman University</td>\n      <td>Daytona Beach</td>\n      <td>FL</td>\n      <td>1.0</td>\n      <td>0.0</td>\n      <td>0.0</td>\n      <td>1</td>\n      <td>405.0</td>\n      <td>395.0</td>\n      <td>0.0</td>\n      <td>...</td>\n      <td>0.0198</td>\n      <td>0.0205</td>\n      <td>0.0190</td>\n      <td>0.0523</td>\n      <td>1</td>\n      <td>0.7758</td>\n      <td>0.8867</td>\n      <td>0.0647</td>\n      <td>29400</td>\n      <td>36250</td>\n    </tr>\n    <tr>\n      <th>724</th>\n      <td>Johnson University Florida</td>\n      <td>Kissimmee</td>\n      <td>FL</td>\n      <td>0.0</td>\n      <td>0.0</td>\n      <td>0.0</td>\n      <td>1</td>\n      <td>480.0</td>\n      <td>470.0</td>\n      <td>0.0</td>\n      <td>...</td>\n      <td>0.0045</td>\n      <td>0.0045</td>\n      <td>0.0136</td>\n      <td>0.1636</td>\n      <td>1</td>\n      <td>0.6689</td>\n      <td>0.7384</td>\n      <td>0.2185</td>\n      <td>26300</td>\n      <td>20199</td>\n    </tr>\n    <tr>\n      <th>...</th>\n      <td>...</td>\n      <td>...</td>\n      <td>...</td>\n      <td>...</td>\n      <td>...</td>\n      <td>...</td>\n      <td>...</td>\n      <td>...</td>\n      <td>...</td>\n      <td>...</td>\n      <td>...</td>\n      <td>...</td>\n      <td>...</td>\n      <td>...</td>\n      <td>...</td>\n      <td>...</td>\n      <td>...</td>\n      <td>...</td>\n      <td>...</td>\n      <td>...</td>\n      <td>...</td>\n    </tr>\n    <tr>\n      <th>7486</th>\n      <td>Strayer University-Coral Springs Campus</td>\n      <td>Coral Springs</td>\n      <td>FL</td>\n      <td>NaN</td>\n      <td>NaN</td>\n      <td>NaN</td>\n      <td>1</td>\n      <td>NaN</td>\n      <td>NaN</td>\n      <td>NaN</td>\n      <td>...</td>\n      <td>NaN</td>\n      <td>NaN</td>\n      <td>NaN</td>\n      <td>NaN</td>\n      <td>0</td>\n      <td>NaN</td>\n      <td>NaN</td>\n      <td>NaN</td>\n      <td>49200</td>\n      <td>36173.5</td>\n    </tr>\n    <tr>\n      <th>7487</th>\n      <td>Strayer University-Fort Lauderdale Campus</td>\n      <td>Fort Lauderdale</td>\n      <td>FL</td>\n      <td>NaN</td>\n      <td>NaN</td>\n      <td>NaN</td>\n      <td>1</td>\n      <td>NaN</td>\n      <td>NaN</td>\n      <td>NaN</td>\n      <td>...</td>\n      <td>NaN</td>\n      <td>NaN</td>\n      <td>NaN</td>\n      <td>NaN</td>\n      <td>1</td>\n      <td>NaN</td>\n      <td>NaN</td>\n      <td>NaN</td>\n      <td>49200</td>\n      <td>36173.5</td>\n    </tr>\n    <tr>\n      <th>7488</th>\n      <td>Strayer University-Miramar Campus</td>\n      <td>Miramar</td>\n      <td>FL</td>\n      <td>NaN</td>\n      <td>NaN</td>\n      <td>NaN</td>\n      <td>1</td>\n      <td>NaN</td>\n      <td>NaN</td>\n      <td>NaN</td>\n      <td>...</td>\n      <td>NaN</td>\n      <td>NaN</td>\n      <td>NaN</td>\n      <td>NaN</td>\n      <td>1</td>\n      <td>NaN</td>\n      <td>NaN</td>\n      <td>NaN</td>\n      <td>49200</td>\n      <td>36173.5</td>\n    </tr>\n    <tr>\n      <th>7489</th>\n      <td>Strayer University-Doral</td>\n      <td>Miami</td>\n      <td>FL</td>\n      <td>NaN</td>\n      <td>NaN</td>\n      <td>NaN</td>\n      <td>1</td>\n      <td>NaN</td>\n      <td>NaN</td>\n      <td>NaN</td>\n      <td>...</td>\n      <td>NaN</td>\n      <td>NaN</td>\n      <td>NaN</td>\n      <td>NaN</td>\n      <td>1</td>\n      <td>NaN</td>\n      <td>NaN</td>\n      <td>NaN</td>\n      <td>49200</td>\n      <td>36173.5</td>\n    </tr>\n    <tr>\n      <th>7490</th>\n      <td>Strayer University-Brickell</td>\n      <td>Miami</td>\n      <td>FL</td>\n      <td>NaN</td>\n      <td>NaN</td>\n      <td>NaN</td>\n      <td>1</td>\n      <td>NaN</td>\n      <td>NaN</td>\n      <td>NaN</td>\n      <td>...</td>\n      <td>NaN</td>\n      <td>NaN</td>\n      <td>NaN</td>\n      <td>NaN</td>\n      <td>1</td>\n      <td>NaN</td>\n      <td>NaN</td>\n      <td>NaN</td>\n      <td>49200</td>\n      <td>36173.5</td>\n    </tr>\n  </tbody>\n</table>\n<p>89 rows × 27 columns</p>\n</div>"
     },
     "execution_count": 72,
     "metadata": {},
     "output_type": "execute_result"
    }
   ],
   "source": [
    "grouped.get_group(('FL', 1))"
   ],
   "metadata": {
    "collapsed": false
   }
  },
  {
   "cell_type": "code",
   "execution_count": 73,
   "outputs": [],
   "source": [
    "from IPython.display import display"
   ],
   "metadata": {
    "collapsed": false
   }
  },
  {
   "cell_type": "code",
   "execution_count": 75,
   "outputs": [],
   "source": [
    "# for name, group in grouped:\n",
    "#     print(name)\n",
    "#     display(group.head(3))"
   ],
   "metadata": {
    "collapsed": false
   }
  },
  {
   "cell_type": "code",
   "execution_count": 76,
   "outputs": [
    {
     "name": "stdout",
     "output_type": "stream",
     "text": [
      "('AK', 0)\n",
      "                                      INSTNM       CITY STABBR  HBCU  MENONLY  \\\n",
      "60            University of Alaska Anchorage  Anchorage     AK   0.0      0.0   \n",
      "62            University of Alaska Fairbanks  Fairbanks     AK   0.0      0.0   \n",
      "63            University of Alaska Southeast     Juneau     AK   0.0      0.0   \n",
      "65    AVTEC-Alaska's Institute of Technology     Seward     AK   0.0      0.0   \n",
      "66                 Charter College-Anchorage  Anchorage     AK   0.0      0.0   \n",
      "67                     Alaska Career College  Anchorage     AK   0.0      0.0   \n",
      "5171                       Ilisagvik College     Barrow     AK   0.0      0.0   \n",
      "\n",
      "      WOMENONLY  RELAFFIL  SATVRMID  SATMTMID  DISTANCEONLY  ...  UGDS_2MOR  \\\n",
      "60          0.0         0       NaN       NaN           0.0  ...     0.0980   \n",
      "62          0.0         0       NaN       NaN           0.0  ...     0.0401   \n",
      "63          0.0         0       NaN       NaN           0.0  ...     0.0686   \n",
      "65          0.0         0       NaN       NaN           0.0  ...     0.0529   \n",
      "66          0.0         0       NaN       NaN           0.0  ...     0.0436   \n",
      "67          0.0         0       NaN       NaN           0.0  ...     0.0334   \n",
      "5171        0.0         0       NaN       NaN           0.0  ...     0.0000   \n",
      "\n",
      "      UGDS_NRA  UGDS_UNKN  PPTUG_EF  CURROPER  PCTPELL  PCTFLOAN  UG25ABV  \\\n",
      "60      0.0181     0.0457    0.4539         1   0.2385    0.2647   0.4386   \n",
      "62      0.0110     0.3060    0.3887         1   0.2263    0.2550   0.4519   \n",
      "63      0.0049     0.2241    0.5112         1   0.1769    0.1996   0.5550   \n",
      "65      0.0000     0.1395    0.6817         1   0.0737    0.0664   0.7127   \n",
      "66      0.0000     0.0393    0.0000         1   0.8307    0.7503   0.5472   \n",
      "67      0.0000     0.0104    0.0000         1   0.7078    0.7860   0.5612   \n",
      "5171    0.0183     0.0000    0.6239         1   0.1323    0.0000   0.6498   \n",
      "\n",
      "      MD_EARN_WNE_P10  GRAD_DEBT_MDN_SUPP  \n",
      "60              42500             19449.5  \n",
      "62              36200               19355  \n",
      "63              37400               16875  \n",
      "65              33500   PrivacySuppressed  \n",
      "66              39200               13875  \n",
      "67              28700                8994  \n",
      "5171            24900   PrivacySuppressed  \n",
      "\n",
      "[7 rows x 27 columns]\n"
     ]
    }
   ],
   "source": [
    "for name, group in grouped:\n",
    "    print(name)\n",
    "    print(group)\n",
    "    break"
   ],
   "metadata": {
    "collapsed": false
   }
  },
  {
   "cell_type": "code",
   "execution_count": 79,
   "outputs": [
    {
     "data": {
      "text/plain": "                                                INSTNM         CITY STABBR  \\\n0                             Alabama A & M University       Normal     AL   \n1                  University of Alabama at Birmingham   Birmingham     AL   \n2                                   Amridge University   Montgomery     AL   \n3                  University of Alabama in Huntsville   Huntsville     AL   \n4                             Alabama State University   Montgomery     AL   \n...                                                ...          ...    ...   \n7366              Montpelier Center - Closed July 2013   Montpelier     VT   \n7367                                New England Center  Brattleboro     VT   \n7404  University of the Virgin Islands-Albert A. Sheen    St. Croix     VI   \n7419                 Computer Career Center-Las Cruces   Las Cruces     NM   \n7424                      Rob Roy Academy - Woonsocket   Woonsocket     RI   \n\n      HBCU  MENONLY  WOMENONLY  RELAFFIL  SATVRMID  SATMTMID  DISTANCEONLY  \\\n0      1.0      0.0        0.0         0     424.0     420.0           0.0   \n1      0.0      0.0        0.0         0     570.0     565.0           0.0   \n2      0.0      0.0        0.0         1       NaN       NaN           1.0   \n3      0.0      0.0        0.0         0     595.0     590.0           0.0   \n4      1.0      0.0        0.0         0     425.0     430.0           0.0   \n...    ...      ...        ...       ...       ...       ...           ...   \n7366   NaN      NaN        NaN         1       NaN       NaN           NaN   \n7367   NaN      NaN        NaN         1       NaN       NaN           NaN   \n7404   NaN      NaN        NaN         1       NaN       NaN           NaN   \n7419   NaN      NaN        NaN         1       NaN       NaN           NaN   \n7424   NaN      NaN        NaN         1       NaN       NaN           NaN   \n\n      ...  UGDS_2MOR  UGDS_NRA  UGDS_UNKN  PPTUG_EF  CURROPER  PCTPELL  \\\n0     ...     0.0000    0.0059     0.0138    0.0656         1   0.7356   \n1     ...     0.0368    0.0179     0.0100    0.2607         1   0.3460   \n2     ...     0.0000    0.0000     0.2715    0.4536         1   0.6801   \n3     ...     0.0172    0.0332     0.0350    0.2146         1   0.3072   \n4     ...     0.0098    0.0243     0.0137    0.0892         1   0.7347   \n...   ...        ...       ...        ...       ...       ...      ...   \n7366  ...        NaN       NaN        NaN       NaN         0      NaN   \n7367  ...        NaN       NaN        NaN       NaN         1      NaN   \n7404  ...        NaN       NaN        NaN       NaN         1      NaN   \n7419  ...        NaN       NaN        NaN       NaN         1      NaN   \n7424  ...        NaN       NaN        NaN       NaN         1      NaN   \n\n      PCTFLOAN  UG25ABV  MD_EARN_WNE_P10  GRAD_DEBT_MDN_SUPP  \n0       0.8284   0.1049            30300               33888  \n1       0.5214   0.2422            39700             21941.5  \n2       0.7795   0.8540            40100               23370  \n3       0.4596   0.2640            45500               24097  \n4       0.7554   0.1270            26600             33118.5  \n...        ...      ...              ...                 ...  \n7366       NaN      NaN            39600               18750  \n7367       NaN      NaN            39600               18750  \n7404       NaN      NaN            31800               15150  \n7419       NaN      NaN            21300               14250  \n7424       NaN      NaN            17400                7741  \n\n[510 rows x 27 columns]",
      "text/html": "<div>\n<style scoped>\n    .dataframe tbody tr th:only-of-type {\n        vertical-align: middle;\n    }\n\n    .dataframe tbody tr th {\n        vertical-align: top;\n    }\n\n    .dataframe thead th {\n        text-align: right;\n    }\n</style>\n<table border=\"1\" class=\"dataframe\">\n  <thead>\n    <tr style=\"text-align: right;\">\n      <th></th>\n      <th>INSTNM</th>\n      <th>CITY</th>\n      <th>STABBR</th>\n      <th>HBCU</th>\n      <th>MENONLY</th>\n      <th>WOMENONLY</th>\n      <th>RELAFFIL</th>\n      <th>SATVRMID</th>\n      <th>SATMTMID</th>\n      <th>DISTANCEONLY</th>\n      <th>...</th>\n      <th>UGDS_2MOR</th>\n      <th>UGDS_NRA</th>\n      <th>UGDS_UNKN</th>\n      <th>PPTUG_EF</th>\n      <th>CURROPER</th>\n      <th>PCTPELL</th>\n      <th>PCTFLOAN</th>\n      <th>UG25ABV</th>\n      <th>MD_EARN_WNE_P10</th>\n      <th>GRAD_DEBT_MDN_SUPP</th>\n    </tr>\n  </thead>\n  <tbody>\n    <tr>\n      <th>0</th>\n      <td>Alabama A &amp; M University</td>\n      <td>Normal</td>\n      <td>AL</td>\n      <td>1.0</td>\n      <td>0.0</td>\n      <td>0.0</td>\n      <td>0</td>\n      <td>424.0</td>\n      <td>420.0</td>\n      <td>0.0</td>\n      <td>...</td>\n      <td>0.0000</td>\n      <td>0.0059</td>\n      <td>0.0138</td>\n      <td>0.0656</td>\n      <td>1</td>\n      <td>0.7356</td>\n      <td>0.8284</td>\n      <td>0.1049</td>\n      <td>30300</td>\n      <td>33888</td>\n    </tr>\n    <tr>\n      <th>1</th>\n      <td>University of Alabama at Birmingham</td>\n      <td>Birmingham</td>\n      <td>AL</td>\n      <td>0.0</td>\n      <td>0.0</td>\n      <td>0.0</td>\n      <td>0</td>\n      <td>570.0</td>\n      <td>565.0</td>\n      <td>0.0</td>\n      <td>...</td>\n      <td>0.0368</td>\n      <td>0.0179</td>\n      <td>0.0100</td>\n      <td>0.2607</td>\n      <td>1</td>\n      <td>0.3460</td>\n      <td>0.5214</td>\n      <td>0.2422</td>\n      <td>39700</td>\n      <td>21941.5</td>\n    </tr>\n    <tr>\n      <th>2</th>\n      <td>Amridge University</td>\n      <td>Montgomery</td>\n      <td>AL</td>\n      <td>0.0</td>\n      <td>0.0</td>\n      <td>0.0</td>\n      <td>1</td>\n      <td>NaN</td>\n      <td>NaN</td>\n      <td>1.0</td>\n      <td>...</td>\n      <td>0.0000</td>\n      <td>0.0000</td>\n      <td>0.2715</td>\n      <td>0.4536</td>\n      <td>1</td>\n      <td>0.6801</td>\n      <td>0.7795</td>\n      <td>0.8540</td>\n      <td>40100</td>\n      <td>23370</td>\n    </tr>\n    <tr>\n      <th>3</th>\n      <td>University of Alabama in Huntsville</td>\n      <td>Huntsville</td>\n      <td>AL</td>\n      <td>0.0</td>\n      <td>0.0</td>\n      <td>0.0</td>\n      <td>0</td>\n      <td>595.0</td>\n      <td>590.0</td>\n      <td>0.0</td>\n      <td>...</td>\n      <td>0.0172</td>\n      <td>0.0332</td>\n      <td>0.0350</td>\n      <td>0.2146</td>\n      <td>1</td>\n      <td>0.3072</td>\n      <td>0.4596</td>\n      <td>0.2640</td>\n      <td>45500</td>\n      <td>24097</td>\n    </tr>\n    <tr>\n      <th>4</th>\n      <td>Alabama State University</td>\n      <td>Montgomery</td>\n      <td>AL</td>\n      <td>1.0</td>\n      <td>0.0</td>\n      <td>0.0</td>\n      <td>0</td>\n      <td>425.0</td>\n      <td>430.0</td>\n      <td>0.0</td>\n      <td>...</td>\n      <td>0.0098</td>\n      <td>0.0243</td>\n      <td>0.0137</td>\n      <td>0.0892</td>\n      <td>1</td>\n      <td>0.7347</td>\n      <td>0.7554</td>\n      <td>0.1270</td>\n      <td>26600</td>\n      <td>33118.5</td>\n    </tr>\n    <tr>\n      <th>...</th>\n      <td>...</td>\n      <td>...</td>\n      <td>...</td>\n      <td>...</td>\n      <td>...</td>\n      <td>...</td>\n      <td>...</td>\n      <td>...</td>\n      <td>...</td>\n      <td>...</td>\n      <td>...</td>\n      <td>...</td>\n      <td>...</td>\n      <td>...</td>\n      <td>...</td>\n      <td>...</td>\n      <td>...</td>\n      <td>...</td>\n      <td>...</td>\n      <td>...</td>\n      <td>...</td>\n    </tr>\n    <tr>\n      <th>7366</th>\n      <td>Montpelier Center - Closed July 2013</td>\n      <td>Montpelier</td>\n      <td>VT</td>\n      <td>NaN</td>\n      <td>NaN</td>\n      <td>NaN</td>\n      <td>1</td>\n      <td>NaN</td>\n      <td>NaN</td>\n      <td>NaN</td>\n      <td>...</td>\n      <td>NaN</td>\n      <td>NaN</td>\n      <td>NaN</td>\n      <td>NaN</td>\n      <td>0</td>\n      <td>NaN</td>\n      <td>NaN</td>\n      <td>NaN</td>\n      <td>39600</td>\n      <td>18750</td>\n    </tr>\n    <tr>\n      <th>7367</th>\n      <td>New England Center</td>\n      <td>Brattleboro</td>\n      <td>VT</td>\n      <td>NaN</td>\n      <td>NaN</td>\n      <td>NaN</td>\n      <td>1</td>\n      <td>NaN</td>\n      <td>NaN</td>\n      <td>NaN</td>\n      <td>...</td>\n      <td>NaN</td>\n      <td>NaN</td>\n      <td>NaN</td>\n      <td>NaN</td>\n      <td>1</td>\n      <td>NaN</td>\n      <td>NaN</td>\n      <td>NaN</td>\n      <td>39600</td>\n      <td>18750</td>\n    </tr>\n    <tr>\n      <th>7404</th>\n      <td>University of the Virgin Islands-Albert A. Sheen</td>\n      <td>St. Croix</td>\n      <td>VI</td>\n      <td>NaN</td>\n      <td>NaN</td>\n      <td>NaN</td>\n      <td>1</td>\n      <td>NaN</td>\n      <td>NaN</td>\n      <td>NaN</td>\n      <td>...</td>\n      <td>NaN</td>\n      <td>NaN</td>\n      <td>NaN</td>\n      <td>NaN</td>\n      <td>1</td>\n      <td>NaN</td>\n      <td>NaN</td>\n      <td>NaN</td>\n      <td>31800</td>\n      <td>15150</td>\n    </tr>\n    <tr>\n      <th>7419</th>\n      <td>Computer Career Center-Las Cruces</td>\n      <td>Las Cruces</td>\n      <td>NM</td>\n      <td>NaN</td>\n      <td>NaN</td>\n      <td>NaN</td>\n      <td>1</td>\n      <td>NaN</td>\n      <td>NaN</td>\n      <td>NaN</td>\n      <td>...</td>\n      <td>NaN</td>\n      <td>NaN</td>\n      <td>NaN</td>\n      <td>NaN</td>\n      <td>1</td>\n      <td>NaN</td>\n      <td>NaN</td>\n      <td>NaN</td>\n      <td>21300</td>\n      <td>14250</td>\n    </tr>\n    <tr>\n      <th>7424</th>\n      <td>Rob Roy Academy - Woonsocket</td>\n      <td>Woonsocket</td>\n      <td>RI</td>\n      <td>NaN</td>\n      <td>NaN</td>\n      <td>NaN</td>\n      <td>1</td>\n      <td>NaN</td>\n      <td>NaN</td>\n      <td>NaN</td>\n      <td>...</td>\n      <td>NaN</td>\n      <td>NaN</td>\n      <td>NaN</td>\n      <td>NaN</td>\n      <td>1</td>\n      <td>NaN</td>\n      <td>NaN</td>\n      <td>NaN</td>\n      <td>17400</td>\n      <td>7741</td>\n    </tr>\n  </tbody>\n</table>\n<p>510 rows × 27 columns</p>\n</div>"
     },
     "execution_count": 79,
     "metadata": {},
     "output_type": "execute_result"
    }
   ],
   "source": [
    "grouped.head()"
   ],
   "metadata": {
    "collapsed": false
   }
  },
  {
   "cell_type": "code",
   "execution_count": 80,
   "outputs": [
    {
     "data": {
      "text/plain": "                                                     INSTNM  \\\nSTABBR RELAFFIL                                               \nAK     0                     University of Alaska Fairbanks   \n       0                                  Ilisagvik College   \n       1                          Alaska Pacific University   \n       1                           Alaska Christian College   \nAL     0                University of Alabama at Birmingham   \n...                                                     ...   \nWV     0         BridgeValley Community & Technical College   \n       1                          Appalachian Bible College   \n       1         West Virginia Business College-Nutter Fort   \nWY     0                            Central Wyoming College   \n       0                            CollegeAmerica-Cheyenne   \n\n                              CITY  HBCU  MENONLY  WOMENONLY  SATVRMID  \\\nSTABBR RELAFFIL                                                          \nAK     0                 Fairbanks   0.0      0.0        0.0       NaN   \n       0                    Barrow   0.0      0.0        0.0       NaN   \n       1                 Anchorage   0.0      0.0        0.0     555.0   \n       1                  Soldotna   0.0      0.0        0.0       NaN   \nAL     0                Birmingham   0.0      0.0        0.0     570.0   \n...                            ...   ...      ...        ...       ...   \nWV     0         South  Charleston   0.0      0.0        0.0       NaN   \n       1                Mount Hope   0.0      0.0        0.0     514.0   \n       1               Nutter Fort   NaN      NaN        NaN       NaN   \nWY     0                  Riverton   0.0      0.0        0.0       NaN   \n       0                  Cheyenne   0.0      0.0        0.0       NaN   \n\n                 SATMTMID  DISTANCEONLY     UGDS  UGDS_WHITE  ...  UGDS_2MOR  \\\nSTABBR RELAFFIL                                               ...              \nAK     0              NaN           0.0   5536.0      0.4259  ...     0.0401   \n       0              NaN           0.0    109.0      0.1376  ...     0.0000   \n       1            503.0           0.0    275.0      0.5309  ...     0.0945   \n       1              NaN           0.0     68.0      0.0588  ...     0.0147   \nAL     0            565.0           0.0  11383.0      0.5922  ...     0.0368   \n...                   ...           ...      ...         ...  ...        ...   \nWV     0              NaN           0.0   1887.0      0.8967  ...     0.0000   \n       1            487.0           0.0    196.0      0.9643  ...     0.0000   \n       1              NaN           NaN      NaN         NaN  ...        NaN   \nWY     0              NaN           0.0   1099.0      0.7097  ...     0.0300   \n       0              NaN           0.0     60.0      0.6500  ...     0.0000   \n\n                 UGDS_NRA  UGDS_UNKN  PPTUG_EF  CURROPER  PCTPELL  PCTFLOAN  \\\nSTABBR RELAFFIL                                                               \nAK     0           0.0110     0.3060    0.3887         1   0.2263    0.2550   \n       0           0.0183     0.0000    0.6239         1   0.1323    0.0000   \n       1           0.0000     0.0873    0.3745         1   0.3152    0.5297   \n       1           0.0000     0.1324    0.0735         1   0.8868    0.6792   \nAL     0           0.0179     0.0100    0.2607         1   0.3460    0.5214   \n...                   ...        ...       ...       ...      ...       ...   \nWV     0           0.0000     0.0016    0.3890         1      NaN       NaN   \n       1           0.0051     0.0000    0.0612         1   0.4388    0.2770   \n       1              NaN        NaN       NaN         1      NaN       NaN   \nWY     0           0.0073     0.0173    0.4377         1   0.1700    0.0967   \n       0           0.0000     0.0833    0.0000         1   0.8519    0.8642   \n\n                 UG25ABV  MD_EARN_WNE_P10  GRAD_DEBT_MDN_SUPP  \nSTABBR RELAFFIL                                                \nAK     0          0.4519            36200               19355  \n       0          0.6498            24900   PrivacySuppressed  \n       1          0.4910            47000               23250  \n       1          0.2264              NaN   PrivacySuppressed  \nAL     0          0.2422            39700             21941.5  \n...                  ...              ...                 ...  \nWV     0             NaN              NaN              9429.5  \n       1          0.0899            28700                9300  \n       1             NaN            16700               19258  \nWY     0          0.3992            25200                8757  \n       0          0.7273            25600             27235.5  \n\n[213 rows x 25 columns]",
      "text/html": "<div>\n<style scoped>\n    .dataframe tbody tr th:only-of-type {\n        vertical-align: middle;\n    }\n\n    .dataframe tbody tr th {\n        vertical-align: top;\n    }\n\n    .dataframe thead th {\n        text-align: right;\n    }\n</style>\n<table border=\"1\" class=\"dataframe\">\n  <thead>\n    <tr style=\"text-align: right;\">\n      <th></th>\n      <th></th>\n      <th>INSTNM</th>\n      <th>CITY</th>\n      <th>HBCU</th>\n      <th>MENONLY</th>\n      <th>WOMENONLY</th>\n      <th>SATVRMID</th>\n      <th>SATMTMID</th>\n      <th>DISTANCEONLY</th>\n      <th>UGDS</th>\n      <th>UGDS_WHITE</th>\n      <th>...</th>\n      <th>UGDS_2MOR</th>\n      <th>UGDS_NRA</th>\n      <th>UGDS_UNKN</th>\n      <th>PPTUG_EF</th>\n      <th>CURROPER</th>\n      <th>PCTPELL</th>\n      <th>PCTFLOAN</th>\n      <th>UG25ABV</th>\n      <th>MD_EARN_WNE_P10</th>\n      <th>GRAD_DEBT_MDN_SUPP</th>\n    </tr>\n    <tr>\n      <th>STABBR</th>\n      <th>RELAFFIL</th>\n      <th></th>\n      <th></th>\n      <th></th>\n      <th></th>\n      <th></th>\n      <th></th>\n      <th></th>\n      <th></th>\n      <th></th>\n      <th></th>\n      <th></th>\n      <th></th>\n      <th></th>\n      <th></th>\n      <th></th>\n      <th></th>\n      <th></th>\n      <th></th>\n      <th></th>\n      <th></th>\n      <th></th>\n    </tr>\n  </thead>\n  <tbody>\n    <tr>\n      <th rowspan=\"4\" valign=\"top\">AK</th>\n      <th>0</th>\n      <td>University of Alaska Fairbanks</td>\n      <td>Fairbanks</td>\n      <td>0.0</td>\n      <td>0.0</td>\n      <td>0.0</td>\n      <td>NaN</td>\n      <td>NaN</td>\n      <td>0.0</td>\n      <td>5536.0</td>\n      <td>0.4259</td>\n      <td>...</td>\n      <td>0.0401</td>\n      <td>0.0110</td>\n      <td>0.3060</td>\n      <td>0.3887</td>\n      <td>1</td>\n      <td>0.2263</td>\n      <td>0.2550</td>\n      <td>0.4519</td>\n      <td>36200</td>\n      <td>19355</td>\n    </tr>\n    <tr>\n      <th>0</th>\n      <td>Ilisagvik College</td>\n      <td>Barrow</td>\n      <td>0.0</td>\n      <td>0.0</td>\n      <td>0.0</td>\n      <td>NaN</td>\n      <td>NaN</td>\n      <td>0.0</td>\n      <td>109.0</td>\n      <td>0.1376</td>\n      <td>...</td>\n      <td>0.0000</td>\n      <td>0.0183</td>\n      <td>0.0000</td>\n      <td>0.6239</td>\n      <td>1</td>\n      <td>0.1323</td>\n      <td>0.0000</td>\n      <td>0.6498</td>\n      <td>24900</td>\n      <td>PrivacySuppressed</td>\n    </tr>\n    <tr>\n      <th>1</th>\n      <td>Alaska Pacific University</td>\n      <td>Anchorage</td>\n      <td>0.0</td>\n      <td>0.0</td>\n      <td>0.0</td>\n      <td>555.0</td>\n      <td>503.0</td>\n      <td>0.0</td>\n      <td>275.0</td>\n      <td>0.5309</td>\n      <td>...</td>\n      <td>0.0945</td>\n      <td>0.0000</td>\n      <td>0.0873</td>\n      <td>0.3745</td>\n      <td>1</td>\n      <td>0.3152</td>\n      <td>0.5297</td>\n      <td>0.4910</td>\n      <td>47000</td>\n      <td>23250</td>\n    </tr>\n    <tr>\n      <th>1</th>\n      <td>Alaska Christian College</td>\n      <td>Soldotna</td>\n      <td>0.0</td>\n      <td>0.0</td>\n      <td>0.0</td>\n      <td>NaN</td>\n      <td>NaN</td>\n      <td>0.0</td>\n      <td>68.0</td>\n      <td>0.0588</td>\n      <td>...</td>\n      <td>0.0147</td>\n      <td>0.0000</td>\n      <td>0.1324</td>\n      <td>0.0735</td>\n      <td>1</td>\n      <td>0.8868</td>\n      <td>0.6792</td>\n      <td>0.2264</td>\n      <td>NaN</td>\n      <td>PrivacySuppressed</td>\n    </tr>\n    <tr>\n      <th>AL</th>\n      <th>0</th>\n      <td>University of Alabama at Birmingham</td>\n      <td>Birmingham</td>\n      <td>0.0</td>\n      <td>0.0</td>\n      <td>0.0</td>\n      <td>570.0</td>\n      <td>565.0</td>\n      <td>0.0</td>\n      <td>11383.0</td>\n      <td>0.5922</td>\n      <td>...</td>\n      <td>0.0368</td>\n      <td>0.0179</td>\n      <td>0.0100</td>\n      <td>0.2607</td>\n      <td>1</td>\n      <td>0.3460</td>\n      <td>0.5214</td>\n      <td>0.2422</td>\n      <td>39700</td>\n      <td>21941.5</td>\n    </tr>\n    <tr>\n      <th>...</th>\n      <th>...</th>\n      <td>...</td>\n      <td>...</td>\n      <td>...</td>\n      <td>...</td>\n      <td>...</td>\n      <td>...</td>\n      <td>...</td>\n      <td>...</td>\n      <td>...</td>\n      <td>...</td>\n      <td>...</td>\n      <td>...</td>\n      <td>...</td>\n      <td>...</td>\n      <td>...</td>\n      <td>...</td>\n      <td>...</td>\n      <td>...</td>\n      <td>...</td>\n      <td>...</td>\n      <td>...</td>\n    </tr>\n    <tr>\n      <th rowspan=\"3\" valign=\"top\">WV</th>\n      <th>0</th>\n      <td>BridgeValley Community &amp; Technical College</td>\n      <td>South  Charleston</td>\n      <td>0.0</td>\n      <td>0.0</td>\n      <td>0.0</td>\n      <td>NaN</td>\n      <td>NaN</td>\n      <td>0.0</td>\n      <td>1887.0</td>\n      <td>0.8967</td>\n      <td>...</td>\n      <td>0.0000</td>\n      <td>0.0000</td>\n      <td>0.0016</td>\n      <td>0.3890</td>\n      <td>1</td>\n      <td>NaN</td>\n      <td>NaN</td>\n      <td>NaN</td>\n      <td>NaN</td>\n      <td>9429.5</td>\n    </tr>\n    <tr>\n      <th>1</th>\n      <td>Appalachian Bible College</td>\n      <td>Mount Hope</td>\n      <td>0.0</td>\n      <td>0.0</td>\n      <td>0.0</td>\n      <td>514.0</td>\n      <td>487.0</td>\n      <td>0.0</td>\n      <td>196.0</td>\n      <td>0.9643</td>\n      <td>...</td>\n      <td>0.0000</td>\n      <td>0.0051</td>\n      <td>0.0000</td>\n      <td>0.0612</td>\n      <td>1</td>\n      <td>0.4388</td>\n      <td>0.2770</td>\n      <td>0.0899</td>\n      <td>28700</td>\n      <td>9300</td>\n    </tr>\n    <tr>\n      <th>1</th>\n      <td>West Virginia Business College-Nutter Fort</td>\n      <td>Nutter Fort</td>\n      <td>NaN</td>\n      <td>NaN</td>\n      <td>NaN</td>\n      <td>NaN</td>\n      <td>NaN</td>\n      <td>NaN</td>\n      <td>NaN</td>\n      <td>NaN</td>\n      <td>...</td>\n      <td>NaN</td>\n      <td>NaN</td>\n      <td>NaN</td>\n      <td>NaN</td>\n      <td>1</td>\n      <td>NaN</td>\n      <td>NaN</td>\n      <td>NaN</td>\n      <td>16700</td>\n      <td>19258</td>\n    </tr>\n    <tr>\n      <th rowspan=\"2\" valign=\"top\">WY</th>\n      <th>0</th>\n      <td>Central Wyoming College</td>\n      <td>Riverton</td>\n      <td>0.0</td>\n      <td>0.0</td>\n      <td>0.0</td>\n      <td>NaN</td>\n      <td>NaN</td>\n      <td>0.0</td>\n      <td>1099.0</td>\n      <td>0.7097</td>\n      <td>...</td>\n      <td>0.0300</td>\n      <td>0.0073</td>\n      <td>0.0173</td>\n      <td>0.4377</td>\n      <td>1</td>\n      <td>0.1700</td>\n      <td>0.0967</td>\n      <td>0.3992</td>\n      <td>25200</td>\n      <td>8757</td>\n    </tr>\n    <tr>\n      <th>0</th>\n      <td>CollegeAmerica-Cheyenne</td>\n      <td>Cheyenne</td>\n      <td>0.0</td>\n      <td>0.0</td>\n      <td>0.0</td>\n      <td>NaN</td>\n      <td>NaN</td>\n      <td>0.0</td>\n      <td>60.0</td>\n      <td>0.6500</td>\n      <td>...</td>\n      <td>0.0000</td>\n      <td>0.0000</td>\n      <td>0.0833</td>\n      <td>0.0000</td>\n      <td>1</td>\n      <td>0.8519</td>\n      <td>0.8642</td>\n      <td>0.7273</td>\n      <td>25600</td>\n      <td>27235.5</td>\n    </tr>\n  </tbody>\n</table>\n<p>213 rows × 25 columns</p>\n</div>"
     },
     "execution_count": 80,
     "metadata": {},
     "output_type": "execute_result"
    }
   ],
   "source": [
    "grouped.nth([1, -1])"
   ],
   "metadata": {
    "collapsed": false
   }
  },
  {
   "cell_type": "markdown",
   "source": [
    "소수 인종이 과반인 주를 필터링"
   ],
   "metadata": {
    "collapsed": false
   }
  },
  {
   "cell_type": "code",
   "execution_count": 81,
   "outputs": [],
   "source": [
    "college = pd.read_csv('data/college.csv', index_col='INSTNM')"
   ],
   "metadata": {
    "collapsed": false
   }
  },
  {
   "cell_type": "code",
   "execution_count": 87,
   "outputs": [
    {
     "data": {
      "text/plain": "                                                                CITY STABBR  \\\nINSTNM                                                                        \nAlabama A & M University                                      Normal     AL   \nUniversity of Alabama at Birmingham                       Birmingham     AL   \nAmridge University                                        Montgomery     AL   \nUniversity of Alabama in Huntsville                       Huntsville     AL   \nAlabama State University                                  Montgomery     AL   \n...                                                              ...    ...   \nSAE Institute of Technology  San Francisco                Emeryville     CA   \nRasmussen College - Overland Park                      Overland Park     KS   \nNational Personal Training Institute of Cleveland   Highland Heights     OH   \nBay Area Medical Academy - San Jose Satellite L...          San Jose     CA   \nExcel Learning Center-San Antonio South                  San Antonio     TX   \n\n                                                    HBCU  MENONLY  WOMENONLY  \\\nINSTNM                                                                         \nAlabama A & M University                             1.0      0.0        0.0   \nUniversity of Alabama at Birmingham                  0.0      0.0        0.0   \nAmridge University                                   0.0      0.0        0.0   \nUniversity of Alabama in Huntsville                  0.0      0.0        0.0   \nAlabama State University                             1.0      0.0        0.0   \n...                                                  ...      ...        ...   \nSAE Institute of Technology  San Francisco           NaN      NaN        NaN   \nRasmussen College - Overland Park                    NaN      NaN        NaN   \nNational Personal Training Institute of Cleveland    NaN      NaN        NaN   \nBay Area Medical Academy - San Jose Satellite L...   NaN      NaN        NaN   \nExcel Learning Center-San Antonio South              NaN      NaN        NaN   \n\n                                                    RELAFFIL  SATVRMID  \\\nINSTNM                                                                   \nAlabama A & M University                                   0     424.0   \nUniversity of Alabama at Birmingham                        0     570.0   \nAmridge University                                         1       NaN   \nUniversity of Alabama in Huntsville                        0     595.0   \nAlabama State University                                   0     425.0   \n...                                                      ...       ...   \nSAE Institute of Technology  San Francisco                 1       NaN   \nRasmussen College - Overland Park                          1       NaN   \nNational Personal Training Institute of Cleveland          1       NaN   \nBay Area Medical Academy - San Jose Satellite L...         1       NaN   \nExcel Learning Center-San Antonio South                    1       NaN   \n\n                                                    SATMTMID  DISTANCEONLY  \\\nINSTNM                                                                       \nAlabama A & M University                               420.0           0.0   \nUniversity of Alabama at Birmingham                    565.0           0.0   \nAmridge University                                       NaN           1.0   \nUniversity of Alabama in Huntsville                    590.0           0.0   \nAlabama State University                               430.0           0.0   \n...                                                      ...           ...   \nSAE Institute of Technology  San Francisco               NaN           NaN   \nRasmussen College - Overland Park                        NaN           NaN   \nNational Personal Training Institute of Cleveland        NaN           NaN   \nBay Area Medical Academy - San Jose Satellite L...       NaN           NaN   \nExcel Learning Center-San Antonio South                  NaN           NaN   \n\n                                                       UGDS  ...  UGDS_2MOR  \\\nINSTNM                                                       ...              \nAlabama A & M University                             4206.0  ...     0.0000   \nUniversity of Alabama at Birmingham                 11383.0  ...     0.0368   \nAmridge University                                    291.0  ...     0.0000   \nUniversity of Alabama in Huntsville                  5451.0  ...     0.0172   \nAlabama State University                             4811.0  ...     0.0098   \n...                                                     ...  ...        ...   \nSAE Institute of Technology  San Francisco              NaN  ...        NaN   \nRasmussen College - Overland Park                       NaN  ...        NaN   \nNational Personal Training Institute of Cleveland       NaN  ...        NaN   \nBay Area Medical Academy - San Jose Satellite L...      NaN  ...        NaN   \nExcel Learning Center-San Antonio South                 NaN  ...        NaN   \n\n                                                    UGDS_NRA  UGDS_UNKN  \\\nINSTNM                                                                    \nAlabama A & M University                              0.0059     0.0138   \nUniversity of Alabama at Birmingham                   0.0179     0.0100   \nAmridge University                                    0.0000     0.2715   \nUniversity of Alabama in Huntsville                   0.0332     0.0350   \nAlabama State University                              0.0243     0.0137   \n...                                                      ...        ...   \nSAE Institute of Technology  San Francisco               NaN        NaN   \nRasmussen College - Overland Park                        NaN        NaN   \nNational Personal Training Institute of Cleveland        NaN        NaN   \nBay Area Medical Academy - San Jose Satellite L...       NaN        NaN   \nExcel Learning Center-San Antonio South                  NaN        NaN   \n\n                                                    PPTUG_EF  CURROPER  \\\nINSTNM                                                                   \nAlabama A & M University                              0.0656         1   \nUniversity of Alabama at Birmingham                   0.2607         1   \nAmridge University                                    0.4536         1   \nUniversity of Alabama in Huntsville                   0.2146         1   \nAlabama State University                              0.0892         1   \n...                                                      ...       ...   \nSAE Institute of Technology  San Francisco               NaN         1   \nRasmussen College - Overland Park                        NaN         1   \nNational Personal Training Institute of Cleveland        NaN         1   \nBay Area Medical Academy - San Jose Satellite L...       NaN         1   \nExcel Learning Center-San Antonio South                  NaN         1   \n\n                                                    PCTPELL  PCTFLOAN  \\\nINSTNM                                                                  \nAlabama A & M University                             0.7356    0.8284   \nUniversity of Alabama at Birmingham                  0.3460    0.5214   \nAmridge University                                   0.6801    0.7795   \nUniversity of Alabama in Huntsville                  0.3072    0.4596   \nAlabama State University                             0.7347    0.7554   \n...                                                     ...       ...   \nSAE Institute of Technology  San Francisco              NaN       NaN   \nRasmussen College - Overland Park                       NaN       NaN   \nNational Personal Training Institute of Cleveland       NaN       NaN   \nBay Area Medical Academy - San Jose Satellite L...      NaN       NaN   \nExcel Learning Center-San Antonio South                 NaN       NaN   \n\n                                                    UG25ABV  MD_EARN_WNE_P10  \\\nINSTNM                                                                         \nAlabama A & M University                             0.1049            30300   \nUniversity of Alabama at Birmingham                  0.2422            39700   \nAmridge University                                   0.8540            40100   \nUniversity of Alabama in Huntsville                  0.2640            45500   \nAlabama State University                             0.1270            26600   \n...                                                     ...              ...   \nSAE Institute of Technology  San Francisco              NaN              NaN   \nRasmussen College - Overland Park                       NaN              NaN   \nNational Personal Training Institute of Cleveland       NaN              NaN   \nBay Area Medical Academy - San Jose Satellite L...      NaN              NaN   \nExcel Learning Center-San Antonio South                 NaN              NaN   \n\n                                                    GRAD_DEBT_MDN_SUPP  \nINSTNM                                                                  \nAlabama A & M University                                         33888  \nUniversity of Alabama at Birmingham                            21941.5  \nAmridge University                                               23370  \nUniversity of Alabama in Huntsville                              24097  \nAlabama State University                                       33118.5  \n...                                                                ...  \nSAE Institute of Technology  San Francisco                        9500  \nRasmussen College - Overland Park                                21163  \nNational Personal Training Institute of Cleveland                 6333  \nBay Area Medical Academy - San Jose Satellite L...   PrivacySuppressed  \nExcel Learning Center-San Antonio South                          12125  \n\n[7535 rows x 26 columns]",
      "text/html": "<div>\n<style scoped>\n    .dataframe tbody tr th:only-of-type {\n        vertical-align: middle;\n    }\n\n    .dataframe tbody tr th {\n        vertical-align: top;\n    }\n\n    .dataframe thead th {\n        text-align: right;\n    }\n</style>\n<table border=\"1\" class=\"dataframe\">\n  <thead>\n    <tr style=\"text-align: right;\">\n      <th></th>\n      <th>CITY</th>\n      <th>STABBR</th>\n      <th>HBCU</th>\n      <th>MENONLY</th>\n      <th>WOMENONLY</th>\n      <th>RELAFFIL</th>\n      <th>SATVRMID</th>\n      <th>SATMTMID</th>\n      <th>DISTANCEONLY</th>\n      <th>UGDS</th>\n      <th>...</th>\n      <th>UGDS_2MOR</th>\n      <th>UGDS_NRA</th>\n      <th>UGDS_UNKN</th>\n      <th>PPTUG_EF</th>\n      <th>CURROPER</th>\n      <th>PCTPELL</th>\n      <th>PCTFLOAN</th>\n      <th>UG25ABV</th>\n      <th>MD_EARN_WNE_P10</th>\n      <th>GRAD_DEBT_MDN_SUPP</th>\n    </tr>\n    <tr>\n      <th>INSTNM</th>\n      <th></th>\n      <th></th>\n      <th></th>\n      <th></th>\n      <th></th>\n      <th></th>\n      <th></th>\n      <th></th>\n      <th></th>\n      <th></th>\n      <th></th>\n      <th></th>\n      <th></th>\n      <th></th>\n      <th></th>\n      <th></th>\n      <th></th>\n      <th></th>\n      <th></th>\n      <th></th>\n      <th></th>\n    </tr>\n  </thead>\n  <tbody>\n    <tr>\n      <th>Alabama A &amp; M University</th>\n      <td>Normal</td>\n      <td>AL</td>\n      <td>1.0</td>\n      <td>0.0</td>\n      <td>0.0</td>\n      <td>0</td>\n      <td>424.0</td>\n      <td>420.0</td>\n      <td>0.0</td>\n      <td>4206.0</td>\n      <td>...</td>\n      <td>0.0000</td>\n      <td>0.0059</td>\n      <td>0.0138</td>\n      <td>0.0656</td>\n      <td>1</td>\n      <td>0.7356</td>\n      <td>0.8284</td>\n      <td>0.1049</td>\n      <td>30300</td>\n      <td>33888</td>\n    </tr>\n    <tr>\n      <th>University of Alabama at Birmingham</th>\n      <td>Birmingham</td>\n      <td>AL</td>\n      <td>0.0</td>\n      <td>0.0</td>\n      <td>0.0</td>\n      <td>0</td>\n      <td>570.0</td>\n      <td>565.0</td>\n      <td>0.0</td>\n      <td>11383.0</td>\n      <td>...</td>\n      <td>0.0368</td>\n      <td>0.0179</td>\n      <td>0.0100</td>\n      <td>0.2607</td>\n      <td>1</td>\n      <td>0.3460</td>\n      <td>0.5214</td>\n      <td>0.2422</td>\n      <td>39700</td>\n      <td>21941.5</td>\n    </tr>\n    <tr>\n      <th>Amridge University</th>\n      <td>Montgomery</td>\n      <td>AL</td>\n      <td>0.0</td>\n      <td>0.0</td>\n      <td>0.0</td>\n      <td>1</td>\n      <td>NaN</td>\n      <td>NaN</td>\n      <td>1.0</td>\n      <td>291.0</td>\n      <td>...</td>\n      <td>0.0000</td>\n      <td>0.0000</td>\n      <td>0.2715</td>\n      <td>0.4536</td>\n      <td>1</td>\n      <td>0.6801</td>\n      <td>0.7795</td>\n      <td>0.8540</td>\n      <td>40100</td>\n      <td>23370</td>\n    </tr>\n    <tr>\n      <th>University of Alabama in Huntsville</th>\n      <td>Huntsville</td>\n      <td>AL</td>\n      <td>0.0</td>\n      <td>0.0</td>\n      <td>0.0</td>\n      <td>0</td>\n      <td>595.0</td>\n      <td>590.0</td>\n      <td>0.0</td>\n      <td>5451.0</td>\n      <td>...</td>\n      <td>0.0172</td>\n      <td>0.0332</td>\n      <td>0.0350</td>\n      <td>0.2146</td>\n      <td>1</td>\n      <td>0.3072</td>\n      <td>0.4596</td>\n      <td>0.2640</td>\n      <td>45500</td>\n      <td>24097</td>\n    </tr>\n    <tr>\n      <th>Alabama State University</th>\n      <td>Montgomery</td>\n      <td>AL</td>\n      <td>1.0</td>\n      <td>0.0</td>\n      <td>0.0</td>\n      <td>0</td>\n      <td>425.0</td>\n      <td>430.0</td>\n      <td>0.0</td>\n      <td>4811.0</td>\n      <td>...</td>\n      <td>0.0098</td>\n      <td>0.0243</td>\n      <td>0.0137</td>\n      <td>0.0892</td>\n      <td>1</td>\n      <td>0.7347</td>\n      <td>0.7554</td>\n      <td>0.1270</td>\n      <td>26600</td>\n      <td>33118.5</td>\n    </tr>\n    <tr>\n      <th>...</th>\n      <td>...</td>\n      <td>...</td>\n      <td>...</td>\n      <td>...</td>\n      <td>...</td>\n      <td>...</td>\n      <td>...</td>\n      <td>...</td>\n      <td>...</td>\n      <td>...</td>\n      <td>...</td>\n      <td>...</td>\n      <td>...</td>\n      <td>...</td>\n      <td>...</td>\n      <td>...</td>\n      <td>...</td>\n      <td>...</td>\n      <td>...</td>\n      <td>...</td>\n      <td>...</td>\n    </tr>\n    <tr>\n      <th>SAE Institute of Technology  San Francisco</th>\n      <td>Emeryville</td>\n      <td>CA</td>\n      <td>NaN</td>\n      <td>NaN</td>\n      <td>NaN</td>\n      <td>1</td>\n      <td>NaN</td>\n      <td>NaN</td>\n      <td>NaN</td>\n      <td>NaN</td>\n      <td>...</td>\n      <td>NaN</td>\n      <td>NaN</td>\n      <td>NaN</td>\n      <td>NaN</td>\n      <td>1</td>\n      <td>NaN</td>\n      <td>NaN</td>\n      <td>NaN</td>\n      <td>NaN</td>\n      <td>9500</td>\n    </tr>\n    <tr>\n      <th>Rasmussen College - Overland Park</th>\n      <td>Overland Park</td>\n      <td>KS</td>\n      <td>NaN</td>\n      <td>NaN</td>\n      <td>NaN</td>\n      <td>1</td>\n      <td>NaN</td>\n      <td>NaN</td>\n      <td>NaN</td>\n      <td>NaN</td>\n      <td>...</td>\n      <td>NaN</td>\n      <td>NaN</td>\n      <td>NaN</td>\n      <td>NaN</td>\n      <td>1</td>\n      <td>NaN</td>\n      <td>NaN</td>\n      <td>NaN</td>\n      <td>NaN</td>\n      <td>21163</td>\n    </tr>\n    <tr>\n      <th>National Personal Training Institute of Cleveland</th>\n      <td>Highland Heights</td>\n      <td>OH</td>\n      <td>NaN</td>\n      <td>NaN</td>\n      <td>NaN</td>\n      <td>1</td>\n      <td>NaN</td>\n      <td>NaN</td>\n      <td>NaN</td>\n      <td>NaN</td>\n      <td>...</td>\n      <td>NaN</td>\n      <td>NaN</td>\n      <td>NaN</td>\n      <td>NaN</td>\n      <td>1</td>\n      <td>NaN</td>\n      <td>NaN</td>\n      <td>NaN</td>\n      <td>NaN</td>\n      <td>6333</td>\n    </tr>\n    <tr>\n      <th>Bay Area Medical Academy - San Jose Satellite Location</th>\n      <td>San Jose</td>\n      <td>CA</td>\n      <td>NaN</td>\n      <td>NaN</td>\n      <td>NaN</td>\n      <td>1</td>\n      <td>NaN</td>\n      <td>NaN</td>\n      <td>NaN</td>\n      <td>NaN</td>\n      <td>...</td>\n      <td>NaN</td>\n      <td>NaN</td>\n      <td>NaN</td>\n      <td>NaN</td>\n      <td>1</td>\n      <td>NaN</td>\n      <td>NaN</td>\n      <td>NaN</td>\n      <td>NaN</td>\n      <td>PrivacySuppressed</td>\n    </tr>\n    <tr>\n      <th>Excel Learning Center-San Antonio South</th>\n      <td>San Antonio</td>\n      <td>TX</td>\n      <td>NaN</td>\n      <td>NaN</td>\n      <td>NaN</td>\n      <td>1</td>\n      <td>NaN</td>\n      <td>NaN</td>\n      <td>NaN</td>\n      <td>NaN</td>\n      <td>...</td>\n      <td>NaN</td>\n      <td>NaN</td>\n      <td>NaN</td>\n      <td>NaN</td>\n      <td>1</td>\n      <td>NaN</td>\n      <td>NaN</td>\n      <td>NaN</td>\n      <td>NaN</td>\n      <td>12125</td>\n    </tr>\n  </tbody>\n</table>\n<p>7535 rows × 26 columns</p>\n</div>"
     },
     "execution_count": 87,
     "metadata": {},
     "output_type": "execute_result"
    }
   ],
   "source": [
    "college"
   ],
   "metadata": {
    "collapsed": false
   }
  },
  {
   "cell_type": "code",
   "execution_count": 98,
   "outputs": [],
   "source": [
    "grouped = college.groupby('STABBR')"
   ],
   "metadata": {
    "collapsed": false
   }
  },
  {
   "cell_type": "code",
   "execution_count": 99,
   "outputs": [
    {
     "data": {
      "text/plain": "59"
     },
     "execution_count": 99,
     "metadata": {},
     "output_type": "execute_result"
    }
   ],
   "source": [
    "grouped.ngroups"
   ],
   "metadata": {
    "collapsed": false
   }
  },
  {
   "cell_type": "code",
   "execution_count": 100,
   "outputs": [
    {
     "data": {
      "text/plain": "array(['AL', 'IL', 'AK', 'AZ', 'NM', 'AR', 'CA', 'MN', 'CO', 'CT', 'NY',\n       'DE', 'DC', 'VA', 'FL', 'GA', 'HI', 'ID', 'IN', 'TN', 'MI', 'IA',\n       'KS', 'MO', 'KY', 'LA', 'ME', 'MD', 'MA', 'MS', 'MT', 'NE', 'NV',\n       'NH', 'NJ', 'NC', 'ND', 'OH', 'WV', 'OK', 'OR', 'PA', 'RI', 'SC',\n       'SD', 'TX', 'UT', 'VT', 'WA', 'WI', 'WY', 'AS', 'GU', 'MP', 'PR',\n       'FM', 'PW', 'VI', 'MH'], dtype=object)"
     },
     "execution_count": 100,
     "metadata": {},
     "output_type": "execute_result"
    }
   ],
   "source": [
    "college['STABBR'].unique()"
   ],
   "metadata": {
    "collapsed": false
   }
  },
  {
   "cell_type": "code",
   "execution_count": 101,
   "outputs": [],
   "source": [
    "def check_minority(df, threshold):\n",
    "    minority_pct = 1 - df['UGDS_WHITE']\n",
    "    total_minority = (df['UGDS'] * minority_pct).sum()\n",
    "    total_ugds = df['UGDS'].sum()\n",
    "    total_minority_pct = total_minority / total_ugds\n",
    "    return total_minority_pct > threshold"
   ],
   "metadata": {
    "collapsed": false
   }
  },
  {
   "cell_type": "code",
   "execution_count": 93,
   "outputs": [
    {
     "data": {
      "text/plain": "7898501.594700001"
     },
     "execution_count": 93,
     "metadata": {},
     "output_type": "execute_result"
    }
   ],
   "source": [
    "(college['UGDS'] * (1 - college['UGDS_WHITE'])).sum()"
   ],
   "metadata": {
    "collapsed": false
   }
  },
  {
   "cell_type": "code",
   "execution_count": 94,
   "outputs": [
    {
     "data": {
      "text/plain": "16200904.0"
     },
     "execution_count": 94,
     "metadata": {},
     "output_type": "execute_result"
    }
   ],
   "source": [
    "college['UGDS'].sum()"
   ],
   "metadata": {
    "collapsed": false
   }
  },
  {
   "cell_type": "code",
   "execution_count": 96,
   "outputs": [
    {
     "data": {
      "text/plain": "0.4875346211976814"
     },
     "execution_count": 96,
     "metadata": {},
     "output_type": "execute_result"
    }
   ],
   "source": [
    "((college['UGDS'] * (1 - college['UGDS_WHITE'])).sum()) / college['UGDS'].sum()"
   ],
   "metadata": {
    "collapsed": false
   }
  },
  {
   "cell_type": "code",
   "execution_count": 102,
   "outputs": [
    {
     "data": {
      "text/plain": "                                                           CITY STABBR  HBCU  \\\nINSTNM                                                                         \nEverest College-Phoenix                                 Phoenix     AZ   0.0   \nCollins College                                         Phoenix     AZ   0.0   \nEmpire Beauty School-Paradise Valley                    Phoenix     AZ   0.0   \nEmpire Beauty School-Tucson                              Tucson     AZ   0.0   \nThunderbird School of Global Management                Glendale     AZ   0.0   \n...                                                         ...    ...   ...   \nWestMed College - Merced                                 Merced     CA   NaN   \nVantage College                                         El Paso     TX   NaN   \nSAE Institute of Technology  San Francisco           Emeryville     CA   NaN   \nBay Area Medical Academy - San Jose Satellite L...     San Jose     CA   NaN   \nExcel Learning Center-San Antonio South             San Antonio     TX   NaN   \n\n                                                    MENONLY  WOMENONLY  \\\nINSTNM                                                                   \nEverest College-Phoenix                                 0.0        0.0   \nCollins College                                         0.0        0.0   \nEmpire Beauty School-Paradise Valley                    0.0        0.0   \nEmpire Beauty School-Tucson                             0.0        0.0   \nThunderbird School of Global Management                 0.0        0.0   \n...                                                     ...        ...   \nWestMed College - Merced                                NaN        NaN   \nVantage College                                         NaN        NaN   \nSAE Institute of Technology  San Francisco              NaN        NaN   \nBay Area Medical Academy - San Jose Satellite L...      NaN        NaN   \nExcel Learning Center-San Antonio South                 NaN        NaN   \n\n                                                    RELAFFIL  SATVRMID  \\\nINSTNM                                                                   \nEverest College-Phoenix                                    1       NaN   \nCollins College                                            0       NaN   \nEmpire Beauty School-Paradise Valley                       1       NaN   \nEmpire Beauty School-Tucson                                0       NaN   \nThunderbird School of Global Management                    0       NaN   \n...                                                      ...       ...   \nWestMed College - Merced                                   1       NaN   \nVantage College                                            1       NaN   \nSAE Institute of Technology  San Francisco                 1       NaN   \nBay Area Medical Academy - San Jose Satellite L...         1       NaN   \nExcel Learning Center-San Antonio South                    1       NaN   \n\n                                                    SATMTMID  DISTANCEONLY  \\\nINSTNM                                                                       \nEverest College-Phoenix                                  NaN           0.0   \nCollins College                                          NaN           0.0   \nEmpire Beauty School-Paradise Valley                     NaN           0.0   \nEmpire Beauty School-Tucson                              NaN           0.0   \nThunderbird School of Global Management                  NaN           0.0   \n...                                                      ...           ...   \nWestMed College - Merced                                 NaN           NaN   \nVantage College                                          NaN           NaN   \nSAE Institute of Technology  San Francisco               NaN           NaN   \nBay Area Medical Academy - San Jose Satellite L...       NaN           NaN   \nExcel Learning Center-San Antonio South                  NaN           NaN   \n\n                                                      UGDS  ...  UGDS_2MOR  \\\nINSTNM                                                      ...              \nEverest College-Phoenix                             4102.0  ...     0.0373   \nCollins College                                       83.0  ...     0.0241   \nEmpire Beauty School-Paradise Valley                  25.0  ...     0.0400   \nEmpire Beauty School-Tucson                          126.0  ...     0.0000   \nThunderbird School of Global Management                1.0  ...     0.0000   \n...                                                    ...  ...        ...   \nWestMed College - Merced                               NaN  ...        NaN   \nVantage College                                        NaN  ...        NaN   \nSAE Institute of Technology  San Francisco             NaN  ...        NaN   \nBay Area Medical Academy - San Jose Satellite L...     NaN  ...        NaN   \nExcel Learning Center-San Antonio South                NaN  ...        NaN   \n\n                                                    UGDS_NRA  UGDS_UNKN  \\\nINSTNM                                                                    \nEverest College-Phoenix                                  0.0     0.1026   \nCollins College                                          0.0     0.3855   \nEmpire Beauty School-Paradise Valley                     0.0     0.0000   \nEmpire Beauty School-Tucson                              0.0     0.0079   \nThunderbird School of Global Management                  0.0     0.0000   \n...                                                      ...        ...   \nWestMed College - Merced                                 NaN        NaN   \nVantage College                                          NaN        NaN   \nSAE Institute of Technology  San Francisco               NaN        NaN   \nBay Area Medical Academy - San Jose Satellite L...       NaN        NaN   \nExcel Learning Center-San Antonio South                  NaN        NaN   \n\n                                                    PPTUG_EF  CURROPER  \\\nINSTNM                                                                   \nEverest College-Phoenix                               0.4749         0   \nCollins College                                       0.3373         0   \nEmpire Beauty School-Paradise Valley                  0.1600         0   \nEmpire Beauty School-Tucson                           0.2222         1   \nThunderbird School of Global Management               1.0000         0   \n...                                                      ...       ...   \nWestMed College - Merced                                 NaN         1   \nVantage College                                          NaN         1   \nSAE Institute of Technology  San Francisco               NaN         1   \nBay Area Medical Academy - San Jose Satellite L...       NaN         1   \nExcel Learning Center-San Antonio South                  NaN         1   \n\n                                                    PCTPELL  PCTFLOAN  \\\nINSTNM                                                                  \nEverest College-Phoenix                              0.8291    0.7151   \nCollins College                                      0.7205    0.8228   \nEmpire Beauty School-Paradise Valley                 0.6349    0.5873   \nEmpire Beauty School-Tucson                          0.7962    0.6615   \nThunderbird School of Global Management              0.0000    0.0000   \n...                                                     ...       ...   \nWestMed College - Merced                                NaN       NaN   \nVantage College                                         NaN       NaN   \nSAE Institute of Technology  San Francisco              NaN       NaN   \nBay Area Medical Academy - San Jose Satellite L...      NaN       NaN   \nExcel Learning Center-San Antonio South                 NaN       NaN   \n\n                                                    UG25ABV  MD_EARN_WNE_P10  \\\nINSTNM                                                                         \nEverest College-Phoenix                              0.6700            28600   \nCollins College                                      0.4764            25700   \nEmpire Beauty School-Paradise Valley                 0.4651            17800   \nEmpire Beauty School-Tucson                          0.4229            18200   \nThunderbird School of Global Management              0.0000           118900   \n...                                                     ...              ...   \nWestMed College - Merced                                NaN              NaN   \nVantage College                                         NaN              NaN   \nSAE Institute of Technology  San Francisco              NaN              NaN   \nBay Area Medical Academy - San Jose Satellite L...      NaN              NaN   \nExcel Learning Center-San Antonio South                 NaN              NaN   \n\n                                                    GRAD_DEBT_MDN_SUPP  \nINSTNM                                                                  \nEverest College-Phoenix                                           9500  \nCollins College                                                  47000  \nEmpire Beauty School-Paradise Valley                              9588  \nEmpire Beauty School-Tucson                                       9833  \nThunderbird School of Global Management              PrivacySuppressed  \n...                                                                ...  \nWestMed College - Merced                                       15623.5  \nVantage College                                                   9500  \nSAE Institute of Technology  San Francisco                        9500  \nBay Area Medical Academy - San Jose Satellite L...   PrivacySuppressed  \nExcel Learning Center-San Antonio South                          12125  \n\n[3028 rows x 26 columns]",
      "text/html": "<div>\n<style scoped>\n    .dataframe tbody tr th:only-of-type {\n        vertical-align: middle;\n    }\n\n    .dataframe tbody tr th {\n        vertical-align: top;\n    }\n\n    .dataframe thead th {\n        text-align: right;\n    }\n</style>\n<table border=\"1\" class=\"dataframe\">\n  <thead>\n    <tr style=\"text-align: right;\">\n      <th></th>\n      <th>CITY</th>\n      <th>STABBR</th>\n      <th>HBCU</th>\n      <th>MENONLY</th>\n      <th>WOMENONLY</th>\n      <th>RELAFFIL</th>\n      <th>SATVRMID</th>\n      <th>SATMTMID</th>\n      <th>DISTANCEONLY</th>\n      <th>UGDS</th>\n      <th>...</th>\n      <th>UGDS_2MOR</th>\n      <th>UGDS_NRA</th>\n      <th>UGDS_UNKN</th>\n      <th>PPTUG_EF</th>\n      <th>CURROPER</th>\n      <th>PCTPELL</th>\n      <th>PCTFLOAN</th>\n      <th>UG25ABV</th>\n      <th>MD_EARN_WNE_P10</th>\n      <th>GRAD_DEBT_MDN_SUPP</th>\n    </tr>\n    <tr>\n      <th>INSTNM</th>\n      <th></th>\n      <th></th>\n      <th></th>\n      <th></th>\n      <th></th>\n      <th></th>\n      <th></th>\n      <th></th>\n      <th></th>\n      <th></th>\n      <th></th>\n      <th></th>\n      <th></th>\n      <th></th>\n      <th></th>\n      <th></th>\n      <th></th>\n      <th></th>\n      <th></th>\n      <th></th>\n      <th></th>\n    </tr>\n  </thead>\n  <tbody>\n    <tr>\n      <th>Everest College-Phoenix</th>\n      <td>Phoenix</td>\n      <td>AZ</td>\n      <td>0.0</td>\n      <td>0.0</td>\n      <td>0.0</td>\n      <td>1</td>\n      <td>NaN</td>\n      <td>NaN</td>\n      <td>0.0</td>\n      <td>4102.0</td>\n      <td>...</td>\n      <td>0.0373</td>\n      <td>0.0</td>\n      <td>0.1026</td>\n      <td>0.4749</td>\n      <td>0</td>\n      <td>0.8291</td>\n      <td>0.7151</td>\n      <td>0.6700</td>\n      <td>28600</td>\n      <td>9500</td>\n    </tr>\n    <tr>\n      <th>Collins College</th>\n      <td>Phoenix</td>\n      <td>AZ</td>\n      <td>0.0</td>\n      <td>0.0</td>\n      <td>0.0</td>\n      <td>0</td>\n      <td>NaN</td>\n      <td>NaN</td>\n      <td>0.0</td>\n      <td>83.0</td>\n      <td>...</td>\n      <td>0.0241</td>\n      <td>0.0</td>\n      <td>0.3855</td>\n      <td>0.3373</td>\n      <td>0</td>\n      <td>0.7205</td>\n      <td>0.8228</td>\n      <td>0.4764</td>\n      <td>25700</td>\n      <td>47000</td>\n    </tr>\n    <tr>\n      <th>Empire Beauty School-Paradise Valley</th>\n      <td>Phoenix</td>\n      <td>AZ</td>\n      <td>0.0</td>\n      <td>0.0</td>\n      <td>0.0</td>\n      <td>1</td>\n      <td>NaN</td>\n      <td>NaN</td>\n      <td>0.0</td>\n      <td>25.0</td>\n      <td>...</td>\n      <td>0.0400</td>\n      <td>0.0</td>\n      <td>0.0000</td>\n      <td>0.1600</td>\n      <td>0</td>\n      <td>0.6349</td>\n      <td>0.5873</td>\n      <td>0.4651</td>\n      <td>17800</td>\n      <td>9588</td>\n    </tr>\n    <tr>\n      <th>Empire Beauty School-Tucson</th>\n      <td>Tucson</td>\n      <td>AZ</td>\n      <td>0.0</td>\n      <td>0.0</td>\n      <td>0.0</td>\n      <td>0</td>\n      <td>NaN</td>\n      <td>NaN</td>\n      <td>0.0</td>\n      <td>126.0</td>\n      <td>...</td>\n      <td>0.0000</td>\n      <td>0.0</td>\n      <td>0.0079</td>\n      <td>0.2222</td>\n      <td>1</td>\n      <td>0.7962</td>\n      <td>0.6615</td>\n      <td>0.4229</td>\n      <td>18200</td>\n      <td>9833</td>\n    </tr>\n    <tr>\n      <th>Thunderbird School of Global Management</th>\n      <td>Glendale</td>\n      <td>AZ</td>\n      <td>0.0</td>\n      <td>0.0</td>\n      <td>0.0</td>\n      <td>0</td>\n      <td>NaN</td>\n      <td>NaN</td>\n      <td>0.0</td>\n      <td>1.0</td>\n      <td>...</td>\n      <td>0.0000</td>\n      <td>0.0</td>\n      <td>0.0000</td>\n      <td>1.0000</td>\n      <td>0</td>\n      <td>0.0000</td>\n      <td>0.0000</td>\n      <td>0.0000</td>\n      <td>118900</td>\n      <td>PrivacySuppressed</td>\n    </tr>\n    <tr>\n      <th>...</th>\n      <td>...</td>\n      <td>...</td>\n      <td>...</td>\n      <td>...</td>\n      <td>...</td>\n      <td>...</td>\n      <td>...</td>\n      <td>...</td>\n      <td>...</td>\n      <td>...</td>\n      <td>...</td>\n      <td>...</td>\n      <td>...</td>\n      <td>...</td>\n      <td>...</td>\n      <td>...</td>\n      <td>...</td>\n      <td>...</td>\n      <td>...</td>\n      <td>...</td>\n      <td>...</td>\n    </tr>\n    <tr>\n      <th>WestMed College - Merced</th>\n      <td>Merced</td>\n      <td>CA</td>\n      <td>NaN</td>\n      <td>NaN</td>\n      <td>NaN</td>\n      <td>1</td>\n      <td>NaN</td>\n      <td>NaN</td>\n      <td>NaN</td>\n      <td>NaN</td>\n      <td>...</td>\n      <td>NaN</td>\n      <td>NaN</td>\n      <td>NaN</td>\n      <td>NaN</td>\n      <td>1</td>\n      <td>NaN</td>\n      <td>NaN</td>\n      <td>NaN</td>\n      <td>NaN</td>\n      <td>15623.5</td>\n    </tr>\n    <tr>\n      <th>Vantage College</th>\n      <td>El Paso</td>\n      <td>TX</td>\n      <td>NaN</td>\n      <td>NaN</td>\n      <td>NaN</td>\n      <td>1</td>\n      <td>NaN</td>\n      <td>NaN</td>\n      <td>NaN</td>\n      <td>NaN</td>\n      <td>...</td>\n      <td>NaN</td>\n      <td>NaN</td>\n      <td>NaN</td>\n      <td>NaN</td>\n      <td>1</td>\n      <td>NaN</td>\n      <td>NaN</td>\n      <td>NaN</td>\n      <td>NaN</td>\n      <td>9500</td>\n    </tr>\n    <tr>\n      <th>SAE Institute of Technology  San Francisco</th>\n      <td>Emeryville</td>\n      <td>CA</td>\n      <td>NaN</td>\n      <td>NaN</td>\n      <td>NaN</td>\n      <td>1</td>\n      <td>NaN</td>\n      <td>NaN</td>\n      <td>NaN</td>\n      <td>NaN</td>\n      <td>...</td>\n      <td>NaN</td>\n      <td>NaN</td>\n      <td>NaN</td>\n      <td>NaN</td>\n      <td>1</td>\n      <td>NaN</td>\n      <td>NaN</td>\n      <td>NaN</td>\n      <td>NaN</td>\n      <td>9500</td>\n    </tr>\n    <tr>\n      <th>Bay Area Medical Academy - San Jose Satellite Location</th>\n      <td>San Jose</td>\n      <td>CA</td>\n      <td>NaN</td>\n      <td>NaN</td>\n      <td>NaN</td>\n      <td>1</td>\n      <td>NaN</td>\n      <td>NaN</td>\n      <td>NaN</td>\n      <td>NaN</td>\n      <td>...</td>\n      <td>NaN</td>\n      <td>NaN</td>\n      <td>NaN</td>\n      <td>NaN</td>\n      <td>1</td>\n      <td>NaN</td>\n      <td>NaN</td>\n      <td>NaN</td>\n      <td>NaN</td>\n      <td>PrivacySuppressed</td>\n    </tr>\n    <tr>\n      <th>Excel Learning Center-San Antonio South</th>\n      <td>San Antonio</td>\n      <td>TX</td>\n      <td>NaN</td>\n      <td>NaN</td>\n      <td>NaN</td>\n      <td>1</td>\n      <td>NaN</td>\n      <td>NaN</td>\n      <td>NaN</td>\n      <td>NaN</td>\n      <td>...</td>\n      <td>NaN</td>\n      <td>NaN</td>\n      <td>NaN</td>\n      <td>NaN</td>\n      <td>1</td>\n      <td>NaN</td>\n      <td>NaN</td>\n      <td>NaN</td>\n      <td>NaN</td>\n      <td>12125</td>\n    </tr>\n  </tbody>\n</table>\n<p>3028 rows × 26 columns</p>\n</div>"
     },
     "execution_count": 102,
     "metadata": {},
     "output_type": "execute_result"
    }
   ],
   "source": [
    "college_filtered = grouped.filter(check_minority, threshold=.5)\n",
    "college_filtered"
   ],
   "metadata": {
    "collapsed": false
   }
  },
  {
   "cell_type": "code",
   "execution_count": 103,
   "outputs": [
    {
     "data": {
      "text/plain": "(7535, 26)"
     },
     "execution_count": 103,
     "metadata": {},
     "output_type": "execute_result"
    }
   ],
   "source": [
    "college.shape"
   ],
   "metadata": {
    "collapsed": false
   }
  },
  {
   "cell_type": "code",
   "execution_count": 104,
   "outputs": [
    {
     "data": {
      "text/plain": "(3028, 26)"
     },
     "execution_count": 104,
     "metadata": {},
     "output_type": "execute_result"
    }
   ],
   "source": [
    "college_filtered.shape"
   ],
   "metadata": {
    "collapsed": false
   }
  },
  {
   "cell_type": "code",
   "execution_count": 105,
   "outputs": [
    {
     "data": {
      "text/plain": "20"
     },
     "execution_count": 105,
     "metadata": {},
     "output_type": "execute_result"
    }
   ],
   "source": [
    "college_filtered['STABBR'].nunique()"
   ],
   "metadata": {
    "collapsed": false
   }
  },
  {
   "cell_type": "code",
   "execution_count": 106,
   "outputs": [],
   "source": [
    "college_filtered_20 = grouped.filter(check_minority, threshold=.2)"
   ],
   "metadata": {
    "collapsed": false
   }
  },
  {
   "cell_type": "code",
   "execution_count": 108,
   "outputs": [
    {
     "data": {
      "text/plain": "(7461, 26)"
     },
     "execution_count": 108,
     "metadata": {},
     "output_type": "execute_result"
    }
   ],
   "source": [
    "college_filtered_20.shape"
   ],
   "metadata": {
    "collapsed": false
   }
  },
  {
   "cell_type": "code",
   "execution_count": 109,
   "outputs": [
    {
     "data": {
      "text/plain": "57"
     },
     "execution_count": 109,
     "metadata": {},
     "output_type": "execute_result"
    }
   ],
   "source": [
    "college_filtered_20['STABBR'].nunique()"
   ],
   "metadata": {
    "collapsed": false
   }
  },
  {
   "cell_type": "code",
   "execution_count": 110,
   "outputs": [
    {
     "data": {
      "text/plain": "(957, 26)"
     },
     "execution_count": 110,
     "metadata": {},
     "output_type": "execute_result"
    }
   ],
   "source": [
    "college_filtered_70 = grouped.filter(check_minority, threshold=.7)\n",
    "college_filtered_70.shape"
   ],
   "metadata": {
    "collapsed": false
   }
  },
  {
   "cell_type": "code",
   "execution_count": 111,
   "outputs": [
    {
     "data": {
      "text/plain": "10"
     },
     "execution_count": 111,
     "metadata": {},
     "output_type": "execute_result"
    }
   ],
   "source": [
    "college_filtered_70['STABBR'].nunique()"
   ],
   "metadata": {
    "collapsed": false
   }
  },
  {
   "cell_type": "markdown",
   "source": [
    "체중 감량 내기를 통한 변신"
   ],
   "metadata": {
    "collapsed": false
   }
  },
  {
   "cell_type": "code",
   "execution_count": 112,
   "outputs": [],
   "source": [
    "weight_loss = pd.read_csv('data/weight_loss.csv')"
   ],
   "metadata": {
    "collapsed": false
   }
  },
  {
   "cell_type": "code",
   "execution_count": 113,
   "outputs": [
    {
     "data": {
      "text/plain": "  Name Month    Week  Weight\n0  Bob   Jan  Week 1     291\n1  Amy   Jan  Week 1     197\n2  Bob   Jan  Week 2     288\n3  Amy   Jan  Week 2     189\n4  Bob   Jan  Week 3     283\n5  Amy   Jan  Week 3     189\n6  Bob   Jan  Week 4     283\n7  Amy   Jan  Week 4     190",
      "text/html": "<div>\n<style scoped>\n    .dataframe tbody tr th:only-of-type {\n        vertical-align: middle;\n    }\n\n    .dataframe tbody tr th {\n        vertical-align: top;\n    }\n\n    .dataframe thead th {\n        text-align: right;\n    }\n</style>\n<table border=\"1\" class=\"dataframe\">\n  <thead>\n    <tr style=\"text-align: right;\">\n      <th></th>\n      <th>Name</th>\n      <th>Month</th>\n      <th>Week</th>\n      <th>Weight</th>\n    </tr>\n  </thead>\n  <tbody>\n    <tr>\n      <th>0</th>\n      <td>Bob</td>\n      <td>Jan</td>\n      <td>Week 1</td>\n      <td>291</td>\n    </tr>\n    <tr>\n      <th>1</th>\n      <td>Amy</td>\n      <td>Jan</td>\n      <td>Week 1</td>\n      <td>197</td>\n    </tr>\n    <tr>\n      <th>2</th>\n      <td>Bob</td>\n      <td>Jan</td>\n      <td>Week 2</td>\n      <td>288</td>\n    </tr>\n    <tr>\n      <th>3</th>\n      <td>Amy</td>\n      <td>Jan</td>\n      <td>Week 2</td>\n      <td>189</td>\n    </tr>\n    <tr>\n      <th>4</th>\n      <td>Bob</td>\n      <td>Jan</td>\n      <td>Week 3</td>\n      <td>283</td>\n    </tr>\n    <tr>\n      <th>5</th>\n      <td>Amy</td>\n      <td>Jan</td>\n      <td>Week 3</td>\n      <td>189</td>\n    </tr>\n    <tr>\n      <th>6</th>\n      <td>Bob</td>\n      <td>Jan</td>\n      <td>Week 4</td>\n      <td>283</td>\n    </tr>\n    <tr>\n      <th>7</th>\n      <td>Amy</td>\n      <td>Jan</td>\n      <td>Week 4</td>\n      <td>190</td>\n    </tr>\n  </tbody>\n</table>\n</div>"
     },
     "execution_count": 113,
     "metadata": {},
     "output_type": "execute_result"
    }
   ],
   "source": [
    "weight_loss.query('Month == \"Jan\"')"
   ],
   "metadata": {
    "collapsed": false
   }
  },
  {
   "cell_type": "code",
   "execution_count": 114,
   "outputs": [],
   "source": [
    "def percent_loss(s):\n",
    "    return ((s - s.iloc[0]) / s.iloc[0]) * 100"
   ],
   "metadata": {
    "collapsed": false
   }
  },
  {
   "cell_type": "code",
   "execution_count": 115,
   "outputs": [
    {
     "data": {
      "text/plain": "0    0.000000\n2   -1.030928\n4   -2.749141\n6   -2.749141\nName: Weight, dtype: float64"
     },
     "execution_count": 115,
     "metadata": {},
     "output_type": "execute_result"
    }
   ],
   "source": [
    "(\n",
    "    weight_loss\n",
    "    .query('Name == \"Bob\" and Month == \"Jan\"')\n",
    "    ['Weight']\n",
    "    .pipe(percent_loss)\n",
    ")"
   ],
   "metadata": {
    "collapsed": false
   }
  },
  {
   "cell_type": "code",
   "execution_count": 116,
   "outputs": [
    {
     "data": {
      "text/plain": "0     0.000000\n1     0.000000\n2    -1.030928\n3    -4.060914\n4    -2.749141\n5    -4.060914\n6    -2.749141\n7    -3.553299\n8     0.000000\n9     0.000000\n10   -2.826855\n11   -3.157895\n12   -5.300353\n13   -6.842105\n14   -5.300353\n15   -8.947368\n16    0.000000\n17    0.000000\n18    1.119403\n19    0.000000\n20   -1.119403\n21   -1.734104\n22   -2.611940\n23   -1.734104\n24    0.000000\n25    0.000000\n26   -1.149425\n27   -3.529412\n28   -3.065134\n29   -3.529412\n30   -4.214559\n31   -5.294118\nName: Weight, dtype: float64"
     },
     "execution_count": 116,
     "metadata": {},
     "output_type": "execute_result"
    }
   ],
   "source": [
    "(\n",
    "    weight_loss\n",
    "    .groupby(['Name', 'Month'])\n",
    "    ['Weight']\n",
    "    .transform(percent_loss)\n",
    ")"
   ],
   "metadata": {
    "collapsed": false
   }
  },
  {
   "cell_type": "code",
   "execution_count": 117,
   "outputs": [
    {
     "data": {
      "text/plain": "   Name Month    Week  Weight  percent_loss\n0   Bob   Jan  Week 1     291           0.0\n2   Bob   Jan  Week 2     288          -1.0\n4   Bob   Jan  Week 3     283          -2.7\n6   Bob   Jan  Week 4     283          -2.7\n8   Bob   Feb  Week 1     283           0.0\n10  Bob   Feb  Week 2     275          -2.8\n12  Bob   Feb  Week 3     268          -5.3\n14  Bob   Feb  Week 4     268          -5.3",
      "text/html": "<div>\n<style scoped>\n    .dataframe tbody tr th:only-of-type {\n        vertical-align: middle;\n    }\n\n    .dataframe tbody tr th {\n        vertical-align: top;\n    }\n\n    .dataframe thead th {\n        text-align: right;\n    }\n</style>\n<table border=\"1\" class=\"dataframe\">\n  <thead>\n    <tr style=\"text-align: right;\">\n      <th></th>\n      <th>Name</th>\n      <th>Month</th>\n      <th>Week</th>\n      <th>Weight</th>\n      <th>percent_loss</th>\n    </tr>\n  </thead>\n  <tbody>\n    <tr>\n      <th>0</th>\n      <td>Bob</td>\n      <td>Jan</td>\n      <td>Week 1</td>\n      <td>291</td>\n      <td>0.0</td>\n    </tr>\n    <tr>\n      <th>2</th>\n      <td>Bob</td>\n      <td>Jan</td>\n      <td>Week 2</td>\n      <td>288</td>\n      <td>-1.0</td>\n    </tr>\n    <tr>\n      <th>4</th>\n      <td>Bob</td>\n      <td>Jan</td>\n      <td>Week 3</td>\n      <td>283</td>\n      <td>-2.7</td>\n    </tr>\n    <tr>\n      <th>6</th>\n      <td>Bob</td>\n      <td>Jan</td>\n      <td>Week 4</td>\n      <td>283</td>\n      <td>-2.7</td>\n    </tr>\n    <tr>\n      <th>8</th>\n      <td>Bob</td>\n      <td>Feb</td>\n      <td>Week 1</td>\n      <td>283</td>\n      <td>0.0</td>\n    </tr>\n    <tr>\n      <th>10</th>\n      <td>Bob</td>\n      <td>Feb</td>\n      <td>Week 2</td>\n      <td>275</td>\n      <td>-2.8</td>\n    </tr>\n    <tr>\n      <th>12</th>\n      <td>Bob</td>\n      <td>Feb</td>\n      <td>Week 3</td>\n      <td>268</td>\n      <td>-5.3</td>\n    </tr>\n    <tr>\n      <th>14</th>\n      <td>Bob</td>\n      <td>Feb</td>\n      <td>Week 4</td>\n      <td>268</td>\n      <td>-5.3</td>\n    </tr>\n  </tbody>\n</table>\n</div>"
     },
     "execution_count": 117,
     "metadata": {},
     "output_type": "execute_result"
    }
   ],
   "source": [
    "(\n",
    "    weight_loss\n",
    "    .assign(percent_loss=(\n",
    "        weight_loss\n",
    "        .groupby(['Name', 'Month'])\n",
    "        ['Weight']\n",
    "        .transform(percent_loss)\n",
    "        .round(1)))\n",
    "    .query('Name == \"Bob\" and Month in [\"Jan\", \"Feb\"]')\n",
    ")"
   ],
   "metadata": {
    "collapsed": false
   }
  },
  {
   "cell_type": "code",
   "execution_count": 118,
   "outputs": [
    {
     "data": {
      "text/plain": "   Name Month    Week  Weight  percent_loss\n6   Bob   Jan  Week 4     283          -2.7\n7   Amy   Jan  Week 4     190          -3.6\n14  Bob   Feb  Week 4     268          -5.3\n15  Amy   Feb  Week 4     173          -8.9\n22  Bob   Mar  Week 4     261          -2.6\n23  Amy   Mar  Week 4     170          -1.7\n30  Bob   Apr  Week 4     250          -4.2\n31  Amy   Apr  Week 4     161          -5.3",
      "text/html": "<div>\n<style scoped>\n    .dataframe tbody tr th:only-of-type {\n        vertical-align: middle;\n    }\n\n    .dataframe tbody tr th {\n        vertical-align: top;\n    }\n\n    .dataframe thead th {\n        text-align: right;\n    }\n</style>\n<table border=\"1\" class=\"dataframe\">\n  <thead>\n    <tr style=\"text-align: right;\">\n      <th></th>\n      <th>Name</th>\n      <th>Month</th>\n      <th>Week</th>\n      <th>Weight</th>\n      <th>percent_loss</th>\n    </tr>\n  </thead>\n  <tbody>\n    <tr>\n      <th>6</th>\n      <td>Bob</td>\n      <td>Jan</td>\n      <td>Week 4</td>\n      <td>283</td>\n      <td>-2.7</td>\n    </tr>\n    <tr>\n      <th>7</th>\n      <td>Amy</td>\n      <td>Jan</td>\n      <td>Week 4</td>\n      <td>190</td>\n      <td>-3.6</td>\n    </tr>\n    <tr>\n      <th>14</th>\n      <td>Bob</td>\n      <td>Feb</td>\n      <td>Week 4</td>\n      <td>268</td>\n      <td>-5.3</td>\n    </tr>\n    <tr>\n      <th>15</th>\n      <td>Amy</td>\n      <td>Feb</td>\n      <td>Week 4</td>\n      <td>173</td>\n      <td>-8.9</td>\n    </tr>\n    <tr>\n      <th>22</th>\n      <td>Bob</td>\n      <td>Mar</td>\n      <td>Week 4</td>\n      <td>261</td>\n      <td>-2.6</td>\n    </tr>\n    <tr>\n      <th>23</th>\n      <td>Amy</td>\n      <td>Mar</td>\n      <td>Week 4</td>\n      <td>170</td>\n      <td>-1.7</td>\n    </tr>\n    <tr>\n      <th>30</th>\n      <td>Bob</td>\n      <td>Apr</td>\n      <td>Week 4</td>\n      <td>250</td>\n      <td>-4.2</td>\n    </tr>\n    <tr>\n      <th>31</th>\n      <td>Amy</td>\n      <td>Apr</td>\n      <td>Week 4</td>\n      <td>161</td>\n      <td>-5.3</td>\n    </tr>\n  </tbody>\n</table>\n</div>"
     },
     "execution_count": 118,
     "metadata": {},
     "output_type": "execute_result"
    }
   ],
   "source": [
    "(\n",
    "    weight_loss\n",
    "    .assign(percent_loss=(\n",
    "        weight_loss\n",
    "        .groupby(['Name', 'Month'])\n",
    "        ['Weight']\n",
    "        .transform(percent_loss)\n",
    "        .round(1)))\n",
    "    .query('Week == \"Week 4\"')\n",
    ")"
   ],
   "metadata": {
    "collapsed": false
   }
  },
  {
   "cell_type": "code",
   "execution_count": 119,
   "outputs": [
    {
     "data": {
      "text/plain": "Name   Amy  Bob\nMonth          \nApr   -5.3 -4.2\nFeb   -8.9 -5.3\nJan   -3.6 -2.7\nMar   -1.7 -2.6",
      "text/html": "<div>\n<style scoped>\n    .dataframe tbody tr th:only-of-type {\n        vertical-align: middle;\n    }\n\n    .dataframe tbody tr th {\n        vertical-align: top;\n    }\n\n    .dataframe thead th {\n        text-align: right;\n    }\n</style>\n<table border=\"1\" class=\"dataframe\">\n  <thead>\n    <tr style=\"text-align: right;\">\n      <th>Name</th>\n      <th>Amy</th>\n      <th>Bob</th>\n    </tr>\n    <tr>\n      <th>Month</th>\n      <th></th>\n      <th></th>\n    </tr>\n  </thead>\n  <tbody>\n    <tr>\n      <th>Apr</th>\n      <td>-5.3</td>\n      <td>-4.2</td>\n    </tr>\n    <tr>\n      <th>Feb</th>\n      <td>-8.9</td>\n      <td>-5.3</td>\n    </tr>\n    <tr>\n      <th>Jan</th>\n      <td>-3.6</td>\n      <td>-2.7</td>\n    </tr>\n    <tr>\n      <th>Mar</th>\n      <td>-1.7</td>\n      <td>-2.6</td>\n    </tr>\n  </tbody>\n</table>\n</div>"
     },
     "execution_count": 119,
     "metadata": {},
     "output_type": "execute_result"
    }
   ],
   "source": [
    "(\n",
    "    weight_loss\n",
    "    .assign(percent_loss=(\n",
    "        weight_loss\n",
    "        .groupby(['Name', 'Month'])\n",
    "        ['Weight']\n",
    "        .transform(percent_loss)\n",
    "        .round(1)))\n",
    "    .query('Week == \"Week 4\"')\n",
    "    .pivot(index='Month', columns='Name', values='percent_loss')\n",
    ")"
   ],
   "metadata": {
    "collapsed": false
   }
  },
  {
   "cell_type": "code",
   "execution_count": 120,
   "outputs": [
    {
     "data": {
      "text/plain": "Name   Amy  Bob winner\nMonth                 \nApr   -5.3 -4.2    Amy\nFeb   -8.9 -5.3    Amy\nJan   -3.6 -2.7    Amy\nMar   -1.7 -2.6    Bob",
      "text/html": "<div>\n<style scoped>\n    .dataframe tbody tr th:only-of-type {\n        vertical-align: middle;\n    }\n\n    .dataframe tbody tr th {\n        vertical-align: top;\n    }\n\n    .dataframe thead th {\n        text-align: right;\n    }\n</style>\n<table border=\"1\" class=\"dataframe\">\n  <thead>\n    <tr style=\"text-align: right;\">\n      <th>Name</th>\n      <th>Amy</th>\n      <th>Bob</th>\n      <th>winner</th>\n    </tr>\n    <tr>\n      <th>Month</th>\n      <th></th>\n      <th></th>\n      <th></th>\n    </tr>\n  </thead>\n  <tbody>\n    <tr>\n      <th>Apr</th>\n      <td>-5.3</td>\n      <td>-4.2</td>\n      <td>Amy</td>\n    </tr>\n    <tr>\n      <th>Feb</th>\n      <td>-8.9</td>\n      <td>-5.3</td>\n      <td>Amy</td>\n    </tr>\n    <tr>\n      <th>Jan</th>\n      <td>-3.6</td>\n      <td>-2.7</td>\n      <td>Amy</td>\n    </tr>\n    <tr>\n      <th>Mar</th>\n      <td>-1.7</td>\n      <td>-2.6</td>\n      <td>Bob</td>\n    </tr>\n  </tbody>\n</table>\n</div>"
     },
     "execution_count": 120,
     "metadata": {},
     "output_type": "execute_result"
    }
   ],
   "source": [
    "(\n",
    "    weight_loss\n",
    "    .assign(percent_loss=(\n",
    "        weight_loss\n",
    "        .groupby(['Name', 'Month'])\n",
    "        ['Weight']\n",
    "        .transform(percent_loss)\n",
    "        .round(1)))\n",
    "    .query('Week == \"Week 4\"')\n",
    "    .pivot(index='Month', columns='Name', values='percent_loss')\n",
    "    .assign(winner=lambda df_: np.where(df_.Amy < df_.Bob, 'Amy', 'Bob'))\n",
    ")"
   ],
   "metadata": {
    "collapsed": false
   }
  },
  {
   "cell_type": "code",
   "execution_count": 125,
   "outputs": [
    {
     "data": {
      "text/plain": "<pandas.io.formats.style.Styler at 0x1587ac400>",
      "text/html": "<style type=\"text/css\">\n#T_47506_row0_col0, #T_47506_row1_col0, #T_47506_row2_col0, #T_47506_row3_col1 {\n  background-color: yellow;\n}\n</style>\n<table id=\"T_47506\">\n  <thead>\n    <tr>\n      <th class=\"index_name level0\" >Name</th>\n      <th id=\"T_47506_level0_col0\" class=\"col_heading level0 col0\" >Amy</th>\n      <th id=\"T_47506_level0_col1\" class=\"col_heading level0 col1\" >Bob</th>\n    </tr>\n    <tr>\n      <th class=\"index_name level0\" >Month</th>\n      <th class=\"blank col0\" >&nbsp;</th>\n      <th class=\"blank col1\" >&nbsp;</th>\n    </tr>\n  </thead>\n  <tbody>\n    <tr>\n      <th id=\"T_47506_level0_row0\" class=\"row_heading level0 row0\" >Apr</th>\n      <td id=\"T_47506_row0_col0\" class=\"data row0 col0\" >-5.300000</td>\n      <td id=\"T_47506_row0_col1\" class=\"data row0 col1\" >-4.200000</td>\n    </tr>\n    <tr>\n      <th id=\"T_47506_level0_row1\" class=\"row_heading level0 row1\" >Feb</th>\n      <td id=\"T_47506_row1_col0\" class=\"data row1 col0\" >-8.900000</td>\n      <td id=\"T_47506_row1_col1\" class=\"data row1 col1\" >-5.300000</td>\n    </tr>\n    <tr>\n      <th id=\"T_47506_level0_row2\" class=\"row_heading level0 row2\" >Jan</th>\n      <td id=\"T_47506_row2_col0\" class=\"data row2 col0\" >-3.600000</td>\n      <td id=\"T_47506_row2_col1\" class=\"data row2 col1\" >-2.700000</td>\n    </tr>\n    <tr>\n      <th id=\"T_47506_level0_row3\" class=\"row_heading level0 row3\" >Mar</th>\n      <td id=\"T_47506_row3_col0\" class=\"data row3 col0\" >-1.700000</td>\n      <td id=\"T_47506_row3_col1\" class=\"data row3 col1\" >-2.600000</td>\n    </tr>\n  </tbody>\n</table>\n"
     },
     "execution_count": 125,
     "metadata": {},
     "output_type": "execute_result"
    }
   ],
   "source": [
    "(\n",
    "    weight_loss\n",
    "    .assign(percent_loss=(\n",
    "        weight_loss\n",
    "        .groupby(['Name', 'Month'])\n",
    "        ['Weight']\n",
    "        .transform(percent_loss)\n",
    "        .round(1)))\n",
    "    .query('Week == \"Week 4\"')\n",
    "    .pivot(index='Month', columns='Name', values='percent_loss')\n",
    "    # .assign(winner=lambda df_: np.where(df_.Amy < df_.Bob, 'Amy', 'Bob'))\n",
    "    .style.highlight_min(axis=1)\n",
    ")"
   ],
   "metadata": {
    "collapsed": false
   }
  },
  {
   "cell_type": "code",
   "execution_count": 126,
   "outputs": [
    {
     "data": {
      "text/plain": "Amy    3\nBob    1\nName: winner, dtype: int64"
     },
     "execution_count": 126,
     "metadata": {},
     "output_type": "execute_result"
    }
   ],
   "source": [
    "(\n",
    "    weight_loss\n",
    "    .assign(percent_loss=(\n",
    "        weight_loss\n",
    "        .groupby(['Name', 'Month'])\n",
    "        ['Weight']\n",
    "        .transform(percent_loss)\n",
    "        .round(1)))\n",
    "    .query('Week == \"Week 4\"')\n",
    "    .pivot(index='Month', columns='Name', values='percent_loss')\n",
    "    .assign(winner=lambda df_: np.where(df_.Amy < df_.Bob, 'Amy', 'Bob'))\n",
    "    .winner.value_counts()\n",
    ")"
   ],
   "metadata": {
    "collapsed": false
   }
  },
  {
   "cell_type": "code",
   "execution_count": 127,
   "outputs": [
    {
     "data": {
      "text/plain": "Name   Amy  Bob\nMonth          \nJan   -3.6 -2.7\nFeb   -8.9 -5.3\nMar   -1.7 -2.6\nApr   -5.3 -4.2",
      "text/html": "<div>\n<style scoped>\n    .dataframe tbody tr th:only-of-type {\n        vertical-align: middle;\n    }\n\n    .dataframe tbody tr th {\n        vertical-align: top;\n    }\n\n    .dataframe thead th {\n        text-align: right;\n    }\n</style>\n<table border=\"1\" class=\"dataframe\">\n  <thead>\n    <tr style=\"text-align: right;\">\n      <th>Name</th>\n      <th>Amy</th>\n      <th>Bob</th>\n    </tr>\n    <tr>\n      <th>Month</th>\n      <th></th>\n      <th></th>\n    </tr>\n  </thead>\n  <tbody>\n    <tr>\n      <th>Jan</th>\n      <td>-3.6</td>\n      <td>-2.7</td>\n    </tr>\n    <tr>\n      <th>Feb</th>\n      <td>-8.9</td>\n      <td>-5.3</td>\n    </tr>\n    <tr>\n      <th>Mar</th>\n      <td>-1.7</td>\n      <td>-2.6</td>\n    </tr>\n    <tr>\n      <th>Apr</th>\n      <td>-5.3</td>\n      <td>-4.2</td>\n    </tr>\n  </tbody>\n</table>\n</div>"
     },
     "execution_count": 127,
     "metadata": {},
     "output_type": "execute_result"
    }
   ],
   "source": [
    "(\n",
    "    weight_loss\n",
    "    .assign(percent_loss=(\n",
    "        weight_loss\n",
    "        .groupby(['Name', 'Month'])\n",
    "        ['Weight']\n",
    "        .transform(percent_loss)\n",
    "        .round(1)),\n",
    "        Month=pd.Categorical(weight_loss.Month, categories=['Jan', 'Feb', 'Mar', 'Apr'], ordered=True)\n",
    "    )\n",
    "    .query('Week == \"Week 4\"')\n",
    "    .pivot(index='Month', columns='Name', values='percent_loss')\n",
    "    # .assign(winner=lambda df_: np.where(df_.Amy < df_.Bob, 'Amy', 'Bob'))\n",
    "    # .winner.value_counts()\n",
    ")"
   ],
   "metadata": {
    "collapsed": false
   }
  },
  {
   "cell_type": "markdown",
   "source": [
    "apply 를 사용해 주별 가중 평균 SAT 점수 계산"
   ],
   "metadata": {
    "collapsed": false
   }
  },
  {
   "cell_type": "code",
   "execution_count": 128,
   "outputs": [],
   "source": [
    "college = pd.read_csv('data/college.csv')"
   ],
   "metadata": {
    "collapsed": false
   }
  },
  {
   "cell_type": "code",
   "execution_count": 129,
   "outputs": [],
   "source": [
    "subset = ['UGDS', 'SATMTMID', 'SATVRMID']"
   ],
   "metadata": {
    "collapsed": false
   }
  },
  {
   "cell_type": "code",
   "execution_count": 130,
   "outputs": [],
   "source": [
    "college2 = college.dropna(subset=subset)"
   ],
   "metadata": {
    "collapsed": false
   }
  },
  {
   "cell_type": "code",
   "execution_count": 131,
   "outputs": [
    {
     "data": {
      "text/plain": "(7535, 27)"
     },
     "execution_count": 131,
     "metadata": {},
     "output_type": "execute_result"
    }
   ],
   "source": [
    "college.shape"
   ],
   "metadata": {
    "collapsed": false
   }
  },
  {
   "cell_type": "code",
   "execution_count": 132,
   "outputs": [
    {
     "data": {
      "text/plain": "(1184, 27)"
     },
     "execution_count": 132,
     "metadata": {},
     "output_type": "execute_result"
    }
   ],
   "source": [
    "college2.shape"
   ],
   "metadata": {
    "collapsed": false
   }
  },
  {
   "cell_type": "code",
   "execution_count": 143,
   "outputs": [
    {
     "data": {
      "text/plain": "         UGDS  SATMTMID\n0      4206.0     420.0\n1     11383.0     565.0\n3      5451.0     590.0\n4      4811.0     430.0\n5     29851.0     565.0\n...       ...       ...\n6842   5736.0     505.0\n6970   5030.0     515.0\n7017  14976.0     505.0\n7113    879.0     585.0\n7137   1623.0     465.0\n\n[1184 rows x 2 columns]",
      "text/html": "<div>\n<style scoped>\n    .dataframe tbody tr th:only-of-type {\n        vertical-align: middle;\n    }\n\n    .dataframe tbody tr th {\n        vertical-align: top;\n    }\n\n    .dataframe thead th {\n        text-align: right;\n    }\n</style>\n<table border=\"1\" class=\"dataframe\">\n  <thead>\n    <tr style=\"text-align: right;\">\n      <th></th>\n      <th>UGDS</th>\n      <th>SATMTMID</th>\n    </tr>\n  </thead>\n  <tbody>\n    <tr>\n      <th>0</th>\n      <td>4206.0</td>\n      <td>420.0</td>\n    </tr>\n    <tr>\n      <th>1</th>\n      <td>11383.0</td>\n      <td>565.0</td>\n    </tr>\n    <tr>\n      <th>3</th>\n      <td>5451.0</td>\n      <td>590.0</td>\n    </tr>\n    <tr>\n      <th>4</th>\n      <td>4811.0</td>\n      <td>430.0</td>\n    </tr>\n    <tr>\n      <th>5</th>\n      <td>29851.0</td>\n      <td>565.0</td>\n    </tr>\n    <tr>\n      <th>...</th>\n      <td>...</td>\n      <td>...</td>\n    </tr>\n    <tr>\n      <th>6842</th>\n      <td>5736.0</td>\n      <td>505.0</td>\n    </tr>\n    <tr>\n      <th>6970</th>\n      <td>5030.0</td>\n      <td>515.0</td>\n    </tr>\n    <tr>\n      <th>7017</th>\n      <td>14976.0</td>\n      <td>505.0</td>\n    </tr>\n    <tr>\n      <th>7113</th>\n      <td>879.0</td>\n      <td>585.0</td>\n    </tr>\n    <tr>\n      <th>7137</th>\n      <td>1623.0</td>\n      <td>465.0</td>\n    </tr>\n  </tbody>\n</table>\n<p>1184 rows × 2 columns</p>\n</div>"
     },
     "execution_count": 143,
     "metadata": {},
     "output_type": "execute_result"
    }
   ],
   "source": [
    "college2.loc[:, ['UGDS', 'SATMTMID']]"
   ],
   "metadata": {
    "collapsed": false
   }
  },
  {
   "cell_type": "code",
   "execution_count": 133,
   "outputs": [],
   "source": [
    "def weighted_math_average(df):\n",
    "    weighted_math = df['UGDS'] * df['SATMTMID']\n",
    "    return int(weighted_math.sum() / df['UGDS'].sum())"
   ],
   "metadata": {
    "collapsed": false
   }
  },
  {
   "cell_type": "code",
   "execution_count": 142,
   "outputs": [
    {
     "data": {
      "text/plain": "STABBR\nAK    503\nAL    536\nAR    529\nAZ    569\nCA    564\nCO    553\nCT    545\nDC    621\nDE    569\nFL    565\nGA    540\nHI    534\nIA    577\nID    509\nIL    594\nIN    546\nKS    491\nKY    525\nLA    549\nMA    597\nMD    572\nME    524\nMI    586\nMN    598\nMO    576\nMS    527\nMT    551\nNC    552\nND    546\nNE    567\nNH    561\nNJ    554\nNM    529\nNV    516\nNY    578\nOH    569\nOK    557\nOR    540\nPA    553\nPR    571\nRI    567\nSC    549\nSD    528\nTN    544\nTX    548\nUT    577\nVA    550\nVI    390\nVT    566\nWA    555\nWI    593\nWV    500\nWY    540\ndtype: int64"
     },
     "execution_count": 142,
     "metadata": {},
     "output_type": "execute_result"
    }
   ],
   "source": [
    "college2.groupby('STABBR').apply(weighted_math_average)"
   ],
   "metadata": {
    "collapsed": false
   }
  },
  {
   "cell_type": "code",
   "execution_count": 144,
   "outputs": [
    {
     "ename": "KeyError",
     "evalue": "'UGDS'",
     "output_type": "error",
     "traceback": [
      "\u001B[0;31m---------------------------------------------------------------------------\u001B[0m",
      "\u001B[0;31mKeyError\u001B[0m                                  Traceback (most recent call last)",
      "File \u001B[0;32m~/anaconda3/lib/python3.10/site-packages/pandas/core/indexes/base.py:3802\u001B[0m, in \u001B[0;36mIndex.get_loc\u001B[0;34m(self, key, method, tolerance)\u001B[0m\n\u001B[1;32m   3801\u001B[0m \u001B[38;5;28;01mtry\u001B[39;00m:\n\u001B[0;32m-> 3802\u001B[0m     \u001B[38;5;28;01mreturn\u001B[39;00m \u001B[38;5;28;43mself\u001B[39;49m\u001B[38;5;241;43m.\u001B[39;49m\u001B[43m_engine\u001B[49m\u001B[38;5;241;43m.\u001B[39;49m\u001B[43mget_loc\u001B[49m\u001B[43m(\u001B[49m\u001B[43mcasted_key\u001B[49m\u001B[43m)\u001B[49m\n\u001B[1;32m   3803\u001B[0m \u001B[38;5;28;01mexcept\u001B[39;00m \u001B[38;5;167;01mKeyError\u001B[39;00m \u001B[38;5;28;01mas\u001B[39;00m err:\n",
      "File \u001B[0;32m~/anaconda3/lib/python3.10/site-packages/pandas/_libs/index.pyx:138\u001B[0m, in \u001B[0;36mpandas._libs.index.IndexEngine.get_loc\u001B[0;34m()\u001B[0m\n",
      "File \u001B[0;32m~/anaconda3/lib/python3.10/site-packages/pandas/_libs/index.pyx:146\u001B[0m, in \u001B[0;36mpandas._libs.index.IndexEngine.get_loc\u001B[0;34m()\u001B[0m\n",
      "File \u001B[0;32mpandas/_libs/index_class_helper.pxi:49\u001B[0m, in \u001B[0;36mpandas._libs.index.Int64Engine._check_type\u001B[0;34m()\u001B[0m\n",
      "\u001B[0;31mKeyError\u001B[0m: 'UGDS'",
      "\nThe above exception was the direct cause of the following exception:\n",
      "\u001B[0;31mKeyError\u001B[0m                                  Traceback (most recent call last)",
      "File \u001B[0;32m~/anaconda3/lib/python3.10/site-packages/pandas/core/groupby/generic.py:297\u001B[0m, in \u001B[0;36mSeriesGroupBy.aggregate\u001B[0;34m(self, func, engine, engine_kwargs, *args, **kwargs)\u001B[0m\n\u001B[1;32m    296\u001B[0m \u001B[38;5;28;01mtry\u001B[39;00m:\n\u001B[0;32m--> 297\u001B[0m     \u001B[38;5;28;01mreturn\u001B[39;00m \u001B[38;5;28;43mself\u001B[39;49m\u001B[38;5;241;43m.\u001B[39;49m\u001B[43m_python_agg_general\u001B[49m\u001B[43m(\u001B[49m\u001B[43mfunc\u001B[49m\u001B[43m,\u001B[49m\u001B[43m \u001B[49m\u001B[38;5;241;43m*\u001B[39;49m\u001B[43margs\u001B[49m\u001B[43m,\u001B[49m\u001B[43m \u001B[49m\u001B[38;5;241;43m*\u001B[39;49m\u001B[38;5;241;43m*\u001B[39;49m\u001B[43mkwargs\u001B[49m\u001B[43m)\u001B[49m\n\u001B[1;32m    298\u001B[0m \u001B[38;5;28;01mexcept\u001B[39;00m \u001B[38;5;167;01mKeyError\u001B[39;00m:\n\u001B[1;32m    299\u001B[0m     \u001B[38;5;66;03m# TODO: KeyError is raised in _python_agg_general,\u001B[39;00m\n\u001B[1;32m    300\u001B[0m     \u001B[38;5;66;03m#  see test_groupby.test_basic\u001B[39;00m\n",
      "File \u001B[0;32m~/anaconda3/lib/python3.10/site-packages/pandas/core/groupby/groupby.py:1682\u001B[0m, in \u001B[0;36mGroupBy._python_agg_general\u001B[0;34m(self, func, raise_on_typeerror, *args, **kwargs)\u001B[0m\n\u001B[1;32m   1680\u001B[0m \u001B[38;5;28;01mtry\u001B[39;00m:\n\u001B[1;32m   1681\u001B[0m     \u001B[38;5;66;03m# if this function is invalid for this dtype, we will ignore it.\u001B[39;00m\n\u001B[0;32m-> 1682\u001B[0m     result \u001B[38;5;241m=\u001B[39m \u001B[38;5;28;43mself\u001B[39;49m\u001B[38;5;241;43m.\u001B[39;49m\u001B[43mgrouper\u001B[49m\u001B[38;5;241;43m.\u001B[39;49m\u001B[43magg_series\u001B[49m\u001B[43m(\u001B[49m\u001B[43mobj\u001B[49m\u001B[43m,\u001B[49m\u001B[43m \u001B[49m\u001B[43mf\u001B[49m\u001B[43m)\u001B[49m\n\u001B[1;32m   1683\u001B[0m \u001B[38;5;28;01mexcept\u001B[39;00m \u001B[38;5;167;01mTypeError\u001B[39;00m:\n",
      "File \u001B[0;32m~/anaconda3/lib/python3.10/site-packages/pandas/core/groupby/ops.py:1081\u001B[0m, in \u001B[0;36mBaseGrouper.agg_series\u001B[0;34m(self, obj, func, preserve_dtype)\u001B[0m\n\u001B[1;32m   1080\u001B[0m \u001B[38;5;28;01melse\u001B[39;00m:\n\u001B[0;32m-> 1081\u001B[0m     result \u001B[38;5;241m=\u001B[39m \u001B[38;5;28;43mself\u001B[39;49m\u001B[38;5;241;43m.\u001B[39;49m\u001B[43m_aggregate_series_pure_python\u001B[49m\u001B[43m(\u001B[49m\u001B[43mobj\u001B[49m\u001B[43m,\u001B[49m\u001B[43m \u001B[49m\u001B[43mfunc\u001B[49m\u001B[43m)\u001B[49m\n\u001B[1;32m   1083\u001B[0m npvalues \u001B[38;5;241m=\u001B[39m lib\u001B[38;5;241m.\u001B[39mmaybe_convert_objects(result, try_float\u001B[38;5;241m=\u001B[39m\u001B[38;5;28;01mFalse\u001B[39;00m)\n",
      "File \u001B[0;32m~/anaconda3/lib/python3.10/site-packages/pandas/core/groupby/ops.py:1104\u001B[0m, in \u001B[0;36mBaseGrouper._aggregate_series_pure_python\u001B[0;34m(self, obj, func)\u001B[0m\n\u001B[1;32m   1103\u001B[0m \u001B[38;5;28;01mfor\u001B[39;00m i, group \u001B[38;5;129;01min\u001B[39;00m \u001B[38;5;28menumerate\u001B[39m(splitter):\n\u001B[0;32m-> 1104\u001B[0m     res \u001B[38;5;241m=\u001B[39m \u001B[43mfunc\u001B[49m\u001B[43m(\u001B[49m\u001B[43mgroup\u001B[49m\u001B[43m)\u001B[49m\n\u001B[1;32m   1105\u001B[0m     res \u001B[38;5;241m=\u001B[39m libreduction\u001B[38;5;241m.\u001B[39mextract_result(res)\n",
      "File \u001B[0;32m~/anaconda3/lib/python3.10/site-packages/pandas/core/groupby/groupby.py:1668\u001B[0m, in \u001B[0;36mGroupBy._python_agg_general.<locals>.<lambda>\u001B[0;34m(x)\u001B[0m\n\u001B[1;32m   1667\u001B[0m func \u001B[38;5;241m=\u001B[39m com\u001B[38;5;241m.\u001B[39mis_builtin_func(func)\n\u001B[0;32m-> 1668\u001B[0m f \u001B[38;5;241m=\u001B[39m \u001B[38;5;28;01mlambda\u001B[39;00m x: \u001B[43mfunc\u001B[49m\u001B[43m(\u001B[49m\u001B[43mx\u001B[49m\u001B[43m,\u001B[49m\u001B[43m \u001B[49m\u001B[38;5;241;43m*\u001B[39;49m\u001B[43margs\u001B[49m\u001B[43m,\u001B[49m\u001B[43m \u001B[49m\u001B[38;5;241;43m*\u001B[39;49m\u001B[38;5;241;43m*\u001B[39;49m\u001B[43mkwargs\u001B[49m\u001B[43m)\u001B[49m\n\u001B[1;32m   1670\u001B[0m \u001B[38;5;66;03m# iterate through \"columns\" ex exclusions to populate output dict\u001B[39;00m\n",
      "Cell \u001B[0;32mIn[133], line 2\u001B[0m, in \u001B[0;36mweighted_math_average\u001B[0;34m(df)\u001B[0m\n\u001B[1;32m      1\u001B[0m \u001B[38;5;28;01mdef\u001B[39;00m \u001B[38;5;21mweighted_math_average\u001B[39m(df):\n\u001B[0;32m----> 2\u001B[0m     weighted_math \u001B[38;5;241m=\u001B[39m \u001B[43mdf\u001B[49m\u001B[43m[\u001B[49m\u001B[38;5;124;43m'\u001B[39;49m\u001B[38;5;124;43mUGDS\u001B[39;49m\u001B[38;5;124;43m'\u001B[39;49m\u001B[43m]\u001B[49m \u001B[38;5;241m*\u001B[39m df[\u001B[38;5;124m'\u001B[39m\u001B[38;5;124mSATMTMID\u001B[39m\u001B[38;5;124m'\u001B[39m]\n\u001B[1;32m      3\u001B[0m     \u001B[38;5;28;01mreturn\u001B[39;00m \u001B[38;5;28mint\u001B[39m(weighted_math\u001B[38;5;241m.\u001B[39msum() \u001B[38;5;241m/\u001B[39m df[\u001B[38;5;124m'\u001B[39m\u001B[38;5;124mUGDS\u001B[39m\u001B[38;5;124m'\u001B[39m]\u001B[38;5;241m.\u001B[39msum())\n",
      "File \u001B[0;32m~/anaconda3/lib/python3.10/site-packages/pandas/core/series.py:981\u001B[0m, in \u001B[0;36mSeries.__getitem__\u001B[0;34m(self, key)\u001B[0m\n\u001B[1;32m    980\u001B[0m \u001B[38;5;28;01melif\u001B[39;00m key_is_scalar:\n\u001B[0;32m--> 981\u001B[0m     \u001B[38;5;28;01mreturn\u001B[39;00m \u001B[38;5;28;43mself\u001B[39;49m\u001B[38;5;241;43m.\u001B[39;49m\u001B[43m_get_value\u001B[49m\u001B[43m(\u001B[49m\u001B[43mkey\u001B[49m\u001B[43m)\u001B[49m\n\u001B[1;32m    983\u001B[0m \u001B[38;5;28;01mif\u001B[39;00m is_hashable(key):\n\u001B[1;32m    984\u001B[0m     \u001B[38;5;66;03m# Otherwise index.get_value will raise InvalidIndexError\u001B[39;00m\n",
      "File \u001B[0;32m~/anaconda3/lib/python3.10/site-packages/pandas/core/series.py:1089\u001B[0m, in \u001B[0;36mSeries._get_value\u001B[0;34m(self, label, takeable)\u001B[0m\n\u001B[1;32m   1088\u001B[0m \u001B[38;5;66;03m# Similar to Index.get_value, but we do not fall back to positional\u001B[39;00m\n\u001B[0;32m-> 1089\u001B[0m loc \u001B[38;5;241m=\u001B[39m \u001B[38;5;28;43mself\u001B[39;49m\u001B[38;5;241;43m.\u001B[39;49m\u001B[43mindex\u001B[49m\u001B[38;5;241;43m.\u001B[39;49m\u001B[43mget_loc\u001B[49m\u001B[43m(\u001B[49m\u001B[43mlabel\u001B[49m\u001B[43m)\u001B[49m\n\u001B[1;32m   1090\u001B[0m \u001B[38;5;28;01mreturn\u001B[39;00m \u001B[38;5;28mself\u001B[39m\u001B[38;5;241m.\u001B[39mindex\u001B[38;5;241m.\u001B[39m_get_values_for_loc(\u001B[38;5;28mself\u001B[39m, loc, label)\n",
      "File \u001B[0;32m~/anaconda3/lib/python3.10/site-packages/pandas/core/indexes/base.py:3804\u001B[0m, in \u001B[0;36mIndex.get_loc\u001B[0;34m(self, key, method, tolerance)\u001B[0m\n\u001B[1;32m   3803\u001B[0m \u001B[38;5;28;01mexcept\u001B[39;00m \u001B[38;5;167;01mKeyError\u001B[39;00m \u001B[38;5;28;01mas\u001B[39;00m err:\n\u001B[0;32m-> 3804\u001B[0m     \u001B[38;5;28;01mraise\u001B[39;00m \u001B[38;5;167;01mKeyError\u001B[39;00m(key) \u001B[38;5;28;01mfrom\u001B[39;00m \u001B[38;5;21;01merr\u001B[39;00m\n\u001B[1;32m   3805\u001B[0m \u001B[38;5;28;01mexcept\u001B[39;00m \u001B[38;5;167;01mTypeError\u001B[39;00m:\n\u001B[1;32m   3806\u001B[0m     \u001B[38;5;66;03m# If we have a listlike key, _check_indexing_error will raise\u001B[39;00m\n\u001B[1;32m   3807\u001B[0m     \u001B[38;5;66;03m#  InvalidIndexError. Otherwise we fall through and re-raise\u001B[39;00m\n\u001B[1;32m   3808\u001B[0m     \u001B[38;5;66;03m#  the TypeError.\u001B[39;00m\n",
      "\u001B[0;31mKeyError\u001B[0m: 'UGDS'",
      "\nDuring handling of the above exception, another exception occurred:\n",
      "\u001B[0;31mKeyError\u001B[0m                                  Traceback (most recent call last)",
      "File \u001B[0;32m~/anaconda3/lib/python3.10/site-packages/pandas/core/indexes/base.py:3802\u001B[0m, in \u001B[0;36mIndex.get_loc\u001B[0;34m(self, key, method, tolerance)\u001B[0m\n\u001B[1;32m   3801\u001B[0m \u001B[38;5;28;01mtry\u001B[39;00m:\n\u001B[0;32m-> 3802\u001B[0m     \u001B[38;5;28;01mreturn\u001B[39;00m \u001B[38;5;28;43mself\u001B[39;49m\u001B[38;5;241;43m.\u001B[39;49m\u001B[43m_engine\u001B[49m\u001B[38;5;241;43m.\u001B[39;49m\u001B[43mget_loc\u001B[49m\u001B[43m(\u001B[49m\u001B[43mcasted_key\u001B[49m\u001B[43m)\u001B[49m\n\u001B[1;32m   3803\u001B[0m \u001B[38;5;28;01mexcept\u001B[39;00m \u001B[38;5;167;01mKeyError\u001B[39;00m \u001B[38;5;28;01mas\u001B[39;00m err:\n",
      "File \u001B[0;32m~/anaconda3/lib/python3.10/site-packages/pandas/_libs/index.pyx:138\u001B[0m, in \u001B[0;36mpandas._libs.index.IndexEngine.get_loc\u001B[0;34m()\u001B[0m\n",
      "File \u001B[0;32m~/anaconda3/lib/python3.10/site-packages/pandas/_libs/index.pyx:146\u001B[0m, in \u001B[0;36mpandas._libs.index.IndexEngine.get_loc\u001B[0;34m()\u001B[0m\n",
      "File \u001B[0;32mpandas/_libs/index_class_helper.pxi:49\u001B[0m, in \u001B[0;36mpandas._libs.index.Int64Engine._check_type\u001B[0;34m()\u001B[0m\n",
      "\u001B[0;31mKeyError\u001B[0m: 'UGDS'",
      "\nThe above exception was the direct cause of the following exception:\n",
      "\u001B[0;31mKeyError\u001B[0m                                  Traceback (most recent call last)",
      "Cell \u001B[0;32mIn[144], line 4\u001B[0m\n\u001B[1;32m      1\u001B[0m (\n\u001B[1;32m      2\u001B[0m     \u001B[43mcollege2\u001B[49m\n\u001B[1;32m      3\u001B[0m \u001B[43m    \u001B[49m\u001B[38;5;241;43m.\u001B[39;49m\u001B[43mgroupby\u001B[49m\u001B[43m(\u001B[49m\u001B[38;5;124;43m'\u001B[39;49m\u001B[38;5;124;43mSTABBR\u001B[39;49m\u001B[38;5;124;43m'\u001B[39;49m\u001B[43m)\u001B[49m\n\u001B[0;32m----> 4\u001B[0m \u001B[43m    \u001B[49m\u001B[38;5;241;43m.\u001B[39;49m\u001B[43magg\u001B[49m\u001B[43m(\u001B[49m\u001B[43mweighted_math_average\u001B[49m\u001B[43m)\u001B[49m\n\u001B[1;32m      5\u001B[0m )\n",
      "File \u001B[0;32m~/anaconda3/lib/python3.10/site-packages/pandas/core/groupby/generic.py:926\u001B[0m, in \u001B[0;36mDataFrameGroupBy.aggregate\u001B[0;34m(self, func, engine, engine_kwargs, *args, **kwargs)\u001B[0m\n\u001B[1;32m    924\u001B[0m gba \u001B[38;5;241m=\u001B[39m GroupByApply(\u001B[38;5;28mself\u001B[39m, [func], args\u001B[38;5;241m=\u001B[39m(), kwargs\u001B[38;5;241m=\u001B[39m{})\n\u001B[1;32m    925\u001B[0m \u001B[38;5;28;01mtry\u001B[39;00m:\n\u001B[0;32m--> 926\u001B[0m     result \u001B[38;5;241m=\u001B[39m \u001B[43mgba\u001B[49m\u001B[38;5;241;43m.\u001B[39;49m\u001B[43magg\u001B[49m\u001B[43m(\u001B[49m\u001B[43m)\u001B[49m\n\u001B[1;32m    928\u001B[0m \u001B[38;5;28;01mexcept\u001B[39;00m \u001B[38;5;167;01mValueError\u001B[39;00m \u001B[38;5;28;01mas\u001B[39;00m err:\n\u001B[1;32m    929\u001B[0m     \u001B[38;5;28;01mif\u001B[39;00m \u001B[38;5;124m\"\u001B[39m\u001B[38;5;124mno results\u001B[39m\u001B[38;5;124m\"\u001B[39m \u001B[38;5;129;01mnot\u001B[39;00m \u001B[38;5;129;01min\u001B[39;00m \u001B[38;5;28mstr\u001B[39m(err):\n\u001B[1;32m    930\u001B[0m         \u001B[38;5;66;03m# raised directly by _aggregate_multiple_funcs\u001B[39;00m\n",
      "File \u001B[0;32m~/anaconda3/lib/python3.10/site-packages/pandas/core/apply.py:175\u001B[0m, in \u001B[0;36mApply.agg\u001B[0;34m(self)\u001B[0m\n\u001B[1;32m    172\u001B[0m     \u001B[38;5;28;01mreturn\u001B[39;00m \u001B[38;5;28mself\u001B[39m\u001B[38;5;241m.\u001B[39magg_dict_like()\n\u001B[1;32m    173\u001B[0m \u001B[38;5;28;01melif\u001B[39;00m is_list_like(arg):\n\u001B[1;32m    174\u001B[0m     \u001B[38;5;66;03m# we require a list, but not a 'str'\u001B[39;00m\n\u001B[0;32m--> 175\u001B[0m     \u001B[38;5;28;01mreturn\u001B[39;00m \u001B[38;5;28;43mself\u001B[39;49m\u001B[38;5;241;43m.\u001B[39;49m\u001B[43magg_list_like\u001B[49m\u001B[43m(\u001B[49m\u001B[43m)\u001B[49m\n\u001B[1;32m    177\u001B[0m \u001B[38;5;28;01mif\u001B[39;00m callable(arg):\n\u001B[1;32m    178\u001B[0m     f \u001B[38;5;241m=\u001B[39m com\u001B[38;5;241m.\u001B[39mget_cython_func(arg)\n",
      "File \u001B[0;32m~/anaconda3/lib/python3.10/site-packages/pandas/core/apply.py:401\u001B[0m, in \u001B[0;36mApply.agg_list_like\u001B[0;34m(self)\u001B[0m\n\u001B[1;32m    394\u001B[0m \u001B[38;5;28;01mtry\u001B[39;00m:\n\u001B[1;32m    395\u001B[0m     \u001B[38;5;66;03m# Capture and suppress any warnings emitted by us in the call\u001B[39;00m\n\u001B[1;32m    396\u001B[0m     \u001B[38;5;66;03m# to agg below, but pass through any warnings that were\u001B[39;00m\n\u001B[1;32m    397\u001B[0m     \u001B[38;5;66;03m# generated otherwise.\u001B[39;00m\n\u001B[1;32m    398\u001B[0m     \u001B[38;5;66;03m# This is necessary because of https://bugs.python.org/issue29672\u001B[39;00m\n\u001B[1;32m    399\u001B[0m     \u001B[38;5;66;03m# See GH #43741 for more details\u001B[39;00m\n\u001B[1;32m    400\u001B[0m     \u001B[38;5;28;01mwith\u001B[39;00m warnings\u001B[38;5;241m.\u001B[39mcatch_warnings(record\u001B[38;5;241m=\u001B[39m\u001B[38;5;28;01mTrue\u001B[39;00m) \u001B[38;5;28;01mas\u001B[39;00m record:\n\u001B[0;32m--> 401\u001B[0m         new_res \u001B[38;5;241m=\u001B[39m \u001B[43mcolg\u001B[49m\u001B[38;5;241;43m.\u001B[39;49m\u001B[43maggregate\u001B[49m\u001B[43m(\u001B[49m\u001B[43marg\u001B[49m\u001B[43m)\u001B[49m\n\u001B[1;32m    402\u001B[0m     \u001B[38;5;28;01mif\u001B[39;00m \u001B[38;5;28mlen\u001B[39m(record) \u001B[38;5;241m>\u001B[39m \u001B[38;5;241m0\u001B[39m:\n\u001B[1;32m    403\u001B[0m         match \u001B[38;5;241m=\u001B[39m re\u001B[38;5;241m.\u001B[39mcompile(depr_nuisance_columns_msg\u001B[38;5;241m.\u001B[39mformat(\u001B[38;5;124m\"\u001B[39m\u001B[38;5;124m.*\u001B[39m\u001B[38;5;124m\"\u001B[39m))\n",
      "File \u001B[0;32m~/anaconda3/lib/python3.10/site-packages/pandas/core/groupby/generic.py:281\u001B[0m, in \u001B[0;36mSeriesGroupBy.aggregate\u001B[0;34m(self, func, engine, engine_kwargs, *args, **kwargs)\u001B[0m\n\u001B[1;32m    277\u001B[0m \u001B[38;5;28;01melif\u001B[39;00m \u001B[38;5;28misinstance\u001B[39m(func, abc\u001B[38;5;241m.\u001B[39mIterable):\n\u001B[1;32m    278\u001B[0m     \u001B[38;5;66;03m# Catch instances of lists / tuples\u001B[39;00m\n\u001B[1;32m    279\u001B[0m     \u001B[38;5;66;03m# but not the class list / tuple itself.\u001B[39;00m\n\u001B[1;32m    280\u001B[0m     func \u001B[38;5;241m=\u001B[39m maybe_mangle_lambdas(func)\n\u001B[0;32m--> 281\u001B[0m     ret \u001B[38;5;241m=\u001B[39m \u001B[38;5;28;43mself\u001B[39;49m\u001B[38;5;241;43m.\u001B[39;49m\u001B[43m_aggregate_multiple_funcs\u001B[49m\u001B[43m(\u001B[49m\u001B[43mfunc\u001B[49m\u001B[43m)\u001B[49m\n\u001B[1;32m    282\u001B[0m     \u001B[38;5;28;01mif\u001B[39;00m relabeling:\n\u001B[1;32m    283\u001B[0m         \u001B[38;5;66;03m# columns is not narrowed by mypy from relabeling flag\u001B[39;00m\n\u001B[1;32m    284\u001B[0m         \u001B[38;5;28;01massert\u001B[39;00m columns \u001B[38;5;129;01mis\u001B[39;00m \u001B[38;5;129;01mnot\u001B[39;00m \u001B[38;5;28;01mNone\u001B[39;00m  \u001B[38;5;66;03m# for mypy\u001B[39;00m\n",
      "File \u001B[0;32m~/anaconda3/lib/python3.10/site-packages/pandas/core/groupby/generic.py:336\u001B[0m, in \u001B[0;36mSeriesGroupBy._aggregate_multiple_funcs\u001B[0;34m(self, arg)\u001B[0m\n\u001B[1;32m    333\u001B[0m \u001B[38;5;28;01mfor\u001B[39;00m idx, (name, func) \u001B[38;5;129;01min\u001B[39;00m \u001B[38;5;28menumerate\u001B[39m(arg):\n\u001B[1;32m    335\u001B[0m     key \u001B[38;5;241m=\u001B[39m base\u001B[38;5;241m.\u001B[39mOutputKey(label\u001B[38;5;241m=\u001B[39mname, position\u001B[38;5;241m=\u001B[39midx)\n\u001B[0;32m--> 336\u001B[0m     results[key] \u001B[38;5;241m=\u001B[39m \u001B[38;5;28;43mself\u001B[39;49m\u001B[38;5;241;43m.\u001B[39;49m\u001B[43maggregate\u001B[49m\u001B[43m(\u001B[49m\u001B[43mfunc\u001B[49m\u001B[43m)\u001B[49m\n\u001B[1;32m    338\u001B[0m \u001B[38;5;28;01mif\u001B[39;00m \u001B[38;5;28many\u001B[39m(\u001B[38;5;28misinstance\u001B[39m(x, DataFrame) \u001B[38;5;28;01mfor\u001B[39;00m x \u001B[38;5;129;01min\u001B[39;00m results\u001B[38;5;241m.\u001B[39mvalues()):\n\u001B[1;32m    339\u001B[0m     \u001B[38;5;28;01mfrom\u001B[39;00m \u001B[38;5;21;01mpandas\u001B[39;00m \u001B[38;5;28;01mimport\u001B[39;00m concat\n",
      "File \u001B[0;32m~/anaconda3/lib/python3.10/site-packages/pandas/core/groupby/generic.py:301\u001B[0m, in \u001B[0;36mSeriesGroupBy.aggregate\u001B[0;34m(self, func, engine, engine_kwargs, *args, **kwargs)\u001B[0m\n\u001B[1;32m    297\u001B[0m     \u001B[38;5;28;01mreturn\u001B[39;00m \u001B[38;5;28mself\u001B[39m\u001B[38;5;241m.\u001B[39m_python_agg_general(func, \u001B[38;5;241m*\u001B[39margs, \u001B[38;5;241m*\u001B[39m\u001B[38;5;241m*\u001B[39mkwargs)\n\u001B[1;32m    298\u001B[0m \u001B[38;5;28;01mexcept\u001B[39;00m \u001B[38;5;167;01mKeyError\u001B[39;00m:\n\u001B[1;32m    299\u001B[0m     \u001B[38;5;66;03m# TODO: KeyError is raised in _python_agg_general,\u001B[39;00m\n\u001B[1;32m    300\u001B[0m     \u001B[38;5;66;03m#  see test_groupby.test_basic\u001B[39;00m\n\u001B[0;32m--> 301\u001B[0m     result \u001B[38;5;241m=\u001B[39m \u001B[38;5;28;43mself\u001B[39;49m\u001B[38;5;241;43m.\u001B[39;49m\u001B[43m_aggregate_named\u001B[49m\u001B[43m(\u001B[49m\u001B[43mfunc\u001B[49m\u001B[43m,\u001B[49m\u001B[43m \u001B[49m\u001B[38;5;241;43m*\u001B[39;49m\u001B[43margs\u001B[49m\u001B[43m,\u001B[49m\u001B[43m \u001B[49m\u001B[38;5;241;43m*\u001B[39;49m\u001B[38;5;241;43m*\u001B[39;49m\u001B[43mkwargs\u001B[49m\u001B[43m)\u001B[49m\n\u001B[1;32m    303\u001B[0m     \u001B[38;5;66;03m# result is a dict whose keys are the elements of result_index\u001B[39;00m\n\u001B[1;32m    304\u001B[0m     index \u001B[38;5;241m=\u001B[39m \u001B[38;5;28mself\u001B[39m\u001B[38;5;241m.\u001B[39mgrouper\u001B[38;5;241m.\u001B[39mresult_index\n",
      "File \u001B[0;32m~/anaconda3/lib/python3.10/site-packages/pandas/core/groupby/generic.py:433\u001B[0m, in \u001B[0;36mSeriesGroupBy._aggregate_named\u001B[0;34m(self, func, *args, **kwargs)\u001B[0m\n\u001B[1;32m    430\u001B[0m \u001B[38;5;28;01mfor\u001B[39;00m name, group \u001B[38;5;129;01min\u001B[39;00m \u001B[38;5;28mself\u001B[39m:\n\u001B[1;32m    431\u001B[0m     \u001B[38;5;28mobject\u001B[39m\u001B[38;5;241m.\u001B[39m\u001B[38;5;21m__setattr__\u001B[39m(group, \u001B[38;5;124m\"\u001B[39m\u001B[38;5;124mname\u001B[39m\u001B[38;5;124m\"\u001B[39m, name)\n\u001B[0;32m--> 433\u001B[0m     output \u001B[38;5;241m=\u001B[39m \u001B[43mfunc\u001B[49m\u001B[43m(\u001B[49m\u001B[43mgroup\u001B[49m\u001B[43m,\u001B[49m\u001B[43m \u001B[49m\u001B[38;5;241;43m*\u001B[39;49m\u001B[43margs\u001B[49m\u001B[43m,\u001B[49m\u001B[43m \u001B[49m\u001B[38;5;241;43m*\u001B[39;49m\u001B[38;5;241;43m*\u001B[39;49m\u001B[43mkwargs\u001B[49m\u001B[43m)\u001B[49m\n\u001B[1;32m    434\u001B[0m     output \u001B[38;5;241m=\u001B[39m libreduction\u001B[38;5;241m.\u001B[39mextract_result(output)\n\u001B[1;32m    435\u001B[0m     \u001B[38;5;28;01mif\u001B[39;00m \u001B[38;5;129;01mnot\u001B[39;00m initialized:\n\u001B[1;32m    436\u001B[0m         \u001B[38;5;66;03m# We only do this validation on the first iteration\u001B[39;00m\n",
      "Cell \u001B[0;32mIn[133], line 2\u001B[0m, in \u001B[0;36mweighted_math_average\u001B[0;34m(df)\u001B[0m\n\u001B[1;32m      1\u001B[0m \u001B[38;5;28;01mdef\u001B[39;00m \u001B[38;5;21mweighted_math_average\u001B[39m(df):\n\u001B[0;32m----> 2\u001B[0m     weighted_math \u001B[38;5;241m=\u001B[39m \u001B[43mdf\u001B[49m\u001B[43m[\u001B[49m\u001B[38;5;124;43m'\u001B[39;49m\u001B[38;5;124;43mUGDS\u001B[39;49m\u001B[38;5;124;43m'\u001B[39;49m\u001B[43m]\u001B[49m \u001B[38;5;241m*\u001B[39m df[\u001B[38;5;124m'\u001B[39m\u001B[38;5;124mSATMTMID\u001B[39m\u001B[38;5;124m'\u001B[39m]\n\u001B[1;32m      3\u001B[0m     \u001B[38;5;28;01mreturn\u001B[39;00m \u001B[38;5;28mint\u001B[39m(weighted_math\u001B[38;5;241m.\u001B[39msum() \u001B[38;5;241m/\u001B[39m df[\u001B[38;5;124m'\u001B[39m\u001B[38;5;124mUGDS\u001B[39m\u001B[38;5;124m'\u001B[39m]\u001B[38;5;241m.\u001B[39msum())\n",
      "File \u001B[0;32m~/anaconda3/lib/python3.10/site-packages/pandas/core/series.py:981\u001B[0m, in \u001B[0;36mSeries.__getitem__\u001B[0;34m(self, key)\u001B[0m\n\u001B[1;32m    978\u001B[0m     \u001B[38;5;28;01mreturn\u001B[39;00m \u001B[38;5;28mself\u001B[39m\u001B[38;5;241m.\u001B[39m_values[key]\n\u001B[1;32m    980\u001B[0m \u001B[38;5;28;01melif\u001B[39;00m key_is_scalar:\n\u001B[0;32m--> 981\u001B[0m     \u001B[38;5;28;01mreturn\u001B[39;00m \u001B[38;5;28;43mself\u001B[39;49m\u001B[38;5;241;43m.\u001B[39;49m\u001B[43m_get_value\u001B[49m\u001B[43m(\u001B[49m\u001B[43mkey\u001B[49m\u001B[43m)\u001B[49m\n\u001B[1;32m    983\u001B[0m \u001B[38;5;28;01mif\u001B[39;00m is_hashable(key):\n\u001B[1;32m    984\u001B[0m     \u001B[38;5;66;03m# Otherwise index.get_value will raise InvalidIndexError\u001B[39;00m\n\u001B[1;32m    985\u001B[0m     \u001B[38;5;28;01mtry\u001B[39;00m:\n\u001B[1;32m    986\u001B[0m         \u001B[38;5;66;03m# For labels that don't resolve as scalars like tuples and frozensets\u001B[39;00m\n",
      "File \u001B[0;32m~/anaconda3/lib/python3.10/site-packages/pandas/core/series.py:1089\u001B[0m, in \u001B[0;36mSeries._get_value\u001B[0;34m(self, label, takeable)\u001B[0m\n\u001B[1;32m   1086\u001B[0m     \u001B[38;5;28;01mreturn\u001B[39;00m \u001B[38;5;28mself\u001B[39m\u001B[38;5;241m.\u001B[39m_values[label]\n\u001B[1;32m   1088\u001B[0m \u001B[38;5;66;03m# Similar to Index.get_value, but we do not fall back to positional\u001B[39;00m\n\u001B[0;32m-> 1089\u001B[0m loc \u001B[38;5;241m=\u001B[39m \u001B[38;5;28;43mself\u001B[39;49m\u001B[38;5;241;43m.\u001B[39;49m\u001B[43mindex\u001B[49m\u001B[38;5;241;43m.\u001B[39;49m\u001B[43mget_loc\u001B[49m\u001B[43m(\u001B[49m\u001B[43mlabel\u001B[49m\u001B[43m)\u001B[49m\n\u001B[1;32m   1090\u001B[0m \u001B[38;5;28;01mreturn\u001B[39;00m \u001B[38;5;28mself\u001B[39m\u001B[38;5;241m.\u001B[39mindex\u001B[38;5;241m.\u001B[39m_get_values_for_loc(\u001B[38;5;28mself\u001B[39m, loc, label)\n",
      "File \u001B[0;32m~/anaconda3/lib/python3.10/site-packages/pandas/core/indexes/base.py:3804\u001B[0m, in \u001B[0;36mIndex.get_loc\u001B[0;34m(self, key, method, tolerance)\u001B[0m\n\u001B[1;32m   3802\u001B[0m     \u001B[38;5;28;01mreturn\u001B[39;00m \u001B[38;5;28mself\u001B[39m\u001B[38;5;241m.\u001B[39m_engine\u001B[38;5;241m.\u001B[39mget_loc(casted_key)\n\u001B[1;32m   3803\u001B[0m \u001B[38;5;28;01mexcept\u001B[39;00m \u001B[38;5;167;01mKeyError\u001B[39;00m \u001B[38;5;28;01mas\u001B[39;00m err:\n\u001B[0;32m-> 3804\u001B[0m     \u001B[38;5;28;01mraise\u001B[39;00m \u001B[38;5;167;01mKeyError\u001B[39;00m(key) \u001B[38;5;28;01mfrom\u001B[39;00m \u001B[38;5;21;01merr\u001B[39;00m\n\u001B[1;32m   3805\u001B[0m \u001B[38;5;28;01mexcept\u001B[39;00m \u001B[38;5;167;01mTypeError\u001B[39;00m:\n\u001B[1;32m   3806\u001B[0m     \u001B[38;5;66;03m# If we have a listlike key, _check_indexing_error will raise\u001B[39;00m\n\u001B[1;32m   3807\u001B[0m     \u001B[38;5;66;03m#  InvalidIndexError. Otherwise we fall through and re-raise\u001B[39;00m\n\u001B[1;32m   3808\u001B[0m     \u001B[38;5;66;03m#  the TypeError.\u001B[39;00m\n\u001B[1;32m   3809\u001B[0m     \u001B[38;5;28mself\u001B[39m\u001B[38;5;241m.\u001B[39m_check_indexing_error(key)\n",
      "\u001B[0;31mKeyError\u001B[0m: 'UGDS'"
     ]
    }
   ],
   "source": [
    "(\n",
    "    college2\n",
    "    .groupby('STABBR')\n",
    "    .agg(weighted_math_average)\n",
    ")"
   ],
   "metadata": {
    "collapsed": false
   }
  },
  {
   "cell_type": "code",
   "execution_count": 145,
   "outputs": [
    {
     "ename": "KeyError",
     "evalue": "'UGDS'",
     "output_type": "error",
     "traceback": [
      "\u001B[0;31m---------------------------------------------------------------------------\u001B[0m",
      "\u001B[0;31mKeyError\u001B[0m                                  Traceback (most recent call last)",
      "File \u001B[0;32m~/anaconda3/lib/python3.10/site-packages/pandas/core/indexes/base.py:3802\u001B[0m, in \u001B[0;36mIndex.get_loc\u001B[0;34m(self, key, method, tolerance)\u001B[0m\n\u001B[1;32m   3801\u001B[0m \u001B[38;5;28;01mtry\u001B[39;00m:\n\u001B[0;32m-> 3802\u001B[0m     \u001B[38;5;28;01mreturn\u001B[39;00m \u001B[38;5;28;43mself\u001B[39;49m\u001B[38;5;241;43m.\u001B[39;49m\u001B[43m_engine\u001B[49m\u001B[38;5;241;43m.\u001B[39;49m\u001B[43mget_loc\u001B[49m\u001B[43m(\u001B[49m\u001B[43mcasted_key\u001B[49m\u001B[43m)\u001B[49m\n\u001B[1;32m   3803\u001B[0m \u001B[38;5;28;01mexcept\u001B[39;00m \u001B[38;5;167;01mKeyError\u001B[39;00m \u001B[38;5;28;01mas\u001B[39;00m err:\n",
      "File \u001B[0;32m~/anaconda3/lib/python3.10/site-packages/pandas/_libs/index.pyx:138\u001B[0m, in \u001B[0;36mpandas._libs.index.IndexEngine.get_loc\u001B[0;34m()\u001B[0m\n",
      "File \u001B[0;32m~/anaconda3/lib/python3.10/site-packages/pandas/_libs/index.pyx:146\u001B[0m, in \u001B[0;36mpandas._libs.index.IndexEngine.get_loc\u001B[0;34m()\u001B[0m\n",
      "File \u001B[0;32mpandas/_libs/index_class_helper.pxi:49\u001B[0m, in \u001B[0;36mpandas._libs.index.Int64Engine._check_type\u001B[0;34m()\u001B[0m\n",
      "\u001B[0;31mKeyError\u001B[0m: 'UGDS'",
      "\nThe above exception was the direct cause of the following exception:\n",
      "\u001B[0;31mKeyError\u001B[0m                                  Traceback (most recent call last)",
      "File \u001B[0;32m~/anaconda3/lib/python3.10/site-packages/pandas/core/groupby/generic.py:297\u001B[0m, in \u001B[0;36mSeriesGroupBy.aggregate\u001B[0;34m(self, func, engine, engine_kwargs, *args, **kwargs)\u001B[0m\n\u001B[1;32m    296\u001B[0m \u001B[38;5;28;01mtry\u001B[39;00m:\n\u001B[0;32m--> 297\u001B[0m     \u001B[38;5;28;01mreturn\u001B[39;00m \u001B[38;5;28;43mself\u001B[39;49m\u001B[38;5;241;43m.\u001B[39;49m\u001B[43m_python_agg_general\u001B[49m\u001B[43m(\u001B[49m\u001B[43mfunc\u001B[49m\u001B[43m,\u001B[49m\u001B[43m \u001B[49m\u001B[38;5;241;43m*\u001B[39;49m\u001B[43margs\u001B[49m\u001B[43m,\u001B[49m\u001B[43m \u001B[49m\u001B[38;5;241;43m*\u001B[39;49m\u001B[38;5;241;43m*\u001B[39;49m\u001B[43mkwargs\u001B[49m\u001B[43m)\u001B[49m\n\u001B[1;32m    298\u001B[0m \u001B[38;5;28;01mexcept\u001B[39;00m \u001B[38;5;167;01mKeyError\u001B[39;00m:\n\u001B[1;32m    299\u001B[0m     \u001B[38;5;66;03m# TODO: KeyError is raised in _python_agg_general,\u001B[39;00m\n\u001B[1;32m    300\u001B[0m     \u001B[38;5;66;03m#  see test_groupby.test_basic\u001B[39;00m\n",
      "File \u001B[0;32m~/anaconda3/lib/python3.10/site-packages/pandas/core/groupby/groupby.py:1682\u001B[0m, in \u001B[0;36mGroupBy._python_agg_general\u001B[0;34m(self, func, raise_on_typeerror, *args, **kwargs)\u001B[0m\n\u001B[1;32m   1680\u001B[0m \u001B[38;5;28;01mtry\u001B[39;00m:\n\u001B[1;32m   1681\u001B[0m     \u001B[38;5;66;03m# if this function is invalid for this dtype, we will ignore it.\u001B[39;00m\n\u001B[0;32m-> 1682\u001B[0m     result \u001B[38;5;241m=\u001B[39m \u001B[38;5;28;43mself\u001B[39;49m\u001B[38;5;241;43m.\u001B[39;49m\u001B[43mgrouper\u001B[49m\u001B[38;5;241;43m.\u001B[39;49m\u001B[43magg_series\u001B[49m\u001B[43m(\u001B[49m\u001B[43mobj\u001B[49m\u001B[43m,\u001B[49m\u001B[43m \u001B[49m\u001B[43mf\u001B[49m\u001B[43m)\u001B[49m\n\u001B[1;32m   1683\u001B[0m \u001B[38;5;28;01mexcept\u001B[39;00m \u001B[38;5;167;01mTypeError\u001B[39;00m:\n",
      "File \u001B[0;32m~/anaconda3/lib/python3.10/site-packages/pandas/core/groupby/ops.py:1081\u001B[0m, in \u001B[0;36mBaseGrouper.agg_series\u001B[0;34m(self, obj, func, preserve_dtype)\u001B[0m\n\u001B[1;32m   1080\u001B[0m \u001B[38;5;28;01melse\u001B[39;00m:\n\u001B[0;32m-> 1081\u001B[0m     result \u001B[38;5;241m=\u001B[39m \u001B[38;5;28;43mself\u001B[39;49m\u001B[38;5;241;43m.\u001B[39;49m\u001B[43m_aggregate_series_pure_python\u001B[49m\u001B[43m(\u001B[49m\u001B[43mobj\u001B[49m\u001B[43m,\u001B[49m\u001B[43m \u001B[49m\u001B[43mfunc\u001B[49m\u001B[43m)\u001B[49m\n\u001B[1;32m   1083\u001B[0m npvalues \u001B[38;5;241m=\u001B[39m lib\u001B[38;5;241m.\u001B[39mmaybe_convert_objects(result, try_float\u001B[38;5;241m=\u001B[39m\u001B[38;5;28;01mFalse\u001B[39;00m)\n",
      "File \u001B[0;32m~/anaconda3/lib/python3.10/site-packages/pandas/core/groupby/ops.py:1104\u001B[0m, in \u001B[0;36mBaseGrouper._aggregate_series_pure_python\u001B[0;34m(self, obj, func)\u001B[0m\n\u001B[1;32m   1103\u001B[0m \u001B[38;5;28;01mfor\u001B[39;00m i, group \u001B[38;5;129;01min\u001B[39;00m \u001B[38;5;28menumerate\u001B[39m(splitter):\n\u001B[0;32m-> 1104\u001B[0m     res \u001B[38;5;241m=\u001B[39m \u001B[43mfunc\u001B[49m\u001B[43m(\u001B[49m\u001B[43mgroup\u001B[49m\u001B[43m)\u001B[49m\n\u001B[1;32m   1105\u001B[0m     res \u001B[38;5;241m=\u001B[39m libreduction\u001B[38;5;241m.\u001B[39mextract_result(res)\n",
      "File \u001B[0;32m~/anaconda3/lib/python3.10/site-packages/pandas/core/groupby/groupby.py:1668\u001B[0m, in \u001B[0;36mGroupBy._python_agg_general.<locals>.<lambda>\u001B[0;34m(x)\u001B[0m\n\u001B[1;32m   1667\u001B[0m func \u001B[38;5;241m=\u001B[39m com\u001B[38;5;241m.\u001B[39mis_builtin_func(func)\n\u001B[0;32m-> 1668\u001B[0m f \u001B[38;5;241m=\u001B[39m \u001B[38;5;28;01mlambda\u001B[39;00m x: \u001B[43mfunc\u001B[49m\u001B[43m(\u001B[49m\u001B[43mx\u001B[49m\u001B[43m,\u001B[49m\u001B[43m \u001B[49m\u001B[38;5;241;43m*\u001B[39;49m\u001B[43margs\u001B[49m\u001B[43m,\u001B[49m\u001B[43m \u001B[49m\u001B[38;5;241;43m*\u001B[39;49m\u001B[38;5;241;43m*\u001B[39;49m\u001B[43mkwargs\u001B[49m\u001B[43m)\u001B[49m\n\u001B[1;32m   1670\u001B[0m \u001B[38;5;66;03m# iterate through \"columns\" ex exclusions to populate output dict\u001B[39;00m\n",
      "Cell \u001B[0;32mIn[133], line 2\u001B[0m, in \u001B[0;36mweighted_math_average\u001B[0;34m(df)\u001B[0m\n\u001B[1;32m      1\u001B[0m \u001B[38;5;28;01mdef\u001B[39;00m \u001B[38;5;21mweighted_math_average\u001B[39m(df):\n\u001B[0;32m----> 2\u001B[0m     weighted_math \u001B[38;5;241m=\u001B[39m \u001B[43mdf\u001B[49m\u001B[43m[\u001B[49m\u001B[38;5;124;43m'\u001B[39;49m\u001B[38;5;124;43mUGDS\u001B[39;49m\u001B[38;5;124;43m'\u001B[39;49m\u001B[43m]\u001B[49m \u001B[38;5;241m*\u001B[39m df[\u001B[38;5;124m'\u001B[39m\u001B[38;5;124mSATMTMID\u001B[39m\u001B[38;5;124m'\u001B[39m]\n\u001B[1;32m      3\u001B[0m     \u001B[38;5;28;01mreturn\u001B[39;00m \u001B[38;5;28mint\u001B[39m(weighted_math\u001B[38;5;241m.\u001B[39msum() \u001B[38;5;241m/\u001B[39m df[\u001B[38;5;124m'\u001B[39m\u001B[38;5;124mUGDS\u001B[39m\u001B[38;5;124m'\u001B[39m]\u001B[38;5;241m.\u001B[39msum())\n",
      "File \u001B[0;32m~/anaconda3/lib/python3.10/site-packages/pandas/core/series.py:981\u001B[0m, in \u001B[0;36mSeries.__getitem__\u001B[0;34m(self, key)\u001B[0m\n\u001B[1;32m    980\u001B[0m \u001B[38;5;28;01melif\u001B[39;00m key_is_scalar:\n\u001B[0;32m--> 981\u001B[0m     \u001B[38;5;28;01mreturn\u001B[39;00m \u001B[38;5;28;43mself\u001B[39;49m\u001B[38;5;241;43m.\u001B[39;49m\u001B[43m_get_value\u001B[49m\u001B[43m(\u001B[49m\u001B[43mkey\u001B[49m\u001B[43m)\u001B[49m\n\u001B[1;32m    983\u001B[0m \u001B[38;5;28;01mif\u001B[39;00m is_hashable(key):\n\u001B[1;32m    984\u001B[0m     \u001B[38;5;66;03m# Otherwise index.get_value will raise InvalidIndexError\u001B[39;00m\n",
      "File \u001B[0;32m~/anaconda3/lib/python3.10/site-packages/pandas/core/series.py:1089\u001B[0m, in \u001B[0;36mSeries._get_value\u001B[0;34m(self, label, takeable)\u001B[0m\n\u001B[1;32m   1088\u001B[0m \u001B[38;5;66;03m# Similar to Index.get_value, but we do not fall back to positional\u001B[39;00m\n\u001B[0;32m-> 1089\u001B[0m loc \u001B[38;5;241m=\u001B[39m \u001B[38;5;28;43mself\u001B[39;49m\u001B[38;5;241;43m.\u001B[39;49m\u001B[43mindex\u001B[49m\u001B[38;5;241;43m.\u001B[39;49m\u001B[43mget_loc\u001B[49m\u001B[43m(\u001B[49m\u001B[43mlabel\u001B[49m\u001B[43m)\u001B[49m\n\u001B[1;32m   1090\u001B[0m \u001B[38;5;28;01mreturn\u001B[39;00m \u001B[38;5;28mself\u001B[39m\u001B[38;5;241m.\u001B[39mindex\u001B[38;5;241m.\u001B[39m_get_values_for_loc(\u001B[38;5;28mself\u001B[39m, loc, label)\n",
      "File \u001B[0;32m~/anaconda3/lib/python3.10/site-packages/pandas/core/indexes/base.py:3804\u001B[0m, in \u001B[0;36mIndex.get_loc\u001B[0;34m(self, key, method, tolerance)\u001B[0m\n\u001B[1;32m   3803\u001B[0m \u001B[38;5;28;01mexcept\u001B[39;00m \u001B[38;5;167;01mKeyError\u001B[39;00m \u001B[38;5;28;01mas\u001B[39;00m err:\n\u001B[0;32m-> 3804\u001B[0m     \u001B[38;5;28;01mraise\u001B[39;00m \u001B[38;5;167;01mKeyError\u001B[39;00m(key) \u001B[38;5;28;01mfrom\u001B[39;00m \u001B[38;5;21;01merr\u001B[39;00m\n\u001B[1;32m   3805\u001B[0m \u001B[38;5;28;01mexcept\u001B[39;00m \u001B[38;5;167;01mTypeError\u001B[39;00m:\n\u001B[1;32m   3806\u001B[0m     \u001B[38;5;66;03m# If we have a listlike key, _check_indexing_error will raise\u001B[39;00m\n\u001B[1;32m   3807\u001B[0m     \u001B[38;5;66;03m#  InvalidIndexError. Otherwise we fall through and re-raise\u001B[39;00m\n\u001B[1;32m   3808\u001B[0m     \u001B[38;5;66;03m#  the TypeError.\u001B[39;00m\n",
      "\u001B[0;31mKeyError\u001B[0m: 'UGDS'",
      "\nDuring handling of the above exception, another exception occurred:\n",
      "\u001B[0;31mKeyError\u001B[0m                                  Traceback (most recent call last)",
      "File \u001B[0;32m~/anaconda3/lib/python3.10/site-packages/pandas/core/indexes/base.py:3802\u001B[0m, in \u001B[0;36mIndex.get_loc\u001B[0;34m(self, key, method, tolerance)\u001B[0m\n\u001B[1;32m   3801\u001B[0m \u001B[38;5;28;01mtry\u001B[39;00m:\n\u001B[0;32m-> 3802\u001B[0m     \u001B[38;5;28;01mreturn\u001B[39;00m \u001B[38;5;28;43mself\u001B[39;49m\u001B[38;5;241;43m.\u001B[39;49m\u001B[43m_engine\u001B[49m\u001B[38;5;241;43m.\u001B[39;49m\u001B[43mget_loc\u001B[49m\u001B[43m(\u001B[49m\u001B[43mcasted_key\u001B[49m\u001B[43m)\u001B[49m\n\u001B[1;32m   3803\u001B[0m \u001B[38;5;28;01mexcept\u001B[39;00m \u001B[38;5;167;01mKeyError\u001B[39;00m \u001B[38;5;28;01mas\u001B[39;00m err:\n",
      "File \u001B[0;32m~/anaconda3/lib/python3.10/site-packages/pandas/_libs/index.pyx:138\u001B[0m, in \u001B[0;36mpandas._libs.index.IndexEngine.get_loc\u001B[0;34m()\u001B[0m\n",
      "File \u001B[0;32m~/anaconda3/lib/python3.10/site-packages/pandas/_libs/index.pyx:146\u001B[0m, in \u001B[0;36mpandas._libs.index.IndexEngine.get_loc\u001B[0;34m()\u001B[0m\n",
      "File \u001B[0;32mpandas/_libs/index_class_helper.pxi:49\u001B[0m, in \u001B[0;36mpandas._libs.index.Int64Engine._check_type\u001B[0;34m()\u001B[0m\n",
      "\u001B[0;31mKeyError\u001B[0m: 'UGDS'",
      "\nThe above exception was the direct cause of the following exception:\n",
      "\u001B[0;31mKeyError\u001B[0m                                  Traceback (most recent call last)",
      "Cell \u001B[0;32mIn[145], line 5\u001B[0m\n\u001B[1;32m      1\u001B[0m (\n\u001B[1;32m      2\u001B[0m     \u001B[43mcollege2\u001B[49m\n\u001B[1;32m      3\u001B[0m \u001B[43m    \u001B[49m\u001B[38;5;241;43m.\u001B[39;49m\u001B[43mgroupby\u001B[49m\u001B[43m(\u001B[49m\u001B[38;5;124;43m'\u001B[39;49m\u001B[38;5;124;43mSTABBR\u001B[39;49m\u001B[38;5;124;43m'\u001B[39;49m\u001B[43m)\u001B[49m\n\u001B[1;32m      4\u001B[0m \u001B[43m    \u001B[49m\u001B[43m[\u001B[49m\u001B[38;5;124;43m'\u001B[39;49m\u001B[38;5;124;43mSATMTMID\u001B[39;49m\u001B[38;5;124;43m'\u001B[39;49m\u001B[43m]\u001B[49m\n\u001B[0;32m----> 5\u001B[0m \u001B[43m    \u001B[49m\u001B[38;5;241;43m.\u001B[39;49m\u001B[43magg\u001B[49m\u001B[43m(\u001B[49m\u001B[43mweighted_math_average\u001B[49m\u001B[43m)\u001B[49m\n\u001B[1;32m      6\u001B[0m )\n",
      "File \u001B[0;32m~/anaconda3/lib/python3.10/site-packages/pandas/core/groupby/generic.py:301\u001B[0m, in \u001B[0;36mSeriesGroupBy.aggregate\u001B[0;34m(self, func, engine, engine_kwargs, *args, **kwargs)\u001B[0m\n\u001B[1;32m    297\u001B[0m     \u001B[38;5;28;01mreturn\u001B[39;00m \u001B[38;5;28mself\u001B[39m\u001B[38;5;241m.\u001B[39m_python_agg_general(func, \u001B[38;5;241m*\u001B[39margs, \u001B[38;5;241m*\u001B[39m\u001B[38;5;241m*\u001B[39mkwargs)\n\u001B[1;32m    298\u001B[0m \u001B[38;5;28;01mexcept\u001B[39;00m \u001B[38;5;167;01mKeyError\u001B[39;00m:\n\u001B[1;32m    299\u001B[0m     \u001B[38;5;66;03m# TODO: KeyError is raised in _python_agg_general,\u001B[39;00m\n\u001B[1;32m    300\u001B[0m     \u001B[38;5;66;03m#  see test_groupby.test_basic\u001B[39;00m\n\u001B[0;32m--> 301\u001B[0m     result \u001B[38;5;241m=\u001B[39m \u001B[38;5;28;43mself\u001B[39;49m\u001B[38;5;241;43m.\u001B[39;49m\u001B[43m_aggregate_named\u001B[49m\u001B[43m(\u001B[49m\u001B[43mfunc\u001B[49m\u001B[43m,\u001B[49m\u001B[43m \u001B[49m\u001B[38;5;241;43m*\u001B[39;49m\u001B[43margs\u001B[49m\u001B[43m,\u001B[49m\u001B[43m \u001B[49m\u001B[38;5;241;43m*\u001B[39;49m\u001B[38;5;241;43m*\u001B[39;49m\u001B[43mkwargs\u001B[49m\u001B[43m)\u001B[49m\n\u001B[1;32m    303\u001B[0m     \u001B[38;5;66;03m# result is a dict whose keys are the elements of result_index\u001B[39;00m\n\u001B[1;32m    304\u001B[0m     index \u001B[38;5;241m=\u001B[39m \u001B[38;5;28mself\u001B[39m\u001B[38;5;241m.\u001B[39mgrouper\u001B[38;5;241m.\u001B[39mresult_index\n",
      "File \u001B[0;32m~/anaconda3/lib/python3.10/site-packages/pandas/core/groupby/generic.py:433\u001B[0m, in \u001B[0;36mSeriesGroupBy._aggregate_named\u001B[0;34m(self, func, *args, **kwargs)\u001B[0m\n\u001B[1;32m    430\u001B[0m \u001B[38;5;28;01mfor\u001B[39;00m name, group \u001B[38;5;129;01min\u001B[39;00m \u001B[38;5;28mself\u001B[39m:\n\u001B[1;32m    431\u001B[0m     \u001B[38;5;28mobject\u001B[39m\u001B[38;5;241m.\u001B[39m\u001B[38;5;21m__setattr__\u001B[39m(group, \u001B[38;5;124m\"\u001B[39m\u001B[38;5;124mname\u001B[39m\u001B[38;5;124m\"\u001B[39m, name)\n\u001B[0;32m--> 433\u001B[0m     output \u001B[38;5;241m=\u001B[39m \u001B[43mfunc\u001B[49m\u001B[43m(\u001B[49m\u001B[43mgroup\u001B[49m\u001B[43m,\u001B[49m\u001B[43m \u001B[49m\u001B[38;5;241;43m*\u001B[39;49m\u001B[43margs\u001B[49m\u001B[43m,\u001B[49m\u001B[43m \u001B[49m\u001B[38;5;241;43m*\u001B[39;49m\u001B[38;5;241;43m*\u001B[39;49m\u001B[43mkwargs\u001B[49m\u001B[43m)\u001B[49m\n\u001B[1;32m    434\u001B[0m     output \u001B[38;5;241m=\u001B[39m libreduction\u001B[38;5;241m.\u001B[39mextract_result(output)\n\u001B[1;32m    435\u001B[0m     \u001B[38;5;28;01mif\u001B[39;00m \u001B[38;5;129;01mnot\u001B[39;00m initialized:\n\u001B[1;32m    436\u001B[0m         \u001B[38;5;66;03m# We only do this validation on the first iteration\u001B[39;00m\n",
      "Cell \u001B[0;32mIn[133], line 2\u001B[0m, in \u001B[0;36mweighted_math_average\u001B[0;34m(df)\u001B[0m\n\u001B[1;32m      1\u001B[0m \u001B[38;5;28;01mdef\u001B[39;00m \u001B[38;5;21mweighted_math_average\u001B[39m(df):\n\u001B[0;32m----> 2\u001B[0m     weighted_math \u001B[38;5;241m=\u001B[39m \u001B[43mdf\u001B[49m\u001B[43m[\u001B[49m\u001B[38;5;124;43m'\u001B[39;49m\u001B[38;5;124;43mUGDS\u001B[39;49m\u001B[38;5;124;43m'\u001B[39;49m\u001B[43m]\u001B[49m \u001B[38;5;241m*\u001B[39m df[\u001B[38;5;124m'\u001B[39m\u001B[38;5;124mSATMTMID\u001B[39m\u001B[38;5;124m'\u001B[39m]\n\u001B[1;32m      3\u001B[0m     \u001B[38;5;28;01mreturn\u001B[39;00m \u001B[38;5;28mint\u001B[39m(weighted_math\u001B[38;5;241m.\u001B[39msum() \u001B[38;5;241m/\u001B[39m df[\u001B[38;5;124m'\u001B[39m\u001B[38;5;124mUGDS\u001B[39m\u001B[38;5;124m'\u001B[39m]\u001B[38;5;241m.\u001B[39msum())\n",
      "File \u001B[0;32m~/anaconda3/lib/python3.10/site-packages/pandas/core/series.py:981\u001B[0m, in \u001B[0;36mSeries.__getitem__\u001B[0;34m(self, key)\u001B[0m\n\u001B[1;32m    978\u001B[0m     \u001B[38;5;28;01mreturn\u001B[39;00m \u001B[38;5;28mself\u001B[39m\u001B[38;5;241m.\u001B[39m_values[key]\n\u001B[1;32m    980\u001B[0m \u001B[38;5;28;01melif\u001B[39;00m key_is_scalar:\n\u001B[0;32m--> 981\u001B[0m     \u001B[38;5;28;01mreturn\u001B[39;00m \u001B[38;5;28;43mself\u001B[39;49m\u001B[38;5;241;43m.\u001B[39;49m\u001B[43m_get_value\u001B[49m\u001B[43m(\u001B[49m\u001B[43mkey\u001B[49m\u001B[43m)\u001B[49m\n\u001B[1;32m    983\u001B[0m \u001B[38;5;28;01mif\u001B[39;00m is_hashable(key):\n\u001B[1;32m    984\u001B[0m     \u001B[38;5;66;03m# Otherwise index.get_value will raise InvalidIndexError\u001B[39;00m\n\u001B[1;32m    985\u001B[0m     \u001B[38;5;28;01mtry\u001B[39;00m:\n\u001B[1;32m    986\u001B[0m         \u001B[38;5;66;03m# For labels that don't resolve as scalars like tuples and frozensets\u001B[39;00m\n",
      "File \u001B[0;32m~/anaconda3/lib/python3.10/site-packages/pandas/core/series.py:1089\u001B[0m, in \u001B[0;36mSeries._get_value\u001B[0;34m(self, label, takeable)\u001B[0m\n\u001B[1;32m   1086\u001B[0m     \u001B[38;5;28;01mreturn\u001B[39;00m \u001B[38;5;28mself\u001B[39m\u001B[38;5;241m.\u001B[39m_values[label]\n\u001B[1;32m   1088\u001B[0m \u001B[38;5;66;03m# Similar to Index.get_value, but we do not fall back to positional\u001B[39;00m\n\u001B[0;32m-> 1089\u001B[0m loc \u001B[38;5;241m=\u001B[39m \u001B[38;5;28;43mself\u001B[39;49m\u001B[38;5;241;43m.\u001B[39;49m\u001B[43mindex\u001B[49m\u001B[38;5;241;43m.\u001B[39;49m\u001B[43mget_loc\u001B[49m\u001B[43m(\u001B[49m\u001B[43mlabel\u001B[49m\u001B[43m)\u001B[49m\n\u001B[1;32m   1090\u001B[0m \u001B[38;5;28;01mreturn\u001B[39;00m \u001B[38;5;28mself\u001B[39m\u001B[38;5;241m.\u001B[39mindex\u001B[38;5;241m.\u001B[39m_get_values_for_loc(\u001B[38;5;28mself\u001B[39m, loc, label)\n",
      "File \u001B[0;32m~/anaconda3/lib/python3.10/site-packages/pandas/core/indexes/base.py:3804\u001B[0m, in \u001B[0;36mIndex.get_loc\u001B[0;34m(self, key, method, tolerance)\u001B[0m\n\u001B[1;32m   3802\u001B[0m     \u001B[38;5;28;01mreturn\u001B[39;00m \u001B[38;5;28mself\u001B[39m\u001B[38;5;241m.\u001B[39m_engine\u001B[38;5;241m.\u001B[39mget_loc(casted_key)\n\u001B[1;32m   3803\u001B[0m \u001B[38;5;28;01mexcept\u001B[39;00m \u001B[38;5;167;01mKeyError\u001B[39;00m \u001B[38;5;28;01mas\u001B[39;00m err:\n\u001B[0;32m-> 3804\u001B[0m     \u001B[38;5;28;01mraise\u001B[39;00m \u001B[38;5;167;01mKeyError\u001B[39;00m(key) \u001B[38;5;28;01mfrom\u001B[39;00m \u001B[38;5;21;01merr\u001B[39;00m\n\u001B[1;32m   3805\u001B[0m \u001B[38;5;28;01mexcept\u001B[39;00m \u001B[38;5;167;01mTypeError\u001B[39;00m:\n\u001B[1;32m   3806\u001B[0m     \u001B[38;5;66;03m# If we have a listlike key, _check_indexing_error will raise\u001B[39;00m\n\u001B[1;32m   3807\u001B[0m     \u001B[38;5;66;03m#  InvalidIndexError. Otherwise we fall through and re-raise\u001B[39;00m\n\u001B[1;32m   3808\u001B[0m     \u001B[38;5;66;03m#  the TypeError.\u001B[39;00m\n\u001B[1;32m   3809\u001B[0m     \u001B[38;5;28mself\u001B[39m\u001B[38;5;241m.\u001B[39m_check_indexing_error(key)\n",
      "\u001B[0;31mKeyError\u001B[0m: 'UGDS'"
     ]
    }
   ],
   "source": [
    "(\n",
    "    college2\n",
    "    .groupby('STABBR')\n",
    "    ['SATMTMID']\n",
    "    .agg(weighted_math_average)\n",
    ")"
   ],
   "metadata": {
    "collapsed": false
   }
  },
  {
   "cell_type": "code",
   "execution_count": 146,
   "outputs": [],
   "source": [
    "def weighted_average(df):\n",
    "    weight_m = df['UGDS'] * df['SATMTMID']\n",
    "    weight_v = df['UGDS'] * df['SATVRMID']\n",
    "    wm_avg = weight_m.sum() / df['UGDS'].sum()\n",
    "    wv_avg = weight_v.sum() / df['UGDS'].sum()\n",
    "    data = {'w_math_avg': wm_avg,\n",
    "            'w_verbal_avg': wv_avg,\n",
    "            'math_avg': df['SATMTMID'].mean(),\n",
    "            'verbal_avg': df['SATVRMID'].mean(),\n",
    "            'count': len(df)}\n",
    "    return pd.Series(data)"
   ],
   "metadata": {
    "collapsed": false
   }
  },
  {
   "cell_type": "code",
   "execution_count": 147,
   "outputs": [
    {
     "data": {
      "text/plain": "        w_math_avg  w_verbal_avg  math_avg  verbal_avg  count\nSTABBR                                                       \nAK             503           555       503         555      1\nAL             536           533       504         508     21\nAR             529           504       515         491     16\nAZ             569           557       536         538      6\nCA             564           539       562         549     72\nCO             553           547       540         537     14\nCT             545           533       522         517     14\nDC             621           623       588         589      6\nDE             569           553       495         486      3\nFL             565           565       521         529     38\nGA             540           541       503         509     42\nHI             534           513       513         497      4\nIA             577           533       534         511     23\nID             509           510       504         510      7\nIL             594           560       551         532     38\nIN             546           531       525         517     42\nKS             491           473       483         469     15\nKY             525           516       510         502     23\nLA             549           532       521         511     15\nMA             597           578       566         555     47\nMD             572           560       530         533     19\nME             524           521       522         512      9\nMI             586           542       553         531     25\nMN             598           574       558         557     25\nMO             576           565       550         541     29\nMS             527           517       518         500     11\nMT             551           551       540         528      6\nNC             552           539       502         502     48\nND             546           531       511         498      8\nNE             567           545       527         508      8\nNH             561           552       538         535      6\nNJ             554           525       530         509     27\nNM             529           516       529         506      5\nNV             516           511       510         508      3\nNY             578           554       557         542     87\nOH             569           547       536         529     45\nOK             557           543       516         505     14\nOR             540           538       539         543     17\nPA             553           538       518         511    102\nPR             571           564       554         546      4\nRI             567           557       591         577      4\nSC             549           540       500         497     29\nSD             528           483       519         491     10\nTN             544           539       511         510     32\nTX             548           527       524         511     62\nUT             577           576       561         561      4\nVA             550           549       526         529     39\nVI             390           400       390         400      1\nVT             566           564       526         527      8\nWA             555           541       551         548     18\nWI             593           556       545         516     14\nWV             500           487       481         473     17\nWY             540           535       540         535      1",
      "text/html": "<div>\n<style scoped>\n    .dataframe tbody tr th:only-of-type {\n        vertical-align: middle;\n    }\n\n    .dataframe tbody tr th {\n        vertical-align: top;\n    }\n\n    .dataframe thead th {\n        text-align: right;\n    }\n</style>\n<table border=\"1\" class=\"dataframe\">\n  <thead>\n    <tr style=\"text-align: right;\">\n      <th></th>\n      <th>w_math_avg</th>\n      <th>w_verbal_avg</th>\n      <th>math_avg</th>\n      <th>verbal_avg</th>\n      <th>count</th>\n    </tr>\n    <tr>\n      <th>STABBR</th>\n      <th></th>\n      <th></th>\n      <th></th>\n      <th></th>\n      <th></th>\n    </tr>\n  </thead>\n  <tbody>\n    <tr>\n      <th>AK</th>\n      <td>503</td>\n      <td>555</td>\n      <td>503</td>\n      <td>555</td>\n      <td>1</td>\n    </tr>\n    <tr>\n      <th>AL</th>\n      <td>536</td>\n      <td>533</td>\n      <td>504</td>\n      <td>508</td>\n      <td>21</td>\n    </tr>\n    <tr>\n      <th>AR</th>\n      <td>529</td>\n      <td>504</td>\n      <td>515</td>\n      <td>491</td>\n      <td>16</td>\n    </tr>\n    <tr>\n      <th>AZ</th>\n      <td>569</td>\n      <td>557</td>\n      <td>536</td>\n      <td>538</td>\n      <td>6</td>\n    </tr>\n    <tr>\n      <th>CA</th>\n      <td>564</td>\n      <td>539</td>\n      <td>562</td>\n      <td>549</td>\n      <td>72</td>\n    </tr>\n    <tr>\n      <th>CO</th>\n      <td>553</td>\n      <td>547</td>\n      <td>540</td>\n      <td>537</td>\n      <td>14</td>\n    </tr>\n    <tr>\n      <th>CT</th>\n      <td>545</td>\n      <td>533</td>\n      <td>522</td>\n      <td>517</td>\n      <td>14</td>\n    </tr>\n    <tr>\n      <th>DC</th>\n      <td>621</td>\n      <td>623</td>\n      <td>588</td>\n      <td>589</td>\n      <td>6</td>\n    </tr>\n    <tr>\n      <th>DE</th>\n      <td>569</td>\n      <td>553</td>\n      <td>495</td>\n      <td>486</td>\n      <td>3</td>\n    </tr>\n    <tr>\n      <th>FL</th>\n      <td>565</td>\n      <td>565</td>\n      <td>521</td>\n      <td>529</td>\n      <td>38</td>\n    </tr>\n    <tr>\n      <th>GA</th>\n      <td>540</td>\n      <td>541</td>\n      <td>503</td>\n      <td>509</td>\n      <td>42</td>\n    </tr>\n    <tr>\n      <th>HI</th>\n      <td>534</td>\n      <td>513</td>\n      <td>513</td>\n      <td>497</td>\n      <td>4</td>\n    </tr>\n    <tr>\n      <th>IA</th>\n      <td>577</td>\n      <td>533</td>\n      <td>534</td>\n      <td>511</td>\n      <td>23</td>\n    </tr>\n    <tr>\n      <th>ID</th>\n      <td>509</td>\n      <td>510</td>\n      <td>504</td>\n      <td>510</td>\n      <td>7</td>\n    </tr>\n    <tr>\n      <th>IL</th>\n      <td>594</td>\n      <td>560</td>\n      <td>551</td>\n      <td>532</td>\n      <td>38</td>\n    </tr>\n    <tr>\n      <th>IN</th>\n      <td>546</td>\n      <td>531</td>\n      <td>525</td>\n      <td>517</td>\n      <td>42</td>\n    </tr>\n    <tr>\n      <th>KS</th>\n      <td>491</td>\n      <td>473</td>\n      <td>483</td>\n      <td>469</td>\n      <td>15</td>\n    </tr>\n    <tr>\n      <th>KY</th>\n      <td>525</td>\n      <td>516</td>\n      <td>510</td>\n      <td>502</td>\n      <td>23</td>\n    </tr>\n    <tr>\n      <th>LA</th>\n      <td>549</td>\n      <td>532</td>\n      <td>521</td>\n      <td>511</td>\n      <td>15</td>\n    </tr>\n    <tr>\n      <th>MA</th>\n      <td>597</td>\n      <td>578</td>\n      <td>566</td>\n      <td>555</td>\n      <td>47</td>\n    </tr>\n    <tr>\n      <th>MD</th>\n      <td>572</td>\n      <td>560</td>\n      <td>530</td>\n      <td>533</td>\n      <td>19</td>\n    </tr>\n    <tr>\n      <th>ME</th>\n      <td>524</td>\n      <td>521</td>\n      <td>522</td>\n      <td>512</td>\n      <td>9</td>\n    </tr>\n    <tr>\n      <th>MI</th>\n      <td>586</td>\n      <td>542</td>\n      <td>553</td>\n      <td>531</td>\n      <td>25</td>\n    </tr>\n    <tr>\n      <th>MN</th>\n      <td>598</td>\n      <td>574</td>\n      <td>558</td>\n      <td>557</td>\n      <td>25</td>\n    </tr>\n    <tr>\n      <th>MO</th>\n      <td>576</td>\n      <td>565</td>\n      <td>550</td>\n      <td>541</td>\n      <td>29</td>\n    </tr>\n    <tr>\n      <th>MS</th>\n      <td>527</td>\n      <td>517</td>\n      <td>518</td>\n      <td>500</td>\n      <td>11</td>\n    </tr>\n    <tr>\n      <th>MT</th>\n      <td>551</td>\n      <td>551</td>\n      <td>540</td>\n      <td>528</td>\n      <td>6</td>\n    </tr>\n    <tr>\n      <th>NC</th>\n      <td>552</td>\n      <td>539</td>\n      <td>502</td>\n      <td>502</td>\n      <td>48</td>\n    </tr>\n    <tr>\n      <th>ND</th>\n      <td>546</td>\n      <td>531</td>\n      <td>511</td>\n      <td>498</td>\n      <td>8</td>\n    </tr>\n    <tr>\n      <th>NE</th>\n      <td>567</td>\n      <td>545</td>\n      <td>527</td>\n      <td>508</td>\n      <td>8</td>\n    </tr>\n    <tr>\n      <th>NH</th>\n      <td>561</td>\n      <td>552</td>\n      <td>538</td>\n      <td>535</td>\n      <td>6</td>\n    </tr>\n    <tr>\n      <th>NJ</th>\n      <td>554</td>\n      <td>525</td>\n      <td>530</td>\n      <td>509</td>\n      <td>27</td>\n    </tr>\n    <tr>\n      <th>NM</th>\n      <td>529</td>\n      <td>516</td>\n      <td>529</td>\n      <td>506</td>\n      <td>5</td>\n    </tr>\n    <tr>\n      <th>NV</th>\n      <td>516</td>\n      <td>511</td>\n      <td>510</td>\n      <td>508</td>\n      <td>3</td>\n    </tr>\n    <tr>\n      <th>NY</th>\n      <td>578</td>\n      <td>554</td>\n      <td>557</td>\n      <td>542</td>\n      <td>87</td>\n    </tr>\n    <tr>\n      <th>OH</th>\n      <td>569</td>\n      <td>547</td>\n      <td>536</td>\n      <td>529</td>\n      <td>45</td>\n    </tr>\n    <tr>\n      <th>OK</th>\n      <td>557</td>\n      <td>543</td>\n      <td>516</td>\n      <td>505</td>\n      <td>14</td>\n    </tr>\n    <tr>\n      <th>OR</th>\n      <td>540</td>\n      <td>538</td>\n      <td>539</td>\n      <td>543</td>\n      <td>17</td>\n    </tr>\n    <tr>\n      <th>PA</th>\n      <td>553</td>\n      <td>538</td>\n      <td>518</td>\n      <td>511</td>\n      <td>102</td>\n    </tr>\n    <tr>\n      <th>PR</th>\n      <td>571</td>\n      <td>564</td>\n      <td>554</td>\n      <td>546</td>\n      <td>4</td>\n    </tr>\n    <tr>\n      <th>RI</th>\n      <td>567</td>\n      <td>557</td>\n      <td>591</td>\n      <td>577</td>\n      <td>4</td>\n    </tr>\n    <tr>\n      <th>SC</th>\n      <td>549</td>\n      <td>540</td>\n      <td>500</td>\n      <td>497</td>\n      <td>29</td>\n    </tr>\n    <tr>\n      <th>SD</th>\n      <td>528</td>\n      <td>483</td>\n      <td>519</td>\n      <td>491</td>\n      <td>10</td>\n    </tr>\n    <tr>\n      <th>TN</th>\n      <td>544</td>\n      <td>539</td>\n      <td>511</td>\n      <td>510</td>\n      <td>32</td>\n    </tr>\n    <tr>\n      <th>TX</th>\n      <td>548</td>\n      <td>527</td>\n      <td>524</td>\n      <td>511</td>\n      <td>62</td>\n    </tr>\n    <tr>\n      <th>UT</th>\n      <td>577</td>\n      <td>576</td>\n      <td>561</td>\n      <td>561</td>\n      <td>4</td>\n    </tr>\n    <tr>\n      <th>VA</th>\n      <td>550</td>\n      <td>549</td>\n      <td>526</td>\n      <td>529</td>\n      <td>39</td>\n    </tr>\n    <tr>\n      <th>VI</th>\n      <td>390</td>\n      <td>400</td>\n      <td>390</td>\n      <td>400</td>\n      <td>1</td>\n    </tr>\n    <tr>\n      <th>VT</th>\n      <td>566</td>\n      <td>564</td>\n      <td>526</td>\n      <td>527</td>\n      <td>8</td>\n    </tr>\n    <tr>\n      <th>WA</th>\n      <td>555</td>\n      <td>541</td>\n      <td>551</td>\n      <td>548</td>\n      <td>18</td>\n    </tr>\n    <tr>\n      <th>WI</th>\n      <td>593</td>\n      <td>556</td>\n      <td>545</td>\n      <td>516</td>\n      <td>14</td>\n    </tr>\n    <tr>\n      <th>WV</th>\n      <td>500</td>\n      <td>487</td>\n      <td>481</td>\n      <td>473</td>\n      <td>17</td>\n    </tr>\n    <tr>\n      <th>WY</th>\n      <td>540</td>\n      <td>535</td>\n      <td>540</td>\n      <td>535</td>\n      <td>1</td>\n    </tr>\n  </tbody>\n</table>\n</div>"
     },
     "execution_count": 147,
     "metadata": {},
     "output_type": "execute_result"
    }
   ],
   "source": [
    "(\n",
    "    college2\n",
    "    .groupby('STABBR')\n",
    "    .apply(weighted_average)\n",
    "    .astype(int)\n",
    ")"
   ],
   "metadata": {
    "collapsed": false
   }
  },
  {
   "cell_type": "code",
   "execution_count": 148,
   "outputs": [
    {
     "data": {
      "text/plain": "        w_math_avg  w_verbal_avg    math_avg  verbal_avg  count\nSTABBR                                                         \nAK        5.548091      6.121651  503.000000  555.000000   10.0\nAL      261.895658    260.550109  504.285714  508.476190   96.0\nAR      301.054792    287.264872  515.937500  491.875000   86.0\nAS        0.000000      0.000000         NaN         NaN    1.0\nAZ       61.815821     60.511712  536.666667  538.333333  133.0\nCA      165.611830    158.098830  562.902778  549.083333  773.0\nCO      270.958708    267.975486  540.214286  537.714286  125.0\nCT      254.065075    248.509769  522.500000  517.857143  102.0\nDC      473.191221    474.415415  588.333333  589.166667   26.0\nDE      280.666385    272.580393  495.000000  486.666667   19.0\nFL      188.174353    188.337835  521.842105  529.289474  436.0\nFM        0.000000      0.000000         NaN         NaN    1.0\nGA      294.919153    295.931808  503.476190  509.452381  184.0\nGU        0.000000      0.000000         NaN         NaN    3.0\nHI      202.851545    194.993116  513.750000  497.500000   26.0\nIA      248.228500    228.180780  533.583333  511.086957   92.0\nID      327.754264    328.831366  504.285714  510.000000   40.0\nIL      180.543787    169.710373  549.512821  533.692308  300.0\nIN      365.792758    355.807425  525.952381  517.380952  161.0\nKS       51.886654     50.045378  483.733333  469.600000   99.0\nKY      300.230166    295.074212  510.000000  502.217391  106.0\nLA      297.180605    253.954087  518.333333  511.666667  121.0\nMA      355.536958    344.218548  566.106383  555.936170  194.0\nMD      204.507786    200.228046  530.631579  533.263158   99.0\nME      232.385992    230.645939  522.222222  512.222222   43.0\nMH        0.000000      0.000000         NaN         NaN    1.0\nMI      217.919038    193.633782  555.192308  531.960000  207.0\nMN      197.762593    189.637689  558.600000  557.160000  154.0\nMO      275.864368    246.626698  550.000000  541.206897  193.0\nMP        0.000000      0.000000         NaN         NaN    1.0\nMS      245.555990    241.050960  518.000000  500.636364   63.0\nMT      367.615141    367.611627  540.000000  528.333333   32.0\nNC      268.539162    262.507632  502.833333  502.000000  204.0\nND      408.063939    396.394394  511.000000  498.625000   29.0\nNE      214.149033    203.911020  519.000000  508.500000   49.0\nNH      181.447866    178.575698  538.333333  535.833333   41.0\nNJ      251.529473    238.369317  530.222222  509.555556  165.0\nNM      186.604463    182.182755  529.600000  506.600000   51.0\nNV      202.763479    200.852680  510.000000  508.333333   46.0\nNY      276.945087    265.428711  557.287356  542.770115  459.0\nOH      286.325152    272.910650  536.000000  529.688889  352.0\nOK      197.930823    192.722540  516.785714  505.500000  146.0\nOR      260.423253    259.463424  539.058824  543.235294   93.0\nPA      340.496140    331.588569  518.196078  511.539216  394.0\nPR       56.199213     55.511045  554.500000  546.250000  148.0\nPW        0.000000      0.000000         NaN         NaN    1.0\nRI      224.216823    220.570384  591.250000  577.500000   24.0\nSC      282.108437    277.335729  500.413793  497.172414  111.0\nSD      379.203809    346.386953  519.700000  491.500000   31.0\nTN      290.313760    287.716146  511.781250  510.593750  182.0\nTX      227.752097    218.243537  523.126984  511.080645  472.0\nUT      202.386750    201.912613  561.250000  561.250000   77.0\nVA      317.480577    316.947779  526.051282  529.564103  185.0\nVI      390.000000    400.000000  390.000000  400.000000    2.0\nVT      389.967094    388.696848  526.875000  527.500000   27.0\nWA      274.885878    267.880280  551.222222  548.333333  123.0\nWI      153.803086    144.160115  545.071429  516.857143  112.0\nWV      224.697582    218.843452  481.705882  473.411765   73.0\nWY      216.761180    214.754132  540.000000  535.000000   11.0",
      "text/html": "<div>\n<style scoped>\n    .dataframe tbody tr th:only-of-type {\n        vertical-align: middle;\n    }\n\n    .dataframe tbody tr th {\n        vertical-align: top;\n    }\n\n    .dataframe thead th {\n        text-align: right;\n    }\n</style>\n<table border=\"1\" class=\"dataframe\">\n  <thead>\n    <tr style=\"text-align: right;\">\n      <th></th>\n      <th>w_math_avg</th>\n      <th>w_verbal_avg</th>\n      <th>math_avg</th>\n      <th>verbal_avg</th>\n      <th>count</th>\n    </tr>\n    <tr>\n      <th>STABBR</th>\n      <th></th>\n      <th></th>\n      <th></th>\n      <th></th>\n      <th></th>\n    </tr>\n  </thead>\n  <tbody>\n    <tr>\n      <th>AK</th>\n      <td>5.548091</td>\n      <td>6.121651</td>\n      <td>503.000000</td>\n      <td>555.000000</td>\n      <td>10.0</td>\n    </tr>\n    <tr>\n      <th>AL</th>\n      <td>261.895658</td>\n      <td>260.550109</td>\n      <td>504.285714</td>\n      <td>508.476190</td>\n      <td>96.0</td>\n    </tr>\n    <tr>\n      <th>AR</th>\n      <td>301.054792</td>\n      <td>287.264872</td>\n      <td>515.937500</td>\n      <td>491.875000</td>\n      <td>86.0</td>\n    </tr>\n    <tr>\n      <th>AS</th>\n      <td>0.000000</td>\n      <td>0.000000</td>\n      <td>NaN</td>\n      <td>NaN</td>\n      <td>1.0</td>\n    </tr>\n    <tr>\n      <th>AZ</th>\n      <td>61.815821</td>\n      <td>60.511712</td>\n      <td>536.666667</td>\n      <td>538.333333</td>\n      <td>133.0</td>\n    </tr>\n    <tr>\n      <th>CA</th>\n      <td>165.611830</td>\n      <td>158.098830</td>\n      <td>562.902778</td>\n      <td>549.083333</td>\n      <td>773.0</td>\n    </tr>\n    <tr>\n      <th>CO</th>\n      <td>270.958708</td>\n      <td>267.975486</td>\n      <td>540.214286</td>\n      <td>537.714286</td>\n      <td>125.0</td>\n    </tr>\n    <tr>\n      <th>CT</th>\n      <td>254.065075</td>\n      <td>248.509769</td>\n      <td>522.500000</td>\n      <td>517.857143</td>\n      <td>102.0</td>\n    </tr>\n    <tr>\n      <th>DC</th>\n      <td>473.191221</td>\n      <td>474.415415</td>\n      <td>588.333333</td>\n      <td>589.166667</td>\n      <td>26.0</td>\n    </tr>\n    <tr>\n      <th>DE</th>\n      <td>280.666385</td>\n      <td>272.580393</td>\n      <td>495.000000</td>\n      <td>486.666667</td>\n      <td>19.0</td>\n    </tr>\n    <tr>\n      <th>FL</th>\n      <td>188.174353</td>\n      <td>188.337835</td>\n      <td>521.842105</td>\n      <td>529.289474</td>\n      <td>436.0</td>\n    </tr>\n    <tr>\n      <th>FM</th>\n      <td>0.000000</td>\n      <td>0.000000</td>\n      <td>NaN</td>\n      <td>NaN</td>\n      <td>1.0</td>\n    </tr>\n    <tr>\n      <th>GA</th>\n      <td>294.919153</td>\n      <td>295.931808</td>\n      <td>503.476190</td>\n      <td>509.452381</td>\n      <td>184.0</td>\n    </tr>\n    <tr>\n      <th>GU</th>\n      <td>0.000000</td>\n      <td>0.000000</td>\n      <td>NaN</td>\n      <td>NaN</td>\n      <td>3.0</td>\n    </tr>\n    <tr>\n      <th>HI</th>\n      <td>202.851545</td>\n      <td>194.993116</td>\n      <td>513.750000</td>\n      <td>497.500000</td>\n      <td>26.0</td>\n    </tr>\n    <tr>\n      <th>IA</th>\n      <td>248.228500</td>\n      <td>228.180780</td>\n      <td>533.583333</td>\n      <td>511.086957</td>\n      <td>92.0</td>\n    </tr>\n    <tr>\n      <th>ID</th>\n      <td>327.754264</td>\n      <td>328.831366</td>\n      <td>504.285714</td>\n      <td>510.000000</td>\n      <td>40.0</td>\n    </tr>\n    <tr>\n      <th>IL</th>\n      <td>180.543787</td>\n      <td>169.710373</td>\n      <td>549.512821</td>\n      <td>533.692308</td>\n      <td>300.0</td>\n    </tr>\n    <tr>\n      <th>IN</th>\n      <td>365.792758</td>\n      <td>355.807425</td>\n      <td>525.952381</td>\n      <td>517.380952</td>\n      <td>161.0</td>\n    </tr>\n    <tr>\n      <th>KS</th>\n      <td>51.886654</td>\n      <td>50.045378</td>\n      <td>483.733333</td>\n      <td>469.600000</td>\n      <td>99.0</td>\n    </tr>\n    <tr>\n      <th>KY</th>\n      <td>300.230166</td>\n      <td>295.074212</td>\n      <td>510.000000</td>\n      <td>502.217391</td>\n      <td>106.0</td>\n    </tr>\n    <tr>\n      <th>LA</th>\n      <td>297.180605</td>\n      <td>253.954087</td>\n      <td>518.333333</td>\n      <td>511.666667</td>\n      <td>121.0</td>\n    </tr>\n    <tr>\n      <th>MA</th>\n      <td>355.536958</td>\n      <td>344.218548</td>\n      <td>566.106383</td>\n      <td>555.936170</td>\n      <td>194.0</td>\n    </tr>\n    <tr>\n      <th>MD</th>\n      <td>204.507786</td>\n      <td>200.228046</td>\n      <td>530.631579</td>\n      <td>533.263158</td>\n      <td>99.0</td>\n    </tr>\n    <tr>\n      <th>ME</th>\n      <td>232.385992</td>\n      <td>230.645939</td>\n      <td>522.222222</td>\n      <td>512.222222</td>\n      <td>43.0</td>\n    </tr>\n    <tr>\n      <th>MH</th>\n      <td>0.000000</td>\n      <td>0.000000</td>\n      <td>NaN</td>\n      <td>NaN</td>\n      <td>1.0</td>\n    </tr>\n    <tr>\n      <th>MI</th>\n      <td>217.919038</td>\n      <td>193.633782</td>\n      <td>555.192308</td>\n      <td>531.960000</td>\n      <td>207.0</td>\n    </tr>\n    <tr>\n      <th>MN</th>\n      <td>197.762593</td>\n      <td>189.637689</td>\n      <td>558.600000</td>\n      <td>557.160000</td>\n      <td>154.0</td>\n    </tr>\n    <tr>\n      <th>MO</th>\n      <td>275.864368</td>\n      <td>246.626698</td>\n      <td>550.000000</td>\n      <td>541.206897</td>\n      <td>193.0</td>\n    </tr>\n    <tr>\n      <th>MP</th>\n      <td>0.000000</td>\n      <td>0.000000</td>\n      <td>NaN</td>\n      <td>NaN</td>\n      <td>1.0</td>\n    </tr>\n    <tr>\n      <th>MS</th>\n      <td>245.555990</td>\n      <td>241.050960</td>\n      <td>518.000000</td>\n      <td>500.636364</td>\n      <td>63.0</td>\n    </tr>\n    <tr>\n      <th>MT</th>\n      <td>367.615141</td>\n      <td>367.611627</td>\n      <td>540.000000</td>\n      <td>528.333333</td>\n      <td>32.0</td>\n    </tr>\n    <tr>\n      <th>NC</th>\n      <td>268.539162</td>\n      <td>262.507632</td>\n      <td>502.833333</td>\n      <td>502.000000</td>\n      <td>204.0</td>\n    </tr>\n    <tr>\n      <th>ND</th>\n      <td>408.063939</td>\n      <td>396.394394</td>\n      <td>511.000000</td>\n      <td>498.625000</td>\n      <td>29.0</td>\n    </tr>\n    <tr>\n      <th>NE</th>\n      <td>214.149033</td>\n      <td>203.911020</td>\n      <td>519.000000</td>\n      <td>508.500000</td>\n      <td>49.0</td>\n    </tr>\n    <tr>\n      <th>NH</th>\n      <td>181.447866</td>\n      <td>178.575698</td>\n      <td>538.333333</td>\n      <td>535.833333</td>\n      <td>41.0</td>\n    </tr>\n    <tr>\n      <th>NJ</th>\n      <td>251.529473</td>\n      <td>238.369317</td>\n      <td>530.222222</td>\n      <td>509.555556</td>\n      <td>165.0</td>\n    </tr>\n    <tr>\n      <th>NM</th>\n      <td>186.604463</td>\n      <td>182.182755</td>\n      <td>529.600000</td>\n      <td>506.600000</td>\n      <td>51.0</td>\n    </tr>\n    <tr>\n      <th>NV</th>\n      <td>202.763479</td>\n      <td>200.852680</td>\n      <td>510.000000</td>\n      <td>508.333333</td>\n      <td>46.0</td>\n    </tr>\n    <tr>\n      <th>NY</th>\n      <td>276.945087</td>\n      <td>265.428711</td>\n      <td>557.287356</td>\n      <td>542.770115</td>\n      <td>459.0</td>\n    </tr>\n    <tr>\n      <th>OH</th>\n      <td>286.325152</td>\n      <td>272.910650</td>\n      <td>536.000000</td>\n      <td>529.688889</td>\n      <td>352.0</td>\n    </tr>\n    <tr>\n      <th>OK</th>\n      <td>197.930823</td>\n      <td>192.722540</td>\n      <td>516.785714</td>\n      <td>505.500000</td>\n      <td>146.0</td>\n    </tr>\n    <tr>\n      <th>OR</th>\n      <td>260.423253</td>\n      <td>259.463424</td>\n      <td>539.058824</td>\n      <td>543.235294</td>\n      <td>93.0</td>\n    </tr>\n    <tr>\n      <th>PA</th>\n      <td>340.496140</td>\n      <td>331.588569</td>\n      <td>518.196078</td>\n      <td>511.539216</td>\n      <td>394.0</td>\n    </tr>\n    <tr>\n      <th>PR</th>\n      <td>56.199213</td>\n      <td>55.511045</td>\n      <td>554.500000</td>\n      <td>546.250000</td>\n      <td>148.0</td>\n    </tr>\n    <tr>\n      <th>PW</th>\n      <td>0.000000</td>\n      <td>0.000000</td>\n      <td>NaN</td>\n      <td>NaN</td>\n      <td>1.0</td>\n    </tr>\n    <tr>\n      <th>RI</th>\n      <td>224.216823</td>\n      <td>220.570384</td>\n      <td>591.250000</td>\n      <td>577.500000</td>\n      <td>24.0</td>\n    </tr>\n    <tr>\n      <th>SC</th>\n      <td>282.108437</td>\n      <td>277.335729</td>\n      <td>500.413793</td>\n      <td>497.172414</td>\n      <td>111.0</td>\n    </tr>\n    <tr>\n      <th>SD</th>\n      <td>379.203809</td>\n      <td>346.386953</td>\n      <td>519.700000</td>\n      <td>491.500000</td>\n      <td>31.0</td>\n    </tr>\n    <tr>\n      <th>TN</th>\n      <td>290.313760</td>\n      <td>287.716146</td>\n      <td>511.781250</td>\n      <td>510.593750</td>\n      <td>182.0</td>\n    </tr>\n    <tr>\n      <th>TX</th>\n      <td>227.752097</td>\n      <td>218.243537</td>\n      <td>523.126984</td>\n      <td>511.080645</td>\n      <td>472.0</td>\n    </tr>\n    <tr>\n      <th>UT</th>\n      <td>202.386750</td>\n      <td>201.912613</td>\n      <td>561.250000</td>\n      <td>561.250000</td>\n      <td>77.0</td>\n    </tr>\n    <tr>\n      <th>VA</th>\n      <td>317.480577</td>\n      <td>316.947779</td>\n      <td>526.051282</td>\n      <td>529.564103</td>\n      <td>185.0</td>\n    </tr>\n    <tr>\n      <th>VI</th>\n      <td>390.000000</td>\n      <td>400.000000</td>\n      <td>390.000000</td>\n      <td>400.000000</td>\n      <td>2.0</td>\n    </tr>\n    <tr>\n      <th>VT</th>\n      <td>389.967094</td>\n      <td>388.696848</td>\n      <td>526.875000</td>\n      <td>527.500000</td>\n      <td>27.0</td>\n    </tr>\n    <tr>\n      <th>WA</th>\n      <td>274.885878</td>\n      <td>267.880280</td>\n      <td>551.222222</td>\n      <td>548.333333</td>\n      <td>123.0</td>\n    </tr>\n    <tr>\n      <th>WI</th>\n      <td>153.803086</td>\n      <td>144.160115</td>\n      <td>545.071429</td>\n      <td>516.857143</td>\n      <td>112.0</td>\n    </tr>\n    <tr>\n      <th>WV</th>\n      <td>224.697582</td>\n      <td>218.843452</td>\n      <td>481.705882</td>\n      <td>473.411765</td>\n      <td>73.0</td>\n    </tr>\n    <tr>\n      <th>WY</th>\n      <td>216.761180</td>\n      <td>214.754132</td>\n      <td>540.000000</td>\n      <td>535.000000</td>\n      <td>11.0</td>\n    </tr>\n  </tbody>\n</table>\n</div>"
     },
     "execution_count": 148,
     "metadata": {},
     "output_type": "execute_result"
    }
   ],
   "source": [
    "(\n",
    "    college\n",
    "    .groupby('STABBR')\n",
    "    .apply(weighted_average)\n",
    ")"
   ],
   "metadata": {
    "collapsed": false
   }
  },
  {
   "cell_type": "code",
   "execution_count": 149,
   "outputs": [],
   "source": [
    "from scipy.stats import gmean, hmean"
   ],
   "metadata": {
    "collapsed": false
   }
  },
  {
   "cell_type": "code",
   "execution_count": 150,
   "outputs": [],
   "source": [
    "def calculate_means(df):\n",
    "    df_means = pd.DataFrame(index=['Arithmetic', 'Weighted', 'Geometric', 'Harmonic'])\n",
    "    cols = ['SATMTMID', 'SATVRMID']\n",
    "    for col in cols:\n",
    "        arithmetic = df[col].mean()\n",
    "        weighted = np.average(df[col], weights=df['UGDS'])\n",
    "        geometric = gmean(df[col])\n",
    "        harmonic = hmean(df[col])\n",
    "        df_means[col] = [arithmetic, weighted, geometric, harmonic]\n",
    "\n",
    "    df_means['count'] = len(df)\n",
    "    return df_means.astype(int)"
   ],
   "metadata": {
    "collapsed": false
   }
  },
  {
   "cell_type": "code",
   "execution_count": 151,
   "outputs": [
    {
     "data": {
      "text/plain": "                   SATMTMID  SATVRMID  count\nSTABBR                                      \nAK     Arithmetic       503       555      1\n       Weighted         503       555      1\n       Geometric        503       555      1\n       Harmonic         503       555      1\nAL     Arithmetic       504       508     21\n...                     ...       ...    ...\nWV     Harmonic         480       472     17\nWY     Arithmetic       540       535      1\n       Weighted         540       535      1\n       Geometric        540       534      1\n       Harmonic         540       535      1\n\n[212 rows x 3 columns]",
      "text/html": "<div>\n<style scoped>\n    .dataframe tbody tr th:only-of-type {\n        vertical-align: middle;\n    }\n\n    .dataframe tbody tr th {\n        vertical-align: top;\n    }\n\n    .dataframe thead th {\n        text-align: right;\n    }\n</style>\n<table border=\"1\" class=\"dataframe\">\n  <thead>\n    <tr style=\"text-align: right;\">\n      <th></th>\n      <th></th>\n      <th>SATMTMID</th>\n      <th>SATVRMID</th>\n      <th>count</th>\n    </tr>\n    <tr>\n      <th>STABBR</th>\n      <th></th>\n      <th></th>\n      <th></th>\n      <th></th>\n    </tr>\n  </thead>\n  <tbody>\n    <tr>\n      <th rowspan=\"4\" valign=\"top\">AK</th>\n      <th>Arithmetic</th>\n      <td>503</td>\n      <td>555</td>\n      <td>1</td>\n    </tr>\n    <tr>\n      <th>Weighted</th>\n      <td>503</td>\n      <td>555</td>\n      <td>1</td>\n    </tr>\n    <tr>\n      <th>Geometric</th>\n      <td>503</td>\n      <td>555</td>\n      <td>1</td>\n    </tr>\n    <tr>\n      <th>Harmonic</th>\n      <td>503</td>\n      <td>555</td>\n      <td>1</td>\n    </tr>\n    <tr>\n      <th>AL</th>\n      <th>Arithmetic</th>\n      <td>504</td>\n      <td>508</td>\n      <td>21</td>\n    </tr>\n    <tr>\n      <th>...</th>\n      <th>...</th>\n      <td>...</td>\n      <td>...</td>\n      <td>...</td>\n    </tr>\n    <tr>\n      <th>WV</th>\n      <th>Harmonic</th>\n      <td>480</td>\n      <td>472</td>\n      <td>17</td>\n    </tr>\n    <tr>\n      <th rowspan=\"4\" valign=\"top\">WY</th>\n      <th>Arithmetic</th>\n      <td>540</td>\n      <td>535</td>\n      <td>1</td>\n    </tr>\n    <tr>\n      <th>Weighted</th>\n      <td>540</td>\n      <td>535</td>\n      <td>1</td>\n    </tr>\n    <tr>\n      <th>Geometric</th>\n      <td>540</td>\n      <td>534</td>\n      <td>1</td>\n    </tr>\n    <tr>\n      <th>Harmonic</th>\n      <td>540</td>\n      <td>535</td>\n      <td>1</td>\n    </tr>\n  </tbody>\n</table>\n<p>212 rows × 3 columns</p>\n</div>"
     },
     "execution_count": 151,
     "metadata": {},
     "output_type": "execute_result"
    }
   ],
   "source": [
    "(\n",
    "    college2\n",
    "    .groupby('STABBR')\n",
    "    .apply(calculate_means)\n",
    ")"
   ],
   "metadata": {
    "collapsed": false
   }
  },
  {
   "cell_type": "markdown",
   "source": [
    "연속 변수를 기준으로 그룹화"
   ],
   "metadata": {
    "collapsed": false
   }
  },
  {
   "cell_type": "code",
   "execution_count": 152,
   "outputs": [],
   "source": [
    "flights = pd.read_csv('data/flights.csv')"
   ],
   "metadata": {
    "collapsed": false
   }
  },
  {
   "cell_type": "code",
   "execution_count": 153,
   "outputs": [
    {
     "data": {
      "text/plain": "       MONTH  DAY  WEEKDAY AIRLINE ORG_AIR DEST_AIR  SCHED_DEP  DEP_DELAY  \\\n0          1    1        4      WN     LAX      SLC       1625       58.0   \n1          1    1        4      UA     DEN      IAD        823        7.0   \n2          1    1        4      MQ     DFW      VPS       1305       36.0   \n3          1    1        4      AA     DFW      DCA       1555        7.0   \n4          1    1        4      WN     LAX      MCI       1720       48.0   \n...      ...  ...      ...     ...     ...      ...        ...        ...   \n58487     12   31        4      AA     SFO      DFW        515        5.0   \n58488     12   31        4      F9     LAS      SFO       1910       13.0   \n58489     12   31        4      OO     SFO      SBA       1846       -6.0   \n58490     12   31        4      WN     MSP      ATL        525       39.0   \n58491     12   31        4      OO     SFO      BOI        859        5.0   \n\n       AIR_TIME  DIST  SCHED_ARR  ARR_DELAY  DIVERTED  CANCELLED  \n0          94.0   590       1905       65.0         0          0  \n1         154.0  1452       1333      -13.0         0          0  \n2          85.0   641       1453       35.0         0          0  \n3         126.0  1192       1935       -7.0         0          0  \n4         166.0  1363       2225       39.0         0          0  \n...         ...   ...        ...        ...       ...        ...  \n58487     166.0  1464       1045      -19.0         0          0  \n58488      71.0   414       2050        4.0         0          0  \n58489      46.0   262       1956       -5.0         0          0  \n58490     124.0   907        855       34.0         0          0  \n58491      73.0   522       1146       -1.0         0          0  \n\n[58492 rows x 14 columns]",
      "text/html": "<div>\n<style scoped>\n    .dataframe tbody tr th:only-of-type {\n        vertical-align: middle;\n    }\n\n    .dataframe tbody tr th {\n        vertical-align: top;\n    }\n\n    .dataframe thead th {\n        text-align: right;\n    }\n</style>\n<table border=\"1\" class=\"dataframe\">\n  <thead>\n    <tr style=\"text-align: right;\">\n      <th></th>\n      <th>MONTH</th>\n      <th>DAY</th>\n      <th>WEEKDAY</th>\n      <th>AIRLINE</th>\n      <th>ORG_AIR</th>\n      <th>DEST_AIR</th>\n      <th>SCHED_DEP</th>\n      <th>DEP_DELAY</th>\n      <th>AIR_TIME</th>\n      <th>DIST</th>\n      <th>SCHED_ARR</th>\n      <th>ARR_DELAY</th>\n      <th>DIVERTED</th>\n      <th>CANCELLED</th>\n    </tr>\n  </thead>\n  <tbody>\n    <tr>\n      <th>0</th>\n      <td>1</td>\n      <td>1</td>\n      <td>4</td>\n      <td>WN</td>\n      <td>LAX</td>\n      <td>SLC</td>\n      <td>1625</td>\n      <td>58.0</td>\n      <td>94.0</td>\n      <td>590</td>\n      <td>1905</td>\n      <td>65.0</td>\n      <td>0</td>\n      <td>0</td>\n    </tr>\n    <tr>\n      <th>1</th>\n      <td>1</td>\n      <td>1</td>\n      <td>4</td>\n      <td>UA</td>\n      <td>DEN</td>\n      <td>IAD</td>\n      <td>823</td>\n      <td>7.0</td>\n      <td>154.0</td>\n      <td>1452</td>\n      <td>1333</td>\n      <td>-13.0</td>\n      <td>0</td>\n      <td>0</td>\n    </tr>\n    <tr>\n      <th>2</th>\n      <td>1</td>\n      <td>1</td>\n      <td>4</td>\n      <td>MQ</td>\n      <td>DFW</td>\n      <td>VPS</td>\n      <td>1305</td>\n      <td>36.0</td>\n      <td>85.0</td>\n      <td>641</td>\n      <td>1453</td>\n      <td>35.0</td>\n      <td>0</td>\n      <td>0</td>\n    </tr>\n    <tr>\n      <th>3</th>\n      <td>1</td>\n      <td>1</td>\n      <td>4</td>\n      <td>AA</td>\n      <td>DFW</td>\n      <td>DCA</td>\n      <td>1555</td>\n      <td>7.0</td>\n      <td>126.0</td>\n      <td>1192</td>\n      <td>1935</td>\n      <td>-7.0</td>\n      <td>0</td>\n      <td>0</td>\n    </tr>\n    <tr>\n      <th>4</th>\n      <td>1</td>\n      <td>1</td>\n      <td>4</td>\n      <td>WN</td>\n      <td>LAX</td>\n      <td>MCI</td>\n      <td>1720</td>\n      <td>48.0</td>\n      <td>166.0</td>\n      <td>1363</td>\n      <td>2225</td>\n      <td>39.0</td>\n      <td>0</td>\n      <td>0</td>\n    </tr>\n    <tr>\n      <th>...</th>\n      <td>...</td>\n      <td>...</td>\n      <td>...</td>\n      <td>...</td>\n      <td>...</td>\n      <td>...</td>\n      <td>...</td>\n      <td>...</td>\n      <td>...</td>\n      <td>...</td>\n      <td>...</td>\n      <td>...</td>\n      <td>...</td>\n      <td>...</td>\n    </tr>\n    <tr>\n      <th>58487</th>\n      <td>12</td>\n      <td>31</td>\n      <td>4</td>\n      <td>AA</td>\n      <td>SFO</td>\n      <td>DFW</td>\n      <td>515</td>\n      <td>5.0</td>\n      <td>166.0</td>\n      <td>1464</td>\n      <td>1045</td>\n      <td>-19.0</td>\n      <td>0</td>\n      <td>0</td>\n    </tr>\n    <tr>\n      <th>58488</th>\n      <td>12</td>\n      <td>31</td>\n      <td>4</td>\n      <td>F9</td>\n      <td>LAS</td>\n      <td>SFO</td>\n      <td>1910</td>\n      <td>13.0</td>\n      <td>71.0</td>\n      <td>414</td>\n      <td>2050</td>\n      <td>4.0</td>\n      <td>0</td>\n      <td>0</td>\n    </tr>\n    <tr>\n      <th>58489</th>\n      <td>12</td>\n      <td>31</td>\n      <td>4</td>\n      <td>OO</td>\n      <td>SFO</td>\n      <td>SBA</td>\n      <td>1846</td>\n      <td>-6.0</td>\n      <td>46.0</td>\n      <td>262</td>\n      <td>1956</td>\n      <td>-5.0</td>\n      <td>0</td>\n      <td>0</td>\n    </tr>\n    <tr>\n      <th>58490</th>\n      <td>12</td>\n      <td>31</td>\n      <td>4</td>\n      <td>WN</td>\n      <td>MSP</td>\n      <td>ATL</td>\n      <td>525</td>\n      <td>39.0</td>\n      <td>124.0</td>\n      <td>907</td>\n      <td>855</td>\n      <td>34.0</td>\n      <td>0</td>\n      <td>0</td>\n    </tr>\n    <tr>\n      <th>58491</th>\n      <td>12</td>\n      <td>31</td>\n      <td>4</td>\n      <td>OO</td>\n      <td>SFO</td>\n      <td>BOI</td>\n      <td>859</td>\n      <td>5.0</td>\n      <td>73.0</td>\n      <td>522</td>\n      <td>1146</td>\n      <td>-1.0</td>\n      <td>0</td>\n      <td>0</td>\n    </tr>\n  </tbody>\n</table>\n<p>58492 rows × 14 columns</p>\n</div>"
     },
     "execution_count": 153,
     "metadata": {},
     "output_type": "execute_result"
    }
   ],
   "source": [
    "flights"
   ],
   "metadata": {
    "collapsed": false
   }
  },
  {
   "cell_type": "code",
   "execution_count": 154,
   "outputs": [],
   "source": [
    "bins = [-np.inf, 200, 500, 1000, 2000, np.inf]"
   ],
   "metadata": {
    "collapsed": false
   }
  },
  {
   "cell_type": "code",
   "execution_count": 155,
   "outputs": [],
   "source": [
    "cuts = pd.cut(flights['DIST'], bins=bins)"
   ],
   "metadata": {
    "collapsed": false
   }
  },
  {
   "cell_type": "code",
   "execution_count": 156,
   "outputs": [
    {
     "data": {
      "text/plain": "0         (500.0, 1000.0]\n1        (1000.0, 2000.0]\n2         (500.0, 1000.0]\n3        (1000.0, 2000.0]\n4        (1000.0, 2000.0]\n               ...       \n58487    (1000.0, 2000.0]\n58488      (200.0, 500.0]\n58489      (200.0, 500.0]\n58490     (500.0, 1000.0]\n58491     (500.0, 1000.0]\nName: DIST, Length: 58492, dtype: category\nCategories (5, interval[float64, right]): [(-inf, 200.0] < (200.0, 500.0] < (500.0, 1000.0] < (1000.0, 2000.0] < (2000.0, inf]]"
     },
     "execution_count": 156,
     "metadata": {},
     "output_type": "execute_result"
    }
   ],
   "source": [
    "cuts"
   ],
   "metadata": {
    "collapsed": false
   }
  },
  {
   "cell_type": "code",
   "execution_count": 157,
   "outputs": [
    {
     "data": {
      "text/plain": "(500.0, 1000.0]     20659\n(200.0, 500.0]      15874\n(1000.0, 2000.0]    14186\n(2000.0, inf]        4054\n(-inf, 200.0]        3719\nName: DIST, dtype: int64"
     },
     "execution_count": 157,
     "metadata": {},
     "output_type": "execute_result"
    }
   ],
   "source": [
    "cuts.value_counts()"
   ],
   "metadata": {
    "collapsed": false
   }
  },
  {
   "cell_type": "code",
   "execution_count": 161,
   "outputs": [
    {
     "data": {
      "text/plain": "DIST              AIRLINE\n(-inf, 200.0]     OO         0.326\n                  EV         0.289\n                  MQ         0.211\n                  DL         0.086\n                  AA         0.052\n                  UA         0.027\n                  WN         0.009\n(200.0, 500.0]    WN         0.194\n                  DL         0.189\n                  OO         0.159\n                  EV         0.156\n                  MQ         0.100\n                  AA         0.071\n                  UA         0.062\n                  VX         0.028\n                  US         0.016\n                  NK         0.012\n                  B6         0.007\n                  F9         0.005\n                  AS         0.001\n(500.0, 1000.0]   DL         0.206\n                  AA         0.144\n                  WN         0.138\n                  UA         0.131\n                  OO         0.106\n                  EV         0.101\n                  MQ         0.051\n                  F9         0.038\n                  NK         0.030\n                  US         0.025\n                  AS         0.023\n                  VX         0.004\n                  B6         0.003\n(1000.0, 2000.0]  AA         0.264\n                  UA         0.199\n                  DL         0.165\n                  WN         0.160\n                  OO         0.046\n                  NK         0.045\n                  US         0.040\n                  F9         0.031\n                  AS         0.016\n                  EV         0.016\n                  VX         0.012\n                  B6         0.003\n                  MQ         0.003\n(2000.0, inf]     UA         0.289\n                  AA         0.212\n                  DL         0.171\n                  B6         0.080\n                  VX         0.074\n                  US         0.065\n                  WN         0.046\n                  HA         0.028\n                  NK         0.019\n                  AS         0.012\n                  F9         0.004\nName: AIRLINE, dtype: float64"
     },
     "execution_count": 161,
     "metadata": {},
     "output_type": "execute_result"
    }
   ],
   "source": [
    "(\n",
    "    flights\n",
    "    .groupby(cuts)\n",
    "    ['AIRLINE']\n",
    "    .value_counts(normalize=True)\n",
    "    .round(3)\n",
    ")"
   ],
   "metadata": {
    "collapsed": false
   }
  },
  {
   "cell_type": "code",
   "execution_count": 162,
   "outputs": [
    {
     "data": {
      "text/plain": "DIST                  \n(-inf, 200.0]     0.25    0.43\n                  0.50    0.50\n                  0.75    0.57\n(200.0, 500.0]    0.25    0.77\n                  0.50    0.92\n                  0.75    1.05\n(500.0, 1000.0]   0.25    1.43\n                  0.50    1.65\n                  0.75    1.92\n(1000.0, 2000.0]  0.25    2.50\n                  0.50    2.93\n                  0.75    3.40\n(2000.0, inf]     0.25    4.30\n                  0.50    4.70\n                  0.75    5.03\nName: AIR_TIME, dtype: float64"
     },
     "execution_count": 162,
     "metadata": {},
     "output_type": "execute_result"
    }
   ],
   "source": [
    "(\n",
    "    flights\n",
    "    .groupby(cuts)\n",
    "    ['AIR_TIME']\n",
    "    .quantile(q=[.25, .5, .75])\n",
    "    .div(60)\n",
    "    .round(2)\n",
    ")"
   ],
   "metadata": {
    "collapsed": false
   }
  },
  {
   "cell_type": "code",
   "execution_count": 163,
   "outputs": [],
   "source": [
    "labels = ['Under an Hour', '1 Hour', '1-2 Hours', '2-4 Hours', '4+ Hours']"
   ],
   "metadata": {
    "collapsed": false
   }
  },
  {
   "cell_type": "code",
   "execution_count": 167,
   "outputs": [
    {
     "data": {
      "text/plain": "0        1-2 Hours\n1        2-4 Hours\n2        1-2 Hours\n3        2-4 Hours\n4        2-4 Hours\n           ...    \n58487    2-4 Hours\n58488       1 Hour\n58489       1 Hour\n58490    1-2 Hours\n58491    1-2 Hours\nName: DIST, Length: 58492, dtype: category\nCategories (5, object): ['Under an Hour' < '1 Hour' < '1-2 Hours' < '2-4 Hours' < '4+ Hours']"
     },
     "execution_count": 167,
     "metadata": {},
     "output_type": "execute_result"
    }
   ],
   "source": [
    "cuts2 = pd.cut(flights['DIST'], bins=bins, labels=labels)\n",
    "cuts2"
   ],
   "metadata": {
    "collapsed": false
   }
  },
  {
   "cell_type": "code",
   "execution_count": 168,
   "outputs": [
    {
     "data": {
      "text/plain": "AIRLINE           AA     AS     B6     DL     EV     F9     HA     MQ     NK  \\\nDIST                                                                           \nUnder an Hour  0.052    NaN    NaN  0.086  0.289    NaN    NaN  0.211    NaN   \n1 Hour         0.071  0.001  0.007  0.189  0.156  0.005    NaN  0.100  0.012   \n1-2 Hours      0.144  0.023  0.003  0.206  0.101  0.038    NaN  0.051  0.030   \n2-4 Hours      0.264  0.016  0.003  0.165  0.016  0.031    NaN  0.003  0.045   \n4+ Hours       0.212  0.012  0.080  0.171    NaN  0.004  0.028    NaN  0.019   \n\nAIRLINE           OO     UA     US     VX     WN  \nDIST                                              \nUnder an Hour  0.326  0.027    NaN    NaN  0.009  \n1 Hour         0.159  0.062  0.016  0.028  0.194  \n1-2 Hours      0.106  0.131  0.025  0.004  0.138  \n2-4 Hours      0.046  0.199  0.040  0.012  0.160  \n4+ Hours         NaN  0.289  0.065  0.074  0.046  ",
      "text/html": "<div>\n<style scoped>\n    .dataframe tbody tr th:only-of-type {\n        vertical-align: middle;\n    }\n\n    .dataframe tbody tr th {\n        vertical-align: top;\n    }\n\n    .dataframe thead th {\n        text-align: right;\n    }\n</style>\n<table border=\"1\" class=\"dataframe\">\n  <thead>\n    <tr style=\"text-align: right;\">\n      <th>AIRLINE</th>\n      <th>AA</th>\n      <th>AS</th>\n      <th>B6</th>\n      <th>DL</th>\n      <th>EV</th>\n      <th>F9</th>\n      <th>HA</th>\n      <th>MQ</th>\n      <th>NK</th>\n      <th>OO</th>\n      <th>UA</th>\n      <th>US</th>\n      <th>VX</th>\n      <th>WN</th>\n    </tr>\n    <tr>\n      <th>DIST</th>\n      <th></th>\n      <th></th>\n      <th></th>\n      <th></th>\n      <th></th>\n      <th></th>\n      <th></th>\n      <th></th>\n      <th></th>\n      <th></th>\n      <th></th>\n      <th></th>\n      <th></th>\n      <th></th>\n    </tr>\n  </thead>\n  <tbody>\n    <tr>\n      <th>Under an Hour</th>\n      <td>0.052</td>\n      <td>NaN</td>\n      <td>NaN</td>\n      <td>0.086</td>\n      <td>0.289</td>\n      <td>NaN</td>\n      <td>NaN</td>\n      <td>0.211</td>\n      <td>NaN</td>\n      <td>0.326</td>\n      <td>0.027</td>\n      <td>NaN</td>\n      <td>NaN</td>\n      <td>0.009</td>\n    </tr>\n    <tr>\n      <th>1 Hour</th>\n      <td>0.071</td>\n      <td>0.001</td>\n      <td>0.007</td>\n      <td>0.189</td>\n      <td>0.156</td>\n      <td>0.005</td>\n      <td>NaN</td>\n      <td>0.100</td>\n      <td>0.012</td>\n      <td>0.159</td>\n      <td>0.062</td>\n      <td>0.016</td>\n      <td>0.028</td>\n      <td>0.194</td>\n    </tr>\n    <tr>\n      <th>1-2 Hours</th>\n      <td>0.144</td>\n      <td>0.023</td>\n      <td>0.003</td>\n      <td>0.206</td>\n      <td>0.101</td>\n      <td>0.038</td>\n      <td>NaN</td>\n      <td>0.051</td>\n      <td>0.030</td>\n      <td>0.106</td>\n      <td>0.131</td>\n      <td>0.025</td>\n      <td>0.004</td>\n      <td>0.138</td>\n    </tr>\n    <tr>\n      <th>2-4 Hours</th>\n      <td>0.264</td>\n      <td>0.016</td>\n      <td>0.003</td>\n      <td>0.165</td>\n      <td>0.016</td>\n      <td>0.031</td>\n      <td>NaN</td>\n      <td>0.003</td>\n      <td>0.045</td>\n      <td>0.046</td>\n      <td>0.199</td>\n      <td>0.040</td>\n      <td>0.012</td>\n      <td>0.160</td>\n    </tr>\n    <tr>\n      <th>4+ Hours</th>\n      <td>0.212</td>\n      <td>0.012</td>\n      <td>0.080</td>\n      <td>0.171</td>\n      <td>NaN</td>\n      <td>0.004</td>\n      <td>0.028</td>\n      <td>NaN</td>\n      <td>0.019</td>\n      <td>NaN</td>\n      <td>0.289</td>\n      <td>0.065</td>\n      <td>0.074</td>\n      <td>0.046</td>\n    </tr>\n  </tbody>\n</table>\n</div>"
     },
     "execution_count": 168,
     "metadata": {},
     "output_type": "execute_result"
    }
   ],
   "source": [
    "(\n",
    "    flights\n",
    "    .groupby(cuts2)\n",
    "    ['AIRLINE']\n",
    "    .value_counts(normalize=True)\n",
    "    .round(3)\n",
    "    .unstack()\n",
    ")"
   ],
   "metadata": {
    "collapsed": false
   }
  },
  {
   "cell_type": "markdown",
   "source": [
    "도시 간 총 비행 횟수 계산"
   ],
   "metadata": {
    "collapsed": false
   }
  },
  {
   "cell_type": "code",
   "execution_count": 169,
   "outputs": [],
   "source": [
    "flights = pd.read_csv('data/flights.csv')"
   ],
   "metadata": {
    "collapsed": false
   }
  },
  {
   "cell_type": "code",
   "execution_count": 183,
   "outputs": [
    {
     "data": {
      "text/plain": "ORG_AIR  DEST_AIR\nATL      ABE          31\n         ABQ          16\n         ABY          19\n         ACY           6\n         AEX          40\n                    ... \nSFO      SNA         122\n         STL          20\n         SUN          10\n         TUS          20\n         XNA           2\nLength: 1130, dtype: int64"
     },
     "execution_count": 183,
     "metadata": {},
     "output_type": "execute_result"
    }
   ],
   "source": [
    "flights_ct = flights.groupby(['ORG_AIR', 'DEST_AIR']).size()\n",
    "flights_ct"
   ],
   "metadata": {
    "collapsed": false
   }
  },
  {
   "cell_type": "code",
   "execution_count": 172,
   "outputs": [
    {
     "data": {
      "text/plain": "ORG_AIR  DEST_AIR\nATL      IAH         121\nIAH      ATL         148\ndtype: int64"
     },
     "execution_count": 172,
     "metadata": {},
     "output_type": "execute_result"
    }
   ],
   "source": [
    "flights_ct.loc[[('ATL', 'IAH'), ('IAH', 'ATL')]]"
   ],
   "metadata": {
    "collapsed": false
   }
  },
  {
   "cell_type": "code",
   "execution_count": 173,
   "outputs": [],
   "source": [
    "f_part3 = (\n",
    "    flights[['ORG_AIR', 'DEST_AIR']]\n",
    "    .apply(lambda ser: ser.sort_values().reset_index(drop=True), axis='columns')\n",
    ")"
   ],
   "metadata": {
    "collapsed": false
   }
  },
  {
   "cell_type": "code",
   "execution_count": 174,
   "outputs": [
    {
     "data": {
      "text/plain": "         0    1\n0      LAX  SLC\n1      DEN  IAD\n2      DFW  VPS\n3      DCA  DFW\n4      LAX  MCI\n...    ...  ...\n58487  DFW  SFO\n58488  LAS  SFO\n58489  SBA  SFO\n58490  ATL  MSP\n58491  BOI  SFO\n\n[58492 rows x 2 columns]",
      "text/html": "<div>\n<style scoped>\n    .dataframe tbody tr th:only-of-type {\n        vertical-align: middle;\n    }\n\n    .dataframe tbody tr th {\n        vertical-align: top;\n    }\n\n    .dataframe thead th {\n        text-align: right;\n    }\n</style>\n<table border=\"1\" class=\"dataframe\">\n  <thead>\n    <tr style=\"text-align: right;\">\n      <th></th>\n      <th>0</th>\n      <th>1</th>\n    </tr>\n  </thead>\n  <tbody>\n    <tr>\n      <th>0</th>\n      <td>LAX</td>\n      <td>SLC</td>\n    </tr>\n    <tr>\n      <th>1</th>\n      <td>DEN</td>\n      <td>IAD</td>\n    </tr>\n    <tr>\n      <th>2</th>\n      <td>DFW</td>\n      <td>VPS</td>\n    </tr>\n    <tr>\n      <th>3</th>\n      <td>DCA</td>\n      <td>DFW</td>\n    </tr>\n    <tr>\n      <th>4</th>\n      <td>LAX</td>\n      <td>MCI</td>\n    </tr>\n    <tr>\n      <th>...</th>\n      <td>...</td>\n      <td>...</td>\n    </tr>\n    <tr>\n      <th>58487</th>\n      <td>DFW</td>\n      <td>SFO</td>\n    </tr>\n    <tr>\n      <th>58488</th>\n      <td>LAS</td>\n      <td>SFO</td>\n    </tr>\n    <tr>\n      <th>58489</th>\n      <td>SBA</td>\n      <td>SFO</td>\n    </tr>\n    <tr>\n      <th>58490</th>\n      <td>ATL</td>\n      <td>MSP</td>\n    </tr>\n    <tr>\n      <th>58491</th>\n      <td>BOI</td>\n      <td>SFO</td>\n    </tr>\n  </tbody>\n</table>\n<p>58492 rows × 2 columns</p>\n</div>"
     },
     "execution_count": 174,
     "metadata": {},
     "output_type": "execute_result"
    }
   ],
   "source": [
    "f_part3"
   ],
   "metadata": {
    "collapsed": false
   }
  },
  {
   "cell_type": "code",
   "execution_count": 175,
   "outputs": [],
   "source": [
    "rename_dict = {0: 'AIR1', 1: 'AIR2'}"
   ],
   "metadata": {
    "collapsed": false
   }
  },
  {
   "cell_type": "code",
   "execution_count": 187,
   "outputs": [
    {
     "data": {
      "text/plain": "AIR1  AIR2\nABE   ATL      31\n      ORD      24\nABI   DFW      74\nABQ   ATL      16\n      DEN      46\n             ... \nSFO   SNA     122\n      STL      20\n      SUN      10\n      TUS      20\n      XNA       2\nLength: 1085, dtype: int64"
     },
     "execution_count": 187,
     "metadata": {},
     "output_type": "execute_result"
    }
   ],
   "source": [
    "(\n",
    "    flights[['ORG_AIR', 'DEST_AIR']]\n",
    "    .apply(lambda ser: ser.sort_values().reset_index(drop=True), axis='columns')\n",
    "    .rename(columns=rename_dict)\n",
    "    .groupby(['AIR1', 'AIR2'])\n",
    "    .size()\n",
    ")"
   ],
   "metadata": {
    "collapsed": false
   }
  },
  {
   "cell_type": "code",
   "execution_count": 181,
   "outputs": [
    {
     "data": {
      "text/plain": "269"
     },
     "execution_count": 181,
     "metadata": {},
     "output_type": "execute_result"
    }
   ],
   "source": [
    "(\n",
    "    flights[['ORG_AIR', 'DEST_AIR']]\n",
    "    .apply(lambda ser: ser.sort_values().reset_index(drop=True), axis='columns')\n",
    "    .rename(columns=rename_dict)\n",
    "    .groupby(['AIR1', 'AIR2'])\n",
    "    .size()\n",
    "    .loc[('ATL', 'IAH')]\n",
    ")"
   ],
   "metadata": {
    "collapsed": false
   }
  },
  {
   "cell_type": "code",
   "execution_count": 182,
   "outputs": [
    {
     "ename": "KeyError",
     "evalue": "('IAH', 'ATL')",
     "output_type": "error",
     "traceback": [
      "\u001B[0;31m---------------------------------------------------------------------------\u001B[0m",
      "\u001B[0;31mKeyError\u001B[0m                                  Traceback (most recent call last)",
      "File \u001B[0;32m~/anaconda3/lib/python3.10/site-packages/pandas/core/indexes/multi.py:3090\u001B[0m, in \u001B[0;36mMultiIndex._get_loc_level\u001B[0;34m(self, key, level)\u001B[0m\n\u001B[1;32m   3089\u001B[0m \u001B[38;5;28;01mtry\u001B[39;00m:\n\u001B[0;32m-> 3090\u001B[0m     \u001B[38;5;28;01mreturn\u001B[39;00m (\u001B[38;5;28;43mself\u001B[39;49m\u001B[38;5;241;43m.\u001B[39;49m\u001B[43m_engine\u001B[49m\u001B[38;5;241;43m.\u001B[39;49m\u001B[43mget_loc\u001B[49m\u001B[43m(\u001B[49m\u001B[43mkey\u001B[49m\u001B[43m)\u001B[49m, \u001B[38;5;28;01mNone\u001B[39;00m)\n\u001B[1;32m   3091\u001B[0m \u001B[38;5;28;01mexcept\u001B[39;00m \u001B[38;5;167;01mKeyError\u001B[39;00m \u001B[38;5;28;01mas\u001B[39;00m err:\n",
      "File \u001B[0;32m~/anaconda3/lib/python3.10/site-packages/pandas/_libs/index.pyx:782\u001B[0m, in \u001B[0;36mpandas._libs.index.BaseMultiIndexCodesEngine.get_loc\u001B[0;34m()\u001B[0m\n",
      "File \u001B[0;32m~/anaconda3/lib/python3.10/site-packages/pandas/_libs/index.pyx:138\u001B[0m, in \u001B[0;36mpandas._libs.index.IndexEngine.get_loc\u001B[0;34m()\u001B[0m\n",
      "File \u001B[0;32m~/anaconda3/lib/python3.10/site-packages/pandas/_libs/index.pyx:165\u001B[0m, in \u001B[0;36mpandas._libs.index.IndexEngine.get_loc\u001B[0;34m()\u001B[0m\n",
      "File \u001B[0;32mpandas/_libs/hashtable_class_helper.pxi:1920\u001B[0m, in \u001B[0;36mpandas._libs.hashtable.UInt64HashTable.get_item\u001B[0;34m()\u001B[0m\n",
      "File \u001B[0;32mpandas/_libs/hashtable_class_helper.pxi:1930\u001B[0m, in \u001B[0;36mpandas._libs.hashtable.UInt64HashTable.get_item\u001B[0;34m()\u001B[0m\n",
      "\u001B[0;31mKeyError\u001B[0m: 29185",
      "\nThe above exception was the direct cause of the following exception:\n",
      "\u001B[0;31mKeyError\u001B[0m                                  Traceback (most recent call last)",
      "Cell \u001B[0;32mIn[182], line 2\u001B[0m\n\u001B[1;32m      1\u001B[0m (\n\u001B[0;32m----> 2\u001B[0m     \u001B[43mflights\u001B[49m\u001B[43m[\u001B[49m\u001B[43m[\u001B[49m\u001B[38;5;124;43m'\u001B[39;49m\u001B[38;5;124;43mORG_AIR\u001B[39;49m\u001B[38;5;124;43m'\u001B[39;49m\u001B[43m,\u001B[49m\u001B[43m \u001B[49m\u001B[38;5;124;43m'\u001B[39;49m\u001B[38;5;124;43mDEST_AIR\u001B[39;49m\u001B[38;5;124;43m'\u001B[39;49m\u001B[43m]\u001B[49m\u001B[43m]\u001B[49m\n\u001B[1;32m      3\u001B[0m \u001B[43m    \u001B[49m\u001B[38;5;241;43m.\u001B[39;49m\u001B[43mapply\u001B[49m\u001B[43m(\u001B[49m\u001B[38;5;28;43;01mlambda\u001B[39;49;00m\u001B[43m \u001B[49m\u001B[43mser\u001B[49m\u001B[43m:\u001B[49m\u001B[43m \u001B[49m\u001B[43mser\u001B[49m\u001B[38;5;241;43m.\u001B[39;49m\u001B[43msort_values\u001B[49m\u001B[43m(\u001B[49m\u001B[43m)\u001B[49m\u001B[38;5;241;43m.\u001B[39;49m\u001B[43mreset_index\u001B[49m\u001B[43m(\u001B[49m\u001B[43mdrop\u001B[49m\u001B[38;5;241;43m=\u001B[39;49m\u001B[38;5;28;43;01mTrue\u001B[39;49;00m\u001B[43m)\u001B[49m\u001B[43m,\u001B[49m\u001B[43m \u001B[49m\u001B[43maxis\u001B[49m\u001B[38;5;241;43m=\u001B[39;49m\u001B[38;5;124;43m'\u001B[39;49m\u001B[38;5;124;43mcolumns\u001B[39;49m\u001B[38;5;124;43m'\u001B[39;49m\u001B[43m)\u001B[49m\n\u001B[1;32m      4\u001B[0m \u001B[43m    \u001B[49m\u001B[38;5;241;43m.\u001B[39;49m\u001B[43mrename\u001B[49m\u001B[43m(\u001B[49m\u001B[43mcolumns\u001B[49m\u001B[38;5;241;43m=\u001B[39;49m\u001B[43mrename_dict\u001B[49m\u001B[43m)\u001B[49m\n\u001B[1;32m      5\u001B[0m \u001B[43m    \u001B[49m\u001B[38;5;241;43m.\u001B[39;49m\u001B[43mgroupby\u001B[49m\u001B[43m(\u001B[49m\u001B[43m[\u001B[49m\u001B[38;5;124;43m'\u001B[39;49m\u001B[38;5;124;43mAIR1\u001B[39;49m\u001B[38;5;124;43m'\u001B[39;49m\u001B[43m,\u001B[49m\u001B[43m \u001B[49m\u001B[38;5;124;43m'\u001B[39;49m\u001B[38;5;124;43mAIR2\u001B[39;49m\u001B[38;5;124;43m'\u001B[39;49m\u001B[43m]\u001B[49m\u001B[43m)\u001B[49m\n\u001B[1;32m      6\u001B[0m \u001B[43m    \u001B[49m\u001B[38;5;241;43m.\u001B[39;49m\u001B[43msize\u001B[49m\u001B[43m(\u001B[49m\u001B[43m)\u001B[49m\n\u001B[1;32m      7\u001B[0m \u001B[43m    \u001B[49m\u001B[38;5;241;43m.\u001B[39;49m\u001B[43mloc\u001B[49m\u001B[43m[\u001B[49m\u001B[43m(\u001B[49m\u001B[38;5;124;43m'\u001B[39;49m\u001B[38;5;124;43mIAH\u001B[39;49m\u001B[38;5;124;43m'\u001B[39;49m\u001B[43m,\u001B[49m\u001B[43m \u001B[49m\u001B[38;5;124;43m'\u001B[39;49m\u001B[38;5;124;43mATL\u001B[39;49m\u001B[38;5;124;43m'\u001B[39;49m\u001B[43m)\u001B[49m\u001B[43m]\u001B[49m\n\u001B[1;32m      8\u001B[0m )\n",
      "File \u001B[0;32m~/anaconda3/lib/python3.10/site-packages/pandas/core/indexing.py:1067\u001B[0m, in \u001B[0;36m_LocationIndexer.__getitem__\u001B[0;34m(self, key)\u001B[0m\n\u001B[1;32m   1065\u001B[0m     \u001B[38;5;28;01mif\u001B[39;00m \u001B[38;5;28mself\u001B[39m\u001B[38;5;241m.\u001B[39m_is_scalar_access(key):\n\u001B[1;32m   1066\u001B[0m         \u001B[38;5;28;01mreturn\u001B[39;00m \u001B[38;5;28mself\u001B[39m\u001B[38;5;241m.\u001B[39mobj\u001B[38;5;241m.\u001B[39m_get_value(\u001B[38;5;241m*\u001B[39mkey, takeable\u001B[38;5;241m=\u001B[39m\u001B[38;5;28mself\u001B[39m\u001B[38;5;241m.\u001B[39m_takeable)\n\u001B[0;32m-> 1067\u001B[0m     \u001B[38;5;28;01mreturn\u001B[39;00m \u001B[38;5;28;43mself\u001B[39;49m\u001B[38;5;241;43m.\u001B[39;49m\u001B[43m_getitem_tuple\u001B[49m\u001B[43m(\u001B[49m\u001B[43mkey\u001B[49m\u001B[43m)\u001B[49m\n\u001B[1;32m   1068\u001B[0m \u001B[38;5;28;01melse\u001B[39;00m:\n\u001B[1;32m   1069\u001B[0m     \u001B[38;5;66;03m# we by definition only have the 0th axis\u001B[39;00m\n\u001B[1;32m   1070\u001B[0m     axis \u001B[38;5;241m=\u001B[39m \u001B[38;5;28mself\u001B[39m\u001B[38;5;241m.\u001B[39maxis \u001B[38;5;129;01mor\u001B[39;00m \u001B[38;5;241m0\u001B[39m\n",
      "File \u001B[0;32m~/anaconda3/lib/python3.10/site-packages/pandas/core/indexing.py:1247\u001B[0m, in \u001B[0;36m_LocIndexer._getitem_tuple\u001B[0;34m(self, tup)\u001B[0m\n\u001B[1;32m   1245\u001B[0m \u001B[38;5;28;01mwith\u001B[39;00m suppress(IndexingError):\n\u001B[1;32m   1246\u001B[0m     tup \u001B[38;5;241m=\u001B[39m \u001B[38;5;28mself\u001B[39m\u001B[38;5;241m.\u001B[39m_expand_ellipsis(tup)\n\u001B[0;32m-> 1247\u001B[0m     \u001B[38;5;28;01mreturn\u001B[39;00m \u001B[38;5;28;43mself\u001B[39;49m\u001B[38;5;241;43m.\u001B[39;49m\u001B[43m_getitem_lowerdim\u001B[49m\u001B[43m(\u001B[49m\u001B[43mtup\u001B[49m\u001B[43m)\u001B[49m\n\u001B[1;32m   1249\u001B[0m \u001B[38;5;66;03m# no multi-index, so validate all of the indexers\u001B[39;00m\n\u001B[1;32m   1250\u001B[0m tup \u001B[38;5;241m=\u001B[39m \u001B[38;5;28mself\u001B[39m\u001B[38;5;241m.\u001B[39m_validate_tuple_indexer(tup)\n",
      "File \u001B[0;32m~/anaconda3/lib/python3.10/site-packages/pandas/core/indexing.py:959\u001B[0m, in \u001B[0;36m_LocationIndexer._getitem_lowerdim\u001B[0;34m(self, tup)\u001B[0m\n\u001B[1;32m    947\u001B[0m \u001B[38;5;28;01mif\u001B[39;00m (\n\u001B[1;32m    948\u001B[0m     \u001B[38;5;28misinstance\u001B[39m(ax0, MultiIndex)\n\u001B[1;32m    949\u001B[0m     \u001B[38;5;129;01mand\u001B[39;00m \u001B[38;5;28mself\u001B[39m\u001B[38;5;241m.\u001B[39mname \u001B[38;5;241m!=\u001B[39m \u001B[38;5;124m\"\u001B[39m\u001B[38;5;124miloc\u001B[39m\u001B[38;5;124m\"\u001B[39m\n\u001B[0;32m   (...)\u001B[0m\n\u001B[1;32m    954\u001B[0m     \u001B[38;5;66;03m#  is equivalent.\u001B[39;00m\n\u001B[1;32m    955\u001B[0m     \u001B[38;5;66;03m#  (see the other place where we call _handle_lowerdim_multi_index_axis0)\u001B[39;00m\n\u001B[1;32m    956\u001B[0m     \u001B[38;5;28;01mwith\u001B[39;00m suppress(IndexingError):\n\u001B[1;32m    957\u001B[0m         \u001B[38;5;66;03m# error \"_LocationIndexer\" has no attribute\u001B[39;00m\n\u001B[1;32m    958\u001B[0m         \u001B[38;5;66;03m# \"_handle_lowerdim_multi_index_axis0\"\u001B[39;00m\n\u001B[0;32m--> 959\u001B[0m         \u001B[38;5;28;01mreturn\u001B[39;00m \u001B[43mcast\u001B[49m\u001B[43m(\u001B[49m\u001B[43m_LocIndexer\u001B[49m\u001B[43m,\u001B[49m\u001B[43m \u001B[49m\u001B[38;5;28;43mself\u001B[39;49m\u001B[43m)\u001B[49m\u001B[38;5;241;43m.\u001B[39;49m\u001B[43m_handle_lowerdim_multi_index_axis0\u001B[49m\u001B[43m(\u001B[49m\u001B[43mtup\u001B[49m\u001B[43m)\u001B[49m\n\u001B[1;32m    961\u001B[0m tup \u001B[38;5;241m=\u001B[39m \u001B[38;5;28mself\u001B[39m\u001B[38;5;241m.\u001B[39m_validate_key_length(tup)\n\u001B[1;32m    963\u001B[0m \u001B[38;5;28;01mfor\u001B[39;00m i, key \u001B[38;5;129;01min\u001B[39;00m \u001B[38;5;28menumerate\u001B[39m(tup):\n",
      "File \u001B[0;32m~/anaconda3/lib/python3.10/site-packages/pandas/core/indexing.py:1273\u001B[0m, in \u001B[0;36m_LocIndexer._handle_lowerdim_multi_index_axis0\u001B[0;34m(self, tup)\u001B[0m\n\u001B[1;32m   1269\u001B[0m \u001B[38;5;28;01mexcept\u001B[39;00m \u001B[38;5;167;01mKeyError\u001B[39;00m \u001B[38;5;28;01mas\u001B[39;00m ek:\n\u001B[1;32m   1270\u001B[0m     \u001B[38;5;66;03m# raise KeyError if number of indexers match\u001B[39;00m\n\u001B[1;32m   1271\u001B[0m     \u001B[38;5;66;03m# else IndexingError will be raised\u001B[39;00m\n\u001B[1;32m   1272\u001B[0m     \u001B[38;5;28;01mif\u001B[39;00m \u001B[38;5;28mself\u001B[39m\u001B[38;5;241m.\u001B[39mndim \u001B[38;5;241m<\u001B[39m \u001B[38;5;28mlen\u001B[39m(tup) \u001B[38;5;241m<\u001B[39m\u001B[38;5;241m=\u001B[39m \u001B[38;5;28mself\u001B[39m\u001B[38;5;241m.\u001B[39mobj\u001B[38;5;241m.\u001B[39mindex\u001B[38;5;241m.\u001B[39mnlevels:\n\u001B[0;32m-> 1273\u001B[0m         \u001B[38;5;28;01mraise\u001B[39;00m ek\n\u001B[1;32m   1274\u001B[0m     \u001B[38;5;28;01mraise\u001B[39;00m IndexingError(\u001B[38;5;124m\"\u001B[39m\u001B[38;5;124mNo label returned\u001B[39m\u001B[38;5;124m\"\u001B[39m) \u001B[38;5;28;01mfrom\u001B[39;00m \u001B[38;5;21;01mek\u001B[39;00m\n",
      "File \u001B[0;32m~/anaconda3/lib/python3.10/site-packages/pandas/core/indexing.py:1267\u001B[0m, in \u001B[0;36m_LocIndexer._handle_lowerdim_multi_index_axis0\u001B[0;34m(self, tup)\u001B[0m\n\u001B[1;32m   1264\u001B[0m axis \u001B[38;5;241m=\u001B[39m \u001B[38;5;28mself\u001B[39m\u001B[38;5;241m.\u001B[39maxis \u001B[38;5;129;01mor\u001B[39;00m \u001B[38;5;241m0\u001B[39m\n\u001B[1;32m   1265\u001B[0m \u001B[38;5;28;01mtry\u001B[39;00m:\n\u001B[1;32m   1266\u001B[0m     \u001B[38;5;66;03m# fast path for series or for tup devoid of slices\u001B[39;00m\n\u001B[0;32m-> 1267\u001B[0m     \u001B[38;5;28;01mreturn\u001B[39;00m \u001B[38;5;28;43mself\u001B[39;49m\u001B[38;5;241;43m.\u001B[39;49m\u001B[43m_get_label\u001B[49m\u001B[43m(\u001B[49m\u001B[43mtup\u001B[49m\u001B[43m,\u001B[49m\u001B[43m \u001B[49m\u001B[43maxis\u001B[49m\u001B[38;5;241;43m=\u001B[39;49m\u001B[43maxis\u001B[49m\u001B[43m)\u001B[49m\n\u001B[1;32m   1269\u001B[0m \u001B[38;5;28;01mexcept\u001B[39;00m \u001B[38;5;167;01mKeyError\u001B[39;00m \u001B[38;5;28;01mas\u001B[39;00m ek:\n\u001B[1;32m   1270\u001B[0m     \u001B[38;5;66;03m# raise KeyError if number of indexers match\u001B[39;00m\n\u001B[1;32m   1271\u001B[0m     \u001B[38;5;66;03m# else IndexingError will be raised\u001B[39;00m\n\u001B[1;32m   1272\u001B[0m     \u001B[38;5;28;01mif\u001B[39;00m \u001B[38;5;28mself\u001B[39m\u001B[38;5;241m.\u001B[39mndim \u001B[38;5;241m<\u001B[39m \u001B[38;5;28mlen\u001B[39m(tup) \u001B[38;5;241m<\u001B[39m\u001B[38;5;241m=\u001B[39m \u001B[38;5;28mself\u001B[39m\u001B[38;5;241m.\u001B[39mobj\u001B[38;5;241m.\u001B[39mindex\u001B[38;5;241m.\u001B[39mnlevels:\n",
      "File \u001B[0;32m~/anaconda3/lib/python3.10/site-packages/pandas/core/indexing.py:1260\u001B[0m, in \u001B[0;36m_LocIndexer._get_label\u001B[0;34m(self, label, axis)\u001B[0m\n\u001B[1;32m   1258\u001B[0m \u001B[38;5;28;01mdef\u001B[39;00m \u001B[38;5;21m_get_label\u001B[39m(\u001B[38;5;28mself\u001B[39m, label, axis: \u001B[38;5;28mint\u001B[39m):\n\u001B[1;32m   1259\u001B[0m     \u001B[38;5;66;03m# GH#5567 this will fail if the label is not present in the axis.\u001B[39;00m\n\u001B[0;32m-> 1260\u001B[0m     \u001B[38;5;28;01mreturn\u001B[39;00m \u001B[38;5;28;43mself\u001B[39;49m\u001B[38;5;241;43m.\u001B[39;49m\u001B[43mobj\u001B[49m\u001B[38;5;241;43m.\u001B[39;49m\u001B[43mxs\u001B[49m\u001B[43m(\u001B[49m\u001B[43mlabel\u001B[49m\u001B[43m,\u001B[49m\u001B[43m \u001B[49m\u001B[43maxis\u001B[49m\u001B[38;5;241;43m=\u001B[39;49m\u001B[43maxis\u001B[49m\u001B[43m)\u001B[49m\n",
      "File \u001B[0;32m~/anaconda3/lib/python3.10/site-packages/pandas/core/generic.py:4049\u001B[0m, in \u001B[0;36mNDFrame.xs\u001B[0;34m(self, key, axis, level, drop_level)\u001B[0m\n\u001B[1;32m   4046\u001B[0m \u001B[38;5;28mself\u001B[39m\u001B[38;5;241m.\u001B[39m_consolidate_inplace()\n\u001B[1;32m   4048\u001B[0m \u001B[38;5;28;01mif\u001B[39;00m \u001B[38;5;28misinstance\u001B[39m(index, MultiIndex):\n\u001B[0;32m-> 4049\u001B[0m     loc, new_index \u001B[38;5;241m=\u001B[39m \u001B[43mindex\u001B[49m\u001B[38;5;241;43m.\u001B[39;49m\u001B[43m_get_loc_level\u001B[49m\u001B[43m(\u001B[49m\u001B[43mkey\u001B[49m\u001B[43m,\u001B[49m\u001B[43m \u001B[49m\u001B[43mlevel\u001B[49m\u001B[38;5;241;43m=\u001B[39;49m\u001B[38;5;241;43m0\u001B[39;49m\u001B[43m)\u001B[49m\n\u001B[1;32m   4050\u001B[0m     \u001B[38;5;28;01mif\u001B[39;00m \u001B[38;5;129;01mnot\u001B[39;00m drop_level:\n\u001B[1;32m   4051\u001B[0m         \u001B[38;5;28;01mif\u001B[39;00m lib\u001B[38;5;241m.\u001B[39mis_integer(loc):\n",
      "File \u001B[0;32m~/anaconda3/lib/python3.10/site-packages/pandas/core/indexes/multi.py:3092\u001B[0m, in \u001B[0;36mMultiIndex._get_loc_level\u001B[0;34m(self, key, level)\u001B[0m\n\u001B[1;32m   3090\u001B[0m     \u001B[38;5;28;01mreturn\u001B[39;00m (\u001B[38;5;28mself\u001B[39m\u001B[38;5;241m.\u001B[39m_engine\u001B[38;5;241m.\u001B[39mget_loc(key), \u001B[38;5;28;01mNone\u001B[39;00m)\n\u001B[1;32m   3091\u001B[0m \u001B[38;5;28;01mexcept\u001B[39;00m \u001B[38;5;167;01mKeyError\u001B[39;00m \u001B[38;5;28;01mas\u001B[39;00m err:\n\u001B[0;32m-> 3092\u001B[0m     \u001B[38;5;28;01mraise\u001B[39;00m \u001B[38;5;167;01mKeyError\u001B[39;00m(key) \u001B[38;5;28;01mfrom\u001B[39;00m \u001B[38;5;21;01merr\u001B[39;00m\n\u001B[1;32m   3093\u001B[0m \u001B[38;5;28;01mexcept\u001B[39;00m \u001B[38;5;167;01mTypeError\u001B[39;00m:\n\u001B[1;32m   3094\u001B[0m     \u001B[38;5;66;03m# e.g. partial string indexing\u001B[39;00m\n\u001B[1;32m   3095\u001B[0m     \u001B[38;5;66;03m#  test_partial_string_timestamp_multiindex\u001B[39;00m\n\u001B[1;32m   3096\u001B[0m     \u001B[38;5;28;01mpass\u001B[39;00m\n",
      "\u001B[0;31mKeyError\u001B[0m: ('IAH', 'ATL')"
     ]
    }
   ],
   "source": [
    "(\n",
    "    flights[['ORG_AIR', 'DEST_AIR']]\n",
    "    .apply(lambda ser: ser.sort_values().reset_index(drop=True), axis='columns')\n",
    "    .rename(columns=rename_dict)\n",
    "    .groupby(['AIR1', 'AIR2'])\n",
    "    .size()\n",
    "    .loc[('IAH', 'ATL')]\n",
    ")"
   ],
   "metadata": {
    "collapsed": false
   }
  },
  {
   "cell_type": "code",
   "execution_count": 188,
   "outputs": [
    {
     "data": {
      "text/plain": "array([['LAX', 'SLC'],\n       ['DEN', 'IAD'],\n       ['DFW', 'VPS'],\n       ['DCA', 'DFW'],\n       ['LAX', 'MCI'],\n       ['IAH', 'SAN'],\n       ['DFW', 'MSY'],\n       ['PHX', 'SFO'],\n       ['ORD', 'STL'],\n       ['IAH', 'SJC']], dtype=object)"
     },
     "execution_count": 188,
     "metadata": {},
     "output_type": "execute_result"
    }
   ],
   "source": [
    "data_sorted = np.sort(flights[['ORG_AIR', 'DEST_AIR']])\n",
    "data_sorted[:10]"
   ],
   "metadata": {
    "collapsed": false
   }
  },
  {
   "cell_type": "code",
   "execution_count": 189,
   "outputs": [],
   "source": [
    "flights_sort2 = pd.DataFrame(data_sorted, columns=['AIR1', 'AIR2'])"
   ],
   "metadata": {
    "collapsed": false
   }
  },
  {
   "cell_type": "code",
   "execution_count": 191,
   "outputs": [
    {
     "data": {
      "text/plain": "True"
     },
     "execution_count": 191,
     "metadata": {},
     "output_type": "execute_result"
    }
   ],
   "source": [
    "flights_sort2.equals(f_part3.rename(columns={0: 'AIR1', 1: 'AIR2'}))"
   ],
   "metadata": {
    "collapsed": false
   }
  },
  {
   "cell_type": "code",
   "execution_count": 192,
   "outputs": [
    {
     "name": "stdout",
     "output_type": "stream",
     "text": [
      "3.87 s ± 42.1 ms per loop (mean ± std. dev. of 7 runs, 1 loop each)\n"
     ]
    }
   ],
   "source": [
    "%%timeit\n",
    "flights_sort = (\n",
    "    flights[['ORG_AIR', 'DEST_AIR']]\n",
    "    .apply(lambda ser: ser.sort_values().reset_index(drop=True), axis='columns')\n",
    ")"
   ],
   "metadata": {
    "collapsed": false
   }
  },
  {
   "cell_type": "code",
   "execution_count": 193,
   "outputs": [
    {
     "name": "stdout",
     "output_type": "stream",
     "text": [
      "3.86 ms ± 216 µs per loop (mean ± std. dev. of 7 runs, 100 loops each)\n"
     ]
    }
   ],
   "source": [
    "%%timeit\n",
    "data_sorted = np.sort(flights[['ORG_AIR', 'DEST_AIR']])\n",
    "flights_sort2 = pd.DataFrame(data_sorted, columns=['AIR1', 'AIR2'])"
   ],
   "metadata": {
    "collapsed": false
   }
  },
  {
   "cell_type": "markdown",
   "source": [
    "가장 긴 연속 정시 비행 찾기"
   ],
   "metadata": {
    "collapsed": false
   }
  },
  {
   "cell_type": "code",
   "execution_count": 194,
   "outputs": [],
   "source": [
    "s = pd.Series([0, 1, 1, 0, 1, 1, 1, 0])"
   ],
   "metadata": {
    "collapsed": false
   }
  },
  {
   "cell_type": "code",
   "execution_count": 195,
   "outputs": [
    {
     "data": {
      "text/plain": "0    0\n1    1\n2    1\n3    0\n4    1\n5    1\n6    1\n7    0\ndtype: int64"
     },
     "execution_count": 195,
     "metadata": {},
     "output_type": "execute_result"
    }
   ],
   "source": [
    "s"
   ],
   "metadata": {
    "collapsed": false
   }
  },
  {
   "cell_type": "code",
   "execution_count": 203,
   "outputs": [
    {
     "data": {
      "text/plain": "0    0\n1    1\n2    2\n3    2\n4    3\n5    4\n6    5\n7    5\ndtype: int64"
     },
     "execution_count": 203,
     "metadata": {},
     "output_type": "execute_result"
    }
   ],
   "source": [
    "s1 = s.cumsum()\n",
    "s1"
   ],
   "metadata": {
    "collapsed": false
   }
  },
  {
   "cell_type": "code",
   "execution_count": 199,
   "outputs": [
    {
     "data": {
      "text/plain": "0    0\n1    1\n2    2\n3    0\n4    3\n5    4\n6    5\n7    0\ndtype: int64"
     },
     "execution_count": 199,
     "metadata": {},
     "output_type": "execute_result"
    }
   ],
   "source": [
    "s.mul(s1)"
   ],
   "metadata": {
    "collapsed": false
   }
  },
  {
   "cell_type": "code",
   "execution_count": 200,
   "outputs": [
    {
     "data": {
      "text/plain": "0    NaN\n1    1.0\n2    1.0\n3   -2.0\n4    3.0\n5    1.0\n6    1.0\n7   -5.0\ndtype: float64"
     },
     "execution_count": 200,
     "metadata": {},
     "output_type": "execute_result"
    }
   ],
   "source": [
    "s.mul(s1).diff()"
   ],
   "metadata": {
    "collapsed": false
   }
  },
  {
   "cell_type": "code",
   "execution_count": 201,
   "outputs": [
    {
     "data": {
      "text/plain": "0    NaN\n1    NaN\n2    NaN\n3   -2.0\n4    NaN\n5    NaN\n6    NaN\n7   -5.0\ndtype: float64"
     },
     "execution_count": 201,
     "metadata": {},
     "output_type": "execute_result"
    }
   ],
   "source": [
    "(\n",
    "    s.mul(s.cumsum())\n",
    "    .diff()\n",
    "    .where(lambda x: x < 0)\n",
    ")"
   ],
   "metadata": {
    "collapsed": false
   }
  },
  {
   "cell_type": "code",
   "execution_count": 202,
   "outputs": [
    {
     "data": {
      "text/plain": "0    NaN\n1    NaN\n2    NaN\n3   -2.0\n4   -2.0\n5   -2.0\n6   -2.0\n7   -5.0\ndtype: float64"
     },
     "execution_count": 202,
     "metadata": {},
     "output_type": "execute_result"
    }
   ],
   "source": [
    "(\n",
    "    s.mul(s.cumsum())\n",
    "    .diff()\n",
    "    .where(lambda x: x < 0)\n",
    "    .ffill()\n",
    ")"
   ],
   "metadata": {
    "collapsed": false
   }
  },
  {
   "cell_type": "code",
   "execution_count": 204,
   "outputs": [
    {
     "data": {
      "text/plain": "0    0.0\n1    1.0\n2    2.0\n3    0.0\n4    1.0\n5    2.0\n6    3.0\n7    0.0\ndtype: float64"
     },
     "execution_count": 204,
     "metadata": {},
     "output_type": "execute_result"
    }
   ],
   "source": [
    "(\n",
    "    s.mul(s.cumsum())\n",
    "    .diff()\n",
    "    .where(lambda x: x < 0)\n",
    "    .ffill()\n",
    "    .add(s.cumsum(), fill_value=0)\n",
    ")"
   ],
   "metadata": {
    "collapsed": false
   }
  },
  {
   "cell_type": "code",
   "execution_count": 205,
   "outputs": [],
   "source": [
    "flights = pd.read_csv('data/flights.csv')"
   ],
   "metadata": {
    "collapsed": false
   }
  },
  {
   "cell_type": "code",
   "execution_count": 206,
   "outputs": [
    {
     "data": {
      "text/plain": "      AIRLINE ORG_AIR  ON_TIME\n0          WN     LAX        0\n1          UA     DEN        1\n2          MQ     DFW        0\n3          AA     DFW        1\n4          WN     LAX        0\n...       ...     ...      ...\n58487      AA     SFO        1\n58488      F9     LAS        1\n58489      OO     SFO        1\n58490      WN     MSP        0\n58491      OO     SFO        1\n\n[58492 rows x 3 columns]",
      "text/html": "<div>\n<style scoped>\n    .dataframe tbody tr th:only-of-type {\n        vertical-align: middle;\n    }\n\n    .dataframe tbody tr th {\n        vertical-align: top;\n    }\n\n    .dataframe thead th {\n        text-align: right;\n    }\n</style>\n<table border=\"1\" class=\"dataframe\">\n  <thead>\n    <tr style=\"text-align: right;\">\n      <th></th>\n      <th>AIRLINE</th>\n      <th>ORG_AIR</th>\n      <th>ON_TIME</th>\n    </tr>\n  </thead>\n  <tbody>\n    <tr>\n      <th>0</th>\n      <td>WN</td>\n      <td>LAX</td>\n      <td>0</td>\n    </tr>\n    <tr>\n      <th>1</th>\n      <td>UA</td>\n      <td>DEN</td>\n      <td>1</td>\n    </tr>\n    <tr>\n      <th>2</th>\n      <td>MQ</td>\n      <td>DFW</td>\n      <td>0</td>\n    </tr>\n    <tr>\n      <th>3</th>\n      <td>AA</td>\n      <td>DFW</td>\n      <td>1</td>\n    </tr>\n    <tr>\n      <th>4</th>\n      <td>WN</td>\n      <td>LAX</td>\n      <td>0</td>\n    </tr>\n    <tr>\n      <th>...</th>\n      <td>...</td>\n      <td>...</td>\n      <td>...</td>\n    </tr>\n    <tr>\n      <th>58487</th>\n      <td>AA</td>\n      <td>SFO</td>\n      <td>1</td>\n    </tr>\n    <tr>\n      <th>58488</th>\n      <td>F9</td>\n      <td>LAS</td>\n      <td>1</td>\n    </tr>\n    <tr>\n      <th>58489</th>\n      <td>OO</td>\n      <td>SFO</td>\n      <td>1</td>\n    </tr>\n    <tr>\n      <th>58490</th>\n      <td>WN</td>\n      <td>MSP</td>\n      <td>0</td>\n    </tr>\n    <tr>\n      <th>58491</th>\n      <td>OO</td>\n      <td>SFO</td>\n      <td>1</td>\n    </tr>\n  </tbody>\n</table>\n<p>58492 rows × 3 columns</p>\n</div>"
     },
     "execution_count": 206,
     "metadata": {},
     "output_type": "execute_result"
    }
   ],
   "source": [
    "(\n",
    "    flights\n",
    "    .assign(ON_TIME=flights['ARR_DELAY'].lt(15).astype(int))\n",
    "    [['AIRLINE', 'ORG_AIR', 'ON_TIME']]\n",
    ")"
   ],
   "metadata": {
    "collapsed": false
   }
  },
  {
   "cell_type": "code",
   "execution_count": 207,
   "outputs": [],
   "source": [
    "def max_streak(s):\n",
    "    s1 = s.cumsum()\n",
    "    return (\n",
    "        s.mul(s1)\n",
    "        .diff()\n",
    "        .where(lambda x: x < 0)\n",
    "        .ffill()\n",
    "        .add(s1, fill_value=0)\n",
    "        .max()\n",
    "    )"
   ],
   "metadata": {
    "collapsed": false
   }
  },
  {
   "cell_type": "code",
   "execution_count": 210,
   "outputs": [
    {
     "data": {
      "text/plain": "                 mean  size  max_streak\nAIRLINE ORG_AIR                        \nAA      ATL      0.82   233        15.0\n        DEN      0.74   219        17.0\n        DFW      0.78  4006        64.0\n        IAH      0.80   196        24.0\n        LAS      0.79   374        29.0\n...               ...   ...         ...\nWN      LAS      0.77  2031        39.0\n        LAX      0.70  1135        23.0\n        MSP      0.84   237        32.0\n        PHX      0.77  1724        33.0\n        SFO      0.76   445        17.0\n\n[114 rows x 3 columns]",
      "text/html": "<div>\n<style scoped>\n    .dataframe tbody tr th:only-of-type {\n        vertical-align: middle;\n    }\n\n    .dataframe tbody tr th {\n        vertical-align: top;\n    }\n\n    .dataframe thead th {\n        text-align: right;\n    }\n</style>\n<table border=\"1\" class=\"dataframe\">\n  <thead>\n    <tr style=\"text-align: right;\">\n      <th></th>\n      <th></th>\n      <th>mean</th>\n      <th>size</th>\n      <th>max_streak</th>\n    </tr>\n    <tr>\n      <th>AIRLINE</th>\n      <th>ORG_AIR</th>\n      <th></th>\n      <th></th>\n      <th></th>\n    </tr>\n  </thead>\n  <tbody>\n    <tr>\n      <th rowspan=\"5\" valign=\"top\">AA</th>\n      <th>ATL</th>\n      <td>0.82</td>\n      <td>233</td>\n      <td>15.0</td>\n    </tr>\n    <tr>\n      <th>DEN</th>\n      <td>0.74</td>\n      <td>219</td>\n      <td>17.0</td>\n    </tr>\n    <tr>\n      <th>DFW</th>\n      <td>0.78</td>\n      <td>4006</td>\n      <td>64.0</td>\n    </tr>\n    <tr>\n      <th>IAH</th>\n      <td>0.80</td>\n      <td>196</td>\n      <td>24.0</td>\n    </tr>\n    <tr>\n      <th>LAS</th>\n      <td>0.79</td>\n      <td>374</td>\n      <td>29.0</td>\n    </tr>\n    <tr>\n      <th>...</th>\n      <th>...</th>\n      <td>...</td>\n      <td>...</td>\n      <td>...</td>\n    </tr>\n    <tr>\n      <th rowspan=\"5\" valign=\"top\">WN</th>\n      <th>LAS</th>\n      <td>0.77</td>\n      <td>2031</td>\n      <td>39.0</td>\n    </tr>\n    <tr>\n      <th>LAX</th>\n      <td>0.70</td>\n      <td>1135</td>\n      <td>23.0</td>\n    </tr>\n    <tr>\n      <th>MSP</th>\n      <td>0.84</td>\n      <td>237</td>\n      <td>32.0</td>\n    </tr>\n    <tr>\n      <th>PHX</th>\n      <td>0.77</td>\n      <td>1724</td>\n      <td>33.0</td>\n    </tr>\n    <tr>\n      <th>SFO</th>\n      <td>0.76</td>\n      <td>445</td>\n      <td>17.0</td>\n    </tr>\n  </tbody>\n</table>\n<p>114 rows × 3 columns</p>\n</div>"
     },
     "execution_count": 210,
     "metadata": {},
     "output_type": "execute_result"
    }
   ],
   "source": [
    "(\n",
    "    flights\n",
    "    .assign(ON_TIME=flights['ARR_DELAY'].lt(15).astype(int))\n",
    "    .sort_values(['MONTH', 'DAY', 'SCHED_DEP'])\n",
    "    .groupby(['AIRLINE', 'ORG_AIR'])\n",
    "    ['ON_TIME']\n",
    "    .agg(['mean', 'size', max_streak])\n",
    "    .round(2)\n",
    ")"
   ],
   "metadata": {
    "collapsed": false
   }
  },
  {
   "cell_type": "code",
   "execution_count": null,
   "outputs": [],
   "source": [],
   "metadata": {
    "collapsed": false
   }
  }
 ],
 "metadata": {
  "kernelspec": {
   "display_name": "Python 3",
   "language": "python",
   "name": "python3"
  },
  "language_info": {
   "codemirror_mode": {
    "name": "ipython",
    "version": 2
   },
   "file_extension": ".py",
   "mimetype": "text/x-python",
   "name": "python",
   "nbconvert_exporter": "python",
   "pygments_lexer": "ipython2",
   "version": "2.7.6"
  }
 },
 "nbformat": 4,
 "nbformat_minor": 0
}
