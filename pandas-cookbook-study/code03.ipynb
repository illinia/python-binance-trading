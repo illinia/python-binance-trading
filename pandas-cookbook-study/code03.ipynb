{
 "cells": [
  {
   "cell_type": "code",
   "execution_count": 1,
   "metadata": {
    "collapsed": true
   },
   "outputs": [],
   "source": [
    "import pandas as pd\n",
    "import numpy as np"
   ]
  },
  {
   "cell_type": "code",
   "execution_count": 2,
   "outputs": [],
   "source": [
    "fname = ['Paul', 'John', 'Richard', 'George']"
   ],
   "metadata": {
    "collapsed": false
   }
  },
  {
   "cell_type": "code",
   "execution_count": 3,
   "outputs": [],
   "source": [
    "lname = ['McCartney', 'Lennon', 'Starkey', 'Harrison']"
   ],
   "metadata": {
    "collapsed": false
   }
  },
  {
   "cell_type": "code",
   "execution_count": 4,
   "outputs": [],
   "source": [
    "birth = [1941, 1940, 1940, 1943]"
   ],
   "metadata": {
    "collapsed": false
   }
  },
  {
   "cell_type": "code",
   "execution_count": 5,
   "outputs": [],
   "source": [
    "people = {'first': fname, 'last': lname, 'birth': birth}"
   ],
   "metadata": {
    "collapsed": false
   }
  },
  {
   "cell_type": "code",
   "execution_count": 6,
   "outputs": [
    {
     "data": {
      "text/plain": "     first       last  birth\n0     Paul  McCartney   1941\n1     John     Lennon   1940\n2  Richard    Starkey   1940\n3   George   Harrison   1943",
      "text/html": "<div>\n<style scoped>\n    .dataframe tbody tr th:only-of-type {\n        vertical-align: middle;\n    }\n\n    .dataframe tbody tr th {\n        vertical-align: top;\n    }\n\n    .dataframe thead th {\n        text-align: right;\n    }\n</style>\n<table border=\"1\" class=\"dataframe\">\n  <thead>\n    <tr style=\"text-align: right;\">\n      <th></th>\n      <th>first</th>\n      <th>last</th>\n      <th>birth</th>\n    </tr>\n  </thead>\n  <tbody>\n    <tr>\n      <th>0</th>\n      <td>Paul</td>\n      <td>McCartney</td>\n      <td>1941</td>\n    </tr>\n    <tr>\n      <th>1</th>\n      <td>John</td>\n      <td>Lennon</td>\n      <td>1940</td>\n    </tr>\n    <tr>\n      <th>2</th>\n      <td>Richard</td>\n      <td>Starkey</td>\n      <td>1940</td>\n    </tr>\n    <tr>\n      <th>3</th>\n      <td>George</td>\n      <td>Harrison</td>\n      <td>1943</td>\n    </tr>\n  </tbody>\n</table>\n</div>"
     },
     "execution_count": 6,
     "metadata": {},
     "output_type": "execute_result"
    }
   ],
   "source": [
    "beatles = pd.DataFrame(people)\n",
    "beatles"
   ],
   "metadata": {
    "collapsed": false
   }
  },
  {
   "cell_type": "code",
   "execution_count": 7,
   "outputs": [
    {
     "data": {
      "text/plain": "RangeIndex(start=0, stop=4, step=1)"
     },
     "execution_count": 7,
     "metadata": {},
     "output_type": "execute_result"
    }
   ],
   "source": [
    "beatles.index"
   ],
   "metadata": {
    "collapsed": false
   }
  },
  {
   "cell_type": "code",
   "execution_count": 8,
   "outputs": [
    {
     "data": {
      "text/plain": "     first       last  birth\na     Paul  McCartney   1941\nb     John     Lennon   1940\nc  Richard    Starkey   1940\nd   George   Harrison   1943",
      "text/html": "<div>\n<style scoped>\n    .dataframe tbody tr th:only-of-type {\n        vertical-align: middle;\n    }\n\n    .dataframe tbody tr th {\n        vertical-align: top;\n    }\n\n    .dataframe thead th {\n        text-align: right;\n    }\n</style>\n<table border=\"1\" class=\"dataframe\">\n  <thead>\n    <tr style=\"text-align: right;\">\n      <th></th>\n      <th>first</th>\n      <th>last</th>\n      <th>birth</th>\n    </tr>\n  </thead>\n  <tbody>\n    <tr>\n      <th>a</th>\n      <td>Paul</td>\n      <td>McCartney</td>\n      <td>1941</td>\n    </tr>\n    <tr>\n      <th>b</th>\n      <td>John</td>\n      <td>Lennon</td>\n      <td>1940</td>\n    </tr>\n    <tr>\n      <th>c</th>\n      <td>Richard</td>\n      <td>Starkey</td>\n      <td>1940</td>\n    </tr>\n    <tr>\n      <th>d</th>\n      <td>George</td>\n      <td>Harrison</td>\n      <td>1943</td>\n    </tr>\n  </tbody>\n</table>\n</div>"
     },
     "execution_count": 8,
     "metadata": {},
     "output_type": "execute_result"
    }
   ],
   "source": [
    "pd.DataFrame(people, index=['a', 'b', 'c', 'd'])"
   ],
   "metadata": {
    "collapsed": false
   }
  },
  {
   "cell_type": "code",
   "execution_count": 9,
   "outputs": [
    {
     "data": {
      "text/plain": "     first       last  birth\n0     Paul  McCartney   1942\n1     John     Lennon   1940\n2  Richard    Starkey   1940\n3   George   Harrison   1943",
      "text/html": "<div>\n<style scoped>\n    .dataframe tbody tr th:only-of-type {\n        vertical-align: middle;\n    }\n\n    .dataframe tbody tr th {\n        vertical-align: top;\n    }\n\n    .dataframe thead th {\n        text-align: right;\n    }\n</style>\n<table border=\"1\" class=\"dataframe\">\n  <thead>\n    <tr style=\"text-align: right;\">\n      <th></th>\n      <th>first</th>\n      <th>last</th>\n      <th>birth</th>\n    </tr>\n  </thead>\n  <tbody>\n    <tr>\n      <th>0</th>\n      <td>Paul</td>\n      <td>McCartney</td>\n      <td>1942</td>\n    </tr>\n    <tr>\n      <th>1</th>\n      <td>John</td>\n      <td>Lennon</td>\n      <td>1940</td>\n    </tr>\n    <tr>\n      <th>2</th>\n      <td>Richard</td>\n      <td>Starkey</td>\n      <td>1940</td>\n    </tr>\n    <tr>\n      <th>3</th>\n      <td>George</td>\n      <td>Harrison</td>\n      <td>1943</td>\n    </tr>\n  </tbody>\n</table>\n</div>"
     },
     "execution_count": 9,
     "metadata": {},
     "output_type": "execute_result"
    }
   ],
   "source": [
    "pd.DataFrame(\n",
    "    [{\"first\": \"Paul\", \"last\": \"McCartney\", \"birth\": 1942},\n",
    "     {\"first\": \"John\", \"last\": \"Lennon\", \"birth\": 1940},\n",
    "     {\"first\": \"Richard\", \"last\": \"Starkey\", \"birth\": 1940},\n",
    "     {\"first\": \"George\", \"last\": \"Harrison\", \"birth\": 1943}])"
   ],
   "metadata": {
    "collapsed": false
   }
  },
  {
   "cell_type": "code",
   "execution_count": 10,
   "outputs": [
    {
     "data": {
      "text/plain": "        last    first  birth\n0  McCartney     Paul   1942\n1     Lennon     John   1940\n2    Starkey  Richard   1940\n3   Harrison   George   1943",
      "text/html": "<div>\n<style scoped>\n    .dataframe tbody tr th:only-of-type {\n        vertical-align: middle;\n    }\n\n    .dataframe tbody tr th {\n        vertical-align: top;\n    }\n\n    .dataframe thead th {\n        text-align: right;\n    }\n</style>\n<table border=\"1\" class=\"dataframe\">\n  <thead>\n    <tr style=\"text-align: right;\">\n      <th></th>\n      <th>last</th>\n      <th>first</th>\n      <th>birth</th>\n    </tr>\n  </thead>\n  <tbody>\n    <tr>\n      <th>0</th>\n      <td>McCartney</td>\n      <td>Paul</td>\n      <td>1942</td>\n    </tr>\n    <tr>\n      <th>1</th>\n      <td>Lennon</td>\n      <td>John</td>\n      <td>1940</td>\n    </tr>\n    <tr>\n      <th>2</th>\n      <td>Starkey</td>\n      <td>Richard</td>\n      <td>1940</td>\n    </tr>\n    <tr>\n      <th>3</th>\n      <td>Harrison</td>\n      <td>George</td>\n      <td>1943</td>\n    </tr>\n  </tbody>\n</table>\n</div>"
     },
     "execution_count": 10,
     "metadata": {},
     "output_type": "execute_result"
    }
   ],
   "source": [
    "pd.DataFrame(\n",
    "    [{\"first\": \"Paul\", \"last\": \"McCartney\", \"birth\": 1942},\n",
    "     {\"first\": \"John\", \"last\": \"Lennon\", \"birth\": 1940},\n",
    "     {\"first\": \"Richard\", \"last\": \"Starkey\", \"birth\": 1940},\n",
    "     {\"first\": \"George\", \"last\": \"Harrison\", \"birth\": 1943}],\n",
    "    columns=['last', 'first', 'birth'])"
   ],
   "metadata": {
    "collapsed": false
   }
  },
  {
   "cell_type": "markdown",
   "source": [
    "CSV 작성"
   ],
   "metadata": {
    "collapsed": false
   }
  },
  {
   "cell_type": "code",
   "execution_count": 11,
   "outputs": [],
   "source": [
    "from io import StringIO"
   ],
   "metadata": {
    "collapsed": false
   }
  },
  {
   "cell_type": "code",
   "execution_count": 12,
   "outputs": [],
   "source": [
    "fout = StringIO()"
   ],
   "metadata": {
    "collapsed": false
   }
  },
  {
   "cell_type": "code",
   "execution_count": 13,
   "outputs": [],
   "source": [
    "beatles.to_csv(fout)"
   ],
   "metadata": {
    "collapsed": false
   }
  },
  {
   "cell_type": "code",
   "execution_count": 14,
   "outputs": [
    {
     "name": "stdout",
     "output_type": "stream",
     "text": [
      ",first,last,birth\n",
      "0,Paul,McCartney,1941\n",
      "1,John,Lennon,1940\n",
      "2,Richard,Starkey,1940\n",
      "3,George,Harrison,1943\n",
      "\n"
     ]
    }
   ],
   "source": [
    "print(fout.getvalue())"
   ],
   "metadata": {
    "collapsed": false
   }
  },
  {
   "cell_type": "code",
   "execution_count": 17,
   "outputs": [
    {
     "data": {
      "text/plain": "   Unnamed: 0    first       last  birth\n0           0     Paul  McCartney   1941\n1           1     John     Lennon   1940\n2           2  Richard    Starkey   1940\n3           3   George   Harrison   1943",
      "text/html": "<div>\n<style scoped>\n    .dataframe tbody tr th:only-of-type {\n        vertical-align: middle;\n    }\n\n    .dataframe tbody tr th {\n        vertical-align: top;\n    }\n\n    .dataframe thead th {\n        text-align: right;\n    }\n</style>\n<table border=\"1\" class=\"dataframe\">\n  <thead>\n    <tr style=\"text-align: right;\">\n      <th></th>\n      <th>Unnamed: 0</th>\n      <th>first</th>\n      <th>last</th>\n      <th>birth</th>\n    </tr>\n  </thead>\n  <tbody>\n    <tr>\n      <th>0</th>\n      <td>0</td>\n      <td>Paul</td>\n      <td>McCartney</td>\n      <td>1941</td>\n    </tr>\n    <tr>\n      <th>1</th>\n      <td>1</td>\n      <td>John</td>\n      <td>Lennon</td>\n      <td>1940</td>\n    </tr>\n    <tr>\n      <th>2</th>\n      <td>2</td>\n      <td>Richard</td>\n      <td>Starkey</td>\n      <td>1940</td>\n    </tr>\n    <tr>\n      <th>3</th>\n      <td>3</td>\n      <td>George</td>\n      <td>Harrison</td>\n      <td>1943</td>\n    </tr>\n  </tbody>\n</table>\n</div>"
     },
     "execution_count": 17,
     "metadata": {},
     "output_type": "execute_result"
    }
   ],
   "source": [
    "_ = fout.seek(0)\n",
    "pd.read_csv(fout)"
   ],
   "metadata": {
    "collapsed": false
   }
  },
  {
   "cell_type": "code",
   "execution_count": 18,
   "outputs": [
    {
     "data": {
      "text/plain": "     first       last  birth\n0     Paul  McCartney   1941\n1     John     Lennon   1940\n2  Richard    Starkey   1940\n3   George   Harrison   1943",
      "text/html": "<div>\n<style scoped>\n    .dataframe tbody tr th:only-of-type {\n        vertical-align: middle;\n    }\n\n    .dataframe tbody tr th {\n        vertical-align: top;\n    }\n\n    .dataframe thead th {\n        text-align: right;\n    }\n</style>\n<table border=\"1\" class=\"dataframe\">\n  <thead>\n    <tr style=\"text-align: right;\">\n      <th></th>\n      <th>first</th>\n      <th>last</th>\n      <th>birth</th>\n    </tr>\n  </thead>\n  <tbody>\n    <tr>\n      <th>0</th>\n      <td>Paul</td>\n      <td>McCartney</td>\n      <td>1941</td>\n    </tr>\n    <tr>\n      <th>1</th>\n      <td>John</td>\n      <td>Lennon</td>\n      <td>1940</td>\n    </tr>\n    <tr>\n      <th>2</th>\n      <td>Richard</td>\n      <td>Starkey</td>\n      <td>1940</td>\n    </tr>\n    <tr>\n      <th>3</th>\n      <td>George</td>\n      <td>Harrison</td>\n      <td>1943</td>\n    </tr>\n  </tbody>\n</table>\n</div>"
     },
     "execution_count": 18,
     "metadata": {},
     "output_type": "execute_result"
    }
   ],
   "source": [
    "_ = fout.seek(0)\n",
    "pd.read_csv(fout, index_col=0)"
   ],
   "metadata": {
    "collapsed": false
   }
  },
  {
   "cell_type": "code",
   "execution_count": 19,
   "outputs": [],
   "source": [
    "fout = StringIO()"
   ],
   "metadata": {
    "collapsed": false
   }
  },
  {
   "cell_type": "code",
   "execution_count": 20,
   "outputs": [],
   "source": [
    "beatles.to_csv(fout, index=False)"
   ],
   "metadata": {
    "collapsed": false
   }
  },
  {
   "cell_type": "code",
   "execution_count": 21,
   "outputs": [
    {
     "name": "stdout",
     "output_type": "stream",
     "text": [
      "first,last,birth\n",
      "Paul,McCartney,1941\n",
      "John,Lennon,1940\n",
      "Richard,Starkey,1940\n",
      "George,Harrison,1943\n",
      "\n"
     ]
    }
   ],
   "source": [
    "print(fout.getvalue())"
   ],
   "metadata": {
    "collapsed": false
   }
  },
  {
   "cell_type": "markdown",
   "source": [
    "대형 CSV 파일 읽기"
   ],
   "metadata": {
    "collapsed": false
   }
  },
  {
   "cell_type": "code",
   "execution_count": 22,
   "outputs": [],
   "source": [
    "diamonds = pd.read_csv('data/diamonds.csv', nrows=1000)"
   ],
   "metadata": {
    "collapsed": false
   }
  },
  {
   "cell_type": "code",
   "execution_count": 23,
   "outputs": [
    {
     "data": {
      "text/plain": "     carat      cut color clarity  depth  table  price     x     y     z\n0     0.23    Ideal     E     SI2   61.5   55.0    326  3.95  3.98  2.43\n1     0.21  Premium     E     SI1   59.8   61.0    326  3.89  3.84  2.31\n2     0.23     Good     E     VS1   56.9   65.0    327  4.05  4.07  2.31\n3     0.29  Premium     I     VS2   62.4   58.0    334  4.20  4.23  2.63\n4     0.31     Good     J     SI2   63.3   58.0    335  4.34  4.35  2.75\n..     ...      ...   ...     ...    ...    ...    ...   ...   ...   ...\n995   0.54    Ideal     D    VVS2   61.4   52.0   2897  5.30  5.34  3.26\n996   0.72    Ideal     E     SI1   62.5   55.0   2897  5.69  5.74  3.57\n997   0.72     Good     F     VS1   59.4   61.0   2897  5.82  5.89  3.48\n998   0.74  Premium     D     VS2   61.8   58.0   2897  5.81  5.77  3.58\n999   1.12  Premium     J     SI2   60.6   59.0   2898  6.68  6.61  4.03\n\n[1000 rows x 10 columns]",
      "text/html": "<div>\n<style scoped>\n    .dataframe tbody tr th:only-of-type {\n        vertical-align: middle;\n    }\n\n    .dataframe tbody tr th {\n        vertical-align: top;\n    }\n\n    .dataframe thead th {\n        text-align: right;\n    }\n</style>\n<table border=\"1\" class=\"dataframe\">\n  <thead>\n    <tr style=\"text-align: right;\">\n      <th></th>\n      <th>carat</th>\n      <th>cut</th>\n      <th>color</th>\n      <th>clarity</th>\n      <th>depth</th>\n      <th>table</th>\n      <th>price</th>\n      <th>x</th>\n      <th>y</th>\n      <th>z</th>\n    </tr>\n  </thead>\n  <tbody>\n    <tr>\n      <th>0</th>\n      <td>0.23</td>\n      <td>Ideal</td>\n      <td>E</td>\n      <td>SI2</td>\n      <td>61.5</td>\n      <td>55.0</td>\n      <td>326</td>\n      <td>3.95</td>\n      <td>3.98</td>\n      <td>2.43</td>\n    </tr>\n    <tr>\n      <th>1</th>\n      <td>0.21</td>\n      <td>Premium</td>\n      <td>E</td>\n      <td>SI1</td>\n      <td>59.8</td>\n      <td>61.0</td>\n      <td>326</td>\n      <td>3.89</td>\n      <td>3.84</td>\n      <td>2.31</td>\n    </tr>\n    <tr>\n      <th>2</th>\n      <td>0.23</td>\n      <td>Good</td>\n      <td>E</td>\n      <td>VS1</td>\n      <td>56.9</td>\n      <td>65.0</td>\n      <td>327</td>\n      <td>4.05</td>\n      <td>4.07</td>\n      <td>2.31</td>\n    </tr>\n    <tr>\n      <th>3</th>\n      <td>0.29</td>\n      <td>Premium</td>\n      <td>I</td>\n      <td>VS2</td>\n      <td>62.4</td>\n      <td>58.0</td>\n      <td>334</td>\n      <td>4.20</td>\n      <td>4.23</td>\n      <td>2.63</td>\n    </tr>\n    <tr>\n      <th>4</th>\n      <td>0.31</td>\n      <td>Good</td>\n      <td>J</td>\n      <td>SI2</td>\n      <td>63.3</td>\n      <td>58.0</td>\n      <td>335</td>\n      <td>4.34</td>\n      <td>4.35</td>\n      <td>2.75</td>\n    </tr>\n    <tr>\n      <th>...</th>\n      <td>...</td>\n      <td>...</td>\n      <td>...</td>\n      <td>...</td>\n      <td>...</td>\n      <td>...</td>\n      <td>...</td>\n      <td>...</td>\n      <td>...</td>\n      <td>...</td>\n    </tr>\n    <tr>\n      <th>995</th>\n      <td>0.54</td>\n      <td>Ideal</td>\n      <td>D</td>\n      <td>VVS2</td>\n      <td>61.4</td>\n      <td>52.0</td>\n      <td>2897</td>\n      <td>5.30</td>\n      <td>5.34</td>\n      <td>3.26</td>\n    </tr>\n    <tr>\n      <th>996</th>\n      <td>0.72</td>\n      <td>Ideal</td>\n      <td>E</td>\n      <td>SI1</td>\n      <td>62.5</td>\n      <td>55.0</td>\n      <td>2897</td>\n      <td>5.69</td>\n      <td>5.74</td>\n      <td>3.57</td>\n    </tr>\n    <tr>\n      <th>997</th>\n      <td>0.72</td>\n      <td>Good</td>\n      <td>F</td>\n      <td>VS1</td>\n      <td>59.4</td>\n      <td>61.0</td>\n      <td>2897</td>\n      <td>5.82</td>\n      <td>5.89</td>\n      <td>3.48</td>\n    </tr>\n    <tr>\n      <th>998</th>\n      <td>0.74</td>\n      <td>Premium</td>\n      <td>D</td>\n      <td>VS2</td>\n      <td>61.8</td>\n      <td>58.0</td>\n      <td>2897</td>\n      <td>5.81</td>\n      <td>5.77</td>\n      <td>3.58</td>\n    </tr>\n    <tr>\n      <th>999</th>\n      <td>1.12</td>\n      <td>Premium</td>\n      <td>J</td>\n      <td>SI2</td>\n      <td>60.6</td>\n      <td>59.0</td>\n      <td>2898</td>\n      <td>6.68</td>\n      <td>6.61</td>\n      <td>4.03</td>\n    </tr>\n  </tbody>\n</table>\n<p>1000 rows × 10 columns</p>\n</div>"
     },
     "execution_count": 23,
     "metadata": {},
     "output_type": "execute_result"
    }
   ],
   "source": [
    "diamonds"
   ],
   "metadata": {
    "collapsed": false
   }
  },
  {
   "cell_type": "code",
   "execution_count": 24,
   "outputs": [
    {
     "name": "stdout",
     "output_type": "stream",
     "text": [
      "<class 'pandas.core.frame.DataFrame'>\n",
      "RangeIndex: 1000 entries, 0 to 999\n",
      "Data columns (total 10 columns):\n",
      " #   Column   Non-Null Count  Dtype  \n",
      "---  ------   --------------  -----  \n",
      " 0   carat    1000 non-null   float64\n",
      " 1   cut      1000 non-null   object \n",
      " 2   color    1000 non-null   object \n",
      " 3   clarity  1000 non-null   object \n",
      " 4   depth    1000 non-null   float64\n",
      " 5   table    1000 non-null   float64\n",
      " 6   price    1000 non-null   int64  \n",
      " 7   x        1000 non-null   float64\n",
      " 8   y        1000 non-null   float64\n",
      " 9   z        1000 non-null   float64\n",
      "dtypes: float64(6), int64(1), object(3)\n",
      "memory usage: 78.2+ KB\n"
     ]
    }
   ],
   "source": [
    "diamonds.info()"
   ],
   "metadata": {
    "collapsed": false
   }
  },
  {
   "cell_type": "code",
   "execution_count": 25,
   "outputs": [],
   "source": [
    "diamonds2 = pd.read_csv(\n",
    "    'data/diamonds.csv',\n",
    "    nrows=1000,\n",
    "    dtype={\n",
    "        'carat': np.float32,\n",
    "        'depth': np.float32,\n",
    "        'table': np.float32,\n",
    "        'x': np.float32,\n",
    "        'y': np.float32,\n",
    "        'z': np.float32,\n",
    "        'price': np.int16\n",
    "    })"
   ],
   "metadata": {
    "collapsed": false
   }
  },
  {
   "cell_type": "code",
   "execution_count": 26,
   "outputs": [
    {
     "name": "stdout",
     "output_type": "stream",
     "text": [
      "<class 'pandas.core.frame.DataFrame'>\n",
      "RangeIndex: 1000 entries, 0 to 999\n",
      "Data columns (total 10 columns):\n",
      " #   Column   Non-Null Count  Dtype  \n",
      "---  ------   --------------  -----  \n",
      " 0   carat    1000 non-null   float32\n",
      " 1   cut      1000 non-null   object \n",
      " 2   color    1000 non-null   object \n",
      " 3   clarity  1000 non-null   object \n",
      " 4   depth    1000 non-null   float32\n",
      " 5   table    1000 non-null   float32\n",
      " 6   price    1000 non-null   int16  \n",
      " 7   x        1000 non-null   float32\n",
      " 8   y        1000 non-null   float32\n",
      " 9   z        1000 non-null   float32\n",
      "dtypes: float32(6), int16(1), object(3)\n",
      "memory usage: 49.0+ KB\n"
     ]
    }
   ],
   "source": [
    "diamonds2.info()"
   ],
   "metadata": {
    "collapsed": false
   }
  },
  {
   "cell_type": "code",
   "execution_count": 27,
   "outputs": [
    {
     "data": {
      "text/plain": "             carat        depth        table       price            x  \\\ncount  1000.000000  1000.000000  1000.000000  1000.00000  1000.000000   \nmean      0.689280    61.722800    57.734700  2476.54000     5.605940   \nstd       0.195291     1.758879     2.467946   839.57562     0.625173   \nmin       0.200000    53.000000    52.000000   326.00000     3.790000   \n25%       0.700000    60.900000    56.000000  2777.00000     5.640000   \n50%       0.710000    61.800000    57.000000  2818.00000     5.770000   \n75%       0.790000    62.600000    59.000000  2856.00000     5.920000   \nmax       1.270000    69.500000    70.000000  2898.00000     7.120000   \n\n                 y            z  \ncount  1000.000000  1000.000000  \nmean      5.599180     3.457530  \nstd       0.611974     0.389819  \nmin       3.750000     2.270000  \n25%       5.630000     3.450000  \n50%       5.760000     3.550000  \n75%       5.910000     3.640000  \nmax       7.050000     4.330000  ",
      "text/html": "<div>\n<style scoped>\n    .dataframe tbody tr th:only-of-type {\n        vertical-align: middle;\n    }\n\n    .dataframe tbody tr th {\n        vertical-align: top;\n    }\n\n    .dataframe thead th {\n        text-align: right;\n    }\n</style>\n<table border=\"1\" class=\"dataframe\">\n  <thead>\n    <tr style=\"text-align: right;\">\n      <th></th>\n      <th>carat</th>\n      <th>depth</th>\n      <th>table</th>\n      <th>price</th>\n      <th>x</th>\n      <th>y</th>\n      <th>z</th>\n    </tr>\n  </thead>\n  <tbody>\n    <tr>\n      <th>count</th>\n      <td>1000.000000</td>\n      <td>1000.000000</td>\n      <td>1000.000000</td>\n      <td>1000.00000</td>\n      <td>1000.000000</td>\n      <td>1000.000000</td>\n      <td>1000.000000</td>\n    </tr>\n    <tr>\n      <th>mean</th>\n      <td>0.689280</td>\n      <td>61.722800</td>\n      <td>57.734700</td>\n      <td>2476.54000</td>\n      <td>5.605940</td>\n      <td>5.599180</td>\n      <td>3.457530</td>\n    </tr>\n    <tr>\n      <th>std</th>\n      <td>0.195291</td>\n      <td>1.758879</td>\n      <td>2.467946</td>\n      <td>839.57562</td>\n      <td>0.625173</td>\n      <td>0.611974</td>\n      <td>0.389819</td>\n    </tr>\n    <tr>\n      <th>min</th>\n      <td>0.200000</td>\n      <td>53.000000</td>\n      <td>52.000000</td>\n      <td>326.00000</td>\n      <td>3.790000</td>\n      <td>3.750000</td>\n      <td>2.270000</td>\n    </tr>\n    <tr>\n      <th>25%</th>\n      <td>0.700000</td>\n      <td>60.900000</td>\n      <td>56.000000</td>\n      <td>2777.00000</td>\n      <td>5.640000</td>\n      <td>5.630000</td>\n      <td>3.450000</td>\n    </tr>\n    <tr>\n      <th>50%</th>\n      <td>0.710000</td>\n      <td>61.800000</td>\n      <td>57.000000</td>\n      <td>2818.00000</td>\n      <td>5.770000</td>\n      <td>5.760000</td>\n      <td>3.550000</td>\n    </tr>\n    <tr>\n      <th>75%</th>\n      <td>0.790000</td>\n      <td>62.600000</td>\n      <td>59.000000</td>\n      <td>2856.00000</td>\n      <td>5.920000</td>\n      <td>5.910000</td>\n      <td>3.640000</td>\n    </tr>\n    <tr>\n      <th>max</th>\n      <td>1.270000</td>\n      <td>69.500000</td>\n      <td>70.000000</td>\n      <td>2898.00000</td>\n      <td>7.120000</td>\n      <td>7.050000</td>\n      <td>4.330000</td>\n    </tr>\n  </tbody>\n</table>\n</div>"
     },
     "execution_count": 27,
     "metadata": {},
     "output_type": "execute_result"
    }
   ],
   "source": [
    "diamonds.describe()"
   ],
   "metadata": {
    "collapsed": false
   }
  },
  {
   "cell_type": "code",
   "execution_count": 28,
   "outputs": [
    {
     "data": {
      "text/plain": "             carat        depth        table       price            x  \\\ncount  1000.000000  1000.000000  1000.000000  1000.00000  1000.000000   \nmean      0.689280    61.722801    57.734699  2476.54000     5.605940   \nstd       0.195291     1.758878     2.467944   839.57562     0.625173   \nmin       0.200000    53.000000    52.000000   326.00000     3.790000   \n25%       0.700000    60.900002    56.000000  2777.00000     5.640000   \n50%       0.710000    61.799999    57.000000  2818.00000     5.770000   \n75%       0.790000    62.599998    59.000000  2856.00000     5.920000   \nmax       1.270000    69.500000    70.000000  2898.00000     7.120000   \n\n                 y            z  \ncount  1000.000000  1000.000000  \nmean      5.599180     3.457530  \nstd       0.611972     0.389819  \nmin       3.750000     2.270000  \n25%       5.630000     3.450000  \n50%       5.760000     3.550000  \n75%       5.910000     3.640000  \nmax       7.050000     4.330000  ",
      "text/html": "<div>\n<style scoped>\n    .dataframe tbody tr th:only-of-type {\n        vertical-align: middle;\n    }\n\n    .dataframe tbody tr th {\n        vertical-align: top;\n    }\n\n    .dataframe thead th {\n        text-align: right;\n    }\n</style>\n<table border=\"1\" class=\"dataframe\">\n  <thead>\n    <tr style=\"text-align: right;\">\n      <th></th>\n      <th>carat</th>\n      <th>depth</th>\n      <th>table</th>\n      <th>price</th>\n      <th>x</th>\n      <th>y</th>\n      <th>z</th>\n    </tr>\n  </thead>\n  <tbody>\n    <tr>\n      <th>count</th>\n      <td>1000.000000</td>\n      <td>1000.000000</td>\n      <td>1000.000000</td>\n      <td>1000.00000</td>\n      <td>1000.000000</td>\n      <td>1000.000000</td>\n      <td>1000.000000</td>\n    </tr>\n    <tr>\n      <th>mean</th>\n      <td>0.689280</td>\n      <td>61.722801</td>\n      <td>57.734699</td>\n      <td>2476.54000</td>\n      <td>5.605940</td>\n      <td>5.599180</td>\n      <td>3.457530</td>\n    </tr>\n    <tr>\n      <th>std</th>\n      <td>0.195291</td>\n      <td>1.758878</td>\n      <td>2.467944</td>\n      <td>839.57562</td>\n      <td>0.625173</td>\n      <td>0.611972</td>\n      <td>0.389819</td>\n    </tr>\n    <tr>\n      <th>min</th>\n      <td>0.200000</td>\n      <td>53.000000</td>\n      <td>52.000000</td>\n      <td>326.00000</td>\n      <td>3.790000</td>\n      <td>3.750000</td>\n      <td>2.270000</td>\n    </tr>\n    <tr>\n      <th>25%</th>\n      <td>0.700000</td>\n      <td>60.900002</td>\n      <td>56.000000</td>\n      <td>2777.00000</td>\n      <td>5.640000</td>\n      <td>5.630000</td>\n      <td>3.450000</td>\n    </tr>\n    <tr>\n      <th>50%</th>\n      <td>0.710000</td>\n      <td>61.799999</td>\n      <td>57.000000</td>\n      <td>2818.00000</td>\n      <td>5.770000</td>\n      <td>5.760000</td>\n      <td>3.550000</td>\n    </tr>\n    <tr>\n      <th>75%</th>\n      <td>0.790000</td>\n      <td>62.599998</td>\n      <td>59.000000</td>\n      <td>2856.00000</td>\n      <td>5.920000</td>\n      <td>5.910000</td>\n      <td>3.640000</td>\n    </tr>\n    <tr>\n      <th>max</th>\n      <td>1.270000</td>\n      <td>69.500000</td>\n      <td>70.000000</td>\n      <td>2898.00000</td>\n      <td>7.120000</td>\n      <td>7.050000</td>\n      <td>4.330000</td>\n    </tr>\n  </tbody>\n</table>\n</div>"
     },
     "execution_count": 28,
     "metadata": {},
     "output_type": "execute_result"
    }
   ],
   "source": [
    "diamonds2.describe()"
   ],
   "metadata": {
    "collapsed": false
   }
  },
  {
   "cell_type": "code",
   "execution_count": 29,
   "outputs": [
    {
     "data": {
      "text/plain": "Ideal        333\nPremium      290\nVery Good    226\nGood          89\nFair          62\nName: cut, dtype: int64"
     },
     "execution_count": 29,
     "metadata": {},
     "output_type": "execute_result"
    }
   ],
   "source": [
    "diamonds2.cut.value_counts()"
   ],
   "metadata": {
    "collapsed": false
   }
  },
  {
   "cell_type": "code",
   "execution_count": 30,
   "outputs": [
    {
     "data": {
      "text/plain": "E    240\nF    226\nG    139\nD    129\nH    125\nI     95\nJ     46\nName: color, dtype: int64"
     },
     "execution_count": 30,
     "metadata": {},
     "output_type": "execute_result"
    }
   ],
   "source": [
    "diamonds2.color.value_counts()"
   ],
   "metadata": {
    "collapsed": false
   }
  },
  {
   "cell_type": "code",
   "execution_count": 31,
   "outputs": [
    {
     "data": {
      "text/plain": "SI1     306\nVS2     218\nVS1     159\nSI2     154\nVVS2     62\nVVS1     58\nI1       29\nIF       14\nName: clarity, dtype: int64"
     },
     "execution_count": 31,
     "metadata": {},
     "output_type": "execute_result"
    }
   ],
   "source": [
    "diamonds2.clarity.value_counts()"
   ],
   "metadata": {
    "collapsed": false
   }
  },
  {
   "cell_type": "code",
   "execution_count": 33,
   "outputs": [],
   "source": [
    "diamonds3 = pd.read_csv(\n",
    "    'data/diamonds.csv',\n",
    "    nrows=1000,\n",
    "    dtype={\n",
    "        'carat': np.float32,\n",
    "        'depth': np.float32,\n",
    "        'table': np.float32,\n",
    "        'x': np.float32,\n",
    "        'y': np.float32,\n",
    "        'z': np.float32,\n",
    "        'price': np.int16,\n",
    "        'cut': 'category',\n",
    "        'color': 'category',\n",
    "        'clarity': 'category',\n",
    "    }\n",
    ")"
   ],
   "metadata": {
    "collapsed": false
   }
  },
  {
   "cell_type": "code",
   "execution_count": 34,
   "outputs": [
    {
     "name": "stdout",
     "output_type": "stream",
     "text": [
      "<class 'pandas.core.frame.DataFrame'>\n",
      "RangeIndex: 1000 entries, 0 to 999\n",
      "Data columns (total 10 columns):\n",
      " #   Column   Non-Null Count  Dtype   \n",
      "---  ------   --------------  -----   \n",
      " 0   carat    1000 non-null   float32 \n",
      " 1   cut      1000 non-null   category\n",
      " 2   color    1000 non-null   category\n",
      " 3   clarity  1000 non-null   category\n",
      " 4   depth    1000 non-null   float32 \n",
      " 5   table    1000 non-null   float32 \n",
      " 6   price    1000 non-null   int16   \n",
      " 7   x        1000 non-null   float32 \n",
      " 8   y        1000 non-null   float32 \n",
      " 9   z        1000 non-null   float32 \n",
      "dtypes: category(3), float32(6), int16(1)\n",
      "memory usage: 29.4 KB\n"
     ]
    }
   ],
   "source": [
    "diamonds3.info()"
   ],
   "metadata": {
    "collapsed": false
   }
  },
  {
   "cell_type": "code",
   "execution_count": 35,
   "outputs": [],
   "source": [
    "cols = [\n",
    "    'carat', 'cut', 'color', 'clarity', 'depth', 'table', 'price'\n",
    "]"
   ],
   "metadata": {
    "collapsed": false
   }
  },
  {
   "cell_type": "code",
   "execution_count": 38,
   "outputs": [],
   "source": [
    "diamonds4 = pd.read_csv(\n",
    "    'data/diamonds.csv',\n",
    "    nrows=1000,\n",
    "    dtype={\n",
    "        'carat': np.float32,\n",
    "        'depth': np.float32,\n",
    "        'table': np.float32,\n",
    "        'price': np.int16,\n",
    "        'cut': 'category',\n",
    "        'color': 'category',\n",
    "        'clarity': 'category',\n",
    "    },\n",
    "    usecols=cols\n",
    ")"
   ],
   "metadata": {
    "collapsed": false
   }
  },
  {
   "cell_type": "code",
   "execution_count": 39,
   "outputs": [
    {
     "name": "stdout",
     "output_type": "stream",
     "text": [
      "<class 'pandas.core.frame.DataFrame'>\n",
      "RangeIndex: 1000 entries, 0 to 999\n",
      "Data columns (total 7 columns):\n",
      " #   Column   Non-Null Count  Dtype   \n",
      "---  ------   --------------  -----   \n",
      " 0   carat    1000 non-null   float32 \n",
      " 1   cut      1000 non-null   category\n",
      " 2   color    1000 non-null   category\n",
      " 3   clarity  1000 non-null   category\n",
      " 4   depth    1000 non-null   float32 \n",
      " 5   table    1000 non-null   float32 \n",
      " 6   price    1000 non-null   int16   \n",
      "dtypes: category(3), float32(3), int16(1)\n",
      "memory usage: 17.6 KB\n"
     ]
    }
   ],
   "source": [
    "diamonds4.info()"
   ],
   "metadata": {
    "collapsed": false
   }
  },
  {
   "cell_type": "code",
   "execution_count": 40,
   "outputs": [],
   "source": [
    "diamonds_iter = pd.read_csv(\n",
    "    'data/diamonds.csv',\n",
    "    nrows=1000,\n",
    "    dtype={\n",
    "        'carat': np.float32,\n",
    "        'depth': np.float32,\n",
    "        'table': np.float32,\n",
    "        'price': np.int16,\n",
    "        'cut': 'category',\n",
    "        'color': 'category',\n",
    "        'clarity': 'category',\n",
    "    },\n",
    "    usecols=cols,\n",
    "    chunksize=200\n",
    ")"
   ],
   "metadata": {
    "collapsed": false
   }
  },
  {
   "cell_type": "code",
   "execution_count": 41,
   "outputs": [],
   "source": [
    "def process(df):\n",
    "    return f\"processed {df.size} items\""
   ],
   "metadata": {
    "collapsed": false
   }
  },
  {
   "cell_type": "code",
   "execution_count": 42,
   "outputs": [],
   "source": [
    "for chunk in diamonds_iter:\n",
    "    process(chunk)"
   ],
   "metadata": {
    "collapsed": false
   }
  },
  {
   "cell_type": "code",
   "execution_count": 43,
   "outputs": [
    {
     "data": {
      "text/plain": "iinfo(min=-128, max=127, dtype=int8)"
     },
     "execution_count": 43,
     "metadata": {},
     "output_type": "execute_result"
    }
   ],
   "source": [
    "np.iinfo(np.int8)"
   ],
   "metadata": {
    "collapsed": false
   }
  },
  {
   "cell_type": "code",
   "execution_count": 44,
   "outputs": [
    {
     "data": {
      "text/plain": "finfo(resolution=0.001, min=-6.55040e+04, max=6.55040e+04, dtype=float16)"
     },
     "execution_count": 44,
     "metadata": {},
     "output_type": "execute_result"
    }
   ],
   "source": [
    "np.finfo(np.float16)"
   ],
   "metadata": {
    "collapsed": false
   }
  },
  {
   "cell_type": "code",
   "execution_count": 45,
   "outputs": [
    {
     "data": {
      "text/plain": "8128"
     },
     "execution_count": 45,
     "metadata": {},
     "output_type": "execute_result"
    }
   ],
   "source": [
    "diamonds.price.memory_usage()"
   ],
   "metadata": {
    "collapsed": false
   }
  },
  {
   "cell_type": "code",
   "execution_count": 46,
   "outputs": [
    {
     "data": {
      "text/plain": "8000"
     },
     "execution_count": 46,
     "metadata": {},
     "output_type": "execute_result"
    }
   ],
   "source": [
    "diamonds.price.memory_usage(index=False)"
   ],
   "metadata": {
    "collapsed": false
   }
  },
  {
   "cell_type": "code",
   "execution_count": 47,
   "outputs": [
    {
     "data": {
      "text/plain": "8128"
     },
     "execution_count": 47,
     "metadata": {},
     "output_type": "execute_result"
    }
   ],
   "source": [
    "diamonds.cut.memory_usage()"
   ],
   "metadata": {
    "collapsed": false
   }
  },
  {
   "cell_type": "code",
   "execution_count": 48,
   "outputs": [
    {
     "data": {
      "text/plain": "63461"
     },
     "execution_count": 48,
     "metadata": {},
     "output_type": "execute_result"
    }
   ],
   "source": [
    "diamonds.cut.memory_usage(deep=True)"
   ],
   "metadata": {
    "collapsed": false
   }
  },
  {
   "cell_type": "code",
   "execution_count": 50,
   "outputs": [],
   "source": [
    "diamonds4.to_feather('d.arr')"
   ],
   "metadata": {
    "collapsed": false
   }
  },
  {
   "cell_type": "code",
   "execution_count": 51,
   "outputs": [],
   "source": [
    "diamonds5 = pd.read_feather('d.arr')"
   ],
   "metadata": {
    "collapsed": false
   }
  },
  {
   "cell_type": "markdown",
   "source": [
    "엑셀 파일 사용"
   ],
   "metadata": {
    "collapsed": false
   }
  },
  {
   "cell_type": "code",
   "execution_count": 52,
   "outputs": [
    {
     "name": "stderr",
     "output_type": "stream",
     "text": [
      "/var/folders/j_/hylrqd052y9czkfmjyyc7n7r0000gn/T/ipykernel_7196/4277668329.py:1: FutureWarning: As the xlwt package is no longer maintained, the xlwt engine will be removed in a future version of pandas. This is the only engine in pandas that supports writing in the xls format. Install openpyxl and write to an xlsx file instead. You can set the option io.excel.xls.writer to 'xlwt' to silence this warning. While this option is deprecated and will also raise a warning, it can be globally set and the warning suppressed.\n",
      "  beatles.to_excel('beat.xls')\n"
     ]
    }
   ],
   "source": [
    "beatles.to_excel('beat.xls')"
   ],
   "metadata": {
    "collapsed": false
   }
  },
  {
   "cell_type": "code",
   "execution_count": 53,
   "outputs": [],
   "source": [
    "beatles.to_excel('beat.xlsx')"
   ],
   "metadata": {
    "collapsed": false
   }
  },
  {
   "cell_type": "code",
   "execution_count": 55,
   "outputs": [],
   "source": [
    "beat2 = pd.read_excel('beat.xlsx')"
   ],
   "metadata": {
    "collapsed": false
   }
  },
  {
   "cell_type": "code",
   "execution_count": 57,
   "outputs": [
    {
     "data": {
      "text/plain": "   Unnamed: 0    first       last  birth\n0           0     Paul  McCartney   1941\n1           1     John     Lennon   1940\n2           2  Richard    Starkey   1940\n3           3   George   Harrison   1943",
      "text/html": "<div>\n<style scoped>\n    .dataframe tbody tr th:only-of-type {\n        vertical-align: middle;\n    }\n\n    .dataframe tbody tr th {\n        vertical-align: top;\n    }\n\n    .dataframe thead th {\n        text-align: right;\n    }\n</style>\n<table border=\"1\" class=\"dataframe\">\n  <thead>\n    <tr style=\"text-align: right;\">\n      <th></th>\n      <th>Unnamed: 0</th>\n      <th>first</th>\n      <th>last</th>\n      <th>birth</th>\n    </tr>\n  </thead>\n  <tbody>\n    <tr>\n      <th>0</th>\n      <td>0</td>\n      <td>Paul</td>\n      <td>McCartney</td>\n      <td>1941</td>\n    </tr>\n    <tr>\n      <th>1</th>\n      <td>1</td>\n      <td>John</td>\n      <td>Lennon</td>\n      <td>1940</td>\n    </tr>\n    <tr>\n      <th>2</th>\n      <td>2</td>\n      <td>Richard</td>\n      <td>Starkey</td>\n      <td>1940</td>\n    </tr>\n    <tr>\n      <th>3</th>\n      <td>3</td>\n      <td>George</td>\n      <td>Harrison</td>\n      <td>1943</td>\n    </tr>\n  </tbody>\n</table>\n</div>"
     },
     "execution_count": 57,
     "metadata": {},
     "output_type": "execute_result"
    }
   ],
   "source": [
    "beat2"
   ],
   "metadata": {
    "collapsed": false
   }
  },
  {
   "cell_type": "code",
   "execution_count": 58,
   "outputs": [],
   "source": [
    "beat2 = pd.read_excel('beat.xlsx', index_col=0)"
   ],
   "metadata": {
    "collapsed": false
   }
  },
  {
   "cell_type": "code",
   "execution_count": 59,
   "outputs": [
    {
     "data": {
      "text/plain": "     first       last  birth\n0     Paul  McCartney   1941\n1     John     Lennon   1940\n2  Richard    Starkey   1940\n3   George   Harrison   1943",
      "text/html": "<div>\n<style scoped>\n    .dataframe tbody tr th:only-of-type {\n        vertical-align: middle;\n    }\n\n    .dataframe tbody tr th {\n        vertical-align: top;\n    }\n\n    .dataframe thead th {\n        text-align: right;\n    }\n</style>\n<table border=\"1\" class=\"dataframe\">\n  <thead>\n    <tr style=\"text-align: right;\">\n      <th></th>\n      <th>first</th>\n      <th>last</th>\n      <th>birth</th>\n    </tr>\n  </thead>\n  <tbody>\n    <tr>\n      <th>0</th>\n      <td>Paul</td>\n      <td>McCartney</td>\n      <td>1941</td>\n    </tr>\n    <tr>\n      <th>1</th>\n      <td>John</td>\n      <td>Lennon</td>\n      <td>1940</td>\n    </tr>\n    <tr>\n      <th>2</th>\n      <td>Richard</td>\n      <td>Starkey</td>\n      <td>1940</td>\n    </tr>\n    <tr>\n      <th>3</th>\n      <td>George</td>\n      <td>Harrison</td>\n      <td>1943</td>\n    </tr>\n  </tbody>\n</table>\n</div>"
     },
     "execution_count": 59,
     "metadata": {},
     "output_type": "execute_result"
    }
   ],
   "source": [
    "beat2"
   ],
   "metadata": {
    "collapsed": false
   }
  },
  {
   "cell_type": "code",
   "execution_count": 60,
   "outputs": [
    {
     "data": {
      "text/plain": "first    object\nlast     object\nbirth     int64\ndtype: object"
     },
     "execution_count": 60,
     "metadata": {},
     "output_type": "execute_result"
    }
   ],
   "source": [
    "beat2.dtypes"
   ],
   "metadata": {
    "collapsed": false
   }
  },
  {
   "cell_type": "markdown",
   "source": [
    "ZIP 파일로 작업"
   ],
   "metadata": {
    "collapsed": false
   }
  },
  {
   "cell_type": "code",
   "execution_count": 61,
   "outputs": [
    {
     "name": "stderr",
     "output_type": "stream",
     "text": [
      "/var/folders/j_/hylrqd052y9czkfmjyyc7n7r0000gn/T/ipykernel_7196/158859249.py:1: DtypeWarning: Columns (70,71,72,73,74,76,79) have mixed types. Specify dtype option on import or set low_memory=False.\n",
      "  autos = pd.read_csv('data/vehicles.csv.zip')\n"
     ]
    }
   ],
   "source": [
    "autos = pd.read_csv('data/vehicles.csv.zip')"
   ],
   "metadata": {
    "collapsed": false
   }
  },
  {
   "cell_type": "code",
   "execution_count": 62,
   "outputs": [
    {
     "data": {
      "text/plain": "       barrels08  barrelsA08  charge120  charge240  city08  city08U  cityA08  \\\n0      15.695714         0.0        0.0        0.0      19      0.0        0   \n1      29.964545         0.0        0.0        0.0       9      0.0        0   \n2      12.207778         0.0        0.0        0.0      23      0.0        0   \n3      29.964545         0.0        0.0        0.0      10      0.0        0   \n4      17.347895         0.0        0.0        0.0      17      0.0        0   \n...          ...         ...        ...        ...     ...      ...      ...   \n39096  14.982273         0.0        0.0        0.0      19      0.0        0   \n39097  14.330870         0.0        0.0        0.0      20      0.0        0   \n39098  15.695714         0.0        0.0        0.0      18      0.0        0   \n39099  15.695714         0.0        0.0        0.0      18      0.0        0   \n39100  18.311667         0.0        0.0        0.0      16      0.0        0   \n\n       cityA08U  cityCD  cityE  ...  mfrCode  c240Dscr  charge240b  c240bDscr  \\\n0           0.0     0.0    0.0  ...      NaN       NaN         0.0        NaN   \n1           0.0     0.0    0.0  ...      NaN       NaN         0.0        NaN   \n2           0.0     0.0    0.0  ...      NaN       NaN         0.0        NaN   \n3           0.0     0.0    0.0  ...      NaN       NaN         0.0        NaN   \n4           0.0     0.0    0.0  ...      NaN       NaN         0.0        NaN   \n...         ...     ...    ...  ...      ...       ...         ...        ...   \n39096       0.0     0.0    0.0  ...      NaN       NaN         0.0        NaN   \n39097       0.0     0.0    0.0  ...      NaN       NaN         0.0        NaN   \n39098       0.0     0.0    0.0  ...      NaN       NaN         0.0        NaN   \n39099       0.0     0.0    0.0  ...      NaN       NaN         0.0        NaN   \n39100       0.0     0.0    0.0  ...      NaN       NaN         0.0        NaN   \n\n                          createdOn                    modifiedOn  startStop  \\\n0      Tue Jan 01 00:00:00 EST 2013  Tue Jan 01 00:00:00 EST 2013        NaN   \n1      Tue Jan 01 00:00:00 EST 2013  Tue Jan 01 00:00:00 EST 2013        NaN   \n2      Tue Jan 01 00:00:00 EST 2013  Tue Jan 01 00:00:00 EST 2013        NaN   \n3      Tue Jan 01 00:00:00 EST 2013  Tue Jan 01 00:00:00 EST 2013        NaN   \n4      Tue Jan 01 00:00:00 EST 2013  Tue Jan 01 00:00:00 EST 2013        NaN   \n...                             ...                           ...        ...   \n39096  Tue Jan 01 00:00:00 EST 2013  Tue Jan 01 00:00:00 EST 2013        NaN   \n39097  Tue Jan 01 00:00:00 EST 2013  Tue Jan 01 00:00:00 EST 2013        NaN   \n39098  Tue Jan 01 00:00:00 EST 2013  Tue Jan 01 00:00:00 EST 2013        NaN   \n39099  Tue Jan 01 00:00:00 EST 2013  Tue Jan 01 00:00:00 EST 2013        NaN   \n39100  Tue Jan 01 00:00:00 EST 2013  Tue Jan 01 00:00:00 EST 2013        NaN   \n\n       phevCity  phevHwy  phevComb  \n0             0        0         0  \n1             0        0         0  \n2             0        0         0  \n3             0        0         0  \n4             0        0         0  \n...         ...      ...       ...  \n39096         0        0         0  \n39097         0        0         0  \n39098         0        0         0  \n39099         0        0         0  \n39100         0        0         0  \n\n[39101 rows x 83 columns]",
      "text/html": "<div>\n<style scoped>\n    .dataframe tbody tr th:only-of-type {\n        vertical-align: middle;\n    }\n\n    .dataframe tbody tr th {\n        vertical-align: top;\n    }\n\n    .dataframe thead th {\n        text-align: right;\n    }\n</style>\n<table border=\"1\" class=\"dataframe\">\n  <thead>\n    <tr style=\"text-align: right;\">\n      <th></th>\n      <th>barrels08</th>\n      <th>barrelsA08</th>\n      <th>charge120</th>\n      <th>charge240</th>\n      <th>city08</th>\n      <th>city08U</th>\n      <th>cityA08</th>\n      <th>cityA08U</th>\n      <th>cityCD</th>\n      <th>cityE</th>\n      <th>...</th>\n      <th>mfrCode</th>\n      <th>c240Dscr</th>\n      <th>charge240b</th>\n      <th>c240bDscr</th>\n      <th>createdOn</th>\n      <th>modifiedOn</th>\n      <th>startStop</th>\n      <th>phevCity</th>\n      <th>phevHwy</th>\n      <th>phevComb</th>\n    </tr>\n  </thead>\n  <tbody>\n    <tr>\n      <th>0</th>\n      <td>15.695714</td>\n      <td>0.0</td>\n      <td>0.0</td>\n      <td>0.0</td>\n      <td>19</td>\n      <td>0.0</td>\n      <td>0</td>\n      <td>0.0</td>\n      <td>0.0</td>\n      <td>0.0</td>\n      <td>...</td>\n      <td>NaN</td>\n      <td>NaN</td>\n      <td>0.0</td>\n      <td>NaN</td>\n      <td>Tue Jan 01 00:00:00 EST 2013</td>\n      <td>Tue Jan 01 00:00:00 EST 2013</td>\n      <td>NaN</td>\n      <td>0</td>\n      <td>0</td>\n      <td>0</td>\n    </tr>\n    <tr>\n      <th>1</th>\n      <td>29.964545</td>\n      <td>0.0</td>\n      <td>0.0</td>\n      <td>0.0</td>\n      <td>9</td>\n      <td>0.0</td>\n      <td>0</td>\n      <td>0.0</td>\n      <td>0.0</td>\n      <td>0.0</td>\n      <td>...</td>\n      <td>NaN</td>\n      <td>NaN</td>\n      <td>0.0</td>\n      <td>NaN</td>\n      <td>Tue Jan 01 00:00:00 EST 2013</td>\n      <td>Tue Jan 01 00:00:00 EST 2013</td>\n      <td>NaN</td>\n      <td>0</td>\n      <td>0</td>\n      <td>0</td>\n    </tr>\n    <tr>\n      <th>2</th>\n      <td>12.207778</td>\n      <td>0.0</td>\n      <td>0.0</td>\n      <td>0.0</td>\n      <td>23</td>\n      <td>0.0</td>\n      <td>0</td>\n      <td>0.0</td>\n      <td>0.0</td>\n      <td>0.0</td>\n      <td>...</td>\n      <td>NaN</td>\n      <td>NaN</td>\n      <td>0.0</td>\n      <td>NaN</td>\n      <td>Tue Jan 01 00:00:00 EST 2013</td>\n      <td>Tue Jan 01 00:00:00 EST 2013</td>\n      <td>NaN</td>\n      <td>0</td>\n      <td>0</td>\n      <td>0</td>\n    </tr>\n    <tr>\n      <th>3</th>\n      <td>29.964545</td>\n      <td>0.0</td>\n      <td>0.0</td>\n      <td>0.0</td>\n      <td>10</td>\n      <td>0.0</td>\n      <td>0</td>\n      <td>0.0</td>\n      <td>0.0</td>\n      <td>0.0</td>\n      <td>...</td>\n      <td>NaN</td>\n      <td>NaN</td>\n      <td>0.0</td>\n      <td>NaN</td>\n      <td>Tue Jan 01 00:00:00 EST 2013</td>\n      <td>Tue Jan 01 00:00:00 EST 2013</td>\n      <td>NaN</td>\n      <td>0</td>\n      <td>0</td>\n      <td>0</td>\n    </tr>\n    <tr>\n      <th>4</th>\n      <td>17.347895</td>\n      <td>0.0</td>\n      <td>0.0</td>\n      <td>0.0</td>\n      <td>17</td>\n      <td>0.0</td>\n      <td>0</td>\n      <td>0.0</td>\n      <td>0.0</td>\n      <td>0.0</td>\n      <td>...</td>\n      <td>NaN</td>\n      <td>NaN</td>\n      <td>0.0</td>\n      <td>NaN</td>\n      <td>Tue Jan 01 00:00:00 EST 2013</td>\n      <td>Tue Jan 01 00:00:00 EST 2013</td>\n      <td>NaN</td>\n      <td>0</td>\n      <td>0</td>\n      <td>0</td>\n    </tr>\n    <tr>\n      <th>...</th>\n      <td>...</td>\n      <td>...</td>\n      <td>...</td>\n      <td>...</td>\n      <td>...</td>\n      <td>...</td>\n      <td>...</td>\n      <td>...</td>\n      <td>...</td>\n      <td>...</td>\n      <td>...</td>\n      <td>...</td>\n      <td>...</td>\n      <td>...</td>\n      <td>...</td>\n      <td>...</td>\n      <td>...</td>\n      <td>...</td>\n      <td>...</td>\n      <td>...</td>\n      <td>...</td>\n    </tr>\n    <tr>\n      <th>39096</th>\n      <td>14.982273</td>\n      <td>0.0</td>\n      <td>0.0</td>\n      <td>0.0</td>\n      <td>19</td>\n      <td>0.0</td>\n      <td>0</td>\n      <td>0.0</td>\n      <td>0.0</td>\n      <td>0.0</td>\n      <td>...</td>\n      <td>NaN</td>\n      <td>NaN</td>\n      <td>0.0</td>\n      <td>NaN</td>\n      <td>Tue Jan 01 00:00:00 EST 2013</td>\n      <td>Tue Jan 01 00:00:00 EST 2013</td>\n      <td>NaN</td>\n      <td>0</td>\n      <td>0</td>\n      <td>0</td>\n    </tr>\n    <tr>\n      <th>39097</th>\n      <td>14.330870</td>\n      <td>0.0</td>\n      <td>0.0</td>\n      <td>0.0</td>\n      <td>20</td>\n      <td>0.0</td>\n      <td>0</td>\n      <td>0.0</td>\n      <td>0.0</td>\n      <td>0.0</td>\n      <td>...</td>\n      <td>NaN</td>\n      <td>NaN</td>\n      <td>0.0</td>\n      <td>NaN</td>\n      <td>Tue Jan 01 00:00:00 EST 2013</td>\n      <td>Tue Jan 01 00:00:00 EST 2013</td>\n      <td>NaN</td>\n      <td>0</td>\n      <td>0</td>\n      <td>0</td>\n    </tr>\n    <tr>\n      <th>39098</th>\n      <td>15.695714</td>\n      <td>0.0</td>\n      <td>0.0</td>\n      <td>0.0</td>\n      <td>18</td>\n      <td>0.0</td>\n      <td>0</td>\n      <td>0.0</td>\n      <td>0.0</td>\n      <td>0.0</td>\n      <td>...</td>\n      <td>NaN</td>\n      <td>NaN</td>\n      <td>0.0</td>\n      <td>NaN</td>\n      <td>Tue Jan 01 00:00:00 EST 2013</td>\n      <td>Tue Jan 01 00:00:00 EST 2013</td>\n      <td>NaN</td>\n      <td>0</td>\n      <td>0</td>\n      <td>0</td>\n    </tr>\n    <tr>\n      <th>39099</th>\n      <td>15.695714</td>\n      <td>0.0</td>\n      <td>0.0</td>\n      <td>0.0</td>\n      <td>18</td>\n      <td>0.0</td>\n      <td>0</td>\n      <td>0.0</td>\n      <td>0.0</td>\n      <td>0.0</td>\n      <td>...</td>\n      <td>NaN</td>\n      <td>NaN</td>\n      <td>0.0</td>\n      <td>NaN</td>\n      <td>Tue Jan 01 00:00:00 EST 2013</td>\n      <td>Tue Jan 01 00:00:00 EST 2013</td>\n      <td>NaN</td>\n      <td>0</td>\n      <td>0</td>\n      <td>0</td>\n    </tr>\n    <tr>\n      <th>39100</th>\n      <td>18.311667</td>\n      <td>0.0</td>\n      <td>0.0</td>\n      <td>0.0</td>\n      <td>16</td>\n      <td>0.0</td>\n      <td>0</td>\n      <td>0.0</td>\n      <td>0.0</td>\n      <td>0.0</td>\n      <td>...</td>\n      <td>NaN</td>\n      <td>NaN</td>\n      <td>0.0</td>\n      <td>NaN</td>\n      <td>Tue Jan 01 00:00:00 EST 2013</td>\n      <td>Tue Jan 01 00:00:00 EST 2013</td>\n      <td>NaN</td>\n      <td>0</td>\n      <td>0</td>\n      <td>0</td>\n    </tr>\n  </tbody>\n</table>\n<p>39101 rows × 83 columns</p>\n</div>"
     },
     "execution_count": 62,
     "metadata": {},
     "output_type": "execute_result"
    }
   ],
   "source": [
    "autos"
   ],
   "metadata": {
    "collapsed": false
   }
  },
  {
   "cell_type": "code",
   "execution_count": 64,
   "outputs": [
    {
     "data": {
      "text/plain": "dtype('O')"
     },
     "execution_count": 64,
     "metadata": {},
     "output_type": "execute_result"
    }
   ],
   "source": [
    "autos.modifiedOn.dtype"
   ],
   "metadata": {
    "collapsed": false
   }
  },
  {
   "cell_type": "code",
   "execution_count": 65,
   "outputs": [
    {
     "data": {
      "text/plain": "0        Tue Jan 01 00:00:00 EST 2013\n1        Tue Jan 01 00:00:00 EST 2013\n2        Tue Jan 01 00:00:00 EST 2013\n3        Tue Jan 01 00:00:00 EST 2013\n4        Tue Jan 01 00:00:00 EST 2013\n                     ...             \n39096    Tue Jan 01 00:00:00 EST 2013\n39097    Tue Jan 01 00:00:00 EST 2013\n39098    Tue Jan 01 00:00:00 EST 2013\n39099    Tue Jan 01 00:00:00 EST 2013\n39100    Tue Jan 01 00:00:00 EST 2013\nName: modifiedOn, Length: 39101, dtype: object"
     },
     "execution_count": 65,
     "metadata": {},
     "output_type": "execute_result"
    }
   ],
   "source": [
    "autos.modifiedOn"
   ],
   "metadata": {
    "collapsed": false
   }
  },
  {
   "cell_type": "code",
   "execution_count": 66,
   "outputs": [
    {
     "name": "stderr",
     "output_type": "stream",
     "text": [
      "/Users/taemin/anaconda3/lib/python3.10/site-packages/dateutil/parser/_parser.py:1207: UnknownTimezoneWarning: tzname EST identified but not understood.  Pass `tzinfos` argument in order to correctly return a timezone-aware datetime.  In a future version, this will raise an exception.\n",
      "  warnings.warn(\"tzname {tzname} identified but not understood.  \"\n",
      "/Users/taemin/anaconda3/lib/python3.10/site-packages/dateutil/parser/_parser.py:1207: UnknownTimezoneWarning: tzname EDT identified but not understood.  Pass `tzinfos` argument in order to correctly return a timezone-aware datetime.  In a future version, this will raise an exception.\n",
      "  warnings.warn(\"tzname {tzname} identified but not understood.  \"\n"
     ]
    },
    {
     "data": {
      "text/plain": "0       2013-01-01\n1       2013-01-01\n2       2013-01-01\n3       2013-01-01\n4       2013-01-01\n           ...    \n39096   2013-01-01\n39097   2013-01-01\n39098   2013-01-01\n39099   2013-01-01\n39100   2013-01-01\nName: modifiedOn, Length: 39101, dtype: datetime64[ns]"
     },
     "execution_count": 66,
     "metadata": {},
     "output_type": "execute_result"
    }
   ],
   "source": [
    "pd.to_datetime(autos.modifiedOn)"
   ],
   "metadata": {
    "collapsed": false
   }
  },
  {
   "cell_type": "code",
   "execution_count": 67,
   "outputs": [],
   "source": [
    "import zipfile"
   ],
   "metadata": {
    "collapsed": false
   }
  },
  {
   "cell_type": "code",
   "execution_count": 69,
   "outputs": [
    {
     "name": "stdout",
     "output_type": "stream",
     "text": [
      "multipleChoiceResponses.csv\n",
      "freeFormResponses.csv\n",
      "SurveySchema.csv\n"
     ]
    },
    {
     "name": "stderr",
     "output_type": "stream",
     "text": [
      "/var/folders/j_/hylrqd052y9czkfmjyyc7n7r0000gn/T/ipykernel_7196/1919468987.py:5: DtypeWarning: Columns (0,2,8,10,21,23,24,25,26,27,28,44,56,64,83,85,87,107,109,123,125,150,157,172,174,194,210,218,219,223,246,249,262,264,276,277,278,279,280,281,282,283,284,285,286,287,288,289,290,304,306,325,326,329,341,368,371,384,385,389,390,391,393,394) have mixed types. Specify dtype option on import or set low_memory=False.\n",
      "  kag = pd.read_csv(\n"
     ]
    }
   ],
   "source": [
    "with zipfile.ZipFile(\n",
    "    'data/kaggle-survey-2018.zip'\n",
    ") as z:\n",
    "    print('\\n'.join(z.namelist()))\n",
    "    kag = pd.read_csv(\n",
    "        z.open('multipleChoiceResponses.csv')\n",
    "    )\n",
    "    kag_questions = kag.iloc[0]\n",
    "    survey = kag.iloc[1:]"
   ],
   "metadata": {
    "collapsed": false
   }
  },
  {
   "cell_type": "code",
   "execution_count": 72,
   "outputs": [
    {
     "data": {
      "text/plain": "                                                            1          2\nTime from Start to Finish (seconds)                       710        434\nQ1                                                     Female       Male\nQ1_OTHER_TEXT                                              -1         -1\nQ2                                                      45-49      30-34\nQ3                                   United States of America  Indonesia\n...                                                       ...        ...\nQ50_Part_5                                                NaN        NaN\nQ50_Part_6                                                NaN        NaN\nQ50_Part_7                                                NaN        NaN\nQ50_Part_8                                                NaN        NaN\nQ50_OTHER_TEXT                                             -1         -1\n\n[395 rows x 2 columns]",
      "text/html": "<div>\n<style scoped>\n    .dataframe tbody tr th:only-of-type {\n        vertical-align: middle;\n    }\n\n    .dataframe tbody tr th {\n        vertical-align: top;\n    }\n\n    .dataframe thead th {\n        text-align: right;\n    }\n</style>\n<table border=\"1\" class=\"dataframe\">\n  <thead>\n    <tr style=\"text-align: right;\">\n      <th></th>\n      <th>1</th>\n      <th>2</th>\n    </tr>\n  </thead>\n  <tbody>\n    <tr>\n      <th>Time from Start to Finish (seconds)</th>\n      <td>710</td>\n      <td>434</td>\n    </tr>\n    <tr>\n      <th>Q1</th>\n      <td>Female</td>\n      <td>Male</td>\n    </tr>\n    <tr>\n      <th>Q1_OTHER_TEXT</th>\n      <td>-1</td>\n      <td>-1</td>\n    </tr>\n    <tr>\n      <th>Q2</th>\n      <td>45-49</td>\n      <td>30-34</td>\n    </tr>\n    <tr>\n      <th>Q3</th>\n      <td>United States of America</td>\n      <td>Indonesia</td>\n    </tr>\n    <tr>\n      <th>...</th>\n      <td>...</td>\n      <td>...</td>\n    </tr>\n    <tr>\n      <th>Q50_Part_5</th>\n      <td>NaN</td>\n      <td>NaN</td>\n    </tr>\n    <tr>\n      <th>Q50_Part_6</th>\n      <td>NaN</td>\n      <td>NaN</td>\n    </tr>\n    <tr>\n      <th>Q50_Part_7</th>\n      <td>NaN</td>\n      <td>NaN</td>\n    </tr>\n    <tr>\n      <th>Q50_Part_8</th>\n      <td>NaN</td>\n      <td>NaN</td>\n    </tr>\n    <tr>\n      <th>Q50_OTHER_TEXT</th>\n      <td>-1</td>\n      <td>-1</td>\n    </tr>\n  </tbody>\n</table>\n<p>395 rows × 2 columns</p>\n</div>"
     },
     "execution_count": 72,
     "metadata": {},
     "output_type": "execute_result"
    }
   ],
   "source": [
    "survey.head(2).T"
   ],
   "metadata": {
    "collapsed": false
   }
  },
  {
   "cell_type": "markdown",
   "source": [
    "데이터베이스와 작업"
   ],
   "metadata": {
    "collapsed": false
   }
  },
  {
   "cell_type": "code",
   "execution_count": 74,
   "outputs": [],
   "source": [
    "import sqlite3"
   ],
   "metadata": {
    "collapsed": false
   }
  },
  {
   "cell_type": "code",
   "execution_count": 75,
   "outputs": [],
   "source": [
    "con = sqlite3.connect('data/beat.db')"
   ],
   "metadata": {
    "collapsed": false
   }
  },
  {
   "cell_type": "code",
   "execution_count": 87,
   "outputs": [],
   "source": [
    "with con:\n",
    "    cur = con.cursor()\n",
    "    cur.execute(\"\"\"DROP TABLE Band\"\"\")\n",
    "    cur.execute(\n",
    "        \"\"\"CREATE TABLE Band(id INTEGER PRIMARY KEY,\n",
    "                            fname TEXT, lname TEXT, birthyear INT)\n",
    "        \"\"\"\n",
    "    )\n",
    "    cur.execute(\n",
    "        \"\"\"INSERT INTO Band VALUES(\n",
    "            0, 'Paul', 'McCartney', 1942)\n",
    "        \"\"\"\n",
    "    )\n",
    "    cur.execute(\n",
    "        \"\"\"INSERT INTO Band VALUES(\n",
    "            1, 'John', 'Lennon', 1940)\n",
    "        \"\"\"\n",
    "    )\n",
    "    _ = con.commit()"
   ],
   "metadata": {
    "collapsed": false
   }
  },
  {
   "cell_type": "code",
   "execution_count": 88,
   "outputs": [],
   "source": [
    "import sqlalchemy as sa"
   ],
   "metadata": {
    "collapsed": false
   }
  },
  {
   "cell_type": "code",
   "execution_count": 89,
   "outputs": [],
   "source": [
    "engine = sa.create_engine(\n",
    "    \"sqlite:///data/beat.db\", echo=True\n",
    ")"
   ],
   "metadata": {
    "collapsed": false
   }
  },
  {
   "cell_type": "code",
   "execution_count": 90,
   "outputs": [],
   "source": [
    "sa_connection = engine.connect()"
   ],
   "metadata": {
    "collapsed": false
   }
  },
  {
   "cell_type": "code",
   "execution_count": 91,
   "outputs": [
    {
     "name": "stdout",
     "output_type": "stream",
     "text": [
      "2023-06-16 12:01:31,713 INFO sqlalchemy.engine.Engine PRAGMA main.table_info(\"Band\")\n",
      "2023-06-16 12:01:31,713 INFO sqlalchemy.engine.Engine [raw sql] ()\n",
      "2023-06-16 12:01:31,714 INFO sqlalchemy.engine.Engine SELECT name FROM sqlite_master WHERE type='table' ORDER BY name\n",
      "2023-06-16 12:01:31,714 INFO sqlalchemy.engine.Engine [raw sql] ()\n",
      "2023-06-16 12:01:31,714 INFO sqlalchemy.engine.Engine PRAGMA main.table_xinfo(\"Band\")\n",
      "2023-06-16 12:01:31,715 INFO sqlalchemy.engine.Engine [raw sql] ()\n",
      "2023-06-16 12:01:31,715 INFO sqlalchemy.engine.Engine SELECT sql FROM  (SELECT * FROM sqlite_master UNION ALL   SELECT * FROM sqlite_temp_master) WHERE name = ? AND type = 'table'\n",
      "2023-06-16 12:01:31,715 INFO sqlalchemy.engine.Engine [raw sql] ('Band',)\n",
      "2023-06-16 12:01:31,716 INFO sqlalchemy.engine.Engine PRAGMA main.foreign_key_list(\"Band\")\n",
      "2023-06-16 12:01:31,716 INFO sqlalchemy.engine.Engine [raw sql] ()\n",
      "2023-06-16 12:01:31,717 INFO sqlalchemy.engine.Engine PRAGMA temp.foreign_key_list(\"Band\")\n",
      "2023-06-16 12:01:31,717 INFO sqlalchemy.engine.Engine [raw sql] ()\n",
      "2023-06-16 12:01:31,717 INFO sqlalchemy.engine.Engine SELECT sql FROM  (SELECT * FROM sqlite_master UNION ALL   SELECT * FROM sqlite_temp_master) WHERE name = ? AND type = 'table'\n",
      "2023-06-16 12:01:31,717 INFO sqlalchemy.engine.Engine [raw sql] ('Band',)\n",
      "2023-06-16 12:01:31,718 INFO sqlalchemy.engine.Engine PRAGMA main.index_list(\"Band\")\n",
      "2023-06-16 12:01:31,718 INFO sqlalchemy.engine.Engine [raw sql] ()\n",
      "2023-06-16 12:01:31,718 INFO sqlalchemy.engine.Engine PRAGMA temp.index_list(\"Band\")\n",
      "2023-06-16 12:01:31,719 INFO sqlalchemy.engine.Engine [raw sql] ()\n",
      "2023-06-16 12:01:31,719 INFO sqlalchemy.engine.Engine PRAGMA main.index_list(\"Band\")\n",
      "2023-06-16 12:01:31,719 INFO sqlalchemy.engine.Engine [raw sql] ()\n",
      "2023-06-16 12:01:31,719 INFO sqlalchemy.engine.Engine PRAGMA temp.index_list(\"Band\")\n",
      "2023-06-16 12:01:31,720 INFO sqlalchemy.engine.Engine [raw sql] ()\n",
      "2023-06-16 12:01:31,720 INFO sqlalchemy.engine.Engine SELECT sql FROM  (SELECT * FROM sqlite_master UNION ALL   SELECT * FROM sqlite_temp_master) WHERE name = ? AND type = 'table'\n",
      "2023-06-16 12:01:31,720 INFO sqlalchemy.engine.Engine [raw sql] ('Band',)\n",
      "2023-06-16 12:01:31,721 INFO sqlalchemy.engine.Engine SELECT \"Band\".id, \"Band\".fname, \"Band\".lname, \"Band\".birthyear \n",
      "FROM \"Band\"\n",
      "2023-06-16 12:01:31,721 INFO sqlalchemy.engine.Engine [generated in 0.00024s] ()\n"
     ]
    }
   ],
   "source": [
    "beat = pd.read_sql(\n",
    "    \"Band\", sa_connection, index_col=\"id\"\n",
    ")"
   ],
   "metadata": {
    "collapsed": false
   }
  },
  {
   "cell_type": "code",
   "execution_count": 92,
   "outputs": [
    {
     "data": {
      "text/plain": "   fname      lname  birthyear\nid                            \n0   Paul  McCartney       1942\n1   John     Lennon       1940",
      "text/html": "<div>\n<style scoped>\n    .dataframe tbody tr th:only-of-type {\n        vertical-align: middle;\n    }\n\n    .dataframe tbody tr th {\n        vertical-align: top;\n    }\n\n    .dataframe thead th {\n        text-align: right;\n    }\n</style>\n<table border=\"1\" class=\"dataframe\">\n  <thead>\n    <tr style=\"text-align: right;\">\n      <th></th>\n      <th>fname</th>\n      <th>lname</th>\n      <th>birthyear</th>\n    </tr>\n    <tr>\n      <th>id</th>\n      <th></th>\n      <th></th>\n      <th></th>\n    </tr>\n  </thead>\n  <tbody>\n    <tr>\n      <th>0</th>\n      <td>Paul</td>\n      <td>McCartney</td>\n      <td>1942</td>\n    </tr>\n    <tr>\n      <th>1</th>\n      <td>John</td>\n      <td>Lennon</td>\n      <td>1940</td>\n    </tr>\n  </tbody>\n</table>\n</div>"
     },
     "execution_count": 92,
     "metadata": {},
     "output_type": "execute_result"
    }
   ],
   "source": [
    "beat"
   ],
   "metadata": {
    "collapsed": false
   }
  },
  {
   "cell_type": "code",
   "execution_count": 93,
   "outputs": [],
   "source": [
    "sql = \"\"\"SELECT fname, birthyear from Band\"\"\""
   ],
   "metadata": {
    "collapsed": false
   }
  },
  {
   "cell_type": "code",
   "execution_count": 94,
   "outputs": [],
   "source": [
    "fnames = pd.read_sql(sql, con)"
   ],
   "metadata": {
    "collapsed": false
   }
  },
  {
   "cell_type": "code",
   "execution_count": 95,
   "outputs": [
    {
     "data": {
      "text/plain": "  fname  birthyear\n0  Paul       1942\n1  John       1940",
      "text/html": "<div>\n<style scoped>\n    .dataframe tbody tr th:only-of-type {\n        vertical-align: middle;\n    }\n\n    .dataframe tbody tr th {\n        vertical-align: top;\n    }\n\n    .dataframe thead th {\n        text-align: right;\n    }\n</style>\n<table border=\"1\" class=\"dataframe\">\n  <thead>\n    <tr style=\"text-align: right;\">\n      <th></th>\n      <th>fname</th>\n      <th>birthyear</th>\n    </tr>\n  </thead>\n  <tbody>\n    <tr>\n      <th>0</th>\n      <td>Paul</td>\n      <td>1942</td>\n    </tr>\n    <tr>\n      <th>1</th>\n      <td>John</td>\n      <td>1940</td>\n    </tr>\n  </tbody>\n</table>\n</div>"
     },
     "execution_count": 95,
     "metadata": {},
     "output_type": "execute_result"
    }
   ],
   "source": [
    "fnames"
   ],
   "metadata": {
    "collapsed": false
   }
  },
  {
   "cell_type": "markdown",
   "source": [
    "JSON 파일 읽기"
   ],
   "metadata": {
    "collapsed": false
   }
  },
  {
   "cell_type": "code",
   "execution_count": 96,
   "outputs": [],
   "source": [
    "import json"
   ],
   "metadata": {
    "collapsed": false
   }
  },
  {
   "cell_type": "code",
   "execution_count": 97,
   "outputs": [],
   "source": [
    "encoded = json.dumps(people)"
   ],
   "metadata": {
    "collapsed": false
   }
  },
  {
   "cell_type": "code",
   "execution_count": 98,
   "outputs": [
    {
     "data": {
      "text/plain": "'{\"first\": [\"Paul\", \"John\", \"Richard\", \"George\"], \"last\": [\"McCartney\", \"Lennon\", \"Starkey\", \"Harrison\"], \"birth\": [1941, 1940, 1940, 1943]}'"
     },
     "execution_count": 98,
     "metadata": {},
     "output_type": "execute_result"
    }
   ],
   "source": [
    "encoded"
   ],
   "metadata": {
    "collapsed": false
   }
  },
  {
   "cell_type": "code",
   "execution_count": 99,
   "outputs": [
    {
     "data": {
      "text/plain": "{'first': ['Paul', 'John', 'Richard', 'George'],\n 'last': ['McCartney', 'Lennon', 'Starkey', 'Harrison'],\n 'birth': [1941, 1940, 1940, 1943]}"
     },
     "execution_count": 99,
     "metadata": {},
     "output_type": "execute_result"
    }
   ],
   "source": [
    "json.loads(encoded)"
   ],
   "metadata": {
    "collapsed": false
   }
  },
  {
   "cell_type": "code",
   "execution_count": 100,
   "outputs": [],
   "source": [
    "beatles = pd.read_json(encoded)"
   ],
   "metadata": {
    "collapsed": false
   }
  },
  {
   "cell_type": "code",
   "execution_count": 101,
   "outputs": [
    {
     "data": {
      "text/plain": "     first       last  birth\n0     Paul  McCartney   1941\n1     John     Lennon   1940\n2  Richard    Starkey   1940\n3   George   Harrison   1943",
      "text/html": "<div>\n<style scoped>\n    .dataframe tbody tr th:only-of-type {\n        vertical-align: middle;\n    }\n\n    .dataframe tbody tr th {\n        vertical-align: top;\n    }\n\n    .dataframe thead th {\n        text-align: right;\n    }\n</style>\n<table border=\"1\" class=\"dataframe\">\n  <thead>\n    <tr style=\"text-align: right;\">\n      <th></th>\n      <th>first</th>\n      <th>last</th>\n      <th>birth</th>\n    </tr>\n  </thead>\n  <tbody>\n    <tr>\n      <th>0</th>\n      <td>Paul</td>\n      <td>McCartney</td>\n      <td>1941</td>\n    </tr>\n    <tr>\n      <th>1</th>\n      <td>John</td>\n      <td>Lennon</td>\n      <td>1940</td>\n    </tr>\n    <tr>\n      <th>2</th>\n      <td>Richard</td>\n      <td>Starkey</td>\n      <td>1940</td>\n    </tr>\n    <tr>\n      <th>3</th>\n      <td>George</td>\n      <td>Harrison</td>\n      <td>1943</td>\n    </tr>\n  </tbody>\n</table>\n</div>"
     },
     "execution_count": 101,
     "metadata": {},
     "output_type": "execute_result"
    }
   ],
   "source": [
    "beatles"
   ],
   "metadata": {
    "collapsed": false
   }
  },
  {
   "cell_type": "code",
   "execution_count": 102,
   "outputs": [],
   "source": [
    "records = beatles.to_json(orient='records')"
   ],
   "metadata": {
    "collapsed": false
   }
  },
  {
   "cell_type": "code",
   "execution_count": 103,
   "outputs": [
    {
     "data": {
      "text/plain": "'[{\"first\":\"Paul\",\"last\":\"McCartney\",\"birth\":1941},{\"first\":\"John\",\"last\":\"Lennon\",\"birth\":1940},{\"first\":\"Richard\",\"last\":\"Starkey\",\"birth\":1940},{\"first\":\"George\",\"last\":\"Harrison\",\"birth\":1943}]'"
     },
     "execution_count": 103,
     "metadata": {},
     "output_type": "execute_result"
    }
   ],
   "source": [
    "records"
   ],
   "metadata": {
    "collapsed": false
   }
  },
  {
   "cell_type": "code",
   "execution_count": 104,
   "outputs": [
    {
     "data": {
      "text/plain": "     first       last  birth\n0     Paul  McCartney   1941\n1     John     Lennon   1940\n2  Richard    Starkey   1940\n3   George   Harrison   1943",
      "text/html": "<div>\n<style scoped>\n    .dataframe tbody tr th:only-of-type {\n        vertical-align: middle;\n    }\n\n    .dataframe tbody tr th {\n        vertical-align: top;\n    }\n\n    .dataframe thead th {\n        text-align: right;\n    }\n</style>\n<table border=\"1\" class=\"dataframe\">\n  <thead>\n    <tr style=\"text-align: right;\">\n      <th></th>\n      <th>first</th>\n      <th>last</th>\n      <th>birth</th>\n    </tr>\n  </thead>\n  <tbody>\n    <tr>\n      <th>0</th>\n      <td>Paul</td>\n      <td>McCartney</td>\n      <td>1941</td>\n    </tr>\n    <tr>\n      <th>1</th>\n      <td>John</td>\n      <td>Lennon</td>\n      <td>1940</td>\n    </tr>\n    <tr>\n      <th>2</th>\n      <td>Richard</td>\n      <td>Starkey</td>\n      <td>1940</td>\n    </tr>\n    <tr>\n      <th>3</th>\n      <td>George</td>\n      <td>Harrison</td>\n      <td>1943</td>\n    </tr>\n  </tbody>\n</table>\n</div>"
     },
     "execution_count": 104,
     "metadata": {},
     "output_type": "execute_result"
    }
   ],
   "source": [
    "pd.read_json(records, orient='records')"
   ],
   "metadata": {
    "collapsed": false
   }
  },
  {
   "cell_type": "code",
   "execution_count": 105,
   "outputs": [],
   "source": [
    "split = beatles.to_json(orient='split')"
   ],
   "metadata": {
    "collapsed": false
   }
  },
  {
   "cell_type": "code",
   "execution_count": 106,
   "outputs": [
    {
     "data": {
      "text/plain": "'{\"columns\":[\"first\",\"last\",\"birth\"],\"index\":[0,1,2,3],\"data\":[[\"Paul\",\"McCartney\",1941],[\"John\",\"Lennon\",1940],[\"Richard\",\"Starkey\",1940],[\"George\",\"Harrison\",1943]]}'"
     },
     "execution_count": 106,
     "metadata": {},
     "output_type": "execute_result"
    }
   ],
   "source": [
    "split"
   ],
   "metadata": {
    "collapsed": false
   }
  },
  {
   "cell_type": "code",
   "execution_count": 107,
   "outputs": [],
   "source": [
    "index = beatles.to_json(orient='index')"
   ],
   "metadata": {
    "collapsed": false
   }
  },
  {
   "cell_type": "code",
   "execution_count": 108,
   "outputs": [
    {
     "data": {
      "text/plain": "'{\"0\":{\"first\":\"Paul\",\"last\":\"McCartney\",\"birth\":1941},\"1\":{\"first\":\"John\",\"last\":\"Lennon\",\"birth\":1940},\"2\":{\"first\":\"Richard\",\"last\":\"Starkey\",\"birth\":1940},\"3\":{\"first\":\"George\",\"last\":\"Harrison\",\"birth\":1943}}'"
     },
     "execution_count": 108,
     "metadata": {},
     "output_type": "execute_result"
    }
   ],
   "source": [
    "index"
   ],
   "metadata": {
    "collapsed": false
   }
  },
  {
   "cell_type": "code",
   "execution_count": 109,
   "outputs": [
    {
     "data": {
      "text/plain": "     first       last  birth\n0     Paul  McCartney   1941\n1     John     Lennon   1940\n2  Richard    Starkey   1940\n3   George   Harrison   1943",
      "text/html": "<div>\n<style scoped>\n    .dataframe tbody tr th:only-of-type {\n        vertical-align: middle;\n    }\n\n    .dataframe tbody tr th {\n        vertical-align: top;\n    }\n\n    .dataframe thead th {\n        text-align: right;\n    }\n</style>\n<table border=\"1\" class=\"dataframe\">\n  <thead>\n    <tr style=\"text-align: right;\">\n      <th></th>\n      <th>first</th>\n      <th>last</th>\n      <th>birth</th>\n    </tr>\n  </thead>\n  <tbody>\n    <tr>\n      <th>0</th>\n      <td>Paul</td>\n      <td>McCartney</td>\n      <td>1941</td>\n    </tr>\n    <tr>\n      <th>1</th>\n      <td>John</td>\n      <td>Lennon</td>\n      <td>1940</td>\n    </tr>\n    <tr>\n      <th>2</th>\n      <td>Richard</td>\n      <td>Starkey</td>\n      <td>1940</td>\n    </tr>\n    <tr>\n      <th>3</th>\n      <td>George</td>\n      <td>Harrison</td>\n      <td>1943</td>\n    </tr>\n  </tbody>\n</table>\n</div>"
     },
     "execution_count": 109,
     "metadata": {},
     "output_type": "execute_result"
    }
   ],
   "source": [
    "pd.read_json(index, orient='index')"
   ],
   "metadata": {
    "collapsed": false
   }
  },
  {
   "cell_type": "code",
   "execution_count": 110,
   "outputs": [],
   "source": [
    "values = beatles.to_json(orient='values')"
   ],
   "metadata": {
    "collapsed": false
   }
  },
  {
   "cell_type": "code",
   "execution_count": 111,
   "outputs": [
    {
     "data": {
      "text/plain": "'[[\"Paul\",\"McCartney\",1941],[\"John\",\"Lennon\",1940],[\"Richard\",\"Starkey\",1940],[\"George\",\"Harrison\",1943]]'"
     },
     "execution_count": 111,
     "metadata": {},
     "output_type": "execute_result"
    }
   ],
   "source": [
    "values"
   ],
   "metadata": {
    "collapsed": false
   }
  },
  {
   "cell_type": "code",
   "execution_count": 112,
   "outputs": [],
   "source": [
    "table = beatles.to_json(orient='table')"
   ],
   "metadata": {
    "collapsed": false
   }
  },
  {
   "cell_type": "code",
   "execution_count": 113,
   "outputs": [
    {
     "data": {
      "text/plain": "'{\"schema\":{\"fields\":[{\"name\":\"index\",\"type\":\"integer\"},{\"name\":\"first\",\"type\":\"string\"},{\"name\":\"last\",\"type\":\"string\"},{\"name\":\"birth\",\"type\":\"integer\"}],\"primaryKey\":[\"index\"],\"pandas_version\":\"1.4.0\"},\"data\":[{\"index\":0,\"first\":\"Paul\",\"last\":\"McCartney\",\"birth\":1941},{\"index\":1,\"first\":\"John\",\"last\":\"Lennon\",\"birth\":1940},{\"index\":2,\"first\":\"Richard\",\"last\":\"Starkey\",\"birth\":1940},{\"index\":3,\"first\":\"George\",\"last\":\"Harrison\",\"birth\":1943}]}'"
     },
     "execution_count": 113,
     "metadata": {},
     "output_type": "execute_result"
    }
   ],
   "source": [
    "table"
   ],
   "metadata": {
    "collapsed": false
   }
  },
  {
   "cell_type": "code",
   "execution_count": 114,
   "outputs": [
    {
     "data": {
      "text/plain": "     first       last  birth\n0     Paul  McCartney   1941\n1     John     Lennon   1940\n2  Richard    Starkey   1940\n3   George   Harrison   1943",
      "text/html": "<div>\n<style scoped>\n    .dataframe tbody tr th:only-of-type {\n        vertical-align: middle;\n    }\n\n    .dataframe tbody tr th {\n        vertical-align: top;\n    }\n\n    .dataframe thead th {\n        text-align: right;\n    }\n</style>\n<table border=\"1\" class=\"dataframe\">\n  <thead>\n    <tr style=\"text-align: right;\">\n      <th></th>\n      <th>first</th>\n      <th>last</th>\n      <th>birth</th>\n    </tr>\n  </thead>\n  <tbody>\n    <tr>\n      <th>0</th>\n      <td>Paul</td>\n      <td>McCartney</td>\n      <td>1941</td>\n    </tr>\n    <tr>\n      <th>1</th>\n      <td>John</td>\n      <td>Lennon</td>\n      <td>1940</td>\n    </tr>\n    <tr>\n      <th>2</th>\n      <td>Richard</td>\n      <td>Starkey</td>\n      <td>1940</td>\n    </tr>\n    <tr>\n      <th>3</th>\n      <td>George</td>\n      <td>Harrison</td>\n      <td>1943</td>\n    </tr>\n  </tbody>\n</table>\n</div>"
     },
     "execution_count": 114,
     "metadata": {},
     "output_type": "execute_result"
    }
   ],
   "source": [
    "pd.read_json(table, orient='table')"
   ],
   "metadata": {
    "collapsed": false
   }
  },
  {
   "cell_type": "code",
   "execution_count": 115,
   "outputs": [],
   "source": [
    "output = beat.to_dict()"
   ],
   "metadata": {
    "collapsed": false
   }
  },
  {
   "cell_type": "code",
   "execution_count": 116,
   "outputs": [
    {
     "data": {
      "text/plain": "{'fname': {0: 'Paul', 1: 'John'},\n 'lname': {0: 'McCartney', 1: 'Lennon'},\n 'birthyear': {0: 1942, 1: 1940}}"
     },
     "execution_count": 116,
     "metadata": {},
     "output_type": "execute_result"
    }
   ],
   "source": [
    "output"
   ],
   "metadata": {
    "collapsed": false
   }
  },
  {
   "cell_type": "code",
   "execution_count": 117,
   "outputs": [],
   "source": [
    "output['version'] = '1.4.0'"
   ],
   "metadata": {
    "collapsed": false
   }
  },
  {
   "cell_type": "code",
   "execution_count": 118,
   "outputs": [
    {
     "data": {
      "text/plain": "'{\"fname\": {\"0\": \"Paul\", \"1\": \"John\"}, \"lname\": {\"0\": \"McCartney\", \"1\": \"Lennon\"}, \"birthyear\": {\"0\": 1942, \"1\": 1940}, \"version\": \"1.4.0\"}'"
     },
     "execution_count": 118,
     "metadata": {},
     "output_type": "execute_result"
    }
   ],
   "source": [
    "json.dumps(output)"
   ],
   "metadata": {
    "collapsed": false
   }
  },
  {
   "cell_type": "markdown",
   "source": [
    "HTML 테이블 읽기"
   ],
   "metadata": {
    "collapsed": false
   }
  },
  {
   "cell_type": "code",
   "execution_count": 119,
   "outputs": [
    {
     "data": {
      "text/plain": "59"
     },
     "execution_count": 119,
     "metadata": {},
     "output_type": "execute_result"
    }
   ],
   "source": [
    "url ='https://en.wikipedia.org/wiki/The_Beatles_discography'\n",
    "dfs = pd.read_html(url)\n",
    "len(dfs)"
   ],
   "metadata": {
    "collapsed": false
   }
  },
  {
   "cell_type": "code",
   "execution_count": 120,
   "outputs": [
    {
     "data": {
      "text/plain": "  The Beatles discography The Beatles discography.1\n0     The Beatles in 1965       The Beatles in 1965\n1           Studio albums          12 (UK), 17 (US)\n2             Live albums                         5\n3      Compilation albums                        51\n4            Video albums                        22\n5            Music videos                        53\n6                     EPs                        36\n7                 Singles                        63\n8                Mash-ups                         2\n9                Box sets                        17",
      "text/html": "<div>\n<style scoped>\n    .dataframe tbody tr th:only-of-type {\n        vertical-align: middle;\n    }\n\n    .dataframe tbody tr th {\n        vertical-align: top;\n    }\n\n    .dataframe thead th {\n        text-align: right;\n    }\n</style>\n<table border=\"1\" class=\"dataframe\">\n  <thead>\n    <tr style=\"text-align: right;\">\n      <th></th>\n      <th>The Beatles discography</th>\n      <th>The Beatles discography.1</th>\n    </tr>\n  </thead>\n  <tbody>\n    <tr>\n      <th>0</th>\n      <td>The Beatles in 1965</td>\n      <td>The Beatles in 1965</td>\n    </tr>\n    <tr>\n      <th>1</th>\n      <td>Studio albums</td>\n      <td>12 (UK), 17 (US)</td>\n    </tr>\n    <tr>\n      <th>2</th>\n      <td>Live albums</td>\n      <td>5</td>\n    </tr>\n    <tr>\n      <th>3</th>\n      <td>Compilation albums</td>\n      <td>51</td>\n    </tr>\n    <tr>\n      <th>4</th>\n      <td>Video albums</td>\n      <td>22</td>\n    </tr>\n    <tr>\n      <th>5</th>\n      <td>Music videos</td>\n      <td>53</td>\n    </tr>\n    <tr>\n      <th>6</th>\n      <td>EPs</td>\n      <td>36</td>\n    </tr>\n    <tr>\n      <th>7</th>\n      <td>Singles</td>\n      <td>63</td>\n    </tr>\n    <tr>\n      <th>8</th>\n      <td>Mash-ups</td>\n      <td>2</td>\n    </tr>\n    <tr>\n      <th>9</th>\n      <td>Box sets</td>\n      <td>17</td>\n    </tr>\n  </tbody>\n</table>\n</div>"
     },
     "execution_count": 120,
     "metadata": {},
     "output_type": "execute_result"
    }
   ],
   "source": [
    "dfs[0]"
   ],
   "metadata": {
    "collapsed": false
   }
  },
  {
   "cell_type": "code",
   "execution_count": 121,
   "outputs": [],
   "source": [
    "url ='https://en.wikipedia.org/wiki/The_Beatles_discography'\n",
    "dfs = pd.read_html(\n",
    "    url, match='List of studio albums', na_values='?'\n",
    ")"
   ],
   "metadata": {
    "collapsed": false
   }
  },
  {
   "cell_type": "code",
   "execution_count": 122,
   "outputs": [
    {
     "data": {
      "text/plain": "2"
     },
     "execution_count": 122,
     "metadata": {},
     "output_type": "execute_result"
    }
   ],
   "source": [
    "len(dfs)"
   ],
   "metadata": {
    "collapsed": false
   }
  },
  {
   "cell_type": "code",
   "execution_count": 127,
   "outputs": [
    {
     "data": {
      "text/plain": "MultiIndex([(               'Title',          'Title'),\n            (       'Album details',  'Album details'),\n            ('Peak chart positions',      'UK [6][7]'),\n            ('Peak chart positions',        'AUS [8]'),\n            ('Peak chart positions',        'CAN [9]'),\n            ('Peak chart positions',       'FRA [10]'),\n            ('Peak chart positions',       'GER [11]'),\n            ('Peak chart positions',       'NOR [12]'),\n            ('Peak chart positions',    'US [13][14]'),\n            ('Peak chart positions',    'US Cash Box'),\n            (      'Certifications', 'Certifications'),\n            (               'Sales',          'Sales')],\n           )"
     },
     "execution_count": 127,
     "metadata": {},
     "output_type": "execute_result"
    }
   ],
   "source": [
    "dfs[1].columns"
   ],
   "metadata": {
    "collapsed": false
   }
  },
  {
   "cell_type": "code",
   "execution_count": 128,
   "outputs": [],
   "source": [
    "url ='https://en.wikipedia.org/wiki/The_Beatles_discography'\n",
    "dfs = pd.read_html(\n",
    "    url,\n",
    "    match='List of studio albums',\n",
    "    na_values='?',\n",
    "    header=[0, 1]\n",
    ")"
   ],
   "metadata": {
    "collapsed": false
   }
  },
  {
   "cell_type": "code",
   "execution_count": 129,
   "outputs": [
    {
     "data": {
      "text/plain": "2"
     },
     "execution_count": 129,
     "metadata": {},
     "output_type": "execute_result"
    }
   ],
   "source": [
    "len(dfs)"
   ],
   "metadata": {
    "collapsed": false
   }
  },
  {
   "cell_type": "code",
   "execution_count": 130,
   "outputs": [
    {
     "data": {
      "text/plain": "                                                Title  \\\n                                                Title   \n0                                    Please Please Me   \n1                                 With the Beatles[A]   \n2                                  A Hard Day's Night   \n3                                    Beatles for Sale   \n4                                               Help!   \n5                                         Rubber Soul   \n6                                            Revolver   \n7               Sgt. Pepper's Lonely Hearts Club Band   \n8                     The Beatles (\"The White Album\")   \n9                                 Yellow Submarine[B]   \n10                                         Abbey Road   \n11                                          Let It Be   \n12  \"—\" denotes that the recording did not chart o...   \n\n                                        Album details  \\\n                                        Album details   \n0           Released: 22 March 1963 Label: Parlophone   \n1   Released: 22 November 1963 Label: Parlophone (...   \n2            Released: 10 July 1964 Label: Parlophone   \n3         Released: 4 December 1964 Label: Parlophone   \n4           Released: 6 August 1965 Label: Parlophone   \n5         Released: 3 December 1965 Label: Parlophone   \n6           Released: 5 August 1966 Label: Parlophone   \n7   Released: 26 May 1967 Label: Parlophone (UK), ...   \n8             Released: 22 November 1968 Label: Apple   \n9   Released: 13 January 1969 Label: Apple (UK), C...   \n10           Released: 26 September 1969 Label: Apple   \n11                  Released: 8 May 1970 Label: Apple   \n12  \"—\" denotes that the recording did not chart o...   \n\n                                 Peak chart positions  \\\n                                            UK [6][7]   \n0                                                   1   \n1                                                   1   \n2                                                   1   \n3                                                   1   \n4                                                   1   \n5                                                   1   \n6                                                   1   \n7                                                   1   \n8                                                   1   \n9                                                   3   \n10                                                  1   \n11                                                  1   \n12  \"—\" denotes that the recording did not chart o...   \n\n                                                       \\\n                                              AUS [8]   \n0                                                   —   \n1                                                   —   \n2                                                   1   \n3                                                   1   \n4                                                   1   \n5                                                   1   \n6                                                   1   \n7                                                   1   \n8                                                   1   \n9                                                   4   \n10                                                  1   \n11                                                  1   \n12  \"—\" denotes that the recording did not chart o...   \n\n                                                       \\\n                                              CAN [9]   \n0                                                   —   \n1                                                   —   \n2                                                   —   \n3                                                   —   \n4                                                   —   \n5                                                   —   \n6                                                   —   \n7                                                   1   \n8                                                   1   \n9                                                   1   \n10                                                  1   \n11                                                  1   \n12  \"—\" denotes that the recording did not chart o...   \n\n                                                       \\\n                                             FRA [10]   \n0                                                   5   \n1                                                   5   \n2                                                   —   \n3                                                   —   \n4                                                   5   \n5                                                   5   \n6                                                   5   \n7                                                   4   \n8                                                   1   \n9                                                   4   \n10                                                  1   \n11                                                  5   \n12  \"—\" denotes that the recording did not chart o...   \n\n                                                       \\\n                                             GER [11]   \n0                                                   5   \n1                                                   1   \n2                                                   1   \n3                                                   1   \n4                                                   1   \n5                                                   1   \n6                                                   1   \n7                                                   1   \n8                                                   1   \n9                                                   5   \n10                                                  1   \n11                                                  4   \n12  \"—\" denotes that the recording did not chart o...   \n\n                                                       \\\n                                             NOR [12]   \n0                                                   —   \n1                                                   —   \n2                                                   —   \n3                                                   —   \n4                                                   —   \n5                                                   —   \n6                                                  14   \n7                                                   1   \n8                                                   1   \n9                                                   1   \n10                                                  1   \n11                                                  1   \n12  \"—\" denotes that the recording did not chart o...   \n\n                                                       \\\n                                          US [13][14]   \n0                                                   —   \n1                                                   —   \n2                                                   —   \n3                                                   —   \n4                                                   —   \n5                                                   —   \n6                                                   —   \n7                                                   1   \n8                                                   1   \n9                                                   2   \n10                                                  1   \n11                                                  1   \n12  \"—\" denotes that the recording did not chart o...   \n\n                                       Certifications  \\\n                                       Certifications   \n0   BPI: Platinum[15] ARIA: Gold[16] MC: Gold[17] ...   \n1   BPI: Gold[15] ARIA: Gold[16] BVMI: Gold[19] MC...   \n2                    BPI: Platinum[15] ARIA: Gold[16]   \n3   BPI: Gold[15] ARIA: Gold[16] MC: Gold[17] RIAA...   \n4                    BPI: Platinum[15] ARIA: Gold[16]   \n5   BPI: 2× Platinum[15] ARIA: Platinum[16] BVMI: ...   \n6             BPI: 2× Platinum[15] ARIA: Platinum[16]   \n7   BPI: 18× Platinum[15] ARIA: 4× Platinum[16] BV...   \n8   BPI: 2× Platinum[15] ARIA: 2× Platinum[16] MC:...   \n9       BPI: Gold[15] MC: Gold[17] RIAA: Platinum[18]   \n10  BPI: 8× Platinum[15] ARIA: 3× Platinum[16] BVM...   \n11  BPI: Platinum[15] ARIA: Platinum[16] MC: 3× Pl...   \n12  \"—\" denotes that the recording did not chart o...   \n\n                                                Sales  \n                                                Sales  \n0                                                 NaN  \n1                                                 NaN  \n2                                                 NaN  \n3                                     UK: 750,000[20]  \n4                                                 NaN  \n5                                                 NaN  \n6                                                 NaN  \n7                                   UK: 5,340,000[22]  \n8                                                 NaN  \n9                                                 NaN  \n10                                  UK: 2,240,608[24]  \n11                                                NaN  \n12  \"—\" denotes that the recording did not chart o...  ",
      "text/html": "<div>\n<style scoped>\n    .dataframe tbody tr th:only-of-type {\n        vertical-align: middle;\n    }\n\n    .dataframe tbody tr th {\n        vertical-align: top;\n    }\n\n    .dataframe thead tr th {\n        text-align: left;\n    }\n</style>\n<table border=\"1\" class=\"dataframe\">\n  <thead>\n    <tr>\n      <th></th>\n      <th>Title</th>\n      <th>Album details</th>\n      <th colspan=\"7\" halign=\"left\">Peak chart positions</th>\n      <th>Certifications</th>\n      <th>Sales</th>\n    </tr>\n    <tr>\n      <th></th>\n      <th>Title</th>\n      <th>Album details</th>\n      <th>UK [6][7]</th>\n      <th>AUS [8]</th>\n      <th>CAN [9]</th>\n      <th>FRA [10]</th>\n      <th>GER [11]</th>\n      <th>NOR [12]</th>\n      <th>US [13][14]</th>\n      <th>Certifications</th>\n      <th>Sales</th>\n    </tr>\n  </thead>\n  <tbody>\n    <tr>\n      <th>0</th>\n      <td>Please Please Me</td>\n      <td>Released: 22 March 1963 Label: Parlophone</td>\n      <td>1</td>\n      <td>—</td>\n      <td>—</td>\n      <td>5</td>\n      <td>5</td>\n      <td>—</td>\n      <td>—</td>\n      <td>BPI: Platinum[15] ARIA: Gold[16] MC: Gold[17] ...</td>\n      <td>NaN</td>\n    </tr>\n    <tr>\n      <th>1</th>\n      <td>With the Beatles[A]</td>\n      <td>Released: 22 November 1963 Label: Parlophone (...</td>\n      <td>1</td>\n      <td>—</td>\n      <td>—</td>\n      <td>5</td>\n      <td>1</td>\n      <td>—</td>\n      <td>—</td>\n      <td>BPI: Gold[15] ARIA: Gold[16] BVMI: Gold[19] MC...</td>\n      <td>NaN</td>\n    </tr>\n    <tr>\n      <th>2</th>\n      <td>A Hard Day's Night</td>\n      <td>Released: 10 July 1964 Label: Parlophone</td>\n      <td>1</td>\n      <td>1</td>\n      <td>—</td>\n      <td>—</td>\n      <td>1</td>\n      <td>—</td>\n      <td>—</td>\n      <td>BPI: Platinum[15] ARIA: Gold[16]</td>\n      <td>NaN</td>\n    </tr>\n    <tr>\n      <th>3</th>\n      <td>Beatles for Sale</td>\n      <td>Released: 4 December 1964 Label: Parlophone</td>\n      <td>1</td>\n      <td>1</td>\n      <td>—</td>\n      <td>—</td>\n      <td>1</td>\n      <td>—</td>\n      <td>—</td>\n      <td>BPI: Gold[15] ARIA: Gold[16] MC: Gold[17] RIAA...</td>\n      <td>UK: 750,000[20]</td>\n    </tr>\n    <tr>\n      <th>4</th>\n      <td>Help!</td>\n      <td>Released: 6 August 1965 Label: Parlophone</td>\n      <td>1</td>\n      <td>1</td>\n      <td>—</td>\n      <td>5</td>\n      <td>1</td>\n      <td>—</td>\n      <td>—</td>\n      <td>BPI: Platinum[15] ARIA: Gold[16]</td>\n      <td>NaN</td>\n    </tr>\n    <tr>\n      <th>5</th>\n      <td>Rubber Soul</td>\n      <td>Released: 3 December 1965 Label: Parlophone</td>\n      <td>1</td>\n      <td>1</td>\n      <td>—</td>\n      <td>5</td>\n      <td>1</td>\n      <td>—</td>\n      <td>—</td>\n      <td>BPI: 2× Platinum[15] ARIA: Platinum[16] BVMI: ...</td>\n      <td>NaN</td>\n    </tr>\n    <tr>\n      <th>6</th>\n      <td>Revolver</td>\n      <td>Released: 5 August 1966 Label: Parlophone</td>\n      <td>1</td>\n      <td>1</td>\n      <td>—</td>\n      <td>5</td>\n      <td>1</td>\n      <td>14</td>\n      <td>—</td>\n      <td>BPI: 2× Platinum[15] ARIA: Platinum[16]</td>\n      <td>NaN</td>\n    </tr>\n    <tr>\n      <th>7</th>\n      <td>Sgt. Pepper's Lonely Hearts Club Band</td>\n      <td>Released: 26 May 1967 Label: Parlophone (UK), ...</td>\n      <td>1</td>\n      <td>1</td>\n      <td>1</td>\n      <td>4</td>\n      <td>1</td>\n      <td>1</td>\n      <td>1</td>\n      <td>BPI: 18× Platinum[15] ARIA: 4× Platinum[16] BV...</td>\n      <td>UK: 5,340,000[22]</td>\n    </tr>\n    <tr>\n      <th>8</th>\n      <td>The Beatles (\"The White Album\")</td>\n      <td>Released: 22 November 1968 Label: Apple</td>\n      <td>1</td>\n      <td>1</td>\n      <td>1</td>\n      <td>1</td>\n      <td>1</td>\n      <td>1</td>\n      <td>1</td>\n      <td>BPI: 2× Platinum[15] ARIA: 2× Platinum[16] MC:...</td>\n      <td>NaN</td>\n    </tr>\n    <tr>\n      <th>9</th>\n      <td>Yellow Submarine[B]</td>\n      <td>Released: 13 January 1969 Label: Apple (UK), C...</td>\n      <td>3</td>\n      <td>4</td>\n      <td>1</td>\n      <td>4</td>\n      <td>5</td>\n      <td>1</td>\n      <td>2</td>\n      <td>BPI: Gold[15] MC: Gold[17] RIAA: Platinum[18]</td>\n      <td>NaN</td>\n    </tr>\n    <tr>\n      <th>10</th>\n      <td>Abbey Road</td>\n      <td>Released: 26 September 1969 Label: Apple</td>\n      <td>1</td>\n      <td>1</td>\n      <td>1</td>\n      <td>1</td>\n      <td>1</td>\n      <td>1</td>\n      <td>1</td>\n      <td>BPI: 8× Platinum[15] ARIA: 3× Platinum[16] BVM...</td>\n      <td>UK: 2,240,608[24]</td>\n    </tr>\n    <tr>\n      <th>11</th>\n      <td>Let It Be</td>\n      <td>Released: 8 May 1970 Label: Apple</td>\n      <td>1</td>\n      <td>1</td>\n      <td>1</td>\n      <td>5</td>\n      <td>4</td>\n      <td>1</td>\n      <td>1</td>\n      <td>BPI: Platinum[15] ARIA: Platinum[16] MC: 3× Pl...</td>\n      <td>NaN</td>\n    </tr>\n    <tr>\n      <th>12</th>\n      <td>\"—\" denotes that the recording did not chart o...</td>\n      <td>\"—\" denotes that the recording did not chart o...</td>\n      <td>\"—\" denotes that the recording did not chart o...</td>\n      <td>\"—\" denotes that the recording did not chart o...</td>\n      <td>\"—\" denotes that the recording did not chart o...</td>\n      <td>\"—\" denotes that the recording did not chart o...</td>\n      <td>\"—\" denotes that the recording did not chart o...</td>\n      <td>\"—\" denotes that the recording did not chart o...</td>\n      <td>\"—\" denotes that the recording did not chart o...</td>\n      <td>\"—\" denotes that the recording did not chart o...</td>\n      <td>\"—\" denotes that the recording did not chart o...</td>\n    </tr>\n  </tbody>\n</table>\n</div>"
     },
     "execution_count": 130,
     "metadata": {},
     "output_type": "execute_result"
    }
   ],
   "source": [
    "dfs[0]"
   ],
   "metadata": {
    "collapsed": false
   }
  },
  {
   "cell_type": "code",
   "execution_count": 141,
   "outputs": [
    {
     "data": {
      "text/plain": "MultiIndex([(               'Title',          'Title'),\n            (       'Album details',  'Album details'),\n            ('Peak chart positions',      'UK [6][7]'),\n            ('Peak chart positions',        'AUS [8]'),\n            ('Peak chart positions',        'CAN [9]'),\n            ('Peak chart positions',       'FRA [10]'),\n            ('Peak chart positions',       'GER [11]'),\n            ('Peak chart positions',       'NOR [12]'),\n            ('Peak chart positions',    'US [13][14]'),\n            (      'Certifications', 'Certifications'),\n            (               'Sales',          'Sales')],\n           )"
     },
     "execution_count": 141,
     "metadata": {},
     "output_type": "execute_result"
    }
   ],
   "source": [
    "dfs[0].columns"
   ],
   "metadata": {
    "collapsed": false
   }
  },
  {
   "cell_type": "code",
   "execution_count": 142,
   "outputs": [],
   "source": [
    "df = dfs[0]"
   ],
   "metadata": {
    "collapsed": false
   }
  },
  {
   "cell_type": "code",
   "execution_count": 144,
   "outputs": [
    {
     "ename": "ValueError",
     "evalue": "Length mismatch: Expected axis has 11 elements, new values have 10 elements",
     "output_type": "error",
     "traceback": [
      "\u001B[0;31m---------------------------------------------------------------------------\u001B[0m",
      "\u001B[0;31mValueError\u001B[0m                                Traceback (most recent call last)",
      "Cell \u001B[0;32mIn[144], line 1\u001B[0m\n\u001B[0;32m----> 1\u001B[0m df\u001B[38;5;241m.\u001B[39mcolumns \u001B[38;5;241m=\u001B[39m [\n\u001B[1;32m      2\u001B[0m     \u001B[38;5;124m'\u001B[39m\u001B[38;5;124mTitle\u001B[39m\u001B[38;5;124m'\u001B[39m,\n\u001B[1;32m      3\u001B[0m     \u001B[38;5;124m'\u001B[39m\u001B[38;5;124mRelease\u001B[39m\u001B[38;5;124m'\u001B[39m,\n\u001B[1;32m      4\u001B[0m     \u001B[38;5;124m'\u001B[39m\u001B[38;5;124mUK\u001B[39m\u001B[38;5;124m'\u001B[39m,\n\u001B[1;32m      5\u001B[0m     \u001B[38;5;124m'\u001B[39m\u001B[38;5;124mAUS\u001B[39m\u001B[38;5;124m'\u001B[39m,\n\u001B[1;32m      6\u001B[0m     \u001B[38;5;124m'\u001B[39m\u001B[38;5;124mCAN\u001B[39m\u001B[38;5;124m'\u001B[39m,\n\u001B[1;32m      7\u001B[0m     \u001B[38;5;124m'\u001B[39m\u001B[38;5;124mFRA\u001B[39m\u001B[38;5;124m'\u001B[39m,\n\u001B[1;32m      8\u001B[0m     \u001B[38;5;124m'\u001B[39m\u001B[38;5;124mGER\u001B[39m\u001B[38;5;124m'\u001B[39m,\n\u001B[1;32m      9\u001B[0m     \u001B[38;5;124m'\u001B[39m\u001B[38;5;124mNOR\u001B[39m\u001B[38;5;124m'\u001B[39m,\n\u001B[1;32m     10\u001B[0m     \u001B[38;5;124m'\u001B[39m\u001B[38;5;124mUS\u001B[39m\u001B[38;5;124m'\u001B[39m,\n\u001B[1;32m     11\u001B[0m     \u001B[38;5;124m'\u001B[39m\u001B[38;5;124mCertifications\u001B[39m\u001B[38;5;124m'\u001B[39m\n\u001B[1;32m     12\u001B[0m     \u001B[38;5;124m'\u001B[39m\u001B[38;5;124mSales\u001B[39m\u001B[38;5;124m'\u001B[39m\n\u001B[1;32m     13\u001B[0m ]\n",
      "File \u001B[0;32m~/anaconda3/lib/python3.10/site-packages/pandas/core/generic.py:5915\u001B[0m, in \u001B[0;36mNDFrame.__setattr__\u001B[0;34m(self, name, value)\u001B[0m\n\u001B[1;32m   5913\u001B[0m \u001B[38;5;28;01mtry\u001B[39;00m:\n\u001B[1;32m   5914\u001B[0m     \u001B[38;5;28mobject\u001B[39m\u001B[38;5;241m.\u001B[39m\u001B[38;5;21m__getattribute__\u001B[39m(\u001B[38;5;28mself\u001B[39m, name)\n\u001B[0;32m-> 5915\u001B[0m     \u001B[38;5;28;01mreturn\u001B[39;00m \u001B[38;5;28;43mobject\u001B[39;49m\u001B[38;5;241;43m.\u001B[39;49m\u001B[38;5;21;43m__setattr__\u001B[39;49m\u001B[43m(\u001B[49m\u001B[38;5;28;43mself\u001B[39;49m\u001B[43m,\u001B[49m\u001B[43m \u001B[49m\u001B[43mname\u001B[49m\u001B[43m,\u001B[49m\u001B[43m \u001B[49m\u001B[43mvalue\u001B[49m\u001B[43m)\u001B[49m\n\u001B[1;32m   5916\u001B[0m \u001B[38;5;28;01mexcept\u001B[39;00m \u001B[38;5;167;01mAttributeError\u001B[39;00m:\n\u001B[1;32m   5917\u001B[0m     \u001B[38;5;28;01mpass\u001B[39;00m\n",
      "File \u001B[0;32m~/anaconda3/lib/python3.10/site-packages/pandas/_libs/properties.pyx:69\u001B[0m, in \u001B[0;36mpandas._libs.properties.AxisProperty.__set__\u001B[0;34m()\u001B[0m\n",
      "File \u001B[0;32m~/anaconda3/lib/python3.10/site-packages/pandas/core/generic.py:823\u001B[0m, in \u001B[0;36mNDFrame._set_axis\u001B[0;34m(self, axis, labels)\u001B[0m\n\u001B[1;32m    821\u001B[0m \u001B[38;5;28;01mdef\u001B[39;00m \u001B[38;5;21m_set_axis\u001B[39m(\u001B[38;5;28mself\u001B[39m, axis: \u001B[38;5;28mint\u001B[39m, labels: AnyArrayLike \u001B[38;5;241m|\u001B[39m \u001B[38;5;28mlist\u001B[39m) \u001B[38;5;241m-\u001B[39m\u001B[38;5;241m>\u001B[39m \u001B[38;5;28;01mNone\u001B[39;00m:\n\u001B[1;32m    822\u001B[0m     labels \u001B[38;5;241m=\u001B[39m ensure_index(labels)\n\u001B[0;32m--> 823\u001B[0m     \u001B[38;5;28;43mself\u001B[39;49m\u001B[38;5;241;43m.\u001B[39;49m\u001B[43m_mgr\u001B[49m\u001B[38;5;241;43m.\u001B[39;49m\u001B[43mset_axis\u001B[49m\u001B[43m(\u001B[49m\u001B[43maxis\u001B[49m\u001B[43m,\u001B[49m\u001B[43m \u001B[49m\u001B[43mlabels\u001B[49m\u001B[43m)\u001B[49m\n\u001B[1;32m    824\u001B[0m     \u001B[38;5;28mself\u001B[39m\u001B[38;5;241m.\u001B[39m_clear_item_cache()\n",
      "File \u001B[0;32m~/anaconda3/lib/python3.10/site-packages/pandas/core/internals/managers.py:230\u001B[0m, in \u001B[0;36mBaseBlockManager.set_axis\u001B[0;34m(self, axis, new_labels)\u001B[0m\n\u001B[1;32m    228\u001B[0m \u001B[38;5;28;01mdef\u001B[39;00m \u001B[38;5;21mset_axis\u001B[39m(\u001B[38;5;28mself\u001B[39m, axis: \u001B[38;5;28mint\u001B[39m, new_labels: Index) \u001B[38;5;241m-\u001B[39m\u001B[38;5;241m>\u001B[39m \u001B[38;5;28;01mNone\u001B[39;00m:\n\u001B[1;32m    229\u001B[0m     \u001B[38;5;66;03m# Caller is responsible for ensuring we have an Index object.\u001B[39;00m\n\u001B[0;32m--> 230\u001B[0m     \u001B[38;5;28;43mself\u001B[39;49m\u001B[38;5;241;43m.\u001B[39;49m\u001B[43m_validate_set_axis\u001B[49m\u001B[43m(\u001B[49m\u001B[43maxis\u001B[49m\u001B[43m,\u001B[49m\u001B[43m \u001B[49m\u001B[43mnew_labels\u001B[49m\u001B[43m)\u001B[49m\n\u001B[1;32m    231\u001B[0m     \u001B[38;5;28mself\u001B[39m\u001B[38;5;241m.\u001B[39maxes[axis] \u001B[38;5;241m=\u001B[39m new_labels\n",
      "File \u001B[0;32m~/anaconda3/lib/python3.10/site-packages/pandas/core/internals/base.py:70\u001B[0m, in \u001B[0;36mDataManager._validate_set_axis\u001B[0;34m(self, axis, new_labels)\u001B[0m\n\u001B[1;32m     67\u001B[0m     \u001B[38;5;28;01mpass\u001B[39;00m\n\u001B[1;32m     69\u001B[0m \u001B[38;5;28;01melif\u001B[39;00m new_len \u001B[38;5;241m!=\u001B[39m old_len:\n\u001B[0;32m---> 70\u001B[0m     \u001B[38;5;28;01mraise\u001B[39;00m \u001B[38;5;167;01mValueError\u001B[39;00m(\n\u001B[1;32m     71\u001B[0m         \u001B[38;5;124mf\u001B[39m\u001B[38;5;124m\"\u001B[39m\u001B[38;5;124mLength mismatch: Expected axis has \u001B[39m\u001B[38;5;132;01m{\u001B[39;00mold_len\u001B[38;5;132;01m}\u001B[39;00m\u001B[38;5;124m elements, new \u001B[39m\u001B[38;5;124m\"\u001B[39m\n\u001B[1;32m     72\u001B[0m         \u001B[38;5;124mf\u001B[39m\u001B[38;5;124m\"\u001B[39m\u001B[38;5;124mvalues have \u001B[39m\u001B[38;5;132;01m{\u001B[39;00mnew_len\u001B[38;5;132;01m}\u001B[39;00m\u001B[38;5;124m elements\u001B[39m\u001B[38;5;124m\"\u001B[39m\n\u001B[1;32m     73\u001B[0m     )\n",
      "\u001B[0;31mValueError\u001B[0m: Length mismatch: Expected axis has 11 elements, new values have 10 elements"
     ]
    }
   ],
   "source": [
    "df.columns = [\n",
    "    'Title',\n",
    "    'Release',\n",
    "    'UK',\n",
    "    'AUS',\n",
    "    'CAN',\n",
    "    'FRA',\n",
    "    'GER',\n",
    "    'NOR',\n",
    "    'US',\n",
    "    'Certifications'\n",
    "    'Sales'\n",
    "]"
   ],
   "metadata": {
    "collapsed": false
   }
  },
  {
   "cell_type": "code",
   "execution_count": 145,
   "outputs": [
    {
     "ename": "AttributeError",
     "evalue": "'DataFrame' object has no attribute 'str'",
     "output_type": "error",
     "traceback": [
      "\u001B[0;31m---------------------------------------------------------------------------\u001B[0m",
      "\u001B[0;31mAttributeError\u001B[0m                            Traceback (most recent call last)",
      "Cell \u001B[0;32mIn[145], line 2\u001B[0m\n\u001B[1;32m      1\u001B[0m res \u001B[38;5;241m=\u001B[39m (\n\u001B[0;32m----> 2\u001B[0m     \u001B[43mdf\u001B[49m\u001B[38;5;241;43m.\u001B[39;49m\u001B[43mpipe\u001B[49m\u001B[43m(\u001B[49m\n\u001B[1;32m      3\u001B[0m \u001B[43m        \u001B[49m\u001B[38;5;28;43;01mlambda\u001B[39;49;00m\u001B[43m \u001B[49m\u001B[43mdf_\u001B[49m\u001B[43m:\u001B[49m\u001B[43m \u001B[49m\u001B[43mdf_\u001B[49m\u001B[43m[\u001B[49m\n\u001B[1;32m      4\u001B[0m \u001B[43m            \u001B[49m\u001B[38;5;241;43m~\u001B[39;49m\u001B[43mdf_\u001B[49m\u001B[38;5;241;43m.\u001B[39;49m\u001B[43mTitle\u001B[49m\u001B[38;5;241;43m.\u001B[39;49m\u001B[43mstr\u001B[49m\u001B[38;5;241;43m.\u001B[39;49m\u001B[43mstartswith\u001B[49m\u001B[43m(\u001B[49m\u001B[38;5;124;43m'\u001B[39;49m\u001B[38;5;124;43mReleased\u001B[39;49m\u001B[38;5;124;43m'\u001B[39;49m\u001B[43m)\u001B[49m\n\u001B[1;32m      5\u001B[0m \u001B[43m        \u001B[49m\u001B[43m]\u001B[49m\n\u001B[1;32m      6\u001B[0m \u001B[43m    \u001B[49m\u001B[43m)\u001B[49m\n\u001B[1;32m      7\u001B[0m )\n\u001B[1;32m      8\u001B[0m res\n",
      "File \u001B[0;32m~/anaconda3/lib/python3.10/site-packages/pandas/core/generic.py:5839\u001B[0m, in \u001B[0;36mNDFrame.pipe\u001B[0;34m(self, func, *args, **kwargs)\u001B[0m\n\u001B[1;32m   5781\u001B[0m \u001B[38;5;129m@final\u001B[39m\n\u001B[1;32m   5782\u001B[0m \u001B[38;5;129m@doc\u001B[39m(klass\u001B[38;5;241m=\u001B[39m_shared_doc_kwargs[\u001B[38;5;124m\"\u001B[39m\u001B[38;5;124mklass\u001B[39m\u001B[38;5;124m\"\u001B[39m])\n\u001B[1;32m   5783\u001B[0m \u001B[38;5;28;01mdef\u001B[39;00m \u001B[38;5;21mpipe\u001B[39m(\n\u001B[0;32m   (...)\u001B[0m\n\u001B[1;32m   5787\u001B[0m     \u001B[38;5;241m*\u001B[39m\u001B[38;5;241m*\u001B[39mkwargs,\n\u001B[1;32m   5788\u001B[0m ) \u001B[38;5;241m-\u001B[39m\u001B[38;5;241m>\u001B[39m T:\n\u001B[1;32m   5789\u001B[0m     \u001B[38;5;124mr\u001B[39m\u001B[38;5;124;03m\"\"\"\u001B[39;00m\n\u001B[1;32m   5790\u001B[0m \u001B[38;5;124;03m    Apply chainable functions that expect Series or DataFrames.\u001B[39;00m\n\u001B[1;32m   5791\u001B[0m \n\u001B[0;32m   (...)\u001B[0m\n\u001B[1;32m   5837\u001B[0m \u001B[38;5;124;03m    ...  )  # doctest: +SKIP\u001B[39;00m\n\u001B[1;32m   5838\u001B[0m \u001B[38;5;124;03m    \"\"\"\u001B[39;00m\n\u001B[0;32m-> 5839\u001B[0m     \u001B[38;5;28;01mreturn\u001B[39;00m \u001B[43mcom\u001B[49m\u001B[38;5;241;43m.\u001B[39;49m\u001B[43mpipe\u001B[49m\u001B[43m(\u001B[49m\u001B[38;5;28;43mself\u001B[39;49m\u001B[43m,\u001B[49m\u001B[43m \u001B[49m\u001B[43mfunc\u001B[49m\u001B[43m,\u001B[49m\u001B[43m \u001B[49m\u001B[38;5;241;43m*\u001B[39;49m\u001B[43margs\u001B[49m\u001B[43m,\u001B[49m\u001B[43m \u001B[49m\u001B[38;5;241;43m*\u001B[39;49m\u001B[38;5;241;43m*\u001B[39;49m\u001B[43mkwargs\u001B[49m\u001B[43m)\u001B[49m\n",
      "File \u001B[0;32m~/anaconda3/lib/python3.10/site-packages/pandas/core/common.py:513\u001B[0m, in \u001B[0;36mpipe\u001B[0;34m(obj, func, *args, **kwargs)\u001B[0m\n\u001B[1;32m    511\u001B[0m     \u001B[38;5;28;01mreturn\u001B[39;00m func(\u001B[38;5;241m*\u001B[39margs, \u001B[38;5;241m*\u001B[39m\u001B[38;5;241m*\u001B[39mkwargs)\n\u001B[1;32m    512\u001B[0m \u001B[38;5;28;01melse\u001B[39;00m:\n\u001B[0;32m--> 513\u001B[0m     \u001B[38;5;28;01mreturn\u001B[39;00m \u001B[43mfunc\u001B[49m\u001B[43m(\u001B[49m\u001B[43mobj\u001B[49m\u001B[43m,\u001B[49m\u001B[43m \u001B[49m\u001B[38;5;241;43m*\u001B[39;49m\u001B[43margs\u001B[49m\u001B[43m,\u001B[49m\u001B[43m \u001B[49m\u001B[38;5;241;43m*\u001B[39;49m\u001B[38;5;241;43m*\u001B[39;49m\u001B[43mkwargs\u001B[49m\u001B[43m)\u001B[49m\n",
      "Cell \u001B[0;32mIn[145], line 4\u001B[0m, in \u001B[0;36m<lambda>\u001B[0;34m(df_)\u001B[0m\n\u001B[1;32m      1\u001B[0m res \u001B[38;5;241m=\u001B[39m (\n\u001B[1;32m      2\u001B[0m     df\u001B[38;5;241m.\u001B[39mpipe(\n\u001B[1;32m      3\u001B[0m         \u001B[38;5;28;01mlambda\u001B[39;00m df_: df_[\n\u001B[0;32m----> 4\u001B[0m             \u001B[38;5;241m~\u001B[39m\u001B[43mdf_\u001B[49m\u001B[38;5;241;43m.\u001B[39;49m\u001B[43mTitle\u001B[49m\u001B[38;5;241;43m.\u001B[39;49m\u001B[43mstr\u001B[49m\u001B[38;5;241m.\u001B[39mstartswith(\u001B[38;5;124m'\u001B[39m\u001B[38;5;124mReleased\u001B[39m\u001B[38;5;124m'\u001B[39m)\n\u001B[1;32m      5\u001B[0m         ]\n\u001B[1;32m      6\u001B[0m     )\n\u001B[1;32m      7\u001B[0m )\n\u001B[1;32m      8\u001B[0m res\n",
      "File \u001B[0;32m~/anaconda3/lib/python3.10/site-packages/pandas/core/generic.py:5902\u001B[0m, in \u001B[0;36mNDFrame.__getattr__\u001B[0;34m(self, name)\u001B[0m\n\u001B[1;32m   5895\u001B[0m \u001B[38;5;28;01mif\u001B[39;00m (\n\u001B[1;32m   5896\u001B[0m     name \u001B[38;5;129;01mnot\u001B[39;00m \u001B[38;5;129;01min\u001B[39;00m \u001B[38;5;28mself\u001B[39m\u001B[38;5;241m.\u001B[39m_internal_names_set\n\u001B[1;32m   5897\u001B[0m     \u001B[38;5;129;01mand\u001B[39;00m name \u001B[38;5;129;01mnot\u001B[39;00m \u001B[38;5;129;01min\u001B[39;00m \u001B[38;5;28mself\u001B[39m\u001B[38;5;241m.\u001B[39m_metadata\n\u001B[1;32m   5898\u001B[0m     \u001B[38;5;129;01mand\u001B[39;00m name \u001B[38;5;129;01mnot\u001B[39;00m \u001B[38;5;129;01min\u001B[39;00m \u001B[38;5;28mself\u001B[39m\u001B[38;5;241m.\u001B[39m_accessors\n\u001B[1;32m   5899\u001B[0m     \u001B[38;5;129;01mand\u001B[39;00m \u001B[38;5;28mself\u001B[39m\u001B[38;5;241m.\u001B[39m_info_axis\u001B[38;5;241m.\u001B[39m_can_hold_identifiers_and_holds_name(name)\n\u001B[1;32m   5900\u001B[0m ):\n\u001B[1;32m   5901\u001B[0m     \u001B[38;5;28;01mreturn\u001B[39;00m \u001B[38;5;28mself\u001B[39m[name]\n\u001B[0;32m-> 5902\u001B[0m \u001B[38;5;28;01mreturn\u001B[39;00m \u001B[38;5;28;43mobject\u001B[39;49m\u001B[38;5;241;43m.\u001B[39;49m\u001B[38;5;21;43m__getattribute__\u001B[39;49m\u001B[43m(\u001B[49m\u001B[38;5;28;43mself\u001B[39;49m\u001B[43m,\u001B[49m\u001B[43m \u001B[49m\u001B[43mname\u001B[49m\u001B[43m)\u001B[49m\n",
      "\u001B[0;31mAttributeError\u001B[0m: 'DataFrame' object has no attribute 'str'"
     ]
    }
   ],
   "source": [
    "res = (\n",
    "    df.pipe(\n",
    "        lambda df_: df_[\n",
    "            ~df_.Title.str.startswith('Released')\n",
    "        ]\n",
    "    )\n",
    ")\n",
    "res"
   ],
   "metadata": {
    "collapsed": false
   }
  },
  {
   "cell_type": "code",
   "execution_count": null,
   "outputs": [],
   "source": [],
   "metadata": {
    "collapsed": false
   }
  }
 ],
 "metadata": {
  "kernelspec": {
   "display_name": "Python 3",
   "language": "python",
   "name": "python3"
  },
  "language_info": {
   "codemirror_mode": {
    "name": "ipython",
    "version": 2
   },
   "file_extension": ".py",
   "mimetype": "text/x-python",
   "name": "python",
   "nbconvert_exporter": "python",
   "pygments_lexer": "ipython2",
   "version": "2.7.6"
  }
 },
 "nbformat": 4,
 "nbformat_minor": 0
}
