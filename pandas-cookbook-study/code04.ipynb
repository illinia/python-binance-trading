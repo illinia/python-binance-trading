{
 "cells": [
  {
   "cell_type": "code",
   "execution_count": 1,
   "metadata": {
    "collapsed": true
   },
   "outputs": [],
   "source": [
    "import pandas as pd\n",
    "import numpy as np"
   ]
  },
  {
   "cell_type": "code",
   "execution_count": 2,
   "outputs": [],
   "source": [
    "college = pd.read_csv('data/college.csv')"
   ],
   "metadata": {
    "collapsed": false
   }
  },
  {
   "cell_type": "code",
   "execution_count": 3,
   "outputs": [
    {
     "data": {
      "text/plain": "                                                 INSTNM              CITY  \\\n0                              Alabama A & M University            Normal   \n1                   University of Alabama at Birmingham        Birmingham   \n2                                    Amridge University        Montgomery   \n3                   University of Alabama in Huntsville        Huntsville   \n4                              Alabama State University        Montgomery   \n...                                                 ...               ...   \n7530         SAE Institute of Technology  San Francisco        Emeryville   \n7531                  Rasmussen College - Overland Park     Overland Park   \n7532  National Personal Training Institute of Cleveland  Highland Heights   \n7533  Bay Area Medical Academy - San Jose Satellite ...          San Jose   \n7534            Excel Learning Center-San Antonio South       San Antonio   \n\n     STABBR  HBCU  MENONLY  WOMENONLY  RELAFFIL  SATVRMID  SATMTMID  \\\n0        AL   1.0      0.0        0.0         0     424.0     420.0   \n1        AL   0.0      0.0        0.0         0     570.0     565.0   \n2        AL   0.0      0.0        0.0         1       NaN       NaN   \n3        AL   0.0      0.0        0.0         0     595.0     590.0   \n4        AL   1.0      0.0        0.0         0     425.0     430.0   \n...     ...   ...      ...        ...       ...       ...       ...   \n7530     CA   NaN      NaN        NaN         1       NaN       NaN   \n7531     KS   NaN      NaN        NaN         1       NaN       NaN   \n7532     OH   NaN      NaN        NaN         1       NaN       NaN   \n7533     CA   NaN      NaN        NaN         1       NaN       NaN   \n7534     TX   NaN      NaN        NaN         1       NaN       NaN   \n\n      DISTANCEONLY  ...  UGDS_2MOR  UGDS_NRA  UGDS_UNKN  PPTUG_EF  CURROPER  \\\n0              0.0  ...     0.0000    0.0059     0.0138    0.0656         1   \n1              0.0  ...     0.0368    0.0179     0.0100    0.2607         1   \n2              1.0  ...     0.0000    0.0000     0.2715    0.4536         1   \n3              0.0  ...     0.0172    0.0332     0.0350    0.2146         1   \n4              0.0  ...     0.0098    0.0243     0.0137    0.0892         1   \n...            ...  ...        ...       ...        ...       ...       ...   \n7530           NaN  ...        NaN       NaN        NaN       NaN         1   \n7531           NaN  ...        NaN       NaN        NaN       NaN         1   \n7532           NaN  ...        NaN       NaN        NaN       NaN         1   \n7533           NaN  ...        NaN       NaN        NaN       NaN         1   \n7534           NaN  ...        NaN       NaN        NaN       NaN         1   \n\n      PCTPELL  PCTFLOAN  UG25ABV  MD_EARN_WNE_P10  GRAD_DEBT_MDN_SUPP  \n0      0.7356    0.8284   0.1049            30300               33888  \n1      0.3460    0.5214   0.2422            39700             21941.5  \n2      0.6801    0.7795   0.8540            40100               23370  \n3      0.3072    0.4596   0.2640            45500               24097  \n4      0.7347    0.7554   0.1270            26600             33118.5  \n...       ...       ...      ...              ...                 ...  \n7530      NaN       NaN      NaN              NaN                9500  \n7531      NaN       NaN      NaN              NaN               21163  \n7532      NaN       NaN      NaN              NaN                6333  \n7533      NaN       NaN      NaN              NaN   PrivacySuppressed  \n7534      NaN       NaN      NaN              NaN               12125  \n\n[7535 rows x 27 columns]",
      "text/html": "<div>\n<style scoped>\n    .dataframe tbody tr th:only-of-type {\n        vertical-align: middle;\n    }\n\n    .dataframe tbody tr th {\n        vertical-align: top;\n    }\n\n    .dataframe thead th {\n        text-align: right;\n    }\n</style>\n<table border=\"1\" class=\"dataframe\">\n  <thead>\n    <tr style=\"text-align: right;\">\n      <th></th>\n      <th>INSTNM</th>\n      <th>CITY</th>\n      <th>STABBR</th>\n      <th>HBCU</th>\n      <th>MENONLY</th>\n      <th>WOMENONLY</th>\n      <th>RELAFFIL</th>\n      <th>SATVRMID</th>\n      <th>SATMTMID</th>\n      <th>DISTANCEONLY</th>\n      <th>...</th>\n      <th>UGDS_2MOR</th>\n      <th>UGDS_NRA</th>\n      <th>UGDS_UNKN</th>\n      <th>PPTUG_EF</th>\n      <th>CURROPER</th>\n      <th>PCTPELL</th>\n      <th>PCTFLOAN</th>\n      <th>UG25ABV</th>\n      <th>MD_EARN_WNE_P10</th>\n      <th>GRAD_DEBT_MDN_SUPP</th>\n    </tr>\n  </thead>\n  <tbody>\n    <tr>\n      <th>0</th>\n      <td>Alabama A &amp; M University</td>\n      <td>Normal</td>\n      <td>AL</td>\n      <td>1.0</td>\n      <td>0.0</td>\n      <td>0.0</td>\n      <td>0</td>\n      <td>424.0</td>\n      <td>420.0</td>\n      <td>0.0</td>\n      <td>...</td>\n      <td>0.0000</td>\n      <td>0.0059</td>\n      <td>0.0138</td>\n      <td>0.0656</td>\n      <td>1</td>\n      <td>0.7356</td>\n      <td>0.8284</td>\n      <td>0.1049</td>\n      <td>30300</td>\n      <td>33888</td>\n    </tr>\n    <tr>\n      <th>1</th>\n      <td>University of Alabama at Birmingham</td>\n      <td>Birmingham</td>\n      <td>AL</td>\n      <td>0.0</td>\n      <td>0.0</td>\n      <td>0.0</td>\n      <td>0</td>\n      <td>570.0</td>\n      <td>565.0</td>\n      <td>0.0</td>\n      <td>...</td>\n      <td>0.0368</td>\n      <td>0.0179</td>\n      <td>0.0100</td>\n      <td>0.2607</td>\n      <td>1</td>\n      <td>0.3460</td>\n      <td>0.5214</td>\n      <td>0.2422</td>\n      <td>39700</td>\n      <td>21941.5</td>\n    </tr>\n    <tr>\n      <th>2</th>\n      <td>Amridge University</td>\n      <td>Montgomery</td>\n      <td>AL</td>\n      <td>0.0</td>\n      <td>0.0</td>\n      <td>0.0</td>\n      <td>1</td>\n      <td>NaN</td>\n      <td>NaN</td>\n      <td>1.0</td>\n      <td>...</td>\n      <td>0.0000</td>\n      <td>0.0000</td>\n      <td>0.2715</td>\n      <td>0.4536</td>\n      <td>1</td>\n      <td>0.6801</td>\n      <td>0.7795</td>\n      <td>0.8540</td>\n      <td>40100</td>\n      <td>23370</td>\n    </tr>\n    <tr>\n      <th>3</th>\n      <td>University of Alabama in Huntsville</td>\n      <td>Huntsville</td>\n      <td>AL</td>\n      <td>0.0</td>\n      <td>0.0</td>\n      <td>0.0</td>\n      <td>0</td>\n      <td>595.0</td>\n      <td>590.0</td>\n      <td>0.0</td>\n      <td>...</td>\n      <td>0.0172</td>\n      <td>0.0332</td>\n      <td>0.0350</td>\n      <td>0.2146</td>\n      <td>1</td>\n      <td>0.3072</td>\n      <td>0.4596</td>\n      <td>0.2640</td>\n      <td>45500</td>\n      <td>24097</td>\n    </tr>\n    <tr>\n      <th>4</th>\n      <td>Alabama State University</td>\n      <td>Montgomery</td>\n      <td>AL</td>\n      <td>1.0</td>\n      <td>0.0</td>\n      <td>0.0</td>\n      <td>0</td>\n      <td>425.0</td>\n      <td>430.0</td>\n      <td>0.0</td>\n      <td>...</td>\n      <td>0.0098</td>\n      <td>0.0243</td>\n      <td>0.0137</td>\n      <td>0.0892</td>\n      <td>1</td>\n      <td>0.7347</td>\n      <td>0.7554</td>\n      <td>0.1270</td>\n      <td>26600</td>\n      <td>33118.5</td>\n    </tr>\n    <tr>\n      <th>...</th>\n      <td>...</td>\n      <td>...</td>\n      <td>...</td>\n      <td>...</td>\n      <td>...</td>\n      <td>...</td>\n      <td>...</td>\n      <td>...</td>\n      <td>...</td>\n      <td>...</td>\n      <td>...</td>\n      <td>...</td>\n      <td>...</td>\n      <td>...</td>\n      <td>...</td>\n      <td>...</td>\n      <td>...</td>\n      <td>...</td>\n      <td>...</td>\n      <td>...</td>\n      <td>...</td>\n    </tr>\n    <tr>\n      <th>7530</th>\n      <td>SAE Institute of Technology  San Francisco</td>\n      <td>Emeryville</td>\n      <td>CA</td>\n      <td>NaN</td>\n      <td>NaN</td>\n      <td>NaN</td>\n      <td>1</td>\n      <td>NaN</td>\n      <td>NaN</td>\n      <td>NaN</td>\n      <td>...</td>\n      <td>NaN</td>\n      <td>NaN</td>\n      <td>NaN</td>\n      <td>NaN</td>\n      <td>1</td>\n      <td>NaN</td>\n      <td>NaN</td>\n      <td>NaN</td>\n      <td>NaN</td>\n      <td>9500</td>\n    </tr>\n    <tr>\n      <th>7531</th>\n      <td>Rasmussen College - Overland Park</td>\n      <td>Overland Park</td>\n      <td>KS</td>\n      <td>NaN</td>\n      <td>NaN</td>\n      <td>NaN</td>\n      <td>1</td>\n      <td>NaN</td>\n      <td>NaN</td>\n      <td>NaN</td>\n      <td>...</td>\n      <td>NaN</td>\n      <td>NaN</td>\n      <td>NaN</td>\n      <td>NaN</td>\n      <td>1</td>\n      <td>NaN</td>\n      <td>NaN</td>\n      <td>NaN</td>\n      <td>NaN</td>\n      <td>21163</td>\n    </tr>\n    <tr>\n      <th>7532</th>\n      <td>National Personal Training Institute of Cleveland</td>\n      <td>Highland Heights</td>\n      <td>OH</td>\n      <td>NaN</td>\n      <td>NaN</td>\n      <td>NaN</td>\n      <td>1</td>\n      <td>NaN</td>\n      <td>NaN</td>\n      <td>NaN</td>\n      <td>...</td>\n      <td>NaN</td>\n      <td>NaN</td>\n      <td>NaN</td>\n      <td>NaN</td>\n      <td>1</td>\n      <td>NaN</td>\n      <td>NaN</td>\n      <td>NaN</td>\n      <td>NaN</td>\n      <td>6333</td>\n    </tr>\n    <tr>\n      <th>7533</th>\n      <td>Bay Area Medical Academy - San Jose Satellite ...</td>\n      <td>San Jose</td>\n      <td>CA</td>\n      <td>NaN</td>\n      <td>NaN</td>\n      <td>NaN</td>\n      <td>1</td>\n      <td>NaN</td>\n      <td>NaN</td>\n      <td>NaN</td>\n      <td>...</td>\n      <td>NaN</td>\n      <td>NaN</td>\n      <td>NaN</td>\n      <td>NaN</td>\n      <td>1</td>\n      <td>NaN</td>\n      <td>NaN</td>\n      <td>NaN</td>\n      <td>NaN</td>\n      <td>PrivacySuppressed</td>\n    </tr>\n    <tr>\n      <th>7534</th>\n      <td>Excel Learning Center-San Antonio South</td>\n      <td>San Antonio</td>\n      <td>TX</td>\n      <td>NaN</td>\n      <td>NaN</td>\n      <td>NaN</td>\n      <td>1</td>\n      <td>NaN</td>\n      <td>NaN</td>\n      <td>NaN</td>\n      <td>...</td>\n      <td>NaN</td>\n      <td>NaN</td>\n      <td>NaN</td>\n      <td>NaN</td>\n      <td>1</td>\n      <td>NaN</td>\n      <td>NaN</td>\n      <td>NaN</td>\n      <td>NaN</td>\n      <td>12125</td>\n    </tr>\n  </tbody>\n</table>\n<p>7535 rows × 27 columns</p>\n</div>"
     },
     "execution_count": 3,
     "metadata": {},
     "output_type": "execute_result"
    }
   ],
   "source": [
    "college"
   ],
   "metadata": {
    "collapsed": false
   }
  },
  {
   "cell_type": "code",
   "execution_count": 4,
   "outputs": [
    {
     "data": {
      "text/plain": "                    INSTNM         CITY STABBR  HBCU  MENONLY  WOMENONLY  \\\n3649  Career Point College  San Antonio     TX   0.0      0.0        0.0   \n\n      RELAFFIL  SATVRMID  SATMTMID  DISTANCEONLY  ...  UGDS_2MOR  UGDS_NRA  \\\n3649         0       NaN       NaN           0.0  ...        0.0       0.0   \n\n      UGDS_UNKN  PPTUG_EF  CURROPER  PCTPELL  PCTFLOAN  UG25ABV  \\\n3649        0.0       0.0         1   0.9172    0.9172    0.697   \n\n      MD_EARN_WNE_P10  GRAD_DEBT_MDN_SUPP  \n3649            20700               14977  \n\n[1 rows x 27 columns]",
      "text/html": "<div>\n<style scoped>\n    .dataframe tbody tr th:only-of-type {\n        vertical-align: middle;\n    }\n\n    .dataframe tbody tr th {\n        vertical-align: top;\n    }\n\n    .dataframe thead th {\n        text-align: right;\n    }\n</style>\n<table border=\"1\" class=\"dataframe\">\n  <thead>\n    <tr style=\"text-align: right;\">\n      <th></th>\n      <th>INSTNM</th>\n      <th>CITY</th>\n      <th>STABBR</th>\n      <th>HBCU</th>\n      <th>MENONLY</th>\n      <th>WOMENONLY</th>\n      <th>RELAFFIL</th>\n      <th>SATVRMID</th>\n      <th>SATMTMID</th>\n      <th>DISTANCEONLY</th>\n      <th>...</th>\n      <th>UGDS_2MOR</th>\n      <th>UGDS_NRA</th>\n      <th>UGDS_UNKN</th>\n      <th>PPTUG_EF</th>\n      <th>CURROPER</th>\n      <th>PCTPELL</th>\n      <th>PCTFLOAN</th>\n      <th>UG25ABV</th>\n      <th>MD_EARN_WNE_P10</th>\n      <th>GRAD_DEBT_MDN_SUPP</th>\n    </tr>\n  </thead>\n  <tbody>\n    <tr>\n      <th>3649</th>\n      <td>Career Point College</td>\n      <td>San Antonio</td>\n      <td>TX</td>\n      <td>0.0</td>\n      <td>0.0</td>\n      <td>0.0</td>\n      <td>0</td>\n      <td>NaN</td>\n      <td>NaN</td>\n      <td>0.0</td>\n      <td>...</td>\n      <td>0.0</td>\n      <td>0.0</td>\n      <td>0.0</td>\n      <td>0.0</td>\n      <td>1</td>\n      <td>0.9172</td>\n      <td>0.9172</td>\n      <td>0.697</td>\n      <td>20700</td>\n      <td>14977</td>\n    </tr>\n  </tbody>\n</table>\n<p>1 rows × 27 columns</p>\n</div>"
     },
     "execution_count": 4,
     "metadata": {},
     "output_type": "execute_result"
    }
   ],
   "source": [
    "college.sample(random_state=42)"
   ],
   "metadata": {
    "collapsed": false
   }
  },
  {
   "cell_type": "code",
   "execution_count": 5,
   "outputs": [
    {
     "data": {
      "text/plain": "(7535, 27)"
     },
     "execution_count": 5,
     "metadata": {},
     "output_type": "execute_result"
    }
   ],
   "source": [
    "college.shape"
   ],
   "metadata": {
    "collapsed": false
   }
  },
  {
   "cell_type": "code",
   "execution_count": 6,
   "outputs": [
    {
     "name": "stdout",
     "output_type": "stream",
     "text": [
      "<class 'pandas.core.frame.DataFrame'>\n",
      "RangeIndex: 7535 entries, 0 to 7534\n",
      "Data columns (total 27 columns):\n",
      " #   Column              Non-Null Count  Dtype  \n",
      "---  ------              --------------  -----  \n",
      " 0   INSTNM              7535 non-null   object \n",
      " 1   CITY                7535 non-null   object \n",
      " 2   STABBR              7535 non-null   object \n",
      " 3   HBCU                7164 non-null   float64\n",
      " 4   MENONLY             7164 non-null   float64\n",
      " 5   WOMENONLY           7164 non-null   float64\n",
      " 6   RELAFFIL            7535 non-null   int64  \n",
      " 7   SATVRMID            1185 non-null   float64\n",
      " 8   SATMTMID            1196 non-null   float64\n",
      " 9   DISTANCEONLY        7164 non-null   float64\n",
      " 10  UGDS                6874 non-null   float64\n",
      " 11  UGDS_WHITE          6874 non-null   float64\n",
      " 12  UGDS_BLACK          6874 non-null   float64\n",
      " 13  UGDS_HISP           6874 non-null   float64\n",
      " 14  UGDS_ASIAN          6874 non-null   float64\n",
      " 15  UGDS_AIAN           6874 non-null   float64\n",
      " 16  UGDS_NHPI           6874 non-null   float64\n",
      " 17  UGDS_2MOR           6874 non-null   float64\n",
      " 18  UGDS_NRA            6874 non-null   float64\n",
      " 19  UGDS_UNKN           6874 non-null   float64\n",
      " 20  PPTUG_EF            6853 non-null   float64\n",
      " 21  CURROPER            7535 non-null   int64  \n",
      " 22  PCTPELL             6849 non-null   float64\n",
      " 23  PCTFLOAN            6849 non-null   float64\n",
      " 24  UG25ABV             6718 non-null   float64\n",
      " 25  MD_EARN_WNE_P10     6413 non-null   object \n",
      " 26  GRAD_DEBT_MDN_SUPP  7503 non-null   object \n",
      "dtypes: float64(20), int64(2), object(5)\n",
      "memory usage: 1.6+ MB\n"
     ]
    }
   ],
   "source": [
    "college.info()"
   ],
   "metadata": {
    "collapsed": false
   }
  },
  {
   "cell_type": "code",
   "execution_count": 7,
   "outputs": [
    {
     "data": {
      "text/plain": "               count         mean          std    min         25%        50%  \\\nHBCU          7164.0     0.014238     0.118478    0.0    0.000000    0.00000   \nMENONLY       7164.0     0.009213     0.095546    0.0    0.000000    0.00000   \nWOMENONLY     7164.0     0.005304     0.072642    0.0    0.000000    0.00000   \nRELAFFIL      7535.0     0.190975     0.393096    0.0    0.000000    0.00000   \nSATVRMID      1185.0   522.819409    68.578862  290.0  475.000000  510.00000   \nSATMTMID      1196.0   530.765050    73.469767  310.0  482.000000  520.00000   \nDISTANCEONLY  7164.0     0.005583     0.074519    0.0    0.000000    0.00000   \nUGDS          6874.0  2356.837940  5474.275871    0.0  117.000000  412.50000   \nUGDS_WHITE    6874.0     0.510207     0.286958    0.0    0.267500    0.55570   \nUGDS_BLACK    6874.0     0.189997     0.224587    0.0    0.036125    0.10005   \nUGDS_HISP     6874.0     0.161635     0.221854    0.0    0.027600    0.07140   \nUGDS_ASIAN    6874.0     0.033544     0.073777    0.0    0.002500    0.01290   \nUGDS_AIAN     6874.0     0.013813     0.070196    0.0    0.000000    0.00260   \nUGDS_NHPI     6874.0     0.004569     0.033125    0.0    0.000000    0.00000   \nUGDS_2MOR     6874.0     0.023950     0.031288    0.0    0.000000    0.01750   \nUGDS_NRA      6874.0     0.016086     0.050172    0.0    0.000000    0.00000   \nUGDS_UNKN     6874.0     0.045181     0.093440    0.0    0.000000    0.01430   \nPPTUG_EF      6853.0     0.226639     0.246470    0.0    0.000000    0.15040   \nCURROPER      7535.0     0.923291     0.266146    0.0    1.000000    1.00000   \nPCTPELL       6849.0     0.530643     0.225544    0.0    0.357800    0.52150   \nPCTFLOAN      6849.0     0.522211     0.283616    0.0    0.332900    0.58330   \nUG25ABV       6718.0     0.410021     0.228939    0.0    0.241500    0.40075   \n\n                      75%          max  \nHBCU             0.000000       1.0000  \nMENONLY          0.000000       1.0000  \nWOMENONLY        0.000000       1.0000  \nRELAFFIL         0.000000       1.0000  \nSATVRMID       555.000000     765.0000  \nSATMTMID       565.000000     785.0000  \nDISTANCEONLY     0.000000       1.0000  \nUGDS          1929.500000  151558.0000  \nUGDS_WHITE       0.747875       1.0000  \nUGDS_BLACK       0.257700       1.0000  \nUGDS_HISP        0.198875       1.0000  \nUGDS_ASIAN       0.032700       0.9727  \nUGDS_AIAN        0.007300       1.0000  \nUGDS_NHPI        0.002500       0.9983  \nUGDS_2MOR        0.033900       0.5333  \nUGDS_NRA         0.011700       0.9286  \nUGDS_UNKN        0.045400       0.9027  \nPPTUG_EF         0.376900       1.0000  \nCURROPER         1.000000       1.0000  \nPCTPELL          0.712900       1.0000  \nPCTFLOAN         0.745000       1.0000  \nUG25ABV          0.572275       1.0000  ",
      "text/html": "<div>\n<style scoped>\n    .dataframe tbody tr th:only-of-type {\n        vertical-align: middle;\n    }\n\n    .dataframe tbody tr th {\n        vertical-align: top;\n    }\n\n    .dataframe thead th {\n        text-align: right;\n    }\n</style>\n<table border=\"1\" class=\"dataframe\">\n  <thead>\n    <tr style=\"text-align: right;\">\n      <th></th>\n      <th>count</th>\n      <th>mean</th>\n      <th>std</th>\n      <th>min</th>\n      <th>25%</th>\n      <th>50%</th>\n      <th>75%</th>\n      <th>max</th>\n    </tr>\n  </thead>\n  <tbody>\n    <tr>\n      <th>HBCU</th>\n      <td>7164.0</td>\n      <td>0.014238</td>\n      <td>0.118478</td>\n      <td>0.0</td>\n      <td>0.000000</td>\n      <td>0.00000</td>\n      <td>0.000000</td>\n      <td>1.0000</td>\n    </tr>\n    <tr>\n      <th>MENONLY</th>\n      <td>7164.0</td>\n      <td>0.009213</td>\n      <td>0.095546</td>\n      <td>0.0</td>\n      <td>0.000000</td>\n      <td>0.00000</td>\n      <td>0.000000</td>\n      <td>1.0000</td>\n    </tr>\n    <tr>\n      <th>WOMENONLY</th>\n      <td>7164.0</td>\n      <td>0.005304</td>\n      <td>0.072642</td>\n      <td>0.0</td>\n      <td>0.000000</td>\n      <td>0.00000</td>\n      <td>0.000000</td>\n      <td>1.0000</td>\n    </tr>\n    <tr>\n      <th>RELAFFIL</th>\n      <td>7535.0</td>\n      <td>0.190975</td>\n      <td>0.393096</td>\n      <td>0.0</td>\n      <td>0.000000</td>\n      <td>0.00000</td>\n      <td>0.000000</td>\n      <td>1.0000</td>\n    </tr>\n    <tr>\n      <th>SATVRMID</th>\n      <td>1185.0</td>\n      <td>522.819409</td>\n      <td>68.578862</td>\n      <td>290.0</td>\n      <td>475.000000</td>\n      <td>510.00000</td>\n      <td>555.000000</td>\n      <td>765.0000</td>\n    </tr>\n    <tr>\n      <th>SATMTMID</th>\n      <td>1196.0</td>\n      <td>530.765050</td>\n      <td>73.469767</td>\n      <td>310.0</td>\n      <td>482.000000</td>\n      <td>520.00000</td>\n      <td>565.000000</td>\n      <td>785.0000</td>\n    </tr>\n    <tr>\n      <th>DISTANCEONLY</th>\n      <td>7164.0</td>\n      <td>0.005583</td>\n      <td>0.074519</td>\n      <td>0.0</td>\n      <td>0.000000</td>\n      <td>0.00000</td>\n      <td>0.000000</td>\n      <td>1.0000</td>\n    </tr>\n    <tr>\n      <th>UGDS</th>\n      <td>6874.0</td>\n      <td>2356.837940</td>\n      <td>5474.275871</td>\n      <td>0.0</td>\n      <td>117.000000</td>\n      <td>412.50000</td>\n      <td>1929.500000</td>\n      <td>151558.0000</td>\n    </tr>\n    <tr>\n      <th>UGDS_WHITE</th>\n      <td>6874.0</td>\n      <td>0.510207</td>\n      <td>0.286958</td>\n      <td>0.0</td>\n      <td>0.267500</td>\n      <td>0.55570</td>\n      <td>0.747875</td>\n      <td>1.0000</td>\n    </tr>\n    <tr>\n      <th>UGDS_BLACK</th>\n      <td>6874.0</td>\n      <td>0.189997</td>\n      <td>0.224587</td>\n      <td>0.0</td>\n      <td>0.036125</td>\n      <td>0.10005</td>\n      <td>0.257700</td>\n      <td>1.0000</td>\n    </tr>\n    <tr>\n      <th>UGDS_HISP</th>\n      <td>6874.0</td>\n      <td>0.161635</td>\n      <td>0.221854</td>\n      <td>0.0</td>\n      <td>0.027600</td>\n      <td>0.07140</td>\n      <td>0.198875</td>\n      <td>1.0000</td>\n    </tr>\n    <tr>\n      <th>UGDS_ASIAN</th>\n      <td>6874.0</td>\n      <td>0.033544</td>\n      <td>0.073777</td>\n      <td>0.0</td>\n      <td>0.002500</td>\n      <td>0.01290</td>\n      <td>0.032700</td>\n      <td>0.9727</td>\n    </tr>\n    <tr>\n      <th>UGDS_AIAN</th>\n      <td>6874.0</td>\n      <td>0.013813</td>\n      <td>0.070196</td>\n      <td>0.0</td>\n      <td>0.000000</td>\n      <td>0.00260</td>\n      <td>0.007300</td>\n      <td>1.0000</td>\n    </tr>\n    <tr>\n      <th>UGDS_NHPI</th>\n      <td>6874.0</td>\n      <td>0.004569</td>\n      <td>0.033125</td>\n      <td>0.0</td>\n      <td>0.000000</td>\n      <td>0.00000</td>\n      <td>0.002500</td>\n      <td>0.9983</td>\n    </tr>\n    <tr>\n      <th>UGDS_2MOR</th>\n      <td>6874.0</td>\n      <td>0.023950</td>\n      <td>0.031288</td>\n      <td>0.0</td>\n      <td>0.000000</td>\n      <td>0.01750</td>\n      <td>0.033900</td>\n      <td>0.5333</td>\n    </tr>\n    <tr>\n      <th>UGDS_NRA</th>\n      <td>6874.0</td>\n      <td>0.016086</td>\n      <td>0.050172</td>\n      <td>0.0</td>\n      <td>0.000000</td>\n      <td>0.00000</td>\n      <td>0.011700</td>\n      <td>0.9286</td>\n    </tr>\n    <tr>\n      <th>UGDS_UNKN</th>\n      <td>6874.0</td>\n      <td>0.045181</td>\n      <td>0.093440</td>\n      <td>0.0</td>\n      <td>0.000000</td>\n      <td>0.01430</td>\n      <td>0.045400</td>\n      <td>0.9027</td>\n    </tr>\n    <tr>\n      <th>PPTUG_EF</th>\n      <td>6853.0</td>\n      <td>0.226639</td>\n      <td>0.246470</td>\n      <td>0.0</td>\n      <td>0.000000</td>\n      <td>0.15040</td>\n      <td>0.376900</td>\n      <td>1.0000</td>\n    </tr>\n    <tr>\n      <th>CURROPER</th>\n      <td>7535.0</td>\n      <td>0.923291</td>\n      <td>0.266146</td>\n      <td>0.0</td>\n      <td>1.000000</td>\n      <td>1.00000</td>\n      <td>1.000000</td>\n      <td>1.0000</td>\n    </tr>\n    <tr>\n      <th>PCTPELL</th>\n      <td>6849.0</td>\n      <td>0.530643</td>\n      <td>0.225544</td>\n      <td>0.0</td>\n      <td>0.357800</td>\n      <td>0.52150</td>\n      <td>0.712900</td>\n      <td>1.0000</td>\n    </tr>\n    <tr>\n      <th>PCTFLOAN</th>\n      <td>6849.0</td>\n      <td>0.522211</td>\n      <td>0.283616</td>\n      <td>0.0</td>\n      <td>0.332900</td>\n      <td>0.58330</td>\n      <td>0.745000</td>\n      <td>1.0000</td>\n    </tr>\n    <tr>\n      <th>UG25ABV</th>\n      <td>6718.0</td>\n      <td>0.410021</td>\n      <td>0.228939</td>\n      <td>0.0</td>\n      <td>0.241500</td>\n      <td>0.40075</td>\n      <td>0.572275</td>\n      <td>1.0000</td>\n    </tr>\n  </tbody>\n</table>\n</div>"
     },
     "execution_count": 7,
     "metadata": {},
     "output_type": "execute_result"
    }
   ],
   "source": [
    "college.describe(include=[np.number]).T"
   ],
   "metadata": {
    "collapsed": false
   }
  },
  {
   "cell_type": "code",
   "execution_count": 8,
   "outputs": [
    {
     "name": "stderr",
     "output_type": "stream",
     "text": [
      "/var/folders/j_/hylrqd052y9czkfmjyyc7n7r0000gn/T/ipykernel_10202/1328927950.py:1: DeprecationWarning: `np.object` is a deprecated alias for the builtin `object`. To silence this warning, use `object` by itself. Doing this will not modify any behavior and is safe. \n",
      "Deprecated in NumPy 1.20; for more details and guidance: https://numpy.org/devdocs/release/1.20.0-notes.html#deprecations\n",
      "  college.describe(include=[np.object]).T\n"
     ]
    },
    {
     "data": {
      "text/plain": "                   count unique                       top  freq\nINSTNM              7535   7535  Alabama A & M University     1\nCITY                7535   2514                  New York    87\nSTABBR              7535     59                        CA   773\nMD_EARN_WNE_P10     6413    598         PrivacySuppressed   822\nGRAD_DEBT_MDN_SUPP  7503   2038         PrivacySuppressed  1510",
      "text/html": "<div>\n<style scoped>\n    .dataframe tbody tr th:only-of-type {\n        vertical-align: middle;\n    }\n\n    .dataframe tbody tr th {\n        vertical-align: top;\n    }\n\n    .dataframe thead th {\n        text-align: right;\n    }\n</style>\n<table border=\"1\" class=\"dataframe\">\n  <thead>\n    <tr style=\"text-align: right;\">\n      <th></th>\n      <th>count</th>\n      <th>unique</th>\n      <th>top</th>\n      <th>freq</th>\n    </tr>\n  </thead>\n  <tbody>\n    <tr>\n      <th>INSTNM</th>\n      <td>7535</td>\n      <td>7535</td>\n      <td>Alabama A &amp; M University</td>\n      <td>1</td>\n    </tr>\n    <tr>\n      <th>CITY</th>\n      <td>7535</td>\n      <td>2514</td>\n      <td>New York</td>\n      <td>87</td>\n    </tr>\n    <tr>\n      <th>STABBR</th>\n      <td>7535</td>\n      <td>59</td>\n      <td>CA</td>\n      <td>773</td>\n    </tr>\n    <tr>\n      <th>MD_EARN_WNE_P10</th>\n      <td>6413</td>\n      <td>598</td>\n      <td>PrivacySuppressed</td>\n      <td>822</td>\n    </tr>\n    <tr>\n      <th>GRAD_DEBT_MDN_SUPP</th>\n      <td>7503</td>\n      <td>2038</td>\n      <td>PrivacySuppressed</td>\n      <td>1510</td>\n    </tr>\n  </tbody>\n</table>\n</div>"
     },
     "execution_count": 8,
     "metadata": {},
     "output_type": "execute_result"
    }
   ],
   "source": [
    "college.describe(include=[np.object]).T"
   ],
   "metadata": {
    "collapsed": false
   }
  },
  {
   "cell_type": "code",
   "execution_count": 10,
   "outputs": [
    {
     "data": {
      "text/plain": "               count         mean          std    min          1%          5%  \\\nHBCU          7164.0     0.014238     0.118478    0.0    0.000000    0.000000   \nMENONLY       7164.0     0.009213     0.095546    0.0    0.000000    0.000000   \nWOMENONLY     7164.0     0.005304     0.072642    0.0    0.000000    0.000000   \nRELAFFIL      7535.0     0.190975     0.393096    0.0    0.000000    0.000000   \nSATVRMID      1185.0   522.819409    68.578862  290.0  390.000000  430.000000   \nSATMTMID      1196.0   530.765050    73.469767  310.0  395.000000  430.000000   \nDISTANCEONLY  7164.0     0.005583     0.074519    0.0    0.000000    0.000000   \nUGDS          6874.0  2356.837940  5474.275871    0.0   14.000000   31.650000   \nUGDS_WHITE    6874.0     0.510207     0.286958    0.0    0.000000    0.013265   \nUGDS_BLACK    6874.0     0.189997     0.224587    0.0    0.000000    0.000000   \nUGDS_HISP     6874.0     0.161635     0.221854    0.0    0.000000    0.000000   \nUGDS_ASIAN    6874.0     0.033544     0.073777    0.0    0.000000    0.000000   \nUGDS_AIAN     6874.0     0.013813     0.070196    0.0    0.000000    0.000000   \nUGDS_NHPI     6874.0     0.004569     0.033125    0.0    0.000000    0.000000   \nUGDS_2MOR     6874.0     0.023950     0.031288    0.0    0.000000    0.000000   \nUGDS_NRA      6874.0     0.016086     0.050172    0.0    0.000000    0.000000   \nUGDS_UNKN     6874.0     0.045181     0.093440    0.0    0.000000    0.000000   \nPPTUG_EF      6853.0     0.226639     0.246470    0.0    0.000000    0.000000   \nCURROPER      7535.0     0.923291     0.266146    0.0    0.000000    0.000000   \nPCTPELL       6849.0     0.530643     0.225544    0.0    0.054976    0.170000   \nPCTFLOAN      6849.0     0.522211     0.283616    0.0    0.000000    0.000000   \nUG25ABV       6718.0     0.410021     0.228939    0.0    0.002500    0.037400   \n\n                    10%         25%        50%          75%         90%  \\\nHBCU            0.00000    0.000000    0.00000     0.000000     0.00000   \nMENONLY         0.00000    0.000000    0.00000     0.000000     0.00000   \nWOMENONLY       0.00000    0.000000    0.00000     0.000000     0.00000   \nRELAFFIL        0.00000    0.000000    0.00000     0.000000     1.00000   \nSATVRMID      447.40000  475.000000  510.00000   555.000000   605.00000   \nSATMTMID      453.00000  482.000000  520.00000   565.000000   630.00000   \nDISTANCEONLY    0.00000    0.000000    0.00000     0.000000     0.00000   \nUGDS           49.00000  117.000000  412.50000  1929.500000  6512.30000   \nUGDS_WHITE      0.06879    0.267500    0.55570     0.747875     0.86297   \nUGDS_BLACK      0.00753    0.036125    0.10005     0.257700     0.51571   \nUGDS_HISP       0.00573    0.027600    0.07140     0.198875     0.44314   \nUGDS_ASIAN      0.00000    0.002500    0.01290     0.032700     0.07840   \nUGDS_AIAN       0.00000    0.000000    0.00260     0.007300     0.01837   \nUGDS_NHPI       0.00000    0.000000    0.00000     0.002500     0.00800   \nUGDS_2MOR       0.00000    0.000000    0.01750     0.033900     0.05651   \nUGDS_NRA        0.00000    0.000000    0.00000     0.011700     0.04250   \nUGDS_UNKN       0.00000    0.000000    0.01430     0.045400     0.10801   \nPPTUG_EF        0.00000    0.000000    0.15040     0.376900     0.60410   \nCURROPER        1.00000    1.000000    1.00000     1.000000     1.00000   \nPCTPELL         0.23656    0.357800    0.52150     0.712900     0.83330   \nPCTFLOAN        0.00000    0.332900    0.58330     0.745000     0.84752   \nUG25ABV         0.08990    0.241500    0.40075     0.572275     0.72666   \n\n                       95%           99%          max  \nHBCU              0.000000      1.000000       1.0000  \nMENONLY           0.000000      0.000000       1.0000  \nWOMENONLY         0.000000      0.000000       1.0000  \nRELAFFIL          1.000000      1.000000       1.0000  \nSATVRMID        665.000000    730.000000     765.0000  \nSATMTMID        685.000000    745.250000     785.0000  \nDISTANCEONLY      0.000000      0.000000       1.0000  \nUGDS          11858.050000  26015.290000  151558.0000  \nUGDS_WHITE        0.927315      1.000000       1.0000  \nUGDS_BLACK        0.726715      0.961467       1.0000  \nUGDS_HISP         0.666700      1.000000       1.0000  \nUGDS_ASIAN        0.131775      0.346429       0.9727  \nUGDS_AIAN         0.036410      0.209326       1.0000  \nUGDS_NHPI         0.015200      0.050508       0.9983  \nUGDS_2MOR         0.076900      0.133154       0.5333  \nUGDS_NRA          0.078135      0.236989       0.9286  \nUGDS_UNKN         0.200575      0.496581       0.9027  \nPPTUG_EF          0.710620      0.946724       1.0000  \nCURROPER          1.000000      1.000000       1.0000  \nPCTPELL           0.896360      0.993908       1.0000  \nPCTFLOAN          0.897920      0.986368       1.0000  \nUG25ABV           0.800000      0.917383       1.0000  ",
      "text/html": "<div>\n<style scoped>\n    .dataframe tbody tr th:only-of-type {\n        vertical-align: middle;\n    }\n\n    .dataframe tbody tr th {\n        vertical-align: top;\n    }\n\n    .dataframe thead th {\n        text-align: right;\n    }\n</style>\n<table border=\"1\" class=\"dataframe\">\n  <thead>\n    <tr style=\"text-align: right;\">\n      <th></th>\n      <th>count</th>\n      <th>mean</th>\n      <th>std</th>\n      <th>min</th>\n      <th>1%</th>\n      <th>5%</th>\n      <th>10%</th>\n      <th>25%</th>\n      <th>50%</th>\n      <th>75%</th>\n      <th>90%</th>\n      <th>95%</th>\n      <th>99%</th>\n      <th>max</th>\n    </tr>\n  </thead>\n  <tbody>\n    <tr>\n      <th>HBCU</th>\n      <td>7164.0</td>\n      <td>0.014238</td>\n      <td>0.118478</td>\n      <td>0.0</td>\n      <td>0.000000</td>\n      <td>0.000000</td>\n      <td>0.00000</td>\n      <td>0.000000</td>\n      <td>0.00000</td>\n      <td>0.000000</td>\n      <td>0.00000</td>\n      <td>0.000000</td>\n      <td>1.000000</td>\n      <td>1.0000</td>\n    </tr>\n    <tr>\n      <th>MENONLY</th>\n      <td>7164.0</td>\n      <td>0.009213</td>\n      <td>0.095546</td>\n      <td>0.0</td>\n      <td>0.000000</td>\n      <td>0.000000</td>\n      <td>0.00000</td>\n      <td>0.000000</td>\n      <td>0.00000</td>\n      <td>0.000000</td>\n      <td>0.00000</td>\n      <td>0.000000</td>\n      <td>0.000000</td>\n      <td>1.0000</td>\n    </tr>\n    <tr>\n      <th>WOMENONLY</th>\n      <td>7164.0</td>\n      <td>0.005304</td>\n      <td>0.072642</td>\n      <td>0.0</td>\n      <td>0.000000</td>\n      <td>0.000000</td>\n      <td>0.00000</td>\n      <td>0.000000</td>\n      <td>0.00000</td>\n      <td>0.000000</td>\n      <td>0.00000</td>\n      <td>0.000000</td>\n      <td>0.000000</td>\n      <td>1.0000</td>\n    </tr>\n    <tr>\n      <th>RELAFFIL</th>\n      <td>7535.0</td>\n      <td>0.190975</td>\n      <td>0.393096</td>\n      <td>0.0</td>\n      <td>0.000000</td>\n      <td>0.000000</td>\n      <td>0.00000</td>\n      <td>0.000000</td>\n      <td>0.00000</td>\n      <td>0.000000</td>\n      <td>1.00000</td>\n      <td>1.000000</td>\n      <td>1.000000</td>\n      <td>1.0000</td>\n    </tr>\n    <tr>\n      <th>SATVRMID</th>\n      <td>1185.0</td>\n      <td>522.819409</td>\n      <td>68.578862</td>\n      <td>290.0</td>\n      <td>390.000000</td>\n      <td>430.000000</td>\n      <td>447.40000</td>\n      <td>475.000000</td>\n      <td>510.00000</td>\n      <td>555.000000</td>\n      <td>605.00000</td>\n      <td>665.000000</td>\n      <td>730.000000</td>\n      <td>765.0000</td>\n    </tr>\n    <tr>\n      <th>SATMTMID</th>\n      <td>1196.0</td>\n      <td>530.765050</td>\n      <td>73.469767</td>\n      <td>310.0</td>\n      <td>395.000000</td>\n      <td>430.000000</td>\n      <td>453.00000</td>\n      <td>482.000000</td>\n      <td>520.00000</td>\n      <td>565.000000</td>\n      <td>630.00000</td>\n      <td>685.000000</td>\n      <td>745.250000</td>\n      <td>785.0000</td>\n    </tr>\n    <tr>\n      <th>DISTANCEONLY</th>\n      <td>7164.0</td>\n      <td>0.005583</td>\n      <td>0.074519</td>\n      <td>0.0</td>\n      <td>0.000000</td>\n      <td>0.000000</td>\n      <td>0.00000</td>\n      <td>0.000000</td>\n      <td>0.00000</td>\n      <td>0.000000</td>\n      <td>0.00000</td>\n      <td>0.000000</td>\n      <td>0.000000</td>\n      <td>1.0000</td>\n    </tr>\n    <tr>\n      <th>UGDS</th>\n      <td>6874.0</td>\n      <td>2356.837940</td>\n      <td>5474.275871</td>\n      <td>0.0</td>\n      <td>14.000000</td>\n      <td>31.650000</td>\n      <td>49.00000</td>\n      <td>117.000000</td>\n      <td>412.50000</td>\n      <td>1929.500000</td>\n      <td>6512.30000</td>\n      <td>11858.050000</td>\n      <td>26015.290000</td>\n      <td>151558.0000</td>\n    </tr>\n    <tr>\n      <th>UGDS_WHITE</th>\n      <td>6874.0</td>\n      <td>0.510207</td>\n      <td>0.286958</td>\n      <td>0.0</td>\n      <td>0.000000</td>\n      <td>0.013265</td>\n      <td>0.06879</td>\n      <td>0.267500</td>\n      <td>0.55570</td>\n      <td>0.747875</td>\n      <td>0.86297</td>\n      <td>0.927315</td>\n      <td>1.000000</td>\n      <td>1.0000</td>\n    </tr>\n    <tr>\n      <th>UGDS_BLACK</th>\n      <td>6874.0</td>\n      <td>0.189997</td>\n      <td>0.224587</td>\n      <td>0.0</td>\n      <td>0.000000</td>\n      <td>0.000000</td>\n      <td>0.00753</td>\n      <td>0.036125</td>\n      <td>0.10005</td>\n      <td>0.257700</td>\n      <td>0.51571</td>\n      <td>0.726715</td>\n      <td>0.961467</td>\n      <td>1.0000</td>\n    </tr>\n    <tr>\n      <th>UGDS_HISP</th>\n      <td>6874.0</td>\n      <td>0.161635</td>\n      <td>0.221854</td>\n      <td>0.0</td>\n      <td>0.000000</td>\n      <td>0.000000</td>\n      <td>0.00573</td>\n      <td>0.027600</td>\n      <td>0.07140</td>\n      <td>0.198875</td>\n      <td>0.44314</td>\n      <td>0.666700</td>\n      <td>1.000000</td>\n      <td>1.0000</td>\n    </tr>\n    <tr>\n      <th>UGDS_ASIAN</th>\n      <td>6874.0</td>\n      <td>0.033544</td>\n      <td>0.073777</td>\n      <td>0.0</td>\n      <td>0.000000</td>\n      <td>0.000000</td>\n      <td>0.00000</td>\n      <td>0.002500</td>\n      <td>0.01290</td>\n      <td>0.032700</td>\n      <td>0.07840</td>\n      <td>0.131775</td>\n      <td>0.346429</td>\n      <td>0.9727</td>\n    </tr>\n    <tr>\n      <th>UGDS_AIAN</th>\n      <td>6874.0</td>\n      <td>0.013813</td>\n      <td>0.070196</td>\n      <td>0.0</td>\n      <td>0.000000</td>\n      <td>0.000000</td>\n      <td>0.00000</td>\n      <td>0.000000</td>\n      <td>0.00260</td>\n      <td>0.007300</td>\n      <td>0.01837</td>\n      <td>0.036410</td>\n      <td>0.209326</td>\n      <td>1.0000</td>\n    </tr>\n    <tr>\n      <th>UGDS_NHPI</th>\n      <td>6874.0</td>\n      <td>0.004569</td>\n      <td>0.033125</td>\n      <td>0.0</td>\n      <td>0.000000</td>\n      <td>0.000000</td>\n      <td>0.00000</td>\n      <td>0.000000</td>\n      <td>0.00000</td>\n      <td>0.002500</td>\n      <td>0.00800</td>\n      <td>0.015200</td>\n      <td>0.050508</td>\n      <td>0.9983</td>\n    </tr>\n    <tr>\n      <th>UGDS_2MOR</th>\n      <td>6874.0</td>\n      <td>0.023950</td>\n      <td>0.031288</td>\n      <td>0.0</td>\n      <td>0.000000</td>\n      <td>0.000000</td>\n      <td>0.00000</td>\n      <td>0.000000</td>\n      <td>0.01750</td>\n      <td>0.033900</td>\n      <td>0.05651</td>\n      <td>0.076900</td>\n      <td>0.133154</td>\n      <td>0.5333</td>\n    </tr>\n    <tr>\n      <th>UGDS_NRA</th>\n      <td>6874.0</td>\n      <td>0.016086</td>\n      <td>0.050172</td>\n      <td>0.0</td>\n      <td>0.000000</td>\n      <td>0.000000</td>\n      <td>0.00000</td>\n      <td>0.000000</td>\n      <td>0.00000</td>\n      <td>0.011700</td>\n      <td>0.04250</td>\n      <td>0.078135</td>\n      <td>0.236989</td>\n      <td>0.9286</td>\n    </tr>\n    <tr>\n      <th>UGDS_UNKN</th>\n      <td>6874.0</td>\n      <td>0.045181</td>\n      <td>0.093440</td>\n      <td>0.0</td>\n      <td>0.000000</td>\n      <td>0.000000</td>\n      <td>0.00000</td>\n      <td>0.000000</td>\n      <td>0.01430</td>\n      <td>0.045400</td>\n      <td>0.10801</td>\n      <td>0.200575</td>\n      <td>0.496581</td>\n      <td>0.9027</td>\n    </tr>\n    <tr>\n      <th>PPTUG_EF</th>\n      <td>6853.0</td>\n      <td>0.226639</td>\n      <td>0.246470</td>\n      <td>0.0</td>\n      <td>0.000000</td>\n      <td>0.000000</td>\n      <td>0.00000</td>\n      <td>0.000000</td>\n      <td>0.15040</td>\n      <td>0.376900</td>\n      <td>0.60410</td>\n      <td>0.710620</td>\n      <td>0.946724</td>\n      <td>1.0000</td>\n    </tr>\n    <tr>\n      <th>CURROPER</th>\n      <td>7535.0</td>\n      <td>0.923291</td>\n      <td>0.266146</td>\n      <td>0.0</td>\n      <td>0.000000</td>\n      <td>0.000000</td>\n      <td>1.00000</td>\n      <td>1.000000</td>\n      <td>1.00000</td>\n      <td>1.000000</td>\n      <td>1.00000</td>\n      <td>1.000000</td>\n      <td>1.000000</td>\n      <td>1.0000</td>\n    </tr>\n    <tr>\n      <th>PCTPELL</th>\n      <td>6849.0</td>\n      <td>0.530643</td>\n      <td>0.225544</td>\n      <td>0.0</td>\n      <td>0.054976</td>\n      <td>0.170000</td>\n      <td>0.23656</td>\n      <td>0.357800</td>\n      <td>0.52150</td>\n      <td>0.712900</td>\n      <td>0.83330</td>\n      <td>0.896360</td>\n      <td>0.993908</td>\n      <td>1.0000</td>\n    </tr>\n    <tr>\n      <th>PCTFLOAN</th>\n      <td>6849.0</td>\n      <td>0.522211</td>\n      <td>0.283616</td>\n      <td>0.0</td>\n      <td>0.000000</td>\n      <td>0.000000</td>\n      <td>0.00000</td>\n      <td>0.332900</td>\n      <td>0.58330</td>\n      <td>0.745000</td>\n      <td>0.84752</td>\n      <td>0.897920</td>\n      <td>0.986368</td>\n      <td>1.0000</td>\n    </tr>\n    <tr>\n      <th>UG25ABV</th>\n      <td>6718.0</td>\n      <td>0.410021</td>\n      <td>0.228939</td>\n      <td>0.0</td>\n      <td>0.002500</td>\n      <td>0.037400</td>\n      <td>0.08990</td>\n      <td>0.241500</td>\n      <td>0.40075</td>\n      <td>0.572275</td>\n      <td>0.72666</td>\n      <td>0.800000</td>\n      <td>0.917383</td>\n      <td>1.0000</td>\n    </tr>\n  </tbody>\n</table>\n</div>"
     },
     "execution_count": 10,
     "metadata": {},
     "output_type": "execute_result"
    }
   ],
   "source": [
    "college.describe(\n",
    "    include=[np.number],\n",
    "    percentiles=[\n",
    "        0.01,\n",
    "        0.05,\n",
    "        0.10,\n",
    "        0.25,\n",
    "        0.5,\n",
    "        0.75,\n",
    "        0.9,\n",
    "        0.95,\n",
    "        0.99\n",
    "    ]\n",
    ").T"
   ],
   "metadata": {
    "collapsed": false
   }
  },
  {
   "cell_type": "markdown",
   "source": [
    "데이터 딕셔너리"
   ],
   "metadata": {
    "collapsed": false
   }
  },
  {
   "cell_type": "code",
   "execution_count": 11,
   "outputs": [
    {
     "data": {
      "text/plain": "           column_name                                        description\n0               INSTNM                                   Institution Name\n1                 CITY                                      City Location\n2               STABBR                                 State Abbreviation\n3                 HBCU           Historically Black College or University\n4              MENONLY                                       0/1 Men Only\n5            WOMENONLY                                     0/1 Women only\n6             RELAFFIL                          0/1 Religious Affiliation\n7             SATVRMID                                  SAT Verbal Median\n8             SATMTMID                                    SAT Math Median\n9         DISTANCEONLY                            Distance Education Only\n10                UGDS                           Undergraduate Enrollment\n11          UGDS_WHITE                            Percent Undergrad White\n12          UGDS_BLACK                            Percent Undergrad Black\n13           UGDS_HISP                         Percent Undergrad Hispanic\n14          UGDS_ASIAN                            Percent Undergrad Asian\n15           UGDS_AIAN   Percent Undergrad American Indian/Alaskan Native\n16           UGDS_NHPI  Percent Undergrad Native Hawaiian/Pacific Isla...\n17           UGDS_2MOR                  Percent Undergrad 2 or more races\n18            UGDS_NRA              Percent Undergrad non-resident aliens\n19           UGDS_UNKN                     Percent Undergrad race unknown\n20            PPTUG_EF                         Percent Students part-time\n21            CURROPER                            0/1 Currently Operating\n22             PCTPELL                   Percent Students with Pell grant\n23            PCTFLOAN                 Percent Students with federal loan\n24             UG25ABV                     Percent Students Older than 25\n25     MD_EARN_WNE_P10          Median Earnings 10 years after enrollment\n26  GRAD_DEBT_MDN_SUPP                          Median debt of completers",
      "text/html": "<div>\n<style scoped>\n    .dataframe tbody tr th:only-of-type {\n        vertical-align: middle;\n    }\n\n    .dataframe tbody tr th {\n        vertical-align: top;\n    }\n\n    .dataframe thead th {\n        text-align: right;\n    }\n</style>\n<table border=\"1\" class=\"dataframe\">\n  <thead>\n    <tr style=\"text-align: right;\">\n      <th></th>\n      <th>column_name</th>\n      <th>description</th>\n    </tr>\n  </thead>\n  <tbody>\n    <tr>\n      <th>0</th>\n      <td>INSTNM</td>\n      <td>Institution Name</td>\n    </tr>\n    <tr>\n      <th>1</th>\n      <td>CITY</td>\n      <td>City Location</td>\n    </tr>\n    <tr>\n      <th>2</th>\n      <td>STABBR</td>\n      <td>State Abbreviation</td>\n    </tr>\n    <tr>\n      <th>3</th>\n      <td>HBCU</td>\n      <td>Historically Black College or University</td>\n    </tr>\n    <tr>\n      <th>4</th>\n      <td>MENONLY</td>\n      <td>0/1 Men Only</td>\n    </tr>\n    <tr>\n      <th>5</th>\n      <td>WOMENONLY</td>\n      <td>0/1 Women only</td>\n    </tr>\n    <tr>\n      <th>6</th>\n      <td>RELAFFIL</td>\n      <td>0/1 Religious Affiliation</td>\n    </tr>\n    <tr>\n      <th>7</th>\n      <td>SATVRMID</td>\n      <td>SAT Verbal Median</td>\n    </tr>\n    <tr>\n      <th>8</th>\n      <td>SATMTMID</td>\n      <td>SAT Math Median</td>\n    </tr>\n    <tr>\n      <th>9</th>\n      <td>DISTANCEONLY</td>\n      <td>Distance Education Only</td>\n    </tr>\n    <tr>\n      <th>10</th>\n      <td>UGDS</td>\n      <td>Undergraduate Enrollment</td>\n    </tr>\n    <tr>\n      <th>11</th>\n      <td>UGDS_WHITE</td>\n      <td>Percent Undergrad White</td>\n    </tr>\n    <tr>\n      <th>12</th>\n      <td>UGDS_BLACK</td>\n      <td>Percent Undergrad Black</td>\n    </tr>\n    <tr>\n      <th>13</th>\n      <td>UGDS_HISP</td>\n      <td>Percent Undergrad Hispanic</td>\n    </tr>\n    <tr>\n      <th>14</th>\n      <td>UGDS_ASIAN</td>\n      <td>Percent Undergrad Asian</td>\n    </tr>\n    <tr>\n      <th>15</th>\n      <td>UGDS_AIAN</td>\n      <td>Percent Undergrad American Indian/Alaskan Native</td>\n    </tr>\n    <tr>\n      <th>16</th>\n      <td>UGDS_NHPI</td>\n      <td>Percent Undergrad Native Hawaiian/Pacific Isla...</td>\n    </tr>\n    <tr>\n      <th>17</th>\n      <td>UGDS_2MOR</td>\n      <td>Percent Undergrad 2 or more races</td>\n    </tr>\n    <tr>\n      <th>18</th>\n      <td>UGDS_NRA</td>\n      <td>Percent Undergrad non-resident aliens</td>\n    </tr>\n    <tr>\n      <th>19</th>\n      <td>UGDS_UNKN</td>\n      <td>Percent Undergrad race unknown</td>\n    </tr>\n    <tr>\n      <th>20</th>\n      <td>PPTUG_EF</td>\n      <td>Percent Students part-time</td>\n    </tr>\n    <tr>\n      <th>21</th>\n      <td>CURROPER</td>\n      <td>0/1 Currently Operating</td>\n    </tr>\n    <tr>\n      <th>22</th>\n      <td>PCTPELL</td>\n      <td>Percent Students with Pell grant</td>\n    </tr>\n    <tr>\n      <th>23</th>\n      <td>PCTFLOAN</td>\n      <td>Percent Students with federal loan</td>\n    </tr>\n    <tr>\n      <th>24</th>\n      <td>UG25ABV</td>\n      <td>Percent Students Older than 25</td>\n    </tr>\n    <tr>\n      <th>25</th>\n      <td>MD_EARN_WNE_P10</td>\n      <td>Median Earnings 10 years after enrollment</td>\n    </tr>\n    <tr>\n      <th>26</th>\n      <td>GRAD_DEBT_MDN_SUPP</td>\n      <td>Median debt of completers</td>\n    </tr>\n  </tbody>\n</table>\n</div>"
     },
     "execution_count": 11,
     "metadata": {},
     "output_type": "execute_result"
    }
   ],
   "source": [
    "pd.read_csv('data/college_data_dictionary.csv')"
   ],
   "metadata": {
    "collapsed": false
   }
  },
  {
   "cell_type": "markdown",
   "source": [
    "데이터 형식 변경으로 메모리 절약"
   ],
   "metadata": {
    "collapsed": false
   }
  },
  {
   "cell_type": "code",
   "execution_count": 12,
   "outputs": [],
   "source": [
    "college = pd.read_csv('data/college.csv')"
   ],
   "metadata": {
    "collapsed": false
   }
  },
  {
   "cell_type": "code",
   "execution_count": 13,
   "outputs": [],
   "source": [
    "different_cols = [\n",
    "    'RELAFFIL',\n",
    "    'SATMTMID',\n",
    "    'CURROPER',\n",
    "    'INSTNM',\n",
    "    'STABBR'\n",
    "]"
   ],
   "metadata": {
    "collapsed": false
   }
  },
  {
   "cell_type": "code",
   "execution_count": 14,
   "outputs": [],
   "source": [
    "col2 = college.loc[:, different_cols]"
   ],
   "metadata": {
    "collapsed": false
   }
  },
  {
   "cell_type": "code",
   "execution_count": 15,
   "outputs": [
    {
     "data": {
      "text/plain": "   RELAFFIL  SATMTMID  CURROPER                               INSTNM STABBR\n0         0     420.0         1             Alabama A & M University     AL\n1         0     565.0         1  University of Alabama at Birmingham     AL\n2         1       NaN         1                   Amridge University     AL\n3         0     590.0         1  University of Alabama in Huntsville     AL\n4         0     430.0         1             Alabama State University     AL",
      "text/html": "<div>\n<style scoped>\n    .dataframe tbody tr th:only-of-type {\n        vertical-align: middle;\n    }\n\n    .dataframe tbody tr th {\n        vertical-align: top;\n    }\n\n    .dataframe thead th {\n        text-align: right;\n    }\n</style>\n<table border=\"1\" class=\"dataframe\">\n  <thead>\n    <tr style=\"text-align: right;\">\n      <th></th>\n      <th>RELAFFIL</th>\n      <th>SATMTMID</th>\n      <th>CURROPER</th>\n      <th>INSTNM</th>\n      <th>STABBR</th>\n    </tr>\n  </thead>\n  <tbody>\n    <tr>\n      <th>0</th>\n      <td>0</td>\n      <td>420.0</td>\n      <td>1</td>\n      <td>Alabama A &amp; M University</td>\n      <td>AL</td>\n    </tr>\n    <tr>\n      <th>1</th>\n      <td>0</td>\n      <td>565.0</td>\n      <td>1</td>\n      <td>University of Alabama at Birmingham</td>\n      <td>AL</td>\n    </tr>\n    <tr>\n      <th>2</th>\n      <td>1</td>\n      <td>NaN</td>\n      <td>1</td>\n      <td>Amridge University</td>\n      <td>AL</td>\n    </tr>\n    <tr>\n      <th>3</th>\n      <td>0</td>\n      <td>590.0</td>\n      <td>1</td>\n      <td>University of Alabama in Huntsville</td>\n      <td>AL</td>\n    </tr>\n    <tr>\n      <th>4</th>\n      <td>0</td>\n      <td>430.0</td>\n      <td>1</td>\n      <td>Alabama State University</td>\n      <td>AL</td>\n    </tr>\n  </tbody>\n</table>\n</div>"
     },
     "execution_count": 15,
     "metadata": {},
     "output_type": "execute_result"
    }
   ],
   "source": [
    "col2.head()"
   ],
   "metadata": {
    "collapsed": false
   }
  },
  {
   "cell_type": "code",
   "execution_count": 16,
   "outputs": [
    {
     "data": {
      "text/plain": "RELAFFIL      int64\nSATMTMID    float64\nCURROPER      int64\nINSTNM       object\nSTABBR       object\ndtype: object"
     },
     "execution_count": 16,
     "metadata": {},
     "output_type": "execute_result"
    }
   ],
   "source": [
    "col2.dtypes"
   ],
   "metadata": {
    "collapsed": false
   }
  },
  {
   "cell_type": "code",
   "execution_count": 17,
   "outputs": [
    {
     "data": {
      "text/plain": "Index          128\nRELAFFIL     60280\nSATMTMID     60280\nCURROPER     60280\nINSTNM      660240\nSTABBR      444565\ndtype: int64"
     },
     "execution_count": 17,
     "metadata": {},
     "output_type": "execute_result"
    }
   ],
   "source": [
    "original_mem = col2.memory_usage(deep=True)\n",
    "original_mem"
   ],
   "metadata": {
    "collapsed": false
   }
  },
  {
   "cell_type": "code",
   "execution_count": 18,
   "outputs": [],
   "source": [
    "col2['RELAFFIL'] = col2['RELAFFIL'].astype(np.int8)"
   ],
   "metadata": {
    "collapsed": false
   }
  },
  {
   "cell_type": "code",
   "execution_count": 19,
   "outputs": [
    {
     "data": {
      "text/plain": "RELAFFIL       int8\nSATMTMID    float64\nCURROPER      int64\nINSTNM       object\nSTABBR       object\ndtype: object"
     },
     "execution_count": 19,
     "metadata": {},
     "output_type": "execute_result"
    }
   ],
   "source": [
    "col2.dtypes"
   ],
   "metadata": {
    "collapsed": false
   }
  },
  {
   "cell_type": "code",
   "execution_count": 20,
   "outputs": [
    {
     "data": {
      "text/plain": "Index          128\nRELAFFIL      7535\nSATMTMID     60280\nCURROPER     60280\nINSTNM      660240\nSTABBR      444565\ndtype: int64"
     },
     "execution_count": 20,
     "metadata": {},
     "output_type": "execute_result"
    }
   ],
   "source": [
    "col2.memory_usage(deep=True)"
   ],
   "metadata": {
    "collapsed": false
   }
  },
  {
   "cell_type": "code",
   "execution_count": 21,
   "outputs": [
    {
     "data": {
      "text/plain": "INSTNM    7535\nSTABBR      59\ndtype: int64"
     },
     "execution_count": 21,
     "metadata": {},
     "output_type": "execute_result"
    }
   ],
   "source": [
    "col2.select_dtypes(include=['object']).nunique()"
   ],
   "metadata": {
    "collapsed": false
   }
  },
  {
   "cell_type": "code",
   "execution_count": 22,
   "outputs": [],
   "source": [
    "col2['STABBR'] = col2['STABBR'].astype('category')"
   ],
   "metadata": {
    "collapsed": false
   }
  },
  {
   "cell_type": "code",
   "execution_count": 23,
   "outputs": [
    {
     "data": {
      "text/plain": "RELAFFIL        int8\nSATMTMID     float64\nCURROPER       int64\nINSTNM        object\nSTABBR      category\ndtype: object"
     },
     "execution_count": 23,
     "metadata": {},
     "output_type": "execute_result"
    }
   ],
   "source": [
    "col2.dtypes"
   ],
   "metadata": {
    "collapsed": false
   }
  },
  {
   "cell_type": "code",
   "execution_count": 24,
   "outputs": [
    {
     "data": {
      "text/plain": "Index          128\nRELAFFIL      7535\nSATMTMID     60280\nCURROPER     60280\nINSTNM      660699\nSTABBR       13120\ndtype: int64"
     },
     "execution_count": 24,
     "metadata": {},
     "output_type": "execute_result"
    }
   ],
   "source": [
    "new_mem = col2.memory_usage(deep=True)\n",
    "new_mem"
   ],
   "metadata": {
    "collapsed": false
   }
  },
  {
   "cell_type": "code",
   "execution_count": 25,
   "outputs": [
    {
     "data": {
      "text/plain": "Index       1.000000\nRELAFFIL    0.125000\nSATMTMID    1.000000\nCURROPER    1.000000\nINSTNM      1.000695\nSTABBR      0.029512\ndtype: float64"
     },
     "execution_count": 25,
     "metadata": {},
     "output_type": "execute_result"
    }
   ],
   "source": [
    "new_mem / original_mem"
   ],
   "metadata": {
    "collapsed": false
   }
  },
  {
   "cell_type": "code",
   "execution_count": 26,
   "outputs": [],
   "source": [
    "college.loc[0, 'CURROPER'] = 10000000"
   ],
   "metadata": {
    "collapsed": false
   }
  },
  {
   "cell_type": "code",
   "execution_count": 27,
   "outputs": [],
   "source": [
    "college.loc[0, 'INSTNM'] = (\n",
    "    college.loc[0, 'INSTNM'] + 'a'\n",
    ")"
   ],
   "metadata": {
    "collapsed": false
   }
  },
  {
   "cell_type": "code",
   "execution_count": 28,
   "outputs": [
    {
     "data": {
      "text/plain": "Index          128\nCURROPER     60280\nINSTNM      660700\ndtype: int64"
     },
     "execution_count": 28,
     "metadata": {},
     "output_type": "execute_result"
    }
   ],
   "source": [
    "college[['CURROPER', 'INSTNM']].memory_usage(deep=True)"
   ],
   "metadata": {
    "collapsed": false
   }
  },
  {
   "cell_type": "code",
   "execution_count": 29,
   "outputs": [
    {
     "data": {
      "text/plain": "                                                 INSTNM              CITY  \\\n0                             Alabama A & M Universitya            Normal   \n1                   University of Alabama at Birmingham        Birmingham   \n2                                    Amridge University        Montgomery   \n3                   University of Alabama in Huntsville        Huntsville   \n4                              Alabama State University        Montgomery   \n...                                                 ...               ...   \n7530         SAE Institute of Technology  San Francisco        Emeryville   \n7531                  Rasmussen College - Overland Park     Overland Park   \n7532  National Personal Training Institute of Cleveland  Highland Heights   \n7533  Bay Area Medical Academy - San Jose Satellite ...          San Jose   \n7534            Excel Learning Center-San Antonio South       San Antonio   \n\n     STABBR  HBCU  MENONLY  WOMENONLY  RELAFFIL  SATVRMID  SATMTMID  \\\n0        AL   1.0      0.0        0.0         0     424.0     420.0   \n1        AL   0.0      0.0        0.0         0     570.0     565.0   \n2        AL   0.0      0.0        0.0         1       NaN       NaN   \n3        AL   0.0      0.0        0.0         0     595.0     590.0   \n4        AL   1.0      0.0        0.0         0     425.0     430.0   \n...     ...   ...      ...        ...       ...       ...       ...   \n7530     CA   NaN      NaN        NaN         1       NaN       NaN   \n7531     KS   NaN      NaN        NaN         1       NaN       NaN   \n7532     OH   NaN      NaN        NaN         1       NaN       NaN   \n7533     CA   NaN      NaN        NaN         1       NaN       NaN   \n7534     TX   NaN      NaN        NaN         1       NaN       NaN   \n\n      DISTANCEONLY  ...  UGDS_2MOR  UGDS_NRA  UGDS_UNKN  PPTUG_EF  CURROPER  \\\n0              0.0  ...     0.0000    0.0059     0.0138    0.0656  10000000   \n1              0.0  ...     0.0368    0.0179     0.0100    0.2607         1   \n2              1.0  ...     0.0000    0.0000     0.2715    0.4536         1   \n3              0.0  ...     0.0172    0.0332     0.0350    0.2146         1   \n4              0.0  ...     0.0098    0.0243     0.0137    0.0892         1   \n...            ...  ...        ...       ...        ...       ...       ...   \n7530           NaN  ...        NaN       NaN        NaN       NaN         1   \n7531           NaN  ...        NaN       NaN        NaN       NaN         1   \n7532           NaN  ...        NaN       NaN        NaN       NaN         1   \n7533           NaN  ...        NaN       NaN        NaN       NaN         1   \n7534           NaN  ...        NaN       NaN        NaN       NaN         1   \n\n      PCTPELL  PCTFLOAN  UG25ABV  MD_EARN_WNE_P10  GRAD_DEBT_MDN_SUPP  \n0      0.7356    0.8284   0.1049            30300               33888  \n1      0.3460    0.5214   0.2422            39700             21941.5  \n2      0.6801    0.7795   0.8540            40100               23370  \n3      0.3072    0.4596   0.2640            45500               24097  \n4      0.7347    0.7554   0.1270            26600             33118.5  \n...       ...       ...      ...              ...                 ...  \n7530      NaN       NaN      NaN              NaN                9500  \n7531      NaN       NaN      NaN              NaN               21163  \n7532      NaN       NaN      NaN              NaN                6333  \n7533      NaN       NaN      NaN              NaN   PrivacySuppressed  \n7534      NaN       NaN      NaN              NaN               12125  \n\n[7535 rows x 27 columns]",
      "text/html": "<div>\n<style scoped>\n    .dataframe tbody tr th:only-of-type {\n        vertical-align: middle;\n    }\n\n    .dataframe tbody tr th {\n        vertical-align: top;\n    }\n\n    .dataframe thead th {\n        text-align: right;\n    }\n</style>\n<table border=\"1\" class=\"dataframe\">\n  <thead>\n    <tr style=\"text-align: right;\">\n      <th></th>\n      <th>INSTNM</th>\n      <th>CITY</th>\n      <th>STABBR</th>\n      <th>HBCU</th>\n      <th>MENONLY</th>\n      <th>WOMENONLY</th>\n      <th>RELAFFIL</th>\n      <th>SATVRMID</th>\n      <th>SATMTMID</th>\n      <th>DISTANCEONLY</th>\n      <th>...</th>\n      <th>UGDS_2MOR</th>\n      <th>UGDS_NRA</th>\n      <th>UGDS_UNKN</th>\n      <th>PPTUG_EF</th>\n      <th>CURROPER</th>\n      <th>PCTPELL</th>\n      <th>PCTFLOAN</th>\n      <th>UG25ABV</th>\n      <th>MD_EARN_WNE_P10</th>\n      <th>GRAD_DEBT_MDN_SUPP</th>\n    </tr>\n  </thead>\n  <tbody>\n    <tr>\n      <th>0</th>\n      <td>Alabama A &amp; M Universitya</td>\n      <td>Normal</td>\n      <td>AL</td>\n      <td>1.0</td>\n      <td>0.0</td>\n      <td>0.0</td>\n      <td>0</td>\n      <td>424.0</td>\n      <td>420.0</td>\n      <td>0.0</td>\n      <td>...</td>\n      <td>0.0000</td>\n      <td>0.0059</td>\n      <td>0.0138</td>\n      <td>0.0656</td>\n      <td>10000000</td>\n      <td>0.7356</td>\n      <td>0.8284</td>\n      <td>0.1049</td>\n      <td>30300</td>\n      <td>33888</td>\n    </tr>\n    <tr>\n      <th>1</th>\n      <td>University of Alabama at Birmingham</td>\n      <td>Birmingham</td>\n      <td>AL</td>\n      <td>0.0</td>\n      <td>0.0</td>\n      <td>0.0</td>\n      <td>0</td>\n      <td>570.0</td>\n      <td>565.0</td>\n      <td>0.0</td>\n      <td>...</td>\n      <td>0.0368</td>\n      <td>0.0179</td>\n      <td>0.0100</td>\n      <td>0.2607</td>\n      <td>1</td>\n      <td>0.3460</td>\n      <td>0.5214</td>\n      <td>0.2422</td>\n      <td>39700</td>\n      <td>21941.5</td>\n    </tr>\n    <tr>\n      <th>2</th>\n      <td>Amridge University</td>\n      <td>Montgomery</td>\n      <td>AL</td>\n      <td>0.0</td>\n      <td>0.0</td>\n      <td>0.0</td>\n      <td>1</td>\n      <td>NaN</td>\n      <td>NaN</td>\n      <td>1.0</td>\n      <td>...</td>\n      <td>0.0000</td>\n      <td>0.0000</td>\n      <td>0.2715</td>\n      <td>0.4536</td>\n      <td>1</td>\n      <td>0.6801</td>\n      <td>0.7795</td>\n      <td>0.8540</td>\n      <td>40100</td>\n      <td>23370</td>\n    </tr>\n    <tr>\n      <th>3</th>\n      <td>University of Alabama in Huntsville</td>\n      <td>Huntsville</td>\n      <td>AL</td>\n      <td>0.0</td>\n      <td>0.0</td>\n      <td>0.0</td>\n      <td>0</td>\n      <td>595.0</td>\n      <td>590.0</td>\n      <td>0.0</td>\n      <td>...</td>\n      <td>0.0172</td>\n      <td>0.0332</td>\n      <td>0.0350</td>\n      <td>0.2146</td>\n      <td>1</td>\n      <td>0.3072</td>\n      <td>0.4596</td>\n      <td>0.2640</td>\n      <td>45500</td>\n      <td>24097</td>\n    </tr>\n    <tr>\n      <th>4</th>\n      <td>Alabama State University</td>\n      <td>Montgomery</td>\n      <td>AL</td>\n      <td>1.0</td>\n      <td>0.0</td>\n      <td>0.0</td>\n      <td>0</td>\n      <td>425.0</td>\n      <td>430.0</td>\n      <td>0.0</td>\n      <td>...</td>\n      <td>0.0098</td>\n      <td>0.0243</td>\n      <td>0.0137</td>\n      <td>0.0892</td>\n      <td>1</td>\n      <td>0.7347</td>\n      <td>0.7554</td>\n      <td>0.1270</td>\n      <td>26600</td>\n      <td>33118.5</td>\n    </tr>\n    <tr>\n      <th>...</th>\n      <td>...</td>\n      <td>...</td>\n      <td>...</td>\n      <td>...</td>\n      <td>...</td>\n      <td>...</td>\n      <td>...</td>\n      <td>...</td>\n      <td>...</td>\n      <td>...</td>\n      <td>...</td>\n      <td>...</td>\n      <td>...</td>\n      <td>...</td>\n      <td>...</td>\n      <td>...</td>\n      <td>...</td>\n      <td>...</td>\n      <td>...</td>\n      <td>...</td>\n      <td>...</td>\n    </tr>\n    <tr>\n      <th>7530</th>\n      <td>SAE Institute of Technology  San Francisco</td>\n      <td>Emeryville</td>\n      <td>CA</td>\n      <td>NaN</td>\n      <td>NaN</td>\n      <td>NaN</td>\n      <td>1</td>\n      <td>NaN</td>\n      <td>NaN</td>\n      <td>NaN</td>\n      <td>...</td>\n      <td>NaN</td>\n      <td>NaN</td>\n      <td>NaN</td>\n      <td>NaN</td>\n      <td>1</td>\n      <td>NaN</td>\n      <td>NaN</td>\n      <td>NaN</td>\n      <td>NaN</td>\n      <td>9500</td>\n    </tr>\n    <tr>\n      <th>7531</th>\n      <td>Rasmussen College - Overland Park</td>\n      <td>Overland Park</td>\n      <td>KS</td>\n      <td>NaN</td>\n      <td>NaN</td>\n      <td>NaN</td>\n      <td>1</td>\n      <td>NaN</td>\n      <td>NaN</td>\n      <td>NaN</td>\n      <td>...</td>\n      <td>NaN</td>\n      <td>NaN</td>\n      <td>NaN</td>\n      <td>NaN</td>\n      <td>1</td>\n      <td>NaN</td>\n      <td>NaN</td>\n      <td>NaN</td>\n      <td>NaN</td>\n      <td>21163</td>\n    </tr>\n    <tr>\n      <th>7532</th>\n      <td>National Personal Training Institute of Cleveland</td>\n      <td>Highland Heights</td>\n      <td>OH</td>\n      <td>NaN</td>\n      <td>NaN</td>\n      <td>NaN</td>\n      <td>1</td>\n      <td>NaN</td>\n      <td>NaN</td>\n      <td>NaN</td>\n      <td>...</td>\n      <td>NaN</td>\n      <td>NaN</td>\n      <td>NaN</td>\n      <td>NaN</td>\n      <td>1</td>\n      <td>NaN</td>\n      <td>NaN</td>\n      <td>NaN</td>\n      <td>NaN</td>\n      <td>6333</td>\n    </tr>\n    <tr>\n      <th>7533</th>\n      <td>Bay Area Medical Academy - San Jose Satellite ...</td>\n      <td>San Jose</td>\n      <td>CA</td>\n      <td>NaN</td>\n      <td>NaN</td>\n      <td>NaN</td>\n      <td>1</td>\n      <td>NaN</td>\n      <td>NaN</td>\n      <td>NaN</td>\n      <td>...</td>\n      <td>NaN</td>\n      <td>NaN</td>\n      <td>NaN</td>\n      <td>NaN</td>\n      <td>1</td>\n      <td>NaN</td>\n      <td>NaN</td>\n      <td>NaN</td>\n      <td>NaN</td>\n      <td>PrivacySuppressed</td>\n    </tr>\n    <tr>\n      <th>7534</th>\n      <td>Excel Learning Center-San Antonio South</td>\n      <td>San Antonio</td>\n      <td>TX</td>\n      <td>NaN</td>\n      <td>NaN</td>\n      <td>NaN</td>\n      <td>1</td>\n      <td>NaN</td>\n      <td>NaN</td>\n      <td>NaN</td>\n      <td>...</td>\n      <td>NaN</td>\n      <td>NaN</td>\n      <td>NaN</td>\n      <td>NaN</td>\n      <td>1</td>\n      <td>NaN</td>\n      <td>NaN</td>\n      <td>NaN</td>\n      <td>NaN</td>\n      <td>12125</td>\n    </tr>\n  </tbody>\n</table>\n<p>7535 rows × 27 columns</p>\n</div>"
     },
     "execution_count": 29,
     "metadata": {},
     "output_type": "execute_result"
    }
   ],
   "source": [
    "college"
   ],
   "metadata": {
    "collapsed": false
   }
  },
  {
   "cell_type": "code",
   "execution_count": 30,
   "outputs": [
    {
     "data": {
      "text/plain": "dtype('float64')"
     },
     "execution_count": 30,
     "metadata": {},
     "output_type": "execute_result"
    }
   ],
   "source": [
    "college['MENONLY'].dtype"
   ],
   "metadata": {
    "collapsed": false
   }
  },
  {
   "cell_type": "code",
   "execution_count": 31,
   "outputs": [
    {
     "ename": "IntCastingNaNError",
     "evalue": "Cannot convert non-finite values (NA or inf) to integer",
     "output_type": "error",
     "traceback": [
      "\u001B[0;31m---------------------------------------------------------------------------\u001B[0m",
      "\u001B[0;31mIntCastingNaNError\u001B[0m                        Traceback (most recent call last)",
      "Cell \u001B[0;32mIn[31], line 1\u001B[0m\n\u001B[0;32m----> 1\u001B[0m \u001B[43mcollege\u001B[49m\u001B[43m[\u001B[49m\u001B[38;5;124;43m'\u001B[39;49m\u001B[38;5;124;43mMENONLY\u001B[39;49m\u001B[38;5;124;43m'\u001B[39;49m\u001B[43m]\u001B[49m\u001B[38;5;241;43m.\u001B[39;49m\u001B[43mastype\u001B[49m\u001B[43m(\u001B[49m\u001B[43mnp\u001B[49m\u001B[38;5;241;43m.\u001B[39;49m\u001B[43mint8\u001B[49m\u001B[43m)\u001B[49m\n",
      "File \u001B[0;32m~/anaconda3/lib/python3.10/site-packages/pandas/core/generic.py:6240\u001B[0m, in \u001B[0;36mNDFrame.astype\u001B[0;34m(self, dtype, copy, errors)\u001B[0m\n\u001B[1;32m   6233\u001B[0m     results \u001B[38;5;241m=\u001B[39m [\n\u001B[1;32m   6234\u001B[0m         \u001B[38;5;28mself\u001B[39m\u001B[38;5;241m.\u001B[39miloc[:, i]\u001B[38;5;241m.\u001B[39mastype(dtype, copy\u001B[38;5;241m=\u001B[39mcopy)\n\u001B[1;32m   6235\u001B[0m         \u001B[38;5;28;01mfor\u001B[39;00m i \u001B[38;5;129;01min\u001B[39;00m \u001B[38;5;28mrange\u001B[39m(\u001B[38;5;28mlen\u001B[39m(\u001B[38;5;28mself\u001B[39m\u001B[38;5;241m.\u001B[39mcolumns))\n\u001B[1;32m   6236\u001B[0m     ]\n\u001B[1;32m   6238\u001B[0m \u001B[38;5;28;01melse\u001B[39;00m:\n\u001B[1;32m   6239\u001B[0m     \u001B[38;5;66;03m# else, only a single dtype is given\u001B[39;00m\n\u001B[0;32m-> 6240\u001B[0m     new_data \u001B[38;5;241m=\u001B[39m \u001B[38;5;28;43mself\u001B[39;49m\u001B[38;5;241;43m.\u001B[39;49m\u001B[43m_mgr\u001B[49m\u001B[38;5;241;43m.\u001B[39;49m\u001B[43mastype\u001B[49m\u001B[43m(\u001B[49m\u001B[43mdtype\u001B[49m\u001B[38;5;241;43m=\u001B[39;49m\u001B[43mdtype\u001B[49m\u001B[43m,\u001B[49m\u001B[43m \u001B[49m\u001B[43mcopy\u001B[49m\u001B[38;5;241;43m=\u001B[39;49m\u001B[43mcopy\u001B[49m\u001B[43m,\u001B[49m\u001B[43m \u001B[49m\u001B[43merrors\u001B[49m\u001B[38;5;241;43m=\u001B[39;49m\u001B[43merrors\u001B[49m\u001B[43m)\u001B[49m\n\u001B[1;32m   6241\u001B[0m     \u001B[38;5;28;01mreturn\u001B[39;00m \u001B[38;5;28mself\u001B[39m\u001B[38;5;241m.\u001B[39m_constructor(new_data)\u001B[38;5;241m.\u001B[39m__finalize__(\u001B[38;5;28mself\u001B[39m, method\u001B[38;5;241m=\u001B[39m\u001B[38;5;124m\"\u001B[39m\u001B[38;5;124mastype\u001B[39m\u001B[38;5;124m\"\u001B[39m)\n\u001B[1;32m   6243\u001B[0m \u001B[38;5;66;03m# GH 33113: handle empty frame or series\u001B[39;00m\n",
      "File \u001B[0;32m~/anaconda3/lib/python3.10/site-packages/pandas/core/internals/managers.py:448\u001B[0m, in \u001B[0;36mBaseBlockManager.astype\u001B[0;34m(self, dtype, copy, errors)\u001B[0m\n\u001B[1;32m    447\u001B[0m \u001B[38;5;28;01mdef\u001B[39;00m \u001B[38;5;21mastype\u001B[39m(\u001B[38;5;28mself\u001B[39m: T, dtype, copy: \u001B[38;5;28mbool\u001B[39m \u001B[38;5;241m=\u001B[39m \u001B[38;5;28;01mFalse\u001B[39;00m, errors: \u001B[38;5;28mstr\u001B[39m \u001B[38;5;241m=\u001B[39m \u001B[38;5;124m\"\u001B[39m\u001B[38;5;124mraise\u001B[39m\u001B[38;5;124m\"\u001B[39m) \u001B[38;5;241m-\u001B[39m\u001B[38;5;241m>\u001B[39m T:\n\u001B[0;32m--> 448\u001B[0m     \u001B[38;5;28;01mreturn\u001B[39;00m \u001B[38;5;28;43mself\u001B[39;49m\u001B[38;5;241;43m.\u001B[39;49m\u001B[43mapply\u001B[49m\u001B[43m(\u001B[49m\u001B[38;5;124;43m\"\u001B[39;49m\u001B[38;5;124;43mastype\u001B[39;49m\u001B[38;5;124;43m\"\u001B[39;49m\u001B[43m,\u001B[49m\u001B[43m \u001B[49m\u001B[43mdtype\u001B[49m\u001B[38;5;241;43m=\u001B[39;49m\u001B[43mdtype\u001B[49m\u001B[43m,\u001B[49m\u001B[43m \u001B[49m\u001B[43mcopy\u001B[49m\u001B[38;5;241;43m=\u001B[39;49m\u001B[43mcopy\u001B[49m\u001B[43m,\u001B[49m\u001B[43m \u001B[49m\u001B[43merrors\u001B[49m\u001B[38;5;241;43m=\u001B[39;49m\u001B[43merrors\u001B[49m\u001B[43m)\u001B[49m\n",
      "File \u001B[0;32m~/anaconda3/lib/python3.10/site-packages/pandas/core/internals/managers.py:352\u001B[0m, in \u001B[0;36mBaseBlockManager.apply\u001B[0;34m(self, f, align_keys, ignore_failures, **kwargs)\u001B[0m\n\u001B[1;32m    350\u001B[0m         applied \u001B[38;5;241m=\u001B[39m b\u001B[38;5;241m.\u001B[39mapply(f, \u001B[38;5;241m*\u001B[39m\u001B[38;5;241m*\u001B[39mkwargs)\n\u001B[1;32m    351\u001B[0m     \u001B[38;5;28;01melse\u001B[39;00m:\n\u001B[0;32m--> 352\u001B[0m         applied \u001B[38;5;241m=\u001B[39m \u001B[38;5;28;43mgetattr\u001B[39;49m\u001B[43m(\u001B[49m\u001B[43mb\u001B[49m\u001B[43m,\u001B[49m\u001B[43m \u001B[49m\u001B[43mf\u001B[49m\u001B[43m)\u001B[49m\u001B[43m(\u001B[49m\u001B[38;5;241;43m*\u001B[39;49m\u001B[38;5;241;43m*\u001B[39;49m\u001B[43mkwargs\u001B[49m\u001B[43m)\u001B[49m\n\u001B[1;32m    353\u001B[0m \u001B[38;5;28;01mexcept\u001B[39;00m (\u001B[38;5;167;01mTypeError\u001B[39;00m, \u001B[38;5;167;01mNotImplementedError\u001B[39;00m):\n\u001B[1;32m    354\u001B[0m     \u001B[38;5;28;01mif\u001B[39;00m \u001B[38;5;129;01mnot\u001B[39;00m ignore_failures:\n",
      "File \u001B[0;32m~/anaconda3/lib/python3.10/site-packages/pandas/core/internals/blocks.py:526\u001B[0m, in \u001B[0;36mBlock.astype\u001B[0;34m(self, dtype, copy, errors)\u001B[0m\n\u001B[1;32m    508\u001B[0m \u001B[38;5;124;03m\"\"\"\u001B[39;00m\n\u001B[1;32m    509\u001B[0m \u001B[38;5;124;03mCoerce to the new dtype.\u001B[39;00m\n\u001B[1;32m    510\u001B[0m \n\u001B[0;32m   (...)\u001B[0m\n\u001B[1;32m    522\u001B[0m \u001B[38;5;124;03mBlock\u001B[39;00m\n\u001B[1;32m    523\u001B[0m \u001B[38;5;124;03m\"\"\"\u001B[39;00m\n\u001B[1;32m    524\u001B[0m values \u001B[38;5;241m=\u001B[39m \u001B[38;5;28mself\u001B[39m\u001B[38;5;241m.\u001B[39mvalues\n\u001B[0;32m--> 526\u001B[0m new_values \u001B[38;5;241m=\u001B[39m \u001B[43mastype_array_safe\u001B[49m\u001B[43m(\u001B[49m\u001B[43mvalues\u001B[49m\u001B[43m,\u001B[49m\u001B[43m \u001B[49m\u001B[43mdtype\u001B[49m\u001B[43m,\u001B[49m\u001B[43m \u001B[49m\u001B[43mcopy\u001B[49m\u001B[38;5;241;43m=\u001B[39;49m\u001B[43mcopy\u001B[49m\u001B[43m,\u001B[49m\u001B[43m \u001B[49m\u001B[43merrors\u001B[49m\u001B[38;5;241;43m=\u001B[39;49m\u001B[43merrors\u001B[49m\u001B[43m)\u001B[49m\n\u001B[1;32m    528\u001B[0m new_values \u001B[38;5;241m=\u001B[39m maybe_coerce_values(new_values)\n\u001B[1;32m    529\u001B[0m newb \u001B[38;5;241m=\u001B[39m \u001B[38;5;28mself\u001B[39m\u001B[38;5;241m.\u001B[39mmake_block(new_values)\n",
      "File \u001B[0;32m~/anaconda3/lib/python3.10/site-packages/pandas/core/dtypes/astype.py:299\u001B[0m, in \u001B[0;36mastype_array_safe\u001B[0;34m(values, dtype, copy, errors)\u001B[0m\n\u001B[1;32m    296\u001B[0m     \u001B[38;5;28;01mreturn\u001B[39;00m values\u001B[38;5;241m.\u001B[39mcopy()\n\u001B[1;32m    298\u001B[0m \u001B[38;5;28;01mtry\u001B[39;00m:\n\u001B[0;32m--> 299\u001B[0m     new_values \u001B[38;5;241m=\u001B[39m \u001B[43mastype_array\u001B[49m\u001B[43m(\u001B[49m\u001B[43mvalues\u001B[49m\u001B[43m,\u001B[49m\u001B[43m \u001B[49m\u001B[43mdtype\u001B[49m\u001B[43m,\u001B[49m\u001B[43m \u001B[49m\u001B[43mcopy\u001B[49m\u001B[38;5;241;43m=\u001B[39;49m\u001B[43mcopy\u001B[49m\u001B[43m)\u001B[49m\n\u001B[1;32m    300\u001B[0m \u001B[38;5;28;01mexcept\u001B[39;00m (\u001B[38;5;167;01mValueError\u001B[39;00m, \u001B[38;5;167;01mTypeError\u001B[39;00m):\n\u001B[1;32m    301\u001B[0m     \u001B[38;5;66;03m# e.g. astype_nansafe can fail on object-dtype of strings\u001B[39;00m\n\u001B[1;32m    302\u001B[0m     \u001B[38;5;66;03m#  trying to convert to float\u001B[39;00m\n\u001B[1;32m    303\u001B[0m     \u001B[38;5;28;01mif\u001B[39;00m errors \u001B[38;5;241m==\u001B[39m \u001B[38;5;124m\"\u001B[39m\u001B[38;5;124mignore\u001B[39m\u001B[38;5;124m\"\u001B[39m:\n",
      "File \u001B[0;32m~/anaconda3/lib/python3.10/site-packages/pandas/core/dtypes/astype.py:230\u001B[0m, in \u001B[0;36mastype_array\u001B[0;34m(values, dtype, copy)\u001B[0m\n\u001B[1;32m    227\u001B[0m     values \u001B[38;5;241m=\u001B[39m values\u001B[38;5;241m.\u001B[39mastype(dtype, copy\u001B[38;5;241m=\u001B[39mcopy)\n\u001B[1;32m    229\u001B[0m \u001B[38;5;28;01melse\u001B[39;00m:\n\u001B[0;32m--> 230\u001B[0m     values \u001B[38;5;241m=\u001B[39m \u001B[43mastype_nansafe\u001B[49m\u001B[43m(\u001B[49m\u001B[43mvalues\u001B[49m\u001B[43m,\u001B[49m\u001B[43m \u001B[49m\u001B[43mdtype\u001B[49m\u001B[43m,\u001B[49m\u001B[43m \u001B[49m\u001B[43mcopy\u001B[49m\u001B[38;5;241;43m=\u001B[39;49m\u001B[43mcopy\u001B[49m\u001B[43m)\u001B[49m\n\u001B[1;32m    232\u001B[0m \u001B[38;5;66;03m# in pandas we don't store numpy str dtypes, so convert to object\u001B[39;00m\n\u001B[1;32m    233\u001B[0m \u001B[38;5;28;01mif\u001B[39;00m \u001B[38;5;28misinstance\u001B[39m(dtype, np\u001B[38;5;241m.\u001B[39mdtype) \u001B[38;5;129;01mand\u001B[39;00m \u001B[38;5;28missubclass\u001B[39m(values\u001B[38;5;241m.\u001B[39mdtype\u001B[38;5;241m.\u001B[39mtype, \u001B[38;5;28mstr\u001B[39m):\n",
      "File \u001B[0;32m~/anaconda3/lib/python3.10/site-packages/pandas/core/dtypes/astype.py:140\u001B[0m, in \u001B[0;36mastype_nansafe\u001B[0;34m(arr, dtype, copy, skipna)\u001B[0m\n\u001B[1;32m    137\u001B[0m     \u001B[38;5;28;01mraise\u001B[39;00m \u001B[38;5;167;01mTypeError\u001B[39;00m(\u001B[38;5;124mf\u001B[39m\u001B[38;5;124m\"\u001B[39m\u001B[38;5;124mcannot astype a timedelta from [\u001B[39m\u001B[38;5;132;01m{\u001B[39;00marr\u001B[38;5;241m.\u001B[39mdtype\u001B[38;5;132;01m}\u001B[39;00m\u001B[38;5;124m] to [\u001B[39m\u001B[38;5;132;01m{\u001B[39;00mdtype\u001B[38;5;132;01m}\u001B[39;00m\u001B[38;5;124m]\u001B[39m\u001B[38;5;124m\"\u001B[39m)\n\u001B[1;32m    139\u001B[0m \u001B[38;5;28;01melif\u001B[39;00m np\u001B[38;5;241m.\u001B[39missubdtype(arr\u001B[38;5;241m.\u001B[39mdtype, np\u001B[38;5;241m.\u001B[39mfloating) \u001B[38;5;129;01mand\u001B[39;00m is_integer_dtype(dtype):\n\u001B[0;32m--> 140\u001B[0m     \u001B[38;5;28;01mreturn\u001B[39;00m \u001B[43m_astype_float_to_int_nansafe\u001B[49m\u001B[43m(\u001B[49m\u001B[43marr\u001B[49m\u001B[43m,\u001B[49m\u001B[43m \u001B[49m\u001B[43mdtype\u001B[49m\u001B[43m,\u001B[49m\u001B[43m \u001B[49m\u001B[43mcopy\u001B[49m\u001B[43m)\u001B[49m\n\u001B[1;32m    142\u001B[0m \u001B[38;5;28;01melif\u001B[39;00m is_object_dtype(arr\u001B[38;5;241m.\u001B[39mdtype):\n\u001B[1;32m    143\u001B[0m \n\u001B[1;32m    144\u001B[0m     \u001B[38;5;66;03m# if we have a datetime/timedelta array of objects\u001B[39;00m\n\u001B[1;32m    145\u001B[0m     \u001B[38;5;66;03m# then coerce to a proper dtype and recall astype_nansafe\u001B[39;00m\n\u001B[1;32m    147\u001B[0m     \u001B[38;5;28;01mif\u001B[39;00m is_datetime64_dtype(dtype):\n",
      "File \u001B[0;32m~/anaconda3/lib/python3.10/site-packages/pandas/core/dtypes/astype.py:182\u001B[0m, in \u001B[0;36m_astype_float_to_int_nansafe\u001B[0;34m(values, dtype, copy)\u001B[0m\n\u001B[1;32m    178\u001B[0m \u001B[38;5;124;03m\"\"\"\u001B[39;00m\n\u001B[1;32m    179\u001B[0m \u001B[38;5;124;03mastype with a check preventing converting NaN to an meaningless integer value.\u001B[39;00m\n\u001B[1;32m    180\u001B[0m \u001B[38;5;124;03m\"\"\"\u001B[39;00m\n\u001B[1;32m    181\u001B[0m \u001B[38;5;28;01mif\u001B[39;00m \u001B[38;5;129;01mnot\u001B[39;00m np\u001B[38;5;241m.\u001B[39misfinite(values)\u001B[38;5;241m.\u001B[39mall():\n\u001B[0;32m--> 182\u001B[0m     \u001B[38;5;28;01mraise\u001B[39;00m IntCastingNaNError(\n\u001B[1;32m    183\u001B[0m         \u001B[38;5;124m\"\u001B[39m\u001B[38;5;124mCannot convert non-finite values (NA or inf) to integer\u001B[39m\u001B[38;5;124m\"\u001B[39m\n\u001B[1;32m    184\u001B[0m     )\n\u001B[1;32m    185\u001B[0m \u001B[38;5;28;01mif\u001B[39;00m dtype\u001B[38;5;241m.\u001B[39mkind \u001B[38;5;241m==\u001B[39m \u001B[38;5;124m\"\u001B[39m\u001B[38;5;124mu\u001B[39m\u001B[38;5;124m\"\u001B[39m:\n\u001B[1;32m    186\u001B[0m     \u001B[38;5;66;03m# GH#45151\u001B[39;00m\n\u001B[1;32m    187\u001B[0m     \u001B[38;5;28;01mif\u001B[39;00m \u001B[38;5;129;01mnot\u001B[39;00m (values \u001B[38;5;241m>\u001B[39m\u001B[38;5;241m=\u001B[39m \u001B[38;5;241m0\u001B[39m)\u001B[38;5;241m.\u001B[39mall():\n",
      "\u001B[0;31mIntCastingNaNError\u001B[0m: Cannot convert non-finite values (NA or inf) to integer"
     ]
    }
   ],
   "source": [
    "college['MENONLY'].astype(np.int8)"
   ],
   "metadata": {
    "collapsed": false
   }
  },
  {
   "cell_type": "code",
   "execution_count": 32,
   "outputs": [
    {
     "data": {
      "text/plain": "              HBCU      MENONLY    WOMENONLY     RELAFFIL     SATVRMID  \\\ncount  7164.000000  7164.000000  7164.000000  7535.000000  1185.000000   \nmean      0.014238     0.009213     0.005304     0.190975   522.819409   \nstd       0.118478     0.095546     0.072642     0.393096    68.578862   \nmin       0.000000     0.000000     0.000000     0.000000   290.000000   \n25%       0.000000     0.000000     0.000000     0.000000   475.000000   \n50%       0.000000     0.000000     0.000000     0.000000   510.000000   \n75%       0.000000     0.000000     0.000000     0.000000   555.000000   \nmax       1.000000     1.000000     1.000000     1.000000   765.000000   \n\n          SATMTMID  DISTANCEONLY           UGDS   UGDS_WHITE   UGDS_BLACK  \\\ncount  1196.000000   7164.000000    6874.000000  6874.000000  6874.000000   \nmean    530.765050      0.005583    2356.837940     0.510207     0.189997   \nstd      73.469767      0.074519    5474.275871     0.286958     0.224587   \nmin     310.000000      0.000000       0.000000     0.000000     0.000000   \n25%     482.000000      0.000000     117.000000     0.267500     0.036125   \n50%     520.000000      0.000000     412.500000     0.555700     0.100050   \n75%     565.000000      0.000000    1929.500000     0.747875     0.257700   \nmax     785.000000      1.000000  151558.000000     1.000000     1.000000   \n\n       ...    UGDS_AIAN    UGDS_NHPI    UGDS_2MOR     UGDS_NRA    UGDS_UNKN  \\\ncount  ...  6874.000000  6874.000000  6874.000000  6874.000000  6874.000000   \nmean   ...     0.013813     0.004569     0.023950     0.016086     0.045181   \nstd    ...     0.070196     0.033125     0.031288     0.050172     0.093440   \nmin    ...     0.000000     0.000000     0.000000     0.000000     0.000000   \n25%    ...     0.000000     0.000000     0.000000     0.000000     0.000000   \n50%    ...     0.002600     0.000000     0.017500     0.000000     0.014300   \n75%    ...     0.007300     0.002500     0.033900     0.011700     0.045400   \nmax    ...     1.000000     0.998300     0.533300     0.928600     0.902700   \n\n          PPTUG_EF      CURROPER      PCTPELL     PCTFLOAN      UG25ABV  \ncount  6853.000000  7.535000e+03  6849.000000  6849.000000  6718.000000  \nmean      0.226639  1.328063e+03     0.530643     0.522211     0.410021  \nstd       0.246470  1.152016e+05     0.225544     0.283616     0.228939  \nmin       0.000000  0.000000e+00     0.000000     0.000000     0.000000  \n25%       0.000000  1.000000e+00     0.357800     0.332900     0.241500  \n50%       0.150400  1.000000e+00     0.521500     0.583300     0.400750  \n75%       0.376900  1.000000e+00     0.712900     0.745000     0.572275  \nmax       1.000000  1.000000e+07     1.000000     1.000000     1.000000  \n\n[8 rows x 22 columns]",
      "text/html": "<div>\n<style scoped>\n    .dataframe tbody tr th:only-of-type {\n        vertical-align: middle;\n    }\n\n    .dataframe tbody tr th {\n        vertical-align: top;\n    }\n\n    .dataframe thead th {\n        text-align: right;\n    }\n</style>\n<table border=\"1\" class=\"dataframe\">\n  <thead>\n    <tr style=\"text-align: right;\">\n      <th></th>\n      <th>HBCU</th>\n      <th>MENONLY</th>\n      <th>WOMENONLY</th>\n      <th>RELAFFIL</th>\n      <th>SATVRMID</th>\n      <th>SATMTMID</th>\n      <th>DISTANCEONLY</th>\n      <th>UGDS</th>\n      <th>UGDS_WHITE</th>\n      <th>UGDS_BLACK</th>\n      <th>...</th>\n      <th>UGDS_AIAN</th>\n      <th>UGDS_NHPI</th>\n      <th>UGDS_2MOR</th>\n      <th>UGDS_NRA</th>\n      <th>UGDS_UNKN</th>\n      <th>PPTUG_EF</th>\n      <th>CURROPER</th>\n      <th>PCTPELL</th>\n      <th>PCTFLOAN</th>\n      <th>UG25ABV</th>\n    </tr>\n  </thead>\n  <tbody>\n    <tr>\n      <th>count</th>\n      <td>7164.000000</td>\n      <td>7164.000000</td>\n      <td>7164.000000</td>\n      <td>7535.000000</td>\n      <td>1185.000000</td>\n      <td>1196.000000</td>\n      <td>7164.000000</td>\n      <td>6874.000000</td>\n      <td>6874.000000</td>\n      <td>6874.000000</td>\n      <td>...</td>\n      <td>6874.000000</td>\n      <td>6874.000000</td>\n      <td>6874.000000</td>\n      <td>6874.000000</td>\n      <td>6874.000000</td>\n      <td>6853.000000</td>\n      <td>7.535000e+03</td>\n      <td>6849.000000</td>\n      <td>6849.000000</td>\n      <td>6718.000000</td>\n    </tr>\n    <tr>\n      <th>mean</th>\n      <td>0.014238</td>\n      <td>0.009213</td>\n      <td>0.005304</td>\n      <td>0.190975</td>\n      <td>522.819409</td>\n      <td>530.765050</td>\n      <td>0.005583</td>\n      <td>2356.837940</td>\n      <td>0.510207</td>\n      <td>0.189997</td>\n      <td>...</td>\n      <td>0.013813</td>\n      <td>0.004569</td>\n      <td>0.023950</td>\n      <td>0.016086</td>\n      <td>0.045181</td>\n      <td>0.226639</td>\n      <td>1.328063e+03</td>\n      <td>0.530643</td>\n      <td>0.522211</td>\n      <td>0.410021</td>\n    </tr>\n    <tr>\n      <th>std</th>\n      <td>0.118478</td>\n      <td>0.095546</td>\n      <td>0.072642</td>\n      <td>0.393096</td>\n      <td>68.578862</td>\n      <td>73.469767</td>\n      <td>0.074519</td>\n      <td>5474.275871</td>\n      <td>0.286958</td>\n      <td>0.224587</td>\n      <td>...</td>\n      <td>0.070196</td>\n      <td>0.033125</td>\n      <td>0.031288</td>\n      <td>0.050172</td>\n      <td>0.093440</td>\n      <td>0.246470</td>\n      <td>1.152016e+05</td>\n      <td>0.225544</td>\n      <td>0.283616</td>\n      <td>0.228939</td>\n    </tr>\n    <tr>\n      <th>min</th>\n      <td>0.000000</td>\n      <td>0.000000</td>\n      <td>0.000000</td>\n      <td>0.000000</td>\n      <td>290.000000</td>\n      <td>310.000000</td>\n      <td>0.000000</td>\n      <td>0.000000</td>\n      <td>0.000000</td>\n      <td>0.000000</td>\n      <td>...</td>\n      <td>0.000000</td>\n      <td>0.000000</td>\n      <td>0.000000</td>\n      <td>0.000000</td>\n      <td>0.000000</td>\n      <td>0.000000</td>\n      <td>0.000000e+00</td>\n      <td>0.000000</td>\n      <td>0.000000</td>\n      <td>0.000000</td>\n    </tr>\n    <tr>\n      <th>25%</th>\n      <td>0.000000</td>\n      <td>0.000000</td>\n      <td>0.000000</td>\n      <td>0.000000</td>\n      <td>475.000000</td>\n      <td>482.000000</td>\n      <td>0.000000</td>\n      <td>117.000000</td>\n      <td>0.267500</td>\n      <td>0.036125</td>\n      <td>...</td>\n      <td>0.000000</td>\n      <td>0.000000</td>\n      <td>0.000000</td>\n      <td>0.000000</td>\n      <td>0.000000</td>\n      <td>0.000000</td>\n      <td>1.000000e+00</td>\n      <td>0.357800</td>\n      <td>0.332900</td>\n      <td>0.241500</td>\n    </tr>\n    <tr>\n      <th>50%</th>\n      <td>0.000000</td>\n      <td>0.000000</td>\n      <td>0.000000</td>\n      <td>0.000000</td>\n      <td>510.000000</td>\n      <td>520.000000</td>\n      <td>0.000000</td>\n      <td>412.500000</td>\n      <td>0.555700</td>\n      <td>0.100050</td>\n      <td>...</td>\n      <td>0.002600</td>\n      <td>0.000000</td>\n      <td>0.017500</td>\n      <td>0.000000</td>\n      <td>0.014300</td>\n      <td>0.150400</td>\n      <td>1.000000e+00</td>\n      <td>0.521500</td>\n      <td>0.583300</td>\n      <td>0.400750</td>\n    </tr>\n    <tr>\n      <th>75%</th>\n      <td>0.000000</td>\n      <td>0.000000</td>\n      <td>0.000000</td>\n      <td>0.000000</td>\n      <td>555.000000</td>\n      <td>565.000000</td>\n      <td>0.000000</td>\n      <td>1929.500000</td>\n      <td>0.747875</td>\n      <td>0.257700</td>\n      <td>...</td>\n      <td>0.007300</td>\n      <td>0.002500</td>\n      <td>0.033900</td>\n      <td>0.011700</td>\n      <td>0.045400</td>\n      <td>0.376900</td>\n      <td>1.000000e+00</td>\n      <td>0.712900</td>\n      <td>0.745000</td>\n      <td>0.572275</td>\n    </tr>\n    <tr>\n      <th>max</th>\n      <td>1.000000</td>\n      <td>1.000000</td>\n      <td>1.000000</td>\n      <td>1.000000</td>\n      <td>765.000000</td>\n      <td>785.000000</td>\n      <td>1.000000</td>\n      <td>151558.000000</td>\n      <td>1.000000</td>\n      <td>1.000000</td>\n      <td>...</td>\n      <td>1.000000</td>\n      <td>0.998300</td>\n      <td>0.533300</td>\n      <td>0.928600</td>\n      <td>0.902700</td>\n      <td>1.000000</td>\n      <td>1.000000e+07</td>\n      <td>1.000000</td>\n      <td>1.000000</td>\n      <td>1.000000</td>\n    </tr>\n  </tbody>\n</table>\n<p>8 rows × 22 columns</p>\n</div>"
     },
     "execution_count": 32,
     "metadata": {},
     "output_type": "execute_result"
    }
   ],
   "source": [
    "college.describe(include=['int64', 'float64'])"
   ],
   "metadata": {
    "collapsed": false
   }
  },
  {
   "cell_type": "code",
   "execution_count": 34,
   "outputs": [
    {
     "data": {
      "text/plain": "True"
     },
     "execution_count": 34,
     "metadata": {},
     "output_type": "execute_result"
    }
   ],
   "source": [
    "college.describe(include=[np.int64, np.float64]).equals(college.describe(include=['int64', 'float64']))"
   ],
   "metadata": {
    "collapsed": false
   }
  },
  {
   "cell_type": "markdown",
   "source": [
    "최대 중에 최소 선택"
   ],
   "metadata": {
    "collapsed": false
   }
  },
  {
   "cell_type": "code",
   "execution_count": 35,
   "outputs": [],
   "source": [
    "movie = pd.read_csv('data/movie.csv')"
   ],
   "metadata": {
    "collapsed": false
   }
  },
  {
   "cell_type": "code",
   "execution_count": 36,
   "outputs": [],
   "source": [
    "movie2 = movie[['movie_title', 'imdb_score', 'budget']]"
   ],
   "metadata": {
    "collapsed": false
   }
  },
  {
   "cell_type": "code",
   "execution_count": 37,
   "outputs": [
    {
     "data": {
      "text/plain": "                                  movie_title  imdb_score       budget\n0                                      Avatar         7.9  237000000.0\n1    Pirates of the Caribbean: At World's End         7.1  300000000.0\n2                                     Spectre         6.8  245000000.0\n3                       The Dark Knight Rises         8.5  250000000.0\n4  Star Wars: Episode VII - The Force Awakens         7.1          NaN",
      "text/html": "<div>\n<style scoped>\n    .dataframe tbody tr th:only-of-type {\n        vertical-align: middle;\n    }\n\n    .dataframe tbody tr th {\n        vertical-align: top;\n    }\n\n    .dataframe thead th {\n        text-align: right;\n    }\n</style>\n<table border=\"1\" class=\"dataframe\">\n  <thead>\n    <tr style=\"text-align: right;\">\n      <th></th>\n      <th>movie_title</th>\n      <th>imdb_score</th>\n      <th>budget</th>\n    </tr>\n  </thead>\n  <tbody>\n    <tr>\n      <th>0</th>\n      <td>Avatar</td>\n      <td>7.9</td>\n      <td>237000000.0</td>\n    </tr>\n    <tr>\n      <th>1</th>\n      <td>Pirates of the Caribbean: At World's End</td>\n      <td>7.1</td>\n      <td>300000000.0</td>\n    </tr>\n    <tr>\n      <th>2</th>\n      <td>Spectre</td>\n      <td>6.8</td>\n      <td>245000000.0</td>\n    </tr>\n    <tr>\n      <th>3</th>\n      <td>The Dark Knight Rises</td>\n      <td>8.5</td>\n      <td>250000000.0</td>\n    </tr>\n    <tr>\n      <th>4</th>\n      <td>Star Wars: Episode VII - The Force Awakens</td>\n      <td>7.1</td>\n      <td>NaN</td>\n    </tr>\n  </tbody>\n</table>\n</div>"
     },
     "execution_count": 37,
     "metadata": {},
     "output_type": "execute_result"
    }
   ],
   "source": [
    "movie2.head()"
   ],
   "metadata": {
    "collapsed": false
   }
  },
  {
   "cell_type": "code",
   "execution_count": 38,
   "outputs": [
    {
     "data": {
      "text/plain": "                   movie_title  imdb_score      budget\n2725          Towering Inferno         9.5         NaN\n1920  The Shawshank Redemption         9.3  25000000.0\n3402             The Godfather         9.2   6000000.0\n2779                   Dekalog         9.1         NaN\n4312      Kickboxer: Vengeance         9.1  17000000.0",
      "text/html": "<div>\n<style scoped>\n    .dataframe tbody tr th:only-of-type {\n        vertical-align: middle;\n    }\n\n    .dataframe tbody tr th {\n        vertical-align: top;\n    }\n\n    .dataframe thead th {\n        text-align: right;\n    }\n</style>\n<table border=\"1\" class=\"dataframe\">\n  <thead>\n    <tr style=\"text-align: right;\">\n      <th></th>\n      <th>movie_title</th>\n      <th>imdb_score</th>\n      <th>budget</th>\n    </tr>\n  </thead>\n  <tbody>\n    <tr>\n      <th>2725</th>\n      <td>Towering Inferno</td>\n      <td>9.5</td>\n      <td>NaN</td>\n    </tr>\n    <tr>\n      <th>1920</th>\n      <td>The Shawshank Redemption</td>\n      <td>9.3</td>\n      <td>25000000.0</td>\n    </tr>\n    <tr>\n      <th>3402</th>\n      <td>The Godfather</td>\n      <td>9.2</td>\n      <td>6000000.0</td>\n    </tr>\n    <tr>\n      <th>2779</th>\n      <td>Dekalog</td>\n      <td>9.1</td>\n      <td>NaN</td>\n    </tr>\n    <tr>\n      <th>4312</th>\n      <td>Kickboxer: Vengeance</td>\n      <td>9.1</td>\n      <td>17000000.0</td>\n    </tr>\n  </tbody>\n</table>\n</div>"
     },
     "execution_count": 38,
     "metadata": {},
     "output_type": "execute_result"
    }
   ],
   "source": [
    "movie2.nlargest(100, 'imdb_score').head()"
   ],
   "metadata": {
    "collapsed": false
   }
  },
  {
   "cell_type": "code",
   "execution_count": 39,
   "outputs": [
    {
     "data": {
      "text/plain": "               movie_title  imdb_score    budget\n4804        Butterfly Girl         8.7  180000.0\n4801    Children of Heaven         8.5  180000.0\n4706          12 Angry Men         8.9  350000.0\n4550          A Separation         8.4  500000.0\n4636  The Other Dream Team         8.4  500000.0",
      "text/html": "<div>\n<style scoped>\n    .dataframe tbody tr th:only-of-type {\n        vertical-align: middle;\n    }\n\n    .dataframe tbody tr th {\n        vertical-align: top;\n    }\n\n    .dataframe thead th {\n        text-align: right;\n    }\n</style>\n<table border=\"1\" class=\"dataframe\">\n  <thead>\n    <tr style=\"text-align: right;\">\n      <th></th>\n      <th>movie_title</th>\n      <th>imdb_score</th>\n      <th>budget</th>\n    </tr>\n  </thead>\n  <tbody>\n    <tr>\n      <th>4804</th>\n      <td>Butterfly Girl</td>\n      <td>8.7</td>\n      <td>180000.0</td>\n    </tr>\n    <tr>\n      <th>4801</th>\n      <td>Children of Heaven</td>\n      <td>8.5</td>\n      <td>180000.0</td>\n    </tr>\n    <tr>\n      <th>4706</th>\n      <td>12 Angry Men</td>\n      <td>8.9</td>\n      <td>350000.0</td>\n    </tr>\n    <tr>\n      <th>4550</th>\n      <td>A Separation</td>\n      <td>8.4</td>\n      <td>500000.0</td>\n    </tr>\n    <tr>\n      <th>4636</th>\n      <td>The Other Dream Team</td>\n      <td>8.4</td>\n      <td>500000.0</td>\n    </tr>\n  </tbody>\n</table>\n</div>"
     },
     "execution_count": 39,
     "metadata": {},
     "output_type": "execute_result"
    }
   ],
   "source": [
    "(\n",
    "    movie2.nlargest(100, 'imdb_score').nsmallest(5, 'budget')\n",
    ")"
   ],
   "metadata": {
    "collapsed": false
   }
  },
  {
   "cell_type": "markdown",
   "source": [
    "정렬해 각 그룹에서 가장 큰 항목을 선택"
   ],
   "metadata": {
    "collapsed": false
   }
  },
  {
   "cell_type": "code",
   "execution_count": 40,
   "outputs": [],
   "source": [
    "movie = pd.read_csv('data/movie.csv')"
   ],
   "metadata": {
    "collapsed": false
   }
  },
  {
   "cell_type": "code",
   "execution_count": 41,
   "outputs": [
    {
     "data": {
      "text/plain": "                                     movie_title  title_year  imdb_score\n0                                         Avatar      2009.0         7.9\n1       Pirates of the Caribbean: At World's End      2007.0         7.1\n2                                        Spectre      2015.0         6.8\n3                          The Dark Knight Rises      2012.0         8.5\n4     Star Wars: Episode VII - The Force Awakens         NaN         7.1\n...                                          ...         ...         ...\n4911                     Signed Sealed Delivered      2013.0         7.7\n4912                               The Following         NaN         7.5\n4913                        A Plague So Pleasant      2013.0         6.3\n4914                            Shanghai Calling      2012.0         6.3\n4915                           My Date with Drew      2004.0         6.6\n\n[4916 rows x 3 columns]",
      "text/html": "<div>\n<style scoped>\n    .dataframe tbody tr th:only-of-type {\n        vertical-align: middle;\n    }\n\n    .dataframe tbody tr th {\n        vertical-align: top;\n    }\n\n    .dataframe thead th {\n        text-align: right;\n    }\n</style>\n<table border=\"1\" class=\"dataframe\">\n  <thead>\n    <tr style=\"text-align: right;\">\n      <th></th>\n      <th>movie_title</th>\n      <th>title_year</th>\n      <th>imdb_score</th>\n    </tr>\n  </thead>\n  <tbody>\n    <tr>\n      <th>0</th>\n      <td>Avatar</td>\n      <td>2009.0</td>\n      <td>7.9</td>\n    </tr>\n    <tr>\n      <th>1</th>\n      <td>Pirates of the Caribbean: At World's End</td>\n      <td>2007.0</td>\n      <td>7.1</td>\n    </tr>\n    <tr>\n      <th>2</th>\n      <td>Spectre</td>\n      <td>2015.0</td>\n      <td>6.8</td>\n    </tr>\n    <tr>\n      <th>3</th>\n      <td>The Dark Knight Rises</td>\n      <td>2012.0</td>\n      <td>8.5</td>\n    </tr>\n    <tr>\n      <th>4</th>\n      <td>Star Wars: Episode VII - The Force Awakens</td>\n      <td>NaN</td>\n      <td>7.1</td>\n    </tr>\n    <tr>\n      <th>...</th>\n      <td>...</td>\n      <td>...</td>\n      <td>...</td>\n    </tr>\n    <tr>\n      <th>4911</th>\n      <td>Signed Sealed Delivered</td>\n      <td>2013.0</td>\n      <td>7.7</td>\n    </tr>\n    <tr>\n      <th>4912</th>\n      <td>The Following</td>\n      <td>NaN</td>\n      <td>7.5</td>\n    </tr>\n    <tr>\n      <th>4913</th>\n      <td>A Plague So Pleasant</td>\n      <td>2013.0</td>\n      <td>6.3</td>\n    </tr>\n    <tr>\n      <th>4914</th>\n      <td>Shanghai Calling</td>\n      <td>2012.0</td>\n      <td>6.3</td>\n    </tr>\n    <tr>\n      <th>4915</th>\n      <td>My Date with Drew</td>\n      <td>2004.0</td>\n      <td>6.6</td>\n    </tr>\n  </tbody>\n</table>\n<p>4916 rows × 3 columns</p>\n</div>"
     },
     "execution_count": 41,
     "metadata": {},
     "output_type": "execute_result"
    }
   ],
   "source": [
    "movie[['movie_title', 'title_year', 'imdb_score']]"
   ],
   "metadata": {
    "collapsed": false
   }
  },
  {
   "cell_type": "code",
   "execution_count": 42,
   "outputs": [
    {
     "data": {
      "text/plain": "                                           movie_title  title_year  imdb_score\n4695  Intolerance: Love's Struggle Throughout the Ages      1916.0         8.0\n4833                    Over the Hill to the Poorhouse      1920.0         4.8\n4767                                    The Big Parade      1925.0         8.3\n2694                                        Metropolis      1927.0         8.3\n4697                               The Broadway Melody      1929.0         6.3\n...                                                ...         ...         ...\n4683                                            Heroes         NaN         7.7\n4688                                       Home Movies         NaN         8.2\n4704                                        Revolution         NaN         6.7\n4752                                      Happy Valley         NaN         8.5\n4912                                     The Following         NaN         7.5\n\n[4916 rows x 3 columns]",
      "text/html": "<div>\n<style scoped>\n    .dataframe tbody tr th:only-of-type {\n        vertical-align: middle;\n    }\n\n    .dataframe tbody tr th {\n        vertical-align: top;\n    }\n\n    .dataframe thead th {\n        text-align: right;\n    }\n</style>\n<table border=\"1\" class=\"dataframe\">\n  <thead>\n    <tr style=\"text-align: right;\">\n      <th></th>\n      <th>movie_title</th>\n      <th>title_year</th>\n      <th>imdb_score</th>\n    </tr>\n  </thead>\n  <tbody>\n    <tr>\n      <th>4695</th>\n      <td>Intolerance: Love's Struggle Throughout the Ages</td>\n      <td>1916.0</td>\n      <td>8.0</td>\n    </tr>\n    <tr>\n      <th>4833</th>\n      <td>Over the Hill to the Poorhouse</td>\n      <td>1920.0</td>\n      <td>4.8</td>\n    </tr>\n    <tr>\n      <th>4767</th>\n      <td>The Big Parade</td>\n      <td>1925.0</td>\n      <td>8.3</td>\n    </tr>\n    <tr>\n      <th>2694</th>\n      <td>Metropolis</td>\n      <td>1927.0</td>\n      <td>8.3</td>\n    </tr>\n    <tr>\n      <th>4697</th>\n      <td>The Broadway Melody</td>\n      <td>1929.0</td>\n      <td>6.3</td>\n    </tr>\n    <tr>\n      <th>...</th>\n      <td>...</td>\n      <td>...</td>\n      <td>...</td>\n    </tr>\n    <tr>\n      <th>4683</th>\n      <td>Heroes</td>\n      <td>NaN</td>\n      <td>7.7</td>\n    </tr>\n    <tr>\n      <th>4688</th>\n      <td>Home Movies</td>\n      <td>NaN</td>\n      <td>8.2</td>\n    </tr>\n    <tr>\n      <th>4704</th>\n      <td>Revolution</td>\n      <td>NaN</td>\n      <td>6.7</td>\n    </tr>\n    <tr>\n      <th>4752</th>\n      <td>Happy Valley</td>\n      <td>NaN</td>\n      <td>8.5</td>\n    </tr>\n    <tr>\n      <th>4912</th>\n      <td>The Following</td>\n      <td>NaN</td>\n      <td>7.5</td>\n    </tr>\n  </tbody>\n</table>\n<p>4916 rows × 3 columns</p>\n</div>"
     },
     "execution_count": 42,
     "metadata": {},
     "output_type": "execute_result"
    }
   ],
   "source": [
    "(\n",
    "    movie[['movie_title', 'title_year', 'imdb_score']]\n",
    "    .sort_values('title_year', ascending=True)\n",
    ")"
   ],
   "metadata": {
    "collapsed": false
   }
  },
  {
   "cell_type": "code",
   "execution_count": 44,
   "outputs": [
    {
     "data": {
      "text/plain": "                      movie_title  title_year  imdb_score\n4312         Kickboxer: Vengeance      2016.0         9.1\n4277  A Beginner's Guide to Snuff      2016.0         8.7\n3798                      Airlift      2016.0         8.5\n27     Captain America: Civil War      2016.0         8.2\n98            Godzilla Resurgence      2016.0         8.2\n...                           ...         ...         ...\n1391                    Rush Hour         NaN         5.8\n4031                     Creature         NaN         5.0\n2165              Meet the Browns         NaN         3.5\n3246   The Bold and the Beautiful         NaN         3.5\n2119                 The Bachelor         NaN         2.9\n\n[4916 rows x 3 columns]",
      "text/html": "<div>\n<style scoped>\n    .dataframe tbody tr th:only-of-type {\n        vertical-align: middle;\n    }\n\n    .dataframe tbody tr th {\n        vertical-align: top;\n    }\n\n    .dataframe thead th {\n        text-align: right;\n    }\n</style>\n<table border=\"1\" class=\"dataframe\">\n  <thead>\n    <tr style=\"text-align: right;\">\n      <th></th>\n      <th>movie_title</th>\n      <th>title_year</th>\n      <th>imdb_score</th>\n    </tr>\n  </thead>\n  <tbody>\n    <tr>\n      <th>4312</th>\n      <td>Kickboxer: Vengeance</td>\n      <td>2016.0</td>\n      <td>9.1</td>\n    </tr>\n    <tr>\n      <th>4277</th>\n      <td>A Beginner's Guide to Snuff</td>\n      <td>2016.0</td>\n      <td>8.7</td>\n    </tr>\n    <tr>\n      <th>3798</th>\n      <td>Airlift</td>\n      <td>2016.0</td>\n      <td>8.5</td>\n    </tr>\n    <tr>\n      <th>27</th>\n      <td>Captain America: Civil War</td>\n      <td>2016.0</td>\n      <td>8.2</td>\n    </tr>\n    <tr>\n      <th>98</th>\n      <td>Godzilla Resurgence</td>\n      <td>2016.0</td>\n      <td>8.2</td>\n    </tr>\n    <tr>\n      <th>...</th>\n      <td>...</td>\n      <td>...</td>\n      <td>...</td>\n    </tr>\n    <tr>\n      <th>1391</th>\n      <td>Rush Hour</td>\n      <td>NaN</td>\n      <td>5.8</td>\n    </tr>\n    <tr>\n      <th>4031</th>\n      <td>Creature</td>\n      <td>NaN</td>\n      <td>5.0</td>\n    </tr>\n    <tr>\n      <th>2165</th>\n      <td>Meet the Browns</td>\n      <td>NaN</td>\n      <td>3.5</td>\n    </tr>\n    <tr>\n      <th>3246</th>\n      <td>The Bold and the Beautiful</td>\n      <td>NaN</td>\n      <td>3.5</td>\n    </tr>\n    <tr>\n      <th>2119</th>\n      <td>The Bachelor</td>\n      <td>NaN</td>\n      <td>2.9</td>\n    </tr>\n  </tbody>\n</table>\n<p>4916 rows × 3 columns</p>\n</div>"
     },
     "execution_count": 44,
     "metadata": {},
     "output_type": "execute_result"
    }
   ],
   "source": [
    "(\n",
    "    movie[['movie_title', 'title_year', 'imdb_score']]\n",
    "    .sort_values(['title_year', 'imdb_score'], ascending=False)\n",
    ")"
   ],
   "metadata": {
    "collapsed": false
   }
  },
  {
   "cell_type": "code",
   "execution_count": 45,
   "outputs": [
    {
     "data": {
      "text/plain": "                                           movie_title  title_year  imdb_score\n4312                              Kickboxer: Vengeance      2016.0         9.1\n3745                                   Running Forever      2015.0         8.6\n4369                            Queen of the Mountains      2014.0         8.7\n3935           Batman: The Dark Knight Returns, Part 2      2013.0         8.4\n3                                The Dark Knight Rises      2012.0         8.5\n...                                                ...         ...         ...\n2694                                        Metropolis      1927.0         8.3\n4767                                    The Big Parade      1925.0         8.3\n4833                    Over the Hill to the Poorhouse      1920.0         4.8\n4695  Intolerance: Love's Struggle Throughout the Ages      1916.0         8.0\n2725                                  Towering Inferno         NaN         9.5\n\n[92 rows x 3 columns]",
      "text/html": "<div>\n<style scoped>\n    .dataframe tbody tr th:only-of-type {\n        vertical-align: middle;\n    }\n\n    .dataframe tbody tr th {\n        vertical-align: top;\n    }\n\n    .dataframe thead th {\n        text-align: right;\n    }\n</style>\n<table border=\"1\" class=\"dataframe\">\n  <thead>\n    <tr style=\"text-align: right;\">\n      <th></th>\n      <th>movie_title</th>\n      <th>title_year</th>\n      <th>imdb_score</th>\n    </tr>\n  </thead>\n  <tbody>\n    <tr>\n      <th>4312</th>\n      <td>Kickboxer: Vengeance</td>\n      <td>2016.0</td>\n      <td>9.1</td>\n    </tr>\n    <tr>\n      <th>3745</th>\n      <td>Running Forever</td>\n      <td>2015.0</td>\n      <td>8.6</td>\n    </tr>\n    <tr>\n      <th>4369</th>\n      <td>Queen of the Mountains</td>\n      <td>2014.0</td>\n      <td>8.7</td>\n    </tr>\n    <tr>\n      <th>3935</th>\n      <td>Batman: The Dark Knight Returns, Part 2</td>\n      <td>2013.0</td>\n      <td>8.4</td>\n    </tr>\n    <tr>\n      <th>3</th>\n      <td>The Dark Knight Rises</td>\n      <td>2012.0</td>\n      <td>8.5</td>\n    </tr>\n    <tr>\n      <th>...</th>\n      <td>...</td>\n      <td>...</td>\n      <td>...</td>\n    </tr>\n    <tr>\n      <th>2694</th>\n      <td>Metropolis</td>\n      <td>1927.0</td>\n      <td>8.3</td>\n    </tr>\n    <tr>\n      <th>4767</th>\n      <td>The Big Parade</td>\n      <td>1925.0</td>\n      <td>8.3</td>\n    </tr>\n    <tr>\n      <th>4833</th>\n      <td>Over the Hill to the Poorhouse</td>\n      <td>1920.0</td>\n      <td>4.8</td>\n    </tr>\n    <tr>\n      <th>4695</th>\n      <td>Intolerance: Love's Struggle Throughout the Ages</td>\n      <td>1916.0</td>\n      <td>8.0</td>\n    </tr>\n    <tr>\n      <th>2725</th>\n      <td>Towering Inferno</td>\n      <td>NaN</td>\n      <td>9.5</td>\n    </tr>\n  </tbody>\n</table>\n<p>92 rows × 3 columns</p>\n</div>"
     },
     "execution_count": 45,
     "metadata": {},
     "output_type": "execute_result"
    }
   ],
   "source": [
    "(\n",
    "    movie[['movie_title', 'title_year', 'imdb_score']]\n",
    "    .sort_values(['title_year', 'imdb_score'], ascending=False)\n",
    "    .drop_duplicates(subset='title_year')\n",
    ")"
   ],
   "metadata": {
    "collapsed": false
   }
  },
  {
   "cell_type": "code",
   "execution_count": 54,
   "outputs": [
    {
     "data": {
      "text/plain": "                                           movie_title  title_year  imdb_score\n4312                              Kickboxer: Vengeance      2016.0         9.1\n3745                                   Running Forever      2015.0         8.6\n4369                            Queen of the Mountains      2014.0         8.7\n3935           Batman: The Dark Knight Returns, Part 2      2013.0         8.4\n3                                The Dark Knight Rises      2012.0         8.5\n...                                                ...         ...         ...\n4555                                     Pandora's Box      1929.0         8.0\n2694                                        Metropolis      1927.0         8.3\n4767                                    The Big Parade      1925.0         8.3\n4833                    Over the Hill to the Poorhouse      1920.0         4.8\n4695  Intolerance: Love's Struggle Throughout the Ages      1916.0         8.0\n\n[91 rows x 3 columns]",
      "text/html": "<div>\n<style scoped>\n    .dataframe tbody tr th:only-of-type {\n        vertical-align: middle;\n    }\n\n    .dataframe tbody tr th {\n        vertical-align: top;\n    }\n\n    .dataframe thead th {\n        text-align: right;\n    }\n</style>\n<table border=\"1\" class=\"dataframe\">\n  <thead>\n    <tr style=\"text-align: right;\">\n      <th></th>\n      <th>movie_title</th>\n      <th>title_year</th>\n      <th>imdb_score</th>\n    </tr>\n  </thead>\n  <tbody>\n    <tr>\n      <th>4312</th>\n      <td>Kickboxer: Vengeance</td>\n      <td>2016.0</td>\n      <td>9.1</td>\n    </tr>\n    <tr>\n      <th>3745</th>\n      <td>Running Forever</td>\n      <td>2015.0</td>\n      <td>8.6</td>\n    </tr>\n    <tr>\n      <th>4369</th>\n      <td>Queen of the Mountains</td>\n      <td>2014.0</td>\n      <td>8.7</td>\n    </tr>\n    <tr>\n      <th>3935</th>\n      <td>Batman: The Dark Knight Returns, Part 2</td>\n      <td>2013.0</td>\n      <td>8.4</td>\n    </tr>\n    <tr>\n      <th>3</th>\n      <td>The Dark Knight Rises</td>\n      <td>2012.0</td>\n      <td>8.5</td>\n    </tr>\n    <tr>\n      <th>...</th>\n      <td>...</td>\n      <td>...</td>\n      <td>...</td>\n    </tr>\n    <tr>\n      <th>4555</th>\n      <td>Pandora's Box</td>\n      <td>1929.0</td>\n      <td>8.0</td>\n    </tr>\n    <tr>\n      <th>2694</th>\n      <td>Metropolis</td>\n      <td>1927.0</td>\n      <td>8.3</td>\n    </tr>\n    <tr>\n      <th>4767</th>\n      <td>The Big Parade</td>\n      <td>1925.0</td>\n      <td>8.3</td>\n    </tr>\n    <tr>\n      <th>4833</th>\n      <td>Over the Hill to the Poorhouse</td>\n      <td>1920.0</td>\n      <td>4.8</td>\n    </tr>\n    <tr>\n      <th>4695</th>\n      <td>Intolerance: Love's Struggle Throughout the Ages</td>\n      <td>1916.0</td>\n      <td>8.0</td>\n    </tr>\n  </tbody>\n</table>\n<p>91 rows × 3 columns</p>\n</div>"
     },
     "execution_count": 54,
     "metadata": {},
     "output_type": "execute_result"
    }
   ],
   "source": [
    "(\n",
    "    movie[['movie_title', 'title_year', 'imdb_score']]\n",
    "    .groupby('title_year', as_index=False)\n",
    "    .apply(lambda df: df.sort_values(\n",
    "        'imdb_score', ascending=False\n",
    "    ).head(1))\n",
    "    .droplevel(0)\n",
    "    .sort_values('title_year', ascending=False)\n",
    ")"
   ],
   "metadata": {
    "collapsed": false
   }
  },
  {
   "cell_type": "code",
   "execution_count": 55,
   "outputs": [
    {
     "data": {
      "text/plain": "                         movie_title  title_year content_rating      budget\n4026                       Compadres      2016.0              R   3000000.0\n4658             Fight to the Finish      2016.0          PG-13    150000.0\n4661                      Rodeo Girl      2016.0             PG    500000.0\n3252                     The Wailing      2016.0      Not Rated         NaN\n4659  Alleluia! The Devil's Carnival      2016.0            NaN    500000.0\n...                              ...         ...            ...         ...\n2558                      Lilyhammer         NaN          TV-MA  34000000.0\n807       Sabrina, the Teenage Witch         NaN           TV-G   3000000.0\n848                    Stargate SG-1         NaN          TV-14   1400000.0\n2436                          Carlos         NaN      Not Rated         NaN\n2119                    The Bachelor         NaN            NaN   3000000.0\n\n[359 rows x 4 columns]",
      "text/html": "<div>\n<style scoped>\n    .dataframe tbody tr th:only-of-type {\n        vertical-align: middle;\n    }\n\n    .dataframe tbody tr th {\n        vertical-align: top;\n    }\n\n    .dataframe thead th {\n        text-align: right;\n    }\n</style>\n<table border=\"1\" class=\"dataframe\">\n  <thead>\n    <tr style=\"text-align: right;\">\n      <th></th>\n      <th>movie_title</th>\n      <th>title_year</th>\n      <th>content_rating</th>\n      <th>budget</th>\n    </tr>\n  </thead>\n  <tbody>\n    <tr>\n      <th>4026</th>\n      <td>Compadres</td>\n      <td>2016.0</td>\n      <td>R</td>\n      <td>3000000.0</td>\n    </tr>\n    <tr>\n      <th>4658</th>\n      <td>Fight to the Finish</td>\n      <td>2016.0</td>\n      <td>PG-13</td>\n      <td>150000.0</td>\n    </tr>\n    <tr>\n      <th>4661</th>\n      <td>Rodeo Girl</td>\n      <td>2016.0</td>\n      <td>PG</td>\n      <td>500000.0</td>\n    </tr>\n    <tr>\n      <th>3252</th>\n      <td>The Wailing</td>\n      <td>2016.0</td>\n      <td>Not Rated</td>\n      <td>NaN</td>\n    </tr>\n    <tr>\n      <th>4659</th>\n      <td>Alleluia! The Devil's Carnival</td>\n      <td>2016.0</td>\n      <td>NaN</td>\n      <td>500000.0</td>\n    </tr>\n    <tr>\n      <th>...</th>\n      <td>...</td>\n      <td>...</td>\n      <td>...</td>\n      <td>...</td>\n    </tr>\n    <tr>\n      <th>2558</th>\n      <td>Lilyhammer</td>\n      <td>NaN</td>\n      <td>TV-MA</td>\n      <td>34000000.0</td>\n    </tr>\n    <tr>\n      <th>807</th>\n      <td>Sabrina, the Teenage Witch</td>\n      <td>NaN</td>\n      <td>TV-G</td>\n      <td>3000000.0</td>\n    </tr>\n    <tr>\n      <th>848</th>\n      <td>Stargate SG-1</td>\n      <td>NaN</td>\n      <td>TV-14</td>\n      <td>1400000.0</td>\n    </tr>\n    <tr>\n      <th>2436</th>\n      <td>Carlos</td>\n      <td>NaN</td>\n      <td>Not Rated</td>\n      <td>NaN</td>\n    </tr>\n    <tr>\n      <th>2119</th>\n      <td>The Bachelor</td>\n      <td>NaN</td>\n      <td>NaN</td>\n      <td>3000000.0</td>\n    </tr>\n  </tbody>\n</table>\n<p>359 rows × 4 columns</p>\n</div>"
     },
     "execution_count": 55,
     "metadata": {},
     "output_type": "execute_result"
    }
   ],
   "source": [
    "(\n",
    "    movie[['movie_title', 'title_year', 'content_rating', 'budget']]\n",
    "    .sort_values(['title_year', 'content_rating', 'budget'], ascending=[False, False, True])\n",
    "    .drop_duplicates(subset=['title_year', 'content_rating'])\n",
    ")"
   ],
   "metadata": {
    "collapsed": false
   }
  },
  {
   "cell_type": "markdown",
   "source": [
    "sort_values 를 사용해 nlargest 복제"
   ],
   "metadata": {
    "collapsed": false
   }
  },
  {
   "cell_type": "code",
   "execution_count": 56,
   "outputs": [],
   "source": [
    "movie = pd.read_csv('data/movie.csv')"
   ],
   "metadata": {
    "collapsed": false
   }
  },
  {
   "cell_type": "code",
   "execution_count": 57,
   "outputs": [
    {
     "data": {
      "text/plain": "               movie_title  imdb_score    budget\n4804        Butterfly Girl         8.7  180000.0\n4801    Children of Heaven         8.5  180000.0\n4706          12 Angry Men         8.9  350000.0\n4550          A Separation         8.4  500000.0\n4636  The Other Dream Team         8.4  500000.0",
      "text/html": "<div>\n<style scoped>\n    .dataframe tbody tr th:only-of-type {\n        vertical-align: middle;\n    }\n\n    .dataframe tbody tr th {\n        vertical-align: top;\n    }\n\n    .dataframe thead th {\n        text-align: right;\n    }\n</style>\n<table border=\"1\" class=\"dataframe\">\n  <thead>\n    <tr style=\"text-align: right;\">\n      <th></th>\n      <th>movie_title</th>\n      <th>imdb_score</th>\n      <th>budget</th>\n    </tr>\n  </thead>\n  <tbody>\n    <tr>\n      <th>4804</th>\n      <td>Butterfly Girl</td>\n      <td>8.7</td>\n      <td>180000.0</td>\n    </tr>\n    <tr>\n      <th>4801</th>\n      <td>Children of Heaven</td>\n      <td>8.5</td>\n      <td>180000.0</td>\n    </tr>\n    <tr>\n      <th>4706</th>\n      <td>12 Angry Men</td>\n      <td>8.9</td>\n      <td>350000.0</td>\n    </tr>\n    <tr>\n      <th>4550</th>\n      <td>A Separation</td>\n      <td>8.4</td>\n      <td>500000.0</td>\n    </tr>\n    <tr>\n      <th>4636</th>\n      <td>The Other Dream Team</td>\n      <td>8.4</td>\n      <td>500000.0</td>\n    </tr>\n  </tbody>\n</table>\n</div>"
     },
     "execution_count": 57,
     "metadata": {},
     "output_type": "execute_result"
    }
   ],
   "source": [
    "(\n",
    "    movie[['movie_title', 'imdb_score', 'budget']]\n",
    "    .nlargest(100, 'imdb_score')\n",
    "    .nsmallest(5, 'budget')\n",
    ")"
   ],
   "metadata": {
    "collapsed": false
   }
  },
  {
   "cell_type": "code",
   "execution_count": 58,
   "outputs": [
    {
     "data": {
      "text/plain": "                                  movie_title  imdb_score      budget\n2725                         Towering Inferno         9.5         NaN\n1920                 The Shawshank Redemption         9.3  25000000.0\n3402                            The Godfather         9.2   6000000.0\n2779                                  Dekalog         9.1         NaN\n4312                     Kickboxer: Vengeance         9.1  17000000.0\n...                                       ...         ...         ...\n3799                     Anne of Green Gables         8.4         NaN\n3777                      Requiem for a Dream         8.4   4500000.0\n3935  Batman: The Dark Knight Returns, Part 2         8.4   3500000.0\n4636                     The Other Dream Team         8.4    500000.0\n2455                                   Aliens         8.4  18500000.0\n\n[100 rows x 3 columns]",
      "text/html": "<div>\n<style scoped>\n    .dataframe tbody tr th:only-of-type {\n        vertical-align: middle;\n    }\n\n    .dataframe tbody tr th {\n        vertical-align: top;\n    }\n\n    .dataframe thead th {\n        text-align: right;\n    }\n</style>\n<table border=\"1\" class=\"dataframe\">\n  <thead>\n    <tr style=\"text-align: right;\">\n      <th></th>\n      <th>movie_title</th>\n      <th>imdb_score</th>\n      <th>budget</th>\n    </tr>\n  </thead>\n  <tbody>\n    <tr>\n      <th>2725</th>\n      <td>Towering Inferno</td>\n      <td>9.5</td>\n      <td>NaN</td>\n    </tr>\n    <tr>\n      <th>1920</th>\n      <td>The Shawshank Redemption</td>\n      <td>9.3</td>\n      <td>25000000.0</td>\n    </tr>\n    <tr>\n      <th>3402</th>\n      <td>The Godfather</td>\n      <td>9.2</td>\n      <td>6000000.0</td>\n    </tr>\n    <tr>\n      <th>2779</th>\n      <td>Dekalog</td>\n      <td>9.1</td>\n      <td>NaN</td>\n    </tr>\n    <tr>\n      <th>4312</th>\n      <td>Kickboxer: Vengeance</td>\n      <td>9.1</td>\n      <td>17000000.0</td>\n    </tr>\n    <tr>\n      <th>...</th>\n      <td>...</td>\n      <td>...</td>\n      <td>...</td>\n    </tr>\n    <tr>\n      <th>3799</th>\n      <td>Anne of Green Gables</td>\n      <td>8.4</td>\n      <td>NaN</td>\n    </tr>\n    <tr>\n      <th>3777</th>\n      <td>Requiem for a Dream</td>\n      <td>8.4</td>\n      <td>4500000.0</td>\n    </tr>\n    <tr>\n      <th>3935</th>\n      <td>Batman: The Dark Knight Returns, Part 2</td>\n      <td>8.4</td>\n      <td>3500000.0</td>\n    </tr>\n    <tr>\n      <th>4636</th>\n      <td>The Other Dream Team</td>\n      <td>8.4</td>\n      <td>500000.0</td>\n    </tr>\n    <tr>\n      <th>2455</th>\n      <td>Aliens</td>\n      <td>8.4</td>\n      <td>18500000.0</td>\n    </tr>\n  </tbody>\n</table>\n<p>100 rows × 3 columns</p>\n</div>"
     },
     "execution_count": 58,
     "metadata": {},
     "output_type": "execute_result"
    }
   ],
   "source": [
    "(\n",
    "    movie[['movie_title', 'imdb_score', 'budget']]\n",
    "    .sort_values('imdb_score', ascending=False)\n",
    "    .head(100)\n",
    ")"
   ],
   "metadata": {
    "collapsed": false
   }
  },
  {
   "cell_type": "code",
   "execution_count": 59,
   "outputs": [
    {
     "data": {
      "text/plain": "                    movie_title  imdb_score    budget\n4815  A Charlie Brown Christmas         8.4  150000.0\n4801         Children of Heaven         8.5  180000.0\n4804             Butterfly Girl         8.7  180000.0\n4706               12 Angry Men         8.9  350000.0\n4636       The Other Dream Team         8.4  500000.0",
      "text/html": "<div>\n<style scoped>\n    .dataframe tbody tr th:only-of-type {\n        vertical-align: middle;\n    }\n\n    .dataframe tbody tr th {\n        vertical-align: top;\n    }\n\n    .dataframe thead th {\n        text-align: right;\n    }\n</style>\n<table border=\"1\" class=\"dataframe\">\n  <thead>\n    <tr style=\"text-align: right;\">\n      <th></th>\n      <th>movie_title</th>\n      <th>imdb_score</th>\n      <th>budget</th>\n    </tr>\n  </thead>\n  <tbody>\n    <tr>\n      <th>4815</th>\n      <td>A Charlie Brown Christmas</td>\n      <td>8.4</td>\n      <td>150000.0</td>\n    </tr>\n    <tr>\n      <th>4801</th>\n      <td>Children of Heaven</td>\n      <td>8.5</td>\n      <td>180000.0</td>\n    </tr>\n    <tr>\n      <th>4804</th>\n      <td>Butterfly Girl</td>\n      <td>8.7</td>\n      <td>180000.0</td>\n    </tr>\n    <tr>\n      <th>4706</th>\n      <td>12 Angry Men</td>\n      <td>8.9</td>\n      <td>350000.0</td>\n    </tr>\n    <tr>\n      <th>4636</th>\n      <td>The Other Dream Team</td>\n      <td>8.4</td>\n      <td>500000.0</td>\n    </tr>\n  </tbody>\n</table>\n</div>"
     },
     "execution_count": 59,
     "metadata": {},
     "output_type": "execute_result"
    }
   ],
   "source": [
    "(\n",
    "    movie[['movie_title', 'imdb_score', 'budget']]\n",
    "    .sort_values('imdb_score', ascending=False)\n",
    "    .head(100)\n",
    "    .sort_values('budget')\n",
    "    .head(5)\n",
    ")"
   ],
   "metadata": {
    "collapsed": false
   }
  },
  {
   "cell_type": "code",
   "execution_count": 60,
   "outputs": [
    {
     "data": {
      "text/plain": "                movie_title  imdb_score     budget\n4023                 Oldboy         8.4  3000000.0\n4163  To Kill a Mockingbird         8.4  2000000.0\n4395         Reservoir Dogs         8.4  1200000.0\n4550           A Separation         8.4   500000.0\n4636   The Other Dream Team         8.4   500000.0",
      "text/html": "<div>\n<style scoped>\n    .dataframe tbody tr th:only-of-type {\n        vertical-align: middle;\n    }\n\n    .dataframe tbody tr th {\n        vertical-align: top;\n    }\n\n    .dataframe thead th {\n        text-align: right;\n    }\n</style>\n<table border=\"1\" class=\"dataframe\">\n  <thead>\n    <tr style=\"text-align: right;\">\n      <th></th>\n      <th>movie_title</th>\n      <th>imdb_score</th>\n      <th>budget</th>\n    </tr>\n  </thead>\n  <tbody>\n    <tr>\n      <th>4023</th>\n      <td>Oldboy</td>\n      <td>8.4</td>\n      <td>3000000.0</td>\n    </tr>\n    <tr>\n      <th>4163</th>\n      <td>To Kill a Mockingbird</td>\n      <td>8.4</td>\n      <td>2000000.0</td>\n    </tr>\n    <tr>\n      <th>4395</th>\n      <td>Reservoir Dogs</td>\n      <td>8.4</td>\n      <td>1200000.0</td>\n    </tr>\n    <tr>\n      <th>4550</th>\n      <td>A Separation</td>\n      <td>8.4</td>\n      <td>500000.0</td>\n    </tr>\n    <tr>\n      <th>4636</th>\n      <td>The Other Dream Team</td>\n      <td>8.4</td>\n      <td>500000.0</td>\n    </tr>\n  </tbody>\n</table>\n</div>"
     },
     "execution_count": 60,
     "metadata": {},
     "output_type": "execute_result"
    }
   ],
   "source": [
    "(\n",
    "    movie[['movie_title', 'imdb_score', 'budget']]\n",
    "    .nlargest(100, 'imdb_score')\n",
    "    .tail()\n",
    ")"
   ],
   "metadata": {
    "collapsed": false
   }
  },
  {
   "cell_type": "code",
   "execution_count": 62,
   "outputs": [
    {
     "data": {
      "text/plain": "                movie_title  imdb_score     budget\n4023                 Oldboy         8.4  3000000.0\n4163  To Kill a Mockingbird         8.4  2000000.0\n4395         Reservoir Dogs         8.4  1200000.0\n4550           A Separation         8.4   500000.0\n4636   The Other Dream Team         8.4   500000.0",
      "text/html": "<div>\n<style scoped>\n    .dataframe tbody tr th:only-of-type {\n        vertical-align: middle;\n    }\n\n    .dataframe tbody tr th {\n        vertical-align: top;\n    }\n\n    .dataframe thead th {\n        text-align: right;\n    }\n</style>\n<table border=\"1\" class=\"dataframe\">\n  <thead>\n    <tr style=\"text-align: right;\">\n      <th></th>\n      <th>movie_title</th>\n      <th>imdb_score</th>\n      <th>budget</th>\n    </tr>\n  </thead>\n  <tbody>\n    <tr>\n      <th>4023</th>\n      <td>Oldboy</td>\n      <td>8.4</td>\n      <td>3000000.0</td>\n    </tr>\n    <tr>\n      <th>4163</th>\n      <td>To Kill a Mockingbird</td>\n      <td>8.4</td>\n      <td>2000000.0</td>\n    </tr>\n    <tr>\n      <th>4395</th>\n      <td>Reservoir Dogs</td>\n      <td>8.4</td>\n      <td>1200000.0</td>\n    </tr>\n    <tr>\n      <th>4550</th>\n      <td>A Separation</td>\n      <td>8.4</td>\n      <td>500000.0</td>\n    </tr>\n    <tr>\n      <th>4636</th>\n      <td>The Other Dream Team</td>\n      <td>8.4</td>\n      <td>500000.0</td>\n    </tr>\n  </tbody>\n</table>\n</div>"
     },
     "execution_count": 62,
     "metadata": {},
     "output_type": "execute_result"
    }
   ],
   "source": [
    "(\n",
    "    movie[['movie_title', 'imdb_score', 'budget']]\n",
    "    .sort_values('imdb_score', ascending=False, kind='mergsort')\n",
    "    .head(100)\n",
    "    .tail()\n",
    ")"
   ],
   "metadata": {
    "collapsed": false
   }
  },
  {
   "cell_type": "markdown",
   "source": [
    "추적 지정가 주문 가격 계산"
   ],
   "metadata": {
    "collapsed": false
   }
  },
  {
   "cell_type": "code",
   "execution_count": 63,
   "outputs": [],
   "source": [
    "import datetime\n",
    "import pandas_datareader.data as web\n",
    "import requests_cache"
   ],
   "metadata": {
    "collapsed": false
   }
  },
  {
   "cell_type": "code",
   "execution_count": 64,
   "outputs": [],
   "source": [
    "session = requests_cache.CachedSession(\n",
    "    cache_name='cache',\n",
    "    backend='sqlite',\n",
    "    expire_after=datetime.timedelta(days=90)\n",
    ")"
   ],
   "metadata": {
    "collapsed": false
   }
  },
  {
   "cell_type": "code",
   "execution_count": 100,
   "outputs": [
    {
     "ename": "RemoteDataError",
     "evalue": "Unable to read URL: https://finance.yahoo.com/quote/tsla/history?period1=1642359600&period2=1686941999&interval=1d&frequency=1d&filter=history\nResponse Text:\nb'<!DOCTYPE html>\\n  <html lang=\"en-us\"><head>\\n  <meta http-equiv=\"content-type\" content=\"text/html; charset=UTF-8\">\\n      <meta charset=\"utf-8\">\\n      <title>Yahoo</title>\\n      <meta name=\"viewport\" content=\"width=device-width,initial-scale=1,minimal-ui\">\\n      <meta http-equiv=\"X-UA-Compatible\" content=\"IE=edge,chrome=1\">\\n      <style>\\n  html {\\n      height: 100%;\\n  }\\n  body {\\n      background: #fafafc url(https://s.yimg.com/nn/img/sad-panda-201402200631.png) 50% 50%;\\n      background-size: cover;\\n      height: 100%;\\n      text-align: center;\\n      font: 300 18px \"helvetica neue\", helvetica, verdana, tahoma, arial, sans-serif;\\n  }\\n  table {\\n      height: 100%;\\n      width: 100%;\\n      table-layout: fixed;\\n      border-collapse: collapse;\\n      border-spacing: 0;\\n      border: none;\\n  }\\n  h1 {\\n      font-size: 42px;\\n      font-weight: 400;\\n      color: #400090;\\n  }\\n  p {\\n      color: #1A1A1A;\\n  }\\n  #message-1 {\\n      font-weight: bold;\\n      margin: 0;\\n  }\\n  #message-2 {\\n      display: inline-block;\\n      *display: inline;\\n      zoom: 1;\\n      max-width: 17em;\\n      _width: 17em;\\n  }\\n      </style>\\n  <script>\\n    document.write(\\'<img src=\"//geo.yahoo.com/b?s=1197757129&t=\\'+new Date().getTime()+\\'&src=aws&err_url=\\'+encodeURIComponent(document.URL)+\\'&err=%<pssc>&test=\\'+encodeURIComponent(\\'%<{Bucket}cqh[:200]>\\')+\\'\" width=\"0px\" height=\"0px\"/>\\');var beacon = new Image();beacon.src=\"//bcn.fp.yahoo.com/p?s=1197757129&t=\"+new Date().getTime()+\"&src=aws&err_url=\"+encodeURIComponent(document.URL)+\"&err=%<pssc>&test=\"+encodeURIComponent(\\'%<{Bucket}cqh[:200]>\\');\\n  </script>\\n  </head>\\n  <body>\\n  <!-- status code : 404 -->\\n  <!-- Not Found on Server -->\\n  <table>\\n  <tbody><tr>\\n      <td>\\n      <img src=\"https://s.yimg.com/rz/p/yahoo_frontpage_en-US_s_f_p_205x58_frontpage.png\" alt=\"Yahoo Logo\">\\n      <h1 style=\"margin-top:20px;\">Will be right back...</h1>\\n      <p id=\"message-1\">Thank you for your patience.</p>\\n      <p id=\"message-2\">Our engineers are working quickly to resolve the issue.</p>\\n      </td>\\n  </tr>\\n  </tbody></table>\\n  </body></html>'",
     "output_type": "error",
     "traceback": [
      "\u001B[0;31m---------------------------------------------------------------------------\u001B[0m",
      "\u001B[0;31mRemoteDataError\u001B[0m                           Traceback (most recent call last)",
      "Cell \u001B[0;32mIn[100], line 1\u001B[0m\n\u001B[0;32m----> 1\u001B[0m tsla \u001B[38;5;241m=\u001B[39m \u001B[43mweb\u001B[49m\u001B[38;5;241;43m.\u001B[39;49m\u001B[43mDataReader\u001B[49m\u001B[43m(\u001B[49m\n\u001B[1;32m      2\u001B[0m \u001B[43m    \u001B[49m\u001B[43mname\u001B[49m\u001B[38;5;241;43m=\u001B[39;49m\u001B[38;5;124;43m'\u001B[39;49m\u001B[38;5;124;43mtsla\u001B[39;49m\u001B[38;5;124;43m'\u001B[39;49m\u001B[43m,\u001B[49m\n\u001B[1;32m      3\u001B[0m \u001B[43m    \u001B[49m\u001B[43mdata_source\u001B[49m\u001B[38;5;241;43m=\u001B[39;49m\u001B[38;5;124;43m'\u001B[39;49m\u001B[38;5;124;43myahoo\u001B[39;49m\u001B[38;5;124;43m'\u001B[39;49m\u001B[43m,\u001B[49m\n\u001B[1;32m      4\u001B[0m \u001B[43m    \u001B[49m\u001B[43mstart\u001B[49m\u001B[38;5;241;43m=\u001B[39;49m\u001B[38;5;124;43m'\u001B[39;49m\u001B[38;5;124;43m2022-01-17\u001B[39;49m\u001B[38;5;124;43m'\u001B[39;49m\u001B[43m,\u001B[49m\n\u001B[1;32m      5\u001B[0m \u001B[43m    \u001B[49m\u001B[43msession\u001B[49m\u001B[38;5;241;43m=\u001B[39;49m\u001B[43msession\u001B[49m\n\u001B[1;32m      6\u001B[0m \u001B[43m)\u001B[49m\n",
      "File \u001B[0;32m~/anaconda3/lib/python3.10/site-packages/pandas/util/_decorators.py:211\u001B[0m, in \u001B[0;36mdeprecate_kwarg.<locals>._deprecate_kwarg.<locals>.wrapper\u001B[0;34m(*args, **kwargs)\u001B[0m\n\u001B[1;32m    209\u001B[0m     \u001B[38;5;28;01melse\u001B[39;00m:\n\u001B[1;32m    210\u001B[0m         kwargs[new_arg_name] \u001B[38;5;241m=\u001B[39m new_arg_value\n\u001B[0;32m--> 211\u001B[0m \u001B[38;5;28;01mreturn\u001B[39;00m \u001B[43mfunc\u001B[49m\u001B[43m(\u001B[49m\u001B[38;5;241;43m*\u001B[39;49m\u001B[43margs\u001B[49m\u001B[43m,\u001B[49m\u001B[43m \u001B[49m\u001B[38;5;241;43m*\u001B[39;49m\u001B[38;5;241;43m*\u001B[39;49m\u001B[43mkwargs\u001B[49m\u001B[43m)\u001B[49m\n",
      "File \u001B[0;32m~/anaconda3/lib/python3.10/site-packages/pandas_datareader/data.py:379\u001B[0m, in \u001B[0;36mDataReader\u001B[0;34m(name, data_source, start, end, retry_count, pause, session, api_key)\u001B[0m\n\u001B[1;32m    367\u001B[0m     \u001B[38;5;28;01mraise\u001B[39;00m \u001B[38;5;167;01mNotImplementedError\u001B[39;00m(msg)\n\u001B[1;32m    369\u001B[0m \u001B[38;5;28;01mif\u001B[39;00m data_source \u001B[38;5;241m==\u001B[39m \u001B[38;5;124m\"\u001B[39m\u001B[38;5;124myahoo\u001B[39m\u001B[38;5;124m\"\u001B[39m:\n\u001B[1;32m    370\u001B[0m     \u001B[38;5;28;01mreturn\u001B[39;00m \u001B[43mYahooDailyReader\u001B[49m\u001B[43m(\u001B[49m\n\u001B[1;32m    371\u001B[0m \u001B[43m        \u001B[49m\u001B[43msymbols\u001B[49m\u001B[38;5;241;43m=\u001B[39;49m\u001B[43mname\u001B[49m\u001B[43m,\u001B[49m\n\u001B[1;32m    372\u001B[0m \u001B[43m        \u001B[49m\u001B[43mstart\u001B[49m\u001B[38;5;241;43m=\u001B[39;49m\u001B[43mstart\u001B[49m\u001B[43m,\u001B[49m\n\u001B[1;32m    373\u001B[0m \u001B[43m        \u001B[49m\u001B[43mend\u001B[49m\u001B[38;5;241;43m=\u001B[39;49m\u001B[43mend\u001B[49m\u001B[43m,\u001B[49m\n\u001B[1;32m    374\u001B[0m \u001B[43m        \u001B[49m\u001B[43madjust_price\u001B[49m\u001B[38;5;241;43m=\u001B[39;49m\u001B[38;5;28;43;01mFalse\u001B[39;49;00m\u001B[43m,\u001B[49m\n\u001B[1;32m    375\u001B[0m \u001B[43m        \u001B[49m\u001B[43mchunksize\u001B[49m\u001B[38;5;241;43m=\u001B[39;49m\u001B[38;5;241;43m25\u001B[39;49m\u001B[43m,\u001B[49m\n\u001B[1;32m    376\u001B[0m \u001B[43m        \u001B[49m\u001B[43mretry_count\u001B[49m\u001B[38;5;241;43m=\u001B[39;49m\u001B[43mretry_count\u001B[49m\u001B[43m,\u001B[49m\n\u001B[1;32m    377\u001B[0m \u001B[43m        \u001B[49m\u001B[43mpause\u001B[49m\u001B[38;5;241;43m=\u001B[39;49m\u001B[43mpause\u001B[49m\u001B[43m,\u001B[49m\n\u001B[1;32m    378\u001B[0m \u001B[43m        \u001B[49m\u001B[43msession\u001B[49m\u001B[38;5;241;43m=\u001B[39;49m\u001B[43msession\u001B[49m\u001B[43m,\u001B[49m\n\u001B[0;32m--> 379\u001B[0m \u001B[43m    \u001B[49m\u001B[43m)\u001B[49m\u001B[38;5;241;43m.\u001B[39;49m\u001B[43mread\u001B[49m\u001B[43m(\u001B[49m\u001B[43m)\u001B[49m\n\u001B[1;32m    381\u001B[0m \u001B[38;5;28;01melif\u001B[39;00m data_source \u001B[38;5;241m==\u001B[39m \u001B[38;5;124m\"\u001B[39m\u001B[38;5;124miex\u001B[39m\u001B[38;5;124m\"\u001B[39m:\n\u001B[1;32m    382\u001B[0m     \u001B[38;5;28;01mreturn\u001B[39;00m IEXDailyReader(\n\u001B[1;32m    383\u001B[0m         symbols\u001B[38;5;241m=\u001B[39mname,\n\u001B[1;32m    384\u001B[0m         start\u001B[38;5;241m=\u001B[39mstart,\n\u001B[0;32m   (...)\u001B[0m\n\u001B[1;32m    390\u001B[0m         session\u001B[38;5;241m=\u001B[39msession,\n\u001B[1;32m    391\u001B[0m     )\u001B[38;5;241m.\u001B[39mread()\n",
      "File \u001B[0;32m~/anaconda3/lib/python3.10/site-packages/pandas_datareader/base.py:253\u001B[0m, in \u001B[0;36m_DailyBaseReader.read\u001B[0;34m(self)\u001B[0m\n\u001B[1;32m    251\u001B[0m \u001B[38;5;66;03m# If a single symbol, (e.g., 'GOOG')\u001B[39;00m\n\u001B[1;32m    252\u001B[0m \u001B[38;5;28;01mif\u001B[39;00m \u001B[38;5;28misinstance\u001B[39m(\u001B[38;5;28mself\u001B[39m\u001B[38;5;241m.\u001B[39msymbols, (string_types, \u001B[38;5;28mint\u001B[39m)):\n\u001B[0;32m--> 253\u001B[0m     df \u001B[38;5;241m=\u001B[39m \u001B[38;5;28;43mself\u001B[39;49m\u001B[38;5;241;43m.\u001B[39;49m\u001B[43m_read_one_data\u001B[49m\u001B[43m(\u001B[49m\u001B[38;5;28;43mself\u001B[39;49m\u001B[38;5;241;43m.\u001B[39;49m\u001B[43murl\u001B[49m\u001B[43m,\u001B[49m\u001B[43m \u001B[49m\u001B[43mparams\u001B[49m\u001B[38;5;241;43m=\u001B[39;49m\u001B[38;5;28;43mself\u001B[39;49m\u001B[38;5;241;43m.\u001B[39;49m\u001B[43m_get_params\u001B[49m\u001B[43m(\u001B[49m\u001B[38;5;28;43mself\u001B[39;49m\u001B[38;5;241;43m.\u001B[39;49m\u001B[43msymbols\u001B[49m\u001B[43m)\u001B[49m\u001B[43m)\u001B[49m\n\u001B[1;32m    254\u001B[0m \u001B[38;5;66;03m# Or multiple symbols, (e.g., ['GOOG', 'AAPL', 'MSFT'])\u001B[39;00m\n\u001B[1;32m    255\u001B[0m \u001B[38;5;28;01melif\u001B[39;00m \u001B[38;5;28misinstance\u001B[39m(\u001B[38;5;28mself\u001B[39m\u001B[38;5;241m.\u001B[39msymbols, DataFrame):\n",
      "File \u001B[0;32m~/anaconda3/lib/python3.10/site-packages/pandas_datareader/yahoo/daily.py:149\u001B[0m, in \u001B[0;36mYahooDailyReader._read_one_data\u001B[0;34m(self, url, params)\u001B[0m\n\u001B[1;32m    146\u001B[0m \u001B[38;5;28;01mdel\u001B[39;00m params[\u001B[38;5;124m\"\u001B[39m\u001B[38;5;124msymbol\u001B[39m\u001B[38;5;124m\"\u001B[39m]\n\u001B[1;32m    147\u001B[0m url \u001B[38;5;241m=\u001B[39m url\u001B[38;5;241m.\u001B[39mformat(symbol)\n\u001B[0;32m--> 149\u001B[0m resp \u001B[38;5;241m=\u001B[39m \u001B[38;5;28;43mself\u001B[39;49m\u001B[38;5;241;43m.\u001B[39;49m\u001B[43m_get_response\u001B[49m\u001B[43m(\u001B[49m\u001B[43murl\u001B[49m\u001B[43m,\u001B[49m\u001B[43m \u001B[49m\u001B[43mparams\u001B[49m\u001B[38;5;241;43m=\u001B[39;49m\u001B[43mparams\u001B[49m\u001B[43m,\u001B[49m\u001B[43m \u001B[49m\u001B[43mheaders\u001B[49m\u001B[38;5;241;43m=\u001B[39;49m\u001B[38;5;28;43mself\u001B[39;49m\u001B[38;5;241;43m.\u001B[39;49m\u001B[43mheaders\u001B[49m\u001B[43m)\u001B[49m\n\u001B[1;32m    150\u001B[0m ptrn \u001B[38;5;241m=\u001B[39m \u001B[38;5;124mr\u001B[39m\u001B[38;5;124m\"\u001B[39m\u001B[38;5;124mroot\u001B[39m\u001B[38;5;124m\\\u001B[39m\u001B[38;5;124m.App\u001B[39m\u001B[38;5;124m\\\u001B[39m\u001B[38;5;124m.main = (.*?);\u001B[39m\u001B[38;5;124m\\\u001B[39m\u001B[38;5;124mn}\u001B[39m\u001B[38;5;124m\\\u001B[39m\u001B[38;5;124m(this\u001B[39m\u001B[38;5;124m\\\u001B[39m\u001B[38;5;124m)\u001B[39m\u001B[38;5;124m\\\u001B[39m\u001B[38;5;124m);\u001B[39m\u001B[38;5;124m\"\u001B[39m\n\u001B[1;32m    151\u001B[0m \u001B[38;5;28;01mtry\u001B[39;00m:\n",
      "File \u001B[0;32m~/anaconda3/lib/python3.10/site-packages/pandas_datareader/base.py:181\u001B[0m, in \u001B[0;36m_BaseReader._get_response\u001B[0;34m(self, url, params, headers)\u001B[0m\n\u001B[1;32m    178\u001B[0m \u001B[38;5;28;01mif\u001B[39;00m last_response_text:\n\u001B[1;32m    179\u001B[0m     msg \u001B[38;5;241m+\u001B[39m\u001B[38;5;241m=\u001B[39m \u001B[38;5;124m\"\u001B[39m\u001B[38;5;130;01m\\n\u001B[39;00m\u001B[38;5;124mResponse Text:\u001B[39m\u001B[38;5;130;01m\\n\u001B[39;00m\u001B[38;5;132;01m{0}\u001B[39;00m\u001B[38;5;124m\"\u001B[39m\u001B[38;5;241m.\u001B[39mformat(last_response_text)\n\u001B[0;32m--> 181\u001B[0m \u001B[38;5;28;01mraise\u001B[39;00m RemoteDataError(msg)\n",
      "\u001B[0;31mRemoteDataError\u001B[0m: Unable to read URL: https://finance.yahoo.com/quote/tsla/history?period1=1642359600&period2=1686941999&interval=1d&frequency=1d&filter=history\nResponse Text:\nb'<!DOCTYPE html>\\n  <html lang=\"en-us\"><head>\\n  <meta http-equiv=\"content-type\" content=\"text/html; charset=UTF-8\">\\n      <meta charset=\"utf-8\">\\n      <title>Yahoo</title>\\n      <meta name=\"viewport\" content=\"width=device-width,initial-scale=1,minimal-ui\">\\n      <meta http-equiv=\"X-UA-Compatible\" content=\"IE=edge,chrome=1\">\\n      <style>\\n  html {\\n      height: 100%;\\n  }\\n  body {\\n      background: #fafafc url(https://s.yimg.com/nn/img/sad-panda-201402200631.png) 50% 50%;\\n      background-size: cover;\\n      height: 100%;\\n      text-align: center;\\n      font: 300 18px \"helvetica neue\", helvetica, verdana, tahoma, arial, sans-serif;\\n  }\\n  table {\\n      height: 100%;\\n      width: 100%;\\n      table-layout: fixed;\\n      border-collapse: collapse;\\n      border-spacing: 0;\\n      border: none;\\n  }\\n  h1 {\\n      font-size: 42px;\\n      font-weight: 400;\\n      color: #400090;\\n  }\\n  p {\\n      color: #1A1A1A;\\n  }\\n  #message-1 {\\n      font-weight: bold;\\n      margin: 0;\\n  }\\n  #message-2 {\\n      display: inline-block;\\n      *display: inline;\\n      zoom: 1;\\n      max-width: 17em;\\n      _width: 17em;\\n  }\\n      </style>\\n  <script>\\n    document.write(\\'<img src=\"//geo.yahoo.com/b?s=1197757129&t=\\'+new Date().getTime()+\\'&src=aws&err_url=\\'+encodeURIComponent(document.URL)+\\'&err=%<pssc>&test=\\'+encodeURIComponent(\\'%<{Bucket}cqh[:200]>\\')+\\'\" width=\"0px\" height=\"0px\"/>\\');var beacon = new Image();beacon.src=\"//bcn.fp.yahoo.com/p?s=1197757129&t=\"+new Date().getTime()+\"&src=aws&err_url=\"+encodeURIComponent(document.URL)+\"&err=%<pssc>&test=\"+encodeURIComponent(\\'%<{Bucket}cqh[:200]>\\');\\n  </script>\\n  </head>\\n  <body>\\n  <!-- status code : 404 -->\\n  <!-- Not Found on Server -->\\n  <table>\\n  <tbody><tr>\\n      <td>\\n      <img src=\"https://s.yimg.com/rz/p/yahoo_frontpage_en-US_s_f_p_205x58_frontpage.png\" alt=\"Yahoo Logo\">\\n      <h1 style=\"margin-top:20px;\">Will be right back...</h1>\\n      <p id=\"message-1\">Thank you for your patience.</p>\\n      <p id=\"message-2\">Our engineers are working quickly to resolve the issue.</p>\\n      </td>\\n  </tr>\\n  </tbody></table>\\n  </body></html>'"
     ]
    }
   ],
   "source": [
    "# tsla = web.DataReader(\n",
    "#     name='tsla',\n",
    "#     data_source='yahoo',\n",
    "#     start='2022-01-17',\n",
    "#     session=session\n",
    "# )"
   ],
   "metadata": {
    "collapsed": false
   }
  },
  {
   "cell_type": "code",
   "execution_count": 90,
   "outputs": [],
   "source": [
    "tsla = pd.read_csv('data/TSLA.csv')"
   ],
   "metadata": {
    "collapsed": false
   }
  },
  {
   "cell_type": "code",
   "execution_count": 91,
   "outputs": [
    {
     "data": {
      "text/plain": "0     2022-06-15\n1     2022-06-16\n2     2022-06-17\n3     2022-06-21\n4     2022-06-22\n         ...    \n247   2023-06-09\n248   2023-06-12\n249   2023-06-13\n250   2023-06-14\n251   2023-06-15\nName: Date, Length: 252, dtype: datetime64[ns]"
     },
     "execution_count": 91,
     "metadata": {},
     "output_type": "execute_result"
    }
   ],
   "source": [
    "pd.to_datetime(tsla.Date)"
   ],
   "metadata": {
    "collapsed": false
   }
  },
  {
   "cell_type": "code",
   "execution_count": 92,
   "outputs": [],
   "source": [
    "tsla = tsla.set_index('Date')"
   ],
   "metadata": {
    "collapsed": false
   }
  },
  {
   "cell_type": "code",
   "execution_count": 93,
   "outputs": [
    {
     "data": {
      "text/plain": "                  Open        High         Low       Close   Adj Close  \\\nDate                                                                     \n2022-06-15  220.916672  235.663330  218.149994  233.000000  233.000000   \n2022-06-16  222.736664  225.166672  208.693329  213.100006  213.100006   \n2022-06-17  213.433334  220.970001  213.196671  216.759995  216.759995   \n2022-06-21  224.603333  243.576660  224.333328  237.036667  237.036667   \n2022-06-22  234.503326  246.833328  233.826660  236.086670  236.086670   \n2022-06-23  237.906662  239.316666  228.636673  235.070007  235.070007   \n2022-06-24  237.470001  246.066666  236.086670  245.706665  245.706665   \n2022-06-27  249.366669  252.070007  242.566666  244.919998  244.919998   \n\n               Volume  \nDate                   \n2022-06-15  119131800  \n2022-06-16  107390700  \n2022-06-17   92641800  \n2022-06-21  122793000  \n2022-06-22  101107500  \n2022-06-23  104202600  \n2022-06-24   95770800  \n2022-06-27   89178300  ",
      "text/html": "<div>\n<style scoped>\n    .dataframe tbody tr th:only-of-type {\n        vertical-align: middle;\n    }\n\n    .dataframe tbody tr th {\n        vertical-align: top;\n    }\n\n    .dataframe thead th {\n        text-align: right;\n    }\n</style>\n<table border=\"1\" class=\"dataframe\">\n  <thead>\n    <tr style=\"text-align: right;\">\n      <th></th>\n      <th>Open</th>\n      <th>High</th>\n      <th>Low</th>\n      <th>Close</th>\n      <th>Adj Close</th>\n      <th>Volume</th>\n    </tr>\n    <tr>\n      <th>Date</th>\n      <th></th>\n      <th></th>\n      <th></th>\n      <th></th>\n      <th></th>\n      <th></th>\n    </tr>\n  </thead>\n  <tbody>\n    <tr>\n      <th>2022-06-15</th>\n      <td>220.916672</td>\n      <td>235.663330</td>\n      <td>218.149994</td>\n      <td>233.000000</td>\n      <td>233.000000</td>\n      <td>119131800</td>\n    </tr>\n    <tr>\n      <th>2022-06-16</th>\n      <td>222.736664</td>\n      <td>225.166672</td>\n      <td>208.693329</td>\n      <td>213.100006</td>\n      <td>213.100006</td>\n      <td>107390700</td>\n    </tr>\n    <tr>\n      <th>2022-06-17</th>\n      <td>213.433334</td>\n      <td>220.970001</td>\n      <td>213.196671</td>\n      <td>216.759995</td>\n      <td>216.759995</td>\n      <td>92641800</td>\n    </tr>\n    <tr>\n      <th>2022-06-21</th>\n      <td>224.603333</td>\n      <td>243.576660</td>\n      <td>224.333328</td>\n      <td>237.036667</td>\n      <td>237.036667</td>\n      <td>122793000</td>\n    </tr>\n    <tr>\n      <th>2022-06-22</th>\n      <td>234.503326</td>\n      <td>246.833328</td>\n      <td>233.826660</td>\n      <td>236.086670</td>\n      <td>236.086670</td>\n      <td>101107500</td>\n    </tr>\n    <tr>\n      <th>2022-06-23</th>\n      <td>237.906662</td>\n      <td>239.316666</td>\n      <td>228.636673</td>\n      <td>235.070007</td>\n      <td>235.070007</td>\n      <td>104202600</td>\n    </tr>\n    <tr>\n      <th>2022-06-24</th>\n      <td>237.470001</td>\n      <td>246.066666</td>\n      <td>236.086670</td>\n      <td>245.706665</td>\n      <td>245.706665</td>\n      <td>95770800</td>\n    </tr>\n    <tr>\n      <th>2022-06-27</th>\n      <td>249.366669</td>\n      <td>252.070007</td>\n      <td>242.566666</td>\n      <td>244.919998</td>\n      <td>244.919998</td>\n      <td>89178300</td>\n    </tr>\n  </tbody>\n</table>\n</div>"
     },
     "execution_count": 93,
     "metadata": {},
     "output_type": "execute_result"
    }
   ],
   "source": [
    "tsla.head(8)"
   ],
   "metadata": {
    "collapsed": false
   }
  },
  {
   "cell_type": "code",
   "execution_count": 94,
   "outputs": [
    {
     "name": "stdout",
     "output_type": "stream",
     "text": [
      "<class 'pandas.core.frame.DataFrame'>\n",
      "Index: 252 entries, 2022-06-15 to 2023-06-15\n",
      "Data columns (total 6 columns):\n",
      " #   Column     Non-Null Count  Dtype  \n",
      "---  ------     --------------  -----  \n",
      " 0   Open       252 non-null    float64\n",
      " 1   High       252 non-null    float64\n",
      " 2   Low        252 non-null    float64\n",
      " 3   Close      252 non-null    float64\n",
      " 4   Adj Close  252 non-null    float64\n",
      " 5   Volume     252 non-null    int64  \n",
      "dtypes: float64(5), int64(1)\n",
      "memory usage: 13.8+ KB\n"
     ]
    }
   ],
   "source": [
    "tsla.info()"
   ],
   "metadata": {
    "collapsed": false
   }
  },
  {
   "cell_type": "code",
   "execution_count": 95,
   "outputs": [],
   "source": [
    "tsla_close = tsla['Close']"
   ],
   "metadata": {
    "collapsed": false
   }
  },
  {
   "cell_type": "code",
   "execution_count": 96,
   "outputs": [
    {
     "data": {
      "text/plain": "Date\n2022-06-15    233.000000\n2022-06-16    213.100006\n2022-06-17    216.759995\n2022-06-21    237.036667\n2022-06-22    236.086670\n                 ...    \n2023-06-09    244.399994\n2023-06-12    249.830002\n2023-06-13    258.709991\n2023-06-14    256.790009\n2023-06-15    255.899994\nName: Close, Length: 252, dtype: float64"
     },
     "execution_count": 96,
     "metadata": {},
     "output_type": "execute_result"
    }
   ],
   "source": [
    "tsla_close"
   ],
   "metadata": {
    "collapsed": false
   }
  },
  {
   "cell_type": "code",
   "execution_count": 97,
   "outputs": [
    {
     "data": {
      "text/plain": "Date\n2022-06-15    233.000000\n2022-06-16    233.000000\n2022-06-17    233.000000\n2022-06-21    237.036667\n2022-06-22    237.036667\nName: Close, dtype: float64"
     },
     "execution_count": 97,
     "metadata": {},
     "output_type": "execute_result"
    }
   ],
   "source": [
    "tsla_cummax = tsla_close.cummax()\n",
    "tsla_cummax.head()"
   ],
   "metadata": {
    "collapsed": false
   }
  },
  {
   "cell_type": "code",
   "execution_count": 102,
   "outputs": [
    {
     "data": {
      "text/plain": "Date\n2022-06-15    209.700\n2022-06-16    209.700\n2022-06-17    209.700\n2022-06-21    213.333\n2022-06-22    213.333\nName: Close, dtype: float64"
     },
     "execution_count": 102,
     "metadata": {},
     "output_type": "execute_result"
    }
   ],
   "source": [
    "(tsla['Close'].cummax().mul(0.9).head())"
   ],
   "metadata": {
    "collapsed": false
   }
  },
  {
   "cell_type": "code",
   "execution_count": null,
   "outputs": [],
   "source": [],
   "metadata": {
    "collapsed": false
   }
  }
 ],
 "metadata": {
  "kernelspec": {
   "display_name": "Python 3",
   "language": "python",
   "name": "python3"
  },
  "language_info": {
   "codemirror_mode": {
    "name": "ipython",
    "version": 2
   },
   "file_extension": ".py",
   "mimetype": "text/x-python",
   "name": "python",
   "nbconvert_exporter": "python",
   "pygments_lexer": "ipython2",
   "version": "2.7.6"
  }
 },
 "nbformat": 4,
 "nbformat_minor": 0
}
