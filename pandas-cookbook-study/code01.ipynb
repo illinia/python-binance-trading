{
 "cells": [
  {
   "cell_type": "code",
   "execution_count": 8,
   "metadata": {
    "collapsed": true
   },
   "outputs": [],
   "source": [
    "import pandas as pd\n",
    "import numpy as np"
   ]
  },
  {
   "cell_type": "code",
   "execution_count": 10,
   "outputs": [
    {
     "data": {
      "text/plain": "      color      director_name  num_critic_for_reviews  duration  \\\n0     Color      James Cameron                   723.0     178.0   \n1     Color     Gore Verbinski                   302.0     169.0   \n2     Color         Sam Mendes                   602.0     148.0   \n3     Color  Christopher Nolan                   813.0     164.0   \n4       NaN        Doug Walker                     NaN       NaN   \n...     ...                ...                     ...       ...   \n4911  Color        Scott Smith                     1.0      87.0   \n4912  Color                NaN                    43.0      43.0   \n4913  Color   Benjamin Roberds                    13.0      76.0   \n4914  Color        Daniel Hsia                    14.0     100.0   \n4915  Color           Jon Gunn                    43.0      90.0   \n\n      director_facebook_likes  actor_3_facebook_likes      actor_2_name  \\\n0                         0.0                   855.0  Joel David Moore   \n1                       563.0                  1000.0     Orlando Bloom   \n2                         0.0                   161.0      Rory Kinnear   \n3                     22000.0                 23000.0    Christian Bale   \n4                       131.0                     NaN        Rob Walker   \n...                       ...                     ...               ...   \n4911                      2.0                   318.0     Daphne Zuniga   \n4912                      NaN                   319.0     Valorie Curry   \n4913                      0.0                     0.0     Maxwell Moody   \n4914                      0.0                   489.0     Daniel Henney   \n4915                     16.0                    16.0  Brian Herzlinger   \n\n      actor_1_facebook_likes        gross                           genres  \\\n0                     1000.0  760505847.0  Action|Adventure|Fantasy|Sci-Fi   \n1                    40000.0  309404152.0         Action|Adventure|Fantasy   \n2                    11000.0  200074175.0        Action|Adventure|Thriller   \n3                    27000.0  448130642.0                  Action|Thriller   \n4                      131.0          NaN                      Documentary   \n...                      ...          ...                              ...   \n4911                   637.0          NaN                     Comedy|Drama   \n4912                   841.0          NaN     Crime|Drama|Mystery|Thriller   \n4913                     0.0          NaN            Drama|Horror|Thriller   \n4914                   946.0      10443.0             Comedy|Drama|Romance   \n4915                    86.0      85222.0                      Documentary   \n\n      ... num_user_for_reviews language  country  content_rating       budget  \\\n0     ...               3054.0  English      USA           PG-13  237000000.0   \n1     ...               1238.0  English      USA           PG-13  300000000.0   \n2     ...                994.0  English       UK           PG-13  245000000.0   \n3     ...               2701.0  English      USA           PG-13  250000000.0   \n4     ...                  NaN      NaN      NaN             NaN          NaN   \n...   ...                  ...      ...      ...             ...          ...   \n4911  ...                  6.0  English   Canada             NaN          NaN   \n4912  ...                359.0  English      USA           TV-14          NaN   \n4913  ...                  3.0  English      USA             NaN       1400.0   \n4914  ...                  9.0  English      USA           PG-13          NaN   \n4915  ...                 84.0  English      USA              PG       1100.0   \n\n      title_year actor_2_facebook_likes imdb_score  aspect_ratio  \\\n0         2009.0                  936.0        7.9          1.78   \n1         2007.0                 5000.0        7.1          2.35   \n2         2015.0                  393.0        6.8          2.35   \n3         2012.0                23000.0        8.5          2.35   \n4            NaN                   12.0        7.1           NaN   \n...          ...                    ...        ...           ...   \n4911      2013.0                  470.0        7.7           NaN   \n4912         NaN                  593.0        7.5         16.00   \n4913      2013.0                    0.0        6.3           NaN   \n4914      2012.0                  719.0        6.3          2.35   \n4915      2004.0                   23.0        6.6          1.85   \n\n     movie_facebook_likes  \n0                   33000  \n1                       0  \n2                   85000  \n3                  164000  \n4                       0  \n...                   ...  \n4911                   84  \n4912                32000  \n4913                   16  \n4914                  660  \n4915                  456  \n\n[4916 rows x 28 columns]",
      "text/html": "<div>\n<style scoped>\n    .dataframe tbody tr th:only-of-type {\n        vertical-align: middle;\n    }\n\n    .dataframe tbody tr th {\n        vertical-align: top;\n    }\n\n    .dataframe thead th {\n        text-align: right;\n    }\n</style>\n<table border=\"1\" class=\"dataframe\">\n  <thead>\n    <tr style=\"text-align: right;\">\n      <th></th>\n      <th>color</th>\n      <th>director_name</th>\n      <th>num_critic_for_reviews</th>\n      <th>duration</th>\n      <th>director_facebook_likes</th>\n      <th>actor_3_facebook_likes</th>\n      <th>actor_2_name</th>\n      <th>actor_1_facebook_likes</th>\n      <th>gross</th>\n      <th>genres</th>\n      <th>...</th>\n      <th>num_user_for_reviews</th>\n      <th>language</th>\n      <th>country</th>\n      <th>content_rating</th>\n      <th>budget</th>\n      <th>title_year</th>\n      <th>actor_2_facebook_likes</th>\n      <th>imdb_score</th>\n      <th>aspect_ratio</th>\n      <th>movie_facebook_likes</th>\n    </tr>\n  </thead>\n  <tbody>\n    <tr>\n      <th>0</th>\n      <td>Color</td>\n      <td>James Cameron</td>\n      <td>723.0</td>\n      <td>178.0</td>\n      <td>0.0</td>\n      <td>855.0</td>\n      <td>Joel David Moore</td>\n      <td>1000.0</td>\n      <td>760505847.0</td>\n      <td>Action|Adventure|Fantasy|Sci-Fi</td>\n      <td>...</td>\n      <td>3054.0</td>\n      <td>English</td>\n      <td>USA</td>\n      <td>PG-13</td>\n      <td>237000000.0</td>\n      <td>2009.0</td>\n      <td>936.0</td>\n      <td>7.9</td>\n      <td>1.78</td>\n      <td>33000</td>\n    </tr>\n    <tr>\n      <th>1</th>\n      <td>Color</td>\n      <td>Gore Verbinski</td>\n      <td>302.0</td>\n      <td>169.0</td>\n      <td>563.0</td>\n      <td>1000.0</td>\n      <td>Orlando Bloom</td>\n      <td>40000.0</td>\n      <td>309404152.0</td>\n      <td>Action|Adventure|Fantasy</td>\n      <td>...</td>\n      <td>1238.0</td>\n      <td>English</td>\n      <td>USA</td>\n      <td>PG-13</td>\n      <td>300000000.0</td>\n      <td>2007.0</td>\n      <td>5000.0</td>\n      <td>7.1</td>\n      <td>2.35</td>\n      <td>0</td>\n    </tr>\n    <tr>\n      <th>2</th>\n      <td>Color</td>\n      <td>Sam Mendes</td>\n      <td>602.0</td>\n      <td>148.0</td>\n      <td>0.0</td>\n      <td>161.0</td>\n      <td>Rory Kinnear</td>\n      <td>11000.0</td>\n      <td>200074175.0</td>\n      <td>Action|Adventure|Thriller</td>\n      <td>...</td>\n      <td>994.0</td>\n      <td>English</td>\n      <td>UK</td>\n      <td>PG-13</td>\n      <td>245000000.0</td>\n      <td>2015.0</td>\n      <td>393.0</td>\n      <td>6.8</td>\n      <td>2.35</td>\n      <td>85000</td>\n    </tr>\n    <tr>\n      <th>3</th>\n      <td>Color</td>\n      <td>Christopher Nolan</td>\n      <td>813.0</td>\n      <td>164.0</td>\n      <td>22000.0</td>\n      <td>23000.0</td>\n      <td>Christian Bale</td>\n      <td>27000.0</td>\n      <td>448130642.0</td>\n      <td>Action|Thriller</td>\n      <td>...</td>\n      <td>2701.0</td>\n      <td>English</td>\n      <td>USA</td>\n      <td>PG-13</td>\n      <td>250000000.0</td>\n      <td>2012.0</td>\n      <td>23000.0</td>\n      <td>8.5</td>\n      <td>2.35</td>\n      <td>164000</td>\n    </tr>\n    <tr>\n      <th>4</th>\n      <td>NaN</td>\n      <td>Doug Walker</td>\n      <td>NaN</td>\n      <td>NaN</td>\n      <td>131.0</td>\n      <td>NaN</td>\n      <td>Rob Walker</td>\n      <td>131.0</td>\n      <td>NaN</td>\n      <td>Documentary</td>\n      <td>...</td>\n      <td>NaN</td>\n      <td>NaN</td>\n      <td>NaN</td>\n      <td>NaN</td>\n      <td>NaN</td>\n      <td>NaN</td>\n      <td>12.0</td>\n      <td>7.1</td>\n      <td>NaN</td>\n      <td>0</td>\n    </tr>\n    <tr>\n      <th>...</th>\n      <td>...</td>\n      <td>...</td>\n      <td>...</td>\n      <td>...</td>\n      <td>...</td>\n      <td>...</td>\n      <td>...</td>\n      <td>...</td>\n      <td>...</td>\n      <td>...</td>\n      <td>...</td>\n      <td>...</td>\n      <td>...</td>\n      <td>...</td>\n      <td>...</td>\n      <td>...</td>\n      <td>...</td>\n      <td>...</td>\n      <td>...</td>\n      <td>...</td>\n      <td>...</td>\n    </tr>\n    <tr>\n      <th>4911</th>\n      <td>Color</td>\n      <td>Scott Smith</td>\n      <td>1.0</td>\n      <td>87.0</td>\n      <td>2.0</td>\n      <td>318.0</td>\n      <td>Daphne Zuniga</td>\n      <td>637.0</td>\n      <td>NaN</td>\n      <td>Comedy|Drama</td>\n      <td>...</td>\n      <td>6.0</td>\n      <td>English</td>\n      <td>Canada</td>\n      <td>NaN</td>\n      <td>NaN</td>\n      <td>2013.0</td>\n      <td>470.0</td>\n      <td>7.7</td>\n      <td>NaN</td>\n      <td>84</td>\n    </tr>\n    <tr>\n      <th>4912</th>\n      <td>Color</td>\n      <td>NaN</td>\n      <td>43.0</td>\n      <td>43.0</td>\n      <td>NaN</td>\n      <td>319.0</td>\n      <td>Valorie Curry</td>\n      <td>841.0</td>\n      <td>NaN</td>\n      <td>Crime|Drama|Mystery|Thriller</td>\n      <td>...</td>\n      <td>359.0</td>\n      <td>English</td>\n      <td>USA</td>\n      <td>TV-14</td>\n      <td>NaN</td>\n      <td>NaN</td>\n      <td>593.0</td>\n      <td>7.5</td>\n      <td>16.00</td>\n      <td>32000</td>\n    </tr>\n    <tr>\n      <th>4913</th>\n      <td>Color</td>\n      <td>Benjamin Roberds</td>\n      <td>13.0</td>\n      <td>76.0</td>\n      <td>0.0</td>\n      <td>0.0</td>\n      <td>Maxwell Moody</td>\n      <td>0.0</td>\n      <td>NaN</td>\n      <td>Drama|Horror|Thriller</td>\n      <td>...</td>\n      <td>3.0</td>\n      <td>English</td>\n      <td>USA</td>\n      <td>NaN</td>\n      <td>1400.0</td>\n      <td>2013.0</td>\n      <td>0.0</td>\n      <td>6.3</td>\n      <td>NaN</td>\n      <td>16</td>\n    </tr>\n    <tr>\n      <th>4914</th>\n      <td>Color</td>\n      <td>Daniel Hsia</td>\n      <td>14.0</td>\n      <td>100.0</td>\n      <td>0.0</td>\n      <td>489.0</td>\n      <td>Daniel Henney</td>\n      <td>946.0</td>\n      <td>10443.0</td>\n      <td>Comedy|Drama|Romance</td>\n      <td>...</td>\n      <td>9.0</td>\n      <td>English</td>\n      <td>USA</td>\n      <td>PG-13</td>\n      <td>NaN</td>\n      <td>2012.0</td>\n      <td>719.0</td>\n      <td>6.3</td>\n      <td>2.35</td>\n      <td>660</td>\n    </tr>\n    <tr>\n      <th>4915</th>\n      <td>Color</td>\n      <td>Jon Gunn</td>\n      <td>43.0</td>\n      <td>90.0</td>\n      <td>16.0</td>\n      <td>16.0</td>\n      <td>Brian Herzlinger</td>\n      <td>86.0</td>\n      <td>85222.0</td>\n      <td>Documentary</td>\n      <td>...</td>\n      <td>84.0</td>\n      <td>English</td>\n      <td>USA</td>\n      <td>PG</td>\n      <td>1100.0</td>\n      <td>2004.0</td>\n      <td>23.0</td>\n      <td>6.6</td>\n      <td>1.85</td>\n      <td>456</td>\n    </tr>\n  </tbody>\n</table>\n<p>4916 rows × 28 columns</p>\n</div>"
     },
     "execution_count": 10,
     "metadata": {},
     "output_type": "execute_result"
    }
   ],
   "source": [
    "movies = pd.read_csv('../data/movie.csv')\n",
    "movies"
   ],
   "metadata": {
    "collapsed": false
   }
  },
  {
   "cell_type": "code",
   "execution_count": 11,
   "outputs": [],
   "source": [
    "columns = movies.columns\n",
    "index = movies.index\n",
    "data = movies.to_numpy()"
   ],
   "metadata": {
    "collapsed": false
   }
  },
  {
   "cell_type": "code",
   "execution_count": 13,
   "outputs": [
    {
     "data": {
      "text/plain": "Index(['color', 'director_name', 'num_critic_for_reviews', 'duration',\n       'director_facebook_likes', 'actor_3_facebook_likes', 'actor_2_name',\n       'actor_1_facebook_likes', 'gross', 'genres', 'actor_1_name',\n       'movie_title', 'num_voted_users', 'cast_total_facebook_likes',\n       'actor_3_name', 'facenumber_in_poster', 'plot_keywords',\n       'movie_imdb_link', 'num_user_for_reviews', 'language', 'country',\n       'content_rating', 'budget', 'title_year', 'actor_2_facebook_likes',\n       'imdb_score', 'aspect_ratio', 'movie_facebook_likes'],\n      dtype='object')"
     },
     "execution_count": 13,
     "metadata": {},
     "output_type": "execute_result"
    }
   ],
   "source": [
    "columns"
   ],
   "metadata": {
    "collapsed": false
   }
  },
  {
   "cell_type": "code",
   "execution_count": 15,
   "outputs": [
    {
     "data": {
      "text/plain": "RangeIndex(start=0, stop=4916, step=1)"
     },
     "execution_count": 15,
     "metadata": {},
     "output_type": "execute_result"
    }
   ],
   "source": [
    "index"
   ],
   "metadata": {
    "collapsed": false
   }
  },
  {
   "cell_type": "code",
   "execution_count": 16,
   "outputs": [
    {
     "data": {
      "text/plain": "array([['Color', 'James Cameron', 723.0, ..., 7.9, 1.78, 33000],\n       ['Color', 'Gore Verbinski', 302.0, ..., 7.1, 2.35, 0],\n       ['Color', 'Sam Mendes', 602.0, ..., 6.8, 2.35, 85000],\n       ...,\n       ['Color', 'Benjamin Roberds', 13.0, ..., 6.3, nan, 16],\n       ['Color', 'Daniel Hsia', 14.0, ..., 6.3, 2.35, 660],\n       ['Color', 'Jon Gunn', 43.0, ..., 6.6, 1.85, 456]], dtype=object)"
     },
     "execution_count": 16,
     "metadata": {},
     "output_type": "execute_result"
    }
   ],
   "source": [
    "data"
   ],
   "metadata": {
    "collapsed": false
   }
  },
  {
   "cell_type": "code",
   "execution_count": 17,
   "outputs": [
    {
     "data": {
      "text/plain": "pandas.core.indexes.range.RangeIndex"
     },
     "execution_count": 17,
     "metadata": {},
     "output_type": "execute_result"
    }
   ],
   "source": [
    "type(index)"
   ],
   "metadata": {
    "collapsed": false
   }
  },
  {
   "cell_type": "code",
   "execution_count": 19,
   "outputs": [
    {
     "data": {
      "text/plain": "pandas.core.indexes.base.Index"
     },
     "execution_count": 19,
     "metadata": {},
     "output_type": "execute_result"
    }
   ],
   "source": [
    "type(columns)"
   ],
   "metadata": {
    "collapsed": false
   }
  },
  {
   "cell_type": "code",
   "execution_count": 20,
   "outputs": [
    {
     "data": {
      "text/plain": "numpy.ndarray"
     },
     "execution_count": 20,
     "metadata": {},
     "output_type": "execute_result"
    }
   ],
   "source": [
    "type(data)"
   ],
   "metadata": {
    "collapsed": false
   }
  },
  {
   "cell_type": "code",
   "execution_count": 21,
   "outputs": [
    {
     "data": {
      "text/plain": "True"
     },
     "execution_count": 21,
     "metadata": {},
     "output_type": "execute_result"
    }
   ],
   "source": [
    "issubclass(pd.RangeIndex, pd.Index)"
   ],
   "metadata": {
    "collapsed": false
   }
  },
  {
   "cell_type": "code",
   "execution_count": 22,
   "outputs": [
    {
     "data": {
      "text/plain": "True"
     },
     "execution_count": 22,
     "metadata": {},
     "output_type": "execute_result"
    }
   ],
   "source": [
    "issubclass(columns.__class__, pd.Index)"
   ],
   "metadata": {
    "collapsed": false
   }
  },
  {
   "cell_type": "code",
   "execution_count": 23,
   "outputs": [
    {
     "data": {
      "text/plain": "array([   0,    1,    2, ..., 4913, 4914, 4915])"
     },
     "execution_count": 23,
     "metadata": {},
     "output_type": "execute_result"
    }
   ],
   "source": [
    "index.to_numpy()"
   ],
   "metadata": {
    "collapsed": false
   }
  },
  {
   "cell_type": "code",
   "execution_count": 24,
   "outputs": [
    {
     "data": {
      "text/plain": "array(['color', 'director_name', 'num_critic_for_reviews', 'duration',\n       'director_facebook_likes', 'actor_3_facebook_likes',\n       'actor_2_name', 'actor_1_facebook_likes', 'gross', 'genres',\n       'actor_1_name', 'movie_title', 'num_voted_users',\n       'cast_total_facebook_likes', 'actor_3_name',\n       'facenumber_in_poster', 'plot_keywords', 'movie_imdb_link',\n       'num_user_for_reviews', 'language', 'country', 'content_rating',\n       'budget', 'title_year', 'actor_2_facebook_likes', 'imdb_score',\n       'aspect_ratio', 'movie_facebook_likes'], dtype=object)"
     },
     "execution_count": 24,
     "metadata": {},
     "output_type": "execute_result"
    }
   ],
   "source": [
    "columns.to_numpy()"
   ],
   "metadata": {
    "collapsed": false
   }
  },
  {
   "cell_type": "code",
   "execution_count": 25,
   "outputs": [
    {
     "data": {
      "text/plain": "color                         object\ndirector_name                 object\nnum_critic_for_reviews       float64\nduration                     float64\ndirector_facebook_likes      float64\nactor_3_facebook_likes       float64\nactor_2_name                  object\nactor_1_facebook_likes       float64\ngross                        float64\ngenres                        object\nactor_1_name                  object\nmovie_title                   object\nnum_voted_users                int64\ncast_total_facebook_likes      int64\nactor_3_name                  object\nfacenumber_in_poster         float64\nplot_keywords                 object\nmovie_imdb_link               object\nnum_user_for_reviews         float64\nlanguage                      object\ncountry                       object\ncontent_rating                object\nbudget                       float64\ntitle_year                   float64\nactor_2_facebook_likes       float64\nimdb_score                   float64\naspect_ratio                 float64\nmovie_facebook_likes           int64\ndtype: object"
     },
     "execution_count": 25,
     "metadata": {},
     "output_type": "execute_result"
    }
   ],
   "source": [
    "movies.dtypes"
   ],
   "metadata": {
    "collapsed": false
   }
  },
  {
   "cell_type": "code",
   "execution_count": 26,
   "outputs": [
    {
     "data": {
      "text/plain": "float64    13\nobject     12\nint64       3\ndtype: int64"
     },
     "execution_count": 26,
     "metadata": {},
     "output_type": "execute_result"
    }
   ],
   "source": [
    "movies.dtypes.value_counts()"
   ],
   "metadata": {
    "collapsed": false
   }
  },
  {
   "cell_type": "code",
   "execution_count": 27,
   "outputs": [
    {
     "name": "stdout",
     "output_type": "stream",
     "text": [
      "<class 'pandas.core.frame.DataFrame'>\n",
      "RangeIndex: 4916 entries, 0 to 4915\n",
      "Data columns (total 28 columns):\n",
      " #   Column                     Non-Null Count  Dtype  \n",
      "---  ------                     --------------  -----  \n",
      " 0   color                      4897 non-null   object \n",
      " 1   director_name              4814 non-null   object \n",
      " 2   num_critic_for_reviews     4867 non-null   float64\n",
      " 3   duration                   4901 non-null   float64\n",
      " 4   director_facebook_likes    4814 non-null   float64\n",
      " 5   actor_3_facebook_likes     4893 non-null   float64\n",
      " 6   actor_2_name               4903 non-null   object \n",
      " 7   actor_1_facebook_likes     4909 non-null   float64\n",
      " 8   gross                      4054 non-null   float64\n",
      " 9   genres                     4916 non-null   object \n",
      " 10  actor_1_name               4909 non-null   object \n",
      " 11  movie_title                4916 non-null   object \n",
      " 12  num_voted_users            4916 non-null   int64  \n",
      " 13  cast_total_facebook_likes  4916 non-null   int64  \n",
      " 14  actor_3_name               4893 non-null   object \n",
      " 15  facenumber_in_poster       4903 non-null   float64\n",
      " 16  plot_keywords              4764 non-null   object \n",
      " 17  movie_imdb_link            4916 non-null   object \n",
      " 18  num_user_for_reviews       4895 non-null   float64\n",
      " 19  language                   4904 non-null   object \n",
      " 20  country                    4911 non-null   object \n",
      " 21  content_rating             4616 non-null   object \n",
      " 22  budget                     4432 non-null   float64\n",
      " 23  title_year                 4810 non-null   float64\n",
      " 24  actor_2_facebook_likes     4903 non-null   float64\n",
      " 25  imdb_score                 4916 non-null   float64\n",
      " 26  aspect_ratio               4590 non-null   float64\n",
      " 27  movie_facebook_likes       4916 non-null   int64  \n",
      "dtypes: float64(13), int64(3), object(12)\n",
      "memory usage: 1.1+ MB\n"
     ]
    }
   ],
   "source": [
    "movies.info()"
   ],
   "metadata": {
    "collapsed": false
   }
  },
  {
   "cell_type": "code",
   "execution_count": 30,
   "outputs": [
    {
     "data": {
      "text/plain": "0           James Cameron\n1          Gore Verbinski\n2              Sam Mendes\n3       Christopher Nolan\n4             Doug Walker\n              ...        \n4911          Scott Smith\n4912                  NaN\n4913     Benjamin Roberds\n4914          Daniel Hsia\n4915             Jon Gunn\nName: director_name, Length: 4916, dtype: object"
     },
     "execution_count": 30,
     "metadata": {},
     "output_type": "execute_result"
    }
   ],
   "source": [
    "movies['director_name']"
   ],
   "metadata": {
    "collapsed": false
   }
  },
  {
   "cell_type": "code",
   "execution_count": 31,
   "outputs": [
    {
     "data": {
      "text/plain": "0           James Cameron\n1          Gore Verbinski\n2              Sam Mendes\n3       Christopher Nolan\n4             Doug Walker\n              ...        \n4911          Scott Smith\n4912                  NaN\n4913     Benjamin Roberds\n4914          Daniel Hsia\n4915             Jon Gunn\nName: director_name, Length: 4916, dtype: object"
     },
     "execution_count": 31,
     "metadata": {},
     "output_type": "execute_result"
    }
   ],
   "source": [
    "movies.director_name"
   ],
   "metadata": {
    "collapsed": false
   }
  },
  {
   "cell_type": "code",
   "execution_count": 32,
   "outputs": [
    {
     "data": {
      "text/plain": "0           James Cameron\n1          Gore Verbinski\n2              Sam Mendes\n3       Christopher Nolan\n4             Doug Walker\n              ...        \n4911          Scott Smith\n4912                  NaN\n4913     Benjamin Roberds\n4914          Daniel Hsia\n4915             Jon Gunn\nName: director_name, Length: 4916, dtype: object"
     },
     "execution_count": 32,
     "metadata": {},
     "output_type": "execute_result"
    }
   ],
   "source": [
    "movies.loc[:, 'director_name']"
   ],
   "metadata": {
    "collapsed": false
   }
  },
  {
   "cell_type": "code",
   "execution_count": 33,
   "outputs": [
    {
     "data": {
      "text/plain": "0           James Cameron\n1          Gore Verbinski\n2              Sam Mendes\n3       Christopher Nolan\n4             Doug Walker\n              ...        \n4911          Scott Smith\n4912                  NaN\n4913     Benjamin Roberds\n4914          Daniel Hsia\n4915             Jon Gunn\nName: director_name, Length: 4916, dtype: object"
     },
     "execution_count": 33,
     "metadata": {},
     "output_type": "execute_result"
    }
   ],
   "source": [
    "movies.iloc[:, 1]"
   ],
   "metadata": {
    "collapsed": false
   }
  },
  {
   "cell_type": "code",
   "execution_count": 34,
   "outputs": [
    {
     "data": {
      "text/plain": "RangeIndex(start=0, stop=4916, step=1)"
     },
     "execution_count": 34,
     "metadata": {},
     "output_type": "execute_result"
    }
   ],
   "source": [
    "movies['director_name'].index"
   ],
   "metadata": {
    "collapsed": false
   }
  },
  {
   "cell_type": "code",
   "execution_count": 35,
   "outputs": [
    {
     "data": {
      "text/plain": "dtype('O')"
     },
     "execution_count": 35,
     "metadata": {},
     "output_type": "execute_result"
    }
   ],
   "source": [
    "movies['director_name'].dtype"
   ],
   "metadata": {
    "collapsed": false
   }
  },
  {
   "cell_type": "code",
   "execution_count": 36,
   "outputs": [
    {
     "data": {
      "text/plain": "4916"
     },
     "execution_count": 36,
     "metadata": {},
     "output_type": "execute_result"
    }
   ],
   "source": [
    "movies['director_name'].size"
   ],
   "metadata": {
    "collapsed": false
   }
  },
  {
   "cell_type": "code",
   "execution_count": 37,
   "outputs": [
    {
     "data": {
      "text/plain": "'director_name'"
     },
     "execution_count": 37,
     "metadata": {},
     "output_type": "execute_result"
    }
   ],
   "source": [
    "movies['director_name'].name"
   ],
   "metadata": {
    "collapsed": false
   }
  },
  {
   "cell_type": "code",
   "execution_count": 38,
   "outputs": [
    {
     "data": {
      "text/plain": "pandas.core.series.Series"
     },
     "execution_count": 38,
     "metadata": {},
     "output_type": "execute_result"
    }
   ],
   "source": [
    "type(movies['director_name'])"
   ],
   "metadata": {
    "collapsed": false
   }
  },
  {
   "cell_type": "code",
   "execution_count": 41,
   "outputs": [
    {
     "data": {
      "text/plain": "array([<class 'str'>, <class 'float'>], dtype=object)"
     },
     "execution_count": 41,
     "metadata": {},
     "output_type": "execute_result"
    }
   ],
   "source": [
    "movies['director_name'].apply(type).unique()"
   ],
   "metadata": {
    "collapsed": false
   }
  },
  {
   "cell_type": "markdown",
   "source": [
    "Series 메서드 호출"
   ],
   "metadata": {
    "collapsed": false
   }
  },
  {
   "cell_type": "code",
   "execution_count": 42,
   "outputs": [],
   "source": [
    "s_attr_methods = set(dir(pd.Series))"
   ],
   "metadata": {
    "collapsed": false
   }
  },
  {
   "cell_type": "code",
   "execution_count": 44,
   "outputs": [
    {
     "data": {
      "text/plain": "422"
     },
     "execution_count": 44,
     "metadata": {},
     "output_type": "execute_result"
    }
   ],
   "source": [
    "len(s_attr_methods)"
   ],
   "metadata": {
    "collapsed": false
   }
  },
  {
   "cell_type": "code",
   "execution_count": 45,
   "outputs": [
    {
     "data": {
      "text/plain": "437"
     },
     "execution_count": 45,
     "metadata": {},
     "output_type": "execute_result"
    }
   ],
   "source": [
    "df_attr_methods = set(dir(pd.DataFrame))\n",
    "len(df_attr_methods)"
   ],
   "metadata": {
    "collapsed": false
   }
  },
  {
   "cell_type": "code",
   "execution_count": 46,
   "outputs": [
    {
     "data": {
      "text/plain": "367"
     },
     "execution_count": 46,
     "metadata": {},
     "output_type": "execute_result"
    }
   ],
   "source": [
    "len(s_attr_methods & df_attr_methods)"
   ],
   "metadata": {
    "collapsed": false
   }
  },
  {
   "cell_type": "code",
   "execution_count": 47,
   "outputs": [],
   "source": [
    "director = movies['director_name']\n",
    "fb_likes = movies['actor_1_facebook_likes']"
   ],
   "metadata": {
    "collapsed": false
   }
  },
  {
   "cell_type": "code",
   "execution_count": 48,
   "outputs": [
    {
     "data": {
      "text/plain": "dtype('O')"
     },
     "execution_count": 48,
     "metadata": {},
     "output_type": "execute_result"
    }
   ],
   "source": [
    "director.dtype"
   ],
   "metadata": {
    "collapsed": false
   }
  },
  {
   "cell_type": "code",
   "execution_count": 49,
   "outputs": [
    {
     "data": {
      "text/plain": "dtype('float64')"
     },
     "execution_count": 49,
     "metadata": {},
     "output_type": "execute_result"
    }
   ],
   "source": [
    "fb_likes.dtype"
   ],
   "metadata": {
    "collapsed": false
   }
  },
  {
   "cell_type": "code",
   "execution_count": 50,
   "outputs": [
    {
     "data": {
      "text/plain": "0        James Cameron\n1       Gore Verbinski\n2           Sam Mendes\n3    Christopher Nolan\n4          Doug Walker\nName: director_name, dtype: object"
     },
     "execution_count": 50,
     "metadata": {},
     "output_type": "execute_result"
    }
   ],
   "source": [
    "director.head()"
   ],
   "metadata": {
    "collapsed": false
   }
  },
  {
   "cell_type": "code",
   "execution_count": 51,
   "outputs": [
    {
     "data": {
      "text/plain": "2347      Brian Percival\n4687         Lucio Fulci\n691        Phillip Noyce\n3911       Sam Peckinpah\n2488    Rowdy Herrington\nName: director_name, dtype: object"
     },
     "execution_count": 51,
     "metadata": {},
     "output_type": "execute_result"
    }
   ],
   "source": [
    "director.sample(n=5, random_state=42)"
   ],
   "metadata": {
    "collapsed": false
   }
  },
  {
   "cell_type": "code",
   "execution_count": 52,
   "outputs": [
    {
     "data": {
      "text/plain": "0     1000.0\n1    40000.0\n2    11000.0\n3    27000.0\n4      131.0\nName: actor_1_facebook_likes, dtype: float64"
     },
     "execution_count": 52,
     "metadata": {},
     "output_type": "execute_result"
    }
   ],
   "source": [
    "fb_likes.head()"
   ],
   "metadata": {
    "collapsed": false
   }
  },
  {
   "cell_type": "code",
   "execution_count": 53,
   "outputs": [
    {
     "data": {
      "text/plain": "Steven Spielberg    26\nWoody Allen         22\nMartin Scorsese     20\nClint Eastwood      20\nRidley Scott        16\n                    ..\nJohn Putch           1\nLuca Guadagnino      1\nSam Fell             1\nDan Fogelman         1\nDaniel Hsia          1\nName: director_name, Length: 2397, dtype: int64"
     },
     "execution_count": 53,
     "metadata": {},
     "output_type": "execute_result"
    }
   ],
   "source": [
    "director.value_counts()"
   ],
   "metadata": {
    "collapsed": false
   }
  },
  {
   "cell_type": "code",
   "execution_count": 54,
   "outputs": [
    {
     "data": {
      "text/plain": "1000.0     436\n11000.0    206\n2000.0     189\n3000.0     150\n12000.0    131\n          ... \n703.0        1\n208.0        1\n79.0         1\n269.0        1\n291.0        1\nName: actor_1_facebook_likes, Length: 877, dtype: int64"
     },
     "execution_count": 54,
     "metadata": {},
     "output_type": "execute_result"
    }
   ],
   "source": [
    "fb_likes.value_counts()"
   ],
   "metadata": {
    "collapsed": false
   }
  },
  {
   "cell_type": "code",
   "execution_count": 55,
   "outputs": [
    {
     "data": {
      "text/plain": "4916"
     },
     "execution_count": 55,
     "metadata": {},
     "output_type": "execute_result"
    }
   ],
   "source": [
    "director.size"
   ],
   "metadata": {
    "collapsed": false
   }
  },
  {
   "cell_type": "code",
   "execution_count": 56,
   "outputs": [
    {
     "data": {
      "text/plain": "(4916,)"
     },
     "execution_count": 56,
     "metadata": {},
     "output_type": "execute_result"
    }
   ],
   "source": [
    "director.shape"
   ],
   "metadata": {
    "collapsed": false
   }
  },
  {
   "cell_type": "code",
   "execution_count": 57,
   "outputs": [
    {
     "data": {
      "text/plain": "4916"
     },
     "execution_count": 57,
     "metadata": {},
     "output_type": "execute_result"
    }
   ],
   "source": [
    "len(director)"
   ],
   "metadata": {
    "collapsed": false
   }
  },
  {
   "cell_type": "code",
   "execution_count": 58,
   "outputs": [
    {
     "data": {
      "text/plain": "array(['James Cameron', 'Gore Verbinski', 'Sam Mendes', ...,\n       'Scott Smith', 'Benjamin Roberds', 'Daniel Hsia'], dtype=object)"
     },
     "execution_count": 58,
     "metadata": {},
     "output_type": "execute_result"
    }
   ],
   "source": [
    "director.unique()"
   ],
   "metadata": {
    "collapsed": false
   }
  },
  {
   "cell_type": "code",
   "execution_count": 59,
   "outputs": [
    {
     "data": {
      "text/plain": "4814"
     },
     "execution_count": 59,
     "metadata": {},
     "output_type": "execute_result"
    }
   ],
   "source": [
    "director.count()"
   ],
   "metadata": {
    "collapsed": false
   }
  },
  {
   "cell_type": "code",
   "execution_count": 60,
   "outputs": [
    {
     "data": {
      "text/plain": "4909"
     },
     "execution_count": 60,
     "metadata": {},
     "output_type": "execute_result"
    }
   ],
   "source": [
    "fb_likes.count()"
   ],
   "metadata": {
    "collapsed": false
   }
  },
  {
   "cell_type": "code",
   "execution_count": 61,
   "outputs": [
    {
     "data": {
      "text/plain": "0.0"
     },
     "execution_count": 61,
     "metadata": {},
     "output_type": "execute_result"
    }
   ],
   "source": [
    "fb_likes.min()"
   ],
   "metadata": {
    "collapsed": false
   }
  },
  {
   "cell_type": "code",
   "execution_count": 62,
   "outputs": [
    {
     "data": {
      "text/plain": "640000.0"
     },
     "execution_count": 62,
     "metadata": {},
     "output_type": "execute_result"
    }
   ],
   "source": [
    "fb_likes.max()"
   ],
   "metadata": {
    "collapsed": false
   }
  },
  {
   "cell_type": "code",
   "execution_count": 63,
   "outputs": [
    {
     "data": {
      "text/plain": "6494.488490527602"
     },
     "execution_count": 63,
     "metadata": {},
     "output_type": "execute_result"
    }
   ],
   "source": [
    "fb_likes.mean()"
   ],
   "metadata": {
    "collapsed": false
   }
  },
  {
   "cell_type": "code",
   "execution_count": 64,
   "outputs": [
    {
     "data": {
      "text/plain": "982.0"
     },
     "execution_count": 64,
     "metadata": {},
     "output_type": "execute_result"
    }
   ],
   "source": [
    "fb_likes.median()"
   ],
   "metadata": {
    "collapsed": false
   }
  },
  {
   "cell_type": "code",
   "execution_count": 65,
   "outputs": [
    {
     "data": {
      "text/plain": "15106.986883848309"
     },
     "execution_count": 65,
     "metadata": {},
     "output_type": "execute_result"
    }
   ],
   "source": [
    "fb_likes.std()"
   ],
   "metadata": {
    "collapsed": false
   }
  },
  {
   "cell_type": "code",
   "execution_count": 66,
   "outputs": [
    {
     "data": {
      "text/plain": "count      4909.000000\nmean       6494.488491\nstd       15106.986884\nmin           0.000000\n25%         607.000000\n50%         982.000000\n75%       11000.000000\nmax      640000.000000\nName: actor_1_facebook_likes, dtype: float64"
     },
     "execution_count": 66,
     "metadata": {},
     "output_type": "execute_result"
    }
   ],
   "source": [
    "fb_likes.describe()"
   ],
   "metadata": {
    "collapsed": false
   }
  },
  {
   "cell_type": "code",
   "execution_count": 67,
   "outputs": [
    {
     "data": {
      "text/plain": "count                 4814\nunique                2397\ntop       Steven Spielberg\nfreq                    26\nName: director_name, dtype: object"
     },
     "execution_count": 67,
     "metadata": {},
     "output_type": "execute_result"
    }
   ],
   "source": [
    "director.describe()"
   ],
   "metadata": {
    "collapsed": false
   }
  },
  {
   "cell_type": "code",
   "execution_count": 68,
   "outputs": [
    {
     "data": {
      "text/plain": "510.0"
     },
     "execution_count": 68,
     "metadata": {},
     "output_type": "execute_result"
    }
   ],
   "source": [
    "fb_likes.quantile(0.2)"
   ],
   "metadata": {
    "collapsed": false
   }
  },
  {
   "cell_type": "code",
   "execution_count": 69,
   "outputs": [
    {
     "data": {
      "text/plain": "0.1    240.0\n0.2    510.0\n0.3    694.0\nName: actor_1_facebook_likes, dtype: float64"
     },
     "execution_count": 69,
     "metadata": {},
     "output_type": "execute_result"
    }
   ],
   "source": [
    "fb_likes.quantile([0.1, 0.2, 0.3])"
   ],
   "metadata": {
    "collapsed": false
   }
  },
  {
   "cell_type": "code",
   "execution_count": 70,
   "outputs": [
    {
     "data": {
      "text/plain": "0       False\n1       False\n2       False\n3       False\n4       False\n        ...  \n4911    False\n4912     True\n4913    False\n4914    False\n4915    False\nName: director_name, Length: 4916, dtype: bool"
     },
     "execution_count": 70,
     "metadata": {},
     "output_type": "execute_result"
    }
   ],
   "source": [
    "director.isna()"
   ],
   "metadata": {
    "collapsed": false
   }
  },
  {
   "cell_type": "code",
   "execution_count": 71,
   "outputs": [
    {
     "data": {
      "text/plain": "4916"
     },
     "execution_count": 71,
     "metadata": {},
     "output_type": "execute_result"
    }
   ],
   "source": [
    "fb_likes_filled = fb_likes.fillna(0)\n",
    "fb_likes_filled.count()"
   ],
   "metadata": {
    "collapsed": false
   }
  },
  {
   "cell_type": "code",
   "execution_count": 72,
   "outputs": [],
   "source": [
    "fb_likes_dropped = fb_likes.dropna()"
   ],
   "metadata": {
    "collapsed": false
   }
  },
  {
   "cell_type": "code",
   "execution_count": 73,
   "outputs": [
    {
     "data": {
      "text/plain": "4909"
     },
     "execution_count": 73,
     "metadata": {},
     "output_type": "execute_result"
    }
   ],
   "source": [
    "fb_likes_dropped.size"
   ],
   "metadata": {
    "collapsed": false
   }
  },
  {
   "cell_type": "code",
   "execution_count": 74,
   "outputs": [
    {
     "data": {
      "text/plain": "Steven Spielberg    0.005401\nWoody Allen         0.004570\nMartin Scorsese     0.004155\nClint Eastwood      0.004155\nRidley Scott        0.003324\n                      ...   \nJohn Putch          0.000208\nLuca Guadagnino     0.000208\nSam Fell            0.000208\nDan Fogelman        0.000208\nDaniel Hsia         0.000208\nName: director_name, Length: 2397, dtype: float64"
     },
     "execution_count": 74,
     "metadata": {},
     "output_type": "execute_result"
    }
   ],
   "source": [
    "director.value_counts(normalize=True)"
   ],
   "metadata": {
    "collapsed": false
   }
  },
  {
   "cell_type": "code",
   "execution_count": 75,
   "outputs": [
    {
     "data": {
      "text/plain": "True"
     },
     "execution_count": 75,
     "metadata": {},
     "output_type": "execute_result"
    }
   ],
   "source": [
    "director.hasnans"
   ],
   "metadata": {
    "collapsed": false
   }
  },
  {
   "cell_type": "code",
   "execution_count": 76,
   "outputs": [
    {
     "data": {
      "text/plain": "0        True\n1        True\n2        True\n3        True\n4        True\n        ...  \n4911     True\n4912    False\n4913     True\n4914     True\n4915     True\nName: director_name, Length: 4916, dtype: bool"
     },
     "execution_count": 76,
     "metadata": {},
     "output_type": "execute_result"
    }
   ],
   "source": [
    "director.notna()"
   ],
   "metadata": {
    "collapsed": false
   }
  },
  {
   "cell_type": "markdown",
   "source": [
    "Series 연산"
   ],
   "metadata": {
    "collapsed": false
   }
  },
  {
   "cell_type": "code",
   "execution_count": 77,
   "outputs": [],
   "source": [
    "movies = pd.read_csv('../data/movie.csv')"
   ],
   "metadata": {
    "collapsed": false
   }
  },
  {
   "cell_type": "code",
   "execution_count": 78,
   "outputs": [],
   "source": [
    "imdb_score = movies['imdb_score']"
   ],
   "metadata": {
    "collapsed": false
   }
  },
  {
   "cell_type": "code",
   "execution_count": 79,
   "outputs": [
    {
     "data": {
      "text/plain": "0       7.9\n1       7.1\n2       6.8\n3       8.5\n4       7.1\n       ... \n4911    7.7\n4912    7.5\n4913    6.3\n4914    6.3\n4915    6.6\nName: imdb_score, Length: 4916, dtype: float64"
     },
     "execution_count": 79,
     "metadata": {},
     "output_type": "execute_result"
    }
   ],
   "source": [
    "imdb_score"
   ],
   "metadata": {
    "collapsed": false
   }
  },
  {
   "cell_type": "code",
   "execution_count": 80,
   "outputs": [
    {
     "data": {
      "text/plain": "0       8.9\n1       8.1\n2       7.8\n3       9.5\n4       8.1\n       ... \n4911    8.7\n4912    8.5\n4913    7.3\n4914    7.3\n4915    7.6\nName: imdb_score, Length: 4916, dtype: float64"
     },
     "execution_count": 80,
     "metadata": {},
     "output_type": "execute_result"
    }
   ],
   "source": [
    "imdb_score + 1"
   ],
   "metadata": {
    "collapsed": false
   }
  },
  {
   "cell_type": "code",
   "execution_count": 81,
   "outputs": [
    {
     "data": {
      "text/plain": "0       19.75\n1       17.75\n2       17.00\n3       21.25\n4       17.75\n        ...  \n4911    19.25\n4912    18.75\n4913    15.75\n4914    15.75\n4915    16.50\nName: imdb_score, Length: 4916, dtype: float64"
     },
     "execution_count": 81,
     "metadata": {},
     "output_type": "execute_result"
    }
   ],
   "source": [
    "imdb_score * 2.5"
   ],
   "metadata": {
    "collapsed": false
   }
  },
  {
   "cell_type": "code",
   "execution_count": 82,
   "outputs": [
    {
     "data": {
      "text/plain": "0       1.0\n1       1.0\n2       0.0\n3       1.0\n4       1.0\n       ... \n4911    1.0\n4912    1.0\n4913    0.0\n4914    0.0\n4915    0.0\nName: imdb_score, Length: 4916, dtype: float64"
     },
     "execution_count": 82,
     "metadata": {},
     "output_type": "execute_result"
    }
   ],
   "source": [
    "imdb_score // 7"
   ],
   "metadata": {
    "collapsed": false
   }
  },
  {
   "cell_type": "code",
   "execution_count": 83,
   "outputs": [
    {
     "data": {
      "text/plain": "0        True\n1        True\n2       False\n3        True\n4        True\n        ...  \n4911     True\n4912     True\n4913    False\n4914    False\n4915    False\nName: imdb_score, Length: 4916, dtype: bool"
     },
     "execution_count": 83,
     "metadata": {},
     "output_type": "execute_result"
    }
   ],
   "source": [
    "imdb_score > 7"
   ],
   "metadata": {
    "collapsed": false
   }
  },
  {
   "cell_type": "code",
   "execution_count": 84,
   "outputs": [],
   "source": [
    "director = movies['director_name']"
   ],
   "metadata": {
    "collapsed": false
   }
  },
  {
   "cell_type": "code",
   "execution_count": 85,
   "outputs": [
    {
     "data": {
      "text/plain": "0        True\n1       False\n2       False\n3       False\n4       False\n        ...  \n4911    False\n4912    False\n4913    False\n4914    False\n4915    False\nName: director_name, Length: 4916, dtype: bool"
     },
     "execution_count": 85,
     "metadata": {},
     "output_type": "execute_result"
    }
   ],
   "source": [
    "director == 'James Cameron'"
   ],
   "metadata": {
    "collapsed": false
   }
  },
  {
   "cell_type": "code",
   "execution_count": 86,
   "outputs": [
    {
     "data": {
      "text/plain": "0       8.9\n1       8.1\n2       7.8\n3       9.5\n4       8.1\n       ... \n4911    8.7\n4912    8.5\n4913    7.3\n4914    7.3\n4915    7.6\nName: imdb_score, Length: 4916, dtype: float64"
     },
     "execution_count": 86,
     "metadata": {},
     "output_type": "execute_result"
    }
   ],
   "source": [
    "imdb_score.add(1)"
   ],
   "metadata": {
    "collapsed": false
   }
  },
  {
   "cell_type": "code",
   "execution_count": 87,
   "outputs": [
    {
     "data": {
      "text/plain": "0        True\n1        True\n2       False\n3        True\n4        True\n        ...  \n4911     True\n4912     True\n4913    False\n4914    False\n4915    False\nName: imdb_score, Length: 4916, dtype: bool"
     },
     "execution_count": 87,
     "metadata": {},
     "output_type": "execute_result"
    }
   ],
   "source": [
    "imdb_score.gt(7)"
   ],
   "metadata": {
    "collapsed": false
   }
  },
  {
   "cell_type": "code",
   "execution_count": 88,
   "outputs": [],
   "source": [
    "money = pd.Series([100, 20, None])"
   ],
   "metadata": {
    "collapsed": false
   }
  },
  {
   "cell_type": "code",
   "execution_count": 89,
   "outputs": [
    {
     "data": {
      "text/plain": "0    100.0\n1     20.0\n2      NaN\ndtype: float64"
     },
     "execution_count": 89,
     "metadata": {},
     "output_type": "execute_result"
    }
   ],
   "source": [
    "money"
   ],
   "metadata": {
    "collapsed": false
   }
  },
  {
   "cell_type": "code",
   "execution_count": 90,
   "outputs": [
    {
     "data": {
      "text/plain": "0    85.0\n1     5.0\n2   -15.0\ndtype: float64"
     },
     "execution_count": 90,
     "metadata": {},
     "output_type": "execute_result"
    }
   ],
   "source": [
    "money.sub(15, fill_value=0)"
   ],
   "metadata": {
    "collapsed": false
   }
  },
  {
   "cell_type": "markdown",
   "source": [
    "Series 메서드 체인"
   ],
   "metadata": {
    "collapsed": false
   }
  },
  {
   "cell_type": "code",
   "execution_count": 91,
   "outputs": [],
   "source": [
    "fb_likes = movies['actor_1_facebook_likes']"
   ],
   "metadata": {
    "collapsed": false
   }
  },
  {
   "cell_type": "code",
   "execution_count": 92,
   "outputs": [],
   "source": [
    "director = movies['director_name']"
   ],
   "metadata": {
    "collapsed": false
   }
  },
  {
   "cell_type": "code",
   "execution_count": 93,
   "outputs": [
    {
     "data": {
      "text/plain": "Steven Spielberg    26\nWoody Allen         22\nMartin Scorsese     20\nName: director_name, dtype: int64"
     },
     "execution_count": 93,
     "metadata": {},
     "output_type": "execute_result"
    }
   ],
   "source": [
    "director.value_counts().head(3)"
   ],
   "metadata": {
    "collapsed": false
   }
  },
  {
   "cell_type": "code",
   "execution_count": 94,
   "outputs": [
    {
     "data": {
      "text/plain": "7"
     },
     "execution_count": 94,
     "metadata": {},
     "output_type": "execute_result"
    }
   ],
   "source": [
    "fb_likes.isna().sum()"
   ],
   "metadata": {
    "collapsed": false
   }
  },
  {
   "cell_type": "code",
   "execution_count": 95,
   "outputs": [
    {
     "data": {
      "text/plain": "dtype('float64')"
     },
     "execution_count": 95,
     "metadata": {},
     "output_type": "execute_result"
    }
   ],
   "source": [
    "fb_likes.dtype"
   ],
   "metadata": {
    "collapsed": false
   }
  },
  {
   "cell_type": "code",
   "execution_count": 96,
   "outputs": [
    {
     "data": {
      "text/plain": "0     1000\n1    40000\n2    11000\n3    27000\n4      131\nName: actor_1_facebook_likes, dtype: int64"
     },
     "execution_count": 96,
     "metadata": {},
     "output_type": "execute_result"
    }
   ],
   "source": [
    "(fb_likes.fillna(0).astype(int).head())"
   ],
   "metadata": {
    "collapsed": false
   }
  },
  {
   "cell_type": "code",
   "execution_count": 97,
   "outputs": [
    {
     "data": {
      "text/plain": "0        1000.0\n1       40000.0\n2       11000.0\n3       27000.0\n4         131.0\n         ...   \n4911      637.0\n4912      841.0\n4913        0.0\n4914      946.0\n4915       86.0\nName: actor_1_facebook_likes, Length: 4916, dtype: float64"
     },
     "execution_count": 97,
     "metadata": {},
     "output_type": "execute_result"
    }
   ],
   "source": [
    "(\n",
    "    fb_likes.fillna(0)\n",
    "            # .astype(int)\n",
    "            # .head()\n",
    ")"
   ],
   "metadata": {
    "collapsed": false
   }
  },
  {
   "cell_type": "code",
   "execution_count": 98,
   "outputs": [
    {
     "data": {
      "text/plain": "0        1000\n1       40000\n2       11000\n3       27000\n4         131\n        ...  \n4911      637\n4912      841\n4913        0\n4914      946\n4915       86\nName: actor_1_facebook_likes, Length: 4916, dtype: int64"
     },
     "execution_count": 98,
     "metadata": {},
     "output_type": "execute_result"
    }
   ],
   "source": [
    "(\n",
    "    fb_likes.fillna(0)\n",
    "            .astype(int)\n",
    "            # .head()\n",
    ")"
   ],
   "metadata": {
    "collapsed": false
   }
  },
  {
   "cell_type": "code",
   "execution_count": 100,
   "outputs": [],
   "source": [
    "def debug_ser(ser):\n",
    "    print(\"BEFORE\")\n",
    "    print(ser)\n",
    "    print(\"AFTER\")\n",
    "    return ser"
   ],
   "metadata": {
    "collapsed": false
   }
  },
  {
   "cell_type": "code",
   "execution_count": 101,
   "outputs": [
    {
     "name": "stdout",
     "output_type": "stream",
     "text": [
      "BEFORE\n",
      "0        1000.0\n",
      "1       40000.0\n",
      "2       11000.0\n",
      "3       27000.0\n",
      "4         131.0\n",
      "         ...   \n",
      "4911      637.0\n",
      "4912      841.0\n",
      "4913        0.0\n",
      "4914      946.0\n",
      "4915       86.0\n",
      "Name: actor_1_facebook_likes, Length: 4916, dtype: float64\n",
      "AFTER\n"
     ]
    },
    {
     "data": {
      "text/plain": "0     1000\n1    40000\n2    11000\n3    27000\n4      131\nName: actor_1_facebook_likes, dtype: int64"
     },
     "execution_count": 101,
     "metadata": {},
     "output_type": "execute_result"
    }
   ],
   "source": [
    "(fb_likes.fillna(0).pipe(debug_ser).astype(int).head())"
   ],
   "metadata": {
    "collapsed": false
   }
  },
  {
   "cell_type": "code",
   "execution_count": 106,
   "outputs": [],
   "source": [
    "intermediate = None\n",
    "def get_intermediate(ser) -> pd.Series:\n",
    "    global intermediate\n",
    "    intermediate = ser\n",
    "    return ser"
   ],
   "metadata": {
    "collapsed": false
   }
  },
  {
   "cell_type": "code",
   "execution_count": 107,
   "outputs": [],
   "source": [
    "res = (\n",
    "    fb_likes.fillna(0)\n",
    "    .pipe(get_intermediate)\n",
    "    .astype(int)\n",
    "    .head()\n",
    ")"
   ],
   "metadata": {
    "collapsed": false
   }
  },
  {
   "cell_type": "code",
   "execution_count": 108,
   "outputs": [
    {
     "data": {
      "text/plain": "0        1000.0\n1       40000.0\n2       11000.0\n3       27000.0\n4         131.0\n         ...   \n4911      637.0\n4912      841.0\n4913        0.0\n4914      946.0\n4915       86.0\nName: actor_1_facebook_likes, Length: 4916, dtype: float64"
     },
     "execution_count": 108,
     "metadata": {},
     "output_type": "execute_result"
    }
   ],
   "source": [
    "intermediate"
   ],
   "metadata": {
    "collapsed": false
   }
  },
  {
   "cell_type": "code",
   "execution_count": 109,
   "outputs": [
    {
     "data": {
      "text/plain": "0     1000\n1    40000\n2    11000\n3    27000\n4      131\nName: actor_1_facebook_likes, dtype: int64"
     },
     "execution_count": 109,
     "metadata": {},
     "output_type": "execute_result"
    }
   ],
   "source": [
    "fb_likes.fillna(0) \\\n",
    "    .astype(int) \\\n",
    "    .head()"
   ],
   "metadata": {
    "collapsed": false
   }
  },
  {
   "cell_type": "markdown",
   "source": [
    "열 이름 변경"
   ],
   "metadata": {
    "collapsed": false
   }
  },
  {
   "cell_type": "code",
   "execution_count": 110,
   "outputs": [],
   "source": [
    "movies = pd.read_csv('../data/movie.csv')"
   ],
   "metadata": {
    "collapsed": false
   }
  },
  {
   "cell_type": "code",
   "execution_count": 111,
   "outputs": [],
   "source": [
    "col_map = {\n",
    "    \"director_name\": \"director\",\n",
    "    \"num_critic_for_reviews\": \"critic_reviews\"\n",
    "}"
   ],
   "metadata": {
    "collapsed": false
   }
  },
  {
   "cell_type": "code",
   "execution_count": 112,
   "outputs": [
    {
     "data": {
      "text/plain": "   color           director  critic_reviews  duration  \\\n0  Color      James Cameron           723.0     178.0   \n1  Color     Gore Verbinski           302.0     169.0   \n2  Color         Sam Mendes           602.0     148.0   \n3  Color  Christopher Nolan           813.0     164.0   \n4    NaN        Doug Walker             NaN       NaN   \n\n   director_facebook_likes  actor_3_facebook_likes      actor_2_name  \\\n0                      0.0                   855.0  Joel David Moore   \n1                    563.0                  1000.0     Orlando Bloom   \n2                      0.0                   161.0      Rory Kinnear   \n3                  22000.0                 23000.0    Christian Bale   \n4                    131.0                     NaN        Rob Walker   \n\n   actor_1_facebook_likes        gross                           genres  ...  \\\n0                  1000.0  760505847.0  Action|Adventure|Fantasy|Sci-Fi  ...   \n1                 40000.0  309404152.0         Action|Adventure|Fantasy  ...   \n2                 11000.0  200074175.0        Action|Adventure|Thriller  ...   \n3                 27000.0  448130642.0                  Action|Thriller  ...   \n4                   131.0          NaN                      Documentary  ...   \n\n  num_user_for_reviews language  country  content_rating       budget  \\\n0               3054.0  English      USA           PG-13  237000000.0   \n1               1238.0  English      USA           PG-13  300000000.0   \n2                994.0  English       UK           PG-13  245000000.0   \n3               2701.0  English      USA           PG-13  250000000.0   \n4                  NaN      NaN      NaN             NaN          NaN   \n\n   title_year actor_2_facebook_likes imdb_score  aspect_ratio  \\\n0      2009.0                  936.0        7.9          1.78   \n1      2007.0                 5000.0        7.1          2.35   \n2      2015.0                  393.0        6.8          2.35   \n3      2012.0                23000.0        8.5          2.35   \n4         NaN                   12.0        7.1           NaN   \n\n  movie_facebook_likes  \n0                33000  \n1                    0  \n2                85000  \n3               164000  \n4                    0  \n\n[5 rows x 28 columns]",
      "text/html": "<div>\n<style scoped>\n    .dataframe tbody tr th:only-of-type {\n        vertical-align: middle;\n    }\n\n    .dataframe tbody tr th {\n        vertical-align: top;\n    }\n\n    .dataframe thead th {\n        text-align: right;\n    }\n</style>\n<table border=\"1\" class=\"dataframe\">\n  <thead>\n    <tr style=\"text-align: right;\">\n      <th></th>\n      <th>color</th>\n      <th>director</th>\n      <th>critic_reviews</th>\n      <th>duration</th>\n      <th>director_facebook_likes</th>\n      <th>actor_3_facebook_likes</th>\n      <th>actor_2_name</th>\n      <th>actor_1_facebook_likes</th>\n      <th>gross</th>\n      <th>genres</th>\n      <th>...</th>\n      <th>num_user_for_reviews</th>\n      <th>language</th>\n      <th>country</th>\n      <th>content_rating</th>\n      <th>budget</th>\n      <th>title_year</th>\n      <th>actor_2_facebook_likes</th>\n      <th>imdb_score</th>\n      <th>aspect_ratio</th>\n      <th>movie_facebook_likes</th>\n    </tr>\n  </thead>\n  <tbody>\n    <tr>\n      <th>0</th>\n      <td>Color</td>\n      <td>James Cameron</td>\n      <td>723.0</td>\n      <td>178.0</td>\n      <td>0.0</td>\n      <td>855.0</td>\n      <td>Joel David Moore</td>\n      <td>1000.0</td>\n      <td>760505847.0</td>\n      <td>Action|Adventure|Fantasy|Sci-Fi</td>\n      <td>...</td>\n      <td>3054.0</td>\n      <td>English</td>\n      <td>USA</td>\n      <td>PG-13</td>\n      <td>237000000.0</td>\n      <td>2009.0</td>\n      <td>936.0</td>\n      <td>7.9</td>\n      <td>1.78</td>\n      <td>33000</td>\n    </tr>\n    <tr>\n      <th>1</th>\n      <td>Color</td>\n      <td>Gore Verbinski</td>\n      <td>302.0</td>\n      <td>169.0</td>\n      <td>563.0</td>\n      <td>1000.0</td>\n      <td>Orlando Bloom</td>\n      <td>40000.0</td>\n      <td>309404152.0</td>\n      <td>Action|Adventure|Fantasy</td>\n      <td>...</td>\n      <td>1238.0</td>\n      <td>English</td>\n      <td>USA</td>\n      <td>PG-13</td>\n      <td>300000000.0</td>\n      <td>2007.0</td>\n      <td>5000.0</td>\n      <td>7.1</td>\n      <td>2.35</td>\n      <td>0</td>\n    </tr>\n    <tr>\n      <th>2</th>\n      <td>Color</td>\n      <td>Sam Mendes</td>\n      <td>602.0</td>\n      <td>148.0</td>\n      <td>0.0</td>\n      <td>161.0</td>\n      <td>Rory Kinnear</td>\n      <td>11000.0</td>\n      <td>200074175.0</td>\n      <td>Action|Adventure|Thriller</td>\n      <td>...</td>\n      <td>994.0</td>\n      <td>English</td>\n      <td>UK</td>\n      <td>PG-13</td>\n      <td>245000000.0</td>\n      <td>2015.0</td>\n      <td>393.0</td>\n      <td>6.8</td>\n      <td>2.35</td>\n      <td>85000</td>\n    </tr>\n    <tr>\n      <th>3</th>\n      <td>Color</td>\n      <td>Christopher Nolan</td>\n      <td>813.0</td>\n      <td>164.0</td>\n      <td>22000.0</td>\n      <td>23000.0</td>\n      <td>Christian Bale</td>\n      <td>27000.0</td>\n      <td>448130642.0</td>\n      <td>Action|Thriller</td>\n      <td>...</td>\n      <td>2701.0</td>\n      <td>English</td>\n      <td>USA</td>\n      <td>PG-13</td>\n      <td>250000000.0</td>\n      <td>2012.0</td>\n      <td>23000.0</td>\n      <td>8.5</td>\n      <td>2.35</td>\n      <td>164000</td>\n    </tr>\n    <tr>\n      <th>4</th>\n      <td>NaN</td>\n      <td>Doug Walker</td>\n      <td>NaN</td>\n      <td>NaN</td>\n      <td>131.0</td>\n      <td>NaN</td>\n      <td>Rob Walker</td>\n      <td>131.0</td>\n      <td>NaN</td>\n      <td>Documentary</td>\n      <td>...</td>\n      <td>NaN</td>\n      <td>NaN</td>\n      <td>NaN</td>\n      <td>NaN</td>\n      <td>NaN</td>\n      <td>NaN</td>\n      <td>12.0</td>\n      <td>7.1</td>\n      <td>NaN</td>\n      <td>0</td>\n    </tr>\n  </tbody>\n</table>\n<p>5 rows × 28 columns</p>\n</div>"
     },
     "execution_count": 112,
     "metadata": {},
     "output_type": "execute_result"
    }
   ],
   "source": [
    "movies.rename(columns=col_map).head()"
   ],
   "metadata": {
    "collapsed": false
   }
  },
  {
   "cell_type": "code",
   "execution_count": 113,
   "outputs": [],
   "source": [
    "idx_map = {\n",
    "    \"Avatar\": \"Ratava\",\n",
    "    \"Spectre\": \"Ertceps\",\n",
    "    \"Pirates of the Caribbean: At World's End\": \"POC\"\n",
    "}"
   ],
   "metadata": {
    "collapsed": false
   }
  },
  {
   "cell_type": "code",
   "execution_count": 115,
   "outputs": [],
   "source": [
    "col_map = {\n",
    "    \"aspect_ratio\": \"aspect\",\n",
    "    \"movie_facebook_likes\": \"fblikes\"\n",
    "}"
   ],
   "metadata": {
    "collapsed": false
   }
  },
  {
   "cell_type": "code",
   "execution_count": 116,
   "outputs": [
    {
     "data": {
      "text/plain": "             color   director_name  num_critic_for_reviews  duration  \\\nmovie_title                                                            \nRatava       Color   James Cameron                   723.0     178.0   \nPOC          Color  Gore Verbinski                   302.0     169.0   \nErtceps      Color      Sam Mendes                   602.0     148.0   \n\n             director_facebook_likes  actor_3_facebook_likes  \\\nmovie_title                                                    \nRatava                           0.0                   855.0   \nPOC                            563.0                  1000.0   \nErtceps                          0.0                   161.0   \n\n                 actor_2_name  actor_1_facebook_likes        gross  \\\nmovie_title                                                          \nRatava       Joel David Moore                  1000.0  760505847.0   \nPOC             Orlando Bloom                 40000.0  309404152.0   \nErtceps          Rory Kinnear                 11000.0  200074175.0   \n\n                                      genres  ... num_user_for_reviews  \\\nmovie_title                                   ...                        \nRatava       Action|Adventure|Fantasy|Sci-Fi  ...               3054.0   \nPOC                 Action|Adventure|Fantasy  ...               1238.0   \nErtceps            Action|Adventure|Thriller  ...                994.0   \n\n             language  country content_rating       budget title_year  \\\nmovie_title                                                             \nRatava        English      USA          PG-13  237000000.0     2009.0   \nPOC           English      USA          PG-13  300000000.0     2007.0   \nErtceps       English       UK          PG-13  245000000.0     2015.0   \n\n            actor_2_facebook_likes  imdb_score aspect fblikes  \nmovie_title                                                    \nRatava                       936.0         7.9   1.78   33000  \nPOC                         5000.0         7.1   2.35       0  \nErtceps                      393.0         6.8   2.35   85000  \n\n[3 rows x 27 columns]",
      "text/html": "<div>\n<style scoped>\n    .dataframe tbody tr th:only-of-type {\n        vertical-align: middle;\n    }\n\n    .dataframe tbody tr th {\n        vertical-align: top;\n    }\n\n    .dataframe thead th {\n        text-align: right;\n    }\n</style>\n<table border=\"1\" class=\"dataframe\">\n  <thead>\n    <tr style=\"text-align: right;\">\n      <th></th>\n      <th>color</th>\n      <th>director_name</th>\n      <th>num_critic_for_reviews</th>\n      <th>duration</th>\n      <th>director_facebook_likes</th>\n      <th>actor_3_facebook_likes</th>\n      <th>actor_2_name</th>\n      <th>actor_1_facebook_likes</th>\n      <th>gross</th>\n      <th>genres</th>\n      <th>...</th>\n      <th>num_user_for_reviews</th>\n      <th>language</th>\n      <th>country</th>\n      <th>content_rating</th>\n      <th>budget</th>\n      <th>title_year</th>\n      <th>actor_2_facebook_likes</th>\n      <th>imdb_score</th>\n      <th>aspect</th>\n      <th>fblikes</th>\n    </tr>\n    <tr>\n      <th>movie_title</th>\n      <th></th>\n      <th></th>\n      <th></th>\n      <th></th>\n      <th></th>\n      <th></th>\n      <th></th>\n      <th></th>\n      <th></th>\n      <th></th>\n      <th></th>\n      <th></th>\n      <th></th>\n      <th></th>\n      <th></th>\n      <th></th>\n      <th></th>\n      <th></th>\n      <th></th>\n      <th></th>\n      <th></th>\n    </tr>\n  </thead>\n  <tbody>\n    <tr>\n      <th>Ratava</th>\n      <td>Color</td>\n      <td>James Cameron</td>\n      <td>723.0</td>\n      <td>178.0</td>\n      <td>0.0</td>\n      <td>855.0</td>\n      <td>Joel David Moore</td>\n      <td>1000.0</td>\n      <td>760505847.0</td>\n      <td>Action|Adventure|Fantasy|Sci-Fi</td>\n      <td>...</td>\n      <td>3054.0</td>\n      <td>English</td>\n      <td>USA</td>\n      <td>PG-13</td>\n      <td>237000000.0</td>\n      <td>2009.0</td>\n      <td>936.0</td>\n      <td>7.9</td>\n      <td>1.78</td>\n      <td>33000</td>\n    </tr>\n    <tr>\n      <th>POC</th>\n      <td>Color</td>\n      <td>Gore Verbinski</td>\n      <td>302.0</td>\n      <td>169.0</td>\n      <td>563.0</td>\n      <td>1000.0</td>\n      <td>Orlando Bloom</td>\n      <td>40000.0</td>\n      <td>309404152.0</td>\n      <td>Action|Adventure|Fantasy</td>\n      <td>...</td>\n      <td>1238.0</td>\n      <td>English</td>\n      <td>USA</td>\n      <td>PG-13</td>\n      <td>300000000.0</td>\n      <td>2007.0</td>\n      <td>5000.0</td>\n      <td>7.1</td>\n      <td>2.35</td>\n      <td>0</td>\n    </tr>\n    <tr>\n      <th>Ertceps</th>\n      <td>Color</td>\n      <td>Sam Mendes</td>\n      <td>602.0</td>\n      <td>148.0</td>\n      <td>0.0</td>\n      <td>161.0</td>\n      <td>Rory Kinnear</td>\n      <td>11000.0</td>\n      <td>200074175.0</td>\n      <td>Action|Adventure|Thriller</td>\n      <td>...</td>\n      <td>994.0</td>\n      <td>English</td>\n      <td>UK</td>\n      <td>PG-13</td>\n      <td>245000000.0</td>\n      <td>2015.0</td>\n      <td>393.0</td>\n      <td>6.8</td>\n      <td>2.35</td>\n      <td>85000</td>\n    </tr>\n  </tbody>\n</table>\n<p>3 rows × 27 columns</p>\n</div>"
     },
     "execution_count": 116,
     "metadata": {},
     "output_type": "execute_result"
    }
   ],
   "source": [
    "(\n",
    "    movies.set_index(\"movie_title\")\n",
    "    .rename(index=idx_map, columns=col_map)\n",
    "    .head(3)\n",
    ")"
   ],
   "metadata": {
    "collapsed": false
   }
  },
  {
   "cell_type": "code",
   "execution_count": 117,
   "outputs": [],
   "source": [
    "movies = pd.read_csv(\"../data/movie.csv\", index_col=\"movie_title\")"
   ],
   "metadata": {
    "collapsed": false
   }
  },
  {
   "cell_type": "code",
   "execution_count": 118,
   "outputs": [
    {
     "data": {
      "text/plain": "['Avatar',\n \"Pirates of the Caribbean: At World's End\",\n 'Spectre',\n 'The Dark Knight Rises',\n 'Star Wars: Episode VII - The Force Awakens',\n 'John Carter',\n 'Spider-Man 3',\n 'Tangled',\n 'Avengers: Age of Ultron',\n 'Harry Potter and the Half-Blood Prince',\n 'Batman v Superman: Dawn of Justice',\n 'Superman Returns',\n 'Quantum of Solace',\n \"Pirates of the Caribbean: Dead Man's Chest\",\n 'The Lone Ranger',\n 'Man of Steel',\n 'The Chronicles of Narnia: Prince Caspian',\n 'The Avengers',\n 'Pirates of the Caribbean: On Stranger Tides',\n 'Men in Black 3',\n 'The Hobbit: The Battle of the Five Armies',\n 'The Amazing Spider-Man',\n 'Robin Hood',\n 'The Hobbit: The Desolation of Smaug',\n 'The Golden Compass',\n 'King Kong',\n 'Titanic',\n 'Captain America: Civil War',\n 'Battleship',\n 'Jurassic World',\n 'Skyfall',\n 'Spider-Man 2',\n 'Iron Man 3',\n 'Alice in Wonderland',\n 'X-Men: The Last Stand',\n 'Monsters University',\n 'Transformers: Revenge of the Fallen',\n 'Transformers: Age of Extinction',\n 'Oz the Great and Powerful',\n 'The Amazing Spider-Man 2',\n 'TRON: Legacy',\n 'Cars 2',\n 'Green Lantern',\n 'Toy Story 3',\n 'Terminator Salvation',\n 'Furious 7',\n 'World War Z',\n 'X-Men: Days of Future Past',\n 'Star Trek Into Darkness',\n 'Jack the Giant Slayer',\n 'The Great Gatsby',\n 'Prince of Persia: The Sands of Time',\n 'Pacific Rim',\n 'Transformers: Dark of the Moon',\n 'Indiana Jones and the Kingdom of the Crystal Skull',\n 'The Good Dinosaur',\n 'Brave',\n 'Star Trek Beyond',\n 'WALL·E',\n 'Rush Hour 3',\n '2012',\n 'A Christmas Carol',\n 'Jupiter Ascending',\n 'The Legend of Tarzan',\n 'The Chronicles of Narnia: The Lion, the Witch and the Wardrobe',\n 'X-Men: Apocalypse',\n 'The Dark Knight',\n 'Up',\n 'Monsters vs. Aliens',\n 'Iron Man',\n 'Hugo',\n 'Wild Wild West',\n 'The Mummy: Tomb of the Dragon Emperor',\n 'Suicide Squad',\n 'Evan Almighty',\n 'Edge of Tomorrow',\n 'Waterworld',\n 'G.I. Joe: The Rise of Cobra',\n 'Inside Out',\n 'The Jungle Book',\n 'Iron Man 2',\n 'Snow White and the Huntsman',\n 'Maleficent',\n 'Dawn of the Planet of the Apes',\n 'The Lovers',\n '47 Ronin',\n 'Captain America: The Winter Soldier',\n 'Shrek Forever After',\n 'Tomorrowland',\n 'Big Hero 6',\n 'Wreck-It Ralph',\n 'The Polar Express',\n 'Independence Day: Resurgence',\n 'How to Train Your Dragon',\n 'Terminator 3: Rise of the Machines',\n 'Guardians of the Galaxy',\n 'Interstellar',\n 'Inception',\n 'Godzilla Resurgence',\n 'The Hobbit: An Unexpected Journey',\n 'The Fast and the Furious',\n 'The Curious Case of Benjamin Button',\n 'X-Men: First Class',\n 'The Hunger Games: Mockingjay - Part 2',\n \"The Sorcerer's Apprentice\",\n 'Poseidon',\n 'Alice Through the Looking Glass',\n 'Shrek the Third',\n 'Warcraft',\n 'Terminator Genisys',\n 'The Chronicles of Narnia: The Voyage of the Dawn Treader',\n 'Pearl Harbor',\n 'Transformers',\n 'Alexander',\n 'Harry Potter and the Order of the Phoenix',\n 'Harry Potter and the Goblet of Fire',\n 'Hancock',\n 'I Am Legend',\n 'Charlie and the Chocolate Factory',\n 'Ratatouille',\n 'Batman Begins',\n 'Madagascar: Escape 2 Africa',\n 'Night at the Museum: Battle of the Smithsonian',\n 'X-Men Origins: Wolverine',\n 'The Matrix Revolutions',\n 'Frozen',\n 'The Matrix Reloaded',\n 'Thor: The Dark World',\n 'Mad Max: Fury Road',\n 'Angels & Demons',\n 'Thor',\n 'Bolt',\n 'G-Force',\n 'Wrath of the Titans',\n 'Dark Shadows',\n 'Mission: Impossible - Rogue Nation',\n 'The Wolfman',\n 'Bee Movie',\n 'Kung Fu Panda 2',\n 'The Last Airbender',\n 'Mission: Impossible III',\n 'White House Down',\n 'Mars Needs Moms',\n 'Flushed Away',\n 'Pan',\n 'Mr. Peabody & Sherman',\n 'Troy',\n \"Madagascar 3: Europe's Most Wanted\",\n 'Die Another Day',\n 'Ghostbusters',\n 'Armageddon',\n 'Men in Black II',\n 'Beowulf',\n 'Kung Fu Panda 3',\n 'Mission: Impossible - Ghost Protocol',\n 'Rise of the Guardians',\n 'Fun with Dick and Jane',\n 'The Last Samurai',\n 'Exodus: Gods and Kings',\n 'Star Trek',\n 'Spider-Man',\n 'How to Train Your Dragon 2',\n 'Gods of Egypt',\n 'Stealth',\n 'Watchmen',\n 'Lethal Weapon 4',\n 'Hulk',\n 'G.I. Joe: Retaliation',\n 'Sahara',\n 'Final Fantasy: The Spirits Within',\n 'Captain America: The First Avenger',\n 'The World Is Not Enough',\n 'Master and Commander: The Far Side of the World',\n 'The Twilight Saga: Breaking Dawn - Part 2',\n 'Happy Feet 2',\n 'The Incredible Hulk',\n 'Miami Vice',\n 'The BFG',\n 'The Revenant',\n 'Turbo',\n 'Rango',\n 'Penguins of Madagascar',\n 'The Bourne Ultimatum',\n 'Kung Fu Panda',\n 'Ant-Man',\n 'The Hunger Games: Catching Fire',\n 'Home',\n 'War of the Worlds',\n 'Bad Boys II',\n 'Puss in Boots',\n 'Salt',\n 'Noah',\n 'The Adventures of Tintin',\n 'Harry Potter and the Prisoner of Azkaban',\n 'Australia',\n 'After Earth',\n 'Dinosaur',\n 'Harry Potter and the Deathly Hallows: Part II',\n 'Night at the Museum: Secret of the Tomb',\n 'Megamind',\n \"Harry Potter and the Sorcerer's Stone\",\n 'R.I.P.D.',\n 'Pirates of the Caribbean: The Curse of the Black Pearl',\n 'Harry Potter and the Deathly Hallows: Part I',\n 'The Hunger Games: Mockingjay - Part 1',\n 'The Da Vinci Code',\n 'Rio 2',\n 'X-Men 2',\n 'Fast Five',\n 'Sherlock Holmes: A Game of Shadows',\n 'Clash of the Titans',\n 'Total Recall',\n 'The 13th Warrior',\n 'The Bourne Legacy',\n 'Batman & Robin',\n 'How the Grinch Stole Christmas',\n 'The Day After Tomorrow',\n 'Mission: Impossible II',\n 'The Perfect Storm',\n 'Fantastic 4: Rise of the Silver Surfer',\n 'Life of Pi',\n 'Ghost Rider',\n 'Jason Bourne',\n \"Charlie's Angels: Full Throttle\",\n 'Prometheus',\n 'Stuart Little 2',\n 'Elysium',\n 'The Chronicles of Riddick',\n 'RoboCop',\n 'Speed Racer',\n 'How Do You Know',\n 'Knight and Day',\n 'Oblivion',\n 'Star Wars: Episode III - Revenge of the Sith',\n 'Star Wars: Episode II - Attack of the Clones',\n 'Monsters, Inc.',\n 'The Wolverine',\n 'Star Wars: Episode I - The Phantom Menace',\n 'The Croods',\n 'Asterix at the Olympic Games',\n 'Windtalkers',\n \"The Huntsman: Winter's War\",\n 'Teenage Mutant Ninja Turtles',\n 'Gravity',\n \"Dante's Peak\",\n 'Teenage Mutant Ninja Turtles: Out of the Shadows',\n 'Fantastic Four',\n 'Night at the Museum',\n 'San Andreas',\n 'Tomorrow Never Dies',\n 'The Patriot',\n \"Ocean's Twelve\",\n 'Mr. & Mrs. Smith',\n 'Insurgent',\n 'The Aviator',\n \"Gulliver's Travels\",\n 'The Green Hornet',\n 'The A-Team',\n '300: Rise of an Empire',\n 'The Smurfs',\n 'Home on the Range',\n 'Allegiant',\n 'Real Steel',\n 'The Smurfs 2',\n 'Speed 2: Cruise Control',\n \"Ender's Game\",\n 'Live Free or Die Hard',\n 'The Lord of the Rings: The Fellowship of the Ring',\n 'Around the World in 80 Days',\n 'Ali',\n 'The Cat in the Hat',\n 'I, Robot',\n 'Kingdom of Heaven',\n 'Stuart Little',\n 'The Princess and the Frog',\n 'The Martian',\n '10,000 B.C.',\n 'The Island',\n 'Town & Country',\n 'Gone in Sixty Seconds',\n 'Gladiator',\n 'Minority Report',\n 'Harry Potter and the Chamber of Secrets',\n 'Casino Royale',\n 'Planet of the Apes',\n 'Terminator 2: Judgment Day',\n 'Public Enemies',\n 'American Gangster',\n 'True Lies',\n 'The Taking of Pelham 1 2 3',\n 'Little Fockers',\n 'The Other Guys',\n 'Eraser',\n 'Django Unchained',\n 'The Hunchback of Notre Dame',\n \"The Emperor's New Groove\",\n 'The Expendables 2',\n 'National Treasure',\n 'Eragon',\n 'Where the Wild Things Are',\n 'Epic',\n 'The Tourist',\n 'End of Days',\n 'Blood Diamond',\n 'The Wolf of Wall Street',\n 'Batman Forever',\n 'Starship Troopers',\n 'Cloud Atlas',\n \"Legend of the Guardians: The Owls of Ga'Hoole\",\n 'Catwoman',\n 'Hercules',\n 'Treasure Planet',\n 'Land of the Lost',\n 'The Expendables 3',\n 'Point Break',\n 'Son of the Mask',\n 'In the Heart of the Sea',\n 'The Adventures of Pluto Nash',\n 'Green Zone',\n 'The Peanuts Movie',\n 'The Spanish Prisoner',\n 'The Mummy Returns',\n 'Gangs of New York',\n 'The Flowers of War',\n \"Surf's Up\",\n 'The Stepford Wives',\n 'Black Hawk Down',\n 'The Campaign',\n 'The Fifth Element',\n 'Sex and the City 2',\n 'The Road to El Dorado',\n 'Ice Age: Continental Drift',\n 'Cinderella',\n 'The Lovely Bones',\n 'Finding Nemo',\n 'The Lord of the Rings: The Return of the King',\n 'The Lord of the Rings: The Two Towers',\n 'Seventh Son',\n 'Lara Croft: Tomb Raider',\n 'Transcendence',\n 'Jurassic Park III',\n 'Rise of the Planet of the Apes',\n 'The Spiderwick Chronicles',\n 'A Good Day to Die Hard',\n 'The Alamo',\n 'The Incredibles',\n 'Cutthroat Island',\n 'Percy Jackson & the Olympians: The Lightning Thief',\n 'Men in Black',\n 'Toy Story 2',\n 'Unstoppable',\n 'Rush Hour 2',\n 'What Lies Beneath',\n 'Cloudy with a Chance of Meatballs',\n 'Ice Age: Dawn of the Dinosaurs',\n 'The Secret Life of Walter Mitty',\n \"Charlie's Angels\",\n 'The Departed',\n 'Mulan',\n 'Tropic Thunder',\n 'The Girl with the Dragon Tattoo',\n 'Die Hard with a Vengeance',\n 'Sherlock Holmes',\n 'Ben-Hur',\n 'Atlantis: The Lost Empire',\n 'Alvin and the Chipmunks: The Road Chip',\n 'Valkyrie',\n \"You Don't Mess with the Zohan\",\n 'Pixels',\n 'A.I. Artificial Intelligence',\n 'The Haunted Mansion',\n 'Contact',\n 'Hollow Man',\n 'The Interpreter',\n 'Percy Jackson: Sea of Monsters',\n 'Lara Croft Tomb Raider: The Cradle of Life',\n 'Now You See Me 2',\n 'The Saint',\n 'Spy Game',\n 'Mission to Mars',\n 'Rio',\n 'Bicentennial Man',\n 'Volcano',\n \"The Devil's Own\",\n 'K-19: The Widowmaker',\n 'Conan the Barbarian',\n 'Cinderella Man',\n 'The Nutcracker in 3D',\n 'Seabiscuit',\n 'Twister',\n 'Cast Away',\n 'Happy Feet',\n 'The Bourne Supremacy',\n 'Air Force One',\n \"Ocean's Eleven\",\n 'The Three Musketeers',\n 'Hotel Transylvania',\n 'Enchanted',\n 'Hannibal',\n 'Safe House',\n '102 Dalmatians',\n 'Tower Heist',\n 'The Holiday',\n 'Enemy of the State',\n \"It's Complicated\",\n \"Ocean's Thirteen\",\n 'Open Season',\n 'Divergent',\n 'Enemy at the Gates',\n 'The Rundown',\n 'Last Action Hero',\n 'Memoirs of a Geisha',\n 'The Fast and the Furious: Tokyo Drift',\n 'Arthur Christmas',\n 'Meet Joe Black',\n 'Collateral Damage',\n 'All That Jazz',\n 'Mirror Mirror',\n 'Scott Pilgrim vs. the World',\n 'The Core',\n 'Nutty Professor II: The Klumps',\n 'Scooby-Doo',\n 'Dredd',\n 'Click',\n 'Creepshow',\n 'Cats & Dogs: The Revenge of Kitty Galore',\n 'Jumper',\n 'Hellboy II: The Golden Army',\n 'Zodiac',\n 'The 6th Day',\n 'Bruce Almighty',\n 'The Expendables',\n 'Mission: Impossible',\n 'The Hunger Games',\n 'The Hangover Part II',\n 'Batman Returns',\n 'Over the Hedge',\n 'Lilo & Stitch',\n \"Charlotte's Web\",\n 'Deep Impact',\n 'RED 2',\n 'The Longest Yard',\n 'Alvin and the Chipmunks: Chipwrecked',\n 'Grown Ups 2',\n 'Get Smart',\n \"Something's Gotta Give\",\n 'Shutter Island',\n 'Four Christmases',\n 'Robots',\n 'Face/Off',\n 'Bedtime Stories',\n 'Road to Perdition',\n 'Just Go with It',\n 'Daredevil',\n 'Con Air',\n 'Eagle Eye',\n 'Cold Mountain',\n 'The Book of Eli',\n 'Flubber',\n 'The Haunting',\n 'Space Jam',\n 'The Pink Panther',\n 'The Day the Earth Stood Still',\n 'Conspiracy Theory',\n 'Fury',\n 'Six Days Seven Nights',\n 'Yogi Bear',\n 'Spirit: Stallion of the Cimarron',\n 'Zookeeper',\n 'Lost in Space',\n 'The Manchurian Candidate',\n 'Déjà Vu',\n 'Hotel Transylvania 2',\n 'Bewitched',\n 'Fantasia 2000',\n 'The Time Machine',\n 'Mighty Joe Young',\n 'Swordfish',\n 'The Legend of Zorro',\n 'What Dreams May Come',\n 'Little Nicky',\n 'The Brothers Grimm',\n 'Mars Attacks!',\n 'Evolution',\n 'The Edge',\n 'Surrogates',\n 'Thirteen Days',\n 'Daylight',\n 'Walking with Dinosaurs 3D',\n 'Battlefield Earth',\n 'Looney Tunes: Back in Action',\n 'Nine',\n 'Timeline',\n 'The Postman',\n 'Babe: Pig in the City',\n 'The Last Witch Hunter',\n 'Red Planet',\n 'Arthur and the Invisibles',\n 'Oceans',\n 'A Sound of Thunder',\n 'Pompeii',\n 'Top Cat Begins',\n 'A Beautiful Mind',\n 'The Lion King',\n 'Journey 2: The Mysterious Island',\n 'Cloudy with a Chance of Meatballs 2',\n 'Red Dragon',\n 'Hidalgo',\n 'Jack and Jill',\n '2 Fast 2 Furious',\n 'The Little Prince',\n 'The Invasion',\n 'The Adventures of Rocky & Bullwinkle',\n 'The Secret Life of Pets',\n 'The League of Extraordinary Gentlemen',\n 'Despicable Me 2',\n 'Independence Day',\n 'The Lost World: Jurassic Park',\n 'Madagascar',\n 'Children of Men',\n 'X-Men',\n 'Wanted',\n 'The Rock',\n 'Ice Age: The Meltdown',\n '50 First Dates',\n 'Hairspray',\n 'Exorcist: The Beginning',\n 'Inspector Gadget',\n 'Now You See Me',\n 'Grown Ups',\n 'The Terminal',\n 'Constantine',\n 'Hotel for Dogs',\n 'Vertical Limit',\n \"Charlie Wilson's War\",\n 'Shark Tale',\n 'Dreamgirls',\n 'Life',\n 'Be Cool',\n 'Munich',\n 'Tears of the Sun',\n 'Killers',\n 'The Man from U.N.C.L.E.',\n 'Spanglish',\n 'Monster House',\n 'Bandits',\n 'First Knight',\n 'Anna and the King',\n 'Immortals',\n 'Hostage',\n 'Titan A.E.',\n 'Hollywood Homicide',\n 'Soldier',\n 'Carriers',\n 'Monkeybone',\n 'Flight of the Phoenix',\n 'Unbreakable',\n 'Minions',\n 'Sucker Punch',\n 'Snake Eyes',\n 'Sphere',\n 'The Angry Birds Movie',\n \"Fool's Gold\",\n 'Funny People',\n 'The Kingdom',\n 'Talladega Nights: The Ballad of Ricky Bobby',\n 'Dr. Dolittle 2',\n 'Braveheart',\n 'Jarhead',\n 'The Simpsons Movie',\n 'The Majestic',\n 'Driven',\n 'Two Brothers',\n 'The Village',\n 'Doctor Dolittle',\n 'Signs',\n 'Shrek 2',\n 'Cars',\n 'Runaway Bride',\n 'xXx',\n 'The SpongeBob Movie: Sponge Out of Water',\n 'Ransom',\n 'Inglourious Basterds',\n 'Hook',\n 'Die Hard 2',\n 'S.W.A.T.',\n 'Sleepy Hollow',\n 'Vanilla Sky',\n 'Lady in the Water',\n 'AVP: Alien vs. Predator',\n 'Alvin and the Chipmunks: The Squeakquel',\n 'We Were Soldiers',\n 'Olympus Has Fallen',\n 'Star Trek: Insurrection',\n 'Battle Los Angeles',\n 'Big Fish',\n 'Wolf',\n 'War Horse',\n 'The Monuments Men',\n 'The Abyss',\n 'Wall Street: Money Never Sleeps',\n 'Dracula Untold',\n 'The Siege',\n 'Stardust',\n 'Seven Years in Tibet',\n 'The Dilemma',\n 'Bad Company',\n 'Doom',\n 'I Spy',\n 'Underworld: Awakening',\n 'Rock of Ages',\n \"Hart's War\",\n 'Killer Elite',\n 'Rollerball',\n 'Ballistic: Ecks vs. Sever',\n 'Hard Rain',\n 'Osmosis Jones',\n \"Legends of Oz: Dorothy's Return\",\n 'Blackhat',\n 'Sky Captain and the World of Tomorrow',\n 'Basic Instinct 2',\n 'Escape Plan',\n 'The Legend of Hercules',\n 'The Sum of All Fears',\n 'The Twilight Saga: Eclipse',\n 'The Score',\n 'Despicable Me',\n 'Money Train',\n 'Ted 2',\n 'Agora',\n 'Mystery Men',\n 'Hall Pass',\n 'The Insider',\n 'The Finest Hours',\n 'Body of Lies',\n 'Dinner for Schmucks',\n 'Abraham Lincoln: Vampire Hunter',\n 'Entrapment',\n 'Last Man Standing',\n 'The X Files',\n 'The Last Legion',\n 'Saving Private Ryan',\n 'Need for Speed',\n 'What Women Want',\n 'Ice Age',\n 'Dreamcatcher',\n 'Lincoln',\n 'The Matrix',\n 'Apollo 13',\n 'The Santa Clause 2',\n 'Les Misérables',\n \"You've Got Mail\",\n 'Step Brothers',\n 'The Mask of Zorro',\n 'Due Date',\n 'Unbroken',\n 'Space Cowboys',\n 'Cliffhanger',\n 'Broken Arrow',\n 'The Kid',\n 'World Trade Center',\n 'Mona Lisa Smile',\n 'The Dictator',\n 'Eyes Wide Shut',\n 'Annie',\n 'Focus',\n 'This Means War',\n 'Blade: Trinity',\n 'Red Dawn',\n 'Primary Colors',\n 'Resident Evil: Retribution',\n 'Death Race',\n 'The Long Kiss Goodnight',\n 'Proof of Life',\n 'Zathura: A Space Adventure',\n 'Fight Club',\n 'We Are Marshall',\n 'The Missing',\n 'Hudson Hawk',\n 'Lucky Numbers',\n 'I, Frankenstein',\n 'Oliver Twist',\n 'Elektra',\n 'Sin City: A Dame to Kill For',\n 'Random Hearts',\n 'Everest',\n 'Perfume: The Story of a Murderer',\n 'Austin Powers in Goldmember',\n 'Astro Boy',\n 'Jurassic Park',\n 'Wyatt Earp',\n 'Clear and Present Danger',\n 'Dragon Blade',\n 'Littleman',\n 'U-571',\n 'The American President',\n 'The Love Guru',\n '3000 Miles to Graceland',\n 'The Hateful Eight',\n 'Blades of Glory',\n 'Hop',\n '300',\n 'Meet the Fockers',\n 'Marley & Me',\n 'The Green Mile',\n 'Wild Hogs',\n 'Chicken Little',\n 'Gone Girl',\n 'The Bourne Identity',\n 'GoldenEye',\n \"The General's Daughter\",\n 'The Truman Show',\n 'The Prince of Egypt',\n 'Daddy Day Care',\n '2 Guns',\n 'Cats & Dogs',\n 'The Italian Job',\n 'Two Weeks Notice',\n 'Antz',\n 'Couples Retreat',\n 'Days of Thunder',\n 'Cheaper by the Dozen 2',\n 'The Scorch Trials',\n 'Eat Pray Love',\n 'The Family Man',\n 'RED',\n 'Any Given Sunday',\n 'The Horse Whisperer',\n 'Collateral',\n 'The Scorpion King',\n 'Ladder 49',\n 'Jack Reacher',\n 'Deep Blue Sea',\n 'This Is It',\n 'Contagion',\n 'Kangaroo Jack',\n 'Coraline',\n 'The Happening',\n 'Man on Fire',\n 'The Shaggy Dog',\n 'Starsky & Hutch',\n 'Jingle All the Way',\n 'Hellboy',\n 'A Civil Action',\n 'ParaNorman',\n 'The Jackal',\n 'Paycheck',\n 'Up Close & Personal',\n 'The Tale of Despereaux',\n 'Rules of Engagement',\n 'The Tuxedo',\n 'Under Siege 2: Dark Territory',\n 'Jack Ryan: Shadow Recruit',\n 'Joy',\n 'London Has Fallen',\n 'Alien: Resurrection',\n 'Shooter',\n 'The Boxtrolls',\n 'Practical Magic',\n 'The Lego Movie',\n 'Miss Congeniality 2: Armed and Fabulous',\n 'Reign of Fire',\n 'Gangster Squad',\n 'Year One',\n 'Invictus',\n 'State of Play',\n 'Duplicity',\n 'My Favorite Martian',\n 'The Sentinel',\n 'Planet 51',\n 'Star Trek: Nemesis',\n 'Intolerable Cruelty',\n 'Trouble with the Curve',\n 'Edge of Darkness',\n 'The Relic',\n 'Analyze That',\n 'Righteous Kill',\n 'Mercury Rising',\n 'The Soloist',\n 'The Legend of Bagger Vance',\n 'Almost Famous',\n 'Garfield 2',\n 'xXx: State of the Union',\n 'Priest',\n 'Sinbad: Legend of the Seven Seas',\n 'Event Horizon',\n 'Dragonfly',\n 'The Black Dahlia',\n 'Flyboys',\n 'The Last Castle',\n 'Supernova',\n \"Winter's Tale\",\n 'The Mortal Instruments: City of Bones',\n 'Meet Dave',\n 'Dark Water',\n 'Edtv',\n 'Inkheart',\n 'The Spirit',\n 'Mortdecai',\n 'In the Name of the King: A Dungeon Siege Tale',\n 'Beyond Borders',\n 'Xi you ji zhi: Sun Wukong san da Baigu Jing',\n 'The Great Raid',\n 'Deadpool',\n 'Holy Man',\n 'American Sniper',\n 'Goosebumps',\n 'Sabrina, the Teenage Witch',\n 'Just Like Heaven',\n 'The Flintstones in Viva Rock Vegas',\n 'Rambo III',\n 'Leatherheads',\n 'The Ridiculous 6',\n 'Did You Hear About the Morgans?',\n 'The Internship',\n 'Resident Evil: Afterlife',\n 'Red Tails',\n 'Sex and the City',\n \"The Devil's Advocate\",\n \"That's My Boy\",\n 'DragonHeart',\n 'After the Sunset',\n 'Ghost Rider: Spirit of Vengeance',\n \"Captain Corelli's Mandolin\",\n 'Anger Management',\n 'The Pacifier',\n 'Walking Tall',\n 'Forrest Gump',\n 'Alvin and the Chipmunks',\n 'Meet the Parents',\n 'Pocahontas',\n 'Superman',\n 'The Nutty Professor',\n 'Hitch',\n 'George of the Jungle',\n 'American Wedding',\n 'Captain Phillips',\n 'Date Night',\n 'Casper',\n 'The Equalizer',\n 'Maid in Manhattan',\n 'Crimson Tide',\n 'The Pursuit of Happyness',\n 'Flightplan',\n 'Disclosure',\n 'City of Angels',\n 'Kill Bill: Vol. 1',\n 'Bowfinger',\n 'Stargate SG-1',\n 'Kill Bill: Vol. 2',\n 'Tango & Cash',\n 'Death Becomes Her',\n 'Shanghai Noon',\n 'Executive Decision',\n \"Mr. Popper's Penguins\",\n 'The Forbidden Kingdom',\n 'Free Birds',\n 'Alien 3',\n 'Evita',\n 'Ronin',\n 'The Ghost and the Darkness',\n 'Paddington',\n 'The Watch',\n 'The Hunted',\n 'Instinct',\n 'Stuck on You',\n 'Semi-Pro',\n 'The Pirates! Band of Misfits',\n 'Changeling',\n 'Chain Reaction',\n 'The Fan',\n 'The Phantom of the Opera',\n 'Elizabeth: The Golden Age',\n 'Æon Flux',\n 'Gods and Generals',\n 'Turbulence',\n 'Imagine That',\n 'Muppets Most Wanted',\n 'Thunderbirds',\n 'Burlesque',\n 'A Very Long Engagement',\n 'Lolita',\n 'Eye See You',\n 'Blade II',\n 'Seven Pounds',\n 'Bullet to the Head',\n 'The Godfather: Part III',\n 'Elizabethtown',\n 'You, Me and Dupree',\n 'Superman II',\n 'Gigli',\n \"All the King's Men\",\n 'Shaft',\n 'Anastasia',\n 'Moulin Rouge!',\n 'Domestic Disturbance',\n 'Black Mass',\n 'Flags of Our Fathers',\n 'Law Abiding Citizen',\n 'Grindhouse',\n 'Beloved',\n 'Lucky You',\n 'Catch Me If You Can',\n 'Zero Dark Thirty',\n 'The Break-Up',\n 'Mamma Mia!',\n \"Valentine's Day\",\n 'The Dukes of Hazzard',\n 'The Thin Red Line',\n 'The Change-Up',\n 'Man on the Moon',\n 'Casino',\n 'From Paris with Love',\n 'Bulletproof Monk',\n 'Me, Myself & Irene',\n 'Barnyard',\n 'Deck the Halls',\n 'The Twilight Saga: New Moon',\n 'Shrek',\n 'The Adjustment Bureau',\n 'Robin Hood: Prince of Thieves',\n 'Jerry Maguire',\n 'Ted',\n 'As Good as It Gets',\n 'Patch Adams',\n 'Anchorman 2: The Legend Continues',\n 'Mr. Deeds',\n 'Super 8',\n 'Erin Brockovich',\n 'How to Lose a Guy in 10 Days',\n '22 Jump Street',\n 'Interview with the Vampire: The Vampire Chronicles',\n 'Yes Man',\n 'Central Intelligence',\n 'Stepmom',\n \"Daddy's Home\",\n 'Into the Woods',\n 'Inside Man',\n 'Payback',\n 'Congo',\n 'We Bought a Zoo',\n 'Knowing',\n 'Failure to Launch',\n 'The Ring Two',\n 'Crazy, Stupid, Love.',\n 'Garfield',\n 'Christmas with the Kranks',\n 'Moneyball',\n 'Outbreak',\n 'Non-Stop',\n 'Race to Witch Mountain',\n 'V for Vendetta',\n 'Shanghai Knights',\n 'Unforgotten',\n 'Curious George',\n 'Herbie Fully Loaded',\n \"Don't Say a Word\",\n 'Hansel & Gretel: Witch Hunters',\n 'Unfaithful',\n 'I Am Number Four',\n 'Syriana',\n '13 Hours',\n 'The Book of Life',\n 'Firewall',\n 'Absolute Power',\n 'G.I. Jane',\n 'The Game',\n 'Silent Hill',\n 'The Replacements',\n 'American Reunion',\n 'The Negotiator',\n 'Into the Storm',\n 'Beverly Hills Cop III',\n 'Gremlins 2: The New Batch',\n 'The Judge',\n 'The Peacemaker',\n 'Resident Evil: Apocalypse',\n 'Bridget Jones: The Edge of Reason',\n 'Out of Time',\n 'On Deadly Ground',\n 'The Adventures of Sharkboy and Lavagirl 3-D',\n 'The Beach',\n 'Raising Helen',\n 'Ninja Assassin',\n 'For Love of the Game',\n 'A Touch of Frost',\n 'Striptease',\n 'Marmaduke',\n 'Hereafter',\n 'Murder by Numbers',\n 'Assassins',\n 'Hannibal Rising',\n 'The Story of Us',\n 'The Host',\n 'Basic',\n 'Blood Work',\n 'The International',\n 'Escape from L.A.',\n 'Twisted',\n 'The Iron Giant',\n ...]"
     },
     "execution_count": 118,
     "metadata": {},
     "output_type": "execute_result"
    }
   ],
   "source": [
    "ids = movies.index.tolist()\n",
    "ids"
   ],
   "metadata": {
    "collapsed": false
   }
  },
  {
   "cell_type": "code",
   "execution_count": 120,
   "outputs": [
    {
     "data": {
      "text/plain": "['color',\n 'director_name',\n 'num_critic_for_reviews',\n 'duration',\n 'director_facebook_likes',\n 'actor_3_facebook_likes',\n 'actor_2_name',\n 'actor_1_facebook_likes',\n 'gross',\n 'genres',\n 'actor_1_name',\n 'num_voted_users',\n 'cast_total_facebook_likes',\n 'actor_3_name',\n 'facenumber_in_poster',\n 'plot_keywords',\n 'movie_imdb_link',\n 'num_user_for_reviews',\n 'language',\n 'country',\n 'content_rating',\n 'budget',\n 'title_year',\n 'actor_2_facebook_likes',\n 'imdb_score',\n 'aspect_ratio',\n 'movie_facebook_likes']"
     },
     "execution_count": 120,
     "metadata": {},
     "output_type": "execute_result"
    }
   ],
   "source": [
    "columns = movies.columns.tolist()\n",
    "columns"
   ],
   "metadata": {
    "collapsed": false
   }
  },
  {
   "cell_type": "code",
   "execution_count": 122,
   "outputs": [],
   "source": [
    "ids[0] = 'Ratava'"
   ],
   "metadata": {
    "collapsed": false
   }
  },
  {
   "cell_type": "code",
   "execution_count": 123,
   "outputs": [],
   "source": [
    "ids[1] = 'POC'"
   ],
   "metadata": {
    "collapsed": false
   }
  },
  {
   "cell_type": "code",
   "execution_count": 124,
   "outputs": [],
   "source": [
    "ids[2] = 'Ertceps'"
   ],
   "metadata": {
    "collapsed": false
   }
  },
  {
   "cell_type": "code",
   "execution_count": 125,
   "outputs": [],
   "source": [
    "columns[1] = 'director'"
   ],
   "metadata": {
    "collapsed": false
   }
  },
  {
   "cell_type": "code",
   "execution_count": 126,
   "outputs": [],
   "source": [
    "columns[-2] = 'aspect'"
   ],
   "metadata": {
    "collapsed": false
   }
  },
  {
   "cell_type": "code",
   "execution_count": 127,
   "outputs": [],
   "source": [
    "columns[-1] = 'fblikes'"
   ],
   "metadata": {
    "collapsed": false
   }
  },
  {
   "cell_type": "code",
   "execution_count": 128,
   "outputs": [],
   "source": [
    "movies.index = ids"
   ],
   "metadata": {
    "collapsed": false
   }
  },
  {
   "cell_type": "code",
   "execution_count": 129,
   "outputs": [],
   "source": [
    "movies.columns = columns"
   ],
   "metadata": {
    "collapsed": false
   }
  },
  {
   "cell_type": "code",
   "execution_count": 130,
   "outputs": [
    {
     "data": {
      "text/plain": "         color        director  num_critic_for_reviews  duration  \\\nRatava   Color   James Cameron                   723.0     178.0   \nPOC      Color  Gore Verbinski                   302.0     169.0   \nErtceps  Color      Sam Mendes                   602.0     148.0   \n\n         director_facebook_likes  actor_3_facebook_likes      actor_2_name  \\\nRatava                       0.0                   855.0  Joel David Moore   \nPOC                        563.0                  1000.0     Orlando Bloom   \nErtceps                      0.0                   161.0      Rory Kinnear   \n\n         actor_1_facebook_likes        gross                           genres  \\\nRatava                   1000.0  760505847.0  Action|Adventure|Fantasy|Sci-Fi   \nPOC                     40000.0  309404152.0         Action|Adventure|Fantasy   \nErtceps                 11000.0  200074175.0        Action|Adventure|Thriller   \n\n         ... num_user_for_reviews  language  country content_rating  \\\nRatava   ...               3054.0   English      USA          PG-13   \nPOC      ...               1238.0   English      USA          PG-13   \nErtceps  ...                994.0   English       UK          PG-13   \n\n              budget title_year actor_2_facebook_likes  imdb_score aspect  \\\nRatava   237000000.0     2009.0                  936.0         7.9   1.78   \nPOC      300000000.0     2007.0                 5000.0         7.1   2.35   \nErtceps  245000000.0     2015.0                  393.0         6.8   2.35   \n\n        fblikes  \nRatava    33000  \nPOC           0  \nErtceps   85000  \n\n[3 rows x 27 columns]",
      "text/html": "<div>\n<style scoped>\n    .dataframe tbody tr th:only-of-type {\n        vertical-align: middle;\n    }\n\n    .dataframe tbody tr th {\n        vertical-align: top;\n    }\n\n    .dataframe thead th {\n        text-align: right;\n    }\n</style>\n<table border=\"1\" class=\"dataframe\">\n  <thead>\n    <tr style=\"text-align: right;\">\n      <th></th>\n      <th>color</th>\n      <th>director</th>\n      <th>num_critic_for_reviews</th>\n      <th>duration</th>\n      <th>director_facebook_likes</th>\n      <th>actor_3_facebook_likes</th>\n      <th>actor_2_name</th>\n      <th>actor_1_facebook_likes</th>\n      <th>gross</th>\n      <th>genres</th>\n      <th>...</th>\n      <th>num_user_for_reviews</th>\n      <th>language</th>\n      <th>country</th>\n      <th>content_rating</th>\n      <th>budget</th>\n      <th>title_year</th>\n      <th>actor_2_facebook_likes</th>\n      <th>imdb_score</th>\n      <th>aspect</th>\n      <th>fblikes</th>\n    </tr>\n  </thead>\n  <tbody>\n    <tr>\n      <th>Ratava</th>\n      <td>Color</td>\n      <td>James Cameron</td>\n      <td>723.0</td>\n      <td>178.0</td>\n      <td>0.0</td>\n      <td>855.0</td>\n      <td>Joel David Moore</td>\n      <td>1000.0</td>\n      <td>760505847.0</td>\n      <td>Action|Adventure|Fantasy|Sci-Fi</td>\n      <td>...</td>\n      <td>3054.0</td>\n      <td>English</td>\n      <td>USA</td>\n      <td>PG-13</td>\n      <td>237000000.0</td>\n      <td>2009.0</td>\n      <td>936.0</td>\n      <td>7.9</td>\n      <td>1.78</td>\n      <td>33000</td>\n    </tr>\n    <tr>\n      <th>POC</th>\n      <td>Color</td>\n      <td>Gore Verbinski</td>\n      <td>302.0</td>\n      <td>169.0</td>\n      <td>563.0</td>\n      <td>1000.0</td>\n      <td>Orlando Bloom</td>\n      <td>40000.0</td>\n      <td>309404152.0</td>\n      <td>Action|Adventure|Fantasy</td>\n      <td>...</td>\n      <td>1238.0</td>\n      <td>English</td>\n      <td>USA</td>\n      <td>PG-13</td>\n      <td>300000000.0</td>\n      <td>2007.0</td>\n      <td>5000.0</td>\n      <td>7.1</td>\n      <td>2.35</td>\n      <td>0</td>\n    </tr>\n    <tr>\n      <th>Ertceps</th>\n      <td>Color</td>\n      <td>Sam Mendes</td>\n      <td>602.0</td>\n      <td>148.0</td>\n      <td>0.0</td>\n      <td>161.0</td>\n      <td>Rory Kinnear</td>\n      <td>11000.0</td>\n      <td>200074175.0</td>\n      <td>Action|Adventure|Thriller</td>\n      <td>...</td>\n      <td>994.0</td>\n      <td>English</td>\n      <td>UK</td>\n      <td>PG-13</td>\n      <td>245000000.0</td>\n      <td>2015.0</td>\n      <td>393.0</td>\n      <td>6.8</td>\n      <td>2.35</td>\n      <td>85000</td>\n    </tr>\n  </tbody>\n</table>\n<p>3 rows × 27 columns</p>\n</div>"
     },
     "execution_count": 130,
     "metadata": {},
     "output_type": "execute_result"
    }
   ],
   "source": [
    "movies.head(3)"
   ],
   "metadata": {
    "collapsed": false
   }
  },
  {
   "cell_type": "code",
   "execution_count": 131,
   "outputs": [],
   "source": [
    "def to_clean(val):\n",
    "    return val.strip().lower().replace(\" \", \"_\")"
   ],
   "metadata": {
    "collapsed": false
   }
  },
  {
   "cell_type": "code",
   "execution_count": 132,
   "outputs": [
    {
     "data": {
      "text/plain": "         color        director  num_critic_for_reviews  duration  \\\nRatava   Color   James Cameron                   723.0     178.0   \nPOC      Color  Gore Verbinski                   302.0     169.0   \nErtceps  Color      Sam Mendes                   602.0     148.0   \n\n         director_facebook_likes  actor_3_facebook_likes      actor_2_name  \\\nRatava                       0.0                   855.0  Joel David Moore   \nPOC                        563.0                  1000.0     Orlando Bloom   \nErtceps                      0.0                   161.0      Rory Kinnear   \n\n         actor_1_facebook_likes        gross                           genres  \\\nRatava                   1000.0  760505847.0  Action|Adventure|Fantasy|Sci-Fi   \nPOC                     40000.0  309404152.0         Action|Adventure|Fantasy   \nErtceps                 11000.0  200074175.0        Action|Adventure|Thriller   \n\n         ... num_user_for_reviews  language  country content_rating  \\\nRatava   ...               3054.0   English      USA          PG-13   \nPOC      ...               1238.0   English      USA          PG-13   \nErtceps  ...                994.0   English       UK          PG-13   \n\n              budget title_year actor_2_facebook_likes  imdb_score aspect  \\\nRatava   237000000.0     2009.0                  936.0         7.9   1.78   \nPOC      300000000.0     2007.0                 5000.0         7.1   2.35   \nErtceps  245000000.0     2015.0                  393.0         6.8   2.35   \n\n        fblikes  \nRatava    33000  \nPOC           0  \nErtceps   85000  \n\n[3 rows x 27 columns]",
      "text/html": "<div>\n<style scoped>\n    .dataframe tbody tr th:only-of-type {\n        vertical-align: middle;\n    }\n\n    .dataframe tbody tr th {\n        vertical-align: top;\n    }\n\n    .dataframe thead th {\n        text-align: right;\n    }\n</style>\n<table border=\"1\" class=\"dataframe\">\n  <thead>\n    <tr style=\"text-align: right;\">\n      <th></th>\n      <th>color</th>\n      <th>director</th>\n      <th>num_critic_for_reviews</th>\n      <th>duration</th>\n      <th>director_facebook_likes</th>\n      <th>actor_3_facebook_likes</th>\n      <th>actor_2_name</th>\n      <th>actor_1_facebook_likes</th>\n      <th>gross</th>\n      <th>genres</th>\n      <th>...</th>\n      <th>num_user_for_reviews</th>\n      <th>language</th>\n      <th>country</th>\n      <th>content_rating</th>\n      <th>budget</th>\n      <th>title_year</th>\n      <th>actor_2_facebook_likes</th>\n      <th>imdb_score</th>\n      <th>aspect</th>\n      <th>fblikes</th>\n    </tr>\n  </thead>\n  <tbody>\n    <tr>\n      <th>Ratava</th>\n      <td>Color</td>\n      <td>James Cameron</td>\n      <td>723.0</td>\n      <td>178.0</td>\n      <td>0.0</td>\n      <td>855.0</td>\n      <td>Joel David Moore</td>\n      <td>1000.0</td>\n      <td>760505847.0</td>\n      <td>Action|Adventure|Fantasy|Sci-Fi</td>\n      <td>...</td>\n      <td>3054.0</td>\n      <td>English</td>\n      <td>USA</td>\n      <td>PG-13</td>\n      <td>237000000.0</td>\n      <td>2009.0</td>\n      <td>936.0</td>\n      <td>7.9</td>\n      <td>1.78</td>\n      <td>33000</td>\n    </tr>\n    <tr>\n      <th>POC</th>\n      <td>Color</td>\n      <td>Gore Verbinski</td>\n      <td>302.0</td>\n      <td>169.0</td>\n      <td>563.0</td>\n      <td>1000.0</td>\n      <td>Orlando Bloom</td>\n      <td>40000.0</td>\n      <td>309404152.0</td>\n      <td>Action|Adventure|Fantasy</td>\n      <td>...</td>\n      <td>1238.0</td>\n      <td>English</td>\n      <td>USA</td>\n      <td>PG-13</td>\n      <td>300000000.0</td>\n      <td>2007.0</td>\n      <td>5000.0</td>\n      <td>7.1</td>\n      <td>2.35</td>\n      <td>0</td>\n    </tr>\n    <tr>\n      <th>Ertceps</th>\n      <td>Color</td>\n      <td>Sam Mendes</td>\n      <td>602.0</td>\n      <td>148.0</td>\n      <td>0.0</td>\n      <td>161.0</td>\n      <td>Rory Kinnear</td>\n      <td>11000.0</td>\n      <td>200074175.0</td>\n      <td>Action|Adventure|Thriller</td>\n      <td>...</td>\n      <td>994.0</td>\n      <td>English</td>\n      <td>UK</td>\n      <td>PG-13</td>\n      <td>245000000.0</td>\n      <td>2015.0</td>\n      <td>393.0</td>\n      <td>6.8</td>\n      <td>2.35</td>\n      <td>85000</td>\n    </tr>\n  </tbody>\n</table>\n<p>3 rows × 27 columns</p>\n</div>"
     },
     "execution_count": 132,
     "metadata": {},
     "output_type": "execute_result"
    }
   ],
   "source": [
    "movies.rename(columns=to_clean).head(3)"
   ],
   "metadata": {
    "collapsed": false
   }
  },
  {
   "cell_type": "code",
   "execution_count": 133,
   "outputs": [],
   "source": [
    "cols = [\n",
    "    col.strip().lower().replace(\" \", \"_\")\n",
    "    for col in movies.columns\n",
    "]"
   ],
   "metadata": {
    "collapsed": false
   }
  },
  {
   "cell_type": "code",
   "execution_count": 134,
   "outputs": [],
   "source": [
    "movies.columns = cols"
   ],
   "metadata": {
    "collapsed": false
   }
  },
  {
   "cell_type": "code",
   "execution_count": 135,
   "outputs": [
    {
     "data": {
      "text/plain": "         color        director  num_critic_for_reviews  duration  \\\nRatava   Color   James Cameron                   723.0     178.0   \nPOC      Color  Gore Verbinski                   302.0     169.0   \nErtceps  Color      Sam Mendes                   602.0     148.0   \n\n         director_facebook_likes  actor_3_facebook_likes      actor_2_name  \\\nRatava                       0.0                   855.0  Joel David Moore   \nPOC                        563.0                  1000.0     Orlando Bloom   \nErtceps                      0.0                   161.0      Rory Kinnear   \n\n         actor_1_facebook_likes        gross                           genres  \\\nRatava                   1000.0  760505847.0  Action|Adventure|Fantasy|Sci-Fi   \nPOC                     40000.0  309404152.0         Action|Adventure|Fantasy   \nErtceps                 11000.0  200074175.0        Action|Adventure|Thriller   \n\n         ... num_user_for_reviews  language  country content_rating  \\\nRatava   ...               3054.0   English      USA          PG-13   \nPOC      ...               1238.0   English      USA          PG-13   \nErtceps  ...                994.0   English       UK          PG-13   \n\n              budget title_year actor_2_facebook_likes  imdb_score aspect  \\\nRatava   237000000.0     2009.0                  936.0         7.9   1.78   \nPOC      300000000.0     2007.0                 5000.0         7.1   2.35   \nErtceps  245000000.0     2015.0                  393.0         6.8   2.35   \n\n        fblikes  \nRatava    33000  \nPOC           0  \nErtceps   85000  \n\n[3 rows x 27 columns]",
      "text/html": "<div>\n<style scoped>\n    .dataframe tbody tr th:only-of-type {\n        vertical-align: middle;\n    }\n\n    .dataframe tbody tr th {\n        vertical-align: top;\n    }\n\n    .dataframe thead th {\n        text-align: right;\n    }\n</style>\n<table border=\"1\" class=\"dataframe\">\n  <thead>\n    <tr style=\"text-align: right;\">\n      <th></th>\n      <th>color</th>\n      <th>director</th>\n      <th>num_critic_for_reviews</th>\n      <th>duration</th>\n      <th>director_facebook_likes</th>\n      <th>actor_3_facebook_likes</th>\n      <th>actor_2_name</th>\n      <th>actor_1_facebook_likes</th>\n      <th>gross</th>\n      <th>genres</th>\n      <th>...</th>\n      <th>num_user_for_reviews</th>\n      <th>language</th>\n      <th>country</th>\n      <th>content_rating</th>\n      <th>budget</th>\n      <th>title_year</th>\n      <th>actor_2_facebook_likes</th>\n      <th>imdb_score</th>\n      <th>aspect</th>\n      <th>fblikes</th>\n    </tr>\n  </thead>\n  <tbody>\n    <tr>\n      <th>Ratava</th>\n      <td>Color</td>\n      <td>James Cameron</td>\n      <td>723.0</td>\n      <td>178.0</td>\n      <td>0.0</td>\n      <td>855.0</td>\n      <td>Joel David Moore</td>\n      <td>1000.0</td>\n      <td>760505847.0</td>\n      <td>Action|Adventure|Fantasy|Sci-Fi</td>\n      <td>...</td>\n      <td>3054.0</td>\n      <td>English</td>\n      <td>USA</td>\n      <td>PG-13</td>\n      <td>237000000.0</td>\n      <td>2009.0</td>\n      <td>936.0</td>\n      <td>7.9</td>\n      <td>1.78</td>\n      <td>33000</td>\n    </tr>\n    <tr>\n      <th>POC</th>\n      <td>Color</td>\n      <td>Gore Verbinski</td>\n      <td>302.0</td>\n      <td>169.0</td>\n      <td>563.0</td>\n      <td>1000.0</td>\n      <td>Orlando Bloom</td>\n      <td>40000.0</td>\n      <td>309404152.0</td>\n      <td>Action|Adventure|Fantasy</td>\n      <td>...</td>\n      <td>1238.0</td>\n      <td>English</td>\n      <td>USA</td>\n      <td>PG-13</td>\n      <td>300000000.0</td>\n      <td>2007.0</td>\n      <td>5000.0</td>\n      <td>7.1</td>\n      <td>2.35</td>\n      <td>0</td>\n    </tr>\n    <tr>\n      <th>Ertceps</th>\n      <td>Color</td>\n      <td>Sam Mendes</td>\n      <td>602.0</td>\n      <td>148.0</td>\n      <td>0.0</td>\n      <td>161.0</td>\n      <td>Rory Kinnear</td>\n      <td>11000.0</td>\n      <td>200074175.0</td>\n      <td>Action|Adventure|Thriller</td>\n      <td>...</td>\n      <td>994.0</td>\n      <td>English</td>\n      <td>UK</td>\n      <td>PG-13</td>\n      <td>245000000.0</td>\n      <td>2015.0</td>\n      <td>393.0</td>\n      <td>6.8</td>\n      <td>2.35</td>\n      <td>85000</td>\n    </tr>\n  </tbody>\n</table>\n<p>3 rows × 27 columns</p>\n</div>"
     },
     "execution_count": 135,
     "metadata": {},
     "output_type": "execute_result"
    }
   ],
   "source": [
    "movies.head(3)"
   ],
   "metadata": {
    "collapsed": false
   }
  },
  {
   "cell_type": "markdown",
   "source": [
    "열의 생성과 삭제"
   ],
   "metadata": {
    "collapsed": false
   }
  },
  {
   "cell_type": "code",
   "execution_count": 136,
   "outputs": [],
   "source": [
    "movies = pd.read_csv('../data/movie.csv')"
   ],
   "metadata": {
    "collapsed": false
   }
  },
  {
   "cell_type": "code",
   "execution_count": 137,
   "outputs": [],
   "source": [
    "movies['has_seen'] = 0"
   ],
   "metadata": {
    "collapsed": false
   }
  },
  {
   "cell_type": "code",
   "execution_count": 139,
   "outputs": [],
   "source": [
    "movies = pd.read_csv('../data/movie.csv')"
   ],
   "metadata": {
    "collapsed": false
   }
  },
  {
   "cell_type": "code",
   "execution_count": 141,
   "outputs": [],
   "source": [
    "idx_map = {\n",
    "    \"Avatar\": \"Ratava\",\n",
    "    \"Spectre\": \"Ertceps\",\n",
    "    \"Pirates of the Caribbean: At World's End\": \"POC\"\n",
    "}"
   ],
   "metadata": {
    "collapsed": false
   }
  },
  {
   "cell_type": "code",
   "execution_count": 142,
   "outputs": [],
   "source": [
    "col_map = {\n",
    "    \"aspect_ratio\": \"aspect\",\n",
    "    \"movie_facebook_likes\": \"fblikes\"\n",
    "}"
   ],
   "metadata": {
    "collapsed": false
   }
  },
  {
   "cell_type": "code",
   "execution_count": 143,
   "outputs": [
    {
     "data": {
      "text/plain": "      color      director_name  num_critic_for_reviews  duration  \\\n0     Color      James Cameron                   723.0     178.0   \n1     Color     Gore Verbinski                   302.0     169.0   \n2     Color         Sam Mendes                   602.0     148.0   \n3     Color  Christopher Nolan                   813.0     164.0   \n4       NaN        Doug Walker                     NaN       NaN   \n...     ...                ...                     ...       ...   \n4911  Color        Scott Smith                     1.0      87.0   \n4912  Color                NaN                    43.0      43.0   \n4913  Color   Benjamin Roberds                    13.0      76.0   \n4914  Color        Daniel Hsia                    14.0     100.0   \n4915  Color           Jon Gunn                    43.0      90.0   \n\n      director_facebook_likes  actor_3_facebook_likes      actor_2_name  \\\n0                         0.0                   855.0  Joel David Moore   \n1                       563.0                  1000.0     Orlando Bloom   \n2                         0.0                   161.0      Rory Kinnear   \n3                     22000.0                 23000.0    Christian Bale   \n4                       131.0                     NaN        Rob Walker   \n...                       ...                     ...               ...   \n4911                      2.0                   318.0     Daphne Zuniga   \n4912                      NaN                   319.0     Valorie Curry   \n4913                      0.0                     0.0     Maxwell Moody   \n4914                      0.0                   489.0     Daniel Henney   \n4915                     16.0                    16.0  Brian Herzlinger   \n\n      actor_1_facebook_likes        gross                           genres  \\\n0                     1000.0  760505847.0  Action|Adventure|Fantasy|Sci-Fi   \n1                    40000.0  309404152.0         Action|Adventure|Fantasy   \n2                    11000.0  200074175.0        Action|Adventure|Thriller   \n3                    27000.0  448130642.0                  Action|Thriller   \n4                      131.0          NaN                      Documentary   \n...                      ...          ...                              ...   \n4911                   637.0          NaN                     Comedy|Drama   \n4912                   841.0          NaN     Crime|Drama|Mystery|Thriller   \n4913                     0.0          NaN            Drama|Horror|Thriller   \n4914                   946.0      10443.0             Comedy|Drama|Romance   \n4915                    86.0      85222.0                      Documentary   \n\n      ... language country  content_rating       budget title_year  \\\n0     ...  English     USA           PG-13  237000000.0     2009.0   \n1     ...  English     USA           PG-13  300000000.0     2007.0   \n2     ...  English      UK           PG-13  245000000.0     2015.0   \n3     ...  English     USA           PG-13  250000000.0     2012.0   \n4     ...      NaN     NaN             NaN          NaN        NaN   \n...   ...      ...     ...             ...          ...        ...   \n4911  ...  English  Canada             NaN          NaN     2013.0   \n4912  ...  English     USA           TV-14          NaN        NaN   \n4913  ...  English     USA             NaN       1400.0     2013.0   \n4914  ...  English     USA           PG-13          NaN     2012.0   \n4915  ...  English     USA              PG       1100.0     2004.0   \n\n      actor_2_facebook_likes imdb_score aspect  fblikes has_seen  \n0                      936.0        7.9   1.78    33000        0  \n1                     5000.0        7.1   2.35        0        0  \n2                      393.0        6.8   2.35    85000        0  \n3                    23000.0        8.5   2.35   164000        0  \n4                       12.0        7.1    NaN        0        0  \n...                      ...        ...    ...      ...      ...  \n4911                   470.0        7.7    NaN       84        0  \n4912                   593.0        7.5  16.00    32000        0  \n4913                     0.0        6.3    NaN       16        0  \n4914                   719.0        6.3   2.35      660        0  \n4915                    23.0        6.6   1.85      456        0  \n\n[4916 rows x 29 columns]",
      "text/html": "<div>\n<style scoped>\n    .dataframe tbody tr th:only-of-type {\n        vertical-align: middle;\n    }\n\n    .dataframe tbody tr th {\n        vertical-align: top;\n    }\n\n    .dataframe thead th {\n        text-align: right;\n    }\n</style>\n<table border=\"1\" class=\"dataframe\">\n  <thead>\n    <tr style=\"text-align: right;\">\n      <th></th>\n      <th>color</th>\n      <th>director_name</th>\n      <th>num_critic_for_reviews</th>\n      <th>duration</th>\n      <th>director_facebook_likes</th>\n      <th>actor_3_facebook_likes</th>\n      <th>actor_2_name</th>\n      <th>actor_1_facebook_likes</th>\n      <th>gross</th>\n      <th>genres</th>\n      <th>...</th>\n      <th>language</th>\n      <th>country</th>\n      <th>content_rating</th>\n      <th>budget</th>\n      <th>title_year</th>\n      <th>actor_2_facebook_likes</th>\n      <th>imdb_score</th>\n      <th>aspect</th>\n      <th>fblikes</th>\n      <th>has_seen</th>\n    </tr>\n  </thead>\n  <tbody>\n    <tr>\n      <th>0</th>\n      <td>Color</td>\n      <td>James Cameron</td>\n      <td>723.0</td>\n      <td>178.0</td>\n      <td>0.0</td>\n      <td>855.0</td>\n      <td>Joel David Moore</td>\n      <td>1000.0</td>\n      <td>760505847.0</td>\n      <td>Action|Adventure|Fantasy|Sci-Fi</td>\n      <td>...</td>\n      <td>English</td>\n      <td>USA</td>\n      <td>PG-13</td>\n      <td>237000000.0</td>\n      <td>2009.0</td>\n      <td>936.0</td>\n      <td>7.9</td>\n      <td>1.78</td>\n      <td>33000</td>\n      <td>0</td>\n    </tr>\n    <tr>\n      <th>1</th>\n      <td>Color</td>\n      <td>Gore Verbinski</td>\n      <td>302.0</td>\n      <td>169.0</td>\n      <td>563.0</td>\n      <td>1000.0</td>\n      <td>Orlando Bloom</td>\n      <td>40000.0</td>\n      <td>309404152.0</td>\n      <td>Action|Adventure|Fantasy</td>\n      <td>...</td>\n      <td>English</td>\n      <td>USA</td>\n      <td>PG-13</td>\n      <td>300000000.0</td>\n      <td>2007.0</td>\n      <td>5000.0</td>\n      <td>7.1</td>\n      <td>2.35</td>\n      <td>0</td>\n      <td>0</td>\n    </tr>\n    <tr>\n      <th>2</th>\n      <td>Color</td>\n      <td>Sam Mendes</td>\n      <td>602.0</td>\n      <td>148.0</td>\n      <td>0.0</td>\n      <td>161.0</td>\n      <td>Rory Kinnear</td>\n      <td>11000.0</td>\n      <td>200074175.0</td>\n      <td>Action|Adventure|Thriller</td>\n      <td>...</td>\n      <td>English</td>\n      <td>UK</td>\n      <td>PG-13</td>\n      <td>245000000.0</td>\n      <td>2015.0</td>\n      <td>393.0</td>\n      <td>6.8</td>\n      <td>2.35</td>\n      <td>85000</td>\n      <td>0</td>\n    </tr>\n    <tr>\n      <th>3</th>\n      <td>Color</td>\n      <td>Christopher Nolan</td>\n      <td>813.0</td>\n      <td>164.0</td>\n      <td>22000.0</td>\n      <td>23000.0</td>\n      <td>Christian Bale</td>\n      <td>27000.0</td>\n      <td>448130642.0</td>\n      <td>Action|Thriller</td>\n      <td>...</td>\n      <td>English</td>\n      <td>USA</td>\n      <td>PG-13</td>\n      <td>250000000.0</td>\n      <td>2012.0</td>\n      <td>23000.0</td>\n      <td>8.5</td>\n      <td>2.35</td>\n      <td>164000</td>\n      <td>0</td>\n    </tr>\n    <tr>\n      <th>4</th>\n      <td>NaN</td>\n      <td>Doug Walker</td>\n      <td>NaN</td>\n      <td>NaN</td>\n      <td>131.0</td>\n      <td>NaN</td>\n      <td>Rob Walker</td>\n      <td>131.0</td>\n      <td>NaN</td>\n      <td>Documentary</td>\n      <td>...</td>\n      <td>NaN</td>\n      <td>NaN</td>\n      <td>NaN</td>\n      <td>NaN</td>\n      <td>NaN</td>\n      <td>12.0</td>\n      <td>7.1</td>\n      <td>NaN</td>\n      <td>0</td>\n      <td>0</td>\n    </tr>\n    <tr>\n      <th>...</th>\n      <td>...</td>\n      <td>...</td>\n      <td>...</td>\n      <td>...</td>\n      <td>...</td>\n      <td>...</td>\n      <td>...</td>\n      <td>...</td>\n      <td>...</td>\n      <td>...</td>\n      <td>...</td>\n      <td>...</td>\n      <td>...</td>\n      <td>...</td>\n      <td>...</td>\n      <td>...</td>\n      <td>...</td>\n      <td>...</td>\n      <td>...</td>\n      <td>...</td>\n      <td>...</td>\n    </tr>\n    <tr>\n      <th>4911</th>\n      <td>Color</td>\n      <td>Scott Smith</td>\n      <td>1.0</td>\n      <td>87.0</td>\n      <td>2.0</td>\n      <td>318.0</td>\n      <td>Daphne Zuniga</td>\n      <td>637.0</td>\n      <td>NaN</td>\n      <td>Comedy|Drama</td>\n      <td>...</td>\n      <td>English</td>\n      <td>Canada</td>\n      <td>NaN</td>\n      <td>NaN</td>\n      <td>2013.0</td>\n      <td>470.0</td>\n      <td>7.7</td>\n      <td>NaN</td>\n      <td>84</td>\n      <td>0</td>\n    </tr>\n    <tr>\n      <th>4912</th>\n      <td>Color</td>\n      <td>NaN</td>\n      <td>43.0</td>\n      <td>43.0</td>\n      <td>NaN</td>\n      <td>319.0</td>\n      <td>Valorie Curry</td>\n      <td>841.0</td>\n      <td>NaN</td>\n      <td>Crime|Drama|Mystery|Thriller</td>\n      <td>...</td>\n      <td>English</td>\n      <td>USA</td>\n      <td>TV-14</td>\n      <td>NaN</td>\n      <td>NaN</td>\n      <td>593.0</td>\n      <td>7.5</td>\n      <td>16.00</td>\n      <td>32000</td>\n      <td>0</td>\n    </tr>\n    <tr>\n      <th>4913</th>\n      <td>Color</td>\n      <td>Benjamin Roberds</td>\n      <td>13.0</td>\n      <td>76.0</td>\n      <td>0.0</td>\n      <td>0.0</td>\n      <td>Maxwell Moody</td>\n      <td>0.0</td>\n      <td>NaN</td>\n      <td>Drama|Horror|Thriller</td>\n      <td>...</td>\n      <td>English</td>\n      <td>USA</td>\n      <td>NaN</td>\n      <td>1400.0</td>\n      <td>2013.0</td>\n      <td>0.0</td>\n      <td>6.3</td>\n      <td>NaN</td>\n      <td>16</td>\n      <td>0</td>\n    </tr>\n    <tr>\n      <th>4914</th>\n      <td>Color</td>\n      <td>Daniel Hsia</td>\n      <td>14.0</td>\n      <td>100.0</td>\n      <td>0.0</td>\n      <td>489.0</td>\n      <td>Daniel Henney</td>\n      <td>946.0</td>\n      <td>10443.0</td>\n      <td>Comedy|Drama|Romance</td>\n      <td>...</td>\n      <td>English</td>\n      <td>USA</td>\n      <td>PG-13</td>\n      <td>NaN</td>\n      <td>2012.0</td>\n      <td>719.0</td>\n      <td>6.3</td>\n      <td>2.35</td>\n      <td>660</td>\n      <td>0</td>\n    </tr>\n    <tr>\n      <th>4915</th>\n      <td>Color</td>\n      <td>Jon Gunn</td>\n      <td>43.0</td>\n      <td>90.0</td>\n      <td>16.0</td>\n      <td>16.0</td>\n      <td>Brian Herzlinger</td>\n      <td>86.0</td>\n      <td>85222.0</td>\n      <td>Documentary</td>\n      <td>...</td>\n      <td>English</td>\n      <td>USA</td>\n      <td>PG</td>\n      <td>1100.0</td>\n      <td>2004.0</td>\n      <td>23.0</td>\n      <td>6.6</td>\n      <td>1.85</td>\n      <td>456</td>\n      <td>0</td>\n    </tr>\n  </tbody>\n</table>\n<p>4916 rows × 29 columns</p>\n</div>"
     },
     "execution_count": 143,
     "metadata": {},
     "output_type": "execute_result"
    }
   ],
   "source": [
    "(\n",
    "    movies.rename(\n",
    "        index=idx_map, columns=col_map\n",
    "    ).assign(has_seen=0)\n",
    ")"
   ],
   "metadata": {
    "collapsed": false
   }
  },
  {
   "cell_type": "code",
   "execution_count": 144,
   "outputs": [],
   "source": [
    "total = (\n",
    "    movies['actor_1_facebook_likes']\n",
    "    + movies['actor_2_facebook_likes']\n",
    "    + movies['actor_3_facebook_likes']\n",
    "    + movies['director_facebook_likes']\n",
    ")"
   ],
   "metadata": {
    "collapsed": false
   }
  },
  {
   "cell_type": "code",
   "execution_count": 145,
   "outputs": [
    {
     "data": {
      "text/plain": "0     2791.0\n1    46563.0\n2    11554.0\n3    95000.0\n4        NaN\ndtype: float64"
     },
     "execution_count": 145,
     "metadata": {},
     "output_type": "execute_result"
    }
   ],
   "source": [
    "total.head(5)"
   ],
   "metadata": {
    "collapsed": false
   }
  },
  {
   "cell_type": "code",
   "execution_count": 146,
   "outputs": [],
   "source": [
    "cols = [\n",
    "    'actor_1_facebook_likes',\n",
    "    'actor_2_facebook_likes',\n",
    "    'actor_3_facebook_likes',\n",
    "    'director_facebook_likes'\n",
    "]"
   ],
   "metadata": {
    "collapsed": false
   }
  },
  {
   "cell_type": "code",
   "execution_count": 147,
   "outputs": [],
   "source": [
    "sum_col = movies.loc[:, cols].sum(axis='columns')"
   ],
   "metadata": {
    "collapsed": false
   }
  },
  {
   "cell_type": "code",
   "execution_count": 148,
   "outputs": [
    {
     "data": {
      "text/plain": "0     2791.0\n1    46563.0\n2    11554.0\n3    95000.0\n4      274.0\ndtype: float64"
     },
     "execution_count": 148,
     "metadata": {},
     "output_type": "execute_result"
    }
   ],
   "source": [
    "sum_col.head()"
   ],
   "metadata": {
    "collapsed": false
   }
  },
  {
   "cell_type": "code",
   "execution_count": 153,
   "outputs": [
    {
     "data": {
      "text/plain": "   color      director_name  num_critic_for_reviews  duration  \\\n0  Color      James Cameron                   723.0     178.0   \n1  Color     Gore Verbinski                   302.0     169.0   \n2  Color         Sam Mendes                   602.0     148.0   \n3  Color  Christopher Nolan                   813.0     164.0   \n4    NaN        Doug Walker                     NaN       NaN   \n\n   director_facebook_likes  actor_3_facebook_likes      actor_2_name  \\\n0                      0.0                   855.0  Joel David Moore   \n1                    563.0                  1000.0     Orlando Bloom   \n2                      0.0                   161.0      Rory Kinnear   \n3                  22000.0                 23000.0    Christian Bale   \n4                    131.0                     NaN        Rob Walker   \n\n   actor_1_facebook_likes        gross                           genres  ...  \\\n0                  1000.0  760505847.0  Action|Adventure|Fantasy|Sci-Fi  ...   \n1                 40000.0  309404152.0         Action|Adventure|Fantasy  ...   \n2                 11000.0  200074175.0        Action|Adventure|Thriller  ...   \n3                 27000.0  448130642.0                  Action|Thriller  ...   \n4                   131.0          NaN                      Documentary  ...   \n\n  language country  content_rating       budget title_year  \\\n0  English     USA           PG-13  237000000.0     2009.0   \n1  English     USA           PG-13  300000000.0     2007.0   \n2  English      UK           PG-13  245000000.0     2015.0   \n3  English     USA           PG-13  250000000.0     2012.0   \n4      NaN     NaN             NaN          NaN        NaN   \n\n   actor_2_facebook_likes imdb_score aspect_ratio  movie_facebook_likes  \\\n0                   936.0        7.9         1.78                 33000   \n1                  5000.0        7.1         2.35                     0   \n2                   393.0        6.8         2.35                 85000   \n3                 23000.0        8.5         2.35                164000   \n4                    12.0        7.1          NaN                     0   \n\n  total_likes  \n0      2791.0  \n1     46563.0  \n2     11554.0  \n3     95000.0  \n4       274.0  \n\n[5 rows x 29 columns]",
      "text/html": "<div>\n<style scoped>\n    .dataframe tbody tr th:only-of-type {\n        vertical-align: middle;\n    }\n\n    .dataframe tbody tr th {\n        vertical-align: top;\n    }\n\n    .dataframe thead th {\n        text-align: right;\n    }\n</style>\n<table border=\"1\" class=\"dataframe\">\n  <thead>\n    <tr style=\"text-align: right;\">\n      <th></th>\n      <th>color</th>\n      <th>director_name</th>\n      <th>num_critic_for_reviews</th>\n      <th>duration</th>\n      <th>director_facebook_likes</th>\n      <th>actor_3_facebook_likes</th>\n      <th>actor_2_name</th>\n      <th>actor_1_facebook_likes</th>\n      <th>gross</th>\n      <th>genres</th>\n      <th>...</th>\n      <th>language</th>\n      <th>country</th>\n      <th>content_rating</th>\n      <th>budget</th>\n      <th>title_year</th>\n      <th>actor_2_facebook_likes</th>\n      <th>imdb_score</th>\n      <th>aspect_ratio</th>\n      <th>movie_facebook_likes</th>\n      <th>total_likes</th>\n    </tr>\n  </thead>\n  <tbody>\n    <tr>\n      <th>0</th>\n      <td>Color</td>\n      <td>James Cameron</td>\n      <td>723.0</td>\n      <td>178.0</td>\n      <td>0.0</td>\n      <td>855.0</td>\n      <td>Joel David Moore</td>\n      <td>1000.0</td>\n      <td>760505847.0</td>\n      <td>Action|Adventure|Fantasy|Sci-Fi</td>\n      <td>...</td>\n      <td>English</td>\n      <td>USA</td>\n      <td>PG-13</td>\n      <td>237000000.0</td>\n      <td>2009.0</td>\n      <td>936.0</td>\n      <td>7.9</td>\n      <td>1.78</td>\n      <td>33000</td>\n      <td>2791.0</td>\n    </tr>\n    <tr>\n      <th>1</th>\n      <td>Color</td>\n      <td>Gore Verbinski</td>\n      <td>302.0</td>\n      <td>169.0</td>\n      <td>563.0</td>\n      <td>1000.0</td>\n      <td>Orlando Bloom</td>\n      <td>40000.0</td>\n      <td>309404152.0</td>\n      <td>Action|Adventure|Fantasy</td>\n      <td>...</td>\n      <td>English</td>\n      <td>USA</td>\n      <td>PG-13</td>\n      <td>300000000.0</td>\n      <td>2007.0</td>\n      <td>5000.0</td>\n      <td>7.1</td>\n      <td>2.35</td>\n      <td>0</td>\n      <td>46563.0</td>\n    </tr>\n    <tr>\n      <th>2</th>\n      <td>Color</td>\n      <td>Sam Mendes</td>\n      <td>602.0</td>\n      <td>148.0</td>\n      <td>0.0</td>\n      <td>161.0</td>\n      <td>Rory Kinnear</td>\n      <td>11000.0</td>\n      <td>200074175.0</td>\n      <td>Action|Adventure|Thriller</td>\n      <td>...</td>\n      <td>English</td>\n      <td>UK</td>\n      <td>PG-13</td>\n      <td>245000000.0</td>\n      <td>2015.0</td>\n      <td>393.0</td>\n      <td>6.8</td>\n      <td>2.35</td>\n      <td>85000</td>\n      <td>11554.0</td>\n    </tr>\n    <tr>\n      <th>3</th>\n      <td>Color</td>\n      <td>Christopher Nolan</td>\n      <td>813.0</td>\n      <td>164.0</td>\n      <td>22000.0</td>\n      <td>23000.0</td>\n      <td>Christian Bale</td>\n      <td>27000.0</td>\n      <td>448130642.0</td>\n      <td>Action|Thriller</td>\n      <td>...</td>\n      <td>English</td>\n      <td>USA</td>\n      <td>PG-13</td>\n      <td>250000000.0</td>\n      <td>2012.0</td>\n      <td>23000.0</td>\n      <td>8.5</td>\n      <td>2.35</td>\n      <td>164000</td>\n      <td>95000.0</td>\n    </tr>\n    <tr>\n      <th>4</th>\n      <td>NaN</td>\n      <td>Doug Walker</td>\n      <td>NaN</td>\n      <td>NaN</td>\n      <td>131.0</td>\n      <td>NaN</td>\n      <td>Rob Walker</td>\n      <td>131.0</td>\n      <td>NaN</td>\n      <td>Documentary</td>\n      <td>...</td>\n      <td>NaN</td>\n      <td>NaN</td>\n      <td>NaN</td>\n      <td>NaN</td>\n      <td>NaN</td>\n      <td>12.0</td>\n      <td>7.1</td>\n      <td>NaN</td>\n      <td>0</td>\n      <td>274.0</td>\n    </tr>\n  </tbody>\n</table>\n<p>5 rows × 29 columns</p>\n</div>"
     },
     "execution_count": 153,
     "metadata": {},
     "output_type": "execute_result"
    }
   ],
   "source": [
    "movies.assign(total_likes=sum_col).head(5)"
   ],
   "metadata": {
    "collapsed": false
   }
  },
  {
   "cell_type": "code",
   "execution_count": 154,
   "outputs": [],
   "source": [
    "def sum_likes(df):\n",
    "    return df[\n",
    "        [\n",
    "            c\n",
    "            for c in df.columns\n",
    "            if 'like' in c\n",
    "               and ('actor' in c or 'director' in c)\n",
    "        ]\n",
    "    ].sum(axis=1)"
   ],
   "metadata": {
    "collapsed": false
   }
  },
  {
   "cell_type": "code",
   "execution_count": 155,
   "outputs": [
    {
     "data": {
      "text/plain": "   color      director_name  num_critic_for_reviews  duration  \\\n0  Color      James Cameron                   723.0     178.0   \n1  Color     Gore Verbinski                   302.0     169.0   \n2  Color         Sam Mendes                   602.0     148.0   \n3  Color  Christopher Nolan                   813.0     164.0   \n4    NaN        Doug Walker                     NaN       NaN   \n\n   director_facebook_likes  actor_3_facebook_likes      actor_2_name  \\\n0                      0.0                   855.0  Joel David Moore   \n1                    563.0                  1000.0     Orlando Bloom   \n2                      0.0                   161.0      Rory Kinnear   \n3                  22000.0                 23000.0    Christian Bale   \n4                    131.0                     NaN        Rob Walker   \n\n   actor_1_facebook_likes        gross                           genres  ...  \\\n0                  1000.0  760505847.0  Action|Adventure|Fantasy|Sci-Fi  ...   \n1                 40000.0  309404152.0         Action|Adventure|Fantasy  ...   \n2                 11000.0  200074175.0        Action|Adventure|Thriller  ...   \n3                 27000.0  448130642.0                  Action|Thriller  ...   \n4                   131.0          NaN                      Documentary  ...   \n\n  language country  content_rating       budget title_year  \\\n0  English     USA           PG-13  237000000.0     2009.0   \n1  English     USA           PG-13  300000000.0     2007.0   \n2  English      UK           PG-13  245000000.0     2015.0   \n3  English     USA           PG-13  250000000.0     2012.0   \n4      NaN     NaN             NaN          NaN        NaN   \n\n   actor_2_facebook_likes imdb_score aspect_ratio  movie_facebook_likes  \\\n0                   936.0        7.9         1.78                 33000   \n1                  5000.0        7.1         2.35                     0   \n2                   393.0        6.8         2.35                 85000   \n3                 23000.0        8.5         2.35                164000   \n4                    12.0        7.1          NaN                     0   \n\n  total_likes  \n0      2791.0  \n1     46563.0  \n2     11554.0  \n3     95000.0  \n4       274.0  \n\n[5 rows x 29 columns]",
      "text/html": "<div>\n<style scoped>\n    .dataframe tbody tr th:only-of-type {\n        vertical-align: middle;\n    }\n\n    .dataframe tbody tr th {\n        vertical-align: top;\n    }\n\n    .dataframe thead th {\n        text-align: right;\n    }\n</style>\n<table border=\"1\" class=\"dataframe\">\n  <thead>\n    <tr style=\"text-align: right;\">\n      <th></th>\n      <th>color</th>\n      <th>director_name</th>\n      <th>num_critic_for_reviews</th>\n      <th>duration</th>\n      <th>director_facebook_likes</th>\n      <th>actor_3_facebook_likes</th>\n      <th>actor_2_name</th>\n      <th>actor_1_facebook_likes</th>\n      <th>gross</th>\n      <th>genres</th>\n      <th>...</th>\n      <th>language</th>\n      <th>country</th>\n      <th>content_rating</th>\n      <th>budget</th>\n      <th>title_year</th>\n      <th>actor_2_facebook_likes</th>\n      <th>imdb_score</th>\n      <th>aspect_ratio</th>\n      <th>movie_facebook_likes</th>\n      <th>total_likes</th>\n    </tr>\n  </thead>\n  <tbody>\n    <tr>\n      <th>0</th>\n      <td>Color</td>\n      <td>James Cameron</td>\n      <td>723.0</td>\n      <td>178.0</td>\n      <td>0.0</td>\n      <td>855.0</td>\n      <td>Joel David Moore</td>\n      <td>1000.0</td>\n      <td>760505847.0</td>\n      <td>Action|Adventure|Fantasy|Sci-Fi</td>\n      <td>...</td>\n      <td>English</td>\n      <td>USA</td>\n      <td>PG-13</td>\n      <td>237000000.0</td>\n      <td>2009.0</td>\n      <td>936.0</td>\n      <td>7.9</td>\n      <td>1.78</td>\n      <td>33000</td>\n      <td>2791.0</td>\n    </tr>\n    <tr>\n      <th>1</th>\n      <td>Color</td>\n      <td>Gore Verbinski</td>\n      <td>302.0</td>\n      <td>169.0</td>\n      <td>563.0</td>\n      <td>1000.0</td>\n      <td>Orlando Bloom</td>\n      <td>40000.0</td>\n      <td>309404152.0</td>\n      <td>Action|Adventure|Fantasy</td>\n      <td>...</td>\n      <td>English</td>\n      <td>USA</td>\n      <td>PG-13</td>\n      <td>300000000.0</td>\n      <td>2007.0</td>\n      <td>5000.0</td>\n      <td>7.1</td>\n      <td>2.35</td>\n      <td>0</td>\n      <td>46563.0</td>\n    </tr>\n    <tr>\n      <th>2</th>\n      <td>Color</td>\n      <td>Sam Mendes</td>\n      <td>602.0</td>\n      <td>148.0</td>\n      <td>0.0</td>\n      <td>161.0</td>\n      <td>Rory Kinnear</td>\n      <td>11000.0</td>\n      <td>200074175.0</td>\n      <td>Action|Adventure|Thriller</td>\n      <td>...</td>\n      <td>English</td>\n      <td>UK</td>\n      <td>PG-13</td>\n      <td>245000000.0</td>\n      <td>2015.0</td>\n      <td>393.0</td>\n      <td>6.8</td>\n      <td>2.35</td>\n      <td>85000</td>\n      <td>11554.0</td>\n    </tr>\n    <tr>\n      <th>3</th>\n      <td>Color</td>\n      <td>Christopher Nolan</td>\n      <td>813.0</td>\n      <td>164.0</td>\n      <td>22000.0</td>\n      <td>23000.0</td>\n      <td>Christian Bale</td>\n      <td>27000.0</td>\n      <td>448130642.0</td>\n      <td>Action|Thriller</td>\n      <td>...</td>\n      <td>English</td>\n      <td>USA</td>\n      <td>PG-13</td>\n      <td>250000000.0</td>\n      <td>2012.0</td>\n      <td>23000.0</td>\n      <td>8.5</td>\n      <td>2.35</td>\n      <td>164000</td>\n      <td>95000.0</td>\n    </tr>\n    <tr>\n      <th>4</th>\n      <td>NaN</td>\n      <td>Doug Walker</td>\n      <td>NaN</td>\n      <td>NaN</td>\n      <td>131.0</td>\n      <td>NaN</td>\n      <td>Rob Walker</td>\n      <td>131.0</td>\n      <td>NaN</td>\n      <td>Documentary</td>\n      <td>...</td>\n      <td>NaN</td>\n      <td>NaN</td>\n      <td>NaN</td>\n      <td>NaN</td>\n      <td>NaN</td>\n      <td>12.0</td>\n      <td>7.1</td>\n      <td>NaN</td>\n      <td>0</td>\n      <td>274.0</td>\n    </tr>\n  </tbody>\n</table>\n<p>5 rows × 29 columns</p>\n</div>"
     },
     "execution_count": 155,
     "metadata": {},
     "output_type": "execute_result"
    }
   ],
   "source": [
    "movies.assign(total_likes=sum_likes).head(5)"
   ],
   "metadata": {
    "collapsed": false
   }
  },
  {
   "cell_type": "code",
   "execution_count": 156,
   "outputs": [
    {
     "data": {
      "text/plain": "0"
     },
     "execution_count": 156,
     "metadata": {},
     "output_type": "execute_result"
    }
   ],
   "source": [
    "(\n",
    "    movies.assign(total_likes=sum_col)['total_likes']\n",
    "    .isna()\n",
    "    .sum()\n",
    ")"
   ],
   "metadata": {
    "collapsed": false
   }
  },
  {
   "cell_type": "code",
   "execution_count": 157,
   "outputs": [
    {
     "data": {
      "text/plain": "122"
     },
     "execution_count": 157,
     "metadata": {},
     "output_type": "execute_result"
    }
   ],
   "source": [
    "(\n",
    "    movies.assign(total_likes=total)['total_likes']\n",
    "    .isna()\n",
    "    .sum()\n",
    ")"
   ],
   "metadata": {
    "collapsed": false
   }
  },
  {
   "cell_type": "code",
   "execution_count": 158,
   "outputs": [
    {
     "data": {
      "text/plain": "0"
     },
     "execution_count": 158,
     "metadata": {},
     "output_type": "execute_result"
    }
   ],
   "source": [
    "(\n",
    "    movies.assign(total_likes=total.fillna(0))['total_likes']\n",
    "    .isna()\n",
    "    .sum()\n",
    ")"
   ],
   "metadata": {
    "collapsed": false
   }
  },
  {
   "cell_type": "code",
   "execution_count": 159,
   "outputs": [],
   "source": [
    "def cast_like_gt_actor(df):\n",
    "    return (\n",
    "        df['cast_total_facebook_likes']\n",
    "        >= df['total_likes']\n",
    "    )"
   ],
   "metadata": {
    "collapsed": false
   }
  },
  {
   "cell_type": "code",
   "execution_count": 160,
   "outputs": [],
   "source": [
    "df2 = movies.assign(\n",
    "    total_likes=total,\n",
    "    is_cast_likes_more=cast_like_gt_actor\n",
    ")"
   ],
   "metadata": {
    "collapsed": false
   }
  },
  {
   "cell_type": "code",
   "execution_count": 161,
   "outputs": [
    {
     "data": {
      "text/plain": "False"
     },
     "execution_count": 161,
     "metadata": {},
     "output_type": "execute_result"
    }
   ],
   "source": [
    "df2['is_cast_likes_more'].all()"
   ],
   "metadata": {
    "collapsed": false
   }
  },
  {
   "cell_type": "code",
   "execution_count": 163,
   "outputs": [
    {
     "ename": "KeyError",
     "evalue": "\"['total_likes'] not found in axis\"",
     "output_type": "error",
     "traceback": [
      "\u001B[0;31m---------------------------------------------------------------------------\u001B[0m",
      "\u001B[0;31mKeyError\u001B[0m                                  Traceback (most recent call last)",
      "Cell \u001B[0;32mIn[163], line 1\u001B[0m\n\u001B[0;32m----> 1\u001B[0m df2 \u001B[38;5;241m=\u001B[39m \u001B[43mdf2\u001B[49m\u001B[38;5;241;43m.\u001B[39;49m\u001B[43mdrop\u001B[49m\u001B[43m(\u001B[49m\u001B[43mcolumns\u001B[49m\u001B[38;5;241;43m=\u001B[39;49m\u001B[38;5;124;43m'\u001B[39;49m\u001B[38;5;124;43mtotal_likes\u001B[39;49m\u001B[38;5;124;43m'\u001B[39;49m\u001B[43m)\u001B[49m\n",
      "File \u001B[0;32m~/anaconda3/lib/python3.10/site-packages/pandas/util/_decorators.py:331\u001B[0m, in \u001B[0;36mdeprecate_nonkeyword_arguments.<locals>.decorate.<locals>.wrapper\u001B[0;34m(*args, **kwargs)\u001B[0m\n\u001B[1;32m    325\u001B[0m \u001B[38;5;28;01mif\u001B[39;00m \u001B[38;5;28mlen\u001B[39m(args) \u001B[38;5;241m>\u001B[39m num_allow_args:\n\u001B[1;32m    326\u001B[0m     warnings\u001B[38;5;241m.\u001B[39mwarn(\n\u001B[1;32m    327\u001B[0m         msg\u001B[38;5;241m.\u001B[39mformat(arguments\u001B[38;5;241m=\u001B[39m_format_argument_list(allow_args)),\n\u001B[1;32m    328\u001B[0m         \u001B[38;5;167;01mFutureWarning\u001B[39;00m,\n\u001B[1;32m    329\u001B[0m         stacklevel\u001B[38;5;241m=\u001B[39mfind_stack_level(),\n\u001B[1;32m    330\u001B[0m     )\n\u001B[0;32m--> 331\u001B[0m \u001B[38;5;28;01mreturn\u001B[39;00m \u001B[43mfunc\u001B[49m\u001B[43m(\u001B[49m\u001B[38;5;241;43m*\u001B[39;49m\u001B[43margs\u001B[49m\u001B[43m,\u001B[49m\u001B[43m \u001B[49m\u001B[38;5;241;43m*\u001B[39;49m\u001B[38;5;241;43m*\u001B[39;49m\u001B[43mkwargs\u001B[49m\u001B[43m)\u001B[49m\n",
      "File \u001B[0;32m~/anaconda3/lib/python3.10/site-packages/pandas/core/frame.py:5399\u001B[0m, in \u001B[0;36mDataFrame.drop\u001B[0;34m(self, labels, axis, index, columns, level, inplace, errors)\u001B[0m\n\u001B[1;32m   5251\u001B[0m \u001B[38;5;129m@deprecate_nonkeyword_arguments\u001B[39m(version\u001B[38;5;241m=\u001B[39m\u001B[38;5;28;01mNone\u001B[39;00m, allowed_args\u001B[38;5;241m=\u001B[39m[\u001B[38;5;124m\"\u001B[39m\u001B[38;5;124mself\u001B[39m\u001B[38;5;124m\"\u001B[39m, \u001B[38;5;124m\"\u001B[39m\u001B[38;5;124mlabels\u001B[39m\u001B[38;5;124m\"\u001B[39m])\n\u001B[1;32m   5252\u001B[0m \u001B[38;5;28;01mdef\u001B[39;00m \u001B[38;5;21mdrop\u001B[39m(  \u001B[38;5;66;03m# type: ignore[override]\u001B[39;00m\n\u001B[1;32m   5253\u001B[0m     \u001B[38;5;28mself\u001B[39m,\n\u001B[0;32m   (...)\u001B[0m\n\u001B[1;32m   5260\u001B[0m     errors: IgnoreRaise \u001B[38;5;241m=\u001B[39m \u001B[38;5;124m\"\u001B[39m\u001B[38;5;124mraise\u001B[39m\u001B[38;5;124m\"\u001B[39m,\n\u001B[1;32m   5261\u001B[0m ) \u001B[38;5;241m-\u001B[39m\u001B[38;5;241m>\u001B[39m DataFrame \u001B[38;5;241m|\u001B[39m \u001B[38;5;28;01mNone\u001B[39;00m:\n\u001B[1;32m   5262\u001B[0m     \u001B[38;5;124;03m\"\"\"\u001B[39;00m\n\u001B[1;32m   5263\u001B[0m \u001B[38;5;124;03m    Drop specified labels from rows or columns.\u001B[39;00m\n\u001B[1;32m   5264\u001B[0m \n\u001B[0;32m   (...)\u001B[0m\n\u001B[1;32m   5397\u001B[0m \u001B[38;5;124;03m            weight  1.0     0.8\u001B[39;00m\n\u001B[1;32m   5398\u001B[0m \u001B[38;5;124;03m    \"\"\"\u001B[39;00m\n\u001B[0;32m-> 5399\u001B[0m     \u001B[38;5;28;01mreturn\u001B[39;00m \u001B[38;5;28;43msuper\u001B[39;49m\u001B[43m(\u001B[49m\u001B[43m)\u001B[49m\u001B[38;5;241;43m.\u001B[39;49m\u001B[43mdrop\u001B[49m\u001B[43m(\u001B[49m\n\u001B[1;32m   5400\u001B[0m \u001B[43m        \u001B[49m\u001B[43mlabels\u001B[49m\u001B[38;5;241;43m=\u001B[39;49m\u001B[43mlabels\u001B[49m\u001B[43m,\u001B[49m\n\u001B[1;32m   5401\u001B[0m \u001B[43m        \u001B[49m\u001B[43maxis\u001B[49m\u001B[38;5;241;43m=\u001B[39;49m\u001B[43maxis\u001B[49m\u001B[43m,\u001B[49m\n\u001B[1;32m   5402\u001B[0m \u001B[43m        \u001B[49m\u001B[43mindex\u001B[49m\u001B[38;5;241;43m=\u001B[39;49m\u001B[43mindex\u001B[49m\u001B[43m,\u001B[49m\n\u001B[1;32m   5403\u001B[0m \u001B[43m        \u001B[49m\u001B[43mcolumns\u001B[49m\u001B[38;5;241;43m=\u001B[39;49m\u001B[43mcolumns\u001B[49m\u001B[43m,\u001B[49m\n\u001B[1;32m   5404\u001B[0m \u001B[43m        \u001B[49m\u001B[43mlevel\u001B[49m\u001B[38;5;241;43m=\u001B[39;49m\u001B[43mlevel\u001B[49m\u001B[43m,\u001B[49m\n\u001B[1;32m   5405\u001B[0m \u001B[43m        \u001B[49m\u001B[43minplace\u001B[49m\u001B[38;5;241;43m=\u001B[39;49m\u001B[43minplace\u001B[49m\u001B[43m,\u001B[49m\n\u001B[1;32m   5406\u001B[0m \u001B[43m        \u001B[49m\u001B[43merrors\u001B[49m\u001B[38;5;241;43m=\u001B[39;49m\u001B[43merrors\u001B[49m\u001B[43m,\u001B[49m\n\u001B[1;32m   5407\u001B[0m \u001B[43m    \u001B[49m\u001B[43m)\u001B[49m\n",
      "File \u001B[0;32m~/anaconda3/lib/python3.10/site-packages/pandas/util/_decorators.py:331\u001B[0m, in \u001B[0;36mdeprecate_nonkeyword_arguments.<locals>.decorate.<locals>.wrapper\u001B[0;34m(*args, **kwargs)\u001B[0m\n\u001B[1;32m    325\u001B[0m \u001B[38;5;28;01mif\u001B[39;00m \u001B[38;5;28mlen\u001B[39m(args) \u001B[38;5;241m>\u001B[39m num_allow_args:\n\u001B[1;32m    326\u001B[0m     warnings\u001B[38;5;241m.\u001B[39mwarn(\n\u001B[1;32m    327\u001B[0m         msg\u001B[38;5;241m.\u001B[39mformat(arguments\u001B[38;5;241m=\u001B[39m_format_argument_list(allow_args)),\n\u001B[1;32m    328\u001B[0m         \u001B[38;5;167;01mFutureWarning\u001B[39;00m,\n\u001B[1;32m    329\u001B[0m         stacklevel\u001B[38;5;241m=\u001B[39mfind_stack_level(),\n\u001B[1;32m    330\u001B[0m     )\n\u001B[0;32m--> 331\u001B[0m \u001B[38;5;28;01mreturn\u001B[39;00m \u001B[43mfunc\u001B[49m\u001B[43m(\u001B[49m\u001B[38;5;241;43m*\u001B[39;49m\u001B[43margs\u001B[49m\u001B[43m,\u001B[49m\u001B[43m \u001B[49m\u001B[38;5;241;43m*\u001B[39;49m\u001B[38;5;241;43m*\u001B[39;49m\u001B[43mkwargs\u001B[49m\u001B[43m)\u001B[49m\n",
      "File \u001B[0;32m~/anaconda3/lib/python3.10/site-packages/pandas/core/generic.py:4505\u001B[0m, in \u001B[0;36mNDFrame.drop\u001B[0;34m(self, labels, axis, index, columns, level, inplace, errors)\u001B[0m\n\u001B[1;32m   4503\u001B[0m \u001B[38;5;28;01mfor\u001B[39;00m axis, labels \u001B[38;5;129;01min\u001B[39;00m axes\u001B[38;5;241m.\u001B[39mitems():\n\u001B[1;32m   4504\u001B[0m     \u001B[38;5;28;01mif\u001B[39;00m labels \u001B[38;5;129;01mis\u001B[39;00m \u001B[38;5;129;01mnot\u001B[39;00m \u001B[38;5;28;01mNone\u001B[39;00m:\n\u001B[0;32m-> 4505\u001B[0m         obj \u001B[38;5;241m=\u001B[39m \u001B[43mobj\u001B[49m\u001B[38;5;241;43m.\u001B[39;49m\u001B[43m_drop_axis\u001B[49m\u001B[43m(\u001B[49m\u001B[43mlabels\u001B[49m\u001B[43m,\u001B[49m\u001B[43m \u001B[49m\u001B[43maxis\u001B[49m\u001B[43m,\u001B[49m\u001B[43m \u001B[49m\u001B[43mlevel\u001B[49m\u001B[38;5;241;43m=\u001B[39;49m\u001B[43mlevel\u001B[49m\u001B[43m,\u001B[49m\u001B[43m \u001B[49m\u001B[43merrors\u001B[49m\u001B[38;5;241;43m=\u001B[39;49m\u001B[43merrors\u001B[49m\u001B[43m)\u001B[49m\n\u001B[1;32m   4507\u001B[0m \u001B[38;5;28;01mif\u001B[39;00m inplace:\n\u001B[1;32m   4508\u001B[0m     \u001B[38;5;28mself\u001B[39m\u001B[38;5;241m.\u001B[39m_update_inplace(obj)\n",
      "File \u001B[0;32m~/anaconda3/lib/python3.10/site-packages/pandas/core/generic.py:4546\u001B[0m, in \u001B[0;36mNDFrame._drop_axis\u001B[0;34m(self, labels, axis, level, errors, only_slice)\u001B[0m\n\u001B[1;32m   4544\u001B[0m         new_axis \u001B[38;5;241m=\u001B[39m axis\u001B[38;5;241m.\u001B[39mdrop(labels, level\u001B[38;5;241m=\u001B[39mlevel, errors\u001B[38;5;241m=\u001B[39merrors)\n\u001B[1;32m   4545\u001B[0m     \u001B[38;5;28;01melse\u001B[39;00m:\n\u001B[0;32m-> 4546\u001B[0m         new_axis \u001B[38;5;241m=\u001B[39m \u001B[43maxis\u001B[49m\u001B[38;5;241;43m.\u001B[39;49m\u001B[43mdrop\u001B[49m\u001B[43m(\u001B[49m\u001B[43mlabels\u001B[49m\u001B[43m,\u001B[49m\u001B[43m \u001B[49m\u001B[43merrors\u001B[49m\u001B[38;5;241;43m=\u001B[39;49m\u001B[43merrors\u001B[49m\u001B[43m)\u001B[49m\n\u001B[1;32m   4547\u001B[0m     indexer \u001B[38;5;241m=\u001B[39m axis\u001B[38;5;241m.\u001B[39mget_indexer(new_axis)\n\u001B[1;32m   4549\u001B[0m \u001B[38;5;66;03m# Case for non-unique axis\u001B[39;00m\n\u001B[1;32m   4550\u001B[0m \u001B[38;5;28;01melse\u001B[39;00m:\n",
      "File \u001B[0;32m~/anaconda3/lib/python3.10/site-packages/pandas/core/indexes/base.py:6934\u001B[0m, in \u001B[0;36mIndex.drop\u001B[0;34m(self, labels, errors)\u001B[0m\n\u001B[1;32m   6932\u001B[0m \u001B[38;5;28;01mif\u001B[39;00m mask\u001B[38;5;241m.\u001B[39many():\n\u001B[1;32m   6933\u001B[0m     \u001B[38;5;28;01mif\u001B[39;00m errors \u001B[38;5;241m!=\u001B[39m \u001B[38;5;124m\"\u001B[39m\u001B[38;5;124mignore\u001B[39m\u001B[38;5;124m\"\u001B[39m:\n\u001B[0;32m-> 6934\u001B[0m         \u001B[38;5;28;01mraise\u001B[39;00m \u001B[38;5;167;01mKeyError\u001B[39;00m(\u001B[38;5;124mf\u001B[39m\u001B[38;5;124m\"\u001B[39m\u001B[38;5;132;01m{\u001B[39;00m\u001B[38;5;28mlist\u001B[39m(labels[mask])\u001B[38;5;132;01m}\u001B[39;00m\u001B[38;5;124m not found in axis\u001B[39m\u001B[38;5;124m\"\u001B[39m)\n\u001B[1;32m   6935\u001B[0m     indexer \u001B[38;5;241m=\u001B[39m indexer[\u001B[38;5;241m~\u001B[39mmask]\n\u001B[1;32m   6936\u001B[0m \u001B[38;5;28;01mreturn\u001B[39;00m \u001B[38;5;28mself\u001B[39m\u001B[38;5;241m.\u001B[39mdelete(indexer)\n",
      "\u001B[0;31mKeyError\u001B[0m: \"['total_likes'] not found in axis\""
     ]
    }
   ],
   "source": [
    "df2 = df2.drop(columns='total_likes')"
   ],
   "metadata": {
    "collapsed": false
   }
  },
  {
   "cell_type": "code",
   "execution_count": 164,
   "outputs": [],
   "source": [
    "actor_sum = movies[\n",
    "    [\n",
    "        c\n",
    "        for c in movies.columns\n",
    "        if 'actor_' in c and '_likes' in c\n",
    "    ]\n",
    "].sum(axis='columns')"
   ],
   "metadata": {
    "collapsed": false
   }
  },
  {
   "cell_type": "code",
   "execution_count": 165,
   "outputs": [
    {
     "data": {
      "text/plain": "0     2791.0\n1    46000.0\n2    11554.0\n3    73000.0\n4      143.0\ndtype: float64"
     },
     "execution_count": 165,
     "metadata": {},
     "output_type": "execute_result"
    }
   ],
   "source": [
    "actor_sum.head()"
   ],
   "metadata": {
    "collapsed": false
   }
  },
  {
   "cell_type": "code",
   "execution_count": 166,
   "outputs": [
    {
     "data": {
      "text/plain": "0       True\n1       True\n2       True\n3       True\n4       True\n        ... \n4911    True\n4912    True\n4913    True\n4914    True\n4915    True\nLength: 4916, dtype: bool"
     },
     "execution_count": 166,
     "metadata": {},
     "output_type": "execute_result"
    }
   ],
   "source": [
    "movies['cast_total_facebook_likes'] >= actor_sum"
   ],
   "metadata": {
    "collapsed": false
   }
  },
  {
   "cell_type": "code",
   "execution_count": 170,
   "outputs": [
    {
     "data": {
      "text/plain": "True    4916\ndtype: int64"
     },
     "execution_count": 170,
     "metadata": {},
     "output_type": "execute_result"
    }
   ],
   "source": [
    "movies['cast_total_facebook_likes'].ge(actor_sum).value_counts()"
   ],
   "metadata": {
    "collapsed": false
   }
  },
  {
   "cell_type": "code",
   "execution_count": 168,
   "outputs": [],
   "source": [
    "pct_like = actor_sum.div(\n",
    "    movies['cast_total_facebook_likes']\n",
    ").mul(100)"
   ],
   "metadata": {
    "collapsed": false
   }
  },
  {
   "cell_type": "code",
   "execution_count": 169,
   "outputs": [
    {
     "data": {
      "text/plain": "count    4883.000000\nmean       83.327889\nstd        14.056578\nmin        30.076696\n25%        73.528368\n50%        86.928884\n75%        95.477440\nmax       100.000000\ndtype: float64"
     },
     "execution_count": 169,
     "metadata": {},
     "output_type": "execute_result"
    }
   ],
   "source": [
    "pct_like.describe()"
   ],
   "metadata": {
    "collapsed": false
   }
  },
  {
   "cell_type": "code",
   "execution_count": 171,
   "outputs": [
    {
     "data": {
      "text/plain": "movie_title\nAvatar                                         57.736864\nPirates of the Caribbean: At World's End       95.139607\nSpectre                                        98.752137\nThe Dark Knight Rises                          68.378310\nStar Wars: Episode VII - The Force Awakens    100.000000\ndtype: float64"
     },
     "execution_count": 171,
     "metadata": {},
     "output_type": "execute_result"
    }
   ],
   "source": [
    "pd.Series(\n",
    "    pct_like.to_numpy(), index=movies['movie_title']\n",
    ").head()"
   ],
   "metadata": {
    "collapsed": false
   }
  },
  {
   "cell_type": "code",
   "execution_count": 172,
   "outputs": [],
   "source": [
    "profit_index = movies.columns.get_loc('gross') + 1"
   ],
   "metadata": {
    "collapsed": false
   }
  },
  {
   "cell_type": "code",
   "execution_count": 173,
   "outputs": [
    {
     "data": {
      "text/plain": "9"
     },
     "execution_count": 173,
     "metadata": {},
     "output_type": "execute_result"
    }
   ],
   "source": [
    "profit_index"
   ],
   "metadata": {
    "collapsed": false
   }
  },
  {
   "cell_type": "code",
   "execution_count": 174,
   "outputs": [],
   "source": [
    "movies.insert(\n",
    "    loc=profit_index,\n",
    "    column='profit',\n",
    "    value=movies['gross'] - movies['budget']\n",
    ")"
   ],
   "metadata": {
    "collapsed": false
   }
  },
  {
   "cell_type": "code",
   "execution_count": 175,
   "outputs": [
    {
     "data": {
      "text/plain": "      color      director_name  num_critic_for_reviews  duration  \\\n0     Color      James Cameron                   723.0     178.0   \n1     Color     Gore Verbinski                   302.0     169.0   \n2     Color         Sam Mendes                   602.0     148.0   \n3     Color  Christopher Nolan                   813.0     164.0   \n4       NaN        Doug Walker                     NaN       NaN   \n...     ...                ...                     ...       ...   \n4911  Color        Scott Smith                     1.0      87.0   \n4912  Color                NaN                    43.0      43.0   \n4913  Color   Benjamin Roberds                    13.0      76.0   \n4914  Color        Daniel Hsia                    14.0     100.0   \n4915  Color           Jon Gunn                    43.0      90.0   \n\n      director_facebook_likes  actor_3_facebook_likes      actor_2_name  \\\n0                         0.0                   855.0  Joel David Moore   \n1                       563.0                  1000.0     Orlando Bloom   \n2                         0.0                   161.0      Rory Kinnear   \n3                     22000.0                 23000.0    Christian Bale   \n4                       131.0                     NaN        Rob Walker   \n...                       ...                     ...               ...   \n4911                      2.0                   318.0     Daphne Zuniga   \n4912                      NaN                   319.0     Valorie Curry   \n4913                      0.0                     0.0     Maxwell Moody   \n4914                      0.0                   489.0     Daniel Henney   \n4915                     16.0                    16.0  Brian Herzlinger   \n\n      actor_1_facebook_likes        gross       profit  ...  \\\n0                     1000.0  760505847.0  523505847.0  ...   \n1                    40000.0  309404152.0    9404152.0  ...   \n2                    11000.0  200074175.0  -44925825.0  ...   \n3                    27000.0  448130642.0  198130642.0  ...   \n4                      131.0          NaN          NaN  ...   \n...                      ...          ...          ...  ...   \n4911                   637.0          NaN          NaN  ...   \n4912                   841.0          NaN          NaN  ...   \n4913                     0.0          NaN          NaN  ...   \n4914                   946.0      10443.0          NaN  ...   \n4915                    86.0      85222.0      84122.0  ...   \n\n     num_user_for_reviews language country  content_rating       budget  \\\n0                  3054.0  English     USA           PG-13  237000000.0   \n1                  1238.0  English     USA           PG-13  300000000.0   \n2                   994.0  English      UK           PG-13  245000000.0   \n3                  2701.0  English     USA           PG-13  250000000.0   \n4                     NaN      NaN     NaN             NaN          NaN   \n...                   ...      ...     ...             ...          ...   \n4911                  6.0  English  Canada             NaN          NaN   \n4912                359.0  English     USA           TV-14          NaN   \n4913                  3.0  English     USA             NaN       1400.0   \n4914                  9.0  English     USA           PG-13          NaN   \n4915                 84.0  English     USA              PG       1100.0   \n\n     title_year  actor_2_facebook_likes imdb_score aspect_ratio  \\\n0        2009.0                   936.0        7.9         1.78   \n1        2007.0                  5000.0        7.1         2.35   \n2        2015.0                   393.0        6.8         2.35   \n3        2012.0                 23000.0        8.5         2.35   \n4           NaN                    12.0        7.1          NaN   \n...         ...                     ...        ...          ...   \n4911     2013.0                   470.0        7.7          NaN   \n4912        NaN                   593.0        7.5        16.00   \n4913     2013.0                     0.0        6.3          NaN   \n4914     2012.0                   719.0        6.3         2.35   \n4915     2004.0                    23.0        6.6         1.85   \n\n      movie_facebook_likes  \n0                    33000  \n1                        0  \n2                    85000  \n3                   164000  \n4                        0  \n...                    ...  \n4911                    84  \n4912                 32000  \n4913                    16  \n4914                   660  \n4915                   456  \n\n[4916 rows x 29 columns]",
      "text/html": "<div>\n<style scoped>\n    .dataframe tbody tr th:only-of-type {\n        vertical-align: middle;\n    }\n\n    .dataframe tbody tr th {\n        vertical-align: top;\n    }\n\n    .dataframe thead th {\n        text-align: right;\n    }\n</style>\n<table border=\"1\" class=\"dataframe\">\n  <thead>\n    <tr style=\"text-align: right;\">\n      <th></th>\n      <th>color</th>\n      <th>director_name</th>\n      <th>num_critic_for_reviews</th>\n      <th>duration</th>\n      <th>director_facebook_likes</th>\n      <th>actor_3_facebook_likes</th>\n      <th>actor_2_name</th>\n      <th>actor_1_facebook_likes</th>\n      <th>gross</th>\n      <th>profit</th>\n      <th>...</th>\n      <th>num_user_for_reviews</th>\n      <th>language</th>\n      <th>country</th>\n      <th>content_rating</th>\n      <th>budget</th>\n      <th>title_year</th>\n      <th>actor_2_facebook_likes</th>\n      <th>imdb_score</th>\n      <th>aspect_ratio</th>\n      <th>movie_facebook_likes</th>\n    </tr>\n  </thead>\n  <tbody>\n    <tr>\n      <th>0</th>\n      <td>Color</td>\n      <td>James Cameron</td>\n      <td>723.0</td>\n      <td>178.0</td>\n      <td>0.0</td>\n      <td>855.0</td>\n      <td>Joel David Moore</td>\n      <td>1000.0</td>\n      <td>760505847.0</td>\n      <td>523505847.0</td>\n      <td>...</td>\n      <td>3054.0</td>\n      <td>English</td>\n      <td>USA</td>\n      <td>PG-13</td>\n      <td>237000000.0</td>\n      <td>2009.0</td>\n      <td>936.0</td>\n      <td>7.9</td>\n      <td>1.78</td>\n      <td>33000</td>\n    </tr>\n    <tr>\n      <th>1</th>\n      <td>Color</td>\n      <td>Gore Verbinski</td>\n      <td>302.0</td>\n      <td>169.0</td>\n      <td>563.0</td>\n      <td>1000.0</td>\n      <td>Orlando Bloom</td>\n      <td>40000.0</td>\n      <td>309404152.0</td>\n      <td>9404152.0</td>\n      <td>...</td>\n      <td>1238.0</td>\n      <td>English</td>\n      <td>USA</td>\n      <td>PG-13</td>\n      <td>300000000.0</td>\n      <td>2007.0</td>\n      <td>5000.0</td>\n      <td>7.1</td>\n      <td>2.35</td>\n      <td>0</td>\n    </tr>\n    <tr>\n      <th>2</th>\n      <td>Color</td>\n      <td>Sam Mendes</td>\n      <td>602.0</td>\n      <td>148.0</td>\n      <td>0.0</td>\n      <td>161.0</td>\n      <td>Rory Kinnear</td>\n      <td>11000.0</td>\n      <td>200074175.0</td>\n      <td>-44925825.0</td>\n      <td>...</td>\n      <td>994.0</td>\n      <td>English</td>\n      <td>UK</td>\n      <td>PG-13</td>\n      <td>245000000.0</td>\n      <td>2015.0</td>\n      <td>393.0</td>\n      <td>6.8</td>\n      <td>2.35</td>\n      <td>85000</td>\n    </tr>\n    <tr>\n      <th>3</th>\n      <td>Color</td>\n      <td>Christopher Nolan</td>\n      <td>813.0</td>\n      <td>164.0</td>\n      <td>22000.0</td>\n      <td>23000.0</td>\n      <td>Christian Bale</td>\n      <td>27000.0</td>\n      <td>448130642.0</td>\n      <td>198130642.0</td>\n      <td>...</td>\n      <td>2701.0</td>\n      <td>English</td>\n      <td>USA</td>\n      <td>PG-13</td>\n      <td>250000000.0</td>\n      <td>2012.0</td>\n      <td>23000.0</td>\n      <td>8.5</td>\n      <td>2.35</td>\n      <td>164000</td>\n    </tr>\n    <tr>\n      <th>4</th>\n      <td>NaN</td>\n      <td>Doug Walker</td>\n      <td>NaN</td>\n      <td>NaN</td>\n      <td>131.0</td>\n      <td>NaN</td>\n      <td>Rob Walker</td>\n      <td>131.0</td>\n      <td>NaN</td>\n      <td>NaN</td>\n      <td>...</td>\n      <td>NaN</td>\n      <td>NaN</td>\n      <td>NaN</td>\n      <td>NaN</td>\n      <td>NaN</td>\n      <td>NaN</td>\n      <td>12.0</td>\n      <td>7.1</td>\n      <td>NaN</td>\n      <td>0</td>\n    </tr>\n    <tr>\n      <th>...</th>\n      <td>...</td>\n      <td>...</td>\n      <td>...</td>\n      <td>...</td>\n      <td>...</td>\n      <td>...</td>\n      <td>...</td>\n      <td>...</td>\n      <td>...</td>\n      <td>...</td>\n      <td>...</td>\n      <td>...</td>\n      <td>...</td>\n      <td>...</td>\n      <td>...</td>\n      <td>...</td>\n      <td>...</td>\n      <td>...</td>\n      <td>...</td>\n      <td>...</td>\n      <td>...</td>\n    </tr>\n    <tr>\n      <th>4911</th>\n      <td>Color</td>\n      <td>Scott Smith</td>\n      <td>1.0</td>\n      <td>87.0</td>\n      <td>2.0</td>\n      <td>318.0</td>\n      <td>Daphne Zuniga</td>\n      <td>637.0</td>\n      <td>NaN</td>\n      <td>NaN</td>\n      <td>...</td>\n      <td>6.0</td>\n      <td>English</td>\n      <td>Canada</td>\n      <td>NaN</td>\n      <td>NaN</td>\n      <td>2013.0</td>\n      <td>470.0</td>\n      <td>7.7</td>\n      <td>NaN</td>\n      <td>84</td>\n    </tr>\n    <tr>\n      <th>4912</th>\n      <td>Color</td>\n      <td>NaN</td>\n      <td>43.0</td>\n      <td>43.0</td>\n      <td>NaN</td>\n      <td>319.0</td>\n      <td>Valorie Curry</td>\n      <td>841.0</td>\n      <td>NaN</td>\n      <td>NaN</td>\n      <td>...</td>\n      <td>359.0</td>\n      <td>English</td>\n      <td>USA</td>\n      <td>TV-14</td>\n      <td>NaN</td>\n      <td>NaN</td>\n      <td>593.0</td>\n      <td>7.5</td>\n      <td>16.00</td>\n      <td>32000</td>\n    </tr>\n    <tr>\n      <th>4913</th>\n      <td>Color</td>\n      <td>Benjamin Roberds</td>\n      <td>13.0</td>\n      <td>76.0</td>\n      <td>0.0</td>\n      <td>0.0</td>\n      <td>Maxwell Moody</td>\n      <td>0.0</td>\n      <td>NaN</td>\n      <td>NaN</td>\n      <td>...</td>\n      <td>3.0</td>\n      <td>English</td>\n      <td>USA</td>\n      <td>NaN</td>\n      <td>1400.0</td>\n      <td>2013.0</td>\n      <td>0.0</td>\n      <td>6.3</td>\n      <td>NaN</td>\n      <td>16</td>\n    </tr>\n    <tr>\n      <th>4914</th>\n      <td>Color</td>\n      <td>Daniel Hsia</td>\n      <td>14.0</td>\n      <td>100.0</td>\n      <td>0.0</td>\n      <td>489.0</td>\n      <td>Daniel Henney</td>\n      <td>946.0</td>\n      <td>10443.0</td>\n      <td>NaN</td>\n      <td>...</td>\n      <td>9.0</td>\n      <td>English</td>\n      <td>USA</td>\n      <td>PG-13</td>\n      <td>NaN</td>\n      <td>2012.0</td>\n      <td>719.0</td>\n      <td>6.3</td>\n      <td>2.35</td>\n      <td>660</td>\n    </tr>\n    <tr>\n      <th>4915</th>\n      <td>Color</td>\n      <td>Jon Gunn</td>\n      <td>43.0</td>\n      <td>90.0</td>\n      <td>16.0</td>\n      <td>16.0</td>\n      <td>Brian Herzlinger</td>\n      <td>86.0</td>\n      <td>85222.0</td>\n      <td>84122.0</td>\n      <td>...</td>\n      <td>84.0</td>\n      <td>English</td>\n      <td>USA</td>\n      <td>PG</td>\n      <td>1100.0</td>\n      <td>2004.0</td>\n      <td>23.0</td>\n      <td>6.6</td>\n      <td>1.85</td>\n      <td>456</td>\n    </tr>\n  </tbody>\n</table>\n<p>4916 rows × 29 columns</p>\n</div>"
     },
     "execution_count": 175,
     "metadata": {},
     "output_type": "execute_result"
    }
   ],
   "source": [
    "movies"
   ],
   "metadata": {
    "collapsed": false
   }
  },
  {
   "cell_type": "code",
   "execution_count": 176,
   "outputs": [],
   "source": [
    "del movies['director_name']"
   ],
   "metadata": {
    "collapsed": false
   }
  },
  {
   "cell_type": "code",
   "execution_count": null,
   "outputs": [],
   "source": [],
   "metadata": {
    "collapsed": false
   }
  }
 ],
 "metadata": {
  "kernelspec": {
   "display_name": "Python 3",
   "language": "python",
   "name": "python3"
  },
  "language_info": {
   "codemirror_mode": {
    "name": "ipython",
    "version": 2
   },
   "file_extension": ".py",
   "mimetype": "text/x-python",
   "name": "python",
   "nbconvert_exporter": "python",
   "pygments_lexer": "ipython2",
   "version": "2.7.6"
  }
 },
 "nbformat": 4,
 "nbformat_minor": 0
}
