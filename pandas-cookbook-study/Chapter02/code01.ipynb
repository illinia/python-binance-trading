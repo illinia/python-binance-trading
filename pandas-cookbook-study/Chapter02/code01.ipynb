{
 "cells": [
  {
   "cell_type": "code",
   "execution_count": 1,
   "metadata": {
    "collapsed": true
   },
   "outputs": [],
   "source": [
    "import pandas as pd\n",
    "import numpy as np"
   ]
  },
  {
   "cell_type": "markdown",
   "source": [
    "여러 DataFrame 열 선택"
   ],
   "metadata": {
    "collapsed": false
   }
  },
  {
   "cell_type": "code",
   "execution_count": 2,
   "outputs": [],
   "source": [
    "movies = pd.read_csv('../data/movie.csv')"
   ],
   "metadata": {
    "collapsed": false
   }
  },
  {
   "cell_type": "code",
   "execution_count": 3,
   "outputs": [],
   "source": [
    "movie_actor_director = movies[\n",
    "    [\n",
    "        'actor_1_name',\n",
    "        'actor_2_name',\n",
    "        'actor_3_name',\n",
    "        'director_name'\n",
    "    ]\n",
    "]"
   ],
   "metadata": {
    "collapsed": false
   }
  },
  {
   "cell_type": "code",
   "execution_count": 4,
   "outputs": [
    {
     "data": {
      "text/plain": "      actor_1_name      actor_2_name          actor_3_name      director_name\n0      CCH Pounder  Joel David Moore             Wes Studi      James Cameron\n1      Johnny Depp     Orlando Bloom        Jack Davenport     Gore Verbinski\n2  Christoph Waltz      Rory Kinnear      Stephanie Sigman         Sam Mendes\n3        Tom Hardy    Christian Bale  Joseph Gordon-Levitt  Christopher Nolan\n4      Doug Walker        Rob Walker                   NaN        Doug Walker",
      "text/html": "<div>\n<style scoped>\n    .dataframe tbody tr th:only-of-type {\n        vertical-align: middle;\n    }\n\n    .dataframe tbody tr th {\n        vertical-align: top;\n    }\n\n    .dataframe thead th {\n        text-align: right;\n    }\n</style>\n<table border=\"1\" class=\"dataframe\">\n  <thead>\n    <tr style=\"text-align: right;\">\n      <th></th>\n      <th>actor_1_name</th>\n      <th>actor_2_name</th>\n      <th>actor_3_name</th>\n      <th>director_name</th>\n    </tr>\n  </thead>\n  <tbody>\n    <tr>\n      <th>0</th>\n      <td>CCH Pounder</td>\n      <td>Joel David Moore</td>\n      <td>Wes Studi</td>\n      <td>James Cameron</td>\n    </tr>\n    <tr>\n      <th>1</th>\n      <td>Johnny Depp</td>\n      <td>Orlando Bloom</td>\n      <td>Jack Davenport</td>\n      <td>Gore Verbinski</td>\n    </tr>\n    <tr>\n      <th>2</th>\n      <td>Christoph Waltz</td>\n      <td>Rory Kinnear</td>\n      <td>Stephanie Sigman</td>\n      <td>Sam Mendes</td>\n    </tr>\n    <tr>\n      <th>3</th>\n      <td>Tom Hardy</td>\n      <td>Christian Bale</td>\n      <td>Joseph Gordon-Levitt</td>\n      <td>Christopher Nolan</td>\n    </tr>\n    <tr>\n      <th>4</th>\n      <td>Doug Walker</td>\n      <td>Rob Walker</td>\n      <td>NaN</td>\n      <td>Doug Walker</td>\n    </tr>\n  </tbody>\n</table>\n</div>"
     },
     "execution_count": 4,
     "metadata": {},
     "output_type": "execute_result"
    }
   ],
   "source": [
    "movie_actor_director.head()"
   ],
   "metadata": {
    "collapsed": false
   }
  },
  {
   "cell_type": "code",
   "execution_count": 5,
   "outputs": [
    {
     "data": {
      "text/plain": "pandas.core.frame.DataFrame"
     },
     "execution_count": 5,
     "metadata": {},
     "output_type": "execute_result"
    }
   ],
   "source": [
    "type(movies[['director_name']])"
   ],
   "metadata": {
    "collapsed": false
   }
  },
  {
   "cell_type": "code",
   "execution_count": 6,
   "outputs": [
    {
     "data": {
      "text/plain": "pandas.core.series.Series"
     },
     "execution_count": 6,
     "metadata": {},
     "output_type": "execute_result"
    }
   ],
   "source": [
    "type(movies['director_name'])"
   ],
   "metadata": {
    "collapsed": false
   }
  },
  {
   "cell_type": "code",
   "execution_count": 7,
   "outputs": [
    {
     "data": {
      "text/plain": "pandas.core.frame.DataFrame"
     },
     "execution_count": 7,
     "metadata": {},
     "output_type": "execute_result"
    }
   ],
   "source": [
    "type(movies.loc[:, ['director_name']])"
   ],
   "metadata": {
    "collapsed": false
   }
  },
  {
   "cell_type": "code",
   "execution_count": 8,
   "outputs": [
    {
     "data": {
      "text/plain": "pandas.core.series.Series"
     },
     "execution_count": 8,
     "metadata": {},
     "output_type": "execute_result"
    }
   ],
   "source": [
    "type(movies.loc[:, 'director_name'])"
   ],
   "metadata": {
    "collapsed": false
   }
  },
  {
   "cell_type": "markdown",
   "source": [
    "메서드를 사용해 열 선택"
   ],
   "metadata": {
    "collapsed": false
   }
  },
  {
   "cell_type": "code",
   "execution_count": 9,
   "outputs": [],
   "source": [
    "movies = pd.read_csv('../data/movie.csv')"
   ],
   "metadata": {
    "collapsed": false
   }
  },
  {
   "cell_type": "code",
   "execution_count": 10,
   "outputs": [],
   "source": [
    "def shorten(col):\n",
    "    return (\n",
    "        str(col)\n",
    "        .replace('facebook_likes', 'fb')\n",
    "        .replace('_for_reviews', '')\n",
    "    )"
   ],
   "metadata": {
    "collapsed": false
   }
  },
  {
   "cell_type": "code",
   "execution_count": 11,
   "outputs": [],
   "source": [
    "movies = movies.rename(columns=shorten)"
   ],
   "metadata": {
    "collapsed": false
   }
  },
  {
   "cell_type": "code",
   "execution_count": 13,
   "outputs": [
    {
     "data": {
      "text/plain": "float64    13\nobject     12\nint64       3\ndtype: int64"
     },
     "execution_count": 13,
     "metadata": {},
     "output_type": "execute_result"
    }
   ],
   "source": [
    "movies.dtypes.value_counts()"
   ],
   "metadata": {
    "collapsed": false
   }
  },
  {
   "cell_type": "code",
   "execution_count": 14,
   "outputs": [
    {
     "data": {
      "text/plain": "   num_voted_users  cast_total_fb  movie_fb\n0           886204           4834     33000\n1           471220          48350         0\n2           275868          11700     85000\n3          1144337         106759    164000\n4                8            143         0",
      "text/html": "<div>\n<style scoped>\n    .dataframe tbody tr th:only-of-type {\n        vertical-align: middle;\n    }\n\n    .dataframe tbody tr th {\n        vertical-align: top;\n    }\n\n    .dataframe thead th {\n        text-align: right;\n    }\n</style>\n<table border=\"1\" class=\"dataframe\">\n  <thead>\n    <tr style=\"text-align: right;\">\n      <th></th>\n      <th>num_voted_users</th>\n      <th>cast_total_fb</th>\n      <th>movie_fb</th>\n    </tr>\n  </thead>\n  <tbody>\n    <tr>\n      <th>0</th>\n      <td>886204</td>\n      <td>4834</td>\n      <td>33000</td>\n    </tr>\n    <tr>\n      <th>1</th>\n      <td>471220</td>\n      <td>48350</td>\n      <td>0</td>\n    </tr>\n    <tr>\n      <th>2</th>\n      <td>275868</td>\n      <td>11700</td>\n      <td>85000</td>\n    </tr>\n    <tr>\n      <th>3</th>\n      <td>1144337</td>\n      <td>106759</td>\n      <td>164000</td>\n    </tr>\n    <tr>\n      <th>4</th>\n      <td>8</td>\n      <td>143</td>\n      <td>0</td>\n    </tr>\n  </tbody>\n</table>\n</div>"
     },
     "execution_count": 14,
     "metadata": {},
     "output_type": "execute_result"
    }
   ],
   "source": [
    "movies.select_dtypes(include='int').head()"
   ],
   "metadata": {
    "collapsed": false
   }
  },
  {
   "cell_type": "code",
   "execution_count": 15,
   "outputs": [
    {
     "data": {
      "text/plain": "   num_critic  duration  director_fb  actor_3_fb  actor_1_fb        gross  \\\n0       723.0     178.0          0.0       855.0      1000.0  760505847.0   \n1       302.0     169.0        563.0      1000.0     40000.0  309404152.0   \n2       602.0     148.0          0.0       161.0     11000.0  200074175.0   \n3       813.0     164.0      22000.0     23000.0     27000.0  448130642.0   \n4         NaN       NaN        131.0         NaN       131.0          NaN   \n\n   num_voted_users  cast_total_fb  facenumber_in_poster  num_user  \\\n0           886204           4834                   0.0    3054.0   \n1           471220          48350                   0.0    1238.0   \n2           275868          11700                   1.0     994.0   \n3          1144337         106759                   0.0    2701.0   \n4                8            143                   0.0       NaN   \n\n        budget  title_year  actor_2_fb  imdb_score  aspect_ratio  movie_fb  \n0  237000000.0      2009.0       936.0         7.9          1.78     33000  \n1  300000000.0      2007.0      5000.0         7.1          2.35         0  \n2  245000000.0      2015.0       393.0         6.8          2.35     85000  \n3  250000000.0      2012.0     23000.0         8.5          2.35    164000  \n4          NaN         NaN        12.0         7.1           NaN         0  ",
      "text/html": "<div>\n<style scoped>\n    .dataframe tbody tr th:only-of-type {\n        vertical-align: middle;\n    }\n\n    .dataframe tbody tr th {\n        vertical-align: top;\n    }\n\n    .dataframe thead th {\n        text-align: right;\n    }\n</style>\n<table border=\"1\" class=\"dataframe\">\n  <thead>\n    <tr style=\"text-align: right;\">\n      <th></th>\n      <th>num_critic</th>\n      <th>duration</th>\n      <th>director_fb</th>\n      <th>actor_3_fb</th>\n      <th>actor_1_fb</th>\n      <th>gross</th>\n      <th>num_voted_users</th>\n      <th>cast_total_fb</th>\n      <th>facenumber_in_poster</th>\n      <th>num_user</th>\n      <th>budget</th>\n      <th>title_year</th>\n      <th>actor_2_fb</th>\n      <th>imdb_score</th>\n      <th>aspect_ratio</th>\n      <th>movie_fb</th>\n    </tr>\n  </thead>\n  <tbody>\n    <tr>\n      <th>0</th>\n      <td>723.0</td>\n      <td>178.0</td>\n      <td>0.0</td>\n      <td>855.0</td>\n      <td>1000.0</td>\n      <td>760505847.0</td>\n      <td>886204</td>\n      <td>4834</td>\n      <td>0.0</td>\n      <td>3054.0</td>\n      <td>237000000.0</td>\n      <td>2009.0</td>\n      <td>936.0</td>\n      <td>7.9</td>\n      <td>1.78</td>\n      <td>33000</td>\n    </tr>\n    <tr>\n      <th>1</th>\n      <td>302.0</td>\n      <td>169.0</td>\n      <td>563.0</td>\n      <td>1000.0</td>\n      <td>40000.0</td>\n      <td>309404152.0</td>\n      <td>471220</td>\n      <td>48350</td>\n      <td>0.0</td>\n      <td>1238.0</td>\n      <td>300000000.0</td>\n      <td>2007.0</td>\n      <td>5000.0</td>\n      <td>7.1</td>\n      <td>2.35</td>\n      <td>0</td>\n    </tr>\n    <tr>\n      <th>2</th>\n      <td>602.0</td>\n      <td>148.0</td>\n      <td>0.0</td>\n      <td>161.0</td>\n      <td>11000.0</td>\n      <td>200074175.0</td>\n      <td>275868</td>\n      <td>11700</td>\n      <td>1.0</td>\n      <td>994.0</td>\n      <td>245000000.0</td>\n      <td>2015.0</td>\n      <td>393.0</td>\n      <td>6.8</td>\n      <td>2.35</td>\n      <td>85000</td>\n    </tr>\n    <tr>\n      <th>3</th>\n      <td>813.0</td>\n      <td>164.0</td>\n      <td>22000.0</td>\n      <td>23000.0</td>\n      <td>27000.0</td>\n      <td>448130642.0</td>\n      <td>1144337</td>\n      <td>106759</td>\n      <td>0.0</td>\n      <td>2701.0</td>\n      <td>250000000.0</td>\n      <td>2012.0</td>\n      <td>23000.0</td>\n      <td>8.5</td>\n      <td>2.35</td>\n      <td>164000</td>\n    </tr>\n    <tr>\n      <th>4</th>\n      <td>NaN</td>\n      <td>NaN</td>\n      <td>131.0</td>\n      <td>NaN</td>\n      <td>131.0</td>\n      <td>NaN</td>\n      <td>8</td>\n      <td>143</td>\n      <td>0.0</td>\n      <td>NaN</td>\n      <td>NaN</td>\n      <td>NaN</td>\n      <td>12.0</td>\n      <td>7.1</td>\n      <td>NaN</td>\n      <td>0</td>\n    </tr>\n  </tbody>\n</table>\n</div>"
     },
     "execution_count": 15,
     "metadata": {},
     "output_type": "execute_result"
    }
   ],
   "source": [
    "movies.select_dtypes(include='number').head()"
   ],
   "metadata": {
    "collapsed": false
   }
  },
  {
   "cell_type": "code",
   "execution_count": 16,
   "outputs": [
    {
     "data": {
      "text/plain": "   color      director_name      actor_2_name  \\\n0  Color      James Cameron  Joel David Moore   \n1  Color     Gore Verbinski     Orlando Bloom   \n2  Color         Sam Mendes      Rory Kinnear   \n3  Color  Christopher Nolan    Christian Bale   \n4    NaN        Doug Walker        Rob Walker   \n\n                            genres     actor_1_name  \\\n0  Action|Adventure|Fantasy|Sci-Fi      CCH Pounder   \n1         Action|Adventure|Fantasy      Johnny Depp   \n2        Action|Adventure|Thriller  Christoph Waltz   \n3                  Action|Thriller        Tom Hardy   \n4                      Documentary      Doug Walker   \n\n                                  movie_title  num_voted_users  cast_total_fb  \\\n0                                      Avatar           886204           4834   \n1    Pirates of the Caribbean: At World's End           471220          48350   \n2                                     Spectre           275868          11700   \n3                       The Dark Knight Rises          1144337         106759   \n4  Star Wars: Episode VII - The Force Awakens                8            143   \n\n           actor_3_name                                      plot_keywords  \\\n0             Wes Studi             avatar|future|marine|native|paraplegic   \n1        Jack Davenport  goddess|marriage ceremony|marriage proposal|pi...   \n2      Stephanie Sigman                bomb|espionage|sequel|spy|terrorist   \n3  Joseph Gordon-Levitt  deception|imprisonment|lawlessness|police offi...   \n4                   NaN                                                NaN   \n\n                                     movie_imdb_link language country  \\\n0  http://www.imdb.com/title/tt0499549/?ref_=fn_t...  English     USA   \n1  http://www.imdb.com/title/tt0449088/?ref_=fn_t...  English     USA   \n2  http://www.imdb.com/title/tt2379713/?ref_=fn_t...  English      UK   \n3  http://www.imdb.com/title/tt1345836/?ref_=fn_t...  English     USA   \n4  http://www.imdb.com/title/tt5289954/?ref_=fn_t...      NaN     NaN   \n\n  content_rating  movie_fb  \n0          PG-13     33000  \n1          PG-13         0  \n2          PG-13     85000  \n3          PG-13    164000  \n4            NaN         0  ",
      "text/html": "<div>\n<style scoped>\n    .dataframe tbody tr th:only-of-type {\n        vertical-align: middle;\n    }\n\n    .dataframe tbody tr th {\n        vertical-align: top;\n    }\n\n    .dataframe thead th {\n        text-align: right;\n    }\n</style>\n<table border=\"1\" class=\"dataframe\">\n  <thead>\n    <tr style=\"text-align: right;\">\n      <th></th>\n      <th>color</th>\n      <th>director_name</th>\n      <th>actor_2_name</th>\n      <th>genres</th>\n      <th>actor_1_name</th>\n      <th>movie_title</th>\n      <th>num_voted_users</th>\n      <th>cast_total_fb</th>\n      <th>actor_3_name</th>\n      <th>plot_keywords</th>\n      <th>movie_imdb_link</th>\n      <th>language</th>\n      <th>country</th>\n      <th>content_rating</th>\n      <th>movie_fb</th>\n    </tr>\n  </thead>\n  <tbody>\n    <tr>\n      <th>0</th>\n      <td>Color</td>\n      <td>James Cameron</td>\n      <td>Joel David Moore</td>\n      <td>Action|Adventure|Fantasy|Sci-Fi</td>\n      <td>CCH Pounder</td>\n      <td>Avatar</td>\n      <td>886204</td>\n      <td>4834</td>\n      <td>Wes Studi</td>\n      <td>avatar|future|marine|native|paraplegic</td>\n      <td>http://www.imdb.com/title/tt0499549/?ref_=fn_t...</td>\n      <td>English</td>\n      <td>USA</td>\n      <td>PG-13</td>\n      <td>33000</td>\n    </tr>\n    <tr>\n      <th>1</th>\n      <td>Color</td>\n      <td>Gore Verbinski</td>\n      <td>Orlando Bloom</td>\n      <td>Action|Adventure|Fantasy</td>\n      <td>Johnny Depp</td>\n      <td>Pirates of the Caribbean: At World's End</td>\n      <td>471220</td>\n      <td>48350</td>\n      <td>Jack Davenport</td>\n      <td>goddess|marriage ceremony|marriage proposal|pi...</td>\n      <td>http://www.imdb.com/title/tt0449088/?ref_=fn_t...</td>\n      <td>English</td>\n      <td>USA</td>\n      <td>PG-13</td>\n      <td>0</td>\n    </tr>\n    <tr>\n      <th>2</th>\n      <td>Color</td>\n      <td>Sam Mendes</td>\n      <td>Rory Kinnear</td>\n      <td>Action|Adventure|Thriller</td>\n      <td>Christoph Waltz</td>\n      <td>Spectre</td>\n      <td>275868</td>\n      <td>11700</td>\n      <td>Stephanie Sigman</td>\n      <td>bomb|espionage|sequel|spy|terrorist</td>\n      <td>http://www.imdb.com/title/tt2379713/?ref_=fn_t...</td>\n      <td>English</td>\n      <td>UK</td>\n      <td>PG-13</td>\n      <td>85000</td>\n    </tr>\n    <tr>\n      <th>3</th>\n      <td>Color</td>\n      <td>Christopher Nolan</td>\n      <td>Christian Bale</td>\n      <td>Action|Thriller</td>\n      <td>Tom Hardy</td>\n      <td>The Dark Knight Rises</td>\n      <td>1144337</td>\n      <td>106759</td>\n      <td>Joseph Gordon-Levitt</td>\n      <td>deception|imprisonment|lawlessness|police offi...</td>\n      <td>http://www.imdb.com/title/tt1345836/?ref_=fn_t...</td>\n      <td>English</td>\n      <td>USA</td>\n      <td>PG-13</td>\n      <td>164000</td>\n    </tr>\n    <tr>\n      <th>4</th>\n      <td>NaN</td>\n      <td>Doug Walker</td>\n      <td>Rob Walker</td>\n      <td>Documentary</td>\n      <td>Doug Walker</td>\n      <td>Star Wars: Episode VII - The Force Awakens</td>\n      <td>8</td>\n      <td>143</td>\n      <td>NaN</td>\n      <td>NaN</td>\n      <td>http://www.imdb.com/title/tt5289954/?ref_=fn_t...</td>\n      <td>NaN</td>\n      <td>NaN</td>\n      <td>NaN</td>\n      <td>0</td>\n    </tr>\n  </tbody>\n</table>\n</div>"
     },
     "execution_count": 16,
     "metadata": {},
     "output_type": "execute_result"
    }
   ],
   "source": [
    "movies.select_dtypes(include=['int', 'object']).head()"
   ],
   "metadata": {
    "collapsed": false
   }
  },
  {
   "cell_type": "code",
   "execution_count": 17,
   "outputs": [
    {
     "data": {
      "text/plain": "   color      director_name      actor_2_name  \\\n0  Color      James Cameron  Joel David Moore   \n1  Color     Gore Verbinski     Orlando Bloom   \n2  Color         Sam Mendes      Rory Kinnear   \n3  Color  Christopher Nolan    Christian Bale   \n4    NaN        Doug Walker        Rob Walker   \n\n                            genres     actor_1_name  \\\n0  Action|Adventure|Fantasy|Sci-Fi      CCH Pounder   \n1         Action|Adventure|Fantasy      Johnny Depp   \n2        Action|Adventure|Thriller  Christoph Waltz   \n3                  Action|Thriller        Tom Hardy   \n4                      Documentary      Doug Walker   \n\n                                  movie_title  num_voted_users  cast_total_fb  \\\n0                                      Avatar           886204           4834   \n1    Pirates of the Caribbean: At World's End           471220          48350   \n2                                     Spectre           275868          11700   \n3                       The Dark Knight Rises          1144337         106759   \n4  Star Wars: Episode VII - The Force Awakens                8            143   \n\n           actor_3_name                                      plot_keywords  \\\n0             Wes Studi             avatar|future|marine|native|paraplegic   \n1        Jack Davenport  goddess|marriage ceremony|marriage proposal|pi...   \n2      Stephanie Sigman                bomb|espionage|sequel|spy|terrorist   \n3  Joseph Gordon-Levitt  deception|imprisonment|lawlessness|police offi...   \n4                   NaN                                                NaN   \n\n                                     movie_imdb_link language country  \\\n0  http://www.imdb.com/title/tt0499549/?ref_=fn_t...  English     USA   \n1  http://www.imdb.com/title/tt0449088/?ref_=fn_t...  English     USA   \n2  http://www.imdb.com/title/tt2379713/?ref_=fn_t...  English      UK   \n3  http://www.imdb.com/title/tt1345836/?ref_=fn_t...  English     USA   \n4  http://www.imdb.com/title/tt5289954/?ref_=fn_t...      NaN     NaN   \n\n  content_rating  movie_fb  \n0          PG-13     33000  \n1          PG-13         0  \n2          PG-13     85000  \n3          PG-13    164000  \n4            NaN         0  ",
      "text/html": "<div>\n<style scoped>\n    .dataframe tbody tr th:only-of-type {\n        vertical-align: middle;\n    }\n\n    .dataframe tbody tr th {\n        vertical-align: top;\n    }\n\n    .dataframe thead th {\n        text-align: right;\n    }\n</style>\n<table border=\"1\" class=\"dataframe\">\n  <thead>\n    <tr style=\"text-align: right;\">\n      <th></th>\n      <th>color</th>\n      <th>director_name</th>\n      <th>actor_2_name</th>\n      <th>genres</th>\n      <th>actor_1_name</th>\n      <th>movie_title</th>\n      <th>num_voted_users</th>\n      <th>cast_total_fb</th>\n      <th>actor_3_name</th>\n      <th>plot_keywords</th>\n      <th>movie_imdb_link</th>\n      <th>language</th>\n      <th>country</th>\n      <th>content_rating</th>\n      <th>movie_fb</th>\n    </tr>\n  </thead>\n  <tbody>\n    <tr>\n      <th>0</th>\n      <td>Color</td>\n      <td>James Cameron</td>\n      <td>Joel David Moore</td>\n      <td>Action|Adventure|Fantasy|Sci-Fi</td>\n      <td>CCH Pounder</td>\n      <td>Avatar</td>\n      <td>886204</td>\n      <td>4834</td>\n      <td>Wes Studi</td>\n      <td>avatar|future|marine|native|paraplegic</td>\n      <td>http://www.imdb.com/title/tt0499549/?ref_=fn_t...</td>\n      <td>English</td>\n      <td>USA</td>\n      <td>PG-13</td>\n      <td>33000</td>\n    </tr>\n    <tr>\n      <th>1</th>\n      <td>Color</td>\n      <td>Gore Verbinski</td>\n      <td>Orlando Bloom</td>\n      <td>Action|Adventure|Fantasy</td>\n      <td>Johnny Depp</td>\n      <td>Pirates of the Caribbean: At World's End</td>\n      <td>471220</td>\n      <td>48350</td>\n      <td>Jack Davenport</td>\n      <td>goddess|marriage ceremony|marriage proposal|pi...</td>\n      <td>http://www.imdb.com/title/tt0449088/?ref_=fn_t...</td>\n      <td>English</td>\n      <td>USA</td>\n      <td>PG-13</td>\n      <td>0</td>\n    </tr>\n    <tr>\n      <th>2</th>\n      <td>Color</td>\n      <td>Sam Mendes</td>\n      <td>Rory Kinnear</td>\n      <td>Action|Adventure|Thriller</td>\n      <td>Christoph Waltz</td>\n      <td>Spectre</td>\n      <td>275868</td>\n      <td>11700</td>\n      <td>Stephanie Sigman</td>\n      <td>bomb|espionage|sequel|spy|terrorist</td>\n      <td>http://www.imdb.com/title/tt2379713/?ref_=fn_t...</td>\n      <td>English</td>\n      <td>UK</td>\n      <td>PG-13</td>\n      <td>85000</td>\n    </tr>\n    <tr>\n      <th>3</th>\n      <td>Color</td>\n      <td>Christopher Nolan</td>\n      <td>Christian Bale</td>\n      <td>Action|Thriller</td>\n      <td>Tom Hardy</td>\n      <td>The Dark Knight Rises</td>\n      <td>1144337</td>\n      <td>106759</td>\n      <td>Joseph Gordon-Levitt</td>\n      <td>deception|imprisonment|lawlessness|police offi...</td>\n      <td>http://www.imdb.com/title/tt1345836/?ref_=fn_t...</td>\n      <td>English</td>\n      <td>USA</td>\n      <td>PG-13</td>\n      <td>164000</td>\n    </tr>\n    <tr>\n      <th>4</th>\n      <td>NaN</td>\n      <td>Doug Walker</td>\n      <td>Rob Walker</td>\n      <td>Documentary</td>\n      <td>Doug Walker</td>\n      <td>Star Wars: Episode VII - The Force Awakens</td>\n      <td>8</td>\n      <td>143</td>\n      <td>NaN</td>\n      <td>NaN</td>\n      <td>http://www.imdb.com/title/tt5289954/?ref_=fn_t...</td>\n      <td>NaN</td>\n      <td>NaN</td>\n      <td>NaN</td>\n      <td>0</td>\n    </tr>\n  </tbody>\n</table>\n</div>"
     },
     "execution_count": 17,
     "metadata": {},
     "output_type": "execute_result"
    }
   ],
   "source": [
    "movies.select_dtypes(exclude='float').head()"
   ],
   "metadata": {
    "collapsed": false
   }
  },
  {
   "cell_type": "code",
   "execution_count": 18,
   "outputs": [
    {
     "data": {
      "text/plain": "   director_fb  actor_3_fb  actor_1_fb  cast_total_fb  actor_2_fb  movie_fb\n0          0.0       855.0      1000.0           4834       936.0     33000\n1        563.0      1000.0     40000.0          48350      5000.0         0\n2          0.0       161.0     11000.0          11700       393.0     85000\n3      22000.0     23000.0     27000.0         106759     23000.0    164000\n4        131.0         NaN       131.0            143        12.0         0",
      "text/html": "<div>\n<style scoped>\n    .dataframe tbody tr th:only-of-type {\n        vertical-align: middle;\n    }\n\n    .dataframe tbody tr th {\n        vertical-align: top;\n    }\n\n    .dataframe thead th {\n        text-align: right;\n    }\n</style>\n<table border=\"1\" class=\"dataframe\">\n  <thead>\n    <tr style=\"text-align: right;\">\n      <th></th>\n      <th>director_fb</th>\n      <th>actor_3_fb</th>\n      <th>actor_1_fb</th>\n      <th>cast_total_fb</th>\n      <th>actor_2_fb</th>\n      <th>movie_fb</th>\n    </tr>\n  </thead>\n  <tbody>\n    <tr>\n      <th>0</th>\n      <td>0.0</td>\n      <td>855.0</td>\n      <td>1000.0</td>\n      <td>4834</td>\n      <td>936.0</td>\n      <td>33000</td>\n    </tr>\n    <tr>\n      <th>1</th>\n      <td>563.0</td>\n      <td>1000.0</td>\n      <td>40000.0</td>\n      <td>48350</td>\n      <td>5000.0</td>\n      <td>0</td>\n    </tr>\n    <tr>\n      <th>2</th>\n      <td>0.0</td>\n      <td>161.0</td>\n      <td>11000.0</td>\n      <td>11700</td>\n      <td>393.0</td>\n      <td>85000</td>\n    </tr>\n    <tr>\n      <th>3</th>\n      <td>22000.0</td>\n      <td>23000.0</td>\n      <td>27000.0</td>\n      <td>106759</td>\n      <td>23000.0</td>\n      <td>164000</td>\n    </tr>\n    <tr>\n      <th>4</th>\n      <td>131.0</td>\n      <td>NaN</td>\n      <td>131.0</td>\n      <td>143</td>\n      <td>12.0</td>\n      <td>0</td>\n    </tr>\n  </tbody>\n</table>\n</div>"
     },
     "execution_count": 18,
     "metadata": {},
     "output_type": "execute_result"
    }
   ],
   "source": [
    "movies.filter(like='fb').head()"
   ],
   "metadata": {
    "collapsed": false
   }
  },
  {
   "cell_type": "code",
   "execution_count": 19,
   "outputs": [],
   "source": [
    "cols = [\n",
    "    'actor_1_name',\n",
    "    'actor_2_name',\n",
    "    'actor_3_name',\n",
    "    'director_name'\n",
    "]"
   ],
   "metadata": {
    "collapsed": false
   }
  },
  {
   "cell_type": "code",
   "execution_count": 20,
   "outputs": [
    {
     "data": {
      "text/plain": "      actor_1_name      actor_2_name          actor_3_name      director_name\n0      CCH Pounder  Joel David Moore             Wes Studi      James Cameron\n1      Johnny Depp     Orlando Bloom        Jack Davenport     Gore Verbinski\n2  Christoph Waltz      Rory Kinnear      Stephanie Sigman         Sam Mendes\n3        Tom Hardy    Christian Bale  Joseph Gordon-Levitt  Christopher Nolan\n4      Doug Walker        Rob Walker                   NaN        Doug Walker",
      "text/html": "<div>\n<style scoped>\n    .dataframe tbody tr th:only-of-type {\n        vertical-align: middle;\n    }\n\n    .dataframe tbody tr th {\n        vertical-align: top;\n    }\n\n    .dataframe thead th {\n        text-align: right;\n    }\n</style>\n<table border=\"1\" class=\"dataframe\">\n  <thead>\n    <tr style=\"text-align: right;\">\n      <th></th>\n      <th>actor_1_name</th>\n      <th>actor_2_name</th>\n      <th>actor_3_name</th>\n      <th>director_name</th>\n    </tr>\n  </thead>\n  <tbody>\n    <tr>\n      <th>0</th>\n      <td>CCH Pounder</td>\n      <td>Joel David Moore</td>\n      <td>Wes Studi</td>\n      <td>James Cameron</td>\n    </tr>\n    <tr>\n      <th>1</th>\n      <td>Johnny Depp</td>\n      <td>Orlando Bloom</td>\n      <td>Jack Davenport</td>\n      <td>Gore Verbinski</td>\n    </tr>\n    <tr>\n      <th>2</th>\n      <td>Christoph Waltz</td>\n      <td>Rory Kinnear</td>\n      <td>Stephanie Sigman</td>\n      <td>Sam Mendes</td>\n    </tr>\n    <tr>\n      <th>3</th>\n      <td>Tom Hardy</td>\n      <td>Christian Bale</td>\n      <td>Joseph Gordon-Levitt</td>\n      <td>Christopher Nolan</td>\n    </tr>\n    <tr>\n      <th>4</th>\n      <td>Doug Walker</td>\n      <td>Rob Walker</td>\n      <td>NaN</td>\n      <td>Doug Walker</td>\n    </tr>\n  </tbody>\n</table>\n</div>"
     },
     "execution_count": 20,
     "metadata": {},
     "output_type": "execute_result"
    }
   ],
   "source": [
    "movies.filter(items=cols).head()"
   ],
   "metadata": {
    "collapsed": false
   }
  },
  {
   "cell_type": "markdown",
   "source": [
    "열 이름 정렬"
   ],
   "metadata": {
    "collapsed": false
   }
  },
  {
   "cell_type": "code",
   "execution_count": 21,
   "outputs": [],
   "source": [
    "movies = pd.read_csv('../data/movie.csv')"
   ],
   "metadata": {
    "collapsed": false
   }
  },
  {
   "cell_type": "code",
   "execution_count": 22,
   "outputs": [],
   "source": [
    "def shorten(col):\n",
    "    return col.replace('facebook_likes', 'fb').replace(\n",
    "        '_for_reviews', ''\n",
    "    )"
   ],
   "metadata": {
    "collapsed": false
   }
  },
  {
   "cell_type": "code",
   "execution_count": 23,
   "outputs": [],
   "source": [
    "movies = movies.rename(columns=shorten)"
   ],
   "metadata": {
    "collapsed": false
   }
  },
  {
   "cell_type": "code",
   "execution_count": 25,
   "outputs": [
    {
     "data": {
      "text/plain": "Index(['color', 'director_name', 'num_critic', 'duration', 'director_fb',\n       'actor_3_fb', 'actor_2_name', 'actor_1_fb', 'gross', 'genres',\n       'actor_1_name', 'movie_title', 'num_voted_users', 'cast_total_fb',\n       'actor_3_name', 'facenumber_in_poster', 'plot_keywords',\n       'movie_imdb_link', 'num_user', 'language', 'country', 'content_rating',\n       'budget', 'title_year', 'actor_2_fb', 'imdb_score', 'aspect_ratio',\n       'movie_fb'],\n      dtype='object')"
     },
     "execution_count": 25,
     "metadata": {},
     "output_type": "execute_result"
    }
   ],
   "source": [
    "movies.columns"
   ],
   "metadata": {
    "collapsed": false
   }
  },
  {
   "cell_type": "code",
   "execution_count": 26,
   "outputs": [],
   "source": [
    "cat_core = [\n",
    "    'movie_title',\n",
    "    'title_year',\n",
    "    'content_rating',\n",
    "    'genres'\n",
    "]"
   ],
   "metadata": {
    "collapsed": false
   }
  },
  {
   "cell_type": "code",
   "execution_count": 27,
   "outputs": [],
   "source": [
    "cat_people = [\n",
    "    'director_name',\n",
    "    'actor_1_name',\n",
    "    'actor_2_name',\n",
    "    'actor_3_name'\n",
    "]"
   ],
   "metadata": {
    "collapsed": false
   }
  },
  {
   "cell_type": "code",
   "execution_count": 28,
   "outputs": [],
   "source": [
    "cat_other = [\n",
    "    'color',\n",
    "    'country',\n",
    "    'language',\n",
    "    'plot_keywords',\n",
    "    'movie_imdb_link'\n",
    "]"
   ],
   "metadata": {
    "collapsed": false
   }
  },
  {
   "cell_type": "code",
   "execution_count": 29,
   "outputs": [],
   "source": [
    "cont_fb = [\n",
    "    'director_fb',\n",
    "    'actor_1_fb',\n",
    "    'actor_2_fb',\n",
    "    'actor_3_fb',\n",
    "    'cast_total_fb',\n",
    "    'movie_fb'\n",
    "]"
   ],
   "metadata": {
    "collapsed": false
   }
  },
  {
   "cell_type": "code",
   "execution_count": 30,
   "outputs": [],
   "source": [
    "cont_finance = ['budget', 'gross']"
   ],
   "metadata": {
    "collapsed": false
   }
  },
  {
   "cell_type": "code",
   "execution_count": 31,
   "outputs": [],
   "source": [
    "cont_num_reviews = [\n",
    "    'num_voted_users',\n",
    "    'num_user',\n",
    "    'num_critic'\n",
    "]"
   ],
   "metadata": {
    "collapsed": false
   }
  },
  {
   "cell_type": "code",
   "execution_count": 32,
   "outputs": [],
   "source": [
    "cont_other = [\n",
    "    'imdb_score',\n",
    "    'duration',\n",
    "    'aspect_ratio',\n",
    "    'facenumber_in_poster'\n",
    "]"
   ],
   "metadata": {
    "collapsed": false
   }
  },
  {
   "cell_type": "code",
   "execution_count": 35,
   "outputs": [],
   "source": [
    "new_col_order = (\n",
    "    cat_core\n",
    "    + cat_people\n",
    "    + cat_other\n",
    "    + cont_fb\n",
    "    + cont_finance\n",
    "    + cont_num_reviews\n",
    "    + cont_other\n",
    ")"
   ],
   "metadata": {
    "collapsed": false
   }
  },
  {
   "cell_type": "code",
   "execution_count": 36,
   "outputs": [
    {
     "data": {
      "text/plain": "True"
     },
     "execution_count": 36,
     "metadata": {},
     "output_type": "execute_result"
    }
   ],
   "source": [
    "set(movies.columns) == set(new_col_order)"
   ],
   "metadata": {
    "collapsed": false
   }
  },
  {
   "cell_type": "code",
   "execution_count": 37,
   "outputs": [
    {
     "data": {
      "text/plain": "                                  movie_title  title_year content_rating  \\\n0                                      Avatar      2009.0          PG-13   \n1    Pirates of the Caribbean: At World's End      2007.0          PG-13   \n2                                     Spectre      2015.0          PG-13   \n3                       The Dark Knight Rises      2012.0          PG-13   \n4  Star Wars: Episode VII - The Force Awakens         NaN            NaN   \n\n                            genres      director_name     actor_1_name  \\\n0  Action|Adventure|Fantasy|Sci-Fi      James Cameron      CCH Pounder   \n1         Action|Adventure|Fantasy     Gore Verbinski      Johnny Depp   \n2        Action|Adventure|Thriller         Sam Mendes  Christoph Waltz   \n3                  Action|Thriller  Christopher Nolan        Tom Hardy   \n4                      Documentary        Doug Walker      Doug Walker   \n\n       actor_2_name          actor_3_name  color country  ... movie_fb  \\\n0  Joel David Moore             Wes Studi  Color     USA  ...    33000   \n1     Orlando Bloom        Jack Davenport  Color     USA  ...        0   \n2      Rory Kinnear      Stephanie Sigman  Color      UK  ...    85000   \n3    Christian Bale  Joseph Gordon-Levitt  Color     USA  ...   164000   \n4        Rob Walker                   NaN    NaN     NaN  ...        0   \n\n        budget        gross  num_voted_users  num_user  num_critic  \\\n0  237000000.0  760505847.0           886204    3054.0       723.0   \n1  300000000.0  309404152.0           471220    1238.0       302.0   \n2  245000000.0  200074175.0           275868     994.0       602.0   \n3  250000000.0  448130642.0          1144337    2701.0       813.0   \n4          NaN          NaN                8       NaN         NaN   \n\n   imdb_score  duration  aspect_ratio  facenumber_in_poster  \n0         7.9     178.0          1.78                   0.0  \n1         7.1     169.0          2.35                   0.0  \n2         6.8     148.0          2.35                   1.0  \n3         8.5     164.0          2.35                   0.0  \n4         7.1       NaN           NaN                   0.0  \n\n[5 rows x 28 columns]",
      "text/html": "<div>\n<style scoped>\n    .dataframe tbody tr th:only-of-type {\n        vertical-align: middle;\n    }\n\n    .dataframe tbody tr th {\n        vertical-align: top;\n    }\n\n    .dataframe thead th {\n        text-align: right;\n    }\n</style>\n<table border=\"1\" class=\"dataframe\">\n  <thead>\n    <tr style=\"text-align: right;\">\n      <th></th>\n      <th>movie_title</th>\n      <th>title_year</th>\n      <th>content_rating</th>\n      <th>genres</th>\n      <th>director_name</th>\n      <th>actor_1_name</th>\n      <th>actor_2_name</th>\n      <th>actor_3_name</th>\n      <th>color</th>\n      <th>country</th>\n      <th>...</th>\n      <th>movie_fb</th>\n      <th>budget</th>\n      <th>gross</th>\n      <th>num_voted_users</th>\n      <th>num_user</th>\n      <th>num_critic</th>\n      <th>imdb_score</th>\n      <th>duration</th>\n      <th>aspect_ratio</th>\n      <th>facenumber_in_poster</th>\n    </tr>\n  </thead>\n  <tbody>\n    <tr>\n      <th>0</th>\n      <td>Avatar</td>\n      <td>2009.0</td>\n      <td>PG-13</td>\n      <td>Action|Adventure|Fantasy|Sci-Fi</td>\n      <td>James Cameron</td>\n      <td>CCH Pounder</td>\n      <td>Joel David Moore</td>\n      <td>Wes Studi</td>\n      <td>Color</td>\n      <td>USA</td>\n      <td>...</td>\n      <td>33000</td>\n      <td>237000000.0</td>\n      <td>760505847.0</td>\n      <td>886204</td>\n      <td>3054.0</td>\n      <td>723.0</td>\n      <td>7.9</td>\n      <td>178.0</td>\n      <td>1.78</td>\n      <td>0.0</td>\n    </tr>\n    <tr>\n      <th>1</th>\n      <td>Pirates of the Caribbean: At World's End</td>\n      <td>2007.0</td>\n      <td>PG-13</td>\n      <td>Action|Adventure|Fantasy</td>\n      <td>Gore Verbinski</td>\n      <td>Johnny Depp</td>\n      <td>Orlando Bloom</td>\n      <td>Jack Davenport</td>\n      <td>Color</td>\n      <td>USA</td>\n      <td>...</td>\n      <td>0</td>\n      <td>300000000.0</td>\n      <td>309404152.0</td>\n      <td>471220</td>\n      <td>1238.0</td>\n      <td>302.0</td>\n      <td>7.1</td>\n      <td>169.0</td>\n      <td>2.35</td>\n      <td>0.0</td>\n    </tr>\n    <tr>\n      <th>2</th>\n      <td>Spectre</td>\n      <td>2015.0</td>\n      <td>PG-13</td>\n      <td>Action|Adventure|Thriller</td>\n      <td>Sam Mendes</td>\n      <td>Christoph Waltz</td>\n      <td>Rory Kinnear</td>\n      <td>Stephanie Sigman</td>\n      <td>Color</td>\n      <td>UK</td>\n      <td>...</td>\n      <td>85000</td>\n      <td>245000000.0</td>\n      <td>200074175.0</td>\n      <td>275868</td>\n      <td>994.0</td>\n      <td>602.0</td>\n      <td>6.8</td>\n      <td>148.0</td>\n      <td>2.35</td>\n      <td>1.0</td>\n    </tr>\n    <tr>\n      <th>3</th>\n      <td>The Dark Knight Rises</td>\n      <td>2012.0</td>\n      <td>PG-13</td>\n      <td>Action|Thriller</td>\n      <td>Christopher Nolan</td>\n      <td>Tom Hardy</td>\n      <td>Christian Bale</td>\n      <td>Joseph Gordon-Levitt</td>\n      <td>Color</td>\n      <td>USA</td>\n      <td>...</td>\n      <td>164000</td>\n      <td>250000000.0</td>\n      <td>448130642.0</td>\n      <td>1144337</td>\n      <td>2701.0</td>\n      <td>813.0</td>\n      <td>8.5</td>\n      <td>164.0</td>\n      <td>2.35</td>\n      <td>0.0</td>\n    </tr>\n    <tr>\n      <th>4</th>\n      <td>Star Wars: Episode VII - The Force Awakens</td>\n      <td>NaN</td>\n      <td>NaN</td>\n      <td>Documentary</td>\n      <td>Doug Walker</td>\n      <td>Doug Walker</td>\n      <td>Rob Walker</td>\n      <td>NaN</td>\n      <td>NaN</td>\n      <td>NaN</td>\n      <td>...</td>\n      <td>0</td>\n      <td>NaN</td>\n      <td>NaN</td>\n      <td>8</td>\n      <td>NaN</td>\n      <td>NaN</td>\n      <td>7.1</td>\n      <td>NaN</td>\n      <td>NaN</td>\n      <td>0.0</td>\n    </tr>\n  </tbody>\n</table>\n<p>5 rows × 28 columns</p>\n</div>"
     },
     "execution_count": 37,
     "metadata": {},
     "output_type": "execute_result"
    }
   ],
   "source": [
    "movies[new_col_order].head()"
   ],
   "metadata": {
    "collapsed": false
   }
  },
  {
   "cell_type": "markdown",
   "source": [
    "DataFrame 요약"
   ],
   "metadata": {
    "collapsed": false
   }
  },
  {
   "cell_type": "code",
   "execution_count": 38,
   "outputs": [],
   "source": [
    "movies = pd.read_csv('../data/movie.csv')"
   ],
   "metadata": {
    "collapsed": false
   }
  },
  {
   "cell_type": "code",
   "execution_count": 39,
   "outputs": [
    {
     "data": {
      "text/plain": "(4916, 28)"
     },
     "execution_count": 39,
     "metadata": {},
     "output_type": "execute_result"
    }
   ],
   "source": [
    "movies.shape"
   ],
   "metadata": {
    "collapsed": false
   }
  },
  {
   "cell_type": "code",
   "execution_count": 40,
   "outputs": [
    {
     "data": {
      "text/plain": "137648"
     },
     "execution_count": 40,
     "metadata": {},
     "output_type": "execute_result"
    }
   ],
   "source": [
    "movies.size"
   ],
   "metadata": {
    "collapsed": false
   }
  },
  {
   "cell_type": "code",
   "execution_count": 41,
   "outputs": [
    {
     "data": {
      "text/plain": "2"
     },
     "execution_count": 41,
     "metadata": {},
     "output_type": "execute_result"
    }
   ],
   "source": [
    "movies.ndim"
   ],
   "metadata": {
    "collapsed": false
   }
  },
  {
   "cell_type": "code",
   "execution_count": 42,
   "outputs": [
    {
     "data": {
      "text/plain": "4916"
     },
     "execution_count": 42,
     "metadata": {},
     "output_type": "execute_result"
    }
   ],
   "source": [
    "len(movies)"
   ],
   "metadata": {
    "collapsed": false
   }
  },
  {
   "cell_type": "code",
   "execution_count": 43,
   "outputs": [
    {
     "data": {
      "text/plain": "color                        4897\ndirector_name                4814\nnum_critic_for_reviews       4867\nduration                     4901\ndirector_facebook_likes      4814\nactor_3_facebook_likes       4893\nactor_2_name                 4903\nactor_1_facebook_likes       4909\ngross                        4054\ngenres                       4916\nactor_1_name                 4909\nmovie_title                  4916\nnum_voted_users              4916\ncast_total_facebook_likes    4916\nactor_3_name                 4893\nfacenumber_in_poster         4903\nplot_keywords                4764\nmovie_imdb_link              4916\nnum_user_for_reviews         4895\nlanguage                     4904\ncountry                      4911\ncontent_rating               4616\nbudget                       4432\ntitle_year                   4810\nactor_2_facebook_likes       4903\nimdb_score                   4916\naspect_ratio                 4590\nmovie_facebook_likes         4916\ndtype: int64"
     },
     "execution_count": 43,
     "metadata": {},
     "output_type": "execute_result"
    }
   ],
   "source": [
    "movies.count()"
   ],
   "metadata": {
    "collapsed": false
   }
  },
  {
   "cell_type": "code",
   "execution_count": 44,
   "outputs": [
    {
     "name": "stderr",
     "output_type": "stream",
     "text": [
      "/var/folders/j_/hylrqd052y9czkfmjyyc7n7r0000gn/T/ipykernel_6241/593434307.py:1: FutureWarning: The default value of numeric_only in DataFrame.min is deprecated. In a future version, it will default to False. In addition, specifying 'numeric_only=None' is deprecated. Select only valid columns or specify the value of numeric_only to silence this warning.\n",
      "  movies.min()\n"
     ]
    },
    {
     "data": {
      "text/plain": "num_critic_for_reviews                                                     1.0\nduration                                                                   7.0\ndirector_facebook_likes                                                    0.0\nactor_3_facebook_likes                                                     0.0\nactor_1_facebook_likes                                                     0.0\ngross                                                                    162.0\ngenres                                                                  Action\nmovie_title                                                            #Horror\nnum_voted_users                                                              5\ncast_total_facebook_likes                                                    0\nfacenumber_in_poster                                                       0.0\nmovie_imdb_link              http://www.imdb.com/title/tt0006864/?ref_=fn_t...\nnum_user_for_reviews                                                       1.0\nbudget                                                                   218.0\ntitle_year                                                              1916.0\nactor_2_facebook_likes                                                     0.0\nimdb_score                                                                 1.6\naspect_ratio                                                              1.18\nmovie_facebook_likes                                                         0\ndtype: object"
     },
     "execution_count": 44,
     "metadata": {},
     "output_type": "execute_result"
    }
   ],
   "source": [
    "movies.min()"
   ],
   "metadata": {
    "collapsed": false
   }
  },
  {
   "cell_type": "code",
   "execution_count": 50,
   "outputs": [
    {
     "data": {
      "text/plain": "                            count          mean           std      min  \\\nnum_critic_for_reviews     4867.0  1.379889e+02  1.202394e+02     1.00   \nduration                   4901.0  1.070908e+02  2.528602e+01     7.00   \ndirector_facebook_likes    4814.0  6.910145e+02  2.832954e+03     0.00   \nactor_3_facebook_likes     4893.0  6.312763e+02  1.625875e+03     0.00   \nactor_1_facebook_likes     4909.0  6.494488e+03  1.510699e+04     0.00   \ngross                      4054.0  4.764451e+07  6.737255e+07   162.00   \nnum_voted_users            4916.0  8.264492e+04  1.383222e+05     5.00   \ncast_total_facebook_likes  4916.0  9.579816e+03  1.816432e+04     0.00   \nfacenumber_in_poster       4903.0  1.377320e+00  2.023826e+00     0.00   \nnum_user_for_reviews       4895.0  2.676688e+02  3.729348e+02     1.00   \nbudget                     4432.0  3.654749e+07  1.002427e+08   218.00   \ntitle_year                 4810.0  2.002448e+03  1.245398e+01  1916.00   \nactor_2_facebook_likes     4903.0  1.621924e+03  4.011300e+03     0.00   \nimdb_score                 4916.0  6.437429e+00  1.127802e+00     1.60   \naspect_ratio               4590.0  2.222349e+00  1.402940e+00     1.18   \nmovie_facebook_likes       4916.0  7.348294e+03  1.920602e+04     0.00   \n\n                                  25%          50%          75%           max  \nnum_critic_for_reviews          49.00       108.00       191.00  8.130000e+02  \nduration                        93.00       103.00       118.00  5.110000e+02  \ndirector_facebook_likes          7.00        48.00       189.75  2.300000e+04  \nactor_3_facebook_likes         132.00       366.00       633.00  2.300000e+04  \nactor_1_facebook_likes         607.00       982.00     11000.00  6.400000e+05  \ngross                      5019656.25  25043962.00  61108412.75  7.605058e+08  \nnum_voted_users               8361.75     33132.50     93772.75  1.689764e+06  \ncast_total_facebook_likes     1394.75      3049.00     13616.75  6.567300e+05  \nfacenumber_in_poster             0.00         1.00         2.00  4.300000e+01  \nnum_user_for_reviews            64.00       153.00       320.50  5.060000e+03  \nbudget                     6000000.00  19850000.00  43000000.00  4.200000e+09  \ntitle_year                    1999.00      2005.00      2011.00  2.016000e+03  \nactor_2_facebook_likes         277.00       593.00       912.00  1.370000e+05  \nimdb_score                       5.80         6.60         7.20  9.500000e+00  \naspect_ratio                     1.85         2.35         2.35  1.600000e+01  \nmovie_facebook_likes             0.00       159.00      2000.00  3.490000e+05  ",
      "text/html": "<div>\n<style scoped>\n    .dataframe tbody tr th:only-of-type {\n        vertical-align: middle;\n    }\n\n    .dataframe tbody tr th {\n        vertical-align: top;\n    }\n\n    .dataframe thead th {\n        text-align: right;\n    }\n</style>\n<table border=\"1\" class=\"dataframe\">\n  <thead>\n    <tr style=\"text-align: right;\">\n      <th></th>\n      <th>count</th>\n      <th>mean</th>\n      <th>std</th>\n      <th>min</th>\n      <th>25%</th>\n      <th>50%</th>\n      <th>75%</th>\n      <th>max</th>\n    </tr>\n  </thead>\n  <tbody>\n    <tr>\n      <th>num_critic_for_reviews</th>\n      <td>4867.0</td>\n      <td>1.379889e+02</td>\n      <td>1.202394e+02</td>\n      <td>1.00</td>\n      <td>49.00</td>\n      <td>108.00</td>\n      <td>191.00</td>\n      <td>8.130000e+02</td>\n    </tr>\n    <tr>\n      <th>duration</th>\n      <td>4901.0</td>\n      <td>1.070908e+02</td>\n      <td>2.528602e+01</td>\n      <td>7.00</td>\n      <td>93.00</td>\n      <td>103.00</td>\n      <td>118.00</td>\n      <td>5.110000e+02</td>\n    </tr>\n    <tr>\n      <th>director_facebook_likes</th>\n      <td>4814.0</td>\n      <td>6.910145e+02</td>\n      <td>2.832954e+03</td>\n      <td>0.00</td>\n      <td>7.00</td>\n      <td>48.00</td>\n      <td>189.75</td>\n      <td>2.300000e+04</td>\n    </tr>\n    <tr>\n      <th>actor_3_facebook_likes</th>\n      <td>4893.0</td>\n      <td>6.312763e+02</td>\n      <td>1.625875e+03</td>\n      <td>0.00</td>\n      <td>132.00</td>\n      <td>366.00</td>\n      <td>633.00</td>\n      <td>2.300000e+04</td>\n    </tr>\n    <tr>\n      <th>actor_1_facebook_likes</th>\n      <td>4909.0</td>\n      <td>6.494488e+03</td>\n      <td>1.510699e+04</td>\n      <td>0.00</td>\n      <td>607.00</td>\n      <td>982.00</td>\n      <td>11000.00</td>\n      <td>6.400000e+05</td>\n    </tr>\n    <tr>\n      <th>gross</th>\n      <td>4054.0</td>\n      <td>4.764451e+07</td>\n      <td>6.737255e+07</td>\n      <td>162.00</td>\n      <td>5019656.25</td>\n      <td>25043962.00</td>\n      <td>61108412.75</td>\n      <td>7.605058e+08</td>\n    </tr>\n    <tr>\n      <th>num_voted_users</th>\n      <td>4916.0</td>\n      <td>8.264492e+04</td>\n      <td>1.383222e+05</td>\n      <td>5.00</td>\n      <td>8361.75</td>\n      <td>33132.50</td>\n      <td>93772.75</td>\n      <td>1.689764e+06</td>\n    </tr>\n    <tr>\n      <th>cast_total_facebook_likes</th>\n      <td>4916.0</td>\n      <td>9.579816e+03</td>\n      <td>1.816432e+04</td>\n      <td>0.00</td>\n      <td>1394.75</td>\n      <td>3049.00</td>\n      <td>13616.75</td>\n      <td>6.567300e+05</td>\n    </tr>\n    <tr>\n      <th>facenumber_in_poster</th>\n      <td>4903.0</td>\n      <td>1.377320e+00</td>\n      <td>2.023826e+00</td>\n      <td>0.00</td>\n      <td>0.00</td>\n      <td>1.00</td>\n      <td>2.00</td>\n      <td>4.300000e+01</td>\n    </tr>\n    <tr>\n      <th>num_user_for_reviews</th>\n      <td>4895.0</td>\n      <td>2.676688e+02</td>\n      <td>3.729348e+02</td>\n      <td>1.00</td>\n      <td>64.00</td>\n      <td>153.00</td>\n      <td>320.50</td>\n      <td>5.060000e+03</td>\n    </tr>\n    <tr>\n      <th>budget</th>\n      <td>4432.0</td>\n      <td>3.654749e+07</td>\n      <td>1.002427e+08</td>\n      <td>218.00</td>\n      <td>6000000.00</td>\n      <td>19850000.00</td>\n      <td>43000000.00</td>\n      <td>4.200000e+09</td>\n    </tr>\n    <tr>\n      <th>title_year</th>\n      <td>4810.0</td>\n      <td>2.002448e+03</td>\n      <td>1.245398e+01</td>\n      <td>1916.00</td>\n      <td>1999.00</td>\n      <td>2005.00</td>\n      <td>2011.00</td>\n      <td>2.016000e+03</td>\n    </tr>\n    <tr>\n      <th>actor_2_facebook_likes</th>\n      <td>4903.0</td>\n      <td>1.621924e+03</td>\n      <td>4.011300e+03</td>\n      <td>0.00</td>\n      <td>277.00</td>\n      <td>593.00</td>\n      <td>912.00</td>\n      <td>1.370000e+05</td>\n    </tr>\n    <tr>\n      <th>imdb_score</th>\n      <td>4916.0</td>\n      <td>6.437429e+00</td>\n      <td>1.127802e+00</td>\n      <td>1.60</td>\n      <td>5.80</td>\n      <td>6.60</td>\n      <td>7.20</td>\n      <td>9.500000e+00</td>\n    </tr>\n    <tr>\n      <th>aspect_ratio</th>\n      <td>4590.0</td>\n      <td>2.222349e+00</td>\n      <td>1.402940e+00</td>\n      <td>1.18</td>\n      <td>1.85</td>\n      <td>2.35</td>\n      <td>2.35</td>\n      <td>1.600000e+01</td>\n    </tr>\n    <tr>\n      <th>movie_facebook_likes</th>\n      <td>4916.0</td>\n      <td>7.348294e+03</td>\n      <td>1.920602e+04</td>\n      <td>0.00</td>\n      <td>0.00</td>\n      <td>159.00</td>\n      <td>2000.00</td>\n      <td>3.490000e+05</td>\n    </tr>\n  </tbody>\n</table>\n</div>"
     },
     "execution_count": 50,
     "metadata": {},
     "output_type": "execute_result"
    }
   ],
   "source": [
    "movies.describe().T"
   ],
   "metadata": {
    "collapsed": false
   }
  },
  {
   "cell_type": "code",
   "execution_count": 51,
   "outputs": [
    {
     "data": {
      "text/plain": "                            count          mean           std      min  \\\nnum_critic_for_reviews     4867.0  1.379889e+02  1.202394e+02     1.00   \nduration                   4901.0  1.070908e+02  2.528602e+01     7.00   \ndirector_facebook_likes    4814.0  6.910145e+02  2.832954e+03     0.00   \nactor_3_facebook_likes     4893.0  6.312763e+02  1.625875e+03     0.00   \nactor_1_facebook_likes     4909.0  6.494488e+03  1.510699e+04     0.00   \ngross                      4054.0  4.764451e+07  6.737255e+07   162.00   \nnum_voted_users            4916.0  8.264492e+04  1.383222e+05     5.00   \ncast_total_facebook_likes  4916.0  9.579816e+03  1.816432e+04     0.00   \nfacenumber_in_poster       4903.0  1.377320e+00  2.023826e+00     0.00   \nnum_user_for_reviews       4895.0  2.676688e+02  3.729348e+02     1.00   \nbudget                     4432.0  3.654749e+07  1.002427e+08   218.00   \ntitle_year                 4810.0  2.002448e+03  1.245398e+01  1916.00   \nactor_2_facebook_likes     4903.0  1.621924e+03  4.011300e+03     0.00   \nimdb_score                 4916.0  6.437429e+00  1.127802e+00     1.60   \naspect_ratio               4590.0  2.222349e+00  1.402940e+00     1.18   \nmovie_facebook_likes       4916.0  7.348294e+03  1.920602e+04     0.00   \n\n                                 1%         30%          50%           99%  \\\nnum_critic_for_reviews         2.00       60.00       108.00  5.466800e+02   \nduration                      43.00       95.00       103.00  1.890000e+02   \ndirector_facebook_likes        0.00       11.00        48.00  1.600000e+04   \nactor_3_facebook_likes         0.00      176.00       366.00  1.100000e+04   \nactor_1_facebook_likes         6.08      694.00       982.00  4.492000e+04   \ngross                       8474.80  7914068.60  25043962.00  3.264128e+08   \nnum_voted_users               53.00    11864.50     33132.50  6.815846e+05   \ncast_total_facebook_likes      6.00     1684.50      3049.00  6.241390e+04   \nfacenumber_in_poster           0.00        0.00         1.00  8.000000e+00   \nnum_user_for_reviews           1.94       80.00       153.00  1.999240e+03   \nbudget                     60000.00  8000000.00  19850000.00  2.000000e+08   \ntitle_year                  1951.00     2000.00      2005.00  2.016000e+03   \nactor_2_facebook_likes         0.00      345.00       593.00  1.700000e+04   \nimdb_score                     3.10        6.00         6.60  8.500000e+00   \naspect_ratio                   1.33        1.85         2.35  4.000000e+00   \nmovie_facebook_likes           0.00        0.00       159.00  9.385000e+04   \n\n                                    max  \nnum_critic_for_reviews     8.130000e+02  \nduration                   5.110000e+02  \ndirector_facebook_likes    2.300000e+04  \nactor_3_facebook_likes     2.300000e+04  \nactor_1_facebook_likes     6.400000e+05  \ngross                      7.605058e+08  \nnum_voted_users            1.689764e+06  \ncast_total_facebook_likes  6.567300e+05  \nfacenumber_in_poster       4.300000e+01  \nnum_user_for_reviews       5.060000e+03  \nbudget                     4.200000e+09  \ntitle_year                 2.016000e+03  \nactor_2_facebook_likes     1.370000e+05  \nimdb_score                 9.500000e+00  \naspect_ratio               1.600000e+01  \nmovie_facebook_likes       3.490000e+05  ",
      "text/html": "<div>\n<style scoped>\n    .dataframe tbody tr th:only-of-type {\n        vertical-align: middle;\n    }\n\n    .dataframe tbody tr th {\n        vertical-align: top;\n    }\n\n    .dataframe thead th {\n        text-align: right;\n    }\n</style>\n<table border=\"1\" class=\"dataframe\">\n  <thead>\n    <tr style=\"text-align: right;\">\n      <th></th>\n      <th>count</th>\n      <th>mean</th>\n      <th>std</th>\n      <th>min</th>\n      <th>1%</th>\n      <th>30%</th>\n      <th>50%</th>\n      <th>99%</th>\n      <th>max</th>\n    </tr>\n  </thead>\n  <tbody>\n    <tr>\n      <th>num_critic_for_reviews</th>\n      <td>4867.0</td>\n      <td>1.379889e+02</td>\n      <td>1.202394e+02</td>\n      <td>1.00</td>\n      <td>2.00</td>\n      <td>60.00</td>\n      <td>108.00</td>\n      <td>5.466800e+02</td>\n      <td>8.130000e+02</td>\n    </tr>\n    <tr>\n      <th>duration</th>\n      <td>4901.0</td>\n      <td>1.070908e+02</td>\n      <td>2.528602e+01</td>\n      <td>7.00</td>\n      <td>43.00</td>\n      <td>95.00</td>\n      <td>103.00</td>\n      <td>1.890000e+02</td>\n      <td>5.110000e+02</td>\n    </tr>\n    <tr>\n      <th>director_facebook_likes</th>\n      <td>4814.0</td>\n      <td>6.910145e+02</td>\n      <td>2.832954e+03</td>\n      <td>0.00</td>\n      <td>0.00</td>\n      <td>11.00</td>\n      <td>48.00</td>\n      <td>1.600000e+04</td>\n      <td>2.300000e+04</td>\n    </tr>\n    <tr>\n      <th>actor_3_facebook_likes</th>\n      <td>4893.0</td>\n      <td>6.312763e+02</td>\n      <td>1.625875e+03</td>\n      <td>0.00</td>\n      <td>0.00</td>\n      <td>176.00</td>\n      <td>366.00</td>\n      <td>1.100000e+04</td>\n      <td>2.300000e+04</td>\n    </tr>\n    <tr>\n      <th>actor_1_facebook_likes</th>\n      <td>4909.0</td>\n      <td>6.494488e+03</td>\n      <td>1.510699e+04</td>\n      <td>0.00</td>\n      <td>6.08</td>\n      <td>694.00</td>\n      <td>982.00</td>\n      <td>4.492000e+04</td>\n      <td>6.400000e+05</td>\n    </tr>\n    <tr>\n      <th>gross</th>\n      <td>4054.0</td>\n      <td>4.764451e+07</td>\n      <td>6.737255e+07</td>\n      <td>162.00</td>\n      <td>8474.80</td>\n      <td>7914068.60</td>\n      <td>25043962.00</td>\n      <td>3.264128e+08</td>\n      <td>7.605058e+08</td>\n    </tr>\n    <tr>\n      <th>num_voted_users</th>\n      <td>4916.0</td>\n      <td>8.264492e+04</td>\n      <td>1.383222e+05</td>\n      <td>5.00</td>\n      <td>53.00</td>\n      <td>11864.50</td>\n      <td>33132.50</td>\n      <td>6.815846e+05</td>\n      <td>1.689764e+06</td>\n    </tr>\n    <tr>\n      <th>cast_total_facebook_likes</th>\n      <td>4916.0</td>\n      <td>9.579816e+03</td>\n      <td>1.816432e+04</td>\n      <td>0.00</td>\n      <td>6.00</td>\n      <td>1684.50</td>\n      <td>3049.00</td>\n      <td>6.241390e+04</td>\n      <td>6.567300e+05</td>\n    </tr>\n    <tr>\n      <th>facenumber_in_poster</th>\n      <td>4903.0</td>\n      <td>1.377320e+00</td>\n      <td>2.023826e+00</td>\n      <td>0.00</td>\n      <td>0.00</td>\n      <td>0.00</td>\n      <td>1.00</td>\n      <td>8.000000e+00</td>\n      <td>4.300000e+01</td>\n    </tr>\n    <tr>\n      <th>num_user_for_reviews</th>\n      <td>4895.0</td>\n      <td>2.676688e+02</td>\n      <td>3.729348e+02</td>\n      <td>1.00</td>\n      <td>1.94</td>\n      <td>80.00</td>\n      <td>153.00</td>\n      <td>1.999240e+03</td>\n      <td>5.060000e+03</td>\n    </tr>\n    <tr>\n      <th>budget</th>\n      <td>4432.0</td>\n      <td>3.654749e+07</td>\n      <td>1.002427e+08</td>\n      <td>218.00</td>\n      <td>60000.00</td>\n      <td>8000000.00</td>\n      <td>19850000.00</td>\n      <td>2.000000e+08</td>\n      <td>4.200000e+09</td>\n    </tr>\n    <tr>\n      <th>title_year</th>\n      <td>4810.0</td>\n      <td>2.002448e+03</td>\n      <td>1.245398e+01</td>\n      <td>1916.00</td>\n      <td>1951.00</td>\n      <td>2000.00</td>\n      <td>2005.00</td>\n      <td>2.016000e+03</td>\n      <td>2.016000e+03</td>\n    </tr>\n    <tr>\n      <th>actor_2_facebook_likes</th>\n      <td>4903.0</td>\n      <td>1.621924e+03</td>\n      <td>4.011300e+03</td>\n      <td>0.00</td>\n      <td>0.00</td>\n      <td>345.00</td>\n      <td>593.00</td>\n      <td>1.700000e+04</td>\n      <td>1.370000e+05</td>\n    </tr>\n    <tr>\n      <th>imdb_score</th>\n      <td>4916.0</td>\n      <td>6.437429e+00</td>\n      <td>1.127802e+00</td>\n      <td>1.60</td>\n      <td>3.10</td>\n      <td>6.00</td>\n      <td>6.60</td>\n      <td>8.500000e+00</td>\n      <td>9.500000e+00</td>\n    </tr>\n    <tr>\n      <th>aspect_ratio</th>\n      <td>4590.0</td>\n      <td>2.222349e+00</td>\n      <td>1.402940e+00</td>\n      <td>1.18</td>\n      <td>1.33</td>\n      <td>1.85</td>\n      <td>2.35</td>\n      <td>4.000000e+00</td>\n      <td>1.600000e+01</td>\n    </tr>\n    <tr>\n      <th>movie_facebook_likes</th>\n      <td>4916.0</td>\n      <td>7.348294e+03</td>\n      <td>1.920602e+04</td>\n      <td>0.00</td>\n      <td>0.00</td>\n      <td>0.00</td>\n      <td>159.00</td>\n      <td>9.385000e+04</td>\n      <td>3.490000e+05</td>\n    </tr>\n  </tbody>\n</table>\n</div>"
     },
     "execution_count": 51,
     "metadata": {},
     "output_type": "execute_result"
    }
   ],
   "source": [
    "movies.describe(percentiles=[0.01, 0.3, 0.99]).T"
   ],
   "metadata": {
    "collapsed": false
   }
  },
  {
   "cell_type": "code",
   "execution_count": 52,
   "outputs": [
    {
     "name": "stderr",
     "output_type": "stream",
     "text": [
      "/var/folders/j_/hylrqd052y9czkfmjyyc7n7r0000gn/T/ipykernel_6241/1750496438.py:1: FutureWarning: The default value of numeric_only in DataFrame.min is deprecated. In a future version, it will default to False. In addition, specifying 'numeric_only=None' is deprecated. Select only valid columns or specify the value of numeric_only to silence this warning.\n",
      "  movies.min(skipna=False)\n"
     ]
    },
    {
     "data": {
      "text/plain": "num_critic_for_reviews                                                     NaN\nduration                                                                   NaN\ndirector_facebook_likes                                                    NaN\nactor_3_facebook_likes                                                     NaN\nactor_1_facebook_likes                                                     NaN\ngross                                                                      NaN\ngenres                                                                  Action\nmovie_title                                                            #Horror\nnum_voted_users                                                              5\ncast_total_facebook_likes                                                    0\nfacenumber_in_poster                                                       NaN\nmovie_imdb_link              http://www.imdb.com/title/tt0006864/?ref_=fn_t...\nnum_user_for_reviews                                                       NaN\nbudget                                                                     NaN\ntitle_year                                                                 NaN\nactor_2_facebook_likes                                                     NaN\nimdb_score                                                                 1.6\naspect_ratio                                                               NaN\nmovie_facebook_likes                                                         0\ndtype: object"
     },
     "execution_count": 52,
     "metadata": {},
     "output_type": "execute_result"
    }
   ],
   "source": [
    "movies.min(skipna=False)"
   ],
   "metadata": {
    "collapsed": false
   }
  },
  {
   "cell_type": "markdown",
   "source": [
    "DataFrame 메서드 체인"
   ],
   "metadata": {
    "collapsed": false
   }
  },
  {
   "cell_type": "code",
   "execution_count": 53,
   "outputs": [],
   "source": [
    "movies = pd.read_csv('../data/movie.csv')"
   ],
   "metadata": {
    "collapsed": false
   }
  },
  {
   "cell_type": "code",
   "execution_count": 54,
   "outputs": [],
   "source": [
    "movies = movies.rename(columns=shorten)"
   ],
   "metadata": {
    "collapsed": false
   }
  },
  {
   "cell_type": "code",
   "execution_count": 55,
   "outputs": [
    {
     "data": {
      "text/plain": "   color  director_name  num_critic  duration  director_fb  actor_3_fb  \\\n0  False          False       False     False        False       False   \n1  False          False       False     False        False       False   \n2  False          False       False     False        False       False   \n3  False          False       False     False        False       False   \n4   True          False        True      True        False        True   \n\n   actor_2_name  actor_1_fb  gross  genres  ...  num_user  language  country  \\\n0         False       False  False   False  ...     False     False    False   \n1         False       False  False   False  ...     False     False    False   \n2         False       False  False   False  ...     False     False    False   \n3         False       False  False   False  ...     False     False    False   \n4         False       False   True   False  ...      True      True     True   \n\n   content_rating  budget  title_year  actor_2_fb  imdb_score  aspect_ratio  \\\n0           False   False       False       False       False         False   \n1           False   False       False       False       False         False   \n2           False   False       False       False       False         False   \n3           False   False       False       False       False         False   \n4            True    True        True       False       False          True   \n\n   movie_fb  \n0     False  \n1     False  \n2     False  \n3     False  \n4     False  \n\n[5 rows x 28 columns]",
      "text/html": "<div>\n<style scoped>\n    .dataframe tbody tr th:only-of-type {\n        vertical-align: middle;\n    }\n\n    .dataframe tbody tr th {\n        vertical-align: top;\n    }\n\n    .dataframe thead th {\n        text-align: right;\n    }\n</style>\n<table border=\"1\" class=\"dataframe\">\n  <thead>\n    <tr style=\"text-align: right;\">\n      <th></th>\n      <th>color</th>\n      <th>director_name</th>\n      <th>num_critic</th>\n      <th>duration</th>\n      <th>director_fb</th>\n      <th>actor_3_fb</th>\n      <th>actor_2_name</th>\n      <th>actor_1_fb</th>\n      <th>gross</th>\n      <th>genres</th>\n      <th>...</th>\n      <th>num_user</th>\n      <th>language</th>\n      <th>country</th>\n      <th>content_rating</th>\n      <th>budget</th>\n      <th>title_year</th>\n      <th>actor_2_fb</th>\n      <th>imdb_score</th>\n      <th>aspect_ratio</th>\n      <th>movie_fb</th>\n    </tr>\n  </thead>\n  <tbody>\n    <tr>\n      <th>0</th>\n      <td>False</td>\n      <td>False</td>\n      <td>False</td>\n      <td>False</td>\n      <td>False</td>\n      <td>False</td>\n      <td>False</td>\n      <td>False</td>\n      <td>False</td>\n      <td>False</td>\n      <td>...</td>\n      <td>False</td>\n      <td>False</td>\n      <td>False</td>\n      <td>False</td>\n      <td>False</td>\n      <td>False</td>\n      <td>False</td>\n      <td>False</td>\n      <td>False</td>\n      <td>False</td>\n    </tr>\n    <tr>\n      <th>1</th>\n      <td>False</td>\n      <td>False</td>\n      <td>False</td>\n      <td>False</td>\n      <td>False</td>\n      <td>False</td>\n      <td>False</td>\n      <td>False</td>\n      <td>False</td>\n      <td>False</td>\n      <td>...</td>\n      <td>False</td>\n      <td>False</td>\n      <td>False</td>\n      <td>False</td>\n      <td>False</td>\n      <td>False</td>\n      <td>False</td>\n      <td>False</td>\n      <td>False</td>\n      <td>False</td>\n    </tr>\n    <tr>\n      <th>2</th>\n      <td>False</td>\n      <td>False</td>\n      <td>False</td>\n      <td>False</td>\n      <td>False</td>\n      <td>False</td>\n      <td>False</td>\n      <td>False</td>\n      <td>False</td>\n      <td>False</td>\n      <td>...</td>\n      <td>False</td>\n      <td>False</td>\n      <td>False</td>\n      <td>False</td>\n      <td>False</td>\n      <td>False</td>\n      <td>False</td>\n      <td>False</td>\n      <td>False</td>\n      <td>False</td>\n    </tr>\n    <tr>\n      <th>3</th>\n      <td>False</td>\n      <td>False</td>\n      <td>False</td>\n      <td>False</td>\n      <td>False</td>\n      <td>False</td>\n      <td>False</td>\n      <td>False</td>\n      <td>False</td>\n      <td>False</td>\n      <td>...</td>\n      <td>False</td>\n      <td>False</td>\n      <td>False</td>\n      <td>False</td>\n      <td>False</td>\n      <td>False</td>\n      <td>False</td>\n      <td>False</td>\n      <td>False</td>\n      <td>False</td>\n    </tr>\n    <tr>\n      <th>4</th>\n      <td>True</td>\n      <td>False</td>\n      <td>True</td>\n      <td>True</td>\n      <td>False</td>\n      <td>True</td>\n      <td>False</td>\n      <td>False</td>\n      <td>True</td>\n      <td>False</td>\n      <td>...</td>\n      <td>True</td>\n      <td>True</td>\n      <td>True</td>\n      <td>True</td>\n      <td>True</td>\n      <td>True</td>\n      <td>False</td>\n      <td>False</td>\n      <td>True</td>\n      <td>False</td>\n    </tr>\n  </tbody>\n</table>\n<p>5 rows × 28 columns</p>\n</div>"
     },
     "execution_count": 55,
     "metadata": {},
     "output_type": "execute_result"
    }
   ],
   "source": [
    "movies.isnull().head()"
   ],
   "metadata": {
    "collapsed": false
   }
  },
  {
   "cell_type": "code",
   "execution_count": 56,
   "outputs": [
    {
     "data": {
      "text/plain": "color             19\ndirector_name    102\nnum_critic        49\nduration          15\ndirector_fb      102\ndtype: int64"
     },
     "execution_count": 56,
     "metadata": {},
     "output_type": "execute_result"
    }
   ],
   "source": [
    "(movies.isnull().sum().head())"
   ],
   "metadata": {
    "collapsed": false
   }
  },
  {
   "cell_type": "code",
   "execution_count": 57,
   "outputs": [
    {
     "data": {
      "text/plain": "2654"
     },
     "execution_count": 57,
     "metadata": {},
     "output_type": "execute_result"
    }
   ],
   "source": [
    "movies.isnull().sum().sum()"
   ],
   "metadata": {
    "collapsed": false
   }
  },
  {
   "cell_type": "code",
   "execution_count": 60,
   "outputs": [
    {
     "data": {
      "text/plain": "True"
     },
     "execution_count": 60,
     "metadata": {},
     "output_type": "execute_result"
    }
   ],
   "source": [
    "movies.isnull().any().any()"
   ],
   "metadata": {
    "collapsed": false
   }
  },
  {
   "cell_type": "code",
   "execution_count": 63,
   "outputs": [
    {
     "data": {
      "text/plain": "Series([], dtype: float64)"
     },
     "execution_count": 63,
     "metadata": {},
     "output_type": "execute_result"
    }
   ],
   "source": [
    "movies[['color', 'movie_title', 'color']].max(numeric_only=True)"
   ],
   "metadata": {
    "collapsed": false
   }
  },
  {
   "cell_type": "code",
   "execution_count": 68,
   "outputs": [
    {
     "data": {
      "text/plain": "color                                                          Color\ndirector_name                                          Étienne Faure\nactor_2_name                                           Zubaida Sahar\ngenres                                                       Western\nactor_1_name                                           Óscar Jaenada\nmovie_title                                                 Æon Flux\nactor_3_name                                           Óscar Jaenada\nplot_keywords                                    zombie|zombie spoof\nmovie_imdb_link    http://www.imdb.com/title/tt5574490/?ref_=fn_t...\nlanguage                                                        Zulu\ncountry                                                 West Germany\ncontent_rating                                                     X\ndtype: object"
     },
     "execution_count": 68,
     "metadata": {},
     "output_type": "execute_result"
    }
   ],
   "source": [
    "movies.select_dtypes(['object']).fillna('').max()"
   ],
   "metadata": {
    "collapsed": false
   }
  },
  {
   "cell_type": "markdown",
   "source": [
    "DataFrame 연산"
   ],
   "metadata": {
    "collapsed": false
   }
  },
  {
   "cell_type": "code",
   "execution_count": 69,
   "outputs": [],
   "source": [
    "colleges = pd.read_csv('../data/college.csv')"
   ],
   "metadata": {
    "collapsed": false
   }
  },
  {
   "cell_type": "code",
   "execution_count": 70,
   "outputs": [
    {
     "ename": "TypeError",
     "evalue": "can only concatenate str (not \"int\") to str",
     "output_type": "error",
     "traceback": [
      "\u001B[0;31m---------------------------------------------------------------------------\u001B[0m",
      "\u001B[0;31mTypeError\u001B[0m                                 Traceback (most recent call last)",
      "File \u001B[0;32m~/anaconda3/lib/python3.10/site-packages/pandas/core/ops/array_ops.py:165\u001B[0m, in \u001B[0;36m_na_arithmetic_op\u001B[0;34m(left, right, op, is_cmp)\u001B[0m\n\u001B[1;32m    164\u001B[0m \u001B[38;5;28;01mtry\u001B[39;00m:\n\u001B[0;32m--> 165\u001B[0m     result \u001B[38;5;241m=\u001B[39m \u001B[43mfunc\u001B[49m\u001B[43m(\u001B[49m\u001B[43mleft\u001B[49m\u001B[43m,\u001B[49m\u001B[43m \u001B[49m\u001B[43mright\u001B[49m\u001B[43m)\u001B[49m\n\u001B[1;32m    166\u001B[0m \u001B[38;5;28;01mexcept\u001B[39;00m \u001B[38;5;167;01mTypeError\u001B[39;00m:\n",
      "File \u001B[0;32m~/anaconda3/lib/python3.10/site-packages/pandas/core/computation/expressions.py:241\u001B[0m, in \u001B[0;36mevaluate\u001B[0;34m(op, a, b, use_numexpr)\u001B[0m\n\u001B[1;32m    239\u001B[0m     \u001B[38;5;28;01mif\u001B[39;00m use_numexpr:\n\u001B[1;32m    240\u001B[0m         \u001B[38;5;66;03m# error: \"None\" not callable\u001B[39;00m\n\u001B[0;32m--> 241\u001B[0m         \u001B[38;5;28;01mreturn\u001B[39;00m \u001B[43m_evaluate\u001B[49m\u001B[43m(\u001B[49m\u001B[43mop\u001B[49m\u001B[43m,\u001B[49m\u001B[43m \u001B[49m\u001B[43mop_str\u001B[49m\u001B[43m,\u001B[49m\u001B[43m \u001B[49m\u001B[43ma\u001B[49m\u001B[43m,\u001B[49m\u001B[43m \u001B[49m\u001B[43mb\u001B[49m\u001B[43m)\u001B[49m  \u001B[38;5;66;03m# type: ignore[misc]\u001B[39;00m\n\u001B[1;32m    242\u001B[0m \u001B[38;5;28;01mreturn\u001B[39;00m _evaluate_standard(op, op_str, a, b)\n",
      "File \u001B[0;32m~/anaconda3/lib/python3.10/site-packages/pandas/core/computation/expressions.py:129\u001B[0m, in \u001B[0;36m_evaluate_numexpr\u001B[0;34m(op, op_str, a, b)\u001B[0m\n\u001B[1;32m    128\u001B[0m \u001B[38;5;28;01mif\u001B[39;00m result \u001B[38;5;129;01mis\u001B[39;00m \u001B[38;5;28;01mNone\u001B[39;00m:\n\u001B[0;32m--> 129\u001B[0m     result \u001B[38;5;241m=\u001B[39m \u001B[43m_evaluate_standard\u001B[49m\u001B[43m(\u001B[49m\u001B[43mop\u001B[49m\u001B[43m,\u001B[49m\u001B[43m \u001B[49m\u001B[43mop_str\u001B[49m\u001B[43m,\u001B[49m\u001B[43m \u001B[49m\u001B[43ma\u001B[49m\u001B[43m,\u001B[49m\u001B[43m \u001B[49m\u001B[43mb\u001B[49m\u001B[43m)\u001B[49m\n\u001B[1;32m    131\u001B[0m \u001B[38;5;28;01mreturn\u001B[39;00m result\n",
      "File \u001B[0;32m~/anaconda3/lib/python3.10/site-packages/pandas/core/computation/expressions.py:70\u001B[0m, in \u001B[0;36m_evaluate_standard\u001B[0;34m(op, op_str, a, b)\u001B[0m\n\u001B[1;32m     69\u001B[0m     _store_test_result(\u001B[38;5;28;01mFalse\u001B[39;00m)\n\u001B[0;32m---> 70\u001B[0m \u001B[38;5;28;01mreturn\u001B[39;00m \u001B[43mop\u001B[49m\u001B[43m(\u001B[49m\u001B[43ma\u001B[49m\u001B[43m,\u001B[49m\u001B[43m \u001B[49m\u001B[43mb\u001B[49m\u001B[43m)\u001B[49m\n",
      "\u001B[0;31mTypeError\u001B[0m: can only concatenate str (not \"int\") to str",
      "\nDuring handling of the above exception, another exception occurred:\n",
      "\u001B[0;31mTypeError\u001B[0m                                 Traceback (most recent call last)",
      "Cell \u001B[0;32mIn[70], line 1\u001B[0m\n\u001B[0;32m----> 1\u001B[0m \u001B[43mcolleges\u001B[49m\u001B[43m \u001B[49m\u001B[38;5;241;43m+\u001B[39;49m\u001B[43m \u001B[49m\u001B[38;5;241;43m5\u001B[39;49m\n",
      "File \u001B[0;32m~/anaconda3/lib/python3.10/site-packages/pandas/core/ops/common.py:72\u001B[0m, in \u001B[0;36m_unpack_zerodim_and_defer.<locals>.new_method\u001B[0;34m(self, other)\u001B[0m\n\u001B[1;32m     68\u001B[0m             \u001B[38;5;28;01mreturn\u001B[39;00m \u001B[38;5;28mNotImplemented\u001B[39m\n\u001B[1;32m     70\u001B[0m other \u001B[38;5;241m=\u001B[39m item_from_zerodim(other)\n\u001B[0;32m---> 72\u001B[0m \u001B[38;5;28;01mreturn\u001B[39;00m \u001B[43mmethod\u001B[49m\u001B[43m(\u001B[49m\u001B[38;5;28;43mself\u001B[39;49m\u001B[43m,\u001B[49m\u001B[43m \u001B[49m\u001B[43mother\u001B[49m\u001B[43m)\u001B[49m\n",
      "File \u001B[0;32m~/anaconda3/lib/python3.10/site-packages/pandas/core/arraylike.py:102\u001B[0m, in \u001B[0;36mOpsMixin.__add__\u001B[0;34m(self, other)\u001B[0m\n\u001B[1;32m    100\u001B[0m \u001B[38;5;129m@unpack_zerodim_and_defer\u001B[39m(\u001B[38;5;124m\"\u001B[39m\u001B[38;5;124m__add__\u001B[39m\u001B[38;5;124m\"\u001B[39m)\n\u001B[1;32m    101\u001B[0m \u001B[38;5;28;01mdef\u001B[39;00m \u001B[38;5;21m__add__\u001B[39m(\u001B[38;5;28mself\u001B[39m, other):\n\u001B[0;32m--> 102\u001B[0m     \u001B[38;5;28;01mreturn\u001B[39;00m \u001B[38;5;28;43mself\u001B[39;49m\u001B[38;5;241;43m.\u001B[39;49m\u001B[43m_arith_method\u001B[49m\u001B[43m(\u001B[49m\u001B[43mother\u001B[49m\u001B[43m,\u001B[49m\u001B[43m \u001B[49m\u001B[43moperator\u001B[49m\u001B[38;5;241;43m.\u001B[39;49m\u001B[43madd\u001B[49m\u001B[43m)\u001B[49m\n",
      "File \u001B[0;32m~/anaconda3/lib/python3.10/site-packages/pandas/core/frame.py:7594\u001B[0m, in \u001B[0;36mDataFrame._arith_method\u001B[0;34m(self, other, op)\u001B[0m\n\u001B[1;32m   7590\u001B[0m other \u001B[38;5;241m=\u001B[39m ops\u001B[38;5;241m.\u001B[39mmaybe_prepare_scalar_for_op(other, (\u001B[38;5;28mself\u001B[39m\u001B[38;5;241m.\u001B[39mshape[axis],))\n\u001B[1;32m   7592\u001B[0m \u001B[38;5;28mself\u001B[39m, other \u001B[38;5;241m=\u001B[39m ops\u001B[38;5;241m.\u001B[39malign_method_FRAME(\u001B[38;5;28mself\u001B[39m, other, axis, flex\u001B[38;5;241m=\u001B[39m\u001B[38;5;28;01mTrue\u001B[39;00m, level\u001B[38;5;241m=\u001B[39m\u001B[38;5;28;01mNone\u001B[39;00m)\n\u001B[0;32m-> 7594\u001B[0m new_data \u001B[38;5;241m=\u001B[39m \u001B[38;5;28;43mself\u001B[39;49m\u001B[38;5;241;43m.\u001B[39;49m\u001B[43m_dispatch_frame_op\u001B[49m\u001B[43m(\u001B[49m\u001B[43mother\u001B[49m\u001B[43m,\u001B[49m\u001B[43m \u001B[49m\u001B[43mop\u001B[49m\u001B[43m,\u001B[49m\u001B[43m \u001B[49m\u001B[43maxis\u001B[49m\u001B[38;5;241;43m=\u001B[39;49m\u001B[43maxis\u001B[49m\u001B[43m)\u001B[49m\n\u001B[1;32m   7595\u001B[0m \u001B[38;5;28;01mreturn\u001B[39;00m \u001B[38;5;28mself\u001B[39m\u001B[38;5;241m.\u001B[39m_construct_result(new_data)\n",
      "File \u001B[0;32m~/anaconda3/lib/python3.10/site-packages/pandas/core/frame.py:7621\u001B[0m, in \u001B[0;36mDataFrame._dispatch_frame_op\u001B[0;34m(self, right, func, axis)\u001B[0m\n\u001B[1;32m   7618\u001B[0m \u001B[38;5;28;01mif\u001B[39;00m \u001B[38;5;129;01mnot\u001B[39;00m is_list_like(right):\n\u001B[1;32m   7619\u001B[0m     \u001B[38;5;66;03m# i.e. scalar, faster than checking np.ndim(right) == 0\u001B[39;00m\n\u001B[1;32m   7620\u001B[0m     \u001B[38;5;28;01mwith\u001B[39;00m np\u001B[38;5;241m.\u001B[39merrstate(\u001B[38;5;28mall\u001B[39m\u001B[38;5;241m=\u001B[39m\u001B[38;5;124m\"\u001B[39m\u001B[38;5;124mignore\u001B[39m\u001B[38;5;124m\"\u001B[39m):\n\u001B[0;32m-> 7621\u001B[0m         bm \u001B[38;5;241m=\u001B[39m \u001B[38;5;28;43mself\u001B[39;49m\u001B[38;5;241;43m.\u001B[39;49m\u001B[43m_mgr\u001B[49m\u001B[38;5;241;43m.\u001B[39;49m\u001B[43mapply\u001B[49m\u001B[43m(\u001B[49m\u001B[43marray_op\u001B[49m\u001B[43m,\u001B[49m\u001B[43m \u001B[49m\u001B[43mright\u001B[49m\u001B[38;5;241;43m=\u001B[39;49m\u001B[43mright\u001B[49m\u001B[43m)\u001B[49m\n\u001B[1;32m   7622\u001B[0m     \u001B[38;5;28;01mreturn\u001B[39;00m \u001B[38;5;28mself\u001B[39m\u001B[38;5;241m.\u001B[39m_constructor(bm)\n\u001B[1;32m   7624\u001B[0m \u001B[38;5;28;01melif\u001B[39;00m \u001B[38;5;28misinstance\u001B[39m(right, DataFrame):\n",
      "File \u001B[0;32m~/anaconda3/lib/python3.10/site-packages/pandas/core/internals/managers.py:350\u001B[0m, in \u001B[0;36mBaseBlockManager.apply\u001B[0;34m(self, f, align_keys, ignore_failures, **kwargs)\u001B[0m\n\u001B[1;32m    348\u001B[0m \u001B[38;5;28;01mtry\u001B[39;00m:\n\u001B[1;32m    349\u001B[0m     \u001B[38;5;28;01mif\u001B[39;00m callable(f):\n\u001B[0;32m--> 350\u001B[0m         applied \u001B[38;5;241m=\u001B[39m \u001B[43mb\u001B[49m\u001B[38;5;241;43m.\u001B[39;49m\u001B[43mapply\u001B[49m\u001B[43m(\u001B[49m\u001B[43mf\u001B[49m\u001B[43m,\u001B[49m\u001B[43m \u001B[49m\u001B[38;5;241;43m*\u001B[39;49m\u001B[38;5;241;43m*\u001B[39;49m\u001B[43mkwargs\u001B[49m\u001B[43m)\u001B[49m\n\u001B[1;32m    351\u001B[0m     \u001B[38;5;28;01melse\u001B[39;00m:\n\u001B[1;32m    352\u001B[0m         applied \u001B[38;5;241m=\u001B[39m \u001B[38;5;28mgetattr\u001B[39m(b, f)(\u001B[38;5;241m*\u001B[39m\u001B[38;5;241m*\u001B[39mkwargs)\n",
      "File \u001B[0;32m~/anaconda3/lib/python3.10/site-packages/pandas/core/internals/blocks.py:351\u001B[0m, in \u001B[0;36mBlock.apply\u001B[0;34m(self, func, **kwargs)\u001B[0m\n\u001B[1;32m    345\u001B[0m \u001B[38;5;129m@final\u001B[39m\n\u001B[1;32m    346\u001B[0m \u001B[38;5;28;01mdef\u001B[39;00m \u001B[38;5;21mapply\u001B[39m(\u001B[38;5;28mself\u001B[39m, func, \u001B[38;5;241m*\u001B[39m\u001B[38;5;241m*\u001B[39mkwargs) \u001B[38;5;241m-\u001B[39m\u001B[38;5;241m>\u001B[39m \u001B[38;5;28mlist\u001B[39m[Block]:\n\u001B[1;32m    347\u001B[0m     \u001B[38;5;124;03m\"\"\"\u001B[39;00m\n\u001B[1;32m    348\u001B[0m \u001B[38;5;124;03m    apply the function to my values; return a block if we are not\u001B[39;00m\n\u001B[1;32m    349\u001B[0m \u001B[38;5;124;03m    one\u001B[39;00m\n\u001B[1;32m    350\u001B[0m \u001B[38;5;124;03m    \"\"\"\u001B[39;00m\n\u001B[0;32m--> 351\u001B[0m     result \u001B[38;5;241m=\u001B[39m \u001B[43mfunc\u001B[49m\u001B[43m(\u001B[49m\u001B[38;5;28;43mself\u001B[39;49m\u001B[38;5;241;43m.\u001B[39;49m\u001B[43mvalues\u001B[49m\u001B[43m,\u001B[49m\u001B[43m \u001B[49m\u001B[38;5;241;43m*\u001B[39;49m\u001B[38;5;241;43m*\u001B[39;49m\u001B[43mkwargs\u001B[49m\u001B[43m)\u001B[49m\n\u001B[1;32m    353\u001B[0m     \u001B[38;5;28;01mreturn\u001B[39;00m \u001B[38;5;28mself\u001B[39m\u001B[38;5;241m.\u001B[39m_split_op_result(result)\n",
      "File \u001B[0;32m~/anaconda3/lib/python3.10/site-packages/pandas/core/ops/array_ops.py:226\u001B[0m, in \u001B[0;36marithmetic_op\u001B[0;34m(left, right, op)\u001B[0m\n\u001B[1;32m    222\u001B[0m     _bool_arith_check(op, left, right)\n\u001B[1;32m    224\u001B[0m     \u001B[38;5;66;03m# error: Argument 1 to \"_na_arithmetic_op\" has incompatible type\u001B[39;00m\n\u001B[1;32m    225\u001B[0m     \u001B[38;5;66;03m# \"Union[ExtensionArray, ndarray[Any, Any]]\"; expected \"ndarray[Any, Any]\"\u001B[39;00m\n\u001B[0;32m--> 226\u001B[0m     res_values \u001B[38;5;241m=\u001B[39m \u001B[43m_na_arithmetic_op\u001B[49m\u001B[43m(\u001B[49m\u001B[43mleft\u001B[49m\u001B[43m,\u001B[49m\u001B[43m \u001B[49m\u001B[43mright\u001B[49m\u001B[43m,\u001B[49m\u001B[43m \u001B[49m\u001B[43mop\u001B[49m\u001B[43m)\u001B[49m  \u001B[38;5;66;03m# type: ignore[arg-type]\u001B[39;00m\n\u001B[1;32m    228\u001B[0m \u001B[38;5;28;01mreturn\u001B[39;00m res_values\n",
      "File \u001B[0;32m~/anaconda3/lib/python3.10/site-packages/pandas/core/ops/array_ops.py:172\u001B[0m, in \u001B[0;36m_na_arithmetic_op\u001B[0;34m(left, right, op, is_cmp)\u001B[0m\n\u001B[1;32m    166\u001B[0m \u001B[38;5;28;01mexcept\u001B[39;00m \u001B[38;5;167;01mTypeError\u001B[39;00m:\n\u001B[1;32m    167\u001B[0m     \u001B[38;5;28;01mif\u001B[39;00m \u001B[38;5;129;01mnot\u001B[39;00m is_cmp \u001B[38;5;129;01mand\u001B[39;00m (is_object_dtype(left\u001B[38;5;241m.\u001B[39mdtype) \u001B[38;5;129;01mor\u001B[39;00m is_object_dtype(right)):\n\u001B[1;32m    168\u001B[0m         \u001B[38;5;66;03m# For object dtype, fallback to a masked operation (only operating\u001B[39;00m\n\u001B[1;32m    169\u001B[0m         \u001B[38;5;66;03m#  on the non-missing values)\u001B[39;00m\n\u001B[1;32m    170\u001B[0m         \u001B[38;5;66;03m# Don't do this for comparisons, as that will handle complex numbers\u001B[39;00m\n\u001B[1;32m    171\u001B[0m         \u001B[38;5;66;03m#  incorrectly, see GH#32047\u001B[39;00m\n\u001B[0;32m--> 172\u001B[0m         result \u001B[38;5;241m=\u001B[39m \u001B[43m_masked_arith_op\u001B[49m\u001B[43m(\u001B[49m\u001B[43mleft\u001B[49m\u001B[43m,\u001B[49m\u001B[43m \u001B[49m\u001B[43mright\u001B[49m\u001B[43m,\u001B[49m\u001B[43m \u001B[49m\u001B[43mop\u001B[49m\u001B[43m)\u001B[49m\n\u001B[1;32m    173\u001B[0m     \u001B[38;5;28;01melse\u001B[39;00m:\n\u001B[1;32m    174\u001B[0m         \u001B[38;5;28;01mraise\u001B[39;00m\n",
      "File \u001B[0;32m~/anaconda3/lib/python3.10/site-packages/pandas/core/ops/array_ops.py:129\u001B[0m, in \u001B[0;36m_masked_arith_op\u001B[0;34m(x, y, op)\u001B[0m\n\u001B[1;32m    126\u001B[0m         mask \u001B[38;5;241m=\u001B[39m np\u001B[38;5;241m.\u001B[39mwhere(y \u001B[38;5;241m==\u001B[39m \u001B[38;5;241m1\u001B[39m, \u001B[38;5;28;01mFalse\u001B[39;00m, mask)\n\u001B[1;32m    128\u001B[0m     \u001B[38;5;28;01mif\u001B[39;00m mask\u001B[38;5;241m.\u001B[39many():\n\u001B[0;32m--> 129\u001B[0m         result[mask] \u001B[38;5;241m=\u001B[39m \u001B[43mop\u001B[49m\u001B[43m(\u001B[49m\u001B[43mxrav\u001B[49m\u001B[43m[\u001B[49m\u001B[43mmask\u001B[49m\u001B[43m]\u001B[49m\u001B[43m,\u001B[49m\u001B[43m \u001B[49m\u001B[43my\u001B[49m\u001B[43m)\u001B[49m\n\u001B[1;32m    131\u001B[0m np\u001B[38;5;241m.\u001B[39mputmask(result, \u001B[38;5;241m~\u001B[39mmask, np\u001B[38;5;241m.\u001B[39mnan)\n\u001B[1;32m    132\u001B[0m result \u001B[38;5;241m=\u001B[39m result\u001B[38;5;241m.\u001B[39mreshape(x\u001B[38;5;241m.\u001B[39mshape)  \u001B[38;5;66;03m# 2D compat\u001B[39;00m\n",
      "\u001B[0;31mTypeError\u001B[0m: can only concatenate str (not \"int\") to str"
     ]
    }
   ],
   "source": [
    "colleges + 5"
   ],
   "metadata": {
    "collapsed": false
   }
  },
  {
   "cell_type": "code",
   "execution_count": 71,
   "outputs": [],
   "source": [
    "colleges = pd.read_csv('../data/college.csv', index_col='INSTNM')"
   ],
   "metadata": {
    "collapsed": false
   }
  },
  {
   "cell_type": "code",
   "execution_count": 72,
   "outputs": [],
   "source": [
    "college_ugds = colleges.filter(like='UGDS_')"
   ],
   "metadata": {
    "collapsed": false
   }
  },
  {
   "cell_type": "code",
   "execution_count": 73,
   "outputs": [
    {
     "data": {
      "text/plain": "                                     UGDS_WHITE  UGDS_BLACK  UGDS_HISP  \\\nINSTNM                                                                   \nAlabama A & M University                 0.0333      0.9353     0.0055   \nUniversity of Alabama at Birmingham      0.5922      0.2600     0.0283   \nAmridge University                       0.2990      0.4192     0.0069   \nUniversity of Alabama in Huntsville      0.6988      0.1255     0.0382   \nAlabama State University                 0.0158      0.9208     0.0121   \n\n                                     UGDS_ASIAN  UGDS_AIAN  UGDS_NHPI  \\\nINSTNM                                                                  \nAlabama A & M University                 0.0019     0.0024     0.0019   \nUniversity of Alabama at Birmingham      0.0518     0.0022     0.0007   \nAmridge University                       0.0034     0.0000     0.0000   \nUniversity of Alabama in Huntsville      0.0376     0.0143     0.0002   \nAlabama State University                 0.0019     0.0010     0.0006   \n\n                                     UGDS_2MOR  UGDS_NRA  UGDS_UNKN  \nINSTNM                                                               \nAlabama A & M University                0.0000    0.0059     0.0138  \nUniversity of Alabama at Birmingham     0.0368    0.0179     0.0100  \nAmridge University                      0.0000    0.0000     0.2715  \nUniversity of Alabama in Huntsville     0.0172    0.0332     0.0350  \nAlabama State University                0.0098    0.0243     0.0137  ",
      "text/html": "<div>\n<style scoped>\n    .dataframe tbody tr th:only-of-type {\n        vertical-align: middle;\n    }\n\n    .dataframe tbody tr th {\n        vertical-align: top;\n    }\n\n    .dataframe thead th {\n        text-align: right;\n    }\n</style>\n<table border=\"1\" class=\"dataframe\">\n  <thead>\n    <tr style=\"text-align: right;\">\n      <th></th>\n      <th>UGDS_WHITE</th>\n      <th>UGDS_BLACK</th>\n      <th>UGDS_HISP</th>\n      <th>UGDS_ASIAN</th>\n      <th>UGDS_AIAN</th>\n      <th>UGDS_NHPI</th>\n      <th>UGDS_2MOR</th>\n      <th>UGDS_NRA</th>\n      <th>UGDS_UNKN</th>\n    </tr>\n    <tr>\n      <th>INSTNM</th>\n      <th></th>\n      <th></th>\n      <th></th>\n      <th></th>\n      <th></th>\n      <th></th>\n      <th></th>\n      <th></th>\n      <th></th>\n    </tr>\n  </thead>\n  <tbody>\n    <tr>\n      <th>Alabama A &amp; M University</th>\n      <td>0.0333</td>\n      <td>0.9353</td>\n      <td>0.0055</td>\n      <td>0.0019</td>\n      <td>0.0024</td>\n      <td>0.0019</td>\n      <td>0.0000</td>\n      <td>0.0059</td>\n      <td>0.0138</td>\n    </tr>\n    <tr>\n      <th>University of Alabama at Birmingham</th>\n      <td>0.5922</td>\n      <td>0.2600</td>\n      <td>0.0283</td>\n      <td>0.0518</td>\n      <td>0.0022</td>\n      <td>0.0007</td>\n      <td>0.0368</td>\n      <td>0.0179</td>\n      <td>0.0100</td>\n    </tr>\n    <tr>\n      <th>Amridge University</th>\n      <td>0.2990</td>\n      <td>0.4192</td>\n      <td>0.0069</td>\n      <td>0.0034</td>\n      <td>0.0000</td>\n      <td>0.0000</td>\n      <td>0.0000</td>\n      <td>0.0000</td>\n      <td>0.2715</td>\n    </tr>\n    <tr>\n      <th>University of Alabama in Huntsville</th>\n      <td>0.6988</td>\n      <td>0.1255</td>\n      <td>0.0382</td>\n      <td>0.0376</td>\n      <td>0.0143</td>\n      <td>0.0002</td>\n      <td>0.0172</td>\n      <td>0.0332</td>\n      <td>0.0350</td>\n    </tr>\n    <tr>\n      <th>Alabama State University</th>\n      <td>0.0158</td>\n      <td>0.9208</td>\n      <td>0.0121</td>\n      <td>0.0019</td>\n      <td>0.0010</td>\n      <td>0.0006</td>\n      <td>0.0098</td>\n      <td>0.0243</td>\n      <td>0.0137</td>\n    </tr>\n  </tbody>\n</table>\n</div>"
     },
     "execution_count": 73,
     "metadata": {},
     "output_type": "execute_result"
    }
   ],
   "source": [
    "college_ugds.head()"
   ],
   "metadata": {
    "collapsed": false
   }
  },
  {
   "cell_type": "code",
   "execution_count": 74,
   "outputs": [],
   "source": [
    "name = 'Northwest-Shoals Community College'"
   ],
   "metadata": {
    "collapsed": false
   }
  },
  {
   "cell_type": "code",
   "execution_count": 75,
   "outputs": [
    {
     "data": {
      "text/plain": "UGDS_WHITE    0.7912\nUGDS_BLACK    0.1250\nUGDS_HISP     0.0339\nUGDS_ASIAN    0.0036\nUGDS_AIAN     0.0088\nUGDS_NHPI     0.0006\nUGDS_2MOR     0.0012\nUGDS_NRA      0.0033\nUGDS_UNKN     0.0324\nName: Northwest-Shoals Community College, dtype: float64"
     },
     "execution_count": 75,
     "metadata": {},
     "output_type": "execute_result"
    }
   ],
   "source": [
    "college_ugds.loc[name]"
   ],
   "metadata": {
    "collapsed": false
   }
  },
  {
   "cell_type": "code",
   "execution_count": 76,
   "outputs": [
    {
     "data": {
      "text/plain": "UGDS_WHITE    0.79\nUGDS_BLACK    0.12\nUGDS_HISP     0.03\nUGDS_ASIAN    0.00\nUGDS_AIAN     0.01\nUGDS_NHPI     0.00\nUGDS_2MOR     0.00\nUGDS_NRA      0.00\nUGDS_UNKN     0.03\nName: Northwest-Shoals Community College, dtype: float64"
     },
     "execution_count": 76,
     "metadata": {},
     "output_type": "execute_result"
    }
   ],
   "source": [
    "college_ugds.loc[name].round(2)"
   ],
   "metadata": {
    "collapsed": false
   }
  },
  {
   "cell_type": "code",
   "execution_count": 77,
   "outputs": [
    {
     "data": {
      "text/plain": "UGDS_WHITE    0.79\nUGDS_BLACK    0.13\nUGDS_HISP     0.03\nUGDS_ASIAN    0.00\nUGDS_AIAN     0.01\nUGDS_NHPI     0.00\nUGDS_2MOR     0.00\nUGDS_NRA      0.00\nUGDS_UNKN     0.03\nName: Northwest-Shoals Community College, dtype: float64"
     },
     "execution_count": 77,
     "metadata": {},
     "output_type": "execute_result"
    }
   ],
   "source": [
    "(college_ugds.loc[name] + 0.0001).round(2)"
   ],
   "metadata": {
    "collapsed": false
   }
  },
  {
   "cell_type": "code",
   "execution_count": 78,
   "outputs": [
    {
     "data": {
      "text/plain": "                                                    UGDS_WHITE  UGDS_BLACK  \\\nINSTNM                                                                       \nAlabama A & M University                               0.03831     0.94031   \nUniversity of Alabama at Birmingham                    0.59721     0.26501   \nAmridge University                                     0.30401     0.42421   \nUniversity of Alabama in Huntsville                    0.70381     0.13051   \nAlabama State University                               0.02081     0.92581   \n...                                                        ...         ...   \nSAE Institute of Technology  San Francisco                 NaN         NaN   \nRasmussen College - Overland Park                          NaN         NaN   \nNational Personal Training Institute of Cleveland          NaN         NaN   \nBay Area Medical Academy - San Jose Satellite L...         NaN         NaN   \nExcel Learning Center-San Antonio South                    NaN         NaN   \n\n                                                    UGDS_HISP  UGDS_ASIAN  \\\nINSTNM                                                                      \nAlabama A & M University                              0.01051     0.00691   \nUniversity of Alabama at Birmingham                   0.03331     0.05681   \nAmridge University                                    0.01191     0.00841   \nUniversity of Alabama in Huntsville                   0.04321     0.04261   \nAlabama State University                              0.01711     0.00691   \n...                                                       ...         ...   \nSAE Institute of Technology  San Francisco                NaN         NaN   \nRasmussen College - Overland Park                         NaN         NaN   \nNational Personal Training Institute of Cleveland         NaN         NaN   \nBay Area Medical Academy - San Jose Satellite L...        NaN         NaN   \nExcel Learning Center-San Antonio South                   NaN         NaN   \n\n                                                    UGDS_AIAN  UGDS_NHPI  \\\nINSTNM                                                                     \nAlabama A & M University                              0.00741    0.00691   \nUniversity of Alabama at Birmingham                   0.00721    0.00571   \nAmridge University                                    0.00501    0.00501   \nUniversity of Alabama in Huntsville                   0.01931    0.00521   \nAlabama State University                              0.00601    0.00561   \n...                                                       ...        ...   \nSAE Institute of Technology  San Francisco                NaN        NaN   \nRasmussen College - Overland Park                         NaN        NaN   \nNational Personal Training Institute of Cleveland         NaN        NaN   \nBay Area Medical Academy - San Jose Satellite L...        NaN        NaN   \nExcel Learning Center-San Antonio South                   NaN        NaN   \n\n                                                    UGDS_2MOR  UGDS_NRA  \\\nINSTNM                                                                    \nAlabama A & M University                              0.00501   0.01091   \nUniversity of Alabama at Birmingham                   0.04181   0.02291   \nAmridge University                                    0.00501   0.00501   \nUniversity of Alabama in Huntsville                   0.02221   0.03821   \nAlabama State University                              0.01481   0.02931   \n...                                                       ...       ...   \nSAE Institute of Technology  San Francisco                NaN       NaN   \nRasmussen College - Overland Park                         NaN       NaN   \nNational Personal Training Institute of Cleveland         NaN       NaN   \nBay Area Medical Academy - San Jose Satellite L...        NaN       NaN   \nExcel Learning Center-San Antonio South                   NaN       NaN   \n\n                                                    UGDS_UNKN  \nINSTNM                                                         \nAlabama A & M University                              0.01881  \nUniversity of Alabama at Birmingham                   0.01501  \nAmridge University                                    0.27651  \nUniversity of Alabama in Huntsville                   0.04001  \nAlabama State University                              0.01871  \n...                                                       ...  \nSAE Institute of Technology  San Francisco                NaN  \nRasmussen College - Overland Park                         NaN  \nNational Personal Training Institute of Cleveland         NaN  \nBay Area Medical Academy - San Jose Satellite L...        NaN  \nExcel Learning Center-San Antonio South                   NaN  \n\n[7535 rows x 9 columns]",
      "text/html": "<div>\n<style scoped>\n    .dataframe tbody tr th:only-of-type {\n        vertical-align: middle;\n    }\n\n    .dataframe tbody tr th {\n        vertical-align: top;\n    }\n\n    .dataframe thead th {\n        text-align: right;\n    }\n</style>\n<table border=\"1\" class=\"dataframe\">\n  <thead>\n    <tr style=\"text-align: right;\">\n      <th></th>\n      <th>UGDS_WHITE</th>\n      <th>UGDS_BLACK</th>\n      <th>UGDS_HISP</th>\n      <th>UGDS_ASIAN</th>\n      <th>UGDS_AIAN</th>\n      <th>UGDS_NHPI</th>\n      <th>UGDS_2MOR</th>\n      <th>UGDS_NRA</th>\n      <th>UGDS_UNKN</th>\n    </tr>\n    <tr>\n      <th>INSTNM</th>\n      <th></th>\n      <th></th>\n      <th></th>\n      <th></th>\n      <th></th>\n      <th></th>\n      <th></th>\n      <th></th>\n      <th></th>\n    </tr>\n  </thead>\n  <tbody>\n    <tr>\n      <th>Alabama A &amp; M University</th>\n      <td>0.03831</td>\n      <td>0.94031</td>\n      <td>0.01051</td>\n      <td>0.00691</td>\n      <td>0.00741</td>\n      <td>0.00691</td>\n      <td>0.00501</td>\n      <td>0.01091</td>\n      <td>0.01881</td>\n    </tr>\n    <tr>\n      <th>University of Alabama at Birmingham</th>\n      <td>0.59721</td>\n      <td>0.26501</td>\n      <td>0.03331</td>\n      <td>0.05681</td>\n      <td>0.00721</td>\n      <td>0.00571</td>\n      <td>0.04181</td>\n      <td>0.02291</td>\n      <td>0.01501</td>\n    </tr>\n    <tr>\n      <th>Amridge University</th>\n      <td>0.30401</td>\n      <td>0.42421</td>\n      <td>0.01191</td>\n      <td>0.00841</td>\n      <td>0.00501</td>\n      <td>0.00501</td>\n      <td>0.00501</td>\n      <td>0.00501</td>\n      <td>0.27651</td>\n    </tr>\n    <tr>\n      <th>University of Alabama in Huntsville</th>\n      <td>0.70381</td>\n      <td>0.13051</td>\n      <td>0.04321</td>\n      <td>0.04261</td>\n      <td>0.01931</td>\n      <td>0.00521</td>\n      <td>0.02221</td>\n      <td>0.03821</td>\n      <td>0.04001</td>\n    </tr>\n    <tr>\n      <th>Alabama State University</th>\n      <td>0.02081</td>\n      <td>0.92581</td>\n      <td>0.01711</td>\n      <td>0.00691</td>\n      <td>0.00601</td>\n      <td>0.00561</td>\n      <td>0.01481</td>\n      <td>0.02931</td>\n      <td>0.01871</td>\n    </tr>\n    <tr>\n      <th>...</th>\n      <td>...</td>\n      <td>...</td>\n      <td>...</td>\n      <td>...</td>\n      <td>...</td>\n      <td>...</td>\n      <td>...</td>\n      <td>...</td>\n      <td>...</td>\n    </tr>\n    <tr>\n      <th>SAE Institute of Technology  San Francisco</th>\n      <td>NaN</td>\n      <td>NaN</td>\n      <td>NaN</td>\n      <td>NaN</td>\n      <td>NaN</td>\n      <td>NaN</td>\n      <td>NaN</td>\n      <td>NaN</td>\n      <td>NaN</td>\n    </tr>\n    <tr>\n      <th>Rasmussen College - Overland Park</th>\n      <td>NaN</td>\n      <td>NaN</td>\n      <td>NaN</td>\n      <td>NaN</td>\n      <td>NaN</td>\n      <td>NaN</td>\n      <td>NaN</td>\n      <td>NaN</td>\n      <td>NaN</td>\n    </tr>\n    <tr>\n      <th>National Personal Training Institute of Cleveland</th>\n      <td>NaN</td>\n      <td>NaN</td>\n      <td>NaN</td>\n      <td>NaN</td>\n      <td>NaN</td>\n      <td>NaN</td>\n      <td>NaN</td>\n      <td>NaN</td>\n      <td>NaN</td>\n    </tr>\n    <tr>\n      <th>Bay Area Medical Academy - San Jose Satellite Location</th>\n      <td>NaN</td>\n      <td>NaN</td>\n      <td>NaN</td>\n      <td>NaN</td>\n      <td>NaN</td>\n      <td>NaN</td>\n      <td>NaN</td>\n      <td>NaN</td>\n      <td>NaN</td>\n    </tr>\n    <tr>\n      <th>Excel Learning Center-San Antonio South</th>\n      <td>NaN</td>\n      <td>NaN</td>\n      <td>NaN</td>\n      <td>NaN</td>\n      <td>NaN</td>\n      <td>NaN</td>\n      <td>NaN</td>\n      <td>NaN</td>\n      <td>NaN</td>\n    </tr>\n  </tbody>\n</table>\n<p>7535 rows × 9 columns</p>\n</div>"
     },
     "execution_count": 78,
     "metadata": {},
     "output_type": "execute_result"
    }
   ],
   "source": [
    "college_ugds + 0.00501"
   ],
   "metadata": {
    "collapsed": false
   }
  },
  {
   "cell_type": "code",
   "execution_count": 79,
   "outputs": [
    {
     "data": {
      "text/plain": "                                                    UGDS_WHITE  UGDS_BLACK  \\\nINSTNM                                                                       \nAlabama A & M University                                   3.0        94.0   \nUniversity of Alabama at Birmingham                       59.0        26.0   \nAmridge University                                        30.0        42.0   \nUniversity of Alabama in Huntsville                       70.0        13.0   \nAlabama State University                                   2.0        92.0   \n...                                                        ...         ...   \nSAE Institute of Technology  San Francisco                 NaN         NaN   \nRasmussen College - Overland Park                          NaN         NaN   \nNational Personal Training Institute of Cleveland          NaN         NaN   \nBay Area Medical Academy - San Jose Satellite L...         NaN         NaN   \nExcel Learning Center-San Antonio South                    NaN         NaN   \n\n                                                    UGDS_HISP  UGDS_ASIAN  \\\nINSTNM                                                                      \nAlabama A & M University                                  1.0         0.0   \nUniversity of Alabama at Birmingham                       3.0         5.0   \nAmridge University                                        1.0         0.0   \nUniversity of Alabama in Huntsville                       4.0         4.0   \nAlabama State University                                  1.0         0.0   \n...                                                       ...         ...   \nSAE Institute of Technology  San Francisco                NaN         NaN   \nRasmussen College - Overland Park                         NaN         NaN   \nNational Personal Training Institute of Cleveland         NaN         NaN   \nBay Area Medical Academy - San Jose Satellite L...        NaN         NaN   \nExcel Learning Center-San Antonio South                   NaN         NaN   \n\n                                                    UGDS_AIAN  UGDS_NHPI  \\\nINSTNM                                                                     \nAlabama A & M University                                  0.0        0.0   \nUniversity of Alabama at Birmingham                       0.0        0.0   \nAmridge University                                        0.0        0.0   \nUniversity of Alabama in Huntsville                       1.0        0.0   \nAlabama State University                                  0.0        0.0   \n...                                                       ...        ...   \nSAE Institute of Technology  San Francisco                NaN        NaN   \nRasmussen College - Overland Park                         NaN        NaN   \nNational Personal Training Institute of Cleveland         NaN        NaN   \nBay Area Medical Academy - San Jose Satellite L...        NaN        NaN   \nExcel Learning Center-San Antonio South                   NaN        NaN   \n\n                                                    UGDS_2MOR  UGDS_NRA  \\\nINSTNM                                                                    \nAlabama A & M University                                  0.0       1.0   \nUniversity of Alabama at Birmingham                       4.0       2.0   \nAmridge University                                        0.0       0.0   \nUniversity of Alabama in Huntsville                       2.0       3.0   \nAlabama State University                                  1.0       2.0   \n...                                                       ...       ...   \nSAE Institute of Technology  San Francisco                NaN       NaN   \nRasmussen College - Overland Park                         NaN       NaN   \nNational Personal Training Institute of Cleveland         NaN       NaN   \nBay Area Medical Academy - San Jose Satellite L...        NaN       NaN   \nExcel Learning Center-San Antonio South                   NaN       NaN   \n\n                                                    UGDS_UNKN  \nINSTNM                                                         \nAlabama A & M University                                  1.0  \nUniversity of Alabama at Birmingham                       1.0  \nAmridge University                                       27.0  \nUniversity of Alabama in Huntsville                       4.0  \nAlabama State University                                  1.0  \n...                                                       ...  \nSAE Institute of Technology  San Francisco                NaN  \nRasmussen College - Overland Park                         NaN  \nNational Personal Training Institute of Cleveland         NaN  \nBay Area Medical Academy - San Jose Satellite L...        NaN  \nExcel Learning Center-San Antonio South                   NaN  \n\n[7535 rows x 9 columns]",
      "text/html": "<div>\n<style scoped>\n    .dataframe tbody tr th:only-of-type {\n        vertical-align: middle;\n    }\n\n    .dataframe tbody tr th {\n        vertical-align: top;\n    }\n\n    .dataframe thead th {\n        text-align: right;\n    }\n</style>\n<table border=\"1\" class=\"dataframe\">\n  <thead>\n    <tr style=\"text-align: right;\">\n      <th></th>\n      <th>UGDS_WHITE</th>\n      <th>UGDS_BLACK</th>\n      <th>UGDS_HISP</th>\n      <th>UGDS_ASIAN</th>\n      <th>UGDS_AIAN</th>\n      <th>UGDS_NHPI</th>\n      <th>UGDS_2MOR</th>\n      <th>UGDS_NRA</th>\n      <th>UGDS_UNKN</th>\n    </tr>\n    <tr>\n      <th>INSTNM</th>\n      <th></th>\n      <th></th>\n      <th></th>\n      <th></th>\n      <th></th>\n      <th></th>\n      <th></th>\n      <th></th>\n      <th></th>\n    </tr>\n  </thead>\n  <tbody>\n    <tr>\n      <th>Alabama A &amp; M University</th>\n      <td>3.0</td>\n      <td>94.0</td>\n      <td>1.0</td>\n      <td>0.0</td>\n      <td>0.0</td>\n      <td>0.0</td>\n      <td>0.0</td>\n      <td>1.0</td>\n      <td>1.0</td>\n    </tr>\n    <tr>\n      <th>University of Alabama at Birmingham</th>\n      <td>59.0</td>\n      <td>26.0</td>\n      <td>3.0</td>\n      <td>5.0</td>\n      <td>0.0</td>\n      <td>0.0</td>\n      <td>4.0</td>\n      <td>2.0</td>\n      <td>1.0</td>\n    </tr>\n    <tr>\n      <th>Amridge University</th>\n      <td>30.0</td>\n      <td>42.0</td>\n      <td>1.0</td>\n      <td>0.0</td>\n      <td>0.0</td>\n      <td>0.0</td>\n      <td>0.0</td>\n      <td>0.0</td>\n      <td>27.0</td>\n    </tr>\n    <tr>\n      <th>University of Alabama in Huntsville</th>\n      <td>70.0</td>\n      <td>13.0</td>\n      <td>4.0</td>\n      <td>4.0</td>\n      <td>1.0</td>\n      <td>0.0</td>\n      <td>2.0</td>\n      <td>3.0</td>\n      <td>4.0</td>\n    </tr>\n    <tr>\n      <th>Alabama State University</th>\n      <td>2.0</td>\n      <td>92.0</td>\n      <td>1.0</td>\n      <td>0.0</td>\n      <td>0.0</td>\n      <td>0.0</td>\n      <td>1.0</td>\n      <td>2.0</td>\n      <td>1.0</td>\n    </tr>\n    <tr>\n      <th>...</th>\n      <td>...</td>\n      <td>...</td>\n      <td>...</td>\n      <td>...</td>\n      <td>...</td>\n      <td>...</td>\n      <td>...</td>\n      <td>...</td>\n      <td>...</td>\n    </tr>\n    <tr>\n      <th>SAE Institute of Technology  San Francisco</th>\n      <td>NaN</td>\n      <td>NaN</td>\n      <td>NaN</td>\n      <td>NaN</td>\n      <td>NaN</td>\n      <td>NaN</td>\n      <td>NaN</td>\n      <td>NaN</td>\n      <td>NaN</td>\n    </tr>\n    <tr>\n      <th>Rasmussen College - Overland Park</th>\n      <td>NaN</td>\n      <td>NaN</td>\n      <td>NaN</td>\n      <td>NaN</td>\n      <td>NaN</td>\n      <td>NaN</td>\n      <td>NaN</td>\n      <td>NaN</td>\n      <td>NaN</td>\n    </tr>\n    <tr>\n      <th>National Personal Training Institute of Cleveland</th>\n      <td>NaN</td>\n      <td>NaN</td>\n      <td>NaN</td>\n      <td>NaN</td>\n      <td>NaN</td>\n      <td>NaN</td>\n      <td>NaN</td>\n      <td>NaN</td>\n      <td>NaN</td>\n    </tr>\n    <tr>\n      <th>Bay Area Medical Academy - San Jose Satellite Location</th>\n      <td>NaN</td>\n      <td>NaN</td>\n      <td>NaN</td>\n      <td>NaN</td>\n      <td>NaN</td>\n      <td>NaN</td>\n      <td>NaN</td>\n      <td>NaN</td>\n      <td>NaN</td>\n    </tr>\n    <tr>\n      <th>Excel Learning Center-San Antonio South</th>\n      <td>NaN</td>\n      <td>NaN</td>\n      <td>NaN</td>\n      <td>NaN</td>\n      <td>NaN</td>\n      <td>NaN</td>\n      <td>NaN</td>\n      <td>NaN</td>\n      <td>NaN</td>\n    </tr>\n  </tbody>\n</table>\n<p>7535 rows × 9 columns</p>\n</div>"
     },
     "execution_count": 79,
     "metadata": {},
     "output_type": "execute_result"
    }
   ],
   "source": [
    "(college_ugds + 0.00501) // 0.01"
   ],
   "metadata": {
    "collapsed": false
   }
  },
  {
   "cell_type": "code",
   "execution_count": 80,
   "outputs": [],
   "source": [
    "college_ugds_op_round = (\n",
    "    (college_ugds + 0.00501) // 0.01 / 100\n",
    ")"
   ],
   "metadata": {
    "collapsed": false
   }
  },
  {
   "cell_type": "code",
   "execution_count": 82,
   "outputs": [
    {
     "data": {
      "text/plain": "                                     UGDS_WHITE  UGDS_BLACK  UGDS_HISP  \\\nINSTNM                                                                   \nAlabama A & M University                   0.03        0.94       0.01   \nUniversity of Alabama at Birmingham        0.59        0.26       0.03   \nAmridge University                         0.30        0.42       0.01   \nUniversity of Alabama in Huntsville        0.70        0.13       0.04   \nAlabama State University                   0.02        0.92       0.01   \n\n                                     UGDS_ASIAN  UGDS_AIAN  UGDS_NHPI  \\\nINSTNM                                                                  \nAlabama A & M University                   0.00       0.00        0.0   \nUniversity of Alabama at Birmingham        0.05       0.00        0.0   \nAmridge University                         0.00       0.00        0.0   \nUniversity of Alabama in Huntsville        0.04       0.01        0.0   \nAlabama State University                   0.00       0.00        0.0   \n\n                                     UGDS_2MOR  UGDS_NRA  UGDS_UNKN  \nINSTNM                                                               \nAlabama A & M University                  0.00      0.01       0.01  \nUniversity of Alabama at Birmingham       0.04      0.02       0.01  \nAmridge University                        0.00      0.00       0.27  \nUniversity of Alabama in Huntsville       0.02      0.03       0.04  \nAlabama State University                  0.01      0.02       0.01  ",
      "text/html": "<div>\n<style scoped>\n    .dataframe tbody tr th:only-of-type {\n        vertical-align: middle;\n    }\n\n    .dataframe tbody tr th {\n        vertical-align: top;\n    }\n\n    .dataframe thead th {\n        text-align: right;\n    }\n</style>\n<table border=\"1\" class=\"dataframe\">\n  <thead>\n    <tr style=\"text-align: right;\">\n      <th></th>\n      <th>UGDS_WHITE</th>\n      <th>UGDS_BLACK</th>\n      <th>UGDS_HISP</th>\n      <th>UGDS_ASIAN</th>\n      <th>UGDS_AIAN</th>\n      <th>UGDS_NHPI</th>\n      <th>UGDS_2MOR</th>\n      <th>UGDS_NRA</th>\n      <th>UGDS_UNKN</th>\n    </tr>\n    <tr>\n      <th>INSTNM</th>\n      <th></th>\n      <th></th>\n      <th></th>\n      <th></th>\n      <th></th>\n      <th></th>\n      <th></th>\n      <th></th>\n      <th></th>\n    </tr>\n  </thead>\n  <tbody>\n    <tr>\n      <th>Alabama A &amp; M University</th>\n      <td>0.03</td>\n      <td>0.94</td>\n      <td>0.01</td>\n      <td>0.00</td>\n      <td>0.00</td>\n      <td>0.0</td>\n      <td>0.00</td>\n      <td>0.01</td>\n      <td>0.01</td>\n    </tr>\n    <tr>\n      <th>University of Alabama at Birmingham</th>\n      <td>0.59</td>\n      <td>0.26</td>\n      <td>0.03</td>\n      <td>0.05</td>\n      <td>0.00</td>\n      <td>0.0</td>\n      <td>0.04</td>\n      <td>0.02</td>\n      <td>0.01</td>\n    </tr>\n    <tr>\n      <th>Amridge University</th>\n      <td>0.30</td>\n      <td>0.42</td>\n      <td>0.01</td>\n      <td>0.00</td>\n      <td>0.00</td>\n      <td>0.0</td>\n      <td>0.00</td>\n      <td>0.00</td>\n      <td>0.27</td>\n    </tr>\n    <tr>\n      <th>University of Alabama in Huntsville</th>\n      <td>0.70</td>\n      <td>0.13</td>\n      <td>0.04</td>\n      <td>0.04</td>\n      <td>0.01</td>\n      <td>0.0</td>\n      <td>0.02</td>\n      <td>0.03</td>\n      <td>0.04</td>\n    </tr>\n    <tr>\n      <th>Alabama State University</th>\n      <td>0.02</td>\n      <td>0.92</td>\n      <td>0.01</td>\n      <td>0.00</td>\n      <td>0.00</td>\n      <td>0.0</td>\n      <td>0.01</td>\n      <td>0.02</td>\n      <td>0.01</td>\n    </tr>\n  </tbody>\n</table>\n</div>"
     },
     "execution_count": 82,
     "metadata": {},
     "output_type": "execute_result"
    }
   ],
   "source": [
    "college_ugds_op_round.head()"
   ],
   "metadata": {
    "collapsed": false
   }
  },
  {
   "cell_type": "code",
   "execution_count": 83,
   "outputs": [],
   "source": [
    "college_ugds_round = (college_ugds + 0.00001).round(2)"
   ],
   "metadata": {
    "collapsed": false
   }
  },
  {
   "cell_type": "code",
   "execution_count": 84,
   "outputs": [
    {
     "data": {
      "text/plain": "                                                    UGDS_WHITE  UGDS_BLACK  \\\nINSTNM                                                                       \nAlabama A & M University                                  0.03        0.94   \nUniversity of Alabama at Birmingham                       0.59        0.26   \nAmridge University                                        0.30        0.42   \nUniversity of Alabama in Huntsville                       0.70        0.13   \nAlabama State University                                  0.02        0.92   \n...                                                        ...         ...   \nSAE Institute of Technology  San Francisco                 NaN         NaN   \nRasmussen College - Overland Park                          NaN         NaN   \nNational Personal Training Institute of Cleveland          NaN         NaN   \nBay Area Medical Academy - San Jose Satellite L...         NaN         NaN   \nExcel Learning Center-San Antonio South                    NaN         NaN   \n\n                                                    UGDS_HISP  UGDS_ASIAN  \\\nINSTNM                                                                      \nAlabama A & M University                                 0.01        0.00   \nUniversity of Alabama at Birmingham                      0.03        0.05   \nAmridge University                                       0.01        0.00   \nUniversity of Alabama in Huntsville                      0.04        0.04   \nAlabama State University                                 0.01        0.00   \n...                                                       ...         ...   \nSAE Institute of Technology  San Francisco                NaN         NaN   \nRasmussen College - Overland Park                         NaN         NaN   \nNational Personal Training Institute of Cleveland         NaN         NaN   \nBay Area Medical Academy - San Jose Satellite L...        NaN         NaN   \nExcel Learning Center-San Antonio South                   NaN         NaN   \n\n                                                    UGDS_AIAN  UGDS_NHPI  \\\nINSTNM                                                                     \nAlabama A & M University                                 0.00        0.0   \nUniversity of Alabama at Birmingham                      0.00        0.0   \nAmridge University                                       0.00        0.0   \nUniversity of Alabama in Huntsville                      0.01        0.0   \nAlabama State University                                 0.00        0.0   \n...                                                       ...        ...   \nSAE Institute of Technology  San Francisco                NaN        NaN   \nRasmussen College - Overland Park                         NaN        NaN   \nNational Personal Training Institute of Cleveland         NaN        NaN   \nBay Area Medical Academy - San Jose Satellite L...        NaN        NaN   \nExcel Learning Center-San Antonio South                   NaN        NaN   \n\n                                                    UGDS_2MOR  UGDS_NRA  \\\nINSTNM                                                                    \nAlabama A & M University                                 0.00      0.01   \nUniversity of Alabama at Birmingham                      0.04      0.02   \nAmridge University                                       0.00      0.00   \nUniversity of Alabama in Huntsville                      0.02      0.03   \nAlabama State University                                 0.01      0.02   \n...                                                       ...       ...   \nSAE Institute of Technology  San Francisco                NaN       NaN   \nRasmussen College - Overland Park                         NaN       NaN   \nNational Personal Training Institute of Cleveland         NaN       NaN   \nBay Area Medical Academy - San Jose Satellite L...        NaN       NaN   \nExcel Learning Center-San Antonio South                   NaN       NaN   \n\n                                                    UGDS_UNKN  \nINSTNM                                                         \nAlabama A & M University                                 0.01  \nUniversity of Alabama at Birmingham                      0.01  \nAmridge University                                       0.27  \nUniversity of Alabama in Huntsville                      0.04  \nAlabama State University                                 0.01  \n...                                                       ...  \nSAE Institute of Technology  San Francisco                NaN  \nRasmussen College - Overland Park                         NaN  \nNational Personal Training Institute of Cleveland         NaN  \nBay Area Medical Academy - San Jose Satellite L...        NaN  \nExcel Learning Center-San Antonio South                   NaN  \n\n[7535 rows x 9 columns]",
      "text/html": "<div>\n<style scoped>\n    .dataframe tbody tr th:only-of-type {\n        vertical-align: middle;\n    }\n\n    .dataframe tbody tr th {\n        vertical-align: top;\n    }\n\n    .dataframe thead th {\n        text-align: right;\n    }\n</style>\n<table border=\"1\" class=\"dataframe\">\n  <thead>\n    <tr style=\"text-align: right;\">\n      <th></th>\n      <th>UGDS_WHITE</th>\n      <th>UGDS_BLACK</th>\n      <th>UGDS_HISP</th>\n      <th>UGDS_ASIAN</th>\n      <th>UGDS_AIAN</th>\n      <th>UGDS_NHPI</th>\n      <th>UGDS_2MOR</th>\n      <th>UGDS_NRA</th>\n      <th>UGDS_UNKN</th>\n    </tr>\n    <tr>\n      <th>INSTNM</th>\n      <th></th>\n      <th></th>\n      <th></th>\n      <th></th>\n      <th></th>\n      <th></th>\n      <th></th>\n      <th></th>\n      <th></th>\n    </tr>\n  </thead>\n  <tbody>\n    <tr>\n      <th>Alabama A &amp; M University</th>\n      <td>0.03</td>\n      <td>0.94</td>\n      <td>0.01</td>\n      <td>0.00</td>\n      <td>0.00</td>\n      <td>0.0</td>\n      <td>0.00</td>\n      <td>0.01</td>\n      <td>0.01</td>\n    </tr>\n    <tr>\n      <th>University of Alabama at Birmingham</th>\n      <td>0.59</td>\n      <td>0.26</td>\n      <td>0.03</td>\n      <td>0.05</td>\n      <td>0.00</td>\n      <td>0.0</td>\n      <td>0.04</td>\n      <td>0.02</td>\n      <td>0.01</td>\n    </tr>\n    <tr>\n      <th>Amridge University</th>\n      <td>0.30</td>\n      <td>0.42</td>\n      <td>0.01</td>\n      <td>0.00</td>\n      <td>0.00</td>\n      <td>0.0</td>\n      <td>0.00</td>\n      <td>0.00</td>\n      <td>0.27</td>\n    </tr>\n    <tr>\n      <th>University of Alabama in Huntsville</th>\n      <td>0.70</td>\n      <td>0.13</td>\n      <td>0.04</td>\n      <td>0.04</td>\n      <td>0.01</td>\n      <td>0.0</td>\n      <td>0.02</td>\n      <td>0.03</td>\n      <td>0.04</td>\n    </tr>\n    <tr>\n      <th>Alabama State University</th>\n      <td>0.02</td>\n      <td>0.92</td>\n      <td>0.01</td>\n      <td>0.00</td>\n      <td>0.00</td>\n      <td>0.0</td>\n      <td>0.01</td>\n      <td>0.02</td>\n      <td>0.01</td>\n    </tr>\n    <tr>\n      <th>...</th>\n      <td>...</td>\n      <td>...</td>\n      <td>...</td>\n      <td>...</td>\n      <td>...</td>\n      <td>...</td>\n      <td>...</td>\n      <td>...</td>\n      <td>...</td>\n    </tr>\n    <tr>\n      <th>SAE Institute of Technology  San Francisco</th>\n      <td>NaN</td>\n      <td>NaN</td>\n      <td>NaN</td>\n      <td>NaN</td>\n      <td>NaN</td>\n      <td>NaN</td>\n      <td>NaN</td>\n      <td>NaN</td>\n      <td>NaN</td>\n    </tr>\n    <tr>\n      <th>Rasmussen College - Overland Park</th>\n      <td>NaN</td>\n      <td>NaN</td>\n      <td>NaN</td>\n      <td>NaN</td>\n      <td>NaN</td>\n      <td>NaN</td>\n      <td>NaN</td>\n      <td>NaN</td>\n      <td>NaN</td>\n    </tr>\n    <tr>\n      <th>National Personal Training Institute of Cleveland</th>\n      <td>NaN</td>\n      <td>NaN</td>\n      <td>NaN</td>\n      <td>NaN</td>\n      <td>NaN</td>\n      <td>NaN</td>\n      <td>NaN</td>\n      <td>NaN</td>\n      <td>NaN</td>\n    </tr>\n    <tr>\n      <th>Bay Area Medical Academy - San Jose Satellite Location</th>\n      <td>NaN</td>\n      <td>NaN</td>\n      <td>NaN</td>\n      <td>NaN</td>\n      <td>NaN</td>\n      <td>NaN</td>\n      <td>NaN</td>\n      <td>NaN</td>\n      <td>NaN</td>\n    </tr>\n    <tr>\n      <th>Excel Learning Center-San Antonio South</th>\n      <td>NaN</td>\n      <td>NaN</td>\n      <td>NaN</td>\n      <td>NaN</td>\n      <td>NaN</td>\n      <td>NaN</td>\n      <td>NaN</td>\n      <td>NaN</td>\n      <td>NaN</td>\n    </tr>\n  </tbody>\n</table>\n<p>7535 rows × 9 columns</p>\n</div>"
     },
     "execution_count": 84,
     "metadata": {},
     "output_type": "execute_result"
    }
   ],
   "source": [
    "college_ugds_round"
   ],
   "metadata": {
    "collapsed": false
   }
  },
  {
   "cell_type": "code",
   "execution_count": 85,
   "outputs": [
    {
     "data": {
      "text/plain": "True"
     },
     "execution_count": 85,
     "metadata": {},
     "output_type": "execute_result"
    }
   ],
   "source": [
    "college_ugds_op_round.equals(college_ugds_round)"
   ],
   "metadata": {
    "collapsed": false
   }
  },
  {
   "cell_type": "markdown",
   "source": [
    "결측치 비교"
   ],
   "metadata": {
    "collapsed": false
   }
  },
  {
   "cell_type": "code",
   "execution_count": 86,
   "outputs": [
    {
     "data": {
      "text/plain": "False"
     },
     "execution_count": 86,
     "metadata": {},
     "output_type": "execute_result"
    }
   ],
   "source": [
    "np.nan == np.nan"
   ],
   "metadata": {
    "collapsed": false
   }
  },
  {
   "cell_type": "code",
   "execution_count": 87,
   "outputs": [
    {
     "data": {
      "text/plain": "False"
     },
     "execution_count": 87,
     "metadata": {},
     "output_type": "execute_result"
    }
   ],
   "source": [
    "np.nan > 5"
   ],
   "metadata": {
    "collapsed": false
   }
  },
  {
   "cell_type": "code",
   "execution_count": 88,
   "outputs": [
    {
     "data": {
      "text/plain": "False"
     },
     "execution_count": 88,
     "metadata": {},
     "output_type": "execute_result"
    }
   ],
   "source": [
    "np.nan < 5"
   ],
   "metadata": {
    "collapsed": false
   }
  },
  {
   "cell_type": "code",
   "execution_count": 89,
   "outputs": [
    {
     "data": {
      "text/plain": "True"
     },
     "execution_count": 89,
     "metadata": {},
     "output_type": "execute_result"
    }
   ],
   "source": [
    "np.nan != 5"
   ],
   "metadata": {
    "collapsed": false
   }
  },
  {
   "cell_type": "code",
   "execution_count": 90,
   "outputs": [],
   "source": [
    "college = pd.read_csv('../data/college.csv', index_col='INSTNM')"
   ],
   "metadata": {
    "collapsed": false
   }
  },
  {
   "cell_type": "code",
   "execution_count": 91,
   "outputs": [],
   "source": [
    "college_ugds = college.filter(like='UGDS_')"
   ],
   "metadata": {
    "collapsed": false
   }
  },
  {
   "cell_type": "code",
   "execution_count": 92,
   "outputs": [
    {
     "data": {
      "text/plain": "                                                    UGDS_WHITE  UGDS_BLACK  \\\nINSTNM                                                                       \nAlabama A & M University                                 False       False   \nUniversity of Alabama at Birmingham                      False       False   \nAmridge University                                       False       False   \nUniversity of Alabama in Huntsville                      False       False   \nAlabama State University                                 False       False   \n...                                                        ...         ...   \nSAE Institute of Technology  San Francisco               False       False   \nRasmussen College - Overland Park                        False       False   \nNational Personal Training Institute of Cleveland        False       False   \nBay Area Medical Academy - San Jose Satellite L...       False       False   \nExcel Learning Center-San Antonio South                  False       False   \n\n                                                    UGDS_HISP  UGDS_ASIAN  \\\nINSTNM                                                                      \nAlabama A & M University                                False        True   \nUniversity of Alabama at Birmingham                     False       False   \nAmridge University                                      False       False   \nUniversity of Alabama in Huntsville                     False       False   \nAlabama State University                                False        True   \n...                                                       ...         ...   \nSAE Institute of Technology  San Francisco              False       False   \nRasmussen College - Overland Park                       False       False   \nNational Personal Training Institute of Cleveland       False       False   \nBay Area Medical Academy - San Jose Satellite L...      False       False   \nExcel Learning Center-San Antonio South                 False       False   \n\n                                                    UGDS_AIAN  UGDS_NHPI  \\\nINSTNM                                                                     \nAlabama A & M University                                False       True   \nUniversity of Alabama at Birmingham                     False      False   \nAmridge University                                      False      False   \nUniversity of Alabama in Huntsville                     False      False   \nAlabama State University                                False      False   \n...                                                       ...        ...   \nSAE Institute of Technology  San Francisco              False      False   \nRasmussen College - Overland Park                       False      False   \nNational Personal Training Institute of Cleveland       False      False   \nBay Area Medical Academy - San Jose Satellite L...      False      False   \nExcel Learning Center-San Antonio South                 False      False   \n\n                                                    UGDS_2MOR  UGDS_NRA  \\\nINSTNM                                                                    \nAlabama A & M University                                False     False   \nUniversity of Alabama at Birmingham                     False     False   \nAmridge University                                      False     False   \nUniversity of Alabama in Huntsville                     False     False   \nAlabama State University                                False     False   \n...                                                       ...       ...   \nSAE Institute of Technology  San Francisco              False     False   \nRasmussen College - Overland Park                       False     False   \nNational Personal Training Institute of Cleveland       False     False   \nBay Area Medical Academy - San Jose Satellite L...      False     False   \nExcel Learning Center-San Antonio South                 False     False   \n\n                                                    UGDS_UNKN  \nINSTNM                                                         \nAlabama A & M University                                False  \nUniversity of Alabama at Birmingham                     False  \nAmridge University                                      False  \nUniversity of Alabama in Huntsville                     False  \nAlabama State University                                False  \n...                                                       ...  \nSAE Institute of Technology  San Francisco              False  \nRasmussen College - Overland Park                       False  \nNational Personal Training Institute of Cleveland       False  \nBay Area Medical Academy - San Jose Satellite L...      False  \nExcel Learning Center-San Antonio South                 False  \n\n[7535 rows x 9 columns]",
      "text/html": "<div>\n<style scoped>\n    .dataframe tbody tr th:only-of-type {\n        vertical-align: middle;\n    }\n\n    .dataframe tbody tr th {\n        vertical-align: top;\n    }\n\n    .dataframe thead th {\n        text-align: right;\n    }\n</style>\n<table border=\"1\" class=\"dataframe\">\n  <thead>\n    <tr style=\"text-align: right;\">\n      <th></th>\n      <th>UGDS_WHITE</th>\n      <th>UGDS_BLACK</th>\n      <th>UGDS_HISP</th>\n      <th>UGDS_ASIAN</th>\n      <th>UGDS_AIAN</th>\n      <th>UGDS_NHPI</th>\n      <th>UGDS_2MOR</th>\n      <th>UGDS_NRA</th>\n      <th>UGDS_UNKN</th>\n    </tr>\n    <tr>\n      <th>INSTNM</th>\n      <th></th>\n      <th></th>\n      <th></th>\n      <th></th>\n      <th></th>\n      <th></th>\n      <th></th>\n      <th></th>\n      <th></th>\n    </tr>\n  </thead>\n  <tbody>\n    <tr>\n      <th>Alabama A &amp; M University</th>\n      <td>False</td>\n      <td>False</td>\n      <td>False</td>\n      <td>True</td>\n      <td>False</td>\n      <td>True</td>\n      <td>False</td>\n      <td>False</td>\n      <td>False</td>\n    </tr>\n    <tr>\n      <th>University of Alabama at Birmingham</th>\n      <td>False</td>\n      <td>False</td>\n      <td>False</td>\n      <td>False</td>\n      <td>False</td>\n      <td>False</td>\n      <td>False</td>\n      <td>False</td>\n      <td>False</td>\n    </tr>\n    <tr>\n      <th>Amridge University</th>\n      <td>False</td>\n      <td>False</td>\n      <td>False</td>\n      <td>False</td>\n      <td>False</td>\n      <td>False</td>\n      <td>False</td>\n      <td>False</td>\n      <td>False</td>\n    </tr>\n    <tr>\n      <th>University of Alabama in Huntsville</th>\n      <td>False</td>\n      <td>False</td>\n      <td>False</td>\n      <td>False</td>\n      <td>False</td>\n      <td>False</td>\n      <td>False</td>\n      <td>False</td>\n      <td>False</td>\n    </tr>\n    <tr>\n      <th>Alabama State University</th>\n      <td>False</td>\n      <td>False</td>\n      <td>False</td>\n      <td>True</td>\n      <td>False</td>\n      <td>False</td>\n      <td>False</td>\n      <td>False</td>\n      <td>False</td>\n    </tr>\n    <tr>\n      <th>...</th>\n      <td>...</td>\n      <td>...</td>\n      <td>...</td>\n      <td>...</td>\n      <td>...</td>\n      <td>...</td>\n      <td>...</td>\n      <td>...</td>\n      <td>...</td>\n    </tr>\n    <tr>\n      <th>SAE Institute of Technology  San Francisco</th>\n      <td>False</td>\n      <td>False</td>\n      <td>False</td>\n      <td>False</td>\n      <td>False</td>\n      <td>False</td>\n      <td>False</td>\n      <td>False</td>\n      <td>False</td>\n    </tr>\n    <tr>\n      <th>Rasmussen College - Overland Park</th>\n      <td>False</td>\n      <td>False</td>\n      <td>False</td>\n      <td>False</td>\n      <td>False</td>\n      <td>False</td>\n      <td>False</td>\n      <td>False</td>\n      <td>False</td>\n    </tr>\n    <tr>\n      <th>National Personal Training Institute of Cleveland</th>\n      <td>False</td>\n      <td>False</td>\n      <td>False</td>\n      <td>False</td>\n      <td>False</td>\n      <td>False</td>\n      <td>False</td>\n      <td>False</td>\n      <td>False</td>\n    </tr>\n    <tr>\n      <th>Bay Area Medical Academy - San Jose Satellite Location</th>\n      <td>False</td>\n      <td>False</td>\n      <td>False</td>\n      <td>False</td>\n      <td>False</td>\n      <td>False</td>\n      <td>False</td>\n      <td>False</td>\n      <td>False</td>\n    </tr>\n    <tr>\n      <th>Excel Learning Center-San Antonio South</th>\n      <td>False</td>\n      <td>False</td>\n      <td>False</td>\n      <td>False</td>\n      <td>False</td>\n      <td>False</td>\n      <td>False</td>\n      <td>False</td>\n      <td>False</td>\n    </tr>\n  </tbody>\n</table>\n<p>7535 rows × 9 columns</p>\n</div>"
     },
     "execution_count": 92,
     "metadata": {},
     "output_type": "execute_result"
    }
   ],
   "source": [
    "college_ugds == 0.0019"
   ],
   "metadata": {
    "collapsed": false
   }
  },
  {
   "cell_type": "code",
   "execution_count": 93,
   "outputs": [],
   "source": [
    "college_self_compare = college_ugds == college_ugds"
   ],
   "metadata": {
    "collapsed": false
   }
  },
  {
   "cell_type": "code",
   "execution_count": 94,
   "outputs": [
    {
     "data": {
      "text/plain": "                                     UGDS_WHITE  UGDS_BLACK  UGDS_HISP  \\\nINSTNM                                                                   \nAlabama A & M University                   True        True       True   \nUniversity of Alabama at Birmingham        True        True       True   \nAmridge University                         True        True       True   \nUniversity of Alabama in Huntsville        True        True       True   \nAlabama State University                   True        True       True   \n\n                                     UGDS_ASIAN  UGDS_AIAN  UGDS_NHPI  \\\nINSTNM                                                                  \nAlabama A & M University                   True       True       True   \nUniversity of Alabama at Birmingham        True       True       True   \nAmridge University                         True       True       True   \nUniversity of Alabama in Huntsville        True       True       True   \nAlabama State University                   True       True       True   \n\n                                     UGDS_2MOR  UGDS_NRA  UGDS_UNKN  \nINSTNM                                                               \nAlabama A & M University                  True      True       True  \nUniversity of Alabama at Birmingham       True      True       True  \nAmridge University                        True      True       True  \nUniversity of Alabama in Huntsville       True      True       True  \nAlabama State University                  True      True       True  ",
      "text/html": "<div>\n<style scoped>\n    .dataframe tbody tr th:only-of-type {\n        vertical-align: middle;\n    }\n\n    .dataframe tbody tr th {\n        vertical-align: top;\n    }\n\n    .dataframe thead th {\n        text-align: right;\n    }\n</style>\n<table border=\"1\" class=\"dataframe\">\n  <thead>\n    <tr style=\"text-align: right;\">\n      <th></th>\n      <th>UGDS_WHITE</th>\n      <th>UGDS_BLACK</th>\n      <th>UGDS_HISP</th>\n      <th>UGDS_ASIAN</th>\n      <th>UGDS_AIAN</th>\n      <th>UGDS_NHPI</th>\n      <th>UGDS_2MOR</th>\n      <th>UGDS_NRA</th>\n      <th>UGDS_UNKN</th>\n    </tr>\n    <tr>\n      <th>INSTNM</th>\n      <th></th>\n      <th></th>\n      <th></th>\n      <th></th>\n      <th></th>\n      <th></th>\n      <th></th>\n      <th></th>\n      <th></th>\n    </tr>\n  </thead>\n  <tbody>\n    <tr>\n      <th>Alabama A &amp; M University</th>\n      <td>True</td>\n      <td>True</td>\n      <td>True</td>\n      <td>True</td>\n      <td>True</td>\n      <td>True</td>\n      <td>True</td>\n      <td>True</td>\n      <td>True</td>\n    </tr>\n    <tr>\n      <th>University of Alabama at Birmingham</th>\n      <td>True</td>\n      <td>True</td>\n      <td>True</td>\n      <td>True</td>\n      <td>True</td>\n      <td>True</td>\n      <td>True</td>\n      <td>True</td>\n      <td>True</td>\n    </tr>\n    <tr>\n      <th>Amridge University</th>\n      <td>True</td>\n      <td>True</td>\n      <td>True</td>\n      <td>True</td>\n      <td>True</td>\n      <td>True</td>\n      <td>True</td>\n      <td>True</td>\n      <td>True</td>\n    </tr>\n    <tr>\n      <th>University of Alabama in Huntsville</th>\n      <td>True</td>\n      <td>True</td>\n      <td>True</td>\n      <td>True</td>\n      <td>True</td>\n      <td>True</td>\n      <td>True</td>\n      <td>True</td>\n      <td>True</td>\n    </tr>\n    <tr>\n      <th>Alabama State University</th>\n      <td>True</td>\n      <td>True</td>\n      <td>True</td>\n      <td>True</td>\n      <td>True</td>\n      <td>True</td>\n      <td>True</td>\n      <td>True</td>\n      <td>True</td>\n    </tr>\n  </tbody>\n</table>\n</div>"
     },
     "execution_count": 94,
     "metadata": {},
     "output_type": "execute_result"
    }
   ],
   "source": [
    "college_self_compare.head()"
   ],
   "metadata": {
    "collapsed": false
   }
  },
  {
   "cell_type": "code",
   "execution_count": 95,
   "outputs": [
    {
     "data": {
      "text/plain": "UGDS_WHITE    False\nUGDS_BLACK    False\nUGDS_HISP     False\nUGDS_ASIAN    False\nUGDS_AIAN     False\nUGDS_NHPI     False\nUGDS_2MOR     False\nUGDS_NRA      False\nUGDS_UNKN     False\ndtype: bool"
     },
     "execution_count": 95,
     "metadata": {},
     "output_type": "execute_result"
    }
   ],
   "source": [
    "college_self_compare.all()"
   ],
   "metadata": {
    "collapsed": false
   }
  },
  {
   "cell_type": "code",
   "execution_count": 96,
   "outputs": [
    {
     "data": {
      "text/plain": "UGDS_WHITE    661\nUGDS_BLACK    661\nUGDS_HISP     661\nUGDS_ASIAN    661\nUGDS_AIAN     661\nUGDS_NHPI     661\nUGDS_2MOR     661\nUGDS_NRA      661\nUGDS_UNKN     661\ndtype: int64"
     },
     "execution_count": 96,
     "metadata": {},
     "output_type": "execute_result"
    }
   ],
   "source": [
    "college_ugds.isna().sum()"
   ],
   "metadata": {
    "collapsed": false
   }
  },
  {
   "cell_type": "code",
   "execution_count": 97,
   "outputs": [
    {
     "data": {
      "text/plain": "True"
     },
     "execution_count": 97,
     "metadata": {},
     "output_type": "execute_result"
    }
   ],
   "source": [
    "college_ugds.equals(college_ugds)"
   ],
   "metadata": {
    "collapsed": false
   }
  },
  {
   "cell_type": "code",
   "execution_count": 98,
   "outputs": [],
   "source": [
    "from pandas.testing import assert_frame_equal"
   ],
   "metadata": {
    "collapsed": false
   }
  },
  {
   "cell_type": "code",
   "execution_count": 99,
   "outputs": [
    {
     "data": {
      "text/plain": "True"
     },
     "execution_count": 99,
     "metadata": {},
     "output_type": "execute_result"
    }
   ],
   "source": [
    "assert_frame_equal(college_ugds, college_ugds) is None"
   ],
   "metadata": {
    "collapsed": false
   }
  },
  {
   "cell_type": "markdown",
   "source": [
    "DataFrame 연산 방향 전환"
   ],
   "metadata": {
    "collapsed": false
   }
  },
  {
   "cell_type": "code",
   "execution_count": 100,
   "outputs": [],
   "source": [
    "college = pd.read_csv('../data/college.csv', index_col='INSTNM')"
   ],
   "metadata": {
    "collapsed": false
   }
  },
  {
   "cell_type": "code",
   "execution_count": 101,
   "outputs": [],
   "source": [
    "college_ugds = college.filter(like=\"UGDS_\")"
   ],
   "metadata": {
    "collapsed": false
   }
  },
  {
   "cell_type": "code",
   "execution_count": 102,
   "outputs": [
    {
     "data": {
      "text/plain": "                                     UGDS_WHITE  UGDS_BLACK  UGDS_HISP  \\\nINSTNM                                                                   \nAlabama A & M University                 0.0333      0.9353     0.0055   \nUniversity of Alabama at Birmingham      0.5922      0.2600     0.0283   \nAmridge University                       0.2990      0.4192     0.0069   \nUniversity of Alabama in Huntsville      0.6988      0.1255     0.0382   \nAlabama State University                 0.0158      0.9208     0.0121   \n\n                                     UGDS_ASIAN  UGDS_AIAN  UGDS_NHPI  \\\nINSTNM                                                                  \nAlabama A & M University                 0.0019     0.0024     0.0019   \nUniversity of Alabama at Birmingham      0.0518     0.0022     0.0007   \nAmridge University                       0.0034     0.0000     0.0000   \nUniversity of Alabama in Huntsville      0.0376     0.0143     0.0002   \nAlabama State University                 0.0019     0.0010     0.0006   \n\n                                     UGDS_2MOR  UGDS_NRA  UGDS_UNKN  \nINSTNM                                                               \nAlabama A & M University                0.0000    0.0059     0.0138  \nUniversity of Alabama at Birmingham     0.0368    0.0179     0.0100  \nAmridge University                      0.0000    0.0000     0.2715  \nUniversity of Alabama in Huntsville     0.0172    0.0332     0.0350  \nAlabama State University                0.0098    0.0243     0.0137  ",
      "text/html": "<div>\n<style scoped>\n    .dataframe tbody tr th:only-of-type {\n        vertical-align: middle;\n    }\n\n    .dataframe tbody tr th {\n        vertical-align: top;\n    }\n\n    .dataframe thead th {\n        text-align: right;\n    }\n</style>\n<table border=\"1\" class=\"dataframe\">\n  <thead>\n    <tr style=\"text-align: right;\">\n      <th></th>\n      <th>UGDS_WHITE</th>\n      <th>UGDS_BLACK</th>\n      <th>UGDS_HISP</th>\n      <th>UGDS_ASIAN</th>\n      <th>UGDS_AIAN</th>\n      <th>UGDS_NHPI</th>\n      <th>UGDS_2MOR</th>\n      <th>UGDS_NRA</th>\n      <th>UGDS_UNKN</th>\n    </tr>\n    <tr>\n      <th>INSTNM</th>\n      <th></th>\n      <th></th>\n      <th></th>\n      <th></th>\n      <th></th>\n      <th></th>\n      <th></th>\n      <th></th>\n      <th></th>\n    </tr>\n  </thead>\n  <tbody>\n    <tr>\n      <th>Alabama A &amp; M University</th>\n      <td>0.0333</td>\n      <td>0.9353</td>\n      <td>0.0055</td>\n      <td>0.0019</td>\n      <td>0.0024</td>\n      <td>0.0019</td>\n      <td>0.0000</td>\n      <td>0.0059</td>\n      <td>0.0138</td>\n    </tr>\n    <tr>\n      <th>University of Alabama at Birmingham</th>\n      <td>0.5922</td>\n      <td>0.2600</td>\n      <td>0.0283</td>\n      <td>0.0518</td>\n      <td>0.0022</td>\n      <td>0.0007</td>\n      <td>0.0368</td>\n      <td>0.0179</td>\n      <td>0.0100</td>\n    </tr>\n    <tr>\n      <th>Amridge University</th>\n      <td>0.2990</td>\n      <td>0.4192</td>\n      <td>0.0069</td>\n      <td>0.0034</td>\n      <td>0.0000</td>\n      <td>0.0000</td>\n      <td>0.0000</td>\n      <td>0.0000</td>\n      <td>0.2715</td>\n    </tr>\n    <tr>\n      <th>University of Alabama in Huntsville</th>\n      <td>0.6988</td>\n      <td>0.1255</td>\n      <td>0.0382</td>\n      <td>0.0376</td>\n      <td>0.0143</td>\n      <td>0.0002</td>\n      <td>0.0172</td>\n      <td>0.0332</td>\n      <td>0.0350</td>\n    </tr>\n    <tr>\n      <th>Alabama State University</th>\n      <td>0.0158</td>\n      <td>0.9208</td>\n      <td>0.0121</td>\n      <td>0.0019</td>\n      <td>0.0010</td>\n      <td>0.0006</td>\n      <td>0.0098</td>\n      <td>0.0243</td>\n      <td>0.0137</td>\n    </tr>\n  </tbody>\n</table>\n</div>"
     },
     "execution_count": 102,
     "metadata": {},
     "output_type": "execute_result"
    }
   ],
   "source": [
    "college_ugds.head()"
   ],
   "metadata": {
    "collapsed": false
   }
  },
  {
   "cell_type": "code",
   "execution_count": 103,
   "outputs": [
    {
     "data": {
      "text/plain": "UGDS_WHITE    6874\nUGDS_BLACK    6874\nUGDS_HISP     6874\nUGDS_ASIAN    6874\nUGDS_AIAN     6874\nUGDS_NHPI     6874\nUGDS_2MOR     6874\nUGDS_NRA      6874\nUGDS_UNKN     6874\ndtype: int64"
     },
     "execution_count": 103,
     "metadata": {},
     "output_type": "execute_result"
    }
   ],
   "source": [
    "college_ugds.count()"
   ],
   "metadata": {
    "collapsed": false
   }
  },
  {
   "cell_type": "code",
   "execution_count": 104,
   "outputs": [
    {
     "data": {
      "text/plain": "INSTNM\nAlabama A & M University               9\nUniversity of Alabama at Birmingham    9\nAmridge University                     9\nUniversity of Alabama in Huntsville    9\nAlabama State University               9\ndtype: int64"
     },
     "execution_count": 104,
     "metadata": {},
     "output_type": "execute_result"
    }
   ],
   "source": [
    "college_ugds.count(axis='columns').head()"
   ],
   "metadata": {
    "collapsed": false
   }
  },
  {
   "cell_type": "code",
   "execution_count": 105,
   "outputs": [
    {
     "data": {
      "text/plain": "INSTNM\nAlabama A & M University               1.0000\nUniversity of Alabama at Birmingham    0.9999\nAmridge University                     1.0000\nUniversity of Alabama in Huntsville    1.0000\nAlabama State University               1.0000\ndtype: float64"
     },
     "execution_count": 105,
     "metadata": {},
     "output_type": "execute_result"
    }
   ],
   "source": [
    "college_ugds.sum(axis=1).head()"
   ],
   "metadata": {
    "collapsed": false
   }
  },
  {
   "cell_type": "code",
   "execution_count": 116,
   "outputs": [
    {
     "data": {
      "text/plain": "UGDS_WHITE    0.55570\nUGDS_BLACK    0.10005\nUGDS_HISP     0.07140\nUGDS_ASIAN    0.01290\nUGDS_AIAN     0.00260\nUGDS_NHPI     0.00000\nUGDS_2MOR     0.01750\nUGDS_NRA      0.00000\nUGDS_UNKN     0.01430\ndtype: float64"
     },
     "execution_count": 116,
     "metadata": {},
     "output_type": "execute_result"
    }
   ],
   "source": [
    "college_ugds.median(axis='index')"
   ],
   "metadata": {
    "collapsed": false
   }
  },
  {
   "cell_type": "code",
   "execution_count": 119,
   "outputs": [
    {
     "data": {
      "text/plain": "                                                    UGDS_WHITE  UGDS_BLACK  \\\nINSTNM                                                                       \nAlabama A & M University                                0.0333      0.9686   \nUniversity of Alabama at Birmingham                     0.5922      0.8522   \nAmridge University                                      0.2990      0.7182   \nUniversity of Alabama in Huntsville                     0.6988      0.8243   \nAlabama State University                                0.0158      0.9366   \n...                                                        ...         ...   \nSAE Institute of Technology  San Francisco                 NaN         NaN   \nRasmussen College - Overland Park                          NaN         NaN   \nNational Personal Training Institute of Cleveland          NaN         NaN   \nBay Area Medical Academy - San Jose Satellite L...         NaN         NaN   \nExcel Learning Center-San Antonio South                    NaN         NaN   \n\n                                                    UGDS_HISP  UGDS_ASIAN  \\\nINSTNM                                                                      \nAlabama A & M University                               0.9741      0.9760   \nUniversity of Alabama at Birmingham                    0.8805      0.9323   \nAmridge University                                     0.7251      0.7285   \nUniversity of Alabama in Huntsville                    0.8625      0.9001   \nAlabama State University                               0.9487      0.9506   \n...                                                       ...         ...   \nSAE Institute of Technology  San Francisco                NaN         NaN   \nRasmussen College - Overland Park                         NaN         NaN   \nNational Personal Training Institute of Cleveland         NaN         NaN   \nBay Area Medical Academy - San Jose Satellite L...        NaN         NaN   \nExcel Learning Center-San Antonio South                   NaN         NaN   \n\n                                                    UGDS_AIAN  UGDS_NHPI  \\\nINSTNM                                                                     \nAlabama A & M University                               0.9784     0.9803   \nUniversity of Alabama at Birmingham                    0.9345     0.9352   \nAmridge University                                     0.7285     0.7285   \nUniversity of Alabama in Huntsville                    0.9144     0.9146   \nAlabama State University                               0.9516     0.9522   \n...                                                       ...        ...   \nSAE Institute of Technology  San Francisco                NaN        NaN   \nRasmussen College - Overland Park                         NaN        NaN   \nNational Personal Training Institute of Cleveland         NaN        NaN   \nBay Area Medical Academy - San Jose Satellite L...        NaN        NaN   \nExcel Learning Center-San Antonio South                   NaN        NaN   \n\n                                                    UGDS_2MOR  UGDS_NRA  \\\nINSTNM                                                                    \nAlabama A & M University                               0.9803    0.9862   \nUniversity of Alabama at Birmingham                    0.9720    0.9899   \nAmridge University                                     0.7285    0.7285   \nUniversity of Alabama in Huntsville                    0.9318    0.9650   \nAlabama State University                               0.9620    0.9863   \n...                                                       ...       ...   \nSAE Institute of Technology  San Francisco                NaN       NaN   \nRasmussen College - Overland Park                         NaN       NaN   \nNational Personal Training Institute of Cleveland         NaN       NaN   \nBay Area Medical Academy - San Jose Satellite L...        NaN       NaN   \nExcel Learning Center-San Antonio South                   NaN       NaN   \n\n                                                    UGDS_UNKN  \nINSTNM                                                         \nAlabama A & M University                               1.0000  \nUniversity of Alabama at Birmingham                    0.9999  \nAmridge University                                     1.0000  \nUniversity of Alabama in Huntsville                    1.0000  \nAlabama State University                               1.0000  \n...                                                       ...  \nSAE Institute of Technology  San Francisco                NaN  \nRasmussen College - Overland Park                         NaN  \nNational Personal Training Institute of Cleveland         NaN  \nBay Area Medical Academy - San Jose Satellite L...        NaN  \nExcel Learning Center-San Antonio South                   NaN  \n\n[7535 rows x 9 columns]",
      "text/html": "<div>\n<style scoped>\n    .dataframe tbody tr th:only-of-type {\n        vertical-align: middle;\n    }\n\n    .dataframe tbody tr th {\n        vertical-align: top;\n    }\n\n    .dataframe thead th {\n        text-align: right;\n    }\n</style>\n<table border=\"1\" class=\"dataframe\">\n  <thead>\n    <tr style=\"text-align: right;\">\n      <th></th>\n      <th>UGDS_WHITE</th>\n      <th>UGDS_BLACK</th>\n      <th>UGDS_HISP</th>\n      <th>UGDS_ASIAN</th>\n      <th>UGDS_AIAN</th>\n      <th>UGDS_NHPI</th>\n      <th>UGDS_2MOR</th>\n      <th>UGDS_NRA</th>\n      <th>UGDS_UNKN</th>\n    </tr>\n    <tr>\n      <th>INSTNM</th>\n      <th></th>\n      <th></th>\n      <th></th>\n      <th></th>\n      <th></th>\n      <th></th>\n      <th></th>\n      <th></th>\n      <th></th>\n    </tr>\n  </thead>\n  <tbody>\n    <tr>\n      <th>Alabama A &amp; M University</th>\n      <td>0.0333</td>\n      <td>0.9686</td>\n      <td>0.9741</td>\n      <td>0.9760</td>\n      <td>0.9784</td>\n      <td>0.9803</td>\n      <td>0.9803</td>\n      <td>0.9862</td>\n      <td>1.0000</td>\n    </tr>\n    <tr>\n      <th>University of Alabama at Birmingham</th>\n      <td>0.5922</td>\n      <td>0.8522</td>\n      <td>0.8805</td>\n      <td>0.9323</td>\n      <td>0.9345</td>\n      <td>0.9352</td>\n      <td>0.9720</td>\n      <td>0.9899</td>\n      <td>0.9999</td>\n    </tr>\n    <tr>\n      <th>Amridge University</th>\n      <td>0.2990</td>\n      <td>0.7182</td>\n      <td>0.7251</td>\n      <td>0.7285</td>\n      <td>0.7285</td>\n      <td>0.7285</td>\n      <td>0.7285</td>\n      <td>0.7285</td>\n      <td>1.0000</td>\n    </tr>\n    <tr>\n      <th>University of Alabama in Huntsville</th>\n      <td>0.6988</td>\n      <td>0.8243</td>\n      <td>0.8625</td>\n      <td>0.9001</td>\n      <td>0.9144</td>\n      <td>0.9146</td>\n      <td>0.9318</td>\n      <td>0.9650</td>\n      <td>1.0000</td>\n    </tr>\n    <tr>\n      <th>Alabama State University</th>\n      <td>0.0158</td>\n      <td>0.9366</td>\n      <td>0.9487</td>\n      <td>0.9506</td>\n      <td>0.9516</td>\n      <td>0.9522</td>\n      <td>0.9620</td>\n      <td>0.9863</td>\n      <td>1.0000</td>\n    </tr>\n    <tr>\n      <th>...</th>\n      <td>...</td>\n      <td>...</td>\n      <td>...</td>\n      <td>...</td>\n      <td>...</td>\n      <td>...</td>\n      <td>...</td>\n      <td>...</td>\n      <td>...</td>\n    </tr>\n    <tr>\n      <th>SAE Institute of Technology  San Francisco</th>\n      <td>NaN</td>\n      <td>NaN</td>\n      <td>NaN</td>\n      <td>NaN</td>\n      <td>NaN</td>\n      <td>NaN</td>\n      <td>NaN</td>\n      <td>NaN</td>\n      <td>NaN</td>\n    </tr>\n    <tr>\n      <th>Rasmussen College - Overland Park</th>\n      <td>NaN</td>\n      <td>NaN</td>\n      <td>NaN</td>\n      <td>NaN</td>\n      <td>NaN</td>\n      <td>NaN</td>\n      <td>NaN</td>\n      <td>NaN</td>\n      <td>NaN</td>\n    </tr>\n    <tr>\n      <th>National Personal Training Institute of Cleveland</th>\n      <td>NaN</td>\n      <td>NaN</td>\n      <td>NaN</td>\n      <td>NaN</td>\n      <td>NaN</td>\n      <td>NaN</td>\n      <td>NaN</td>\n      <td>NaN</td>\n      <td>NaN</td>\n    </tr>\n    <tr>\n      <th>Bay Area Medical Academy - San Jose Satellite Location</th>\n      <td>NaN</td>\n      <td>NaN</td>\n      <td>NaN</td>\n      <td>NaN</td>\n      <td>NaN</td>\n      <td>NaN</td>\n      <td>NaN</td>\n      <td>NaN</td>\n      <td>NaN</td>\n    </tr>\n    <tr>\n      <th>Excel Learning Center-San Antonio South</th>\n      <td>NaN</td>\n      <td>NaN</td>\n      <td>NaN</td>\n      <td>NaN</td>\n      <td>NaN</td>\n      <td>NaN</td>\n      <td>NaN</td>\n      <td>NaN</td>\n      <td>NaN</td>\n    </tr>\n  </tbody>\n</table>\n<p>7535 rows × 9 columns</p>\n</div>"
     },
     "execution_count": 119,
     "metadata": {},
     "output_type": "execute_result"
    }
   ],
   "source": [
    "college_ugds_cumsum = college_ugds.cumsum(axis=1)\n",
    "college_ugds_cumsum"
   ],
   "metadata": {
    "collapsed": false
   }
  },
  {
   "cell_type": "markdown",
   "source": [
    "대학 인종 다양성 지수 결정"
   ],
   "metadata": {
    "collapsed": false
   }
  },
  {
   "cell_type": "code",
   "execution_count": 120,
   "outputs": [
    {
     "data": {
      "text/plain": "                                                   Diversity Index\nSchool                                                            \nRutgers University--Newark  Newark, NJ                        0.76\nAndrews University  Berrien Springs, MI                       0.74\nStanford University  Stanford, CA                             0.74\nUniversity of Houston  Houston, TX                            0.74\nUniversity of Nevada--Las Vegas  Las Vegas, NV                0.74\nUniversity of San Francisco  San Francisco, CA                0.74\nSan Francisco State University  San Francisco, CA             0.73\nUniversity of Illinois--Chicago  Chicago, IL                  0.73\nNew Jersey Institute of Technology  Newark, NJ                0.72\nTexas Woman's University  Denton, TX                          0.72",
      "text/html": "<div>\n<style scoped>\n    .dataframe tbody tr th:only-of-type {\n        vertical-align: middle;\n    }\n\n    .dataframe tbody tr th {\n        vertical-align: top;\n    }\n\n    .dataframe thead th {\n        text-align: right;\n    }\n</style>\n<table border=\"1\" class=\"dataframe\">\n  <thead>\n    <tr style=\"text-align: right;\">\n      <th></th>\n      <th>Diversity Index</th>\n    </tr>\n    <tr>\n      <th>School</th>\n      <th></th>\n    </tr>\n  </thead>\n  <tbody>\n    <tr>\n      <th>Rutgers University--Newark  Newark, NJ</th>\n      <td>0.76</td>\n    </tr>\n    <tr>\n      <th>Andrews University  Berrien Springs, MI</th>\n      <td>0.74</td>\n    </tr>\n    <tr>\n      <th>Stanford University  Stanford, CA</th>\n      <td>0.74</td>\n    </tr>\n    <tr>\n      <th>University of Houston  Houston, TX</th>\n      <td>0.74</td>\n    </tr>\n    <tr>\n      <th>University of Nevada--Las Vegas  Las Vegas, NV</th>\n      <td>0.74</td>\n    </tr>\n    <tr>\n      <th>University of San Francisco  San Francisco, CA</th>\n      <td>0.74</td>\n    </tr>\n    <tr>\n      <th>San Francisco State University  San Francisco, CA</th>\n      <td>0.73</td>\n    </tr>\n    <tr>\n      <th>University of Illinois--Chicago  Chicago, IL</th>\n      <td>0.73</td>\n    </tr>\n    <tr>\n      <th>New Jersey Institute of Technology  Newark, NJ</th>\n      <td>0.72</td>\n    </tr>\n    <tr>\n      <th>Texas Woman's University  Denton, TX</th>\n      <td>0.72</td>\n    </tr>\n  </tbody>\n</table>\n</div>"
     },
     "execution_count": 120,
     "metadata": {},
     "output_type": "execute_result"
    }
   ],
   "source": [
    "pd.read_csv('../data/college_diversity.csv', index_col='School')"
   ],
   "metadata": {
    "collapsed": false
   }
  },
  {
   "cell_type": "code",
   "execution_count": 121,
   "outputs": [],
   "source": [
    "college = pd.read_csv('../data/college.csv', index_col=\"INSTNM\")"
   ],
   "metadata": {
    "collapsed": false
   }
  },
  {
   "cell_type": "code",
   "execution_count": 122,
   "outputs": [],
   "source": [
    "college_ugds = college.filter(like='UGDS_')"
   ],
   "metadata": {
    "collapsed": false
   }
  },
  {
   "cell_type": "code",
   "execution_count": 126,
   "outputs": [
    {
     "data": {
      "text/plain": "INSTNM\nExcel Learning Center-San Antonio South              9\nWestern State College of Law at Argosy University    9\nAlbany Law School                                    9\nAlbany Medical College                               9\nA T Still University of Health Sciences              9\ndtype: int64"
     },
     "execution_count": 126,
     "metadata": {},
     "output_type": "execute_result"
    }
   ],
   "source": [
    "(\n",
    "    college_ugds.isnull()\n",
    "    .sum(axis=1)\n",
    "    .sort_values(ascending=False)\n",
    "    .head()\n",
    ")"
   ],
   "metadata": {
    "collapsed": false
   }
  },
  {
   "cell_type": "code",
   "execution_count": 127,
   "outputs": [],
   "source": [
    "college_ugds = college_ugds.dropna(how='all')"
   ],
   "metadata": {
    "collapsed": false
   }
  },
  {
   "cell_type": "code",
   "execution_count": 128,
   "outputs": [
    {
     "data": {
      "text/plain": "UGDS_WHITE    0\nUGDS_BLACK    0\nUGDS_HISP     0\nUGDS_ASIAN    0\nUGDS_AIAN     0\nUGDS_NHPI     0\nUGDS_2MOR     0\nUGDS_NRA      0\nUGDS_UNKN     0\ndtype: int64"
     },
     "execution_count": 128,
     "metadata": {},
     "output_type": "execute_result"
    }
   ],
   "source": [
    "college_ugds.isnull().sum()"
   ],
   "metadata": {
    "collapsed": false
   }
  },
  {
   "cell_type": "code",
   "execution_count": 129,
   "outputs": [
    {
     "data": {
      "text/plain": "                                                    UGDS_WHITE  UGDS_BLACK  \\\nINSTNM                                                                       \nAlabama A & M University                                 False        True   \nUniversity of Alabama at Birmingham                       True        True   \nAmridge University                                        True        True   \nUniversity of Alabama in Huntsville                       True       False   \nAlabama State University                                 False        True   \n...                                                        ...         ...   \nHollywood Institute of Beauty Careers-West Palm...        True        True   \nHollywood Institute of Beauty Careers-Casselberry        False        True   \nCoachella Valley Beauty College-Beaumont                  True       False   \nDewey University-Mayaguez                                False       False   \nCoastal Pines Technical College                           True        True   \n\n                                                    UGDS_HISP  UGDS_ASIAN  \\\nINSTNM                                                                      \nAlabama A & M University                                False       False   \nUniversity of Alabama at Birmingham                     False       False   \nAmridge University                                      False       False   \nUniversity of Alabama in Huntsville                     False       False   \nAlabama State University                                False       False   \n...                                                       ...         ...   \nHollywood Institute of Beauty Careers-West Palm...       True       False   \nHollywood Institute of Beauty Careers-Casselberry        True       False   \nCoachella Valley Beauty College-Beaumont                 True       False   \nDewey University-Mayaguez                                True       False   \nCoastal Pines Technical College                         False       False   \n\n                                                    UGDS_AIAN  UGDS_NHPI  \\\nINSTNM                                                                     \nAlabama A & M University                                False      False   \nUniversity of Alabama at Birmingham                     False      False   \nAmridge University                                      False      False   \nUniversity of Alabama in Huntsville                     False      False   \nAlabama State University                                False      False   \n...                                                       ...        ...   \nHollywood Institute of Beauty Careers-West Palm...      False      False   \nHollywood Institute of Beauty Careers-Casselberry       False      False   \nCoachella Valley Beauty College-Beaumont                False      False   \nDewey University-Mayaguez                               False      False   \nCoastal Pines Technical College                         False      False   \n\n                                                    UGDS_2MOR  UGDS_NRA  \\\nINSTNM                                                                    \nAlabama A & M University                                False     False   \nUniversity of Alabama at Birmingham                     False     False   \nAmridge University                                      False     False   \nUniversity of Alabama in Huntsville                     False     False   \nAlabama State University                                False     False   \n...                                                       ...       ...   \nHollywood Institute of Beauty Careers-West Palm...      False     False   \nHollywood Institute of Beauty Careers-Casselberry       False     False   \nCoachella Valley Beauty College-Beaumont                False     False   \nDewey University-Mayaguez                               False     False   \nCoastal Pines Technical College                         False     False   \n\n                                                    UGDS_UNKN  \nINSTNM                                                         \nAlabama A & M University                                False  \nUniversity of Alabama at Birmingham                     False  \nAmridge University                                       True  \nUniversity of Alabama in Huntsville                     False  \nAlabama State University                                False  \n...                                                       ...  \nHollywood Institute of Beauty Careers-West Palm...      False  \nHollywood Institute of Beauty Careers-Casselberry       False  \nCoachella Valley Beauty College-Beaumont                False  \nDewey University-Mayaguez                               False  \nCoastal Pines Technical College                         False  \n\n[6874 rows x 9 columns]",
      "text/html": "<div>\n<style scoped>\n    .dataframe tbody tr th:only-of-type {\n        vertical-align: middle;\n    }\n\n    .dataframe tbody tr th {\n        vertical-align: top;\n    }\n\n    .dataframe thead th {\n        text-align: right;\n    }\n</style>\n<table border=\"1\" class=\"dataframe\">\n  <thead>\n    <tr style=\"text-align: right;\">\n      <th></th>\n      <th>UGDS_WHITE</th>\n      <th>UGDS_BLACK</th>\n      <th>UGDS_HISP</th>\n      <th>UGDS_ASIAN</th>\n      <th>UGDS_AIAN</th>\n      <th>UGDS_NHPI</th>\n      <th>UGDS_2MOR</th>\n      <th>UGDS_NRA</th>\n      <th>UGDS_UNKN</th>\n    </tr>\n    <tr>\n      <th>INSTNM</th>\n      <th></th>\n      <th></th>\n      <th></th>\n      <th></th>\n      <th></th>\n      <th></th>\n      <th></th>\n      <th></th>\n      <th></th>\n    </tr>\n  </thead>\n  <tbody>\n    <tr>\n      <th>Alabama A &amp; M University</th>\n      <td>False</td>\n      <td>True</td>\n      <td>False</td>\n      <td>False</td>\n      <td>False</td>\n      <td>False</td>\n      <td>False</td>\n      <td>False</td>\n      <td>False</td>\n    </tr>\n    <tr>\n      <th>University of Alabama at Birmingham</th>\n      <td>True</td>\n      <td>True</td>\n      <td>False</td>\n      <td>False</td>\n      <td>False</td>\n      <td>False</td>\n      <td>False</td>\n      <td>False</td>\n      <td>False</td>\n    </tr>\n    <tr>\n      <th>Amridge University</th>\n      <td>True</td>\n      <td>True</td>\n      <td>False</td>\n      <td>False</td>\n      <td>False</td>\n      <td>False</td>\n      <td>False</td>\n      <td>False</td>\n      <td>True</td>\n    </tr>\n    <tr>\n      <th>University of Alabama in Huntsville</th>\n      <td>True</td>\n      <td>False</td>\n      <td>False</td>\n      <td>False</td>\n      <td>False</td>\n      <td>False</td>\n      <td>False</td>\n      <td>False</td>\n      <td>False</td>\n    </tr>\n    <tr>\n      <th>Alabama State University</th>\n      <td>False</td>\n      <td>True</td>\n      <td>False</td>\n      <td>False</td>\n      <td>False</td>\n      <td>False</td>\n      <td>False</td>\n      <td>False</td>\n      <td>False</td>\n    </tr>\n    <tr>\n      <th>...</th>\n      <td>...</td>\n      <td>...</td>\n      <td>...</td>\n      <td>...</td>\n      <td>...</td>\n      <td>...</td>\n      <td>...</td>\n      <td>...</td>\n      <td>...</td>\n    </tr>\n    <tr>\n      <th>Hollywood Institute of Beauty Careers-West Palm Beach</th>\n      <td>True</td>\n      <td>True</td>\n      <td>True</td>\n      <td>False</td>\n      <td>False</td>\n      <td>False</td>\n      <td>False</td>\n      <td>False</td>\n      <td>False</td>\n    </tr>\n    <tr>\n      <th>Hollywood Institute of Beauty Careers-Casselberry</th>\n      <td>False</td>\n      <td>True</td>\n      <td>True</td>\n      <td>False</td>\n      <td>False</td>\n      <td>False</td>\n      <td>False</td>\n      <td>False</td>\n      <td>False</td>\n    </tr>\n    <tr>\n      <th>Coachella Valley Beauty College-Beaumont</th>\n      <td>True</td>\n      <td>False</td>\n      <td>True</td>\n      <td>False</td>\n      <td>False</td>\n      <td>False</td>\n      <td>False</td>\n      <td>False</td>\n      <td>False</td>\n    </tr>\n    <tr>\n      <th>Dewey University-Mayaguez</th>\n      <td>False</td>\n      <td>False</td>\n      <td>True</td>\n      <td>False</td>\n      <td>False</td>\n      <td>False</td>\n      <td>False</td>\n      <td>False</td>\n      <td>False</td>\n    </tr>\n    <tr>\n      <th>Coastal Pines Technical College</th>\n      <td>True</td>\n      <td>True</td>\n      <td>False</td>\n      <td>False</td>\n      <td>False</td>\n      <td>False</td>\n      <td>False</td>\n      <td>False</td>\n      <td>False</td>\n    </tr>\n  </tbody>\n</table>\n<p>6874 rows × 9 columns</p>\n</div>"
     },
     "execution_count": 129,
     "metadata": {},
     "output_type": "execute_result"
    }
   ],
   "source": [
    "college_ugds.ge(0.15)"
   ],
   "metadata": {
    "collapsed": false
   }
  },
  {
   "cell_type": "code",
   "execution_count": 134,
   "outputs": [],
   "source": [
    "diversity_metric = college_ugds.ge(0.15).sum(axis=1)"
   ],
   "metadata": {
    "collapsed": false
   }
  },
  {
   "cell_type": "code",
   "execution_count": 135,
   "outputs": [
    {
     "data": {
      "text/plain": "INSTNM\nAlabama A & M University                                 1\nUniversity of Alabama at Birmingham                      2\nAmridge University                                       3\nUniversity of Alabama in Huntsville                      1\nAlabama State University                                 1\n                                                        ..\nHollywood Institute of Beauty Careers-West Palm Beach    3\nHollywood Institute of Beauty Careers-Casselberry        2\nCoachella Valley Beauty College-Beaumont                 2\nDewey University-Mayaguez                                1\nCoastal Pines Technical College                          2\nLength: 6874, dtype: int64"
     },
     "execution_count": 135,
     "metadata": {},
     "output_type": "execute_result"
    }
   ],
   "source": [
    "diversity_metric"
   ],
   "metadata": {
    "collapsed": false
   }
  },
  {
   "cell_type": "code",
   "execution_count": 136,
   "outputs": [
    {
     "data": {
      "text/plain": "1    3042\n2    2884\n3     876\n4      63\n0       7\n5       2\ndtype: int64"
     },
     "execution_count": 136,
     "metadata": {},
     "output_type": "execute_result"
    }
   ],
   "source": [
    "diversity_metric.value_counts()"
   ],
   "metadata": {
    "collapsed": false
   }
  },
  {
   "cell_type": "code",
   "execution_count": 137,
   "outputs": [
    {
     "data": {
      "text/plain": "INSTNM\nCentral Texas Beauty College-Temple                               5\nRegency Beauty Institute-Austin                                   5\nWestwood College-O'Hare Airport                                   4\nRegency Beauty Institute-Pasadena                                 4\nSoma Institute-The National School of Clinical Massage Therapy    4\ndtype: int64"
     },
     "execution_count": 137,
     "metadata": {},
     "output_type": "execute_result"
    }
   ],
   "source": [
    "diversity_metric.sort_values(ascending=False).head()"
   ],
   "metadata": {
    "collapsed": false
   }
  },
  {
   "cell_type": "code",
   "execution_count": 139,
   "outputs": [
    {
     "data": {
      "text/plain": "                                     UGDS_WHITE  UGDS_BLACK  UGDS_HISP  \\\nINSTNM                                                                   \nCentral Texas Beauty College-Temple      0.1616      0.2323     0.2626   \nRegency Beauty Institute-Austin          0.1867      0.2133     0.1600   \n\n                                     UGDS_ASIAN  UGDS_AIAN  UGDS_NHPI  \\\nINSTNM                                                                  \nCentral Texas Beauty College-Temple      0.0202        0.0        0.0   \nRegency Beauty Institute-Austin          0.0000        0.0        0.0   \n\n                                     UGDS_2MOR  UGDS_NRA  UGDS_UNKN  \nINSTNM                                                               \nCentral Texas Beauty College-Temple     0.1717       0.0     0.1515  \nRegency Beauty Institute-Austin         0.1733       0.0     0.2667  ",
      "text/html": "<div>\n<style scoped>\n    .dataframe tbody tr th:only-of-type {\n        vertical-align: middle;\n    }\n\n    .dataframe tbody tr th {\n        vertical-align: top;\n    }\n\n    .dataframe thead th {\n        text-align: right;\n    }\n</style>\n<table border=\"1\" class=\"dataframe\">\n  <thead>\n    <tr style=\"text-align: right;\">\n      <th></th>\n      <th>UGDS_WHITE</th>\n      <th>UGDS_BLACK</th>\n      <th>UGDS_HISP</th>\n      <th>UGDS_ASIAN</th>\n      <th>UGDS_AIAN</th>\n      <th>UGDS_NHPI</th>\n      <th>UGDS_2MOR</th>\n      <th>UGDS_NRA</th>\n      <th>UGDS_UNKN</th>\n    </tr>\n    <tr>\n      <th>INSTNM</th>\n      <th></th>\n      <th></th>\n      <th></th>\n      <th></th>\n      <th></th>\n      <th></th>\n      <th></th>\n      <th></th>\n      <th></th>\n    </tr>\n  </thead>\n  <tbody>\n    <tr>\n      <th>Central Texas Beauty College-Temple</th>\n      <td>0.1616</td>\n      <td>0.2323</td>\n      <td>0.2626</td>\n      <td>0.0202</td>\n      <td>0.0</td>\n      <td>0.0</td>\n      <td>0.1717</td>\n      <td>0.0</td>\n      <td>0.1515</td>\n    </tr>\n    <tr>\n      <th>Regency Beauty Institute-Austin</th>\n      <td>0.1867</td>\n      <td>0.2133</td>\n      <td>0.1600</td>\n      <td>0.0000</td>\n      <td>0.0</td>\n      <td>0.0</td>\n      <td>0.1733</td>\n      <td>0.0</td>\n      <td>0.2667</td>\n    </tr>\n  </tbody>\n</table>\n</div>"
     },
     "execution_count": 139,
     "metadata": {},
     "output_type": "execute_result"
    }
   ],
   "source": [
    "college_ugds.loc[\n",
    "    [\"Central Texas Beauty College-Temple\",\n",
    "    \"Regency Beauty Institute-Austin\"]\n",
    "]"
   ],
   "metadata": {
    "collapsed": false
   }
  },
  {
   "cell_type": "code",
   "execution_count": 140,
   "outputs": [],
   "source": [
    "us_news_top = ['Rutgers University-Newark',\n",
    "                  'Andrews University',\n",
    "                  'Stanford University',\n",
    "                  'University of Houston',\n",
    "                  'University of Nevada-Las Vegas']"
   ],
   "metadata": {
    "collapsed": false
   }
  },
  {
   "cell_type": "code",
   "execution_count": 141,
   "outputs": [
    {
     "data": {
      "text/plain": "INSTNM\nRutgers University-Newark         4\nAndrews University                3\nStanford University               3\nUniversity of Houston             3\nUniversity of Nevada-Las Vegas    3\ndtype: int64"
     },
     "execution_count": 141,
     "metadata": {},
     "output_type": "execute_result"
    }
   ],
   "source": [
    "diversity_metric.loc[us_news_top]"
   ],
   "metadata": {
    "collapsed": false
   }
  },
  {
   "cell_type": "code",
   "execution_count": 142,
   "outputs": [
    {
     "data": {
      "text/plain": "INSTNM\nCaribbean University-Ponce                                        1.0\nBrighton Institute of Cosmetology                                 1.0\nMesivta Torah Vodaath Rabbinical Seminary                         1.0\nRabbinical College Telshe                                         1.0\nUniversity of Puerto Rico-Mayaguez                                1.0\nHaskell Indian Nations University                                 1.0\nLake Career and Technical Center                                  1.0\nLeon Studio One School of Hair Design & Career Training Center    1.0\nDewey University-Hato Rey                                         1.0\nColumbia Central University-Caguas                                1.0\ndtype: float64"
     },
     "execution_count": 142,
     "metadata": {},
     "output_type": "execute_result"
    }
   ],
   "source": [
    "(\n",
    "    college_ugds.max(axis=1)\n",
    "    .sort_values(ascending=False)\n",
    "    .head(10)\n",
    ")"
   ],
   "metadata": {
    "collapsed": false
   }
  },
  {
   "cell_type": "code",
   "execution_count": 152,
   "outputs": [
    {
     "data": {
      "text/plain": "True"
     },
     "execution_count": 152,
     "metadata": {},
     "output_type": "execute_result"
    }
   ],
   "source": [
    "(college_ugds > 0.01).all(axis=1).any()"
   ],
   "metadata": {
    "collapsed": false
   }
  },
  {
   "cell_type": "code",
   "execution_count": null,
   "outputs": [],
   "source": [],
   "metadata": {
    "collapsed": false
   }
  }
 ],
 "metadata": {
  "kernelspec": {
   "display_name": "Python 3",
   "language": "python",
   "name": "python3"
  },
  "language_info": {
   "codemirror_mode": {
    "name": "ipython",
    "version": 2
   },
   "file_extension": ".py",
   "mimetype": "text/x-python",
   "name": "python",
   "nbconvert_exporter": "python",
   "pygments_lexer": "ipython2",
   "version": "2.7.6"
  }
 },
 "nbformat": 4,
 "nbformat_minor": 0
}
