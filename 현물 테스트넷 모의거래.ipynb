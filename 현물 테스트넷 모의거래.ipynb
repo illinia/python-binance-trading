{
 "cells": [
  {
   "cell_type": "code",
   "execution_count": 92,
   "id": "5992c56a",
   "metadata": {},
   "outputs": [],
   "source": [
    "from binance.client import Client"
   ]
  },
  {
   "cell_type": "code",
   "execution_count": 93,
   "id": "cada6188",
   "metadata": {},
   "outputs": [],
   "source": [
    "api_key = \"Jc2gL6jUt0KRlsqfkKJ9kBHcP7m9IBB5M0ph7WV9AybJ6AupPEe3rxDgCWZmJcuH\"\n",
    "secret_key = pd.read_table(\"paper_secret_key.txt\").columns[0]"
   ]
  },
  {
   "cell_type": "code",
   "execution_count": 94,
   "id": "fb45a7d8",
   "metadata": {},
   "outputs": [],
   "source": [
    "client = Client(api_key=api_key, api_secret=secret_key, tld=\"com\", testnet = True)"
   ]
  },
  {
   "cell_type": "code",
   "execution_count": 95,
   "id": "5090d133",
   "metadata": {},
   "outputs": [
    {
     "data": {
      "text/plain": [
       "<binance.client.Client at 0x12df53c10>"
      ]
     },
     "execution_count": 95,
     "metadata": {},
     "output_type": "execute_result"
    }
   ],
   "source": [
    "client"
   ]
  },
  {
   "cell_type": "code",
   "execution_count": 96,
   "id": "dce204b9",
   "metadata": {},
   "outputs": [
    {
     "data": {
      "text/plain": [
       "{'makerCommission': 0,\n",
       " 'takerCommission': 0,\n",
       " 'buyerCommission': 0,\n",
       " 'sellerCommission': 0,\n",
       " 'commissionRates': {'maker': '0.00000000',\n",
       "  'taker': '0.00000000',\n",
       "  'buyer': '0.00000000',\n",
       "  'seller': '0.00000000'},\n",
       " 'canTrade': True,\n",
       " 'canWithdraw': False,\n",
       " 'canDeposit': False,\n",
       " 'brokered': False,\n",
       " 'requireSelfTradePrevention': False,\n",
       " 'updateTime': 1685186173220,\n",
       " 'accountType': 'SPOT',\n",
       " 'balances': [{'asset': 'BNB',\n",
       "   'free': '1000.00000000',\n",
       "   'locked': '0.00000000'},\n",
       "  {'asset': 'BTC', 'free': '1.10000000', 'locked': '0.00000000'},\n",
       "  {'asset': 'BUSD', 'free': '10000.00000000', 'locked': '0.00000000'},\n",
       "  {'asset': 'ETH', 'free': '100.00000000', 'locked': '0.00000000'},\n",
       "  {'asset': 'LTC', 'free': '500.00000000', 'locked': '0.00000000'},\n",
       "  {'asset': 'TRX', 'free': '500000.00000000', 'locked': '0.00000000'},\n",
       "  {'asset': 'USDT', 'free': '7328.99298317', 'locked': '0.00000000'},\n",
       "  {'asset': 'XRP', 'free': '50000.00000000', 'locked': '0.00000000'}],\n",
       " 'permissions': ['SPOT']}"
      ]
     },
     "execution_count": 96,
     "metadata": {},
     "output_type": "execute_result"
    }
   ],
   "source": [
    "client.get_account()"
   ]
  },
  {
   "cell_type": "code",
   "execution_count": null,
   "id": "7a29d791",
   "metadata": {},
   "outputs": [],
   "source": []
  },
  {
   "cell_type": "code",
   "execution_count": 6,
   "id": "133715d4",
   "metadata": {},
   "outputs": [],
   "source": [
    "import pandas as pd\n",
    "from binance.client import Client"
   ]
  },
  {
   "cell_type": "code",
   "execution_count": 7,
   "id": "84b1453d",
   "metadata": {},
   "outputs": [],
   "source": [
    "client = Client(api_key=api_key, api_secret=secret_key, tld=\"com\", testnet = True)"
   ]
  },
  {
   "cell_type": "code",
   "execution_count": 8,
   "id": "28fbb636",
   "metadata": {},
   "outputs": [
    {
     "data": {
      "text/plain": [
       "{'status': 0, 'msg': 'normal'}"
      ]
     },
     "execution_count": 8,
     "metadata": {},
     "output_type": "execute_result"
    }
   ],
   "source": [
    "client.get_system_status()"
   ]
  },
  {
   "cell_type": "code",
   "execution_count": 9,
   "id": "cd612898",
   "metadata": {},
   "outputs": [
    {
     "data": {
      "text/plain": [
       "{'makerCommission': 0,\n",
       " 'takerCommission': 0,\n",
       " 'buyerCommission': 0,\n",
       " 'sellerCommission': 0,\n",
       " 'commissionRates': {'maker': '0.00000000',\n",
       "  'taker': '0.00000000',\n",
       "  'buyer': '0.00000000',\n",
       "  'seller': '0.00000000'},\n",
       " 'canTrade': True,\n",
       " 'canWithdraw': False,\n",
       " 'canDeposit': False,\n",
       " 'brokered': False,\n",
       " 'requireSelfTradePrevention': False,\n",
       " 'updateTime': 1685171494781,\n",
       " 'accountType': 'SPOT',\n",
       " 'balances': [{'asset': 'BNB',\n",
       "   'free': '1000.00000000',\n",
       "   'locked': '0.00000000'},\n",
       "  {'asset': 'BTC', 'free': '1.00000000', 'locked': '0.00000000'},\n",
       "  {'asset': 'BUSD', 'free': '10000.00000000', 'locked': '0.00000000'},\n",
       "  {'asset': 'ETH', 'free': '100.00000000', 'locked': '0.00000000'},\n",
       "  {'asset': 'LTC', 'free': '500.00000000', 'locked': '0.00000000'},\n",
       "  {'asset': 'TRX', 'free': '500000.00000000', 'locked': '0.00000000'},\n",
       "  {'asset': 'USDT', 'free': '10000.00000000', 'locked': '0.00000000'},\n",
       "  {'asset': 'XRP', 'free': '50000.00000000', 'locked': '0.00000000'}],\n",
       " 'permissions': ['SPOT']}"
      ]
     },
     "execution_count": 9,
     "metadata": {},
     "output_type": "execute_result"
    }
   ],
   "source": [
    "account = client.get_account()\n",
    "account"
   ]
  },
  {
   "cell_type": "code",
   "execution_count": 10,
   "id": "f3fb3142",
   "metadata": {},
   "outputs": [
    {
     "data": {
      "text/html": [
       "<div>\n",
       "<style scoped>\n",
       "    .dataframe tbody tr th:only-of-type {\n",
       "        vertical-align: middle;\n",
       "    }\n",
       "\n",
       "    .dataframe tbody tr th {\n",
       "        vertical-align: top;\n",
       "    }\n",
       "\n",
       "    .dataframe thead th {\n",
       "        text-align: right;\n",
       "    }\n",
       "</style>\n",
       "<table border=\"1\" class=\"dataframe\">\n",
       "  <thead>\n",
       "    <tr style=\"text-align: right;\">\n",
       "      <th></th>\n",
       "      <th>asset</th>\n",
       "      <th>free</th>\n",
       "      <th>locked</th>\n",
       "    </tr>\n",
       "  </thead>\n",
       "  <tbody>\n",
       "    <tr>\n",
       "      <th>0</th>\n",
       "      <td>BNB</td>\n",
       "      <td>1000.00000000</td>\n",
       "      <td>0.00000000</td>\n",
       "    </tr>\n",
       "    <tr>\n",
       "      <th>1</th>\n",
       "      <td>BTC</td>\n",
       "      <td>1.00000000</td>\n",
       "      <td>0.00000000</td>\n",
       "    </tr>\n",
       "    <tr>\n",
       "      <th>2</th>\n",
       "      <td>BUSD</td>\n",
       "      <td>10000.00000000</td>\n",
       "      <td>0.00000000</td>\n",
       "    </tr>\n",
       "    <tr>\n",
       "      <th>3</th>\n",
       "      <td>ETH</td>\n",
       "      <td>100.00000000</td>\n",
       "      <td>0.00000000</td>\n",
       "    </tr>\n",
       "    <tr>\n",
       "      <th>4</th>\n",
       "      <td>LTC</td>\n",
       "      <td>500.00000000</td>\n",
       "      <td>0.00000000</td>\n",
       "    </tr>\n",
       "    <tr>\n",
       "      <th>5</th>\n",
       "      <td>TRX</td>\n",
       "      <td>500000.00000000</td>\n",
       "      <td>0.00000000</td>\n",
       "    </tr>\n",
       "    <tr>\n",
       "      <th>6</th>\n",
       "      <td>USDT</td>\n",
       "      <td>10000.00000000</td>\n",
       "      <td>0.00000000</td>\n",
       "    </tr>\n",
       "    <tr>\n",
       "      <th>7</th>\n",
       "      <td>XRP</td>\n",
       "      <td>50000.00000000</td>\n",
       "      <td>0.00000000</td>\n",
       "    </tr>\n",
       "  </tbody>\n",
       "</table>\n",
       "</div>"
      ],
      "text/plain": [
       "  asset             free      locked\n",
       "0   BNB    1000.00000000  0.00000000\n",
       "1   BTC       1.00000000  0.00000000\n",
       "2  BUSD   10000.00000000  0.00000000\n",
       "3   ETH     100.00000000  0.00000000\n",
       "4   LTC     500.00000000  0.00000000\n",
       "5   TRX  500000.00000000  0.00000000\n",
       "6  USDT   10000.00000000  0.00000000\n",
       "7   XRP   50000.00000000  0.00000000"
      ]
     },
     "execution_count": 10,
     "metadata": {},
     "output_type": "execute_result"
    }
   ],
   "source": [
    "df = pd.DataFrame(account[\"balances\"])\n",
    "df"
   ]
  },
  {
   "cell_type": "code",
   "execution_count": 12,
   "id": "47fdb3e6",
   "metadata": {},
   "outputs": [],
   "source": [
    "df.free = pd.to_numeric(df.free, errors=\"coerce\")\n",
    "df.locked = pd.to_numeric(df.locked, errors=\"coerce\")"
   ]
  },
  {
   "cell_type": "code",
   "execution_count": 13,
   "id": "45eba02b",
   "metadata": {},
   "outputs": [
    {
     "name": "stdout",
     "output_type": "stream",
     "text": [
      "<class 'pandas.core.frame.DataFrame'>\n",
      "RangeIndex: 8 entries, 0 to 7\n",
      "Data columns (total 3 columns):\n",
      " #   Column  Non-Null Count  Dtype  \n",
      "---  ------  --------------  -----  \n",
      " 0   asset   8 non-null      object \n",
      " 1   free    8 non-null      float64\n",
      " 2   locked  8 non-null      float64\n",
      "dtypes: float64(2), object(1)\n",
      "memory usage: 320.0+ bytes\n"
     ]
    }
   ],
   "source": [
    "df.info()"
   ]
  },
  {
   "cell_type": "code",
   "execution_count": 14,
   "id": "88aeabd2",
   "metadata": {},
   "outputs": [
    {
     "data": {
      "text/plain": [
       "{'asset': 'BTC', 'free': '1.00000000', 'locked': '0.00000000'}"
      ]
     },
     "execution_count": 14,
     "metadata": {},
     "output_type": "execute_result"
    }
   ],
   "source": [
    "client.get_asset_balance(asset=\"BTC\")"
   ]
  },
  {
   "cell_type": "code",
   "execution_count": 15,
   "id": "121b08c4",
   "metadata": {},
   "outputs": [
    {
     "data": {
      "text/plain": [
       "{'asset': 'ETH', 'free': '100.00000000', 'locked': '0.00000000'}"
      ]
     },
     "execution_count": 15,
     "metadata": {},
     "output_type": "execute_result"
    }
   ],
   "source": [
    "client.get_asset_balance(asset=\"ETH\")"
   ]
  },
  {
   "cell_type": "code",
   "execution_count": 16,
   "id": "91366a3b",
   "metadata": {},
   "outputs": [],
   "source": [
    "client.get_asset_balance(asset=\"EUR\")"
   ]
  },
  {
   "cell_type": "code",
   "execution_count": 17,
   "id": "19f4c747",
   "metadata": {},
   "outputs": [],
   "source": [
    "client.get_asset_balance(asset=\"BTCUSDT\")"
   ]
  },
  {
   "cell_type": "code",
   "execution_count": 19,
   "id": "52fa1577",
   "metadata": {},
   "outputs": [
    {
     "data": {
      "text/plain": [
       "{'symbol': 'BTCUSDT', 'price': '26703.11000000'}"
      ]
     },
     "execution_count": 19,
     "metadata": {},
     "output_type": "execute_result"
    }
   ],
   "source": [
    "client.get_symbol_ticker(symbol=\"BTCUSDT\")"
   ]
  },
  {
   "cell_type": "code",
   "execution_count": 20,
   "id": "000a7fb1",
   "metadata": {},
   "outputs": [
    {
     "data": {
      "text/plain": [
       "[{'symbol': 'BNBBUSD', 'price': '305.70000000'},\n",
       " {'symbol': 'BTCBUSD', 'price': '26707.57000000'},\n",
       " {'symbol': 'ETHBUSD', 'price': '1825.72000000'},\n",
       " {'symbol': 'LTCBUSD', 'price': '87.74000000'},\n",
       " {'symbol': 'TRXBUSD', 'price': '0.07613000'},\n",
       " {'symbol': 'XRPBUSD', 'price': '0.47190000'},\n",
       " {'symbol': 'BNBUSDT', 'price': '305.70000000'},\n",
       " {'symbol': 'BTCUSDT', 'price': '26703.19000000'},\n",
       " {'symbol': 'ETHUSDT', 'price': '1825.45000000'},\n",
       " {'symbol': 'LTCUSDT', 'price': '87.74000000'},\n",
       " {'symbol': 'TRXUSDT', 'price': '0.07611000'},\n",
       " {'symbol': 'XRPUSDT', 'price': '0.47170000'},\n",
       " {'symbol': 'BNBBTC', 'price': '0.01144800'},\n",
       " {'symbol': 'ETHBTC', 'price': '0.06837000'},\n",
       " {'symbol': 'LTCBTC', 'price': '0.00328900'},\n",
       " {'symbol': 'TRXBTC', 'price': '0.00000286'},\n",
       " {'symbol': 'XRPBTC', 'price': '0.00001767'},\n",
       " {'symbol': 'LTCBNB', 'price': '0.28720000'},\n",
       " {'symbol': 'TRXBNB', 'price': '0.00024910'},\n",
       " {'symbol': 'XRPBNB', 'price': '0.00154600'}]"
      ]
     },
     "execution_count": 20,
     "metadata": {},
     "output_type": "execute_result"
    }
   ],
   "source": [
    "client.get_all_tickers()"
   ]
  },
  {
   "cell_type": "code",
   "execution_count": 22,
   "id": "2e0a07cb",
   "metadata": {},
   "outputs": [
    {
     "data": {
      "text/plain": [
       "{'symbol': 'BTCUSDT',\n",
       " 'priceChange': '267.04000000',\n",
       " 'priceChangePercent': '1.010',\n",
       " 'weightedAvgPrice': '26683.48208900',\n",
       " 'prevClosePrice': '26436.66000000',\n",
       " 'lastPrice': '26703.20000000',\n",
       " 'lastQty': '0.00040000',\n",
       " 'bidPrice': '26703.18000000',\n",
       " 'bidQty': '0.08198300',\n",
       " 'askPrice': '26703.19000000',\n",
       " 'askQty': '0.10335900',\n",
       " 'openPrice': '26436.16000000',\n",
       " 'highPrice': '27458.41000000',\n",
       " 'lowPrice': '23500.00000000',\n",
       " 'volume': '3151.44722500',\n",
       " 'quoteVolume': '84091585.58273077',\n",
       " 'openTime': 1685096058167,\n",
       " 'closeTime': 1685182458167,\n",
       " 'firstId': 3270061,\n",
       " 'lastId': 3385264,\n",
       " 'count': 115204}"
      ]
     },
     "execution_count": 22,
     "metadata": {},
     "output_type": "execute_result"
    }
   ],
   "source": [
    "last24 = client.get_ticker(symbol=\"BTCUSDT\")\n",
    "last24"
   ]
  },
  {
   "cell_type": "code",
   "execution_count": 23,
   "id": "ef144733",
   "metadata": {},
   "outputs": [
    {
     "data": {
      "text/plain": [
       "1683072000000"
      ]
     },
     "execution_count": 23,
     "metadata": {},
     "output_type": "execute_result"
    }
   ],
   "source": [
    "timestamp = client._get_earliest_valid_timestamp(symbol=\"BTCUSDT\", interval=\"1d\")\n",
    "timestamp"
   ]
  },
  {
   "cell_type": "code",
   "execution_count": 24,
   "id": "6fd712bf",
   "metadata": {},
   "outputs": [
    {
     "data": {
      "text/plain": [
       "Timestamp('2023-05-03 00:00:00')"
      ]
     },
     "execution_count": 24,
     "metadata": {},
     "output_type": "execute_result"
    }
   ],
   "source": [
    "pd.to_datetime(timestamp, unit=\"ms\")"
   ]
  },
  {
   "cell_type": "code",
   "execution_count": 25,
   "id": "c8c2436c",
   "metadata": {},
   "outputs": [],
   "source": [
    "def get_history(symbol, interval, start, end = None):\n",
    "    bars = client.get_historical_klines(symbol=symbol, interval = interval,\n",
    "                                        start_str = start, end_str = end, limit = 100)\n",
    "    df = pd.DataFrame(bars)\n",
    "    df[\"Date\"] = pd.to_datetime(df.iloc[:,0], unit = \"ms\")\n",
    "    df.columns = [\"Open time\", \"Open\", \"High\", \"Low\", \"Close\",\n",
    "              \"Volume\", \"Close time\", \"Quote asset volume\",\n",
    "              \"Number of trades\", \"Taker buy base asset volume\",\n",
    "              \"Taker buy quote asset volume\", \"Ignore\", \"Date\"]\n",
    "    df = df[[\"Date\", \"Open\", \"High\", \"Low\", \"Close\", \"Volume\"]].copy()\n",
    "    df.set_index(\"Date\", inplace = True)\n",
    "    for column in df.columns:\n",
    "        df[column] = pd.to_numeric(df[column], errors=\"coerce\")\n",
    "        \n",
    "    return df"
   ]
  },
  {
   "cell_type": "code",
   "execution_count": 26,
   "id": "0513097f",
   "metadata": {},
   "outputs": [],
   "source": [
    "df = get_history(symbol=\"BTCUSDT\", interval=\"1d\", start=timestamp)"
   ]
  },
  {
   "cell_type": "code",
   "execution_count": 27,
   "id": "173eff24",
   "metadata": {
    "scrolled": true
   },
   "outputs": [
    {
     "data": {
      "text/html": [
       "<div>\n",
       "<style scoped>\n",
       "    .dataframe tbody tr th:only-of-type {\n",
       "        vertical-align: middle;\n",
       "    }\n",
       "\n",
       "    .dataframe tbody tr th {\n",
       "        vertical-align: top;\n",
       "    }\n",
       "\n",
       "    .dataframe thead th {\n",
       "        text-align: right;\n",
       "    }\n",
       "</style>\n",
       "<table border=\"1\" class=\"dataframe\">\n",
       "  <thead>\n",
       "    <tr style=\"text-align: right;\">\n",
       "      <th></th>\n",
       "      <th>Open</th>\n",
       "      <th>High</th>\n",
       "      <th>Low</th>\n",
       "      <th>Close</th>\n",
       "      <th>Volume</th>\n",
       "    </tr>\n",
       "    <tr>\n",
       "      <th>Date</th>\n",
       "      <th></th>\n",
       "      <th></th>\n",
       "      <th></th>\n",
       "      <th></th>\n",
       "      <th></th>\n",
       "    </tr>\n",
       "  </thead>\n",
       "  <tbody>\n",
       "    <tr>\n",
       "      <th>2023-05-03</th>\n",
       "      <td>28640.47</td>\n",
       "      <td>29450.71</td>\n",
       "      <td>27126.37</td>\n",
       "      <td>29022.14</td>\n",
       "      <td>3937.850300</td>\n",
       "    </tr>\n",
       "    <tr>\n",
       "      <th>2023-05-04</th>\n",
       "      <td>29022.14</td>\n",
       "      <td>29750.45</td>\n",
       "      <td>6000.00</td>\n",
       "      <td>28838.17</td>\n",
       "      <td>5671.579796</td>\n",
       "    </tr>\n",
       "    <tr>\n",
       "      <th>2023-05-05</th>\n",
       "      <td>28838.16</td>\n",
       "      <td>30064.78</td>\n",
       "      <td>9940.10</td>\n",
       "      <td>29505.90</td>\n",
       "      <td>5554.073422</td>\n",
       "    </tr>\n",
       "    <tr>\n",
       "      <th>2023-05-06</th>\n",
       "      <td>29505.87</td>\n",
       "      <td>30350.92</td>\n",
       "      <td>10000.00</td>\n",
       "      <td>28848.20</td>\n",
       "      <td>4749.770736</td>\n",
       "    </tr>\n",
       "    <tr>\n",
       "      <th>2023-05-07</th>\n",
       "      <td>28848.20</td>\n",
       "      <td>29730.87</td>\n",
       "      <td>9000.00</td>\n",
       "      <td>28428.42</td>\n",
       "      <td>5256.155270</td>\n",
       "    </tr>\n",
       "    <tr>\n",
       "      <th>2023-05-08</th>\n",
       "      <td>28401.10</td>\n",
       "      <td>28634.16</td>\n",
       "      <td>10000.00</td>\n",
       "      <td>27668.78</td>\n",
       "      <td>5642.398136</td>\n",
       "    </tr>\n",
       "    <tr>\n",
       "      <th>2023-05-09</th>\n",
       "      <td>27668.79</td>\n",
       "      <td>27973.87</td>\n",
       "      <td>26451.80</td>\n",
       "      <td>27628.38</td>\n",
       "      <td>4772.766515</td>\n",
       "    </tr>\n",
       "    <tr>\n",
       "      <th>2023-05-10</th>\n",
       "      <td>27628.27</td>\n",
       "      <td>29856.63</td>\n",
       "      <td>26829.24</td>\n",
       "      <td>27598.73</td>\n",
       "      <td>4653.626163</td>\n",
       "    </tr>\n",
       "    <tr>\n",
       "      <th>2023-05-11</th>\n",
       "      <td>27598.74</td>\n",
       "      <td>27616.04</td>\n",
       "      <td>26721.51</td>\n",
       "      <td>26970.02</td>\n",
       "      <td>5330.257965</td>\n",
       "    </tr>\n",
       "    <tr>\n",
       "      <th>2023-05-12</th>\n",
       "      <td>26968.86</td>\n",
       "      <td>27068.41</td>\n",
       "      <td>25641.69</td>\n",
       "      <td>26796.01</td>\n",
       "      <td>5724.303849</td>\n",
       "    </tr>\n",
       "    <tr>\n",
       "      <th>2023-05-13</th>\n",
       "      <td>26795.00</td>\n",
       "      <td>27028.24</td>\n",
       "      <td>10000.00</td>\n",
       "      <td>26774.62</td>\n",
       "      <td>3533.556359</td>\n",
       "    </tr>\n",
       "    <tr>\n",
       "      <th>2023-05-14</th>\n",
       "      <td>26775.27</td>\n",
       "      <td>27191.16</td>\n",
       "      <td>10000.00</td>\n",
       "      <td>26917.56</td>\n",
       "      <td>3358.074770</td>\n",
       "    </tr>\n",
       "    <tr>\n",
       "      <th>2023-05-15</th>\n",
       "      <td>26917.61</td>\n",
       "      <td>27669.57</td>\n",
       "      <td>25000.20</td>\n",
       "      <td>27161.30</td>\n",
       "      <td>4451.185345</td>\n",
       "    </tr>\n",
       "    <tr>\n",
       "      <th>2023-05-16</th>\n",
       "      <td>27162.15</td>\n",
       "      <td>27855.13</td>\n",
       "      <td>15000.50</td>\n",
       "      <td>27033.84</td>\n",
       "      <td>4874.545744</td>\n",
       "    </tr>\n",
       "    <tr>\n",
       "      <th>2023-05-17</th>\n",
       "      <td>27033.85</td>\n",
       "      <td>61000.00</td>\n",
       "      <td>9960.20</td>\n",
       "      <td>27405.08</td>\n",
       "      <td>4946.935497</td>\n",
       "    </tr>\n",
       "    <tr>\n",
       "      <th>2023-05-18</th>\n",
       "      <td>27405.61</td>\n",
       "      <td>50100.00</td>\n",
       "      <td>9960.10</td>\n",
       "      <td>26821.33</td>\n",
       "      <td>6075.217002</td>\n",
       "    </tr>\n",
       "    <tr>\n",
       "      <th>2023-05-19</th>\n",
       "      <td>26821.33</td>\n",
       "      <td>40000.00</td>\n",
       "      <td>13370.00</td>\n",
       "      <td>26880.29</td>\n",
       "      <td>3813.332197</td>\n",
       "    </tr>\n",
       "    <tr>\n",
       "      <th>2023-05-20</th>\n",
       "      <td>26880.27</td>\n",
       "      <td>27146.84</td>\n",
       "      <td>9974.90</td>\n",
       "      <td>27109.35</td>\n",
       "      <td>2204.530774</td>\n",
       "    </tr>\n",
       "    <tr>\n",
       "      <th>2023-05-21</th>\n",
       "      <td>27113.24</td>\n",
       "      <td>27270.80</td>\n",
       "      <td>13458.36</td>\n",
       "      <td>26747.78</td>\n",
       "      <td>2758.696951</td>\n",
       "    </tr>\n",
       "    <tr>\n",
       "      <th>2023-05-22</th>\n",
       "      <td>26747.79</td>\n",
       "      <td>84807.47</td>\n",
       "      <td>5440.00</td>\n",
       "      <td>26849.23</td>\n",
       "      <td>3737.925676</td>\n",
       "    </tr>\n",
       "    <tr>\n",
       "      <th>2023-05-23</th>\n",
       "      <td>26849.27</td>\n",
       "      <td>28680.07</td>\n",
       "      <td>26382.88</td>\n",
       "      <td>27219.59</td>\n",
       "      <td>4023.904469</td>\n",
       "    </tr>\n",
       "    <tr>\n",
       "      <th>2023-05-24</th>\n",
       "      <td>27219.60</td>\n",
       "      <td>27291.40</td>\n",
       "      <td>25945.94</td>\n",
       "      <td>26329.00</td>\n",
       "      <td>4815.531398</td>\n",
       "    </tr>\n",
       "    <tr>\n",
       "      <th>2023-05-25</th>\n",
       "      <td>26329.00</td>\n",
       "      <td>27186.65</td>\n",
       "      <td>24664.30</td>\n",
       "      <td>26473.80</td>\n",
       "      <td>4659.631246</td>\n",
       "    </tr>\n",
       "    <tr>\n",
       "      <th>2023-05-26</th>\n",
       "      <td>26473.79</td>\n",
       "      <td>27093.59</td>\n",
       "      <td>26233.05</td>\n",
       "      <td>26706.50</td>\n",
       "      <td>3471.130609</td>\n",
       "    </tr>\n",
       "    <tr>\n",
       "      <th>2023-05-27</th>\n",
       "      <td>26708.81</td>\n",
       "      <td>27458.41</td>\n",
       "      <td>23500.00</td>\n",
       "      <td>26698.98</td>\n",
       "      <td>1002.354780</td>\n",
       "    </tr>\n",
       "  </tbody>\n",
       "</table>\n",
       "</div>"
      ],
      "text/plain": [
       "                Open      High       Low     Close       Volume\n",
       "Date                                                           \n",
       "2023-05-03  28640.47  29450.71  27126.37  29022.14  3937.850300\n",
       "2023-05-04  29022.14  29750.45   6000.00  28838.17  5671.579796\n",
       "2023-05-05  28838.16  30064.78   9940.10  29505.90  5554.073422\n",
       "2023-05-06  29505.87  30350.92  10000.00  28848.20  4749.770736\n",
       "2023-05-07  28848.20  29730.87   9000.00  28428.42  5256.155270\n",
       "2023-05-08  28401.10  28634.16  10000.00  27668.78  5642.398136\n",
       "2023-05-09  27668.79  27973.87  26451.80  27628.38  4772.766515\n",
       "2023-05-10  27628.27  29856.63  26829.24  27598.73  4653.626163\n",
       "2023-05-11  27598.74  27616.04  26721.51  26970.02  5330.257965\n",
       "2023-05-12  26968.86  27068.41  25641.69  26796.01  5724.303849\n",
       "2023-05-13  26795.00  27028.24  10000.00  26774.62  3533.556359\n",
       "2023-05-14  26775.27  27191.16  10000.00  26917.56  3358.074770\n",
       "2023-05-15  26917.61  27669.57  25000.20  27161.30  4451.185345\n",
       "2023-05-16  27162.15  27855.13  15000.50  27033.84  4874.545744\n",
       "2023-05-17  27033.85  61000.00   9960.20  27405.08  4946.935497\n",
       "2023-05-18  27405.61  50100.00   9960.10  26821.33  6075.217002\n",
       "2023-05-19  26821.33  40000.00  13370.00  26880.29  3813.332197\n",
       "2023-05-20  26880.27  27146.84   9974.90  27109.35  2204.530774\n",
       "2023-05-21  27113.24  27270.80  13458.36  26747.78  2758.696951\n",
       "2023-05-22  26747.79  84807.47   5440.00  26849.23  3737.925676\n",
       "2023-05-23  26849.27  28680.07  26382.88  27219.59  4023.904469\n",
       "2023-05-24  27219.60  27291.40  25945.94  26329.00  4815.531398\n",
       "2023-05-25  26329.00  27186.65  24664.30  26473.80  4659.631246\n",
       "2023-05-26  26473.79  27093.59  26233.05  26706.50  3471.130609\n",
       "2023-05-27  26708.81  27458.41  23500.00  26698.98  1002.354780"
      ]
     },
     "execution_count": 27,
     "metadata": {},
     "output_type": "execute_result"
    }
   ],
   "source": [
    "df"
   ]
  },
  {
   "cell_type": "code",
   "execution_count": 29,
   "id": "46709a1a",
   "metadata": {},
   "outputs": [
    {
     "data": {
      "text/html": [
       "<div>\n",
       "<style scoped>\n",
       "    .dataframe tbody tr th:only-of-type {\n",
       "        vertical-align: middle;\n",
       "    }\n",
       "\n",
       "    .dataframe tbody tr th {\n",
       "        vertical-align: top;\n",
       "    }\n",
       "\n",
       "    .dataframe thead th {\n",
       "        text-align: right;\n",
       "    }\n",
       "</style>\n",
       "<table border=\"1\" class=\"dataframe\">\n",
       "  <thead>\n",
       "    <tr style=\"text-align: right;\">\n",
       "      <th></th>\n",
       "      <th>Open</th>\n",
       "      <th>High</th>\n",
       "      <th>Low</th>\n",
       "      <th>Close</th>\n",
       "      <th>Volume</th>\n",
       "    </tr>\n",
       "    <tr>\n",
       "      <th>Date</th>\n",
       "      <th></th>\n",
       "      <th></th>\n",
       "      <th></th>\n",
       "      <th></th>\n",
       "      <th></th>\n",
       "    </tr>\n",
       "  </thead>\n",
       "  <tbody>\n",
       "    <tr>\n",
       "      <th>2023-05-03</th>\n",
       "      <td>28640.47</td>\n",
       "      <td>29450.71</td>\n",
       "      <td>27126.37</td>\n",
       "      <td>29022.14</td>\n",
       "      <td>3937.850300</td>\n",
       "    </tr>\n",
       "    <tr>\n",
       "      <th>2023-05-04</th>\n",
       "      <td>29022.14</td>\n",
       "      <td>29750.45</td>\n",
       "      <td>6000.00</td>\n",
       "      <td>28838.17</td>\n",
       "      <td>5671.579796</td>\n",
       "    </tr>\n",
       "    <tr>\n",
       "      <th>2023-05-05</th>\n",
       "      <td>28838.16</td>\n",
       "      <td>30064.78</td>\n",
       "      <td>9940.10</td>\n",
       "      <td>29505.90</td>\n",
       "      <td>5554.073422</td>\n",
       "    </tr>\n",
       "    <tr>\n",
       "      <th>2023-05-06</th>\n",
       "      <td>29505.87</td>\n",
       "      <td>30350.92</td>\n",
       "      <td>10000.00</td>\n",
       "      <td>28848.20</td>\n",
       "      <td>4749.770736</td>\n",
       "    </tr>\n",
       "    <tr>\n",
       "      <th>2023-05-07</th>\n",
       "      <td>28848.20</td>\n",
       "      <td>29730.87</td>\n",
       "      <td>9000.00</td>\n",
       "      <td>28428.42</td>\n",
       "      <td>5256.155270</td>\n",
       "    </tr>\n",
       "    <tr>\n",
       "      <th>2023-05-08</th>\n",
       "      <td>28401.10</td>\n",
       "      <td>28634.16</td>\n",
       "      <td>10000.00</td>\n",
       "      <td>27668.78</td>\n",
       "      <td>5642.398136</td>\n",
       "    </tr>\n",
       "    <tr>\n",
       "      <th>2023-05-09</th>\n",
       "      <td>27668.79</td>\n",
       "      <td>27973.87</td>\n",
       "      <td>26451.80</td>\n",
       "      <td>27628.38</td>\n",
       "      <td>4772.766515</td>\n",
       "    </tr>\n",
       "    <tr>\n",
       "      <th>2023-05-10</th>\n",
       "      <td>27628.27</td>\n",
       "      <td>29856.63</td>\n",
       "      <td>26829.24</td>\n",
       "      <td>27598.73</td>\n",
       "      <td>4653.626163</td>\n",
       "    </tr>\n",
       "    <tr>\n",
       "      <th>2023-05-11</th>\n",
       "      <td>27598.74</td>\n",
       "      <td>27616.04</td>\n",
       "      <td>26721.51</td>\n",
       "      <td>26970.02</td>\n",
       "      <td>5330.257965</td>\n",
       "    </tr>\n",
       "    <tr>\n",
       "      <th>2023-05-12</th>\n",
       "      <td>26968.86</td>\n",
       "      <td>27068.41</td>\n",
       "      <td>25641.69</td>\n",
       "      <td>26796.01</td>\n",
       "      <td>5724.303849</td>\n",
       "    </tr>\n",
       "    <tr>\n",
       "      <th>2023-05-13</th>\n",
       "      <td>26795.00</td>\n",
       "      <td>27028.24</td>\n",
       "      <td>10000.00</td>\n",
       "      <td>26774.62</td>\n",
       "      <td>3533.556359</td>\n",
       "    </tr>\n",
       "    <tr>\n",
       "      <th>2023-05-14</th>\n",
       "      <td>26775.27</td>\n",
       "      <td>27191.16</td>\n",
       "      <td>10000.00</td>\n",
       "      <td>26917.56</td>\n",
       "      <td>3358.074770</td>\n",
       "    </tr>\n",
       "    <tr>\n",
       "      <th>2023-05-15</th>\n",
       "      <td>26917.61</td>\n",
       "      <td>27669.57</td>\n",
       "      <td>25000.20</td>\n",
       "      <td>27161.30</td>\n",
       "      <td>4451.185345</td>\n",
       "    </tr>\n",
       "    <tr>\n",
       "      <th>2023-05-16</th>\n",
       "      <td>27162.15</td>\n",
       "      <td>27855.13</td>\n",
       "      <td>15000.50</td>\n",
       "      <td>27033.84</td>\n",
       "      <td>4874.545744</td>\n",
       "    </tr>\n",
       "    <tr>\n",
       "      <th>2023-05-17</th>\n",
       "      <td>27033.85</td>\n",
       "      <td>61000.00</td>\n",
       "      <td>9960.20</td>\n",
       "      <td>27405.08</td>\n",
       "      <td>4946.935497</td>\n",
       "    </tr>\n",
       "    <tr>\n",
       "      <th>2023-05-18</th>\n",
       "      <td>27405.61</td>\n",
       "      <td>50100.00</td>\n",
       "      <td>9960.10</td>\n",
       "      <td>26821.33</td>\n",
       "      <td>6075.217002</td>\n",
       "    </tr>\n",
       "    <tr>\n",
       "      <th>2023-05-19</th>\n",
       "      <td>26821.33</td>\n",
       "      <td>40000.00</td>\n",
       "      <td>13370.00</td>\n",
       "      <td>26880.29</td>\n",
       "      <td>3813.332197</td>\n",
       "    </tr>\n",
       "    <tr>\n",
       "      <th>2023-05-20</th>\n",
       "      <td>26880.27</td>\n",
       "      <td>27146.84</td>\n",
       "      <td>9974.90</td>\n",
       "      <td>27109.35</td>\n",
       "      <td>2204.530774</td>\n",
       "    </tr>\n",
       "    <tr>\n",
       "      <th>2023-05-21</th>\n",
       "      <td>27113.24</td>\n",
       "      <td>27270.80</td>\n",
       "      <td>13458.36</td>\n",
       "      <td>26747.78</td>\n",
       "      <td>2758.696951</td>\n",
       "    </tr>\n",
       "    <tr>\n",
       "      <th>2023-05-22</th>\n",
       "      <td>26747.79</td>\n",
       "      <td>84807.47</td>\n",
       "      <td>5440.00</td>\n",
       "      <td>26849.23</td>\n",
       "      <td>3737.925676</td>\n",
       "    </tr>\n",
       "    <tr>\n",
       "      <th>2023-05-23</th>\n",
       "      <td>26849.27</td>\n",
       "      <td>28680.07</td>\n",
       "      <td>26382.88</td>\n",
       "      <td>27219.59</td>\n",
       "      <td>4023.904469</td>\n",
       "    </tr>\n",
       "    <tr>\n",
       "      <th>2023-05-24</th>\n",
       "      <td>27219.60</td>\n",
       "      <td>27291.40</td>\n",
       "      <td>25945.94</td>\n",
       "      <td>26329.00</td>\n",
       "      <td>4815.531398</td>\n",
       "    </tr>\n",
       "    <tr>\n",
       "      <th>2023-05-25</th>\n",
       "      <td>26329.00</td>\n",
       "      <td>27186.65</td>\n",
       "      <td>24664.30</td>\n",
       "      <td>26473.80</td>\n",
       "      <td>4659.631246</td>\n",
       "    </tr>\n",
       "    <tr>\n",
       "      <th>2023-05-26</th>\n",
       "      <td>26473.79</td>\n",
       "      <td>27093.59</td>\n",
       "      <td>26233.05</td>\n",
       "      <td>26706.50</td>\n",
       "      <td>3471.130609</td>\n",
       "    </tr>\n",
       "    <tr>\n",
       "      <th>2023-05-27</th>\n",
       "      <td>26708.81</td>\n",
       "      <td>27458.41</td>\n",
       "      <td>23500.00</td>\n",
       "      <td>26698.00</td>\n",
       "      <td>1002.692992</td>\n",
       "    </tr>\n",
       "  </tbody>\n",
       "</table>\n",
       "</div>"
      ],
      "text/plain": [
       "                Open      High       Low     Close       Volume\n",
       "Date                                                           \n",
       "2023-05-03  28640.47  29450.71  27126.37  29022.14  3937.850300\n",
       "2023-05-04  29022.14  29750.45   6000.00  28838.17  5671.579796\n",
       "2023-05-05  28838.16  30064.78   9940.10  29505.90  5554.073422\n",
       "2023-05-06  29505.87  30350.92  10000.00  28848.20  4749.770736\n",
       "2023-05-07  28848.20  29730.87   9000.00  28428.42  5256.155270\n",
       "2023-05-08  28401.10  28634.16  10000.00  27668.78  5642.398136\n",
       "2023-05-09  27668.79  27973.87  26451.80  27628.38  4772.766515\n",
       "2023-05-10  27628.27  29856.63  26829.24  27598.73  4653.626163\n",
       "2023-05-11  27598.74  27616.04  26721.51  26970.02  5330.257965\n",
       "2023-05-12  26968.86  27068.41  25641.69  26796.01  5724.303849\n",
       "2023-05-13  26795.00  27028.24  10000.00  26774.62  3533.556359\n",
       "2023-05-14  26775.27  27191.16  10000.00  26917.56  3358.074770\n",
       "2023-05-15  26917.61  27669.57  25000.20  27161.30  4451.185345\n",
       "2023-05-16  27162.15  27855.13  15000.50  27033.84  4874.545744\n",
       "2023-05-17  27033.85  61000.00   9960.20  27405.08  4946.935497\n",
       "2023-05-18  27405.61  50100.00   9960.10  26821.33  6075.217002\n",
       "2023-05-19  26821.33  40000.00  13370.00  26880.29  3813.332197\n",
       "2023-05-20  26880.27  27146.84   9974.90  27109.35  2204.530774\n",
       "2023-05-21  27113.24  27270.80  13458.36  26747.78  2758.696951\n",
       "2023-05-22  26747.79  84807.47   5440.00  26849.23  3737.925676\n",
       "2023-05-23  26849.27  28680.07  26382.88  27219.59  4023.904469\n",
       "2023-05-24  27219.60  27291.40  25945.94  26329.00  4815.531398\n",
       "2023-05-25  26329.00  27186.65  24664.30  26473.80  4659.631246\n",
       "2023-05-26  26473.79  27093.59  26233.05  26706.50  3471.130609\n",
       "2023-05-27  26708.81  27458.41  23500.00  26698.00  1002.692992"
      ]
     },
     "execution_count": 29,
     "metadata": {},
     "output_type": "execute_result"
    }
   ],
   "source": [
    "df = get_history(symbol=\"BTCUSDT\", interval=\"1d\", start=\"2021-09-15\")\n",
    "df"
   ]
  },
  {
   "cell_type": "code",
   "execution_count": 31,
   "id": "13ba3543",
   "metadata": {},
   "outputs": [],
   "source": [
    "from binance import ThreadedWebsocketManager"
   ]
  },
  {
   "cell_type": "code",
   "execution_count": 33,
   "id": "fd37a63c",
   "metadata": {},
   "outputs": [],
   "source": [
    "def stream_data(msg):\n",
    "    time = pd.to_datetime(msg[\"E\"], unit=\"ms\")\n",
    "    price = msg[\"c\"]\n",
    "    print(\"Time: {} | Price: {}\".format(time, price))"
   ]
  },
  {
   "cell_type": "code",
   "execution_count": 34,
   "id": "22d3be8b",
   "metadata": {},
   "outputs": [],
   "source": [
    "twm = ThreadedWebsocketManager()\n",
    "twm.start()"
   ]
  },
  {
   "cell_type": "code",
   "execution_count": 35,
   "id": "a3cee7cd",
   "metadata": {},
   "outputs": [
    {
     "data": {
      "text/plain": [
       "'btcusdt@miniTicker'"
      ]
     },
     "execution_count": 35,
     "metadata": {},
     "output_type": "execute_result"
    },
    {
     "name": "stdout",
     "output_type": "stream",
     "text": [
      "Time: 2023-05-27 10:20:01.185000 | Price: 26706.99000000\n",
      "Time: 2023-05-27 10:20:01.797000 | Price: 26706.98000000\n",
      "Time: 2023-05-27 10:20:02.664000 | Price: 26706.98000000\n",
      "Time: 2023-05-27 10:20:03.632000 | Price: 26706.98000000\n",
      "Time: 2023-05-27 10:20:05.081000 | Price: 26706.99000000\n",
      "Time: 2023-05-27 10:20:05.231000 | Price: 26706.98000000\n"
     ]
    }
   ],
   "source": [
    "twm.start_symbol_miniticker_socket(callback=stream_data, symbol=\"BTCUSDT\")"
   ]
  },
  {
   "cell_type": "code",
   "execution_count": 36,
   "id": "e2e841d8",
   "metadata": {},
   "outputs": [
    {
     "name": "stderr",
     "output_type": "stream",
     "text": [
      "CANCEL read_loop\n"
     ]
    },
    {
     "name": "stdout",
     "output_type": "stream",
     "text": [
      "Time: 2023-05-27 10:20:06.786000 | Price: 26706.98000000\n"
     ]
    }
   ],
   "source": [
    "twm.stop()"
   ]
  },
  {
   "cell_type": "markdown",
   "id": "5dbc5a51",
   "metadata": {},
   "source": [
    "## 매수주문 입력"
   ]
  },
  {
   "cell_type": "code",
   "execution_count": 38,
   "id": "f329491d",
   "metadata": {},
   "outputs": [],
   "source": [
    "from binance.client import Client\n",
    "import pandas as pd"
   ]
  },
  {
   "cell_type": "code",
   "execution_count": 39,
   "id": "3b3a8eb1",
   "metadata": {},
   "outputs": [],
   "source": [
    "client = Client(api_key=api_key, api_secret=secret_key, tld=\"com\", testnet=True)"
   ]
  },
  {
   "cell_type": "code",
   "execution_count": 40,
   "id": "e144d6d7",
   "metadata": {},
   "outputs": [
    {
     "data": {
      "text/plain": [
       "{'makerCommission': 0,\n",
       " 'takerCommission': 0,\n",
       " 'buyerCommission': 0,\n",
       " 'sellerCommission': 0,\n",
       " 'commissionRates': {'maker': '0.00000000',\n",
       "  'taker': '0.00000000',\n",
       "  'buyer': '0.00000000',\n",
       "  'seller': '0.00000000'},\n",
       " 'canTrade': True,\n",
       " 'canWithdraw': False,\n",
       " 'canDeposit': False,\n",
       " 'brokered': False,\n",
       " 'requireSelfTradePrevention': False,\n",
       " 'updateTime': 1685171494781,\n",
       " 'accountType': 'SPOT',\n",
       " 'balances': [{'asset': 'BNB',\n",
       "   'free': '1000.00000000',\n",
       "   'locked': '0.00000000'},\n",
       "  {'asset': 'BTC', 'free': '1.00000000', 'locked': '0.00000000'},\n",
       "  {'asset': 'BUSD', 'free': '10000.00000000', 'locked': '0.00000000'},\n",
       "  {'asset': 'ETH', 'free': '100.00000000', 'locked': '0.00000000'},\n",
       "  {'asset': 'LTC', 'free': '500.00000000', 'locked': '0.00000000'},\n",
       "  {'asset': 'TRX', 'free': '500000.00000000', 'locked': '0.00000000'},\n",
       "  {'asset': 'USDT', 'free': '10000.00000000', 'locked': '0.00000000'},\n",
       "  {'asset': 'XRP', 'free': '50000.00000000', 'locked': '0.00000000'}],\n",
       " 'permissions': ['SPOT']}"
      ]
     },
     "execution_count": 40,
     "metadata": {},
     "output_type": "execute_result"
    }
   ],
   "source": [
    "client.get_account()"
   ]
  },
  {
   "cell_type": "code",
   "execution_count": 41,
   "id": "8a56d40b",
   "metadata": {},
   "outputs": [
    {
     "data": {
      "text/plain": [
       "{'symbol': 'BTCUSDT',\n",
       " 'orderId': 10696625,\n",
       " 'orderListId': -1,\n",
       " 'clientOrderId': 'RRoqzFA4W5srMAZipLvaRW',\n",
       " 'transactTime': 1685183085507,\n",
       " 'price': '0.00000000',\n",
       " 'origQty': '0.10000000',\n",
       " 'executedQty': '0.10000000',\n",
       " 'cummulativeQuoteQty': '2671.17732381',\n",
       " 'status': 'FILLED',\n",
       " 'timeInForce': 'GTC',\n",
       " 'type': 'MARKET',\n",
       " 'side': 'BUY',\n",
       " 'workingTime': 1685183085507,\n",
       " 'fills': [{'price': '26711.52000000',\n",
       "   'qty': '0.01093500',\n",
       "   'commission': '0.00000000',\n",
       "   'commissionAsset': 'BTC',\n",
       "   'tradeId': 3385867},\n",
       "  {'price': '26711.80000000',\n",
       "   'qty': '0.05050400',\n",
       "   'commission': '0.00000000',\n",
       "   'commissionAsset': 'BTC',\n",
       "   'tradeId': 3385868},\n",
       "  {'price': '26711.81000000',\n",
       "   'qty': '0.03856100',\n",
       "   'commission': '0.00000000',\n",
       "   'commissionAsset': 'BTC',\n",
       "   'tradeId': 3385869}],\n",
       " 'selfTradePreventionMode': 'NONE'}"
      ]
     },
     "execution_count": 41,
     "metadata": {},
     "output_type": "execute_result"
    }
   ],
   "source": [
    "order = client.create_order(symbol=\"BTCUSDT\", side=\"BUY\", type=\"MARKET\", quantity=0.1)\n",
    "order"
   ]
  },
  {
   "cell_type": "code",
   "execution_count": 42,
   "id": "9d54abc2",
   "metadata": {},
   "outputs": [
    {
     "data": {
      "text/html": [
       "<div>\n",
       "<style scoped>\n",
       "    .dataframe tbody tr th:only-of-type {\n",
       "        vertical-align: middle;\n",
       "    }\n",
       "\n",
       "    .dataframe tbody tr th {\n",
       "        vertical-align: top;\n",
       "    }\n",
       "\n",
       "    .dataframe thead th {\n",
       "        text-align: right;\n",
       "    }\n",
       "</style>\n",
       "<table border=\"1\" class=\"dataframe\">\n",
       "  <thead>\n",
       "    <tr style=\"text-align: right;\">\n",
       "      <th></th>\n",
       "      <th>price</th>\n",
       "      <th>qty</th>\n",
       "      <th>commission</th>\n",
       "      <th>commissionAsset</th>\n",
       "      <th>tradeId</th>\n",
       "    </tr>\n",
       "  </thead>\n",
       "  <tbody>\n",
       "    <tr>\n",
       "      <th>0</th>\n",
       "      <td>26711.52000000</td>\n",
       "      <td>0.01093500</td>\n",
       "      <td>0.00000000</td>\n",
       "      <td>BTC</td>\n",
       "      <td>3385867</td>\n",
       "    </tr>\n",
       "    <tr>\n",
       "      <th>1</th>\n",
       "      <td>26711.80000000</td>\n",
       "      <td>0.05050400</td>\n",
       "      <td>0.00000000</td>\n",
       "      <td>BTC</td>\n",
       "      <td>3385868</td>\n",
       "    </tr>\n",
       "    <tr>\n",
       "      <th>2</th>\n",
       "      <td>26711.81000000</td>\n",
       "      <td>0.03856100</td>\n",
       "      <td>0.00000000</td>\n",
       "      <td>BTC</td>\n",
       "      <td>3385869</td>\n",
       "    </tr>\n",
       "  </tbody>\n",
       "</table>\n",
       "</div>"
      ],
      "text/plain": [
       "            price         qty  commission commissionAsset  tradeId\n",
       "0  26711.52000000  0.01093500  0.00000000             BTC  3385867\n",
       "1  26711.80000000  0.05050400  0.00000000             BTC  3385868\n",
       "2  26711.81000000  0.03856100  0.00000000             BTC  3385869"
      ]
     },
     "execution_count": 42,
     "metadata": {},
     "output_type": "execute_result"
    }
   ],
   "source": [
    "df = pd.DataFrame(order[\"fills\"])\n",
    "df"
   ]
  },
  {
   "cell_type": "code",
   "execution_count": 43,
   "id": "7b032f9b",
   "metadata": {},
   "outputs": [
    {
     "name": "stdout",
     "output_type": "stream",
     "text": [
      "<class 'pandas.core.frame.DataFrame'>\n",
      "RangeIndex: 3 entries, 0 to 2\n",
      "Data columns (total 5 columns):\n",
      " #   Column           Non-Null Count  Dtype \n",
      "---  ------           --------------  ----- \n",
      " 0   price            3 non-null      object\n",
      " 1   qty              3 non-null      object\n",
      " 2   commission       3 non-null      object\n",
      " 3   commissionAsset  3 non-null      object\n",
      " 4   tradeId          3 non-null      int64 \n",
      "dtypes: int64(1), object(4)\n",
      "memory usage: 248.0+ bytes\n"
     ]
    }
   ],
   "source": [
    "df.info()"
   ]
  },
  {
   "cell_type": "code",
   "execution_count": 44,
   "id": "f35ef5fc",
   "metadata": {},
   "outputs": [],
   "source": [
    "num_columns = [\"price\", \"qty\", \"commission\"]"
   ]
  },
  {
   "cell_type": "code",
   "execution_count": 45,
   "id": "cdcd2b60",
   "metadata": {},
   "outputs": [],
   "source": [
    "for column in num_columns:\n",
    "    df[column] = pd.to_numeric(df[column], errors=\"coerce\")"
   ]
  },
  {
   "cell_type": "code",
   "execution_count": 46,
   "id": "7580bb07",
   "metadata": {},
   "outputs": [
    {
     "name": "stdout",
     "output_type": "stream",
     "text": [
      "<class 'pandas.core.frame.DataFrame'>\n",
      "RangeIndex: 3 entries, 0 to 2\n",
      "Data columns (total 5 columns):\n",
      " #   Column           Non-Null Count  Dtype  \n",
      "---  ------           --------------  -----  \n",
      " 0   price            3 non-null      float64\n",
      " 1   qty              3 non-null      float64\n",
      " 2   commission       3 non-null      float64\n",
      " 3   commissionAsset  3 non-null      object \n",
      " 4   tradeId          3 non-null      int64  \n",
      "dtypes: float64(3), int64(1), object(1)\n",
      "memory usage: 248.0+ bytes\n"
     ]
    }
   ],
   "source": [
    "df.info()"
   ]
  },
  {
   "cell_type": "code",
   "execution_count": 47,
   "id": "260aa7ed",
   "metadata": {},
   "outputs": [
    {
     "data": {
      "text/plain": [
       "0.1"
      ]
     },
     "execution_count": 47,
     "metadata": {},
     "output_type": "execute_result"
    }
   ],
   "source": [
    "df.qty.sum()"
   ]
  },
  {
   "cell_type": "code",
   "execution_count": 48,
   "id": "d12e9acb",
   "metadata": {},
   "outputs": [
    {
     "data": {
      "text/plain": [
       "2671.17732381"
      ]
     },
     "execution_count": 48,
     "metadata": {},
     "output_type": "execute_result"
    }
   ],
   "source": [
    "df.price.mul(df.qty).sum()"
   ]
  },
  {
   "cell_type": "code",
   "execution_count": 49,
   "id": "21af3160",
   "metadata": {},
   "outputs": [
    {
     "data": {
      "text/plain": [
       "{'makerCommission': 0,\n",
       " 'takerCommission': 0,\n",
       " 'buyerCommission': 0,\n",
       " 'sellerCommission': 0,\n",
       " 'commissionRates': {'maker': '0.00000000',\n",
       "  'taker': '0.00000000',\n",
       "  'buyer': '0.00000000',\n",
       "  'seller': '0.00000000'},\n",
       " 'canTrade': True,\n",
       " 'canWithdraw': False,\n",
       " 'canDeposit': False,\n",
       " 'brokered': False,\n",
       " 'requireSelfTradePrevention': False,\n",
       " 'updateTime': 1685183085507,\n",
       " 'accountType': 'SPOT',\n",
       " 'balances': [{'asset': 'BNB',\n",
       "   'free': '1000.00000000',\n",
       "   'locked': '0.00000000'},\n",
       "  {'asset': 'BTC', 'free': '1.10000000', 'locked': '0.00000000'},\n",
       "  {'asset': 'BUSD', 'free': '10000.00000000', 'locked': '0.00000000'},\n",
       "  {'asset': 'ETH', 'free': '100.00000000', 'locked': '0.00000000'},\n",
       "  {'asset': 'LTC', 'free': '500.00000000', 'locked': '0.00000000'},\n",
       "  {'asset': 'TRX', 'free': '500000.00000000', 'locked': '0.00000000'},\n",
       "  {'asset': 'USDT', 'free': '7328.82267619', 'locked': '0.00000000'},\n",
       "  {'asset': 'XRP', 'free': '50000.00000000', 'locked': '0.00000000'}],\n",
       " 'permissions': ['SPOT']}"
      ]
     },
     "execution_count": 49,
     "metadata": {},
     "output_type": "execute_result"
    }
   ],
   "source": [
    "client.get_account()"
   ]
  },
  {
   "cell_type": "code",
   "execution_count": 51,
   "id": "8ecfdf7a",
   "metadata": {},
   "outputs": [
    {
     "data": {
      "text/plain": [
       "{'symbol': 'BTCUSDT',\n",
       " 'orderId': 10698846,\n",
       " 'orderListId': -1,\n",
       " 'clientOrderId': 'iauq8reE5jzRIIi36USiqX',\n",
       " 'transactTime': 1685183515925,\n",
       " 'price': '0.00000000',\n",
       " 'origQty': '0.03745200',\n",
       " 'executedQty': '0.03745200',\n",
       " 'cummulativeQuoteQty': '999.99536544',\n",
       " 'status': 'FILLED',\n",
       " 'timeInForce': 'GTC',\n",
       " 'type': 'MARKET',\n",
       " 'side': 'BUY',\n",
       " 'workingTime': 1685183515925,\n",
       " 'fills': [{'price': '26700.72000000',\n",
       "   'qty': '0.03745200',\n",
       "   'commission': '0.00000000',\n",
       "   'commissionAsset': 'BTC',\n",
       "   'tradeId': 3386226}],\n",
       " 'selfTradePreventionMode': 'NONE'}"
      ]
     },
     "execution_count": 51,
     "metadata": {},
     "output_type": "execute_result"
    }
   ],
   "source": [
    "order = client.create_order(symbol=\"BTCUSDT\", side=\"BUY\", type=\"MARKET\", quoteOrderQty=1000)\n",
    "order"
   ]
  },
  {
   "cell_type": "code",
   "execution_count": 52,
   "id": "ffcb3813",
   "metadata": {},
   "outputs": [
    {
     "data": {
      "text/plain": [
       "26700.72"
      ]
     },
     "execution_count": 52,
     "metadata": {},
     "output_type": "execute_result"
    }
   ],
   "source": [
    "avr_price = float(order[\"cummulativeQuoteQty\"]) / float(order[\"origQty\"])\n",
    "avr_price"
   ]
  },
  {
   "cell_type": "code",
   "execution_count": 53,
   "id": "62bac0f7",
   "metadata": {},
   "outputs": [
    {
     "data": {
      "text/plain": [
       "{'makerCommission': 0,\n",
       " 'takerCommission': 0,\n",
       " 'buyerCommission': 0,\n",
       " 'sellerCommission': 0,\n",
       " 'commissionRates': {'maker': '0.00000000',\n",
       "  'taker': '0.00000000',\n",
       "  'buyer': '0.00000000',\n",
       "  'seller': '0.00000000'},\n",
       " 'canTrade': True,\n",
       " 'canWithdraw': False,\n",
       " 'canDeposit': False,\n",
       " 'brokered': False,\n",
       " 'requireSelfTradePrevention': False,\n",
       " 'updateTime': 1685183515925,\n",
       " 'accountType': 'SPOT',\n",
       " 'balances': [{'asset': 'BNB',\n",
       "   'free': '1000.00000000',\n",
       "   'locked': '0.00000000'},\n",
       "  {'asset': 'BTC', 'free': '1.13745200', 'locked': '0.00000000'},\n",
       "  {'asset': 'BUSD', 'free': '10000.00000000', 'locked': '0.00000000'},\n",
       "  {'asset': 'ETH', 'free': '100.00000000', 'locked': '0.00000000'},\n",
       "  {'asset': 'LTC', 'free': '500.00000000', 'locked': '0.00000000'},\n",
       "  {'asset': 'TRX', 'free': '500000.00000000', 'locked': '0.00000000'},\n",
       "  {'asset': 'USDT', 'free': '6328.82731075', 'locked': '0.00000000'},\n",
       "  {'asset': 'XRP', 'free': '50000.00000000', 'locked': '0.00000000'}],\n",
       " 'permissions': ['SPOT']}"
      ]
     },
     "execution_count": 53,
     "metadata": {},
     "output_type": "execute_result"
    }
   ],
   "source": [
    "client.get_account()"
   ]
  },
  {
   "cell_type": "markdown",
   "id": "70cff1b3",
   "metadata": {},
   "source": [
    "## 매도주문 입력"
   ]
  },
  {
   "cell_type": "code",
   "execution_count": 54,
   "id": "f16967c6",
   "metadata": {},
   "outputs": [
    {
     "data": {
      "text/plain": [
       "{'symbol': 'BTCUSDT',\n",
       " 'orderId': 10700239,\n",
       " 'orderListId': -1,\n",
       " 'clientOrderId': 'DXhoSWiqQ1SkivaGXidS0j',\n",
       " 'transactTime': 1685183778500,\n",
       " 'price': '0.00000000',\n",
       " 'origQty': '0.13745200',\n",
       " 'executedQty': '0.13745200',\n",
       " 'cummulativeQuoteQty': '3668.87577778',\n",
       " 'status': 'FILLED',\n",
       " 'timeInForce': 'GTC',\n",
       " 'type': 'MARKET',\n",
       " 'side': 'SELL',\n",
       " 'workingTime': 1685183778500,\n",
       " 'fills': [{'price': '26692.08000000',\n",
       "   'qty': '0.05726800',\n",
       "   'commission': '0.00000000',\n",
       "   'commissionAsset': 'USDT',\n",
       "   'tradeId': 3386503},\n",
       "  {'price': '26692.06000000',\n",
       "   'qty': '0.05619700',\n",
       "   'commission': '0.00000000',\n",
       "   'commissionAsset': 'USDT',\n",
       "   'tradeId': 3386504},\n",
       "  {'price': '26691.96000000',\n",
       "   'qty': '0.02398700',\n",
       "   'commission': '0.00000000',\n",
       "   'commissionAsset': 'USDT',\n",
       "   'tradeId': 3386505}],\n",
       " 'selfTradePreventionMode': 'NONE'}"
      ]
     },
     "execution_count": 54,
     "metadata": {},
     "output_type": "execute_result"
    }
   ],
   "source": [
    "order = client.create_order(symbol=\"BTCUSDT\", side=\"SELL\", type=\"MARKET\", quantity=0.13745200)\n",
    "order"
   ]
  },
  {
   "cell_type": "code",
   "execution_count": 55,
   "id": "d784c627",
   "metadata": {},
   "outputs": [
    {
     "data": {
      "text/plain": [
       "{'makerCommission': 0,\n",
       " 'takerCommission': 0,\n",
       " 'buyerCommission': 0,\n",
       " 'sellerCommission': 0,\n",
       " 'commissionRates': {'maker': '0.00000000',\n",
       "  'taker': '0.00000000',\n",
       "  'buyer': '0.00000000',\n",
       "  'seller': '0.00000000'},\n",
       " 'canTrade': True,\n",
       " 'canWithdraw': False,\n",
       " 'canDeposit': False,\n",
       " 'brokered': False,\n",
       " 'requireSelfTradePrevention': False,\n",
       " 'updateTime': 1685183778500,\n",
       " 'accountType': 'SPOT',\n",
       " 'balances': [{'asset': 'BNB',\n",
       "   'free': '1000.00000000',\n",
       "   'locked': '0.00000000'},\n",
       "  {'asset': 'BTC', 'free': '1.00000000', 'locked': '0.00000000'},\n",
       "  {'asset': 'BUSD', 'free': '10000.00000000', 'locked': '0.00000000'},\n",
       "  {'asset': 'ETH', 'free': '100.00000000', 'locked': '0.00000000'},\n",
       "  {'asset': 'LTC', 'free': '500.00000000', 'locked': '0.00000000'},\n",
       "  {'asset': 'TRX', 'free': '500000.00000000', 'locked': '0.00000000'},\n",
       "  {'asset': 'USDT', 'free': '9997.70308853', 'locked': '0.00000000'},\n",
       "  {'asset': 'XRP', 'free': '50000.00000000', 'locked': '0.00000000'}],\n",
       " 'permissions': ['SPOT']}"
      ]
     },
     "execution_count": 55,
     "metadata": {},
     "output_type": "execute_result"
    }
   ],
   "source": [
    "client.get_account()"
   ]
  },
  {
   "cell_type": "markdown",
   "id": "238da948",
   "metadata": {},
   "source": [
    "## 지정가 매수"
   ]
  },
  {
   "cell_type": "code",
   "execution_count": 56,
   "id": "494a47a4",
   "metadata": {},
   "outputs": [],
   "source": [
    "from binance.client import Client\n",
    "import pandas as pd"
   ]
  },
  {
   "cell_type": "code",
   "execution_count": 57,
   "id": "52420c29",
   "metadata": {},
   "outputs": [],
   "source": [
    "client = Client(api_key=api_key, api_secret=secret_key, tld=\"com\", testnet=True)"
   ]
  },
  {
   "cell_type": "code",
   "execution_count": 58,
   "id": "5a69cf32",
   "metadata": {},
   "outputs": [
    {
     "data": {
      "text/plain": [
       "{'makerCommission': 0,\n",
       " 'takerCommission': 0,\n",
       " 'buyerCommission': 0,\n",
       " 'sellerCommission': 0,\n",
       " 'commissionRates': {'maker': '0.00000000',\n",
       "  'taker': '0.00000000',\n",
       "  'buyer': '0.00000000',\n",
       "  'seller': '0.00000000'},\n",
       " 'canTrade': True,\n",
       " 'canWithdraw': False,\n",
       " 'canDeposit': False,\n",
       " 'brokered': False,\n",
       " 'requireSelfTradePrevention': False,\n",
       " 'updateTime': 1685183778500,\n",
       " 'accountType': 'SPOT',\n",
       " 'balances': [{'asset': 'BNB',\n",
       "   'free': '1000.00000000',\n",
       "   'locked': '0.00000000'},\n",
       "  {'asset': 'BTC', 'free': '1.00000000', 'locked': '0.00000000'},\n",
       "  {'asset': 'BUSD', 'free': '10000.00000000', 'locked': '0.00000000'},\n",
       "  {'asset': 'ETH', 'free': '100.00000000', 'locked': '0.00000000'},\n",
       "  {'asset': 'LTC', 'free': '500.00000000', 'locked': '0.00000000'},\n",
       "  {'asset': 'TRX', 'free': '500000.00000000', 'locked': '0.00000000'},\n",
       "  {'asset': 'USDT', 'free': '9997.70308853', 'locked': '0.00000000'},\n",
       "  {'asset': 'XRP', 'free': '50000.00000000', 'locked': '0.00000000'}],\n",
       " 'permissions': ['SPOT']}"
      ]
     },
     "execution_count": 58,
     "metadata": {},
     "output_type": "execute_result"
    }
   ],
   "source": [
    "client.get_account()"
   ]
  },
  {
   "cell_type": "code",
   "execution_count": 61,
   "id": "60739ddd",
   "metadata": {},
   "outputs": [
    {
     "data": {
      "text/plain": [
       "{'symbol': 'BTCUSDT', 'price': '26691.01000000'}"
      ]
     },
     "execution_count": 61,
     "metadata": {},
     "output_type": "execute_result"
    }
   ],
   "source": [
    "client.get_symbol_ticker(symbol=\"BTCUSDT\")"
   ]
  },
  {
   "cell_type": "code",
   "execution_count": 62,
   "id": "0177988d",
   "metadata": {},
   "outputs": [
    {
     "data": {
      "text/plain": [
       "{'symbol': 'BTCUSDT',\n",
       " 'orderId': 10701745,\n",
       " 'orderListId': -1,\n",
       " 'clientOrderId': 'hBWBwuMKRjcd89uuiJ7mlI',\n",
       " 'transactTime': 1685184090212,\n",
       " 'price': '20000.00000000',\n",
       " 'origQty': '0.10000000',\n",
       " 'executedQty': '0.00000000',\n",
       " 'cummulativeQuoteQty': '0.00000000',\n",
       " 'status': 'NEW',\n",
       " 'timeInForce': 'GTC',\n",
       " 'type': 'LIMIT',\n",
       " 'side': 'BUY',\n",
       " 'workingTime': 1685184090212,\n",
       " 'fills': [],\n",
       " 'selfTradePreventionMode': 'NONE'}"
      ]
     },
     "execution_count": 62,
     "metadata": {},
     "output_type": "execute_result"
    }
   ],
   "source": [
    "order1 = client.create_order(symbol=\"BTCUSDT\", side=\"BUY\", type=\"LIMIT\",\n",
    "                            quantity=0.1, timeInForce=\"GTC\", price=20000)\n",
    "order1"
   ]
  },
  {
   "cell_type": "code",
   "execution_count": 63,
   "id": "4b6fbfee",
   "metadata": {},
   "outputs": [
    {
     "data": {
      "text/plain": [
       "10701745"
      ]
     },
     "execution_count": 63,
     "metadata": {},
     "output_type": "execute_result"
    }
   ],
   "source": [
    "order_id_buy = order1[\"orderId\"]\n",
    "order_id_buy"
   ]
  },
  {
   "cell_type": "code",
   "execution_count": 64,
   "id": "4f86e673",
   "metadata": {},
   "outputs": [
    {
     "data": {
      "text/plain": [
       "{'symbol': 'BTCUSDT',\n",
       " 'orderId': 10701745,\n",
       " 'orderListId': -1,\n",
       " 'clientOrderId': 'hBWBwuMKRjcd89uuiJ7mlI',\n",
       " 'price': '20000.00000000',\n",
       " 'origQty': '0.10000000',\n",
       " 'executedQty': '0.00000000',\n",
       " 'cummulativeQuoteQty': '0.00000000',\n",
       " 'status': 'NEW',\n",
       " 'timeInForce': 'GTC',\n",
       " 'type': 'LIMIT',\n",
       " 'side': 'BUY',\n",
       " 'stopPrice': '0.00000000',\n",
       " 'icebergQty': '0.00000000',\n",
       " 'time': 1685184090212,\n",
       " 'updateTime': 1685184090212,\n",
       " 'isWorking': True,\n",
       " 'workingTime': 1685184090212,\n",
       " 'origQuoteOrderQty': '0.00000000',\n",
       " 'selfTradePreventionMode': 'NONE'}"
      ]
     },
     "execution_count": 64,
     "metadata": {},
     "output_type": "execute_result"
    }
   ],
   "source": [
    "client.get_order(symbol=\"BTCUSDT\", orderId=order_id_buy)"
   ]
  },
  {
   "cell_type": "markdown",
   "id": "21e4bf53",
   "metadata": {},
   "source": [
    "## 지정가 매도"
   ]
  },
  {
   "cell_type": "code",
   "execution_count": 65,
   "id": "0a0999a7",
   "metadata": {},
   "outputs": [
    {
     "data": {
      "text/plain": [
       "{'symbol': 'BTCUSDT',\n",
       " 'orderId': 10703714,\n",
       " 'orderListId': -1,\n",
       " 'clientOrderId': 'zZ5rnvfp4Wb3iYcoxl5v56',\n",
       " 'transactTime': 1685184470824,\n",
       " 'price': '60000.00000000',\n",
       " 'origQty': '0.10000000',\n",
       " 'executedQty': '0.00000000',\n",
       " 'cummulativeQuoteQty': '0.00000000',\n",
       " 'status': 'NEW',\n",
       " 'timeInForce': 'GTC',\n",
       " 'type': 'LIMIT',\n",
       " 'side': 'SELL',\n",
       " 'workingTime': 1685184470824,\n",
       " 'fills': [],\n",
       " 'selfTradePreventionMode': 'NONE'}"
      ]
     },
     "execution_count": 65,
     "metadata": {},
     "output_type": "execute_result"
    }
   ],
   "source": [
    "order2 = client.create_order(symbol=\"BTCUSDT\", side=\"SELL\", type=\"LIMIT\",\n",
    "                            quantity=0.1, timeInForce=\"GTC\", price=60000)\n",
    "order2"
   ]
  },
  {
   "cell_type": "code",
   "execution_count": 66,
   "id": "4125d131",
   "metadata": {},
   "outputs": [
    {
     "data": {
      "text/plain": [
       "10703714"
      ]
     },
     "execution_count": 66,
     "metadata": {},
     "output_type": "execute_result"
    }
   ],
   "source": [
    "order_id_sell = order2[\"orderId\"]\n",
    "order_id_sell"
   ]
  },
  {
   "cell_type": "code",
   "execution_count": 71,
   "id": "54b4ac63",
   "metadata": {},
   "outputs": [
    {
     "data": {
      "text/plain": [
       "[]"
      ]
     },
     "execution_count": 71,
     "metadata": {},
     "output_type": "execute_result"
    }
   ],
   "source": [
    "open_orders = client.get_open_orders(symbol=\"BTCUSDT\")\n",
    "open_orders"
   ]
  },
  {
   "cell_type": "code",
   "execution_count": 72,
   "id": "1f8b8ce5",
   "metadata": {},
   "outputs": [
    {
     "data": {
      "text/html": [
       "<div>\n",
       "<style scoped>\n",
       "    .dataframe tbody tr th:only-of-type {\n",
       "        vertical-align: middle;\n",
       "    }\n",
       "\n",
       "    .dataframe tbody tr th {\n",
       "        vertical-align: top;\n",
       "    }\n",
       "\n",
       "    .dataframe thead th {\n",
       "        text-align: right;\n",
       "    }\n",
       "</style>\n",
       "<table border=\"1\" class=\"dataframe\">\n",
       "  <thead>\n",
       "    <tr style=\"text-align: right;\">\n",
       "      <th></th>\n",
       "    </tr>\n",
       "  </thead>\n",
       "  <tbody>\n",
       "  </tbody>\n",
       "</table>\n",
       "</div>"
      ],
      "text/plain": [
       "Empty DataFrame\n",
       "Columns: []\n",
       "Index: []"
      ]
     },
     "execution_count": 72,
     "metadata": {},
     "output_type": "execute_result"
    }
   ],
   "source": [
    "pd.DataFrame(open_orders)"
   ]
  },
  {
   "cell_type": "code",
   "execution_count": 69,
   "id": "a45ef0a2",
   "metadata": {},
   "outputs": [
    {
     "data": {
      "text/plain": [
       "{'symbol': 'BTCUSDT',\n",
       " 'origClientOrderId': 'hBWBwuMKRjcd89uuiJ7mlI',\n",
       " 'orderId': 10701745,\n",
       " 'orderListId': -1,\n",
       " 'clientOrderId': 'JGMcmyoHiWp28BaJV8GFhF',\n",
       " 'price': '20000.00000000',\n",
       " 'origQty': '0.10000000',\n",
       " 'executedQty': '0.00000000',\n",
       " 'cummulativeQuoteQty': '0.00000000',\n",
       " 'status': 'CANCELED',\n",
       " 'timeInForce': 'GTC',\n",
       " 'type': 'LIMIT',\n",
       " 'side': 'BUY',\n",
       " 'selfTradePreventionMode': 'NONE'}"
      ]
     },
     "execution_count": 69,
     "metadata": {},
     "output_type": "execute_result"
    }
   ],
   "source": [
    "result = client.cancel_order(symbol=\"BTCUSDT\", orderId=order_id_buy)\n",
    "result"
   ]
  },
  {
   "cell_type": "code",
   "execution_count": 70,
   "id": "7375d8f1",
   "metadata": {},
   "outputs": [
    {
     "data": {
      "text/plain": [
       "{'symbol': 'BTCUSDT',\n",
       " 'origClientOrderId': 'zZ5rnvfp4Wb3iYcoxl5v56',\n",
       " 'orderId': 10703714,\n",
       " 'orderListId': -1,\n",
       " 'clientOrderId': 'rOKu8vSw1kupYZNi71WRQB',\n",
       " 'price': '60000.00000000',\n",
       " 'origQty': '0.10000000',\n",
       " 'executedQty': '0.00000000',\n",
       " 'cummulativeQuoteQty': '0.00000000',\n",
       " 'status': 'CANCELED',\n",
       " 'timeInForce': 'GTC',\n",
       " 'type': 'LIMIT',\n",
       " 'side': 'SELL',\n",
       " 'selfTradePreventionMode': 'NONE'}"
      ]
     },
     "execution_count": 70,
     "metadata": {},
     "output_type": "execute_result"
    }
   ],
   "source": [
    "result = client.cancel_order(symbol=\"BTCUSDT\", orderId=order_id_sell)\n",
    "result"
   ]
  },
  {
   "cell_type": "markdown",
   "id": "1a4d5d79",
   "metadata": {},
   "source": [
    "## 모든 과거 주문, 거래 내역 얻기"
   ]
  },
  {
   "cell_type": "code",
   "execution_count": 75,
   "id": "7b460835",
   "metadata": {},
   "outputs": [],
   "source": [
    "from binance.client import Client\n",
    "import pandas as pd"
   ]
  },
  {
   "cell_type": "code",
   "execution_count": 76,
   "id": "244a781c",
   "metadata": {},
   "outputs": [],
   "source": [
    "client = Client(api_key=api_key, api_secret=secret_key, tld=\"com\", testnet=True)"
   ]
  },
  {
   "cell_type": "code",
   "execution_count": 77,
   "id": "57a49c10",
   "metadata": {
    "scrolled": true
   },
   "outputs": [
    {
     "data": {
      "text/plain": [
       "[{'symbol': 'BTCUSDT',\n",
       "  'orderId': 10696625,\n",
       "  'orderListId': -1,\n",
       "  'clientOrderId': 'RRoqzFA4W5srMAZipLvaRW',\n",
       "  'price': '0.00000000',\n",
       "  'origQty': '0.10000000',\n",
       "  'executedQty': '0.10000000',\n",
       "  'cummulativeQuoteQty': '2671.17732381',\n",
       "  'status': 'FILLED',\n",
       "  'timeInForce': 'GTC',\n",
       "  'type': 'MARKET',\n",
       "  'side': 'BUY',\n",
       "  'stopPrice': '0.00000000',\n",
       "  'icebergQty': '0.00000000',\n",
       "  'time': 1685183085507,\n",
       "  'updateTime': 1685183085507,\n",
       "  'isWorking': True,\n",
       "  'workingTime': 1685183085507,\n",
       "  'origQuoteOrderQty': '0.00000000',\n",
       "  'selfTradePreventionMode': 'NONE'},\n",
       " {'symbol': 'BTCUSDT',\n",
       "  'orderId': 10698846,\n",
       "  'orderListId': -1,\n",
       "  'clientOrderId': 'iauq8reE5jzRIIi36USiqX',\n",
       "  'price': '0.00000000',\n",
       "  'origQty': '0.03745200',\n",
       "  'executedQty': '0.03745200',\n",
       "  'cummulativeQuoteQty': '999.99536544',\n",
       "  'status': 'FILLED',\n",
       "  'timeInForce': 'GTC',\n",
       "  'type': 'MARKET',\n",
       "  'side': 'BUY',\n",
       "  'stopPrice': '0.00000000',\n",
       "  'icebergQty': '0.00000000',\n",
       "  'time': 1685183515925,\n",
       "  'updateTime': 1685183515925,\n",
       "  'isWorking': True,\n",
       "  'workingTime': 1685183515925,\n",
       "  'origQuoteOrderQty': '1000.00000000',\n",
       "  'selfTradePreventionMode': 'NONE'},\n",
       " {'symbol': 'BTCUSDT',\n",
       "  'orderId': 10700239,\n",
       "  'orderListId': -1,\n",
       "  'clientOrderId': 'DXhoSWiqQ1SkivaGXidS0j',\n",
       "  'price': '0.00000000',\n",
       "  'origQty': '0.13745200',\n",
       "  'executedQty': '0.13745200',\n",
       "  'cummulativeQuoteQty': '3668.87577778',\n",
       "  'status': 'FILLED',\n",
       "  'timeInForce': 'GTC',\n",
       "  'type': 'MARKET',\n",
       "  'side': 'SELL',\n",
       "  'stopPrice': '0.00000000',\n",
       "  'icebergQty': '0.00000000',\n",
       "  'time': 1685183778500,\n",
       "  'updateTime': 1685183778500,\n",
       "  'isWorking': True,\n",
       "  'workingTime': 1685183778500,\n",
       "  'origQuoteOrderQty': '0.00000000',\n",
       "  'selfTradePreventionMode': 'NONE'},\n",
       " {'symbol': 'BTCUSDT',\n",
       "  'orderId': 10701745,\n",
       "  'orderListId': -1,\n",
       "  'clientOrderId': 'hBWBwuMKRjcd89uuiJ7mlI',\n",
       "  'price': '20000.00000000',\n",
       "  'origQty': '0.10000000',\n",
       "  'executedQty': '0.00000000',\n",
       "  'cummulativeQuoteQty': '0.00000000',\n",
       "  'status': 'CANCELED',\n",
       "  'timeInForce': 'GTC',\n",
       "  'type': 'LIMIT',\n",
       "  'side': 'BUY',\n",
       "  'stopPrice': '0.00000000',\n",
       "  'icebergQty': '0.00000000',\n",
       "  'time': 1685184090212,\n",
       "  'updateTime': 1685184665683,\n",
       "  'isWorking': True,\n",
       "  'workingTime': 1685184090212,\n",
       "  'origQuoteOrderQty': '0.00000000',\n",
       "  'selfTradePreventionMode': 'NONE'},\n",
       " {'symbol': 'BTCUSDT',\n",
       "  'orderId': 10703714,\n",
       "  'orderListId': -1,\n",
       "  'clientOrderId': 'zZ5rnvfp4Wb3iYcoxl5v56',\n",
       "  'price': '60000.00000000',\n",
       "  'origQty': '0.10000000',\n",
       "  'executedQty': '0.00000000',\n",
       "  'cummulativeQuoteQty': '0.00000000',\n",
       "  'status': 'CANCELED',\n",
       "  'timeInForce': 'GTC',\n",
       "  'type': 'LIMIT',\n",
       "  'side': 'SELL',\n",
       "  'stopPrice': '0.00000000',\n",
       "  'icebergQty': '0.00000000',\n",
       "  'time': 1685184470824,\n",
       "  'updateTime': 1685184671556,\n",
       "  'isWorking': True,\n",
       "  'workingTime': 1685184470824,\n",
       "  'origQuoteOrderQty': '0.00000000',\n",
       "  'selfTradePreventionMode': 'NONE'}]"
      ]
     },
     "execution_count": 77,
     "metadata": {},
     "output_type": "execute_result"
    }
   ],
   "source": [
    "all_orders = client.get_all_orders(symbol=\"BTCUSDT\")\n",
    "all_orders"
   ]
  },
  {
   "cell_type": "code",
   "execution_count": 78,
   "id": "78a8b12c",
   "metadata": {},
   "outputs": [
    {
     "data": {
      "text/html": [
       "<div>\n",
       "<style scoped>\n",
       "    .dataframe tbody tr th:only-of-type {\n",
       "        vertical-align: middle;\n",
       "    }\n",
       "\n",
       "    .dataframe tbody tr th {\n",
       "        vertical-align: top;\n",
       "    }\n",
       "\n",
       "    .dataframe thead th {\n",
       "        text-align: right;\n",
       "    }\n",
       "</style>\n",
       "<table border=\"1\" class=\"dataframe\">\n",
       "  <thead>\n",
       "    <tr style=\"text-align: right;\">\n",
       "      <th></th>\n",
       "      <th>symbol</th>\n",
       "      <th>orderId</th>\n",
       "      <th>orderListId</th>\n",
       "      <th>clientOrderId</th>\n",
       "      <th>price</th>\n",
       "      <th>origQty</th>\n",
       "      <th>executedQty</th>\n",
       "      <th>cummulativeQuoteQty</th>\n",
       "      <th>status</th>\n",
       "      <th>timeInForce</th>\n",
       "      <th>type</th>\n",
       "      <th>side</th>\n",
       "      <th>stopPrice</th>\n",
       "      <th>icebergQty</th>\n",
       "      <th>time</th>\n",
       "      <th>updateTime</th>\n",
       "      <th>isWorking</th>\n",
       "      <th>workingTime</th>\n",
       "      <th>origQuoteOrderQty</th>\n",
       "      <th>selfTradePreventionMode</th>\n",
       "    </tr>\n",
       "  </thead>\n",
       "  <tbody>\n",
       "    <tr>\n",
       "      <th>0</th>\n",
       "      <td>BTCUSDT</td>\n",
       "      <td>10696625</td>\n",
       "      <td>-1</td>\n",
       "      <td>RRoqzFA4W5srMAZipLvaRW</td>\n",
       "      <td>0.00000000</td>\n",
       "      <td>0.10000000</td>\n",
       "      <td>0.10000000</td>\n",
       "      <td>2671.17732381</td>\n",
       "      <td>FILLED</td>\n",
       "      <td>GTC</td>\n",
       "      <td>MARKET</td>\n",
       "      <td>BUY</td>\n",
       "      <td>0.00000000</td>\n",
       "      <td>0.00000000</td>\n",
       "      <td>1685183085507</td>\n",
       "      <td>1685183085507</td>\n",
       "      <td>True</td>\n",
       "      <td>1685183085507</td>\n",
       "      <td>0.00000000</td>\n",
       "      <td>NONE</td>\n",
       "    </tr>\n",
       "    <tr>\n",
       "      <th>1</th>\n",
       "      <td>BTCUSDT</td>\n",
       "      <td>10698846</td>\n",
       "      <td>-1</td>\n",
       "      <td>iauq8reE5jzRIIi36USiqX</td>\n",
       "      <td>0.00000000</td>\n",
       "      <td>0.03745200</td>\n",
       "      <td>0.03745200</td>\n",
       "      <td>999.99536544</td>\n",
       "      <td>FILLED</td>\n",
       "      <td>GTC</td>\n",
       "      <td>MARKET</td>\n",
       "      <td>BUY</td>\n",
       "      <td>0.00000000</td>\n",
       "      <td>0.00000000</td>\n",
       "      <td>1685183515925</td>\n",
       "      <td>1685183515925</td>\n",
       "      <td>True</td>\n",
       "      <td>1685183515925</td>\n",
       "      <td>1000.00000000</td>\n",
       "      <td>NONE</td>\n",
       "    </tr>\n",
       "    <tr>\n",
       "      <th>2</th>\n",
       "      <td>BTCUSDT</td>\n",
       "      <td>10700239</td>\n",
       "      <td>-1</td>\n",
       "      <td>DXhoSWiqQ1SkivaGXidS0j</td>\n",
       "      <td>0.00000000</td>\n",
       "      <td>0.13745200</td>\n",
       "      <td>0.13745200</td>\n",
       "      <td>3668.87577778</td>\n",
       "      <td>FILLED</td>\n",
       "      <td>GTC</td>\n",
       "      <td>MARKET</td>\n",
       "      <td>SELL</td>\n",
       "      <td>0.00000000</td>\n",
       "      <td>0.00000000</td>\n",
       "      <td>1685183778500</td>\n",
       "      <td>1685183778500</td>\n",
       "      <td>True</td>\n",
       "      <td>1685183778500</td>\n",
       "      <td>0.00000000</td>\n",
       "      <td>NONE</td>\n",
       "    </tr>\n",
       "    <tr>\n",
       "      <th>3</th>\n",
       "      <td>BTCUSDT</td>\n",
       "      <td>10701745</td>\n",
       "      <td>-1</td>\n",
       "      <td>hBWBwuMKRjcd89uuiJ7mlI</td>\n",
       "      <td>20000.00000000</td>\n",
       "      <td>0.10000000</td>\n",
       "      <td>0.00000000</td>\n",
       "      <td>0.00000000</td>\n",
       "      <td>CANCELED</td>\n",
       "      <td>GTC</td>\n",
       "      <td>LIMIT</td>\n",
       "      <td>BUY</td>\n",
       "      <td>0.00000000</td>\n",
       "      <td>0.00000000</td>\n",
       "      <td>1685184090212</td>\n",
       "      <td>1685184665683</td>\n",
       "      <td>True</td>\n",
       "      <td>1685184090212</td>\n",
       "      <td>0.00000000</td>\n",
       "      <td>NONE</td>\n",
       "    </tr>\n",
       "    <tr>\n",
       "      <th>4</th>\n",
       "      <td>BTCUSDT</td>\n",
       "      <td>10703714</td>\n",
       "      <td>-1</td>\n",
       "      <td>zZ5rnvfp4Wb3iYcoxl5v56</td>\n",
       "      <td>60000.00000000</td>\n",
       "      <td>0.10000000</td>\n",
       "      <td>0.00000000</td>\n",
       "      <td>0.00000000</td>\n",
       "      <td>CANCELED</td>\n",
       "      <td>GTC</td>\n",
       "      <td>LIMIT</td>\n",
       "      <td>SELL</td>\n",
       "      <td>0.00000000</td>\n",
       "      <td>0.00000000</td>\n",
       "      <td>1685184470824</td>\n",
       "      <td>1685184671556</td>\n",
       "      <td>True</td>\n",
       "      <td>1685184470824</td>\n",
       "      <td>0.00000000</td>\n",
       "      <td>NONE</td>\n",
       "    </tr>\n",
       "  </tbody>\n",
       "</table>\n",
       "</div>"
      ],
      "text/plain": [
       "    symbol   orderId  orderListId           clientOrderId           price  \\\n",
       "0  BTCUSDT  10696625           -1  RRoqzFA4W5srMAZipLvaRW      0.00000000   \n",
       "1  BTCUSDT  10698846           -1  iauq8reE5jzRIIi36USiqX      0.00000000   \n",
       "2  BTCUSDT  10700239           -1  DXhoSWiqQ1SkivaGXidS0j      0.00000000   \n",
       "3  BTCUSDT  10701745           -1  hBWBwuMKRjcd89uuiJ7mlI  20000.00000000   \n",
       "4  BTCUSDT  10703714           -1  zZ5rnvfp4Wb3iYcoxl5v56  60000.00000000   \n",
       "\n",
       "      origQty executedQty cummulativeQuoteQty    status timeInForce    type  \\\n",
       "0  0.10000000  0.10000000       2671.17732381    FILLED         GTC  MARKET   \n",
       "1  0.03745200  0.03745200        999.99536544    FILLED         GTC  MARKET   \n",
       "2  0.13745200  0.13745200       3668.87577778    FILLED         GTC  MARKET   \n",
       "3  0.10000000  0.00000000          0.00000000  CANCELED         GTC   LIMIT   \n",
       "4  0.10000000  0.00000000          0.00000000  CANCELED         GTC   LIMIT   \n",
       "\n",
       "   side   stopPrice  icebergQty           time     updateTime  isWorking  \\\n",
       "0   BUY  0.00000000  0.00000000  1685183085507  1685183085507       True   \n",
       "1   BUY  0.00000000  0.00000000  1685183515925  1685183515925       True   \n",
       "2  SELL  0.00000000  0.00000000  1685183778500  1685183778500       True   \n",
       "3   BUY  0.00000000  0.00000000  1685184090212  1685184665683       True   \n",
       "4  SELL  0.00000000  0.00000000  1685184470824  1685184671556       True   \n",
       "\n",
       "     workingTime origQuoteOrderQty selfTradePreventionMode  \n",
       "0  1685183085507        0.00000000                    NONE  \n",
       "1  1685183515925     1000.00000000                    NONE  \n",
       "2  1685183778500        0.00000000                    NONE  \n",
       "3  1685184090212        0.00000000                    NONE  \n",
       "4  1685184470824        0.00000000                    NONE  "
      ]
     },
     "execution_count": 78,
     "metadata": {},
     "output_type": "execute_result"
    }
   ],
   "source": [
    "pd.DataFrame(all_orders)"
   ]
  },
  {
   "cell_type": "code",
   "execution_count": 79,
   "id": "49091eab",
   "metadata": {
    "scrolled": true
   },
   "outputs": [
    {
     "data": {
      "text/plain": [
       "[{'symbol': 'BTCUSDT',\n",
       "  'id': 3385867,\n",
       "  'orderId': 10696625,\n",
       "  'orderListId': -1,\n",
       "  'price': '26711.52000000',\n",
       "  'qty': '0.01093500',\n",
       "  'quoteQty': '292.09047120',\n",
       "  'commission': '0.00000000',\n",
       "  'commissionAsset': 'BTC',\n",
       "  'time': 1685183085507,\n",
       "  'isBuyer': True,\n",
       "  'isMaker': False,\n",
       "  'isBestMatch': True},\n",
       " {'symbol': 'BTCUSDT',\n",
       "  'id': 3385868,\n",
       "  'orderId': 10696625,\n",
       "  'orderListId': -1,\n",
       "  'price': '26711.80000000',\n",
       "  'qty': '0.05050400',\n",
       "  'quoteQty': '1349.05274720',\n",
       "  'commission': '0.00000000',\n",
       "  'commissionAsset': 'BTC',\n",
       "  'time': 1685183085507,\n",
       "  'isBuyer': True,\n",
       "  'isMaker': False,\n",
       "  'isBestMatch': True},\n",
       " {'symbol': 'BTCUSDT',\n",
       "  'id': 3385869,\n",
       "  'orderId': 10696625,\n",
       "  'orderListId': -1,\n",
       "  'price': '26711.81000000',\n",
       "  'qty': '0.03856100',\n",
       "  'quoteQty': '1030.03410541',\n",
       "  'commission': '0.00000000',\n",
       "  'commissionAsset': 'BTC',\n",
       "  'time': 1685183085507,\n",
       "  'isBuyer': True,\n",
       "  'isMaker': False,\n",
       "  'isBestMatch': True},\n",
       " {'symbol': 'BTCUSDT',\n",
       "  'id': 3386226,\n",
       "  'orderId': 10698846,\n",
       "  'orderListId': -1,\n",
       "  'price': '26700.72000000',\n",
       "  'qty': '0.03745200',\n",
       "  'quoteQty': '999.99536544',\n",
       "  'commission': '0.00000000',\n",
       "  'commissionAsset': 'BTC',\n",
       "  'time': 1685183515925,\n",
       "  'isBuyer': True,\n",
       "  'isMaker': False,\n",
       "  'isBestMatch': True},\n",
       " {'symbol': 'BTCUSDT',\n",
       "  'id': 3386503,\n",
       "  'orderId': 10700239,\n",
       "  'orderListId': -1,\n",
       "  'price': '26692.08000000',\n",
       "  'qty': '0.05726800',\n",
       "  'quoteQty': '1528.60203744',\n",
       "  'commission': '0.00000000',\n",
       "  'commissionAsset': 'USDT',\n",
       "  'time': 1685183778500,\n",
       "  'isBuyer': False,\n",
       "  'isMaker': False,\n",
       "  'isBestMatch': True},\n",
       " {'symbol': 'BTCUSDT',\n",
       "  'id': 3386504,\n",
       "  'orderId': 10700239,\n",
       "  'orderListId': -1,\n",
       "  'price': '26692.06000000',\n",
       "  'qty': '0.05619700',\n",
       "  'quoteQty': '1500.01369582',\n",
       "  'commission': '0.00000000',\n",
       "  'commissionAsset': 'USDT',\n",
       "  'time': 1685183778500,\n",
       "  'isBuyer': False,\n",
       "  'isMaker': False,\n",
       "  'isBestMatch': True},\n",
       " {'symbol': 'BTCUSDT',\n",
       "  'id': 3386505,\n",
       "  'orderId': 10700239,\n",
       "  'orderListId': -1,\n",
       "  'price': '26691.96000000',\n",
       "  'qty': '0.02398700',\n",
       "  'quoteQty': '640.26004452',\n",
       "  'commission': '0.00000000',\n",
       "  'commissionAsset': 'USDT',\n",
       "  'time': 1685183778500,\n",
       "  'isBuyer': False,\n",
       "  'isMaker': False,\n",
       "  'isBestMatch': True}]"
      ]
     },
     "execution_count": 79,
     "metadata": {},
     "output_type": "execute_result"
    }
   ],
   "source": [
    "trades = client.get_my_trades(symbol=\"BTCUSDT\")\n",
    "trades"
   ]
  },
  {
   "cell_type": "code",
   "execution_count": 80,
   "id": "d4732b07",
   "metadata": {},
   "outputs": [
    {
     "data": {
      "text/html": [
       "<div>\n",
       "<style scoped>\n",
       "    .dataframe tbody tr th:only-of-type {\n",
       "        vertical-align: middle;\n",
       "    }\n",
       "\n",
       "    .dataframe tbody tr th {\n",
       "        vertical-align: top;\n",
       "    }\n",
       "\n",
       "    .dataframe thead th {\n",
       "        text-align: right;\n",
       "    }\n",
       "</style>\n",
       "<table border=\"1\" class=\"dataframe\">\n",
       "  <thead>\n",
       "    <tr style=\"text-align: right;\">\n",
       "      <th></th>\n",
       "      <th>symbol</th>\n",
       "      <th>id</th>\n",
       "      <th>orderId</th>\n",
       "      <th>orderListId</th>\n",
       "      <th>price</th>\n",
       "      <th>qty</th>\n",
       "      <th>quoteQty</th>\n",
       "      <th>commission</th>\n",
       "      <th>commissionAsset</th>\n",
       "      <th>time</th>\n",
       "      <th>isBuyer</th>\n",
       "      <th>isMaker</th>\n",
       "      <th>isBestMatch</th>\n",
       "    </tr>\n",
       "  </thead>\n",
       "  <tbody>\n",
       "    <tr>\n",
       "      <th>0</th>\n",
       "      <td>BTCUSDT</td>\n",
       "      <td>3385867</td>\n",
       "      <td>10696625</td>\n",
       "      <td>-1</td>\n",
       "      <td>26711.52000000</td>\n",
       "      <td>0.01093500</td>\n",
       "      <td>292.09047120</td>\n",
       "      <td>0.00000000</td>\n",
       "      <td>BTC</td>\n",
       "      <td>1685183085507</td>\n",
       "      <td>True</td>\n",
       "      <td>False</td>\n",
       "      <td>True</td>\n",
       "    </tr>\n",
       "    <tr>\n",
       "      <th>1</th>\n",
       "      <td>BTCUSDT</td>\n",
       "      <td>3385868</td>\n",
       "      <td>10696625</td>\n",
       "      <td>-1</td>\n",
       "      <td>26711.80000000</td>\n",
       "      <td>0.05050400</td>\n",
       "      <td>1349.05274720</td>\n",
       "      <td>0.00000000</td>\n",
       "      <td>BTC</td>\n",
       "      <td>1685183085507</td>\n",
       "      <td>True</td>\n",
       "      <td>False</td>\n",
       "      <td>True</td>\n",
       "    </tr>\n",
       "    <tr>\n",
       "      <th>2</th>\n",
       "      <td>BTCUSDT</td>\n",
       "      <td>3385869</td>\n",
       "      <td>10696625</td>\n",
       "      <td>-1</td>\n",
       "      <td>26711.81000000</td>\n",
       "      <td>0.03856100</td>\n",
       "      <td>1030.03410541</td>\n",
       "      <td>0.00000000</td>\n",
       "      <td>BTC</td>\n",
       "      <td>1685183085507</td>\n",
       "      <td>True</td>\n",
       "      <td>False</td>\n",
       "      <td>True</td>\n",
       "    </tr>\n",
       "    <tr>\n",
       "      <th>3</th>\n",
       "      <td>BTCUSDT</td>\n",
       "      <td>3386226</td>\n",
       "      <td>10698846</td>\n",
       "      <td>-1</td>\n",
       "      <td>26700.72000000</td>\n",
       "      <td>0.03745200</td>\n",
       "      <td>999.99536544</td>\n",
       "      <td>0.00000000</td>\n",
       "      <td>BTC</td>\n",
       "      <td>1685183515925</td>\n",
       "      <td>True</td>\n",
       "      <td>False</td>\n",
       "      <td>True</td>\n",
       "    </tr>\n",
       "    <tr>\n",
       "      <th>4</th>\n",
       "      <td>BTCUSDT</td>\n",
       "      <td>3386503</td>\n",
       "      <td>10700239</td>\n",
       "      <td>-1</td>\n",
       "      <td>26692.08000000</td>\n",
       "      <td>0.05726800</td>\n",
       "      <td>1528.60203744</td>\n",
       "      <td>0.00000000</td>\n",
       "      <td>USDT</td>\n",
       "      <td>1685183778500</td>\n",
       "      <td>False</td>\n",
       "      <td>False</td>\n",
       "      <td>True</td>\n",
       "    </tr>\n",
       "    <tr>\n",
       "      <th>5</th>\n",
       "      <td>BTCUSDT</td>\n",
       "      <td>3386504</td>\n",
       "      <td>10700239</td>\n",
       "      <td>-1</td>\n",
       "      <td>26692.06000000</td>\n",
       "      <td>0.05619700</td>\n",
       "      <td>1500.01369582</td>\n",
       "      <td>0.00000000</td>\n",
       "      <td>USDT</td>\n",
       "      <td>1685183778500</td>\n",
       "      <td>False</td>\n",
       "      <td>False</td>\n",
       "      <td>True</td>\n",
       "    </tr>\n",
       "    <tr>\n",
       "      <th>6</th>\n",
       "      <td>BTCUSDT</td>\n",
       "      <td>3386505</td>\n",
       "      <td>10700239</td>\n",
       "      <td>-1</td>\n",
       "      <td>26691.96000000</td>\n",
       "      <td>0.02398700</td>\n",
       "      <td>640.26004452</td>\n",
       "      <td>0.00000000</td>\n",
       "      <td>USDT</td>\n",
       "      <td>1685183778500</td>\n",
       "      <td>False</td>\n",
       "      <td>False</td>\n",
       "      <td>True</td>\n",
       "    </tr>\n",
       "  </tbody>\n",
       "</table>\n",
       "</div>"
      ],
      "text/plain": [
       "    symbol       id   orderId  orderListId           price         qty  \\\n",
       "0  BTCUSDT  3385867  10696625           -1  26711.52000000  0.01093500   \n",
       "1  BTCUSDT  3385868  10696625           -1  26711.80000000  0.05050400   \n",
       "2  BTCUSDT  3385869  10696625           -1  26711.81000000  0.03856100   \n",
       "3  BTCUSDT  3386226  10698846           -1  26700.72000000  0.03745200   \n",
       "4  BTCUSDT  3386503  10700239           -1  26692.08000000  0.05726800   \n",
       "5  BTCUSDT  3386504  10700239           -1  26692.06000000  0.05619700   \n",
       "6  BTCUSDT  3386505  10700239           -1  26691.96000000  0.02398700   \n",
       "\n",
       "        quoteQty  commission commissionAsset           time  isBuyer  isMaker  \\\n",
       "0   292.09047120  0.00000000             BTC  1685183085507     True    False   \n",
       "1  1349.05274720  0.00000000             BTC  1685183085507     True    False   \n",
       "2  1030.03410541  0.00000000             BTC  1685183085507     True    False   \n",
       "3   999.99536544  0.00000000             BTC  1685183515925     True    False   \n",
       "4  1528.60203744  0.00000000            USDT  1685183778500    False    False   \n",
       "5  1500.01369582  0.00000000            USDT  1685183778500    False    False   \n",
       "6   640.26004452  0.00000000            USDT  1685183778500    False    False   \n",
       "\n",
       "   isBestMatch  \n",
       "0         True  \n",
       "1         True  \n",
       "2         True  \n",
       "3         True  \n",
       "4         True  \n",
       "5         True  \n",
       "6         True  "
      ]
     },
     "execution_count": 80,
     "metadata": {},
     "output_type": "execute_result"
    }
   ],
   "source": [
    "df = pd.DataFrame(trades)\n",
    "df"
   ]
  },
  {
   "cell_type": "code",
   "execution_count": 81,
   "id": "dd0970a8",
   "metadata": {},
   "outputs": [
    {
     "data": {
      "text/html": [
       "<div>\n",
       "<style scoped>\n",
       "    .dataframe tbody tr th:only-of-type {\n",
       "        vertical-align: middle;\n",
       "    }\n",
       "\n",
       "    .dataframe tbody tr th {\n",
       "        vertical-align: top;\n",
       "    }\n",
       "\n",
       "    .dataframe thead th {\n",
       "        text-align: right;\n",
       "    }\n",
       "</style>\n",
       "<table border=\"1\" class=\"dataframe\">\n",
       "  <thead>\n",
       "    <tr style=\"text-align: right;\">\n",
       "      <th></th>\n",
       "      <th>symbol</th>\n",
       "      <th>id</th>\n",
       "      <th>orderId</th>\n",
       "      <th>orderListId</th>\n",
       "      <th>price</th>\n",
       "      <th>qty</th>\n",
       "      <th>quoteQty</th>\n",
       "      <th>commission</th>\n",
       "      <th>commissionAsset</th>\n",
       "      <th>time</th>\n",
       "      <th>isBuyer</th>\n",
       "      <th>isMaker</th>\n",
       "      <th>isBestMatch</th>\n",
       "    </tr>\n",
       "  </thead>\n",
       "  <tbody>\n",
       "    <tr>\n",
       "      <th>0</th>\n",
       "      <td>BTCUSDT</td>\n",
       "      <td>3385867</td>\n",
       "      <td>10696625</td>\n",
       "      <td>-1</td>\n",
       "      <td>26711.52000000</td>\n",
       "      <td>0.01093500</td>\n",
       "      <td>292.09047120</td>\n",
       "      <td>0.00000000</td>\n",
       "      <td>BTC</td>\n",
       "      <td>2023-05-27 10:24:45.507</td>\n",
       "      <td>True</td>\n",
       "      <td>False</td>\n",
       "      <td>True</td>\n",
       "    </tr>\n",
       "    <tr>\n",
       "      <th>1</th>\n",
       "      <td>BTCUSDT</td>\n",
       "      <td>3385868</td>\n",
       "      <td>10696625</td>\n",
       "      <td>-1</td>\n",
       "      <td>26711.80000000</td>\n",
       "      <td>0.05050400</td>\n",
       "      <td>1349.05274720</td>\n",
       "      <td>0.00000000</td>\n",
       "      <td>BTC</td>\n",
       "      <td>2023-05-27 10:24:45.507</td>\n",
       "      <td>True</td>\n",
       "      <td>False</td>\n",
       "      <td>True</td>\n",
       "    </tr>\n",
       "    <tr>\n",
       "      <th>2</th>\n",
       "      <td>BTCUSDT</td>\n",
       "      <td>3385869</td>\n",
       "      <td>10696625</td>\n",
       "      <td>-1</td>\n",
       "      <td>26711.81000000</td>\n",
       "      <td>0.03856100</td>\n",
       "      <td>1030.03410541</td>\n",
       "      <td>0.00000000</td>\n",
       "      <td>BTC</td>\n",
       "      <td>2023-05-27 10:24:45.507</td>\n",
       "      <td>True</td>\n",
       "      <td>False</td>\n",
       "      <td>True</td>\n",
       "    </tr>\n",
       "    <tr>\n",
       "      <th>3</th>\n",
       "      <td>BTCUSDT</td>\n",
       "      <td>3386226</td>\n",
       "      <td>10698846</td>\n",
       "      <td>-1</td>\n",
       "      <td>26700.72000000</td>\n",
       "      <td>0.03745200</td>\n",
       "      <td>999.99536544</td>\n",
       "      <td>0.00000000</td>\n",
       "      <td>BTC</td>\n",
       "      <td>2023-05-27 10:31:55.925</td>\n",
       "      <td>True</td>\n",
       "      <td>False</td>\n",
       "      <td>True</td>\n",
       "    </tr>\n",
       "    <tr>\n",
       "      <th>4</th>\n",
       "      <td>BTCUSDT</td>\n",
       "      <td>3386503</td>\n",
       "      <td>10700239</td>\n",
       "      <td>-1</td>\n",
       "      <td>26692.08000000</td>\n",
       "      <td>0.05726800</td>\n",
       "      <td>1528.60203744</td>\n",
       "      <td>0.00000000</td>\n",
       "      <td>USDT</td>\n",
       "      <td>2023-05-27 10:36:18.500</td>\n",
       "      <td>False</td>\n",
       "      <td>False</td>\n",
       "      <td>True</td>\n",
       "    </tr>\n",
       "    <tr>\n",
       "      <th>5</th>\n",
       "      <td>BTCUSDT</td>\n",
       "      <td>3386504</td>\n",
       "      <td>10700239</td>\n",
       "      <td>-1</td>\n",
       "      <td>26692.06000000</td>\n",
       "      <td>0.05619700</td>\n",
       "      <td>1500.01369582</td>\n",
       "      <td>0.00000000</td>\n",
       "      <td>USDT</td>\n",
       "      <td>2023-05-27 10:36:18.500</td>\n",
       "      <td>False</td>\n",
       "      <td>False</td>\n",
       "      <td>True</td>\n",
       "    </tr>\n",
       "    <tr>\n",
       "      <th>6</th>\n",
       "      <td>BTCUSDT</td>\n",
       "      <td>3386505</td>\n",
       "      <td>10700239</td>\n",
       "      <td>-1</td>\n",
       "      <td>26691.96000000</td>\n",
       "      <td>0.02398700</td>\n",
       "      <td>640.26004452</td>\n",
       "      <td>0.00000000</td>\n",
       "      <td>USDT</td>\n",
       "      <td>2023-05-27 10:36:18.500</td>\n",
       "      <td>False</td>\n",
       "      <td>False</td>\n",
       "      <td>True</td>\n",
       "    </tr>\n",
       "  </tbody>\n",
       "</table>\n",
       "</div>"
      ],
      "text/plain": [
       "    symbol       id   orderId  orderListId           price         qty  \\\n",
       "0  BTCUSDT  3385867  10696625           -1  26711.52000000  0.01093500   \n",
       "1  BTCUSDT  3385868  10696625           -1  26711.80000000  0.05050400   \n",
       "2  BTCUSDT  3385869  10696625           -1  26711.81000000  0.03856100   \n",
       "3  BTCUSDT  3386226  10698846           -1  26700.72000000  0.03745200   \n",
       "4  BTCUSDT  3386503  10700239           -1  26692.08000000  0.05726800   \n",
       "5  BTCUSDT  3386504  10700239           -1  26692.06000000  0.05619700   \n",
       "6  BTCUSDT  3386505  10700239           -1  26691.96000000  0.02398700   \n",
       "\n",
       "        quoteQty  commission commissionAsset                    time  isBuyer  \\\n",
       "0   292.09047120  0.00000000             BTC 2023-05-27 10:24:45.507     True   \n",
       "1  1349.05274720  0.00000000             BTC 2023-05-27 10:24:45.507     True   \n",
       "2  1030.03410541  0.00000000             BTC 2023-05-27 10:24:45.507     True   \n",
       "3   999.99536544  0.00000000             BTC 2023-05-27 10:31:55.925     True   \n",
       "4  1528.60203744  0.00000000            USDT 2023-05-27 10:36:18.500    False   \n",
       "5  1500.01369582  0.00000000            USDT 2023-05-27 10:36:18.500    False   \n",
       "6   640.26004452  0.00000000            USDT 2023-05-27 10:36:18.500    False   \n",
       "\n",
       "   isMaker  isBestMatch  \n",
       "0    False         True  \n",
       "1    False         True  \n",
       "2    False         True  \n",
       "3    False         True  \n",
       "4    False         True  \n",
       "5    False         True  \n",
       "6    False         True  "
      ]
     },
     "execution_count": 81,
     "metadata": {},
     "output_type": "execute_result"
    }
   ],
   "source": [
    "df.time = pd.to_datetime(df.time, unit=\"ms\", errors=\"coerce\")\n",
    "df"
   ]
  },
  {
   "cell_type": "markdown",
   "id": "903f1f28",
   "metadata": {},
   "source": [
    "## 간단한 거래 봇 만들고 실행하기"
   ]
  },
  {
   "cell_type": "code",
   "execution_count": 82,
   "id": "1df0bcff",
   "metadata": {},
   "outputs": [],
   "source": [
    "from binance.client import Client\n",
    "from binance import ThreadedWebsocketManager\n",
    "import pandas as pd\n",
    "import numpy as np"
   ]
  },
  {
   "cell_type": "code",
   "execution_count": 83,
   "id": "64f5bdaa",
   "metadata": {},
   "outputs": [],
   "source": [
    "client = Client(api_key=api_key, api_secret=secret_key, tld=\"com\", testnet=True)"
   ]
  },
  {
   "cell_type": "code",
   "execution_count": 84,
   "id": "f385656e",
   "metadata": {},
   "outputs": [
    {
     "data": {
      "text/plain": [
       "{'makerCommission': 0,\n",
       " 'takerCommission': 0,\n",
       " 'buyerCommission': 0,\n",
       " 'sellerCommission': 0,\n",
       " 'commissionRates': {'maker': '0.00000000',\n",
       "  'taker': '0.00000000',\n",
       "  'buyer': '0.00000000',\n",
       "  'seller': '0.00000000'},\n",
       " 'canTrade': True,\n",
       " 'canWithdraw': False,\n",
       " 'canDeposit': False,\n",
       " 'brokered': False,\n",
       " 'requireSelfTradePrevention': False,\n",
       " 'updateTime': 1685184671556,\n",
       " 'accountType': 'SPOT',\n",
       " 'balances': [{'asset': 'BNB',\n",
       "   'free': '1000.00000000',\n",
       "   'locked': '0.00000000'},\n",
       "  {'asset': 'BTC', 'free': '1.00000000', 'locked': '0.00000000'},\n",
       "  {'asset': 'BUSD', 'free': '10000.00000000', 'locked': '0.00000000'},\n",
       "  {'asset': 'ETH', 'free': '100.00000000', 'locked': '0.00000000'},\n",
       "  {'asset': 'LTC', 'free': '500.00000000', 'locked': '0.00000000'},\n",
       "  {'asset': 'TRX', 'free': '500000.00000000', 'locked': '0.00000000'},\n",
       "  {'asset': 'USDT', 'free': '9997.70308853', 'locked': '0.00000000'},\n",
       "  {'asset': 'XRP', 'free': '50000.00000000', 'locked': '0.00000000'}],\n",
       " 'permissions': ['SPOT']}"
      ]
     },
     "execution_count": 84,
     "metadata": {},
     "output_type": "execute_result"
    }
   ],
   "source": [
    "client.get_account()"
   ]
  },
  {
   "cell_type": "code",
   "execution_count": 85,
   "id": "742cde8d",
   "metadata": {},
   "outputs": [
    {
     "data": {
      "text/plain": [
       "0"
      ]
     },
     "execution_count": 85,
     "metadata": {},
     "output_type": "execute_result"
    }
   ],
   "source": [
    "40210 % 10"
   ]
  },
  {
   "cell_type": "code",
   "execution_count": 86,
   "id": "ca465ca5",
   "metadata": {},
   "outputs": [],
   "source": [
    "twm = ThreadedWebsocketManager()\n",
    "twm.start()"
   ]
  },
  {
   "cell_type": "code",
   "execution_count": 89,
   "id": "8d36ec34",
   "metadata": {},
   "outputs": [
    {
     "name": "stdout",
     "output_type": "stream",
     "text": [
      "Time: 2023-05-27 11:16:10.524000 | Price: 26687.08\n"
     ]
    }
   ],
   "source": [
    "def simple_bot(msg):\n",
    "    time = pd.to_datetime(msg[\"E\"], unit=\"ms\")\n",
    "    price = float(msg[\"c\"])\n",
    "    \n",
    "    print(\"Time: {} | Price: {}\".format(time, price))\n",
    "    \n",
    "    if int(price) % 1 == 0:\n",
    "        order = client.create_order(symbol=\"BTCUSDT\", side=\"BUY\", type=\"MARKET\", quantity=0.1)\n",
    "        print(\"\\n\" + 50 * \" - \")\n",
    "        print(\"Buy {} BTC for {} USDT\".format(order[\"executedQty\"], order[\"cummulativeQuoteQty\"]))\n",
    "        print(50 * \" - \" + \"\\n\")\n",
    "        \n",
    "        twm.stop()"
   ]
  },
  {
   "cell_type": "code",
   "execution_count": 90,
   "id": "fa1cd6ab",
   "metadata": {},
   "outputs": [
    {
     "data": {
      "text/plain": [
       "'btcusdt@miniTicker'"
      ]
     },
     "execution_count": 90,
     "metadata": {},
     "output_type": "execute_result"
    },
    {
     "name": "stdout",
     "output_type": "stream",
     "text": [
      "Time: 2023-05-27 11:16:10.946000 | Price: 26687.08\n",
      "Time: 2023-05-27 11:16:12.650000 | Price: 26687.08\n"
     ]
    },
    {
     "name": "stderr",
     "output_type": "stream",
     "text": [
      "CANCEL read_loop\n"
     ]
    },
    {
     "name": "stdout",
     "output_type": "stream",
     "text": [
      "\n",
      " -  -  -  -  -  -  -  -  -  -  -  -  -  -  -  -  -  -  -  -  -  -  -  -  -  -  -  -  -  -  -  -  -  -  -  -  -  -  -  -  -  -  -  -  -  -  -  -  -  - \n",
      "Buy 0.10000000 BTC for 2668.71010536 USDT\n",
      " -  -  -  -  -  -  -  -  -  -  -  -  -  -  -  -  -  -  -  -  -  -  -  -  -  -  -  -  -  -  -  -  -  -  -  -  -  -  -  -  -  -  -  -  -  -  -  -  -  - \n",
      "\n"
     ]
    }
   ],
   "source": [
    "twm.start_symbol_miniticker_socket(callback=simple_bot, symbol=\"BTCUSDT\")"
   ]
  },
  {
   "cell_type": "code",
   "execution_count": 91,
   "id": "7891d001",
   "metadata": {},
   "outputs": [
    {
     "data": {
      "text/plain": [
       "{'makerCommission': 0,\n",
       " 'takerCommission': 0,\n",
       " 'buyerCommission': 0,\n",
       " 'sellerCommission': 0,\n",
       " 'commissionRates': {'maker': '0.00000000',\n",
       "  'taker': '0.00000000',\n",
       "  'buyer': '0.00000000',\n",
       "  'seller': '0.00000000'},\n",
       " 'canTrade': True,\n",
       " 'canWithdraw': False,\n",
       " 'canDeposit': False,\n",
       " 'brokered': False,\n",
       " 'requireSelfTradePrevention': False,\n",
       " 'updateTime': 1685186173220,\n",
       " 'accountType': 'SPOT',\n",
       " 'balances': [{'asset': 'BNB',\n",
       "   'free': '1000.00000000',\n",
       "   'locked': '0.00000000'},\n",
       "  {'asset': 'BTC', 'free': '1.10000000', 'locked': '0.00000000'},\n",
       "  {'asset': 'BUSD', 'free': '10000.00000000', 'locked': '0.00000000'},\n",
       "  {'asset': 'ETH', 'free': '100.00000000', 'locked': '0.00000000'},\n",
       "  {'asset': 'LTC', 'free': '500.00000000', 'locked': '0.00000000'},\n",
       "  {'asset': 'TRX', 'free': '500000.00000000', 'locked': '0.00000000'},\n",
       "  {'asset': 'USDT', 'free': '7328.99298317', 'locked': '0.00000000'},\n",
       "  {'asset': 'XRP', 'free': '50000.00000000', 'locked': '0.00000000'}],\n",
       " 'permissions': ['SPOT']}"
      ]
     },
     "execution_count": 91,
     "metadata": {},
     "output_type": "execute_result"
    }
   ],
   "source": [
    "client.get_account()"
   ]
  },
  {
   "cell_type": "code",
   "execution_count": null,
   "id": "af8236e7",
   "metadata": {},
   "outputs": [],
   "source": []
  }
 ],
 "metadata": {
  "kernelspec": {
   "display_name": "Python 3 (ipykernel)",
   "language": "python",
   "name": "python3"
  },
  "language_info": {
   "codemirror_mode": {
    "name": "ipython",
    "version": 3
   },
   "file_extension": ".py",
   "mimetype": "text/x-python",
   "name": "python",
   "nbconvert_exporter": "python",
   "pygments_lexer": "ipython3",
   "version": "3.10.9"
  }
 },
 "nbformat": 4,
 "nbformat_minor": 5
}
