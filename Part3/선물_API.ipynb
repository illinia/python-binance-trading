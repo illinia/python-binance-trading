{
 "cells": [
  {
   "cell_type": "code",
   "execution_count": null,
   "metadata": {},
   "outputs": [],
   "source": [
    "import pandas as pd"
   ]
  },
  {
   "cell_type": "code",
   "execution_count": 4,
   "metadata": {
    "collapsed": true
   },
   "outputs": [],
   "source": [
    "api_key = \"d9632fbcb79e9a8be867cf5a86903ddd355dd4ecdac826d919d4ebc7f3392f35\"\n",
    "secret_key = pd.read_table(\"paper_future_secret_key.txt\").columns[0]"
   ]
  },
  {
   "cell_type": "code",
   "execution_count": null,
   "metadata": {},
   "outputs": [],
   "source": [
    "from binance.client import Client\n",
    "import pandas as pd"
   ]
  },
  {
   "cell_type": "code",
   "execution_count": null,
   "metadata": {},
   "outputs": [],
   "source": [
    "client = Client(api_key=api_key, api_secret=secret_key, tld=\"com\", testnet=True)"
   ]
  },
  {
   "cell_type": "code",
   "execution_count": null,
   "metadata": {},
   "outputs": [],
   "source": [
    "client.futures_account()"
   ]
  },
  {
   "cell_type": "code",
   "execution_count": null,
   "metadata": {},
   "outputs": [],
   "source": [
    "pd.DataFrame(client.futures_account()[\"assets\"])"
   ]
  },
  {
   "cell_type": "code",
   "execution_count": null,
   "metadata": {},
   "outputs": [],
   "source": [
    "client.futures_account_balance()"
   ]
  },
  {
   "cell_type": "code",
   "execution_count": null,
   "metadata": {},
   "outputs": [],
   "source": [
    "client.futures_position_information(symbol=\"BTCUSDT\")"
   ]
  },
  {
   "cell_type": "code",
   "execution_count": null,
   "metadata": {},
   "outputs": [],
   "source": [
    "client.futures_coin_account()"
   ]
  },
  {
   "cell_type": "code",
   "execution_count": null,
   "metadata": {},
   "outputs": [],
   "source": [
    "client.futures_coin_position_information(symbol=\"BTCUSD_PERP\")"
   ]
  },
  {
   "cell_type": "code",
   "execution_count": null,
   "metadata": {},
   "outputs": [],
   "source": [
    "client.futures_position_information(symbol=\"BTCUSDT\")"
   ]
  },
  {
   "cell_type": "code",
   "execution_count": null,
   "metadata": {},
   "outputs": [],
   "source": [
    "client.futures_get_position_mode()"
   ]
  },
  {
   "cell_type": "code",
   "execution_count": null,
   "metadata": {},
   "outputs": [],
   "source": [
    "client.futures_get_open_orders(symbol=\"BTCUSDT\")"
   ]
  },
  {
   "cell_type": "code",
   "execution_count": null,
   "metadata": {},
   "outputs": [],
   "source": [
    "leverage = 10\n",
    "size= 0.01"
   ]
  },
  {
   "cell_type": "code",
   "execution_count": null,
   "metadata": {},
   "outputs": [],
   "source": [
    "client.futures_change_leverage(symbol=\"ETHUSDT\", leverage=leverage)"
   ]
  },
  {
   "cell_type": "code",
   "execution_count": null,
   "metadata": {},
   "outputs": [],
   "source": [
    "order_open = client.futures_create_order(symbol=\"ETHUSDT\", side=\"BUY\", type=\"MARKET\", quantity=size)\n",
    "order_open"
   ]
  },
  {
   "cell_type": "code",
   "execution_count": null,
   "metadata": {},
   "outputs": [],
   "source": [
    "client.futures_get_order(symbol=\"ETHUSDT\", orderId=order_open[\"orderId\"])"
   ]
  },
  {
   "cell_type": "code",
   "execution_count": null,
   "metadata": {},
   "outputs": [],
   "source": [
    "client.futures_position_information(symbol=\"ETHUSDT\")"
   ]
  },
  {
   "cell_type": "code",
   "execution_count": null,
   "metadata": {},
   "outputs": [],
   "source": [
    "order_close = client.futures_create_order(symbol=\"ETHUSDT\", side=\"SELL\", type=\"MARKET\", quantity=0.01, reduce_Only=True)\n",
    "order_close"
   ]
  },
  {
   "cell_type": "code",
   "execution_count": null,
   "metadata": {},
   "outputs": [],
   "source": [
    "client.futures_get_order(symbol=\"ETHUSDT\", orderId=order_close[\"orderId\"])"
   ]
  },
  {
   "cell_type": "code",
   "execution_count": null,
   "metadata": {},
   "outputs": [],
   "source": [
    "client.futures_position_information(symbol=\"ETHUSDT\")"
   ]
  },
  {
   "cell_type": "code",
   "execution_count": null,
   "metadata": {},
   "outputs": [],
   "source": [
    "client.futures_account_trades(symbol=\"ETHUSDT\")"
   ]
  },
  {
   "cell_type": "code",
   "execution_count": null,
   "metadata": {},
   "outputs": [],
   "source": [
    "df = pd.DataFrame(client.futures_account_trades(symbol=\"ETHUSDT\"))\n",
    "df.tail(2)"
   ]
  },
  {
   "cell_type": "code",
   "execution_count": null,
   "metadata": {},
   "outputs": [],
   "source": [
    "client.futures_income_history(symbol=\"ETHUSDT\")"
   ]
  },
  {
   "cell_type": "code",
   "execution_count": null,
   "metadata": {},
   "outputs": [],
   "source": [
    "pd.DataFrame(client.futures_income_history(symbol=\"ETHUSDT\"))"
   ]
  },
  {
   "cell_type": "code",
   "execution_count": null,
   "metadata": {},
   "outputs": [],
   "source": [
    "leverage = 15\n",
    "size = 0.01"
   ]
  },
  {
   "cell_type": "code",
   "execution_count": null,
   "metadata": {},
   "outputs": [],
   "source": [
    "client.futures_change_leverage(symbol=\"ETHUSDT\", leverage=leverage)"
   ]
  },
  {
   "cell_type": "code",
   "execution_count": null,
   "metadata": {},
   "outputs": [],
   "source": [
    "order_open = client.futures_create_order(symbol=\"ETHUSDT\", side=\"SELL\", type=\"MARKET\", quantity=size)\n",
    "order_open"
   ]
  },
  {
   "cell_type": "code",
   "execution_count": null,
   "metadata": {},
   "outputs": [],
   "source": [
    "client.futures_position_information(symbol=\"ETHUSDT\")"
   ]
  },
  {
   "cell_type": "code",
   "execution_count": null,
   "metadata": {},
   "outputs": [],
   "source": [
    "order_close = client.futures_create_order(symbol=\"ETHUSDT\", side=\"BUY\", type=\"MARKET\", quantity=size, reduceOnly=True)\n",
    "order_close"
   ]
  },
  {
   "cell_type": "code",
   "execution_count": null,
   "metadata": {},
   "outputs": [],
   "source": [
    "df = pd.DataFrame(client.futures_account_trades(symbol=\"ETHUSDT\"))"
   ]
  },
  {
   "cell_type": "code",
   "execution_count": null,
   "metadata": {},
   "outputs": [],
   "source": [
    "df.tail(2)"
   ]
  },
  {
   "cell_type": "code",
   "execution_count": null,
   "metadata": {},
   "outputs": [],
   "source": [
    "client ="
   ]
  },
  {
   "cell_type": "code",
   "execution_count": null,
   "metadata": {},
   "outputs": [],
   "source": [
    "pd.DataFrame(client.get_historical_klines(symbol=\"ETHUSDT\", interval=\"1d\", start_str=\"2020-01-01\", end_str=None, limit=1000))"
   ]
  },
  {
   "cell_type": "code",
   "execution_count": null,
   "metadata": {},
   "outputs": [],
   "source": [
    "pd.DataFrame(client.futures_historical_klines(symbol=\"ETHUSDT\", interval=\"1d\", start_str=\"2020-01-01\", end_str=None, limit=1000))"
   ]
  },
  {
   "cell_type": "code",
   "execution_count": null,
   "metadata": {},
   "outputs": [],
   "source": [
    "def get_history(symbol, interval, start, end = None):\n",
    "    bars = client.futures_historical_klines(symbol = symbol, interval = interval,\n",
    "                                        start_str = start, end_str = end, limit = 1000)\n",
    "    df = pd.DataFrame(bars)\n",
    "    df[\"Date\"] = pd.to_datetime(df.iloc[:,0], unit = \"ms\")\n",
    "    df.columns = [\"Open Time\", \"Open\", \"High\", \"Low\", \"Close\", \"Volume\",\n",
    "                  \"Clos Time\", \"Quote Asset Volume\", \"Number of Trades\",\n",
    "                  \"Taker Buy Base Asset Volume\", \"Taker Buy Quote Asset Volume\", \"Ignore\", \"Date\"]\n",
    "    df = df[[\"Date\", \"Open\", \"High\", \"Low\", \"Close\", \"Volume\"]].copy()\n",
    "    df.set_index(\"Date\", inplace = True)\n",
    "    for column in df.columns:\n",
    "        df[column] = pd.to_numeric(df[column], errors = \"coerce\")\n",
    "\n",
    "    return df"
   ]
  },
  {
   "cell_type": "code",
   "execution_count": null,
   "metadata": {},
   "outputs": [],
   "source": [
    "data = get_history(symbol=\"ETHUSDT\", interval=\"1d\", start=\"2020-01-01\")\n",
    "data"
   ]
  },
  {
   "cell_type": "code",
   "execution_count": null,
   "metadata": {},
   "outputs": [],
   "source": [
    "data.info()"
   ]
  },
  {
   "cell_type": "code",
   "execution_count": null,
   "metadata": {},
   "outputs": [],
   "source": []
  },
  {
   "cell_type": "code",
   "execution_count": null,
   "metadata": {},
   "outputs": [],
   "source": [
    "from binance import ThreadedWebsocketManager\n",
    "import pandas as pd"
   ]
  },
  {
   "cell_type": "code",
   "execution_count": null,
   "metadata": {},
   "outputs": [],
   "source": [
    "df = pd.DataFrame(columns = [\"Open\", \"High\", \"Low\", \"Close\", \"Volume\", \"Complete\"])\n",
    "df"
   ]
  },
  {
   "cell_type": "code",
   "execution_count": null,
   "metadata": {},
   "outputs": [],
   "source": [
    "def stream_candles(msg):\n",
    "    ''' define how to process incoming WebSocket messages '''\n",
    "\n",
    "    # extract the required items from msg\n",
    "    event_time = pd.to_datetime(msg[\"E\"], unit = \"ms\")\n",
    "    start_time = pd.to_datetime(msg[\"k\"][\"t\"], unit = \"ms\")\n",
    "    first   = float(msg[\"k\"][\"o\"])\n",
    "    high    = float(msg[\"k\"][\"h\"])\n",
    "    low     = float(msg[\"k\"][\"l\"])\n",
    "    close   = float(msg[\"k\"][\"c\"])\n",
    "    volume  = float(msg[\"k\"][\"v\"])\n",
    "    complete=       msg[\"k\"][\"x\"]\n",
    "\n",
    "    # print out\n",
    "    print(\"Time: {} | Price: {}\".format(event_time, close))\n",
    "    print(\"test\")\n",
    "\n",
    "    # feed df (add new bar / update latest bar)\n",
    "    df.loc[start_time] = [first, high, low, close, volume, complete]"
   ]
  },
  {
   "cell_type": "code",
   "execution_count": null,
   "metadata": {},
   "outputs": [],
   "source": [
    "twm = ThreadedWebsocketManager(testnet = True)\n",
    "twm.start()"
   ]
  },
  {
   "cell_type": "code",
   "execution_count": null,
   "metadata": {},
   "outputs": [],
   "source": [
    "twm.start_kline_futures_socket(callback = stream_candles, symbol = \"BTCUSDT\", interval = \"1m\")"
   ]
  },
  {
   "cell_type": "code",
   "execution_count": null,
   "metadata": {},
   "outputs": [],
   "source": [
    "twm.stop()"
   ]
  },
  {
   "cell_type": "code",
   "execution_count": null,
   "metadata": {},
   "outputs": [],
   "source": [
    "df"
   ]
  },
  {
   "cell_type": "code",
   "execution_count": null,
   "metadata": {},
   "outputs": [],
   "source": [
    "df.info()"
   ]
  },
  {
   "cell_type": "code",
   "execution_count": null,
   "metadata": {},
   "outputs": [],
   "source": []
  },
  {
   "cell_type": "code",
   "execution_count": 1,
   "metadata": {},
   "outputs": [],
   "source": [
    "from binance.client import Client\n",
    "from binance import ThreadedWebsocketManager\n",
    "import pandas as pd\n",
    "import numpy as np\n",
    "from datetime import datetime, timedelta\n",
    "import time"
   ]
  },
  {
   "cell_type": "code",
   "execution_count": 2,
   "metadata": {},
   "outputs": [],
   "source": [
    "class FuturesTrader(): # Triple SMA Crossover\n",
    "\n",
    "    def __init__(self, symbol, bar_length, sma_s, sma_m, sma_l, units, position = 0, leverage = 5):\n",
    "\n",
    "        self.symbol = symbol\n",
    "        self.bar_length = bar_length\n",
    "        self.available_intervals = [\"1m\", \"3m\", \"5m\", \"15m\", \"30m\", \"1h\", \"2h\", \"4h\", \"6h\", \"8h\", \"12h\", \"1d\", \"3d\", \"1w\", \"1M\"]\n",
    "        self.units = units\n",
    "        self.position = position\n",
    "        self.leverage = leverage # NEW\n",
    "        self.cum_profits = 0 # NEW\n",
    "        #self.trades = 0\n",
    "        #self.trade_values = []\n",
    "\n",
    "        #*****************add strategy-specific attributes here******************\n",
    "        self.SMA_S = sma_s\n",
    "        self.SMA_M = sma_m\n",
    "        self.SMA_L = sma_l\n",
    "        #************************************************************************\n",
    "\n",
    "    def start_trading(self, historical_days):\n",
    "\n",
    "        client.futures_change_leverage(symbol = \"BTCUSDT\", leverage = self.leverage) # NEW\n",
    "\n",
    "        self.twm = ThreadedWebsocketManager(testnet = True) # testnet\n",
    "        self.twm.start()\n",
    "\n",
    "        if self.bar_length in self.available_intervals:\n",
    "            self.get_most_recent(symbol = self.symbol, interval = self.bar_length,\n",
    "                                 days = historical_days)\n",
    "            self.twm.start_kline_futures_socket(callback = self.stream_candles,\n",
    "                                        symbol = self.symbol, interval = self.bar_length) # Adj: start_kline_futures_socket\n",
    "        # \"else\" to be added later in the course\n",
    "\n",
    "    def get_most_recent(self, symbol, interval, days):\n",
    "\n",
    "        now = datetime.utcnow()\n",
    "        past = str(now - timedelta(days = days))\n",
    "\n",
    "        bars = client.futures_historical_klines(symbol = symbol, interval = interval,\n",
    "                                            start_str = past, end_str = None, limit = 1000) # Adj: futures_historical_klines\n",
    "        df = pd.DataFrame(bars)\n",
    "        df[\"Date\"] = pd.to_datetime(df.iloc[:,0], unit = \"ms\")\n",
    "        df.columns = [\"Open Time\", \"Open\", \"High\", \"Low\", \"Close\", \"Volume\",\n",
    "                      \"Clos Time\", \"Quote Asset Volume\", \"Number of Trades\",\n",
    "                      \"Taker Buy Base Asset Volume\", \"Taker Buy Quote Asset Volume\", \"Ignore\", \"Date\"]\n",
    "        df = df[[\"Date\", \"Open\", \"High\", \"Low\", \"Close\", \"Volume\"]].copy()\n",
    "        df.set_index(\"Date\", inplace = True)\n",
    "        for column in df.columns:\n",
    "            df[column] = pd.to_numeric(df[column], errors = \"coerce\")\n",
    "        df[\"Complete\"] = [True for row in range(len(df)-1)] + [False]\n",
    "\n",
    "        self.data = df\n",
    "\n",
    "    def stream_candles(self, msg):\n",
    "\n",
    "        # extract the required items from msg\n",
    "        event_time = pd.to_datetime(msg[\"E\"], unit = \"ms\")\n",
    "        start_time = pd.to_datetime(msg[\"k\"][\"t\"], unit = \"ms\")\n",
    "        first   = float(msg[\"k\"][\"o\"])\n",
    "        high    = float(msg[\"k\"][\"h\"])\n",
    "        low     = float(msg[\"k\"][\"l\"])\n",
    "        close   = float(msg[\"k\"][\"c\"])\n",
    "        volume  = float(msg[\"k\"][\"v\"])\n",
    "        complete=       msg[\"k\"][\"x\"]\n",
    "\n",
    "        # print out\n",
    "        print(\".\", end = \"\", flush = True)\n",
    "\n",
    "        # feed df (add new bar / update latest bar)\n",
    "        self.data.loc[start_time] = [first, high, low, close, volume, complete]\n",
    "\n",
    "        # prepare features and define strategy/trading positions whenever the latest bar is complete\n",
    "        if complete == True:\n",
    "            self.define_strategy()\n",
    "            self.execute_trades()\n",
    "\n",
    "    def define_strategy(self):\n",
    "\n",
    "        data = self.data.copy()\n",
    "\n",
    "        #******************** define your strategy here ************************\n",
    "        data = data[[\"Close\"]].copy()\n",
    "\n",
    "        data[\"SMA_S\"] = data.Close.rolling(window = self.SMA_S).mean()\n",
    "        data[\"SMA_M\"] = data.Close.rolling(window = self.SMA_M).mean()\n",
    "        data[\"SMA_L\"] = data.Close.rolling(window = self.SMA_L).mean()\n",
    "\n",
    "        data.dropna(inplace = True)\n",
    "\n",
    "        cond1 = (data.SMA_S > data.SMA_M) & (data.SMA_M > data.SMA_L)\n",
    "        cond2 = (data.SMA_S < data.SMA_M) & (data.SMA_M < data.SMA_L)\n",
    "\n",
    "        data[\"position\"] = 0\n",
    "        data.loc[cond1, \"position\"] = 1\n",
    "        data.loc[cond2, \"position\"] = -1\n",
    "        #***********************************************************************\n",
    "\n",
    "        self.prepared_data = data.copy()\n",
    "\n",
    "    def execute_trades(self): # Adj!\n",
    "        if self.prepared_data[\"position\"].iloc[-1] == 1: # if position is long -> go/stay long\n",
    "            if self.position == 0:\n",
    "                order = client.futures_create_order(symbol = self.symbol, side = \"BUY\", type = \"MARKET\", quantity = self.units)\n",
    "                self.report_trade(\"GOING LONG\")\n",
    "            elif self.position == -1:\n",
    "                order = client.futures_create_order(symbol = self.symbol, side = \"BUY\", type = \"MARKET\", quantity = 2 * self.units)\n",
    "                self.report_trade(\"GOING LONG\")\n",
    "            self.position = 1\n",
    "        elif self.prepared_data[\"position\"].iloc[-1] == 0: # if position is neutral -> go/stay neutral\n",
    "            if self.position == 1:\n",
    "                order = client.futures_create_order(symbol = self.symbol, side = \"SELL\", type = \"MARKET\", quantity = self.units)\n",
    "                self.report_trade(\"GOING NEUTRAL\")\n",
    "            elif self.position == -1:\n",
    "                order = client.futures_create_order(symbol = self.symbol, side = \"BUY\", type = \"MARKET\", quantity = self.units)\n",
    "                self.report_trade(\"GOING NEUTRAL\")\n",
    "            self.position = 0\n",
    "        if self.prepared_data[\"position\"].iloc[-1] == -1: # if position is short -> go/stay short\n",
    "            if self.position == 0:\n",
    "                order = client.futures_create_order(symbol = self.symbol, side = \"SELL\", type = \"MARKET\", quantity = self.units)\n",
    "                self.report_trade(\"GOING SHORT\")\n",
    "            elif self.position == 1:\n",
    "                order = client.futures_create_order(symbol = self.symbol, side = \"SELL\", type = \"MARKET\", quantity = 2 * self.units)\n",
    "                self.report_trade(\"GOING SHORT\")\n",
    "            self.position = -1\n",
    "\n",
    "    def report_trade(self, going): # Adj!\n",
    "\n",
    "        time.sleep(0.1)\n",
    "        trade = client.futures_account_trades(symbol = \"BTCUSDT\")[-1]\n",
    "\n",
    "        # extract data from trade object\n",
    "        trade_time = pd.to_datetime(trade[\"time\"], unit = \"ms\")\n",
    "        price = round(float(trade[\"price\"]), 5)\n",
    "        base_units = round(float(trade[\"qty\"]), 5)\n",
    "        quote_units = round(float(trade[\"quoteQty\"]), 5)\n",
    "        commission = round(-float(trade[\"commission\"]), 5)\n",
    "        real_profit = round(float(trade[\"realizedPnl\"]), 5)\n",
    "\n",
    "        # calculate cumulative trading profits\n",
    "        self.cum_profits += round((commission + real_profit), 5)\n",
    "\n",
    "        # print trade report\n",
    "        print(2 * \"\\n\" + 100* \"-\")\n",
    "        print(\"{} | {}\".format(trade_time, going))\n",
    "        print(\"{} | Base_Units = {} | Quote_Units = {} | Price = {} \".format(trade_time, base_units, quote_units, price))\n",
    "        print(\"{} | Profit = {} | CumProfits = {} \".format(trade_time, real_profit, self.cum_profits))\n",
    "        print(100 * \"-\" + \"\\n\")"
   ]
  },
  {
   "cell_type": "code",
   "execution_count": 22,
   "metadata": {},
   "outputs": [],
   "source": [
    "client = Client(api_key = api_key, api_secret = secret_key, tld = \"com\", testnet = True)"
   ]
  },
  {
   "cell_type": "code",
   "execution_count": 31,
   "metadata": {},
   "outputs": [],
   "source": [
    "symbol = \"BTCUSDT\"\n",
    "bar_length = \"1m\"\n",
    "sma_s = 10\n",
    "sma_m = 20\n",
    "sma_l = 50\n",
    "units = 0.001\n",
    "position = 0\n",
    "leverage = 100"
   ]
  },
  {
   "cell_type": "code",
   "execution_count": 32,
   "metadata": {},
   "outputs": [],
   "source": [
    "trader = FuturesTrader(symbol = symbol, bar_length = bar_length, sma_s = sma_s, sma_m = sma_m, sma_l = sma_l,\n",
    "                       units = units, position = position, leverage = leverage)"
   ]
  },
  {
   "cell_type": "code",
   "execution_count": 54,
   "metadata": {},
   "outputs": [
    {
     "name": "stdout",
     "output_type": "stream",
     "text": [
      ".................................\n",
      "\n",
      "----------------------------------------------------------------------------------------------------\n",
      "2023-06-02 12:01:02.147000 | GOING SHORT\n",
      "2023-06-02 12:01:02.147000 | Base_Units = 0.001 | Quote_Units = 27.4403 | Price = 27440.3 \n",
      "2023-06-02 12:01:02.147000 | Profit = 0.0 | CumProfits = -0.28958999999999996 \n",
      "----------------------------------------------------------------------------------------------------\n",
      "\n",
      "......................................\n",
      "\n",
      "----------------------------------------------------------------------------------------------------\n",
      "2023-06-02 12:03:01.122000 | GOING NEUTRAL\n",
      "2023-06-02 12:03:01.122000 | Base_Units = 0.001 | Quote_Units = 27.448 | Price = 27448.0 \n",
      "2023-06-02 12:03:01.122000 | Profit = -0.0077 | CumProfits = -0.29732 \n",
      "----------------------------------------------------------------------------------------------------\n",
      "\n",
      "................................\n",
      "\n",
      "----------------------------------------------------------------------------------------------------\n",
      "2023-06-02 12:05:01.818000 | GOING SHORT\n",
      "2023-06-02 12:05:01.818000 | Base_Units = 0.001 | Quote_Units = 27.1582 | Price = 27158.2 \n",
      "2023-06-02 12:05:01.818000 | Profit = 0.0 | CumProfits = -0.29734999999999995 \n",
      "----------------------------------------------------------------------------------------------------\n",
      "\n",
      "..................\n",
      "\n",
      "----------------------------------------------------------------------------------------------------\n",
      "2023-06-02 12:06:00.902000 | GOING NEUTRAL\n",
      "2023-06-02 12:06:00.902000 | Base_Units = 0.001 | Quote_Units = 27.4479 | Price = 27447.9 \n",
      "2023-06-02 12:06:00.902000 | Profit = -0.2897 | CumProfits = -0.5870799999999999 \n",
      "----------------------------------------------------------------------------------------------------\n",
      "\n",
      "..........................................\n",
      "\n",
      "----------------------------------------------------------------------------------------------------\n",
      "2023-06-02 12:08:02.186000 | GOING SHORT\n",
      "2023-06-02 12:08:02.186000 | Base_Units = 0.001 | Quote_Units = 27.306 | Price = 27306.0 \n",
      "2023-06-02 12:08:02.186000 | Profit = 0.0 | CumProfits = -0.5871099999999999 \n",
      "----------------------------------------------------------------------------------------------------\n",
      "\n",
      ".....................................\n",
      "\n",
      "----------------------------------------------------------------------------------------------------\n",
      "2023-06-02 12:10:00.895000 | GOING NEUTRAL\n",
      "2023-06-02 12:10:00.895000 | Base_Units = 0.001 | Quote_Units = 27.4475 | Price = 27447.5 \n",
      "2023-06-02 12:10:00.895000 | Profit = -0.1415 | CumProfits = -0.72864 \n",
      "----------------------------------------------------------------------------------------------------\n",
      "\n",
      "...................................................\n",
      "\n",
      "----------------------------------------------------------------------------------------------------\n",
      "2023-06-02 12:13:00.539000 | GOING LONG\n",
      "2023-06-02 12:13:00.539000 | Base_Units = 0.001 | Quote_Units = 27.4475 | Price = 27447.5 \n",
      "2023-06-02 12:13:00.539000 | Profit = 0.0 | CumProfits = -0.7286699999999999 \n",
      "----------------------------------------------------------------------------------------------------\n",
      "\n",
      "........................................"
     ]
    }
   ],
   "source": [
    "trader.start_trading(historical_days=1/24)"
   ]
  },
  {
   "cell_type": "code",
   "execution_count": 55,
   "metadata": {},
   "outputs": [
    {
     "data": {
      "text/html": [
       "<div>\n",
       "<style scoped>\n",
       "    .dataframe tbody tr th:only-of-type {\n",
       "        vertical-align: middle;\n",
       "    }\n",
       "\n",
       "    .dataframe tbody tr th {\n",
       "        vertical-align: top;\n",
       "    }\n",
       "\n",
       "    .dataframe thead th {\n",
       "        text-align: right;\n",
       "    }\n",
       "</style>\n",
       "<table border=\"1\" class=\"dataframe\">\n",
       "  <thead>\n",
       "    <tr style=\"text-align: right;\">\n",
       "      <th></th>\n",
       "      <th>Close</th>\n",
       "      <th>SMA_S</th>\n",
       "      <th>SMA_M</th>\n",
       "      <th>SMA_L</th>\n",
       "      <th>position</th>\n",
       "    </tr>\n",
       "    <tr>\n",
       "      <th>Date</th>\n",
       "      <th></th>\n",
       "      <th></th>\n",
       "      <th></th>\n",
       "      <th></th>\n",
       "      <th></th>\n",
       "    </tr>\n",
       "  </thead>\n",
       "  <tbody>\n",
       "    <tr>\n",
       "      <th>2023-06-02 11:49:00</th>\n",
       "      <td>27447.0</td>\n",
       "      <td>27302.35</td>\n",
       "      <td>27317.860</td>\n",
       "      <td>27355.262</td>\n",
       "      <td>-1</td>\n",
       "    </tr>\n",
       "    <tr>\n",
       "      <th>2023-06-02 11:50:00</th>\n",
       "      <td>27447.0</td>\n",
       "      <td>27332.02</td>\n",
       "      <td>27332.705</td>\n",
       "      <td>27355.042</td>\n",
       "      <td>-1</td>\n",
       "    </tr>\n",
       "    <tr>\n",
       "      <th>2023-06-02 11:51:00</th>\n",
       "      <td>27447.0</td>\n",
       "      <td>27331.02</td>\n",
       "      <td>27332.210</td>\n",
       "      <td>27354.830</td>\n",
       "      <td>-1</td>\n",
       "    </tr>\n",
       "    <tr>\n",
       "      <th>2023-06-02 11:52:00</th>\n",
       "      <td>27159.0</td>\n",
       "      <td>27301.23</td>\n",
       "      <td>27317.310</td>\n",
       "      <td>27350.674</td>\n",
       "      <td>-1</td>\n",
       "    </tr>\n",
       "    <tr>\n",
       "      <th>2023-06-02 11:53:00</th>\n",
       "      <td>27158.2</td>\n",
       "      <td>27302.00</td>\n",
       "      <td>27317.715</td>\n",
       "      <td>27344.684</td>\n",
       "      <td>-1</td>\n",
       "    </tr>\n",
       "    <tr>\n",
       "      <th>2023-06-02 11:54:00</th>\n",
       "      <td>27448.0</td>\n",
       "      <td>27331.75</td>\n",
       "      <td>27317.275</td>\n",
       "      <td>27344.504</td>\n",
       "      <td>0</td>\n",
       "    </tr>\n",
       "    <tr>\n",
       "      <th>2023-06-02 11:55:00</th>\n",
       "      <td>27158.2</td>\n",
       "      <td>27302.77</td>\n",
       "      <td>27317.680</td>\n",
       "      <td>27338.528</td>\n",
       "      <td>-1</td>\n",
       "    </tr>\n",
       "    <tr>\n",
       "      <th>2023-06-02 11:56:00</th>\n",
       "      <td>27447.7</td>\n",
       "      <td>27302.84</td>\n",
       "      <td>27317.215</td>\n",
       "      <td>27344.272</td>\n",
       "      <td>-1</td>\n",
       "    </tr>\n",
       "    <tr>\n",
       "      <th>2023-06-02 11:57:00</th>\n",
       "      <td>27448.0</td>\n",
       "      <td>27331.83</td>\n",
       "      <td>27332.105</td>\n",
       "      <td>27345.232</td>\n",
       "      <td>-1</td>\n",
       "    </tr>\n",
       "    <tr>\n",
       "      <th>2023-06-02 11:58:00</th>\n",
       "      <td>27158.8</td>\n",
       "      <td>27331.89</td>\n",
       "      <td>27317.270</td>\n",
       "      <td>27340.408</td>\n",
       "      <td>0</td>\n",
       "    </tr>\n",
       "    <tr>\n",
       "      <th>2023-06-02 11:59:00</th>\n",
       "      <td>27158.3</td>\n",
       "      <td>27303.02</td>\n",
       "      <td>27302.685</td>\n",
       "      <td>27334.434</td>\n",
       "      <td>0</td>\n",
       "    </tr>\n",
       "    <tr>\n",
       "      <th>2023-06-02 12:00:00</th>\n",
       "      <td>27440.3</td>\n",
       "      <td>27302.35</td>\n",
       "      <td>27317.185</td>\n",
       "      <td>27340.464</td>\n",
       "      <td>-1</td>\n",
       "    </tr>\n",
       "    <tr>\n",
       "      <th>2023-06-02 12:01:00</th>\n",
       "      <td>27440.5</td>\n",
       "      <td>27301.70</td>\n",
       "      <td>27316.360</td>\n",
       "      <td>27345.072</td>\n",
       "      <td>-1</td>\n",
       "    </tr>\n",
       "    <tr>\n",
       "      <th>2023-06-02 12:02:00</th>\n",
       "      <td>27158.2</td>\n",
       "      <td>27301.62</td>\n",
       "      <td>27301.425</td>\n",
       "      <td>27339.096</td>\n",
       "      <td>0</td>\n",
       "    </tr>\n",
       "    <tr>\n",
       "      <th>2023-06-02 12:03:00</th>\n",
       "      <td>27447.5</td>\n",
       "      <td>27330.55</td>\n",
       "      <td>27316.275</td>\n",
       "      <td>27338.906</td>\n",
       "      <td>0</td>\n",
       "    </tr>\n",
       "    <tr>\n",
       "      <th>2023-06-02 12:04:00</th>\n",
       "      <td>27448.0</td>\n",
       "      <td>27330.55</td>\n",
       "      <td>27331.150</td>\n",
       "      <td>27338.726</td>\n",
       "      <td>-1</td>\n",
       "    </tr>\n",
       "    <tr>\n",
       "      <th>2023-06-02 12:05:00</th>\n",
       "      <td>27440.9</td>\n",
       "      <td>27358.82</td>\n",
       "      <td>27330.795</td>\n",
       "      <td>27338.404</td>\n",
       "      <td>0</td>\n",
       "    </tr>\n",
       "    <tr>\n",
       "      <th>2023-06-02 12:06:00</th>\n",
       "      <td>27448.0</td>\n",
       "      <td>27358.85</td>\n",
       "      <td>27330.845</td>\n",
       "      <td>27338.226</td>\n",
       "      <td>0</td>\n",
       "    </tr>\n",
       "    <tr>\n",
       "      <th>2023-06-02 12:07:00</th>\n",
       "      <td>27158.2</td>\n",
       "      <td>27329.87</td>\n",
       "      <td>27330.850</td>\n",
       "      <td>27332.250</td>\n",
       "      <td>-1</td>\n",
       "    </tr>\n",
       "    <tr>\n",
       "      <th>2023-06-02 12:08:00</th>\n",
       "      <td>27158.2</td>\n",
       "      <td>27329.81</td>\n",
       "      <td>27330.850</td>\n",
       "      <td>27332.614</td>\n",
       "      <td>-1</td>\n",
       "    </tr>\n",
       "    <tr>\n",
       "      <th>2023-06-02 12:09:00</th>\n",
       "      <td>27447.5</td>\n",
       "      <td>27358.73</td>\n",
       "      <td>27330.875</td>\n",
       "      <td>27332.424</td>\n",
       "      <td>0</td>\n",
       "    </tr>\n",
       "    <tr>\n",
       "      <th>2023-06-02 12:10:00</th>\n",
       "      <td>27447.3</td>\n",
       "      <td>27359.43</td>\n",
       "      <td>27330.890</td>\n",
       "      <td>27332.230</td>\n",
       "      <td>0</td>\n",
       "    </tr>\n",
       "    <tr>\n",
       "      <th>2023-06-02 12:11:00</th>\n",
       "      <td>27158.4</td>\n",
       "      <td>27331.22</td>\n",
       "      <td>27316.460</td>\n",
       "      <td>27326.268</td>\n",
       "      <td>0</td>\n",
       "    </tr>\n",
       "    <tr>\n",
       "      <th>2023-06-02 12:12:00</th>\n",
       "      <td>27447.5</td>\n",
       "      <td>27360.15</td>\n",
       "      <td>27330.885</td>\n",
       "      <td>27326.104</td>\n",
       "      <td>1</td>\n",
       "    </tr>\n",
       "    <tr>\n",
       "      <th>2023-06-02 12:13:00</th>\n",
       "      <td>27447.5</td>\n",
       "      <td>27360.15</td>\n",
       "      <td>27345.350</td>\n",
       "      <td>27325.924</td>\n",
       "      <td>1</td>\n",
       "    </tr>\n",
       "    <tr>\n",
       "      <th>2023-06-02 12:14:00</th>\n",
       "      <td>27447.5</td>\n",
       "      <td>27360.10</td>\n",
       "      <td>27345.325</td>\n",
       "      <td>27325.746</td>\n",
       "      <td>1</td>\n",
       "    </tr>\n",
       "  </tbody>\n",
       "</table>\n",
       "</div>"
      ],
      "text/plain": [
       "                       Close     SMA_S      SMA_M      SMA_L  position\n",
       "Date                                                                  \n",
       "2023-06-02 11:49:00  27447.0  27302.35  27317.860  27355.262        -1\n",
       "2023-06-02 11:50:00  27447.0  27332.02  27332.705  27355.042        -1\n",
       "2023-06-02 11:51:00  27447.0  27331.02  27332.210  27354.830        -1\n",
       "2023-06-02 11:52:00  27159.0  27301.23  27317.310  27350.674        -1\n",
       "2023-06-02 11:53:00  27158.2  27302.00  27317.715  27344.684        -1\n",
       "2023-06-02 11:54:00  27448.0  27331.75  27317.275  27344.504         0\n",
       "2023-06-02 11:55:00  27158.2  27302.77  27317.680  27338.528        -1\n",
       "2023-06-02 11:56:00  27447.7  27302.84  27317.215  27344.272        -1\n",
       "2023-06-02 11:57:00  27448.0  27331.83  27332.105  27345.232        -1\n",
       "2023-06-02 11:58:00  27158.8  27331.89  27317.270  27340.408         0\n",
       "2023-06-02 11:59:00  27158.3  27303.02  27302.685  27334.434         0\n",
       "2023-06-02 12:00:00  27440.3  27302.35  27317.185  27340.464        -1\n",
       "2023-06-02 12:01:00  27440.5  27301.70  27316.360  27345.072        -1\n",
       "2023-06-02 12:02:00  27158.2  27301.62  27301.425  27339.096         0\n",
       "2023-06-02 12:03:00  27447.5  27330.55  27316.275  27338.906         0\n",
       "2023-06-02 12:04:00  27448.0  27330.55  27331.150  27338.726        -1\n",
       "2023-06-02 12:05:00  27440.9  27358.82  27330.795  27338.404         0\n",
       "2023-06-02 12:06:00  27448.0  27358.85  27330.845  27338.226         0\n",
       "2023-06-02 12:07:00  27158.2  27329.87  27330.850  27332.250        -1\n",
       "2023-06-02 12:08:00  27158.2  27329.81  27330.850  27332.614        -1\n",
       "2023-06-02 12:09:00  27447.5  27358.73  27330.875  27332.424         0\n",
       "2023-06-02 12:10:00  27447.3  27359.43  27330.890  27332.230         0\n",
       "2023-06-02 12:11:00  27158.4  27331.22  27316.460  27326.268         0\n",
       "2023-06-02 12:12:00  27447.5  27360.15  27330.885  27326.104         1\n",
       "2023-06-02 12:13:00  27447.5  27360.15  27345.350  27325.924         1\n",
       "2023-06-02 12:14:00  27447.5  27360.10  27345.325  27325.746         1"
      ]
     },
     "execution_count": 55,
     "metadata": {},
     "output_type": "execute_result"
    }
   ],
   "source": [
    "trader.prepared_data"
   ]
  },
  {
   "cell_type": "code",
   "execution_count": 53,
   "metadata": {},
   "outputs": [
    {
     "name": "stdout",
     "output_type": "stream",
     "text": [
      "."
     ]
    },
    {
     "name": "stderr",
     "output_type": "stream",
     "text": [
      "CANCEL read_loop\n"
     ]
    }
   ],
   "source": [
    "trader.twm.stop()"
   ]
  },
  {
   "cell_type": "code",
   "execution_count": null,
   "metadata": {},
   "outputs": [],
   "source": []
  }
 ],
 "metadata": {
  "kernelspec": {
   "display_name": "Python 3 (ipykernel)",
   "language": "python",
   "name": "python3"
  },
  "language_info": {
   "codemirror_mode": {
    "name": "ipython",
    "version": 3
   },
   "file_extension": ".py",
   "mimetype": "text/x-python",
   "name": "python",
   "nbconvert_exporter": "python",
   "pygments_lexer": "ipython3",
   "version": "3.10.9"
  }
 },
 "nbformat": 4,
 "nbformat_minor": 1
}
